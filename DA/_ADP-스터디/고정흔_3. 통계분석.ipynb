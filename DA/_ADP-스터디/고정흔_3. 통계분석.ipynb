{
 "cells": [
  {
   "cell_type": "code",
   "execution_count": 1,
   "id": "abf386a2",
   "metadata": {},
   "outputs": [],
   "source": [
    "from sklearn.datasets import load_iris # scikit-learn의 샘플 데이터 로드를 위해 import\n",
    "\n",
    "iris = load_iris()"
   ]
  },
  {
   "cell_type": "code",
   "execution_count": 2,
   "id": "1c885877",
   "metadata": {},
   "outputs": [],
   "source": [
    "import pandas as pd\n",
    "import numpy as np\n",
    "import seaborn as sns\n",
    "from sklearn.datasets import load_boston, load_iris\n",
    "from sklearn.linear_model import LinearRegression,Ridge, SGDRegressor # SGDRegressor은 학습 나머지는 공식\n",
    "from sklearn.neural_network import MLPRegressor # MLPRegressor은 딥러닝 학습\n",
    "from sklearn.metrics import r2_score # 선형 모델(Linear Models)\n",
    "\n",
    "from sklearn.model_selection import train_test_split"
   ]
  },
  {
   "cell_type": "code",
   "execution_count": null,
   "id": "c555e83d",
   "metadata": {},
   "outputs": [],
   "source": [
    "##### 1장. 데이터 샘플링\n",
    "\n",
    "\n",
    "##### 2절 | R을 이용한 표본 추출\n",
    "\n",
    "##### 1. 단순 임의 추출\n",
    "## Q) iris 데이터로 분석을 진행하기 위해 전체 데이터의 7:3의 비율로\n",
    "## training data와 test data를 추출한 뒤 새로운 변수에 저장해보자. \n",
    "## (데이터 추출 방법은 단순 임의 비복원 추출을 이용한다.)"
   ]
  },
  {
   "cell_type": "code",
   "execution_count": 5,
   "id": "12c3d08e",
   "metadata": {},
   "outputs": [
    {
     "data": {
      "text/html": [
       "<div>\n",
       "<style scoped>\n",
       "    .dataframe tbody tr th:only-of-type {\n",
       "        vertical-align: middle;\n",
       "    }\n",
       "\n",
       "    .dataframe tbody tr th {\n",
       "        vertical-align: top;\n",
       "    }\n",
       "\n",
       "    .dataframe thead th {\n",
       "        text-align: right;\n",
       "    }\n",
       "</style>\n",
       "<table border=\"1\" class=\"dataframe\">\n",
       "  <thead>\n",
       "    <tr style=\"text-align: right;\">\n",
       "      <th></th>\n",
       "      <th>sepal length (cm)</th>\n",
       "      <th>sepal width (cm)</th>\n",
       "      <th>petal length (cm)</th>\n",
       "      <th>petal width (cm)</th>\n",
       "    </tr>\n",
       "  </thead>\n",
       "  <tbody>\n",
       "    <tr>\n",
       "      <th>0</th>\n",
       "      <td>5.1</td>\n",
       "      <td>3.5</td>\n",
       "      <td>1.4</td>\n",
       "      <td>0.2</td>\n",
       "    </tr>\n",
       "    <tr>\n",
       "      <th>1</th>\n",
       "      <td>4.9</td>\n",
       "      <td>3.0</td>\n",
       "      <td>1.4</td>\n",
       "      <td>0.2</td>\n",
       "    </tr>\n",
       "    <tr>\n",
       "      <th>2</th>\n",
       "      <td>4.7</td>\n",
       "      <td>3.2</td>\n",
       "      <td>1.3</td>\n",
       "      <td>0.2</td>\n",
       "    </tr>\n",
       "    <tr>\n",
       "      <th>3</th>\n",
       "      <td>4.6</td>\n",
       "      <td>3.1</td>\n",
       "      <td>1.5</td>\n",
       "      <td>0.2</td>\n",
       "    </tr>\n",
       "    <tr>\n",
       "      <th>4</th>\n",
       "      <td>5.0</td>\n",
       "      <td>3.6</td>\n",
       "      <td>1.4</td>\n",
       "      <td>0.2</td>\n",
       "    </tr>\n",
       "    <tr>\n",
       "      <th>...</th>\n",
       "      <td>...</td>\n",
       "      <td>...</td>\n",
       "      <td>...</td>\n",
       "      <td>...</td>\n",
       "    </tr>\n",
       "    <tr>\n",
       "      <th>145</th>\n",
       "      <td>6.7</td>\n",
       "      <td>3.0</td>\n",
       "      <td>5.2</td>\n",
       "      <td>2.3</td>\n",
       "    </tr>\n",
       "    <tr>\n",
       "      <th>146</th>\n",
       "      <td>6.3</td>\n",
       "      <td>2.5</td>\n",
       "      <td>5.0</td>\n",
       "      <td>1.9</td>\n",
       "    </tr>\n",
       "    <tr>\n",
       "      <th>147</th>\n",
       "      <td>6.5</td>\n",
       "      <td>3.0</td>\n",
       "      <td>5.2</td>\n",
       "      <td>2.0</td>\n",
       "    </tr>\n",
       "    <tr>\n",
       "      <th>148</th>\n",
       "      <td>6.2</td>\n",
       "      <td>3.4</td>\n",
       "      <td>5.4</td>\n",
       "      <td>2.3</td>\n",
       "    </tr>\n",
       "    <tr>\n",
       "      <th>149</th>\n",
       "      <td>5.9</td>\n",
       "      <td>3.0</td>\n",
       "      <td>5.1</td>\n",
       "      <td>1.8</td>\n",
       "    </tr>\n",
       "  </tbody>\n",
       "</table>\n",
       "<p>150 rows × 4 columns</p>\n",
       "</div>"
      ],
      "text/plain": [
       "     sepal length (cm)  sepal width (cm)  petal length (cm)  petal width (cm)\n",
       "0                  5.1               3.5                1.4               0.2\n",
       "1                  4.9               3.0                1.4               0.2\n",
       "2                  4.7               3.2                1.3               0.2\n",
       "3                  4.6               3.1                1.5               0.2\n",
       "4                  5.0               3.6                1.4               0.2\n",
       "..                 ...               ...                ...               ...\n",
       "145                6.7               3.0                5.2               2.3\n",
       "146                6.3               2.5                5.0               1.9\n",
       "147                6.5               3.0                5.2               2.0\n",
       "148                6.2               3.4                5.4               2.3\n",
       "149                5.9               3.0                5.1               1.8\n",
       "\n",
       "[150 rows x 4 columns]"
      ]
     },
     "execution_count": 5,
     "metadata": {},
     "output_type": "execute_result"
    }
   ],
   "source": [
    "iris_df = pd.DataFrame(  iris['data'], columns=iris['feature_names'])\n",
    "iris_df"
   ]
  },
  {
   "cell_type": "code",
   "execution_count": 25,
   "id": "0ff44465",
   "metadata": {},
   "outputs": [
    {
     "data": {
      "text/plain": [
       "dict_keys(['data', 'target', 'frame', 'target_names', 'DESCR', 'feature_names', 'filename'])"
      ]
     },
     "execution_count": 25,
     "metadata": {},
     "output_type": "execute_result"
    }
   ],
   "source": [
    "iris.keys()"
   ]
  },
  {
   "cell_type": "code",
   "execution_count": 8,
   "id": "650b869b",
   "metadata": {},
   "outputs": [],
   "source": [
    "y_data = iris.target\n",
    "x_data = iris.data"
   ]
  },
  {
   "cell_type": "code",
   "execution_count": 14,
   "id": "82bf20ae",
   "metadata": {},
   "outputs": [],
   "source": [
    "x_train, x_test, y_train, y_test = train_test_split(x_data, y_data,\n",
    "                                                    test_size = 0.7,random_state=1)"
   ]
  },
  {
   "cell_type": "code",
   "execution_count": 17,
   "id": "85ee92ab",
   "metadata": {},
   "outputs": [
    {
     "data": {
      "text/plain": [
       "(105, 4)"
      ]
     },
     "execution_count": 17,
     "metadata": {},
     "output_type": "execute_result"
    }
   ],
   "source": [
    "x_test.shape"
   ]
  },
  {
   "cell_type": "code",
   "execution_count": null,
   "id": "dd7e4205",
   "metadata": {},
   "outputs": [],
   "source": [
    "##### 2. 층화 임의 추출\n",
    "## Q) iris 데이터에서 Species가 setosa인 데이터를 20개, versicolor인 데이터를 15개, \n",
    "## versinica인 데이터를 15개씩 단순 임의 추출을 사용해 추출해보자.\n",
    "\n",
    "## 개수를 어떻게 맞추는가? \n",
    "##층화는 원래 기존 그룹별 비율 그대로해야하는게 아닌가?"
   ]
  },
  {
   "cell_type": "code",
   "execution_count": 39,
   "id": "ea9a8bee",
   "metadata": {},
   "outputs": [
    {
     "name": "stdout",
     "output_type": "stream",
     "text": [
      "X_train shape: (50, 4)\n",
      "X_test shape: (100, 4)\n",
      "y_train shape: (50,)\n",
      "y_test shape: (100,)\n"
     ]
    },
    {
     "data": {
      "text/plain": [
       "array([1, 1, 0, 1, 0, 0, 2, 2, 2, 1, 2, 0, 0, 2, 1, 2, 1, 1, 0, 1, 1, 2,\n",
       "       2, 0, 2, 0, 1, 1, 0, 1, 1, 0, 1, 0, 0, 2, 1, 0, 1, 0, 2, 0, 1, 0,\n",
       "       2, 2, 0, 2, 2, 2])"
      ]
     },
     "execution_count": 39,
     "metadata": {},
     "output_type": "execute_result"
    }
   ],
   "source": [
    "x_train, x_test,y_train,y_test = train_test_split(x_data,y_data,test_size=2/3, shuffle=True,\n",
    "                                   stratify=y_data,random_state=1004)\n",
    "print('X_train shape:', x_train.shape)\n",
    "print('X_test shape:', x_test.shape)\n",
    "print('y_train shape:', y_train.shape)\n",
    "print('y_test shape:', y_test.shape)\n",
    "y_train"
   ]
  },
  {
   "cell_type": "code",
   "execution_count": null,
   "id": "46b82795",
   "metadata": {},
   "outputs": [],
   "source": [
    "##### 2장. T-검정(T-Test)\n",
    "\n",
    "\n",
    "##### 1절 | 일표본 T-검정(One Sample T-Test)\n",
    "\n",
    "## Q) MASS패키지의 cats 데이터는 고양이들의 성별(Sex 변수), \n",
    "## 몸무게(Bwt 변수), 심장의 무게(Hwt 변수)를 담고있다. \n",
    "## cats 데이터에서 고양이들의 평균몸무게가 2.6kg인지 아닌지에 대한\n",
    "## 통계적 검정을 수행하고, 결과를 해석해보자.\n"
   ]
  },
  {
   "cell_type": "code",
   "execution_count": null,
   "id": "1e638bd8",
   "metadata": {},
   "outputs": [],
   "source": [
    "\n",
    "##### 2절 | 대응표본 T-검정(Paired Sample T-Test)\n",
    "\n",
    "## Q) 10명의 환자를 대상으로 수면영양제를 복용하기 전과 후의 수면시간을 측정하여 \n",
    "## 영양제의 효과가 있는지를 판단하고자 한다. \n",
    "## 영양제 복용 전과 후의 평균 수면시간에 차이가 있는지를 알아보는데, \n",
    "## 단측검정을 수행하여 영양제 복용 후에 수면시간이 더 늘어났는지를 검정해보자. \n",
    "## 수면영양제를 복용하기 전과 후의 수면시간은 아래에 제시된 바와 같다. \n",
    "## (표본이 정규성을 만족한다는 가정 하에 단측검정 수행, 유의수준 = 0.05)\n"
   ]
  },
  {
   "cell_type": "code",
   "execution_count": 65,
   "id": "c4131aad",
   "metadata": {},
   "outputs": [
    {
     "data": {
      "text/plain": [
       "Ttest_1sampResult(statistic=4.743416490252569, pvalue=0.0010538712570165528)"
      ]
     },
     "execution_count": 65,
     "metadata": {},
     "output_type": "execute_result"
    }
   ],
   "source": [
    "x1=[7, 3, 4, 5, 2, 1, 6, 6, 5, 4]\n",
    "x2=[8, 4, 5, 6, 2, 3, 6, 8, 6, 5]\n",
    "\n",
    "x_data = pd.DataFrame()\n",
    "x_data['before'] = x1\n",
    "x_data['after'] = x2\n",
    "x_data['diff'] = (x_data.after-x_data.before )\n",
    "\n",
    "from scipy.stats import ttest_1samp\n",
    "ttest_1samp(x_data['diff'], 0)\n",
    "\n",
    "# import scipy.stats\n",
    "# scipy.stats.ttest_ind(x_data['diff'],0)"
   ]
  },
  {
   "cell_type": "code",
   "execution_count": 63,
   "id": "12fba8cc",
   "metadata": {},
   "outputs": [
    {
     "ename": "NameError",
     "evalue": "name 'shapiro' is not defined",
     "output_type": "error",
     "traceback": [
      "\u001b[1;31m---------------------------------------------------------------------------\u001b[0m",
      "\u001b[1;31mNameError\u001b[0m                                 Traceback (most recent call last)",
      "\u001b[1;32m<ipython-input-63-e822702f39be>\u001b[0m in \u001b[0;36m<module>\u001b[1;34m\u001b[0m\n\u001b[1;32m----> 1\u001b[1;33m \u001b[0mshapiro\u001b[0m\u001b[1;33m(\u001b[0m\u001b[0mx_data\u001b[0m\u001b[1;33m[\u001b[0m\u001b[1;34m'diff'\u001b[0m\u001b[1;33m]\u001b[0m\u001b[1;33m)\u001b[0m\u001b[1;33m\u001b[0m\u001b[1;33m\u001b[0m\u001b[0m\n\u001b[0m",
      "\u001b[1;31mNameError\u001b[0m: name 'shapiro' is not defined"
     ]
    }
   ],
   "source": [
    "shapiro(x_data['diff'])"
   ]
  },
  {
   "cell_type": "code",
   "execution_count": null,
   "id": "d7edac38",
   "metadata": {},
   "outputs": [],
   "source": [
    "##### 3절 | 독립표본 T-검정( Sample T-Test)\n",
    "\n",
    "## Q) MASS패키지의 cats 데이터는 고양이들의 성별(Sex 변수), 몸무게(Bwt 변수), \n",
    "## 심장의 무게(Hwt 변수)를 담고있다. 고양이들의 성별(Sex)에 따른 몸무게(Bwt)의 평균은 \n",
    "## 통계적으로 다르다고 할 수 있는지에 대한 검정을 수행하고, 결과를 해석해보자. \n",
    "\n",
    "## 검정을 수행하기에 앞서 설정할 수 있는 가설은 아래와 같다.\n",
    "## 귀무가설 : 고양이의 성별에 따른 평균 몸무게에는 통계적으로 유의한 차이가 없다.\n",
    "## 대립가설 : 고양이의 성별에 따른 평균 몸무게에는 통계적으로 유의한 차이가 있다."
   ]
  },
  {
   "cell_type": "code",
   "execution_count": null,
   "id": "72b0942f",
   "metadata": {},
   "outputs": [],
   "source": [
    "##### 3장. 교차분석\n",
    "\n",
    "\n",
    "##### 2절 | 적합성 검정\n",
    "## Q) MASS 패키지의 survey 데이터에서 W.Hnd 변수는 설문 응답자가 \n",
    "## 왼손잡이(Left) 인지 오른손잡이(Right) 인지를 나타낸다. \n",
    "## R을 이용하여 W.Hnd 변수에 대한 분할표를 생성하고, 아래와 같은 가설에 대한 적합도 검정을 수행해보자.\n",
    "\n",
    "## 귀무가설 : 전체 응답자 중 왼손잡이의 비율이 20%, 오른손잡이의 비율이 80%이다.\n",
    "## 대립가설 : 전체 응답자 중 왼손잡이의 비율이 20%, 오른손잡이의 비율이 80%라고 할 수 없다.\n"
   ]
  },
  {
   "cell_type": "code",
   "execution_count": null,
   "id": "c2bc02f1",
   "metadata": {},
   "outputs": [],
   "source": [
    "##### 3절 | 독립성 검정\n",
    "## Q) MASS 패키지의 survey 데이터에서 Exer 변수는 설문 응답자가 \n",
    "## 얼마나 자주 운동을 하는지에 대해 Freq(자주), Some(약간), None(하지 않음)의 범주로 \n",
    "## 값을 저장하고 있다. W.Hnd 변수는 설문 응답자가 왼손잡이인지 오른손 잡이인지에 대해 \n",
    "## Left(왼손잡이), Right(오른손 잡이)의 두 가지 범주로 값을 가지고 있다. \n",
    "## 주로 사용하는 손과 운동의 빈도가 서로 독립인지를 확인하기 위해 분할표를 생성하고, \n",
    "## 아래의 가설에 대한 독립성 검정을 수행해보자.\n",
    "\n",
    "## 귀무가설 : W.Hnd(주로 사용하는 손)과 Exer(운동 빈도)는 독립이다.\n",
    "## 대립가설 : W.Hnd(주로 사용하는 손)과 Exer(운동 빈도)는 독립이 아니다.\n"
   ]
  },
  {
   "cell_type": "code",
   "execution_count": null,
   "id": "5d903749",
   "metadata": {},
   "outputs": [],
   "source": [
    "##### 4장. 분산분석 (ANOVA)\n",
    "\n",
    "\n",
    "##### 1절 | 일원배치 분산분석\n",
    "## Q) R에 내장되어 있는 iris 데이터를 이용하여 종(Species)별로 \n",
    "## 꽃받침의 폭(Sepal.Width)의 평균이 같은지 \n",
    "## 혹은 차이가 있는지를 확인하기 위해 일원배치 분산분석을 수행해보자.\n"
   ]
  },
  {
   "cell_type": "code",
   "execution_count": 85,
   "id": "f20d3d0d",
   "metadata": {},
   "outputs": [
    {
     "data": {
      "text/html": [
       "<div>\n",
       "<style scoped>\n",
       "    .dataframe tbody tr th:only-of-type {\n",
       "        vertical-align: middle;\n",
       "    }\n",
       "\n",
       "    .dataframe tbody tr th {\n",
       "        vertical-align: top;\n",
       "    }\n",
       "\n",
       "    .dataframe thead th {\n",
       "        text-align: right;\n",
       "    }\n",
       "</style>\n",
       "<table border=\"1\" class=\"dataframe\">\n",
       "  <thead>\n",
       "    <tr style=\"text-align: right;\">\n",
       "      <th></th>\n",
       "      <th>df</th>\n",
       "      <th>sum_sq</th>\n",
       "      <th>mean_sq</th>\n",
       "      <th>F</th>\n",
       "      <th>PR(&gt;F)</th>\n",
       "    </tr>\n",
       "  </thead>\n",
       "  <tbody>\n",
       "    <tr>\n",
       "      <th>C(Species)</th>\n",
       "      <td>2.0</td>\n",
       "      <td>11.344933</td>\n",
       "      <td>5.672467</td>\n",
       "      <td>49.16004</td>\n",
       "      <td>4.492017e-17</td>\n",
       "    </tr>\n",
       "    <tr>\n",
       "      <th>Residual</th>\n",
       "      <td>147.0</td>\n",
       "      <td>16.962000</td>\n",
       "      <td>0.115388</td>\n",
       "      <td>NaN</td>\n",
       "      <td>NaN</td>\n",
       "    </tr>\n",
       "  </tbody>\n",
       "</table>\n",
       "</div>"
      ],
      "text/plain": [
       "               df     sum_sq   mean_sq         F        PR(>F)\n",
       "C(Species)    2.0  11.344933  5.672467  49.16004  4.492017e-17\n",
       "Residual    147.0  16.962000  0.115388       NaN           NaN"
      ]
     },
     "execution_count": 85,
     "metadata": {},
     "output_type": "execute_result"
    }
   ],
   "source": [
    "import pandas as pd\n",
    "from statsmodels.formula.api import ols\n",
    "from statsmodels.stats.anova import anova_lm\n",
    "import statsmodels.stats.multicomp as mc\n",
    "\n",
    "from sklearn.datasets import load_iris \n",
    "iris = load_iris()\n",
    "iris_df = pd.DataFrame(iris.data, columns=['SepalLength','SepalWidth','PetalLength','PetalWidth'])\n",
    "iris_df['Species'] = iris.target\n",
    "\n",
    "fit = ols(formula='SepalWidth ~ C(Species)', data=iris_df).fit()\n",
    "anova_lm(fit)"
   ]
  },
  {
   "cell_type": "code",
   "execution_count": 87,
   "id": "7f0e28f3",
   "metadata": {},
   "outputs": [
    {
     "name": "stdout",
     "output_type": "stream",
     "text": [
      "Multiple Comparison of Means - Tukey HSD, FWER=0.05\n",
      "=================================================\n",
      "group1 group2 meandiff p-adj lower  upper  reject\n",
      "-------------------------------------------------\n",
      "     0      1     0.93 0.001 0.6862 1.1738   True\n",
      "     0      2    1.582 0.001 1.3382 1.8258   True\n",
      "     1      2    0.652 0.001 0.4082 0.8958   True\n",
      "-------------------------------------------------\n"
     ]
    },
    {
     "name": "stderr",
     "output_type": "stream",
     "text": [
      "C:\\Users\\jeongheun\\anaconda3\\lib\\site-packages\\statsmodels\\sandbox\\stats\\multicomp.py:775: UserWarning: FixedFormatter should only be used together with FixedLocator\n",
      "  ax1.set_yticklabels(np.insert(self.groupsunique.astype(str), 0, ''))\n"
     ]
    },
    {
     "data": {
      "image/png": "[encoded data removed]",
      "text/plain": [
       "<Figure size 720x432 with 1 Axes>"
      ]
     },
     "metadata": {
      "needs_background": "light"
     },
     "output_type": "display_data"
    }
   ],
   "source": [
    "comp = mc.MultiComparison(iris_df['SepalLength'], iris_df['Species'])\n",
    "tukeyhsd = comp.tukeyhsd(alpha=0.05)\n",
    "tukeyhsd.summary()\n",
    "print(tukeyhsd)\n",
    "fig = tukeyhsd.plot_simultaneous()\n"
   ]
  },
  {
   "cell_type": "code",
   "execution_count": null,
   "id": "f48de8ae",
   "metadata": {},
   "outputs": [],
   "source": [
    "##### 2절 | 이원배치 분산분석\n",
    "\n",
    "## Q1) R에 내장된 mtcars 데이터는 32개의 차종에 대한 다양한 특성과 단위 연료당 주행거리를 담고 있다. \n",
    "## am변수는 변속기 종류이며, cyl변수는 실린더의 개수를 의미한다. \n",
    "## 데이터를 분석에 적절한 형태로 전처리한 후, 변속기 종류(am변수)와 실린더의 개수(cyl변수)에 따라 \n",
    "## 주행거리(mpg변수) 평균에 유의미한 차이가 존재하는지 이원 분산분석을 수행하고, 그 결과를 해석해보자.\n"
   ]
  },
  {
   "cell_type": "code",
   "execution_count": 97,
   "id": "3ea5f932",
   "metadata": {},
   "outputs": [
    {
     "data": {
      "text/html": [
       "<div>\n",
       "<style scoped>\n",
       "    .dataframe tbody tr th:only-of-type {\n",
       "        vertical-align: middle;\n",
       "    }\n",
       "\n",
       "    .dataframe tbody tr th {\n",
       "        vertical-align: top;\n",
       "    }\n",
       "\n",
       "    .dataframe thead th {\n",
       "        text-align: right;\n",
       "    }\n",
       "</style>\n",
       "<table border=\"1\" class=\"dataframe\">\n",
       "  <thead>\n",
       "    <tr style=\"text-align: right;\">\n",
       "      <th></th>\n",
       "      <th>df</th>\n",
       "      <th>sum_sq</th>\n",
       "      <th>mean_sq</th>\n",
       "      <th>F</th>\n",
       "      <th>PR(&gt;F)</th>\n",
       "    </tr>\n",
       "  </thead>\n",
       "  <tbody>\n",
       "    <tr>\n",
       "      <th>C(cyl)</th>\n",
       "      <td>2.0</td>\n",
       "      <td>824.784590</td>\n",
       "      <td>412.392295</td>\n",
       "      <td>44.851657</td>\n",
       "      <td>3.725274e-09</td>\n",
       "    </tr>\n",
       "    <tr>\n",
       "      <th>C(am)</th>\n",
       "      <td>1.0</td>\n",
       "      <td>36.766919</td>\n",
       "      <td>36.766919</td>\n",
       "      <td>3.998759</td>\n",
       "      <td>5.608373e-02</td>\n",
       "    </tr>\n",
       "    <tr>\n",
       "      <th>C(cyl):C(am)</th>\n",
       "      <td>2.0</td>\n",
       "      <td>25.436511</td>\n",
       "      <td>12.718256</td>\n",
       "      <td>1.383233</td>\n",
       "      <td>2.686140e-01</td>\n",
       "    </tr>\n",
       "    <tr>\n",
       "      <th>Residual</th>\n",
       "      <td>26.0</td>\n",
       "      <td>239.059167</td>\n",
       "      <td>9.194583</td>\n",
       "      <td>NaN</td>\n",
       "      <td>NaN</td>\n",
       "    </tr>\n",
       "  </tbody>\n",
       "</table>\n",
       "</div>"
      ],
      "text/plain": [
       "                df      sum_sq     mean_sq          F        PR(>F)\n",
       "C(cyl)         2.0  824.784590  412.392295  44.851657  3.725274e-09\n",
       "C(am)          1.0   36.766919   36.766919   3.998759  5.608373e-02\n",
       "C(cyl):C(am)   2.0   25.436511   12.718256   1.383233  2.686140e-01\n",
       "Residual      26.0  239.059167    9.194583        NaN           NaN"
      ]
     },
     "execution_count": 97,
     "metadata": {},
     "output_type": "execute_result"
    }
   ],
   "source": [
    "cardf = pd.read_csv(\"C:/jocoding/mtcars.csv\")\n",
    "\n",
    "from statsmodels.formula.api import ols\n",
    "from statsmodels.stats.anova import anova_lm\n",
    "\n",
    "cardf.rename(columns = {'Unnamed: 0' : 'brand'}, inplace = True)\n",
    "\n",
    "model = ols('mpg ~ C(cyl) * C(am)', cardf).fit()\n",
    "anova_lm(model)\n",
    "\n",
    "# cardf.head(4)"
   ]
  },
  {
   "cell_type": "code",
   "execution_count": 100,
   "id": "97b5e801",
   "metadata": {},
   "outputs": [
    {
     "data": {
      "image/png": "[encoded data removed]",
      "text/plain": [
       "<Figure size 720x432 with 1 Axes>"
      ]
     },
     "metadata": {
      "needs_background": "light"
     },
     "output_type": "display_data"
    }
   ],
   "source": [
    "## Q2) 실린더 개수(cyl변수)와 변속기 종류(am변수) 사이에 상호작용 효과가 있는지 없는지를 \n",
    "## 시각화해주는 상호작용 그래프를 그린 후 이를 해석해보자.\n",
    "## ?? 상호작용 그래프...?\n",
    "\n",
    "comp = mc.MultiComparison(cardf['cyl'], cardf['mpg'])\n",
    "tukeyhsd = comp.tukeyhsd(alpha=0.05)\n",
    "tukeyhsd.summary()\n",
    "fig = tukeyhsd.plot_simultaneous()"
   ]
  },
  {
   "cell_type": "code",
   "execution_count": null,
   "id": "7fab41f9",
   "metadata": {},
   "outputs": [],
   "source": [
    "##### 5장. 상관분석\n",
    "\n",
    "##### 3절 | 상관계수 검정\n",
    "\n",
    "Q1) airquality 데이터는 뉴욕의 일일 대기 오염 정도에 대한 데이터로, 총6개의 변수로 이루어져 있다. \n",
    "6개의 변수 중 Month(월)과 Day(일)은 제외하고 Ozone(오존량), Solar.R(일사량), Wind(풍속), Temp(최고온도)만으로\n",
    " 이루어진 데이터프레임 air를 생성하고, 네 가지 변수에 대한 상관계수를 산출해보자. \n",
    " 단, 모든 변수값에 NA가 없는 데이터들만 이용하여 피어슨, 스피어만, 켄달 상관계수를 모두 산출하여라.\n"
   ]
  },
  {
   "cell_type": "code",
   "execution_count": 120,
   "id": "1f703648",
   "metadata": {},
   "outputs": [
    {
     "data": {
      "text/html": [
       "<div>\n",
       "<style scoped>\n",
       "    .dataframe tbody tr th:only-of-type {\n",
       "        vertical-align: middle;\n",
       "    }\n",
       "\n",
       "    .dataframe tbody tr th {\n",
       "        vertical-align: top;\n",
       "    }\n",
       "\n",
       "    .dataframe thead th {\n",
       "        text-align: right;\n",
       "    }\n",
       "</style>\n",
       "<table border=\"1\" class=\"dataframe\">\n",
       "  <thead>\n",
       "    <tr style=\"text-align: right;\">\n",
       "      <th></th>\n",
       "      <th>Unnamed: 0</th>\n",
       "      <th>Ozone</th>\n",
       "      <th>Solar.R</th>\n",
       "      <th>Wind</th>\n",
       "      <th>Temp</th>\n",
       "    </tr>\n",
       "  </thead>\n",
       "  <tbody>\n",
       "    <tr>\n",
       "      <th>Unnamed: 0</th>\n",
       "      <td>1.000000</td>\n",
       "      <td>0.157191</td>\n",
       "      <td>-0.104682</td>\n",
       "      <td>-0.168683</td>\n",
       "      <td>0.385605</td>\n",
       "    </tr>\n",
       "    <tr>\n",
       "      <th>Ozone</th>\n",
       "      <td>0.157191</td>\n",
       "      <td>1.000000</td>\n",
       "      <td>0.348342</td>\n",
       "      <td>-0.601547</td>\n",
       "      <td>0.698360</td>\n",
       "    </tr>\n",
       "    <tr>\n",
       "      <th>Solar.R</th>\n",
       "      <td>-0.104682</td>\n",
       "      <td>0.348342</td>\n",
       "      <td>1.000000</td>\n",
       "      <td>-0.056792</td>\n",
       "      <td>0.275840</td>\n",
       "    </tr>\n",
       "    <tr>\n",
       "      <th>Wind</th>\n",
       "      <td>-0.168683</td>\n",
       "      <td>-0.601547</td>\n",
       "      <td>-0.056792</td>\n",
       "      <td>1.000000</td>\n",
       "      <td>-0.457988</td>\n",
       "    </tr>\n",
       "    <tr>\n",
       "      <th>Temp</th>\n",
       "      <td>0.385605</td>\n",
       "      <td>0.698360</td>\n",
       "      <td>0.275840</td>\n",
       "      <td>-0.457988</td>\n",
       "      <td>1.000000</td>\n",
       "    </tr>\n",
       "  </tbody>\n",
       "</table>\n",
       "</div>"
      ],
      "text/plain": [
       "            Unnamed: 0     Ozone   Solar.R      Wind      Temp\n",
       "Unnamed: 0    1.000000  0.157191 -0.104682 -0.168683  0.385605\n",
       "Ozone         0.157191  1.000000  0.348342 -0.601547  0.698360\n",
       "Solar.R      -0.104682  0.348342  1.000000 -0.056792  0.275840\n",
       "Wind         -0.168683 -0.601547 -0.056792  1.000000 -0.457988\n",
       "Temp          0.385605  0.698360  0.275840 -0.457988  1.000000"
      ]
     },
     "execution_count": 120,
     "metadata": {},
     "output_type": "execute_result"
    }
   ],
   "source": [
    "airdf = pd.read_csv(\"C:/jocoding/airquality.csv\")\n",
    "air = pd.DataFrame()\n",
    "air = airdf.iloc[:,:5]\n",
    "air.corr(method='pearson')"
   ]
  },
  {
   "cell_type": "code",
   "execution_count": 121,
   "id": "885e5d04",
   "metadata": {},
   "outputs": [
    {
     "data": {
      "text/plain": [
       "Unnamed: 0     0\n",
       "Ozone         37\n",
       "Solar.R        7\n",
       "Wind           0\n",
       "Temp           0\n",
       "dtype: int64"
      ]
     },
     "execution_count": 121,
     "metadata": {},
     "output_type": "execute_result"
    }
   ],
   "source": [
    "airdf = airdf.iloc[:,:5]\n",
    "airdf.isnull().sum()"
   ]
  },
  {
   "cell_type": "code",
   "execution_count": 126,
   "id": "574e5fc1",
   "metadata": {},
   "outputs": [
    {
     "data": {
      "text/html": [
       "<div>\n",
       "<style scoped>\n",
       "    .dataframe tbody tr th:only-of-type {\n",
       "        vertical-align: middle;\n",
       "    }\n",
       "\n",
       "    .dataframe tbody tr th {\n",
       "        vertical-align: top;\n",
       "    }\n",
       "\n",
       "    .dataframe thead th {\n",
       "        text-align: right;\n",
       "    }\n",
       "</style>\n",
       "<table border=\"1\" class=\"dataframe\">\n",
       "  <thead>\n",
       "    <tr style=\"text-align: right;\">\n",
       "      <th></th>\n",
       "      <th>Unnamed: 0</th>\n",
       "      <th>Wind</th>\n",
       "      <th>Temp</th>\n",
       "    </tr>\n",
       "  </thead>\n",
       "  <tbody>\n",
       "    <tr>\n",
       "      <th>Unnamed: 0</th>\n",
       "      <td>1.000000</td>\n",
       "      <td>-0.168683</td>\n",
       "      <td>0.385605</td>\n",
       "    </tr>\n",
       "    <tr>\n",
       "      <th>Wind</th>\n",
       "      <td>-0.168683</td>\n",
       "      <td>1.000000</td>\n",
       "      <td>-0.457988</td>\n",
       "    </tr>\n",
       "    <tr>\n",
       "      <th>Temp</th>\n",
       "      <td>0.385605</td>\n",
       "      <td>-0.457988</td>\n",
       "      <td>1.000000</td>\n",
       "    </tr>\n",
       "  </tbody>\n",
       "</table>\n",
       "</div>"
      ],
      "text/plain": [
       "            Unnamed: 0      Wind      Temp\n",
       "Unnamed: 0    1.000000 -0.168683  0.385605\n",
       "Wind         -0.168683  1.000000 -0.457988\n",
       "Temp          0.385605 -0.457988  1.000000"
      ]
     },
     "execution_count": 126,
     "metadata": {},
     "output_type": "execute_result"
    }
   ],
   "source": [
    "air_df = airdf.drop(['Ozone','Solar.R'], axis=1)\n",
    "air_df.corr(method='pearson')"
   ]
  },
  {
   "cell_type": "code",
   "execution_count": 127,
   "id": "72f3a9bb",
   "metadata": {},
   "outputs": [
    {
     "data": {
      "text/html": [
       "<div>\n",
       "<style scoped>\n",
       "    .dataframe tbody tr th:only-of-type {\n",
       "        vertical-align: middle;\n",
       "    }\n",
       "\n",
       "    .dataframe tbody tr th {\n",
       "        vertical-align: top;\n",
       "    }\n",
       "\n",
       "    .dataframe thead th {\n",
       "        text-align: right;\n",
       "    }\n",
       "</style>\n",
       "<table border=\"1\" class=\"dataframe\">\n",
       "  <thead>\n",
       "    <tr style=\"text-align: right;\">\n",
       "      <th></th>\n",
       "      <th>Unnamed: 0</th>\n",
       "      <th>Wind</th>\n",
       "      <th>Temp</th>\n",
       "    </tr>\n",
       "  </thead>\n",
       "  <tbody>\n",
       "    <tr>\n",
       "      <th>Unnamed: 0</th>\n",
       "      <td>1.000000</td>\n",
       "      <td>-0.146844</td>\n",
       "      <td>0.332880</td>\n",
       "    </tr>\n",
       "    <tr>\n",
       "      <th>Wind</th>\n",
       "      <td>-0.146844</td>\n",
       "      <td>1.000000</td>\n",
       "      <td>-0.446541</td>\n",
       "    </tr>\n",
       "    <tr>\n",
       "      <th>Temp</th>\n",
       "      <td>0.332880</td>\n",
       "      <td>-0.446541</td>\n",
       "      <td>1.000000</td>\n",
       "    </tr>\n",
       "  </tbody>\n",
       "</table>\n",
       "</div>"
      ],
      "text/plain": [
       "            Unnamed: 0      Wind      Temp\n",
       "Unnamed: 0    1.000000 -0.146844  0.332880\n",
       "Wind         -0.146844  1.000000 -0.446541\n",
       "Temp          0.332880 -0.446541  1.000000"
      ]
     },
     "execution_count": 127,
     "metadata": {},
     "output_type": "execute_result"
    }
   ],
   "source": [
    "air_df.corr(method='spearman')"
   ]
  },
  {
   "cell_type": "code",
   "execution_count": 128,
   "id": "e3e9be68",
   "metadata": {},
   "outputs": [
    {
     "data": {
      "text/html": [
       "<div>\n",
       "<style scoped>\n",
       "    .dataframe tbody tr th:only-of-type {\n",
       "        vertical-align: middle;\n",
       "    }\n",
       "\n",
       "    .dataframe tbody tr th {\n",
       "        vertical-align: top;\n",
       "    }\n",
       "\n",
       "    .dataframe thead th {\n",
       "        text-align: right;\n",
       "    }\n",
       "</style>\n",
       "<table border=\"1\" class=\"dataframe\">\n",
       "  <thead>\n",
       "    <tr style=\"text-align: right;\">\n",
       "      <th></th>\n",
       "      <th>Unnamed: 0</th>\n",
       "      <th>Wind</th>\n",
       "      <th>Temp</th>\n",
       "    </tr>\n",
       "  </thead>\n",
       "  <tbody>\n",
       "    <tr>\n",
       "      <th>Unnamed: 0</th>\n",
       "      <td>1.000000</td>\n",
       "      <td>-0.100064</td>\n",
       "      <td>0.221896</td>\n",
       "    </tr>\n",
       "    <tr>\n",
       "      <th>Wind</th>\n",
       "      <td>-0.100064</td>\n",
       "      <td>1.000000</td>\n",
       "      <td>-0.322242</td>\n",
       "    </tr>\n",
       "    <tr>\n",
       "      <th>Temp</th>\n",
       "      <td>0.221896</td>\n",
       "      <td>-0.322242</td>\n",
       "      <td>1.000000</td>\n",
       "    </tr>\n",
       "  </tbody>\n",
       "</table>\n",
       "</div>"
      ],
      "text/plain": [
       "            Unnamed: 0      Wind      Temp\n",
       "Unnamed: 0    1.000000 -0.100064  0.221896\n",
       "Wind         -0.100064  1.000000 -0.322242\n",
       "Temp          0.221896 -0.322242  1.000000"
      ]
     },
     "execution_count": 128,
     "metadata": {},
     "output_type": "execute_result"
    }
   ],
   "source": [
    "air_df.corr(method='kendall')"
   ]
  },
  {
   "cell_type": "code",
   "execution_count": 129,
   "id": "67a421f2",
   "metadata": {},
   "outputs": [],
   "source": [
    "## Q2) air데이터 내의 네가지 변수 조합별 피어슨 상관계수를 그래프로 시각화해보자."
   ]
  },
  {
   "cell_type": "code",
   "execution_count": 130,
   "id": "91ea9525",
   "metadata": {},
   "outputs": [
    {
     "data": {
      "text/plain": [
       "<seaborn.axisgrid.PairGrid at 0x205d3c6a280>"
      ]
     },
     "execution_count": 130,
     "metadata": {},
     "output_type": "execute_result"
    },
    {
     "data": {
      "image/png": "[encoded data removed]",
      "text/plain": [
       "<Figure size 900x900 with 30 Axes>"
      ]
     },
     "metadata": {
      "needs_background": "light"
     },
     "output_type": "display_data"
    }
   ],
   "source": [
    "import seaborn as sns\n",
    "sns.pairplot(airdf)"
   ]
  },
  {
   "cell_type": "code",
   "execution_count": null,
   "id": "75b26bbc",
   "metadata": {},
   "outputs": [],
   "source": [
    "## Q3) air데이터의 Ozone(오존량)와 Wind(풍속)변수에 대한 상관분석을 실시하고, \n",
    "## 피어슨 상관계수에 대한 검정 결과를 해석해보자. "
   ]
  },
  {
   "cell_type": "code",
   "execution_count": 150,
   "id": "12c58fd7",
   "metadata": {},
   "outputs": [
    {
     "data": {
      "text/plain": [
       "(-0.6124965763142117, 9.089415326542937e-13)"
      ]
     },
     "execution_count": 150,
     "metadata": {},
     "output_type": "execute_result"
    }
   ],
   "source": [
    "import scipy.stats\n",
    "\n",
    "airrm = airdf.dropna(axis=0)\n",
    "scipy.stats.pearsonr(airrm['Ozone'],airrm['Wind'])\n",
    "\n",
    "# pvalue > 0.05 ... NaN 삭제로 문제생겼을수도"
   ]
  },
  {
   "cell_type": "code",
   "execution_count": null,
   "id": "64e4e6f0",
   "metadata": {},
   "outputs": [],
   "source": [
    "6장. 회귀분석\n",
    "\n",
    "\n",
    "2절 | 단순선형회귀분석\n",
    "\n",
    "3. R을 이용한 단순선형회귀분석 \n",
    "Q)  MASS패키지에서 제공하는 Cars93 데이터의 엔진크기(EngineSize)를 독립변수, \n",
    "가격(Price)를 종속변수로 설정하여 단순 선형 회귀분석을 실시한 후 추정된 회귀모형에 대해 해석해보자.\n"
   ]
  },
  {
   "cell_type": "code",
   "execution_count": 156,
   "id": "ed0e9ca8",
   "metadata": {
    "scrolled": true
   },
   "outputs": [
    {
     "data": {
      "text/plain": [
       "Index(['Unnamed: 0', 'Manufacturer', 'Model', 'Type', 'Min.Price', 'Price',\n",
       "       'Max.Price', 'MPG.city', 'MPG.highway', 'AirBags', 'DriveTrain',\n",
       "       'Cylinders', 'EngineSize', 'Horsepower', 'RPM', 'Rev.per.mile',\n",
       "       'Man.trans.avail', 'Fuel.tank.capacity', 'Passengers', 'Length',\n",
       "       'Wheelbase', 'Width', 'Turn.circle', 'Rear.seat.room', 'Luggage.room',\n",
       "       'Weight', 'Origin', 'Make'],\n",
       "      dtype='object')"
      ]
     },
     "execution_count": 156,
     "metadata": {},
     "output_type": "execute_result"
    }
   ],
   "source": [
    "import seaborn as sns\n",
    "from sklearn.linear_model import LinearRegression,Ridge, SGDRegressor # SGDRegressor은 학습 나머지는 공식\n",
    "from sklearn.neural_network import MLPRegressor # MLPRegressor은 딥러닝 학습\n",
    "from sklearn.metrics import r2_score # 선형 모델(Linear Models)\n",
    "from sklearn.model_selection import train_test_split\n",
    "\n",
    "\n",
    "carsdf = pd.read_csv(\"C:/jocoding/Cars93.csv\")\n",
    "\n",
    "cars93 = LinearRegression() # 카멜식 표기법 or 언더바 표기법 중 하나로 통일\n",
    "cars93.fit(carsdf[['EngineSize']], carsdf['Price'])\n",
    "\n",
    "print(cars93.intercept_)\n",
    "print(cars93.coef_)\n",
    "\n",
    "carsdf.columns"
   ]
  },
  {
   "cell_type": "code",
   "execution_count": 157,
   "id": "6a9d807f",
   "metadata": {},
   "outputs": [],
   "source": [
    "### 4. R을 이용한 선형회귀모형 진단\n",
    "Q) 위 예제에서 생성한 선형회귀모델 Cars93_lm을 평가할 수 있는 \n",
    "다양한 그래프를 생성한 후 해석해보자.\n"
   ]
  },
  {
   "cell_type": "code",
   "execution_count": 161,
   "id": "4a78a91c",
   "metadata": {
    "scrolled": true
   },
   "outputs": [
    {
     "data": {
      "image/png": "[encoded data removed]",
      "text/plain": [
       "<Figure size 432x288 with 1 Axes>"
      ]
     },
     "metadata": {
      "needs_background": "light"
     },
     "output_type": "display_data"
    }
   ],
   "source": [
    "import mglearn \n",
    "import matplotlib.pyplot as plt\n",
    "import matplotlib\n",
    "matplotlib.rcParams['font.family']='Malgun Gothic'\n",
    "matplotlib.rcParams['axes.unicode_minus'] = False\n",
    "\n",
    "plt.xlabel('EngineSize')\n",
    "plt.ylabel('Price')\n",
    "plt.scatter(carsdf['EngineSize'],carsdf['Price'])\n",
    "plt.plot(carsdf['EngineSize'],cars93.predict(carsdf[['EngineSize']]),'r--') # 예측선\n",
    "plt.show()"
   ]
  },
  {
   "cell_type": "code",
   "execution_count": null,
   "id": "cbf31e36",
   "metadata": {},
   "outputs": [],
   "source": [
    "### 5. 선형회귀모형을 활용한 예측\n",
    "Q) MASS패키지에서 제공하는 Cars93 데이터의 엔진크기(EngineSize)를 독립변수, \n",
    "가격(Price)를 종속변수로 설정하여 회귀모형을 생성한 후, Cars93 데이터의 5개 행을 랜덤으로 뽑아 가격(Price)을 예측해보자. \n",
    "예측 시 predict 함수의 interval 인자값을 조정하며 그 결과를 비교해보자.\n"
   ]
  },
  {
   "cell_type": "code",
   "execution_count": 189,
   "id": "0415aa2c",
   "metadata": {},
   "outputs": [
    {
     "data": {
      "text/html": [
       "<div>\n",
       "<style scoped>\n",
       "    .dataframe tbody tr th:only-of-type {\n",
       "        vertical-align: middle;\n",
       "    }\n",
       "\n",
       "    .dataframe tbody tr th {\n",
       "        vertical-align: top;\n",
       "    }\n",
       "\n",
       "    .dataframe thead th {\n",
       "        text-align: right;\n",
       "    }\n",
       "</style>\n",
       "<table border=\"1\" class=\"dataframe\">\n",
       "  <thead>\n",
       "    <tr style=\"text-align: right;\">\n",
       "      <th></th>\n",
       "      <th>Rev.per.mile</th>\n",
       "      <th>MPG.highway</th>\n",
       "      <th>EngineSize</th>\n",
       "      <th>DriveTrain</th>\n",
       "      <th>Fuel.tank.capacity</th>\n",
       "    </tr>\n",
       "  </thead>\n",
       "  <tbody>\n",
       "    <tr>\n",
       "      <th>0</th>\n",
       "      <td>2890</td>\n",
       "      <td>31</td>\n",
       "      <td>1.8</td>\n",
       "      <td>Front</td>\n",
       "      <td>13.2</td>\n",
       "    </tr>\n",
       "    <tr>\n",
       "      <th>1</th>\n",
       "      <td>2335</td>\n",
       "      <td>25</td>\n",
       "      <td>3.2</td>\n",
       "      <td>Front</td>\n",
       "      <td>18.0</td>\n",
       "    </tr>\n",
       "    <tr>\n",
       "      <th>2</th>\n",
       "      <td>2280</td>\n",
       "      <td>26</td>\n",
       "      <td>2.8</td>\n",
       "      <td>Front</td>\n",
       "      <td>16.9</td>\n",
       "    </tr>\n",
       "    <tr>\n",
       "      <th>3</th>\n",
       "      <td>2535</td>\n",
       "      <td>26</td>\n",
       "      <td>2.8</td>\n",
       "      <td>Front</td>\n",
       "      <td>21.1</td>\n",
       "    </tr>\n",
       "    <tr>\n",
       "      <th>4</th>\n",
       "      <td>2545</td>\n",
       "      <td>30</td>\n",
       "      <td>3.5</td>\n",
       "      <td>Rear</td>\n",
       "      <td>21.1</td>\n",
       "    </tr>\n",
       "    <tr>\n",
       "      <th>5</th>\n",
       "      <td>2565</td>\n",
       "      <td>31</td>\n",
       "      <td>2.2</td>\n",
       "      <td>Front</td>\n",
       "      <td>16.4</td>\n",
       "    </tr>\n",
       "    <tr>\n",
       "      <th>6</th>\n",
       "      <td>1570</td>\n",
       "      <td>28</td>\n",
       "      <td>3.8</td>\n",
       "      <td>Front</td>\n",
       "      <td>18.0</td>\n",
       "    </tr>\n",
       "  </tbody>\n",
       "</table>\n",
       "</div>"
      ],
      "text/plain": [
       "   Rev.per.mile  MPG.highway  EngineSize DriveTrain  Fuel.tank.capacity\n",
       "0          2890           31         1.8      Front                13.2\n",
       "1          2335           25         3.2      Front                18.0\n",
       "2          2280           26         2.8      Front                16.9\n",
       "3          2535           26         2.8      Front                21.1\n",
       "4          2545           30         3.5       Rear                21.1\n",
       "5          2565           31         2.2      Front                16.4\n",
       "6          1570           28         3.8      Front                18.0"
      ]
     },
     "execution_count": 189,
     "metadata": {},
     "output_type": "execute_result"
    }
   ],
   "source": [
    "import random\n",
    "\n",
    "y_data = carsdf['Price']\n",
    "x_data = carsdf.iloc[:,random.sample(list(range(1,29)),5)]\n",
    "\n",
    "# b = range(1,29)\n",
    "# a = list(b)\n",
    "\n",
    "x_data.head(7)"
   ]
  },
  {
   "cell_type": "code",
   "execution_count": 195,
   "id": "195c98ca",
   "metadata": {},
   "outputs": [
    {
     "name": "stdout",
     "output_type": "stream",
     "text": [
      "0.5130580367518964\n"
     ]
    },
    {
     "name": "stderr",
     "output_type": "stream",
     "text": [
      "[Parallel(n_jobs=1)]: Using backend SequentialBackend with 1 concurrent workers.\n"
     ]
    },
    {
     "name": "stdout",
     "output_type": "stream",
     "text": [
      "[-0.40301136 -0.1147484   0.11572663 -0.59403466  0.73366868  0.66350073\n",
      "  0.23752287  0.07023626  0.48607681  0.20653085]\n",
      "0.14014684181781042\n"
     ]
    },
    {
     "name": "stderr",
     "output_type": "stream",
     "text": [
      "[Parallel(n_jobs=1)]: Done  10 out of  10 | elapsed:    0.2s finished\n"
     ]
    }
   ],
   "source": [
    "from sklearn.pipeline import make_pipeline\n",
    "from sklearn.preprocessing import MinMaxScaler, StandardScaler\n",
    "from sklearn.linear_model import LinearRegression,Ridge, SGDRegressor\n",
    "from sklearn.preprocessing import OneHotEncoder,LabelEncoder\n",
    "from sklearn.compose import make_column_transformer\n",
    "from sklearn.model_selection import cross_val_score\n",
    "\n",
    "X = pd.get_dummies(x_data, columns=['DriveTrain']) \n",
    "\n",
    "model = make_pipeline(LinearRegression()) \n",
    "model.fit(X,y_data)\n",
    "\n",
    "print(model.score(X,y_data),sep=\"\\n\")\n",
    "\n",
    "r2Score = cross_val_score(model,X,y_data,cv=10,scoring='r2',verbose=1)\n",
    "print(r2Score,sep=\"\\n\")\n",
    "print(r2Score.mean())"
   ]
  },
  {
   "cell_type": "code",
   "execution_count": 196,
   "id": "0667247a",
   "metadata": {},
   "outputs": [],
   "source": [
    "### 3절 | 다중선형회귀분석\n",
    "\n",
    "### 3. 더미변수(dummy variable)\n",
    "Q)  R에서 회귀모형을 생성하는 lm함수는 데이터에 범주형 변수가 포함되어 있을 경우, \n",
    "이를 자동으로 더미변수로 변환하여 회귀모형을 생성한다. \n",
    "이 과정을 더 자세히 이해하기 위해 범주형 변수(Spceies)가 포함된 iris데이터에서 \n",
    "Petal.Length를 종속변수로 두고 나머지 변수들을 독립변수로 설정한 회귀모형을 생성하고 그 결과를 살펴보자.\n"
   ]
  },
  {
   "cell_type": "code",
   "execution_count": 168,
   "id": "b80bf95a",
   "metadata": {},
   "outputs": [
    {
     "data": {
      "text/plain": [
       "[28, 4, 24]"
      ]
     },
     "execution_count": 168,
     "metadata": {},
     "output_type": "execute_result"
    }
   ],
   "source": [
    "\n",
    "### 4. R을 이용한 다중회귀분석\n",
    "Q)  MASS패키지의 Cars93 데이터에서 엔진크기(EngineSize), RPM(RPM), 무게(Weight)를 독립변수로 설정하고 \n",
    "자동차 가격(Price)를 종속변수로 설정하여 다변량 회귀분석을 수행한 뒤 그 결과를 해석해보자.\n"
   ]
  },
  {
   "cell_type": "code",
   "execution_count": 209,
   "id": "3e6d179a",
   "metadata": {},
   "outputs": [
    {
     "name": "stdout",
     "output_type": "stream",
     "text": [
      "[ 8.38063680e+00  7.13937639e-03 -6.54922886e-01  1.36675569e-01]\n",
      "-20.15160884195411\n",
      "[ True False False False]\n",
      "[1 4 2 3]\n",
      "LinearRegression()\n"
     ]
    }
   ],
   "source": [
    "from sklearn.feature_selection import RFE\n",
    "from sklearn.datasets import make_regression\n",
    "import statsmodels.api as sm\n",
    "import mglearn\n",
    "\n",
    "xdata= carsdf[['EngineSize','RPM','Width','Length']]\n",
    "ydata=carsdf['Price']\n",
    "\n",
    "lm = LinearRegression()\n",
    "Im.fit(xdata, ydata)\n",
    "print(Im.coef_)\n",
    "print(Im.intercept_, sep='\\n')\n",
    "\n",
    "rfe=RFE(lm, n_features_to_select = 1, step=1)\n",
    "model = rfe.fit(xdata,ydata)\n",
    "\n",
    "print(model.support_)\n",
    "print(model.ranking_)\n",
    "print(model.estimator_)\n",
    "# U71401271, rpmoj 4, width 2 WH, length3번째로 유의함"
   ]
  },
  {
   "cell_type": "code",
   "execution_count": 238,
   "id": "fe4a2d54",
   "metadata": {},
   "outputs": [
    {
     "ename": "KeyError",
     "evalue": "\"None of [Index(['EngineSize', 'RPM', 'Length'], dtype='object')] are in the [columns]\"",
     "output_type": "error",
     "traceback": [
      "\u001b[1;31m---------------------------------------------------------------------------\u001b[0m",
      "\u001b[1;31mKeyError\u001b[0m                                  Traceback (most recent call last)",
      "\u001b[1;32m<ipython-input-238-b41865ed6b7c>\u001b[0m in \u001b[0;36m<module>\u001b[1;34m\u001b[0m\n\u001b[0;32m     22\u001b[0m         \u001b[0mstep\u001b[0m \u001b[1;33m+=\u001b[0m\u001b[1;36m1\u001b[0m\u001b[1;33m\u001b[0m\u001b[1;33m\u001b[0m\u001b[0m\n\u001b[0;32m     23\u001b[0m         \u001b[0msteps\u001b[0m\u001b[1;33m.\u001b[0m\u001b[0mappend\u001b[0m\u001b[1;33m(\u001b[0m\u001b[0mstep\u001b[0m\u001b[1;33m)\u001b[0m\u001b[1;33m\u001b[0m\u001b[1;33m\u001b[0m\u001b[0m\n\u001b[1;32m---> 24\u001b[1;33m         \u001b[0madj_s_squared\u001b[0m \u001b[1;33m=\u001b[0m \u001b[0msm\u001b[0m\u001b[1;33m.\u001b[0m\u001b[0mOLS\u001b[0m\u001b[1;33m(\u001b[0m\u001b[0my\u001b[0m\u001b[1;33m,\u001b[0m\u001b[0msm\u001b[0m\u001b[1;33m.\u001b[0m\u001b[0madd_constant\u001b[0m\u001b[1;33m(\u001b[0m\u001b[0mdf\u001b[0m\u001b[1;33m[\u001b[0m\u001b[0mselected_variables\u001b[0m\u001b[1;33m]\u001b[0m\u001b[1;33m)\u001b[0m\u001b[1;33m)\u001b[0m\u001b[1;33m,\u001b[0m\u001b[0mfit\u001b[0m\u001b[1;33m(\u001b[0m\u001b[1;33m)\u001b[0m\u001b[1;33m.\u001b[0m\u001b[0mrsquared_adj\u001b[0m\u001b[1;33m\u001b[0m\u001b[1;33m\u001b[0m\u001b[0m\n\u001b[0m\u001b[0;32m     25\u001b[0m         \u001b[0madjusted_r_squared\u001b[0m\u001b[1;33m.\u001b[0m\u001b[0mappend\u001b[0m\u001b[1;33m(\u001b[0m\u001b[0madj_r_squared\u001b[0m\u001b[1;33m)\u001b[0m\u001b[1;33m\u001b[0m\u001b[1;33m\u001b[0m\u001b[0m\n\u001b[0;32m     26\u001b[0m         \u001b[0msv_per_step\u001b[0m\u001b[1;33m.\u001b[0m\u001b[0mappend\u001b[0m\u001b[1;33m(\u001b[0m\u001b[0mselected_variables\u001b[0m\u001b[1;33m.\u001b[0m\u001b[0mcopy\u001b[0m\u001b[1;33m(\u001b[0m\u001b[1;33m)\u001b[0m\u001b[1;33m)\u001b[0m\u001b[1;33m\u001b[0m\u001b[1;33m\u001b[0m\u001b[0m\n",
      "\u001b[1;32m~\\anaconda3\\lib\\site-packages\\pandas\\core\\frame.py\u001b[0m in \u001b[0;36m__getitem__\u001b[1;34m(self, key)\u001b[0m\n\u001b[0;32m   3028\u001b[0m             \u001b[1;32mif\u001b[0m \u001b[0mis_iterator\u001b[0m\u001b[1;33m(\u001b[0m\u001b[0mkey\u001b[0m\u001b[1;33m)\u001b[0m\u001b[1;33m:\u001b[0m\u001b[1;33m\u001b[0m\u001b[1;33m\u001b[0m\u001b[0m\n\u001b[0;32m   3029\u001b[0m                 \u001b[0mkey\u001b[0m \u001b[1;33m=\u001b[0m \u001b[0mlist\u001b[0m\u001b[1;33m(\u001b[0m\u001b[0mkey\u001b[0m\u001b[1;33m)\u001b[0m\u001b[1;33m\u001b[0m\u001b[1;33m\u001b[0m\u001b[0m\n\u001b[1;32m-> 3030\u001b[1;33m             \u001b[0mindexer\u001b[0m \u001b[1;33m=\u001b[0m \u001b[0mself\u001b[0m\u001b[1;33m.\u001b[0m\u001b[0mloc\u001b[0m\u001b[1;33m.\u001b[0m\u001b[0m_get_listlike_indexer\u001b[0m\u001b[1;33m(\u001b[0m\u001b[0mkey\u001b[0m\u001b[1;33m,\u001b[0m \u001b[0maxis\u001b[0m\u001b[1;33m=\u001b[0m\u001b[1;36m1\u001b[0m\u001b[1;33m,\u001b[0m \u001b[0mraise_missing\u001b[0m\u001b[1;33m=\u001b[0m\u001b[1;32mTrue\u001b[0m\u001b[1;33m)\u001b[0m\u001b[1;33m[\u001b[0m\u001b[1;36m1\u001b[0m\u001b[1;33m]\u001b[0m\u001b[1;33m\u001b[0m\u001b[1;33m\u001b[0m\u001b[0m\n\u001b[0m\u001b[0;32m   3031\u001b[0m \u001b[1;33m\u001b[0m\u001b[0m\n\u001b[0;32m   3032\u001b[0m         \u001b[1;31m# take() does not accept boolean indexers\u001b[0m\u001b[1;33m\u001b[0m\u001b[1;33m\u001b[0m\u001b[1;33m\u001b[0m\u001b[0m\n",
      "\u001b[1;32m~\\anaconda3\\lib\\site-packages\\pandas\\core\\indexing.py\u001b[0m in \u001b[0;36m_get_listlike_indexer\u001b[1;34m(self, key, axis, raise_missing)\u001b[0m\n\u001b[0;32m   1264\u001b[0m             \u001b[0mkeyarr\u001b[0m\u001b[1;33m,\u001b[0m \u001b[0mindexer\u001b[0m\u001b[1;33m,\u001b[0m \u001b[0mnew_indexer\u001b[0m \u001b[1;33m=\u001b[0m \u001b[0max\u001b[0m\u001b[1;33m.\u001b[0m\u001b[0m_reindex_non_unique\u001b[0m\u001b[1;33m(\u001b[0m\u001b[0mkeyarr\u001b[0m\u001b[1;33m)\u001b[0m\u001b[1;33m\u001b[0m\u001b[1;33m\u001b[0m\u001b[0m\n\u001b[0;32m   1265\u001b[0m \u001b[1;33m\u001b[0m\u001b[0m\n\u001b[1;32m-> 1266\u001b[1;33m         \u001b[0mself\u001b[0m\u001b[1;33m.\u001b[0m\u001b[0m_validate_read_indexer\u001b[0m\u001b[1;33m(\u001b[0m\u001b[0mkeyarr\u001b[0m\u001b[1;33m,\u001b[0m \u001b[0mindexer\u001b[0m\u001b[1;33m,\u001b[0m \u001b[0maxis\u001b[0m\u001b[1;33m,\u001b[0m \u001b[0mraise_missing\u001b[0m\u001b[1;33m=\u001b[0m\u001b[0mraise_missing\u001b[0m\u001b[1;33m)\u001b[0m\u001b[1;33m\u001b[0m\u001b[1;33m\u001b[0m\u001b[0m\n\u001b[0m\u001b[0;32m   1267\u001b[0m         \u001b[1;32mreturn\u001b[0m \u001b[0mkeyarr\u001b[0m\u001b[1;33m,\u001b[0m \u001b[0mindexer\u001b[0m\u001b[1;33m\u001b[0m\u001b[1;33m\u001b[0m\u001b[0m\n\u001b[0;32m   1268\u001b[0m \u001b[1;33m\u001b[0m\u001b[0m\n",
      "\u001b[1;32m~\\anaconda3\\lib\\site-packages\\pandas\\core\\indexing.py\u001b[0m in \u001b[0;36m_validate_read_indexer\u001b[1;34m(self, key, indexer, axis, raise_missing)\u001b[0m\n\u001b[0;32m   1306\u001b[0m             \u001b[1;32mif\u001b[0m \u001b[0mmissing\u001b[0m \u001b[1;33m==\u001b[0m \u001b[0mlen\u001b[0m\u001b[1;33m(\u001b[0m\u001b[0mindexer\u001b[0m\u001b[1;33m)\u001b[0m\u001b[1;33m:\u001b[0m\u001b[1;33m\u001b[0m\u001b[1;33m\u001b[0m\u001b[0m\n\u001b[0;32m   1307\u001b[0m                 \u001b[0maxis_name\u001b[0m \u001b[1;33m=\u001b[0m \u001b[0mself\u001b[0m\u001b[1;33m.\u001b[0m\u001b[0mobj\u001b[0m\u001b[1;33m.\u001b[0m\u001b[0m_get_axis_name\u001b[0m\u001b[1;33m(\u001b[0m\u001b[0maxis\u001b[0m\u001b[1;33m)\u001b[0m\u001b[1;33m\u001b[0m\u001b[1;33m\u001b[0m\u001b[0m\n\u001b[1;32m-> 1308\u001b[1;33m                 \u001b[1;32mraise\u001b[0m \u001b[0mKeyError\u001b[0m\u001b[1;33m(\u001b[0m\u001b[1;34mf\"None of [{key}] are in the [{axis_name}]\"\u001b[0m\u001b[1;33m)\u001b[0m\u001b[1;33m\u001b[0m\u001b[1;33m\u001b[0m\u001b[0m\n\u001b[0m\u001b[0;32m   1309\u001b[0m \u001b[1;33m\u001b[0m\u001b[0m\n\u001b[0;32m   1310\u001b[0m             \u001b[0max\u001b[0m \u001b[1;33m=\u001b[0m \u001b[0mself\u001b[0m\u001b[1;33m.\u001b[0m\u001b[0mobj\u001b[0m\u001b[1;33m.\u001b[0m\u001b[0m_get_axis\u001b[0m\u001b[1;33m(\u001b[0m\u001b[0maxis\u001b[0m\u001b[1;33m)\u001b[0m\u001b[1;33m\u001b[0m\u001b[1;33m\u001b[0m\u001b[0m\n",
      "\u001b[1;31mKeyError\u001b[0m: \"None of [Index(['EngineSize', 'RPM', 'Length'], dtype='object')] are in the [columns]\""
     ]
    }
   ],
   "source": [
    "#x_data = df[['EngineSize', 'RPM','Width', 'Length'j]\n",
    "#y_data = df['price')\n",
    "\n",
    "variables = carsdf.columns[[12,14,21,19]].tolist() ## 설명변수 리스트\n",
    "y = carsdf['Price'] ## 반응변수\n",
    "selected_variables = variables ## 초기에는 모든변수가 선택된 상태\n",
    "sl_remove = 0.05\n",
    "       \n",
    "sv_per_step = [] ## 각 스텝별로 선택된 변수들\n",
    "adjusted_r_squared = [] ## 각 스텝별 수정도니 결정계수\n",
    "steps = [] ## 스텝\n",
    "step = 0\n",
    "       \n",
    "       \n",
    "while len(selected_variables) > 0:\n",
    "    X = sm.add_constant(carsdf[selected_variables])\n",
    "    p_vals = sm.OLS(y,X).fit().pvalues[1:] ## 절편항의 Pvalue는 뺀다.\n",
    "    max_pval = p_vals.max() ## 최대 p-value\n",
    "    if max_pval >= sl_remove: ## 최대 p-value이 기준값보다 크거나 같으면 제외\n",
    "        remove_variable = p_vals.idxmax()\n",
    "        selected_variables.remove(remove_variable)\n",
    "        step +=1\n",
    "        steps.append(step)\n",
    "        adj_s_squared = sm.OLS(y,sm.add_constant(df[selected_variables])),fit().rsquared_adj\n",
    "        adjusted_r_squared.append(adj_r_squared)\n",
    "        sv_per_step.append(selected_variables.copy())\n",
    "    else:\n",
    "        break\n",
    "selected_yariables"
   ]
  },
  {
   "cell_type": "code",
   "execution_count": null,
   "id": "e4eef44b",
   "metadata": {},
   "outputs": [],
   "source": [
    "Q2) MASS 패키지의 Cars93 데이터에서 엔진크기(EngineSize), 마력(Horsepower), RPM(RPM), 너비(Width), \n",
    "길이(Length), 무게(Weight)를 독립변수로 가지고, 자동차의 가격(Price)를 종속변수로 가지는 선형회귀모형을 생성해보자. \n",
    "그 후 step함수를 사용해 ‘후진제거법’으로 변수 선택을 수행한 후 결과를 해석해보자.\n"
   ]
  },
  {
   "cell_type": "code",
   "execution_count": 235,
   "id": "d070d4cf",
   "metadata": {},
   "outputs": [
    {
     "name": "stdout",
     "output_type": "stream",
     "text": [
      "[ 4.05792236e-01 -1.57501855e-03 -1.71498517e+00  1.52836848e-01\n",
      "  1.41608634e-01  6.58613350e-03]\n",
      "77.11744483543065\n",
      "[ True False False False False False]\n",
      "[1 6 2 3 4 5]\n",
      "LinearRegression()\n"
     ]
    }
   ],
   "source": [
    "x_data2 = carsdf[['EngineSize', 'RPM','Width','Length','Horsepower','Weight']]\n",
    "y_data2 = carsdf['Price']\n",
    "# x_data2.shape\n",
    "\n",
    "lm2 = LinearRegression()\n",
    "lm2.fit(x_data2, y_data2)\n",
    "print(lm2.coef_)\n",
    "print(lm2.intercept_, sep='\\n')\n",
    "\n",
    "rfe2 = RFE(Im2, n_features_to_select = 1, step=1)\n",
    "model2 = rfe2.fit(x_data2,y_data2)\n",
    "print(model2.support_)\n",
    "print(model2.ranking_)\n",
    "print(model2.estimator_)"
   ]
  },
  {
   "cell_type": "code",
   "execution_count": null,
   "id": "ecf36173",
   "metadata": {},
   "outputs": [],
   "source": []
  },
  {
   "cell_type": "code",
   "execution_count": null,
   "id": "1bd30ebf",
   "metadata": {},
   "outputs": [],
   "source": []
  },
  {
   "cell_type": "code",
   "execution_count": null,
   "id": "9fd7ff07",
   "metadata": {},
   "outputs": [],
   "source": []
  },
  {
   "cell_type": "code",
   "execution_count": null,
   "id": "2c1331f4",
   "metadata": {},
   "outputs": [],
   "source": []
  }
 ],
 "metadata": {
  "kernelspec": {
   "display_name": "Python 3",
   "language": "python",
   "name": "python3"
  },
  "language_info": {
   "codemirror_mode": {
    "name": "ipython",
    "version": 3
   },
   "file_extension": ".py",
   "mimetype": "text/x-python",
   "name": "python",
   "nbconvert_exporter": "python",
   "pygments_lexer": "ipython3",
   "version": "3.8.8"
  }
 },
 "nbformat": 4,
 "nbformat_minor": 5
}
