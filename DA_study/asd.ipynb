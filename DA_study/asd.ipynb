{
 "cells": [
  {
   "cell_type": "markdown",
   "id": "89931e24-28cb-4f34-b711-50d2eeb8c25c",
   "metadata": {
    "tags": []
   },
   "source": [
    "## - 불러올 패키지 목록"
   ]
  },
  {
   "cell_type": "code",
   "execution_count": 1,
   "id": "86f9fcd2-3c10-416e-a0c0-e061f8bcf26a",
   "metadata": {},
   "outputs": [],
   "source": [
    "# 데이터 핸들링을 위한 패키지\n",
    "import numpy as np\n",
    "import pandas as pd\n",
    "\n",
    "# 사이킷런 패키지\n",
    "from sklearn.preprocessing import *  # 데이터 전처리를 위한 패키지\n",
    "from sklearn.model_selection import *  # 데이터 분리, 검증 및 파라미터 튜닝을 위한 패키지\n",
    "from sklearn.metrics import *  # 모델에 대한 다양한 성능 평가를 위한 패키지\n",
    "from sklearn.cluster import *  # 비지도 군집화 알고리즘 제공\n",
    "from sklearn.tree import *  # 의사결정나무 알고리즘 제공\n",
    "from sklearn.ensemble import *  # 앙상블 알고리즘 제공\n",
    "from sklearn.neighbors import *  # kNN 알고리즘 제공\n",
    "from sklearn.svm import *  # 서포트 벡터 머신 알고리즘 제공\n",
    "\n",
    "# 사이파이 패키지\n",
    "from scipy.cluster.hierarchy import *  # 계층적 군집 분석을 위한 패키지\n",
    "\n",
    "# label별 데이터 카운트를 위한 모듈\n",
    "from collections import Counter  # https://docs.python.org/3/library/collections.html\n",
    "\n",
    "# 경고 메시지 무시\n",
    "import warnings\n",
    "warnings.filterwarnings('ignore')\n",
    "\n",
    "# 시각화를 위한 패키지\n",
    "import seaborn as sb\n",
    "from matplotlib import pyplot as plt\n",
    "from matplotlib.colors import ListedColormap\n",
    "from mlxtend.plotting import plot_decision_regions\n",
    "\n",
    "%matplotlib inline\n",
    "# %matplotlib inline 의 목적은 plt.show()함수가 호출되지 않은 경우에도 matplotlib 다이어그램을 렌더링하는 것이다.\n",
    "# 그러나 현재 업데이트된 버전의 주피터 노트북 버전에서는 %matplotlib inline 를 사용하지 않더라도 Matplotlib 다이어그램을 개체로 표현한다.\n",
    "# 따라서 굳이 필요하지는 않다. 그러나 코드를 깨끗하게 유지하고 자신이 만든 플롯을 호출하기 위해 여전히 관례적으로 권장된다.\n",
    "\n",
    "# 그래프 스타일 서식 지정\n",
    "plt.style.use('default')\n",
    "\n",
    "# 한글 폰트 설정\n",
    "plt.rc('font', family='Malgun Gothic')\n",
    "\n",
    "# 그래프 축의 음수 표현 오류 방지\n",
    "plt.rcParams['axes.unicode_minus'] = False"
   ]
  },
  {
   "cell_type": "markdown",
   "id": "0cb5d24e-5af5-41fd-b305-dde4ce572bc0",
   "metadata": {
    "tags": []
   },
   "source": [
    "# Dataset 불러오기 및 data 정보 확인"
   ]
  },
  {
   "cell_type": "markdown",
   "id": "be0b779b-1b44-48ea-a62a-143c9591c31d",
   "metadata": {},
   "source": [
    "## 데이터 불러오기"
   ]
  },
  {
   "cell_type": "code",
   "execution_count": 2,
   "id": "7f3ed3be-b604-43d2-979e-2ed83e343a5a",
   "metadata": {},
   "outputs": [
    {
     "data": {
      "text/html": [
       "<div>\n",
       "<style scoped>\n",
       "    .dataframe tbody tr th:only-of-type {\n",
       "        vertical-align: middle;\n",
       "    }\n",
       "\n",
       "    .dataframe tbody tr th {\n",
       "        vertical-align: top;\n",
       "    }\n",
       "\n",
       "    .dataframe thead th {\n",
       "        text-align: right;\n",
       "    }\n",
       "</style>\n",
       "<table border=\"1\" class=\"dataframe\">\n",
       "  <thead>\n",
       "    <tr style=\"text-align: right;\">\n",
       "      <th></th>\n",
       "      <th>Sepal.Length</th>\n",
       "      <th>Sepal.Width</th>\n",
       "      <th>Petal.Length</th>\n",
       "      <th>Petal.Width</th>\n",
       "      <th>Species</th>\n",
       "    </tr>\n",
       "  </thead>\n",
       "  <tbody>\n",
       "    <tr>\n",
       "      <th>1</th>\n",
       "      <td>5.1</td>\n",
       "      <td>3.5</td>\n",
       "      <td>1.4</td>\n",
       "      <td>0.2</td>\n",
       "      <td>setosa</td>\n",
       "    </tr>\n",
       "    <tr>\n",
       "      <th>2</th>\n",
       "      <td>4.9</td>\n",
       "      <td>3.0</td>\n",
       "      <td>1.4</td>\n",
       "      <td>0.2</td>\n",
       "      <td>setosa</td>\n",
       "    </tr>\n",
       "    <tr>\n",
       "      <th>3</th>\n",
       "      <td>4.7</td>\n",
       "      <td>3.2</td>\n",
       "      <td>1.3</td>\n",
       "      <td>0.2</td>\n",
       "      <td>setosa</td>\n",
       "    </tr>\n",
       "    <tr>\n",
       "      <th>4</th>\n",
       "      <td>4.6</td>\n",
       "      <td>3.1</td>\n",
       "      <td>1.5</td>\n",
       "      <td>0.2</td>\n",
       "      <td>setosa</td>\n",
       "    </tr>\n",
       "    <tr>\n",
       "      <th>5</th>\n",
       "      <td>5.0</td>\n",
       "      <td>3.6</td>\n",
       "      <td>1.4</td>\n",
       "      <td>0.2</td>\n",
       "      <td>setosa</td>\n",
       "    </tr>\n",
       "    <tr>\n",
       "      <th>...</th>\n",
       "      <td>...</td>\n",
       "      <td>...</td>\n",
       "      <td>...</td>\n",
       "      <td>...</td>\n",
       "      <td>...</td>\n",
       "    </tr>\n",
       "    <tr>\n",
       "      <th>146</th>\n",
       "      <td>6.7</td>\n",
       "      <td>3.0</td>\n",
       "      <td>5.2</td>\n",
       "      <td>2.3</td>\n",
       "      <td>virginica</td>\n",
       "    </tr>\n",
       "    <tr>\n",
       "      <th>147</th>\n",
       "      <td>6.3</td>\n",
       "      <td>2.5</td>\n",
       "      <td>5.0</td>\n",
       "      <td>1.9</td>\n",
       "      <td>virginica</td>\n",
       "    </tr>\n",
       "    <tr>\n",
       "      <th>148</th>\n",
       "      <td>6.5</td>\n",
       "      <td>3.0</td>\n",
       "      <td>5.2</td>\n",
       "      <td>2.0</td>\n",
       "      <td>virginica</td>\n",
       "    </tr>\n",
       "    <tr>\n",
       "      <th>149</th>\n",
       "      <td>6.2</td>\n",
       "      <td>3.4</td>\n",
       "      <td>5.4</td>\n",
       "      <td>2.3</td>\n",
       "      <td>virginica</td>\n",
       "    </tr>\n",
       "    <tr>\n",
       "      <th>150</th>\n",
       "      <td>5.9</td>\n",
       "      <td>3.0</td>\n",
       "      <td>5.1</td>\n",
       "      <td>1.8</td>\n",
       "      <td>virginica</td>\n",
       "    </tr>\n",
       "  </tbody>\n",
       "</table>\n",
       "<p>150 rows × 5 columns</p>\n",
       "</div>"
      ],
      "text/plain": [
       "     Sepal.Length  Sepal.Width  Petal.Length  Petal.Width    Species\n",
       "1             5.1          3.5           1.4          0.2     setosa\n",
       "2             4.9          3.0           1.4          0.2     setosa\n",
       "3             4.7          3.2           1.3          0.2     setosa\n",
       "4             4.6          3.1           1.5          0.2     setosa\n",
       "5             5.0          3.6           1.4          0.2     setosa\n",
       "..            ...          ...           ...          ...        ...\n",
       "146           6.7          3.0           5.2          2.3  virginica\n",
       "147           6.3          2.5           5.0          1.9  virginica\n",
       "148           6.5          3.0           5.2          2.0  virginica\n",
       "149           6.2          3.4           5.4          2.3  virginica\n",
       "150           5.9          3.0           5.1          1.8  virginica\n",
       "\n",
       "[150 rows x 5 columns]"
      ]
     },
     "execution_count": 2,
     "metadata": {},
     "output_type": "execute_result"
    }
   ],
   "source": [
    "# 분석할 데이터 불러오기 / 데이터프레임 생성\n",
    "df_iris = pd.read_csv(r'C:\\Users\\Boanerges\\GitHub\\TIL\\ADP_study\\rawdata\\iris.csv',\n",
    "                      index_col = 'Unnamed: 0')\n",
    "df_iris"
   ]
  },
  {
   "cell_type": "markdown",
   "id": "3bb1645e-6990-46eb-959c-83fc78e13ff1",
   "metadata": {},
   "source": [
    "## 레이블 인코딩"
   ]
  },
  {
   "cell_type": "code",
   "execution_count": 3,
   "id": "67b34afd-ae0d-4c09-8534-02ccec13fdee",
   "metadata": {},
   "outputs": [
    {
     "data": {
      "text/html": [
       "<div>\n",
       "<style scoped>\n",
       "    .dataframe tbody tr th:only-of-type {\n",
       "        vertical-align: middle;\n",
       "    }\n",
       "\n",
       "    .dataframe tbody tr th {\n",
       "        vertical-align: top;\n",
       "    }\n",
       "\n",
       "    .dataframe thead th {\n",
       "        text-align: right;\n",
       "    }\n",
       "</style>\n",
       "<table border=\"1\" class=\"dataframe\">\n",
       "  <thead>\n",
       "    <tr style=\"text-align: right;\">\n",
       "      <th></th>\n",
       "      <th>Sepal.Length</th>\n",
       "      <th>Sepal.Width</th>\n",
       "      <th>Petal.Length</th>\n",
       "      <th>Petal.Width</th>\n",
       "      <th>Species</th>\n",
       "      <th>Species_No</th>\n",
       "    </tr>\n",
       "  </thead>\n",
       "  <tbody>\n",
       "    <tr>\n",
       "      <th>1</th>\n",
       "      <td>5.1</td>\n",
       "      <td>3.5</td>\n",
       "      <td>1.4</td>\n",
       "      <td>0.2</td>\n",
       "      <td>setosa</td>\n",
       "      <td>0</td>\n",
       "    </tr>\n",
       "    <tr>\n",
       "      <th>2</th>\n",
       "      <td>4.9</td>\n",
       "      <td>3.0</td>\n",
       "      <td>1.4</td>\n",
       "      <td>0.2</td>\n",
       "      <td>setosa</td>\n",
       "      <td>0</td>\n",
       "    </tr>\n",
       "    <tr>\n",
       "      <th>3</th>\n",
       "      <td>4.7</td>\n",
       "      <td>3.2</td>\n",
       "      <td>1.3</td>\n",
       "      <td>0.2</td>\n",
       "      <td>setosa</td>\n",
       "      <td>0</td>\n",
       "    </tr>\n",
       "    <tr>\n",
       "      <th>4</th>\n",
       "      <td>4.6</td>\n",
       "      <td>3.1</td>\n",
       "      <td>1.5</td>\n",
       "      <td>0.2</td>\n",
       "      <td>setosa</td>\n",
       "      <td>0</td>\n",
       "    </tr>\n",
       "    <tr>\n",
       "      <th>5</th>\n",
       "      <td>5.0</td>\n",
       "      <td>3.6</td>\n",
       "      <td>1.4</td>\n",
       "      <td>0.2</td>\n",
       "      <td>setosa</td>\n",
       "      <td>0</td>\n",
       "    </tr>\n",
       "    <tr>\n",
       "      <th>...</th>\n",
       "      <td>...</td>\n",
       "      <td>...</td>\n",
       "      <td>...</td>\n",
       "      <td>...</td>\n",
       "      <td>...</td>\n",
       "      <td>...</td>\n",
       "    </tr>\n",
       "    <tr>\n",
       "      <th>146</th>\n",
       "      <td>6.7</td>\n",
       "      <td>3.0</td>\n",
       "      <td>5.2</td>\n",
       "      <td>2.3</td>\n",
       "      <td>virginica</td>\n",
       "      <td>2</td>\n",
       "    </tr>\n",
       "    <tr>\n",
       "      <th>147</th>\n",
       "      <td>6.3</td>\n",
       "      <td>2.5</td>\n",
       "      <td>5.0</td>\n",
       "      <td>1.9</td>\n",
       "      <td>virginica</td>\n",
       "      <td>2</td>\n",
       "    </tr>\n",
       "    <tr>\n",
       "      <th>148</th>\n",
       "      <td>6.5</td>\n",
       "      <td>3.0</td>\n",
       "      <td>5.2</td>\n",
       "      <td>2.0</td>\n",
       "      <td>virginica</td>\n",
       "      <td>2</td>\n",
       "    </tr>\n",
       "    <tr>\n",
       "      <th>149</th>\n",
       "      <td>6.2</td>\n",
       "      <td>3.4</td>\n",
       "      <td>5.4</td>\n",
       "      <td>2.3</td>\n",
       "      <td>virginica</td>\n",
       "      <td>2</td>\n",
       "    </tr>\n",
       "    <tr>\n",
       "      <th>150</th>\n",
       "      <td>5.9</td>\n",
       "      <td>3.0</td>\n",
       "      <td>5.1</td>\n",
       "      <td>1.8</td>\n",
       "      <td>virginica</td>\n",
       "      <td>2</td>\n",
       "    </tr>\n",
       "  </tbody>\n",
       "</table>\n",
       "<p>150 rows × 6 columns</p>\n",
       "</div>"
      ],
      "text/plain": [
       "     Sepal.Length  Sepal.Width  Petal.Length  Petal.Width    Species  \\\n",
       "1             5.1          3.5           1.4          0.2     setosa   \n",
       "2             4.9          3.0           1.4          0.2     setosa   \n",
       "3             4.7          3.2           1.3          0.2     setosa   \n",
       "4             4.6          3.1           1.5          0.2     setosa   \n",
       "5             5.0          3.6           1.4          0.2     setosa   \n",
       "..            ...          ...           ...          ...        ...   \n",
       "146           6.7          3.0           5.2          2.3  virginica   \n",
       "147           6.3          2.5           5.0          1.9  virginica   \n",
       "148           6.5          3.0           5.2          2.0  virginica   \n",
       "149           6.2          3.4           5.4          2.3  virginica   \n",
       "150           5.9          3.0           5.1          1.8  virginica   \n",
       "\n",
       "     Species_No  \n",
       "1             0  \n",
       "2             0  \n",
       "3             0  \n",
       "4             0  \n",
       "5             0  \n",
       "..          ...  \n",
       "146           2  \n",
       "147           2  \n",
       "148           2  \n",
       "149           2  \n",
       "150           2  \n",
       "\n",
       "[150 rows x 6 columns]"
      ]
     },
     "execution_count": 3,
     "metadata": {},
     "output_type": "execute_result"
    }
   ],
   "source": [
    "# 문자로 된 범주형 데이터를 숫자로 변환한 컬럼 추가\n",
    "\n",
    "encoder = LabelEncoder()\n",
    "encoder.fit(df_iris['Species'])\n",
    "\n",
    "df_iris['Species_No'] = encoder.transform(df_iris['Species'])\n",
    "df_iris"
   ]
  },
  {
   "cell_type": "code",
   "execution_count": 4,
   "id": "70080086-3afe-47ee-b6d5-213decc6ce2d",
   "metadata": {},
   "outputs": [],
   "source": [
    "# 문자로 된 범주형 데이터를 숫자로 변환한 컬럼 추가\n",
    "# df_iris['Species_No'] = df_iris['Species'].apply(lambda x: 0 if 'setosa' == x \n",
    "#                                                     else( 1 if 'versicolor' == x\n",
    "#                                                     else 2 ))"
   ]
  },
  {
   "cell_type": "markdown",
   "id": "b9b293af-2c5f-4163-983a-83877321d8b8",
   "metadata": {},
   "source": [
    "# x값(예측변수), y값(목표변수) 설정\n",
    "- SVM 에서는 NumPy array 형식의 데이터가 필요"
   ]
  },
  {
   "cell_type": "code",
   "execution_count": 5,
   "id": "ae0b265e-d20e-4d0c-b6ec-a93680314bdc",
   "metadata": {},
   "outputs": [],
   "source": [
    "# 목표변수와 나머지 변수들을 따로 저장\n",
    "\n",
    "x = np.array( df_iris.iloc[: , [2,3]] )\n",
    "y = np.array( df_iris.iloc[:, 5 ] )"
   ]
  },
  {
   "cell_type": "markdown",
   "id": "5be31012-cb1f-422c-b3d8-c77fa8d607b7",
   "metadata": {},
   "source": [
    "# 학습/테스트용 데이터셋 분리\n",
    "- `sklearn.model_selection.train_test_split()`\n",
    "- https://scikit-learn.org/stable/modules/generated/sklearn.model_selection.train_test_split.html"
   ]
  },
  {
   "cell_type": "code",
   "execution_count": 6,
   "id": "98c73276-fb6b-40a9-8997-528ac7f587a9",
   "metadata": {},
   "outputs": [
    {
     "name": "stdout",
     "output_type": "stream",
     "text": [
      "Counter({1: 37, 0: 35, 2: 33})\n",
      "\n",
      "Counter({2: 17, 0: 15, 1: 13})\n"
     ]
    }
   ],
   "source": [
    "# 데이터셋 나누고 라벨 분포 확인\n",
    "x_train, x_test, y_train, y_test  = train_test_split( x, y,\n",
    "                                                      test_size = 0.30,\n",
    "                                                      random_state = 153 )\n",
    "\n",
    "# 라벨별 데이터 분포 확인\n",
    "print( Counter(y_train) )\n",
    "print()\n",
    "print( Counter(y_test) )"
   ]
  },
  {
   "cell_type": "code",
   "execution_count": 7,
   "id": "53683e6f-4520-4b17-be93-c7cb07df0009",
   "metadata": {},
   "outputs": [
    {
     "data": {
      "text/plain": [
       "array([0, 0, 2, 0, 2, 0, 2, 2, 2, 2, 2, 2, 1, 1, 0, 1, 2, 1, 0, 1, 0, 0,\n",
       "       0, 1, 2, 2, 0, 0, 1, 2, 1, 1, 1, 0, 2, 0, 0, 1, 1, 1, 2, 0, 2, 2,\n",
       "       2])"
      ]
     },
     "execution_count": 7,
     "metadata": {},
     "output_type": "execute_result"
    }
   ],
   "source": [
    "y_test"
   ]
  },
  {
   "cell_type": "markdown",
   "id": "dc9b3f93-9026-423b-a7a3-416b4aaebc50",
   "metadata": {},
   "source": [
    "# 모델 생성 및 학습"
   ]
  },
  {
   "cell_type": "markdown",
   "id": "481c7416-1d1d-4324-89d1-e1b7fba6c96c",
   "metadata": {},
   "source": [
    "## LinearSVC 모델 생성\n",
    "- sklearn.svm: Support Vector Machines\n",
    "- https://scikit-learn.org/stable/modules/classes.html#module-sklearn.svm\n",
    "- \n",
    "- `sklearn.svm.SVC()`\n",
    "- https://scikit-learn.org/stable/modules/generated/sklearn.svm.SVC.html"
   ]
  },
  {
   "cell_type": "code",
   "execution_count": 9,
   "id": "d94806cf-846b-4f59-8ced-f03212db7791",
   "metadata": {},
   "outputs": [],
   "source": [
    "model_svm = SVC( kernel = 'linear',\n",
    "                     probability = True )  # ROC 계산을 위한 proba 산출을 위한 옵션"
   ]
  },
  {
   "cell_type": "markdown",
   "id": "1de07361-591a-4e85-9091-4319b0d472e5",
   "metadata": {},
   "source": [
    "## train 데이터로 학습 수행\n",
    "- `.fit()`\n",
    "- https://scikit-learn.org/stable/modules/generated/sklearn.svm.SVC.html#sklearn.svm.SVC.fit"
   ]
  },
  {
   "cell_type": "code",
   "execution_count": 10,
   "id": "f85de841-68b5-4779-bf32-426bdf100671",
   "metadata": {},
   "outputs": [
    {
     "data": {
      "text/plain": [
       "SVC(kernel='linear', probability=True)"
      ]
     },
     "execution_count": 10,
     "metadata": {},
     "output_type": "execute_result"
    }
   ],
   "source": [
    "model_svm.fit(x_train, y_train)"
   ]
  },
  {
   "cell_type": "code",
   "execution_count": 11,
   "id": "35ddea72-1b4a-4cdf-8866-558ef56fa43e",
   "metadata": {},
   "outputs": [
    {
     "data": {
      "text/plain": [
       "array([1])"
      ]
     },
     "execution_count": 11,
     "metadata": {},
     "output_type": "execute_result"
    }
   ],
   "source": [
    "# 새로운 테스트 데이터로 예측하기\n",
    "model_svm.predict( [ [5.1, 0.2] ] )"
   ]
  },
  {
   "cell_type": "markdown",
   "id": "2d19c2a7-7501-4aee-a2e9-340419e21e0e",
   "metadata": {},
   "source": [
    "# 시각화"
   ]
  },
  {
   "cell_type": "markdown",
   "id": "c09190c4-edcb-4d0e-a797-10e5dbaf16cd",
   "metadata": {},
   "source": [
    "- `mlxtend.plotting.plot_decision_regions()`\n",
    "- http://rasbt.github.io/mlxtend/user_guide/plotting/plot_decision_regions/"
   ]
  },
  {
   "cell_type": "code",
   "execution_count": 13,
   "id": "d442fc4a-0faf-463f-91f3-407413cf0929",
   "metadata": {},
   "outputs": [
    {
     "data": {
      "text/plain": [
       "array([[4.1, 1.3],\n",
       "       [5.4, 2.1],\n",
       "       [5.1, 2.4],\n",
       "       [4.6, 1.4],\n",
       "       [6.7, 2.2],\n",
       "       [4.7, 1.6],\n",
       "       [5. , 1.7],\n",
       "       [4.9, 1.5],\n",
       "       [1.7, 0.2],\n",
       "       [1.3, 0.3],\n",
       "       [5. , 1.9],\n",
       "       [4. , 1.2],\n",
       "       [1.6, 0.2],\n",
       "       [1.7, 0.4],\n",
       "       [5.2, 2.3],\n",
       "       [6.9, 2.3],\n",
       "       [6.1, 2.5],\n",
       "       [1.5, 0.1],\n",
       "       [5.6, 2.1],\n",
       "       [4.1, 1.3],\n",
       "       [1.4, 0.1],\n",
       "       [1.6, 0.2],\n",
       "       [5.3, 2.3],\n",
       "       [4.5, 1.7],\n",
       "       [1.9, 0.2],\n",
       "       [6. , 1.8],\n",
       "       [1.7, 0.3],\n",
       "       [4.7, 1.4],\n",
       "       [5.1, 1.6],\n",
       "       [4.4, 1.2],\n",
       "       [3.3, 1. ],\n",
       "       [5.4, 2.3],\n",
       "       [1.6, 0.4],\n",
       "       [1.5, 0.2],\n",
       "       [6.3, 1.8],\n",
       "       [4.9, 1.5],\n",
       "       [5.8, 2.2],\n",
       "       [4.1, 1. ],\n",
       "       [4. , 1.3],\n",
       "       [1.4, 0.2],\n",
       "       [1.4, 0.3],\n",
       "       [3.8, 1.1],\n",
       "       [1.3, 0.4],\n",
       "       [4.8, 1.8],\n",
       "       [6.6, 2.1],\n",
       "       [1.4, 0.2],\n",
       "       [1.4, 0.2],\n",
       "       [1.4, 0.3],\n",
       "       [5.7, 2.1],\n",
       "       [1.3, 0.2],\n",
       "       [1.5, 0.3],\n",
       "       [5.5, 1.8],\n",
       "       [4.7, 1.4],\n",
       "       [3.9, 1.2],\n",
       "       [1.6, 0.6],\n",
       "       [1.4, 0.2],\n",
       "       [4.5, 1.3],\n",
       "       [4.6, 1.3],\n",
       "       [4.4, 1.4],\n",
       "       [1.3, 0.2],\n",
       "       [4.4, 1.4],\n",
       "       [6.1, 1.9],\n",
       "       [5.2, 2. ],\n",
       "       [1.7, 0.5],\n",
       "       [3.6, 1.3],\n",
       "       [5.9, 2.1],\n",
       "       [1.5, 0.2],\n",
       "       [5.1, 1.9],\n",
       "       [4.2, 1.5],\n",
       "       [1.4, 0.1],\n",
       "       [5.6, 1.8],\n",
       "       [6. , 2.5],\n",
       "       [1.6, 0.2],\n",
       "       [4.8, 1.4],\n",
       "       [4.4, 1.3],\n",
       "       [5.7, 2.5],\n",
       "       [3.9, 1.1],\n",
       "       [1.9, 0.4],\n",
       "       [5.6, 2.2],\n",
       "       [5.6, 2.4],\n",
       "       [1.3, 0.3],\n",
       "       [3.7, 1. ],\n",
       "       [3.9, 1.4],\n",
       "       [1.5, 0.4],\n",
       "       [3.5, 1. ],\n",
       "       [1.5, 0.1],\n",
       "       [1.4, 0.2],\n",
       "       [5.1, 1.5],\n",
       "       [4.2, 1.3],\n",
       "       [4.7, 1.5],\n",
       "       [1. , 0.2],\n",
       "       [5.1, 2. ],\n",
       "       [4.3, 1.3],\n",
       "       [1.5, 0.2],\n",
       "       [4.5, 1.5],\n",
       "       [1.3, 0.2],\n",
       "       [3. , 1.1],\n",
       "       [5.5, 2.1],\n",
       "       [4.6, 1.5],\n",
       "       [4.8, 1.8],\n",
       "       [5.6, 1.4],\n",
       "       [6.1, 2.3],\n",
       "       [5. , 2. ],\n",
       "       [1.4, 0.2],\n",
       "       [4.2, 1.2]])"
      ]
     },
     "execution_count": 13,
     "metadata": {},
     "output_type": "execute_result"
    }
   ],
   "source": [
    "x_train"
   ]
  },
  {
   "cell_type": "code",
   "execution_count": 12,
   "id": "90d58649-628c-44ff-883f-2071d47be8d6",
   "metadata": {
    "tags": []
   },
   "outputs": [
    {
     "data": {
      "image/png": "[encoded data removed]",
      "text/plain": [
       "<Figure size 640x480 with 1 Axes>"
      ]
     },
     "metadata": {},
     "output_type": "display_data"
    }
   ],
   "source": [
    "# Plotting decision regions\n",
    "plot_decision_regions( x_train, y_train,\n",
    "                       clf = model_svm, legend=2)\n",
    "\n",
    "# Adding axes annotations\n",
    "plt.xlabel('sepal length [cm]')\n",
    "plt.ylabel('petal length [cm]')\n",
    "plt.title('SVM on Iris')\n",
    "\n",
    "L = plt.legend()\n",
    "L.get_texts()[0].set_text('Setosa')\n",
    "L.get_texts()[1].set_text('versicolor')\n",
    "L.get_texts()[2].set_text('virginica')\n",
    "\n",
    "plt.show()"
   ]
  },
  {
   "cell_type": "code",
   "execution_count": null,
   "id": "fb08aa7b-3f70-4c6f-b174-904f967e1cee",
   "metadata": {
    "tags": []
   },
   "outputs": [],
   "source": [
    "# 마진을 표현하는 선 추가 ( 종속변수가 3개 이상일때는 안먹힘)\n",
    "\n",
    "# 결정 함수 플로팅\n",
    "#ax = plt.gca()\n",
    "#xlim = ax.get_xlim()\n",
    "#ylim = ax.get_ylim()\n",
    "\n",
    "# 모델 평가를위한 그리드 생성\n",
    "#xx = np.linspace(xlim[0], xlim[1], 30)  # 0에서 1까지의 구간을 30개 간격으로 나눈 배열 생성 \n",
    "#yy = np.linspace(ylim[0], ylim[1], 30)\n",
    "#YY, XX = np.meshgrid(yy, xx)\n",
    "#xy = np.vstack([XX.ravel(), YY.ravel()]).T\n",
    "\n",
    "#Z = model_svm.decision_function(xy).reshape(XX.shape)\n",
    "\n",
    "# 결정 경계와 마진\n",
    "#ax.contour(XX, YY, Z, colors='k', levels=[-1, 0, 1], alpha=0.5,\n",
    "#           linestyles=['--', '-', '--'])\n",
    "\n",
    "#plt.show()"
   ]
  },
  {
   "cell_type": "code",
   "execution_count": null,
   "id": "1ce9f5ac-02cc-4379-bf2c-3c1ec667d730",
   "metadata": {},
   "outputs": [],
   "source": []
  },
  {
   "cell_type": "code",
   "execution_count": null,
   "id": "321c13ab-eced-424f-a11f-f2e37db5f253",
   "metadata": {},
   "outputs": [],
   "source": []
  },
  {
   "cell_type": "markdown",
   "id": "abeabf04-3c4f-4a1e-96cd-cf1c0086ceee",
   "metadata": {},
   "source": [
    "# 예측 및 평가"
   ]
  },
  {
   "cell_type": "markdown",
   "id": "f56b1b4e-6292-47aa-bd10-68935cb8d72c",
   "metadata": {},
   "source": [
    "## 학습된 모델로 예측 수행\n",
    "- `.predict()`\n",
    "- https://scikit-learn.org/stable/modules/generated/sklearn.svm.SVC.html#sklearn.svm.SVC.predict"
   ]
  },
  {
   "cell_type": "code",
   "execution_count": null,
   "id": "831335d4-1efc-4d30-bcfe-8b59752e938d",
   "metadata": {
    "tags": []
   },
   "outputs": [],
   "source": [
    "# test 데이터로 라벨 예측\n",
    "y_pred = model_svm.predict( x_test )\n",
    "\n",
    "df_pred_result = pd.DataFrame( {'True' : y_test,\n",
    "                                'Predict' : y_pred,\n",
    "                                'Pred_Result' : y_test == y_pred} )"
   ]
  },
  {
   "cell_type": "code",
   "execution_count": null,
   "id": "76865d5b-c4a2-46c4-b367-20c158a64aa9",
   "metadata": {},
   "outputs": [],
   "source": [
    "df_pred_result"
   ]
  },
  {
   "cell_type": "markdown",
   "id": "4495d9f0-0f7b-4a89-9bf5-40416ba149d1",
   "metadata": {},
   "source": [
    "## 평가"
   ]
  },
  {
   "cell_type": "markdown",
   "id": "0bd8987d-c66c-4d3b-b483-051f3a7fdd97",
   "metadata": {},
   "source": [
    "### Confusion Metrix"
   ]
  },
  {
   "cell_type": "code",
   "execution_count": null,
   "id": "f3a9e82b-54aa-4f03-837a-f1574641fd4f",
   "metadata": {},
   "outputs": [],
   "source": [
    "confusion_matrix(y_test, y_pred)"
   ]
  },
  {
   "cell_type": "code",
   "execution_count": null,
   "id": "5542fd7a-db9c-4e43-b745-8274bb2cc906",
   "metadata": {},
   "outputs": [],
   "source": [
    "pd.crosstab( y_test, y_pred, rownames=['pred'], colnames=['real'] )"
   ]
  },
  {
   "cell_type": "markdown",
   "id": "54c75474-88f1-4a41-b2d8-1236877d8d8d",
   "metadata": {},
   "source": [
    "### 분석 지표\n",
    "- `sklearn.metrics.accuracy_score()`\n",
    "- https://scikit-learn.org/stable/modules/generated/sklearn.metrics.accuracy_score.html\n",
    "- `sklearn.metrics.classification_report()`\n",
    "- https://scikit-learn.org/stable/modules/generated/sklearn.metrics.classification_report.html"
   ]
  },
  {
   "cell_type": "code",
   "execution_count": null,
   "id": "297a4c0c-af29-43ea-9ef4-67ebeffca6f5",
   "metadata": {},
   "outputs": [],
   "source": [
    "# Accuracy\n",
    "model_svm.score( x_test, y_test )"
   ]
  },
  {
   "cell_type": "code",
   "execution_count": null,
   "id": "ca8f4b51-54d2-4ee2-9cb4-713c67391dc2",
   "metadata": {},
   "outputs": [],
   "source": [
    "print( 'Accuracy: ', accuracy_score(y_test, y_pred) )\n",
    "print()\n",
    "\n",
    "print( classification_report(y_test, y_pred, digits = 3) )\n",
    "print()"
   ]
  },
  {
   "cell_type": "markdown",
   "id": "5f666193-77ec-4428-bcd6-5cffcad3227b",
   "metadata": {},
   "source": [
    "### 데이터별 예측 확률\n",
    "- `.predict_proba()`\n",
    "- https://scikit-learn.org/stable/modules/generated/sklearn.tree.DecisionTreeClassifier.html#sklearn.tree.DecisionTreeClassifier.predict_proba"
   ]
  },
  {
   "cell_type": "code",
   "execution_count": null,
   "id": "bd9db6a6-6bd2-4350-98a5-4cfc5a47e5b6",
   "metadata": {},
   "outputs": [],
   "source": [
    "proba = model_svm.predict_proba(x_test)\n",
    "\n",
    "df_proba = pd.DataFrame( proba, columns = model_svm.classes_ )\n",
    "df_proba.head()"
   ]
  },
  {
   "cell_type": "markdown",
   "id": "f73e412c-1018-4a7e-9b34-293a78be1395",
   "metadata": {},
   "source": [
    "### ROC curve / AUC\n",
    "- `sklearn.metrics.roc_curve()`\n",
    "- https://scikit-learn.org/stable/modules/generated/sklearn.metrics.roc_curve.html\n",
    "- `sklearn.metrics.RocCurveDisplay()`\n",
    "- https://scikit-learn.org/stable/modules/generated/sklearn.metrics.RocCurveDisplay.html\n",
    "- `sklearn.metrics.roc_auc_score()`\n",
    "- https://scikit-learn.org/stable/modules/generated/sklearn.metrics.roc_auc_score.html\n",
    "- \n",
    "- [참고] https://scikit-learn.org/stable/auto_examples/model_selection/plot_roc.html"
   ]
  },
  {
   "cell_type": "code",
   "execution_count": null,
   "id": "00bc52ff-5d78-42a3-813c-5bb764921e46",
   "metadata": {},
   "outputs": [],
   "source": [
    "y_test"
   ]
  },
  {
   "cell_type": "code",
   "execution_count": null,
   "id": "697579f3-9ef3-4f54-aab6-acf11765b085",
   "metadata": {},
   "outputs": [],
   "source": [
    "result_0"
   ]
  },
  {
   "cell_type": "code",
   "execution_count": null,
   "id": "c5af8a26-595f-4a9e-88c3-166dab93f520",
   "metadata": {},
   "outputs": [],
   "source": [
    "# 'virginica' 에 대한 AUC 계산을 위해 y_test 의 범주형 리스트를 0과 1로 이원화\n",
    "result_0 = np.where( y_test == 0, 1, 0 )\n",
    "\n",
    "# 'virginica' 에 대한 proba 추출'\n",
    "proba_0 = df_proba[0]\n",
    "\n",
    "# AUC 계산\n",
    "print('AUC: ', roc_auc_score( result_0, proba_0 ) )\n",
    "\n",
    "# ROC curve 출력\n",
    "fpr, tpr, thresholds = roc_curve( y_test, proba_0 , pos_label = 1 )\n",
    "\n",
    "RocCurveDisplay( fpr, tpr).plot()\n",
    "\n",
    "plt.plot( [0,1], [0,1],\n",
    "          label = 'Random')\n",
    "plt.show()"
   ]
  },
  {
   "cell_type": "code",
   "execution_count": null,
   "id": "ef1ce193-d9b2-4c88-b475-660badc2b1cb",
   "metadata": {},
   "outputs": [],
   "source": [
    "# 'virginica' 에 대한 AUC 계산을 위해 y_test 의 범주형 리스트를 0과 1로 이원화\n",
    "result_1 = np.where( y_test == 1, 1, 0 )\n",
    "\n",
    "# 'virginica' 에 대한 proba 추출'\n",
    "proba_1 = df_proba[1]\n",
    "\n",
    "# AUC 계산\n",
    "print('AUC: ', roc_auc_score( result_1, proba_1 ) )\n",
    "\n",
    "# ROC curve 출력\n",
    "fpr, tpr, thresholds = roc_curve( y_test, proba_1 , pos_label = 1 )\n",
    "\n",
    "RocCurveDisplay( fpr, tpr).plot()\n",
    "\n",
    "plt.plot( [0,1], [0,1],\n",
    "          label = 'Random')\n",
    "plt.show()"
   ]
  },
  {
   "cell_type": "code",
   "execution_count": null,
   "id": "69e4208a-a940-43e4-9ec8-a672cc4bcc11",
   "metadata": {},
   "outputs": [],
   "source": [
    "# 'virginica' 에 대한 AUC 계산을 위해 y_test 의 범주형 리스트를 0과 1로 이원화\n",
    "result_2 = np.where( y_test == 2, 1, 0 )\n",
    "\n",
    "# 'virginica' 에 대한 proba 추출'\n",
    "proba_2 = df_proba[2]\n",
    "\n",
    "# AUC 계산\n",
    "print('AUC: ', roc_auc_score( result_2, proba_2 ) )\n",
    "\n",
    "# ROC curve 출력\n",
    "fpr, tpr, thresholds = roc_curve( result_2, proba_2 )\n",
    "\n",
    "RocCurveDisplay( fpr, tpr).plot()\n",
    "\n",
    "plt.plot( [0,1], [0,1],\n",
    "          label = 'Random')\n",
    "plt.show()"
   ]
  },
  {
   "cell_type": "code",
   "execution_count": null,
   "id": "5361749d-f948-4ebb-ada3-dec15bdbe412",
   "metadata": {},
   "outputs": [],
   "source": [
    "pd.DataFrame( {'y_test':y_test,\n",
    "               'proba_0':df_proba[0],\n",
    "               'proba_1':df_proba[1],\n",
    "               'proba_2':df_proba[2]} )."
   ]
  },
  {
   "cell_type": "code",
   "execution_count": null,
   "id": "28d38b29-3c12-418f-b129-096119446d2b",
   "metadata": {},
   "outputs": [],
   "source": []
  },
  {
   "cell_type": "code",
   "execution_count": null,
   "id": "aba2c233-75d8-472c-a176-5f79e01442ab",
   "metadata": {},
   "outputs": [],
   "source": []
  },
  {
   "cell_type": "code",
   "execution_count": null,
   "id": "1366acaa-e626-466d-ba6b-e00b5da37a31",
   "metadata": {},
   "outputs": [],
   "source": []
  },
  {
   "cell_type": "code",
   "execution_count": null,
   "id": "aedca51e-9a03-431a-aca7-9eb520dc8b14",
   "metadata": {},
   "outputs": [],
   "source": []
  },
  {
   "cell_type": "code",
   "execution_count": null,
   "id": "6b312ba2-af9c-48ec-8194-ead0c7ded4fa",
   "metadata": {},
   "outputs": [],
   "source": []
  },
  {
   "cell_type": "code",
   "execution_count": null,
   "id": "33577721-4eed-4c88-80db-6175b835375c",
   "metadata": {},
   "outputs": [],
   "source": []
  },
  {
   "cell_type": "code",
   "execution_count": null,
   "id": "ca4d8481-7f27-476a-8e5f-660800037c60",
   "metadata": {},
   "outputs": [],
   "source": []
  },
  {
   "cell_type": "code",
   "execution_count": null,
   "id": "9a92c7af-e34b-4436-81c0-f007ac53c1ce",
   "metadata": {},
   "outputs": [],
   "source": []
  },
  {
   "cell_type": "code",
   "execution_count": null,
   "id": "e425226c-088e-43bb-9ac7-7781c66c1c17",
   "metadata": {},
   "outputs": [],
   "source": []
  },
  {
   "cell_type": "code",
   "execution_count": null,
   "id": "cef9f69c-5e24-4220-9345-cd1c690076d4",
   "metadata": {},
   "outputs": [],
   "source": []
  },
  {
   "cell_type": "code",
   "execution_count": null,
   "id": "d0e7bd76-773b-4412-aece-856e6a55d90e",
   "metadata": {},
   "outputs": [],
   "source": []
  },
  {
   "cell_type": "code",
   "execution_count": null,
   "id": "cd751a40-4481-4d1a-83e3-93355240473e",
   "metadata": {},
   "outputs": [],
   "source": []
  },
  {
   "cell_type": "code",
   "execution_count": null,
   "id": "219d43e2-7d6e-4d5e-9f40-d96005cc77f6",
   "metadata": {},
   "outputs": [],
   "source": []
  },
  {
   "cell_type": "code",
   "execution_count": null,
   "id": "1b69aba1-9cab-4dc4-8682-ebf6e6335025",
   "metadata": {},
   "outputs": [],
   "source": []
  },
  {
   "cell_type": "code",
   "execution_count": null,
   "id": "1f7b9ecf-2049-4203-a4dd-1d2d9e547ad6",
   "metadata": {},
   "outputs": [],
   "source": [
    "from sklearn.multiclass import OneVsRestClassifier\n",
    "from scipy import interp\n",
    "from itertools import cycle"
   ]
  },
  {
   "cell_type": "code",
   "execution_count": null,
   "id": "1a5cd5fb-2e29-46b2-9eee-aeca1420f2d8",
   "metadata": {},
   "outputs": [],
   "source": [
    "# Binarize the output\n",
    "y = label_binarize(y, classes=[0, 1, 2])\n",
    "n_classes = y.shape[1]\n",
    "\n",
    "# Add noisy features to make the problem harder\n",
    "random_state = np.random.RandomState(0)\n",
    "n_samples, n_features = x.shape\n",
    "X = np.c_[x, random_state.randn(n_samples, 200 * n_features)]\n",
    "\n",
    "# shuffle and split training and test sets\n",
    "X_train, X_test, y_train, y_test = train_test_split(X, y, test_size=0.3,\n",
    "                                                    random_state=153)\n",
    "\n",
    "# Learn to predict each class against the other\n",
    "classifier = OneVsRestClassifier(svm.SVC(kernel='linear', probability=True,\n",
    "                                 random_state=random_state))\n",
    "y_score = classifier.fit(X_train, y_train).decision_function(X_test)\n",
    "\n",
    "# Compute ROC curve and ROC area for each class\n",
    "fpr = dict()\n",
    "tpr = dict()\n",
    "roc_auc = dict()\n",
    "for i in range(n_classes):\n",
    "    fpr[i], tpr[i], _ = roc_curve(y_test[:, i], y_score[:, i])\n",
    "    roc_auc[i] = auc(fpr[i], tpr[i])\n",
    "\n",
    "# Compute micro-average ROC curve and ROC area\n",
    "fpr[\"micro\"], tpr[\"micro\"], _ = roc_curve(y_test.ravel(), y_score.ravel())\n",
    "roc_auc[\"micro\"] = auc(fpr[\"micro\"], tpr[\"micro\"])"
   ]
  },
  {
   "cell_type": "code",
   "execution_count": null,
   "id": "9e0765a1-2909-47cd-a323-aef319e40de8",
   "metadata": {},
   "outputs": [],
   "source": [
    "# First aggregate all false positive rates\n",
    "all_fpr = np.unique(np.concatenate([fpr[i] for i in range(n_classes)]))\n",
    "\n",
    "# Then interpolate all ROC curves at this points\n",
    "mean_tpr = np.zeros_like(all_fpr)\n",
    "for i in range(n_classes):\n",
    "    mean_tpr += interp(all_fpr, fpr[i], tpr[i])\n",
    "\n",
    "# Finally average it and compute AUC\n",
    "mean_tpr /= n_classes\n",
    "\n",
    "fpr[\"macro\"] = all_fpr\n",
    "tpr[\"macro\"] = mean_tpr\n",
    "roc_auc[\"macro\"] = auc(fpr[\"macro\"], tpr[\"macro\"])\n",
    "\n",
    "# Plot all ROC curves\n",
    "plt.figure()\n",
    "plt.plot(fpr[\"micro\"], tpr[\"micro\"],\n",
    "         label='micro-average ROC curve (area = {0:0.2f})'\n",
    "               ''.format(roc_auc[\"micro\"]),\n",
    "         color='deeppink', linestyle=':', linewidth=4)\n",
    "\n",
    "plt.plot(fpr[\"macro\"], tpr[\"macro\"],\n",
    "         label='macro-average ROC curve (area = {0:0.2f})'\n",
    "               ''.format(roc_auc[\"macro\"]),\n",
    "         color='navy', linestyle=':', linewidth=4)\n",
    "\n",
    "colors = cycle(['aqua', 'darkorange', 'cornflowerblue'])\n",
    "for i, color in zip(range(n_classes), colors):\n",
    "    plt.plot(fpr[i], tpr[i], color=color, lw=2,\n",
    "             label='ROC curve of class {0} (area = {1:0.2f})'\n",
    "             ''.format(i, roc_auc[i]))\n",
    "\n",
    "plt.plot([0, 1], [0, 1], 'k--', lw=2)\n",
    "plt.xlim([0.0, 1.0])\n",
    "plt.ylim([0.0, 1.05])\n",
    "plt.xlabel('False Positive Rate')\n",
    "plt.ylabel('True Positive Rate')\n",
    "plt.title('Some extension of Receiver operating characteristic to multi-class')\n",
    "plt.legend(loc=\"lower right\")\n",
    "plt.show()"
   ]
  },
  {
   "cell_type": "code",
   "execution_count": null,
   "id": "89423436-f053-4bca-9b49-c22f6aac812d",
   "metadata": {},
   "outputs": [],
   "source": []
  },
  {
   "cell_type": "code",
   "execution_count": null,
   "id": "c6ca6cf6-dc36-4b9d-9baa-fd36392a24e5",
   "metadata": {},
   "outputs": [],
   "source": []
  },
  {
   "cell_type": "code",
   "execution_count": null,
   "id": "372de35e-292e-4e39-905d-89c4f14df8ec",
   "metadata": {},
   "outputs": [],
   "source": []
  },
  {
   "cell_type": "code",
   "execution_count": null,
   "id": "7fe538fa-21a0-44f4-be5d-a80e3eef7b6c",
   "metadata": {},
   "outputs": [],
   "source": [
    "https://moons08.github.io/datascience/classification_score_roc_auc/\n",
    "\n",
    "from sklearn.datasets import make_classification\n",
    "from sklearn.metrics import roc_curve, auc, roc_auc_score\n",
    "\n",
    "from sklearn.naive_bayes import GaussianNB\n",
    "from sklearn.multiclass import OneVsRestClassifier\n",
    "from sklearn.preprocessing import label_binarize\n",
    "from sklearn.model_selection import train_test_split\n",
    "import matplotlib.pyplot as plt\n",
    "\n",
    "# make sample data\n",
    "n_classes = 3\n",
    "X, y = make_classification(n_samples=200, n_features=5,\n",
    "                           n_informative=3, n_redundant=2\n",
    "                           , n_clusters_per_class=2\n",
    "                           , n_classes=n_classes\n",
    "                           , weights=[0.3, 0.2, 0.5]\n",
    "                           , random_state=99)\n",
    "\n",
    "y = label_binarize(y, classes=[0,1,2])\n",
    "\n",
    "# split data\n",
    "X_train, X_test, y_train, y_test = train_test_split(X, y, test_size=0.33)\n",
    "\n",
    "# classifier\n",
    "clf = OneVsRestClassifier(GaussianNB())\n",
    "clf.fit(X_train, y_train)\n",
    "y_score = clf.predict_proba(X_test)\n",
    "  # 나이브베이즈 모델은 predict_proba 메서드로 각 클래스별 probability를 구할 수 있습니다.\n",
    "\n",
    "# ROC & AUC\n",
    "fpr = dict()\n",
    "tpr = dict()\n",
    "roc_auc = dict()\n",
    "for i in range(n_classes):\n",
    "    fpr[i], tpr[i], _ = roc_curve(y_test[:, i], y_score[:, i])\n",
    "    roc_auc[i] = auc(fpr[i], tpr[i])\n",
    "\n",
    "# Plot of a ROC curve for a specific class\n",
    "plt.figure(figsize=(15, 5))\n",
    "for idx, i in enumerate(range(n_classes)):\n",
    "    plt.subplot(131+idx)\n",
    "    plt.plot(fpr[i], tpr[i], label='ROC curve (area = %0.2f)' % roc_auc[i])\n",
    "    plt.plot([0, 1], [0, 1], 'k--')\n",
    "    plt.xlim([0.0, 1.0])\n",
    "    plt.ylim([0.0, 1.05])\n",
    "    plt.xlabel('False Positive Rate')\n",
    "    plt.ylabel('True Positive Rate')\n",
    "    plt.title('Class %0.0f' % idx)\n",
    "    plt.legend(loc=\"lower right\")\n",
    "plt.show()\n",
    "\n",
    "print(\"roc_auc_score: \", roc_auc_score(y_test, y_score, multi_class='raise'))"
   ]
  },
  {
   "cell_type": "code",
   "execution_count": null,
   "id": "9b6cb2f9-6b74-4719-88c3-e1288977122a",
   "metadata": {},
   "outputs": [],
   "source": []
  },
  {
   "cell_type": "code",
   "execution_count": null,
   "id": "0526b248-195a-4c77-8d34-22e567c61d61",
   "metadata": {},
   "outputs": [],
   "source": []
  },
  {
   "cell_type": "code",
   "execution_count": null,
   "id": "f1ecbe94-b432-4238-bb2a-382bd098dd8f",
   "metadata": {},
   "outputs": [],
   "source": []
  },
  {
   "cell_type": "code",
   "execution_count": null,
   "id": "7198752f-77a6-4846-b373-ec96aedc97fa",
   "metadata": {},
   "outputs": [],
   "source": []
  },
  {
   "cell_type": "code",
   "execution_count": null,
   "id": "6b6990ad-cd4f-44ff-927d-605acb158bce",
   "metadata": {},
   "outputs": [],
   "source": []
  },
  {
   "cell_type": "code",
   "execution_count": null,
   "id": "9784be41-4937-4470-b10a-c1ec2d4efbed",
   "metadata": {},
   "outputs": [],
   "source": []
  },
  {
   "cell_type": "code",
   "execution_count": null,
   "id": "abdea737-e2a9-4ecd-b683-2a79f540a7eb",
   "metadata": {},
   "outputs": [],
   "source": []
  },
  {
   "cell_type": "code",
   "execution_count": null,
   "id": "ee43ed97-eeed-440d-aefe-9470c8d1e96f",
   "metadata": {},
   "outputs": [],
   "source": []
  },
  {
   "cell_type": "code",
   "execution_count": null,
   "id": "485140d8-c755-4f2e-bfd3-b3c92ebc938e",
   "metadata": {},
   "outputs": [],
   "source": []
  },
  {
   "cell_type": "code",
   "execution_count": null,
   "id": "fecd3d9d-4b8c-487e-9406-bb93657c23c7",
   "metadata": {},
   "outputs": [],
   "source": []
  },
  {
   "cell_type": "code",
   "execution_count": null,
   "id": "70d66b71-379a-4da2-b9ed-9d68194b476b",
   "metadata": {},
   "outputs": [],
   "source": []
  },
  {
   "cell_type": "code",
   "execution_count": null,
   "id": "2bf4a334-0329-4c6c-bd6e-2b3b734d99f8",
   "metadata": {},
   "outputs": [],
   "source": []
  },
  {
   "cell_type": "code",
   "execution_count": null,
   "id": "b93725ac-5381-43ec-84e6-80d507f23893",
   "metadata": {},
   "outputs": [],
   "source": []
  },
  {
   "cell_type": "code",
   "execution_count": null,
   "id": "bdc33059-c4e2-4fda-8128-4cff235a7558",
   "metadata": {},
   "outputs": [],
   "source": []
  },
  {
   "cell_type": "code",
   "execution_count": null,
   "id": "52f557eb-51d5-4667-abf7-15e60b617234",
   "metadata": {},
   "outputs": [],
   "source": []
  },
  {
   "cell_type": "code",
   "execution_count": null,
   "id": "6c51dc58-d5b8-4cbc-a5ca-462d0bfc8e6c",
   "metadata": {},
   "outputs": [],
   "source": []
  },
  {
   "cell_type": "code",
   "execution_count": null,
   "id": "f9438acb-2aa4-4832-847a-37b5e84542b3",
   "metadata": {},
   "outputs": [],
   "source": []
  },
  {
   "cell_type": "code",
   "execution_count": null,
   "id": "f3254add-eeca-478d-9736-b6cf9ce2a402",
   "metadata": {},
   "outputs": [],
   "source": []
  },
  {
   "cell_type": "code",
   "execution_count": null,
   "id": "2534406e-4969-4684-980e-e81c98ae1aa2",
   "metadata": {},
   "outputs": [],
   "source": []
  },
  {
   "cell_type": "code",
   "execution_count": null,
   "id": "72cde19d-bba9-4ac9-b3cf-6280ebdea00e",
   "metadata": {},
   "outputs": [],
   "source": []
  },
  {
   "cell_type": "code",
   "execution_count": null,
   "id": "57a30d35-53c2-47c9-9474-89a20f5c2f02",
   "metadata": {},
   "outputs": [],
   "source": []
  },
  {
   "cell_type": "code",
   "execution_count": null,
   "id": "b88e127e-0fc4-4e79-b134-21763221e5f3",
   "metadata": {},
   "outputs": [],
   "source": []
  }
 ],
 "metadata": {
  "kernelspec": {
   "display_name": "Python 3 (ipykernel)",
   "language": "python",
   "name": "python3"
  },
  "language_info": {
   "codemirror_mode": {
    "name": "ipython",
    "version": 3
   },
   "file_extension": ".py",
   "mimetype": "text/x-python",
   "name": "python",
   "nbconvert_exporter": "python",
   "pygments_lexer": "ipython3",
   "version": "3.8.11"
  },
  "toc-autonumbering": true
 },
 "nbformat": 4,
 "nbformat_minor": 5
}
