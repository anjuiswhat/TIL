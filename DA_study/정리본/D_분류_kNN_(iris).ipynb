{
 "cells": [
  {
   "cell_type": "markdown",
   "id": "89931e24-28cb-4f34-b711-50d2eeb8c25c",
   "metadata": {
    "tags": []
   },
   "source": [
    "## - 불러올 패키지 목록"
   ]
  },
  {
   "cell_type": "code",
   "execution_count": 1,
   "id": "86f9fcd2-3c10-416e-a0c0-e061f8bcf26a",
   "metadata": {},
   "outputs": [],
   "source": [
    "# 파이썬 기본 패키지\n",
    "import math  # 수학 함수 패키지\n",
    "import itertools  # Functions creating iterators for efficient looping\n",
    "\n",
    "# 데이터 핸들링을 위한 패키지\n",
    "import numpy as np\n",
    "import pandas as pd\n",
    "\n",
    "# statsmodels 패키지\n",
    "from statsmodels.api import *\n",
    "from statsmodels.formula.api import *\n",
    "from statsmodels.stats.api import *\n",
    "from statsmodels.stats.proportion import *\n",
    "from statsmodels.stats.diagnostic import *\n",
    "from statsmodels.stats.weightstats import *\n",
    "from statsmodels.stats.outliers_influence import *  # 다중공선성 확인 관련 패키지\n",
    "from statsmodels.multivariate.pca import PCA as pca  # 대문자로 사용할 경우 sklearn 의 PCA와 겹침\n",
    "\n",
    "# 시계열 관련 statsmodels 패키지\n",
    "from statsmodels.tsa.api import *\n",
    "from statsmodels.tsa.ar_model import *\n",
    "from statsmodels.tsa.arima.model import *\n",
    "from statsmodels.tsa.arima_process import *\n",
    "from statsmodels.tsa.statespace import *\n",
    "from statsmodels.graphics.api import *\n",
    "from statsmodels.graphics.tsaplots import *\n",
    "\n",
    "# SciPy 패키지\n",
    "import scipy as sp\n",
    "import scipy.stats as stats  # 통계 분석을 위한 패키지\n",
    "from scipy.cluster.hierarchy import *  # 계층적 군집 분석을 위한 패키지\n",
    "\n",
    "# pingouin 패키지\n",
    "import pingouin as pg\n",
    "\n",
    "# scikit-learn 패키지\n",
    "from sklearn.preprocessing import *  # 데이터 전처리를 위한 패키지\n",
    "from sklearn.feature_selection import *  # 알고리즘에 큰 영향을 미치는 feature를 우선순위대로 선택하는 기능 제공\n",
    "from sklearn.model_selection import *  # 데이터 분리, 검증 및 파라미터 튜닝을 위한 패키지\n",
    "from sklearn.metrics import *  # 모델에 대한 다양한 성능 평가를 위한 패키지\n",
    "from sklearn.linear_model import *    # 선형 회귀 분석을 위한 패키지 (로지스틱 회귀 포함)\n",
    "from sklearn.cluster import *  # 비지도 군집화 알고리즘 제공\n",
    "from sklearn.tree import *  # 의사결정나무 알고리즘 제공\n",
    "from sklearn.ensemble import *  # 앙상블 알고리즘 제공\n",
    "from sklearn.neighbors import *  # kNN 알고리즘 제공\n",
    "from sklearn.svm import *  # 서포트 벡터 머신 알고리즘 제공\n",
    "from sklearn.mixture import *  # 혼합분포군집(GMM 등) 알고리즘 제공\n",
    "from sklearn.decomposition import *  # 차원축소 알고리즘 제공\n",
    "from sklearn.multiclass import OneVsRestClassifier  # multiclass 분류기 알고리즘 제공\n",
    "\n",
    "# mlxtend 패키지\n",
    "from mlxtend.preprocessing import *  # 연관분석에 필요한 트랜잭션 전처리 알고리즘 포함\n",
    "from mlxtend.frequent_patterns import *  # 연관분석에 사용되는 알고리즘 포함 \n",
    "from mlxtend.plotting import plot_decision_regions\n",
    "from mlxtend.feature_selection import SequentialFeatureSelector as SFS  # 변수선택 알고리즘 포함\n",
    "from mlxtend.plotting import plot_sequential_feature_selection as plot_sfs\n",
    "\n",
    "# missingno 패키지 (데이터 전처리 전 결측치 확인)\n",
    "import missingno as msno\n",
    "\n",
    "# label별 데이터 카운트를 위한 모듈\n",
    "from collections import Counter  # https://docs.python.org/3/library/collections.html\n",
    "\n",
    "# 시각화를 위한 패키지\n",
    "import seaborn as sb\n",
    "import matplotlib.pyplot as plt\n",
    "import matplotlib.cm as cm  # 내장 colormap, colormap 처리 유틸리티\n",
    "from matplotlib.colors import ListedColormap  # colors and colormaps\n",
    "from mlxtend.plotting import plot_decision_regions\n",
    "%matplotlib inline\n",
    "# %matplotlib inline 의 목적은 plt.show()함수가 호출되지 않은 경우에도 matplotlib 다이어그램을 렌더링하는 것이다.\n",
    "# 그러나 현재 업데이트된 버전의 주피터 노트북 버전에서는 %matplotlib inline 를 사용하지 않더라도 Matplotlib 다이어그램을 개체로 표현한다.\n",
    "# 따라서 굳이 필요하지는 않다. 그러나 코드를 깨끗하게 유지하고 자신이 만든 플롯을 호출하기 위해 여전히 관례적으로 권장된다.\n",
    "\n",
    "# 경고 메시지 무시\n",
    "import warnings\n",
    "warnings.filterwarnings('ignore')\n",
    "\n",
    "# 그래프 스타일 서식 지정\n",
    "plt.style.use('default')\n",
    "\n",
    "# 한글 폰트 설정\n",
    "plt.rc('font', family='Malgun Gothic')\n",
    "\n",
    "# 그래프 축의 음수 표현 오류 방지\n",
    "plt.rcParams['axes.unicode_minus'] = False\n",
    "#\n",
    "#"
   ]
  },
  {
   "cell_type": "markdown",
   "id": "0cb5d24e-5af5-41fd-b305-dde4ce572bc0",
   "metadata": {
    "tags": []
   },
   "source": [
    "# Dataset 불러오기 및 data 정보 확인"
   ]
  },
  {
   "cell_type": "markdown",
   "id": "be0b779b-1b44-48ea-a62a-143c9591c31d",
   "metadata": {},
   "source": [
    "## 데이터 불러오기"
   ]
  },
  {
   "cell_type": "code",
   "execution_count": 2,
   "id": "7f3ed3be-b604-43d2-979e-2ed83e343a5a",
   "metadata": {},
   "outputs": [
    {
     "data": {
      "text/html": [
       "<div>\n",
       "<style scoped>\n",
       "    .dataframe tbody tr th:only-of-type {\n",
       "        vertical-align: middle;\n",
       "    }\n",
       "\n",
       "    .dataframe tbody tr th {\n",
       "        vertical-align: top;\n",
       "    }\n",
       "\n",
       "    .dataframe thead th {\n",
       "        text-align: right;\n",
       "    }\n",
       "</style>\n",
       "<table border=\"1\" class=\"dataframe\">\n",
       "  <thead>\n",
       "    <tr style=\"text-align: right;\">\n",
       "      <th></th>\n",
       "      <th>Sepal.Length</th>\n",
       "      <th>Sepal.Width</th>\n",
       "      <th>Petal.Length</th>\n",
       "      <th>Petal.Width</th>\n",
       "      <th>Species</th>\n",
       "    </tr>\n",
       "  </thead>\n",
       "  <tbody>\n",
       "    <tr>\n",
       "      <th>1</th>\n",
       "      <td>5.1</td>\n",
       "      <td>3.5</td>\n",
       "      <td>1.4</td>\n",
       "      <td>0.2</td>\n",
       "      <td>setosa</td>\n",
       "    </tr>\n",
       "    <tr>\n",
       "      <th>2</th>\n",
       "      <td>4.9</td>\n",
       "      <td>3.0</td>\n",
       "      <td>1.4</td>\n",
       "      <td>0.2</td>\n",
       "      <td>setosa</td>\n",
       "    </tr>\n",
       "    <tr>\n",
       "      <th>3</th>\n",
       "      <td>4.7</td>\n",
       "      <td>3.2</td>\n",
       "      <td>1.3</td>\n",
       "      <td>0.2</td>\n",
       "      <td>setosa</td>\n",
       "    </tr>\n",
       "    <tr>\n",
       "      <th>4</th>\n",
       "      <td>4.6</td>\n",
       "      <td>3.1</td>\n",
       "      <td>1.5</td>\n",
       "      <td>0.2</td>\n",
       "      <td>setosa</td>\n",
       "    </tr>\n",
       "    <tr>\n",
       "      <th>5</th>\n",
       "      <td>5.0</td>\n",
       "      <td>3.6</td>\n",
       "      <td>1.4</td>\n",
       "      <td>0.2</td>\n",
       "      <td>setosa</td>\n",
       "    </tr>\n",
       "    <tr>\n",
       "      <th>...</th>\n",
       "      <td>...</td>\n",
       "      <td>...</td>\n",
       "      <td>...</td>\n",
       "      <td>...</td>\n",
       "      <td>...</td>\n",
       "    </tr>\n",
       "    <tr>\n",
       "      <th>146</th>\n",
       "      <td>6.7</td>\n",
       "      <td>3.0</td>\n",
       "      <td>5.2</td>\n",
       "      <td>2.3</td>\n",
       "      <td>virginica</td>\n",
       "    </tr>\n",
       "    <tr>\n",
       "      <th>147</th>\n",
       "      <td>6.3</td>\n",
       "      <td>2.5</td>\n",
       "      <td>5.0</td>\n",
       "      <td>1.9</td>\n",
       "      <td>virginica</td>\n",
       "    </tr>\n",
       "    <tr>\n",
       "      <th>148</th>\n",
       "      <td>6.5</td>\n",
       "      <td>3.0</td>\n",
       "      <td>5.2</td>\n",
       "      <td>2.0</td>\n",
       "      <td>virginica</td>\n",
       "    </tr>\n",
       "    <tr>\n",
       "      <th>149</th>\n",
       "      <td>6.2</td>\n",
       "      <td>3.4</td>\n",
       "      <td>5.4</td>\n",
       "      <td>2.3</td>\n",
       "      <td>virginica</td>\n",
       "    </tr>\n",
       "    <tr>\n",
       "      <th>150</th>\n",
       "      <td>5.9</td>\n",
       "      <td>3.0</td>\n",
       "      <td>5.1</td>\n",
       "      <td>1.8</td>\n",
       "      <td>virginica</td>\n",
       "    </tr>\n",
       "  </tbody>\n",
       "</table>\n",
       "<p>150 rows × 5 columns</p>\n",
       "</div>"
      ],
      "text/plain": [
       "     Sepal.Length  Sepal.Width  Petal.Length  Petal.Width    Species\n",
       "1             5.1          3.5           1.4          0.2     setosa\n",
       "2             4.9          3.0           1.4          0.2     setosa\n",
       "3             4.7          3.2           1.3          0.2     setosa\n",
       "4             4.6          3.1           1.5          0.2     setosa\n",
       "5             5.0          3.6           1.4          0.2     setosa\n",
       "..            ...          ...           ...          ...        ...\n",
       "146           6.7          3.0           5.2          2.3  virginica\n",
       "147           6.3          2.5           5.0          1.9  virginica\n",
       "148           6.5          3.0           5.2          2.0  virginica\n",
       "149           6.2          3.4           5.4          2.3  virginica\n",
       "150           5.9          3.0           5.1          1.8  virginica\n",
       "\n",
       "[150 rows x 5 columns]"
      ]
     },
     "execution_count": 2,
     "metadata": {},
     "output_type": "execute_result"
    }
   ],
   "source": [
    "# 분석할 데이터 불러오기 / 데이터프레임 생성\n",
    "df_iris = pd.read_csv(r'C:\\Users\\Boanerges\\GitHub\\TIL\\rawdata\\iris.csv',\n",
    "                      index_col = 'Unnamed: 0')\n",
    "\n",
    "df_iris"
   ]
  },
  {
   "cell_type": "raw",
   "id": "877b5ef5-ef82-4575-97a2-3e22b5e773fc",
   "metadata": {},
   "source": [
    "# 문자로 된 범주형 데이터를 숫자로 변환한 컬럼 추가\n",
    "df_iris['Species_No'] = df_iris['Species'].apply(lambda x: 0 if 'setosa' == x \n",
    "                                                     else( 1 if 'versicolor' == x\n",
    "                                                     else 2 ))\n",
    "\n",
    "df_iris"
   ]
  },
  {
   "cell_type": "markdown",
   "id": "68bceac8-446f-48d4-a6b1-b2c06ddec2f9",
   "metadata": {},
   "source": [
    "## data 정보 확인"
   ]
  },
  {
   "cell_type": "code",
   "execution_count": 3,
   "id": "872e0ad7-f2fd-4c34-a494-2320f00f82f4",
   "metadata": {},
   "outputs": [
    {
     "name": "stdout",
     "output_type": "stream",
     "text": [
      "<class 'pandas.core.frame.DataFrame'>\n",
      "Int64Index: 150 entries, 1 to 150\n",
      "Data columns (total 5 columns):\n",
      " #   Column        Non-Null Count  Dtype  \n",
      "---  ------        --------------  -----  \n",
      " 0   Sepal.Length  150 non-null    float64\n",
      " 1   Sepal.Width   150 non-null    float64\n",
      " 2   Petal.Length  150 non-null    float64\n",
      " 3   Petal.Width   150 non-null    float64\n",
      " 4   Species       150 non-null    object \n",
      "dtypes: float64(4), object(1)\n",
      "memory usage: 7.0+ KB\n"
     ]
    }
   ],
   "source": [
    "df_iris.info()"
   ]
  },
  {
   "cell_type": "markdown",
   "id": "b9b293af-2c5f-4163-983a-83877321d8b8",
   "metadata": {},
   "source": [
    "# x값(예측변수), y값(목표변수) 설정"
   ]
  },
  {
   "cell_type": "code",
   "execution_count": 4,
   "id": "ae0b265e-d20e-4d0c-b6ec-a93680314bdc",
   "metadata": {},
   "outputs": [],
   "source": [
    "# 목표변수와 나머지 변수들을 따로 저장\n",
    "x = df_iris.iloc[: , 0:4 ]\n",
    "y = df_iris.iloc[:, 4 ]"
   ]
  },
  {
   "cell_type": "markdown",
   "id": "5be31012-cb1f-422c-b3d8-c77fa8d607b7",
   "metadata": {},
   "source": [
    "# 학습/테스트용 데이터셋 분리\n",
    "- `sklearn.model_selection.train_test_split( *arrays, test_size=None, train_size=None, random_state=None, shuffle=True, stratify=None )`  \n",
    "https://scikit-learn.org/stable/modules/generated/sklearn.model_selection.train_test_split.html"
   ]
  },
  {
   "cell_type": "code",
   "execution_count": 5,
   "id": "98c73276-fb6b-40a9-8997-528ac7f587a9",
   "metadata": {},
   "outputs": [
    {
     "name": "stdout",
     "output_type": "stream",
     "text": [
      "Counter({'virginica': 39, 'setosa': 34, 'versicolor': 32})\n",
      "\n",
      "Counter({'versicolor': 18, 'setosa': 16, 'virginica': 11})\n"
     ]
    }
   ],
   "source": [
    "# 데이터셋 나누고 라벨 분포 확인\n",
    "x_train, x_test, y_train, y_test  = train_test_split( x, y,\n",
    "                                                      test_size = 0.3,\n",
    "                                                      random_state = 0 )\n",
    "\n",
    "# 라벨별 데이터 분포 확인\n",
    "print( Counter(y_train) )\n",
    "print()\n",
    "print( Counter(y_test) )"
   ]
  },
  {
   "cell_type": "markdown",
   "id": "dc9b3f93-9026-423b-a7a3-416b4aaebc50",
   "metadata": {},
   "source": [
    "# kNN 모델 생성 및 군집화 수행\n",
    "\n",
    "- `sklearn.neighbors.KNeighborsClassifier( n_neighbors=5, *, weights='uniform', algorithm='auto', leaf_size=30, p=2, metric='minkowski', metric_params=None, n_jobs=None, **kwargs )`  \n",
    "https://scikit-learn.org/stable/modules/generated/sklearn.neighbors.KNeighborsClassifier.html"
   ]
  },
  {
   "cell_type": "markdown",
   "id": "5ed49991-2e0b-4cc5-bf34-71cb120bef28",
   "metadata": {},
   "source": [
    "## 초기 k값 선정"
   ]
  },
  {
   "cell_type": "code",
   "execution_count": 6,
   "id": "e5467a9c-c4a4-4967-8c3d-bed2d699b609",
   "metadata": {},
   "outputs": [
    {
     "name": "stdout",
     "output_type": "stream",
     "text": [
      "k= 2 일 경우: Accuracy:  0.9533\n",
      "k= 3 일 경우: Accuracy:  0.9667\n",
      "k= 4 일 경우: Accuracy:  0.9667\n",
      "k= 5 일 경우: Accuracy:  0.9667\n",
      "k= 6 일 경우: Accuracy:  0.9667\n",
      "k= 7 일 경우: Accuracy:  0.9667\n",
      "k= 8 일 경우: Accuracy:  0.9667\n",
      "k= 9 일 경우: Accuracy:  0.9733\n",
      "k= 10 일 경우: Accuracy:  0.9667\n",
      "k= 11 일 경우: Accuracy:  0.9667\n",
      "k= 12 일 경우: Accuracy:  0.9733\n",
      "k= 13 일 경우: Accuracy:  0.98\n",
      "k= 14 일 경우: Accuracy:  0.9733\n",
      "k= 15 일 경우: Accuracy:  0.9733\n",
      "k= 16 일 경우: Accuracy:  0.9733\n",
      "k= 17 일 경우: Accuracy:  0.9733\n",
      "k= 18 일 경우: Accuracy:  0.98\n",
      "k= 19 일 경우: Accuracy:  0.9733\n",
      "k= 20 일 경우: Accuracy:  0.98\n",
      "k= 21 일 경우: Accuracy:  0.9667\n",
      "k= 22 일 경우: Accuracy:  0.9667\n",
      "k= 23 일 경우: Accuracy:  0.9733\n",
      "k= 24 일 경우: Accuracy:  0.96\n",
      "k= 25 일 경우: Accuracy:  0.9667\n",
      "k= 26 일 경우: Accuracy:  0.96\n",
      "k= 27 일 경우: Accuracy:  0.9667\n",
      "k= 28 일 경우: Accuracy:  0.9533\n",
      "k= 29 일 경우: Accuracy:  0.9533\n"
     ]
    },
    {
     "data": {
      "image/png": "[encoded data removed]",
      "text/plain": [
       "<Figure size 640x480 with 1 Axes>"
      ]
     },
     "metadata": {},
     "output_type": "display_data"
    }
   ],
   "source": [
    "accuracy = list()\n",
    "\n",
    "for k in list(range(2,30)):\n",
    "    score = cross_val_score( KNeighborsClassifier( n_neighbors=k ),\n",
    "                             x, y,\n",
    "                             scoring = 'accuracy',\n",
    "                             cv = 10 ).mean()\n",
    "    accuracy.append(score)\n",
    "    print( 'k=',k,'일 경우:', 'Accuracy: ', score.round(4) )\n",
    "    \n",
    "# k에 따른 inertia의 변화를 확인하여 그래프가 급격히 변하는 지점으로 k값 선정\n",
    "plt.plot(range(2,30), accuracy, '-o')\n",
    "plt.xlabel('Number of Clusters (k)')\n",
    "plt.ylabel('Distortion')\n",
    "plt.show()"
   ]
  },
  {
   "cell_type": "markdown",
   "id": "72baf325-3a0d-4c11-9379-bd42d1443523",
   "metadata": {},
   "source": [
    "## 선정된 k값 모델로 모델 적합 및 분류 수행"
   ]
  },
  {
   "cell_type": "code",
   "execution_count": 7,
   "id": "5a6368cc-2674-4e0f-8078-cf8316f87712",
   "metadata": {},
   "outputs": [
    {
     "data": {
      "text/plain": [
       "array(['setosa', 'versicolor', 'virginica'], dtype=object)"
      ]
     },
     "execution_count": 7,
     "metadata": {},
     "output_type": "execute_result"
    }
   ],
   "source": [
    "# knn 모델 생성\n",
    "model_knn = KNeighborsClassifier( n_neighbors = 5 )  # n_neighbors : int, default=5\n",
    "                                    # weights: {‘uniform’, ‘distance’} or callable, default=’uniform’\n",
    "                                    # metric: str or callable, default=’minkowski’\n",
    "        \n",
    "# k = 15, weight = 'distance' 조건으로 모델 학습\n",
    "model_knn.fit( x_train, y_train )\n",
    "\n",
    "# 모델의 정답에 대한 정보 확인\n",
    "model_knn.classes_"
   ]
  },
  {
   "cell_type": "markdown",
   "id": "77a21935-a303-4214-b84a-f00a0bc3176e",
   "metadata": {},
   "source": [
    "# 예측 및 평가"
   ]
  },
  {
   "cell_type": "markdown",
   "id": "d8f43cbe-c26b-412b-ba0e-9140c80c73a8",
   "metadata": {},
   "source": [
    "## 학습된 모델로 예측 수행"
   ]
  },
  {
   "cell_type": "code",
   "execution_count": 8,
   "id": "7ba85bfd-da7c-4bff-9bcd-6f0b5368cc99",
   "metadata": {},
   "outputs": [
    {
     "data": {
      "text/plain": [
       "array(['versicolor'], dtype=object)"
      ]
     },
     "execution_count": 8,
     "metadata": {},
     "output_type": "execute_result"
    }
   ],
   "source": [
    "# 새로운 테스트 데이터로 예측하기\n",
    "model_knn.predict( [ [5.1, 3.5, 4.0, 0.2] ] )"
   ]
  },
  {
   "cell_type": "code",
   "execution_count": 9,
   "id": "fa008586-db03-487a-b82f-cdcf3ffb0f14",
   "metadata": {
    "tags": []
   },
   "outputs": [
    {
     "name": "stdout",
     "output_type": "stream",
     "text": [
      "Accuracy: 0.9777777777777777\n",
      "\n"
     ]
    },
    {
     "data": {
      "text/html": [
       "<div>\n",
       "<style scoped>\n",
       "    .dataframe tbody tr th:only-of-type {\n",
       "        vertical-align: middle;\n",
       "    }\n",
       "\n",
       "    .dataframe tbody tr th {\n",
       "        vertical-align: top;\n",
       "    }\n",
       "\n",
       "    .dataframe thead th {\n",
       "        text-align: right;\n",
       "    }\n",
       "</style>\n",
       "<table border=\"1\" class=\"dataframe\">\n",
       "  <thead>\n",
       "    <tr style=\"text-align: right;\">\n",
       "      <th></th>\n",
       "      <th>y_True</th>\n",
       "      <th>y_Predict</th>\n",
       "      <th>Pred_Result</th>\n",
       "    </tr>\n",
       "  </thead>\n",
       "  <tbody>\n",
       "    <tr>\n",
       "      <th>115</th>\n",
       "      <td>virginica</td>\n",
       "      <td>virginica</td>\n",
       "      <td>True</td>\n",
       "    </tr>\n",
       "    <tr>\n",
       "      <th>63</th>\n",
       "      <td>versicolor</td>\n",
       "      <td>versicolor</td>\n",
       "      <td>True</td>\n",
       "    </tr>\n",
       "    <tr>\n",
       "      <th>34</th>\n",
       "      <td>setosa</td>\n",
       "      <td>setosa</td>\n",
       "      <td>True</td>\n",
       "    </tr>\n",
       "    <tr>\n",
       "      <th>108</th>\n",
       "      <td>virginica</td>\n",
       "      <td>virginica</td>\n",
       "      <td>True</td>\n",
       "    </tr>\n",
       "    <tr>\n",
       "      <th>8</th>\n",
       "      <td>setosa</td>\n",
       "      <td>setosa</td>\n",
       "      <td>True</td>\n",
       "    </tr>\n",
       "    <tr>\n",
       "      <th>101</th>\n",
       "      <td>virginica</td>\n",
       "      <td>virginica</td>\n",
       "      <td>True</td>\n",
       "    </tr>\n",
       "    <tr>\n",
       "      <th>41</th>\n",
       "      <td>setosa</td>\n",
       "      <td>setosa</td>\n",
       "      <td>True</td>\n",
       "    </tr>\n",
       "    <tr>\n",
       "      <th>87</th>\n",
       "      <td>versicolor</td>\n",
       "      <td>versicolor</td>\n",
       "      <td>True</td>\n",
       "    </tr>\n",
       "    <tr>\n",
       "      <th>77</th>\n",
       "      <td>versicolor</td>\n",
       "      <td>versicolor</td>\n",
       "      <td>True</td>\n",
       "    </tr>\n",
       "    <tr>\n",
       "      <th>72</th>\n",
       "      <td>versicolor</td>\n",
       "      <td>versicolor</td>\n",
       "      <td>True</td>\n",
       "    </tr>\n",
       "  </tbody>\n",
       "</table>\n",
       "</div>"
      ],
      "text/plain": [
       "         y_True   y_Predict  Pred_Result\n",
       "115   virginica   virginica         True\n",
       "63   versicolor  versicolor         True\n",
       "34       setosa      setosa         True\n",
       "108   virginica   virginica         True\n",
       "8        setosa      setosa         True\n",
       "101   virginica   virginica         True\n",
       "41       setosa      setosa         True\n",
       "87   versicolor  versicolor         True\n",
       "77   versicolor  versicolor         True\n",
       "72   versicolor  versicolor         True"
      ]
     },
     "execution_count": 9,
     "metadata": {},
     "output_type": "execute_result"
    }
   ],
   "source": [
    "# test 데이터로 라벨 예측\n",
    "y_pred = model_knn.predict( x_test )\n",
    "\n",
    "print( 'Accuracy:', model_knn.score( x_test, y_test ) )\n",
    "print()\n",
    "\n",
    "pd.DataFrame( {'y_True' : y_test,\n",
    "               'y_Predict' : y_pred,\n",
    "               'Pred_Result' : y_test == y_pred} ).head(10)"
   ]
  },
  {
   "cell_type": "markdown",
   "id": "cb804272-58df-4807-8b5c-9b5cc3df4930",
   "metadata": {},
   "source": [
    "## 평가"
   ]
  },
  {
   "cell_type": "markdown",
   "id": "82939a7a-302d-4a9a-8e98-21953da2a912",
   "metadata": {},
   "source": [
    "### Confusion Metrix\n",
    "\n",
    "\n",
    "- `pandas.crosstab( index, columns, values=None, rownames=None, colnames=None, aggfunc=None, margins=False, margins_name='All', dropna=True, normalize=False )`  \n",
    "https://pandas.pydata.org/docs/reference/api/pandas.crosstab.html\n",
    "\n",
    "- `sklearn.metrics.confusion_matrix( y_true, y_pred, *, labels=None, sample_weight=None, normalize=None )`  \n",
    "https://scikit-learn.org/stable/modules/generated/sklearn.metrics.confusion_matrix.html\n",
    "\n",
    "- `sklearn.metrics.multilabel_confusion_matrix( y_true, y_pred, *, sample_weight=None, labels=None, samplewise=False )`  \n",
    "https://scikit-learn.org/stable/modules/generated/sklearn.metrics.multilabel_confusion_matrix.html\n",
    " \n",
    "- `sklearn.metrics.ConfusionMatrixDisplay( confusion_matrix, *, display_labels=None )`  \n",
    "https://scikit-learn.org/stable/modules/generated/sklearn.metrics.ConfusionMatrixDisplay.html"
   ]
  },
  {
   "cell_type": "code",
   "execution_count": 10,
   "id": "e16b9619-85ad-4154-bab7-5d7d0b594e6f",
   "metadata": {},
   "outputs": [
    {
     "data": {
      "text/html": [
       "<div>\n",
       "<style scoped>\n",
       "    .dataframe tbody tr th:only-of-type {\n",
       "        vertical-align: middle;\n",
       "    }\n",
       "\n",
       "    .dataframe tbody tr th {\n",
       "        vertical-align: top;\n",
       "    }\n",
       "\n",
       "    .dataframe thead th {\n",
       "        text-align: right;\n",
       "    }\n",
       "</style>\n",
       "<table border=\"1\" class=\"dataframe\">\n",
       "  <thead>\n",
       "    <tr style=\"text-align: right;\">\n",
       "      <th>real</th>\n",
       "      <th>setosa</th>\n",
       "      <th>versicolor</th>\n",
       "      <th>virginica</th>\n",
       "    </tr>\n",
       "    <tr>\n",
       "      <th>pred</th>\n",
       "      <th></th>\n",
       "      <th></th>\n",
       "      <th></th>\n",
       "    </tr>\n",
       "  </thead>\n",
       "  <tbody>\n",
       "    <tr>\n",
       "      <th>setosa</th>\n",
       "      <td>16</td>\n",
       "      <td>0</td>\n",
       "      <td>0</td>\n",
       "    </tr>\n",
       "    <tr>\n",
       "      <th>versicolor</th>\n",
       "      <td>0</td>\n",
       "      <td>17</td>\n",
       "      <td>1</td>\n",
       "    </tr>\n",
       "    <tr>\n",
       "      <th>virginica</th>\n",
       "      <td>0</td>\n",
       "      <td>0</td>\n",
       "      <td>11</td>\n",
       "    </tr>\n",
       "  </tbody>\n",
       "</table>\n",
       "</div>"
      ],
      "text/plain": [
       "real        setosa  versicolor  virginica\n",
       "pred                                     \n",
       "setosa          16           0          0\n",
       "versicolor       0          17          1\n",
       "virginica        0           0         11"
      ]
     },
     "execution_count": 10,
     "metadata": {},
     "output_type": "execute_result"
    }
   ],
   "source": [
    "conf_mat = pd.crosstab( y_test, y_pred, rownames=['pred'], colnames=['real'] )\n",
    "conf_mat"
   ]
  },
  {
   "cell_type": "code",
   "execution_count": 11,
   "id": "52aed5b2-37e6-4574-a3ee-73b61a117c1d",
   "metadata": {},
   "outputs": [
    {
     "data": {
      "text/plain": [
       "array([[16,  0,  0],\n",
       "       [ 0, 17,  1],\n",
       "       [ 0,  0, 11]], dtype=int64)"
      ]
     },
     "execution_count": 11,
     "metadata": {},
     "output_type": "execute_result"
    }
   ],
   "source": [
    "cm = confusion_matrix(y_test, y_pred)\n",
    "cm"
   ]
  },
  {
   "cell_type": "code",
   "execution_count": 12,
   "id": "c410d93e-fdc4-43ea-9ce8-5d0e300c6ae3",
   "metadata": {},
   "outputs": [
    {
     "data": {
      "text/plain": [
       "array([[[29,  0],\n",
       "        [ 0, 16]],\n",
       "\n",
       "       [[27,  0],\n",
       "        [ 1, 17]],\n",
       "\n",
       "       [[33,  1],\n",
       "        [ 0, 11]]], dtype=int64)"
      ]
     },
     "execution_count": 12,
     "metadata": {},
     "output_type": "execute_result"
    }
   ],
   "source": [
    "cm_multi = multilabel_confusion_matrix(y_test, y_pred)\n",
    "cm_multi"
   ]
  },
  {
   "cell_type": "code",
   "execution_count": 13,
   "id": "b3341354-4863-4c36-895a-ad1f02b82bdc",
   "metadata": {},
   "outputs": [
    {
     "data": {
      "text/plain": [
       "<sklearn.metrics._plot.confusion_matrix.ConfusionMatrixDisplay at 0x1dbeb5b49a0>"
      ]
     },
     "execution_count": 13,
     "metadata": {},
     "output_type": "execute_result"
    },
    {
     "data": {
      "image/png": "[encoded data removed]",
      "text/plain": [
       "<Figure size 640x480 with 2 Axes>"
      ]
     },
     "metadata": {},
     "output_type": "display_data"
    }
   ],
   "source": [
    "ConfusionMatrixDisplay( cm ).plot()"
   ]
  },
  {
   "cell_type": "code",
   "execution_count": 14,
   "id": "71fe5b8b-937a-422e-904f-c9efcc8b6f46",
   "metadata": {},
   "outputs": [
    {
     "data": {
      "text/plain": [
       "<sklearn.metrics._plot.confusion_matrix.ConfusionMatrixDisplay at 0x1dbeb66a460>"
      ]
     },
     "execution_count": 14,
     "metadata": {},
     "output_type": "execute_result"
    },
    {
     "data": {
      "image/png": "[encoded data removed]",
      "text/plain": [
       "<Figure size 500x1500 with 6 Axes>"
      ]
     },
     "metadata": {},
     "output_type": "display_data"
    }
   ],
   "source": [
    "cm_0 = cm_multi[0]\n",
    "cm_1 = cm_multi[1]\n",
    "cm_2 = cm_multi[2]\n",
    "\n",
    "fig = plt.figure( figsize = (5, 15) )\n",
    "\n",
    "ax0 = fig.add_subplot(3, 1, 1)\n",
    "ax0.set_title( y.unique()[0], size = 15 )\n",
    "\n",
    "ax1 = fig.add_subplot(3, 1, 2)\n",
    "ax1.set_title( y.unique()[1], size = 15 )\n",
    "\n",
    "ax2 = fig.add_subplot(3, 1, 3)\n",
    "ax2.set_title( y.unique()[2], size = 15 )\n",
    "\n",
    "ConfusionMatrixDisplay(cm_0).plot(ax=ax0)\n",
    "ConfusionMatrixDisplay(cm_1).plot(ax=ax1)\n",
    "ConfusionMatrixDisplay(cm_2).plot(ax=ax2)"
   ]
  },
  {
   "cell_type": "markdown",
   "id": "15ea7ab9-e05a-458a-a618-f073f74bace9",
   "metadata": {},
   "source": [
    "### 분석 지표\n",
    "\n",
    "- `sklearn.metrics.accuracy_score( y_true, y_pred, *, normalize=True, sample_weight=None )`  \n",
    "https://scikit-learn.org/stable/modules/generated/sklearn.metrics.accuracy_score.html\n",
    "\n",
    "- `sklearn.metrics.classification_report( y_true, y_pred, *, labels=None, target_names=None, sample_weight=None, digits=2, output_dict=False, zero_division='warn' )`  \n",
    "https://scikit-learn.org/stable/modules/generated/sklearn.metrics.classification_report.html"
   ]
  },
  {
   "cell_type": "code",
   "execution_count": 15,
   "id": "0fc386f7-21fa-43f0-af0a-8cd1ac0334a4",
   "metadata": {},
   "outputs": [
    {
     "data": {
      "text/plain": [
       "0.9777777777777777"
      ]
     },
     "execution_count": 15,
     "metadata": {},
     "output_type": "execute_result"
    }
   ],
   "source": [
    "# Accuracy\n",
    "model_knn.score( x_test, y_test )"
   ]
  },
  {
   "cell_type": "code",
   "execution_count": 16,
   "id": "f1e99938-d68d-4690-942e-3e62b89c5852",
   "metadata": {},
   "outputs": [
    {
     "name": "stdout",
     "output_type": "stream",
     "text": [
      "Accuracy:  0.9777777777777777\n",
      "\n",
      "              precision    recall  f1-score   support\n",
      "\n",
      "      setosa      1.000     1.000     1.000        16\n",
      "  versicolor      1.000     0.944     0.971        18\n",
      "   virginica      0.917     1.000     0.957        11\n",
      "\n",
      "    accuracy                          0.978        45\n",
      "   macro avg      0.972     0.981     0.976        45\n",
      "weighted avg      0.980     0.978     0.978        45\n",
      "\n",
      "\n"
     ]
    }
   ],
   "source": [
    "print( 'Accuracy: ', accuracy_score(y_test, y_pred) )\n",
    "print()\n",
    "\n",
    "print( classification_report(y_test, y_pred, digits = 3) )\n",
    "print()"
   ]
  },
  {
   "cell_type": "markdown",
   "id": "9f336a63-0265-4128-a5d3-1a478440985a",
   "metadata": {},
   "source": [
    "### ROC curve / AUC (주의!)\n",
    "\n",
    "[ 주의 !! ] 다중 클래스인 경우에는 ROC curve 또는 AUC 를 구할 때, one-vs-all 방식으로 클래스를 이진화 시키는 과정이 필요하다!! (target에 대한 일종의 One-Hot Encoding)\n",
    "\n",
    "- `sklearn.metrics.roc_curve( y_true, y_score, *, pos_label=None, sample_weight=None, drop_intermediate=True )`  \n",
    "https://scikit-learn.org/stable/modules/generated/sklearn.metrics.roc_curve.html\n",
    "\n",
    "- `sklearn.metrics.roc_auc_score( y_true, y_score, *, average='macro', sample_weight=None, max_fpr=None, multi_class='raise', labels=None )`  \n",
    "https://scikit-learn.org/stable/modules/generated/sklearn.metrics.roc_auc_score.html\n",
    "\n",
    "- `sklearn.metrics.RocCurveDisplay( *, fpr, tpr, roc_auc=None, estimator_name=None, pos_label=None )`  \n",
    "https://scikit-learn.org/stable/modules/generated/sklearn.metrics.RocCurveDisplay.html\n",
    "\n",
    "- [참고] https://scikit-learn.org/stable/auto_examples/model_selection/plot_roc.html"
   ]
  },
  {
   "cell_type": "markdown",
   "id": "eab7e593-b676-46c1-be70-52811e323d81",
   "metadata": {},
   "source": [
    "#### Target을 Label Encoding 후 One-vs-All 방식으로 Labels Binarize\n",
    "\n",
    "- `sklearn.preprocessing.LabelEncoder()`  \n",
    "  - Methods : `.fit()`, `.transform()`, `.fit_transform()`   \n",
    "https://scikit-learn.org/stable/modules/generated/sklearn.preprocessing.LabelEncoder.html  \n",
    "\n",
    "\n",
    "- `sklearn.preprocessing.label_binarize( y, *, classes, neg_label=0, pos_label=1, sparse_output=False )`  \n",
    "https://scikit-learn.org/stable/modules/generated/sklearn.preprocessing.label_binarize.html"
   ]
  },
  {
   "cell_type": "code",
   "execution_count": 17,
   "id": "36fcfdb4-e1f8-490d-8847-9ba642be7cf3",
   "metadata": {},
   "outputs": [
    {
     "data": {
      "text/html": [
       "<div>\n",
       "<style scoped>\n",
       "    .dataframe tbody tr th:only-of-type {\n",
       "        vertical-align: middle;\n",
       "    }\n",
       "\n",
       "    .dataframe tbody tr th {\n",
       "        vertical-align: top;\n",
       "    }\n",
       "\n",
       "    .dataframe thead th {\n",
       "        text-align: right;\n",
       "    }\n",
       "</style>\n",
       "<table border=\"1\" class=\"dataframe\">\n",
       "  <thead>\n",
       "    <tr style=\"text-align: right;\">\n",
       "      <th></th>\n",
       "      <th>y</th>\n",
       "      <th>y1 (label_encoding)</th>\n",
       "      <th>y2 (label_binarize)</th>\n",
       "    </tr>\n",
       "  </thead>\n",
       "  <tbody>\n",
       "    <tr>\n",
       "      <th>0</th>\n",
       "      <td>setosa</td>\n",
       "      <td>0</td>\n",
       "      <td>(1, 0, 0)</td>\n",
       "    </tr>\n",
       "    <tr>\n",
       "      <th>1</th>\n",
       "      <td>versicolor</td>\n",
       "      <td>1</td>\n",
       "      <td>(0, 0, 1)</td>\n",
       "    </tr>\n",
       "    <tr>\n",
       "      <th>2</th>\n",
       "      <td>virginica</td>\n",
       "      <td>2</td>\n",
       "      <td>(0, 1, 0)</td>\n",
       "    </tr>\n",
       "  </tbody>\n",
       "</table>\n",
       "</div>"
      ],
      "text/plain": [
       "            y  y1 (label_encoding) y2 (label_binarize)\n",
       "0      setosa                    0           (1, 0, 0)\n",
       "1  versicolor                    1           (0, 0, 1)\n",
       "2   virginica                    2           (0, 1, 0)"
      ]
     },
     "execution_count": 17,
     "metadata": {},
     "output_type": "execute_result"
    }
   ],
   "source": [
    "# 레이블 인코딩 (문자로 된 범주형 데이터를 숫자로 변환)\n",
    "encoder = LabelEncoder()\n",
    "y1 = encoder.fit_transform( y )\n",
    "\n",
    "# 레이블 인코딩 결과를 원핫인코딩 형식으로 변환\n",
    "y2 = label_binarize(y1, classes=[0, 1, 2])\n",
    "\n",
    "# 인코딩 전후 비교\n",
    "pd.DataFrame( { 'y' : y.unique(),\n",
    "                'y1 (label_encoding)' : np.unique(y1),\n",
    "                'y2 (label_binarize)': list(set(map(tuple, y2))) } )"
   ]
  },
  {
   "cell_type": "markdown",
   "id": "1ef6934f-c9ee-4326-915e-0c651e74fc94",
   "metadata": {
    "tags": []
   },
   "source": [
    "#### 학습/테스트용 데이터셋 분리"
   ]
  },
  {
   "cell_type": "code",
   "execution_count": 18,
   "id": "1c0666c1-140f-4756-83d4-d2c6c2675191",
   "metadata": {},
   "outputs": [],
   "source": [
    "x_train, x_test, y2_train, y2_test = train_test_split( x, y2,\n",
    "                                                      test_size = 0.3,\n",
    "                                                      random_state = 0 )"
   ]
  },
  {
   "cell_type": "markdown",
   "id": "8285c755-74c6-4d95-a6a6-2635b9019b82",
   "metadata": {},
   "source": [
    "#### One-vs-the-rest (OvR) multiclass 모델 생성 및 적합"
   ]
  },
  {
   "cell_type": "code",
   "execution_count": 19,
   "id": "2bb1596d-01d7-45c2-b49c-507c3cfe8140",
   "metadata": {
    "tags": []
   },
   "outputs": [],
   "source": [
    "# 모델 생성\n",
    "model_ovr = OneVsRestClassifier( model_knn )  # 앞서 생성했던 모델을 괄호 안에 입력\n",
    "\n",
    "# 모델 학습\n",
    "model_ovr.fit( x_train, y2_train )\n",
    "\n",
    "# 예측 확률 반환 (ROC 곡선에 필요)\n",
    "y_proba = model_ovr.predict_proba(x_test)"
   ]
  },
  {
   "cell_type": "markdown",
   "id": "42ffc06d-73c2-4290-87b0-eb2c611b6ff0",
   "metadata": {},
   "source": [
    "#### ROC curve 및 AUC 출력"
   ]
  },
  {
   "cell_type": "code",
   "execution_count": 20,
   "id": "e41d1a35-e80e-4578-9436-e961e2b87b4d",
   "metadata": {},
   "outputs": [
    {
     "data": {
      "image/png": "[encoded data removed]",
      "text/plain": [
       "<Figure size 640x480 with 1 Axes>"
      ]
     },
     "metadata": {},
     "output_type": "display_data"
    },
    {
     "data": {
      "image/png": "[encoded data removed]",
      "text/plain": [
       "<Figure size 640x480 with 1 Axes>"
      ]
     },
     "metadata": {},
     "output_type": "display_data"
    },
    {
     "data": {
      "image/png": "[encoded data removed]",
      "text/plain": [
       "<Figure size 640x480 with 1 Axes>"
      ]
     },
     "metadata": {},
     "output_type": "display_data"
    }
   ],
   "source": [
    "fpr = dict()\n",
    "tpr = dict()\n",
    "thresholds = dict()\n",
    "\n",
    "roc_auc = dict()\n",
    "for i in list(range(0,3)):\n",
    "    fpr[i], tpr[i], thresholds[i] = roc_curve( y2_test[:, i], y_proba[:, i] )\n",
    "    auc = roc_auc_score( y2_test[:, i], y_proba[:, i], multi_class=\"ovr\" )\n",
    "    \n",
    "    RocCurveDisplay( fpr[i], tpr[i] ).plot()\n",
    "    plt.legend( labels = ['AUC = %.4f' % auc],\n",
    "                loc = 'lower right')\n",
    "    plt.plot( [0,1], [0,1], 'k--' )\n",
    "    plt.show()"
   ]
  },
  {
   "cell_type": "markdown",
   "id": "d7069354-4ef0-4c23-8ba8-3f769599274c",
   "metadata": {},
   "source": [
    "# 모델 최적화"
   ]
  },
  {
   "cell_type": "markdown",
   "id": "dffadd7c-b642-4ef8-a866-f5d32f7a338c",
   "metadata": {
    "tags": []
   },
   "source": [
    "## Hyper parameter 최적화: `GridSearchCV`\n",
    "- 교차 검증과 Hyper Parameter 튜닝을 한 번에 수행함.\n",
    "\n",
    "- `sklearn.model_selection.GridSearchCV( estimator, param_grid, *, scoring=None, n_jobs=None, refit=True, cv=None, verbose=0, pre_dispatch='2*n_jobs', error_score=nan, return_train_score=False )`  \n",
    "https://scikit-learn.org/stable/modules/generated/sklearn.model_selection.GridSearchCV.html\n",
    "\n",
    "- Attributes: `cv_results_`, `best_score_`, `best_params_`, `best_estimator_`\n",
    "\n",
    "- Methods: `get_params()`  https://scikit-learn.org/stable/modules/generated/sklearn.model_selection.GridSearchCV.html#sklearn.model_selection.GridSearchCV.get_params"
   ]
  },
  {
   "cell_type": "markdown",
   "id": "ff75f53c-3f6d-4e16-8acc-d123d884c3d1",
   "metadata": {},
   "source": [
    "### 파라미터 확인 및 평가 조건 설정"
   ]
  },
  {
   "cell_type": "code",
   "execution_count": 21,
   "id": "a30b4832-75f7-48e1-aecd-6f8869943873",
   "metadata": {},
   "outputs": [
    {
     "data": {
      "text/plain": [
       "['algorithm',\n",
       " 'leaf_size',\n",
       " 'metric',\n",
       " 'metric_params',\n",
       " 'n_jobs',\n",
       " 'n_neighbors',\n",
       " 'p',\n",
       " 'weights']"
      ]
     },
     "execution_count": 21,
     "metadata": {},
     "output_type": "execute_result"
    }
   ],
   "source": [
    "# 파라미터 목록 확인\n",
    "list( model_knn.get_params().keys() )"
   ]
  },
  {
   "cell_type": "code",
   "execution_count": 22,
   "id": "b30960ec-97ae-4162-b619-c4ddac02cb23",
   "metadata": {},
   "outputs": [
    {
     "data": {
      "text/plain": [
       "GridSearchCV(cv=10, estimator=KNeighborsClassifier(),\n",
       "             param_grid={'metric': ['minkowski', 'euclidean'],\n",
       "                         'n_neighbors': [2, 3, 4, 5, 6, 7, 8, 9, 10, 11, 12, 13,\n",
       "                                         14, 15, 16, 17, 18, 19, 20, 21, 22, 23,\n",
       "                                         24],\n",
       "                         'weights': ['uniform', 'distance']},\n",
       "             scoring='accuracy')"
      ]
     },
     "execution_count": 22,
     "metadata": {},
     "output_type": "execute_result"
    }
   ],
   "source": [
    "# 평가할 파라미터 split 조건 설정\n",
    "\n",
    "params = { 'n_neighbors' : list(range(2,25)),\n",
    "           'weights' : ['uniform', 'distance'],\n",
    "           'metric' : ['minkowski', 'euclidean'] }\n",
    "\n",
    "grid = GridSearchCV( model_knn,\n",
    "                     param_grid = params,\n",
    "                     cv = 10,\n",
    "                     scoring = 'accuracy')\n",
    "\n",
    "# split 조건별로 하이퍼 파라미터 학습/평가\n",
    "grid.fit( x, y )"
   ]
  },
  {
   "cell_type": "code",
   "execution_count": 23,
   "id": "4ceb81c6-6100-4492-a336-6901e7b662bf",
   "metadata": {},
   "outputs": [
    {
     "name": "stdout",
     "output_type": "stream",
     "text": [
      "<class 'pandas.core.frame.DataFrame'>\n",
      "RangeIndex: 92 entries, 0 to 91\n",
      "Data columns (total 21 columns):\n",
      " #   Column             Non-Null Count  Dtype  \n",
      "---  ------             --------------  -----  \n",
      " 0   mean_fit_time      92 non-null     float64\n",
      " 1   std_fit_time       92 non-null     float64\n",
      " 2   mean_score_time    92 non-null     float64\n",
      " 3   std_score_time     92 non-null     float64\n",
      " 4   param_metric       92 non-null     object \n",
      " 5   param_n_neighbors  92 non-null     object \n",
      " 6   param_weights      92 non-null     object \n",
      " 7   params             92 non-null     object \n",
      " 8   split0_test_score  92 non-null     float64\n",
      " 9   split1_test_score  92 non-null     float64\n",
      " 10  split2_test_score  92 non-null     float64\n",
      " 11  split3_test_score  92 non-null     float64\n",
      " 12  split4_test_score  92 non-null     float64\n",
      " 13  split5_test_score  92 non-null     float64\n",
      " 14  split6_test_score  92 non-null     float64\n",
      " 15  split7_test_score  92 non-null     float64\n",
      " 16  split8_test_score  92 non-null     float64\n",
      " 17  split9_test_score  92 non-null     float64\n",
      " 18  mean_test_score    92 non-null     float64\n",
      " 19  std_test_score     92 non-null     float64\n",
      " 20  rank_test_score    92 non-null     int32  \n",
      "dtypes: float64(16), int32(1), object(4)\n",
      "memory usage: 14.9+ KB\n"
     ]
    }
   ],
   "source": [
    "df_grid = pd.DataFrame( grid.cv_results_ )\n",
    "\n",
    "df_grid.info()"
   ]
  },
  {
   "cell_type": "code",
   "execution_count": 24,
   "id": "a2ed722a-cd96-48f8-8b1c-5be5b0f676d0",
   "metadata": {
    "tags": []
   },
   "outputs": [
    {
     "data": {
      "text/html": [
       "<div>\n",
       "<style scoped>\n",
       "    .dataframe tbody tr th:only-of-type {\n",
       "        vertical-align: middle;\n",
       "    }\n",
       "\n",
       "    .dataframe tbody tr th {\n",
       "        vertical-align: top;\n",
       "    }\n",
       "\n",
       "    .dataframe thead th {\n",
       "        text-align: right;\n",
       "    }\n",
       "</style>\n",
       "<table border=\"1\" class=\"dataframe\">\n",
       "  <thead>\n",
       "    <tr style=\"text-align: right;\">\n",
       "      <th></th>\n",
       "      <th>params</th>\n",
       "      <th>mean_test_score</th>\n",
       "      <th>std_test_score</th>\n",
       "      <th>rank_test_score</th>\n",
       "    </tr>\n",
       "  </thead>\n",
       "  <tbody>\n",
       "    <tr>\n",
       "      <th>32</th>\n",
       "      <td>{'metric': 'minkowski', 'n_neighbors': 18, 'weights': 'uniform'}</td>\n",
       "      <td>0.980000</td>\n",
       "      <td>0.030551</td>\n",
       "      <td>1</td>\n",
       "    </tr>\n",
       "    <tr>\n",
       "      <th>31</th>\n",
       "      <td>{'metric': 'minkowski', 'n_neighbors': 17, 'weights': 'distance'}</td>\n",
       "      <td>0.980000</td>\n",
       "      <td>0.030551</td>\n",
       "      <td>1</td>\n",
       "    </tr>\n",
       "    <tr>\n",
       "      <th>35</th>\n",
       "      <td>{'metric': 'minkowski', 'n_neighbors': 19, 'weights': 'distance'}</td>\n",
       "      <td>0.980000</td>\n",
       "      <td>0.030551</td>\n",
       "      <td>1</td>\n",
       "    </tr>\n",
       "    <tr>\n",
       "      <th>82</th>\n",
       "      <td>{'metric': 'euclidean', 'n_neighbors': 20, 'weights': 'uniform'}</td>\n",
       "      <td>0.980000</td>\n",
       "      <td>0.030551</td>\n",
       "      <td>1</td>\n",
       "    </tr>\n",
       "    <tr>\n",
       "      <th>81</th>\n",
       "      <td>{'metric': 'euclidean', 'n_neighbors': 19, 'weights': 'distance'}</td>\n",
       "      <td>0.980000</td>\n",
       "      <td>0.030551</td>\n",
       "      <td>1</td>\n",
       "    </tr>\n",
       "    <tr>\n",
       "      <th>...</th>\n",
       "      <td>...</td>\n",
       "      <td>...</td>\n",
       "      <td>...</td>\n",
       "      <td>...</td>\n",
       "    </tr>\n",
       "    <tr>\n",
       "      <th>44</th>\n",
       "      <td>{'metric': 'minkowski', 'n_neighbors': 24, 'weights': 'uniform'}</td>\n",
       "      <td>0.960000</td>\n",
       "      <td>0.044222</td>\n",
       "      <td>87</td>\n",
       "    </tr>\n",
       "    <tr>\n",
       "      <th>47</th>\n",
       "      <td>{'metric': 'euclidean', 'n_neighbors': 2, 'weights': 'distance'}</td>\n",
       "      <td>0.960000</td>\n",
       "      <td>0.053333</td>\n",
       "      <td>87</td>\n",
       "    </tr>\n",
       "    <tr>\n",
       "      <th>90</th>\n",
       "      <td>{'metric': 'euclidean', 'n_neighbors': 24, 'weights': 'uniform'}</td>\n",
       "      <td>0.960000</td>\n",
       "      <td>0.044222</td>\n",
       "      <td>87</td>\n",
       "    </tr>\n",
       "    <tr>\n",
       "      <th>46</th>\n",
       "      <td>{'metric': 'euclidean', 'n_neighbors': 2, 'weights': 'uniform'}</td>\n",
       "      <td>0.953333</td>\n",
       "      <td>0.052068</td>\n",
       "      <td>91</td>\n",
       "    </tr>\n",
       "    <tr>\n",
       "      <th>0</th>\n",
       "      <td>{'metric': 'minkowski', 'n_neighbors': 2, 'weights': 'uniform'}</td>\n",
       "      <td>0.953333</td>\n",
       "      <td>0.052068</td>\n",
       "      <td>91</td>\n",
       "    </tr>\n",
       "  </tbody>\n",
       "</table>\n",
       "<p>92 rows × 4 columns</p>\n",
       "</div>"
      ],
      "text/plain": [
       "                                                               params  \\\n",
       "32   {'metric': 'minkowski', 'n_neighbors': 18, 'weights': 'uniform'}   \n",
       "31  {'metric': 'minkowski', 'n_neighbors': 17, 'weights': 'distance'}   \n",
       "35  {'metric': 'minkowski', 'n_neighbors': 19, 'weights': 'distance'}   \n",
       "82   {'metric': 'euclidean', 'n_neighbors': 20, 'weights': 'uniform'}   \n",
       "81  {'metric': 'euclidean', 'n_neighbors': 19, 'weights': 'distance'}   \n",
       "..                                                                ...   \n",
       "44   {'metric': 'minkowski', 'n_neighbors': 24, 'weights': 'uniform'}   \n",
       "47   {'metric': 'euclidean', 'n_neighbors': 2, 'weights': 'distance'}   \n",
       "90   {'metric': 'euclidean', 'n_neighbors': 24, 'weights': 'uniform'}   \n",
       "46    {'metric': 'euclidean', 'n_neighbors': 2, 'weights': 'uniform'}   \n",
       "0     {'metric': 'minkowski', 'n_neighbors': 2, 'weights': 'uniform'}   \n",
       "\n",
       "    mean_test_score  std_test_score  rank_test_score  \n",
       "32         0.980000        0.030551                1  \n",
       "31         0.980000        0.030551                1  \n",
       "35         0.980000        0.030551                1  \n",
       "82         0.980000        0.030551                1  \n",
       "81         0.980000        0.030551                1  \n",
       "..              ...             ...              ...  \n",
       "44         0.960000        0.044222               87  \n",
       "47         0.960000        0.053333               87  \n",
       "90         0.960000        0.044222               87  \n",
       "46         0.953333        0.052068               91  \n",
       "0          0.953333        0.052068               91  \n",
       "\n",
       "[92 rows x 4 columns]"
      ]
     },
     "execution_count": 24,
     "metadata": {},
     "output_type": "execute_result"
    }
   ],
   "source": [
    "pd.set_option('display.max_colwidth', None)  # 데이터프레임의 셀 폭 설정 (한 셀의 너비에 내용이 다 안들어갈 경우)\n",
    "pd.set_option('display.max_row', 80)  # 데이터프레임의 출력 행 개수 설정 (한 셀에 모든 행 표시가 안될 경우)\n",
    "\n",
    "df_grid[ ['params','mean_test_score', 'std_test_score', 'rank_test_score'] ].sort_values(['rank_test_score'])"
   ]
  },
  {
   "cell_type": "markdown",
   "id": "fe665d34-da70-400f-ac7e-d5cc3add7629",
   "metadata": {},
   "source": [
    "### 최적의 파라미터 추출"
   ]
  },
  {
   "cell_type": "code",
   "execution_count": 25,
   "id": "84898402-bbc2-4ab2-beb2-3617d9c28baa",
   "metadata": {},
   "outputs": [
    {
     "name": "stdout",
     "output_type": "stream",
     "text": [
      "최고 Score:  0.98\n",
      "최적 Parameters:  {'metric': 'minkowski', 'n_neighbors': 13, 'weights': 'uniform'}\n",
      "최적 Estimators:  KNeighborsClassifier(n_neighbors=13)\n"
     ]
    }
   ],
   "source": [
    "print(\"최고 Score: \", str(np.round(grid.best_score_, 4)))\n",
    "print(\"최적 Parameters: \",str(grid.best_params_))\n",
    "print(\"최적 Estimators: \",str(grid.best_estimator_))"
   ]
  },
  {
   "cell_type": "markdown",
   "id": "4a18467e-50cb-49b1-8aa5-26b0952fb5e3",
   "metadata": {},
   "source": [
    "### 최적 Parameter 조건으로 모델 생성 및 학습"
   ]
  },
  {
   "cell_type": "code",
   "execution_count": 26,
   "id": "753723de-1723-499e-8d43-148a98899d21",
   "metadata": {
    "tags": []
   },
   "outputs": [
    {
     "data": {
      "text/plain": [
       "KNeighborsClassifier(n_neighbors=13)"
      ]
     },
     "execution_count": 26,
     "metadata": {},
     "output_type": "execute_result"
    }
   ],
   "source": [
    "# knn 모델 생성\n",
    "tune_knn = KNeighborsClassifier( n_neighbors = 13 )\n",
    "\n",
    "# 모델 학습\n",
    "tune_knn.fit( x_train, y_train )"
   ]
  },
  {
   "cell_type": "markdown",
   "id": "b0c4f45a-0948-4e37-bf36-1757b4466c1f",
   "metadata": {},
   "source": [
    "## 최적화된 모델로 예측 수행\n",
    "- `.predict()`  https://scikit-learn.org/stable/modules/generated/sklearn.neighbors.KNeighborsClassifier.html#sklearn.neighbors.KNeighborsClassifier.predict"
   ]
  },
  {
   "cell_type": "code",
   "execution_count": 27,
   "id": "bdcb965e-6640-4a13-a372-7c2af5967332",
   "metadata": {
    "tags": []
   },
   "outputs": [
    {
     "data": {
      "text/html": [
       "<div>\n",
       "<style scoped>\n",
       "    .dataframe tbody tr th:only-of-type {\n",
       "        vertical-align: middle;\n",
       "    }\n",
       "\n",
       "    .dataframe tbody tr th {\n",
       "        vertical-align: top;\n",
       "    }\n",
       "\n",
       "    .dataframe thead th {\n",
       "        text-align: right;\n",
       "    }\n",
       "</style>\n",
       "<table border=\"1\" class=\"dataframe\">\n",
       "  <thead>\n",
       "    <tr style=\"text-align: right;\">\n",
       "      <th></th>\n",
       "      <th>y_True</th>\n",
       "      <th>y_Predict</th>\n",
       "      <th>Pred_Result</th>\n",
       "    </tr>\n",
       "  </thead>\n",
       "  <tbody>\n",
       "    <tr>\n",
       "      <th>115</th>\n",
       "      <td>virginica</td>\n",
       "      <td>virginica</td>\n",
       "      <td>True</td>\n",
       "    </tr>\n",
       "    <tr>\n",
       "      <th>63</th>\n",
       "      <td>versicolor</td>\n",
       "      <td>versicolor</td>\n",
       "      <td>True</td>\n",
       "    </tr>\n",
       "    <tr>\n",
       "      <th>34</th>\n",
       "      <td>setosa</td>\n",
       "      <td>setosa</td>\n",
       "      <td>True</td>\n",
       "    </tr>\n",
       "    <tr>\n",
       "      <th>108</th>\n",
       "      <td>virginica</td>\n",
       "      <td>virginica</td>\n",
       "      <td>True</td>\n",
       "    </tr>\n",
       "    <tr>\n",
       "      <th>8</th>\n",
       "      <td>setosa</td>\n",
       "      <td>setosa</td>\n",
       "      <td>True</td>\n",
       "    </tr>\n",
       "  </tbody>\n",
       "</table>\n",
       "</div>"
      ],
      "text/plain": [
       "         y_True   y_Predict  Pred_Result\n",
       "115   virginica   virginica         True\n",
       "63   versicolor  versicolor         True\n",
       "34       setosa      setosa         True\n",
       "108   virginica   virginica         True\n",
       "8        setosa      setosa         True"
      ]
     },
     "execution_count": 27,
     "metadata": {},
     "output_type": "execute_result"
    }
   ],
   "source": [
    "# test 데이터로 라벨 예측\n",
    "y_pred = tune_knn.predict( x_test )\n",
    "\n",
    "pd.DataFrame( {'y_True' : y_test,\n",
    "               'y_Predict' : y_pred,\n",
    "               'Pred_Result' : y_test == y_pred} ).head()"
   ]
  },
  {
   "cell_type": "markdown",
   "id": "af22f05a-f14b-49b7-a6db-18a14802e895",
   "metadata": {},
   "source": [
    "## 평가"
   ]
  },
  {
   "cell_type": "markdown",
   "id": "c1242191-5984-4134-93d0-929a55997e5e",
   "metadata": {},
   "source": [
    "### Confusion Metrix"
   ]
  },
  {
   "cell_type": "code",
   "execution_count": 28,
   "id": "b065d532-4ef2-4b8a-af20-0b2ce79f474c",
   "metadata": {},
   "outputs": [
    {
     "data": {
      "text/html": [
       "<div>\n",
       "<style scoped>\n",
       "    .dataframe tbody tr th:only-of-type {\n",
       "        vertical-align: middle;\n",
       "    }\n",
       "\n",
       "    .dataframe tbody tr th {\n",
       "        vertical-align: top;\n",
       "    }\n",
       "\n",
       "    .dataframe thead th {\n",
       "        text-align: right;\n",
       "    }\n",
       "</style>\n",
       "<table border=\"1\" class=\"dataframe\">\n",
       "  <thead>\n",
       "    <tr style=\"text-align: right;\">\n",
       "      <th>real</th>\n",
       "      <th>setosa</th>\n",
       "      <th>versicolor</th>\n",
       "      <th>virginica</th>\n",
       "    </tr>\n",
       "    <tr>\n",
       "      <th>pred</th>\n",
       "      <th></th>\n",
       "      <th></th>\n",
       "      <th></th>\n",
       "    </tr>\n",
       "  </thead>\n",
       "  <tbody>\n",
       "    <tr>\n",
       "      <th>setosa</th>\n",
       "      <td>16</td>\n",
       "      <td>0</td>\n",
       "      <td>0</td>\n",
       "    </tr>\n",
       "    <tr>\n",
       "      <th>versicolor</th>\n",
       "      <td>0</td>\n",
       "      <td>17</td>\n",
       "      <td>1</td>\n",
       "    </tr>\n",
       "    <tr>\n",
       "      <th>virginica</th>\n",
       "      <td>0</td>\n",
       "      <td>0</td>\n",
       "      <td>11</td>\n",
       "    </tr>\n",
       "  </tbody>\n",
       "</table>\n",
       "</div>"
      ],
      "text/plain": [
       "real        setosa  versicolor  virginica\n",
       "pred                                     \n",
       "setosa          16           0          0\n",
       "versicolor       0          17          1\n",
       "virginica        0           0         11"
      ]
     },
     "execution_count": 28,
     "metadata": {},
     "output_type": "execute_result"
    }
   ],
   "source": [
    "conf_mat = pd.crosstab( y_test, y_pred, rownames=['pred'], colnames=['real'] )\n",
    "conf_mat"
   ]
  },
  {
   "cell_type": "code",
   "execution_count": 29,
   "id": "16400b7c-0888-4592-9ef2-55b500b7be09",
   "metadata": {},
   "outputs": [
    {
     "data": {
      "text/plain": [
       "array([[16,  0,  0],\n",
       "       [ 0, 17,  1],\n",
       "       [ 0,  0, 11]], dtype=int64)"
      ]
     },
     "execution_count": 29,
     "metadata": {},
     "output_type": "execute_result"
    }
   ],
   "source": [
    "confusion_matrix(y_test, y_pred)"
   ]
  },
  {
   "cell_type": "markdown",
   "id": "551ad5d7-292a-434f-8045-0c0eb589cc7f",
   "metadata": {},
   "source": [
    "### 분석 지표"
   ]
  },
  {
   "cell_type": "code",
   "execution_count": 30,
   "id": "06b77151-862e-48ff-a1e8-2e7752a01ec7",
   "metadata": {},
   "outputs": [
    {
     "data": {
      "text/plain": [
       "0.9777777777777777"
      ]
     },
     "execution_count": 30,
     "metadata": {},
     "output_type": "execute_result"
    }
   ],
   "source": [
    "# Accuracy\n",
    "model_knn.score( x_test, y_test )"
   ]
  },
  {
   "cell_type": "code",
   "execution_count": 31,
   "id": "2ec3bcfe-be97-4aab-8b70-cd6d50b1c387",
   "metadata": {},
   "outputs": [
    {
     "name": "stdout",
     "output_type": "stream",
     "text": [
      "Accuracy:  0.9777777777777777\n",
      "\n",
      "              precision    recall  f1-score   support\n",
      "\n",
      "      setosa      1.000     1.000     1.000        16\n",
      "  versicolor      1.000     0.944     0.971        18\n",
      "   virginica      0.917     1.000     0.957        11\n",
      "\n",
      "    accuracy                          0.978        45\n",
      "   macro avg      0.972     0.981     0.976        45\n",
      "weighted avg      0.980     0.978     0.978        45\n",
      "\n",
      "\n"
     ]
    }
   ],
   "source": [
    "print( 'Accuracy: ', accuracy_score(y_test, y_pred) )\n",
    "print()\n",
    "\n",
    "print( classification_report(y_test, y_pred, digits = 3) )\n",
    "print()"
   ]
  },
  {
   "cell_type": "markdown",
   "id": "48070a9f-6866-43ee-be3e-2c1454a1bf45",
   "metadata": {
    "jp-MarkdownHeadingCollapsed": true,
    "tags": []
   },
   "source": [
    "### ROC curve / AUC (주의!)\n",
    "\n",
    "[ 주의 !! ] 다중 클래스인 경우에는 ROC curve 또는 AUC 를 구할 때, one-vs-all 방식으로 클래스를 이진화 시키는 과정이 필요하다!! (target에 대한 일종의 One-Hot Encoding)"
   ]
  },
  {
   "cell_type": "markdown",
   "id": "2dd092da-5036-48dd-accb-996ea6ad7632",
   "metadata": {},
   "source": [
    "#### Target을 One-vs-All 방식으로 Labels Binarize\n",
    "- 앞서 이미 인코딩 수행 및 y2 변수에 저장하였으므로 생략"
   ]
  },
  {
   "cell_type": "markdown",
   "id": "480a9aa2-5dcf-4502-997a-d94286fccb2b",
   "metadata": {},
   "source": [
    "#### One-vs-the-rest (OvR) multiclass 모델 생성 및 적합"
   ]
  },
  {
   "cell_type": "code",
   "execution_count": 32,
   "id": "b81b7458-aeb2-4a76-bcdc-ad95e96536eb",
   "metadata": {},
   "outputs": [],
   "source": [
    "# 모델 생성\n",
    "model_ovr = OneVsRestClassifier( tune_knn )  # 앞서 생성했던 최적화 된 결정나무 모델을 괄호 안에 입력\n",
    "\n",
    "# 모델 학습\n",
    "model_ovr.fit( x_train, y2_train )\n",
    "\n",
    "# 예측 확률 반환 (ROC 곡선에 필요)\n",
    "y_proba = model_ovr.predict_proba(x_test)"
   ]
  },
  {
   "cell_type": "markdown",
   "id": "7a6f8963-4fa4-4a18-8571-773d39ae6cc6",
   "metadata": {},
   "source": [
    "#### ROC curve 및 AUC 출력"
   ]
  },
  {
   "cell_type": "code",
   "execution_count": 33,
   "id": "9d41f01d-a94c-4c58-8f23-0cbe1c0a748a",
   "metadata": {},
   "outputs": [
    {
     "data": {
      "image/png": "[encoded data removed]",
      "text/plain": [
       "<Figure size 640x480 with 1 Axes>"
      ]
     },
     "metadata": {},
     "output_type": "display_data"
    },
    {
     "data": {
      "image/png": "[encoded data removed]",
      "text/plain": [
       "<Figure size 640x480 with 1 Axes>"
      ]
     },
     "metadata": {},
     "output_type": "display_data"
    },
    {
     "data": {
      "image/png": "[encoded data removed]",
      "text/plain": [
       "<Figure size 640x480 with 1 Axes>"
      ]
     },
     "metadata": {},
     "output_type": "display_data"
    }
   ],
   "source": [
    "fpr = dict()\n",
    "tpr = dict()\n",
    "thresholds = dict()\n",
    "\n",
    "roc_auc = dict()\n",
    "for i in list(range(0,3)):\n",
    "    fpr[i], tpr[i], thresholds[i] = roc_curve( y2_test[:, i], y_proba[:, i] )\n",
    "    auc = roc_auc_score( y2_test[:, i], y_proba[:, i], multi_class=\"ovr\" )\n",
    "    \n",
    "    RocCurveDisplay( fpr[i], tpr[i] ).plot()\n",
    "    plt.legend( labels = ['AUC = %.4f' % auc],\n",
    "                loc = 'lower right')\n",
    "    plt.plot( [0,1], [0,1], 'k--' )\n",
    "    plt.show()"
   ]
  },
  {
   "cell_type": "markdown",
   "id": "33f03256-aa2f-4b79-8b80-32ec62cba53c",
   "metadata": {},
   "source": [
    "# 시각화 (최적화 전/후 비교)"
   ]
  },
  {
   "cell_type": "markdown",
   "id": "fe91abe0-5ee4-476f-8200-300f494cc8b1",
   "metadata": {},
   "source": [
    "## 2차원 시각화를 위한 x값(예측변수), y값(목표변수) 설정"
   ]
  },
  {
   "cell_type": "code",
   "execution_count": 34,
   "id": "a091f48e-d23a-4d4d-b2c1-3413762d3a7d",
   "metadata": {},
   "outputs": [],
   "source": [
    "# 목표변수와 나머지 변수들을 따로 저장\n",
    "\n",
    "x = df_iris.iloc[ : , [2, 3] ]\n",
    "y = df_iris.iloc[:, 4 ]"
   ]
  },
  {
   "cell_type": "code",
   "execution_count": 35,
   "id": "05a1eb23-0909-45b9-a843-8decbfe7651d",
   "metadata": {},
   "outputs": [],
   "source": [
    "# 데이터셋 나누고 라벨 분포 확인\n",
    "x_train, x_test, y_train, y_test  = train_test_split( x, y,\n",
    "                                                      test_size = 0.30,\n",
    "                                                      random_state = 153 )"
   ]
  },
  {
   "cell_type": "markdown",
   "id": "ca4a330c-a0c5-4e62-9073-d1127ea30601",
   "metadata": {},
   "source": [
    "## `ListedColormap()` 및 `contourf()`을 사용하여 시각화\n",
    "\n",
    "- `matplotlib.colors.ListedColormap( colors, name='from_list', N=None )`  \n",
    "https://matplotlib.org/stable/api/_as_gen/matplotlib.colors.ListedColormap.html\n",
    "\n",
    "- `matplotlib.pyplot.contourf( *args, data=None, **kwargs )`  \n",
    "https://matplotlib.org/stable/api/_as_gen/matplotlib.pyplot.contourf.html"
   ]
  },
  {
   "cell_type": "code",
   "execution_count": 36,
   "id": "70c381a0-15fd-4fdb-921e-a823a42da672",
   "metadata": {},
   "outputs": [],
   "source": [
    "# 모델 생성 함수를 정의하여 사용\n",
    "\n",
    "def knn(k, w):\n",
    "    cluster_knn = KNeighborsClassifier( n_neighbors=k, weights=w )\n",
    "    return cluster_knn\n",
    "\n",
    "# n_neighborsint: default=5\n",
    "# weights: {‘uniform’, ‘distance’} or callable, default=’uniform’\n",
    "# metric: str or callable, default=’minkowski’"
   ]
  },
  {
   "cell_type": "code",
   "execution_count": 37,
   "id": "b323b57a-3880-4e99-ab00-85504995060c",
   "metadata": {},
   "outputs": [
    {
     "data": {
      "image/png": "[encoded data removed]",
      "text/plain": [
       "<Figure size 800x600 with 1 Axes>"
      ]
     },
     "metadata": {},
     "output_type": "display_data"
    },
    {
     "data": {
      "image/png": "[encoded data removed]",
      "text/plain": [
       "<Figure size 800x600 with 1 Axes>"
      ]
     },
     "metadata": {},
     "output_type": "display_data"
    }
   ],
   "source": [
    "# step size in the mesh\n",
    "h = .02  # 수치가 작을 수록 섬세한 경계를 그리지만 연산 시간이 오래 걸린다.\n",
    "\n",
    "# Create color maps\n",
    "cmap_light = ListedColormap(['orange', 'cyan', 'cornflowerblue'])\n",
    "cmap_bold = ['darkorange', 'c', 'darkblue']\n",
    "\n",
    "\n",
    "# weight function에 따라 결과를 따로 시각화 하는 함수\n",
    "for k, w in zip( [5, 13], ['uniform', 'uniform'] ):\n",
    "    \n",
    "    # create an instance of Neighbours Classifier and fit the data.\n",
    "    model_knn = knn(k, w).fit(x_train, y_train)\n",
    "\n",
    "    # Plot the decision boundary. For that, we will assign a color to each\n",
    "    # point in the mesh [x_min, x_max]x[y_min, y_max].\n",
    "    x_min, x_max = x_train.iloc[:, 0].min() - 1, x_train.iloc[:, 0].max() + 1\n",
    "    y_min, y_max = x_train.iloc[:, 1].min() - 1, x_train.iloc[:, 1].max() + 1\n",
    "    \n",
    "    xx, yy = np.meshgrid(np.arange(x_min, x_max, h),\n",
    "                         np.arange(y_min, y_max, h))\n",
    "    \n",
    "    z = model_knn.predict( np.c_[xx.ravel(), yy.ravel()] )\n",
    "    \n",
    "    z = np.where( z == 'setosa', 2, z )\n",
    "    z = np.where( z == 'versicolor', 0, z )\n",
    "    z = np.where( z == 'virginica', 1, z )\n",
    "    \n",
    "    \n",
    "    # Put the result into a color plot\n",
    "    z = z.reshape(xx.shape)\n",
    "    plt.figure(figsize=(8, 6))\n",
    "    plt.contourf(xx, yy, z, cmap = cmap_light)\n",
    "\n",
    "    # Plot also the training points\n",
    "    sb.scatterplot( x = x_train.iloc[:, 0],\n",
    "                    y = x_train.iloc[:, 1],\n",
    "                    hue = y_train,\n",
    "                    palette = cmap_bold, alpha = 1.0, edgecolor=\"black\")\n",
    "    \n",
    "    plt.xlim(xx.min(), xx.max())\n",
    "    plt.ylim(yy.min(), yy.max())\n",
    "    plt.title(\"3-Class classification (k = %i, weights = '%s')\" % (k, w))\n",
    "    plt.xlabel(x_train.columns[0])\n",
    "    plt.ylabel(x_train.columns[1])\n",
    "\n",
    "plt.show()"
   ]
  },
  {
   "cell_type": "markdown",
   "id": "1ade0daa-9d7c-4d77-ba53-e2a207815c84",
   "metadata": {},
   "source": [
    "# [ 참고 ] cross_validate\n",
    "\n",
    "- `sklearn.model_selection.cross_validate( estimator, X, y=None, *, groups=None, scoring=None, cv=None, n_jobs=None, verbose=0, fit_params=None, pre_dispatch='2*n_jobs', return_train_score=False, return_estimator=False, error_score=nan )`  \n",
    "https://scikit-learn.org/stable/modules/generated/sklearn.model_selection.cross_validate.html"
   ]
  },
  {
   "cell_type": "code",
   "execution_count": 38,
   "id": "8774e9e7-254f-4a54-979e-fea1432dcb0b",
   "metadata": {},
   "outputs": [
    {
     "data": {
      "text/html": [
       "<div>\n",
       "<style scoped>\n",
       "    .dataframe tbody tr th:only-of-type {\n",
       "        vertical-align: middle;\n",
       "    }\n",
       "\n",
       "    .dataframe tbody tr th {\n",
       "        vertical-align: top;\n",
       "    }\n",
       "\n",
       "    .dataframe thead th {\n",
       "        text-align: right;\n",
       "    }\n",
       "</style>\n",
       "<table border=\"1\" class=\"dataframe\">\n",
       "  <thead>\n",
       "    <tr style=\"text-align: right;\">\n",
       "      <th></th>\n",
       "      <th>count</th>\n",
       "      <th>mean</th>\n",
       "      <th>std</th>\n",
       "      <th>min</th>\n",
       "      <th>25%</th>\n",
       "      <th>50%</th>\n",
       "      <th>75%</th>\n",
       "      <th>max</th>\n",
       "    </tr>\n",
       "  </thead>\n",
       "  <tbody>\n",
       "    <tr>\n",
       "      <th>fit_time</th>\n",
       "      <td>10.0</td>\n",
       "      <td>0.002199</td>\n",
       "      <td>0.000422</td>\n",
       "      <td>0.001998</td>\n",
       "      <td>0.001999</td>\n",
       "      <td>0.001999</td>\n",
       "      <td>0.001999</td>\n",
       "      <td>0.003001</td>\n",
       "    </tr>\n",
       "    <tr>\n",
       "      <th>score_time</th>\n",
       "      <td>10.0</td>\n",
       "      <td>0.002898</td>\n",
       "      <td>0.000567</td>\n",
       "      <td>0.001999</td>\n",
       "      <td>0.002998</td>\n",
       "      <td>0.002998</td>\n",
       "      <td>0.002998</td>\n",
       "      <td>0.003995</td>\n",
       "    </tr>\n",
       "    <tr>\n",
       "      <th>test_score</th>\n",
       "      <td>10.0</td>\n",
       "      <td>0.966667</td>\n",
       "      <td>0.035136</td>\n",
       "      <td>0.933333</td>\n",
       "      <td>0.933333</td>\n",
       "      <td>0.966667</td>\n",
       "      <td>1.000000</td>\n",
       "      <td>1.000000</td>\n",
       "    </tr>\n",
       "    <tr>\n",
       "      <th>train_score</th>\n",
       "      <td>10.0</td>\n",
       "      <td>0.961481</td>\n",
       "      <td>0.005843</td>\n",
       "      <td>0.955556</td>\n",
       "      <td>0.955556</td>\n",
       "      <td>0.962963</td>\n",
       "      <td>0.962963</td>\n",
       "      <td>0.970370</td>\n",
       "    </tr>\n",
       "  </tbody>\n",
       "</table>\n",
       "</div>"
      ],
      "text/plain": [
       "             count      mean       std       min       25%       50%  \\\n",
       "fit_time      10.0  0.002199  0.000422  0.001998  0.001999  0.001999   \n",
       "score_time    10.0  0.002898  0.000567  0.001999  0.002998  0.002998   \n",
       "test_score    10.0  0.966667  0.035136  0.933333  0.933333  0.966667   \n",
       "train_score   10.0  0.961481  0.005843  0.955556  0.955556  0.962963   \n",
       "\n",
       "                  75%       max  \n",
       "fit_time     0.001999  0.003001  \n",
       "score_time   0.002998  0.003995  \n",
       "test_score   1.000000  1.000000  \n",
       "train_score  0.962963  0.970370  "
      ]
     },
     "execution_count": 38,
     "metadata": {},
     "output_type": "execute_result"
    }
   ],
   "source": [
    "model_knn = KNeighborsClassifier()\n",
    "\n",
    "cv_score = cross_validate( model_knn, x, y,\n",
    "                           scoring = 'accuracy',\n",
    "                           return_train_score = True,\n",
    "                           cv = 10 )\n",
    "\n",
    "pd.DataFrame(cv_score).describe().T"
   ]
  },
  {
   "cell_type": "code",
   "execution_count": 39,
   "id": "39c8b194-da54-4cc3-ba11-99d93c01a7fe",
   "metadata": {},
   "outputs": [
    {
     "data": {
      "text/html": [
       "<div>\n",
       "<style scoped>\n",
       "    .dataframe tbody tr th:only-of-type {\n",
       "        vertical-align: middle;\n",
       "    }\n",
       "\n",
       "    .dataframe tbody tr th {\n",
       "        vertical-align: top;\n",
       "    }\n",
       "\n",
       "    .dataframe thead th {\n",
       "        text-align: right;\n",
       "    }\n",
       "</style>\n",
       "<table border=\"1\" class=\"dataframe\">\n",
       "  <thead>\n",
       "    <tr style=\"text-align: right;\">\n",
       "      <th></th>\n",
       "      <th>count</th>\n",
       "      <th>mean</th>\n",
       "      <th>std</th>\n",
       "      <th>min</th>\n",
       "      <th>25%</th>\n",
       "      <th>50%</th>\n",
       "      <th>75%</th>\n",
       "      <th>max</th>\n",
       "    </tr>\n",
       "  </thead>\n",
       "  <tbody>\n",
       "    <tr>\n",
       "      <th>fit_time</th>\n",
       "      <td>10.0</td>\n",
       "      <td>0.002598</td>\n",
       "      <td>0.000698</td>\n",
       "      <td>0.001999</td>\n",
       "      <td>0.001999</td>\n",
       "      <td>0.002499</td>\n",
       "      <td>0.002998</td>\n",
       "      <td>0.003996</td>\n",
       "    </tr>\n",
       "    <tr>\n",
       "      <th>score_time</th>\n",
       "      <td>10.0</td>\n",
       "      <td>0.004497</td>\n",
       "      <td>0.000527</td>\n",
       "      <td>0.003997</td>\n",
       "      <td>0.003998</td>\n",
       "      <td>0.004497</td>\n",
       "      <td>0.004997</td>\n",
       "      <td>0.004998</td>\n",
       "    </tr>\n",
       "    <tr>\n",
       "      <th>test_score</th>\n",
       "      <td>10.0</td>\n",
       "      <td>0.991667</td>\n",
       "      <td>0.015967</td>\n",
       "      <td>0.950000</td>\n",
       "      <td>0.993333</td>\n",
       "      <td>1.000000</td>\n",
       "      <td>1.000000</td>\n",
       "      <td>1.000000</td>\n",
       "    </tr>\n",
       "    <tr>\n",
       "      <th>train_score</th>\n",
       "      <td>10.0</td>\n",
       "      <td>0.997860</td>\n",
       "      <td>0.000420</td>\n",
       "      <td>0.997366</td>\n",
       "      <td>0.997551</td>\n",
       "      <td>0.997819</td>\n",
       "      <td>0.998107</td>\n",
       "      <td>0.998601</td>\n",
       "    </tr>\n",
       "  </tbody>\n",
       "</table>\n",
       "</div>"
      ],
      "text/plain": [
       "             count      mean       std       min       25%       50%  \\\n",
       "fit_time      10.0  0.002598  0.000698  0.001999  0.001999  0.002499   \n",
       "score_time    10.0  0.004497  0.000527  0.003997  0.003998  0.004497   \n",
       "test_score    10.0  0.991667  0.015967  0.950000  0.993333  1.000000   \n",
       "train_score   10.0  0.997860  0.000420  0.997366  0.997551  0.997819   \n",
       "\n",
       "                  75%       max  \n",
       "fit_time     0.002998  0.003996  \n",
       "score_time   0.004997  0.004998  \n",
       "test_score   1.000000  1.000000  \n",
       "train_score  0.998107  0.998601  "
      ]
     },
     "execution_count": 39,
     "metadata": {},
     "output_type": "execute_result"
    }
   ],
   "source": [
    "auc_multi = make_scorer(roc_auc_score, multi_class='ovr',needs_proba=True)\n",
    "\n",
    "\n",
    "model_knn = KNeighborsClassifier()\n",
    "\n",
    "cv_score = cross_validate( model_knn, x, y,\n",
    "                           scoring = auc_multi,\n",
    "                           return_train_score = True,\n",
    "                           cv = 10 )\n",
    "\n",
    "pd.DataFrame(cv_score).describe().T"
   ]
  }
 ],
 "metadata": {
  "kernelspec": {
   "display_name": "Python 3 (ipykernel)",
   "language": "python",
   "name": "python3"
  },
  "language_info": {
   "codemirror_mode": {
    "name": "ipython",
    "version": 3
   },
   "file_extension": ".py",
   "mimetype": "text/x-python",
   "name": "python",
   "nbconvert_exporter": "python",
   "pygments_lexer": "ipython3",
   "version": "3.8.11"
  },
  "toc-autonumbering": true
 },
 "nbformat": 4,
 "nbformat_minor": 5
}
