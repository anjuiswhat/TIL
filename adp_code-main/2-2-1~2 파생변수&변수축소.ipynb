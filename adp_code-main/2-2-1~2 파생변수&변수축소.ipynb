{
 "cells": [
  {
   "cell_type": "markdown",
   "id": "d60c599f",
   "metadata": {},
   "source": [
    "## 1. import dataframe "
   ]
  },
  {
   "cell_type": "markdown",
   "id": "262d2ecf",
   "metadata": {},
   "source": [
    "### 1. import libraries"
   ]
  },
  {
   "cell_type": "code",
   "execution_count": null,
   "id": "dea22a14",
   "metadata": {},
   "outputs": [],
   "source": [
    "import pandas as pd\n",
    "import numpy as np"
   ]
  },
  {
   "cell_type": "markdown",
   "id": "d760ca4d",
   "metadata": {},
   "source": [
    "## 2. import mtcars data"
   ]
  },
  {
   "cell_type": "code",
   "execution_count": null,
   "id": "7e0bcbed",
   "metadata": {},
   "outputs": [],
   "source": [
    "data = pd.read_csv('https://gist.githubusercontent.com/ZeccaLehn/4e06d2575eb9589dbe8c365d61cb056c/raw/64f1660f38ef523b2a1a13be77b002b98665cdfe/mtcars.csv')\n",
    "data.rename(columns={'Unnamed: 0':'brand'}, inplace=True)"
   ]
  },
  {
   "cell_type": "code",
   "execution_count": null,
   "id": "418ff23d",
   "metadata": {},
   "outputs": [],
   "source": [
    "sample_data = data"
   ]
  },
  {
   "cell_type": "markdown",
   "id": "cd9c5e71",
   "metadata": {},
   "source": [
    "## 3. None(NA)값 대체"
   ]
  },
  {
   "cell_type": "code",
   "execution_count": null,
   "id": "7d214323",
   "metadata": {},
   "outputs": [],
   "source": [
    "### 1. 모든 NA 값 대체\n",
    "sample_data.loc[sample_data[\"mpg\"]>22,\"carb\"] = None\n",
    "sample_data.fillna(-1) # replace whole df"
   ]
  },
  {
   "cell_type": "code",
   "execution_count": null,
   "id": "19f7ef1b",
   "metadata": {},
   "outputs": [],
   "source": [
    "### 2. fill na for one column\n",
    "sample_data.loc[sample_data[\"qsec\"]>18,\"drat\"] = None\n",
    "sample_data['drat'] = sample_data['drat'].fillna(-1)"
   ]
  },
  {
   "cell_type": "markdown",
   "id": "0e886c6b",
   "metadata": {},
   "source": [
    "## 4. Delete Cols/Rows"
   ]
  },
  {
   "cell_type": "code",
   "execution_count": null,
   "id": "649af28c",
   "metadata": {},
   "outputs": [],
   "source": [
    "## 변수 축소 (특정 Column 제외시키기) by column name\n",
    "sample_data_1 = sample_data.drop(['mpg','disp'], axis=1)\n",
    "## 변수 축소 (특정 Column 제외시키기) by column index\n",
    "sample_data_2 = sample_data.drop(sample_data.columns[[0,2,3]], axis = 1)"
   ]
  },
  {
   "cell_type": "code",
   "execution_count": null,
   "id": "371291a6",
   "metadata": {},
   "outputs": [],
   "source": [
    "# Delete rows by row index\n",
    "sample_data_3 = sample_data.drop(['Mazda RX4','Datsun 710'], axis=0)\n",
    "# Delete rows by row number \n",
    " # sample_data_4 = sample_data.drop([0,2,4])  -> index가 차량명이라 no로 불가\n",
    "# Delete rows by condition\n",
    "sample_data_5 = sample_data.drop(sample_data[sample_data.mpg<20.0].index)"
   ]
  }
 ],
 "metadata": {
  "kernelspec": {
   "display_name": "Python 3",
   "language": "python",
   "name": "python3"
  },
  "language_info": {
   "codemirror_mode": {
    "name": "ipython",
    "version": 3
   },
   "file_extension": ".py",
   "mimetype": "text/x-python",
   "name": "python",
   "nbconvert_exporter": "python",
   "pygments_lexer": "ipython3",
   "version": "3.8.8"
  }
 },
 "nbformat": 4,
 "nbformat_minor": 5
}
