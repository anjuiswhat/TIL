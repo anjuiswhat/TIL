{
 "cells": [
  {
   "cell_type": "markdown",
   "id": "93a88c79-15c2-4312-a8cb-3af8d6f60a29",
   "metadata": {},
   "source": [
    "# PART 02. 데이터 전처리"
   ]
  },
  {
   "cell_type": "raw",
   "id": "ec9e8d41-ba94-4c4b-8940-41d010b75984",
   "metadata": {},
   "source": []
  },
  {
   "cell_type": "markdown",
   "id": "a3ab937f-b8e8-4b17-8fad-71c0fec93f6b",
   "metadata": {},
   "source": [
    "## 1장. 제어문"
   ]
  },
  {
   "cell_type": "raw",
   "id": "cfc72421-3917-4fa0-a0f6-41223d6e3b69",
   "metadata": {},
   "source": []
  },
  {
   "cell_type": "markdown",
   "id": "3d326f5b-2240-46e5-968a-5e5e04d3ca2d",
   "metadata": {},
   "source": [
    "### 1절. 조건문 ( if / else , ifelse() )"
   ]
  },
  {
   "cell_type": "markdown",
   "id": "86d00f79-3b68-4939-aa85-ae079571e2b3",
   "metadata": {},
   "source": [
    "#### [Problem]  if, else\n",
    "- 정수를 입력받아 해당 숫자가 짝수인지 홀수인지 판단하고, 만약 입력받은 숫자가 정수가 아닐 경우 “정수를 입력해주세요.”라는 문구를 출력하는 if문을 작성하라"
   ]
  },
  {
   "cell_type": "code",
   "execution_count": null,
   "id": "4e0c0b1d-b115-40c3-a178-efec5cd21a24",
   "metadata": {
    "tags": []
   },
   "outputs": [],
   "source": [
    "n = input('짝/홀수를 판별합니다. 정수를 입력하세요. >')\n",
    "\n",
    "try:\n",
    "    if int(n)%2 == 0:\n",
    "        print(n,': 짝수입니다.')\n",
    "    else:\n",
    "        print(n,': 홀수입니다.')\n",
    "        \n",
    "except:\n",
    "      print('입력한 데이터는 정수가 아닙니다.')\n",
    "\n",
    "# def is_int(str):\n",
    "#    try:\n",
    "#        n = int(str)\n",
    "#        return True\n",
    "#    except ValueError:\n",
    "#        return False"
   ]
  },
  {
   "cell_type": "raw",
   "id": "50095245-8fa6-44a8-9ff3-1e797820a24e",
   "metadata": {},
   "source": []
  },
  {
   "cell_type": "markdown",
   "id": "756f202d-973a-4a91-93dc-7c0a66169f85",
   "metadata": {},
   "source": [
    "#### [Problem]  ifelse\n",
    "- 정수를 입력받아 짝수이면 “짝수입니다.”, 홀수이면 “홀수입니다.”를 출력하고, 정수가 아닐 경우 “정수가 아닙니다.”를 출력하는 ifelse문을 작성하라"
   ]
  },
  {
   "cell_type": "code",
   "execution_count": null,
   "id": "9e375248-a7f6-4880-8150-e78da8387864",
   "metadata": {},
   "outputs": [],
   "source": []
  },
  {
   "cell_type": "raw",
   "id": "ad80e897-292f-480a-8562-15a88ae0ba2f",
   "metadata": {},
   "source": []
  },
  {
   "cell_type": "markdown",
   "id": "3ac5c92a-4485-46c8-adae-db69708baa5f",
   "metadata": {},
   "source": [
    "### 2절. 반복문 ( for, while, repeat )"
   ]
  },
  {
   "cell_type": "markdown",
   "id": "ef00030f-a58a-4bb0-a77d-f831e9d94f99",
   "metadata": {},
   "source": [
    "#### [Problem]  for\n",
    "- 반복문을 사용하지 않은 경우 : print 함수를 4번 실행\n",
    "- 반복문을 사용한 경우 : for문을 1번 실행"
   ]
  },
  {
   "cell_type": "code",
   "execution_count": null,
   "id": "6513d058-bef9-4776-a6f8-494820147e37",
   "metadata": {},
   "outputs": [],
   "source": [
    "print(\"The year is\", 2015)\n",
    "print(\"The year is\", 2016)\n",
    "print(\"The year is\", 2017)\n",
    "print(\"The year is\", 2018)"
   ]
  },
  {
   "cell_type": "code",
   "execution_count": null,
   "id": "c044dd27-b924-4efe-9eb3-8ba623afe49a",
   "metadata": {},
   "outputs": [],
   "source": [
    "# 방법 1\n",
    "\n",
    "year = list(range(2015,2019))    # 2015년~2018년 까지의 연도 리스트 생성\n",
    "\n",
    "for x in year:\n",
    "    print('\"The year is', x, '\"')"
   ]
  },
  {
   "cell_type": "code",
   "execution_count": null,
   "id": "5710340b-74de-467b-82d2-351cee7a60f1",
   "metadata": {},
   "outputs": [],
   "source": [
    "# 방법 2\n",
    "# {}.format() : format 함수 괄호 안의 숫자를 문자열로 변환하여 순차적으로 {}에 넣는다. \n",
    "\n",
    "year = list(range(2015,2019))    # 2015년~2018년 까지의 연도 리스트 생성\n",
    "\n",
    "i = 0\n",
    "        \n",
    "for x in year:\n",
    "    print('\"The year is {}\"'.format(x))\n",
    "    i += 1      # += 숫자 덧셈 후 대입 (또는 문자열 연결 후 대입)"
   ]
  },
  {
   "cell_type": "raw",
   "id": "5aedd537-b22e-4cbc-8cf4-596612f16c67",
   "metadata": {},
   "source": []
  },
  {
   "cell_type": "markdown",
   "id": "a43d3390-c7bb-45cc-93c3-fcec2f02d40e",
   "metadata": {},
   "source": [
    "#### [Problem]  while\n",
    "\n",
    "- for문을 사용하여 해결했던 예제에 대해 while문을 이용해서 똑같은 결과값을 출력하는 코드를 작성하라"
   ]
  },
  {
   "cell_type": "code",
   "execution_count": null,
   "id": "8ebc860e-431d-453a-8122-075091df6d1a",
   "metadata": {},
   "outputs": [],
   "source": [
    "i = 2015\n",
    "\n",
    "while i < 2019:\n",
    "    print('\"The year is {}\"'.format(i))\n",
    "    i += 1"
   ]
  },
  {
   "cell_type": "raw",
   "id": "cc0db1c3-297d-4d77-8aaf-efffaca541ca",
   "metadata": {},
   "source": []
  },
  {
   "cell_type": "markdown",
   "id": "03839710-6fb3-4300-a167-fe9313262332",
   "metadata": {},
   "source": [
    "#### [Problem]  break\n",
    "- break 를 사용하여 1~10 까지의 숫자 중 짝수만 출력하라"
   ]
  },
  {
   "cell_type": "code",
   "execution_count": null,
   "id": "7d34162b-0c4b-466a-b36c-144a352610ff",
   "metadata": {},
   "outputs": [],
   "source": [
    "for i in (list(range(1,11))):\n",
    "    if i%2 == 0:\n",
    "        print(i)\n",
    "    if i >= 11:\n",
    "        break    # i가 10이상이면 반복문 종료"
   ]
  },
  {
   "cell_type": "code",
   "execution_count": null,
   "id": "bcaf5adb-f106-4810-8524-847b905f2708",
   "metadata": {},
   "outputs": [],
   "source": [
    "i = 0\n",
    "\n",
    "while True:\n",
    "    print(i)\n",
    "    i += 2\n",
    "    if i >= 11:\n",
    "        break    # i가 10이상이면 반복문 종료"
   ]
  },
  {
   "cell_type": "raw",
   "id": "0542795a-0a79-486f-b08e-c0284d613378",
   "metadata": {},
   "source": []
  },
  {
   "cell_type": "markdown",
   "id": "111c4b67-53be-494a-9b4b-11dee2326e1e",
   "metadata": {},
   "source": [
    "#### [Problem]  continue\n",
    "- continue 를 사용하여 1~10 까지의 숫자 중 홀수만 출력하라"
   ]
  },
  {
   "cell_type": "code",
   "execution_count": null,
   "id": "dd18fb39-02af-42a6-a8de-8363da825900",
   "metadata": {},
   "outputs": [],
   "source": [
    "# 반복문 내의 next를 만나면 print(i)를 실행하지 않고 for문의 맨 처음으로 이동\n",
    "\n",
    "for i in (list(range(1,11))):\n",
    "    if i%2 == 0:\n",
    "        continue\n",
    "    print(i)"
   ]
  },
  {
   "cell_type": "code",
   "execution_count": null,
   "id": "ef937383-fa80-48ef-b41c-200f97c9a518",
   "metadata": {},
   "outputs": [],
   "source": [
    "i = 0\n",
    "while i < 11:        # i가 100보다 작을 때 반복. 0부터 99까지 증가하면서 100번 반복\n",
    "    i += 1            # i를 1씩 증가시킴\n",
    "    if i % 2 == 0:    # i를 2로 나누었을 때 나머지가 0이면 짝수\n",
    "        continue      # 아래 코드를 실행하지 않고 건너뜀\n",
    "    print(i)"
   ]
  },
  {
   "cell_type": "raw",
   "id": "2ed4dbcd-339f-4a37-8bd3-db5a2d8c5422",
   "metadata": {},
   "source": []
  },
  {
   "cell_type": "raw",
   "id": "cb37cbf9-f819-45d3-a197-ee03789bd149",
   "metadata": {},
   "source": []
  },
  {
   "cell_type": "markdown",
   "id": "4cd8da55-ea1a-4e64-a278-6507c06c62bb",
   "metadata": {},
   "source": [
    "## 2장. 데이터 변환"
   ]
  },
  {
   "cell_type": "raw",
   "id": "4d8f4bb3-83e8-4191-9384-f7362212be0e",
   "metadata": {},
   "source": []
  },
  {
   "cell_type": "markdown",
   "id": "461ecc0a-bee6-4cdc-81ff-4859039d6a54",
   "metadata": {},
   "source": [
    "### 1절. 파생변수 생성"
   ]
  },
  {
   "cell_type": "markdown",
   "id": "9414ef79-c5e8-4e8f-9519-8d1bbb893087",
   "metadata": {},
   "source": [
    "#### [Problem]  data.frame에서의 변수추가\n",
    "- R의 내장 데이터 iris에 행번호를 담고 있는 ‘ID’ 라는 변수를 새로 생성하라"
   ]
  },
  {
   "cell_type": "code",
   "execution_count": null,
   "id": "8944ae26-836d-4f66-bd24-68f63f32b865",
   "metadata": {},
   "outputs": [],
   "source": [
    "import numpy as np\n",
    "import pandas as pd\n",
    "import seaborn as sb\n",
    "\n",
    "# seaborn 패키지의 iris 데이터로 데이터 프레임 생성\n",
    "df_iris = sb.load_dataset('iris')\n",
    "df_iris"
   ]
  },
  {
   "cell_type": "code",
   "execution_count": null,
   "id": "b779c485-0660-4d36-b167-2d609cad4036",
   "metadata": {
    "tags": []
   },
   "outputs": [],
   "source": [
    "# 150개 개체들의 고유번호에 해당하는 'ID' 변수를 새로 생성\n",
    "df_iris['ID'] = list(range(1,151))\n",
    "df_iris"
   ]
  },
  {
   "cell_type": "raw",
   "id": "9985bff6-05d2-4fcb-9332-f6abea49d439",
   "metadata": {},
   "source": []
  },
  {
   "cell_type": "markdown",
   "id": "65c2bd63-5881-46b9-b4f4-eb1e3f9839e8",
   "metadata": {
    "tags": []
   },
   "source": [
    "#### [Problem]  [ ] : 대괄호를 활용한 변수추가\n",
    "- $를 이용하여 생성했던 ID 변수의 값이 짝수이면 A, 홀수이면 B로 분류하는 새로운 변수(변수명 : Group)를 [ ]를 활용하여 생성하라."
   ]
  },
  {
   "cell_type": "code",
   "execution_count": null,
   "id": "73552792-bcf8-4b01-8f9c-ee0bba2a8577",
   "metadata": {},
   "outputs": [],
   "source": [
    "# np.where 사용\n",
    "\n",
    "df_iris['Group'] = np.where( df_iris['ID'].values % 2 == 0, 'Even', 'Odd' )\n",
    "df_iris"
   ]
  },
  {
   "cell_type": "code",
   "execution_count": null,
   "id": "ec74574f-93d2-4fc7-bba8-bd88925df4d1",
   "metadata": {},
   "outputs": [],
   "source": [
    "# apply 및 lambda 함수 사용\n",
    "\n",
    "def odd(x):\n",
    "    try:\n",
    "        if int(x)%2 == 0:\n",
    "            return 'even'\n",
    "        else:\n",
    "            return 'Odd'\n",
    "    except:\n",
    "        print('Error')\n",
    "\n",
    "df_iris['Group'] = df_iris['ID'].apply(lambda x : odd(x))\n",
    "\n",
    "df_iris"
   ]
  },
  {
   "cell_type": "raw",
   "id": "7d6c5134-51d4-4ffe-aeaf-263dd6e2027a",
   "metadata": {},
   "source": []
  },
  {
   "cell_type": "markdown",
   "id": "ea585195-4656-4d20-bfa6-ce93ab431f36",
   "metadata": {},
   "source": [
    "#### [Problem]  새로운 변수 추가\n",
    "- iris 데이터에서 Sepal.Length 변수와 Petal.Length 변수의 값을 더하여 ‘Sum.Length’ 라는 새로운 변수를 생성하라."
   ]
  },
  {
   "cell_type": "code",
   "execution_count": null,
   "id": "6de1dec5-c813-4f2f-8fb0-0e0895bb89b2",
   "metadata": {},
   "outputs": [],
   "source": [
    "df_iris['Sum.Length'] = df_iris['sepal_length'] + df_iris['petal_length']\n",
    "\n",
    "df_iris"
   ]
  },
  {
   "cell_type": "raw",
   "id": "a41f5ec7-6fcb-4777-ad96-acbb5663fb1e",
   "metadata": {},
   "source": []
  },
  {
   "cell_type": "markdown",
   "id": "e543830d-1b76-4170-a8f5-b9f63c8d2dc6",
   "metadata": {},
   "source": [
    "#### [Problem]  데이터 프레임에 접근 및 수정\n",
    "- 학생의 id(s1, s2, s3, s4, s5, s6)를 담은 student_id 변수와 시험점수(55, 90, 85, 71, 63, 99)를 담은 score 변수로 구성된 데이터프레임을 생성\n",
    "- 그 후 시험점수가 90점 이상이면 수, 80점 이상 90점 미만이면 우, 70점 이상 80점 미만이면 미, 60점 이상 70점 미만이면 양, 60점 이하이면 가로 분류하는 ‘grade’ 라는 변수를 새롭게 생성"
   ]
  },
  {
   "cell_type": "code",
   "execution_count": null,
   "id": "fc28f596-b2f5-47eb-9981-c517ccbd4cf5",
   "metadata": {},
   "outputs": [],
   "source": [
    "import numpy as np\n",
    "import pandas as pd\n",
    "\n",
    "# 데이터 프레임 생성 - 개별 생성\n",
    "df_student = pd.DataFrame()\n",
    "\n",
    "df_student['ID'] = ['s1', 's2', 's3', 's4', 's5', 's6']\n",
    "df_student['Score'] = [55, 90, 85, 71, 63, 99]\n",
    "\n",
    "df_student"
   ]
  },
  {
   "cell_type": "code",
   "execution_count": null,
   "id": "a890558c-adc3-4c65-892b-d3f076a41da4",
   "metadata": {},
   "outputs": [],
   "source": [
    "# 학생의 점수(score변수)를 수, 우, 미, 양, 가로 분류하여 'grade' 라는 새로운 변수 생성\n",
    "def grade(x):\n",
    "    if x >= 90:\n",
    "        return '수'\n",
    "    elif x >=80:\n",
    "        return '우'\n",
    "    elif x >=70:\n",
    "        return '미'\n",
    "    elif x >=60:\n",
    "        return '양'\n",
    "    else:\n",
    "        return '가'\n",
    "\n",
    "df_student['Grade'] = df_student['Score'].apply(lambda x : grade(x))\n",
    "df_student"
   ]
  },
  {
   "cell_type": "raw",
   "id": "877fe58d-2a4e-4de9-a42b-6132db49185f",
   "metadata": {},
   "source": []
  },
  {
   "cell_type": "markdown",
   "id": "32a61dad-23cf-43b0-933c-e9662a661bd5",
   "metadata": {},
   "source": [
    "### 2절. 변수 축소"
   ]
  },
  {
   "cell_type": "markdown",
   "id": "bcee0954-3e3b-479b-8ac6-bd02267f838d",
   "metadata": {},
   "source": [
    "#### [Problem]  주성분분석\n",
    "- R에 내장된 USArrests 데이터는 1973년 미국 50개주 100,000명의 인구 당 체포된 세 가지 강력범죄수(assault, murder, rape)와 각 주마다 도시에 거주하는 인구의 비율(%)로 구성되어있다.\n",
    "- 주성분 분석을 수행하여 해당 데이터의 변수들을 가장 잘 요약하는 주성분을 구하고 해석하라."
   ]
  },
  {
   "cell_type": "code",
   "execution_count": null,
   "id": "f4be7aa4-a667-45a3-9616-af43de77400b",
   "metadata": {},
   "outputs": [],
   "source": [
    "import numpy as np\n",
    "import pandas as pd\n",
    "\n",
    "# 데이터 표준화를 위한 패키지\n",
    "# 파이썬으로 주성분 분석을 수행할 때는 데이터 표준화가 선행 되어야 한다.\n",
    "from sklearn.preprocessing import StandardScaler\n",
    "\n",
    "# 차원축소를 위한 패키지\n",
    "from sklearn.decomposition import PCA\n",
    "\n",
    "# 그래프를 그리기 위한 패키지\n",
    "import seaborn as sb\n",
    "import matplotlib.pyplot as plt"
   ]
  },
  {
   "cell_type": "code",
   "execution_count": null,
   "id": "cd7e7f1f-a36d-4bf5-adaa-da918f57744b",
   "metadata": {},
   "outputs": [],
   "source": [
    "# arrests 데이터 불러오기 및 데이터 프레임 생성\n",
    "\n",
    "df_arrests = pd.read_csv( \"C:/Users/Administrator/GitHub/TIL/ADP_study/rawdata/USArrests.csv\",\n",
    "                         index_col='Unnamed: 0' )\n",
    "\n",
    "# 데이터 프레임 파악\n",
    "display(df_arrests.columns)\n",
    "print()\n",
    "display(df_arrests.head())\n",
    "print()\n",
    "display(df_arrests.describe())\n",
    "print()\n",
    "display(df_arrests.info())"
   ]
  },
  {
   "cell_type": "code",
   "execution_count": null,
   "id": "926e59fc-3fc0-43ae-ac9f-3ed2ad01e87c",
   "metadata": {},
   "outputs": [],
   "source": [
    "#산점도를 통해 변수간 상관관계 파악\n",
    "# pairplot() : 둘 이상의 변수에 대해 모든 가능한 산점도를 그려줌\n",
    "\n",
    "sb.pairplot(df_arrests, diag_kind='hist')\n",
    "plt.show()"
   ]
  },
  {
   "cell_type": "code",
   "execution_count": null,
   "id": "38979011-ddce-4657-8a4d-f71d8cff7cd9",
   "metadata": {},
   "outputs": [],
   "source": [
    "# 데이터 표준화 수행\n",
    "# 파이썬으로 주성분 분석을 수행할 때는 데이터 표준화가 선행 되어야 한다.\n",
    "\n",
    "x = df_arrests\n",
    "\n",
    "x_scaled = StandardScaler().fit_transform(x)\n",
    "\n",
    "x = pd.DataFrame(data=x_scaled, index=x.index, columns=x.columns)\n",
    "\n",
    "# 표준화 수행 전/후 비교\n",
    "display(df_arrests.head())\n",
    "print()\n",
    "x.head()"
   ]
  },
  {
   "cell_type": "code",
   "execution_count": null,
   "id": "dbaf229d-a181-4aa6-b693-8282af8706d7",
   "metadata": {},
   "outputs": [],
   "source": [
    "# ② 주성분분석 수행\n",
    "pca = PCA(n_components=4) # 주성분의 갯수\n",
    "pca.fit(x)\n",
    "\n",
    "# Proportion of Variance\n",
    "pca.explained_variance_ratio_\n",
    "\n",
    "pca_result = pd.Series(pca.explained_variance_ratio_,\n",
    "                      index = df_arrests.columns)\n",
    "\n",
    "pca_result\n",
    "\n",
    "# 실행 결과 주성분 2개만 사용해도 86.7%의 설명력을 가진다"
   ]
  },
  {
   "cell_type": "code",
   "execution_count": null,
   "id": "d18ac474-22bd-4cf8-9ab7-b1966aa79653",
   "metadata": {},
   "outputs": [],
   "source": [
    "# screeplot 그리기\n",
    "# 주성분분석의 결과를 plot함수 인자값으로 지정하면 scree plot이 생성된다.\n",
    "\n",
    "\n",
    "pc_values = np.arange(pca.n_components_) + 1\n",
    "plt.plot(pc_values,\n",
    "         pca.explained_variance_ratio_,\n",
    "         'o-')\n",
    "\n",
    "plt.title('US.prin')\n",
    "plt.xlabel('Components')\n",
    "plt.ylabel('Variances')"
   ]
  },
  {
   "cell_type": "code",
   "execution_count": null,
   "id": "1d692264-f717-4980-82ff-4c541a34f3d5",
   "metadata": {},
   "outputs": [],
   "source": [
    "# ③ Loading\n",
    "# 주성분 계수\n",
    "\n",
    "loadings = pd.DataFrame(pca.components_.T, columns=['PC1', 'PC2','PC3','PC4'], index=df_arrests.columns)\n",
    "loadings"
   ]
  },
  {
   "cell_type": "code",
   "execution_count": null,
   "id": "1658dde8-884f-41cd-b62c-7ec762cbd090",
   "metadata": {},
   "outputs": [],
   "source": [
    "# ④ Scores\n",
    "\n",
    "pc_score = pca.transform(x)\n",
    "pc_score = pd.DataFrame(data=pc_score, columns = ['PC1', 'PC2','PC3','PC4'])# 주성분으로 이루어진 데이터 프레임 구성\n",
    "\n",
    "pc_score.head()\n",
    "pc_score.corr()"
   ]
  },
  {
   "cell_type": "code",
   "execution_count": null,
   "id": "402a469d-4ed6-4519-a987-eac3ebb5fcb6",
   "metadata": {},
   "outputs": [],
   "source": [
    "# ⑤ 제 1-2 주성분에 의한 행렬도 (biplot)\n"
   ]
  },
  {
   "cell_type": "raw",
   "id": "0335908c-adca-4cf9-a386-529654c459aa",
   "metadata": {},
   "source": []
  },
  {
   "cell_type": "markdown",
   "id": "d4983efc-c403-496b-a29e-095a1fc09ed5",
   "metadata": {},
   "source": [
    "#### [Problem]  요인분석\n",
    "- R의 내장 데이터 swiss는 1888년 경 스위스 내 47개 주의 사회 경제적 지표(교육, 농업 종사자 비율 등)와 출산율에 대한 데이터이다.\n",
    "- 원활한 분석을 위해 먼저 해당 데이터의 5가지 변수들을 min-max 정규화한 뒤, 요인분석을 실시하여 변수들을 3개의 요인으로 축소하라.(factanal 함수 사용)"
   ]
  },
  {
   "cell_type": "code",
   "execution_count": null,
   "id": "e2c9a22d-9624-4154-8bd8-00fe02563fc8",
   "metadata": {},
   "outputs": [],
   "source": [
    "import numpy as np\n",
    "import pandas as pd\n",
    "\n",
    "# min-max 정규화 패키지 (StandardScaler 아님!!!!)\n",
    "from sklearn.preprocessing import MinMaxScaler\n",
    "\n",
    "# 요인분석을 위한 패키지\n",
    "from factor_analyzer import FactorAnalyzer\n",
    "\n",
    "# 그래프를 그리기 위한 패키지\n",
    "import seaborn as sb\n",
    "import matplotlib.pyplot as plt"
   ]
  },
  {
   "cell_type": "code",
   "execution_count": null,
   "id": "b6d3b6e8-b1de-4fd9-a5af-7b635e1e7e9e",
   "metadata": {},
   "outputs": [],
   "source": [
    "# swiss 데이터 불러오기 및 데이터 프레임 생성 \n",
    "\n",
    "df_swiss = pd.read_csv( \"C:/Users/Administrator/GitHub/TIL/ADP_study/rawdata/swiss.csv\",\n",
    "                      index_col='Location' )\n",
    "\n",
    "# 데이터 프레임 파악\n",
    "display(df_swiss.columns)\n",
    "print()\n",
    "display(df_swiss.head())\n",
    "print()\n",
    "display(df_swiss.describe())\n",
    "print()\n",
    "display(df_swiss.info())"
   ]
  },
  {
   "cell_type": "code",
   "execution_count": null,
   "id": "c18ff513-a5fb-4c82-a694-38e27e04dc07",
   "metadata": {},
   "outputs": [],
   "source": [
    "# min-max 정규화 수행\n",
    "\n",
    "x = df_swiss\n",
    "scaler = MinMaxScaler()\n",
    "\n",
    "x_scaled = MinMaxScaler().fit_transform(x)\n",
    "x = pd.DataFrame(data=x_scaled, index=x.index, columns=x.columns)\n",
    "\n",
    "# 정규화 수행 전/후 비교\n",
    "display(df_swiss.head())\n",
    "print()\n",
    "x.head()"
   ]
  },
  {
   "cell_type": "code",
   "execution_count": null,
   "id": "f9add169-a05a-4583-b74c-07dfbd2ccea6",
   "metadata": {},
   "outputs": [],
   "source": [
    "# 요인분석을 수행하기 전에 요인 수 선택\n",
    "\n",
    "fa = FactorAnalyzer(n_factors=6, rotation=None)\n",
    "fa.fit(df_swiss)\n",
    "\n",
    "## Eigen Value 확인\n",
    "\n",
    "ev, v = fa.get_eigenvalues()\n",
    "ev_result = pd.Series(ev,\n",
    "                      index=df_swiss.columns)\n",
    "ev_result"
   ]
  },
  {
   "cell_type": "code",
   "execution_count": null,
   "id": "9de26f9a-086f-4780-a867-557f0dcd618d",
   "metadata": {},
   "outputs": [],
   "source": [
    "# screeplot 그리기\n",
    "\n",
    "plt.scatter(range(1, df_swiss.shape[1]+1), ev)\n",
    "plt.plot(range(1, df_swiss.shape[1]+1), ev)\n",
    "\n",
    "plt.title('Scree Plot')\n",
    "plt.xlabel('Factors')\n",
    "plt.ylabel('Eigen Values')"
   ]
  },
  {
   "cell_type": "code",
   "execution_count": null,
   "id": "6cdf133c-fab1-43b1-b5ac-c63116e520a1",
   "metadata": {},
   "outputs": [],
   "source": [
    "# 탐색적 요인분석 수행\n",
    "## 요인 개수는 3개\n",
    "## factanal함수 rotation 인자의 값은 \"varimax\" 로 설정 -> 최대우도 방법\n",
    "## Uniquenesses 는 어떻게????????????????????????\n",
    "\n",
    "fa = FactorAnalyzer(n_factors=3,\n",
    "                    rotation=\"varimax\")    # 최대우도 추정법\n",
    "fa.fit(df_swiss)\n",
    "fa.loadings_"
   ]
  },
  {
   "cell_type": "code",
   "execution_count": null,
   "id": "4a7a2e52-d4f8-4365-a820-e8efc273de3e",
   "metadata": {},
   "outputs": [],
   "source": [
    "# Loadings\n",
    "efa_result = pd.DataFrame(fa.loadings_, index=df_swiss.columns)\n",
    "efa_result"
   ]
  },
  {
   "cell_type": "code",
   "execution_count": null,
   "id": "9e36bb0d-7d08-4c6f-8309-2126513d0105",
   "metadata": {},
   "outputs": [],
   "source": [
    "fa.get_factor_variance()"
   ]
  },
  {
   "cell_type": "code",
   "execution_count": null,
   "id": "d08faa87-1a40-4a54-9ea4-a35d54403c20",
   "metadata": {},
   "outputs": [],
   "source": [
    "# SS loadings, Proportion Var., Cumulative Var.\n",
    "\n",
    "efa_result2 = pd.DataFrame(fa.get_factor_variance(),\n",
    "                          index = ['SS Loadings', 'Proportion Var', 'Cumulative Var'])\n",
    "efa_result2"
   ]
  },
  {
   "cell_type": "code",
   "execution_count": null,
   "id": "1e03a166-5f9e-4793-a1ce-d3f30c67ae51",
   "metadata": {},
   "outputs": [],
   "source": [
    "# 히트맵 그리기\n",
    "\n",
    "plt.figure(figsize=(6,10))\n",
    "sb.heatmap(efa_result, cmap=\"Blues\", annot=True, fmt='.2f')"
   ]
  },
  {
   "cell_type": "raw",
   "id": "4f7bf089-3e71-447a-b059-db314782bedb",
   "metadata": {},
   "source": []
  },
  {
   "cell_type": "markdown",
   "id": "b176a339-2738-49f0-be9e-aaf993d55f23",
   "metadata": {},
   "source": [
    "### 3절. 표준화와 정규화"
   ]
  },
  {
   "cell_type": "markdown",
   "id": "a64d15c6-5253-4fed-9a2e-39a35c06c6f8",
   "metadata": {},
   "source": [
    "#### [Problem]  표준화\n",
    "- R의 내장 데이터 ‘mtcars’의 mpg(마일)변수와 hp(총마력)변수로만 이루어진 데이터프레임(test.cars)을 생성하고, 각 변수를 표준화한 새로운 변수를 추가하라. (mpg를 표준화한 변수의 이름은 mpg_scale, hp를 표준화한 변수의 이름은 hp_scale로 지정)"
   ]
  },
  {
   "cell_type": "code",
   "execution_count": null,
   "id": "d166c394-491b-4804-be5d-ccc82a27056b",
   "metadata": {},
   "outputs": [],
   "source": [
    "import numpy as np\n",
    "import pandas as pd\n",
    "\n",
    "# 표준화 패키지\n",
    "from sklearn.preprocessing import StandardScaler\n",
    "\n",
    "\n",
    "# mtcars 데이터 불러오기 및 데이터 프레임 생성\n",
    "df_mtcars = pd.read_csv(\"C:/Users/Administrator/GitHub/TIL/ADP_study/rawdata/mtcars.csv\",\n",
    "                        index_col='model' )\n",
    "df_mtcars.head()"
   ]
  },
  {
   "cell_type": "code",
   "execution_count": null,
   "id": "b85531d7-e6ab-4890-85fc-52ce0d198d1a",
   "metadata": {},
   "outputs": [],
   "source": [
    "# mpg(마일)변수와 hp(총마력)변수로만 이루어진 데이터프레임(test.cars) 생성\n",
    "\n",
    "test_cars = df_mtcars[ ['mpg', 'hp'] ]\n",
    "\n",
    "test_cars.head()"
   ]
  },
  {
   "cell_type": "code",
   "execution_count": null,
   "id": "f76e3719-e409-482e-86bf-6f23a60cf7ae",
   "metadata": {},
   "outputs": [],
   "source": [
    "# 표준화한 변수 추가\n",
    "\n",
    "x = test_cars\n",
    "x_scaled = StandardScaler().fit_transform(x)\n",
    "\n",
    "test_cars[['mpg_scale', 'hp_scale']] = x_scaled\n",
    "test_cars.head()"
   ]
  },
  {
   "cell_type": "raw",
   "id": "108f787e-c584-4e8a-a152-708994e7e311",
   "metadata": {},
   "source": []
  },
  {
   "cell_type": "markdown",
   "id": "ec49c2f6-9ece-41bb-921c-1d664735e5f8",
   "metadata": {},
   "source": [
    "#### [Problem]  정규화\n",
    "- R의 내장 데이터 iris의 Sepal.Length 변소를 정규화하는 코드 작성\n",
    "- scale 함수를 이용하는 경우와 사용자 정의 함수를 이용하는 경우에 대해 각각 실행"
   ]
  },
  {
   "cell_type": "code",
   "execution_count": null,
   "id": "aabfa45a-2218-47c3-ad41-b84f2d8a8663",
   "metadata": {},
   "outputs": [],
   "source": [
    "import numpy as np\n",
    "import pandas as pd\n",
    "import seaborn as sb\n",
    "\n",
    "# seaborn 패키지의 iris 데이터로 데이터 프레임 생성\n",
    "df_iris = sb.load_dataset('iris')\n",
    "df_iris\n",
    "\n",
    "# min-max 정규화 패키지\n",
    "from sklearn.preprocessing import MinMaxScaler"
   ]
  },
  {
   "cell_type": "code",
   "execution_count": null,
   "id": "bdd1b464-b2fa-4fbc-87b4-8d4d1f8aa099",
   "metadata": {},
   "outputs": [],
   "source": [
    "# min-max 정규화 수행\n",
    "# iris의 Sepal.Length 변수를 정규화\n",
    "\n",
    "# 특정 열만 정규화 하기 위해서 data frame을 array로 변환\n",
    "x = df_iris.values\n",
    "\n",
    "# sepal length 컬럼 정규화\n",
    "scaler = MinMaxScaler()\n",
    "x_scaled = MinMaxScaler().fit_transform(x[:,0:1])\n",
    "\n",
    "# 졍규화된 array 를 iris 데이터프레임에 추가\n",
    "df_iris['sl_scaled']=x_scaled[:,0:1]\n",
    "df_iris.head()"
   ]
  },
  {
   "cell_type": "code",
   "execution_count": null,
   "id": "cb5964d9-70fb-4e82-89c7-e5ca38f21915",
   "metadata": {},
   "outputs": [],
   "source": [
    "## 나. 사용자 정의 함수 이용\n",
    "\n",
    "# 정규화한 값을 반환하는 함수 정의\n",
    "# x : 정규화하고자 하는 숫자형 벡터\n"
   ]
  },
  {
   "cell_type": "raw",
   "id": "51e298f5-a94c-471d-becb-d0d876ded088",
   "metadata": {},
   "source": []
  },
  {
   "cell_type": "raw",
   "id": "a163be6d-0c63-47b9-9834-19ce6c341b99",
   "metadata": {},
   "source": []
  },
  {
   "cell_type": "markdown",
   "id": "711b4f36-31aa-4dd2-81ed-1b58bcdae9e0",
   "metadata": {},
   "source": [
    "## 3장. 데이터 결합 및 요약"
   ]
  },
  {
   "cell_type": "raw",
   "id": "2922ada0-4429-404b-83b3-47f34e6e660c",
   "metadata": {},
   "source": []
  },
  {
   "cell_type": "markdown",
   "id": "58acf15b-d72c-4a91-bdc1-bb22a356dc85",
   "metadata": {},
   "source": [
    "### 1절. 데이터 결합"
   ]
  },
  {
   "cell_type": "markdown",
   "id": "b1b07028-98ba-4aa7-b677-0b4a7cb45edb",
   "metadata": {},
   "source": [
    "#### [Problem]  데이터 프레임을 행 방향으로 연결\n",
    "- id와 last_name이라는 변수로 이루어진 두 개의 데이터프레임을 생성한 후, 두 데이터프레임을 행 기준으로 결합하여 고객의 아이디와 성을 저장하고 있는 하나의 데이터프레임으로 생성하라."
   ]
  },
  {
   "cell_type": "code",
   "execution_count": null,
   "id": "5be4003b-03d5-457c-82b8-9b2ea84a8fe6",
   "metadata": {},
   "outputs": [],
   "source": [
    "import pandas as pd\n",
    "\n",
    "# 행으로 묶을 데이터 생성 : rbind를 사용할 때에는 열의 이름과 개수가 동일해야 함\n",
    "\n",
    "dic_a = {'id':[\"c01\",\"c02\",\"c03\",\"c04\"],\n",
    "        'last_name':[\"Lee\", \"Kim\", \"Choi\", \"Park\"]}\n",
    "\n",
    "dic_b = {'id':[\"c05\", \"c06\", \"c07\"],\n",
    "        'last_name':[\"Lim\" , \"Bae\", \"Kim\"]}\n",
    "\n",
    "customer1 = pd.DataFrame(dic_a)\n",
    "customer2 = pd.DataFrame(dic_b)\n",
    "\n",
    "display(customer1, customer2)"
   ]
  },
  {
   "cell_type": "code",
   "execution_count": null,
   "id": "4250541c-7713-47df-8697-033076dc0665",
   "metadata": {},
   "outputs": [],
   "source": [
    "# 두 데이터프레임을 위아래로 연결\n",
    "\n",
    "id_name = pd.concat( [customer1, customer2],\n",
    "                    ignore_index=True)    # 결합 후, 기존에 각자 가지고 있던 index 를 무시하고 새로운 index 생성\n",
    "id_name"
   ]
  },
  {
   "cell_type": "raw",
   "id": "7fa93b24-5e4a-4265-9d06-a25149aea3b8",
   "metadata": {},
   "source": []
  },
  {
   "cell_type": "markdown",
   "id": "530b77a5-cca7-4e69-be93-1147a00a71c9",
   "metadata": {},
   "source": [
    "#### [Problem]  데이터 프레임을 열 방향으로 연결\n",
    "- 고객의 나이(age)와 수입(income)을 담고 있는 데이터(age_income)를 새로 생성하고, rbind 함수 예제에서 생성했던 id_name 데이터와 열을 기준으로 결합하여 customer 데이터를 생성하라."
   ]
  },
  {
   "cell_type": "code",
   "execution_count": null,
   "id": "70346867-66af-4786-8c01-30e5d5c80d50",
   "metadata": {},
   "outputs": [],
   "source": [
    "import pandas as pd\n",
    "\n",
    "# 열로 묶을 데이터 생성 : cbind를 사용할 때에는 행의 개수가 동일해야 함\n",
    "# age변수와 income변수로 구성된 데이터프레임 생성\n",
    "\n",
    "dic_c = {'age' : [20, 25, 37, 40, 32, 45, 37],\n",
    "         'income' : [2500, 6400, 0, 7000, 3400, 3800, 5010]}\n",
    "\n",
    "age_income = pd.DataFrame(dic_c)\n",
    "age_income"
   ]
  },
  {
   "cell_type": "code",
   "execution_count": null,
   "id": "a8a34bb2-90de-4bc3-a4f7-d3d64cea4ead",
   "metadata": {
    "tags": []
   },
   "outputs": [],
   "source": [
    "# 두 데이터프레임을 좌우로 연결\n",
    "\n",
    "pd.concat( [id_name, age_income], axis=1 )    # 열 방향 연결 옵션 : axis = 1"
   ]
  },
  {
   "cell_type": "raw",
   "id": "36f2d848-2587-4b74-92b8-969c0cd8e612",
   "metadata": {},
   "source": []
  },
  {
   "cell_type": "markdown",
   "id": "47064f5d-86a8-4469-b332-b83b1e18d1b5",
   "metadata": {},
   "source": [
    "#### [Problem]  merge\n",
    "- 고객의 아이디(id), 이름(name)으로 이루어진 데이터프레임(id_name)과 고객의 아이디(id), 번호(number)로 이루어진 데이터프레임(id_number)을 생성한 뒤, 다양한 방법을 사용하여 두 데이터를 병합하라."
   ]
  },
  {
   "cell_type": "code",
   "execution_count": null,
   "id": "3be7610d-700f-4f1e-87e0-866e33eb1b38",
   "metadata": {},
   "outputs": [],
   "source": [
    "import pandas as pd\n",
    "\n",
    "# 병합에 사용할 데이터프레임 생성\n",
    "id_name = pd.DataFrame( {'id' : [\"c01\",\"c02\",\"c03\",\"c04\",\"c05\", \"c06\", \"c07\"],\n",
    "                       'last_name' : [\"Lee\", \"Kim\", \"Choi\", \"Park\", \"Lim\" , \"Bae\", \"Kim\"]} )\n",
    "\n",
    "id_number = pd.DataFrame( {'id' : [\"c03\", \"c04\", \"c05\", \"c06\", \"c07\", \"c08\", \"c09\"],\n",
    "                           'number' : [3, 1, 0, 7, 3, 4, 1]} )\n",
    "\n",
    "# id_name, id_number 데이터프레임 확인\n",
    "display(id_name, id_number)"
   ]
  },
  {
   "cell_type": "code",
   "execution_count": null,
   "id": "ee3d4e49-8303-4080-a7cc-f4ac0ae053ce",
   "metadata": {},
   "outputs": [],
   "source": [
    "# Q1) id 칼럼을 기준으로 두 테이블이 모두 공통된 값을 가지고 있는 경우에만 두 데이터(id_name, id_number)를 병합.\n",
    "# (데이터베이스의 Inner Join에 해당)\n",
    "\n",
    "pd.merge(id_name, id_number)"
   ]
  },
  {
   "cell_type": "code",
   "execution_count": null,
   "id": "e0da8e56-28f9-45f0-a722-e0f0d1dd88f4",
   "metadata": {},
   "outputs": [],
   "source": [
    "# Q2) 공통된 값이 없는 경우에도 데이터가 출력되도록 id 칼럼을 기준으로 두 데이터(id_name, id_number)의 모든 행을 병합.\n",
    "# (데이터베이스의 Outer Join에 해당)\n",
    "# 기준칼럼에 공통된 값이 없는 경우, 다른 변수 값 자리에는 NA가 채워짐\n",
    "\n",
    "pd.merge(id_name, id_number,\n",
    "        how = 'outer',\n",
    "        on = 'id')"
   ]
  },
  {
   "cell_type": "code",
   "execution_count": null,
   "id": "f05a753a-c1b6-46bd-8c6e-390081a1557c",
   "metadata": {},
   "outputs": [],
   "source": [
    "# Q3) id 칼럼을 기준으로 두 데이터(id_name, id_number)를 병합하되 기준칼럼에 공통 값이 없는 경우에는 id_name 데이터를 기준으로 병합.\n",
    "# (데이터베이스의 Left Outer Join에 해당)\n",
    "\n",
    "pd.merge(id_name, id_number,\n",
    "        how = 'left')"
   ]
  },
  {
   "cell_type": "code",
   "execution_count": null,
   "id": "cb52fde1-980c-4969-ab0e-d3639edf1ac9",
   "metadata": {},
   "outputs": [],
   "source": [
    "# Q4) id 칼럼을 기준으로 두 데이터(id_name, id_number)를 병합하되 기준칼럼에 공통 값이 없는 경우에는 id_number 데이터를 기준으로 병합. \n",
    "# (데이터베이스의 Right Outer Join에 해당)\n",
    "\n",
    "pd.merge(id_name, id_number,\n",
    "        how = 'right')"
   ]
  },
  {
   "cell_type": "raw",
   "id": "c90fbd21-a745-4e66-835b-14a4f73d04e5",
   "metadata": {},
   "source": []
  },
  {
   "cell_type": "markdown",
   "id": "74b2bf7c-4a1b-4670-9bb8-33f08842dd9e",
   "metadata": {},
   "source": [
    "### 2절. 데이터 요약"
   ]
  },
  {
   "cell_type": "markdown",
   "id": "2c653dd8-3f60-4527-9f3c-3b0e1f034551",
   "metadata": {},
   "source": [
    "#### [Problem]  aggregate\n",
    "- iris 데이터에서 종별 Sepal.Width의 평균을 구하라\n",
    "- iris 데이터에서 종별 Sepal.Width, Petal.Width 의 평균을 한 번에 구하라"
   ]
  },
  {
   "cell_type": "code",
   "execution_count": null,
   "id": "23f08d98-3b9b-4213-b055-5cacbaeda876",
   "metadata": {},
   "outputs": [],
   "source": [
    "import pandas as pd\n",
    "import seaborn as sb\n",
    "\n",
    "# iris 데이터 프레임 생성\n",
    "df_iris = sb.load_dataset('iris')"
   ]
  },
  {
   "cell_type": "code",
   "execution_count": null,
   "id": "4b3d36a0-76c5-4f97-840d-22f0ae08c7bb",
   "metadata": {},
   "outputs": [],
   "source": [
    "# 데이터 프레임 파악\n",
    "display(df_iris.columns)\n",
    "print()\n",
    "display(df_iris.head())\n",
    "print()\n",
    "display(df_iris.describe())\n",
    "print()\n",
    "display(df_iris.info())"
   ]
  },
  {
   "cell_type": "code",
   "execution_count": null,
   "id": "ad03f291-6583-486d-a76b-d6e89b751e0c",
   "metadata": {},
   "outputs": [],
   "source": [
    "df_sl = df_iris[ ['species', 'sepal_length'] ]\n",
    "grouped = df_sl.groupby('species')\n",
    "\n",
    "grouped.mean()"
   ]
  },
  {
   "cell_type": "code",
   "execution_count": null,
   "id": "e877e68c-a511-4fc1-a7e5-13bd0f2b0359",
   "metadata": {},
   "outputs": [],
   "source": [
    "df_sl_pw = df_iris[ ['species', 'sepal_length', 'petal_width'] ]\n",
    "grouped = df_sl_pw.groupby('species')\n",
    "\n",
    "grouped.mean()"
   ]
  },
  {
   "cell_type": "raw",
   "id": "5ea3c6b9-4487-4194-a69f-f6f8eef03d68",
   "metadata": {},
   "source": []
  },
  {
   "cell_type": "markdown",
   "id": "4c0bd965-54d6-45ea-b2e0-127f6721c0ff",
   "metadata": {},
   "source": [
    "#### [Problem]  도수분포\n",
    "- 내장데이터 Titanic은 타이타닉호 탑승자들의 특성에 따른 생존여부를 기록해놓은 데이터이다.\n",
    "- Q1) Titanic이 데이터에서 좌석등급을 의미하는 Class 변수에 대해서 도수분포표를 생성하라."
   ]
  },
  {
   "cell_type": "code",
   "execution_count": null,
   "id": "edb98452-ff1b-43e5-b6fd-7f5dfdd03dd7",
   "metadata": {},
   "outputs": [],
   "source": [
    "import numpy as np\n",
    "import pandas as pd\n",
    "import seaborn as sb\n",
    "\n",
    "df_titanic = sb.load_dataset('titanic')"
   ]
  },
  {
   "cell_type": "code",
   "execution_count": null,
   "id": "dec3680b-b976-46c6-8b2f-b8ec16fc134c",
   "metadata": {
    "tags": []
   },
   "outputs": [],
   "source": [
    "display(df_titanic, df_titanic.columns, df_titanic.describe(), df_titanic.info )"
   ]
  },
  {
   "cell_type": "code",
   "execution_count": null,
   "id": "422be50b-56ff-47ef-8e81-b0ce116d9010",
   "metadata": {
    "tags": []
   },
   "outputs": [],
   "source": [
    "df_titanic['class']"
   ]
  },
  {
   "cell_type": "code",
   "execution_count": null,
   "id": "a313b85e-2491-4d5c-9d11-f7468e21cefc",
   "metadata": {},
   "outputs": [],
   "source": [
    "# numpy 를 이용한 도수분포 구하기\n",
    "display( np.unique(df_titanic['class'], return_counts=True) )\n",
    "print()\n",
    "\n",
    "# pandas 를 이용한 도수분포 구하기\n",
    "display( pd.Series(df_titanic['class']).value_counts() )\n",
    "print()\n",
    "\n",
    "# seaborn 을 이용한 도수분포 구하기\n",
    "display( sb.countplot(df_titanic['class']) )"
   ]
  },
  {
   "cell_type": "raw",
   "id": "1ca2e77f-6cf8-499e-aa31-da23ab2dfadf",
   "metadata": {},
   "source": []
  },
  {
   "cell_type": "markdown",
   "id": "4e5913ca-259f-4843-9b99-eb6c2588c0cd",
   "metadata": {},
   "source": [
    "#### [Problem]  변수에 따른 도수분포\n",
    "- 내장데이터 Titanic에서 Survived 변수는 승객의 생존여부를 의미한다.\n",
    "- Q2) 좌석등급과 생존여부의 관계를 살펴보기 위해 Class 변수에 따른 Survived 변수의 도수를 표 형태로 표현하라."
   ]
  },
  {
   "cell_type": "code",
   "execution_count": null,
   "id": "31cd9b6a-2023-4bda-a818-12375253f79c",
   "metadata": {},
   "outputs": [],
   "source": [
    "grouped_class = df_titanic.groupby(['class','survived'])\n",
    "\n",
    "grouped_class['survived'].count()"
   ]
  },
  {
   "cell_type": "raw",
   "id": "2cb8f079-6c36-4afd-b3a6-1296370eb335",
   "metadata": {},
   "source": []
  },
  {
   "cell_type": "markdown",
   "id": "d893c166-c160-4733-84f0-41894d9576a8",
   "metadata": {},
   "source": [
    "#### [Problem]  상대도수\n",
    "- Titanic 데이터에서 Age 변수는 해당 승객이 어른인지 아이인지의 여부를 나타낸다. \n",
    "- Q3) Age 변수에 따른 생존여부의 관계를 전체에 대한 비율, 행별 비율, 열별 비율로 살펴보자."
   ]
  },
  {
   "cell_type": "code",
   "execution_count": null,
   "id": "dc5d63ba-bf6b-401e-828c-5bbef0530544",
   "metadata": {},
   "outputs": [],
   "source": [
    "def adult(x):\n",
    "    if x >=19:\n",
    "        return 'Adult'\n",
    "    else:\n",
    "        return 'Child'\n",
    "\n",
    "df_titanic['adult'] = df_titanic['age'].apply(lambda x : adult(x))\n",
    "df_titanic"
   ]
  },
  {
   "cell_type": "code",
   "execution_count": null,
   "id": "57e69248-60fa-4f05-be21-1b112488c040",
   "metadata": {},
   "outputs": [],
   "source": [
    "grouped_class = df_titanic.groupby(['adult','survived'])\n",
    "\n",
    "grouped_class['survived'].count()"
   ]
  },
  {
   "cell_type": "raw",
   "id": "4121aaf7-2201-44cd-85c0-a4f4cef7be6f",
   "metadata": {},
   "source": []
  },
  {
   "cell_type": "markdown",
   "id": "c518dd8f-7a32-4316-bad7-e84005206376",
   "metadata": {},
   "source": [
    "#### [Problem] subset\n",
    "- 내장데이터 iris에서 종(Species)이 setosa이면서, Sepal.Length의 값이 5.5초과인 데이터들의 Species와 Sepal.Length 변수값만 조회하라. "
   ]
  },
  {
   "cell_type": "code",
   "execution_count": null,
   "id": "9a14750c-bec6-4275-9e3a-0cf8ab350d89",
   "metadata": {},
   "outputs": [],
   "source": [
    "import numpy as np\n",
    "import pandas as pd\n",
    "import seaborn as sb\n",
    "\n",
    "df_iris = sb.load_dataset('iris')\n",
    "df_iris"
   ]
  },
  {
   "cell_type": "code",
   "execution_count": null,
   "id": "fe0bfe71-011f-461b-aef8-c3c6ac59d861",
   "metadata": {},
   "outputs": [],
   "source": [
    "filted_iris = df_iris.loc[ (df_iris['species'] == 'setosa')\n",
    "                          & (df_iris['sepal_length'] > 5.5) ]\n",
    "\n",
    "filted_iris[['species', 'sepal_length']]"
   ]
  },
  {
   "cell_type": "raw",
   "id": "cc60f269-7f3a-4c13-b087-844268edfddd",
   "metadata": {},
   "source": []
  },
  {
   "cell_type": "markdown",
   "id": "2589bc3d-909e-4550-bec2-c9d8980df9a4",
   "metadata": {},
   "source": [
    "### 3절. apply 계열 함수"
   ]
  },
  {
   "cell_type": "markdown",
   "id": "04408fa4-b60f-42a4-9619-b0180d323b5c",
   "metadata": {},
   "source": [
    "#### [Problem]  행렬의 행/열 별 연산\n",
    "- 행 3열로 이루어진 행렬을 만든 후에 각 행별로 max 값을 구하라.\n",
    "- iris 데이터의 1~4열에 대해서 평균을 구하라."
   ]
  },
  {
   "cell_type": "code",
   "execution_count": null,
   "id": "47c46dee-d576-4f8a-861a-0c3b9b176f13",
   "metadata": {},
   "outputs": [],
   "source": [
    "import numpy as np\n",
    "\n",
    "A = np.array( [ [1, 5, 9],\n",
    "                [2, 6, 10],\n",
    "                [3, 7, 11],\n",
    "                [4, 8, 12] ] )\n",
    "\n",
    "np.max(A, axis = 1)"
   ]
  },
  {
   "cell_type": "code",
   "execution_count": null,
   "id": "f73a9e42-9bd4-4191-8064-9d4c13d38a6b",
   "metadata": {},
   "outputs": [],
   "source": [
    "import seaborn as sb\n",
    "\n",
    "df_iris = sb.load_dataset('iris')\n",
    "\n",
    "np.mean( df_iris.iloc[:, 0:3], axis = 0 )"
   ]
  },
  {
   "cell_type": "raw",
   "id": "09349ae0-5134-49db-84f7-8da2e95936bf",
   "metadata": {},
   "source": []
  },
  {
   "cell_type": "markdown",
   "id": "375b9b20-97ae-4ff6-943e-7d6d1c33a641",
   "metadata": {},
   "source": [
    "#### [Problem]  lapply\n",
    "- 숫자가 저장된 벡터의 값을 제곱한 뒤 리스트 형태로 반환하라."
   ]
  },
  {
   "cell_type": "code",
   "execution_count": null,
   "id": "4a27a9b7-6bd6-48d8-b83c-7545cdaee970",
   "metadata": {},
   "outputs": [],
   "source": [
    "import numpy as np\n",
    "\n",
    "# 1,2,3의 숫자로 구성된 데이터 생성\n",
    "data = [1, 2, 3]\n",
    "\n",
    "# 데이터를 벡터(1차원 배열)로 변환\n",
    "vec_1 = np.array(data)\n",
    "display(vec_1)\n",
    "print()\n",
    "\n",
    "# 생성한 벡터를 제곱하여 새로운 백터 생성\n",
    "vec_2 = vec_1**2\n",
    "display(vec_2)\n",
    "print()\n",
    "\n",
    "# 계산된 벡터(1차원 배열)를 리스트로 변환\n",
    "list_1 = vec_2.tolist()\n",
    "display( list_1, type(list_1) )"
   ]
  },
  {
   "cell_type": "raw",
   "id": "4b9feb55-2642-4767-9dbc-ce8023feb9b7",
   "metadata": {},
   "source": []
  },
  {
   "cell_type": "markdown",
   "id": "7e638ac6-2f14-4b6c-a92a-7c4704125745",
   "metadata": {},
   "source": [
    "#### [Problem]  sapply\n",
    "- iris 데이터에서 각 컬럼별 데이터 타입, 데이터 구조 확인"
   ]
  },
  {
   "cell_type": "code",
   "execution_count": null,
   "id": "1a779ade-aa9a-483b-bd36-97d694f569ce",
   "metadata": {},
   "outputs": [],
   "source": [
    "import seaborn as sb\n",
    "\n",
    "df_iris = sb.load_dataset('iris')\n",
    "\n",
    "display( df_iris.info(), df_iris.describe() )"
   ]
  },
  {
   "cell_type": "raw",
   "id": "e1c58972-6741-449b-9dfc-7891e1bae73b",
   "metadata": {},
   "source": []
  },
  {
   "cell_type": "markdown",
   "id": "8f4ffbf9-6f9b-4314-b409-4407f0ff5389",
   "metadata": {},
   "source": [
    "#### [Problem]  vapply\n",
    "- Q) 1~100까지의 숫자가 저장된 리스트에 fivenum함수를 적용한 후, 각 값에 이름을 부여하여 리스트 형태로 출력하라.\n",
    "- "
   ]
  },
  {
   "cell_type": "code",
   "execution_count": null,
   "id": "7293ae3f-9fd9-45f0-aafa-0e67c88f62fa",
   "metadata": {},
   "outputs": [],
   "source": [
    "a = list(range(1,101))\n",
    "\n",
    "import pandas as pd\n",
    "b = pd.DataFrame(a)\n",
    "b.describe()"
   ]
  },
  {
   "cell_type": "code",
   "execution_count": null,
   "id": "787aeb9b-3407-49a2-b7c2-e8f40ccd6da5",
   "metadata": {},
   "outputs": [],
   "source": [
    "pd.DataFrame(b.describe(),\n",
    "             index = ['Count', 'Average', 'Std', 'Min', 'Q1', 'Median', 'Q3', 'Max'])"
   ]
  },
  {
   "cell_type": "raw",
   "id": "7538ecc4-1449-4088-9cf3-797df8454311",
   "metadata": {},
   "source": []
  },
  {
   "cell_type": "markdown",
   "id": "05f5c85f-e19a-48de-937f-f4a20874e1a8",
   "metadata": {},
   "source": [
    "#### [Problem]  mapply\n",
    "- Q) 1을 4번, 2를 3번, 3을 2번, 4를 1번 반복하는 4개의 수열을 출력하는 코드를 작성하라.\n",
    "- 이 때 rep 함수를 이용할 때와 mapply 함수를 이용 할 때를 비교해보자."
   ]
  },
  {
   "cell_type": "code",
   "execution_count": null,
   "id": "b63d0106-4d7d-434d-85d3-05190824c17c",
   "metadata": {},
   "outputs": [],
   "source": [
    "import numpy as np\n",
    "\n",
    "a = np.repeat(1, 4)\n",
    "b = np.repeat(2, 3)\n",
    "c = np.repeat(3, 2)\n",
    "d = np.repeat(4, 1)\n",
    "\n",
    "display(a,b,c,d)"
   ]
  },
  {
   "cell_type": "code",
   "execution_count": null,
   "id": "75268774-52bd-41fa-8869-9aefc3d755dd",
   "metadata": {},
   "outputs": [],
   "source": [
    "list(range(4,0,-1))"
   ]
  },
  {
   "cell_type": "code",
   "execution_count": null,
   "id": "90ce1949-ddb2-402d-8599-7663440c7392",
   "metadata": {},
   "outputs": [],
   "source": [
    "def rep(x, y):\n",
    "    return np.repeat(x, y)\n",
    "\n",
    "a = list(range(1,5))\n",
    "b = list(range(4,0,-1))\n",
    "\n",
    "c = map( rep, a, b )\n",
    "c"
   ]
  },
  {
   "cell_type": "code",
   "execution_count": null,
   "id": "a94034bc-af28-4d4f-ade2-b3dfb69971a6",
   "metadata": {},
   "outputs": [],
   "source": []
  },
  {
   "cell_type": "code",
   "execution_count": null,
   "id": "7da2701f-b221-46c6-be2b-d3de2ec201c1",
   "metadata": {},
   "outputs": [],
   "source": [
    "##### 6. tapply\n",
    "## Q1) R의 googleVis 패키지에 있는 Fruits 데이터에서 과일종류(Fruit)별 판매량(Profit)의 평균을 구해보자.\n",
    "\n",
    "# googleVis 패키지의 Fruits 데이터를 이용하기 위해 패키지 설치 및 로드\n",
    "install.packages(\"googleVis\")\n",
    "library(googleVis)\n",
    "\n",
    "# Fruits 데이터의 상위 6개의 행 확인\n",
    "head(Fruits)\n",
    "\n",
    "# tapply 함수를 이용하여 과일종류별 판매량의 평균 산출\n",
    "tapply(Fruits$Sales, Fruits$Fruit, mean)\n",
    "\n",
    "\n",
    "## Q2) Fruits 데이터에서 Location이 West인 것과 아닌 것으로 그룹을 지정하여 Profit의 평균을 구해보자.\n",
    "\n",
    "# INDEX인자에 비교구문을 사용하여 그룹을 지정\n",
    "tapply(Fruits$Profit, Fruits$Location==\"West\", mean)"
   ]
  },
  {
   "cell_type": "code",
   "execution_count": null,
   "id": "e313261b-a562-45d0-8fdc-024ab89b3a90",
   "metadata": {},
   "outputs": [],
   "source": []
  },
  {
   "cell_type": "code",
   "execution_count": null,
   "id": "7c9ae8dc-670d-423d-a963-cd9d37498351",
   "metadata": {},
   "outputs": [],
   "source": []
  },
  {
   "cell_type": "markdown",
   "id": "5c43dfac-29bf-4997-b03f-048e101f92a4",
   "metadata": {},
   "source": [
    "## 4장. 패키지를 활용한 데이터 전처리"
   ]
  },
  {
   "cell_type": "markdown",
   "id": "40bba75b-39fd-4dfb-a075-57ed5a37607e",
   "metadata": {},
   "source": [
    "### 1절. plyr"
   ]
  },
  {
   "cell_type": "code",
   "execution_count": null,
   "id": "22a5da17-04c1-402b-881b-f853642a0776",
   "metadata": {},
   "outputs": [],
   "source": []
  },
  {
   "cell_type": "code",
   "execution_count": null,
   "id": "593d1e05-445e-4fc0-b451-0b0cb37797b2",
   "metadata": {},
   "outputs": [],
   "source": [
    "##### 2. adply\n",
    "# 패키지 설치 및 로드\n",
    "install.packages(\"plyr\")\n",
    "library(plyr)\n",
    "\n",
    "## Q) R의 iris 데이터에서 Petal.Length 변수가 1.5미만이면서 \n",
    "## Species 변수 값이 ‘setosa’인 조건을 만족하는 경우 ‘1’을 \n",
    "## 그렇지 않은 경우 ‘0’을 부여한 칼럼을 생성하여,\n",
    "## 원래의 iris 데이터와 함께 데이터프레임 형태로 출력해보자.\n",
    "\n",
    "##===== A)\n",
    "# 패키지 설치 및 로드\n",
    "install.packages(\"plyr\")\n",
    "library(plyr)\n",
    "\n",
    "# 변수명을 지정하지 않고 adply를 이용해 연산\n",
    "adply(iris,1, \n",
    "      function(row){ifelse(row$Petal.Length<1.5 & \n",
    "                             row$Species==\"setosa\", \"1\", \"0\")})\n",
    "\n",
    "# 변수명을 'setosa_PL1.5'로 지정하여 데이터프레임으로 반환\n",
    "adply(iris,1, \n",
    "      function(row){\n",
    "        data.frame(setosa_PL1.5=\n",
    "                     c(ifelse(row$Petal.Length<1.5 & \n",
    "                                row$Species==\"setosa\", \"1\", \"0\"))\n",
    "        )\n",
    "      })"
   ]
  },
  {
   "cell_type": "code",
   "execution_count": null,
   "id": "68f75bc8-54e0-4176-b566-52ca6c6010fc",
   "metadata": {},
   "outputs": [],
   "source": []
  },
  {
   "cell_type": "code",
   "execution_count": null,
   "id": "b442d8ce-595c-4c45-84e6-7716a157306a",
   "metadata": {},
   "outputs": [],
   "source": []
  },
  {
   "cell_type": "code",
   "execution_count": null,
   "id": "2097682e-94b0-4e66-a8b4-d9e24dc4c65c",
   "metadata": {},
   "outputs": [],
   "source": [
    "##### 3. ddply\n",
    "## Q1) R의 iris 데이터에서 Species별로 나머지 네 개 변수 \n",
    "## (Sepal.Length, Sepal.Width, Petal.Length, Petal.Width)의 평균을 출력해보자.\n",
    "\n",
    "##===== A)\n",
    "ddply(iris, .(Species), function(sub){\n",
    "  data.frame(\n",
    "    mean_SL=mean(sub$Sepal.Length), mean_SW=mean(sub$Sepal.Width),\n",
    "    mean_PL=mean(sub$Petal.Length), mean_PW=mean(sub$Petal.Width))\n",
    "})\n",
    "\n",
    "\n",
    "## Q2) R의 iris 데이터에서 Species와 Petal.Length가 1.5 미만인지의 여부로 데이터를 그룹지어 \n",
    "## 네 개 변수 (Sepal.Length, Sepal.Width, Petal.Length, Petal.Width)의 평균을 출력해보자.\n",
    "\n",
    "##===== A)\n",
    "# variables 인자 자리 .( )에 그룹화할 변수와 조건을 입력\n",
    "ddply(iris, .(Species, Petal.Length<1.5), function(sub){\n",
    "  data.frame(\n",
    "    mean_SL=mean(sub$Sepal.Length), mean_SW=mean(sub$Sepal.Width),\n",
    "    mean_PL=mean(sub$Petal.Length), mean_PW=mean(sub$Petal.Width))\n",
    "})\n",
    "\n",
    "\n",
    "##### 가. transform\n",
    "## plyr 패키지의 baseball은 1871년부터 2007년까지 총 1,228명의 미국 야구선수들의 \n",
    "## 타격에 대한 정보가 저장된 데이터이다. 각 선수는 id 칼럼으로 구분되어 있으며, \n",
    "## 총 22개의 변수와 21,699개의 행으로 이루어져 있다. \n",
    "## baseball 데이터로 ddply 내부 함수들에 대한 실습을 진행해보자.\n",
    "\n",
    "\n",
    "## Q) 'g’ 칼럼은 각 선수가 해당 연도에 출전한 게임 수를 나타낸다. \n",
    "## 원본 데이터에 각 선수의 연평균 출전횟수를 나타내는 ‘avgG’ 칼럼을 추가해보자. \n",
    "## 이 문제를 해결하기 위해 먼저 데이터를 id 기준으로 그룹화한 뒤, \n",
    "## 각 선수의 출전횟수 총합(sum(g))을 경기에 출전한 연도 수(count(year))로 나누어준다.\n",
    "\n",
    "##===== A)\n",
    "# baseball 데이터 확인\n",
    "str(baseball)\n",
    "\n",
    "# 원본데이터 avgG칼럼(선수별 연평균 출전횟수)을 추가하여 출\n",
    "ddply(baseball, .(id), transform, avgG=sum(g)/length(year))\n",
    "\n",
    "\n",
    "\n",
    "##### 나. mutate\n",
    "## Q) transform 예제에서와 마찬가지로 ‘avgG’ 칼럼을 추가하는데 이번에는 mutate 함수를 이용해보자. \n",
    "## 또한 새로 생성한 ‘avgG’칼럼 값을 반올림한 ‘avgG_rnd’ 칼럼도 함께 생성해보자.\n",
    "\n",
    "##===== A)\n",
    "# 원본데이터에 avgG칼럼과 avgG_RND(avgG칼럼을 반올림)칼럼을 한 번에 추가하여 출력\n",
    "# 이 경우, mutate가 아닌 transform을 사용하면 에러가 발생함 \n",
    "ddply(baseball, .(id), mutate, avgG=sum(g)/length(year), avgG_RND=round(avgG))\n",
    "\n",
    "\n",
    "\n",
    "##### 다. summarise\n",
    "## Q1) 선수별로 1871~2007년 사이 기간 동안 출전한 경기 중 가장 마지막에 출전한 경기의 연도수를 \n",
    "## 구해 ’year_fin’ 변수에 저장하고, 관련 정보들만 뽑아서 요약해보자. \n",
    "## 이를 위해 먼저 데이터를 id로 그룹화한 뒤, year 변수의 최댓값을 계산하여 ‘year_fin’변수에 부여한다.\n",
    "\n",
    "##===== A)\n",
    "# summarise를 활용해 선수별 마지막 경기 출전연도 구하기\n",
    "ddply(baseball, .(id), summarise, year_fin=max(year))\n",
    "\n",
    "\n",
    "## Q2) baseball 데이터의 team 변수는 선수의 소속팀을 의미하고, hr은 홈런의 수를 의미한다. \n",
    "## ddply의 summarise를 활용해 팀별 홈런 수의 합을 구하고, 출력해보자.\n",
    "\n",
    "##===== A)\n",
    "# summarise를 활용해 팀별 홈런 수의 합 출력하기\n",
    "ddply(baseball, .(team), summarise, hr_sum=sum(hr))\n",
    "\n",
    "\n",
    "\n",
    "##### 라. subset\n",
    "## Q) ubset을 이용하여 선수별로 마지막 경기 출전연도에 해당하는 행들의 \n",
    "## 일부 열(id, year, stint, team, lg, g)들만 추출해보자. \n",
    "## 아래의 R코드는 먼저 id로 데이터를 그룹화한 뒤, \n",
    "## year값이 선수별 year변수의 최댓값과 같은 행만 subset으로 추출하는 방법이다.\n",
    "\n",
    "##===== A)\n",
    "ddply(baseball, .(id), subset, year==max(year), select=c(\"id\",\"year\",\"stint\",\"team\",\"lg\",\"g\"))"
   ]
  },
  {
   "cell_type": "code",
   "execution_count": null,
   "id": "b7576e47-9684-4b3c-9978-c7c2cfe5fd01",
   "metadata": {},
   "outputs": [],
   "source": []
  },
  {
   "cell_type": "code",
   "execution_count": null,
   "id": "4478192e-ed4b-4519-8af9-34ab8e4731ea",
   "metadata": {},
   "outputs": [],
   "source": []
  },
  {
   "cell_type": "code",
   "execution_count": null,
   "id": "b94c9a77-a22d-4f57-84e6-4f63827ce1a4",
   "metadata": {},
   "outputs": [],
   "source": []
  },
  {
   "cell_type": "code",
   "execution_count": null,
   "id": "3510327b-1a6b-42a8-b89e-de1bf2f35ce6",
   "metadata": {},
   "outputs": [],
   "source": []
  },
  {
   "cell_type": "code",
   "execution_count": null,
   "id": "cb9839a6-c12b-49a0-a18d-322549899f71",
   "metadata": {},
   "outputs": [],
   "source": []
  },
  {
   "cell_type": "markdown",
   "id": "573f5ef7-c6ba-4b21-a43a-135f75e8d778",
   "metadata": {},
   "source": [
    "### 2절. dplyr"
   ]
  },
  {
   "cell_type": "code",
   "execution_count": null,
   "id": "721174e7-458b-4394-8396-949c230643c7",
   "metadata": {},
   "outputs": [],
   "source": []
  },
  {
   "cell_type": "code",
   "execution_count": null,
   "id": "7156baf1-d607-4baf-a64e-fa616a9b5a8b",
   "metadata": {},
   "outputs": [],
   "source": [
    "##### 2. filter\n",
    "## Q) MASS패키지에서 제공하는 Cars93 데이터는 1993년 미국에서 팬매된 93대의 자동차에 대한 정보를 담고 있으며, \n",
    "## 27개의 변수로 이루어져 있다. Cars93 데이터에서 제조사(Manufacturer)가 \"Audi\" 혹은 \"BMW\" 이면서, \n",
    "## 엔진크기(EnginSize)가 2.4 이상인 행들만 추출해보자.\n",
    "\n",
    "##===== A)\n",
    "# 패키지 설치 및 로드\n",
    "install.packages(\"dplyr\")\n",
    "library(dplyr)\n",
    "\n",
    "# filter함수를 사용하여 조건에 맞는 행 추출\n",
    "Cars93 %>% filter((Manufacturer==\"Audi\"|Manufacturer==\"BMW\") & EngineSize>=2.4)"
   ]
  },
  {
   "cell_type": "code",
   "execution_count": null,
   "id": "c45affd0-93e6-480e-af7c-1e7de0fcc53f",
   "metadata": {},
   "outputs": [],
   "source": []
  },
  {
   "cell_type": "code",
   "execution_count": null,
   "id": "7dd84350-ebfc-4ae6-94cc-e8a505f7105f",
   "metadata": {},
   "outputs": [],
   "source": [
    "##### 3. select\n",
    "## Q1) Cars93 데이터의 모델번호(Model), 종류(Type), 가격(Price) 변수들만 추출해보자.\n",
    "\n",
    "##===== A)\n",
    "# select를 사용하여 특정 변수만 추출\n",
    "Cars93 %>% select(Model, Type, Price)\n",
    "\n",
    "# 에러발생 이유 : MASS 패키지의 select()와 dplyr의 select()가 충돌하기 때문\n",
    "# 해결방법 : 사용할 select함수가 dplyr의 함수임을 명시해주기\n",
    "Cars93 %>% dplyr::select(Model, Type, Price)\n",
    "\n",
    "\n",
    "## Q2) 제조사(Manufacture)가 \"Chevrolet\" 혹은 \"Volkswagen\" 이면서, \n",
    "## 가격(Price)이 10이상인 행들의 제조사(Manufacture), 모델(Model), 종류(Type), 가격(Price) 변수들만 추출해보자.\n",
    "\n",
    "##===== A)\n",
    "# filter와 select를 조합하여 조건을 만족하는 데이터의 특정 열만 추출\n",
    "Cars93 %>% \n",
    "  filter((Manufacturer==\"Chevrolet\"|Manufacturer==\"Volkswagen\") & Price>=10)%>%\n",
    "  dplyr::select(Manufacturer, Model, Type, Price)\n"
   ]
  },
  {
   "cell_type": "code",
   "execution_count": null,
   "id": "d0afded2-7403-4241-8a83-09a75fc19eae",
   "metadata": {},
   "outputs": [],
   "source": []
  },
  {
   "cell_type": "code",
   "execution_count": null,
   "id": "a54fbf2e-e42b-4d14-b98e-77889b274622",
   "metadata": {},
   "outputs": [],
   "source": [
    "##### 4. group_by 와 summarise\n",
    "## Q1) Cars93 데이터의 제조사(Manufacturer)별 가격(Price)의 평균과 무게(Weight)의 최댓값을\n",
    "## 산출한 뒤 변수명을 각각 mean_Price, max_Weight로 지정하여 출력해보자.\n",
    "\n",
    "##===== A)\n",
    "# group_by와 summarise를 조합하기\n",
    "Cars93 %>% group_by(Manufacturer) %>% \n",
    "  summarise(mean_Price=mean(Price), max_Weight=max(Weight))\n",
    "\n",
    "\n",
    "## Q2) 종류(Type)와 에어백(AirBags)을 기준으로 데이터를 그룹화한 뒤, \n",
    "## 자동차 평균 무게(Weight)를 구해보자.\n",
    "\n",
    "##===== A)\n",
    "Cars93 %>% group_by(Type, AirBags) %>% summarise(mean_Weight=mean(Weight))"
   ]
  },
  {
   "cell_type": "code",
   "execution_count": null,
   "id": "fc4cab9e-10c9-498e-a570-0f9155245dd8",
   "metadata": {},
   "outputs": [],
   "source": []
  },
  {
   "cell_type": "code",
   "execution_count": null,
   "id": "50f9265f-98f1-4b94-925f-04f952841958",
   "metadata": {},
   "outputs": [],
   "source": [
    "##### 5. mutate\n",
    "## Q) Cars93 데이터에서 가격(Price변수, 1000달러 기준)이 12미만이면 low,\n",
    "## 12이상 23미만이면 middle, 23이상이면 high 값을 가지는 Pr_level 변수를 생성한 뒤,\n",
    "## 모델(Model), 가격(Price), 새로운 파생변수 Pr_level만 출력해보자.\n",
    "\n",
    "##===== A)\n",
    "# mutate를 이용해 파생변수 생성하기\n",
    "Cars93 %>% mutate(Pr_level=ifelse(Price < 12, \"low\", \n",
    "                                  ifelse(Price >= 12 & Price < 23, \"middle\", \"high\"))) %>%\n",
    "  dplyr::select(Model, Price, Pr_level)"
   ]
  },
  {
   "cell_type": "code",
   "execution_count": null,
   "id": "77ca10be-9f91-4ba7-a82c-73d03ba962ef",
   "metadata": {},
   "outputs": [],
   "source": []
  },
  {
   "cell_type": "code",
   "execution_count": null,
   "id": "74d4e277-ac72-4778-9fd5-76de6da1cd34",
   "metadata": {},
   "outputs": [],
   "source": [
    "##### 6. arrange\n",
    "## Q) Cars93 데이터에서 종류(Type)가 \"Midsize\" 혹은 \"Small\" 인 데이터의 \n",
    "## Model, Type, Weight, Price 변수들만 추출한 뒤,\n",
    "## 종류(Type)별로 \"Weight 변수값들이 Weight의 중앙값보다 작은(미만인) 경우는 \"low\", \n",
    "## 중앙값 이상인 경우 \"high\" 값을 갖는 Weight_lv 변수를 생성하라.\n",
    "## 그리고, Price 변수를 기준으로 데이터를 오름차순 정렬하여 출력하여라.\n",
    "\n",
    "##===== A)\n",
    "Cars93 %>% \n",
    "  filter(Type %in% c(\"Midsize\", \"Small\")) %>%\n",
    "  dplyr::select(Model, Type, Weight, Price) %>%\n",
    "  group_by(Type) %>%\n",
    "  mutate(Weight_lv=ifelse(Weight<median(Weight),\"low\",\"high\")) %>%\n",
    "  arrange(Price)"
   ]
  },
  {
   "cell_type": "code",
   "execution_count": null,
   "id": "cbdf5fc4-9c0e-43ba-8c35-2fc378fff00f",
   "metadata": {},
   "outputs": [],
   "source": []
  },
  {
   "cell_type": "code",
   "execution_count": null,
   "id": "cb33abd0-31d0-4fa4-8199-2b0aa2242d9b",
   "metadata": {},
   "outputs": [],
   "source": [
    "##### 7. left, right, inner, full}_join\n",
    "\n",
    "## Q) 카페에서 판매하는 메뉴 코드(code), 이름(name)을 담은 데이터 NAME과 메뉴 코드(code), \n",
    "## 해당 메뉴의 가격(price)을 담은 데이터 PRICE를 생성해보자. \n",
    "## 그 후 각 메뉴의 고유코드를 의미하는 code 변수를 기준으로 \n",
    "## left join, right join, inner join, outer join을 수행하여 결과를 확인해보자.\n",
    "\n",
    "##===== A)\n",
    "# NAME, PRICE 데이터 생성\n",
    "NAME<-data.frame(code=c(\"A01\",\"A02\",\"A03\"),\n",
    "                 name=c(\"coffee\",\"cake\",\"cookie\"))\n",
    "NAME\n",
    "\n",
    "PRICE<-data.frame(code=c(\"A01\",\"A02\",\"A04\"),\n",
    "                  price=c(3000, 4000, 3000))\n",
    "PRICE\n",
    "\n",
    "\n",
    "# left_join\n",
    "cafe_left <- left_join(NAME, PRICE, by=\"code\")\n",
    "cafe_left\n",
    "\n",
    "# right_join\n",
    "cafe_right <- right_join(NAME, PRICE, by=\"code\")\n",
    "cafe_right\n",
    "\n",
    "# inner_join\n",
    "cafe_inner <- inner_join(NAME, PRICE, by=\"code\")\n",
    "cafe_inner\n",
    "\n",
    "# full_join\n",
    "cafe_full <- full_join(NAME, PRICE, by=\"code\")\n",
    "cafe_full"
   ]
  },
  {
   "cell_type": "code",
   "execution_count": null,
   "id": "e8106862-b70d-4a34-991c-8d93f7544342",
   "metadata": {},
   "outputs": [],
   "source": []
  },
  {
   "cell_type": "code",
   "execution_count": null,
   "id": "9f5e33df-8e55-44c2-b12a-d2011e7b0601",
   "metadata": {},
   "outputs": [],
   "source": [
    "##### 8. bind_rows, bind_cols\n",
    "\n",
    "## bind_rows\n",
    "## Q1) 위 예제에서 생성한 NAME 데이터와 PRICE 데이터를 \n",
    "## {base}패키지의 rbind함수와 {dplyr}패키지의 bind_rows함수를 이용해\n",
    "## 행으로 결합해보고 그 결과를 확인해보자. \n",
    "\n",
    "##===== A)\n",
    "# base::rbind 함수를 이용해 데이터 결합\n",
    "rbind(NAME, PRICE) # 데이터 결합이 제대로 되지않고, 에러가 발생함\n",
    "\n",
    "# dplyr::bind_rows 함수를 이용해 데이터 결합\n",
    "bind_rows(NAME, PRICE) \n",
    "# 결합할 데이터들의 변수가 다르더라도 결합이 이루어지며, 빈자리는 NA로 채워짐\n",
    "\n",
    "\n",
    "## Q2) 카페에서 판매되는 메뉴의 고유코드(code)와 이름(name)을 담은 데이터 A, B, C를 \n",
    "## 생성하고, 세 개의 데이터를 행으로 결합해보자. \n",
    "## 또한 각 행이 어떤 데이터로부터 결합된 것인지를 나타내는 id열도 함께 나타내보자.\n",
    "\n",
    "##===== A)\n",
    "# 실습용 데이터 생성\n",
    "A<-data.frame(code=c(1,2), name=c(\"coffee\",\"cake\"))\n",
    "B<-data.frame(code=c(3,4), name=c(\"cookie\",\"juice\"))\n",
    "C<-data.frame(code=5, name=\"bread\")\n",
    "\n",
    "# 세 개의 데이터를 bind_rows함수를 이용해 행으로 결합\n",
    "cafe_bind<-bind_rows(A,B,C, .id=\"id\")              \n",
    "cafe_bind\n",
    "# id열을 통해 1,2행의 원천은 첫 번째 데이터, 3,4행은 두 번째 데이터,\n",
    "# 5행의 원천은 세 번째 데이터로 부터 왔음을 알 수 있음\n",
    "\n",
    "\n",
    "\n",
    "## bind_cols\n",
    "## Q) 총 다섯명의 학생 id(id변수), 국어점수(x변수)가 저장된 A데이터와\n",
    "## 수학점수(y변수)가 저장된 B데이터를 생성한 뒤 두 데이터를 열로 결합해보자.\n",
    "\n",
    "##===== A)\n",
    "# 실습용 데이터 생성\n",
    "A<-data.frame(id=c(1:5), x=c(80,90,95,100,75))\n",
    "B<-data.frame(y=c(80,75,100,90,80))\n",
    "\n",
    "# bind_cols함수를 이용해 데이터의 열을 붙여 결합\n",
    "bind_cols(A,B)"
   ]
  },
  {
   "cell_type": "code",
   "execution_count": null,
   "id": "5dea2ca9-452e-4790-b2b5-16fa47ea17db",
   "metadata": {},
   "outputs": [],
   "source": []
  },
  {
   "cell_type": "code",
   "execution_count": null,
   "id": "a6932cef-ef79-4464-9be7-96cdc4eed358",
   "metadata": {},
   "outputs": [],
   "source": []
  },
  {
   "cell_type": "code",
   "execution_count": null,
   "id": "b55f41ee-f592-45ea-a360-38746bc7e19c",
   "metadata": {},
   "outputs": [],
   "source": []
  },
  {
   "cell_type": "code",
   "execution_count": null,
   "id": "c10fe3e5-4010-4b82-b3de-0555413d0867",
   "metadata": {},
   "outputs": [],
   "source": []
  },
  {
   "cell_type": "markdown",
   "id": "a7eaea4d-391d-4d0b-b403-621e4bea21e7",
   "metadata": {},
   "source": [
    "### 3절. reshape2"
   ]
  },
  {
   "cell_type": "code",
   "execution_count": null,
   "id": "8535ca18-0ebd-45ef-9ed9-476495761427",
   "metadata": {},
   "outputs": [],
   "source": []
  },
  {
   "cell_type": "code",
   "execution_count": null,
   "id": "0a6cb0ba-55d8-48d9-8e31-f2bd814f9fe8",
   "metadata": {},
   "outputs": [],
   "source": [
    "##### 1. reshape2 패키지\n",
    "##### 도표 내 R코드\n",
    "exam<-data.frame(학년=c(1,1,2),\n",
    "                   반=c(\"A\",\"B\",\"C\"),\n",
    "                   국어=c(70,80,85),\n",
    "                   수학=c(80,95,100))\n",
    "\n",
    "mt<-melt(exam, id=c(\"학년\",\"반\"))\n",
    "dcast(mt, 학년+반~variable)\n",
    "dcast(mt, 학년~variable, mean)\n"
   ]
  },
  {
   "cell_type": "code",
   "execution_count": null,
   "id": "88fd8147-94dd-4578-b1ea-d5f8e8aa96a0",
   "metadata": {},
   "outputs": [],
   "source": []
  },
  {
   "cell_type": "code",
   "execution_count": null,
   "id": "1e435393-cabd-42a1-bd4f-5a478c718074",
   "metadata": {},
   "outputs": [],
   "source": [
    "##### 2. melt\n",
    "## Q) R의 airquality는 1973년 5월~9월 동안 뉴욕의 일일 대기 질 측정량에 대한 데이터로, \n",
    "## 153개의 행과 6개의 변수로 이루어져있다. 6개의 변수 중 Month(월)과 Day(일)을 식별자로 두고, \n",
    "## 나머지 변수와 변수 값은 모두 데이터 내에 포함되는 형태로 변환해보자.\n",
    "\n",
    "##===== A)\n",
    "# reshape2 패키지 설치 및 로드\n",
    "install.packages(\"reshape2\")\n",
    "library(reshape2)\n",
    "\n",
    "# melt함수를 사용한 데이터 변환\n",
    "melt(airquality, id.vars=c(\"Month\", \"Day\"), na.rm=T)"
   ]
  },
  {
   "cell_type": "code",
   "execution_count": null,
   "id": "87729ea1-2af6-4a3f-ba0d-3308c79ef42d",
   "metadata": {},
   "outputs": [],
   "source": []
  },
  {
   "cell_type": "code",
   "execution_count": null,
   "id": "f276174d-e67a-474e-a870-704716316ea6",
   "metadata": {},
   "outputs": [],
   "source": [
    "##### 3. dcast\n",
    "## Q1) melt 함수에 대하 예제에서 airquallity에 melt를 적용한 데이터를 airquallity_melt에 저장하고, \n",
    "## 이 데이터를 다시 원래 airauallity와 동일한 형태로 변환해보자.\n",
    "\n",
    "##===== A)\n",
    "# airquallity 데이터에 melt함수를 적용하여 air_melt변수에 저장\n",
    "air_melt<-melt(airquality, id.vars=c(\"Month\", \"Day\"), na.rm=T)\n",
    "\n",
    "# dcast함수를 이용해 air_melt 데이터를 다시 원래 airquallity의 형태로 변환\n",
    "air_dcast<-dcast(air_melt, Month + Day ~ ...)\n",
    "\n",
    "# air_dcast와 airquallity 비교\n",
    "# → 변수의 순서는 조금 바뀌었지만 변수명과 변수값은 동일한 것을 확인할 수 있음\n",
    "head(air_dcast)\n",
    "head(airquality)\n",
    "\n",
    "\n",
    "\n",
    "## Q2) 위 예제에서 만든 air_melt 데이터에서 \n",
    "## Month(월)과 Day(일)을 기준으로 나머지 변수들의 평균값을 구해보자.\n",
    "\n",
    "##===== A)\n",
    "dcast(air_melt, Month+Day ~ variable, fun.aggregate=mean)"
   ]
  },
  {
   "cell_type": "code",
   "execution_count": null,
   "id": "780d6cab-8c36-457c-9cc6-bcc49d4d0585",
   "metadata": {},
   "outputs": [],
   "source": []
  },
  {
   "cell_type": "code",
   "execution_count": null,
   "id": "77cfd0b3-5f54-4dac-84e2-fca6c047f74d",
   "metadata": {},
   "outputs": [],
   "source": []
  },
  {
   "cell_type": "code",
   "execution_count": null,
   "id": "5381f965-4849-4d9b-9581-98d432fedf13",
   "metadata": {},
   "outputs": [],
   "source": []
  },
  {
   "cell_type": "code",
   "execution_count": null,
   "id": "bd53b4c1-f0d3-45a6-9dd2-b8c7deeb5b37",
   "metadata": {},
   "outputs": [],
   "source": []
  },
  {
   "cell_type": "markdown",
   "id": "7581151f-fa31-47c4-b821-85e8307bc51f",
   "metadata": {},
   "source": [
    "### 4절. data.tabler"
   ]
  },
  {
   "cell_type": "code",
   "execution_count": null,
   "id": "8d59e0bb-bb7d-4a80-a375-900b7876dafd",
   "metadata": {},
   "outputs": [],
   "source": []
  },
  {
   "cell_type": "code",
   "execution_count": null,
   "id": "e68e394c-0a2e-4154-805d-83b494723768",
   "metadata": {},
   "outputs": [],
   "source": [
    "##### 2. 데이터 테이블 생성\n",
    "## Q1) 숫자 1,2,3이 저장된 x변수와 문자 “가”,“나”,“다”가 저장된 y변수로 \n",
    "## 이루어진 데이터 테이블(mydata)을 생성한 뒤, 데이터 타입을 확인해보자.\n",
    "\n",
    "##===== A)\n",
    "# data.table 패키지 설치 및 로드\n",
    "install.packages(\"data.table\")\n",
    "library(data.table)\n",
    "\n",
    "# 데이터 테이블 생성\n",
    "mydata<-data.table(x=c(1:3), y=c(\"가\", \"나\", \"다\"))\n",
    "mydata\n",
    "\n",
    "# mydata의 데이터 타입 확인\n",
    "class(mydata)   # 데이터테이블의 클래스가 data.frame도 포함하고 있음\n",
    "\n",
    "\n",
    "## Q2) 데이터 프레임 형태인 iris를 데이터 테이블로 변환한 후 클래스를 확인해보자.\n",
    "# iris 데이터의 클래스 : 데이터 프레임\n",
    "class(iris)   \n",
    "\n",
    "##===== A)\n",
    "# iris 데이터를 데이터 테이블로 변환\n",
    "iris_dt<-as.data.table(iris)\n",
    "class(iris_dt)\n",
    "\n",
    "# iris_dt 출력\n",
    "iris_dt\n",
    "\n",
    "# 모든 데이터 테이블 객체 확인\n",
    "tables()\n"
   ]
  },
  {
   "cell_type": "code",
   "execution_count": null,
   "id": "f661349f-2118-428e-a64d-0a732c6fc232",
   "metadata": {},
   "outputs": [],
   "source": []
  },
  {
   "cell_type": "code",
   "execution_count": null,
   "id": "47aa52c1-38ca-4fc8-8ab1-3702af86c517",
   "metadata": {},
   "outputs": [],
   "source": [
    "##### 3. 데이터 접근\n",
    "\n",
    "## 가. 행\n",
    "## Q)\t[ ] 내 첫 번째 자리에는 행 번호 혹은 선택할 행에 대한 조건식을 지정한다. \n",
    "## 위 예제에서 생성한 iris_dt 데이터로 데이터 테이블의 접근법을 익혀보자.\n",
    "\n",
    "##===== A)\n",
    "# iris_dt의 1행 출력\n",
    "iris_dt[1, ] \n",
    "\n",
    "#1~5행 출력\n",
    "iris_dt[c(1:5), ] \n",
    "\n",
    "#Species 변수 값이 setosa인 행들만 출력\n",
    "iris_dt[iris_dt$Species==\"setosa\", ] \n",
    "\n",
    "\n",
    "## 나. 열\n",
    "# 1~3행의 Petal.Length(세번째 열)만 출력\n",
    "iris_dt[1:3, .(Petal.Length)]\n",
    "iris_dt[1:3, 3]\n",
    "iris_dt[1:3, \"Petal.Length\", with=FALSE]\n",
    "\n",
    "# Sepal.Width, Petal.Width 열만 출력\n",
    "iris_dt[, list(Sepal.Width, Petal.Width)] \n",
    "iris_dt[, .(Sepal.Width, Petal.Width)] \n",
    "\n",
    "# Sepal.Length값의 평균을 출력\n",
    "iris_dt[,mean(Sepal.Length)] \n",
    "\n",
    "\n",
    "## 다. by=“그룹화 기준 변수”\n",
    "\n",
    "# Species별 Petal.Length의 평균 출력 (Species 변수로 데이터를 그룹화)\n",
    "iris_dt[,mean(Petal.Length),by=Species]\n",
    "\n",
    "# Petal.Length 값이 1이상인 행들을 Species로 그룹화한 뒤,\n",
    "# Sepal.Length와 Sepal.Width의 평균을 각각 mean.SL과 mean.SW를 변수명으로 하여 출력\n",
    "iris_dt[Petal.Length>=1, .(mean.SL=mean(Sepal.Length), mean.SW=mean(Sepal.Width)), by=Species]"
   ]
  },
  {
   "cell_type": "code",
   "execution_count": null,
   "id": "7c36896d-529e-4db4-94e6-6ba42946b758",
   "metadata": {},
   "outputs": [],
   "source": []
  },
  {
   "cell_type": "code",
   "execution_count": null,
   "id": "94638082-3f26-4cab-a4a2-5f608f6817e7",
   "metadata": {},
   "outputs": [],
   "source": [
    "##### 4. 새로운 변수 생성\n",
    "\n",
    "## Q) R의 airquality는 데이터프레임 형식이다. airquality 데이터를 데이터테이블로 형식으로 변환하여 \n",
    "## air 변수에 저장한 뒤, ‘Wind’ 변수 값이 Wind의 평균 이상일 경우 “U’ 그렇지 않을 경우 ”D“의 값을 가지는 \n",
    "## 새로운 변수(Wind_class)를 생성해보자.\n",
    "\n",
    "##===== A)\n",
    "# airquality를 데이터테이블로 변환\n",
    "air<-as.data.table(airquality)\n",
    "str(air)\n",
    "\n",
    "# Wind_class 변수 생성\n",
    "# := 기호 사용 : air 데이터에 Wind_class 변수가 추가됨\n",
    "air[,Wind_class:=ifelse(Wind>=mean(Wind),\"U\",\"D\")]\n",
    "\n",
    "# air 데이터 출력 : Wind_class 변수가 추가된 것을 확인할 수 있음\n",
    "air"
   ]
  },
  {
   "cell_type": "code",
   "execution_count": null,
   "id": "83342a5d-db6e-4390-8046-eb2bbe2f4876",
   "metadata": {},
   "outputs": [],
   "source": []
  },
  {
   "cell_type": "code",
   "execution_count": null,
   "id": "7a7cdf6d-187c-414c-9db1-940887331de5",
   "metadata": {},
   "outputs": [],
   "source": [
    "##### 5. 데이터 정렬\n",
    "\n",
    "## Q) 위 예제에서 생성한 air 데이터에서 Month 값이 12,1,2인 경우 “winter”, \n",
    "## Month 값이 3,4,5인경우 “spring”, Month 값이 6,7,8인 경우 “summer”, \n",
    "## 그 외 나머지 값을 갖는 경우는 “fall”의 값을 갖는 새로운 변수 season을 생성해보자.\n",
    "## 그리고 season별 Ozone의 평균을 Ozone_mean변수로 나타내고 \n",
    "## season별 Solar.R의 평균은 Solar.R_mean 변수에 나타낸 뒤, \n",
    "## Ozone_mean을 기준으로 데이터를 내림차순 정렬하여 출력해보자.\n",
    "\n",
    "##===== A)\n",
    "# season 변수 생성\n",
    "air[, season:=ifelse(Month %in% c(12,1,2), \"winter\", \n",
    "                     ifelse(Month %in% c(3:5), \"spring\", \n",
    "                            ifelse(Month %in% c(6:8), \"summer\", \"fall\")))]\n",
    "\n",
    "# air 데이터 1~5행 확인\n",
    "air[1:5]\n",
    "\n",
    "# season별 Ozone과 Solar.R 변수들의 평균 산출 및 정렬\n",
    "air[, .(Ozone_mean=mean(Ozone, na.rm=T), Solar.R_mean=mean(Solar.R, na.rm=T)), \n",
    "    by=.(season)][order(Ozone_mean, decreasing = T)]"
   ]
  },
  {
   "cell_type": "code",
   "execution_count": null,
   "id": "bab96dfc-d719-4aa9-a007-41059b8fe2fc",
   "metadata": {},
   "outputs": [],
   "source": []
  },
  {
   "cell_type": "code",
   "execution_count": null,
   "id": "e34fb580-fbfd-4e7b-b33e-a784b14fba3b",
   "metadata": {},
   "outputs": [],
   "source": [
    "##### 6. key를 활용하여 데이터 다루기\n",
    "\n",
    "## Q) R의 내장 데이터 baseball을 데이터 테이블 형태로 변환한 뒤, year변수를 key로 지정해보자.\n",
    "## 그 후, 데이터테이블[J(제약조건),열,by= ] 코드를 활용하여 year변수가 1960년에 해당하는 데이터를 조회하고,\n",
    "## 1960년대 데이터들의 팀(team변수)별 경기 출전횟수(g변수)의 평균을 구해보자.\n",
    "\n",
    "##===== A)\n",
    "# baseball 데이터를 데이터 테이블로 변환\n",
    "library(plyr)  # baseball데이터가 들어있는 plyr패키지 로드\n",
    "baseball<-as.data.table(baseball)\n",
    "\n",
    "# year변수를 key로 지정\n",
    "setkey(baseball, year)\n",
    "\n",
    "# 1960년대 데이터 조회\n",
    "baseball[J(1960)]\n",
    "\n",
    "\n",
    "# 1960년대 경기 정보 중 팀별 출전횟수의 평균 산출\n",
    "# 팀별 출전횟수의 평균을 저장할 변수 이름을 지정할 경우에는 ‘list(변수명=값)’코드 활용\n",
    "\n",
    "# 변수명을 gmean으로 지정\n",
    "baseball[J(1960), list(gmean=mean(g)), by=team]\n",
    "\n",
    "# 변수명을 지정하지 않음 → V1가 변수명으로 사용됨\n",
    "baseball[J(1960), mean(g), by=team]"
   ]
  },
  {
   "cell_type": "code",
   "execution_count": null,
   "id": "704c6d3d-81b6-4c78-bb91-bb820ff05e00",
   "metadata": {},
   "outputs": [],
   "source": []
  },
  {
   "cell_type": "code",
   "execution_count": null,
   "id": "345eb2ee-2adb-4953-9645-98e8dafffcdf",
   "metadata": {},
   "outputs": [],
   "source": [
    "##### 7. key를 활용한 데이터 병합\n",
    "\n",
    "##### 도표 내 R 코드\n",
    "DT1<-data.table(x1=c(\"가\",\"나\",\"다\"), x2=c(\"A\",\"B\",\"C\"))\n",
    "DT2<-data.table(x1=c(\"가\",\"나\",\"라\"), x3=c(1:3))\n",
    "\n",
    "# 데이터 병합의 기준이 되는 변수(x1)를 key로 지정\n",
    "setkey(DT1, x1)\n",
    "setkey(DT2, x1)\n",
    "\n",
    "# 왼쪽 외부 조인\n",
    "DT2[DT1]\n",
    "\n",
    "# 오른쪽 외부 조인\n",
    "DT1[DT2]\n",
    "\n",
    "# 내부 조인\n",
    "DT1[DT2, nomatch=0]"
   ]
  },
  {
   "cell_type": "code",
   "execution_count": null,
   "id": "4e768196-1275-4f84-84c9-78006d4c6631",
   "metadata": {},
   "outputs": [],
   "source": []
  },
  {
   "cell_type": "code",
   "execution_count": null,
   "id": "7d16fdc8-3218-4d48-b037-c5c3135cdb1c",
   "metadata": {},
   "outputs": [],
   "source": []
  },
  {
   "cell_type": "markdown",
   "id": "0e8be38b-cd09-44c4-9aef-009eb1488142",
   "metadata": {},
   "source": [
    "## 5장. 결측치"
   ]
  },
  {
   "cell_type": "markdown",
   "id": "8215d7da-da0d-49f5-8c0f-3065d3f3f6ba",
   "metadata": {},
   "source": [
    "### 1절. 결측치 인식"
   ]
  },
  {
   "cell_type": "markdown",
   "id": "823f75c4-41f5-41dd-9428-a301ce8e2542",
   "metadata": {},
   "source": [
    "#### [Problem] 결측치 파악 및 개수 확인\n",
    "- airquality 데이터의 Ozone 변수에 대한 na 값 존재 여부를 파악하고, 만약 na가 존재한다면 결측치의 개수를 확인"
   ]
  },
  {
   "cell_type": "code",
   "execution_count": null,
   "id": "8215c919-8e48-449b-bf38-d30c041c5a65",
   "metadata": {
    "tags": []
   },
   "outputs": [],
   "source": [
    "import pandas as pd\n",
    "\n",
    "df_airq = pd.read_csv( \"C:/Users/Administrator/GitHub/TIL/ADP_study/rawdata/airquality.csv\",\n",
    "                      index_col='Unnamed: 0' )\n",
    "\n",
    "display(df_airq)"
   ]
  },
  {
   "cell_type": "code",
   "execution_count": null,
   "id": "e47fad58-8a17-4c5d-ac66-2fc444c70c6e",
   "metadata": {
    "tags": []
   },
   "outputs": [],
   "source": [
    "# 각각의 데이터들이 결측치인지 확인\n",
    "pd.isnull(df_airq)\n",
    "df_airq.isnull()\n",
    "\n",
    "# 각각의 데이터들이 결측치가 아닌지 확인\n",
    "pd.notnull(df_airq)\n",
    "df_airq.notnull()\n",
    "\n",
    "# 컬럼별 결측치 개수\n",
    "df_airq.isnull().sum()\n",
    "\n",
    "# 컬럼별 결측치가 아닌 데이터 개수\n",
    "df_airq.notnull().sum()"
   ]
  },
  {
   "cell_type": "code",
   "execution_count": null,
   "id": "96b0ae1d-5fe3-48c8-a280-7a17a46497c7",
   "metadata": {},
   "outputs": [],
   "source": [
    "# Ozone 변수에 존재하는 na의 개수 산출\n",
    "df_airq['Ozone'].isnull().sum()"
   ]
  },
  {
   "cell_type": "raw",
   "id": "9569f05e-741e-423b-a2f0-8afebc879e78",
   "metadata": {},
   "source": []
  },
  {
   "cell_type": "markdown",
   "id": "cddac38d-c73e-474b-ba6f-e9ae4c0cf6ba",
   "metadata": {},
   "source": [
    "#### [Problem] 특정 컬럼에서 결측치가 아닌 데이터와 결측치의 개수 비교"
   ]
  },
  {
   "cell_type": "code",
   "execution_count": null,
   "id": "f923d5ad-c510-40ac-b5f1-44f2377e8603",
   "metadata": {},
   "outputs": [],
   "source": [
    "# Ozone 변수에서 na가 아닌 값과 na값의 개수 비교\n",
    "x = df_airq['Ozone'].isnull()\n",
    "\n",
    "# numpy 를 이용\n",
    "display( np.unique(x, return_counts=True) )\n",
    "print()\n",
    "\n",
    "# pandas 를 이용\n",
    "display( pd.Series( x.value_counts() ) )\n",
    "print()\n",
    "\n",
    "# seaborn 을 이용\n",
    "import seaborn as sb\n",
    "display( sb.countplot(x) )"
   ]
  },
  {
   "cell_type": "raw",
   "id": "5c9b906f-41ca-483a-b92d-ca6882386cc3",
   "metadata": {},
   "source": []
  },
  {
   "cell_type": "markdown",
   "id": "3671284a-327b-4bfc-9c5d-8ec90e04e312",
   "metadata": {},
   "source": [
    "#### [Problem] 컬럼별 결측치 개수 확인\n",
    "- airquality 데이터의 모든 변수에 대해 각각 결측치(na값)가 몇 개씩 존재하는지 확인"
   ]
  },
  {
   "cell_type": "code",
   "execution_count": null,
   "id": "908d0b7d-9e27-4409-8d1b-a6da84a1bd23",
   "metadata": {
    "tags": []
   },
   "outputs": [],
   "source": [
    "df_airq.isnull().sum()"
   ]
  },
  {
   "cell_type": "raw",
   "id": "4ff954d6-f7ef-4167-8cb6-6f5a360e85d2",
   "metadata": {},
   "source": []
  },
  {
   "cell_type": "markdown",
   "id": "4e874520-5c6f-4240-bec7-1f6cdc37193f",
   "metadata": {},
   "source": [
    "#### [Problem] 결측치에 따른 데이터 분류\n",
    "- airquality 데이터에서 na값이 하나라도 존재하는 행들을 air_na 함수에 저장하고, na값을 하나도 가지지 않는 행들을 air_com 변수에 저장"
   ]
  },
  {
   "cell_type": "code",
   "execution_count": null,
   "id": "a6b0ee02-05ac-4f99-9185-fc7d1c292267",
   "metadata": {
    "tags": []
   },
   "outputs": [],
   "source": [
    "# 각각의 행 별로 결측치의 개수 합 계산\n",
    "y = df_airq.isnull().sum(1)\n",
    "\n",
    "# 행별 결측치에 따라 데이터 분류\n",
    "\n",
    "air_na = df_airq.loc[ y != 0 ]\n",
    "\n",
    "air_com = df_airq.loc[ y == 0 ]\n",
    "\n",
    "display( 'air_na', air_na, print(), 'air_com', air_com)"
   ]
  },
  {
   "cell_type": "raw",
   "id": "900f2c44-5994-40b0-8f4c-db95f025a72c",
   "metadata": {},
   "source": []
  },
  {
   "cell_type": "markdown",
   "id": "6b2c36c2-56a2-4b7a-a78b-9d719436d164",
   "metadata": {},
   "source": [
    "### 2절. 결측치 처리"
   ]
  },
  {
   "cell_type": "markdown",
   "id": "8b875979-b2e9-45b9-985c-06ac37bbcdff",
   "metadata": {},
   "source": [
    "#### [Problem] 결측치 제거\n",
    "- airquality의 Ozone 에서 결측치가 존재하는 경우, 결측치가 존재하는 행 제거"
   ]
  },
  {
   "cell_type": "code",
   "execution_count": null,
   "id": "9d4913c3-bdc1-4726-9018-236efe48d6a8",
   "metadata": {},
   "outputs": [],
   "source": [
    "import numpy as pd\n",
    "import pandas as pd\n",
    "\n",
    "df_airq = pd.read_csv( \"C:/Users/Administrator/GitHub/TIL/ADP_study/rawdata/airquality.csv\",\n",
    "                      index_col='Unnamed: 0' )\n",
    "\n",
    "display(df_airq)"
   ]
  },
  {
   "cell_type": "code",
   "execution_count": null,
   "id": "ede57e27-fa89-4a48-93b9-59db32be692d",
   "metadata": {},
   "outputs": [],
   "source": [
    "# .dropna() 사용\n",
    "# axis 옵션은 행을 삭제할 경우 1, 열을 삭제할 경우 0 이다.\n",
    "\n",
    "df_airq.dropna(axis=0)    "
   ]
  },
  {
   "cell_type": "raw",
   "id": "f743c105-df60-43a7-8871-2bfb08950f26",
   "metadata": {},
   "source": []
  },
  {
   "cell_type": "markdown",
   "id": "1f5b80e6-70d4-4caa-bd87-e62573c7f540",
   "metadata": {},
   "source": [
    "#### [Problem] 평균 대치법\n",
    "- airquality의 Ozone 변수값이 결측치일 경우, 결측치를 Ozone 변수 값들의 평균으로 대치"
   ]
  },
  {
   "cell_type": "code",
   "execution_count": null,
   "id": "0f7c73fa-14b8-47e6-aa2c-fd536dc041f6",
   "metadata": {},
   "outputs": [],
   "source": [
    "# airqulity 의 Ozone 컬럼의 평균 구하기\n",
    "ozone_mean = df_airq.describe().loc['mean','Ozone']\n",
    "print('Ozone 평균값:', ozone_mean)\n",
    "print()\n",
    "\n",
    "# .fillna() 사용\n",
    "df_airq['Ozone'].fillna(ozone_mean)\n",
    "\n"
   ]
  },
  {
   "cell_type": "raw",
   "id": "4c2a8234-8fe0-474d-b96b-b974293ba507",
   "metadata": {},
   "source": []
  },
  {
   "cell_type": "markdown",
   "id": "543883d2-6e83-4bf9-a5cb-e14e1c6465ec",
   "metadata": {},
   "source": [
    "#### [Problem] 결측치를 중위수로 대치\n",
    "- airquality의 Ozone 변수값이 결측치일 경우, 결측치를 Ozone 변수 값들의 중위수로 대치"
   ]
  },
  {
   "cell_type": "code",
   "execution_count": null,
   "id": "26af35f0-ca82-478b-bdcb-88a9b802fdfc",
   "metadata": {},
   "outputs": [],
   "source": [
    "# airqulity 의 Ozone 컬럼의 중위수 구하기\n",
    "ozone_median = df_airq.describe().loc['50%', 'Ozone']\n",
    "print('Ozone 중위수:', ozone_median)"
   ]
  },
  {
   "cell_type": "code",
   "execution_count": null,
   "id": "df44130f-517a-4d3d-9389-867fa4dc3e34",
   "metadata": {},
   "outputs": [],
   "source": [
    "df_airq['Ozone'].fillna(ozone_median)"
   ]
  },
  {
   "cell_type": "code",
   "execution_count": null,
   "id": "32b99741-9a19-4666-b5e8-35f852bf5222",
   "metadata": {},
   "outputs": [],
   "source": []
  },
  {
   "cell_type": "code",
   "execution_count": null,
   "id": "95d9a2ef-399a-4111-86bd-739fc5a8ee06",
   "metadata": {},
   "outputs": [],
   "source": []
  },
  {
   "cell_type": "code",
   "execution_count": null,
   "id": "5d6b6e94-96e5-4705-a089-5db88ab4da94",
   "metadata": {},
   "outputs": [],
   "source": []
  },
  {
   "cell_type": "code",
   "execution_count": null,
   "id": "7f6d3fa8-1cc7-42ea-9c59-0ca10d979e78",
   "metadata": {},
   "outputs": [],
   "source": []
  },
  {
   "cell_type": "code",
   "execution_count": null,
   "id": "e088e6d9-f741-485b-ac72-902ab0fc1c03",
   "metadata": {},
   "outputs": [],
   "source": [
    "##### 4. 패키지 활용\n",
    "## Q) DMwR의 함수들을 이용하여 NA값을 해당 변수의 중위수로 대치하는 전처리를 수행해보자. \n",
    "## NA값이 대치되는 과정을 확인하기 위해 airquality 데이터에서 \n",
    "## NA값을 하나라도 가지고 있는 행 번호들을 미리 뽑아놓고, \n",
    "## 전처리 전의 원본 데이터(air_before변수에 저장)와 \n",
    "## 전처리 후의 데이터(air_before변수에 저장)를 비교하여 \n",
    "## 전처리가 잘 진행되었는지 확인해보자.\n",
    "\n",
    "##===== A)\n",
    "# 패키지 다운 및 로드\n",
    "install.packages(\"DMwR\")\n",
    "library(DMwR)\n",
    "\n",
    "# airquality에서 na값을 가진 행들의 번호 추출\n",
    "na_idx<-which(!complete.cases(airquality))\n",
    "\n",
    "# na값을 제거하기 전의 원본 데이터를 air_before에 저장\n",
    "air_before<-airquality\n",
    "\n",
    "# na값을 제거한 데이터를 air_after에 저장\n",
    "air_after<-centralImputation(airquality)\n",
    "\n",
    "# 두 데이터에서 na_idx에 저장된 행번호에 해당하는 데이터들을 추출하여 na값이 잘 대체되었는지 비교\n",
    "# head 함수를 사용하여 처음 6행만 비교\n",
    "head(air_before[na_idx,])\n",
    "head(air_after[na_idx,])\n",
    "\n",
    "## 아래 코드의 실행결과 Ozone변수의 중위수는 31.5, Solar.R변수의 중위수는 205이며\n",
    "## air_before에 존재하던 NA값들이 각 변수의 중위수들로 잘 대체된 것을 확인할 수 있다.\n",
    "median(airquality$Ozone, na.rm=T)\n",
    "median(airquality$Solar.R, na.rm=T)"
   ]
  },
  {
   "cell_type": "code",
   "execution_count": null,
   "id": "785a8ebd-08f5-4aea-8eac-44699e26352b",
   "metadata": {},
   "outputs": [],
   "source": []
  },
  {
   "cell_type": "code",
   "execution_count": null,
   "id": "7ee41422-4819-481b-95b1-65ea7be41ae2",
   "metadata": {},
   "outputs": [],
   "source": []
  },
  {
   "cell_type": "code",
   "execution_count": null,
   "id": "d37430f2-53e1-4674-ac9c-64891aabb28e",
   "metadata": {},
   "outputs": [],
   "source": []
  },
  {
   "cell_type": "code",
   "execution_count": null,
   "id": "e6c62c2c-5e9e-46b7-9cf0-55b4b524288e",
   "metadata": {},
   "outputs": [],
   "source": []
  },
  {
   "cell_type": "code",
   "execution_count": null,
   "id": "2c73e58e-0791-4d2b-9eb4-1c8b674ad41e",
   "metadata": {},
   "outputs": [],
   "source": []
  },
  {
   "cell_type": "code",
   "execution_count": null,
   "id": "84d438a3-e61b-4e64-ad6f-69f9adb05260",
   "metadata": {},
   "outputs": [],
   "source": []
  },
  {
   "cell_type": "markdown",
   "id": "f9ffc8ab-3f2e-4dd6-a84f-9e18db8e0e8e",
   "metadata": {},
   "source": [
    "### 3절. 이상치 인식"
   ]
  },
  {
   "cell_type": "code",
   "execution_count": null,
   "id": "7a4dc758-2f2e-4962-8412-20c300f3345e",
   "metadata": {},
   "outputs": [],
   "source": []
  },
  {
   "cell_type": "code",
   "execution_count": null,
   "id": "24d4a205-ddf5-4d88-be96-28df99130475",
   "metadata": {},
   "outputs": [],
   "source": [
    "##### 1. 이상치란?\n",
    "##### 2. 사분위수\n",
    "quantile(x, prob=seq(0, 1, 0.25), na.rm=FALSE, ...)"
   ]
  },
  {
   "cell_type": "code",
   "execution_count": null,
   "id": "8f688c8e-8672-48cb-a022-72584055b3f4",
   "metadata": {},
   "outputs": [],
   "source": []
  },
  {
   "cell_type": "code",
   "execution_count": null,
   "id": "f324647a-edf5-44ce-8bf0-abc0dbfd8399",
   "metadata": {},
   "outputs": [],
   "source": [
    "##### 3. boxplot을 활용한 이상치 판별\n",
    "## Q1) 내장데이터 airquality의 Ozone변수에 대한 boxplot을 그려보자. \n",
    "## 또한 이를 OzoneBP 이라는 변수에 저장하여 lower whisker와 upper whisker 밖에 있는\n",
    "## 이상치가 존재하는지를 확인해보자.\n",
    "\n",
    "##===== A)\n",
    "# airquaity의 Ozone 변수에 대한 boxplot\n",
    "boxplot(airquality$Ozone)\n",
    "\n",
    "# boxplot의 반환값 확인\n",
    "OzoneBP<-boxplot(airquality$Ozone)\n",
    "OzoneBP   # 135, 168라는 이상치가 존재함을 확인할 수 있음\n",
    "\n",
    "\n",
    "## Q2) lower whisker(Q1-1.5×IQR) 보다 작거나 upper whisker(Q3+1.5×IQR) 보다 \n",
    "## 큰 값들을 이상치로 간주하고, 해당 값들이 저장된 행번호를 각각 \n",
    "## upperOutlier, lowerOutlier변수에 저장하자.\n",
    "## 그리고 해당 행을 출력하여 데이터를 확인해보자.\n",
    "\n",
    "##===== A)\n",
    "# Ozone의 1사분위수를 LowerQ에 저장\n",
    "LowerQ<-fivenum(airquality$Ozone)[2]\n",
    "\n",
    "# Ozone의 3사분위수를 UpperQ에 저장\n",
    "UpperQ<-fivenum(airquality$Ozone)[4]\n",
    "\n",
    "# Ozone 변수의 IQR을 구하여 IQR변수에 저장\n",
    "IQR<-IQR(airquality$Ozone, na.rm=T)\n",
    "\n",
    "# Ozone 값이 UpperQ+IQR*1.5 보다 큰 행번호를 upperOutlier에 저장\n",
    "# which(조건) : 조건을 만족하는 행번호 추출\n",
    "upperOutlier<-which(airquality$Ozone>UpperQ+IQR*1.5)\n",
    "\n",
    "# Ozone 값이 LowerQ-IQR*1.5 보다 작은 행번호를 lowerOutlier에 저장\n",
    "lowerOutlier<-which(airquality$Ozone<LowerQ-IQR*1.5)\n",
    "\n",
    "# upperOutlier와 lowerOutlier에 해당하는 Ozone 변수의 값 출력\n",
    "airquality[upperOutlier, \"Ozone\"]\n",
    "airquality[lowerOutlier, \"Ozone\"]\n",
    "# upper whisker(Q3+1.5×IQR)보다 큰 값으로는 135, 168이 있으며,\n",
    "# lower whisker(Q1-1.5×IQR) 보다 작은 값은 존재하지 않음을 알 수 있음."
   ]
  },
  {
   "cell_type": "code",
   "execution_count": null,
   "id": "97cbc4e1-80a9-48bd-bbb0-2b07625eca1c",
   "metadata": {},
   "outputs": [],
   "source": []
  },
  {
   "cell_type": "code",
   "execution_count": null,
   "id": "152c27ab-dc30-46a6-af2a-f3807a993251",
   "metadata": {},
   "outputs": [],
   "source": []
  },
  {
   "cell_type": "code",
   "execution_count": null,
   "id": "527188de-c185-4e8d-93ab-b63119b847d5",
   "metadata": {},
   "outputs": [],
   "source": []
  },
  {
   "cell_type": "code",
   "execution_count": null,
   "id": "86d1121e-c357-4e17-a7b6-e4949023cddb",
   "metadata": {},
   "outputs": [],
   "source": []
  },
  {
   "cell_type": "code",
   "execution_count": null,
   "id": "e486556d-3bee-4dff-a2d1-52e9f3cce779",
   "metadata": {},
   "outputs": [],
   "source": []
  },
  {
   "cell_type": "code",
   "execution_count": null,
   "id": "f027f20f-1821-4aa8-a389-1285385b9e3d",
   "metadata": {},
   "outputs": [],
   "source": []
  },
  {
   "cell_type": "markdown",
   "id": "71c909f8-dbec-4d56-8e8d-fe50a03513bd",
   "metadata": {},
   "source": [
    "## 6장. 날짜 데이터 전처리"
   ]
  },
  {
   "cell_type": "markdown",
   "id": "ef2aa8af-d069-4499-a41a-e9e8eb9342a1",
   "metadata": {},
   "source": [
    "### 1절. 날짜 데이터 다루기"
   ]
  },
  {
   "cell_type": "code",
   "execution_count": null,
   "id": "62fc4ad5-a42a-423c-bf51-7f8482454222",
   "metadata": {},
   "outputs": [],
   "source": []
  },
  {
   "cell_type": "code",
   "execution_count": null,
   "id": "8aa1a0d0-e1fd-498e-b45b-8da50f4a906d",
   "metadata": {},
   "outputs": [],
   "source": [
    "##### 1. R의 날짜 데이터 형식\n",
    "\n",
    "\n",
    "## Q1) Sys.Date함수와 Sys.time함수를 이용해 현재 날짜와 시간을 확인하고 \n",
    "## 각각 다른 변수에 저장하여 데이터 형식을 확인해보자.\n",
    "\n",
    "##===== A)\n",
    "# 현재 날짜를 today변수에 저장\n",
    "today<-Sys.Date()\n",
    "today\n",
    "\n",
    "# today의 클래스 확인\n",
    "class(today)\n",
    "\n",
    "# 현재 날짜와 시간을 time변수에 저장\n",
    "time<-Sys.time()\n",
    "time\n",
    "\n",
    "# time의 클래스 확인\n",
    "class(time)\n",
    "\n",
    "\n",
    "\n",
    "## Q2) unclass( )는 데이터의 클래스 속성을 제거해주는 기능을 가진다. \n",
    "## unclass함수를 today와 time변수에 각각 적용하여 내부적으로 저장하고 있는 값을 확인해보자. \n",
    "## 또한 unclass를 적용한 time변수값을 다시 원래의 데이터 형식 POSIXct로 변환해보자.\n",
    "\n",
    "##===== A)\n",
    "# today 내부의 값 확인 : 1970년 1월 1일 이후로 경과한 일 수를 의미함\n",
    "unclass(today)\n",
    "\n",
    "# time 내부의 값 확인 : 1970년 1월 1일 00:00:00 이후로 경과한 초 수를 의미함\n",
    "unclass(time)\n",
    "\n",
    "# unclass를 적용한 time 값을 다시 원래 날짜 형식으로 변환하기\n",
    "as.POSIXct(unclass(time), origin=\"1970-01-01\")\n",
    "# unclass(time)은 1970년1월1일 이후로 경과한 초 수를 의미하므로, \n",
    "# origin 인자값으로 \"1970-01-01\"을 지정\n",
    "\n",
    "\n",
    "\n",
    "## Q3) Sys.time 함수를 이용하여 현재 시간을 구하고 이를 time 변수에 저장하여라. \n",
    "## time을 POSIXlt형식으로 변환한 뒤, 연/월/시간/일/요일 등의 정보를 추출해보자.\n",
    "\n",
    "##===== A)\n",
    "# 현재 시간을 구한 뒤 POSIXlt 형식으로 변환하여 time 변수에 저장\n",
    "time<-as.POSIXlt(Sys.time())\n",
    "\n",
    "# 연(year) 추출 \n",
    "# time$year에는 1900년 이후의 경과 년도수가 저장되어 있으므로 현재 년도를 구하기 위해서는 1900을 더해야함\n",
    "time$year+1900\n",
    "\n",
    "# 월(mon) 추출 : 월 정보는 0-11값으로 저장되어 있기 때문에 1을 더함\n",
    "time$mon+1\n",
    "\n",
    "# 일(mday) 추출\n",
    "time$mday\n",
    "\n",
    "# 요일(wday) 추출\n",
    "time$wday"
   ]
  },
  {
   "cell_type": "code",
   "execution_count": null,
   "id": "87ee5e1e-a690-4ecc-a2b5-4ce3b7b00f59",
   "metadata": {},
   "outputs": [],
   "source": []
  },
  {
   "cell_type": "code",
   "execution_count": null,
   "id": "8ba2459e-c3c9-490f-8f43-66c3c8acbb7a",
   "metadata": {},
   "outputs": [],
   "source": [
    "##### 2. 날짜 표시형식 변경\n",
    "\n",
    "## Q1) Sys.time 함수를 이용해 현재 날짜와 시간을 now 변수에 저장한 후, \n",
    "## 이를 “네자리 연도수-두자리 월-일 시:분:초”의 형태를 가진 문자형 데이터로 변환해보자.\n",
    "\n",
    "##===== A)\n",
    "# 현재 날짜와 시간을 now에 저장\n",
    "now<-Sys.time()\n",
    "\n",
    "# now 데이터의 class 확인\n",
    "class(now)\n",
    "\n",
    "# now 데이터를 문자형으로 변환\n",
    "format(now, \"%y-%m-%d %H:%M:%S\")\n",
    "\n",
    "# 문자형으로 변환한 데이터의 class 확인 \n",
    "class(format(now, \"%y-%m-%d %H:%M:%S\"))\n",
    "\n",
    "\n",
    "\n",
    "## Q2)  “20200101”이라는 문자열을 Date 형식으로 변환한 후, \n",
    "## date 변수에 저장하여 class를 확인해보자.\n",
    "\n",
    "##===== A)\n",
    "date<-as.Date(\"20200101\", format=\"%Y%m%d\")\n",
    "date\n",
    "\n",
    "# date의 class 확인 : Date 형식으로 변환된 것을 확인할 수 있음\n",
    "class(date)"
   ]
  },
  {
   "cell_type": "code",
   "execution_count": null,
   "id": "9e6e55e3-9d04-4c14-a9f0-441b49204bc7",
   "metadata": {},
   "outputs": [],
   "source": []
  },
  {
   "cell_type": "code",
   "execution_count": null,
   "id": "af04d3a0-9ab6-4b3f-b898-5d7d541d0703",
   "metadata": {},
   "outputs": [],
   "source": [
    "##### 3. 날짜 데이터의 연산\n",
    "\n",
    "# 현재 날짜로부터 100일 후의 날짜 구하기\n",
    "Sys.Date() + 100\n",
    "\n",
    "# \"2020-01-01\"로 표현된 데이터로부터 365일 후의 날짜 구하기\n",
    "as.Date(\"2020-01-01\", format=\"%Y-%m-%d\") + 365\n",
    "\n",
    "# \"1990-01-01\" 과 \"2025-01-01\" 사이의 일 수 구하기\n",
    "as.Date(\"1990-01-01\") - as.Date(\"2025-01-01\")\n",
    "\n",
    "# 두 날짜 사이의 일 수만을 구하고 싶다면 날짜끼리 뺄셈을 한 후 \n",
    "# 해당 값을 숫자형으로 변경하면 된다.\n",
    "days <- as.Date(\"1990-01-01\") - as.Date(\"2025-01-01\")\n",
    "as.numeric(days)\n",
    "\n",
    "\n",
    "\n",
    "\n",
    "# 오늘 날짜와 \"1990-01-01\" 사이의 일 수 구하기\n",
    "difftime(\"1990-01-01\", Sys.Date())\n",
    "\n",
    "# \"09:40:00\"시간과 \"18:30:00\"시간 사이의 차이 구하기\n",
    "as.difftime(\"09:40:00\")-as.difftime(\"18:30:00\")\n"
   ]
  }
 ],
 "metadata": {
  "kernelspec": {
   "display_name": "Python 3",
   "language": "python",
   "name": "python3"
  },
  "language_info": {
   "codemirror_mode": {
    "name": "ipython",
    "version": 3
   },
   "file_extension": ".py",
   "mimetype": "text/x-python",
   "name": "python",
   "nbconvert_exporter": "python",
   "pygments_lexer": "ipython3",
   "version": "3.8.8"
  }
 },
 "nbformat": 4,
 "nbformat_minor": 5
}
