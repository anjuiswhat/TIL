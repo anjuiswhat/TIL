{
 "cells": [
  {
   "cell_type": "markdown",
   "id": "e3096c02-ef5f-4e9d-bd67-bfb986c896a6",
   "metadata": {
    "tags": []
   },
   "source": [
    "## - 불러올 패키지 목록"
   ]
  },
  {
   "cell_type": "code",
   "execution_count": 1,
   "id": "a8d24a93-f711-4d08-beb7-4f735cd006d1",
   "metadata": {},
   "outputs": [],
   "source": [
    "# 수학 함수 패키지\n",
    "import math\n",
    "\n",
    "# 데이터 핸들링을 위한 패키지\n",
    "import numpy as np\n",
    "import pandas as pd\n",
    "\n",
    "# statsmodels 패키지\n",
    "import statsmodels.api as sm\n",
    "import statsmodels.stats.api as sms\n",
    "from statsmodels.stats.proportion import *\n",
    "from statsmodels.formula.api import ols\n",
    "\n",
    "# SciPy 패키지\n",
    "from scipy.stats import *  # 통계 분석을 위한 패키지\n",
    "from scipy.cluster.hierarchy import *  # 계층적 군집 분석을 위한 패키지\n",
    "\n",
    "# scikit-learn 패키지\n",
    "from sklearn.preprocessing import *  # 데이터 전처리를 위한 패키지\n",
    "from sklearn.model_selection import *  # 데이터 분리, 검증 및 파라미터 튜닝을 위한 패키지\n",
    "from sklearn.metrics import *  # 모델에 대한 다양한 성능 평가를 위한 패키지\n",
    "from sklearn.linear_model import *    # 선형 회귀 분석을 위한 패키지 (로지스틱 회귀 포함)\n",
    "from sklearn.cluster import *  # 비지도 군집화 알고리즘 제공\n",
    "from sklearn.tree import *  # 의사결정나무 알고리즘 제공\n",
    "from sklearn.ensemble import *  # 앙상블 알고리즘 제공\n",
    "from sklearn.neighbors import *  # kNN 알고리즘 제공\n",
    "from sklearn.svm import *  # 서포트 벡터 머신 알고리즘 제공\n",
    "from sklearn.mixture import *  # 혼합분포군집(GMM 등) 알고리즘 제공\n",
    "from sklearn.decomposition import *  # 차원축소 알고리즘 제공\n",
    "\n",
    "# mlxtend 패키지\n",
    "from mlxtend.preprocessing import *  # 연관분석에 필요한 트랜잭션 전처리 알고리즘 포함\n",
    "from mlxtend.frequent_patterns import *  # 연관분석에 사용되는 알고리즘 포함 \n",
    "from mlxtend.plotting import plot_decision_regions\n",
    "\n",
    "# missingno 패키지 (데이터 전처리 전 결측치 확인)\n",
    "import missingno as msno\n",
    "\n",
    "# label별 데이터 카운트를 위한 모듈\n",
    "from collections import Counter  # https://docs.python.org/3/library/collections.html\n",
    "\n",
    "# 시각화를 위한 패키지\n",
    "import seaborn as sb\n",
    "import matplotlib.pyplot as plt\n",
    "import matplotlib.cm as cm  # 내장 colormap, colormap 처리 유틸리티\n",
    "from matplotlib.colors import ListedColormap  # colors and colormaps\n",
    "from mlxtend.plotting import plot_decision_regions\n",
    "%matplotlib inline\n",
    "# %matplotlib inline 의 목적은 plt.show()함수가 호출되지 않은 경우에도 matplotlib 다이어그램을 렌더링하는 것이다.\n",
    "# 그러나 현재 업데이트된 버전의 주피터 노트북 버전에서는 %matplotlib inline 를 사용하지 않더라도 Matplotlib 다이어그램을 개체로 표현한다.\n",
    "# 따라서 굳이 필요하지는 않다. 그러나 코드를 깨끗하게 유지하고 자신이 만든 플롯을 호출하기 위해 여전히 관례적으로 권장된다.\n",
    "\n",
    "# 경고 메시지 무시\n",
    "import warnings\n",
    "warnings.filterwarnings('ignore')\n",
    "\n",
    "# 그래프 스타일 서식 지정\n",
    "plt.style.use('default')\n",
    "\n",
    "# 한글 폰트 설정\n",
    "plt.rc('font', family='Malgun Gothic')\n",
    "\n",
    "# 그래프 축의 음수 표현 오류 방지\n",
    "plt.rcParams['axes.unicode_minus'] = False"
   ]
  },
  {
   "cell_type": "markdown",
   "id": "f90f519f-e826-4f7e-9f96-fd514c6611aa",
   "metadata": {},
   "source": [
    "# 통계적 추정"
   ]
  },
  {
   "cell_type": "code",
   "execution_count": 2,
   "id": "0f71c076-cc2b-48af-87c8-fb8ba14e51eb",
   "metadata": {},
   "outputs": [
    {
     "data": {
      "text/html": [
       "<div>\n",
       "<style scoped>\n",
       "    .dataframe tbody tr th:only-of-type {\n",
       "        vertical-align: middle;\n",
       "    }\n",
       "\n",
       "    .dataframe tbody tr th {\n",
       "        vertical-align: top;\n",
       "    }\n",
       "\n",
       "    .dataframe thead th {\n",
       "        text-align: right;\n",
       "    }\n",
       "</style>\n",
       "<table border=\"1\" class=\"dataframe\">\n",
       "  <thead>\n",
       "    <tr style=\"text-align: right;\">\n",
       "      <th></th>\n",
       "      <th>ID</th>\n",
       "      <th>Index</th>\n",
       "    </tr>\n",
       "  </thead>\n",
       "  <tbody>\n",
       "    <tr>\n",
       "      <th>0</th>\n",
       "      <td>1</td>\n",
       "      <td>75</td>\n",
       "    </tr>\n",
       "    <tr>\n",
       "      <th>1</th>\n",
       "      <td>2</td>\n",
       "      <td>63</td>\n",
       "    </tr>\n",
       "    <tr>\n",
       "      <th>2</th>\n",
       "      <td>3</td>\n",
       "      <td>49</td>\n",
       "    </tr>\n",
       "    <tr>\n",
       "      <th>3</th>\n",
       "      <td>4</td>\n",
       "      <td>86</td>\n",
       "    </tr>\n",
       "    <tr>\n",
       "      <th>4</th>\n",
       "      <td>5</td>\n",
       "      <td>53</td>\n",
       "    </tr>\n",
       "    <tr>\n",
       "      <th>5</th>\n",
       "      <td>6</td>\n",
       "      <td>80</td>\n",
       "    </tr>\n",
       "    <tr>\n",
       "      <th>6</th>\n",
       "      <td>7</td>\n",
       "      <td>70</td>\n",
       "    </tr>\n",
       "    <tr>\n",
       "      <th>7</th>\n",
       "      <td>8</td>\n",
       "      <td>72</td>\n",
       "    </tr>\n",
       "    <tr>\n",
       "      <th>8</th>\n",
       "      <td>9</td>\n",
       "      <td>81</td>\n",
       "    </tr>\n",
       "    <tr>\n",
       "      <th>9</th>\n",
       "      <td>10</td>\n",
       "      <td>80</td>\n",
       "    </tr>\n",
       "  </tbody>\n",
       "</table>\n",
       "</div>"
      ],
      "text/plain": [
       "   ID  Index\n",
       "0   1     75\n",
       "1   2     63\n",
       "2   3     49\n",
       "3   4     86\n",
       "4   5     53\n",
       "5   6     80\n",
       "6   7     70\n",
       "7   8     72\n",
       "8   9     81\n",
       "9  10     80"
      ]
     },
     "execution_count": 2,
     "metadata": {},
     "output_type": "execute_result"
    }
   ],
   "source": [
    "csi = pd.read_csv( r'C:\\Users\\Boanerges\\GitHub\\TIL\\rawdata\\Csi.csv' )\n",
    "csi.head(10)"
   ]
  },
  {
   "cell_type": "code",
   "execution_count": 3,
   "id": "2ea8e9a6-50da-4bf0-866a-7dbd24f67f83",
   "metadata": {},
   "outputs": [],
   "source": [
    "x = csi.iloc[:,1]"
   ]
  },
  {
   "cell_type": "code",
   "execution_count": 4,
   "id": "b1f277c5-b6ee-402d-a3a0-5f32d14052f0",
   "metadata": {},
   "outputs": [
    {
     "data": {
      "text/plain": [
       "<AxesSubplot:xlabel='Index', ylabel='Density'>"
      ]
     },
     "execution_count": 4,
     "metadata": {},
     "output_type": "execute_result"
    },
    {
     "data": {
      "image/png": "[encoded data removed]",
      "text/plain": [
       "<Figure size 640x480 with 1 Axes>"
      ]
     },
     "metadata": {},
     "output_type": "display_data"
    }
   ],
   "source": [
    "sb.distplot( x )"
   ]
  },
  {
   "cell_type": "code",
   "execution_count": 5,
   "id": "fe3dfea5-9696-4637-9c72-d1ddc9ebbccc",
   "metadata": {},
   "outputs": [
    {
     "data": {
      "text/plain": [
       "count    25.00\n",
       "mean     72.32\n",
       "std      11.60\n",
       "min      49.00\n",
       "25%      63.00\n",
       "50%      74.00\n",
       "75%      80.00\n",
       "max      95.00\n",
       "Name: Index, dtype: float64"
      ]
     },
     "execution_count": 5,
     "metadata": {},
     "output_type": "execute_result"
    }
   ],
   "source": [
    "x.describe()"
   ]
  },
  {
   "cell_type": "markdown",
   "id": "2bac5c48-81c8-4fb5-83c5-731861a68020",
   "metadata": {},
   "source": [
    "## 모평균에 대한 추정"
   ]
  },
  {
   "cell_type": "markdown",
   "id": "38f7c100-f767-4892-b5ab-ae586593a059",
   "metadata": {},
   "source": [
    "### statsmodels 패키지 사용\n",
    "- `statsmodels.stats.weightstats.DescrStatsW()` https://www.statsmodels.org/stable/generated/statsmodels.stats.weightstats.DescrStatsW.html"
   ]
  },
  {
   "cell_type": "code",
   "execution_count": 6,
   "id": "d9fbdb46-1929-4681-8c05-ca939ae8985d",
   "metadata": {},
   "outputs": [
    {
     "name": "stdout",
     "output_type": "stream",
     "text": [
      "표본 평균 :  72.32\n",
      "\n"
     ]
    }
   ],
   "source": [
    "# 표본 평균\n",
    "\n",
    "print('표본 평균 : ', sms.DescrStatsW(x).mean )\n",
    "print()"
   ]
  },
  {
   "cell_type": "code",
   "execution_count": 7,
   "id": "058fa977-3c32-465b-b4bd-f71df6e91c35",
   "metadata": {},
   "outputs": [
    {
     "name": "stdout",
     "output_type": "stream",
     "text": [
      "표준편차 (df = n 인 경우) :  11.365632406513948\n",
      "\n",
      "표준편차 (df = n-1 인 경우) :  11.600000000000001\n",
      "\n"
     ]
    }
   ],
   "source": [
    "# 표준 편차\n",
    "\n",
    "print('표준편차 (df = n 인 경우) : ', sms.DescrStatsW(x).std )\n",
    "print()\n",
    "print('표준편차 (df = n-1 인 경우) : ', sms.DescrStatsW(x, ddof = 1).std )  # df = n - ddof\n",
    "print()"
   ]
  },
  {
   "cell_type": "code",
   "execution_count": 8,
   "id": "4692dd4b-c50d-43a8-afde-0bb03832acf9",
   "metadata": {},
   "outputs": [
    {
     "name": "stdout",
     "output_type": "stream",
     "text": [
      "< 모평균에 대한 신뢰구간 (모분산이 알려지지 않은 경우) >\n",
      " (67.53175533702299, 77.108244662977)\n",
      "\n",
      "< 모평균에 대한 신뢰구간 (모분산이 알려진 경우) >\n",
      " (67.77288355586707, 76.86711644413292)\n",
      "\n"
     ]
    }
   ],
   "source": [
    "# 신뢰 구간\n",
    "\n",
    "print('< 모평균에 대한 신뢰구간 (모분산이 알려지지 않은 경우) >\\n', sms.DescrStatsW( x ).tconfint_mean() )  # alpha=0.05, alternative='two-sided'\n",
    "print()\n",
    "print('< 모평균에 대한 신뢰구간 (모분산이 알려진 경우) >\\n', sms.DescrStatsW( x ).zconfint_mean() )  # alpha=0.05, alternative='two-sided'\n",
    "print()"
   ]
  },
  {
   "cell_type": "markdown",
   "id": "bdbcffa5-6029-49f9-a533-a96abaecf388",
   "metadata": {},
   "source": [
    "### Numpy, SciPy 패키지 사용\n",
    "- `scipy.stats.t.ppf()` https://docs.scipy.org/doc/scipy/reference/generated/scipy.stats.t.html"
   ]
  },
  {
   "cell_type": "code",
   "execution_count": 9,
   "id": "1c972617-1fd6-4084-b5cc-a55f99c89590",
   "metadata": {},
   "outputs": [
    {
     "name": "stdout",
     "output_type": "stream",
     "text": [
      "67.53175533702299 77.108244662977\n"
     ]
    }
   ],
   "source": [
    "n = x.size\n",
    "mean = np.mean(x)\n",
    "sd = np.std(x, ddof=1) / np.sqrt(n)\n",
    "\n",
    "limit = t.ppf(0.975, n-1) * sd\n",
    "print(mean - limit, mean + limit)"
   ]
  },
  {
   "cell_type": "code",
   "execution_count": 10,
   "id": "53514192-4ccb-459c-aceb-615cdb613143",
   "metadata": {},
   "outputs": [
    {
     "name": "stdout",
     "output_type": "stream",
     "text": [
      "표본 평균 :  72.32\n",
      "\n"
     ]
    }
   ],
   "source": [
    "# 표본 평균\n",
    "\n",
    "print('표본 평균 : ', np.mean(x) )\n",
    "print()"
   ]
  },
  {
   "cell_type": "code",
   "execution_count": 11,
   "id": "3bde960a-93bc-4be9-89ef-1a691e4fee4b",
   "metadata": {},
   "outputs": [
    {
     "name": "stdout",
     "output_type": "stream",
     "text": [
      "표준편차 (df = n 인 경우) :  11.365632406513948\n",
      "\n",
      "표준편차 (df = n-1 인 경우) :  11.600000000000001\n",
      "\n"
     ]
    }
   ],
   "source": [
    "# 표준 편차\n",
    "\n",
    "print('표준편차 (df = n 인 경우) : ', np.std(x) )\n",
    "print()\n",
    "print('표준편차 (df = n-1 인 경우) : ', np.std(x, ddof = 1) )  # df = n - ddof\n",
    "print()"
   ]
  },
  {
   "cell_type": "code",
   "execution_count": 12,
   "id": "4ea5856b-b0c1-4fe0-996b-aea25b3cf442",
   "metadata": {},
   "outputs": [
    {
     "name": "stdout",
     "output_type": "stream",
     "text": [
      "67.53175533702299 77.108244662977\n"
     ]
    }
   ],
   "source": [
    "# 신뢰 구간\n",
    "\n",
    "sd = np.std(x, ddof=1) / np.sqrt(n)\n",
    "\n",
    "limit = t.ppf(0.975, n-1) * sd\n",
    "\n",
    "print(mean - limit, mean + limit)"
   ]
  },
  {
   "cell_type": "raw",
   "id": "8ad37b91-a541-4077-9dcf-1824178dc665",
   "metadata": {},
   "source": [
    "\n"
   ]
  },
  {
   "cell_type": "markdown",
   "id": "60708e6c-33b1-4766-ae34-e5e849243179",
   "metadata": {},
   "source": [
    "## 모비율에 대한 추정"
   ]
  },
  {
   "cell_type": "markdown",
   "id": "586fc51b-db4e-400a-96b7-27abc0f60704",
   "metadata": {},
   "source": [
    "### statsmodels 패키지 사용\n",
    "- `statsmodels.stats.proportion.proportion_confint()` https://www.statsmodels.org/stable/generated/statsmodels.stats.proportion.proportion_confint.html#statsmodels.stats.proportion.proportion_confint"
   ]
  },
  {
   "cell_type": "code",
   "execution_count": 13,
   "id": "24bf6d85-f67c-4d34-ab15-6d961adcb65d",
   "metadata": {},
   "outputs": [
    {
     "name": "stdout",
     "output_type": "stream",
     "text": [
      "표본비율: p = 0.625\n",
      "\n",
      "모비율에 대한 신뢰구간(이항분포) :  (0.5755217886614281, 0.6726137612704786)\n",
      "\n",
      "모비율에 대한 신뢰구간(정규분포) : (0.5775568258044377, 0.6724431741955623)\n",
      "\n"
     ]
    }
   ],
   "source": [
    "# 크기가 400개인 표본으로부터 성공횟수가 x일 때의 모비율 추정\n",
    "\n",
    "n = 400\n",
    "x = 250\n",
    "\n",
    "print( \"표본비율: p =\", x/n )\n",
    "print()  \n",
    "\n",
    "# x가 이항분포를 따른다고 가정할 때 : method = 'beta'\n",
    "print( \"모비율에 대한 신뢰구간(이항분포) : \", proportion_confint( x, n, alpha = 0.05, method = 'beta') )  # x가 이항분포를 따른다고 가정할 때 : method = 'beta'\n",
    "print()\n",
    "\n",
    "# x가 정규분포를 따른다고 가정할 때 : method = 'normal' (기본값)\n",
    "print( '모비율에 대한 신뢰구간(정규분포) :', proportion_confint( x, n, alpha = 0.05, method = 'normal') )\n",
    "print()"
   ]
  },
  {
   "cell_type": "markdown",
   "id": "0a9e42c9-3ced-485c-9f47-5257597b14e1",
   "metadata": {},
   "source": [
    "### Numpy, SciPy 패키지 사용\n",
    "- `scipy.stats.norm()` https://docs.scipy.org/doc/scipy/reference/generated/scipy.stats.norm.html"
   ]
  },
  {
   "cell_type": "code",
   "execution_count": 14,
   "id": "77ba2ffb-53cb-4008-81c1-435a036e9fd7",
   "metadata": {},
   "outputs": [
    {
     "name": "stdout",
     "output_type": "stream",
     "text": [
      "표본비율: p = 0.625\n",
      "\n",
      "모비율에 대한 신뢰구간(정규분포) : (0.5775568258044378, 0.6724431741955622)\n",
      "\n"
     ]
    }
   ],
   "source": [
    "n = 400\n",
    "x = 250\n",
    "p = x/n\n",
    "\n",
    "print( \"표본비율: p =\", x/n )\n",
    "print()\n",
    "print( '모비율에 대한 신뢰구간(정규분포) :', norm.interval( 0.95, p, scale = np.sqrt( p*(1-p)/n ) ) )\n",
    "print()"
   ]
  },
  {
   "cell_type": "code",
   "execution_count": null,
   "id": "f54179ef-340e-4793-82a1-53853e22cebf",
   "metadata": {},
   "outputs": [],
   "source": []
  }
 ],
 "metadata": {
  "kernelspec": {
   "display_name": "Python 3",
   "language": "python",
   "name": "python3"
  },
  "language_info": {
   "codemirror_mode": {
    "name": "ipython",
    "version": 3
   },
   "file_extension": ".py",
   "mimetype": "text/x-python",
   "name": "python",
   "nbconvert_exporter": "python",
   "pygments_lexer": "ipython3",
   "version": "3.8.11"
  },
  "toc-autonumbering": true
 },
 "nbformat": 4,
 "nbformat_minor": 5
}
