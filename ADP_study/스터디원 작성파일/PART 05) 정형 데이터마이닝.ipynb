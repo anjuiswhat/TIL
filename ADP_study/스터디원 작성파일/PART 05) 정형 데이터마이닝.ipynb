{
 "cells": [
  {
   "cell_type": "code",
   "execution_count": null,
   "metadata": {
    "id": "IbV6yD4RbLG2"
   },
   "outputs": [],
   "source": [
    "import pandas as pd"
   ]
  },
  {
   "cell_type": "code",
   "execution_count": null,
   "metadata": {
    "id": "27TSgAf4bLG4"
   },
   "outputs": [],
   "source": [
    "import numpy as np\n",
    "from sklearn.model_selection import train_test_split\n",
    "from sklearn.metrics import confusion_matrix\n",
    "from sklearn.metrics import accuracy_score\n",
    "from sklearn.metrics import roc_curve\n",
    "from matplotlib import pyplot as plt"
   ]
  },
  {
   "cell_type": "code",
   "execution_count": null,
   "metadata": {
    "id": "Ha7aoyO6bLG5",
    "outputId": "27ffb142-2f5e-4d32-c505-0a9b197da75b"
   },
   "outputs": [
    {
     "data": {
      "text/html": [
       "<div>\n",
       "<style scoped>\n",
       "    .dataframe tbody tr th:only-of-type {\n",
       "        vertical-align: middle;\n",
       "    }\n",
       "\n",
       "    .dataframe tbody tr th {\n",
       "        vertical-align: top;\n",
       "    }\n",
       "\n",
       "    .dataframe thead th {\n",
       "        text-align: right;\n",
       "    }\n",
       "</style>\n",
       "<table border=\"1\" class=\"dataframe\">\n",
       "  <thead>\n",
       "    <tr style=\"text-align: right;\">\n",
       "      <th></th>\n",
       "      <th>credit.rating</th>\n",
       "      <th>account.balance</th>\n",
       "      <th>credit.duration.months</th>\n",
       "      <th>previous.credit.payment.status</th>\n",
       "      <th>credit.purpose</th>\n",
       "      <th>credit.amount</th>\n",
       "      <th>savings</th>\n",
       "      <th>employment.duration</th>\n",
       "      <th>installment.rate</th>\n",
       "      <th>marital.status</th>\n",
       "      <th>...</th>\n",
       "      <th>residence.duration</th>\n",
       "      <th>current.assets</th>\n",
       "      <th>age</th>\n",
       "      <th>other.credits</th>\n",
       "      <th>apartment.type</th>\n",
       "      <th>bank.credits</th>\n",
       "      <th>occupation</th>\n",
       "      <th>dependents</th>\n",
       "      <th>telephone</th>\n",
       "      <th>foreign.worker</th>\n",
       "    </tr>\n",
       "  </thead>\n",
       "  <tbody>\n",
       "    <tr>\n",
       "      <th>0</th>\n",
       "      <td>1</td>\n",
       "      <td>1</td>\n",
       "      <td>18</td>\n",
       "      <td>3</td>\n",
       "      <td>2</td>\n",
       "      <td>1049</td>\n",
       "      <td>1</td>\n",
       "      <td>1</td>\n",
       "      <td>4</td>\n",
       "      <td>1</td>\n",
       "      <td>...</td>\n",
       "      <td>4</td>\n",
       "      <td>2</td>\n",
       "      <td>21</td>\n",
       "      <td>2</td>\n",
       "      <td>1</td>\n",
       "      <td>1</td>\n",
       "      <td>3</td>\n",
       "      <td>1</td>\n",
       "      <td>1</td>\n",
       "      <td>1</td>\n",
       "    </tr>\n",
       "    <tr>\n",
       "      <th>1</th>\n",
       "      <td>1</td>\n",
       "      <td>1</td>\n",
       "      <td>9</td>\n",
       "      <td>3</td>\n",
       "      <td>4</td>\n",
       "      <td>2799</td>\n",
       "      <td>1</td>\n",
       "      <td>2</td>\n",
       "      <td>2</td>\n",
       "      <td>3</td>\n",
       "      <td>...</td>\n",
       "      <td>2</td>\n",
       "      <td>1</td>\n",
       "      <td>36</td>\n",
       "      <td>2</td>\n",
       "      <td>1</td>\n",
       "      <td>2</td>\n",
       "      <td>3</td>\n",
       "      <td>2</td>\n",
       "      <td>1</td>\n",
       "      <td>1</td>\n",
       "    </tr>\n",
       "    <tr>\n",
       "      <th>2</th>\n",
       "      <td>1</td>\n",
       "      <td>2</td>\n",
       "      <td>12</td>\n",
       "      <td>2</td>\n",
       "      <td>4</td>\n",
       "      <td>841</td>\n",
       "      <td>2</td>\n",
       "      <td>3</td>\n",
       "      <td>2</td>\n",
       "      <td>1</td>\n",
       "      <td>...</td>\n",
       "      <td>4</td>\n",
       "      <td>1</td>\n",
       "      <td>23</td>\n",
       "      <td>2</td>\n",
       "      <td>1</td>\n",
       "      <td>1</td>\n",
       "      <td>2</td>\n",
       "      <td>1</td>\n",
       "      <td>1</td>\n",
       "      <td>1</td>\n",
       "    </tr>\n",
       "  </tbody>\n",
       "</table>\n",
       "<p>3 rows × 21 columns</p>\n",
       "</div>"
      ],
      "text/plain": [
       "   credit.rating  account.balance  credit.duration.months  \\\n",
       "0              1                1                      18   \n",
       "1              1                1                       9   \n",
       "2              1                2                      12   \n",
       "\n",
       "   previous.credit.payment.status  credit.purpose  credit.amount  savings  \\\n",
       "0                               3               2           1049        1   \n",
       "1                               3               4           2799        1   \n",
       "2                               2               4            841        2   \n",
       "\n",
       "   employment.duration  installment.rate  marital.status  ...  \\\n",
       "0                    1                 4               1  ...   \n",
       "1                    2                 2               3  ...   \n",
       "2                    3                 2               1  ...   \n",
       "\n",
       "   residence.duration  current.assets  age  other.credits  apartment.type  \\\n",
       "0                   4               2   21              2               1   \n",
       "1                   2               1   36              2               1   \n",
       "2                   4               1   23              2               1   \n",
       "\n",
       "   bank.credits  occupation  dependents  telephone  foreign.worker  \n",
       "0             1           3           1          1               1  \n",
       "1             2           3           2          1               1  \n",
       "2             1           2           1          1               1  \n",
       "\n",
       "[3 rows x 21 columns]"
      ]
     },
     "execution_count": 3,
     "metadata": {
      "tags": []
     },
     "output_type": "execute_result"
    }
   ],
   "source": [
    "credit = pd.read_csv('data/credit_final.csv')\n",
    "credit.head(3)"
   ]
  },
  {
   "cell_type": "code",
   "execution_count": null,
   "metadata": {
    "id": "_mxSRK5ZbLG6",
    "outputId": "890da915-3ef2-46c3-f93f-80d2f55985ca"
   },
   "outputs": [
    {
     "name": "stdout",
     "output_type": "stream",
     "text": [
      "<class 'pandas.core.frame.DataFrame'>\n",
      "RangeIndex: 1000 entries, 0 to 999\n",
      "Data columns (total 21 columns):\n",
      " #   Column                          Non-Null Count  Dtype\n",
      "---  ------                          --------------  -----\n",
      " 0   credit.rating                   1000 non-null   int64\n",
      " 1   account.balance                 1000 non-null   int64\n",
      " 2   credit.duration.months          1000 non-null   int64\n",
      " 3   previous.credit.payment.status  1000 non-null   int64\n",
      " 4   credit.purpose                  1000 non-null   int64\n",
      " 5   credit.amount                   1000 non-null   int64\n",
      " 6   savings                         1000 non-null   int64\n",
      " 7   employment.duration             1000 non-null   int64\n",
      " 8   installment.rate                1000 non-null   int64\n",
      " 9   marital.status                  1000 non-null   int64\n",
      " 10  guarantor                       1000 non-null   int64\n",
      " 11  residence.duration              1000 non-null   int64\n",
      " 12  current.assets                  1000 non-null   int64\n",
      " 13  age                             1000 non-null   int64\n",
      " 14  other.credits                   1000 non-null   int64\n",
      " 15  apartment.type                  1000 non-null   int64\n",
      " 16  bank.credits                    1000 non-null   int64\n",
      " 17  occupation                      1000 non-null   int64\n",
      " 18  dependents                      1000 non-null   int64\n",
      " 19  telephone                       1000 non-null   int64\n",
      " 20  foreign.worker                  1000 non-null   int64\n",
      "dtypes: int64(21)\n",
      "memory usage: 164.2 KB\n"
     ]
    }
   ],
   "source": [
    "credit.info()"
   ]
  },
  {
   "cell_type": "markdown",
   "metadata": {
    "id": "pfKSpF2TbLG6"
   },
   "source": [
    "# 1. 데이터 분할과 성과분석\n",
    "## 1절. 데이터 분할\n",
    "- 데이터 분할은 train, validation, test data로 분할하여 모델 평가에 사용\n",
    "- 전체데이터에서 각각 train(50%), validataion(30%), test(20%)로 분할하며, \n",
    "- 데이터의 갯수가 작으면 validation을 생략하고 training과 test를 6:4 또는 7:3으로 두고 분석을 진행.\n"
   ]
  },
  {
   "cell_type": "code",
   "execution_count": null,
   "metadata": {
    "id": "Enk6GXUWbLG7"
   },
   "outputs": [],
   "source": [
    "from sklearn.model_selection import train_test_split\n",
    "\n",
    "train_X, test_X, train_Y, test_Y = train_test_split(X,\n",
    "                                                    Y,\n",
    "                                                    random_state = 20,\n",
    "                                                    test_size=0.3 #기본 0.25\n",
    "                                                   )"
   ]
  },
  {
   "cell_type": "markdown",
   "metadata": {
    "id": "yi8aNZEGbLG7"
   },
   "source": [
    "## 2절. 성과분석\n",
    "- 성과분석은 데이터마이닝을 통해 train set으로 모델링 한 뒤, \n",
    "- test set으로 정확도, 특이도 등을 알아보기 위한 과정"
   ]
  },
  {
   "cell_type": "markdown",
   "metadata": {
    "id": "HBO1OlaKbLG8"
   },
   "source": [
    "#### 1) confusionMatrix "
   ]
  },
  {
   "cell_type": "code",
   "execution_count": null,
   "metadata": {
    "id": "dYYrimo3bLG9",
    "outputId": "ced6e2b3-134e-4dde-beef-3a5e85c3ac25"
   },
   "outputs": [
    {
     "name": "stdout",
     "output_type": "stream",
     "text": [
      "[[3 2]\n",
      " [1 6]]\n"
     ]
    }
   ],
   "source": [
    "# confusionMatrix를 활용한 성과분석\n",
    "predicted = [1,0,0,1,1,1,0,0,0,1,1,1]\n",
    "actual =    [1,0,0,1,1,0,1,1,0,1,1,1]\n",
    "\n",
    "# 분할표 그리기\n",
    "from sklearn.metrics import confusion_matrix\n",
    "cf = confusion_matrix(predicted, actual)\n",
    "print(cf)"
   ]
  },
  {
   "cell_type": "code",
   "execution_count": null,
   "metadata": {
    "id": "ejo79-JwbLG-",
    "outputId": "20c53f4b-9dc7-49f0-dbdc-21db8d400567"
   },
   "outputs": [
    {
     "data": {
      "text/plain": [
       "0.75"
      ]
     },
     "execution_count": 22,
     "metadata": {
      "tags": []
     },
     "output_type": "execute_result"
    }
   ],
   "source": [
    "# 정확도 구하기\n",
    "# 1) 사이킷런 함수 이용\n",
    "from sklearn.metrics import accuracy_score\n",
    "accuracy_score(predicted, actual)"
   ]
  },
  {
   "cell_type": "code",
   "execution_count": null,
   "metadata": {
    "id": "RrUFUveGbLG-",
    "outputId": "62b322ae-f3ee-4147-d1f5-985af920a17b"
   },
   "outputs": [
    {
     "data": {
      "text/plain": [
       "0.75"
      ]
     },
     "execution_count": 25,
     "metadata": {
      "tags": []
     },
     "output_type": "execute_result"
    }
   ],
   "source": [
    "# 2) 직접 구하기\n",
    "(cf[0,0] + cf[1,1]) / cf.sum()"
   ]
  },
  {
   "cell_type": "markdown",
   "metadata": {
    "id": "CqOARmpHbLG_"
   },
   "source": [
    "####  2) ROC CURVE\n",
    "- 이진 분류 분석 모형을 비교 분석 결과를 가시화할 수 있다는 점에서 유용한 평가 도구.\n",
    "- 가로축은 1-특이도, 세로축은 민감도\n",
    "- AUC가 넓을수록 좋은 모형"
   ]
  },
  {
   "cell_type": "code",
   "execution_count": null,
   "metadata": {
    "id": "KmzbTsoebLG_"
   },
   "outputs": [],
   "source": [
    "import numpy as np"
   ]
  },
  {
   "cell_type": "code",
   "execution_count": null,
   "metadata": {
    "id": "UesnD0xvbLG_"
   },
   "outputs": [],
   "source": [
    "from sklearn.metrics import roc_curve"
   ]
  },
  {
   "cell_type": "code",
   "execution_count": null,
   "metadata": {
    "id": "jZbXKmtabLHA"
   },
   "outputs": [],
   "source": [
    "FPR, TPR, _ = roc_curve(predicted, actual)"
   ]
  },
  {
   "cell_type": "code",
   "execution_count": null,
   "metadata": {
    "id": "OMlg1nV9bLHA",
    "outputId": "f4ff46fe-67ff-43e3-939a-817e4e96494d"
   },
   "outputs": [
    {
     "data": {
      "image/png": "[encoded data removed]",
      "text/plain": [
       "<Figure size 432x288 with 1 Axes>"
      ]
     },
     "metadata": {
      "needs_background": "light",
      "tags": []
     },
     "output_type": "display_data"
    },
    {
     "data": {
      "text/plain": [
       "<Figure size 432x288 with 0 Axes>"
      ]
     },
     "metadata": {
      "tags": []
     },
     "output_type": "display_data"
    }
   ],
   "source": [
    "from matplotlib import pyplot as plt\n",
    "%matplotlib inline\n",
    "\n",
    "plt.plot(FPR, TPR)\n",
    "plt.plot([0,1],[0,1],'--', color='black') # 대각선\n",
    "plt.title('ROC Curve')\n",
    "plt.xlabel('False Positive Rate')\n",
    "plt.ylabel('True Positive Rate')\n",
    "plt.show()\n",
    "plt.clf()"
   ]
  },
  {
   "cell_type": "code",
   "execution_count": null,
   "metadata": {
    "id": "oqk5W7f6bLHA",
    "outputId": "f9e1e85e-bc42-478b-d13d-ea968b4a64dd"
   },
   "outputs": [
    {
     "data": {
      "text/plain": [
       "0.7285714285714286"
      ]
     },
     "execution_count": 13,
     "metadata": {
      "tags": []
     },
     "output_type": "execute_result"
    }
   ],
   "source": [
    "# AUC score\n",
    "from sklearn.metrics import roc_auc_score\n",
    "roc_auc_score(predicted, actual)"
   ]
  },
  {
   "cell_type": "markdown",
   "metadata": {
    "id": "B5D1zWYCbLHA"
   },
   "source": [
    "# 2. 분류분석\n",
    "- 분류분석은 데이터가 어떤 그룹에 속하는지 예측하는데 사용하는 기법.\n",
    "- 의사결정나무, 앙상블기법, 인공신경망 등이 있음.\n",
    "- ADP 실기에서는 **\"분류기법들을 활용해 가장 정확도같은 지표가 좋은 기법과 결과를 보고서에 나타내라\"** 는 형식의 문제가 출제됨.\n"
   ]
  },
  {
   "cell_type": "code",
   "execution_count": null,
   "metadata": {
    "id": "s-Cp3HHDbLHA"
   },
   "outputs": [],
   "source": [
    "X = credit.drop(['credit.rating'],axis = 1)\n",
    "Y = credit['credit.rating']"
   ]
  },
  {
   "cell_type": "code",
   "execution_count": null,
   "metadata": {
    "id": "aDMvLK-rbLHA",
    "outputId": "52fcf338-261c-4f5e-e3f7-2d5553e7a176"
   },
   "outputs": [
    {
     "data": {
      "text/plain": [
       "((1000, 20), (1000,))"
      ]
     },
     "execution_count": 34,
     "metadata": {
      "tags": []
     },
     "output_type": "execute_result"
    }
   ],
   "source": [
    "X.shape, Y.shape"
   ]
  },
  {
   "cell_type": "code",
   "execution_count": null,
   "metadata": {
    "id": "2feflhyObLHB"
   },
   "outputs": [],
   "source": [
    "from sklearn.model_selection import train_test_split\n",
    "train_X, test_X, train_Y, test_Y = train_test_split(X,Y,random_state = 20,\n",
    "                                                   test_size=0.3 #기본 0.25\n",
    "                                                   )"
   ]
  },
  {
   "cell_type": "markdown",
   "metadata": {
    "id": "Md9hMAUkbLHB"
   },
   "source": [
    "## 1절. 로지스틱 회귀분석\n",
    "- 반응변수가 범주형일 때 사용\n",
    "- 새로운 설명변수가 주어질 때 반응변수의 각 범주에 속할 확률이 얼마인지를 추정하여 <br> **추정확률**을 기준치에 따라 분류하는 목적으로 활용"
   ]
  },
  {
   "cell_type": "code",
   "execution_count": null,
   "metadata": {
    "id": "-DF7ub2FbLHB"
   },
   "outputs": [],
   "source": [
    "from sklearn.linear_model import LogisticRegression as LR\n",
    "import statsmodels.api as sm"
   ]
  },
  {
   "cell_type": "code",
   "execution_count": null,
   "metadata": {
    "id": "x9NJTTYlbLHB",
    "outputId": "8f3e0fe0-3234-4250-8331-9b39547f1577"
   },
   "outputs": [
    {
     "data": {
      "text/plain": [
       "((700, 20), (700,))"
      ]
     },
     "execution_count": 61,
     "metadata": {
      "tags": []
     },
     "output_type": "execute_result"
    }
   ],
   "source": [
    "train_X.shape,train_Y.shape"
   ]
  },
  {
   "cell_type": "code",
   "execution_count": null,
   "metadata": {
    "id": "eif0-ZZ2bLHC"
   },
   "outputs": [],
   "source": [
    "# 상수항 추가\n",
    "train_X = sm.add_constant(train_X, has_constant='add')"
   ]
  },
  {
   "cell_type": "code",
   "execution_count": null,
   "metadata": {
    "id": "VyleFBCvbLHC",
    "outputId": "de71bd67-9fe6-4ecb-b476-638caf1e79b2"
   },
   "outputs": [
    {
     "name": "stdout",
     "output_type": "stream",
     "text": [
      "Optimization terminated successfully.\n",
      "         Current function value: 0.481397\n",
      "         Iterations 6\n"
     ]
    }
   ],
   "source": [
    "# 모델링\n",
    "model = sm.Logit(train_Y, train_X)\n",
    "results = model.fit(method='newton')"
   ]
  },
  {
   "cell_type": "code",
   "execution_count": null,
   "metadata": {
    "id": "hBmHFAzmbLHC",
    "outputId": "f0443dfd-2667-4f4a-d1c4-4c2816dc047a"
   },
   "outputs": [
    {
     "data": {
      "text/plain": [
       "713.9554141186986"
      ]
     },
     "execution_count": 63,
     "metadata": {
      "tags": []
     },
     "output_type": "execute_result"
    }
   ],
   "source": [
    "results.aic # R 교재에서는 689"
   ]
  },
  {
   "cell_type": "code",
   "execution_count": null,
   "metadata": {
    "id": "P9bTNjGXbLHC",
    "outputId": "be8353d5-b056-4605-83ae-f01f1d7c781b"
   },
   "outputs": [
    {
     "data": {
      "text/plain": [
       "890    0\n",
       "694    1\n",
       "798    0\n",
       "147    1\n",
       "858    0\n",
       "      ..\n",
       "257    1\n",
       "591    0\n",
       "377    1\n",
       "938    0\n",
       "57     1\n",
       "Length: 300, dtype: int32"
      ]
     },
     "execution_count": 67,
     "metadata": {
      "tags": []
     },
     "output_type": "execute_result"
    }
   ],
   "source": [
    "#예측을 통한 정확도 확인\n",
    "pred_y = results.predict(test_X)\n",
    "\n",
    "# 컷오프 함수\n",
    "def cut_off(y,threshold):\n",
    "    Y = y.copy() # copy함수를 사용하여 이전의 y값이 변화지 않게 함\n",
    "    Y[Y>threshold]=1\n",
    "    Y[Y<=threshold]=0\n",
    "    return(Y.astype(int))\n",
    "\n",
    "pred_Y = cut_off(pred_y,0.5)\n",
    "pred_Y"
   ]
  },
  {
   "cell_type": "code",
   "execution_count": null,
   "metadata": {
    "id": "cZlNCYz9bLHC",
    "outputId": "2d829c63-53a7-43c7-a05e-1fc759d291e0"
   },
   "outputs": [
    {
     "name": "stdout",
     "output_type": "stream",
     "text": [
      "[[ 43  34]\n",
      " [ 38 185]]\n"
     ]
    }
   ],
   "source": [
    "cfmat = confusion_matrix(test_Y,pred_Y)\n",
    "print(cfmat)"
   ]
  },
  {
   "cell_type": "code",
   "execution_count": null,
   "metadata": {
    "id": "-gRMvmvZbLHD"
   },
   "outputs": [],
   "source": [
    "def acc(cfmat) :\n",
    "    acc=(cfmat[0,0]+cfmat[1,1])/ cfmat.sum() ## accuracy\n",
    "    return(acc)"
   ]
  },
  {
   "cell_type": "code",
   "execution_count": null,
   "metadata": {
    "id": "-DWUSLg9bLHD",
    "outputId": "38a58e51-1b01-4d94-8082-657e7e11cb34"
   },
   "outputs": [
    {
     "data": {
      "text/plain": [
       "0.76"
      ]
     },
     "execution_count": 77,
     "metadata": {
      "tags": []
     },
     "output_type": "execute_result"
    }
   ],
   "source": [
    "acc(cfmat)"
   ]
  },
  {
   "cell_type": "markdown",
   "metadata": {
    "id": "fuMUbrgIbLHD"
   },
   "source": [
    "## 2절. 의사결정나무\n",
    "-  tree함수는 불순도의 측도로 엔트로피 지수를 사용."
   ]
  },
  {
   "cell_type": "code",
   "execution_count": null,
   "metadata": {
    "id": "6ypfqghnbLHD"
   },
   "outputs": [],
   "source": [
    "from sklearn.datasets import load_iris\n",
    "from sklearn import tree"
   ]
  },
  {
   "cell_type": "code",
   "execution_count": null,
   "metadata": {
    "id": "7PSh-OrSbLHD"
   },
   "outputs": [],
   "source": [
    "iris=load_iris()"
   ]
  },
  {
   "cell_type": "code",
   "execution_count": null,
   "metadata": {
    "id": "v-cK30AYbLHD"
   },
   "outputs": [],
   "source": [
    "from sklearn import tree"
   ]
  },
  {
   "cell_type": "markdown",
   "metadata": {
    "id": "P-hvTHGcbLHD"
   },
   "source": [
    "- train, test 분리\n",
    "- cf.matrix 계산"
   ]
  },
  {
   "cell_type": "code",
   "execution_count": null,
   "metadata": {
    "id": "NhLtzKozbLHD"
   },
   "outputs": [],
   "source": [
    "X_train, X_test, y_train, y_test = train_test_split(iris.data,iris.target, stratify=iris.target,random_state=1)"
   ]
  },
  {
   "cell_type": "code",
   "execution_count": null,
   "metadata": {
    "id": "Gx98pPP6bLHD"
   },
   "outputs": [],
   "source": [
    "clf4 = tree.DecisionTreeClassifier(criterion=\"entropy\")"
   ]
  },
  {
   "cell_type": "code",
   "execution_count": null,
   "metadata": {
    "id": "VBwhmkKubLHE",
    "outputId": "b3d76052-fb8b-49d3-893d-9c9506dc0edf"
   },
   "outputs": [
    {
     "data": {
      "text/plain": [
       "DecisionTreeClassifier(criterion='entropy')"
      ]
     },
     "execution_count": 83,
     "metadata": {
      "tags": []
     },
     "output_type": "execute_result"
    }
   ],
   "source": [
    "clf4.fit(X_train,y_train)"
   ]
  },
  {
   "cell_type": "code",
   "execution_count": null,
   "metadata": {
    "id": "8eXnPTbFbLHE",
    "outputId": "b87332c5-60c2-4b89-8ba6-8fd568e0f4e3"
   },
   "outputs": [
    {
     "data": {
      "text/plain": [
       "array([[12,  0,  0],\n",
       "       [ 0, 13,  0],\n",
       "       [ 0,  1, 12]], dtype=int64)"
      ]
     },
     "execution_count": 84,
     "metadata": {
      "tags": []
     },
     "output_type": "execute_result"
    }
   ],
   "source": [
    "confusion_matrix(y_test,clf4.predict(X_test))"
   ]
  },
  {
   "cell_type": "markdown",
   "metadata": {
    "id": "bTF3RNfubLHE"
   },
   "source": [
    "#### Decision Tree Regressor"
   ]
  },
  {
   "cell_type": "code",
   "execution_count": null,
   "metadata": {
    "id": "zGhkNbPabLHE"
   },
   "outputs": [],
   "source": [
    "from sklearn.tree import DecisionTreeRegressor"
   ]
  },
  {
   "cell_type": "code",
   "execution_count": null,
   "metadata": {
    "id": "sk9elNj8bLHE"
   },
   "outputs": [],
   "source": [
    "regr1 = tree.DecisionTreeRegressor(max_depth=5)"
   ]
  },
  {
   "cell_type": "code",
   "execution_count": null,
   "metadata": {
    "id": "g1OupkyJbLHE",
    "outputId": "828081a9-1a66-476c-9703-d75e9b5e008a"
   },
   "outputs": [
    {
     "data": {
      "text/plain": [
       "DecisionTreeRegressor(max_depth=5)"
      ]
     },
     "execution_count": 87,
     "metadata": {
      "tags": []
     },
     "output_type": "execute_result"
    }
   ],
   "source": [
    "# 모델 피팅\n",
    "regr1.fit(X_train,y_train)"
   ]
  },
  {
   "cell_type": "code",
   "execution_count": null,
   "metadata": {
    "id": "UWwMw1GPbLHE"
   },
   "outputs": [],
   "source": [
    "# 예측값\n",
    "y1 = regr1.predict(X_test)"
   ]
  },
  {
   "cell_type": "code",
   "execution_count": null,
   "metadata": {
    "id": "jGtyNjo-bLHE",
    "outputId": "bf7b3b8e-75af-4ebf-ef41-843bc7ebe67d"
   },
   "outputs": [
    {
     "data": {
      "text/plain": [
       "array([[12,  0,  0],\n",
       "       [ 0, 13,  0],\n",
       "       [ 0,  1, 12]], dtype=int64)"
      ]
     },
     "execution_count": 90,
     "metadata": {
      "tags": []
     },
     "output_type": "execute_result"
    }
   ],
   "source": [
    "confusion_matrix(y_test,y1)"
   ]
  },
  {
   "cell_type": "markdown",
   "metadata": {
    "id": "59kr9AGxbLHE"
   },
   "source": [
    "## 3절. 앙상블 기법 \n",
    "- 여러 개의 예측모형들을 만든 후 예측모형들을 조합하여 하나의 최종 예측 모형을 만드는 방법. <br> 학습방법이 가장 불안전한 의사결정나무에 주로 사용\n",
    "\n",
    "### 1) 배깅 \n",
    "- 여러개의 붓스트랩자료를 생성해 각 붓스트랩 자료에 예측모형을 만든 후 결합하여 최종 예측모형을 만드는 방법. \n",
    "- 붓스트랩; 주어진 자료에서 동일한 크기의 표본을 랜덤 복원추출로 뽑은 자료\n",
    "- 보팅(voting); 여러 개의 모형으로부터 산출된 결과를 다수결애 의해 최종결과를 선정하는 과정\n",
    "- 배깅에서는 가지치기를 하지 않고 최대로 성장한 의사결정나무 활용"
   ]
  },
  {
   "cell_type": "code",
   "execution_count": null,
   "metadata": {
    "id": "HK6Wz5ztbLHE"
   },
   "outputs": [],
   "source": [
    "from math import sqrt\n",
    "from sklearn.metrics import mean_squared_error, r2_score"
   ]
  },
  {
   "cell_type": "code",
   "execution_count": null,
   "metadata": {
    "id": "iDucrnBmbLHF"
   },
   "outputs": [],
   "source": [
    "#함수를 활용하여 분석 결과를 확인하기 보다 train한 데이터로 test 데이터를 예측하여 confusionMatrix를 주로 확인함\n",
    "#아까 로지스틱으로 했을땐 accuracy 76%\n",
    "X = credit.drop(['credit.rating'],axis = 1)\n",
    "Y = credit['credit.rating']\n",
    "\n",
    "from sklearn.model_selection import train_test_split\n",
    "train_x, test_x, train_y, test_y = train_test_split(X,Y,random_state = 20, test_size=0.3)"
   ]
  },
  {
   "cell_type": "code",
   "execution_count": null,
   "metadata": {
    "id": "-PVXPErAbLHF",
    "outputId": "c8983373-3c98-4b46-f21e-589570b3fc12"
   },
   "outputs": [
    {
     "name": "stderr",
     "output_type": "stream",
     "text": [
      "[Parallel(n_jobs=1)]: Using backend SequentialBackend with 1 concurrent workers.\n",
      "C:\\Users\\KEJ\\Anaconda3\\lib\\site-packages\\sklearn\\linear_model\\_logistic.py:765: ConvergenceWarning: lbfgs failed to converge (status=1):\n",
      "STOP: TOTAL NO. of ITERATIONS REACHED LIMIT.\n",
      "\n",
      "Increase the number of iterations (max_iter) or scale the data as shown in:\n",
      "    https://scikit-learn.org/stable/modules/preprocessing.html\n",
      "Please also refer to the documentation for alternative solver options:\n",
      "    https://scikit-learn.org/stable/modules/linear_model.html#logistic-regression\n",
      "  extra_warning_msg=_LOGISTIC_SOLVER_CONVERGENCE_MSG)\n",
      "C:\\Users\\KEJ\\Anaconda3\\lib\\site-packages\\sklearn\\linear_model\\_logistic.py:765: ConvergenceWarning: lbfgs failed to converge (status=1):\n",
      "STOP: TOTAL NO. of ITERATIONS REACHED LIMIT.\n",
      "\n",
      "Increase the number of iterations (max_iter) or scale the data as shown in:\n",
      "    https://scikit-learn.org/stable/modules/preprocessing.html\n",
      "Please also refer to the documentation for alternative solver options:\n",
      "    https://scikit-learn.org/stable/modules/linear_model.html#logistic-regression\n",
      "  extra_warning_msg=_LOGISTIC_SOLVER_CONVERGENCE_MSG)\n",
      "C:\\Users\\KEJ\\Anaconda3\\lib\\site-packages\\sklearn\\linear_model\\_logistic.py:765: ConvergenceWarning: lbfgs failed to converge (status=1):\n",
      "STOP: TOTAL NO. of ITERATIONS REACHED LIMIT.\n",
      "\n",
      "Increase the number of iterations (max_iter) or scale the data as shown in:\n",
      "    https://scikit-learn.org/stable/modules/preprocessing.html\n",
      "Please also refer to the documentation for alternative solver options:\n",
      "    https://scikit-learn.org/stable/modules/linear_model.html#logistic-regression\n",
      "  extra_warning_msg=_LOGISTIC_SOLVER_CONVERGENCE_MSG)\n"
     ]
    },
    {
     "name": "stdout",
     "output_type": "stream",
     "text": [
      "RMSE: 0.44646761734008583\n"
     ]
    },
    {
     "name": "stderr",
     "output_type": "stream",
     "text": [
      "C:\\Users\\KEJ\\Anaconda3\\lib\\site-packages\\sklearn\\linear_model\\_logistic.py:765: ConvergenceWarning: lbfgs failed to converge (status=1):\n",
      "STOP: TOTAL NO. of ITERATIONS REACHED LIMIT.\n",
      "\n",
      "Increase the number of iterations (max_iter) or scale the data as shown in:\n",
      "    https://scikit-learn.org/stable/modules/preprocessing.html\n",
      "Please also refer to the documentation for alternative solver options:\n",
      "    https://scikit-learn.org/stable/modules/linear_model.html#logistic-regression\n",
      "  extra_warning_msg=_LOGISTIC_SOLVER_CONVERGENCE_MSG)\n",
      "[Parallel(n_jobs=1)]: Done   1 out of   1 | elapsed:    0.2s finished\n",
      "[Parallel(n_jobs=1)]: Using backend SequentialBackend with 1 concurrent workers.\n",
      "[Parallel(n_jobs=1)]: Done   1 out of   1 | elapsed:    0.0s finished\n"
     ]
    }
   ],
   "source": [
    "from sklearn.ensemble import BaggingRegressor\n",
    "bagging_model = BaggingRegressor(base_estimator = LR(), # 선형회귀모형\n",
    "                                 n_estimators = 5, # 5번 샘플링\n",
    "                                 verbose = 1) # 학습 과정 표시\n",
    "linear_model2 = bagging_model.fit(train_x, train_y) # 학습 진행\n",
    "predict2 = linear_model2.predict(test_x) # 학습된 Bagging 선형 회귀 모형으로 평가 데이터 예측\n",
    "#print(\"RMSE: {}\".format(sqrt(mean_squared_error(predict2, test_y)))) # RMSE 결과"
   ]
  },
  {
   "cell_type": "code",
   "execution_count": null,
   "metadata": {
    "id": "wK5VoxHHbLHF",
    "outputId": "86128683-eec3-4109-f6a5-2a4265cde712"
   },
   "outputs": [
    {
     "data": {
      "text/plain": [
       "array([0, 1, 0, 1, 0, 1, 0, 1, 1, 0, 1, 1, 1, 0, 1, 1, 0, 1, 1, 1, 1, 0,\n",
       "       1, 0, 0, 1, 1, 1, 1, 1, 1, 1, 1, 1, 1, 1, 1, 1, 1, 0, 1, 0, 1, 0,\n",
       "       0, 1, 1, 1, 1, 1, 0, 1, 1, 1, 1, 1, 1, 1, 1, 1, 0, 1, 1, 1, 1, 1,\n",
       "       1, 1, 0, 1, 1, 1, 1, 1, 0, 1, 0, 1, 1, 1, 0, 1, 1, 1, 0, 1, 1, 0,\n",
       "       1, 1, 0, 1, 1, 1, 1, 0, 1, 1, 1, 1, 1, 1, 1, 1, 0, 1, 1, 1, 1, 1,\n",
       "       0, 1, 0, 1, 1, 1, 1, 1, 1, 1, 1, 1, 1, 1, 0, 1, 1, 0, 0, 1, 1, 1,\n",
       "       0, 1, 1, 1, 1, 0, 1, 1, 0, 1, 1, 1, 1, 0, 1, 1, 1, 1, 1, 1, 1, 1,\n",
       "       1, 1, 1, 1, 0, 1, 1, 1, 0, 1, 1, 0, 1, 0, 1, 1, 1, 0, 0, 1, 0, 1,\n",
       "       1, 1, 1, 1, 0, 1, 0, 1, 0, 0, 1, 1, 1, 0, 1, 1, 0, 1, 1, 1, 1, 1,\n",
       "       1, 1, 1, 1, 1, 1, 1, 0, 1, 1, 0, 0, 1, 1, 1, 1, 0, 1, 1, 0, 1, 1,\n",
       "       1, 1, 1, 0, 0, 1, 1, 1, 1, 1, 1, 1, 1, 0, 0, 1, 0, 1, 0, 1, 1, 0,\n",
       "       1, 1, 1, 1, 1, 1, 1, 0, 0, 1, 1, 0, 1, 1, 0, 0, 1, 1, 1, 0, 1, 1,\n",
       "       1, 1, 1, 1, 1, 1, 1, 1, 1, 1, 1, 1, 1, 1, 1, 1, 1, 1, 1, 1, 1, 0,\n",
       "       1, 1, 1, 1, 1, 0, 1, 1, 1, 1, 1, 1, 0, 1])"
      ]
     },
     "execution_count": 112,
     "metadata": {
      "tags": []
     },
     "output_type": "execute_result"
    }
   ],
   "source": [
    "pred_Y = cut_off(predict2,0.5)\n",
    "pred_Y"
   ]
  },
  {
   "cell_type": "code",
   "execution_count": null,
   "metadata": {
    "id": "9pLOc_BvbLHF",
    "outputId": "9e8ab9cd-5862-477c-e7ce-22e3281d9833"
   },
   "outputs": [
    {
     "data": {
      "text/plain": [
       "0.7833333333333333"
      ]
     },
     "execution_count": 115,
     "metadata": {
      "tags": []
     },
     "output_type": "execute_result"
    }
   ],
   "source": [
    "# accuracy 78%\n",
    "cfmat = confusion_matrix(pred_Y,test_y)\n",
    "acc(cfmat)"
   ]
  },
  {
   "cell_type": "code",
   "execution_count": null,
   "metadata": {
    "id": "yF18XQ55bLHF",
    "outputId": "413981f8-5f1d-46c6-a1ae-5fa7aa30bc1d"
   },
   "outputs": [
    {
     "data": {
      "text/plain": [
       "0.7143762677484787"
      ]
     },
     "execution_count": 114,
     "metadata": {
      "tags": []
     },
     "output_type": "execute_result"
    }
   ],
   "source": [
    "# auc  \n",
    "roc_auc_score(pred_Y, test_y)"
   ]
  },
  {
   "cell_type": "markdown",
   "metadata": {
    "id": "5Y7z7l7wbLHF"
   },
   "source": [
    "### 2) 부스팅 \n",
    "- 예측력이 약한 모형들의 결합하여 강한 예측모형을 만드는 방법  \n"
   ]
  },
  {
   "cell_type": "markdown",
   "metadata": {
    "id": "BPfMKAEUbLHF"
   },
   "source": [
    "### 3) 랜덤포레스트 \n",
    "- 의사결정나무의 특징인 분산이 크다는 점을 고려하여 배깅과 부스팅보다 더 많은 무작위성을 줘서 약한 학습기들을 생성한 후\n",
    "- 이를 선형결합하여 최종학습기를 만드는 방법\n"
   ]
  },
  {
   "cell_type": "markdown",
   "metadata": {
    "id": "5Vp1r4nSbLHF"
   },
   "source": [
    "## 4절. SVM"
   ]
  },
  {
   "cell_type": "markdown",
   "metadata": {
    "id": "QbQSIkcebLHG"
   },
   "source": [
    "## 5절. 나이브 베이즈 분류"
   ]
  },
  {
   "cell_type": "markdown",
   "metadata": {
    "id": "GqMUsN7pbLHG"
   },
   "source": [
    "## 6절. KNN"
   ]
  },
  {
   "cell_type": "markdown",
   "metadata": {
    "id": "wbOmZLoebLHG"
   },
   "source": [
    "## 7절. 인공신경망"
   ]
  },
  {
   "cell_type": "markdown",
   "metadata": {
    "id": "ZDdgOiXMbLHG"
   },
   "source": [
    "# 3장 군집분석\n",
    "## 1절. 군집분석"
   ]
  },
  {
   "cell_type": "markdown",
   "metadata": {
    "id": "sV-MvAL-bLHG"
   },
   "source": [
    "## 2절. 계층적 군집분석"
   ]
  },
  {
   "cell_type": "markdown",
   "metadata": {
    "id": "XNdwWmdYbLHG"
   },
   "source": [
    "## 3절. 비계층적 군집분석"
   ]
  },
  {
   "cell_type": "markdown",
   "metadata": {
    "id": "Huzs1K37bLHG"
   },
   "source": [
    "## 4절. 혼합 분포 군집"
   ]
  },
  {
   "cell_type": "markdown",
   "metadata": {
    "id": "n6OyktdlbLHG"
   },
   "source": [
    "# 4장 연관분석\n",
    "## 1절. 연관규칙"
   ]
  }
 ],
 "metadata": {
  "colab": {
   "name": "PART 05) 정형 데이터마이닝.ipynb",
   "provenance": []
  },
  "kernelspec": {
   "display_name": "Python 3",
   "language": "python",
   "name": "python3"
  },
  "language_info": {
   "codemirror_mode": {
    "name": "ipython",
    "version": 3
   },
   "file_extension": ".py",
   "mimetype": "text/x-python",
   "name": "python",
   "nbconvert_exporter": "python",
   "pygments_lexer": "ipython3",
   "version": "3.8.8"
  }
 },
 "nbformat": 4,
 "nbformat_minor": 4
}
