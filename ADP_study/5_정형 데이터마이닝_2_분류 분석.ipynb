{
 "cells": [
  {
   "cell_type": "markdown",
   "id": "f9f187e0-9d77-498b-bf28-5c5755a53b83",
   "metadata": {},
   "source": [
    "# [ PART 05. 정형 데이터마이닝 ] - 2장. 분류 분석\n",
    "- 분류분석은 데이터가 어떤 그룹에 속하는지 예측하는데 사용하는 기법.\n",
    "- 의사결정나무, 앙상블기법, 인공신경망 등이 있음.\n",
    "- ADP 실기에서는 \"분류기법들을 활용해 가장 정확도같은 지표가 좋은 기법과 결과를 보고서에 나타내라\"는 형식의 문제가 출제됨."
   ]
  },
  {
   "cell_type": "raw",
   "id": "8a1beebc-d600-4290-9e54-2819d83f759b",
   "metadata": {},
   "source": [
    "\n"
   ]
  },
  {
   "cell_type": "markdown",
   "id": "3368b03a-2f2f-4bd2-a5ca-06b621a74231",
   "metadata": {},
   "source": [
    "## - 불러올 패키지 목록"
   ]
  },
  {
   "cell_type": "code",
   "execution_count": 15,
   "id": "bc355631-ef44-41ac-8d7c-c517d18f6042",
   "metadata": {},
   "outputs": [],
   "source": [
    "# 데이터 핸들링을 위한 패키지\n",
    "import numpy as np\n",
    "import pandas as pd\n",
    "\n",
    "import statsmodels.api as sm\n",
    "from statsmodels.formula.api import ols\n",
    "\n",
    "import statsmodels.regression.linear_model\n",
    "\n",
    "\n",
    "from sklearn.model_selection import train_test_split    # training/test data set을 추출하는 패키지\n",
    "from sklearn.linear_model import *    # 로지스틱 회귀 분석을 위한 패키지\n",
    "from sklearn.metrics import *\n",
    "from sklearn.datasets import load_breast_cancer\n",
    "from sklearn.preprocessing import StandardScaler\n",
    "\n"
   ]
  },
  {
   "cell_type": "raw",
   "id": "167e7282-7aae-4e15-86d3-1dd2cc30895b",
   "metadata": {},
   "source": [
    "\n"
   ]
  },
  {
   "cell_type": "markdown",
   "id": "872b37a4-f430-4285-bb7a-83e94df2d7ba",
   "metadata": {},
   "source": [
    "## 1. 로지스틱 회귀분석\n",
    "- 반응변수가 범주형인 경우 적용되는 회귀분석\n",
    "- 새로운 설명변수가 주어질 때 반응변수의 각 범주에 속할 확률이 얼마인지를 추정하여 추정확률을 기준치에 따라 분류하는 목적으로 활용"
   ]
  },
  {
   "cell_type": "raw",
   "id": "773bed53-9a61-4f13-8e1a-a6a7b549a602",
   "metadata": {},
   "source": [
    "[Problem]\n",
    "- credit 데이터를 분할하고, train 데이터로 로지스틱 회귀모델을 생성하라."
   ]
  },
  {
   "cell_type": "code",
   "execution_count": 2,
   "id": "c16e421e-7220-4ef6-b4e7-2b7da6c17e6c",
   "metadata": {},
   "outputs": [
    {
     "data": {
      "text/html": [
       "<div>\n",
       "<style scoped>\n",
       "    .dataframe tbody tr th:only-of-type {\n",
       "        vertical-align: middle;\n",
       "    }\n",
       "\n",
       "    .dataframe tbody tr th {\n",
       "        vertical-align: top;\n",
       "    }\n",
       "\n",
       "    .dataframe thead th {\n",
       "        text-align: right;\n",
       "    }\n",
       "</style>\n",
       "<table border=\"1\" class=\"dataframe\">\n",
       "  <thead>\n",
       "    <tr style=\"text-align: right;\">\n",
       "      <th></th>\n",
       "      <th>const</th>\n",
       "      <th>credit.rating</th>\n",
       "      <th>account.balance</th>\n",
       "      <th>credit.duration.months</th>\n",
       "      <th>previous.credit.payment.status</th>\n",
       "      <th>credit.purpose</th>\n",
       "      <th>credit.amount</th>\n",
       "      <th>savings</th>\n",
       "      <th>employment.duration</th>\n",
       "      <th>installment.rate</th>\n",
       "      <th>...</th>\n",
       "      <th>residence.duration</th>\n",
       "      <th>current.assets</th>\n",
       "      <th>age</th>\n",
       "      <th>other.credits</th>\n",
       "      <th>apartment.type</th>\n",
       "      <th>bank.credits</th>\n",
       "      <th>occupation</th>\n",
       "      <th>dependents</th>\n",
       "      <th>telephone</th>\n",
       "      <th>foreign.worker</th>\n",
       "    </tr>\n",
       "  </thead>\n",
       "  <tbody>\n",
       "    <tr>\n",
       "      <th>0</th>\n",
       "      <td>1.0</td>\n",
       "      <td>1</td>\n",
       "      <td>1</td>\n",
       "      <td>18</td>\n",
       "      <td>3</td>\n",
       "      <td>2</td>\n",
       "      <td>1049</td>\n",
       "      <td>1</td>\n",
       "      <td>1</td>\n",
       "      <td>4</td>\n",
       "      <td>...</td>\n",
       "      <td>4</td>\n",
       "      <td>2</td>\n",
       "      <td>21</td>\n",
       "      <td>2</td>\n",
       "      <td>1</td>\n",
       "      <td>1</td>\n",
       "      <td>3</td>\n",
       "      <td>1</td>\n",
       "      <td>1</td>\n",
       "      <td>1</td>\n",
       "    </tr>\n",
       "    <tr>\n",
       "      <th>1</th>\n",
       "      <td>1.0</td>\n",
       "      <td>1</td>\n",
       "      <td>1</td>\n",
       "      <td>9</td>\n",
       "      <td>3</td>\n",
       "      <td>4</td>\n",
       "      <td>2799</td>\n",
       "      <td>1</td>\n",
       "      <td>2</td>\n",
       "      <td>2</td>\n",
       "      <td>...</td>\n",
       "      <td>2</td>\n",
       "      <td>1</td>\n",
       "      <td>36</td>\n",
       "      <td>2</td>\n",
       "      <td>1</td>\n",
       "      <td>2</td>\n",
       "      <td>3</td>\n",
       "      <td>2</td>\n",
       "      <td>1</td>\n",
       "      <td>1</td>\n",
       "    </tr>\n",
       "    <tr>\n",
       "      <th>2</th>\n",
       "      <td>1.0</td>\n",
       "      <td>1</td>\n",
       "      <td>2</td>\n",
       "      <td>12</td>\n",
       "      <td>2</td>\n",
       "      <td>4</td>\n",
       "      <td>841</td>\n",
       "      <td>2</td>\n",
       "      <td>3</td>\n",
       "      <td>2</td>\n",
       "      <td>...</td>\n",
       "      <td>4</td>\n",
       "      <td>1</td>\n",
       "      <td>23</td>\n",
       "      <td>2</td>\n",
       "      <td>1</td>\n",
       "      <td>1</td>\n",
       "      <td>2</td>\n",
       "      <td>1</td>\n",
       "      <td>1</td>\n",
       "      <td>1</td>\n",
       "    </tr>\n",
       "    <tr>\n",
       "      <th>3</th>\n",
       "      <td>1.0</td>\n",
       "      <td>1</td>\n",
       "      <td>1</td>\n",
       "      <td>12</td>\n",
       "      <td>3</td>\n",
       "      <td>4</td>\n",
       "      <td>2122</td>\n",
       "      <td>1</td>\n",
       "      <td>2</td>\n",
       "      <td>3</td>\n",
       "      <td>...</td>\n",
       "      <td>2</td>\n",
       "      <td>1</td>\n",
       "      <td>39</td>\n",
       "      <td>2</td>\n",
       "      <td>1</td>\n",
       "      <td>2</td>\n",
       "      <td>2</td>\n",
       "      <td>2</td>\n",
       "      <td>1</td>\n",
       "      <td>2</td>\n",
       "    </tr>\n",
       "    <tr>\n",
       "      <th>4</th>\n",
       "      <td>1.0</td>\n",
       "      <td>1</td>\n",
       "      <td>1</td>\n",
       "      <td>12</td>\n",
       "      <td>3</td>\n",
       "      <td>4</td>\n",
       "      <td>2171</td>\n",
       "      <td>1</td>\n",
       "      <td>2</td>\n",
       "      <td>4</td>\n",
       "      <td>...</td>\n",
       "      <td>4</td>\n",
       "      <td>2</td>\n",
       "      <td>38</td>\n",
       "      <td>1</td>\n",
       "      <td>2</td>\n",
       "      <td>2</td>\n",
       "      <td>2</td>\n",
       "      <td>1</td>\n",
       "      <td>1</td>\n",
       "      <td>2</td>\n",
       "    </tr>\n",
       "  </tbody>\n",
       "</table>\n",
       "<p>5 rows × 22 columns</p>\n",
       "</div>"
      ],
      "text/plain": [
       "   const  credit.rating  account.balance  credit.duration.months  \\\n",
       "0    1.0              1                1                      18   \n",
       "1    1.0              1                1                       9   \n",
       "2    1.0              1                2                      12   \n",
       "3    1.0              1                1                      12   \n",
       "4    1.0              1                1                      12   \n",
       "\n",
       "   previous.credit.payment.status  credit.purpose  credit.amount  savings  \\\n",
       "0                               3               2           1049        1   \n",
       "1                               3               4           2799        1   \n",
       "2                               2               4            841        2   \n",
       "3                               3               4           2122        1   \n",
       "4                               3               4           2171        1   \n",
       "\n",
       "   employment.duration  installment.rate  ...  residence.duration  \\\n",
       "0                    1                 4  ...                   4   \n",
       "1                    2                 2  ...                   2   \n",
       "2                    3                 2  ...                   4   \n",
       "3                    2                 3  ...                   2   \n",
       "4                    2                 4  ...                   4   \n",
       "\n",
       "   current.assets  age  other.credits  apartment.type  bank.credits  \\\n",
       "0               2   21              2               1             1   \n",
       "1               1   36              2               1             2   \n",
       "2               1   23              2               1             1   \n",
       "3               1   39              2               1             2   \n",
       "4               2   38              1               2             2   \n",
       "\n",
       "   occupation  dependents  telephone  foreign.worker  \n",
       "0           3           1          1               1  \n",
       "1           3           2          1               1  \n",
       "2           2           1          1               1  \n",
       "3           2           2          1               2  \n",
       "4           2           1          1               2  \n",
       "\n",
       "[5 rows x 22 columns]"
      ]
     },
     "execution_count": 2,
     "metadata": {},
     "output_type": "execute_result"
    }
   ],
   "source": [
    "# 데이터 로드 및 데이터프레임 생성\n",
    "df_credit = pd.read_csv( 'C:/Users/Administrator/GitHub/TIL/ADP_study/rawdata/credit_final.csv')\n",
    "\n",
    "\n",
    "# 회귀모델의 상수항에 해당하는 컬럼 추가\n",
    "df_credit = sm.add_constant( df_credit,\n",
    "                             has_constant = \"add\" )\n",
    "\n",
    "df_credit.head()"
   ]
  },
  {
   "cell_type": "code",
   "execution_count": 4,
   "id": "c5c2f4fc-bfa4-41bd-bf48-03b83a9231d6",
   "metadata": {},
   "outputs": [
    {
     "name": "stdout",
     "output_type": "stream",
     "text": [
      "train_x (700, 21) \n",
      " test_x (300, 21)\n",
      "train_y (700,) \n",
      " test_y (300,)\n"
     ]
    }
   ],
   "source": [
    "# 독립변수, 종속변수 지정\n",
    "x = df_credit.drop('credit.rating', axis = 1)\n",
    "y = df_credit['credit.rating']\n",
    "\n",
    "\n",
    "# 데이터 분할 : train 70%, test 30%\n",
    "train_x, test_x, train_y, test_y = train_test_split( x, y,\n",
    "                                                     train_size = 0.7, test_size = 0.3,\n",
    "                                                     random_state = 153 )\n",
    "\n",
    "print( 'train_x', train_x.shape,'\\n', 'test_x', test_x.shape)\n",
    "print( 'train_y', train_y.shape,'\\n', 'test_y', test_y.shape)"
   ]
  },
  {
   "cell_type": "raw",
   "id": "ed5441bd-21f6-4b52-a7c8-ea53f6acb06e",
   "metadata": {},
   "source": []
  },
  {
   "cell_type": "markdown",
   "id": "52952838-9c46-4a2c-b9bb-ae6844d864a5",
   "metadata": {},
   "source": [
    "### sklearn 패키지 사용"
   ]
  },
  {
   "cell_type": "code",
   "execution_count": 19,
   "id": "e12ea0c4-7e4a-4019-b498-48ad08722021",
   "metadata": {},
   "outputs": [
    {
     "data": {
      "text/plain": [
       "LogisticRegressionCV(max_iter=1000)"
      ]
     },
     "execution_count": 19,
     "metadata": {},
     "output_type": "execute_result"
    }
   ],
   "source": [
    "# 로지스틱 회귀를 이용하여 학습 및 예측 수행. \n",
    "lr_clf = LogisticRegressionCV(max_iter = 1000)\n",
    "lr_clf.fit( train_x, train_y )"
   ]
  },
  {
   "cell_type": "code",
   "execution_count": 20,
   "id": "f8267f0c-3dbf-41f4-a288-9e779778d0c6",
   "metadata": {},
   "outputs": [
    {
     "name": "stdout",
     "output_type": "stream",
     "text": [
      "accuracy: 0.723\n",
      "roc_auc: 0.628\n"
     ]
    }
   ],
   "source": [
    "lr_preds = lr_clf.predict(test_x)\n",
    "\n",
    "# accuracy와 roc_auc 측정\n",
    "print('accuracy: {:0.3f}'.format(accuracy_score(test_y, lr_preds)))\n",
    "print('roc_auc: {:0.3f}'.format(roc_auc_score(test_y , lr_preds)))"
   ]
  },
  {
   "cell_type": "code",
   "execution_count": null,
   "id": "47ec6ac1-85e6-49b4-a69a-acd34d48ceae",
   "metadata": {},
   "outputs": [],
   "source": []
  },
  {
   "cell_type": "markdown",
   "id": "e3cf0049-ec12-4ddf-8ac7-8abc3957cc6d",
   "metadata": {},
   "source": [
    "### statsmodels 패키지 사용"
   ]
  },
  {
   "cell_type": "code",
   "execution_count": null,
   "id": "66285784-1e22-4060-8a03-66027d343a7f",
   "metadata": {},
   "outputs": [],
   "source": [
    "# 로지스틱 회귀분석 실행\n",
    "\n",
    "model = sm.Logit(train_y, train_x)\n",
    "result = model.fit()"
   ]
  },
  {
   "cell_type": "code",
   "execution_count": null,
   "id": "6f1e0918-fe1f-48e0-a938-441997d5cc01",
   "metadata": {},
   "outputs": [],
   "source": [
    "print( result.summary() )"
   ]
  },
  {
   "cell_type": "code",
   "execution_count": null,
   "id": "0c339612-9748-46e4-93b5-4e3bfe1300ec",
   "metadata": {},
   "outputs": [],
   "source": [
    "df_credit.info()"
   ]
  },
  {
   "cell_type": "code",
   "execution_count": null,
   "id": "8f346574-d5f5-40ff-bd3b-328cef2a5701",
   "metadata": {},
   "outputs": [],
   "source": [
    "# 독립변수, 종속변수 지정\n",
    "x2 = df_credit[ ['account.balance', 'credit.duration.months', 'previous.credit.payment.status',\n",
    "                 'savings', 'credit.purpose', 'current.assets', 'apartment.type', 'foreign.worker',\n",
    "                 'guarantor', 'age', 'other.credits', 'marital.status', 'installment.rate'] ]\n",
    "y = df_credit['credit.rating']\n",
    "\n",
    "\n",
    "# 데이터 분할 : train 70%, test 30%\n",
    "train_x, test_x, train_y, test_y = train_test_split( x2, y,\n",
    "                                                     train_size = 0.7, test_size = 0.3,\n",
    "                                                     stratify = y,\n",
    "                                                     random_state = 153 )\n",
    "\n",
    "print( 'train_x', train_x.shape,'\\n', 'test_x', test_x.shape)\n",
    "print( 'train_y', train_y.shape,'\\n', 'test_y', test_y.shape)"
   ]
  },
  {
   "cell_type": "code",
   "execution_count": null,
   "id": "55a99e72-e497-449d-a3d4-cc757c645891",
   "metadata": {},
   "outputs": [],
   "source": [
    "# 로지스틱 회귀분석 실행\n",
    "\n",
    "model = sm.Logit(train_y, train_x)\n",
    "result = model.fit()"
   ]
  },
  {
   "cell_type": "code",
   "execution_count": null,
   "id": "a27fd94a-58a1-4f90-bc84-2608b1fd370b",
   "metadata": {},
   "outputs": [],
   "source": [
    "print( result.summary() )"
   ]
  },
  {
   "cell_type": "code",
   "execution_count": null,
   "id": "dd65d994-c8d2-428b-adf6-999613876430",
   "metadata": {},
   "outputs": [],
   "source": []
  },
  {
   "cell_type": "code",
   "execution_count": null,
   "id": "4ab7311d-4baf-4773-b127-98815d02eb79",
   "metadata": {},
   "outputs": [],
   "source": []
  }
 ],
 "metadata": {
  "kernelspec": {
   "display_name": "Python 3",
   "language": "python",
   "name": "python3"
  },
  "language_info": {
   "codemirror_mode": {
    "name": "ipython",
    "version": 3
   },
   "file_extension": ".py",
   "mimetype": "text/x-python",
   "name": "python",
   "nbconvert_exporter": "python",
   "pygments_lexer": "ipython3",
   "version": "3.8.8"
  }
 },
 "nbformat": 4,
 "nbformat_minor": 5
}
