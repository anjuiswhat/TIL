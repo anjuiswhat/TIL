{
 "cells": [
  {
   "cell_type": "markdown",
   "id": "f9f187e0-9d77-498b-bf28-5c5755a53b83",
   "metadata": {},
   "source": [
    "# [ PART 05. 정형 데이터마이닝 ] - 2장. 분류 분석\n",
    "- 분류분석은 데이터가 어떤 그룹에 속하는지 예측하는데 사용하는 기법.\n",
    "- 의사결정나무, 앙상블기법, 인공신경망 등이 있음.\n",
    "- ADP 실기에서는 \"분류기법들을 활용해 가장 정확도같은 지표가 좋은 기법과 결과를 보고서에 나타내라\"는 형식의 문제가 출제됨."
   ]
  },
  {
   "cell_type": "raw",
   "id": "8a1beebc-d600-4290-9e54-2819d83f759b",
   "metadata": {},
   "source": [
    "\n"
   ]
  },
  {
   "cell_type": "markdown",
   "id": "3368b03a-2f2f-4bd2-a5ca-06b621a74231",
   "metadata": {},
   "source": [
    "## - 불러올 패키지 목록"
   ]
  },
  {
   "cell_type": "code",
   "execution_count": 1,
   "id": "bc355631-ef44-41ac-8d7c-c517d18f6042",
   "metadata": {},
   "outputs": [],
   "source": [
    "# 데이터 핸들링을 위한 패키지\n",
    "import numpy as np\n",
    "import pandas as pd\n",
    "\n",
    "from sklearn.model_selection import train_test_split    # training/test data set을 추출하는 패키지"
   ]
  },
  {
   "cell_type": "raw",
   "id": "167e7282-7aae-4e15-86d3-1dd2cc30895b",
   "metadata": {},
   "source": [
    "\n"
   ]
  },
  {
   "cell_type": "markdown",
   "id": "872b37a4-f430-4285-bb7a-83e94df2d7ba",
   "metadata": {},
   "source": [
    "## 1. 로지스틱 회귀분석\n",
    "- 반응변수가 범주형인 경우 적용되는 회귀분석\n",
    "- 새로운 설명변수가 주어질 때 반응변수의 각 범주에 속할 확률이 얼마인지를 추정하여 추정확률을 기준치에 따라 분류하는 목적으로 활용"
   ]
  },
  {
   "cell_type": "code",
   "execution_count": null,
   "id": "c16e421e-7220-4ef6-b4e7-2b7da6c17e6c",
   "metadata": {},
   "outputs": [],
   "source": []
  }
 ],
 "metadata": {
  "kernelspec": {
   "display_name": "Python 3",
   "language": "python",
   "name": "python3"
  },
  "language_info": {
   "codemirror_mode": {
    "name": "ipython",
    "version": 3
   },
   "file_extension": ".py",
   "mimetype": "text/x-python",
   "name": "python",
   "nbconvert_exporter": "python",
   "pygments_lexer": "ipython3",
   "version": "3.8.8"
  }
 },
 "nbformat": 4,
 "nbformat_minor": 5
}
