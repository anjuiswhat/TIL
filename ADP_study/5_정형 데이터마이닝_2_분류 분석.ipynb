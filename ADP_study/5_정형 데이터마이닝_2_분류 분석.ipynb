{
 "cells": [
  {
   "cell_type": "markdown",
   "id": "1aa2fd72-ca01-4730-a24d-0798152c3c09",
   "metadata": {},
   "source": [
    "# [ PART 05. 정형 데이터마이닝 ] - 1장. 데이터 분할과 성과분석"
   ]
  },
  {
   "cell_type": "raw",
   "id": "8a1beebc-d600-4290-9e54-2819d83f759b",
   "metadata": {},
   "source": [
    "\n"
   ]
  },
  {
   "cell_type": "markdown",
   "id": "3368b03a-2f2f-4bd2-a5ca-06b621a74231",
   "metadata": {},
   "source": [
    "## - 불러올 패키지 목록"
   ]
  },
  {
   "cell_type": "code",
   "execution_count": 1,
   "id": "bc355631-ef44-41ac-8d7c-c517d18f6042",
   "metadata": {},
   "outputs": [],
   "source": [
    "# 데이터 핸들링을 위한 패키지\n",
    "import numpy as np\n",
    "import pandas as pd\n",
    "\n",
    "from sklearn.model_selection import train_test_split    # training/test data set을 추출하는 패키지"
   ]
  },
  {
   "cell_type": "raw",
   "id": "167e7282-7aae-4e15-86d3-1dd2cc30895b",
   "metadata": {},
   "source": [
    "\n"
   ]
  },
  {
   "cell_type": "markdown",
   "id": "4384e5e6-ec25-400e-b5fd-ddf241c51471",
   "metadata": {},
   "source": [
    "## 1. 데이터 분할\n",
    "- 데이터 분할은 train, validation, test data로 분할하여 모델 평가에 사용\n",
    "- 전체데이터에서 각각 train(50%), validataion(30%), test(20%)로 분할하며, 데이터의 갯수가 작으면 validation을 생략하고 training과 test를 6:4 또는 7:3으로 두고 분석을 진행."
   ]
  },
  {
   "cell_type": "code",
   "execution_count": 2,
   "id": "5fce2cff-febc-4e95-b021-7e78f2d56749",
   "metadata": {
    "tags": []
   },
   "outputs": [
    {
     "data": {
      "text/html": [
       "<div>\n",
       "<style scoped>\n",
       "    .dataframe tbody tr th:only-of-type {\n",
       "        vertical-align: middle;\n",
       "    }\n",
       "\n",
       "    .dataframe tbody tr th {\n",
       "        vertical-align: top;\n",
       "    }\n",
       "\n",
       "    .dataframe thead th {\n",
       "        text-align: right;\n",
       "    }\n",
       "</style>\n",
       "<table border=\"1\" class=\"dataframe\">\n",
       "  <thead>\n",
       "    <tr style=\"text-align: right;\">\n",
       "      <th></th>\n",
       "      <th>credit.rating</th>\n",
       "      <th>account.balance</th>\n",
       "      <th>credit.duration.months</th>\n",
       "      <th>previous.credit.payment.status</th>\n",
       "      <th>credit.purpose</th>\n",
       "      <th>credit.amount</th>\n",
       "      <th>savings</th>\n",
       "      <th>employment.duration</th>\n",
       "      <th>installment.rate</th>\n",
       "      <th>marital.status</th>\n",
       "      <th>...</th>\n",
       "      <th>residence.duration</th>\n",
       "      <th>current.assets</th>\n",
       "      <th>age</th>\n",
       "      <th>other.credits</th>\n",
       "      <th>apartment.type</th>\n",
       "      <th>bank.credits</th>\n",
       "      <th>occupation</th>\n",
       "      <th>dependents</th>\n",
       "      <th>telephone</th>\n",
       "      <th>foreign.worker</th>\n",
       "    </tr>\n",
       "  </thead>\n",
       "  <tbody>\n",
       "    <tr>\n",
       "      <th>0</th>\n",
       "      <td>1</td>\n",
       "      <td>1</td>\n",
       "      <td>18</td>\n",
       "      <td>4</td>\n",
       "      <td>2</td>\n",
       "      <td>1049</td>\n",
       "      <td>1</td>\n",
       "      <td>2</td>\n",
       "      <td>4</td>\n",
       "      <td>2</td>\n",
       "      <td>...</td>\n",
       "      <td>4</td>\n",
       "      <td>2</td>\n",
       "      <td>21</td>\n",
       "      <td>3</td>\n",
       "      <td>1</td>\n",
       "      <td>1</td>\n",
       "      <td>3</td>\n",
       "      <td>1</td>\n",
       "      <td>1</td>\n",
       "      <td>1</td>\n",
       "    </tr>\n",
       "    <tr>\n",
       "      <th>1</th>\n",
       "      <td>1</td>\n",
       "      <td>1</td>\n",
       "      <td>9</td>\n",
       "      <td>4</td>\n",
       "      <td>0</td>\n",
       "      <td>2799</td>\n",
       "      <td>1</td>\n",
       "      <td>3</td>\n",
       "      <td>2</td>\n",
       "      <td>3</td>\n",
       "      <td>...</td>\n",
       "      <td>2</td>\n",
       "      <td>1</td>\n",
       "      <td>36</td>\n",
       "      <td>3</td>\n",
       "      <td>1</td>\n",
       "      <td>2</td>\n",
       "      <td>3</td>\n",
       "      <td>2</td>\n",
       "      <td>1</td>\n",
       "      <td>1</td>\n",
       "    </tr>\n",
       "    <tr>\n",
       "      <th>2</th>\n",
       "      <td>1</td>\n",
       "      <td>2</td>\n",
       "      <td>12</td>\n",
       "      <td>2</td>\n",
       "      <td>9</td>\n",
       "      <td>841</td>\n",
       "      <td>2</td>\n",
       "      <td>4</td>\n",
       "      <td>2</td>\n",
       "      <td>2</td>\n",
       "      <td>...</td>\n",
       "      <td>4</td>\n",
       "      <td>1</td>\n",
       "      <td>23</td>\n",
       "      <td>3</td>\n",
       "      <td>1</td>\n",
       "      <td>1</td>\n",
       "      <td>2</td>\n",
       "      <td>1</td>\n",
       "      <td>1</td>\n",
       "      <td>1</td>\n",
       "    </tr>\n",
       "    <tr>\n",
       "      <th>3</th>\n",
       "      <td>1</td>\n",
       "      <td>1</td>\n",
       "      <td>12</td>\n",
       "      <td>4</td>\n",
       "      <td>0</td>\n",
       "      <td>2122</td>\n",
       "      <td>1</td>\n",
       "      <td>3</td>\n",
       "      <td>3</td>\n",
       "      <td>3</td>\n",
       "      <td>...</td>\n",
       "      <td>2</td>\n",
       "      <td>1</td>\n",
       "      <td>39</td>\n",
       "      <td>3</td>\n",
       "      <td>1</td>\n",
       "      <td>2</td>\n",
       "      <td>2</td>\n",
       "      <td>2</td>\n",
       "      <td>1</td>\n",
       "      <td>2</td>\n",
       "    </tr>\n",
       "    <tr>\n",
       "      <th>4</th>\n",
       "      <td>1</td>\n",
       "      <td>1</td>\n",
       "      <td>12</td>\n",
       "      <td>4</td>\n",
       "      <td>0</td>\n",
       "      <td>2171</td>\n",
       "      <td>1</td>\n",
       "      <td>3</td>\n",
       "      <td>4</td>\n",
       "      <td>3</td>\n",
       "      <td>...</td>\n",
       "      <td>4</td>\n",
       "      <td>2</td>\n",
       "      <td>38</td>\n",
       "      <td>1</td>\n",
       "      <td>2</td>\n",
       "      <td>2</td>\n",
       "      <td>2</td>\n",
       "      <td>1</td>\n",
       "      <td>1</td>\n",
       "      <td>2</td>\n",
       "    </tr>\n",
       "    <tr>\n",
       "      <th>...</th>\n",
       "      <td>...</td>\n",
       "      <td>...</td>\n",
       "      <td>...</td>\n",
       "      <td>...</td>\n",
       "      <td>...</td>\n",
       "      <td>...</td>\n",
       "      <td>...</td>\n",
       "      <td>...</td>\n",
       "      <td>...</td>\n",
       "      <td>...</td>\n",
       "      <td>...</td>\n",
       "      <td>...</td>\n",
       "      <td>...</td>\n",
       "      <td>...</td>\n",
       "      <td>...</td>\n",
       "      <td>...</td>\n",
       "      <td>...</td>\n",
       "      <td>...</td>\n",
       "      <td>...</td>\n",
       "      <td>...</td>\n",
       "      <td>...</td>\n",
       "    </tr>\n",
       "    <tr>\n",
       "      <th>995</th>\n",
       "      <td>0</td>\n",
       "      <td>1</td>\n",
       "      <td>24</td>\n",
       "      <td>2</td>\n",
       "      <td>3</td>\n",
       "      <td>1987</td>\n",
       "      <td>1</td>\n",
       "      <td>3</td>\n",
       "      <td>2</td>\n",
       "      <td>3</td>\n",
       "      <td>...</td>\n",
       "      <td>4</td>\n",
       "      <td>1</td>\n",
       "      <td>21</td>\n",
       "      <td>3</td>\n",
       "      <td>1</td>\n",
       "      <td>1</td>\n",
       "      <td>2</td>\n",
       "      <td>2</td>\n",
       "      <td>1</td>\n",
       "      <td>1</td>\n",
       "    </tr>\n",
       "    <tr>\n",
       "      <th>996</th>\n",
       "      <td>0</td>\n",
       "      <td>1</td>\n",
       "      <td>24</td>\n",
       "      <td>2</td>\n",
       "      <td>0</td>\n",
       "      <td>2303</td>\n",
       "      <td>1</td>\n",
       "      <td>5</td>\n",
       "      <td>4</td>\n",
       "      <td>3</td>\n",
       "      <td>...</td>\n",
       "      <td>1</td>\n",
       "      <td>1</td>\n",
       "      <td>45</td>\n",
       "      <td>3</td>\n",
       "      <td>2</td>\n",
       "      <td>1</td>\n",
       "      <td>3</td>\n",
       "      <td>1</td>\n",
       "      <td>1</td>\n",
       "      <td>1</td>\n",
       "    </tr>\n",
       "    <tr>\n",
       "      <th>997</th>\n",
       "      <td>0</td>\n",
       "      <td>4</td>\n",
       "      <td>21</td>\n",
       "      <td>4</td>\n",
       "      <td>0</td>\n",
       "      <td>12680</td>\n",
       "      <td>5</td>\n",
       "      <td>5</td>\n",
       "      <td>4</td>\n",
       "      <td>3</td>\n",
       "      <td>...</td>\n",
       "      <td>4</td>\n",
       "      <td>4</td>\n",
       "      <td>30</td>\n",
       "      <td>3</td>\n",
       "      <td>3</td>\n",
       "      <td>1</td>\n",
       "      <td>4</td>\n",
       "      <td>1</td>\n",
       "      <td>2</td>\n",
       "      <td>1</td>\n",
       "    </tr>\n",
       "    <tr>\n",
       "      <th>998</th>\n",
       "      <td>0</td>\n",
       "      <td>2</td>\n",
       "      <td>12</td>\n",
       "      <td>2</td>\n",
       "      <td>3</td>\n",
       "      <td>6468</td>\n",
       "      <td>5</td>\n",
       "      <td>1</td>\n",
       "      <td>2</td>\n",
       "      <td>3</td>\n",
       "      <td>...</td>\n",
       "      <td>1</td>\n",
       "      <td>4</td>\n",
       "      <td>52</td>\n",
       "      <td>3</td>\n",
       "      <td>2</td>\n",
       "      <td>1</td>\n",
       "      <td>4</td>\n",
       "      <td>1</td>\n",
       "      <td>2</td>\n",
       "      <td>1</td>\n",
       "    </tr>\n",
       "    <tr>\n",
       "      <th>999</th>\n",
       "      <td>0</td>\n",
       "      <td>1</td>\n",
       "      <td>30</td>\n",
       "      <td>2</td>\n",
       "      <td>2</td>\n",
       "      <td>6350</td>\n",
       "      <td>5</td>\n",
       "      <td>5</td>\n",
       "      <td>4</td>\n",
       "      <td>3</td>\n",
       "      <td>...</td>\n",
       "      <td>4</td>\n",
       "      <td>2</td>\n",
       "      <td>31</td>\n",
       "      <td>3</td>\n",
       "      <td>2</td>\n",
       "      <td>1</td>\n",
       "      <td>3</td>\n",
       "      <td>1</td>\n",
       "      <td>1</td>\n",
       "      <td>1</td>\n",
       "    </tr>\n",
       "  </tbody>\n",
       "</table>\n",
       "<p>1000 rows × 21 columns</p>\n",
       "</div>"
      ],
      "text/plain": [
       "     credit.rating  account.balance  credit.duration.months  \\\n",
       "0                1                1                      18   \n",
       "1                1                1                       9   \n",
       "2                1                2                      12   \n",
       "3                1                1                      12   \n",
       "4                1                1                      12   \n",
       "..             ...              ...                     ...   \n",
       "995              0                1                      24   \n",
       "996              0                1                      24   \n",
       "997              0                4                      21   \n",
       "998              0                2                      12   \n",
       "999              0                1                      30   \n",
       "\n",
       "     previous.credit.payment.status  credit.purpose  credit.amount  savings  \\\n",
       "0                                 4               2           1049        1   \n",
       "1                                 4               0           2799        1   \n",
       "2                                 2               9            841        2   \n",
       "3                                 4               0           2122        1   \n",
       "4                                 4               0           2171        1   \n",
       "..                              ...             ...            ...      ...   \n",
       "995                               2               3           1987        1   \n",
       "996                               2               0           2303        1   \n",
       "997                               4               0          12680        5   \n",
       "998                               2               3           6468        5   \n",
       "999                               2               2           6350        5   \n",
       "\n",
       "     employment.duration  installment.rate  marital.status  ...  \\\n",
       "0                      2                 4               2  ...   \n",
       "1                      3                 2               3  ...   \n",
       "2                      4                 2               2  ...   \n",
       "3                      3                 3               3  ...   \n",
       "4                      3                 4               3  ...   \n",
       "..                   ...               ...             ...  ...   \n",
       "995                    3                 2               3  ...   \n",
       "996                    5                 4               3  ...   \n",
       "997                    5                 4               3  ...   \n",
       "998                    1                 2               3  ...   \n",
       "999                    5                 4               3  ...   \n",
       "\n",
       "     residence.duration  current.assets  age  other.credits  apartment.type  \\\n",
       "0                     4               2   21              3               1   \n",
       "1                     2               1   36              3               1   \n",
       "2                     4               1   23              3               1   \n",
       "3                     2               1   39              3               1   \n",
       "4                     4               2   38              1               2   \n",
       "..                  ...             ...  ...            ...             ...   \n",
       "995                   4               1   21              3               1   \n",
       "996                   1               1   45              3               2   \n",
       "997                   4               4   30              3               3   \n",
       "998                   1               4   52              3               2   \n",
       "999                   4               2   31              3               2   \n",
       "\n",
       "     bank.credits  occupation  dependents  telephone  foreign.worker  \n",
       "0               1           3           1          1               1  \n",
       "1               2           3           2          1               1  \n",
       "2               1           2           1          1               1  \n",
       "3               2           2           2          1               2  \n",
       "4               2           2           1          1               2  \n",
       "..            ...         ...         ...        ...             ...  \n",
       "995             1           2           2          1               1  \n",
       "996             1           3           1          1               1  \n",
       "997             1           4           1          2               1  \n",
       "998             1           4           1          2               1  \n",
       "999             1           3           1          1               1  \n",
       "\n",
       "[1000 rows x 21 columns]"
      ]
     },
     "execution_count": 2,
     "metadata": {},
     "output_type": "execute_result"
    }
   ],
   "source": [
    "# 데이터프레임 생성\n",
    "\n",
    "df_credit = pd.read_csv( \"C:\\\\Users\\\\Administrator\\\\GitHub\\\\TIL\\\\ADP_study\\\\rawdata\\\\german_credit_dataset.csv\")\n",
    "\n",
    "df_credit"
   ]
  },
  {
   "cell_type": "code",
   "execution_count": 4,
   "id": "18b8ce46-10ed-48d7-8d53-eaf7a670bd06",
   "metadata": {},
   "outputs": [],
   "source": [
    "train_valid, test = train_test_split( df_credit,\n",
    "                                      test_size = 0.2, random_state = 2000 )\n",
    "\n",
    "train, valid = train_test_split( train_valid,\n",
    "                                 test_size = 3/8,  random_state = 2000 )"
   ]
  },
  {
   "cell_type": "code",
   "execution_count": 5,
   "id": "2078c40b-f905-41d5-aef1-b5b9414878f3",
   "metadata": {
    "tags": []
   },
   "outputs": [
    {
     "data": {
      "text/plain": [
       "'train'"
      ]
     },
     "metadata": {},
     "output_type": "display_data"
    },
    {
     "data": {
      "text/plain": [
       "(500, 21)"
      ]
     },
     "metadata": {},
     "output_type": "display_data"
    },
    {
     "name": "stdout",
     "output_type": "stream",
     "text": [
      "\n"
     ]
    },
    {
     "data": {
      "text/plain": [
       "'valid'"
      ]
     },
     "metadata": {},
     "output_type": "display_data"
    },
    {
     "data": {
      "text/plain": [
       "(300, 21)"
      ]
     },
     "metadata": {},
     "output_type": "display_data"
    },
    {
     "name": "stdout",
     "output_type": "stream",
     "text": [
      "\n"
     ]
    },
    {
     "data": {
      "text/plain": [
       "'test'"
      ]
     },
     "metadata": {},
     "output_type": "display_data"
    },
    {
     "data": {
      "text/plain": [
       "(200, 21)"
      ]
     },
     "metadata": {},
     "output_type": "display_data"
    },
    {
     "name": "stdout",
     "output_type": "stream",
     "text": [
      "\n"
     ]
    }
   ],
   "source": [
    "display( 'train', train.shape )\n",
    "print()\n",
    "display( 'valid', valid.shape )\n",
    "print()\n",
    "display( 'test', test.shape )\n",
    "print()"
   ]
  },
  {
   "cell_type": "code",
   "execution_count": 10,
   "id": "3d67729d-70bd-4faf-8dcc-7738672e2b55",
   "metadata": {},
   "outputs": [],
   "source": [
    "train_valid, test = train_test_split( df_credit, test_size = 0.2,\n",
    "                                      stratify = df_credit['credit.rating'], random_state = 2000 )\n",
    "\n",
    "train, valid = train_test_split( train_valid, test_size = 3/8,\n",
    "                                 stratify = train_valid['credit.rating'], random_state = 2000 )"
   ]
  },
  {
   "cell_type": "code",
   "execution_count": 12,
   "id": "1557438a-3528-4736-93e7-3455f343b54f",
   "metadata": {},
   "outputs": [
    {
     "data": {
      "text/plain": [
       "'train'"
      ]
     },
     "metadata": {},
     "output_type": "display_data"
    },
    {
     "data": {
      "text/plain": [
       "1    350\n",
       "0    150\n",
       "Name: credit.rating, dtype: int64"
      ]
     },
     "metadata": {},
     "output_type": "display_data"
    },
    {
     "name": "stdout",
     "output_type": "stream",
     "text": [
      "\n"
     ]
    },
    {
     "data": {
      "text/plain": [
       "'valid'"
      ]
     },
     "metadata": {},
     "output_type": "display_data"
    },
    {
     "data": {
      "text/plain": [
       "1    210\n",
       "0     90\n",
       "Name: credit.rating, dtype: int64"
      ]
     },
     "metadata": {},
     "output_type": "display_data"
    },
    {
     "name": "stdout",
     "output_type": "stream",
     "text": [
      "\n"
     ]
    },
    {
     "data": {
      "text/plain": [
       "'test'"
      ]
     },
     "metadata": {},
     "output_type": "display_data"
    },
    {
     "data": {
      "text/plain": [
       "1    140\n",
       "0     60\n",
       "Name: credit.rating, dtype: int64"
      ]
     },
     "metadata": {},
     "output_type": "display_data"
    },
    {
     "name": "stdout",
     "output_type": "stream",
     "text": [
      "\n"
     ]
    }
   ],
   "source": [
    "display( 'train', train['credit.rating'].value_counts() )\n",
    "print()\n",
    "display( 'valid', valid['credit.rating'].value_counts() )\n",
    "print()\n",
    "display( 'test', test['credit.rating'].value_counts() )\n",
    "print()"
   ]
  },
  {
   "cell_type": "raw",
   "id": "8f9eefa5-027d-45c4-9bc3-f0c7e7f684f8",
   "metadata": {},
   "source": [
    "\n"
   ]
  },
  {
   "cell_type": "markdown",
   "id": "7a75cfd2-627b-49a6-8a74-674e396f688b",
   "metadata": {},
   "source": [
    "## 2. 성과분석\n",
    "- 성과분석은 데이터마이닝을 통해 train set으로 모델링 한 뒤, test set으로 정확도, 특이도 등을 알아보기 위한 과정"
   ]
  },
  {
   "cell_type": "markdown",
   "id": "9a8a5ec1-9c60-4a93-8fc2-cee2397f7e4f",
   "metadata": {},
   "source": [
    "### 2.1. 오분류표(Confusion Matrix)\n",
    "- caret패키지에서 제공하는 confusionMatriox를 활용하면 정확도, 특이도 등이 손쉽게 정리된 결과를 얻을 수 있음."
   ]
  }
 ],
 "metadata": {
  "kernelspec": {
   "display_name": "Python 3",
   "language": "python",
   "name": "python3"
  },
  "language_info": {
   "codemirror_mode": {
    "name": "ipython",
    "version": 3
   },
   "file_extension": ".py",
   "mimetype": "text/x-python",
   "name": "python",
   "nbconvert_exporter": "python",
   "pygments_lexer": "ipython3",
   "version": "3.8.8"
  }
 },
 "nbformat": 4,
 "nbformat_minor": 5
}
