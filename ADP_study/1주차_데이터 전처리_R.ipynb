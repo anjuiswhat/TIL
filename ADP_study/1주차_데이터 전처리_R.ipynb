{
 "cells": [
  {
   "cell_type": "markdown",
   "id": "93a88c79-15c2-4312-a8cb-3af8d6f60a29",
   "metadata": {},
   "source": [
    "# PART 02. 데이터 전처리"
   ]
  },
  {
   "cell_type": "raw",
   "id": "ec9e8d41-ba94-4c4b-8940-41d010b75984",
   "metadata": {},
   "source": []
  },
  {
   "cell_type": "markdown",
   "id": "a3ab937f-b8e8-4b17-8fad-71c0fec93f6b",
   "metadata": {},
   "source": [
    "## 1장. 제어문"
   ]
  },
  {
   "cell_type": "raw",
   "id": "cfc72421-3917-4fa0-a0f6-41223d6e3b69",
   "metadata": {},
   "source": []
  },
  {
   "cell_type": "markdown",
   "id": "3d326f5b-2240-46e5-968a-5e5e04d3ca2d",
   "metadata": {},
   "source": [
    "### 1절. 조건문 ( if/else , ifelse() )"
   ]
  },
  {
   "cell_type": "markdown",
   "id": "86d00f79-3b68-4939-aa85-ae079571e2b3",
   "metadata": {},
   "source": [
    "#### [Problem]  if, else\n",
    "- 정수를 입력받아 해당 숫자가 짝수인지 홀수인지 판단하고, 만약 입력받은 숫자가 정수가 아닐 경우 “정수를 입력해주세요.”라는 문구를 출력하는 if문을 작성하라"
   ]
  },
  {
   "cell_type": "code",
   "execution_count": null,
   "id": "4e0c0b1d-b115-40c3-a178-efec5cd21a24",
   "metadata": {},
   "outputs": [],
   "source": [
    "x <- 9 \n",
    "\n",
    "if(x%%2==0){                          # x/2의 나머지가 0이면 참\n",
    "  print(paste(x, \"는 짝수입니다.\"))   # x%%2==0 조건이 참일 때 수행할 코드\n",
    "}  else if (x%%2==1) {                 \n",
    "  print(paste(x, \"는 홀수입니다.\"))   # 첫째 조건이 거짓, x%%2==1 조건이 참일 때 수행할 코드    \n",
    "}  else { \n",
    "  print (\"정수를 입력해주세요.\")      # 위의 조건 중 어느 것도 만족하지 않을 때 수행할 코드\n",
    "}"
   ]
  },
  {
   "cell_type": "markdown",
   "id": "756f202d-973a-4a91-93dc-7c0a66169f85",
   "metadata": {},
   "source": [
    "#### [Problem]  ifelse\n",
    "- 정수를 입력받아 짝수이면 “짝수입니다.”, 홀수이면 “홀수입니다.”를 출력하고, 정수가 아닐 경우 “정수가 아닙니다.”를 출력하는 ifelse문을 작성하라"
   ]
  },
  {
   "cell_type": "code",
   "execution_count": null,
   "id": "9e375248-a7f6-4880-8150-e78da8387864",
   "metadata": {},
   "outputs": [],
   "source": [
    "x <- 3.9\n",
    "ifelse(x%%2==0, \"짝수입니다.\",\n",
    "       ifelse(x%%2==1, \"홀수입니다.\", \"정수가 아닙니다.\"))"
   ]
  },
  {
   "cell_type": "raw",
   "id": "ad80e897-292f-480a-8562-15a88ae0ba2f",
   "metadata": {},
   "source": []
  },
  {
   "cell_type": "markdown",
   "id": "3ac5c92a-4485-46c8-adae-db69708baa5f",
   "metadata": {},
   "source": [
    "### 2절. 반복문 ( for, while, repeat )"
   ]
  },
  {
   "cell_type": "markdown",
   "id": "ef00030f-a58a-4bb0-a77d-f831e9d94f99",
   "metadata": {},
   "source": [
    "#### [Problem]  for\n",
    "- 반복문을 사용하지 않은 경우 : print 함수를 4번 실행\n",
    "- 반복문을 사용한 경우 : for문을 1번 실행"
   ]
  },
  {
   "cell_type": "code",
   "execution_count": null,
   "id": "6513d058-bef9-4776-a6f8-494820147e37",
   "metadata": {},
   "outputs": [],
   "source": [
    "print(paste(\"The year is\", 2015))\t# paste() : ()안에 나열된 문자열을 합쳐주는 함수\n",
    "print(paste(\"The year is\", 2016))\n",
    "print(paste(\"The year is\", 2017))\n",
    "print(paste(\"The year is\", 2018))"
   ]
  },
  {
   "cell_type": "code",
   "execution_count": null,
   "id": "c044dd27-b924-4efe-9eb3-8ba623afe49a",
   "metadata": {},
   "outputs": [],
   "source": [
    "# year변수에 2015에서 2018까지의 값이 모두 대입될 때 까지 { }안의 구문이 반복\n",
    "for (year in c(2015:2018)){\n",
    "  print(paste(\"The year is\", year))\n",
    "}"
   ]
  },
  {
   "cell_type": "markdown",
   "id": "a43d3390-c7bb-45cc-93c3-fcec2f02d40e",
   "metadata": {},
   "source": [
    "#### [Problem]  while\n",
    "\n",
    "- for문을 사용하여 해결했던 예제에 대해 while문을 이용해서 똑같은 결과값을 출력하는 코드를 작성하라"
   ]
  },
  {
   "cell_type": "code",
   "execution_count": null,
   "id": "8ebc860e-431d-453a-8122-075091df6d1a",
   "metadata": {},
   "outputs": [],
   "source": [
    "# year변수의 값이 2018이하이면 { }안의 구문이 실행\n",
    "\n",
    "year <- 2015          \n",
    "while(year<=2018){\n",
    "  print(paste(\"The year is\", year))\n",
    "  year <- year+1}"
   ]
  },
  {
   "cell_type": "markdown",
   "id": "03839710-6fb3-4300-a167-fe9313262332",
   "metadata": {},
   "source": [
    "#### [Problem]  repeat\n",
    "- break, next 사용"
   ]
  },
  {
   "cell_type": "code",
   "execution_count": null,
   "id": "073a645b-cdba-4ece-82cb-e21eb401d30f",
   "metadata": {},
   "outputs": [],
   "source": [
    "## break 사용 예시\n",
    "# 1~10 까지의 숫자 중 짝수만 출력하기\n",
    "\n",
    "i<-0\n",
    "repeat{i<-i+2\n",
    "print(i)\n",
    "if(i>=10){\n",
    "    break   # i가 10이상이면 반복문 종료\n",
    "}\n",
    "}"
   ]
  },
  {
   "cell_type": "code",
   "execution_count": null,
   "id": "dd18fb39-02af-42a6-a8de-8363da825900",
   "metadata": {},
   "outputs": [],
   "source": [
    "## next 사용 예시\n",
    "# 1~10 까지의 숫자 중 홀수만 출력하기\n",
    "# 반복문 내의 next를 만나면 print(i)를 실행하지 않고 for문의 맨 처음으로 이동\n",
    "\n",
    "for(i in 1:10){ \n",
    "  if(i%%2==0){ next }\n",
    "  print(i)\n",
    "} "
   ]
  },
  {
   "cell_type": "raw",
   "id": "070a6602-1deb-426b-812d-1b2fa3542920",
   "metadata": {},
   "source": []
  },
  {
   "cell_type": "markdown",
   "id": "4cd8da55-ea1a-4e64-a278-6507c06c62bb",
   "metadata": {},
   "source": [
    "## 2장. 데이터 변환"
   ]
  },
  {
   "cell_type": "markdown",
   "id": "461ecc0a-bee6-4cdc-81ff-4859039d6a54",
   "metadata": {},
   "source": [
    "### 1절. 파생변수 생성"
   ]
  },
  {
   "cell_type": "markdown",
   "id": "9414ef79-c5e8-4e8f-9519-8d1bbb893087",
   "metadata": {},
   "source": [
    "#### [Problem]  $ : data.frame에서의 변수추가\n",
    "- R의 내장 데이터 iris에 행번호를 담고 있는 ‘ID’ 라는 변수를 새로 생성하라"
   ]
  },
  {
   "cell_type": "code",
   "execution_count": null,
   "id": "b1d1613b-3d5c-4cf0-8b36-bfc29e1fad9c",
   "metadata": {},
   "outputs": [],
   "source": [
    "# iris 데이터의 구조 확인 : 150개의 행과 5개의 변수를 가지고 있다.\n",
    "str(iris)\n",
    "\n",
    "# 150개 개체들의 고유번호에 해당하는 'ID' 변수를 새로 생성\n",
    "iris$ID<-1:150\n",
    "\n",
    "# iris 데이터의 상위 6개의 행을 출력한 결과, ID 변수가 추가된 것을 확인할 수 있다.\n",
    "head(iris)"
   ]
  },
  {
   "cell_type": "markdown",
   "id": "65c2bd63-5881-46b9-b4f4-eb1e3f9839e8",
   "metadata": {},
   "source": [
    "#### [Problem]  [ ] : 대괄호를 활용한 변수추가\n",
    "- $를 이용하여 생성했던 ID 변수의 값이 짝수이면 A, 홀수이면 B로 분류하는 새로운 변수(변수명 : Group)를 [ ]를 활용하여 생성하라."
   ]
  },
  {
   "cell_type": "code",
   "execution_count": null,
   "id": "fe0759b5-e0b6-4401-8248-118352472094",
   "metadata": {},
   "outputs": [],
   "source": [
    "# ifelse 함수를 이용하여 ID가 짝수이면 A, 홀수이면 B를 부여\n",
    "iris[\"Group\"]<-ifelse(iris$ID%%2==0,\"A\",\"B\")\n",
    "\n",
    "# iris 데이터의 상위 6개의 행을 출력 : Group 변수가 추가된 것을 확인할 수 있다.\n",
    "head(iris)"
   ]
  },
  {
   "cell_type": "markdown",
   "id": "ea585195-4656-4d20-bfa6-ce93ab431f36",
   "metadata": {},
   "source": [
    "#### [Problem]  transform\n",
    "- iris 데이터에서 Sepal.Length 변수와 Petal.Length 변수의 값을 더하여 ‘Sum.Length’ 라는 새로운 변수를 생성하라."
   ]
  },
  {
   "cell_type": "code",
   "execution_count": null,
   "id": "6de1dec5-c813-4f2f-8fb0-0e0895bb89b2",
   "metadata": {},
   "outputs": [],
   "source": [
    "transform(iris, Sum.Length=Sepal.Length + Petal.Length)"
   ]
  },
  {
   "cell_type": "markdown",
   "id": "e543830d-1b76-4170-a8f5-b9f63c8d2dc6",
   "metadata": {},
   "source": [
    "#### [Problem]  within\n",
    "- 학생의 id(s1, s2, s3, s4, s5, s6)를 담은 student_id 변수와 시험점수(55, 90, 85, 71, 63, 99)를 담은 score 변수로 구성된 데이터프레임을 생성\n",
    "- 그 후 시험점수가 90점 이상이면 수, 80점 이상 90점 미만이면 우, 70점 이상 80점 미만이면 미, 60점 이상 70점 미만이면 양, 60점 이하이면 가로 분류하는 ‘grade’ 라는 변수를 새롭게 생성"
   ]
  },
  {
   "cell_type": "code",
   "execution_count": null,
   "id": "fc28f596-b2f5-47eb-9981-c517ccbd4cf5",
   "metadata": {},
   "outputs": [],
   "source": [
    "# 학생id(student_id 변수)와 시험점수(score 변수)로 이루어진 데이터 프레임 생성\n",
    "student_id <- c(\"s1\", \"s2\", \"s3\", \"s4\", \"s5\", \"s6\")  # 학생id가 담긴 벡터\n",
    "score <- c(55, 90, 85, 71, 63, 99)                   # 시험점수가 담긴 벡터\n",
    "score_df <- data.frame(student_id, score)            # 데이터 프레임 생성\n",
    "score_df"
   ]
  },
  {
   "cell_type": "code",
   "execution_count": null,
   "id": "a890558c-adc3-4c65-892b-d3f076a41da4",
   "metadata": {},
   "outputs": [],
   "source": [
    "# 학생의 점수(score변수)를 수, 우, 미, 양, 가로 분류하여 'grade' 라는 새로운 변수 생성\n",
    "score_df <- within(score_df, {\n",
    "  grade = character(0)         # 새로운 변수의 데이터 타입 지정 (생략 가능)\n",
    "  grade[ score < 60 ] = \"가\"   # score가 60미만인 경우 grade에 “가” 입력\n",
    "  grade[ score >=60 & score < 70 ] = \"양\" \n",
    "  grade[ score >=70 & score < 80 ] = \"미\"\n",
    "  grade[ score >=80 & score < 90 ] = \"우\" \n",
    "  grade[ score >=90 ] = \"수\" \n",
    "  grade = factor(grade, level = c(\"수\", \"우\", \"미\", \"양\", \"가\")) \n",
    "  # grade변수를 \"수\", \"우\", \"미\", \"양\", \"가\"의 범주로 이루어진 팩터로 변환\n",
    "})\n",
    "\n",
    "# score_df 출력 : grade 변수가 추가된 것을 확인할 수 있다.\n",
    "score_df"
   ]
  },
  {
   "cell_type": "raw",
   "id": "877fe58d-2a4e-4de9-a42b-6132db49185f",
   "metadata": {},
   "source": []
  },
  {
   "cell_type": "markdown",
   "id": "32a61dad-23cf-43b0-933c-e9662a661bd5",
   "metadata": {},
   "source": [
    "### 2절. 변수 축소"
   ]
  },
  {
   "cell_type": "markdown",
   "id": "bcee0954-3e3b-479b-8ac6-bd02267f838d",
   "metadata": {},
   "source": [
    "#### [Problem]  주성분분석\n",
    "- R에 내장된 USArrests 데이터는 1973년 미국 50개주 100,000명의 인구 당 체포된 세 가지 강력범죄수(assault, murder, rape)와 각 주마다 도시에 거주하는 인구의 비율(%)로 구성되어있다.\n",
    "- 주성분 분석을 수행하여 해당 데이터의 변수들을 가장 잘 요약하는 주성분을 구하고 해석하라."
   ]
  },
  {
   "cell_type": "code",
   "execution_count": null,
   "id": "cd7e7f1f-a36d-4bf5-adaa-da918f57744b",
   "metadata": {},
   "outputs": [],
   "source": [
    "library(datasets)\n",
    "data(USArrests)\n",
    "head(USArrests)"
   ]
  },
  {
   "cell_type": "code",
   "execution_count": null,
   "id": "926e59fc-3fc0-43ae-ac9f-3ed2ad01e87c",
   "metadata": {},
   "outputs": [],
   "source": [
    "#산점도를 통해 변수간 상관관계 파악\n",
    "# pairs() : 둘 이상의 변수에 대해 모든 가능한 산점도를 그려줌\n",
    "pairs(USArrests, panel = panel.smooth, main = \"USArrests data\")"
   ]
  },
  {
   "cell_type": "code",
   "execution_count": null,
   "id": "d18ac474-22bd-4cf8-9ab7-b1966aa79653",
   "metadata": {},
   "outputs": [],
   "source": [
    "# ② 주성분분석 수행\n",
    "US.prin<-princomp(USArrests, cor=TRUE)\n",
    "summary(US.prin)"
   ]
  },
  {
   "cell_type": "code",
   "execution_count": null,
   "id": "56cb57dd-1427-43d6-b002-b2f4330e9122",
   "metadata": {},
   "outputs": [],
   "source": [
    "# screeplot 그리기\n",
    "# 주성분분석의 결과를 plot함수 인자값으로 지정하면 scree plot이 생성된다.\n",
    "plot(US.prin,type='l')"
   ]
  },
  {
   "cell_type": "code",
   "execution_count": null,
   "id": "d2e65392-3ad9-4abb-9783-0b5e448dcd70",
   "metadata": {},
   "outputs": [],
   "source": [
    "# ③ Loading\n",
    "US.prin$loadings"
   ]
  },
  {
   "cell_type": "code",
   "execution_count": null,
   "id": "ae8154d9-e8d9-4460-ac8e-0dcf8c0d68f8",
   "metadata": {},
   "outputs": [],
   "source": [
    "# ④ Scores\n",
    "US.prin$scores"
   ]
  },
  {
   "cell_type": "code",
   "execution_count": null,
   "id": "402a469d-4ed6-4519-a987-eac3ebb5fcb6",
   "metadata": {},
   "outputs": [],
   "source": [
    "# ⑤ 제 1-2 주성분에 의한 행렬도\n",
    "biplot(US.prin, scale=0)"
   ]
  },
  {
   "cell_type": "raw",
   "id": "afe4f199-833c-4bcb-a9cf-b7df539fcb36",
   "metadata": {},
   "source": [
    "#### [Problem]  요인분석\n",
    "- R의 내장 데이터 swiss는 1888년 경 스위스 내 47개 주의 사회 경제적 지표(교육, 농업 종사자 비율 등)와 출산율에 대한 데이터이다.\n",
    "- 원활한 분석을 위해 먼저 해당 데이터의 5가지 변수들을 min-max 정규화한 뒤, 요인분석을 실시하여 변수들을 3개의 요인으로 축소하라.(factanal 함수 사용)"
   ]
  },
  {
   "cell_type": "code",
   "execution_count": null,
   "id": "b6d3b6e8-b1de-4fd9-a5af-7b635e1e7e9e",
   "metadata": {},
   "outputs": [],
   "source": [
    "# swiss 데이터 확인 \n",
    "data(swiss)\n",
    "str(swiss)"
   ]
  },
  {
   "cell_type": "code",
   "execution_count": null,
   "id": "cb626c07-0e11-4689-bfa6-16e356f7cb3c",
   "metadata": {},
   "outputs": [],
   "source": [
    "# 정규화 수행 및 실습용 데이터 생성\n",
    "# apply(데이터, 계산방향, 적용함수) : 주어진 데이터의 행 혹은 열 방향으로 함수를 적용\n",
    "Min <- apply(swiss,2,min) \n",
    "Max <- apply(swiss,2,max)\n",
    "swiss_fa<-scale(swiss, center=Min, scale=(Max-Min))\n",
    "\n",
    "head(swiss_fa)"
   ]
  },
  {
   "cell_type": "code",
   "execution_count": null,
   "id": "f791d85f-beda-4cd8-a3e2-aeb00a288d8f",
   "metadata": {},
   "outputs": [],
   "source": [
    "# 요인분석 수행\n",
    "# factanal함수 rotation 인자의 기본값은 \"varimax\"임\n",
    "factanal(swiss_fa, factors=3)"
   ]
  },
  {
   "cell_type": "raw",
   "id": "4f7bf089-3e71-447a-b059-db314782bedb",
   "metadata": {},
   "source": []
  },
  {
   "cell_type": "markdown",
   "id": "b176a339-2738-49f0-be9e-aaf993d55f23",
   "metadata": {},
   "source": [
    "### 3절. 표준화와 정규화"
   ]
  },
  {
   "cell_type": "markdown",
   "id": "a64d15c6-5253-4fed-9a2e-39a35c06c6f8",
   "metadata": {},
   "source": [
    "#### [Problem]  표준화\n",
    "- R의 내장 데이터 ‘mtcars’의 mpg(마일)변수와 hp(총마력)변수로만 이루어진 데이터프레임(test.cars)을 생성하고, 각 변수를 표준화한 새로운 변수를 추가하라. (mpg를 표준화한 변수의 이름은 mpg_scale, hp를 표준화한 변수의 이름은 hp_scale로 지정)"
   ]
  },
  {
   "cell_type": "code",
   "execution_count": null,
   "id": "511e2408-f66d-4897-9c79-a3dec540ff7b",
   "metadata": {},
   "outputs": [],
   "source": [
    "# 데이터 확인 \n",
    "data(\"mtcars\")\n",
    "str(mtcars)"
   ]
  },
  {
   "cell_type": "code",
   "execution_count": null,
   "id": "394fa381-bfc0-4e75-aaeb-66e5018b0c2e",
   "metadata": {},
   "outputs": [],
   "source": [
    "# 데이터프레임 생성\n",
    "test.cars<-mtcars[,c(\"mpg\",\"hp\")]\n",
    "\n",
    "# test.cars데이터의 상위 6개의 행 확인\n",
    "head(test.cars)"
   ]
  },
  {
   "cell_type": "code",
   "execution_count": null,
   "id": "00f59b76-c00f-400b-b1d7-3860f00e8b7d",
   "metadata": {},
   "outputs": [],
   "source": [
    "# 표준화한 변수 추가\n",
    "test.cars<-transform(test.cars,\n",
    "                     mpg_scale=scale(test.cars$mpg),\n",
    "                     hp_scale=scale(test.cars$hp))\n",
    "head(test.cars)"
   ]
  },
  {
   "cell_type": "markdown",
   "id": "ec49c2f6-9ece-41bb-921c-1d664735e5f8",
   "metadata": {},
   "source": [
    "#### [Problem]  정규화\n",
    "- R의 내장 데이터 iris의 Sepal.Length 변소를 정규화하는 코드 작성\n",
    "- scale 함수를 이용하는 경우와 사용자 정의 함수를 이용하는 경우에 대해 각각 실행"
   ]
  },
  {
   "cell_type": "code",
   "execution_count": null,
   "id": "61c69a30-ea5d-44e4-94da-d81f9e190d65",
   "metadata": {},
   "outputs": [],
   "source": [
    "## 가. scale함수 이용\n",
    "## scale 함수를 이용하여 R의 내장 데이터 iris의 Sepal.Length 변수를 정규화하는 코드를 살펴보자.\n",
    "\n",
    "# iris데이터 Sepal.Length  변수의 최솟값 저장\n",
    "Min<-min(iris$Sepal.Length)\n",
    "\n",
    "# iris데이터 Sepal.Length 변수의 최댓값 저장\n",
    "Max<-max(iris$Sepal.Length)\n",
    "\n",
    "# scale함수를 활용한 min-max 표준화\n",
    "iris$SL_new<-scale(iris$Sepal.Length, center=Min, scale=Max-Min)\n",
    "\n",
    "head(iris)"
   ]
  },
  {
   "cell_type": "code",
   "execution_count": null,
   "id": "cb5964d9-70fb-4e82-89c7-e5ca38f21915",
   "metadata": {},
   "outputs": [],
   "source": [
    "## 나. 사용자 정의 함수 이용\n",
    "\n",
    "# 정규화한 값을 반환하는 함수 정의\n",
    "# x : 정규화하고자 하는 숫자형 벡터\n",
    "normalize <-function(x) {\n",
    "  return ((x-min(x)) / (max(x) -min(x)))\n",
    "}\n",
    "\n",
    "# 숫자형 벡터 생성\n",
    "num<-c(50:500)\n",
    "\n",
    "# 생성한 사용자 정의 함수를 이용하여 정규화 수행\n",
    "num_new<-normalize(num) \n",
    "head(num_new)"
   ]
  },
  {
   "cell_type": "markdown",
   "id": "ed8cc852-c8be-45c5-918e-80a1d5a7eb32",
   "metadata": {},
   "source": []
  },
  {
   "cell_type": "markdown",
   "id": "711b4f36-31aa-4dd2-81ed-1b58bcdae9e0",
   "metadata": {},
   "source": [
    "## 3장. 데이터 결합 및 요약"
   ]
  },
  {
   "cell_type": "markdown",
   "id": "58acf15b-d72c-4a91-bdc1-bb22a356dc85",
   "metadata": {},
   "source": [
    "### 1절. 데이터 결합"
   ]
  },
  {
   "cell_type": "markdown",
   "id": "b1b07028-98ba-4aa7-b677-0b4a7cb45edb",
   "metadata": {},
   "source": [
    "#### [Problem]  rbind\n",
    "- id와 last_name이라는 변수로 이루어진 두 개의 데이터프레임을 생성한 후, 두 데이터프레임을 행 기준으로 결합하여 고객의 아이디와 성을 저장하고 있는 하나의 데이터프레임으로 생성하라."
   ]
  },
  {
   "cell_type": "code",
   "execution_count": null,
   "id": "5be4003b-03d5-457c-82b8-9b2ea84a8fe6",
   "metadata": {},
   "outputs": [],
   "source": [
    "# 행으로 묶을 데이터 생성 : rbind를 사용할 때에는 열의 이름과 개수가 동일해야 함\n",
    "customer1 <- data.frame(id = c(\"c01\",\"c02\",\"c03\",\"c04\"),\n",
    "                        last_name = c(\"Lee\", \"Kim\", \"Choi\", \"Park\"))\n",
    "\n",
    "customer2 <- data.frame(id = c(\"c05\", \"c06\", \"c07\"), \n",
    "                        last_name = c(\"Lim\" , \"Bae\", \"Kim\"))\n",
    "\n",
    "# rbind를 사용하여 두 데이터프레임을 결합\n",
    "id_name <- rbind(customer1, customer2)    \n",
    "id_name  "
   ]
  },
  {
   "cell_type": "markdown",
   "id": "530b77a5-cca7-4e69-be93-1147a00a71c9",
   "metadata": {},
   "source": [
    "#### [Problem]  cbind\n",
    "- 고객의 나이(age)와 수입(income)을 담고 있는 데이터(age_income)를 새로 생성하고, rbind 함수 예제에서 생성했던 id_name 데이터와 열을 기준으로 결합하여 customer 데이터를 생성하라."
   ]
  },
  {
   "cell_type": "code",
   "execution_count": null,
   "id": "70346867-66af-4786-8c01-30e5d5c80d50",
   "metadata": {},
   "outputs": [],
   "source": [
    "# 열로 묶을 데이터 생성 : cbind를 사용할 때에는 행의 개수가 동일해야 함\n",
    "# age변수와 income변수로 구성된 데이터프레임 생성\n",
    "age_income <- data.frame(age = c(20, 25, 37, 40, 32, 45, 37), \n",
    "                         income = c(2500, 6400, 0, 7000, 3400, 3800, 5010))\n",
    "\n",
    "# cbind를 사용하여 두 데이터프레임을 결합\n",
    "customer <- cbind(id_name, age_income)     \n",
    "customer"
   ]
  },
  {
   "cell_type": "markdown",
   "id": "47064f5d-86a8-4469-b332-b83b1e18d1b5",
   "metadata": {},
   "source": [
    "#### [Problem]  merge\n",
    "- 고객의 아이디(id), 이름(name)으로 이루어진 데이터프레임(id_name)과 고객의 아이디(id), 번호(number)로 이루어진 데이터프레임(id_number)을 생성한 뒤, 다양한 방법을 사용하여 두 데이터를 병합하라."
   ]
  },
  {
   "cell_type": "code",
   "execution_count": null,
   "id": "3be7610d-700f-4f1e-87e0-866e33eb1b38",
   "metadata": {},
   "outputs": [],
   "source": [
    "# 병합에 사용할 데이터프레임 생성\n",
    "id_name <- data.frame(id = c(\"c01\",\"c02\",\"c03\",\"c04\",\"c05\", \"c06\", \"c07\"), \n",
    "                      last_name = c(\"Lee\", \"Kim\", \"Choi\", \"Park\", \"Lim\" , \"Bae\", \"Kim\"))\n",
    "\n",
    "id_number <- data.frame(id = c(\"c03\", \"c04\", \"c05\", \"c06\", \"c07\", \"c08\", \"c09\"), \n",
    "                        number = c(3, 1, 0, 7, 3, 4, 1))\n",
    "\n",
    "# id_name, id_number 데이터프레임 확인\n",
    "id_name\n",
    "id_number"
   ]
  },
  {
   "cell_type": "code",
   "execution_count": null,
   "id": "ee3d4e49-8303-4080-a7cc-f4ac0ae053ce",
   "metadata": {},
   "outputs": [],
   "source": [
    "# Q1) id 칼럼을 기준으로 두 테이블이 모두 공통된 값을 가지고 있는 경우에만 두 데이터(id_name, id_number)를 병합.\n",
    "# (데이터베이스의 Inner Join에 해당)\n",
    "\n",
    "merge(id_name, id_number, by = 'id')"
   ]
  },
  {
   "cell_type": "code",
   "execution_count": null,
   "id": "e0da8e56-28f9-45f0-a722-e0f0d1dd88f4",
   "metadata": {},
   "outputs": [],
   "source": [
    "# Q2) 공통된 값이 없는 경우에도 데이터가 출력되도록 id 칼럼을 기준으로 두 데이터(id_name, id_number)의 모든 행을 병합.\n",
    "# (데이터베이스의 Outer Join에 해당)\n",
    "# 기준칼럼에 공통된 값이 없는 경우, 다른 변수 값 자리에는 NA가 채워짐\n",
    "\n",
    "merge(id_name, id_number, by = 'id', all = T) "
   ]
  },
  {
   "cell_type": "code",
   "execution_count": null,
   "id": "f05a753a-c1b6-46bd-8c6e-390081a1557c",
   "metadata": {},
   "outputs": [],
   "source": [
    "# Q3) id 칼럼을 기준으로 두 데이터(id_name, id_number)를 병합하되 기준칼럼에 공통 값이 없는 경우에는 id_name 데이터를 기준으로 병합.\n",
    "# (데이터베이스의 Left Outer Join에 해당)\n",
    "\n",
    "merge(id_name, id_number,  by = 'id', all.x = T)"
   ]
  },
  {
   "cell_type": "code",
   "execution_count": null,
   "id": "cb52fde1-980c-4969-ab0e-d3639edf1ac9",
   "metadata": {},
   "outputs": [],
   "source": [
    "# Q4) id 칼럼을 기준으로 두 데이터(id_name, id_number)를 병합하되 기준칼럼에 공통 값이 없는 경우에는 id_number 데이터를 기준으로 병합. \n",
    "# (데이터베이스의 Right Outer Join에 해당)\n",
    "merge(id_name, id_number, by = 'id', all.y = T)"
   ]
  },
  {
   "cell_type": "raw",
   "id": "c90fbd21-a745-4e66-835b-14a4f73d04e5",
   "metadata": {},
   "source": []
  },
  {
   "cell_type": "markdown",
   "id": "74b2bf7c-4a1b-4670-9bb8-33f08842dd9e",
   "metadata": {},
   "source": [
    "### 2절. 데이터 요약"
   ]
  },
  {
   "cell_type": "code",
   "execution_count": null,
   "id": "0b237928-2f8b-4e2a-856e-bbf3532771b3",
   "metadata": {},
   "outputs": [],
   "source": []
  },
  {
   "cell_type": "code",
   "execution_count": null,
   "id": "23f08d98-3b9b-4213-b055-5cacbaeda876",
   "metadata": {},
   "outputs": [],
   "source": []
  },
  {
   "cell_type": "code",
   "execution_count": null,
   "id": "e045feab-b88b-499e-a901-201ae8b4c583",
   "metadata": {},
   "outputs": [],
   "source": []
  },
  {
   "cell_type": "code",
   "execution_count": null,
   "id": "fd6cb4fa-e513-4b0f-8986-7f4f4f3cc2b7",
   "metadata": {},
   "outputs": [],
   "source": []
  },
  {
   "cell_type": "code",
   "execution_count": null,
   "id": "6d0edebc-05da-440b-82cf-d88cd7bd1655",
   "metadata": {},
   "outputs": [],
   "source": []
  },
  {
   "cell_type": "code",
   "execution_count": null,
   "id": "4717001b-30b7-4f97-804e-28e934a36cd9",
   "metadata": {},
   "outputs": [],
   "source": []
  },
  {
   "cell_type": "code",
   "execution_count": null,
   "id": "d5ae3b94-7c38-4552-9776-c89dfa01fcc5",
   "metadata": {},
   "outputs": [],
   "source": []
  },
  {
   "cell_type": "code",
   "execution_count": null,
   "id": "f78781ad-f1da-4451-aff3-4f91d2e3b1c7",
   "metadata": {},
   "outputs": [],
   "source": []
  },
  {
   "cell_type": "code",
   "execution_count": null,
   "id": "9a14750c-bec6-4275-9e3a-0cf8ab350d89",
   "metadata": {},
   "outputs": [],
   "source": []
  },
  {
   "cell_type": "code",
   "execution_count": null,
   "id": "8bf0958e-7e65-415f-9921-986fe9a193f9",
   "metadata": {},
   "outputs": [],
   "source": []
  },
  {
   "cell_type": "markdown",
   "id": "2589bc3d-909e-4550-bec2-c9d8980df9a4",
   "metadata": {},
   "source": [
    "### 3절. apply 계열 함수"
   ]
  },
  {
   "cell_type": "code",
   "execution_count": null,
   "id": "72d003f1-d68c-480e-9b64-8c81b6e2e1a5",
   "metadata": {},
   "outputs": [],
   "source": []
  },
  {
   "cell_type": "code",
   "execution_count": null,
   "id": "f73a9e42-9bd4-4191-8064-9d4c13d38a6b",
   "metadata": {},
   "outputs": [],
   "source": []
  },
  {
   "cell_type": "code",
   "execution_count": null,
   "id": "170a5b7c-c581-44dd-9f7e-95183b5b5885",
   "metadata": {},
   "outputs": [],
   "source": []
  },
  {
   "cell_type": "code",
   "execution_count": null,
   "id": "4a27a9b7-6bd6-48d8-b83c-7545cdaee970",
   "metadata": {},
   "outputs": [],
   "source": []
  },
  {
   "cell_type": "code",
   "execution_count": null,
   "id": "7cbaa2f1-4ba2-4a63-a73e-893c8e2acbee",
   "metadata": {},
   "outputs": [],
   "source": []
  },
  {
   "cell_type": "code",
   "execution_count": null,
   "id": "d6fa7af8-c880-4fc3-995b-dfc53be24a02",
   "metadata": {},
   "outputs": [],
   "source": []
  },
  {
   "cell_type": "code",
   "execution_count": null,
   "id": "1a779ade-aa9a-483b-bd36-97d694f569ce",
   "metadata": {},
   "outputs": [],
   "source": []
  },
  {
   "cell_type": "code",
   "execution_count": null,
   "id": "23f57460-1390-4f2e-8fa8-818ce0bd011c",
   "metadata": {},
   "outputs": [],
   "source": []
  },
  {
   "cell_type": "code",
   "execution_count": null,
   "id": "2ae9afad-7ff7-4445-9d6c-8a4cce7d1498",
   "metadata": {},
   "outputs": [],
   "source": []
  },
  {
   "cell_type": "code",
   "execution_count": null,
   "id": "90ce1949-ddb2-402d-8599-7663440c7392",
   "metadata": {},
   "outputs": [],
   "source": []
  },
  {
   "cell_type": "markdown",
   "id": "5c43dfac-29bf-4997-b03f-048e101f92a4",
   "metadata": {},
   "source": [
    "## 4장. 패키지를 활용한 데이터 전처리"
   ]
  },
  {
   "cell_type": "markdown",
   "id": "40bba75b-39fd-4dfb-a075-57ed5a37607e",
   "metadata": {},
   "source": [
    "### 1절. plyr"
   ]
  },
  {
   "cell_type": "markdown",
   "id": "573f5ef7-c6ba-4b21-a43a-135f75e8d778",
   "metadata": {},
   "source": [
    "### 2절. dplyr"
   ]
  },
  {
   "cell_type": "markdown",
   "id": "a7eaea4d-391d-4d0b-b403-621e4bea21e7",
   "metadata": {},
   "source": [
    "### 3절. reshape2"
   ]
  },
  {
   "cell_type": "markdown",
   "id": "7581151f-fa31-47c4-b821-85e8307bc51f",
   "metadata": {},
   "source": [
    "### 4절. data.tabler"
   ]
  },
  {
   "cell_type": "markdown",
   "id": "bc555ce8-6547-4dee-ac90-e9ce75730840",
   "metadata": {},
   "source": []
  },
  {
   "cell_type": "markdown",
   "id": "cbdbbb50-8fee-46b6-984b-dcdd80805af7",
   "metadata": {},
   "source": []
  },
  {
   "cell_type": "markdown",
   "id": "0e8be38b-cd09-44c4-9aef-009eb1488142",
   "metadata": {},
   "source": [
    "## 5장. 결측치"
   ]
  },
  {
   "cell_type": "markdown",
   "id": "19124a87-86ee-491d-943c-5c4e77a7996c",
   "metadata": {},
   "source": [
    "### 1절. 결측치 인식"
   ]
  },
  {
   "cell_type": "markdown",
   "id": "6b2c36c2-56a2-4b7a-a78b-9d719436d164",
   "metadata": {},
   "source": [
    "### 2절. 결측치 처리"
   ]
  },
  {
   "cell_type": "markdown",
   "id": "f9ffc8ab-3f2e-4dd6-a84f-9e18db8e0e8e",
   "metadata": {},
   "source": [
    "### 3절. 이상치 인식"
   ]
  },
  {
   "cell_type": "markdown",
   "id": "f080c53a-dca0-4d19-91e5-b0f65d8348c1",
   "metadata": {},
   "source": []
  },
  {
   "cell_type": "markdown",
   "id": "95cccda1-6d3b-4498-b170-9841982dcab4",
   "metadata": {},
   "source": []
  },
  {
   "cell_type": "markdown",
   "id": "91734269-db62-41b9-8189-6d30afe4a50e",
   "metadata": {},
   "source": []
  },
  {
   "cell_type": "markdown",
   "id": "71c909f8-dbec-4d56-8e8d-fe50a03513bd",
   "metadata": {},
   "source": [
    "## 6장. 날짜 데이터 전처리"
   ]
  },
  {
   "cell_type": "markdown",
   "id": "ef2aa8af-d069-4499-a41a-e9e8eb9342a1",
   "metadata": {},
   "source": [
    "### 1절. 날짜 데이터 다루기"
   ]
  },
  {
   "cell_type": "markdown",
   "id": "109c6c72-531b-44f7-9888-c57d67b16721",
   "metadata": {},
   "source": []
  },
  {
   "cell_type": "markdown",
   "id": "c3980431-0b4c-4db9-abff-f5deb8fdf463",
   "metadata": {},
   "source": []
  },
  {
   "cell_type": "markdown",
   "id": "e44d0228-c41e-4833-89b3-c2a0842b38b7",
   "metadata": {},
   "source": []
  },
  {
   "cell_type": "markdown",
   "id": "b44ed829-1015-426d-b40b-312f1ef24dab",
   "metadata": {},
   "source": []
  }
 ],
 "metadata": {
  "kernelspec": {
   "display_name": "R",
   "language": "R",
   "name": "ir"
  },
  "language_info": {
   "codemirror_mode": "r",
   "file_extension": ".r",
   "mimetype": "text/x-r-source",
   "name": "R",
   "pygments_lexer": "r",
   "version": "3.6.1"
  }
 },
 "nbformat": 4,
 "nbformat_minor": 5
}
