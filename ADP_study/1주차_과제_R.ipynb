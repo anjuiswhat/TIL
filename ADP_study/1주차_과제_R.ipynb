{
 "cells": [
  {
   "cell_type": "markdown",
   "id": "93a88c79-15c2-4312-a8cb-3af8d6f60a29",
   "metadata": {},
   "source": [
    "# PART 02. 데이터 전처리"
   ]
  },
  {
   "cell_type": "raw",
   "id": "ec9e8d41-ba94-4c4b-8940-41d010b75984",
   "metadata": {},
   "source": []
  },
  {
   "cell_type": "markdown",
   "id": "a3ab937f-b8e8-4b17-8fad-71c0fec93f6b",
   "metadata": {},
   "source": [
    "## 1장. 제어문"
   ]
  },
  {
   "cell_type": "raw",
   "id": "cfc72421-3917-4fa0-a0f6-41223d6e3b69",
   "metadata": {},
   "source": []
  },
  {
   "cell_type": "markdown",
   "id": "3d326f5b-2240-46e5-968a-5e5e04d3ca2d",
   "metadata": {},
   "source": [
    "### 1절. 조건문 ( if/else , ifelse() )"
   ]
  },
  {
   "cell_type": "markdown",
   "id": "86d00f79-3b68-4939-aa85-ae079571e2b3",
   "metadata": {},
   "source": [
    "#### [Problem]  if, else\n",
    "- 정수를 입력받아 해당 숫자가 짝수인지 홀수인지 판단하고, 만약 입력받은 숫자가 정수가 아닐 경우 “정수를 입력해주세요.”라는 문구를 출력하는 if문을 작성"
   ]
  },
  {
   "cell_type": "code",
   "execution_count": null,
   "id": "4e0c0b1d-b115-40c3-a178-efec5cd21a24",
   "metadata": {},
   "outputs": [],
   "source": [
    "x <- 9 \n",
    "\n",
    "if(x%%2==0){                          # x/2의 나머지가 0이면 참\n",
    "  print(paste(x, \"는 짝수입니다.\"))   # x%%2==0 조건이 참일 때 수행할 코드\n",
    "}  else if (x%%2==1) {                 \n",
    "  print(paste(x, \"는 홀수입니다.\"))   # 첫째 조건이 거짓, x%%2==1 조건이 참일 때 수행할 코드    \n",
    "}  else { \n",
    "  print (\"정수를 입력해주세요.\")      # 위의 조건 중 어느 것도 만족하지 않을 때 수행할 코드\n",
    "}"
   ]
  },
  {
   "cell_type": "markdown",
   "id": "756f202d-973a-4a91-93dc-7c0a66169f85",
   "metadata": {},
   "source": [
    "#### [Problem]  ifelse\n",
    "- 정수를 입력받아 짝수이면 “짝수입니다.”, 홀수이면 “홀수입니다.”를 출력하고, 정수가 아닐 경우 “정수가 아닙니다.”를 출력하는 ifelse문을 작성"
   ]
  },
  {
   "cell_type": "code",
   "execution_count": null,
   "id": "9e375248-a7f6-4880-8150-e78da8387864",
   "metadata": {},
   "outputs": [],
   "source": [
    "x <- 3.9\n",
    "ifelse(x%%2==0, \"짝수입니다.\",\n",
    "       ifelse(x%%2==1, \"홀수입니다.\", \"정수가 아닙니다.\"))"
   ]
  },
  {
   "cell_type": "raw",
   "id": "ad80e897-292f-480a-8562-15a88ae0ba2f",
   "metadata": {},
   "source": []
  },
  {
   "cell_type": "markdown",
   "id": "3ac5c92a-4485-46c8-adae-db69708baa5f",
   "metadata": {},
   "source": [
    "### 2절. 반복문 ( for, while, repeat )"
   ]
  },
  {
   "cell_type": "markdown",
   "id": "ef00030f-a58a-4bb0-a77d-f831e9d94f99",
   "metadata": {},
   "source": [
    "#### [Problem]  for\n",
    "- 반복문을 사용하지 않은 경우 : print 함수를 4번 실행\n",
    "- 반복문을 사용한 경우 : for문을 1번 실행"
   ]
  },
  {
   "cell_type": "code",
   "execution_count": null,
   "id": "6513d058-bef9-4776-a6f8-494820147e37",
   "metadata": {},
   "outputs": [],
   "source": [
    "print(paste(\"The year is\", 2015))\t# paste() : ()안에 나열된 문자열을 합쳐주는 함수\n",
    "print(paste(\"The year is\", 2016))\n",
    "print(paste(\"The year is\", 2017))\n",
    "print(paste(\"The year is\", 2018))"
   ]
  },
  {
   "cell_type": "code",
   "execution_count": null,
   "id": "c044dd27-b924-4efe-9eb3-8ba623afe49a",
   "metadata": {},
   "outputs": [],
   "source": [
    "# year변수에 2015에서 2018까지의 값이 모두 대입될 때 까지 { }안의 구문이 반복\n",
    "for (year in c(2015:2018)){\n",
    "  print(paste(\"The year is\", year))\n",
    "}"
   ]
  },
  {
   "cell_type": "markdown",
   "id": "a43d3390-c7bb-45cc-93c3-fcec2f02d40e",
   "metadata": {},
   "source": [
    "#### [Problem]  while\n",
    "\n",
    "- for문을 사용하여 해결했던 예제에 대해 while문을 이용해서 똑같은 결과값을 출력하는 코드 작성"
   ]
  },
  {
   "cell_type": "code",
   "execution_count": null,
   "id": "8ebc860e-431d-453a-8122-075091df6d1a",
   "metadata": {},
   "outputs": [],
   "source": [
    "# year변수의 값이 2018이하이면 { }안의 구문이 실행\n",
    "\n",
    "year <- 2015          \n",
    "while(year<=2018){\n",
    "  print(paste(\"The year is\", year))\n",
    "  year <- year+1}"
   ]
  },
  {
   "cell_type": "markdown",
   "id": "03839710-6fb3-4300-a167-fe9313262332",
   "metadata": {},
   "source": [
    "#### [Problem]  repeat\n",
    "- break, next 사용"
   ]
  },
  {
   "cell_type": "code",
   "execution_count": null,
   "id": "073a645b-cdba-4ece-82cb-e21eb401d30f",
   "metadata": {},
   "outputs": [],
   "source": [
    "## break 사용 예시\n",
    "# 1~10 까지의 숫자 중 짝수만 출력하기\n",
    "\n",
    "i<-0\n",
    "repeat{i<-i+2\n",
    "print(i)\n",
    "if(i>=10){\n",
    "    break   # i가 10이상이면 반복문 종료\n",
    "}\n",
    "}"
   ]
  },
  {
   "cell_type": "code",
   "execution_count": null,
   "id": "dd18fb39-02af-42a6-a8de-8363da825900",
   "metadata": {},
   "outputs": [],
   "source": [
    "## next 사용 예시\n",
    "# 1~10 까지의 숫자 중 홀수만 출력하기\n",
    "# 반복문 내의 next를 만나면 print(i)를 실행하지 않고 for문의 맨 처음으로 이동\n",
    "\n",
    "for(i in 1:10){ \n",
    "  if(i%%2==0){ next }\n",
    "  print(i)\n",
    "} "
   ]
  },
  {
   "cell_type": "raw",
   "id": "070a6602-1deb-426b-812d-1b2fa3542920",
   "metadata": {},
   "source": []
  },
  {
   "cell_type": "markdown",
   "id": "4cd8da55-ea1a-4e64-a278-6507c06c62bb",
   "metadata": {},
   "source": [
    "## 2장. 데이터 변환"
   ]
  },
  {
   "cell_type": "markdown",
   "id": "461ecc0a-bee6-4cdc-81ff-4859039d6a54",
   "metadata": {},
   "source": [
    "### 1절. 파생변수 생성"
   ]
  },
  {
   "cell_type": "markdown",
   "id": "9414ef79-c5e8-4e8f-9519-8d1bbb893087",
   "metadata": {},
   "source": [
    "#### [Problem]  $ : data.frame에서의 변수추가\n",
    "- R의 내장 데이터 iris에 행번호를 담고 있는 ‘ID’ 라는 변수를 새로 생성"
   ]
  },
  {
   "cell_type": "code",
   "execution_count": null,
   "id": "b1d1613b-3d5c-4cf0-8b36-bfc29e1fad9c",
   "metadata": {},
   "outputs": [],
   "source": [
    "# iris 데이터의 구조 확인 : 150개의 행과 5개의 변수를 가지고 있다.\n",
    "str(iris)\n",
    "\n",
    "# 150개 개체들의 고유번호에 해당하는 'ID' 변수를 새로 생성\n",
    "iris$ID<-1:150\n",
    "\n",
    "# iris 데이터의 상위 6개의 행을 출력한 결과, ID 변수가 추가된 것을 확인할 수 있다.\n",
    "head(iris)"
   ]
  },
  {
   "cell_type": "markdown",
   "id": "65c2bd63-5881-46b9-b4f4-eb1e3f9839e8",
   "metadata": {},
   "source": [
    "#### [Problem]  [ ] : 대괄호를 활용한 변수추가\n",
    "- $를 이용하여 생성했던 ID 변수의 값이 짝수이면 A, 홀수이면 B로 분류하는 새로운 변수(변수명 : Group)를 [ ]를 활용하여 생성"
   ]
  },
  {
   "cell_type": "code",
   "execution_count": null,
   "id": "fe0759b5-e0b6-4401-8248-118352472094",
   "metadata": {},
   "outputs": [],
   "source": [
    "# ifelse 함수를 이용하여 ID가 짝수이면 A, 홀수이면 B를 부여\n",
    "iris[\"Group\"]<-ifelse(iris$ID%%2==0,\"A\",\"B\")\n",
    "\n",
    "# iris 데이터의 상위 6개의 행을 출력 : Group 변수가 추가된 것을 확인할 수 있다.\n",
    "head(iris)"
   ]
  },
  {
   "cell_type": "markdown",
   "id": "ea585195-4656-4d20-bfa6-ce93ab431f36",
   "metadata": {},
   "source": [
    "#### [Problem]  transform\n",
    "- iris 데이터에서 Sepal.Length 변수와 Petal.Length 변수의 값을 더하여 ‘Sum.Length’ 라는 새로운 변수를 생성"
   ]
  },
  {
   "cell_type": "code",
   "execution_count": null,
   "id": "6de1dec5-c813-4f2f-8fb0-0e0895bb89b2",
   "metadata": {},
   "outputs": [],
   "source": [
    "transform(iris, Sum.Length=Sepal.Length + Petal.Length)"
   ]
  },
  {
   "cell_type": "markdown",
   "id": "e543830d-1b76-4170-a8f5-b9f63c8d2dc6",
   "metadata": {},
   "source": [
    "#### [Problem]  within\n",
    "- 학생의 id(s1, s2, s3, s4, s5, s6)를 담은 student_id 변수와 시험점수(55, 90, 85, 71, 63, 99)를 담은 score 변수로 구성된 데이터프레임을 생성\n",
    "- 그 후 시험점수가 90점 이상이면 수, 80점 이상 90점 미만이면 우, 70점 이상 80점 미만이면 미, 60점 이상 70점 미만이면 양, 60점 이하이면 가로 분류하는 ‘grade’ 라는 변수를 새롭게 생성"
   ]
  },
  {
   "cell_type": "code",
   "execution_count": null,
   "id": "fc28f596-b2f5-47eb-9981-c517ccbd4cf5",
   "metadata": {},
   "outputs": [],
   "source": [
    "# 학생id(student_id 변수)와 시험점수(score 변수)로 이루어진 데이터 프레임 생성\n",
    "student_id <- c(\"s1\", \"s2\", \"s3\", \"s4\", \"s5\", \"s6\")  # 학생id가 담긴 벡터\n",
    "score <- c(55, 90, 85, 71, 63, 99)                   # 시험점수가 담긴 벡터\n",
    "score_df <- data.frame(student_id, score)            # 데이터 프레임 생성\n",
    "score_df"
   ]
  },
  {
   "cell_type": "code",
   "execution_count": null,
   "id": "a890558c-adc3-4c65-892b-d3f076a41da4",
   "metadata": {},
   "outputs": [],
   "source": [
    "# 학생의 점수(score변수)를 수, 우, 미, 양, 가로 분류하여 'grade' 라는 새로운 변수 생성\n",
    "score_df <- within(score_df, {\n",
    "  grade = character(0)         # 새로운 변수의 데이터 타입 지정 (생략 가능)\n",
    "  grade[ score < 60 ] = \"가\"   # score가 60미만인 경우 grade에 “가” 입력\n",
    "  grade[ score >=60 & score < 70 ] = \"양\" \n",
    "  grade[ score >=70 & score < 80 ] = \"미\"\n",
    "  grade[ score >=80 & score < 90 ] = \"우\" \n",
    "  grade[ score >=90 ] = \"수\" \n",
    "  grade = factor(grade, level = c(\"수\", \"우\", \"미\", \"양\", \"가\")) \n",
    "  # grade변수를 \"수\", \"우\", \"미\", \"양\", \"가\"의 범주로 이루어진 팩터로 변환\n",
    "})\n",
    "\n",
    "# score_df 출력 : grade 변수가 추가된 것을 확인할 수 있다.\n",
    "score_df"
   ]
  },
  {
   "cell_type": "raw",
   "id": "877fe58d-2a4e-4de9-a42b-6132db49185f",
   "metadata": {},
   "source": []
  },
  {
   "cell_type": "markdown",
   "id": "32a61dad-23cf-43b0-933c-e9662a661bd5",
   "metadata": {},
   "source": [
    "### 2절. 변수 축소"
   ]
  },
  {
   "cell_type": "markdown",
   "id": "b176a339-2738-49f0-be9e-aaf993d55f23",
   "metadata": {},
   "source": [
    "### 3절. 표준화와 정규화"
   ]
  },
  {
   "cell_type": "markdown",
   "id": "ed8cc852-c8be-45c5-918e-80a1d5a7eb32",
   "metadata": {},
   "source": []
  },
  {
   "cell_type": "markdown",
   "id": "711b4f36-31aa-4dd2-81ed-1b58bcdae9e0",
   "metadata": {},
   "source": [
    "## 3장. 데이터 결합 및 요약"
   ]
  },
  {
   "cell_type": "markdown",
   "id": "58acf15b-d72c-4a91-bdc1-bb22a356dc85",
   "metadata": {},
   "source": [
    "### 1절. 데이터 결합"
   ]
  },
  {
   "cell_type": "markdown",
   "id": "74b2bf7c-4a1b-4670-9bb8-33f08842dd9e",
   "metadata": {},
   "source": [
    "### 2절. 데이터 요약"
   ]
  },
  {
   "cell_type": "markdown",
   "id": "2589bc3d-909e-4550-bec2-c9d8980df9a4",
   "metadata": {},
   "source": [
    "### 3절. apply 계열 함수"
   ]
  },
  {
   "cell_type": "markdown",
   "id": "dd8aee10-911f-4a6c-b508-d561f02bdf85",
   "metadata": {},
   "source": []
  },
  {
   "cell_type": "markdown",
   "id": "5c43dfac-29bf-4997-b03f-048e101f92a4",
   "metadata": {},
   "source": [
    "## 4장. 패키지를 활용한 데이터 전처리"
   ]
  },
  {
   "cell_type": "markdown",
   "id": "40bba75b-39fd-4dfb-a075-57ed5a37607e",
   "metadata": {},
   "source": [
    "### 1절. plyr"
   ]
  },
  {
   "cell_type": "markdown",
   "id": "573f5ef7-c6ba-4b21-a43a-135f75e8d778",
   "metadata": {},
   "source": [
    "### 2절. dplyr"
   ]
  },
  {
   "cell_type": "markdown",
   "id": "a7eaea4d-391d-4d0b-b403-621e4bea21e7",
   "metadata": {},
   "source": [
    "### 3절. reshape2"
   ]
  },
  {
   "cell_type": "markdown",
   "id": "7581151f-fa31-47c4-b821-85e8307bc51f",
   "metadata": {},
   "source": [
    "### 4절. data.tabler"
   ]
  },
  {
   "cell_type": "markdown",
   "id": "bc555ce8-6547-4dee-ac90-e9ce75730840",
   "metadata": {},
   "source": []
  },
  {
   "cell_type": "markdown",
   "id": "cbdbbb50-8fee-46b6-984b-dcdd80805af7",
   "metadata": {},
   "source": []
  },
  {
   "cell_type": "markdown",
   "id": "0e8be38b-cd09-44c4-9aef-009eb1488142",
   "metadata": {},
   "source": [
    "## 5장. 결측치"
   ]
  },
  {
   "cell_type": "markdown",
   "id": "19124a87-86ee-491d-943c-5c4e77a7996c",
   "metadata": {},
   "source": [
    "### 1절. 결측치 인식"
   ]
  },
  {
   "cell_type": "markdown",
   "id": "6b2c36c2-56a2-4b7a-a78b-9d719436d164",
   "metadata": {},
   "source": [
    "### 2절. 결측치 처리"
   ]
  },
  {
   "cell_type": "markdown",
   "id": "f9ffc8ab-3f2e-4dd6-a84f-9e18db8e0e8e",
   "metadata": {},
   "source": [
    "### 3절. 이상치 인식"
   ]
  },
  {
   "cell_type": "markdown",
   "id": "f080c53a-dca0-4d19-91e5-b0f65d8348c1",
   "metadata": {},
   "source": []
  },
  {
   "cell_type": "markdown",
   "id": "95cccda1-6d3b-4498-b170-9841982dcab4",
   "metadata": {},
   "source": []
  },
  {
   "cell_type": "markdown",
   "id": "91734269-db62-41b9-8189-6d30afe4a50e",
   "metadata": {},
   "source": []
  },
  {
   "cell_type": "markdown",
   "id": "71c909f8-dbec-4d56-8e8d-fe50a03513bd",
   "metadata": {},
   "source": [
    "## 6장. 날짜 데이터 전처리"
   ]
  },
  {
   "cell_type": "markdown",
   "id": "ef2aa8af-d069-4499-a41a-e9e8eb9342a1",
   "metadata": {},
   "source": [
    "### 1절. 날짜 데이터 다루기"
   ]
  },
  {
   "cell_type": "markdown",
   "id": "109c6c72-531b-44f7-9888-c57d67b16721",
   "metadata": {},
   "source": []
  },
  {
   "cell_type": "markdown",
   "id": "c3980431-0b4c-4db9-abff-f5deb8fdf463",
   "metadata": {},
   "source": []
  },
  {
   "cell_type": "markdown",
   "id": "e44d0228-c41e-4833-89b3-c2a0842b38b7",
   "metadata": {},
   "source": []
  },
  {
   "cell_type": "markdown",
   "id": "b44ed829-1015-426d-b40b-312f1ef24dab",
   "metadata": {},
   "source": []
  }
 ],
 "metadata": {
  "kernelspec": {
   "display_name": "R",
   "language": "R",
   "name": "ir"
  },
  "language_info": {
   "codemirror_mode": "r",
   "file_extension": ".r",
   "mimetype": "text/x-r-source",
   "name": "R",
   "pygments_lexer": "r",
   "version": "3.6.1"
  }
 },
 "nbformat": 4,
 "nbformat_minor": 5
}
