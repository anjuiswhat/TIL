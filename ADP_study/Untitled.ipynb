{
 "cells": [
  {
   "cell_type": "code",
   "execution_count": 1,
   "id": "d853054a-f6b9-424d-8b6b-916199241234",
   "metadata": {},
   "outputs": [
    {
     "ename": "NameError",
     "evalue": "name 'ᄆᄂᄋᆱᄂᄋᄅ' is not defined",
     "output_type": "error",
     "traceback": [
      "\u001b[1;31m---------------------------------------------------------------------------\u001b[0m",
      "\u001b[1;31mNameError\u001b[0m                                 Traceback (most recent call last)",
      "\u001b[1;32m<ipython-input-1-7a2ebd5a7313>\u001b[0m in \u001b[0;36m<module>\u001b[1;34m\u001b[0m\n\u001b[1;32m----> 1\u001b[1;33m \u001b[0mㅁㄴㅇㄻㄴㅇㄹ\u001b[0m\u001b[1;33m\u001b[0m\u001b[1;33m\u001b[0m\u001b[0m\n\u001b[0m",
      "\u001b[1;31mNameError\u001b[0m: name 'ᄆᄂᄋᆱᄂᄋᄅ' is not defined"
     ]
    }
   ],
   "source": [
    "ㅁㄴㅇㄻㄴㅇㄹ"
   ]
  },
  {
   "cell_type": "code",
   "execution_count": 2,
   "id": "a3ff5c8a-a54a-41ef-97f0-d766afe8957f",
   "metadata": {},
   "outputs": [
    {
     "ename": "NameError",
     "evalue": "name 'ᄆᄂᄋᆱᄂᄋᄅᄋᄅᄋ' is not defined",
     "output_type": "error",
     "traceback": [
      "\u001b[1;31m---------------------------------------------------------------------------\u001b[0m",
      "\u001b[1;31mNameError\u001b[0m                                 Traceback (most recent call last)",
      "\u001b[1;32m<ipython-input-6-261c47963e7d>\u001b[0m in \u001b[0;36m<module>\u001b[1;34m\u001b[0m\n\u001b[1;32m----> 1\u001b[1;33m \u001b[0mㅁㄴㅇㄻㄴㅇㄹㅇㄹㅇ\u001b[0m\u001b[1;33m\u001b[0m\u001b[1;33m\u001b[0m\u001b[0m\n\u001b[0m",
      "\u001b[1;31mNameError\u001b[0m: name 'ᄆᄂᄋᆱᄂᄋᄅᄋᄅᄋ' is not defined"
     ]
    }
   ],
   "source": [
    "ㅁㄴㅇㄻㄴㅇㄹ"
   ]
  },
  {
   "cell_type": "code",
   "execution_count": null,
   "id": "b8658be1-587f-4abe-adb8-8f391d113674",
   "metadata": {},
   "outputs": [
    {
     "ename": "NameError",
     "evalue": "name 'ᄆᄂᄋᄅᄋᄅ' is not defined",
     "output_type": "error",
     "traceback": [
      "\u001b[1;31m---------------------------------------------------------------------------\u001b[0m",
      "\u001b[1;31mNameError\u001b[0m                                 Traceback (most recent call last)",
      "\u001b[1;32m<ipython-input-3-bb2623d487e0>\u001b[0m in \u001b[0;36m<module>\u001b[1;34m\u001b[0m\n\u001b[1;32m----> 1\u001b[1;33m \u001b[0mㅁㄴㅇㄹㅇㄹ\u001b[0m\u001b[1;33m\u001b[0m\u001b[1;33m\u001b[0m\u001b[0m\n\u001b[0m",
      "\u001b[1;31mNameError\u001b[0m: name 'ᄆᄂᄋᄅᄋᄅ' is not defined"
     ]
    }
   ],
   "source": [
    "ㅁㄴㅇㄹㅇㄹ"
   ]
  },
  {
   "cell_type": "code",
   "execution_count": 5,
   "id": "9b42722f-03b5-4126-80fd-21ccf389405c",
   "metadata": {},
   "outputs": [
    {
     "ename": "NameError",
     "evalue": "name 'ᄂᄋᄅᄂᄋᄅᄂᄋᄋᄂᄋᄏᄅᄂᄋᄅ' is not defined",
     "output_type": "error",
     "traceback": [
      "\u001b[1;31m---------------------------------------------------------------------------\u001b[0m",
      "\u001b[1;31mNameError\u001b[0m                                 Traceback (most recent call last)",
      "\u001b[1;32m<ipython-input-7-95e44f336b3d>\u001b[0m in \u001b[0;36m<module>\u001b[1;34m\u001b[0m\n\u001b[1;32m----> 1\u001b[1;33m \u001b[0mㄴㅇㄹㄴㅇㄹㄴㅇㅇㄴㅇㅋㄹㄴㅇㄹ\u001b[0m\u001b[1;33m\u001b[0m\u001b[1;33m\u001b[0m\u001b[0m\n\u001b[0m",
      "\u001b[1;31mNameError\u001b[0m: name 'ᄂᄋᄅᄂᄋᄅᄂᄋᄋᄂᄋᄏᄅᄂᄋᄅ' is not defined"
     ]
    }
   ],
   "source": [
    "ㄴㅇㄹㄴㅇㄹㄴㅇㅇ"
   ]
  },
  {
   "cell_type": "code",
   "execution_count": null,
   "id": "58d00429-c13c-439c-afe0-2250c2a646ff",
   "metadata": {},
   "outputs": [],
   "source": []
  }
 ],
 "metadata": {
  "kernelspec": {
   "display_name": "Python 3",
   "language": "python",
   "name": "python3"
  },
  "language_info": {
   "codemirror_mode": {
    "name": "ipython",
    "version": 3
   },
   "file_extension": ".py",
   "mimetype": "text/x-python",
   "name": "python",
   "nbconvert_exporter": "python",
   "pygments_lexer": "ipython3",
   "version": "3.8.11"
  }
 },
 "nbformat": 4,
 "nbformat_minor": 5
}
