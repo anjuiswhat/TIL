{
 "cells": [
  {
   "cell_type": "markdown",
   "id": "93a88c79-15c2-4312-a8cb-3af8d6f60a29",
   "metadata": {},
   "source": [
    "# PART 03. 통계분석"
   ]
  },
  {
   "cell_type": "markdown",
   "id": "0e8be38b-cd09-44c4-9aef-009eb1488142",
   "metadata": {},
   "source": [
    "## 3장. 교차분석"
   ]
  },
  {
   "cell_type": "raw",
   "id": "99d7a665-aafb-4a39-a5be-ee57da3ce5b1",
   "metadata": {},
   "source": []
  },
  {
   "cell_type": "code",
   "execution_count": 4,
   "id": "fb3e165d-d78a-4d4f-be08-6efed91b0a73",
   "metadata": {},
   "outputs": [],
   "source": [
    "# 연산 처리를 위한 패키지\n",
    "import numpy as np\n",
    "import pandas as pd\n",
    "import scipy as sp\n",
    "from scipy import stats\n",
    "\n",
    "# 시각화를 위한 패키지\n",
    "from matplotlib import pyplot as plt\n",
    "import seaborn as sb\n",
    "\n",
    "# %matplotlib inline 의 목적은 plt.show()함수가 호출되지 않은 경우에도 matplotlib 다이어그램을 렌더링하는 것이다.\n",
    "# 그러나 현재 업데이트된 버전의 주피터 노트북 버전에서는 %matplotlib inline 를 사용하지 않더라도 Matplotlib 다이어그램을 개체로 표현한다.\n",
    "# 따라서 굳이 필요하지는 않다. 그러나 코드를 깨끗하게 유지하고 자신이 만든 플롯을 호출하기 위해 여전히 관례적으로 권장된다.\n",
    "%matplotlib inline\n",
    "\n",
    "# 경고 메시지 무시\n",
    "import warnings\n",
    "warnings.filterwarnings('ignore')"
   ]
  },
  {
   "cell_type": "raw",
   "id": "8f676681-fa1a-4c80-8038-54e4b31f472f",
   "metadata": {},
   "source": []
  },
  {
   "cell_type": "markdown",
   "id": "8215d7da-da0d-49f5-8c0f-3065d3f3f6ba",
   "metadata": {},
   "source": [
    "### 2절. 적합성 검정"
   ]
  },
  {
   "cell_type": "markdown",
   "id": "823f75c4-41f5-41dd-9428-a301ce8e2542",
   "metadata": {},
   "source": [
    "#### [Problem] 적합도 검정\n",
    "- survey 데이터에서 W.Hnd 변수는 설문 응답자가 왼손잡이(Left) 인지 오른손잡이(Right) 인지를 나타낸다.\n",
    "- W.Hnd 변수에 대한 분할표를 생성하고, 아래와 같은 가설에 대한 적합도 검정을 수행하라.\n",
    "-\n",
    "- 귀무가설 : 전체 응답자 중 왼손잡이의 비율이 20%, 오른손잡이의 비율이 80%이다.\n",
    "- 대립가설 : 전체 응답자 중 왼손잡이의 비율이 20%, 오른손잡이의 비율이 80%라고 할 수 없다."
   ]
  },
  {
   "cell_type": "code",
   "execution_count": 18,
   "id": "55f57369-2abc-42ef-92c2-f680f142e143",
   "metadata": {},
   "outputs": [
    {
     "data": {
      "text/html": [
       "<div>\n",
       "<style scoped>\n",
       "    .dataframe tbody tr th:only-of-type {\n",
       "        vertical-align: middle;\n",
       "    }\n",
       "\n",
       "    .dataframe tbody tr th {\n",
       "        vertical-align: top;\n",
       "    }\n",
       "\n",
       "    .dataframe thead th {\n",
       "        text-align: right;\n",
       "    }\n",
       "</style>\n",
       "<table border=\"1\" class=\"dataframe\">\n",
       "  <thead>\n",
       "    <tr style=\"text-align: right;\">\n",
       "      <th></th>\n",
       "      <th>Sex</th>\n",
       "      <th>Wr.Hnd</th>\n",
       "      <th>NW.Hnd</th>\n",
       "      <th>W.Hnd</th>\n",
       "      <th>Fold</th>\n",
       "      <th>Pulse</th>\n",
       "      <th>Clap</th>\n",
       "      <th>Exer</th>\n",
       "      <th>Smoke</th>\n",
       "      <th>Height</th>\n",
       "      <th>M.I</th>\n",
       "      <th>Age</th>\n",
       "    </tr>\n",
       "  </thead>\n",
       "  <tbody>\n",
       "    <tr>\n",
       "      <th>1</th>\n",
       "      <td>Female</td>\n",
       "      <td>18.5</td>\n",
       "      <td>18.0</td>\n",
       "      <td>Right</td>\n",
       "      <td>R on L</td>\n",
       "      <td>92.0</td>\n",
       "      <td>Left</td>\n",
       "      <td>Some</td>\n",
       "      <td>Never</td>\n",
       "      <td>173.0</td>\n",
       "      <td>Metric</td>\n",
       "      <td>18.250</td>\n",
       "    </tr>\n",
       "    <tr>\n",
       "      <th>2</th>\n",
       "      <td>Male</td>\n",
       "      <td>19.5</td>\n",
       "      <td>20.5</td>\n",
       "      <td>Left</td>\n",
       "      <td>R on L</td>\n",
       "      <td>104.0</td>\n",
       "      <td>Left</td>\n",
       "      <td>None</td>\n",
       "      <td>Regul</td>\n",
       "      <td>177.8</td>\n",
       "      <td>Imperial</td>\n",
       "      <td>17.583</td>\n",
       "    </tr>\n",
       "    <tr>\n",
       "      <th>3</th>\n",
       "      <td>Male</td>\n",
       "      <td>18.0</td>\n",
       "      <td>13.3</td>\n",
       "      <td>Right</td>\n",
       "      <td>L on R</td>\n",
       "      <td>87.0</td>\n",
       "      <td>Neither</td>\n",
       "      <td>None</td>\n",
       "      <td>Occas</td>\n",
       "      <td>NaN</td>\n",
       "      <td>NaN</td>\n",
       "      <td>16.917</td>\n",
       "    </tr>\n",
       "    <tr>\n",
       "      <th>4</th>\n",
       "      <td>Male</td>\n",
       "      <td>18.8</td>\n",
       "      <td>18.9</td>\n",
       "      <td>Right</td>\n",
       "      <td>R on L</td>\n",
       "      <td>NaN</td>\n",
       "      <td>Neither</td>\n",
       "      <td>None</td>\n",
       "      <td>Never</td>\n",
       "      <td>160.0</td>\n",
       "      <td>Metric</td>\n",
       "      <td>20.333</td>\n",
       "    </tr>\n",
       "    <tr>\n",
       "      <th>5</th>\n",
       "      <td>Male</td>\n",
       "      <td>20.0</td>\n",
       "      <td>20.0</td>\n",
       "      <td>Right</td>\n",
       "      <td>Neither</td>\n",
       "      <td>35.0</td>\n",
       "      <td>Right</td>\n",
       "      <td>Some</td>\n",
       "      <td>Never</td>\n",
       "      <td>165.0</td>\n",
       "      <td>Metric</td>\n",
       "      <td>23.667</td>\n",
       "    </tr>\n",
       "    <tr>\n",
       "      <th>...</th>\n",
       "      <td>...</td>\n",
       "      <td>...</td>\n",
       "      <td>...</td>\n",
       "      <td>...</td>\n",
       "      <td>...</td>\n",
       "      <td>...</td>\n",
       "      <td>...</td>\n",
       "      <td>...</td>\n",
       "      <td>...</td>\n",
       "      <td>...</td>\n",
       "      <td>...</td>\n",
       "      <td>...</td>\n",
       "    </tr>\n",
       "    <tr>\n",
       "      <th>233</th>\n",
       "      <td>Female</td>\n",
       "      <td>18.0</td>\n",
       "      <td>18.0</td>\n",
       "      <td>Right</td>\n",
       "      <td>L on R</td>\n",
       "      <td>85.0</td>\n",
       "      <td>Right</td>\n",
       "      <td>Some</td>\n",
       "      <td>Never</td>\n",
       "      <td>165.1</td>\n",
       "      <td>Imperial</td>\n",
       "      <td>17.667</td>\n",
       "    </tr>\n",
       "    <tr>\n",
       "      <th>234</th>\n",
       "      <td>Female</td>\n",
       "      <td>18.5</td>\n",
       "      <td>18.0</td>\n",
       "      <td>Right</td>\n",
       "      <td>L on R</td>\n",
       "      <td>88.0</td>\n",
       "      <td>Right</td>\n",
       "      <td>Some</td>\n",
       "      <td>Never</td>\n",
       "      <td>160.0</td>\n",
       "      <td>Metric</td>\n",
       "      <td>16.917</td>\n",
       "    </tr>\n",
       "    <tr>\n",
       "      <th>235</th>\n",
       "      <td>Female</td>\n",
       "      <td>17.5</td>\n",
       "      <td>16.5</td>\n",
       "      <td>Right</td>\n",
       "      <td>R on L</td>\n",
       "      <td>NaN</td>\n",
       "      <td>Right</td>\n",
       "      <td>Some</td>\n",
       "      <td>Never</td>\n",
       "      <td>170.0</td>\n",
       "      <td>Metric</td>\n",
       "      <td>18.583</td>\n",
       "    </tr>\n",
       "    <tr>\n",
       "      <th>236</th>\n",
       "      <td>Male</td>\n",
       "      <td>21.0</td>\n",
       "      <td>21.5</td>\n",
       "      <td>Right</td>\n",
       "      <td>R on L</td>\n",
       "      <td>90.0</td>\n",
       "      <td>Right</td>\n",
       "      <td>Some</td>\n",
       "      <td>Never</td>\n",
       "      <td>183.0</td>\n",
       "      <td>Metric</td>\n",
       "      <td>17.167</td>\n",
       "    </tr>\n",
       "    <tr>\n",
       "      <th>237</th>\n",
       "      <td>Female</td>\n",
       "      <td>17.6</td>\n",
       "      <td>17.3</td>\n",
       "      <td>Right</td>\n",
       "      <td>R on L</td>\n",
       "      <td>85.0</td>\n",
       "      <td>Right</td>\n",
       "      <td>Freq</td>\n",
       "      <td>Never</td>\n",
       "      <td>168.5</td>\n",
       "      <td>Metric</td>\n",
       "      <td>17.750</td>\n",
       "    </tr>\n",
       "  </tbody>\n",
       "</table>\n",
       "<p>237 rows × 12 columns</p>\n",
       "</div>"
      ],
      "text/plain": [
       "        Sex  Wr.Hnd  NW.Hnd  W.Hnd     Fold  Pulse     Clap  Exer  Smoke  \\\n",
       "1    Female    18.5    18.0  Right   R on L   92.0     Left  Some  Never   \n",
       "2      Male    19.5    20.5   Left   R on L  104.0     Left  None  Regul   \n",
       "3      Male    18.0    13.3  Right   L on R   87.0  Neither  None  Occas   \n",
       "4      Male    18.8    18.9  Right   R on L    NaN  Neither  None  Never   \n",
       "5      Male    20.0    20.0  Right  Neither   35.0    Right  Some  Never   \n",
       "..      ...     ...     ...    ...      ...    ...      ...   ...    ...   \n",
       "233  Female    18.0    18.0  Right   L on R   85.0    Right  Some  Never   \n",
       "234  Female    18.5    18.0  Right   L on R   88.0    Right  Some  Never   \n",
       "235  Female    17.5    16.5  Right   R on L    NaN    Right  Some  Never   \n",
       "236    Male    21.0    21.5  Right   R on L   90.0    Right  Some  Never   \n",
       "237  Female    17.6    17.3  Right   R on L   85.0    Right  Freq  Never   \n",
       "\n",
       "     Height       M.I     Age  \n",
       "1     173.0    Metric  18.250  \n",
       "2     177.8  Imperial  17.583  \n",
       "3       NaN       NaN  16.917  \n",
       "4     160.0    Metric  20.333  \n",
       "5     165.0    Metric  23.667  \n",
       "..      ...       ...     ...  \n",
       "233   165.1  Imperial  17.667  \n",
       "234   160.0    Metric  16.917  \n",
       "235   170.0    Metric  18.583  \n",
       "236   183.0    Metric  17.167  \n",
       "237   168.5    Metric  17.750  \n",
       "\n",
       "[237 rows x 12 columns]"
      ]
     },
     "execution_count": 18,
     "metadata": {},
     "output_type": "execute_result"
    }
   ],
   "source": [
    "df_survey = pd.read_csv( 'C:/Users/Administrator/GitHub/TIL/ADP_study/rawdata/survey.csv',\n",
    "                         index_col = 'Unnamed: 0' )\n",
    "\n",
    "df_survey"
   ]
  },
  {
   "cell_type": "code",
   "execution_count": 29,
   "id": "a51a21d8-a316-4697-85a5-4944248e5aa5",
   "metadata": {},
   "outputs": [
    {
     "ename": "TypeError",
     "evalue": "crosstab() missing 1 required positional argument: 'columns'",
     "output_type": "error",
     "traceback": [
      "\u001b[1;31m---------------------------------------------------------------------------\u001b[0m",
      "\u001b[1;31mTypeError\u001b[0m                                 Traceback (most recent call last)",
      "\u001b[1;32m<ipython-input-29-579170c462e0>\u001b[0m in \u001b[0;36m<module>\u001b[1;34m\u001b[0m\n\u001b[1;32m----> 1\u001b[1;33m \u001b[0mpd\u001b[0m\u001b[1;33m.\u001b[0m\u001b[0mcrosstab\u001b[0m\u001b[1;33m(\u001b[0m \u001b[0mdf_survey\u001b[0m\u001b[1;33m[\u001b[0m\u001b[1;34m'W.Hnd'\u001b[0m\u001b[1;33m]\u001b[0m \u001b[1;33m)\u001b[0m\u001b[1;33m\u001b[0m\u001b[1;33m\u001b[0m\u001b[0m\n\u001b[0m",
      "\u001b[1;31mTypeError\u001b[0m: crosstab() missing 1 required positional argument: 'columns'"
     ]
    }
   ],
   "source": [
    "pd.crosstab( df_survey['W.Hnd'] )"
   ]
  },
  {
   "cell_type": "code",
   "execution_count": 8,
   "id": "99b1447e-1b30-4dbe-872a-b5cff9878513",
   "metadata": {},
   "outputs": [
    {
     "ename": "TypeError",
     "evalue": "crosstab() missing 1 required positional argument: 'columns'",
     "output_type": "error",
     "traceback": [
      "\u001b[1;31m---------------------------------------------------------------------------\u001b[0m",
      "\u001b[1;31mTypeError\u001b[0m                                 Traceback (most recent call last)",
      "\u001b[1;32m<ipython-input-8-70a6cdada6bc>\u001b[0m in \u001b[0;36m<module>\u001b[1;34m\u001b[0m\n\u001b[0;32m      4\u001b[0m \u001b[1;31m## 대립가설(H1) : 전체 응답자 중 왼손잡이의 비율이 20%, 오른손잡이의 비율이 80%라고 할 수 없다.\u001b[0m\u001b[1;33m\u001b[0m\u001b[1;33m\u001b[0m\u001b[1;33m\u001b[0m\u001b[0m\n\u001b[0;32m      5\u001b[0m \u001b[1;33m\u001b[0m\u001b[0m\n\u001b[1;32m----> 6\u001b[1;33m \u001b[0mpd\u001b[0m\u001b[1;33m.\u001b[0m\u001b[0mcrosstab\u001b[0m\u001b[1;33m(\u001b[0m\u001b[0mdf_survey\u001b[0m\u001b[1;33m[\u001b[0m\u001b[1;34m'W.Hnd'\u001b[0m\u001b[1;33m]\u001b[0m\u001b[1;33m)\u001b[0m\u001b[1;33m\u001b[0m\u001b[1;33m\u001b[0m\u001b[0m\n\u001b[0m",
      "\u001b[1;31mTypeError\u001b[0m: crosstab() missing 1 required positional argument: 'columns'"
     ]
    }
   ],
   "source": [
    "# 적합성 검정\n",
    "\n",
    "## 귀무가설(H0) : 전체 응답자 중 왼손잡이의 비율이 20%, 오른손잡이의 비율이 80%이다.\n",
    "## 대립가설(H1) : 전체 응답자 중 왼손잡이의 비율이 20%, 오른손잡이의 비율이 80%라고 할 수 없다.\n",
    "\n",
    "\n",
    "pd.crosstab(df_survey['W.Hnd'])"
   ]
  },
  {
   "cell_type": "code",
   "execution_count": 17,
   "id": "fbdfe518-64a8-4348-b54f-af5ee116420a",
   "metadata": {},
   "outputs": [
    {
     "data": {
      "text/html": [
       "<div>\n",
       "<style scoped>\n",
       "    .dataframe tbody tr th:only-of-type {\n",
       "        vertical-align: middle;\n",
       "    }\n",
       "\n",
       "    .dataframe tbody tr th {\n",
       "        vertical-align: top;\n",
       "    }\n",
       "\n",
       "    .dataframe thead th {\n",
       "        text-align: right;\n",
       "    }\n",
       "</style>\n",
       "<table border=\"1\" class=\"dataframe\">\n",
       "  <thead>\n",
       "    <tr style=\"text-align: right;\">\n",
       "      <th></th>\n",
       "      <th>regiment</th>\n",
       "      <th>company</th>\n",
       "      <th>experience</th>\n",
       "      <th>name</th>\n",
       "      <th>preTestScore</th>\n",
       "      <th>postTestScore</th>\n",
       "    </tr>\n",
       "  </thead>\n",
       "  <tbody>\n",
       "    <tr>\n",
       "      <th>0</th>\n",
       "      <td>Nighthawks</td>\n",
       "      <td>infantry</td>\n",
       "      <td>veteran</td>\n",
       "      <td>Miller</td>\n",
       "      <td>4</td>\n",
       "      <td>25</td>\n",
       "    </tr>\n",
       "    <tr>\n",
       "      <th>1</th>\n",
       "      <td>Nighthawks</td>\n",
       "      <td>infantry</td>\n",
       "      <td>rookie</td>\n",
       "      <td>Jacobson</td>\n",
       "      <td>24</td>\n",
       "      <td>94</td>\n",
       "    </tr>\n",
       "    <tr>\n",
       "      <th>2</th>\n",
       "      <td>Nighthawks</td>\n",
       "      <td>cavalry</td>\n",
       "      <td>veteran</td>\n",
       "      <td>Ali</td>\n",
       "      <td>31</td>\n",
       "      <td>57</td>\n",
       "    </tr>\n",
       "    <tr>\n",
       "      <th>3</th>\n",
       "      <td>Nighthawks</td>\n",
       "      <td>cavalry</td>\n",
       "      <td>rookie</td>\n",
       "      <td>Milner</td>\n",
       "      <td>2</td>\n",
       "      <td>62</td>\n",
       "    </tr>\n",
       "    <tr>\n",
       "      <th>4</th>\n",
       "      <td>Dragoons</td>\n",
       "      <td>infantry</td>\n",
       "      <td>veteran</td>\n",
       "      <td>Cooze</td>\n",
       "      <td>3</td>\n",
       "      <td>70</td>\n",
       "    </tr>\n",
       "    <tr>\n",
       "      <th>5</th>\n",
       "      <td>Dragoons</td>\n",
       "      <td>infantry</td>\n",
       "      <td>rookie</td>\n",
       "      <td>Jacon</td>\n",
       "      <td>4</td>\n",
       "      <td>25</td>\n",
       "    </tr>\n",
       "    <tr>\n",
       "      <th>6</th>\n",
       "      <td>Dragoons</td>\n",
       "      <td>cavalry</td>\n",
       "      <td>veteran</td>\n",
       "      <td>Ryaner</td>\n",
       "      <td>24</td>\n",
       "      <td>94</td>\n",
       "    </tr>\n",
       "    <tr>\n",
       "      <th>7</th>\n",
       "      <td>Dragoons</td>\n",
       "      <td>cavalry</td>\n",
       "      <td>rookie</td>\n",
       "      <td>Sone</td>\n",
       "      <td>31</td>\n",
       "      <td>57</td>\n",
       "    </tr>\n",
       "    <tr>\n",
       "      <th>8</th>\n",
       "      <td>Scouts</td>\n",
       "      <td>infantry</td>\n",
       "      <td>veteran</td>\n",
       "      <td>Sloan</td>\n",
       "      <td>2</td>\n",
       "      <td>62</td>\n",
       "    </tr>\n",
       "    <tr>\n",
       "      <th>9</th>\n",
       "      <td>Scouts</td>\n",
       "      <td>infantry</td>\n",
       "      <td>rookie</td>\n",
       "      <td>Piger</td>\n",
       "      <td>3</td>\n",
       "      <td>70</td>\n",
       "    </tr>\n",
       "    <tr>\n",
       "      <th>10</th>\n",
       "      <td>Scouts</td>\n",
       "      <td>cavalry</td>\n",
       "      <td>veteran</td>\n",
       "      <td>Riani</td>\n",
       "      <td>2</td>\n",
       "      <td>62</td>\n",
       "    </tr>\n",
       "    <tr>\n",
       "      <th>11</th>\n",
       "      <td>Scouts</td>\n",
       "      <td>cavalry</td>\n",
       "      <td>rookie</td>\n",
       "      <td>Ali</td>\n",
       "      <td>3</td>\n",
       "      <td>70</td>\n",
       "    </tr>\n",
       "  </tbody>\n",
       "</table>\n",
       "</div>"
      ],
      "text/plain": [
       "      regiment   company experience      name  preTestScore  postTestScore\n",
       "0   Nighthawks  infantry    veteran    Miller             4             25\n",
       "1   Nighthawks  infantry     rookie  Jacobson            24             94\n",
       "2   Nighthawks   cavalry    veteran       Ali            31             57\n",
       "3   Nighthawks   cavalry     rookie    Milner             2             62\n",
       "4     Dragoons  infantry    veteran     Cooze             3             70\n",
       "5     Dragoons  infantry     rookie     Jacon             4             25\n",
       "6     Dragoons   cavalry    veteran    Ryaner            24             94\n",
       "7     Dragoons   cavalry     rookie      Sone            31             57\n",
       "8       Scouts  infantry    veteran     Sloan             2             62\n",
       "9       Scouts  infantry     rookie     Piger             3             70\n",
       "10      Scouts   cavalry    veteran     Riani             2             62\n",
       "11      Scouts   cavalry     rookie       Ali             3             70"
      ]
     },
     "execution_count": 17,
     "metadata": {},
     "output_type": "execute_result"
    }
   ],
   "source": [
    "import pandas as pd\n",
    "raw_data = {'regiment': ['Nighthawks', 'Nighthawks', 'Nighthawks', 'Nighthawks', 'Dragoons', 'Dragoons', 'Dragoons', 'Dragoons', 'Scouts', 'Scouts', 'Scouts', 'Scouts'], \n",
    "        'company': ['infantry', 'infantry', 'cavalry', 'cavalry', 'infantry', 'infantry', 'cavalry', 'cavalry','infantry', 'infantry', 'cavalry', 'cavalry'], \n",
    "        'experience': ['veteran', 'rookie', 'veteran', 'rookie', 'veteran', 'rookie', 'veteran', 'rookie','veteran', 'rookie', 'veteran', 'rookie'],\n",
    "        'name': ['Miller', 'Jacobson', 'Ali', 'Milner', 'Cooze', 'Jacon', 'Ryaner', 'Sone', 'Sloan', 'Piger', 'Riani', 'Ali'], \n",
    "        'preTestScore': [4, 24, 31, 2, 3, 4, 24, 31, 2, 3, 2, 3],\n",
    "        'postTestScore': [25, 94, 57, 62, 70, 25, 94, 57, 62, 70, 62, 70]}\n",
    "df = pd.DataFrame(raw_data, columns = ['regiment', 'company', 'experience', 'name', 'preTestScore', 'postTestScore'])\n",
    "df\n"
   ]
  },
  {
   "cell_type": "code",
   "execution_count": 25,
   "id": "a12030d3-1556-412d-ba03-eef68f1f2dbd",
   "metadata": {},
   "outputs": [
    {
     "data": {
      "text/plain": [
       "1      Right\n",
       "3      Right\n",
       "4      Right\n",
       "5      Right\n",
       "6      Right\n",
       "       ...  \n",
       "233    Right\n",
       "234    Right\n",
       "235    Right\n",
       "236    Right\n",
       "237    Right\n",
       "Name: W.Hnd, Length: 218, dtype: object"
      ]
     },
     "metadata": {},
     "output_type": "display_data"
    },
    {
     "name": "stdout",
     "output_type": "stream",
     "text": [
      "0\n"
     ]
    },
    {
     "data": {
      "text/plain": [
       "2      Left\n",
       "18     Left\n",
       "51     Left\n",
       "60     Left\n",
       "64     Left\n",
       "81     Left\n",
       "90     Left\n",
       "118    Left\n",
       "119    Left\n",
       "124    Left\n",
       "134    Left\n",
       "137    Left\n",
       "145    Left\n",
       "162    Left\n",
       "172    Left\n",
       "176    Left\n",
       "209    Left\n",
       "212    Left\n",
       "Name: W.Hnd, dtype: object"
      ]
     },
     "metadata": {},
     "output_type": "display_data"
    }
   ],
   "source": [
    "\n",
    "\n",
    "Hnd_R = df_survey[ df_survey['W.Hnd'] == 'Right' ]['W.Hnd']\n",
    "\n",
    "Hnd_L = df_survey[ df_survey['W.Hnd'] == 'Left' ]['W.Hnd']\n",
    "\n",
    "display(Hnd_R)\n",
    "print(0)\n",
    "display(Hnd_L)"
   ]
  },
  {
   "cell_type": "code",
   "execution_count": 14,
   "id": "153d859a-27ef-4be8-8c2a-79558f6661fe",
   "metadata": {},
   "outputs": [
    {
     "data": {
      "text/html": [
       "<div>\n",
       "<style scoped>\n",
       "    .dataframe tbody tr th:only-of-type {\n",
       "        vertical-align: middle;\n",
       "    }\n",
       "\n",
       "    .dataframe tbody tr th {\n",
       "        vertical-align: top;\n",
       "    }\n",
       "\n",
       "    .dataframe thead th {\n",
       "        text-align: right;\n",
       "    }\n",
       "</style>\n",
       "<table border=\"1\" class=\"dataframe\">\n",
       "  <thead>\n",
       "    <tr style=\"text-align: right;\">\n",
       "      <th></th>\n",
       "    </tr>\n",
       "  </thead>\n",
       "  <tbody>\n",
       "  </tbody>\n",
       "</table>\n",
       "</div>"
      ],
      "text/plain": [
       "Empty DataFrame\n",
       "Columns: []\n",
       "Index: []"
      ]
     },
     "execution_count": 14,
     "metadata": {},
     "output_type": "execute_result"
    }
   ],
   "source": []
  },
  {
   "cell_type": "raw",
   "id": "4ebcdbd1-64e6-4d2b-869d-bf902deb6a66",
   "metadata": {},
   "source": [
    "- Shapiro-Wilk normality test 결과, P값이 0.000067로 유의수준 0.05 보다 작으므로 귀무가설을 기각한다.\n",
    "- 즉, 데이터가 정규분포를 따르지 않는다."
   ]
  },
  {
   "cell_type": "raw",
   "id": "ef4740be-8e73-4cf4-b0d8-35ff679fb988",
   "metadata": {},
   "source": []
  },
  {
   "cell_type": "raw",
   "id": "af3b67e3-cbb4-4987-b5ab-8917a07b91da",
   "metadata": {},
   "source": [
    "# 정규성 검정(2) Kolmogorov-Smirnov normality test\n",
    "\n",
    "from statsmodels.stats.diagnostic import kstest_normal\n",
    "\n",
    "# stats.kstest( rvs, cdf,\n",
    "#               args = (),  # rvs 또는 cdf 가 문자열이거나 호출 가능한 경우 사용되는 분포 매개변수.\n",
    "#               N = 20,  # rvs 가 문자열이거나 호출 가능한 경우 샘플 크기 지정. 기본값은 20. \n",
    "#               Alternative = 'two-sided',  # 양측/단측 검정 설정. 기본값은 ‘two-sided’\n",
    "#                                           # 양측검정은 ‘two-sided’\n",
    "#                                           # 단측검정은 ‘less’ 또는 ‘greater’\n",
    "#               mode = 'auto' )  # p-값을 계산하는 데 사용되는 분포를 정의. 기본값은 'auto'\n",
    "#                                # 'auto' : 옵션들 중 하나를 선택\n",
    "#                                # 'exact' : 검정 통계량의 정확한 분포를 사용\n",
    "#                                # 'approx' : 단측 확률의 두 배인 양측 확률을 근사\n",
    "#                                # 'asymp': 검정 통계량의 점근 분포를 사용\n",
    "\n",
    "\n",
    "## 귀무가설(H0) : 데이터가 정규분포를 따른다.\n",
    "## 대립가설(H1) : 데이터가 정규분포를 따르지 않는다.\n"
   ]
  },
  {
   "cell_type": "raw",
   "id": "b44d4028-aa8b-4011-b2ae-33301db5c95d",
   "metadata": {},
   "source": [
    "# 정규성 검정(3) Q-Q plot\n",
    "\n",
    "## 귀무가설(H0) : 데이터가 정규분포를 따른다.\n",
    "## 대립가설(H1) : 데이터가 정규분포를 따르지 않는다.\n"
   ]
  },
  {
   "cell_type": "raw",
   "id": "72483f18-16ed-4362-b6e3-41e42e08718d",
   "metadata": {},
   "source": []
  },
  {
   "cell_type": "markdown",
   "id": "a46bfe9a-6f04-489a-9e57-a2090c6d8e28",
   "metadata": {},
   "source": [
    "#### [Problem] 일표본 T-검정\n",
    "- cats 데이터에서 고양이들의 평균몸무게가 2.6kg인지 아닌지에 대한 통계적 검정을 수행하고, 결과를 해석하라."
   ]
  },
  {
   "cell_type": "raw",
   "id": "4751d175-3b0f-493a-95a3-9df79587cb26",
   "metadata": {
    "tags": []
   },
   "source": [
    "- 앞서 진행한 정규성 검정 결과, 정규분포를 따르지 않는다는 결과가 나왔으므로 모수적 검정이 아닌 비모수적 검정을 진행해야 한다.\n",
    "\n",
    "- 비모수적 검정의 예 : 부호 검정 (sign test),\n",
    "                       윌콕슨의 순위합 검정 (Wilcoxon rank sum test),\n",
    "                       윌콕슨의 부호순위합 검정 (Wilcoxon signed rank test),\n",
    "                       만-휘트니 U 검정 (Mann-Whitney U test),\n",
    "                       크러스컬-월리스 H 검정 (Kruskal–Wallis H test),\n",
    "                       런 검정 (run test),\n",
    "                       스피어만의 순위상관계수 (Spearman's Rank Correlation)"
   ]
  },
  {
   "cell_type": "code",
   "execution_count": null,
   "id": "e45b585a-f8f5-486a-805d-f6a5351746ea",
   "metadata": {
    "tags": []
   },
   "outputs": [],
   "source": [
    "# 일표본 T-검정 수행\n",
    "\n",
    "# stats.wilcoxon( x,  # 첫 번째 측정 집합. 1차원이어야 한다.\n",
    "#                     # 1-sample wilcoxon test일 경우 'x - 예상치' 입력\n",
    "#                 y = None,  # 두번째 측정값 집합. 1차원이어야 한다. 기본값은 None\n",
    "#                 zero_method = 'wilcox',  # 기본값은 'wilcox'\n",
    "#                                          # \" Wilcox \": 기본값인 모든 0차를 버립니다.\n",
    "#                                          # \"pratt\": 순위 결정 과정에서 0차를 포함하지만 0의 순위를 떨어뜨립니다.\n",
    "#                                          # \"zsplit\": 순위 프로세스에 0차를 포함하고 0 순위를 양수와 음수 사이에 나눕니다.\n",
    "#                 correction = False,  # 기본값은 False.\n",
    "#                                      # True 로 설정하면, 정규 근사가 사용되는 경우 z-통계량을 계산할 때 \n",
    "#                                       평균값을 향해 Wilcoxon 순위 통계량을 0.5 조정하여 연속성 수정을 적용한다.\n",
    "#                 alternative = 'two-sided',  # 양측/단측 검정 설정. 기본값은 ‘two-sided’\n",
    "#                                             # 양측검정은 ‘two-sided’\n",
    "#                                             # 단측검정은 ‘less’ 또는 ‘greater’\n",
    "#                 mode = 'auto' )  # p-값을 계산하는 데 사용되는 분포를 정의. 기본값은 'auto'\n",
    "#                                  # 'auto' : 옵션들 중 하나를 선택\n",
    "#                                  # 'exact' : 검정 통계량의 정확한 분포를 사용\n",
    "#                                  # 'approx' : 단측 확률의 두 배인 양측 확률을 근사\n",
    "#                                  # 'asymp': 검정 통계량의 점근 분포를 사용\n",
    "\n",
    "\n",
    "## 귀무가설(H0) : 고양이들의 평균 몸무게는 2.6 (kg)이다.\n",
    "## 대립가설(H1) : 고양이들의 평균 몸무게는 2.6 (kg)이 아니다.\n",
    "\n",
    "wilcoxon_cats = stats.wilcoxon( df_cats['Bwt'] - 2.6 )\n",
    "\n",
    "print( 'Statistic(1-sample wilcoxon result): %.3f ,   P-value: %.28f' % wilcoxon_cats )\n",
    "print()"
   ]
  },
  {
   "cell_type": "raw",
   "id": "c38c279d-0146-490b-9dcc-514eb2b75be8",
   "metadata": {},
   "source": [
    "- 1-sample wilcoxon test 결과, P값이 0.02524로 유의수준 0.05 보다 작으므로 귀무가설을 기각한다.\n",
    "- 즉, 고양이들의 평균 몸무개는 2.6 (kg)이 아니다."
   ]
  },
  {
   "cell_type": "raw",
   "id": "4bd0b0d8-159d-4120-9bfc-94927560886b",
   "metadata": {},
   "source": []
  },
  {
   "cell_type": "raw",
   "id": "bcb09a95-1a96-46a1-ba62-1d16923a51c6",
   "metadata": {},
   "source": [
    "※ 졍규성을 만족한다고 가정하고 t-test 를 수행한다면???"
   ]
  },
  {
   "cell_type": "code",
   "execution_count": null,
   "id": "ea2f0a24-3977-4e08-905c-eb3a90fbb8f6",
   "metadata": {},
   "outputs": [],
   "source": [
    "# 단일 표본 t-test 실시\n",
    "\n",
    "## 독립 관측치 a 표본의 기대값(평균)이 주어진 모집단 평균 popmean 과 같다는 귀무 가설에 대한 검정\n",
    "\n",
    "# stats.ttest_1samp( a,  # 검정을 수행할 대상 (배열)\n",
    "#                    popmean,  # 귀무가설의 기대값.\n",
    "#                    axis = 0,  # a 배열에서 검정을 수행할 축 지정. 기본값은 0\n",
    "#                               # axis = None 이면 전체 배열을 계산\n",
    "#                    nan_policy = 'propagate',  # 입력된 데이터에 NaN 값이 포함된 경우의 처리 방법. 기본값은 ‘propagate’\n",
    "#                                               # ‘propagate’ : NaN 을 반환한다.\n",
    "#                                               # ‘raise’: 에러를 발생시킨다.\n",
    "#                                               # ‘omit’: NaN 값을 무시하고 계산 수행\n",
    "#                    Alternative = 'two-sided' )  # 양측/단측 검정 설정. 기본값은 ‘two-sided’\n",
    "#                                                 # 양측검정은 ‘two-sided’\n",
    "#                                                 # 단측검정은 ‘less’ 또는 ‘greater’\n",
    "\n",
    "\n",
    "## 귀무가설(H0) : 고양이들의 평균 몸무게는 2.6 (kg)이다.\n",
    "## 대립가설(H1) : 고양이들의 평균 몸무게는 2.6 (kg)이 아니다.\n",
    "\n",
    "one_t_cats = stats.ttest_1samp( df_cats['Bwt'], 2.6 )\n",
    "\n",
    "print( 'Statistic(t_value) : %.3f ,   P-value : %.28f' % one_t_cats )\n",
    "print()"
   ]
  },
  {
   "cell_type": "code",
   "execution_count": null,
   "id": "b415a294-4d63-4e54-802e-a082a1075efb",
   "metadata": {},
   "outputs": [],
   "source": [
    "# kde(Kerner Density Estimation): 구해진 히스토그램을 정규화한 뒤 확률밀도함수로 사용\n",
    "\n",
    "ax = sb.distplot( df_cats['Bwt'],\n",
    "                  kde = False,    # 가우스 커널 밀도 추정값을 그릴지 여부\n",
    "                  fit = stats.norm,    # 랜덤 변수 객체\n",
    "                  label = \"cats\",\n",
    "                  color = 'blue')\n",
    "\n",
    "ax.set(xlabel = \"The weight for cats\")\n",
    "\n",
    "plt.legend()\n",
    "plt.show()"
   ]
  },
  {
   "cell_type": "raw",
   "id": "abb383ac-9137-4650-ad15-a58191a4fc85",
   "metadata": {},
   "source": []
  },
  {
   "cell_type": "raw",
   "id": "7f72835e-5c89-4bb8-a42b-d2c562446510",
   "metadata": {},
   "source": []
  },
  {
   "cell_type": "markdown",
   "id": "08316bea-b5dd-43d7-a196-829ae6981d1c",
   "metadata": {},
   "source": [
    "### 2절. 대응표본 T-검정 (Paired Sample T-Test)"
   ]
  },
  {
   "cell_type": "markdown",
   "id": "bdc425c7-fce5-4c3f-9af2-3d81a8f46aeb",
   "metadata": {},
   "source": [
    "#### [Problem] Paired Sample T-Test\n",
    "- 10명의 환자를 대상으로 수면영양제를 복용하기 전과 후의 수면시간을 측정하여 영양제의 효과가 있는지를 판단하고자 한다. \n",
    "- 영양제 복용 전과 후의 평균 수면시간에 차이가 있는지를 알아보는데, 단측검정을 수행하여 영양제 복용 후에 수면시간이 더 늘어났는지를 검정해보라.\n",
    "- (표본이 정규성을 만족한다는 가정 하에 단측검정 수행, 유의수준 = 0.05)\n",
    "- ※ 수면 영양제 복용 전 10명 환자들 각각의 수면시간 :  7, 3, 4, 5, 2, 1, 6, 6, 5, 4\n",
    "- ※ 수면 영양제 복용 후 10명 환자들 각각의 수면시간 :  8, 4, 5, 6, 2, 3, 6, 8, 6, 5"
   ]
  },
  {
   "cell_type": "code",
   "execution_count": null,
   "id": "df026719-22e5-402b-8256-07f633896b52",
   "metadata": {},
   "outputs": [],
   "source": [
    "# 데이터를 array 로 생성\n",
    "\n",
    "before = np.array( [7, 3, 4, 5, 2, 1, 6, 6, 5, 4] )\n",
    "after = np.array( [8, 4, 5, 6, 2, 3, 6, 8, 6, 5] )"
   ]
  },
  {
   "cell_type": "code",
   "execution_count": null,
   "id": "9c23d6eb-cea7-4fa0-b31b-7d44e89d5d2f",
   "metadata": {},
   "outputs": [],
   "source": [
    "# 대응표본 T-검정 수행\n",
    "\n",
    "# stats.ttest_rel( a, b,    # a, b 두 배열은 shape 이 같아야 한다.\n",
    "#                  axis = 0,  # a 배열에서 검정을 수행할 축 지정. 기본값은 0\n",
    "#                             # axis = None 이면 전체 배열을 계산\n",
    "#                  nan_policy = 'propagate',  # 입력된 데이터에 NaN 값이 포함된 경우의 처리 방법. 기본값은 ‘propagate’\n",
    "#                                             # ‘propagate’ : NaN 을 반환한다.\n",
    "#                                             # ‘raise’: 에러를 발생시킨다.\n",
    "#                                             # ‘omit’: NaN 값을 무시하고 계산 수행\n",
    "#                  Alternative = 'two-sided' )  # 양측/단측 검정 설정. 기본값은 ‘two-sided’\n",
    "#                                               # 양측검정은 ‘two-sided’\n",
    "#                                               # 단측검정은 ‘less’ 또는 ‘greater’\n",
    "\n",
    "\n",
    "## 귀무가설(H0) : ( 복용 전 평균수면시간 - 복용 후 평균 수면시간 ) = 0\n",
    "## 대립가설(H1) : ( 수면영양제 복용 전 평균수면시간 - 복용 후 평균 수면시간 ) < 0\n",
    "\n",
    "# 단측 검정으로 대응표본 t-test 시행\n",
    "paired_t_test = stats.ttest_rel( before, after,\n",
    "                                 alternative = 'less')\n",
    "\n",
    "print('Statistic(t-Value) : %.3f \\n           P-value : %.6f' % paired_t_test)\n",
    "print()"
   ]
  },
  {
   "cell_type": "raw",
   "id": "61ac794e-83d5-41a4-ad31-412c5e8da960",
   "metadata": {},
   "source": [
    "- Paired Sample T-Test 결과, P값이 0.000527로 유의수준 0.05 보다 작으므로 귀무가설을 기각한다.\n",
    "- 즉, 수면영양제 복용 전/후의 평균 수면시간의 차이는 통계적으로 유의하며, 복용 후 수면시간이 늘었다고 말할 수 있다."
   ]
  },
  {
   "cell_type": "code",
   "execution_count": null,
   "id": "553088c4-3bbe-46af-b1af-1776595782a8",
   "metadata": {},
   "outputs": [],
   "source": [
    "# 평균\n",
    "diff_result = before - after\n",
    "print( diff_result.mean() )\n",
    "print()"
   ]
  },
  {
   "cell_type": "code",
   "execution_count": null,
   "id": "5ea9202e-4f35-4302-8d3f-74673c4b0c2c",
   "metadata": {},
   "outputs": [],
   "source": [
    "plt.figure(figsize=(16,12))\n",
    "\n",
    "ax1 = plt.subplot(221)\n",
    "ax1 = sb.distplot(before, kde=False, fit=stats.gamma, label=\"before\", color = 'blue')\n",
    "ax1.set(xlabel = \"sleep time\", title = \"sleep time, Before\")\n",
    "plt.legend()\n",
    "\n",
    "ax2 = plt.subplot(222)\n",
    "ax2 = sb.distplot(after, kde=False, fit=stats.gamma, label=\"after\", color = 'red')\n",
    "ax2.set(xlabel = \"sleep time\", title = \"sleep time, After\")\n",
    "\n",
    "plt.legend()\n",
    "plt.show()"
   ]
  },
  {
   "cell_type": "code",
   "execution_count": null,
   "id": "f3457f44-6cc2-4c81-bc39-f13bb12c6af1",
   "metadata": {},
   "outputs": [],
   "source": [
    "ax3 = plt.subplots()\n",
    "ax3 = sb.distplot(before, kde=False, fit=stats.gamma, label=\"before\",color = 'blue')\n",
    "ax3 = sb.distplot(after, kde=False, fit=stats.gamma, label=\"after\", color = 'red')\n",
    "ax3.set(xlabel = \"sleep time\", title = \"sleep time, Before vs After\")\n",
    "\n",
    "plt.legend()\n",
    "plt.show()"
   ]
  },
  {
   "cell_type": "raw",
   "id": "bce6c5d3-7f03-45e1-a17e-09bc8309cac0",
   "metadata": {},
   "source": []
  },
  {
   "cell_type": "raw",
   "id": "fa093aee-0b0d-40d7-bb13-cdcdee786021",
   "metadata": {},
   "source": []
  },
  {
   "cell_type": "markdown",
   "id": "1febd3db-d72d-416d-9dbb-8ebe7d0895e2",
   "metadata": {},
   "source": [
    "### 3절. 독립표본 T-검정 (Independent Sample T-Test)"
   ]
  },
  {
   "cell_type": "markdown",
   "id": "4081e01a-fcdc-4295-8d49-1ed37b824637",
   "metadata": {},
   "source": [
    "#### [Problem] Independent Sample T-Test\n",
    "- MASS패키지의 cats 데이터는 고양이들의 성별(Sex 변수), 몸무게(Bwt 변수), 심장의 무게(Hwt 변수)를 담고있다. 고양이들의 성별(Sex)에 따른 몸무게(Bwt)의 평균은 통계적으로 다르다고 할 수 있는지에 대한 검정을 수행하고, 결과를 해석하라."
   ]
  },
  {
   "cell_type": "code",
   "execution_count": null,
   "id": "44d95e80-8992-48df-8d42-b669020cc3a3",
   "metadata": {},
   "outputs": [],
   "source": [
    "df_cats = pd.read_csv('C:/Users/Administrator/GitHub/TIL/ADP_study/rawdata/cats.csv',\n",
    "                       index_col = 'Unnamed: 0')\n",
    "\n",
    "df_cats"
   ]
  },
  {
   "cell_type": "code",
   "execution_count": null,
   "id": "38dbd17a-825f-45bb-8c42-ed73df491052",
   "metadata": {
    "tags": []
   },
   "outputs": [],
   "source": [
    "cats_bwt_m = df_cats[ df_cats['Sex'] == 'M' ]['Bwt']\n",
    "\n",
    "cats_bwt_f = df_cats[ df_cats['Sex'] == 'F' ]['Bwt']\n",
    "\n",
    "print('< cats_Bwt_M >')\n",
    "display( cats_bwt_m.head() )\n",
    "print()\n",
    "display( cats_bwt_m.describe() )\n",
    "print('\\n')\n",
    "print('< cats_Bwt_F >')\n",
    "display( cats_bwt_f.head() )\n",
    "print()\n",
    "display( cats_bwt_f.describe() )"
   ]
  },
  {
   "cell_type": "code",
   "execution_count": null,
   "id": "083ba880-a9c6-4518-82c9-f937debba0e9",
   "metadata": {},
   "outputs": [],
   "source": [
    "# 등분산 검정(1) Bartlett's Test\n",
    "\n",
    "# stats.bartlett( sample1, sample2,… )\n",
    "\n",
    "\n",
    "## 귀무가설(H0) : 두 집단의 분산이 동일하다.\n",
    "## 대립가설(H1) : 두 집단의 분산이 동일하지 않다.\n",
    "\n",
    "bartlett_test = stats.bartlett( cats_bwt_m, cats_bwt_f )\n",
    "\n",
    "print( \"Statistic(Bartlett's test) : %.3f \\n                   P-value : %.6f\" % bartlett_test )\n",
    "print()"
   ]
  },
  {
   "cell_type": "code",
   "execution_count": null,
   "id": "367e3f03-16bc-437b-8730-9e18bd668c3b",
   "metadata": {},
   "outputs": [],
   "source": [
    "# 등분산 검정(2) Fligner’s Test\n",
    "\n",
    "# stats.fligner( sample1, sample2,…,\n",
    "#                center = 'median',\n",
    "#                proportiontocut = 0.05 )\n",
    "\n",
    "\n",
    "## 귀무가설(H0) : 두 집단의 분산이 동일하다.\n",
    "## 대립가설(H1) : 두 집단의 분산이 동일하지 않다.\n",
    "\n",
    "fligner_test = stats.fligner( cats_bwt_m, cats_bwt_f,\n",
    "                              center = 'median',\n",
    "                              proportiontocut = 0.05 )\n",
    "\n",
    "print( \"Statistic(Fligner’s Test) : %.3f \\n                  P-value : %.6f\" % fligner_test )\n",
    "print()"
   ]
  },
  {
   "cell_type": "code",
   "execution_count": null,
   "id": "4728a889-c8a0-4480-b2a2-7721a55180bf",
   "metadata": {},
   "outputs": [],
   "source": [
    "# 등분산 검정(3) Levene's Test\n",
    "\n",
    "# stats.levene( sample1, sample2,…,\n",
    "#               center = 'median',\n",
    "#               proportiontocut = 0.05 )\n",
    "\n",
    "\n",
    "## 귀무가설(H0) : 두 집단의 분산이 동일하다.\n",
    "## 대립가설(H1) : 두 집단의 분산이 동일하지 않다.\n",
    "\n",
    "levene_test = stats.levene( cats_bwt_m, cats_bwt_f,\n",
    "                            center = 'median',\n",
    "                            proportiontocut = 0.05 )\n",
    "\n",
    "print(\"Statistic(Levene's Test) : %.3f \\n                 P-value : %.6f\" % levene_test )\n",
    "print()"
   ]
  },
  {
   "cell_type": "raw",
   "id": "f1f7758d-a069-4e34-8911-9ccb55aba588",
   "metadata": {},
   "source": [
    "- 3가지의 등분산 검정 결과 모두 P값이 유의수준 0.05 보다 작으므로 귀무가설을 기각한다.\n",
    "- 즉, 두 집단의 분산은 동일하지 않으므로 등분산 가정을 만족한다고 할 수 없다."
   ]
  },
  {
   "cell_type": "raw",
   "id": "0a058757-05bd-4b4c-b6e8-c8625aa91e91",
   "metadata": {},
   "source": []
  },
  {
   "cell_type": "code",
   "execution_count": null,
   "id": "1d231ff9-6e19-4d56-b5eb-a104a56fe3a7",
   "metadata": {},
   "outputs": [],
   "source": [
    "# 독립표본 T-검정"
   ]
  },
  {
   "cell_type": "code",
   "execution_count": null,
   "id": "e27d6dd5-616b-48d4-a3a4-d11ffe7854fa",
   "metadata": {},
   "outputs": [],
   "source": [
    "\n",
    "\n",
    "\n",
    "\n",
    "# 독립 표본 t 검정, equal_var = True 분산차이는 없다\n",
    "indepen_t_test = stats.ttest_ind( cats_bwt_m, cats_bwt_f,\n",
    "                                  alternative = 'two-sided',\n",
    "                                  equal_var = False )\n",
    "\n",
    "print('Statistic(t-Value) : %.3f \\n           P-value : %.28f' % indepen_t_test)"
   ]
  },
  {
   "cell_type": "code",
   "execution_count": null,
   "id": "9e567644-1c46-4942-b5d9-27515e0cbd99",
   "metadata": {},
   "outputs": [],
   "source": []
  }
 ],
 "metadata": {
  "kernelspec": {
   "display_name": "Python 3",
   "language": "python",
   "name": "python3"
  },
  "language_info": {
   "codemirror_mode": {
    "name": "ipython",
    "version": 3
   },
   "file_extension": ".py",
   "mimetype": "text/x-python",
   "name": "python",
   "nbconvert_exporter": "python",
   "pygments_lexer": "ipython3",
   "version": "3.8.8"
  }
 },
 "nbformat": 4,
 "nbformat_minor": 5
}
