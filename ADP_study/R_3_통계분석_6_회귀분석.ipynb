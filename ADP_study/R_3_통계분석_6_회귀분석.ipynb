{
 "cells": [
  {
   "cell_type": "markdown",
   "id": "e467f2b1-e13f-4478-a2ca-6530334671f4",
   "metadata": {},
   "source": [
    "# [ PART 03. 통계분석 ] - 6장. 회귀분석"
   ]
  },
  {
   "cell_type": "markdown",
   "id": "06af708e-6cb2-4529-a0bc-22d172961f99",
   "metadata": {},
   "source": [
    "## 단순선형회귀분석"
   ]
  },
  {
   "cell_type": "raw",
   "id": "0738c638-dae1-4c09-b553-9234e4f5793c",
   "metadata": {},
   "source": [
    "[Problem]\n",
    "- Cars93 데이터의 엔진크기(EngineSize)를 독립변수, 가격(Price)를 종속변수로 설정하여 단순 선형 회귀분석을 실시한 후 추정된 회귀모형에 대해 해석하라."
   ]
  },
  {
   "cell_type": "code",
   "execution_count": 1,
   "id": "551d2688-6831-444c-8b3e-cdbd20aad5ab",
   "metadata": {},
   "outputs": [
    {
     "name": "stdout",
     "output_type": "stream",
     "text": [
      "'data.frame':\t93 obs. of  27 variables:\n",
      " $ Manufacturer      : Factor w/ 32 levels \"Acura\",\"Audi\",..: 1 1 2 2 3 4 4 4 4 5 ...\n",
      " $ Model             : Factor w/ 93 levels \"100\",\"190E\",\"240\",..: 49 56 9 1 6 24 54 74 73 35 ...\n",
      " $ Type              : Factor w/ 6 levels \"Compact\",\"Large\",..: 4 3 1 3 3 3 2 2 3 2 ...\n",
      " $ Min.Price         : num  12.9 29.2 25.9 30.8 23.7 14.2 19.9 22.6 26.3 33 ...\n",
      " $ Price             : num  15.9 33.9 29.1 37.7 30 15.7 20.8 23.7 26.3 34.7 ...\n",
      " $ Max.Price         : num  18.8 38.7 32.3 44.6 36.2 17.3 21.7 24.9 26.3 36.3 ...\n",
      " $ MPG.city          : int  25 18 20 19 22 22 19 16 19 16 ...\n",
      " $ MPG.highway       : int  31 25 26 26 30 31 28 25 27 25 ...\n",
      " $ AirBags           : Factor w/ 3 levels \"Driver & Passenger\",..: 3 1 2 1 2 2 2 2 2 2 ...\n",
      " $ DriveTrain        : Factor w/ 3 levels \"4WD\",\"Front\",..: 2 2 2 2 3 2 2 3 2 2 ...\n",
      " $ Cylinders         : Factor w/ 6 levels \"3\",\"4\",\"5\",\"6\",..: 2 4 4 4 2 2 4 4 4 5 ...\n",
      " $ EngineSize        : num  1.8 3.2 2.8 2.8 3.5 2.2 3.8 5.7 3.8 4.9 ...\n",
      " $ Horsepower        : int  140 200 172 172 208 110 170 180 170 200 ...\n",
      " $ RPM               : int  6300 5500 5500 5500 5700 5200 4800 4000 4800 4100 ...\n",
      " $ Rev.per.mile      : int  2890 2335 2280 2535 2545 2565 1570 1320 1690 1510 ...\n",
      " $ Man.trans.avail   : Factor w/ 2 levels \"No\",\"Yes\": 2 2 2 2 2 1 1 1 1 1 ...\n",
      " $ Fuel.tank.capacity: num  13.2 18 16.9 21.1 21.1 16.4 18 23 18.8 18 ...\n",
      " $ Passengers        : int  5 5 5 6 4 6 6 6 5 6 ...\n",
      " $ Length            : int  177 195 180 193 186 189 200 216 198 206 ...\n",
      " $ Wheelbase         : int  102 115 102 106 109 105 111 116 108 114 ...\n",
      " $ Width             : int  68 71 67 70 69 69 74 78 73 73 ...\n",
      " $ Turn.circle       : int  37 38 37 37 39 41 42 45 41 43 ...\n",
      " $ Rear.seat.room    : num  26.5 30 28 31 27 28 30.5 30.5 26.5 35 ...\n",
      " $ Luggage.room      : int  11 15 14 17 13 16 17 21 14 18 ...\n",
      " $ Weight            : int  2705 3560 3375 3405 3640 2880 3470 4105 3495 3620 ...\n",
      " $ Origin            : Factor w/ 2 levels \"USA\",\"non-USA\": 2 2 2 2 2 1 1 1 1 1 ...\n",
      " $ Make              : Factor w/ 93 levels \"Acura Integra\",..: 1 2 4 3 5 6 7 9 8 10 ...\n"
     ]
    }
   ],
   "source": [
    "# 데이터 로드 및 확인\n",
    "library(MASS)\n",
    "data(\"Cars93\")\n",
    "str(Cars93)"
   ]
  },
  {
   "cell_type": "code",
   "execution_count": 2,
   "id": "acd64380-f550-45f1-8ae4-9b47f76ddeb4",
   "metadata": {},
   "outputs": [
    {
     "data": {
      "text/plain": [
       "\n",
       "Call:\n",
       "lm(formula = Price ~ EngineSize, data = Cars93)\n",
       "\n",
       "Coefficients:\n",
       "(Intercept)   EngineSize  \n",
       "      4.669        5.563  \n"
      ]
     },
     "metadata": {},
     "output_type": "display_data"
    }
   ],
   "source": [
    "# 단순 선형 회귀모형 생성\n",
    "lm(Price~EngineSize, Cars93)"
   ]
  },
  {
   "cell_type": "code",
   "execution_count": 3,
   "id": "2d1a9cb4-bec3-421f-ae28-3631949b8d5a",
   "metadata": {},
   "outputs": [
    {
     "data": {
      "text/plain": [
       "\n",
       "Call:\n",
       "lm(formula = Price ~ EngineSize, data = Cars93)\n",
       "\n",
       "Residuals:\n",
       "    Min      1Q  Median      3Q     Max \n",
       "-13.684  -4.627  -1.795   2.592  39.429 \n",
       "\n",
       "Coefficients:\n",
       "            Estimate Std. Error t value Pr(>|t|)    \n",
       "(Intercept)   4.6692     2.2390   2.085   0.0398 *  \n",
       "EngineSize    5.5629     0.7828   7.107 2.59e-10 ***\n",
       "---\n",
       "Signif. codes:  0 '***' 0.001 '**' 0.01 '*' 0.05 '.' 0.1 ' ' 1\n",
       "\n",
       "Residual standard error: 7.789 on 91 degrees of freedom\n",
       "Multiple R-squared:  0.3569,\tAdjusted R-squared:  0.3499 \n",
       "F-statistic: 50.51 on 1 and 91 DF,  p-value: 2.588e-10\n"
      ]
     },
     "metadata": {},
     "output_type": "display_data"
    }
   ],
   "source": [
    "# 모형 살펴보기 : summary() 이용\n",
    "# summary() : 주어진 인자에 대한 요약 정보 산출\n",
    "Cars93_lm <- lm(Price~EngineSize, Cars93)\n",
    "summary(Cars93_lm)"
   ]
  },
  {
   "cell_type": "code",
   "execution_count": null,
   "id": "b0d43ec8-2992-4960-986b-bf559ace6af7",
   "metadata": {},
   "outputs": [],
   "source": []
  },
  {
   "cell_type": "code",
   "execution_count": 6,
   "id": "a7bc77b5-c4fe-4663-8f76-f0c841b043cf",
   "metadata": {},
   "outputs": [
    {
     "data": {
      "image/png": "[encoded data removed]",
      "text/plain": [
       "Plot with title \"\""
      ]
     },
     "metadata": {},
     "output_type": "display_data"
    }
   ],
   "source": [
    "##### 4. R을 이용한 선형회귀모형 진단\n",
    "## Q) 위 예제에서 생성한 선형회귀모델 Cars93_lm을 평가할 수 있는 \n",
    "## 다양한 그래프를 생성한 후 해석해보자.\n",
    "\n",
    "##===== A)\n",
    "# 2x3 형태로 그래프를 배치하기 위해 화면 조정 \n",
    "par(mfrow=c(3,2))\n",
    "\n",
    "# 그래프 생성\n",
    "plot(Cars93_lm, which=c(1:6))"
   ]
  },
  {
   "cell_type": "code",
   "execution_count": null,
   "id": "350f3ad6-8b7b-412c-a2c6-cfc689c9f6ed",
   "metadata": {},
   "outputs": [],
   "source": []
  },
  {
   "cell_type": "code",
   "execution_count": null,
   "id": "fe0c768a-820c-4079-95a9-c9868aaa9cbc",
   "metadata": {},
   "outputs": [],
   "source": []
  },
  {
   "cell_type": "code",
   "execution_count": null,
   "id": "a4c04230-b2fb-4a2c-9bbe-76974a6f9100",
   "metadata": {},
   "outputs": [],
   "source": []
  },
  {
   "cell_type": "code",
   "execution_count": null,
   "id": "e6503631-7f0b-476d-9701-45655619b802",
   "metadata": {},
   "outputs": [],
   "source": []
  },
  {
   "cell_type": "code",
   "execution_count": null,
   "id": "df8b5692-b3e5-4cd2-8183-06ca9764f4d1",
   "metadata": {},
   "outputs": [],
   "source": []
  },
  {
   "cell_type": "code",
   "execution_count": null,
   "id": "da5a3e06-1106-4580-b002-c82692cef293",
   "metadata": {},
   "outputs": [],
   "source": []
  },
  {
   "cell_type": "code",
   "execution_count": null,
   "id": "7317c948-ab83-4dc6-a4f6-a701a6bdf724",
   "metadata": {},
   "outputs": [],
   "source": []
  },
  {
   "cell_type": "code",
   "execution_count": null,
   "id": "1c88fc8b-64fa-4ab1-9e52-2f9a821315b2",
   "metadata": {},
   "outputs": [],
   "source": []
  },
  {
   "cell_type": "code",
   "execution_count": null,
   "id": "289b52ae-4c3a-489a-809c-a5dca10cecd4",
   "metadata": {},
   "outputs": [],
   "source": [
    "##### 5. 선형회귀모형을 활용한 예측\n",
    "## Q) MASS패키지에서 제공하는 Cars93 데이터의 엔진크기(EngineSize)를 독립변수, \n",
    "## 가격(Price)를 종속변수로 설정하여 회귀모형을 생성한 후, Cars93 데이터의 5개 행을 랜덤으로 뽑아 가격(Price)을 예측해보자. \n",
    "## 예측 시 predict 함수의 interval 인자값을 조정하며 그 결과를 비교해보자.\n",
    "\n",
    "##===== A)\n",
    "# 회귀모형 생성\n",
    "Cars93_lm<-lm(Price~EngineSize, Cars93)\n",
    "\n",
    "# 실습을 위해 시드값 설정\n",
    "set.seed(1234)\n",
    "\n",
    "# Cars93 데이터에서 랜덤으로 6개의 행번호를 추출하여 idx변수에 저장\n",
    "idx<-sample(1:nrow(Cars93),5)\n",
    "idx\n",
    "\n",
    "# 예측에 사용할 데이터셋 구성\n",
    "test<-Cars93[idx,]\n",
    "\n",
    "# 예측 수행1 (점추정)\n",
    "predict.lm(Cars93_lm, test, interval=\"none\")\n",
    "\n",
    "# 예측 수행2 (회귀계수의 불확실성을 감안한 구간추정)\n",
    "predict.lm(Cars93_lm, test, interval=\"confidence\")\n",
    "\n",
    "# 예측 수행3 (회귀계수의 불확실성과 오차항을 감안한 구간추정)\n",
    "predict.lm(Cars93_lm, test, interval=\"prediction\")"
   ]
  },
  {
   "cell_type": "code",
   "execution_count": null,
   "id": "a0ffa6f1-1802-4c12-b2b6-76c014ade7b2",
   "metadata": {},
   "outputs": [],
   "source": []
  },
  {
   "cell_type": "code",
   "execution_count": null,
   "id": "dbf090f9-6bac-4329-9e90-17906febd14c",
   "metadata": {},
   "outputs": [],
   "source": [
    "\n",
    "\n",
    "\n",
    "\n",
    "\n",
    "\n",
    "\n",
    "##### 3절 | 다중선형회귀분석\n",
    "\n",
    "##### 3. 더미변수(dummy variable)\n",
    "## Q)  R에서 회귀모형을 생성하는 lm함수는 데이터에 범주형 변수가 포함되어 있을 경우, \n",
    "## 이를 자동으로 더미변수로 변환하여 회귀모형을 생성한다. \n",
    "## 이 과정을 더 자세히 이해하기 위해 범주형 변수(Spceies)가 포함된 iris데이터에서 \n",
    "## Petal.Length를 종속변수로 두고 나머지 변수들을 독립변수로 설정한 회귀모형을 생성하고 그 결과를 살펴보자.\n",
    "\n",
    "##===== A)\n",
    "# 중회귀모형 생성 \n",
    "# formula 인자값으로 여러개의 독립변수를 지정할 때 +기호로 연결\n",
    "iris_lm<-lm(Petal.Length~Sepal.Length+Sepal.Width+Petal.Width+Species, iris)\n",
    "\n",
    "# 모형 확인\n",
    "summary(iris_lm)\n",
    "\n",
    "\n",
    "##### 4. R을 이용한 다중회귀분석\n",
    "## Q)  MASS패키지의 Cars93 데이터에서 엔진크기(EngineSize), RPM(RPM), 무게(Weight)를 독립변수로 설정하고 \n",
    "## 자동차 가격(Price)를 종속변수로 설정하여 다변량 회귀분석을 수행한 뒤 그 결과를 해석해보자.\n",
    "\n",
    "##===== A)\n",
    "# 데이터 로드 및 확인\n",
    "library(MASS)\n",
    "str(Cars93)\n",
    "\n",
    "# 다중회귀모형 생성 후 Price_lm 변수에 저장\n",
    "Price_lm<-lm(Price~EngineSize+RPM+Weight, Cars93)\n",
    "\n",
    "# 모형 요약정보 살펴보기\n",
    "summary(Price_lm)\n",
    "\n",
    "\n",
    "\n",
    "##### 5. 최적회귀방정식의 선택\n",
    "\n",
    "## Q1) MASS 패키지의 Cars93 데이터에서 엔진크기(EngineSize), RPM(RPM), 너비(Width), \n",
    "## 길이(Length)를 독립변수로 가지고, 자동차의 가격(Price)을 종속변수로 가지는 선형회귀모형을 생성해보자. \n",
    "## 또한 변수 선택을 위한 함수를 사용하지 않고, 직접 후진 제거법을 수행하는 R코드를 살펴보며 \n",
    "## 변수 선택법에 대해 정확하게 이해해보자.\n",
    "\n",
    "##===== A)\n",
    "\n",
    "## 1) 패키지 로드 및 다중회귀모형 생성\n",
    "# 패키지 로드\n",
    "library(MASS)\n",
    "\n",
    "# 회귀모형을 생성한 후 lm_a 변수에 저장 \n",
    "lm_a<-lm(Price ~ EngineSize + RPM + Width + Length, Cars93)\n",
    "\n",
    "# 모형의 요약정보 확인\n",
    "summary(lm_a)\n",
    "\n",
    "\n",
    "## 2) 유의확률이 가장 높은 변수 Width를 제거하고 회귀모형(lm_b)을 다시 생성\n",
    "# 회귀모형 lm_b 생성\n",
    "lm_b<-lm(Price ~ EngineSize + RPM + Length, Cars93)\n",
    "\n",
    "# 모형의 요약정보 확인\n",
    "summary(lm_b)\n",
    "\n",
    "\n",
    "## 3) 유의확률이 가장 높은 변수 Length를 제거하고 회귀모형(lm_c)을 다시 생성\n",
    "# 회귀모형 lm_c 생성\n",
    "lm_c<-lm(Price ~ EngineSize + RPM, Cars93)\n",
    "\n",
    "# 모형의 요약정보 확인\n",
    "summary(lm_c)\n",
    "\n",
    "\n",
    "\n",
    "## Q2) MASS 패키지의 Cars93 데이터에서 엔진크기(EngineSize), 마력(Horsepower), RPM(RPM), 너비(Width), \n",
    "## 길이(Length), 무게(Weight)를 독립변수로 가지고, 자동차의 가격(Price)를 종속변수로 가지는 선형회귀모형을 생성해보자. \n",
    "## 그 후 step함수를 사용해 ‘후진제거법’으로 변수 선택을 수행한 후 결과를 해석해보자.\n",
    "\n",
    "##===== A)\n",
    "# 후진제거법을 활용한 변수선택\n",
    "lm_result<-lm(Price~EngineSize+Horsepower+RPM+Width+Length+Weight, Cars93)\n",
    "step(lm_result, direction=\"backward\")\n",
    "\n",
    "\n",
    "\n",
    "\n",
    "\n",
    "# (끝)\n",
    "##===============================================================\n",
    "\n",
    "\n"
   ]
  }
 ],
 "metadata": {
  "kernelspec": {
   "display_name": "R",
   "language": "R",
   "name": "ir"
  },
  "language_info": {
   "codemirror_mode": "r",
   "file_extension": ".r",
   "mimetype": "text/x-r-source",
   "name": "R",
   "pygments_lexer": "r",
   "version": "3.6.1"
  }
 },
 "nbformat": 4,
 "nbformat_minor": 5
}
