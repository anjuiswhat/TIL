{
 "cells": [
  {
   "cell_type": "markdown",
   "id": "d3f05344-292c-459b-9812-5ff8d214819a",
   "metadata": {
    "tags": []
   },
   "source": [
    "# [ PART 03. 통계분석 ] - 4장. 분산분석 (ANOVA)"
   ]
  },
  {
   "cell_type": "markdown",
   "id": "305eb932-a91f-4045-acd4-3093adf978c1",
   "metadata": {},
   "source": [
    "## 1. 일원배치 분산분석"
   ]
  },
  {
   "cell_type": "raw",
   "id": "37b71205-e694-4869-9cfe-b8d1f0b4d713",
   "metadata": {},
   "source": [
    "[Problem]\n",
    "- iris 데이터를 이용하여 종(Species)별로 꽃받침의 폭(Sepal.Width)의 평균이 같은지 혹은 차이가 있는지를 확인하기 위해 일원배치 분산분석 및 사후분석을 수행하라."
   ]
  },
  {
   "cell_type": "markdown",
   "id": "2e7b30e8-913d-4016-89ee-29431f3ef15b",
   "metadata": {
    "tags": []
   },
   "source": [
    "### 1.2. one-way ANOVA\n",
    "< 가설 설정 - ANOVA >\n",
    "- 귀무가설(H0) : 세 가지 종의 Sepal.Width의 평균은 같다.\n",
    "- 대립가설(H1) : 적어도 하나 이상의 종에 대한 Sepal.Width의 평균값에는 차이가 있다.\n",
    "\n",
    "< 유의수준은 0.05 로 설정 >"
   ]
  },
  {
   "cell_type": "code",
   "execution_count": 1,
   "id": "4f6e222c-6dd5-4148-94d8-3d1d034735ee",
   "metadata": {},
   "outputs": [
    {
     "data": {
      "text/plain": [
       "             Df Sum Sq Mean Sq F value Pr(>F)    \n",
       "Species       2  11.35   5.672   49.16 <2e-16 ***\n",
       "Residuals   147  16.96   0.115                   \n",
       "---\n",
       "Signif. codes:  0 '***' 0.001 '**' 0.01 '*' 0.05 '.' 0.1 ' ' 1"
      ]
     },
     "metadata": {},
     "output_type": "display_data"
    }
   ],
   "source": [
    "## 1) 분산분석\n",
    "\n",
    "# 분산분석 결과를 result 변수에 저장\n",
    "result<-aov(Sepal.Width~Species, data=iris)\n",
    "\n",
    "# 분산분석표 확인\n",
    "summary(result)   "
   ]
  },
  {
   "cell_type": "markdown",
   "id": "7249f449-dd1d-4c84-ab23-285d0035040a",
   "metadata": {},
   "source": [
    "### 1.3. 사후 검정"
   ]
  },
  {
   "cell_type": "code",
   "execution_count": 2,
   "id": "8ff92be3-bc3d-4cb4-ace4-83f4a93891ee",
   "metadata": {},
   "outputs": [
    {
     "data": {
      "text/plain": [
       "  Tukey multiple comparisons of means\n",
       "    95% family-wise confidence level\n",
       "\n",
       "Fit: aov(formula = Sepal.Width ~ Species, data = iris)\n",
       "\n",
       "$Species\n",
       "                       diff         lwr        upr     p adj\n",
       "versicolor-setosa    -0.658 -0.81885528 -0.4971447 0.0000000\n",
       "virginica-setosa     -0.454 -0.61485528 -0.2931447 0.0000000\n",
       "virginica-versicolor  0.204  0.04314472  0.3648553 0.0087802\n"
      ]
     },
     "metadata": {},
     "output_type": "display_data"
    }
   ],
   "source": [
    "## 2) 사후분석\n",
    "\n",
    "# 사후분석 수행\n",
    "TukeyHSD(aov(Sepal.Width~Species, data=iris))"
   ]
  },
  {
   "cell_type": "code",
   "execution_count": null,
   "id": "31e82730-31c5-41d8-8926-f9c8dbd9084c",
   "metadata": {},
   "outputs": [],
   "source": []
  },
  {
   "cell_type": "code",
   "execution_count": null,
   "id": "c36d5883-2af3-4e54-b664-af5945f5ed4b",
   "metadata": {},
   "outputs": [],
   "source": []
  },
  {
   "cell_type": "markdown",
   "id": "42c11421-f237-48d9-839f-e84fb6b27318",
   "metadata": {},
   "source": [
    "## 2. 이원배치 분산분석"
   ]
  },
  {
   "cell_type": "raw",
   "id": "331cf6de-dbff-4fae-8646-b53d190dcad1",
   "metadata": {},
   "source": [
    "[Problem]\n",
    "- mtcars 데이터는 32개의 차종에 대한 다양한 특성과 단위 연료당 주행거리를 담고 있다. \n",
    "- am 변수는 변속기 종류, cyl 변수는 실린더의 개수, mpg 변수는 주행거리를 의미한다. \n",
    "- 데이터를 분석에 적절한 형태로 전처리한 후, 변속기 종류(am변수)와 실린더의 개수(cyl변수)에 따라 주행거리(mpg변수) 평균에 유의미한 차이가 존재하는지 이원 분산분석을 수행하고, 그 결과를 해석하라."
   ]
  },
  {
   "cell_type": "code",
   "execution_count": 3,
   "id": "2f3705de-5aa1-4d41-9572-bd32d6ca6311",
   "metadata": {},
   "outputs": [
    {
     "name": "stdout",
     "output_type": "stream",
     "text": [
      "'data.frame':\t32 obs. of  11 variables:\n",
      " $ mpg : num  21 21 22.8 21.4 18.7 18.1 14.3 24.4 22.8 19.2 ...\n",
      " $ cyl : num  6 6 4 6 8 6 8 4 4 6 ...\n",
      " $ disp: num  160 160 108 258 360 ...\n",
      " $ hp  : num  110 110 93 110 175 105 245 62 95 123 ...\n",
      " $ drat: num  3.9 3.9 3.85 3.08 3.15 2.76 3.21 3.69 3.92 3.92 ...\n",
      " $ wt  : num  2.62 2.88 2.32 3.21 3.44 ...\n",
      " $ qsec: num  16.5 17 18.6 19.4 17 ...\n",
      " $ vs  : num  0 0 1 1 0 1 0 1 1 1 ...\n",
      " $ am  : num  1 1 1 0 0 0 0 0 0 0 ...\n",
      " $ gear: num  4 4 4 3 3 3 3 4 4 4 ...\n",
      " $ carb: num  4 4 1 1 2 1 4 2 2 4 ...\n"
     ]
    }
   ],
   "source": [
    "## 1) 데이터 확인 및 전처리\n",
    "data(\"mtcars\")\n",
    "str(mtcars)"
   ]
  },
  {
   "cell_type": "code",
   "execution_count": 4,
   "id": "23cafa24-cf50-4144-a6e8-6bdec5766522",
   "metadata": {},
   "outputs": [
    {
     "name": "stdout",
     "output_type": "stream",
     "text": [
      "'data.frame':\t32 obs. of  3 variables:\n",
      " $ cyl: Factor w/ 3 levels \"4\",\"6\",\"8\": 2 2 1 2 3 2 3 1 1 2 ...\n",
      " $ am : Factor w/ 2 levels \"0\",\"1\": 2 2 2 1 1 1 1 1 1 1 ...\n",
      " $ mpg: num  21 21 22.8 21.4 18.7 18.1 14.3 24.4 22.8 19.2 ...\n"
     ]
    }
   ],
   "source": [
    "# aov함수를 사용하기 위해 독립변수인 cyl, am를 팩터형으로 변환\n",
    "mtcars$cyl<-as.factor(mtcars$cyl)\n",
    "mtcars$am<-as.factor(mtcars$am)\n",
    "\n",
    "# cyl, am, mpg 변수들로만 구성된 분석용 데이터셋 생성 \n",
    "car<-mtcars[,c(\"cyl\",\"am\",\"mpg\")]\n",
    "str(car)"
   ]
  },
  {
   "cell_type": "markdown",
   "id": "0fe98c2c-6532-47e8-a926-c18d51dfe768",
   "metadata": {
    "tags": []
   },
   "source": [
    "### 2.2. two-way ANOVA\n",
    "\n",
    "< 가설 설정 - ANOVA >\n",
    "\n",
    "1. 주효과 검정에 대한 가설  \n",
    "a. 귀무가설(H0) : 실린더 개수에 따른 주행거리 차이는 존재하지 않는다.  \n",
    "a. 대립가설(H1) : 실린더 개수에 따른 주행거리 차이가 존재한다.  \n",
    "b. 귀무가설(H0) : 변속기 종류에 따른 주행거리 차이는 존재하지 않는다.  \n",
    "b. 대립가설(H1) : 변속기 종류에 따른 주행거리 차이가 존재한다.\n",
    "\n",
    "2) 상호작용효과 검정에 대한 가설\n",
    "- 귀무가설(H0) : 변속기 종류와 실린더 개수 간에는 상호작용 효과가 없다.\n",
    "- 대립가설(H1) : 변속기 종류와 실린더 개수 간에는 상호작용 효과가 있다.\n",
    "\n",
    "< 유의수준은 0.05 로 설정 >"
   ]
  },
  {
   "cell_type": "code",
   "execution_count": 5,
   "id": "11d934cd-db0f-4152-aa16-92937a86161f",
   "metadata": {},
   "outputs": [
    {
     "data": {
      "text/plain": [
       "            Df Sum Sq Mean Sq F value   Pr(>F)    \n",
       "cyl          2  824.8   412.4  44.852 3.73e-09 ***\n",
       "am           1   36.8    36.8   3.999   0.0561 .  \n",
       "cyl:am       2   25.4    12.7   1.383   0.2686    \n",
       "Residuals   26  239.1     9.2                     \n",
       "---\n",
       "Signif. codes:  0 '***' 0.001 '**' 0.01 '*' 0.05 '.' 0.1 ' ' 1"
      ]
     },
     "metadata": {},
     "output_type": "display_data"
    }
   ],
   "source": [
    "## 2) 분산분석 수행\n",
    "car_aov<-aov(mpg~cyl*am, car)\n",
    "summary(car_aov)"
   ]
  },
  {
   "cell_type": "raw",
   "id": "a4e99f7d-4891-49ab-bf3c-b57dc2bf3cb0",
   "metadata": {},
   "source": [
    "[Problem]\n",
    "- 실린더 개수(cyl변수)와 변속기 종류(am변수) 사이에 상호작용 효과가 있는지 없는지를 시각화해주는 상호작용 그래프를 그린 후 이를 해석하라."
   ]
  },
  {
   "cell_type": "markdown",
   "id": "7a15ebcb-11e6-47d1-91c4-932409a96829",
   "metadata": {},
   "source": [
    "#### 2.3.3. 상호작용효과 그래프"
   ]
  },
  {
   "cell_type": "code",
   "execution_count": 6,
   "id": "15304fff-827e-4ca0-831b-c4a9cbdd7327",
   "metadata": {},
   "outputs": [
    {
     "data": {
      "image/png": "[encoded data removed]",
      "text/plain": [
       "plot without title"
      ]
     },
     "metadata": {},
     "output_type": "display_data"
    }
   ],
   "source": [
    "interaction.plot(car$cyl, car$am, car$mpg, col=c(\"red\", \"blue\"))"
   ]
  },
  {
   "cell_type": "code",
   "execution_count": null,
   "id": "96428d46-b197-4c9a-911f-52d6dfa80d23",
   "metadata": {},
   "outputs": [],
   "source": []
  },
  {
   "cell_type": "code",
   "execution_count": null,
   "id": "714520ea-6ded-424e-84f7-93472e2ccd7e",
   "metadata": {},
   "outputs": [],
   "source": []
  },
  {
   "cell_type": "code",
   "execution_count": null,
   "id": "45935329-8fe4-4a9a-b2af-5705562c097a",
   "metadata": {},
   "outputs": [],
   "source": []
  },
  {
   "cell_type": "code",
   "execution_count": null,
   "id": "afb5af09-94fe-47ad-8531-19e7c7e7f7c8",
   "metadata": {},
   "outputs": [],
   "source": []
  },
  {
   "cell_type": "code",
   "execution_count": null,
   "id": "213f3d01-637b-403b-ae93-6e343af925b0",
   "metadata": {},
   "outputs": [],
   "source": []
  }
 ],
 "metadata": {
  "kernelspec": {
   "display_name": "R",
   "language": "R",
   "name": "ir"
  },
  "language_info": {
   "codemirror_mode": "r",
   "file_extension": ".r",
   "mimetype": "text/x-r-source",
   "name": "R",
   "pygments_lexer": "r",
   "version": "3.6.1"
  }
 },
 "nbformat": 4,
 "nbformat_minor": 5
}
