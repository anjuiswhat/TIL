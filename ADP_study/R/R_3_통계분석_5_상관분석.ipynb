{
 "cells": [
  {
   "cell_type": "markdown",
   "id": "6f951332-0d8c-4ad1-a835-c1f6dead5d7c",
   "metadata": {},
   "source": [
    "# [ PART 03. 통계분석 ] - 5장. 상관분석"
   ]
  },
  {
   "cell_type": "markdown",
   "id": "77e2d347-c300-46a0-9a8e-3b9f3434d871",
   "metadata": {},
   "source": [
    "## 상관계수"
   ]
  },
  {
   "cell_type": "raw",
   "id": "28081b94-f988-4b5c-97c5-98a070dd275b",
   "metadata": {},
   "source": [
    "[Problem]\n",
    "- airquality 데이터는 뉴욕의 일일 대기 오염 정도에 대한 데이터로, 총6개의 변수로 이루어져 있다. \n",
    "- 6개의 변수 중 Month(월)과 Day(일)은 제외하고 Ozone(오존량), Solar.R(일사량), Wind(풍속), Temp(최고온도)만으로 이루어진 데이터프레임 air를 생성하고, 네 가지 변수에 대한 상관계수를 산출하라. \n",
    "- 단, 모든 변수값에 NA가 없는 데이터들만 이용하여 피어슨, 스피어만, 켄달 상관계수를 모두 산출하여라."
   ]
  },
  {
   "cell_type": "code",
   "execution_count": 1,
   "id": "c34eba93-d7c3-4615-929c-1f49f18ac2a2",
   "metadata": {},
   "outputs": [
    {
     "name": "stdout",
     "output_type": "stream",
     "text": [
      "'data.frame':\t153 obs. of  6 variables:\n",
      " $ Ozone  : int  41 36 12 18 NA 28 23 19 8 NA ...\n",
      " $ Solar.R: int  190 118 149 313 NA NA 299 99 19 194 ...\n",
      " $ Wind   : num  7.4 8 12.6 11.5 14.3 14.9 8.6 13.8 20.1 8.6 ...\n",
      " $ Temp   : int  67 72 74 62 56 66 65 59 61 69 ...\n",
      " $ Month  : int  5 5 5 5 5 5 5 5 5 5 ...\n",
      " $ Day    : int  1 2 3 4 5 6 7 8 9 10 ...\n"
     ]
    }
   ],
   "source": [
    "# 데이터 확인 및 전처리\n",
    "data(\"airquality\")\n",
    "str(airquality)"
   ]
  },
  {
   "cell_type": "code",
   "execution_count": 2,
   "id": "82323d29-59cb-4c65-b2dc-73296cde5320",
   "metadata": {},
   "outputs": [
    {
     "name": "stdout",
     "output_type": "stream",
     "text": [
      "'data.frame':\t153 obs. of  4 variables:\n",
      " $ Ozone  : int  41 36 12 18 NA 28 23 19 8 NA ...\n",
      " $ Solar.R: int  190 118 149 313 NA NA 299 99 19 194 ...\n",
      " $ Wind   : num  7.4 8 12.6 11.5 14.3 14.9 8.6 13.8 20.1 8.6 ...\n",
      " $ Temp   : int  67 72 74 62 56 66 65 59 61 69 ...\n"
     ]
    }
   ],
   "source": [
    "# air 데이터 생성\n",
    "air<-airquality[,c(1:4)]\n",
    "str(air)"
   ]
  },
  {
   "cell_type": "markdown",
   "id": "7c2b28c5-52a5-40e2-a363-a5a9e9da7b70",
   "metadata": {},
   "source": [
    "### 상관계수 구하기"
   ]
  },
  {
   "cell_type": "code",
   "execution_count": 3,
   "id": "c254bb08-b7c4-4317-8741-5ece815d5a12",
   "metadata": {},
   "outputs": [
    {
     "data": {
      "text/html": [
       "<table>\n",
       "<thead><tr><th></th><th scope=col>Ozone</th><th scope=col>Solar.R</th><th scope=col>Wind</th><th scope=col>Temp</th></tr></thead>\n",
       "<tbody>\n",
       "\t<tr><th scope=row>Ozone</th><td> 1.0000000 </td><td> 0.34834169</td><td>-0.60154653</td><td> 0.6983603 </td></tr>\n",
       "\t<tr><th scope=row>Solar.R</th><td> 0.3483417 </td><td> 1.00000000</td><td>-0.05679167</td><td> 0.2758403 </td></tr>\n",
       "\t<tr><th scope=row>Wind</th><td>-0.6015465 </td><td>-0.05679167</td><td> 1.00000000</td><td>-0.4579879 </td></tr>\n",
       "\t<tr><th scope=row>Temp</th><td> 0.6983603 </td><td> 0.27584027</td><td>-0.45798788</td><td> 1.0000000 </td></tr>\n",
       "</tbody>\n",
       "</table>\n"
      ],
      "text/latex": [
       "\\begin{tabular}{r|llll}\n",
       "  & Ozone & Solar.R & Wind & Temp\\\\\n",
       "\\hline\n",
       "\tOzone &  1.0000000  &  0.34834169 & -0.60154653 &  0.6983603 \\\\\n",
       "\tSolar.R &  0.3483417  &  1.00000000 & -0.05679167 &  0.2758403 \\\\\n",
       "\tWind & -0.6015465  & -0.05679167 &  1.00000000 & -0.4579879 \\\\\n",
       "\tTemp &  0.6983603  &  0.27584027 & -0.45798788 &  1.0000000 \\\\\n",
       "\\end{tabular}\n"
      ],
      "text/markdown": [
       "\n",
       "| <!--/--> | Ozone | Solar.R | Wind | Temp |\n",
       "|---|---|---|---|---|\n",
       "| Ozone |  1.0000000  |  0.34834169 | -0.60154653 |  0.6983603  |\n",
       "| Solar.R |  0.3483417  |  1.00000000 | -0.05679167 |  0.2758403  |\n",
       "| Wind | -0.6015465  | -0.05679167 |  1.00000000 | -0.4579879  |\n",
       "| Temp |  0.6983603  |  0.27584027 | -0.45798788 |  1.0000000  |\n",
       "\n"
      ],
      "text/plain": [
       "        Ozone      Solar.R     Wind        Temp      \n",
       "Ozone    1.0000000  0.34834169 -0.60154653  0.6983603\n",
       "Solar.R  0.3483417  1.00000000 -0.05679167  0.2758403\n",
       "Wind    -0.6015465 -0.05679167  1.00000000 -0.4579879\n",
       "Temp     0.6983603  0.27584027 -0.45798788  1.0000000"
      ]
     },
     "metadata": {},
     "output_type": "display_data"
    },
    {
     "data": {
      "text/html": [
       "<table>\n",
       "<thead><tr><th></th><th scope=col>Ozone</th><th scope=col>Solar.R</th><th scope=col>Wind</th><th scope=col>Temp</th></tr></thead>\n",
       "<tbody>\n",
       "\t<tr><th scope=row>Ozone</th><td> 1.0000000   </td><td>0.2403194214 </td><td>-0.4283602915</td><td> 0.5862988   </td></tr>\n",
       "\t<tr><th scope=row>Solar.R</th><td> 0.2403194   </td><td>1.0000000000 </td><td> 0.0006785596</td><td> 0.1442337   </td></tr>\n",
       "\t<tr><th scope=row>Wind</th><td>-0.4283603   </td><td>0.0006785596 </td><td> 1.0000000000</td><td>-0.3222418   </td></tr>\n",
       "\t<tr><th scope=row>Temp</th><td> 0.5862988   </td><td>0.1442336719 </td><td>-0.3222417514</td><td> 1.0000000   </td></tr>\n",
       "</tbody>\n",
       "</table>\n"
      ],
      "text/latex": [
       "\\begin{tabular}{r|llll}\n",
       "  & Ozone & Solar.R & Wind & Temp\\\\\n",
       "\\hline\n",
       "\tOzone &  1.0000000    & 0.2403194214  & -0.4283602915 &  0.5862988   \\\\\n",
       "\tSolar.R &  0.2403194    & 1.0000000000  &  0.0006785596 &  0.1442337   \\\\\n",
       "\tWind & -0.4283603    & 0.0006785596  &  1.0000000000 & -0.3222418   \\\\\n",
       "\tTemp &  0.5862988    & 0.1442336719  & -0.3222417514 &  1.0000000   \\\\\n",
       "\\end{tabular}\n"
      ],
      "text/markdown": [
       "\n",
       "| <!--/--> | Ozone | Solar.R | Wind | Temp |\n",
       "|---|---|---|---|---|\n",
       "| Ozone |  1.0000000    | 0.2403194214  | -0.4283602915 |  0.5862988    |\n",
       "| Solar.R |  0.2403194    | 1.0000000000  |  0.0006785596 |  0.1442337    |\n",
       "| Wind | -0.4283603    | 0.0006785596  |  1.0000000000 | -0.3222418    |\n",
       "| Temp |  0.5862988    | 0.1442336719  | -0.3222417514 |  1.0000000    |\n",
       "\n"
      ],
      "text/plain": [
       "        Ozone      Solar.R      Wind          Temp      \n",
       "Ozone    1.0000000 0.2403194214 -0.4283602915  0.5862988\n",
       "Solar.R  0.2403194 1.0000000000  0.0006785596  0.1442337\n",
       "Wind    -0.4283603 0.0006785596  1.0000000000 -0.3222418\n",
       "Temp     0.5862988 0.1442336719 -0.3222417514  1.0000000"
      ]
     },
     "metadata": {},
     "output_type": "display_data"
    },
    {
     "data": {
      "text/html": [
       "<table>\n",
       "<thead><tr><th></th><th scope=col>Ozone</th><th scope=col>Solar.R</th><th scope=col>Wind</th><th scope=col>Temp</th></tr></thead>\n",
       "<tbody>\n",
       "\t<tr><th scope=row>Ozone</th><td> 1.0000000   </td><td> 0.3481864700</td><td>-0.5901551241</td><td> 0.7740430   </td></tr>\n",
       "\t<tr><th scope=row>Solar.R</th><td> 0.3481865   </td><td> 1.0000000000</td><td>-0.0009773325</td><td> 0.2074275   </td></tr>\n",
       "\t<tr><th scope=row>Wind</th><td>-0.5901551   </td><td>-0.0009773325</td><td> 1.0000000000</td><td>-0.4465408   </td></tr>\n",
       "\t<tr><th scope=row>Temp</th><td> 0.7740430   </td><td> 0.2074275160</td><td>-0.4465407773</td><td> 1.0000000   </td></tr>\n",
       "</tbody>\n",
       "</table>\n"
      ],
      "text/latex": [
       "\\begin{tabular}{r|llll}\n",
       "  & Ozone & Solar.R & Wind & Temp\\\\\n",
       "\\hline\n",
       "\tOzone &  1.0000000    &  0.3481864700 & -0.5901551241 &  0.7740430   \\\\\n",
       "\tSolar.R &  0.3481865    &  1.0000000000 & -0.0009773325 &  0.2074275   \\\\\n",
       "\tWind & -0.5901551    & -0.0009773325 &  1.0000000000 & -0.4465408   \\\\\n",
       "\tTemp &  0.7740430    &  0.2074275160 & -0.4465407773 &  1.0000000   \\\\\n",
       "\\end{tabular}\n"
      ],
      "text/markdown": [
       "\n",
       "| <!--/--> | Ozone | Solar.R | Wind | Temp |\n",
       "|---|---|---|---|---|\n",
       "| Ozone |  1.0000000    |  0.3481864700 | -0.5901551241 |  0.7740430    |\n",
       "| Solar.R |  0.3481865    |  1.0000000000 | -0.0009773325 |  0.2074275    |\n",
       "| Wind | -0.5901551    | -0.0009773325 |  1.0000000000 | -0.4465408    |\n",
       "| Temp |  0.7740430    |  0.2074275160 | -0.4465407773 |  1.0000000    |\n",
       "\n"
      ],
      "text/plain": [
       "        Ozone      Solar.R       Wind          Temp      \n",
       "Ozone    1.0000000  0.3481864700 -0.5901551241  0.7740430\n",
       "Solar.R  0.3481865  1.0000000000 -0.0009773325  0.2074275\n",
       "Wind    -0.5901551 -0.0009773325  1.0000000000 -0.4465408\n",
       "Temp     0.7740430  0.2074275160 -0.4465407773  1.0000000"
      ]
     },
     "metadata": {},
     "output_type": "display_data"
    }
   ],
   "source": [
    "# 피어슨 상관계수 계산\n",
    "cor(air, use=\"pairwise.complete.obs\", method=\"pearson\")\n",
    "\n",
    "# 켄달 상관계수 계산\n",
    "cor(air, use=\"pairwise.complete.obs\", method=\"kendall\")\n",
    "\n",
    "# 스피어만 상관계수 계산\n",
    "cor(air, use=\"pairwise.complete.obs\", method=\"spearman\")"
   ]
  },
  {
   "cell_type": "raw",
   "id": "016c4264-4267-4783-9c4f-aba9016cce36",
   "metadata": {},
   "source": [
    "[Problem]\n",
    "- air데이터 내의 네가지 변수 조합별 피어슨 상관계수를 그래프로 시각화하라."
   ]
  },
  {
   "cell_type": "markdown",
   "id": "6c3c43f6-57e5-42ef-b390-700c29dc9b3f",
   "metadata": {},
   "source": [
    "### 시각화"
   ]
  },
  {
   "cell_type": "code",
   "execution_count": 4,
   "id": "d599cf9f-35be-4825-bfd7-845af3b086f0",
   "metadata": {},
   "outputs": [
    {
     "data": {
      "text/html": [
       "<table>\n",
       "<thead><tr><th></th><th scope=col>Ozone</th><th scope=col>Solar.R</th><th scope=col>Wind</th><th scope=col>Temp</th></tr></thead>\n",
       "<tbody>\n",
       "\t<tr><th scope=row>Ozone</th><td> 1.0000000 </td><td> 0.34834169</td><td>-0.60154653</td><td> 0.6983603 </td></tr>\n",
       "\t<tr><th scope=row>Solar.R</th><td> 0.3483417 </td><td> 1.00000000</td><td>-0.05679167</td><td> 0.2758403 </td></tr>\n",
       "\t<tr><th scope=row>Wind</th><td>-0.6015465 </td><td>-0.05679167</td><td> 1.00000000</td><td>-0.4579879 </td></tr>\n",
       "\t<tr><th scope=row>Temp</th><td> 0.6983603 </td><td> 0.27584027</td><td>-0.45798788</td><td> 1.0000000 </td></tr>\n",
       "</tbody>\n",
       "</table>\n"
      ],
      "text/latex": [
       "\\begin{tabular}{r|llll}\n",
       "  & Ozone & Solar.R & Wind & Temp\\\\\n",
       "\\hline\n",
       "\tOzone &  1.0000000  &  0.34834169 & -0.60154653 &  0.6983603 \\\\\n",
       "\tSolar.R &  0.3483417  &  1.00000000 & -0.05679167 &  0.2758403 \\\\\n",
       "\tWind & -0.6015465  & -0.05679167 &  1.00000000 & -0.4579879 \\\\\n",
       "\tTemp &  0.6983603  &  0.27584027 & -0.45798788 &  1.0000000 \\\\\n",
       "\\end{tabular}\n"
      ],
      "text/markdown": [
       "\n",
       "| <!--/--> | Ozone | Solar.R | Wind | Temp |\n",
       "|---|---|---|---|---|\n",
       "| Ozone |  1.0000000  |  0.34834169 | -0.60154653 |  0.6983603  |\n",
       "| Solar.R |  0.3483417  |  1.00000000 | -0.05679167 |  0.2758403  |\n",
       "| Wind | -0.6015465  | -0.05679167 |  1.00000000 | -0.4579879  |\n",
       "| Temp |  0.6983603  |  0.27584027 | -0.45798788 |  1.0000000  |\n",
       "\n"
      ],
      "text/plain": [
       "        Ozone      Solar.R     Wind        Temp      \n",
       "Ozone    1.0000000  0.34834169 -0.60154653  0.6983603\n",
       "Solar.R  0.3483417  1.00000000 -0.05679167  0.2758403\n",
       "Wind    -0.6015465 -0.05679167  1.00000000 -0.4579879\n",
       "Temp     0.6983603  0.27584027 -0.45798788  1.0000000"
      ]
     },
     "metadata": {},
     "output_type": "display_data"
    },
    {
     "data": {
      "image/png": "[encoded data removed]",
      "text/plain": [
       "plot without title"
      ]
     },
     "metadata": {},
     "output_type": "display_data"
    }
   ],
   "source": [
    "# air데이터에 대한 상관계수 행렬 생성\n",
    "air_cor<-cor(air, use=\"pairwise.complete.obs\")\n",
    "air_cor\n",
    "\n",
    "# 상관행렬 시각화\n",
    "pairs(air_cor)\n"
   ]
  },
  {
   "cell_type": "raw",
   "id": "dbc3493f-5457-4ad7-ba70-ce715ecfde98",
   "metadata": {},
   "source": [
    "[Problem]\n",
    "- air데이터의 Ozone(오존량)와 Wind(풍속)변수에 대한 상관분석을 실시하고, 피어슨 상관계수에 대한 검정 결과를 해석하라."
   ]
  },
  {
   "cell_type": "markdown",
   "id": "afe1ec5f-7f85-43e6-8264-d13a9a73b998",
   "metadata": {},
   "source": [
    "## 상관계수 검정\n",
    "\n",
    "< 가설 설정 - 상관계수 검정 >\n",
    "- 귀무가설(H0) : 두 변수 간에는 상관관계가 없다.\n",
    "- 대립가설(H1) : 두 변수 간에는 상관관계가 있다.\n",
    "\n",
    "< 유의수준은 0.05 로 설정 >"
   ]
  },
  {
   "cell_type": "code",
   "execution_count": 5,
   "id": "67000bed-b309-43d2-9ffd-6dd2fe7698de",
   "metadata": {},
   "outputs": [
    {
     "data": {
      "text/plain": [
       "\n",
       "\tPearson's product-moment correlation\n",
       "\n",
       "data:  air$Ozone and air$Wind\n",
       "t = -8.0401, df = 114, p-value = 9.272e-13\n",
       "alternative hypothesis: true correlation is not equal to 0\n",
       "95 percent confidence interval:\n",
       " -0.7063918 -0.4708713\n",
       "sample estimates:\n",
       "       cor \n",
       "-0.6015465 \n"
      ]
     },
     "metadata": {},
     "output_type": "display_data"
    }
   ],
   "source": [
    "# 피어슨 상관계수에 대한 검정 수행\n",
    "cor.test(air$Ozone, air$Wind, method=\"pearson\")"
   ]
  },
  {
   "cell_type": "code",
   "execution_count": null,
   "id": "af739837-1454-4a40-85b8-43ccedcd81e2",
   "metadata": {},
   "outputs": [],
   "source": []
  },
  {
   "cell_type": "code",
   "execution_count": null,
   "id": "25286729-c296-465a-90e9-757e44fc6a0b",
   "metadata": {},
   "outputs": [],
   "source": []
  },
  {
   "cell_type": "code",
   "execution_count": null,
   "id": "3fc6170c-3fd0-4e38-8b0f-394e9bd505a5",
   "metadata": {},
   "outputs": [],
   "source": []
  }
 ],
 "metadata": {
  "kernelspec": {
   "display_name": "R",
   "language": "R",
   "name": "ir"
  },
  "language_info": {
   "codemirror_mode": "r",
   "file_extension": ".r",
   "mimetype": "text/x-r-source",
   "name": "R",
   "pygments_lexer": "r",
   "version": "3.6.1"
  }
 },
 "nbformat": 4,
 "nbformat_minor": 5
}
