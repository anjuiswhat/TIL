{
 "cells": [
  {
   "cell_type": "markdown",
   "id": "f6f5a24f-afaa-437b-b644-c32091a22a51",
   "metadata": {},
   "source": [
    "# [ PART 05. 정형 데이터마이닝 ] - 1장. 데이터 분할과 성과분석"
   ]
  },
  {
   "cell_type": "raw",
   "id": "8728d51b-3023-400e-b794-ab6ea3ffd0a0",
   "metadata": {},
   "source": [
    "\n"
   ]
  },
  {
   "cell_type": "markdown",
   "id": "4f19dd97-2c54-4e59-91c0-50f5e1c2a888",
   "metadata": {},
   "source": [
    "## 1. 데이터 분할\n",
    "- 데이터 분할은 train, validation, test data로 분할하여 모델 평가에 사용\n",
    "- 전체데이터에서 각각 train(50%), validataion(30%), test(20%)로 분할하며, 데이터의 갯수가 작으면 validation을 생략하고 training과 test를 6:4 또는 7:3으로 두고 분석을 진행."
   ]
  },
  {
   "cell_type": "markdown",
   "id": "14c069b0-4390-4162-9ce8-9d764bbf47e2",
   "metadata": {},
   "source": [
    "### `sample()`"
   ]
  },
  {
   "cell_type": "code",
   "execution_count": 4,
   "id": "5326dc64-c8e6-41c6-825b-3af0a73c038b",
   "metadata": {},
   "outputs": [
    {
     "data": {
      "text/html": [
       "1000"
      ],
      "text/latex": [
       "1000"
      ],
      "text/markdown": [
       "1000"
      ],
      "text/plain": [
       "[1] 1000"
      ]
     },
     "metadata": {},
     "output_type": "display_data"
    }
   ],
   "source": [
    "# sample( x, \t\t\t# x는 추출하고자 하는 숫자\n",
    "#\t      size, \t\t\t# size는 x를 얼만큼 뽑아낼지 정함\n",
    "#\t      replace = FALSE, \t# replace가 T이면 복원추출, F이면 비복원추출\n",
    "#\t      prob = NULL) \t\t# prob는 적은 숫자를 추출할 때, 확률을 정해 샘플을 뽑음\n",
    "\n",
    "\n",
    "# ex) credit 데이터셋 분할하기\n",
    "\n",
    "# 데이터 분할 전, 데이터 불러오기\n",
    "credit.df <- read.csv( \"C:\\\\Users\\\\Administrator\\\\GitHub\\\\TIL\\\\ADP_study\\\\rawdata\\\\german_credit_dataset.csv\", header = TRUE, sep = \",\")  # 데이터 로드\n",
    "\n",
    "nrow(credit.df)  # 분석 데이터의 행 개수 파악"
   ]
  },
  {
   "cell_type": "code",
   "execution_count": 5,
   "id": "174a9cb2-2701-4906-8afe-aa5005f7a669",
   "metadata": {},
   "outputs": [
    {
     "data": {
      "text/html": [
       "483"
      ],
      "text/latex": [
       "483"
      ],
      "text/markdown": [
       "483"
      ],
      "text/plain": [
       "[1] 483"
      ]
     },
     "metadata": {},
     "output_type": "display_data"
    },
    {
     "data": {
      "text/html": [
       "293"
      ],
      "text/latex": [
       "293"
      ],
      "text/markdown": [
       "293"
      ],
      "text/plain": [
       "[1] 293"
      ]
     },
     "metadata": {},
     "output_type": "display_data"
    },
    {
     "data": {
      "text/html": [
       "224"
      ],
      "text/latex": [
       "224"
      ],
      "text/markdown": [
       "224"
      ],
      "text/plain": [
       "[1] 224"
      ]
     },
     "metadata": {},
     "output_type": "display_data"
    }
   ],
   "source": [
    "set.seed(1111)  # 난수를 동일하게 추출되도록 고정시키는 함수\n",
    "idx<-sample(3,nrow(credit.df),      # idx에 1,2,3을 credit 데이터 행 개수와 동일하게 추출\n",
    "            replace=T,            # 랜덤 복원추출을 실시 \n",
    "            prob=c(0.5,0.3,0.2))  # 1은 train으로 전체의 50%,\n",
    "                                  # 2는 validation으로 전체의 30%, 3은 test로 전체의 20% \n",
    "\n",
    "train<-credit.df[idx==1,]     # 분석 데이터에 idx 값과 비교하여, idx가 1인 행은 train으로 추출\n",
    "validation<-credit.df[idx==2,]\n",
    "test<-credit.df[idx==3,]\n",
    "\n",
    "nrow(train)\n",
    "nrow(validation)\n",
    "nrow(test)"
   ]
  },
  {
   "cell_type": "raw",
   "id": "8e570850-a34d-4c12-9a7a-abfd2442f7af",
   "metadata": {},
   "source": [
    "\n"
   ]
  },
  {
   "cell_type": "markdown",
   "id": "008c7b7c-d4d0-41cd-b96a-6db041c60876",
   "metadata": {},
   "source": [
    "### `createDataPartition()`\n",
    "- caret 패키지에서 종속변수를 고려한 train, test 데이터를 분할하는 함수를 지원"
   ]
  },
  {
   "cell_type": "code",
   "execution_count": 6,
   "id": "dc797d9e-d4bf-4cb0-be7f-d440dbf43fa6",
   "metadata": {},
   "outputs": [
    {
     "data": {
      "text/html": [
       "700"
      ],
      "text/latex": [
       "700"
      ],
      "text/markdown": [
       "700"
      ],
      "text/plain": [
       "[1] 700"
      ]
     },
     "metadata": {},
     "output_type": "display_data"
    },
    {
     "data": {
      "text/html": [
       "300"
      ],
      "text/latex": [
       "300"
      ],
      "text/markdown": [
       "300"
      ],
      "text/plain": [
       "[1] 300"
      ]
     },
     "metadata": {},
     "output_type": "display_data"
    }
   ],
   "source": [
    "#createDataPartition( y,         #분류(또는 레이블)\n",
    "#                     times=1,   #분할의 수를 지정\n",
    "#                     p=0.7,     #훈련 데이터에서 사용할 데이터의 비율\n",
    "#                     list=TRUE) #결과를 리스트로 반환할지 여부, FALSE는 행렬로 반환\n",
    "\n",
    "#ex) credit 데이터셋 분할하기\n",
    "\n",
    "# install.packages(\"caret\")\n",
    "library(caret)\n",
    "part<-createDataPartition(credit.df$credit.rating,   # 목적변수인 credit.rating를 지정                            \n",
    "                          times=1,                   # 생성할 데이터 분할은 1개로 지정                            \n",
    "                          p=0.7)                     # 훈련데이터를 70%로 설정\n",
    "\n",
    "parts<-as.vector(part$Resample1)  # 행번호를 벡터형으로 변환\n",
    "train <- credit.df[parts,]\n",
    "test <- credit.df[-parts,]\n",
    "\n",
    "nrow(train)\n",
    "nrow(test)"
   ]
  },
  {
   "cell_type": "raw",
   "id": "0656651a-cca1-4523-a087-b253536f9cd2",
   "metadata": {},
   "source": []
  },
  {
   "cell_type": "markdown",
   "id": "6acd838f-fd49-4a0f-9a73-7b02f4eb6102",
   "metadata": {},
   "source": [
    "## 2. 성과분석\n",
    "- 성과분석은 데이터마이닝을 통해 train set으로 모델링 한 뒤, test set으로 정확도, 특이도 등을 알아보기 위한 과정"
   ]
  },
  {
   "cell_type": "markdown",
   "id": "9f07a8b7-4d2e-4bbc-88a1-125b607057d1",
   "metadata": {},
   "source": [
    "### 2.1. 오분류표(Confusion Matrix)\n",
    "- caret패키지에서 제공하는 confusionMatriox를 활용하면 정확도, 특이도 등이 손쉽게 정리된 결과를 얻을 수 있음."
   ]
  },
  {
   "cell_type": "code",
   "execution_count": 7,
   "id": "9547bcda-4b63-4352-9d6c-66b1b5a38739",
   "metadata": {},
   "outputs": [
    {
     "data": {
      "text/plain": [
       "         actual\n",
       "predicted 0 1\n",
       "        0 3 2\n",
       "        1 1 6"
      ]
     },
     "metadata": {},
     "output_type": "display_data"
    }
   ],
   "source": [
    "# confusionMatrix( data,        #예측값 또는 분할표(모델링을 통해 얻은 값)\n",
    "#                  reference)   #실제값\n",
    "\n",
    "#ex)confusionMatrix를 활용한 성과분석\n",
    "\n",
    "library(caret)    #라이브러리가 한번 활성화 되었다면 또 활성화하지 않아도 됨\n",
    "\n",
    "predicted<-factor(c(1,0,0,1,1,1,0,0,0,1,1,1))\n",
    "actual<-factor(c(1,0,0,1,1,0,1,1,0,1,1,1))\n",
    "\n",
    "xtabs(~predicted + actual)    #분할표 그리기"
   ]
  },
  {
   "cell_type": "code",
   "execution_count": 8,
   "id": "30694a1d-dafd-4b4e-a42f-7da53c7b1b7a",
   "metadata": {},
   "outputs": [
    {
     "data": {
      "text/html": [
       "0.75"
      ],
      "text/latex": [
       "0.75"
      ],
      "text/markdown": [
       "0.75"
      ],
      "text/plain": [
       "[1] 0.75"
      ]
     },
     "metadata": {},
     "output_type": "display_data"
    }
   ],
   "source": [
    "sum(predicted==actual)/NROW(actual)   #정확도를 직접 식으로 계산"
   ]
  },
  {
   "cell_type": "code",
   "execution_count": 9,
   "id": "d11fb9cb-d6f6-4d40-ae79-204700d45572",
   "metadata": {},
   "outputs": [
    {
     "data": {
      "text/plain": [
       "Confusion Matrix and Statistics\n",
       "\n",
       "          Reference\n",
       "Prediction 0 1\n",
       "         0 3 2\n",
       "         1 1 6\n",
       "                                          \n",
       "               Accuracy : 0.75            \n",
       "                 95% CI : (0.4281, 0.9451)\n",
       "    No Information Rate : 0.6667          \n",
       "    P-Value [Acc > NIR] : 0.3931          \n",
       "                                          \n",
       "                  Kappa : 0.4706          \n",
       "                                          \n",
       " Mcnemar's Test P-Value : 1.0000          \n",
       "                                          \n",
       "            Sensitivity : 0.7500          \n",
       "            Specificity : 0.7500          \n",
       "         Pos Pred Value : 0.6000          \n",
       "         Neg Pred Value : 0.8571          \n",
       "             Prevalence : 0.3333          \n",
       "         Detection Rate : 0.2500          \n",
       "   Detection Prevalence : 0.4167          \n",
       "      Balanced Accuracy : 0.7500          \n",
       "                                          \n",
       "       'Positive' Class : 0               \n",
       "                                          "
      ]
     },
     "metadata": {},
     "output_type": "display_data"
    }
   ],
   "source": [
    "confusionMatrix(predicted, actual)   "
   ]
  },
  {
   "cell_type": "markdown",
   "id": "692a5592-c206-47a2-add0-ee69836d8af2",
   "metadata": {
    "tags": []
   },
   "source": [
    "### 2.2. ROC CURVE\n",
    "- 이진 분류 분석 모형을 비교 분석 결과를 가시화할 수 있다는 점에서 유용한 평가 도구.\n",
    "- ROC 그래프의 가로축은 1-특이도, 세로축은 민감도로 구성되어 이 두 값의 관계로 모형을 평가\n",
    "- 모형의 성과를 평가하는 기준은 ROC 그래프의 밑부분 면적(Area Under the ROC Curve,AUC)이 넓을수록 좋은 모형"
   ]
  },
  {
   "cell_type": "code",
   "execution_count": 10,
   "id": "abf67aa9-af4d-4fdd-9686-f906153acb56",
   "metadata": {},
   "outputs": [
    {
     "name": "stderr",
     "output_type": "stream",
     "text": [
      "Warning message:\n",
      "\"package 'ROCR' was built under R version 3.6.3\""
     ]
    },
    {
     "data": {
      "image/png": "[encoded data removed]",
      "text/plain": [
       "plot without title"
      ]
     },
     "metadata": {},
     "output_type": "display_data"
    }
   ],
   "source": [
    "# prediction( predictions,  #예측값(수치형으로 변환해야 함)\n",
    "#             labels)       #실제값(수치형으로 변환해야 함)\n",
    "\n",
    "# performance( prediction.obj,  #prediction 객체\n",
    "#              acc(accuracy), fpr(FP Rate), tpr(TP Rate), rec(recall)등을 지정할 수 있음\n",
    "#            )\n",
    "\n",
    "#ROC CURVE 예시(probs는 분류알고리즘이 예측한 값, labels는 실제 분류가 저장된 벡터)\n",
    "\n",
    "# install.packages(\"ROCR\")\n",
    "library(ROCR)\n",
    "\n",
    "set.seed(12345)\n",
    "\n",
    "probability<-runif(100)    #runif 함수는 균일분포값을 무작위로 추출하는 함수\n",
    "\n",
    "labels<-ifelse(probability>0.5&runif(100)<0.4,1,2)\n",
    "\n",
    "pred<-prediction(probability, labels)       #prediction 함수로 ROC 커브를 그릴 값을 예측\n",
    "\n",
    "plot(performance(pred, \"tpr\",\"fpr\"))  #ROC CURVE 그래프 그리기"
   ]
  },
  {
   "cell_type": "code",
   "execution_count": 11,
   "id": "74df0861-5815-41fb-b8d1-4a58659628c3",
   "metadata": {},
   "outputs": [
    {
     "data": {
      "text/html": [
       "<ol>\n",
       "\t<li>0.173598553345389</li>\n",
       "</ol>\n"
      ],
      "text/latex": [
       "\\begin{enumerate}\n",
       "\\item 0.173598553345389\n",
       "\\end{enumerate}\n"
      ],
      "text/markdown": [
       "1. 0.173598553345389\n",
       "\n",
       "\n"
      ],
      "text/plain": [
       "[[1]]\n",
       "[1] 0.1735986\n"
      ]
     },
     "metadata": {},
     "output_type": "display_data"
    }
   ],
   "source": [
    "performance(pred,\"auc\")@y.values      #AUC 값을 확인할 수 있음, 임의 값으로 한것이라 낮게 나타남"
   ]
  },
  {
   "cell_type": "raw",
   "id": "8b796268-fefa-47ea-a028-1a3342d75a90",
   "metadata": {},
   "source": [
    "\n"
   ]
  },
  {
   "cell_type": "markdown",
   "id": "ced1acc6-dd3b-4937-95d0-ca89db89a925",
   "metadata": {},
   "source": [
    "# [ PART 05. 정형 데이터마이닝 ] - 2장. 분류 분석\n",
    "- 분류분석은 데이터가 어떤 그룹에 속하는지 예측하는데 사용하는 기법.\n",
    "- 의사결정나무, 앙상블기법, 인공신경망 등이 있음.\n",
    "- ADP 실기에서는 \"분류기법들을 활용해 가장 정확도같은 지표가 좋은 기법과 결과를 보고서에 나타내라\"는 형식의 문제가 출제됨."
   ]
  },
  {
   "cell_type": "raw",
   "id": "a3d40324-e126-4c6f-8ff5-98083175a24a",
   "metadata": {},
   "source": [
    "\n"
   ]
  },
  {
   "cell_type": "markdown",
   "id": "5cffcffc-5bdd-44d9-9a3f-646600efb3e9",
   "metadata": {},
   "source": [
    "## 1. 로지스틱 회귀분석\n",
    "- 반응변수가 범주형인 경우 적용되는 회귀분석\n",
    "- 새로운 설명변수가 주어질 때 반응변수의 각 범주에 속할 확률이 얼마인지를 추정하여 추정확률을 기준치에 따라 분류하는 목적으로 활용"
   ]
  },
  {
   "cell_type": "code",
   "execution_count": 12,
   "id": "6e5ad695-26c6-48ca-8025-9a57707b0666",
   "metadata": {},
   "outputs": [],
   "source": [
    "credit<-read.csv(\"C:\\\\Users\\\\Administrator\\\\GitHub\\\\TIL\\\\ADP_study\\\\rawdata\\\\credit_final.csv\")"
   ]
  },
  {
   "cell_type": "code",
   "execution_count": 13,
   "id": "68c0bba1-50d8-451b-a079-a9676cf5295b",
   "metadata": {},
   "outputs": [
    {
     "data": {
      "text/html": [
       "'integer'"
      ],
      "text/latex": [
       "'integer'"
      ],
      "text/markdown": [
       "'integer'"
      ],
      "text/plain": [
       "[1] \"integer\""
      ]
     },
     "metadata": {},
     "output_type": "display_data"
    }
   ],
   "source": [
    "class(credit$credit.rating)"
   ]
  },
  {
   "cell_type": "code",
   "execution_count": 14,
   "id": "1cbbad66-f2c1-4d66-b030-dcdc2bd3d35d",
   "metadata": {},
   "outputs": [
    {
     "name": "stdout",
     "output_type": "stream",
     "text": [
      "'data.frame':\t1000 obs. of  21 variables:\n",
      " $ credit.rating                 : Factor w/ 2 levels \"0\",\"1\": 2 2 2 2 2 2 2 2 2 2 ...\n",
      " $ account.balance               : int  1 1 2 1 1 1 1 1 3 2 ...\n",
      " $ credit.duration.months        : int  18 9 12 12 12 10 8 6 18 24 ...\n",
      " $ previous.credit.payment.status: int  3 3 2 3 3 3 3 3 3 2 ...\n",
      " $ credit.purpose                : int  2 4 4 4 4 4 4 4 3 3 ...\n",
      " $ credit.amount                 : int  1049 2799 841 2122 2171 2241 3398 1361 1098 3758 ...\n",
      " $ savings                       : int  1 1 2 1 1 1 1 1 1 3 ...\n",
      " $ employment.duration           : int  1 2 3 2 2 1 3 1 1 1 ...\n",
      " $ installment.rate              : int  4 2 2 3 4 1 1 2 4 1 ...\n",
      " $ marital.status                : int  1 3 1 3 3 3 3 3 1 1 ...\n",
      " $ guarantor                     : int  1 1 1 1 1 1 1 1 1 1 ...\n",
      " $ residence.duration            : int  4 2 4 2 4 3 4 4 4 4 ...\n",
      " $ current.assets                : int  2 1 1 1 2 1 1 1 3 4 ...\n",
      " $ age                           : int  21 36 23 39 38 48 39 40 65 23 ...\n",
      " $ other.credits                 : int  2 2 2 2 1 2 2 2 2 2 ...\n",
      " $ apartment.type                : int  1 1 1 1 2 1 2 2 2 1 ...\n",
      " $ bank.credits                  : int  1 2 1 2 2 2 2 1 2 1 ...\n",
      " $ occupation                    : int  3 3 2 2 2 2 2 2 1 1 ...\n",
      " $ dependents                    : int  1 2 1 2 1 2 1 2 1 1 ...\n",
      " $ telephone                     : int  1 1 1 1 1 1 1 1 1 1 ...\n",
      " $ foreign.worker                : int  1 1 1 2 2 2 2 2 1 1 ...\n"
     ]
    }
   ],
   "source": [
    "credit$credit.rating<-factor(credit$credit.rating)\n",
    "str(credit)"
   ]
  },
  {
   "cell_type": "code",
   "execution_count": 15,
   "id": "e0a617e7-1e9f-4783-9e81-f15bebda9377",
   "metadata": {},
   "outputs": [],
   "source": [
    "set.seed(123)\n",
    "\n",
    "idx<-sample(1:nrow(credit),nrow(credit)*0.7,replace=FALSE)\n",
    "train<-credit[idx,]\n",
    "test<-credit[-idx,]"
   ]
  },
  {
   "cell_type": "code",
   "execution_count": 16,
   "id": "827d7f36-d2bd-434a-a9e0-9cad330ad7e9",
   "metadata": {},
   "outputs": [
    {
     "data": {
      "text/plain": [
       "\n",
       "Call:\n",
       "glm(formula = credit.rating ~ ., family = \"binomial\", data = train)\n",
       "\n",
       "Deviance Residuals: \n",
       "    Min       1Q   Median       3Q      Max  \n",
       "-2.4763  -0.7811   0.4133   0.7147   2.0078  \n",
       "\n",
       "Coefficients:\n",
       "                                 Estimate Std. Error z value Pr(>|z|)    \n",
       "(Intercept)                    -4.249e+00  1.419e+00  -2.994 0.002754 ** \n",
       "account.balance                 8.687e-01  1.224e-01   7.096 1.28e-12 ***\n",
       "credit.duration.months         -2.145e-02  1.072e-02  -2.000 0.045501 *  \n",
       "previous.credit.payment.status  5.635e-01  1.897e-01   2.971 0.002973 ** \n",
       "credit.purpose                 -4.133e-01  1.111e-01  -3.721 0.000198 ***\n",
       "credit.amount                  -7.722e-05  5.011e-05  -1.541 0.123341    \n",
       "savings                         3.531e-01  9.689e-02   3.645 0.000268 ***\n",
       "employment.duration             1.311e-01  1.003e-01   1.307 0.191067    \n",
       "installment.rate               -1.986e-01  1.002e-01  -1.983 0.047357 *  \n",
       "marital.status                  1.724e-01  9.722e-02   1.774 0.076139 .  \n",
       "guarantor                       6.995e-01  3.548e-01   1.971 0.048679 *  \n",
       "residence.duration             -2.940e-02  9.385e-02  -0.313 0.754063    \n",
       "current.assets                 -2.963e-01  1.075e-01  -2.757 0.005828 ** \n",
       "age                             1.587e-02  1.009e-02   1.573 0.115623    \n",
       "other.credits                   4.845e-01  2.480e-01   1.953 0.050801 .  \n",
       "apartment.type                  4.437e-01  2.061e-01   2.152 0.031369 *  \n",
       "bank.credits                   -2.773e-01  2.391e-01  -1.160 0.246186    \n",
       "occupation                     -1.608e-01  1.672e-01  -0.962 0.335964    \n",
       "dependents                     -1.087e-01  2.831e-01  -0.384 0.700955    \n",
       "telephone                       4.068e-01  2.257e-01   1.803 0.071425 .  \n",
       "foreign.worker                  1.433e+00  8.141e-01   1.760 0.078390 .  \n",
       "---\n",
       "Signif. codes:  0 '***' 0.001 '**' 0.01 '*' 0.05 '.' 0.1 ' ' 1\n",
       "\n",
       "(Dispersion parameter for binomial family taken to be 1)\n",
       "\n",
       "    Null deviance: 846.57  on 699  degrees of freedom\n",
       "Residual deviance: 651.47  on 679  degrees of freedom\n",
       "AIC: 693.47\n",
       "\n",
       "Number of Fisher Scoring iterations: 5\n"
      ]
     },
     "metadata": {},
     "output_type": "display_data"
    }
   ],
   "source": [
    "# ex) 앞서 분할한 credit 데이터의 train 데이터로 로지스틱 회귀모델을 만들어 보자.\n",
    "\n",
    "# glm( formula,\n",
    "#      data,\n",
    "#      family,      #\"binomial\",\"gaussian\",\"Gamma\",\"poisson\" 등이 있음\n",
    "#      ...)\n",
    "\n",
    "logistic<-glm(credit.rating~., \n",
    "              data=train, \n",
    "              family=\"binomial\")\n",
    "\n",
    "summary(logistic)"
   ]
  },
  {
   "cell_type": "code",
   "execution_count": 17,
   "id": "832ab978-9b1d-45ee-8e3c-dabe0527c3b6",
   "metadata": {},
   "outputs": [
    {
     "name": "stdout",
     "output_type": "stream",
     "text": [
      "Start:  AIC=848.57\n",
      "credit.rating ~ 1\n",
      "\n",
      "                                 Df Deviance    AIC\n",
      "+ account.balance                 1   761.97 765.97\n",
      "+ savings                         1   817.12 821.12\n",
      "+ credit.duration.months          1   818.40 822.40\n",
      "+ previous.credit.payment.status  1   821.29 825.29\n",
      "+ current.assets                  1   832.86 836.86\n",
      "+ credit.amount                   1   835.30 839.30\n",
      "+ age                             1   835.37 839.37\n",
      "+ credit.purpose                  1   837.72 841.72\n",
      "+ employment.duration             1   837.80 841.80\n",
      "+ other.credits                   1   839.28 843.28\n",
      "+ foreign.worker                  1   839.45 843.45\n",
      "+ installment.rate                1   842.94 846.94\n",
      "+ marital.status                  1   843.24 847.24\n",
      "+ telephone                       1   843.75 847.75\n",
      "+ apartment.type                  1   844.24 848.24\n",
      "<none>                                846.57 848.57\n",
      "+ occupation                      1   845.33 849.33\n",
      "+ guarantor                       1   845.60 849.60\n",
      "+ bank.credits                    1   845.79 849.79\n",
      "+ dependents                      1   846.34 850.34\n",
      "+ residence.duration              1   846.39 850.39\n",
      "\n",
      "Step:  AIC=765.97\n",
      "credit.rating ~ account.balance\n",
      "\n",
      "                                 Df Deviance    AIC\n",
      "+ credit.duration.months          1   738.84 744.84\n",
      "+ previous.credit.payment.status  1   747.38 753.38\n",
      "+ current.assets                  1   748.44 754.44\n",
      "+ savings                         1   749.48 755.48\n",
      "+ foreign.worker                  1   751.18 757.18\n",
      "+ credit.purpose                  1   751.40 757.40\n",
      "+ age                             1   752.09 758.09\n",
      "+ credit.amount                   1   752.24 758.24\n",
      "+ other.credits                   1   754.34 760.34\n",
      "+ employment.duration             1   756.99 762.99\n",
      "+ guarantor                       1   757.16 763.16\n",
      "+ marital.status                  1   759.13 765.13\n",
      "+ installment.rate                1   759.48 765.48\n",
      "<none>                                761.97 765.97\n",
      "+ occupation                      1   760.38 766.38\n",
      "+ apartment.type                  1   760.65 766.65\n",
      "+ telephone                       1   760.86 766.86\n",
      "+ residence.duration              1   760.91 766.91\n",
      "+ dependents                      1   761.72 767.72\n",
      "+ bank.credits                    1   761.95 767.95\n",
      "- account.balance                 1   846.57 848.57\n",
      "\n",
      "Step:  AIC=744.84\n",
      "credit.rating ~ account.balance + credit.duration.months\n",
      "\n",
      "                                 Df Deviance    AIC\n",
      "+ previous.credit.payment.status  1   724.73 732.73\n",
      "+ savings                         1   725.43 733.43\n",
      "+ credit.purpose                  1   727.04 735.04\n",
      "+ age                             1   730.32 738.32\n",
      "+ foreign.worker                  1   731.34 739.34\n",
      "+ employment.duration             1   732.40 740.40\n",
      "+ current.assets                  1   733.16 741.16\n",
      "+ other.credits                   1   733.23 741.23\n",
      "+ guarantor                       1   733.69 741.69\n",
      "+ marital.status                  1   734.34 742.34\n",
      "+ apartment.type                  1   735.60 743.60\n",
      "+ telephone                       1   735.74 743.74\n",
      "+ installment.rate                1   736.81 744.81\n",
      "<none>                                738.84 744.84\n",
      "+ residence.duration              1   737.75 745.75\n",
      "+ occupation                      1   738.60 746.60\n",
      "+ dependents                      1   738.69 746.69\n",
      "+ bank.credits                    1   738.81 746.81\n",
      "+ credit.amount                   1   738.84 746.84\n",
      "- credit.duration.months          1   761.97 765.97\n",
      "- account.balance                 1   818.40 822.40\n",
      "\n",
      "Step:  AIC=732.73\n",
      "credit.rating ~ account.balance + credit.duration.months + previous.credit.payment.status\n",
      "\n",
      "                                 Df Deviance    AIC\n",
      "+ savings                         1   709.53 719.53\n",
      "+ credit.purpose                  1   713.08 723.08\n",
      "+ foreign.worker                  1   717.65 727.65\n",
      "+ guarantor                       1   718.72 728.72\n",
      "+ age                             1   719.12 729.12\n",
      "+ current.assets                  1   719.90 729.90\n",
      "+ employment.duration             1   720.59 730.59\n",
      "+ other.credits                   1   720.85 730.85\n",
      "+ bank.credits                    1   721.21 731.21\n",
      "+ marital.status                  1   721.60 731.60\n",
      "+ apartment.type                  1   722.13 732.13\n",
      "+ telephone                       1   722.61 732.61\n",
      "+ installment.rate                1   722.70 732.70\n",
      "<none>                                724.73 732.73\n",
      "+ residence.duration              1   724.10 734.10\n",
      "+ occupation                      1   724.21 734.21\n",
      "+ dependents                      1   724.63 734.63\n",
      "+ credit.amount                   1   724.70 734.70\n",
      "- previous.credit.payment.status  1   738.84 744.84\n",
      "- credit.duration.months          1   747.38 753.38\n",
      "- account.balance                 1   793.25 799.25\n",
      "\n",
      "Step:  AIC=719.53\n",
      "credit.rating ~ account.balance + credit.duration.months + previous.credit.payment.status + \n",
      "    savings\n",
      "\n",
      "                                 Df Deviance    AIC\n",
      "+ credit.purpose                  1   697.86 709.86\n",
      "+ guarantor                       1   701.87 713.87\n",
      "+ foreign.worker                  1   703.31 715.31\n",
      "+ current.assets                  1   704.12 716.12\n",
      "+ age                             1   704.83 716.83\n",
      "+ other.credits                   1   705.56 717.56\n",
      "+ marital.status                  1   705.89 717.89\n",
      "+ employment.duration             1   706.35 718.35\n",
      "+ apartment.type                  1   706.49 718.49\n",
      "+ bank.credits                    1   706.94 718.94\n",
      "+ installment.rate                1   707.42 719.42\n",
      "<none>                                709.53 719.53\n",
      "+ telephone                       1   708.50 720.50\n",
      "+ occupation                      1   709.13 721.13\n",
      "+ residence.duration              1   709.29 721.29\n",
      "+ dependents                      1   709.40 721.40\n",
      "+ credit.amount                   1   709.43 721.43\n",
      "- savings                         1   724.73 732.73\n",
      "- previous.credit.payment.status  1   725.43 733.43\n",
      "- credit.duration.months          1   733.39 741.39\n",
      "- account.balance                 1   760.85 768.85\n",
      "\n",
      "Step:  AIC=709.86\n",
      "credit.rating ~ account.balance + credit.duration.months + previous.credit.payment.status + \n",
      "    savings + credit.purpose\n",
      "\n",
      "                                 Df Deviance    AIC\n",
      "+ current.assets                  1   690.41 704.41\n",
      "+ foreign.worker                  1   690.93 704.93\n",
      "+ guarantor                       1   690.96 704.96\n",
      "+ age                             1   692.75 706.75\n",
      "+ marital.status                  1   692.89 706.89\n",
      "+ employment.duration             1   694.44 708.44\n",
      "+ apartment.type                  1   694.56 708.56\n",
      "+ other.credits                   1   694.89 708.89\n",
      "<none>                                697.86 709.86\n",
      "+ bank.credits                    1   696.00 710.00\n",
      "+ installment.rate                1   696.12 710.12\n",
      "+ occupation                      1   696.52 710.52\n",
      "+ telephone                       1   696.92 710.92\n",
      "+ credit.amount                   1   697.40 711.40\n",
      "+ dependents                      1   697.63 711.63\n",
      "+ residence.duration              1   697.77 711.77\n",
      "- credit.purpose                  1   709.53 719.53\n",
      "- savings                         1   713.08 723.08\n",
      "- previous.credit.payment.status  1   713.72 723.72\n",
      "- credit.duration.months          1   722.75 732.75\n",
      "- account.balance                 1   751.20 761.20\n",
      "\n",
      "Step:  AIC=704.41\n",
      "credit.rating ~ account.balance + credit.duration.months + previous.credit.payment.status + \n",
      "    savings + credit.purpose + current.assets\n",
      "\n",
      "                                 Df Deviance    AIC\n",
      "+ apartment.type                  1   682.70 698.70\n",
      "+ age                             1   683.31 699.31\n",
      "+ foreign.worker                  1   684.57 700.57\n",
      "+ guarantor                       1   684.94 700.94\n",
      "+ marital.status                  1   685.00 701.00\n",
      "+ employment.duration             1   686.34 702.34\n",
      "+ other.credits                   1   688.09 704.09\n",
      "+ telephone                       1   688.35 704.35\n",
      "<none>                                690.41 704.41\n",
      "+ bank.credits                    1   688.64 704.64\n",
      "+ installment.rate                1   689.04 705.04\n",
      "+ occupation                      1   690.02 706.02\n",
      "+ residence.duration              1   690.11 706.11\n",
      "+ dependents                      1   690.13 706.13\n",
      "+ credit.amount                   1   690.34 706.34\n",
      "- current.assets                  1   697.86 709.86\n",
      "- credit.purpose                  1   704.12 716.12\n",
      "- previous.credit.payment.status  1   705.30 717.30\n",
      "- savings                         1   706.36 718.36\n",
      "- credit.duration.months          1   706.49 718.49\n",
      "- account.balance                 1   744.08 756.08\n",
      "\n",
      "Step:  AIC=698.7\n",
      "credit.rating ~ account.balance + credit.duration.months + previous.credit.payment.status + \n",
      "    savings + credit.purpose + current.assets + apartment.type\n",
      "\n",
      "                                 Df Deviance    AIC\n",
      "+ foreign.worker                  1   676.21 694.21\n",
      "+ guarantor                       1   677.12 695.12\n",
      "+ age                             1   678.76 696.76\n",
      "+ marital.status                  1   679.37 697.37\n",
      "+ employment.duration             1   679.61 697.61\n",
      "+ other.credits                   1   679.81 697.81\n",
      "+ installment.rate                1   680.47 698.47\n",
      "+ telephone                       1   680.58 698.58\n",
      "<none>                                682.70 698.70\n",
      "+ bank.credits                    1   681.07 699.07\n",
      "+ occupation                      1   682.35 700.35\n",
      "+ residence.duration              1   682.39 700.39\n",
      "+ dependents                      1   682.63 700.63\n",
      "+ credit.amount                   1   682.63 700.63\n",
      "- apartment.type                  1   690.41 704.41\n",
      "- current.assets                  1   694.56 708.56\n",
      "- previous.credit.payment.status  1   696.22 710.22\n",
      "- credit.purpose                  1   697.55 711.55\n",
      "- savings                         1   699.58 713.58\n",
      "- credit.duration.months          1   700.14 714.14\n",
      "- account.balance                 1   735.18 749.18\n",
      "\n",
      "Step:  AIC=694.21\n",
      "credit.rating ~ account.balance + credit.duration.months + previous.credit.payment.status + \n",
      "    savings + credit.purpose + current.assets + apartment.type + \n",
      "    foreign.worker\n",
      "\n",
      "                                 Df Deviance    AIC\n",
      "+ guarantor                       1   672.46 692.46\n",
      "+ age                             1   672.50 692.50\n",
      "+ other.credits                   1   673.01 693.01\n",
      "+ employment.duration             1   673.02 693.02\n",
      "+ marital.status                  1   673.43 693.43\n",
      "+ telephone                       1   673.89 693.89\n",
      "<none>                                676.21 694.21\n",
      "+ installment.rate                1   674.68 694.68\n",
      "+ bank.credits                    1   674.79 694.79\n",
      "+ residence.duration              1   675.92 695.92\n",
      "+ occupation                      1   675.94 695.94\n",
      "+ credit.amount                   1   675.98 695.98\n",
      "+ dependents                      1   676.17 696.17\n",
      "- foreign.worker                  1   682.70 698.70\n",
      "- apartment.type                  1   684.57 700.57\n",
      "- current.assets                  1   687.01 703.01\n",
      "- previous.credit.payment.status  1   689.51 705.51\n",
      "- credit.duration.months          1   691.63 707.63\n",
      "- credit.purpose                  1   691.85 707.85\n",
      "- savings                         1   692.44 708.44\n",
      "- account.balance                 1   730.93 746.93\n",
      "\n",
      "Step:  AIC=692.46\n",
      "credit.rating ~ account.balance + credit.duration.months + previous.credit.payment.status + \n",
      "    savings + credit.purpose + current.assets + apartment.type + \n",
      "    foreign.worker + guarantor\n",
      "\n",
      "                                 Df Deviance    AIC\n",
      "+ age                             1   668.86 690.86\n",
      "+ other.credits                   1   669.00 691.00\n",
      "+ employment.duration             1   669.15 691.15\n",
      "+ marital.status                  1   669.93 691.93\n",
      "+ telephone                       1   670.01 692.01\n",
      "<none>                                672.46 692.46\n",
      "+ bank.credits                    1   670.79 692.79\n",
      "+ installment.rate                1   671.11 693.11\n",
      "+ credit.amount                   1   672.07 694.07\n",
      "+ occupation                      1   672.19 694.19\n",
      "+ residence.duration              1   672.20 694.20\n",
      "- guarantor                       1   676.21 694.21\n",
      "+ dependents                      1   672.43 694.43\n",
      "- foreign.worker                  1   677.12 695.12\n",
      "- apartment.type                  1   680.81 698.81\n",
      "- current.assets                  1   682.08 700.08\n",
      "- previous.credit.payment.status  1   686.53 704.53\n",
      "- credit.purpose                  1   687.00 705.00\n",
      "- credit.duration.months          1   688.83 706.83\n",
      "- savings                         1   689.97 707.97\n",
      "- account.balance                 1   729.18 747.18\n",
      "\n",
      "Step:  AIC=690.86\n",
      "credit.rating ~ account.balance + credit.duration.months + previous.credit.payment.status + \n",
      "    savings + credit.purpose + current.assets + apartment.type + \n",
      "    foreign.worker + guarantor + age\n",
      "\n",
      "                                 Df Deviance    AIC\n",
      "+ other.credits                   1   665.40 689.40\n",
      "+ marital.status                  1   666.21 690.21\n",
      "+ bank.credits                    1   666.82 690.82\n",
      "<none>                                668.86 690.86\n",
      "+ telephone                       1   666.95 690.95\n",
      "+ employment.duration             1   667.09 691.09\n",
      "+ installment.rate                1   667.18 691.18\n",
      "- age                             1   672.46 692.46\n",
      "+ credit.amount                   1   668.46 692.46\n",
      "- guarantor                       1   672.50 692.50\n",
      "+ occupation                      1   668.56 692.56\n",
      "+ dependents                      1   668.86 692.86\n",
      "+ residence.duration              1   668.86 692.86\n",
      "- foreign.worker                  1   673.34 693.34\n",
      "- apartment.type                  1   673.96 693.96\n",
      "- current.assets                  1   678.94 698.94\n",
      "- previous.credit.payment.status  1   680.46 700.46\n",
      "- credit.duration.months          1   683.44 703.44\n",
      "- credit.purpose                  1   683.80 703.80\n",
      "- savings                         1   685.13 705.13\n",
      "- account.balance                 1   726.24 746.24\n",
      "\n",
      "Step:  AIC=689.4\n",
      "credit.rating ~ account.balance + credit.duration.months + previous.credit.payment.status + \n",
      "    savings + credit.purpose + current.assets + apartment.type + \n",
      "    foreign.worker + guarantor + age + other.credits\n",
      "\n",
      "                                 Df Deviance    AIC\n",
      "+ marital.status                  1   662.52 688.52\n",
      "<none>                                665.40 689.40\n",
      "+ telephone                       1   663.54 689.54\n",
      "+ employment.duration             1   663.56 689.56\n",
      "+ installment.rate                1   663.60 689.60\n",
      "+ bank.credits                    1   663.93 689.93\n",
      "+ credit.amount                   1   664.86 690.86\n",
      "- other.credits                   1   668.86 690.86\n",
      "+ occupation                      1   664.96 690.96\n",
      "- age                             1   669.00 691.00\n",
      "- guarantor                       1   669.27 691.27\n",
      "+ dependents                      1   665.39 691.39\n",
      "+ residence.duration              1   665.39 691.39\n",
      "- foreign.worker                  1   670.15 692.15\n",
      "- apartment.type                  1   671.10 693.10\n",
      "- current.assets                  1   674.92 696.92\n",
      "- previous.credit.payment.status  1   675.51 697.51\n",
      "- credit.purpose                  1   678.94 700.94\n",
      "- credit.duration.months          1   679.13 701.13\n",
      "- savings                         1   681.77 703.77\n",
      "- account.balance                 1   723.42 745.42\n",
      "\n",
      "Step:  AIC=688.52\n",
      "credit.rating ~ account.balance + credit.duration.months + previous.credit.payment.status + \n",
      "    savings + credit.purpose + current.assets + apartment.type + \n",
      "    foreign.worker + guarantor + age + other.credits + marital.status\n",
      "\n",
      "                                 Df Deviance    AIC\n",
      "+ installment.rate                1   659.86 687.86\n",
      "<none>                                662.52 688.52\n",
      "+ telephone                       1   660.70 688.70\n",
      "+ bank.credits                    1   661.03 689.03\n",
      "+ employment.duration             1   661.22 689.22\n",
      "- marital.status                  1   665.40 689.40\n",
      "+ credit.amount                   1   662.07 690.07\n",
      "- guarantor                       1   666.10 690.10\n",
      "+ occupation                      1   662.11 690.11\n",
      "- other.credits                   1   666.21 690.21\n",
      "- age                             1   666.25 690.25\n",
      "+ dependents                      1   662.49 690.49\n",
      "- apartment.type                  1   666.51 690.51\n",
      "+ residence.duration              1   662.52 690.52\n",
      "- foreign.worker                  1   666.90 690.90\n",
      "- current.assets                  1   671.86 695.86\n",
      "- previous.credit.payment.status  1   671.87 695.87\n",
      "- credit.purpose                  1   676.96 700.96\n",
      "- credit.duration.months          1   677.03 701.03\n",
      "- savings                         1   679.14 703.14\n",
      "- account.balance                 1   720.47 744.47\n",
      "\n",
      "Step:  AIC=687.86\n",
      "credit.rating ~ account.balance + credit.duration.months + previous.credit.payment.status + \n",
      "    savings + credit.purpose + current.assets + apartment.type + \n",
      "    foreign.worker + guarantor + age + other.credits + marital.status + \n",
      "    installment.rate\n",
      "\n",
      "                                 Df Deviance    AIC\n",
      "<none>                                659.86 687.86\n",
      "+ credit.amount                   1   657.88 687.88\n",
      "+ telephone                       1   658.20 688.20\n",
      "+ bank.credits                    1   658.44 688.44\n",
      "+ employment.duration             1   658.44 688.44\n",
      "- installment.rate                1   662.52 688.52\n",
      "- guarantor                       1   663.09 689.09\n",
      "- foreign.worker                  1   663.52 689.52\n",
      "+ occupation                      1   659.54 689.54\n",
      "- marital.status                  1   663.60 689.60\n",
      "- other.credits                   1   663.74 689.74\n",
      "+ dependents                      1   659.77 689.77\n",
      "+ residence.duration              1   659.85 689.85\n",
      "- age                             1   664.07 690.07\n",
      "- apartment.type                  1   664.22 690.22\n",
      "- previous.credit.payment.status  1   668.62 694.62\n",
      "- current.assets                  1   669.29 695.29\n",
      "- credit.purpose                  1   673.93 699.93\n",
      "- credit.duration.months          1   674.24 700.24\n",
      "- savings                         1   676.80 702.80\n",
      "- account.balance                 1   716.56 742.56\n"
     ]
    }
   ],
   "source": [
    "# 최적 회귀방정식의 선택\n",
    "# step( scope,        #변수선택 과정에서 설정할 수 있는 가장 큰 모형 혹은 가장 작은 모형을 설정\n",
    "#                    #전진선택법에서는 가장 큰모형으로, 후진제거법에서는 가장 작은 모형으로 설정\n",
    "#       direction,    #변수 선택법(forward, backward, stepwise)\n",
    "#       ...)\n",
    "\n",
    "# ex) 앞서 분할한 credit 데이터의 train 데이터로 로지스틱 회귀모델을 만들어 보자.\n",
    "\n",
    "step.logistic<-step(glm(credit.rating~1, data=train, family=\"binomial\"),\n",
    "                    scope=list(lower=~1, upper=~account.balance+credit.duration.months+previous.credit.payment.status+\n",
    "                                 credit.purpose+credit.amount+savings+employment.duration+installment.rate+\n",
    "                                 marital.status+guarantor+residence.duration+current.assets+age+other.credits+\n",
    "                                 apartment.type+bank.credits+occupation+dependents+telephone+foreign.worker),\n",
    "                    direction=\"both\")"
   ]
  },
  {
   "cell_type": "code",
   "execution_count": 18,
   "id": "0ff3008a-e159-46e5-aca2-16501236229e",
   "metadata": {},
   "outputs": [
    {
     "data": {
      "text/plain": [
       "\n",
       "Call:\n",
       "glm(formula = credit.rating ~ account.balance + credit.duration.months + \n",
       "    previous.credit.payment.status + savings + credit.purpose + \n",
       "    current.assets + apartment.type + foreign.worker + guarantor + \n",
       "    age + other.credits + marital.status + installment.rate, \n",
       "    family = \"binomial\", data = train)\n",
       "\n",
       "Deviance Residuals: \n",
       "    Min       1Q   Median       3Q      Max  \n",
       "-2.4734  -0.8128   0.4436   0.7404   1.8425  \n",
       "\n",
       "Coefficients:\n",
       "                                Estimate Std. Error z value Pr(>|z|)    \n",
       "(Intercept)                    -4.453085   1.295853  -3.436 0.000589 ***\n",
       "account.balance                 0.877274   0.120850   7.259 3.89e-13 ***\n",
       "credit.duration.months         -0.030855   0.008188  -3.768 0.000164 ***\n",
       "previous.credit.payment.status  0.484631   0.165356   2.931 0.003381 ** \n",
       "savings                         0.377087   0.095484   3.949 7.84e-05 ***\n",
       "credit.purpose                 -0.395226   0.108290  -3.650 0.000263 ***\n",
       "current.assets                 -0.314207   0.103329  -3.041 0.002359 ** \n",
       "apartment.type                  0.423587   0.202868   2.088 0.036798 *  \n",
       "foreign.worker                  1.371175   0.809628   1.694 0.090344 .  \n",
       "guarantor                       0.608202   0.347239   1.752 0.079853 .  \n",
       "age                             0.019056   0.009441   2.018 0.043540 *  \n",
       "other.credits                   0.483427   0.243663   1.984 0.047256 *  \n",
       "marital.status                  0.181255   0.093959   1.929 0.053720 .  \n",
       "installment.rate               -0.146927   0.090550  -1.623 0.104674    \n",
       "---\n",
       "Signif. codes:  0 '***' 0.001 '**' 0.01 '*' 0.05 '.' 0.1 ' ' 1\n",
       "\n",
       "(Dispersion parameter for binomial family taken to be 1)\n",
       "\n",
       "    Null deviance: 846.57  on 699  degrees of freedom\n",
       "Residual deviance: 659.86  on 686  degrees of freedom\n",
       "AIC: 687.86\n",
       "\n",
       "Number of Fisher Scoring iterations: 5\n"
      ]
     },
     "metadata": {},
     "output_type": "display_data"
    }
   ],
   "source": [
    "summary(step.logistic)"
   ]
  },
  {
   "cell_type": "code",
   "execution_count": 19,
   "id": "d0f75e77-aefe-4ce3-b302-aad7790c3584",
   "metadata": {},
   "outputs": [
    {
     "data": {
      "text/plain": [
       "\n",
       "Call:\n",
       "glm(formula = credit.rating ~ account.balance + credit.duration.months + \n",
       "    previous.credit.payment.status + savings + credit.purpose + \n",
       "    current.assets + apartment.type + foreign.worker + guarantor + \n",
       "    age + other.credits + marital.status + installment.rate, \n",
       "    family = \"binomial\", data = train)\n",
       "\n",
       "Deviance Residuals: \n",
       "    Min       1Q   Median       3Q      Max  \n",
       "-2.4734  -0.8128   0.4436   0.7404   1.8425  \n",
       "\n",
       "Coefficients:\n",
       "                                Estimate Std. Error z value Pr(>|z|)    \n",
       "(Intercept)                    -4.453085   1.295853  -3.436 0.000589 ***\n",
       "account.balance                 0.877274   0.120850   7.259 3.89e-13 ***\n",
       "credit.duration.months         -0.030855   0.008188  -3.768 0.000164 ***\n",
       "previous.credit.payment.status  0.484631   0.165356   2.931 0.003381 ** \n",
       "savings                         0.377087   0.095484   3.949 7.84e-05 ***\n",
       "credit.purpose                 -0.395226   0.108290  -3.650 0.000263 ***\n",
       "current.assets                 -0.314207   0.103329  -3.041 0.002359 ** \n",
       "apartment.type                  0.423587   0.202868   2.088 0.036798 *  \n",
       "foreign.worker                  1.371175   0.809628   1.694 0.090344 .  \n",
       "guarantor                       0.608202   0.347239   1.752 0.079853 .  \n",
       "age                             0.019056   0.009441   2.018 0.043540 *  \n",
       "other.credits                   0.483427   0.243663   1.984 0.047256 *  \n",
       "marital.status                  0.181255   0.093959   1.929 0.053720 .  \n",
       "installment.rate               -0.146927   0.090550  -1.623 0.104674    \n",
       "---\n",
       "Signif. codes:  0 '***' 0.001 '**' 0.01 '*' 0.05 '.' 0.1 ' ' 1\n",
       "\n",
       "(Dispersion parameter for binomial family taken to be 1)\n",
       "\n",
       "    Null deviance: 846.57  on 699  degrees of freedom\n",
       "Residual deviance: 659.86  on 686  degrees of freedom\n",
       "AIC: 687.86\n",
       "\n",
       "Number of Fisher Scoring iterations: 5\n"
      ]
     },
     "metadata": {},
     "output_type": "display_data"
    }
   ],
   "source": [
    "# 예측을 통한 정확도 확인\n",
    "library(caret)\n",
    "pred<-predict(step.logistic,test[,-1],type=\"response\")             #predict 함수를 사용한 예측\n",
    "pred1<-as.data.frame(pred)                                         #결과를 data.frame으로 변형\n",
    "pred1$grade<-ifelse(pred1$pred<0.5,pred1$grade<-0,pred1$grade<-1)  #숫자값만 나오므로, 0.5를 기준으로 0, 1 범주 추가\n",
    "\n",
    "summary(step.logistic)"
   ]
  },
  {
   "cell_type": "code",
   "execution_count": 20,
   "id": "fcc55acf-0cc2-46bd-b9b7-e7395fefee1a",
   "metadata": {},
   "outputs": [
    {
     "data": {
      "image/png": "[encoded data removed]",
      "text/plain": [
       "plot without title"
      ]
     },
     "metadata": {},
     "output_type": "display_data"
    }
   ],
   "source": [
    "library(ROCR)\n",
    "pred.logistic.roc<-prediction(as.numeric(pred1$grade),as.numeric(test[,1]))\n",
    "plot(performance(pred.logistic.roc,\"tpr\",\"fpr\"))          #ROC Curve 작성.\n",
    "abline(a=0,b=1,lty=2,col=\"black\")    "
   ]
  },
  {
   "cell_type": "code",
   "execution_count": 21,
   "id": "914352cb-432c-4225-9e84-6e71210faccb",
   "metadata": {},
   "outputs": [
    {
     "data": {
      "text/html": [
       "<ol>\n",
       "\t<li>0.670218228498074</li>\n",
       "</ol>\n"
      ],
      "text/latex": [
       "\\begin{enumerate}\n",
       "\\item 0.670218228498074\n",
       "\\end{enumerate}\n"
      ],
      "text/markdown": [
       "1. 0.670218228498074\n",
       "\n",
       "\n"
      ],
      "text/plain": [
       "[[1]]\n",
       "[1] 0.6702182\n"
      ]
     },
     "metadata": {},
     "output_type": "display_data"
    }
   ],
   "source": [
    "performance(pred.logistic.roc,\"auc\")@y.values             #auc값이 67%로 성능이 좋지않음."
   ]
  },
  {
   "cell_type": "code",
   "execution_count": 22,
   "id": "18de0302-65c9-47a1-ac5d-2a791580aaad",
   "metadata": {},
   "outputs": [],
   "source": [
    "# 다항 로지스틱 회귀분석 실시\n",
    "\n",
    "# multinom( formula,   #수식\n",
    "#           data            #데이터\n",
    "#           ...)\n",
    "\n",
    "#데이터 분할\n",
    "\n",
    "idx<-sample(1:nrow(iris),nrow(iris)*0.7,replace=FALSE)\n",
    "train.iris<-iris[idx,]\n",
    "test.iris<-iris[-idx,]\n",
    "\n",
    "# install.packages(\"nnet\")\n",
    "library(nnet)\n",
    "\n"
   ]
  },
  {
   "cell_type": "code",
   "execution_count": 23,
   "id": "253093cb-af8b-4465-a471-f17d02851a4a",
   "metadata": {},
   "outputs": [
    {
     "name": "stdout",
     "output_type": "stream",
     "text": [
      "# weights:  18 (10 variable)\n",
      "initial  value 115.354290 \n",
      "iter  10 value 11.814376\n",
      "iter  20 value 5.835729\n",
      "iter  30 value 5.729057\n",
      "iter  40 value 5.720449\n",
      "iter  50 value 5.715789\n",
      "iter  60 value 5.711880\n",
      "iter  70 value 5.708283\n",
      "iter  80 value 5.708073\n",
      "iter  90 value 5.707557\n",
      "iter 100 value 5.707382\n",
      "final  value 5.707382 \n",
      "stopped after 100 iterations\n"
     ]
    }
   ],
   "source": [
    "mul.iris<-multinom(Species~., train.iris)"
   ]
  },
  {
   "cell_type": "code",
   "execution_count": 24,
   "id": "55b5e6a4-2bf4-4c21-92fd-38f7a708726a",
   "metadata": {},
   "outputs": [
    {
     "data": {
      "text/plain": [
       "Confusion Matrix and Statistics\n",
       "\n",
       "            Reference\n",
       "Prediction   setosa versicolor virginica\n",
       "  setosa         15          0         0\n",
       "  versicolor      0         10         0\n",
       "  virginica       0          0        20\n",
       "\n",
       "Overall Statistics\n",
       "                                     \n",
       "               Accuracy : 1          \n",
       "                 95% CI : (0.9213, 1)\n",
       "    No Information Rate : 0.4444     \n",
       "    P-Value [Acc > NIR] : < 2.2e-16  \n",
       "                                     \n",
       "                  Kappa : 1          \n",
       "                                     \n",
       " Mcnemar's Test P-Value : NA         \n",
       "\n",
       "Statistics by Class:\n",
       "\n",
       "                     Class: setosa Class: versicolor Class: virginica\n",
       "Sensitivity                 1.0000            1.0000           1.0000\n",
       "Specificity                 1.0000            1.0000           1.0000\n",
       "Pos Pred Value              1.0000            1.0000           1.0000\n",
       "Neg Pred Value              1.0000            1.0000           1.0000\n",
       "Prevalence                  0.3333            0.2222           0.4444\n",
       "Detection Rate              0.3333            0.2222           0.4444\n",
       "Detection Prevalence        0.3333            0.2222           0.4444\n",
       "Balanced Accuracy           1.0000            1.0000           1.0000"
      ]
     },
     "metadata": {},
     "output_type": "display_data"
    }
   ],
   "source": [
    "pred.mul<-predict(mul.iris,test.iris[,-5])\n",
    "\n",
    "confusionMatrix(pred.mul, test.iris[,5])"
   ]
  },
  {
   "cell_type": "raw",
   "id": "7513a6b5-6ee2-4a6f-9a75-6717aef29ebc",
   "metadata": {},
   "source": [
    "\n"
   ]
  },
  {
   "cell_type": "markdown",
   "id": "7c48e298-3500-4129-bd65-530b24086c14",
   "metadata": {},
   "source": [
    "## 2. 의사결정나무\n",
    "- 의사결정나무를 실행하기 위한 함수는 tree, ctree, rpart 등의 방법이 있음.\n",
    "- tree함수는 불순도의 측도로 엔트로피 지수를 사용.\n",
    "- ctree함수는 분석 결과에서 별도로 가지치기할 필요가 없지만 입력 변수는 31개까지만 입력가능.\n",
    "- rpart함수는 CART 방법을 사용."
   ]
  },
  {
   "cell_type": "code",
   "execution_count": 31,
   "id": "c659c5ee-4e21-4d3f-9440-eabb01a297d9",
   "metadata": {},
   "outputs": [
    {
     "data": {
      "text/plain": [
       "n= 700 \n",
       "\n",
       "node), split, n, loss, yval, (yprob)\n",
       "      * denotes terminal node\n",
       "\n",
       " 1) root 700 205 1 (0.2928571 0.7071429)  \n",
       "   2) account.balance< 2.5 375 168 1 (0.4480000 0.5520000)  \n",
       "     4) credit.duration.months>=22.5 160  69 0 (0.5687500 0.4312500)  \n",
       "       8) savings< 2.5 128  47 0 (0.6328125 0.3671875)  \n",
       "        16) credit.purpose>=1.5 111  35 0 (0.6846847 0.3153153) *\n",
       "        17) credit.purpose< 1.5 17   5 1 (0.2941176 0.7058824) *\n",
       "       9) savings>=2.5 32  10 1 (0.3125000 0.6875000) *\n",
       "     5) credit.duration.months< 22.5 215  77 1 (0.3581395 0.6418605)  \n",
       "      10) previous.credit.payment.status< 1.5 15   3 0 (0.8000000 0.2000000) *\n",
       "      11) previous.credit.payment.status>=1.5 200  65 1 (0.3250000 0.6750000) *\n",
       "   3) account.balance>=2.5 325  37 1 (0.1138462 0.8861538) *"
      ]
     },
     "metadata": {},
     "output_type": "display_data"
    }
   ],
   "source": [
    "# 1) rpart : CART(Classification and Regression Trees)를 사용했으며, GINI INDEX를 가장 많이 감소시켜주는 변수가\n",
    "#         : 영향을 가장 많이 끼치는 변수가 됨.\n",
    "\n",
    "# rpart( formula,     \n",
    "#        data,        \n",
    "#        method,      # \"anova\", \"poisson\", \"class\", \"exp\" 4가지 방법이 있음. 그 중 분류인 class 선택\n",
    "#        control=rpart.control())   # 의사결정나무를 만들때 사용할 option을 rpart.control로 처리\n",
    "\n",
    "# ex) 앞서 분할한 credit 데이터의 train 데이터로 의사결정나무 모델을 만들어 보자.\n",
    "\n",
    "# install.packages(c(\"rpart\",\"rpart.plot\"))\n",
    "library(caret)\n",
    "library(rpart)\n",
    "library(rpart.plot)\n",
    "\n",
    "dt.model <- rpart(credit.rating~.,           #종속변수(credit.rating)와 모든 변수를 독립변수로 사용\n",
    "                  method=\"class\",            #method는 anova, poisson, exp 등이 있으며, 분류인 class 선택\n",
    "                  data=train, \n",
    "                  control = rpart.control(maxdepth=5,    #의사결정나무의 최대 깊이는 5개까지\n",
    "                                          minsplit=15))  #노드에서 최소 관측치는 15개 이상\n",
    "\n",
    "dt.model"
   ]
  },
  {
   "cell_type": "code",
   "execution_count": 32,
   "id": "a0def88a-7ded-4483-adc9-a15aa08d4695",
   "metadata": {},
   "outputs": [
    {
     "data": {
      "image/png": "[encoded data removed]",
      "text/plain": [
       "plot without title"
      ]
     },
     "metadata": {},
     "output_type": "display_data"
    }
   ],
   "source": [
    "prp(dt.model,type=4,extra = 2)   "
   ]
  },
  {
   "cell_type": "code",
   "execution_count": 27,
   "id": "b061906d-6bf2-4d13-8721-56e23a589c28",
   "metadata": {},
   "outputs": [
    {
     "data": {
      "text/html": [
       "<table>\n",
       "<thead><tr><th scope=col>CP</th><th scope=col>nsplit</th><th scope=col>rel error</th><th scope=col>xerror</th><th scope=col>xstd</th></tr></thead>\n",
       "<tbody>\n",
       "\t<tr><td>0.05365854</td><td>0         </td><td>1.0000000 </td><td>1.0000000 </td><td>0.05873225</td></tr>\n",
       "\t<tr><td>0.04390244</td><td>3         </td><td>0.8341463 </td><td>0.9853659 </td><td>0.05847732</td></tr>\n",
       "\t<tr><td>0.03414634</td><td>4         </td><td>0.7902439 </td><td>0.9804878 </td><td>0.05839093</td></tr>\n",
       "\t<tr><td>0.01000000</td><td>5         </td><td>0.7560976 </td><td>0.9756098 </td><td>0.05830383</td></tr>\n",
       "</tbody>\n",
       "</table>\n"
      ],
      "text/latex": [
       "\\begin{tabular}{r|lllll}\n",
       " CP & nsplit & rel error & xerror & xstd\\\\\n",
       "\\hline\n",
       "\t 0.05365854 & 0          & 1.0000000  & 1.0000000  & 0.05873225\\\\\n",
       "\t 0.04390244 & 3          & 0.8341463  & 0.9853659  & 0.05847732\\\\\n",
       "\t 0.03414634 & 4          & 0.7902439  & 0.9804878  & 0.05839093\\\\\n",
       "\t 0.01000000 & 5          & 0.7560976  & 0.9756098  & 0.05830383\\\\\n",
       "\\end{tabular}\n"
      ],
      "text/markdown": [
       "\n",
       "| CP | nsplit | rel error | xerror | xstd |\n",
       "|---|---|---|---|---|\n",
       "| 0.05365854 | 0          | 1.0000000  | 1.0000000  | 0.05873225 |\n",
       "| 0.04390244 | 3          | 0.8341463  | 0.9853659  | 0.05847732 |\n",
       "| 0.03414634 | 4          | 0.7902439  | 0.9804878  | 0.05839093 |\n",
       "| 0.01000000 | 5          | 0.7560976  | 0.9756098  | 0.05830383 |\n",
       "\n"
      ],
      "text/plain": [
       "  CP         nsplit rel error xerror    xstd      \n",
       "1 0.05365854 0      1.0000000 1.0000000 0.05873225\n",
       "2 0.04390244 3      0.8341463 0.9853659 0.05847732\n",
       "3 0.03414634 4      0.7902439 0.9804878 0.05839093\n",
       "4 0.01000000 5      0.7560976 0.9756098 0.05830383"
      ]
     },
     "metadata": {},
     "output_type": "display_data"
    }
   ],
   "source": [
    "dt.model$cptable    "
   ]
  },
  {
   "cell_type": "code",
   "execution_count": 28,
   "id": "268fe08c-909f-4b06-a72d-fa6899b3c1c4",
   "metadata": {
    "tags": []
   },
   "outputs": [
    {
     "ename": "ERROR",
     "evalue": "Error in png(tf, width, height, \"in\", pointsize, bg, res, antialias = antialias): png() 장치를 시작할 수 없습니다\n",
     "output_type": "error",
     "traceback": [
      "Error in png(tf, width, height, \"in\", pointsize, bg, res, antialias = antialias): png() 장치를 시작할 수 없습니다\nTraceback:\n"
     ]
    },
    {
     "data": {
      "text/plain": [
       "plot without title"
      ]
     },
     "metadata": {},
     "output_type": "display_data"
    }
   ],
   "source": [
    "opt<-which.min(dt.model$cptable[,\"xerror\"])   \n",
    "cp<-dt.model$cptable[opt,\"CP\"]\n",
    "\n",
    "prune.c<-prune(dt.model,cp=cp)\n",
    "plotcp(dt.model)"
   ]
  },
  {
   "cell_type": "code",
   "execution_count": 29,
   "id": "cba619e7-b8e8-4908-8271-0e13e2012e72",
   "metadata": {},
   "outputs": [
    {
     "data": {
      "text/plain": [
       "       \n",
       "pred.dt   0   1\n",
       "      0  42  21\n",
       "      1  53 184"
      ]
     },
     "metadata": {},
     "output_type": "display_data"
    }
   ],
   "source": [
    "pred.dt<-predict(dt.model,test[,-1],type=\"class\")   #의사결정나무 모델로 test 데이터를 예측\n",
    "table(pred.dt,test[,1])                             #table을 통해 예측 테이블 확인"
   ]
  },
  {
   "cell_type": "code",
   "execution_count": 30,
   "id": "283b503e-4079-4d9d-98fd-3d4cf70d8105",
   "metadata": {},
   "outputs": [
    {
     "data": {
      "text/plain": [
       "Confusion Matrix and Statistics\n",
       "\n",
       "          Reference\n",
       "Prediction   0   1\n",
       "         0  42  21\n",
       "         1  53 184\n",
       "                                          \n",
       "               Accuracy : 0.7533          \n",
       "                 95% CI : (0.7005, 0.8011)\n",
       "    No Information Rate : 0.6833          \n",
       "    P-Value [Acc > NIR] : 0.0047614       \n",
       "                                          \n",
       "                  Kappa : 0.3734          \n",
       "                                          \n",
       " Mcnemar's Test P-Value : 0.0003137       \n",
       "                                          \n",
       "            Sensitivity : 0.8976          \n",
       "            Specificity : 0.4421          \n",
       "         Pos Pred Value : 0.7764          \n",
       "         Neg Pred Value : 0.6667          \n",
       "             Prevalence : 0.6833          \n",
       "         Detection Rate : 0.6133          \n",
       "   Detection Prevalence : 0.7900          \n",
       "      Balanced Accuracy : 0.6698          \n",
       "                                          \n",
       "       'Positive' Class : 1               \n",
       "                                          "
      ]
     },
     "metadata": {},
     "output_type": "display_data"
    }
   ],
   "source": [
    "confusionMatrix(data=pred.dt,                       #confusionMatrix를 통해 성과 분석 실시.\n",
    "                reference=test[,1],              #정확도는 75.3% 등의 성능을 확인할 수 있음.\n",
    "                positive='1')  "
   ]
  },
  {
   "cell_type": "code",
   "execution_count": 31,
   "id": "87a4f1f4-3daf-405d-9214-2141d9325cc7",
   "metadata": {},
   "outputs": [
    {
     "ename": "ERROR",
     "evalue": "Error in png(tf, width, height, \"in\", pointsize, bg, res, antialias = antialias): png() 장치를 시작할 수 없습니다\n",
     "output_type": "error",
     "traceback": [
      "Error in png(tf, width, height, \"in\", pointsize, bg, res, antialias = antialias): png() 장치를 시작할 수 없습니다\nTraceback:\n"
     ]
    },
    {
     "data": {
      "text/plain": [
       "plot without title"
      ]
     },
     "metadata": {},
     "output_type": "display_data"
    }
   ],
   "source": [
    "pred.dt.roc<-prediction(as.numeric(pred.dt),as.numeric(test[,1]))\n",
    "plot(performance(pred.dt.roc,\"tpr\",\"fpr\"))          #ROC Curve 작성.\n",
    "abline(a=0,b=1,lty=2,col=\"black\")   "
   ]
  },
  {
   "cell_type": "code",
   "execution_count": 32,
   "id": "e89c82f9-81f0-43a3-8bab-b95bbfc9e96d",
   "metadata": {},
   "outputs": [
    {
     "data": {
      "text/html": [
       "<ol>\n",
       "\t<li>0.669833119383825</li>\n",
       "</ol>\n"
      ],
      "text/latex": [
       "\\begin{enumerate}\n",
       "\\item 0.669833119383825\n",
       "\\end{enumerate}\n"
      ],
      "text/markdown": [
       "1. 0.669833119383825\n",
       "\n",
       "\n"
      ],
      "text/plain": [
       "[[1]]\n",
       "[1] 0.6698331\n"
      ]
     },
     "metadata": {},
     "output_type": "display_data"
    }
   ],
   "source": [
    "performance(pred.dt.roc,\"auc\")@y.values             #auc값이 67%로 성능이 우수하지 않음."
   ]
  },
  {
   "cell_type": "code",
   "execution_count": 33,
   "id": "a373a9a5-3856-43ca-8b8a-e3a1c1858e66",
   "metadata": {},
   "outputs": [
    {
     "ename": "ERROR",
     "evalue": "Error in png(tf, width, height, \"in\", pointsize, bg, res, antialias = antialias): png() 장치를 시작할 수 없습니다\n",
     "output_type": "error",
     "traceback": [
      "Error in png(tf, width, height, \"in\", pointsize, bg, res, antialias = antialias): png() 장치를 시작할 수 없습니다\nTraceback:\n"
     ]
    },
    {
     "data": {
      "text/plain": [
       "plot without title"
      ]
     },
     "metadata": {},
     "output_type": "display_data"
    }
   ],
   "source": [
    "#다지 분류\n",
    "dt.model2<-rpart(Species~., data=train.iris)\n",
    "\n",
    "prp(dt.model2,type=4,extra = 2)"
   ]
  },
  {
   "cell_type": "code",
   "execution_count": 34,
   "id": "93fddbee-2e5e-4d6b-8914-e34a4db69284",
   "metadata": {},
   "outputs": [
    {
     "data": {
      "text/plain": [
       "Confusion Matrix and Statistics\n",
       "\n",
       "            Reference\n",
       "Prediction   setosa versicolor virginica\n",
       "  setosa         15          0         0\n",
       "  versicolor      0         10         1\n",
       "  virginica       0          0        19\n",
       "\n",
       "Overall Statistics\n",
       "                                          \n",
       "               Accuracy : 0.9778          \n",
       "                 95% CI : (0.8823, 0.9994)\n",
       "    No Information Rate : 0.4444          \n",
       "    P-Value [Acc > NIR] : 8.12e-15        \n",
       "                                          \n",
       "                  Kappa : 0.9656          \n",
       "                                          \n",
       " Mcnemar's Test P-Value : NA              \n",
       "\n",
       "Statistics by Class:\n",
       "\n",
       "                     Class: setosa Class: versicolor Class: virginica\n",
       "Sensitivity                 1.0000            1.0000           0.9500\n",
       "Specificity                 1.0000            0.9714           1.0000\n",
       "Pos Pred Value              1.0000            0.9091           1.0000\n",
       "Neg Pred Value              1.0000            1.0000           0.9615\n",
       "Prevalence                  0.3333            0.2222           0.4444\n",
       "Detection Rate              0.3333            0.2222           0.4222\n",
       "Detection Prevalence        0.3333            0.2444           0.4222\n",
       "Balanced Accuracy           1.0000            0.9857           0.9750"
      ]
     },
     "metadata": {},
     "output_type": "display_data"
    }
   ],
   "source": [
    "pred.dt2<-predict(dt.model2,test.iris[,-5],type=\"class\")\n",
    "\n",
    "confusionMatrix(data=pred.dt2,reference=test.iris[,5])  "
   ]
  },
  {
   "cell_type": "raw",
   "id": "13590318-bd1b-4e26-8236-f95a1b09641a",
   "metadata": {},
   "source": [
    "\n"
   ]
  },
  {
   "cell_type": "markdown",
   "id": "b11fe73c-38df-45d0-a14e-26fc1dc0e7c7",
   "metadata": {},
   "source": [
    "## 3. 앙상블(ensemble) 기법\n",
    "- 앙상블 기법은 주어진 자료로부터 여러 개의 예측모형들을 만든 후 예측모형들을 조합하여 하나의 최종 예측 모형을 만드는 방법. 학습방법이 가장 불안전한 의사결정나무에 주로 사용"
   ]
  },
  {
   "cell_type": "markdown",
   "id": "d8ca16fd-bfb9-45e8-8a71-5dd3fb9fbbae",
   "metadata": {},
   "source": [
    "### 3.1. 배깅\n",
    "- 주어진 자료에서 여러개의 붓스트랩자료를 생성해 각 붓스트랩 자료에 예측모형을 만든 후 결합하여 최종 예측모형을 만드는 방법.\n",
    "- 붓스트랩은 주어진 자료에서 동일한 크기의 표본을 랜덤 복원추출로 뽑은 자료\n",
    "- 보팅(voting)은 여러 개의 모형으로부터 산출된 결과를 다수결애 의해 최종결과를 선정하는 과정\n",
    "- 배깅에서는 가지치기를 하지 않고 최대로 성장한 의사결정나무 활용"
   ]
  },
  {
   "cell_type": "code",
   "execution_count": null,
   "id": "96282a12-4386-4399-9440-5e083bdd91e6",
   "metadata": {},
   "outputs": [],
   "source": [
    "# adabag 패키지의 bagging 함수를 활용하여 모델을 개발\n",
    "# bagging(formula,        \n",
    "#         data, \n",
    "#         mfinal,        #mfinal : 반복수 또는 트리의 수(default=100)\n",
    "#         control, ...)  #control 인자를 통해 option 활용 가능(최대 깊이, 최소 노드 등)\n",
    "\n",
    "#함수를 활용하여 분석 결과를 확인하기 보다 train한 데이터로 test 데이터를 예측하여 confusionMatrix를 주로 확인함\n",
    "\n",
    "# ex) 앞서 분할한 credit 데이터의 train 데이터로 배깅 모델을 만들어 보자.\n",
    "\n",
    "# install.packages(\"adabag\")\n",
    "library(adabag)\n",
    "\n",
    "bag<-bagging(credit.rating~.,           #종속변수(credit.rating)와 모든 변수를 독립변수로 사용\n",
    "             data=train, \n",
    "             mfinal=15)                 #반복 또는 트리의 수는 15\n",
    "\n",
    "names(bag)          #bagging 함수로 생성된 결과들을 names 함수를 통해 어떤 것들이 있는지 확인이 가능함."
   ]
  },
  {
   "cell_type": "code",
   "execution_count": null,
   "id": "2c86a284-dd1a-4519-bb6f-fe3dc7aee73d",
   "metadata": {},
   "outputs": [],
   "source": [
    "bag$trees  "
   ]
  },
  {
   "cell_type": "code",
   "execution_count": null,
   "id": "fe110dcd-43bb-46d5-8cff-7ef8a94ae263",
   "metadata": {},
   "outputs": [],
   "source": [
    "bag$votes  "
   ]
  },
  {
   "cell_type": "code",
   "execution_count": null,
   "id": "d7a234dd-fc87-479a-8a7a-521e120ae01f",
   "metadata": {},
   "outputs": [],
   "source": [
    "bag$prob "
   ]
  },
  {
   "cell_type": "code",
   "execution_count": null,
   "id": "3766c39d-43d8-470f-9409-b5973e5a4a11",
   "metadata": {},
   "outputs": [],
   "source": [
    "bag$class "
   ]
  },
  {
   "cell_type": "code",
   "execution_count": null,
   "id": "7b738693-765f-47cb-b3b3-321e2a431307",
   "metadata": {},
   "outputs": [],
   "source": [
    "bag$samples "
   ]
  },
  {
   "cell_type": "code",
   "execution_count": null,
   "id": "86463f12-44a5-4305-9822-6d9b6896ad35",
   "metadata": {},
   "outputs": [],
   "source": [
    "bag$importance"
   ]
  },
  {
   "cell_type": "code",
   "execution_count": null,
   "id": "7107f67d-cc31-4bb0-bda6-86638e1a212e",
   "metadata": {},
   "outputs": [],
   "source": [
    "pred.bg<-predict(bag,test,type=\"class\")                             #배깅 모델로 test 데이터를 예측\n",
    "table(pred.bg$class,test$credit.rating)                #table을 통해 예측 테이블 확인"
   ]
  },
  {
   "cell_type": "code",
   "execution_count": null,
   "id": "abade8b2-6319-4722-ba15-7875de5d7064",
   "metadata": {},
   "outputs": [],
   "source": [
    "confusionMatrix(data=as.factor(pred.bg$class),         #confusionMatrix를 통해 성과 분석 실시.\n",
    "                reference=test$credit.rating,       #class 열을 factor로 변환하여 test의 class열과 형태를 맞춤.\n",
    "                positive='1')                       #정확도는 76% 등의 성능을 확인할 수 있음."
   ]
  },
  {
   "cell_type": "code",
   "execution_count": null,
   "id": "c64127ec-b9de-4678-9f0d-270f8aac3436",
   "metadata": {},
   "outputs": [],
   "source": [
    "pred.bg.roc<-prediction(as.numeric(pred.bg$class),as.numeric(test[,1]))\n",
    "plot(performance(pred.bg.roc,\"tpr\",\"fpr\"))          #ROC Curve 작성.\n",
    "abline(a=0,b=1,lty=2,col=\"black\")   "
   ]
  },
  {
   "cell_type": "code",
   "execution_count": null,
   "id": "ff413e0d-279f-4649-b60b-c0f0c8712f1f",
   "metadata": {},
   "outputs": [],
   "source": [
    "performance(pred.bg.roc,\"auc\")@y.values             #auc값이 70%로 성능이 fair함."
   ]
  },
  {
   "cell_type": "markdown",
   "id": "3eb1e7b2-f74b-43d5-a380-c35dc4e50410",
   "metadata": {},
   "source": [
    "### 3.2. 부스팅\n",
    "- 예측력이 약한 모형들의 결합하여 강한 예측모형을 만드는 방법으로 부스팅 방법 중 Adaboost는 이진분류 문제에서 랜덤 분류기보다 조금 더 좋은 분류기 n개에 각각 가중치를 설정하고 n개의 분류기를 결합하여 최종 분류기를 만드는 방법을 제안."
   ]
  },
  {
   "cell_type": "code",
   "execution_count": null,
   "id": "05a0afc4-4bcd-4c44-94eb-3bd59d1efef3",
   "metadata": {},
   "outputs": [],
   "source": [
    "# adabag 패키지의 boosting 함수를 활용하여 모델을 개발\n",
    "# boosting(formula,        \n",
    "#          data, \n",
    "#          boos=T/F       #boos가 TRUE이면 부스트랩샘플의 iteration에 대한 관찰값들에 대해 가중치 사용\n",
    "#                         #FALSE이면 모든 관측치에 동일한 가중치 부여\n",
    "#          mfinal,        #mfinal : 부스팅이 실행되는 반복 횟수 또는 사용할 나무 수(default=100)\n",
    "#          control, ...)  #control 인자를 통해 option 활용 가능(최대 깊이, 최소 노드 등)\n",
    "\n",
    "#함수를 활용하여 분석 결과를 확인하기 보다 train한 데이터로 test 데이터를 예측하여 confusionMatrix를 주로 확인함\n",
    "\n",
    "# ex) 앞서 분할한 credit 데이터의 train 데이터로 부스팅 모델을 만들어 보자.\n",
    "\n",
    "boost<-boosting(credit.rating ~.,     #종속변수(credit.rating)와 모든 변수를 독립변수로 사용\n",
    "                data=train, \n",
    "                boos=TRUE,            #\n",
    "                mfinal=80)            #반복 또는 트리의 수는 80\n",
    "\n",
    "names(boost)        #boosting 함수로 생성된 결과들을 names 함수를 통해 어떤 것들이 있는지 확인이 가능함."
   ]
  },
  {
   "cell_type": "code",
   "execution_count": null,
   "id": "366a62bc-fe36-4b74-8a4d-c7b814b67a1e",
   "metadata": {},
   "outputs": [],
   "source": [
    "boost$trees "
   ]
  },
  {
   "cell_type": "code",
   "execution_count": null,
   "id": "ff83cb5b-d9f1-48c6-a52e-d53284593e6b",
   "metadata": {},
   "outputs": [],
   "source": [
    "boost$weights"
   ]
  },
  {
   "cell_type": "code",
   "execution_count": null,
   "id": "8f53a781-e3df-4260-a2c4-918222d061c3",
   "metadata": {},
   "outputs": [],
   "source": [
    "boost$votes   "
   ]
  },
  {
   "cell_type": "code",
   "execution_count": null,
   "id": "e8322bdd-1b3d-430f-837d-bddf23ed5845",
   "metadata": {},
   "outputs": [],
   "source": [
    "boost$prob "
   ]
  },
  {
   "cell_type": "code",
   "execution_count": null,
   "id": "c315c768-e09b-4840-8e98-90dd4fac4ea0",
   "metadata": {},
   "outputs": [],
   "source": [
    "boost$class    "
   ]
  },
  {
   "cell_type": "code",
   "execution_count": null,
   "id": "28952b88-2293-4aef-90b6-9c69a6223acc",
   "metadata": {},
   "outputs": [],
   "source": [
    "boost$importance "
   ]
  },
  {
   "cell_type": "code",
   "execution_count": null,
   "id": "a0e54651-3076-44b3-b65e-4c49691f06e3",
   "metadata": {},
   "outputs": [],
   "source": [
    "pred.boos<-predict(boost,test)                       #부스팅 모델로 test 데이터를 예측\n",
    "table(pred.boos$class,test$credit.rating)            #table을 통해 예측 테이블 확인"
   ]
  },
  {
   "cell_type": "code",
   "execution_count": null,
   "id": "16ddf12a-651b-4bc3-a2f1-2151f07b59e3",
   "metadata": {},
   "outputs": [],
   "source": [
    "confusionMatrix(data=as.factor(pred.boos$class),     #confusionMatrix를 통해 성과 분석 실시.\n",
    "                reference=test$credit.rating,        #정확도는 73% 등의 성능을 확인할 수 있음.\n",
    "                positive='1')"
   ]
  },
  {
   "cell_type": "code",
   "execution_count": null,
   "id": "55ac29e0-106a-41fb-ac32-a5c76a6e5b05",
   "metadata": {},
   "outputs": [],
   "source": [
    "pred.boos.roc<-prediction(as.numeric(pred.boos$class),as.numeric(test[,1]))\n",
    "plot(performance(pred.boos.roc,\"tpr\",\"fpr\"))          #ROC Curve 작성.\n",
    "abline(a=0,b=1,lty=2,col=\"black\")   "
   ]
  },
  {
   "cell_type": "code",
   "execution_count": null,
   "id": "74ef1a88-4fdf-404e-a172-95f2cd0c15ab",
   "metadata": {},
   "outputs": [],
   "source": [
    "performance(pred.boos.roc,\"auc\")@y.values             #auc값이 68%로 성능이 좋지않음."
   ]
  },
  {
   "cell_type": "markdown",
   "id": "cff42ed5-b991-4732-9db3-72d37467220e",
   "metadata": {},
   "source": [
    "### 3.3. 랜덤포레스트\n",
    "- 의사결정나무의 특징인 분산이 크다는 점을 고려하여 배깅과 부스팅보다 더 많은 무작위성을 주어 약한 학습기들을 생성한 후 이를 선형결합하여 최종학습기를 만드는 방법"
   ]
  },
  {
   "cell_type": "code",
   "execution_count": null,
   "id": "a3d89220-716f-44fc-b7b4-1c7cec61c813",
   "metadata": {},
   "outputs": [],
   "source": [
    "# randomForest 패키지의 randomForest 함수를 활용하여 모델을 개발\n",
    "\n",
    "# randomForest(formula,        \n",
    "#              data, \n",
    "#              ntree,        #ntree : 나무의 수, 너무 작은 숫자를 입력하면 예측이 안됨.\n",
    "#              mtry,         #mtry : 각 분할에서 랜덤으로 뽑힌 변수의 개수,\n",
    "#                                   classification은 sqrt(변수갯수), regression은 (변수갯수/3)\n",
    "#              ...)          \n",
    "\n",
    "#함수를 활용하여 분석 결과를 확인하기 보다 train한 데이터로 test 데이터를 예측하여 confusionMatrix를 주로 확인함 \n",
    "\n",
    "# ex) 앞서 분할한 credit 데이터의 train 데이터로 랜덤포레스트 모델을 만들어 보자.\n",
    "\n",
    "install.packages(\"randomForest\")\n",
    "library(randomForest)\n",
    "\n",
    "rf.model<-randomForest(credit.rating ~.,     #종속변수(credit.rating)와 모든 변수를 독립변수로 사용\n",
    "                       data=train, \n",
    "                       ntree=50,                    #나무 50개 사용\n",
    "                       mtry=sqrt(20),               #사용할 변수의 개수(classification이므로 sqrt(20)개)\n",
    "                       importance=T)                #변수중요도 결과를 확인\n",
    "\n",
    "rf.model               \n",
    "\n",
    "names(rf.model)        #bagging 함수로 생성된 결과들을 names 함수를 통해 어떤 것들이 있는지 확인이 가능함.\n",
    "\n",
    "rf.model$predicted     \n",
    "rf.model$err.rate      \n",
    "rf.model$importance    \n",
    "\n",
    "\n",
    "varImpPlot(rf.model)   \n",
    "\n",
    "pred.rf<-predict(rf.model,test[,-1],type=\"class\")\n",
    "table(pred.rf,test[,1])\n",
    "\n",
    "confusionMatrix(data=pred.rf, reference=test[,1], positive='1')\n",
    "\n",
    "pred.rf.roc<-prediction(as.numeric(pred.rf),as.numeric(test[,1]))\n",
    "plot(performance(pred.rf.roc,\"tpr\",\"fpr\"))          #ROC Curve 작성.\n",
    "abline(a=0,b=1,lty=2,col=\"black\")                \n",
    "performance(pred.rf.roc,\"auc\")@y.values             #auc값이 66%로 성능이 좋지않음.\n",
    "\n",
    "\n",
    "\n",
    "##다지분류\n",
    "rf.model2<-randomForest(Species ~.,     \n",
    "                        data=train.iris, \n",
    "                        ntree=50,                    \n",
    "                        mtry=sqrt(4),               \n",
    "                        importance=T)      \n",
    "\n",
    "pred.rf2<-predict(rf.model2,test.iris[,-5],type=\"class\")\n",
    "table(pred.rf2,test.iris[,5])\n",
    "\n",
    "confusionMatrix(data=pred.rf2, reference=test.iris[,5], positive='1')"
   ]
  },
  {
   "cell_type": "raw",
   "id": "4d34cf2a-0994-44c6-a93b-b60e29ee7e00",
   "metadata": {},
   "source": [
    "\n"
   ]
  },
  {
   "cell_type": "markdown",
   "id": "3e1f5d87-84c1-42a0-860d-39f7db7c9085",
   "metadata": {},
   "source": [
    "## 4. SVM (Support Vector Machine)"
   ]
  },
  {
   "cell_type": "code",
   "execution_count": null,
   "id": "a3d902a7-2d3f-4fc4-8ae1-2a6b69c1c23d",
   "metadata": {},
   "outputs": [],
   "source": [
    "## 마. SVM(Support Vector Machine): 기계학습 분야 중 하나로 패턴인식, 자료 분석 등을 위한 지도학습 모델\n",
    "##                                  주어진 데이터 집합을 바탕으로 하여 새로운 데이터가 어떤 범주에 속할 것인지를\n",
    "##                                  판단하는 비확률적 이진 선형 분류 모델을 생성.\n",
    "\n",
    "\n",
    "# 1) svm 모델 만들기\n",
    "#\n",
    "# svm(formula, \n",
    "#     data, \n",
    "#     kernel,        #훈련과 예측에 사용되는 커널로, \"radial\",\"linear\",\"polynomial\",\"sigmoid\"가 있음\n",
    "#                    #실제 문제에서 커널의 선택이 결과의 정확도에 큰 영향을 주지 않음\n",
    "#     gamma,         #초평면의 기울기, default=1/(데이터 차원)\n",
    "#     cost,          #과적합을 막는 정도, default=1\n",
    "#     ...)\n",
    "\n",
    "\n",
    "# 2) 파라미터 최적값 찾기 : svm에서는 gamma, cost 값을 가짐. cost는 과적합을 막는 정도를 지정하는 파라미터이며,\n",
    "#                           gamma는 초평면의 기울기를 의미.\n",
    "# tune.svm(formula, \n",
    "#          data, \n",
    "#          gamma,           #gamma값을 입력\n",
    "#          cost)            #cost값을 입력\n",
    "\n",
    "# ex) credit 데이터로 파라미터 최적값을 찾아 보자.\n",
    "\n",
    "install.packages(\"e1071\")\n",
    "library(e1071)\n",
    "\n",
    "tune.svm(credit.rating~., \n",
    "         data=credit, \n",
    "         gamma = 10^(-6:-1),        \n",
    "         cost = 10^(1:2))          \n",
    "\n",
    "svm.model<-svm(credit.rating~., \n",
    "               data=train,\n",
    "               kernel=\"radial\",\n",
    "               gamma=0.01,\n",
    "               cost=10)\n",
    "\n",
    "summary(svm.model)\n",
    "\n",
    "pred.svm<-predict(svm.model,test,type=\"class\")                          #test 데이터로 예측값과 정확도를 확인.\n",
    "table(pred.svm,test[,1])                      \n",
    "\n",
    "confusionMatrix(data=pred.svm, reference=test[,1], positive='1')\n",
    "\n",
    "pred.svm.roc<-prediction(as.numeric(pred.svm),as.numeric(test[,1]))\n",
    "plot(performance(pred.svm.roc,\"tpr\",\"fpr\"))          #ROC Curve 작성.\n",
    "abline(a=0,b=1,lty=2,col=\"black\")                \n",
    "performance(pred.svm.roc,\"auc\")@y.values             #auc값이 50%로 성능이 좋지않음.\n",
    "\n",
    "\n",
    "#다지분류\n",
    "tune.svm(Species~., \n",
    "         data=iris, \n",
    "         gamma = 2^(-1:1),        \n",
    "         cost = 2^(2:4))          \n",
    "\n",
    "svm.model2<-svm(Species~., \n",
    "                data=train.iris,\n",
    "                kernel=\"radial\",\n",
    "                gamma=0.5,\n",
    "                cost=16)\n",
    "\n",
    "pred.svm2<-predict(svm.model2,test.iris,type=\"class\")\n",
    "confusionMatrix(data=pred.svm2, reference=test.iris[,5], positive='1')"
   ]
  },
  {
   "cell_type": "raw",
   "id": "100f9e99-f213-4910-a46f-dfc0dc3cc397",
   "metadata": {},
   "source": [
    "\n"
   ]
  },
  {
   "cell_type": "markdown",
   "id": "dcfa61dc-c497-4ed5-8fdf-691292fc2401",
   "metadata": {},
   "source": [
    "## 5. 나이브 베이즈 분류 (Naive Bayes Classification)"
   ]
  },
  {
   "cell_type": "code",
   "execution_count": null,
   "id": "867e6fd5-f6e0-4067-8a51-f5eb69ff4a92",
   "metadata": {},
   "outputs": [],
   "source": [
    "## 라. Naive Bayes Clssification : 조건부 독립을 가정하는 알고리즘으로 클래스에 대한 사전 정보와 데이터로부터\n",
    "##                                 추출된 정보를 결합하고, 베이즈 정리를 이용하여 어떤 데이터가 특정 클래스에\n",
    "##                                 속하는지 분류하는 알고리즘\n",
    "\n",
    "# naiveBayes(formula,         \n",
    "#            data,            \n",
    "#            laplace=0,       #laplace smoothing의 활성화 여부를 물음, default는 0로 비활성화.\n",
    "#            ...)  \n",
    "\n",
    "# ex) 앞서 분할한 credit 데이터의 train 데이터로 naive Bayes 모델을 만들어 보자.\n",
    "\n",
    "install.packages(\"e1071\")\n",
    "library(e1071)\n",
    "\n",
    "nb.model<-naiveBayes(credit.rating~., \n",
    "                     data=train,\n",
    "                     laplace=0)\n",
    "\n",
    "nb.model\n",
    "names(nb.model) \n",
    "\n",
    "nb.model$tables     #각 범주형 변수에 대해 조건부 확률을 제공하는 표, 수치형 변수는 평균, 표준편차를 제공\n",
    "\n",
    "pred.nb<-predict(nb.model,test[,-1],type=\"class\")\n",
    "table(pred.nb,test[,1])\n",
    "\n",
    "confusionMatrix(data=pred.nb, reference=test[,1], positive='1')\n",
    "\n",
    "pred.nb.roc<-prediction(as.numeric(pred.nb),as.numeric(test[,1]))\n",
    "plot(performance(pred.nb.roc,\"tpr\",\"fpr\"))          #ROC Curve 작성.\n",
    "abline(a=0,b=1,lty=2,col=\"black\")                \n",
    "performance(pred.nb.roc,\"auc\")@y.values             #auc값이 66%로 성능이 좋지않음."
   ]
  },
  {
   "cell_type": "markdown",
   "id": "3b13628c-4e22-41c8-af5a-19681df6aab4",
   "metadata": {},
   "source": [
    "## 6. K-NN (K-Nearest Neighbor)"
   ]
  },
  {
   "cell_type": "code",
   "execution_count": null,
   "id": "0f7dff26-1947-4023-850b-b4902640b70a",
   "metadata": {
    "tags": []
   },
   "outputs": [],
   "source": [
    "## 다. K-NN(K-Nearest Neighbor) : 지도학습의 한 종류로 어떤 범주로 나누어져 있는 데이터셋이 있을 때,\n",
    "##                                새로운 데이터가 추가된다면 이를 어떤 범주로 분류할 것인지를 결정하는 알고리즘\n",
    "##                                최근적 이웃 간의 거리를 계산할 때, 유클리디안, 멘하탄, 민코우스키 거리 등을 사용\n",
    "##                                k의 선택은 일반적으로 훈련데이터 개수의 제곱근으로 설정\n",
    "\n",
    "# knn(train,         #학습 데이터셋\n",
    "#     test,          #테스트 데이터셋\n",
    "#     cl,            #트레이닝셋의 분류값(factor)\n",
    "#     k,             #이웃의 수\n",
    "#     ...)  \n",
    "\n",
    "# ex) 앞서 분할한 credit 데이터의 train, test 데이터로 knn 모델을 만들어 보자.\n",
    "\n",
    "library(class)\n",
    "train.data<-train[,-1]\n",
    "test.data<-test[,-1]\n",
    "\n",
    "class<-train[,1]\n",
    "\n",
    "knn.3<-knn(train.data,test.data,class,k=3)\n",
    "knn.7<-knn(train.data,test.data,class,k=7)\n",
    "knn.10<-knn(train.data,test.data,class,k=10)\n",
    "\n",
    "#각각의 k에 대해 분류 table과 분류 정확도\n",
    "t.1<-table(knn.3,test$credit.rating)\n",
    "t.1\n",
    "(t.1[1,1]+t.1[2,2])/sum(t.1)\n",
    "t.2<-table(knn.7,test$credit.rating)\n",
    "t.2\n",
    "(t.2[1,1]+t.2[2,2])/sum(t.2)\n",
    "t.3<-table(knn.10,test$credit.rating)\n",
    "t.3\n",
    "(t.3[1,1]+t.3[2,2])/sum(t.3)\n",
    "\n",
    "#분류를 가장 잘하는 최적의 k 값 찾기 위한 함수 구현\n",
    "result<-numeric()\n",
    "k=3:22\n",
    "for(i in k){\n",
    "  pred<-knn(train.data,test.data,class,k=i-2)\n",
    "  t<-table(pred,test$credit.rating)\n",
    "  result[i-2]<-(t[1,1]+t[2,2])/sum(t)\n",
    "}\n",
    "result\n",
    "sort(result,decreasing=T)\n",
    "which(result==max(result))    "
   ]
  },
  {
   "cell_type": "raw",
   "id": "940c81e9-2944-4783-be8a-c06f02ef8886",
   "metadata": {},
   "source": [
    "\n"
   ]
  },
  {
   "cell_type": "markdown",
   "id": "1e25c4b6-0688-425e-88bd-db18026a0012",
   "metadata": {},
   "source": [
    "## 7. 인공 신경망 모형 (Artificial Neural Network)\n",
    "- 인간의 뇌를 본 따서 만든 모델로 뉴런을 흉내 낸 노드들이 입력층, 은닉층, 출력층으로 구분되어 나열\n",
    "- 예측성능이 우수하며 특히, 은닉층에서 입력 값이 조합되므로 비선형적인 문제를 해결할 수 있음.\n",
    "- 그러나 직관적인 이해가 어렵고 수작업으로 모델을 수정하기 어려움.\n",
    "- R에서는 nnet 패키지와 neuralnet 패키지를 제공하며 본 강의에서는 nnet를 활용"
   ]
  },
  {
   "cell_type": "markdown",
   "id": "6ba79b53-f278-48b9-95f6-08807a5df12f",
   "metadata": {},
   "source": [
    "### nnet 패키지\n",
    "- 신경망의 매개변수는 엔트로피와 SSE로 최적화되며, 출력결과를 softmax함수를 사용해 확률 형태로 변환이 가능, 과적합을 막기 위해 가중치 감소를 제공"
   ]
  },
  {
   "cell_type": "code",
   "execution_count": null,
   "id": "3c4babb7-400b-412d-b4bb-5a49d3034285",
   "metadata": {},
   "outputs": [],
   "source": [
    "# nnet(formula,\n",
    "#      data,\n",
    "#      size,       #hidden node 수\n",
    "#      maxit       #반복횟수\n",
    "#      decay)      #가중치 감소의 모수(보통 5e-04 채택)\n",
    "# 위의 인자를 이외에도 weights(가중치 설정), Wts(초기 가중치 값) 등의 인자도 있음.\n",
    "\n",
    "# ex) 앞서 분할한 credit 데이터의 train 데이터로 신경망모델을 만들어 보자.\n",
    "\n",
    "install.packages(\"nnet\")\n",
    "library(nnet)\n",
    "\n",
    "set.seed(1231)\n",
    "nn.model<-nnet(credit.rating~., #45개의 가중치가 주어졌고 iteration이 반복될수록 error이 줄고 있음.\n",
    "               data=train,\n",
    "               size=2,\n",
    "               maxit=200,\n",
    "               decay=5e-04)\n",
    "\n",
    "summary(nn.model)   \n",
    "\n",
    "install.packages(\"devtools\")\n",
    "library(devtools)\n",
    "source_url('https://gist.githubusercontent.com/Peque/41a9e20d6687f2f3108d/raw/85e14f3a292e126f1454864427e3a189c2fe33f3/nnet_plot_update.r')\n",
    "\n",
    "X11()\n",
    "plot.nnet(nn.model)  #아래와 같은 그래프가 나타나며, summary 결과의 갯수와 동일한 갯수로 나타남.\n",
    "\n",
    "#변수 중요도 파악\n",
    "install.packages(\"NeuralNetTools\")\n",
    "library(NeuralNetTools)\n",
    "\n",
    "X11()\n",
    "garson(nn.model)\n",
    "\n",
    "#예측을 통한 정확도 확인\n",
    "pred.nn<-predict(nn.model,test[,-1],type=\"class\")             #predict 함수를 사용한 예측\n",
    "table(pred.nn,test[,1])                             #분류표 확인\n",
    "\n",
    "confusionMatrix(data=as.factor(pred.nn), reference=test[,1], positive='1')\n",
    "\n",
    "pred.nn.roc<-prediction(as.numeric(pred.nn),as.numeric(test[,1]))\n",
    "plot(performance(pred.nn.roc,\"tpr\",\"fpr\"))          #ROC Curve 작성.\n",
    "abline(a=0,b=1,lty=2,col=\"black\")                \n",
    "performance(pred.nn.roc,\"auc\")@y.values             #auc값이 67%로 성능이 좋지않음."
   ]
  },
  {
   "cell_type": "markdown",
   "id": "4e615eb7-aabd-424f-8140-24894c892d28",
   "metadata": {},
   "source": [
    "### neuralnet 패키지\n",
    "- neuralnet함수는 다양한 역전파 알고리즘을 통해 모형을 적합하며, 수행 결과는 plot함수로 편리하게 시각화가 가능하다."
   ]
  },
  {
   "cell_type": "code",
   "execution_count": null,
   "id": "cccbba96-01eb-40b2-9b25-05eec6d7d1ae",
   "metadata": {},
   "outputs": [],
   "source": [
    "# neuralnet(formula,\n",
    "#          data,\n",
    "#          algorithm   #사용할 알고리즘을 지정. \"backprop\"(역전파), \"rprop+\"(Default), \"rporp-\"등이 있음\n",
    "#          threshold   #훈련중단 기준으로 default는 0.01으로 되어 있음\n",
    "#          hidden,     #은닉 노드의 개수, c(n,m)으로 입력하면 첫번째 hidden layer에 n개의 hidden node를 가지고 두번쨰 hidden layer에 m개의 hidden node를 가짐\n",
    "#          stepmax,    #인공 신경망 훈련 수행 최대횟수\n",
    "#          ...)\n",
    "\n",
    "install.packages(\"neuralnet\")\n",
    "library(neuralnet)\n",
    "\n",
    "data(infert)\n",
    "str(infert)\n",
    "\n",
    "in.part<-createDataPartition(infert$case,   \n",
    "                             times=1,        \n",
    "                             p=0.7)        \n",
    "table(infert[in.part$Resample1,\"case\"])\n",
    "\n",
    "parts<-as.vector(in.part$Resample1)\n",
    "train.infert <- infert[parts,]\n",
    "test.infert <- infert[-parts,]\n",
    "\n",
    "nn.model2<-neuralnet(case~age+parity+induced+spontaneous, \n",
    "                     data=train.infert, \n",
    "                     hidden=c(2,2), \n",
    "                     algorithm=\"rprop+\",\n",
    "                     threshold=0.01,\n",
    "                     stepmax=1e+5)\n",
    "\n",
    "plot(nn.model2)\n",
    "\n",
    "names(nn.model2)\n",
    "\n",
    "nn.model2\n",
    "\n",
    "#각 뉴런의 출력값 계산\n",
    "test.infert$nn.model2_pred.prob <- compute(nn.model2, covariate=test.infert[,c(2:4,6)])$net.result\n",
    "\n",
    "#cut-off 값을 임의로 0.5로 선정\n",
    "test.infert$nn.model2_pred <- ifelse(test.infert$nn.model2_pred.prob > 0.5, 1, 0)\n",
    "\n",
    "confusionMatrix(as.factor(test.infert$nn.model2_pred), as.factor(test.infert[,5]))"
   ]
  },
  {
   "cell_type": "raw",
   "id": "a656c5da-5071-4a60-9c94-0626dc1d00d5",
   "metadata": {
    "tags": []
   },
   "source": [
    "\n"
   ]
  },
  {
   "cell_type": "markdown",
   "id": "3b014abd-2fa5-42a5-a4f6-4477302c72f5",
   "metadata": {},
   "source": [
    "# [ PART 05. 정형 데이터마이닝 ] - 3장. 군집 분석"
   ]
  },
  {
   "cell_type": "markdown",
   "id": "76e788b5-85fd-4a44-9a5d-b5a145119cf1",
   "metadata": {},
   "source": []
  },
  {
   "cell_type": "markdown",
   "id": "08866510-c731-4184-a1c4-62a1b8d8dba3",
   "metadata": {},
   "source": []
  },
  {
   "cell_type": "markdown",
   "id": "4527eb41-11b7-41a4-b94f-383f3f5349f0",
   "metadata": {},
   "source": []
  },
  {
   "cell_type": "markdown",
   "id": "72e6f04e-ae72-4680-ae56-218e3c3c4415",
   "metadata": {},
   "source": []
  },
  {
   "cell_type": "markdown",
   "id": "03b146ec-2581-48db-8dfb-3afd3b441429",
   "metadata": {},
   "source": []
  },
  {
   "cell_type": "markdown",
   "id": "f56cc7d3-246e-4faf-87ee-6019641e874c",
   "metadata": {},
   "source": []
  },
  {
   "cell_type": "markdown",
   "id": "e7c70374-093d-4d4b-a981-1127ac4287ab",
   "metadata": {},
   "source": []
  },
  {
   "cell_type": "markdown",
   "id": "1af173dd-5f69-4cf8-9dc6-b11c86ca7585",
   "metadata": {},
   "source": []
  },
  {
   "cell_type": "markdown",
   "id": "c48db139-4665-4a0b-a6d4-00d78e08e6eb",
   "metadata": {},
   "source": []
  },
  {
   "cell_type": "markdown",
   "id": "2631fa62-b3fb-4c09-9caf-656ac53d6519",
   "metadata": {},
   "source": []
  },
  {
   "cell_type": "code",
   "execution_count": null,
   "id": "5ded5abd-5622-4e3f-8bc2-3b87d71036c0",
   "metadata": {},
   "outputs": [],
   "source": [
    "### 3. 군집분석: 각 객체의 유사성을 측정하여 유사성이 높은 대상 집단을 분류하고, 군집에 속한 객체들의 유사성과\n",
    "###              서로 다른 군집에 속한 객체간의 상이성을 규명하는 분석 방법.\n",
    "###              계층적 군집방법과 비계층적 군집방법이 있음.\n",
    "\n",
    "## 가. 계층적 군집분석: 계층적 군집분석은 n개의 군집으로 시작해 점차 군집의 개수를 줄여 나가는 방법.\n",
    "##                       최단연결법, 최장연결법, 평균연결법, 와드연결법 등이 있음.\n",
    "\n",
    "#계층적 군집분석을 하기 위해 아래의 함수로 실시함.\n",
    "\n",
    "#dist(data,        \n",
    "#     method)      #거리 측정 방법으로\"euclidean\", \"maximum\", \"manhattan\", \"canberra\", \"binary\", \"minkowski\"가 있음\n",
    "\n",
    "#hclust(data,      #dist함수로 거리를 측정\n",
    "#       method)    #\"single\", \"complete\", \"average\", \"median\", \"ward.D\" 등이 있음\n",
    "\n",
    "#ex) USArrests 데이터는 미국 주(State)별 강력 범죄율 정보, 위의 데이터를 활용해 최단, 최장, 평균연결법을 실시.\n",
    "\n",
    "US<-USArrests\n",
    "\n",
    "US.dist<-dist(US,\"euclidean\")\n",
    "\n",
    "US.dist\n",
    "\n",
    "\n",
    "#최단 거리법 및 덴드로그램\n",
    "US.single<-hclust(US.dist^2,method=\"single\")     #method=\"single\"를 통해 최단거리법 실행\n",
    "\n",
    "plot(US.single)             \n",
    "\n",
    "#최장 거리법 덴드로그램\n",
    "US.complete<-hclust(US.dist^2,method=\"complete\") #method=\"complete\"를 통해 최장거리법 실행\n",
    "\n",
    "plot(US.complete)           \n",
    "\n",
    "#평균 거리법 덴드로그램\n",
    "US.average<-hclust(US.dist^2,method=\"average\")   #method=\"average\"를 통해 평균거리법 실행\n",
    "\n",
    "plot(US.average)\n",
    "\n",
    "# 계층적 군집 결과 그룹 나누기와 덴드로그램 구분 짓기\n",
    "group<-cutree(US.average,k=6)\n",
    "group\n",
    "\n",
    "\n",
    "plot(US.average)\n",
    "rect.hclust(US.average,k=3,border=\"red\")\n",
    "\n",
    "\n",
    "## 나. 비계층적 군집분석: 군집정보가 없는 데이터에 대해 구하고자 하는 군집의 수를 정한 상태에서 설정된 군집의\n",
    "##                        중심에 가장 가까운 개체를 하나씩 포함해 가는 방식으로 군집을 형성.\n",
    "##                        kmeans, 혼합분포군집, SOM 등이 있음\n",
    "\n",
    "# 1) kmeans cluster : 주어진 데이터를 k개의 클러스터로 묶는 알고리즘으로, 각 클러스터와 거리 차이의 분산을\n",
    "#                     최소화하는 방식으로 동작\n",
    "\n",
    "#kmeans cluster를 실시하기 위한 R 코드는 아래와 같음.\n",
    "#kmeans(data, \n",
    "#       centers,    #군집의 갯수를 설정\n",
    "#       ...)\n",
    "\n",
    "#NbClust패키지를 사용하여 최적의 k를 선정하는 NbClust함수를 사용.\n",
    "#NbClust(data, \n",
    "#        min.nc,    #최소 군집의 수\n",
    "#        max.nc,    #최대 군집의 수\n",
    "#        method,    #\"kmeans\", \"median\", \"single\", \"complete\", \"average\" 등이 있음음\n",
    "#        ...)\n",
    "\n",
    "\n",
    "#ex) 앞서 분할한 credit 데이터의 train 데이터로 신경망모델을 만들어 보자.\n",
    "\n",
    "train.data<-train[,-1]\n",
    "\n",
    "credit.kmeans<-kmeans(train.data, centers=2)\n",
    "\n",
    "credit.kmeans              \n",
    "\n",
    "\n",
    "#기존의 분류와 군집분석 결과 분류 비교\n",
    "kmeans.table<-table(train$credit.rating, credit.kmeans$cluster)\n",
    "\n",
    "kmeans.table\n",
    "\n",
    "(kmeans.table[1,1] + kmeans.table[2,2]) / sum(kmeans.table)    \n",
    "\n",
    "\n",
    "#NbClust 함수로 최적의 군집수를 찾아보기\n",
    "install.packages(\"NbClust\")\n",
    "library(NbClust)\n",
    "\n",
    "nc <- NbClust(train.data, min.nc = 2, max.nc = 15, method = \"kmeans\")\n",
    "\n",
    "\n",
    "\n",
    "# 2) 혼합분포군집 : 모형 기반의 군집방법으로 데이터가 k개의 모수적 모형의 가중합으로 표현되는 모집단 모형으로부터\n",
    "#                   나왔다는 가정하에서 모수와 함께 가중치를 자료로부터 추정하는 방법으로 사용\n",
    "\n",
    "#혼합분포군집을 실시하기 위한 R 코드는 아래와 같음.\n",
    "#Mclust(data, \n",
    "#       centers,    #군집의 갯수를 설정\n",
    "#       ...)\n",
    "\n",
    "\n",
    "# ex) iris 데이터의 Species를 제외하고 혼합 분포 군집분석을 실시해보자.\n",
    "install.packages(\"mclust\")\n",
    "library(mclust)\n",
    "\n",
    "mc<-Mclust(iris[,1:4], G=3)         # 클러스터의 수를 3으로 지정\n",
    "summary(mc, parameters = T)         # parameters를 True로 지정하면 분석결과의 파라미터값들을 확인할 수 있음\n",
    "\n",
    "\n",
    "plot.Mclust(mc)            # 다양한 방식으로 군집 결과를 시각화\n",
    "mc$classification          # 각 개체가 어느 그룹으로 분류되었는지는 $classification을 통해 확인할 수 있음\n",
    "\n"
   ]
  },
  {
   "cell_type": "code",
   "execution_count": null,
   "id": "95e400d9-e424-4b6c-91d4-10118882ebb1",
   "metadata": {},
   "outputs": [],
   "source": []
  },
  {
   "cell_type": "markdown",
   "id": "834b157e-b7e7-48bf-81f0-cfa7f420a51f",
   "metadata": {},
   "source": [
    "# [ PART 05. 정형 데이터마이닝 ] - 4장. 연관 분석"
   ]
  },
  {
   "cell_type": "code",
   "execution_count": null,
   "id": "cd3e8562-9d2a-45e0-b7b4-3a4bf1270a16",
   "metadata": {},
   "outputs": [],
   "source": []
  },
  {
   "cell_type": "code",
   "execution_count": null,
   "id": "6291eef9-5a0a-483d-bfbb-9cf583dfd7d7",
   "metadata": {},
   "outputs": [],
   "source": []
  },
  {
   "cell_type": "code",
   "execution_count": null,
   "id": "03b5e014-b6c8-4d53-be61-6e1f07f94ba3",
   "metadata": {},
   "outputs": [],
   "source": [
    "### 4. 연관규칙분석: 연관규칙분석은 기업의 데이터베이스에서 상품의 구매, 서비스 등 일련의 거래 또는 사건들 간의\n",
    "###                  규칙을 발견하기 위해 적용. 측도로는 지지도, 신뢰도, 향상도가 있고 \n",
    "###                  R에서는 주로 Apriori 알고리즘을 활용.\n",
    "\n",
    "## 가. Apriori : 모든 품목집합에 대한 지지도를 전부 계산하는 것이 아니라, 최소지지도 이상의 빈발항목집합을 찾은 후\n",
    "##               그것들에 대해서만 연관규칙을 계산하는 것임.\n",
    "\n",
    "##연관규칙분석을 하기위해서는 as함수와 apriori함수에 대해 인지해야함.\n",
    "# as(data, \n",
    "#    class)     #data의 class를 설정, 연관규칙분석에서는 transaction 사용\n",
    "\n",
    "# apriori(data,         #transaction형태로 변환한 데이터\n",
    "#         parameter,    #최소 지지도, 신뢰도, 향상도 입력\n",
    "#         appearance,\n",
    "#         control\n",
    "#         ...)\n",
    "\n",
    "#ex) 통신사의 고객 데이터를 입력하고 as함수로 데이터를 변형하고 inspect 함수로 데이터를 확인해보자.\n",
    "\n",
    "library(arules)\n",
    "\n",
    "#데이터 입력\n",
    "id <- c(1, 2, 3, 4, 5, 6)\n",
    "gender <- c(\"FEMALE\", \"MALE\", \"FEMALE\", \"FEMALE\", \"MALE\", \"FEMALE\")\n",
    "age <- c(\"age_20\", \"age_20\", \"age_40\", \"age_30\", \"age_40\", \"age_30\")\n",
    "rank <- c(\"Gold\", \"Silver\", \"Silver\", \"VIP\", \"Gold\", \"Gold\")\n",
    "mobile_app_use <- c(\"YES\", \"YES\", \"NO\", \"YES\", \"NO\", \"YES\")\n",
    "re_order <- c(\"YES\", \"NO\", \"NO\", \"YES\", \"NO\", \"YES\")\n",
    "\n",
    "cust_tel <- cbind(id, gender, age, rank, mobile_app_use, re_order)\n",
    "cust_tel <- as.data.frame(cust_tel)\n",
    "\n",
    "cust_tel_1 <- subset(cust_tel, select = -c(id))\n",
    "\n",
    "cust_tel_1\n",
    "\n",
    "#as 함수를 활용한 데이터 변형\n",
    "tran.cust<-as(cust_tel_1,\"transactions\")\n",
    "tran.cust\n",
    "\n",
    "#데이터 확인하기\n",
    "inspect(tran.cust)\n",
    "\n",
    "\n",
    "#ex) R 프로그램의 내장데이터인 Groceries 데이터셋으로 연관규칙분석을 실시해 보자.\n",
    "\n",
    "install.packages(\"arules\")\n",
    "library(arules)\n",
    "\n",
    "data(Groceries)\n",
    "\n",
    "Groceries               #Groceries 데이터셋은 식료품 판매점의 1달 간 POS 데이터로 총 169개의 제품과 \n",
    "#9835건의 거래건수를 포함, 해당 데이터는 이미 transaction으로 변환되어 있음.\n",
    "\n",
    "inspect(Groceries[1:3]) #inspect 함수는 transaction 데이터와 연관규칙분석 결과를 확인하기 위한 함수.\n",
    "#함께 구매된 아이템들을 확인할 수 있음.\n",
    "\n",
    "rules<-apriori(Groceries, \n",
    "               parameter=list(support=0.01,    #최소 지지도는 0.01, 최소신뢰도는 0.3으로 지정\n",
    "                              confidence=0.3)) \n",
    "\n",
    "inspect(sort(rules,by=c(\"confidence\"),decreasing = T)[1:20]) \n",
    "\n",
    "\n",
    "# 중복 규칙 가지치기 : 좌항에서 우항, 우항에서 좌항의 규칙이 겹치는 경우가 있으므로, 중복 규칙은 없앰.\n",
    "prune.dup.rules <- function(rules){\n",
    "  rule.subset.matrix <- is.subset(rules, rules, sparse=FALSE)\n",
    "  rule.subset.matrix[lower.tri(rule.subset.matrix, diag=T)] <- NA\n",
    "  dup.rules <- colSums(rule.subset.matrix, na.rm=T) >= 1\n",
    "  pruned.rules <- rules[!dup.rules]\n",
    "  return(pruned.rules)\n",
    "}\n",
    "\n",
    "# 우변의 아이템 구매를 이끌 아이템 세트 찾기\n",
    "metric.params <- list(supp=0.001,conf = 0.5, minlen=2)      #minlen은 좌항과 우항을 합친 최소 물품수\n",
    "rules<-apriori(data=Groceries, parameter=metric.params, \n",
    "               appearance = list(default=\"lhs\",rhs=\"soda\"), #우측의 soda를 사기위해 좌항의 아이템을 찾는 것.\n",
    "               control = list(verbose=F))                   #verbose는 apriori함수 실행 결과를 나타내지 않음을 지시.\n",
    "rules <- prune.dup.rules(rules)                             #중복 규칙 가지치기 실시\n",
    "rules<-sort(rules, decreasing=TRUE,by=\"confidence\")         #confidence를 기준으로 정렬\n",
    "\n",
    "inspect(rules[1:5])              \n",
    "\n",
    "# 좌변의 아이템 세트를 가지고 있을 때 물품 찾기\n",
    "metric.params <- list(supp=0.001,conf = 0.3, minlen=2)\n",
    "rules<-apriori(data=Groceries, parameter=metric.params, \n",
    "               appearance = list(default=\"rhs\",             #yogurt, sugar를 구매했을 때, 우항의 아이템을 찾는 것.\n",
    "                                 lhs=c(\"yogurt\", \"sugar\")), \n",
    "               control = list(verbose=F))\n",
    "rules <- prune.dup.rules(rules)\n",
    "rules<-sort(rules, decreasing=TRUE,by=\"confidence\")\n",
    "inspect(rules[1:5])              \n",
    "\n",
    "\n",
    "\n",
    "\n",
    "\n",
    "# (끝)\n",
    "##==============================================================="
   ]
  }
 ],
 "metadata": {
  "kernelspec": {
   "display_name": "R",
   "language": "R",
   "name": "ir"
  },
  "language_info": {
   "codemirror_mode": "r",
   "file_extension": ".r",
   "mimetype": "text/x-r-source",
   "name": "R",
   "pygments_lexer": "r",
   "version": "3.6.1"
  }
 },
 "nbformat": 4,
 "nbformat_minor": 5
}
