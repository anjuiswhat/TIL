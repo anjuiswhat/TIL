{
 "cells": [
  {
   "cell_type": "markdown",
   "id": "09a1686f-1332-42f3-b1a7-99fda833c65b",
   "metadata": {},
   "source": [
    "# [ PART 03. 통계분석 ] - 2장. T-검정(T-test)"
   ]
  },
  {
   "cell_type": "markdown",
   "id": "dddc1992-9caa-4c57-83aa-baf5fbd5d2f1",
   "metadata": {
    "tags": []
   },
   "source": [
    "## T-test 의 단계\n",
    "\n",
    "(0-1) 정규성 검정  \n",
    "(0-2) 등분산 검정 (독립표본 T-test 일 경우)  \n",
    ".  \n",
    "(1) 가설 설정  \n",
    "(2) 유의수준 설정  \n",
    "(3) 검정통계량의 값 및 유의확률 계산  \n",
    "(4) 귀무가설의 기각여부 판단 및 의사결정"
   ]
  },
  {
   "cell_type": "markdown",
   "id": "66f5cce5-a3b6-4ed1-a2fd-1972b8060327",
   "metadata": {},
   "source": [
    "## 1. 단일표본 T-검정 (One Sample T-Test)\n",
    "\n",
    "- 단일 모집단에서 관심이 있는 연속형 변수의 평균값을 특정 기준값과 비교하고자 할 때 사용하는 검정방법"
   ]
  },
  {
   "cell_type": "raw",
   "id": "3cee9929-7525-4408-9b83-f0585337ce0e",
   "metadata": {},
   "source": [
    "[Problem]\n",
    "- MASS패키지의 cats 데이터는 고양이들의 성별(Sex 변수), 몸무게(Bwt 변수), 심장의 무게(Hwt 변수)를 담고있다.\n",
    "- 1) 검정을 수행하기에 앞서 데이터 확인 및 변수에 대한 정규성 검정을 수행하라.\n",
    "- 2) cats 데이터에서 고양이들의 평균몸무게가 2.6kg인지 아닌지에 대한 통계적 검정을 수행하고, 결과를 해석해보자."
   ]
  },
  {
   "cell_type": "markdown",
   "id": "00de5815-1908-44ab-b601-d2d3ab1bb83a",
   "metadata": {},
   "source": [
    "### 1.1. 정규성 검정\n",
    "< 가설 설정 - 정규성 검정 >\n",
    "- 귀무가설(H0) : 데이터가 정규분포를 따른다.\n",
    "- 대립가설(H1) : 데이터가 정규분포를 따르지 않는다.\n",
    "\n",
    "< 유의수준은 0.05 로 설정 >"
   ]
  },
  {
   "cell_type": "code",
   "execution_count": 1,
   "id": "701d9cc9-5c44-46b8-97b3-0f559d48ae2e",
   "metadata": {},
   "outputs": [
    {
     "name": "stdout",
     "output_type": "stream",
     "text": [
      "'data.frame':\t144 obs. of  3 variables:\n",
      " $ Sex: Factor w/ 2 levels \"F\",\"M\": 1 1 1 1 1 1 1 1 1 1 ...\n",
      " $ Bwt: num  2 2 2 2.1 2.1 2.1 2.1 2.1 2.1 2.1 ...\n",
      " $ Hwt: num  7 7.4 9.5 7.2 7.3 7.6 8.1 8.2 8.3 8.5 ...\n"
     ]
    }
   ],
   "source": [
    "## 1) cats 데이터 확인 및 Bwt변수에 대한 정규성 검정 수행\n",
    "\n",
    "# cats데이터를 사용하기 위해 MASS 패키지 로드\n",
    "library(MASS)\n",
    "\n",
    "# cats데이터의 구조 확인\n",
    "str(cats)"
   ]
  },
  {
   "cell_type": "code",
   "execution_count": 2,
   "id": "7791f75a-deb2-4d6a-a1d9-b008a8279d6c",
   "metadata": {},
   "outputs": [
    {
     "data": {
      "text/plain": [
       "\n",
       "\tShapiro-Wilk normality test\n",
       "\n",
       "data:  cats$Bwt\n",
       "W = 0.95188, p-value = 6.731e-05\n"
      ]
     },
     "metadata": {},
     "output_type": "display_data"
    }
   ],
   "source": [
    "# Bwt(고양이 몸무게) 변수에 대한 정규성 검정 수행\n",
    "shapiro.test(cats$Bwt)"
   ]
  },
  {
   "cell_type": "markdown",
   "id": "6464e1d6-eeb2-46de-b782-f131cb7be9c3",
   "metadata": {},
   "source": [
    "### 1.2. 단일표본 T-검정\n",
    "< 가설 설정 - T-검정 >\n",
    "- 귀무가설(H0) : 고양이들의 평균 몸무게는 2.6 (kg)이다.\n",
    "- 대립가설(H1) : 고양이들의 평균 몸무게는 2.6 (kg)이 아니다.\n",
    "\n",
    "< 유의수준은 0.05 로 설정 >"
   ]
  },
  {
   "cell_type": "code",
   "execution_count": 3,
   "id": "796015b6-6bb1-4fd2-b932-83d17f03a9d3",
   "metadata": {},
   "outputs": [
    {
     "data": {
      "text/plain": [
       "\n",
       "\tWilcoxon signed rank test with continuity correction\n",
       "\n",
       "data:  cats$Bwt\n",
       "V = 5607, p-value = 0.02532\n",
       "alternative hypothesis: true location is not equal to 2.6\n"
      ]
     },
     "metadata": {},
     "output_type": "display_data"
    }
   ],
   "source": [
    "## 2) cats 데이터에 대한 일표본 T-검정 수행\n",
    "# 일표본 T-검정 수행\n",
    "wilcox.test(cats$Bwt, mu=2.6, alternative=\"two.sided\")"
   ]
  },
  {
   "cell_type": "raw",
   "id": "db9a5cca-c4b7-4c35-9a70-4240eecc5585",
   "metadata": {},
   "source": []
  },
  {
   "cell_type": "markdown",
   "id": "92d92fff-77ee-4312-b1ee-498352d0c383",
   "metadata": {},
   "source": [
    "## 2. 대응표본 T-검정 (Paired Sample T-Test)\n",
    "- 단일 모집단에 대해 두번의 처리를 가했을 때, 두 개의 처리에 따른 평균의 차이를 비교하고자 할 때 사용하는 검정방법\n",
    "- 하나의 모집단에서 크기가 n개인 하나의 표본을 추출한 후, 표본 내의 개체들에 대해서 두 번의 측정을 실시\n",
    "- 관측값들은 서로 독립적이지 않고 쌍으로 이루어져 있다."
   ]
  },
  {
   "cell_type": "raw",
   "id": "013be749-2afe-4f87-a32d-c20f623c6ae7",
   "metadata": {},
   "source": [
    "[Problem]\n",
    "- 10명의 환자를 대상으로 수면영양제를 복용하기 전과 후의 수면시간을 측정하여 영양제의 효과가 있는지를 판단하고자 한다. \n",
    "- 영양제 복용 전과 후의 평균 수면시간에 차이가 있는지를 알아보는데, 단측검정을 수행하여 영양제 복용 후에 수면시간이 더 늘어났는지를 검정해보라.\n",
    "- (표본이 정규성을 만족한다는 가정 하에 단측검정 수행, 유의수준 = 0.05)\n",
    "- ※ 수면 영양제 복용 전 10명 환자들 각각의 수면시간 :  7, 3, 4, 5, 2, 1, 6, 6, 5, 4\n",
    "- ※ 수면 영양제 복용 후 10명 환자들 각각의 수면시간 :  8, 4, 5, 6, 2, 3, 6, 8, 6, 5"
   ]
  },
  {
   "cell_type": "code",
   "execution_count": 4,
   "id": "2aae9750-2547-4de8-b3d0-4a4985e3de9d",
   "metadata": {},
   "outputs": [
    {
     "data": {
      "text/html": [
       "<table>\n",
       "<thead><tr><th scope=col>before</th><th scope=col>after</th></tr></thead>\n",
       "<tbody>\n",
       "\t<tr><td>7</td><td>8</td></tr>\n",
       "\t<tr><td>3</td><td>4</td></tr>\n",
       "\t<tr><td>4</td><td>5</td></tr>\n",
       "\t<tr><td>5</td><td>6</td></tr>\n",
       "\t<tr><td>2</td><td>2</td></tr>\n",
       "\t<tr><td>1</td><td>3</td></tr>\n",
       "\t<tr><td>6</td><td>6</td></tr>\n",
       "\t<tr><td>6</td><td>8</td></tr>\n",
       "\t<tr><td>5</td><td>6</td></tr>\n",
       "\t<tr><td>4</td><td>5</td></tr>\n",
       "</tbody>\n",
       "</table>\n"
      ],
      "text/latex": [
       "\\begin{tabular}{r|ll}\n",
       " before & after\\\\\n",
       "\\hline\n",
       "\t 7 & 8\\\\\n",
       "\t 3 & 4\\\\\n",
       "\t 4 & 5\\\\\n",
       "\t 5 & 6\\\\\n",
       "\t 2 & 2\\\\\n",
       "\t 1 & 3\\\\\n",
       "\t 6 & 6\\\\\n",
       "\t 6 & 8\\\\\n",
       "\t 5 & 6\\\\\n",
       "\t 4 & 5\\\\\n",
       "\\end{tabular}\n"
      ],
      "text/markdown": [
       "\n",
       "| before | after |\n",
       "|---|---|\n",
       "| 7 | 8 |\n",
       "| 3 | 4 |\n",
       "| 4 | 5 |\n",
       "| 5 | 6 |\n",
       "| 2 | 2 |\n",
       "| 1 | 3 |\n",
       "| 6 | 6 |\n",
       "| 6 | 8 |\n",
       "| 5 | 6 |\n",
       "| 4 | 5 |\n",
       "\n"
      ],
      "text/plain": [
       "   before after\n",
       "1  7      8    \n",
       "2  3      4    \n",
       "3  4      5    \n",
       "4  5      6    \n",
       "5  2      2    \n",
       "6  1      3    \n",
       "7  6      6    \n",
       "8  6      8    \n",
       "9  5      6    \n",
       "10 4      5    "
      ]
     },
     "metadata": {},
     "output_type": "display_data"
    }
   ],
   "source": [
    "# 데이터 입력\n",
    "data <- data.frame(before = c(7, 3, 4, 5, 2, 1, 6, 6, 5, 4),\n",
    "                   after = c(8, 4, 5, 6, 2, 3, 6, 8, 6, 5))\n",
    "data"
   ]
  },
  {
   "cell_type": "markdown",
   "id": "e6f63387-cc0b-4ecf-bbd7-6042bd1af713",
   "metadata": {
    "tags": []
   },
   "source": [
    "### 2.2. 대응표본 T-검정\n",
    "< 가설 설정 - T-검정 >\n",
    "- 귀무가설(H0) : ( 복용 후 평균수면시간 - 복용 전 평균 수면시간 ) = 0\n",
    "- 대립가설(H1) : ( 복용 후 평균수면시간 - 복용 전 평균 수면시간 ) > 0   --> 우단측검정에 해당\n",
    "\n",
    "< 유의수준은 0.05 로 설정 >"
   ]
  },
  {
   "cell_type": "code",
   "execution_count": 5,
   "id": "da3fbafd-32a4-4dc1-bbcb-1352a20e58ac",
   "metadata": {},
   "outputs": [
    {
     "data": {
      "text/plain": [
       "\n",
       "\tPaired t-test\n",
       "\n",
       "data:  data$before and data$after\n",
       "t = -4.7434, df = 9, p-value = 0.0005269\n",
       "alternative hypothesis: true difference in means is less than 0\n",
       "95 percent confidence interval:\n",
       "       -Inf -0.6135459\n",
       "sample estimates:\n",
       "mean of the differences \n",
       "                     -1 \n"
      ]
     },
     "metadata": {},
     "output_type": "display_data"
    }
   ],
   "source": [
    "# 대응표본 T-검정 수행\n",
    "t.test(data$before, data$after, alternative=\"less\", paired = TRUE)"
   ]
  },
  {
   "cell_type": "raw",
   "id": "253ef8f8-a996-43d6-8fbb-1e2eb674c0e7",
   "metadata": {},
   "source": []
  },
  {
   "cell_type": "markdown",
   "id": "9ca68338-d59e-46e1-b72e-5203d1ef0bd6",
   "metadata": {},
   "source": [
    "## 3. 독립표본 T-검정 (Independent Sample T-Test)\n",
    "- 두 개의 독립된 모집단의 평균을 비교하고자 할 때 사용하는 검정방법"
   ]
  },
  {
   "cell_type": "raw",
   "id": "f76ea42e-9525-4463-bb1a-3f79dc48db9e",
   "metadata": {},
   "source": [
    "[Problem]\n",
    "- MASS패키지의 cats 데이터는 고양이들의 성별(Sex 변수), 몸무게(Bwt 변수), 심장의 무게(Hwt 변수)를 담고있다.\n",
    "- 고양이들의 성별(Sex)에 따른 몸무게(Bwt)의 평균은 통계적으로 다르다고 할 수 있는지에 대한 검정을 수행하고, 결과를 해석하라."
   ]
  },
  {
   "cell_type": "code",
   "execution_count": 6,
   "id": "f0599e54-64ff-437c-9ac5-834dba82ea04",
   "metadata": {},
   "outputs": [],
   "source": [
    "# 데이터 불러오기\n",
    "library(MASS)\n",
    "data(\"cats\")"
   ]
  },
  {
   "cell_type": "markdown",
   "id": "588e142f-f48b-4293-a5d8-ff052e83de50",
   "metadata": {},
   "source": [
    "### 3.2. 등분산 검정\n",
    "< 가설 설정 - 등분산성 검정 >\n",
    "- 귀무가설(H0) : 두 집단의 분산이 동일하다.\n",
    "- 대립가설(H1) : 두 집단의 분산이 동일하지 않다.\n",
    "\n",
    "< 유의수준은 0.05 로 설정 >"
   ]
  },
  {
   "cell_type": "code",
   "execution_count": 7,
   "id": "01c5b126-8b49-4b8c-b471-cb2d2c2e8c8f",
   "metadata": {},
   "outputs": [
    {
     "data": {
      "text/plain": [
       "\n",
       "\tF test to compare two variances\n",
       "\n",
       "data:  Bwt by Sex\n",
       "F = 0.3435, num df = 46, denom df = 96, p-value = 0.0001157\n",
       "alternative hypothesis: true ratio of variances is not equal to 1\n",
       "95 percent confidence interval:\n",
       " 0.2126277 0.5803475\n",
       "sample estimates:\n",
       "ratio of variances \n",
       "         0.3435015 \n"
      ]
     },
     "metadata": {},
     "output_type": "display_data"
    }
   ],
   "source": [
    "## 1) 독립 t검정을 수행하기에 앞서, 범주별 데이터값의 등분산성 검정 수행\n",
    "\n",
    "# 등분산 검정 수행\n",
    "var.test(Bwt~Sex, data=cats) "
   ]
  },
  {
   "cell_type": "markdown",
   "id": "79d7942a-6f29-4bda-8b85-138275e70a87",
   "metadata": {
    "tags": []
   },
   "source": [
    "### 3.3. 독립표본 T-검정\n",
    "< 가설 설정 - T-검정 >\n",
    "- 귀무가설(H0) : 고양이의 성별에 따른 평균 몸무게에는 통계적으로 유의한 차이가 없다.\n",
    "- 대립가설(H1) : 고양이의 성별에 따른 평균 몸무게에는 통계적으로 유의한 차이가 있다.\n",
    "\n",
    "< 유의수준은 0.05 로 설정 >"
   ]
  },
  {
   "cell_type": "code",
   "execution_count": 9,
   "id": "2b72520c-ee4f-4b97-94bc-42c7b23fd5da",
   "metadata": {},
   "outputs": [
    {
     "data": {
      "text/plain": [
       "\n",
       "\tWelch Two Sample t-test\n",
       "\n",
       "data:  Bwt by Sex\n",
       "t = -8.7095, df = 136.84, p-value = 8.831e-15\n",
       "alternative hypothesis: true difference in means is not equal to 0\n",
       "95 percent confidence interval:\n",
       " -0.6631268 -0.4177242\n",
       "sample estimates:\n",
       "mean in group F mean in group M \n",
       "       2.359574        2.900000 \n"
      ]
     },
     "metadata": {},
     "output_type": "display_data"
    }
   ],
   "source": [
    "## 2) 성별에 따른 몸무게가 등분산성을 만족하지 않는다는 조건 하에 독립 t검정을 수행\n",
    "t.test(Bwt~Sex, data=cats, alternative=\"two.sided\", var.equal=FALSE)"
   ]
  },
  {
   "cell_type": "code",
   "execution_count": null,
   "id": "46d65d89-c293-4b92-8961-d9fd456f17fe",
   "metadata": {},
   "outputs": [],
   "source": []
  }
 ],
 "metadata": {
  "kernelspec": {
   "display_name": "R",
   "language": "R",
   "name": "ir"
  },
  "language_info": {
   "codemirror_mode": "r",
   "file_extension": ".r",
   "mimetype": "text/x-r-source",
   "name": "R",
   "pygments_lexer": "r",
   "version": "3.6.1"
  }
 },
 "nbformat": 4,
 "nbformat_minor": 5
}
