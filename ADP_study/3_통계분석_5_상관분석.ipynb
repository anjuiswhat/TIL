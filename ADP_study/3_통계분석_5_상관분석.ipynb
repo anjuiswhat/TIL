{
 "cells": [
  {
   "cell_type": "markdown",
   "id": "93a88c79-15c2-4312-a8cb-3af8d6f60a29",
   "metadata": {},
   "source": [
    "# [ PART 03. 통계분석 ] - 5장. 상관분석"
   ]
  },
  {
   "cell_type": "markdown",
   "id": "19894a91-6411-48d6-8421-18e573680624",
   "metadata": {},
   "source": [
    "## - 불러올 패키지 목록"
   ]
  },
  {
   "cell_type": "code",
   "execution_count": 1,
   "id": "fb3e165d-d78a-4d4f-be08-6efed91b0a73",
   "metadata": {},
   "outputs": [],
   "source": [
    "# 데이터 핸들링을 위한 패키지\n",
    "import numpy as np\n",
    "import pandas as pd\n",
    "\n",
    "# 통계 분석을 위한 패키지\n",
    "from scipy import stats\n",
    "\n",
    "# 시각화를 위한 패키지\n",
    "import seaborn as sb\n",
    "from matplotlib import pyplot as plt\n",
    "#from matplotlib import font_manager as fm"
   ]
  },
  {
   "cell_type": "markdown",
   "id": "8215d7da-da0d-49f5-8c0f-3065d3f3f6ba",
   "metadata": {},
   "source": [
    "## 상관계수"
   ]
  },
  {
   "cell_type": "raw",
   "id": "f20f8397-9724-4255-94f4-e548d6f400fc",
   "metadata": {},
   "source": [
    "[Problem]\n",
    "- airquality 데이터는 뉴욕의 일일 대기 오염 정도에 대한 데이터로, 총6개의 변수로 이루어져 있다. \n",
    "- 6개의 변수 중 Month(월)과 Day(일)은 제외하고 Ozone(오존량), Solar.R(일사량), Wind(풍속), Temp(최고온도)만으로 이루어진 데이터프레임 air를 생성하고, 네 가지 변수에 대한 상관계수를 산출하라. \n",
    "- 단, 모든 변수값에 NA가 없는 데이터들만 이용하여 피어슨, 스피어만, 켄달 상관계수를 모두 산출하여라."
   ]
  },
  {
   "cell_type": "code",
   "execution_count": 2,
   "id": "59b60ff7-09b5-416f-b756-6681132a6ca8",
   "metadata": {},
   "outputs": [],
   "source": [
    "# 데이터 프레임 생성\n",
    "df_airq = pd.read_csv( 'C:\\\\Users\\\\Administrator\\\\GitHub\\\\TIL\\\\ADP_study\\\\rawdata\\\\airquality.csv',\n",
    "                       index_col = 'Unnamed: 0')"
   ]
  },
  {
   "cell_type": "code",
   "execution_count": 3,
   "id": "ea67c685-71e9-42c7-9d0a-819e6a204dbd",
   "metadata": {},
   "outputs": [
    {
     "data": {
      "text/html": [
       "<div>\n",
       "<style scoped>\n",
       "    .dataframe tbody tr th:only-of-type {\n",
       "        vertical-align: middle;\n",
       "    }\n",
       "\n",
       "    .dataframe tbody tr th {\n",
       "        vertical-align: top;\n",
       "    }\n",
       "\n",
       "    .dataframe thead th {\n",
       "        text-align: right;\n",
       "    }\n",
       "</style>\n",
       "<table border=\"1\" class=\"dataframe\">\n",
       "  <thead>\n",
       "    <tr style=\"text-align: right;\">\n",
       "      <th></th>\n",
       "      <th>Ozone</th>\n",
       "      <th>Solar.R</th>\n",
       "      <th>Wind</th>\n",
       "      <th>Temp</th>\n",
       "    </tr>\n",
       "  </thead>\n",
       "  <tbody>\n",
       "    <tr>\n",
       "      <th>1</th>\n",
       "      <td>41.0</td>\n",
       "      <td>190.0</td>\n",
       "      <td>7.4</td>\n",
       "      <td>67</td>\n",
       "    </tr>\n",
       "    <tr>\n",
       "      <th>2</th>\n",
       "      <td>36.0</td>\n",
       "      <td>118.0</td>\n",
       "      <td>8.0</td>\n",
       "      <td>72</td>\n",
       "    </tr>\n",
       "    <tr>\n",
       "      <th>3</th>\n",
       "      <td>12.0</td>\n",
       "      <td>149.0</td>\n",
       "      <td>12.6</td>\n",
       "      <td>74</td>\n",
       "    </tr>\n",
       "    <tr>\n",
       "      <th>4</th>\n",
       "      <td>18.0</td>\n",
       "      <td>313.0</td>\n",
       "      <td>11.5</td>\n",
       "      <td>62</td>\n",
       "    </tr>\n",
       "    <tr>\n",
       "      <th>5</th>\n",
       "      <td>NaN</td>\n",
       "      <td>NaN</td>\n",
       "      <td>14.3</td>\n",
       "      <td>56</td>\n",
       "    </tr>\n",
       "    <tr>\n",
       "      <th>...</th>\n",
       "      <td>...</td>\n",
       "      <td>...</td>\n",
       "      <td>...</td>\n",
       "      <td>...</td>\n",
       "    </tr>\n",
       "    <tr>\n",
       "      <th>149</th>\n",
       "      <td>30.0</td>\n",
       "      <td>193.0</td>\n",
       "      <td>6.9</td>\n",
       "      <td>70</td>\n",
       "    </tr>\n",
       "    <tr>\n",
       "      <th>150</th>\n",
       "      <td>NaN</td>\n",
       "      <td>145.0</td>\n",
       "      <td>13.2</td>\n",
       "      <td>77</td>\n",
       "    </tr>\n",
       "    <tr>\n",
       "      <th>151</th>\n",
       "      <td>14.0</td>\n",
       "      <td>191.0</td>\n",
       "      <td>14.3</td>\n",
       "      <td>75</td>\n",
       "    </tr>\n",
       "    <tr>\n",
       "      <th>152</th>\n",
       "      <td>18.0</td>\n",
       "      <td>131.0</td>\n",
       "      <td>8.0</td>\n",
       "      <td>76</td>\n",
       "    </tr>\n",
       "    <tr>\n",
       "      <th>153</th>\n",
       "      <td>20.0</td>\n",
       "      <td>223.0</td>\n",
       "      <td>11.5</td>\n",
       "      <td>68</td>\n",
       "    </tr>\n",
       "  </tbody>\n",
       "</table>\n",
       "<p>153 rows × 4 columns</p>\n",
       "</div>"
      ],
      "text/plain": [
       "     Ozone  Solar.R  Wind  Temp\n",
       "1     41.0    190.0   7.4    67\n",
       "2     36.0    118.0   8.0    72\n",
       "3     12.0    149.0  12.6    74\n",
       "4     18.0    313.0  11.5    62\n",
       "5      NaN      NaN  14.3    56\n",
       "..     ...      ...   ...   ...\n",
       "149   30.0    193.0   6.9    70\n",
       "150    NaN    145.0  13.2    77\n",
       "151   14.0    191.0  14.3    75\n",
       "152   18.0    131.0   8.0    76\n",
       "153   20.0    223.0  11.5    68\n",
       "\n",
       "[153 rows x 4 columns]"
      ]
     },
     "execution_count": 3,
     "metadata": {},
     "output_type": "execute_result"
    }
   ],
   "source": [
    "# Month, Day 컬럼 삭제\n",
    "\n",
    "df_airq = df_airq.drop( ['Month', 'Day'], axis = 1 )\n",
    "df_airq"
   ]
  },
  {
   "cell_type": "code",
   "execution_count": 4,
   "id": "d2bcd2a2-e8a7-4eec-a7b5-2f58870edecb",
   "metadata": {},
   "outputs": [
    {
     "name": "stdout",
     "output_type": "stream",
     "text": [
      "<class 'pandas.core.frame.DataFrame'>\n",
      "Int64Index: 153 entries, 1 to 153\n",
      "Data columns (total 4 columns):\n",
      " #   Column   Non-Null Count  Dtype  \n",
      "---  ------   --------------  -----  \n",
      " 0   Ozone    116 non-null    float64\n",
      " 1   Solar.R  146 non-null    float64\n",
      " 2   Wind     153 non-null    float64\n",
      " 3   Temp     153 non-null    int64  \n",
      "dtypes: float64(3), int64(1)\n",
      "memory usage: 6.0 KB\n"
     ]
    }
   ],
   "source": [
    "df_airq.info()"
   ]
  },
  {
   "cell_type": "code",
   "execution_count": 5,
   "id": "6e4bf1e0-26f7-4b68-9847-9f29fe615c4e",
   "metadata": {},
   "outputs": [
    {
     "data": {
      "text/plain": [
       "Ozone      37\n",
       "Solar.R     7\n",
       "Wind        0\n",
       "Temp        0\n",
       "dtype: int64"
      ]
     },
     "execution_count": 5,
     "metadata": {},
     "output_type": "execute_result"
    }
   ],
   "source": [
    "# 결측치 확인\n",
    "\n",
    "df_airq.isnull().sum()"
   ]
  },
  {
   "cell_type": "code",
   "execution_count": 6,
   "id": "262b9855-118d-4f4c-8b2f-009403421325",
   "metadata": {},
   "outputs": [
    {
     "data": {
      "text/plain": [
       "Ozone      0\n",
       "Solar.R    0\n",
       "Wind       0\n",
       "Temp       0\n",
       "dtype: int64"
      ]
     },
     "execution_count": 6,
     "metadata": {},
     "output_type": "execute_result"
    }
   ],
   "source": [
    "# 결측치가 포함된 행 제거\n",
    "\n",
    "df_airq_dropna = df_airq.dropna()\n",
    "df_airq_dropna.isnull().sum()"
   ]
  },
  {
   "cell_type": "markdown",
   "id": "3c444677-caa3-46a8-b76b-f85aefd87966",
   "metadata": {},
   "source": [
    "### 상관계수 구하기"
   ]
  },
  {
   "cell_type": "code",
   "execution_count": 7,
   "id": "8a5dc1e6-d864-4ed1-9bed-8e25845a2527",
   "metadata": {},
   "outputs": [],
   "source": [
    "# 상관계수 구하기 (DataFrame 일 경우)\n",
    "\n",
    "# pandas.Series.corr( other Series,\n",
    "#                     method = 'pearson',  # 기본값은 'pearson' : 피어슨 상관계수\n",
    "#                                          # 'kendall' : 켄달의 순위상관계수\n",
    "#                                          # 'spearman' : 스피어만 상관계수                                              \n",
    "#                     min_periods = 1 )  # 유효한 결과를 얻기 위해 컬럼 한 쌍 당 팔요한 최소관찰 수 지정 "
   ]
  },
  {
   "cell_type": "code",
   "execution_count": 8,
   "id": "a3fdd1a0-a391-4992-bd3c-46d0eece53dc",
   "metadata": {
    "tags": []
   },
   "outputs": [],
   "source": [
    "# 상관계수 구하기 (DataFrame 일 경우)\n",
    "\n",
    "# pandas.DataFrame.corr( method = 'pearson',  # 기본값은 'pearson' : 피어슨 상관계수\n",
    "#                                             # 'kendall' : 켄달의 순위상관계수\n",
    "#                                             # 'spearman' : 스피어만 상관계수                                              \n",
    "#                        min_periods = 1 )  # 유효한 결과를 얻기 위해 컬럼 한 쌍 당 팔요한 최소관찰 수 지정 "
   ]
  },
  {
   "cell_type": "code",
   "execution_count": 9,
   "id": "d1126d2c-7790-4d8b-9f29-268f2900b999",
   "metadata": {
    "tags": []
   },
   "outputs": [
    {
     "name": "stdout",
     "output_type": "stream",
     "text": [
      "< Pearson correlation coefficient >\n",
      "            Ozone   Solar.R      Wind      Temp\n",
      "Ozone    1.000000  0.348342 -0.612497  0.698541\n",
      "Solar.R  0.348342  1.000000 -0.127183  0.294088\n",
      "Wind    -0.612497 -0.127183  1.000000 -0.497190\n",
      "Temp     0.698541  0.294088 -0.497190  1.000000\n",
      "\n",
      "< Kendall Tau correlation coefficient >\n",
      "            Ozone   Solar.R      Wind      Temp\n",
      "Ozone    1.000000  0.240319 -0.440459  0.586147\n",
      "Solar.R  0.240319  1.000000 -0.043013  0.142902\n",
      "Wind    -0.440459 -0.043013  1.000000 -0.362387\n",
      "Temp     0.586147  0.142902 -0.362387  1.000000\n",
      "\n",
      "< Spearman rank correlation >\n",
      "            Ozone   Solar.R      Wind      Temp\n",
      "Ozone    1.000000  0.348186 -0.605136  0.772932\n",
      "Solar.R  0.348186  1.000000 -0.061696  0.209537\n",
      "Wind    -0.605136 -0.061696  1.000000 -0.499323\n",
      "Temp     0.772932  0.209537 -0.499323  1.000000\n",
      "\n"
     ]
    }
   ],
   "source": [
    "p = df_airq_dropna.corr()\n",
    "k = df_airq_dropna.corr( method = 'kendall' )\n",
    "s = df_airq_dropna.corr( method = 'spearman' )\n",
    "\n",
    "print('< Pearson correlation coefficient >')\n",
    "print( p )\n",
    "print()\n",
    "\n",
    "print('< Kendall Tau correlation coefficient >')\n",
    "print( k )\n",
    "print()\n",
    "\n",
    "print('< Spearman rank correlation >')\n",
    "print( s )\n",
    "print()"
   ]
  },
  {
   "cell_type": "markdown",
   "id": "6db5e41b-2c1e-400d-b3bf-0838ddf5cae2",
   "metadata": {},
   "source": [
    "### 시각화"
   ]
  },
  {
   "cell_type": "raw",
   "id": "9fdd15aa-fca0-4870-9da6-4ec739016b59",
   "metadata": {},
   "source": [
    "[Problem]\n",
    "- air데이터 내의 네가지 변수 조합별 피어슨 상관계수를 그래프로 시각화하라."
   ]
  },
  {
   "cell_type": "code",
   "execution_count": 10,
   "id": "f679bf39-b391-4516-b70c-1cac0b35e1ae",
   "metadata": {},
   "outputs": [
    {
     "data": {
      "image/png": "[encoded data removed]",
      "text/plain": [
       "<Figure size 720x720 with 20 Axes>"
      ]
     },
     "metadata": {
      "needs_background": "light"
     },
     "output_type": "display_data"
    },
    {
     "name": "stdout",
     "output_type": "stream",
     "text": [
      "\n"
     ]
    }
   ],
   "source": [
    "sb.pairplot( p )\n",
    "plt.show()\n",
    "print()"
   ]
  },
  {
   "cell_type": "raw",
   "id": "9d7df6de-66bf-4c12-9fa0-8a1d79e5c2a3",
   "metadata": {},
   "source": [
    "[Problem]\n",
    "- air데이터의 Ozone(오존량)와 Wind(풍속)변수에 대한 상관분석을 실시하고, 피어슨 상관계수에 대한 검정 결과를 해석하라."
   ]
  },
  {
   "cell_type": "code",
   "execution_count": 11,
   "id": "71376e8f-051e-45d8-9ee9-93961e871b34",
   "metadata": {},
   "outputs": [
    {
     "data": {
      "text/plain": [
       "-0.612496576314212"
      ]
     },
     "execution_count": 11,
     "metadata": {},
     "output_type": "execute_result"
    }
   ],
   "source": [
    "ozone = df_airq_dropna['Ozone']\n",
    "wind = df_airq_dropna['Wind']\n",
    "\n",
    "ozone.corr(wind)"
   ]
  },
  {
   "cell_type": "markdown",
   "id": "5e6e92d7-362c-49cf-9fd6-dc8477cec846",
   "metadata": {},
   "source": [
    "## 상관계수 검정\n",
    "\n",
    "< 가설 설정 - 상관계수 검정 >\n",
    "- 귀무가설(H0) : 두 변수 간에는 상관관계가 없다.\n",
    "- 대립가설(H1) : 두 변수 간에는 상관관계가 있다.\n",
    "\n",
    "< 유의수준은 0.05 로 설정 >"
   ]
  },
  {
   "cell_type": "code",
   "execution_count": 12,
   "id": "f1f09ec6-8d75-421e-941a-44d92581d8b4",
   "metadata": {},
   "outputs": [
    {
     "name": "stdout",
     "output_type": "stream",
     "text": [
      " correlation: -0.6125, \n",
      " P-value: 0.000000000000908941532654 \n",
      " p-value < 0.05 이므로 귀무가설 기각. 두 변수 간에는 상관관계가 있다.\n"
     ]
    }
   ],
   "source": [
    "# 상관계수에 대한 검정 수행\n",
    "\n",
    "# scipy.stats.pearsonr(x, y)    # 입력 배열\n",
    "\n",
    "# scipy.stats.kendalltau( x, y,    # 같은 모양의 순위 배열. 만약, 배열이 1차원이 아니라면 1차원으로 평면화된다.\n",
    "#                         nan_policy = 'propagate',    # 입력에 nan이 포함된 경우 처리 방법을 정의. 기본값은 'propagate'\n",
    "#                                                      # 'propagate': NaN 을 반환\n",
    "#                                                      # 'rarise': 에러를 발생시킨다.\n",
    "#                                                      # 'omit' : NaN 값을 무시하고 계산을 수행\n",
    "#                         method = 'auto',    # p-값을 계산하는 데 사용되는 방법을 정의. 기본값은 'auto'\n",
    "#                                             # 'auto': 속도와 정확도 간의 균형을 기반으로 적절한 방법을 선택\n",
    "#                                             # 'asymptotic': 큰 표본에 유효한 정규 근사값을 사용\n",
    "#                                             # 'exact': 정확한 p-값을 계산하지만 동률이 없는 경우에만 사용. 샘플 크기가 증가함에 따라 계산 시간이 증가하고 결과의 정밀도에 약간의 손실이 있을 수 있음.\n",
    "#                         variant ='b' )    # 반환 되는 Kendall 의 tau 변형을 정의. 'b'와 'c' 중에 선택하여 적용. 기본값은 'b'.\n",
    "\n",
    "# scipy.stats.spearmanr( a, b = None,    # 여러 변수와 관측값을 포함하는 하나 또는 두 개의 1차원 또는 2차원 배열.\n",
    "#                                        # b 는 선택사항.\n",
    "#                        axis = 0,    # axis = 0 (기본값)이면 각 열은 행에 관측값이 있는 변수를 나타냄.\n",
    "#                                     # axis = 1 이면 관계가 전치됨. 각 행은 변수를 나타내고 열은 관측값을 포함함.\n",
    "#                                     # axis = None이면 두 배열이 모두 얽힌다.\n",
    "#                        nan_policy = 'propagate',   # 입력에 nan이 포함된 경우 처리 방법을 정의. 기본값은 'propagate'\n",
    "#                                                    # 'propagate': NaN 을 반환\n",
    "#                                                    # 'rarise': 에러를 발생시킨다.\n",
    "#                                                    # 'omit' : NaN 값을 무시하고 계산을 수행\n",
    "#                        alternative = 'two-sided' )    # 대립 가설을 정의. 기본값은 'two-sided'\n",
    "#                                                       # 'two-sided': 상관 관계가 0 이 아니다.\n",
    "#                                                       # 'less': 상관관계가 0 보다 작다.\n",
    "#                                                       # 'greater': 상관관계가 0 보다 크다.\n",
    "\n",
    "result = stats.pearsonr( ozone, wind )\n",
    "print( f' correlation: {result[0]:.4f}, \\n P-value: {result[1]:.24f} ' )\n",
    "\n",
    "if result[1] > 0.05:\n",
    "    print(' p-value > 0.05 이므로 귀무가설 채택. 두 변수 간에는 상관관계가 없다.')\n",
    "if result[1] < 0.05:\n",
    "    print(' p-value < 0.05 이므로 귀무가설 기각. 두 변수 간에는 상관관계가 있다.')"
   ]
  }
 ],
 "metadata": {
  "kernelspec": {
   "display_name": "Python 3",
   "language": "python",
   "name": "python3"
  },
  "language_info": {
   "codemirror_mode": {
    "name": "ipython",
    "version": 3
   },
   "file_extension": ".py",
   "mimetype": "text/x-python",
   "name": "python",
   "nbconvert_exporter": "python",
   "pygments_lexer": "ipython3",
   "version": "3.8.8"
  }
 },
 "nbformat": 4,
 "nbformat_minor": 5
}
