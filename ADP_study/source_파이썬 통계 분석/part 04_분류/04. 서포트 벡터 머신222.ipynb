{
 "cells": [
  {
   "cell_type": "markdown",
   "metadata": {},
   "source": [
    "# 서포트 벡터 머신"
   ]
  },
  {
   "cell_type": "markdown",
   "metadata": {},
   "source": [
    "## 데이터 불러오기"
   ]
  },
  {
   "cell_type": "code",
   "execution_count": 1,
   "metadata": {},
   "outputs": [],
   "source": [
    "# 연산 처리를 위한 패키지\n",
    "import numpy as np\n",
    "import pandas as pd\n",
    "\n",
    "# 데이터 분석을 위한 패키지\n",
    "from sklearn import svm\n",
    "from sklearn.model_selection import GridSearchCV \n",
    "\n",
    "# 시각화를 위한 패키지\n",
    "from matplotlib import pyplot as plt\n",
    "from mlxtend.plotting import plot_decision_regions\n",
    "\n",
    "# 그래프를 실제로 그리기 위한 설정\n",
    "%matplotlib inline\n",
    "\n",
    "# 경고 메세지 무시\n",
    "import warnings\n",
    "warnings.filterwarnings('ignore')"
   ]
  },
  {
   "cell_type": "code",
   "execution_count": 2,
   "metadata": {},
   "outputs": [
    {
     "data": {
      "text/html": [
       "<div>\n",
       "<style scoped>\n",
       "    .dataframe tbody tr th:only-of-type {\n",
       "        vertical-align: middle;\n",
       "    }\n",
       "\n",
       "    .dataframe tbody tr th {\n",
       "        vertical-align: top;\n",
       "    }\n",
       "\n",
       "    .dataframe thead th {\n",
       "        text-align: right;\n",
       "    }\n",
       "</style>\n",
       "<table border=\"1\" class=\"dataframe\">\n",
       "  <thead>\n",
       "    <tr style=\"text-align: right;\">\n",
       "      <th></th>\n",
       "      <th>Survived</th>\n",
       "      <th>Age</th>\n",
       "      <th>SibSp</th>\n",
       "      <th>Parch</th>\n",
       "      <th>Fare</th>\n",
       "      <th>Pclass_2</th>\n",
       "      <th>Pclass_3</th>\n",
       "      <th>Sex_1</th>\n",
       "    </tr>\n",
       "  </thead>\n",
       "  <tbody>\n",
       "    <tr>\n",
       "      <th>0</th>\n",
       "      <td>0</td>\n",
       "      <td>22.0</td>\n",
       "      <td>1</td>\n",
       "      <td>0</td>\n",
       "      <td>1.981001</td>\n",
       "      <td>0</td>\n",
       "      <td>1</td>\n",
       "      <td>1</td>\n",
       "    </tr>\n",
       "    <tr>\n",
       "      <th>1</th>\n",
       "      <td>1</td>\n",
       "      <td>38.0</td>\n",
       "      <td>1</td>\n",
       "      <td>0</td>\n",
       "      <td>4.266662</td>\n",
       "      <td>0</td>\n",
       "      <td>0</td>\n",
       "      <td>0</td>\n",
       "    </tr>\n",
       "    <tr>\n",
       "      <th>2</th>\n",
       "      <td>1</td>\n",
       "      <td>26.0</td>\n",
       "      <td>0</td>\n",
       "      <td>0</td>\n",
       "      <td>2.070022</td>\n",
       "      <td>0</td>\n",
       "      <td>1</td>\n",
       "      <td>0</td>\n",
       "    </tr>\n",
       "    <tr>\n",
       "      <th>3</th>\n",
       "      <td>1</td>\n",
       "      <td>35.0</td>\n",
       "      <td>1</td>\n",
       "      <td>0</td>\n",
       "      <td>3.972177</td>\n",
       "      <td>0</td>\n",
       "      <td>0</td>\n",
       "      <td>0</td>\n",
       "    </tr>\n",
       "    <tr>\n",
       "      <th>4</th>\n",
       "      <td>0</td>\n",
       "      <td>35.0</td>\n",
       "      <td>0</td>\n",
       "      <td>0</td>\n",
       "      <td>2.085672</td>\n",
       "      <td>0</td>\n",
       "      <td>1</td>\n",
       "      <td>1</td>\n",
       "    </tr>\n",
       "    <tr>\n",
       "      <th>...</th>\n",
       "      <td>...</td>\n",
       "      <td>...</td>\n",
       "      <td>...</td>\n",
       "      <td>...</td>\n",
       "      <td>...</td>\n",
       "      <td>...</td>\n",
       "      <td>...</td>\n",
       "      <td>...</td>\n",
       "    </tr>\n",
       "    <tr>\n",
       "      <th>1038</th>\n",
       "      <td>1</td>\n",
       "      <td>3.0</td>\n",
       "      <td>1</td>\n",
       "      <td>1</td>\n",
       "      <td>2.622855</td>\n",
       "      <td>0</td>\n",
       "      <td>1</td>\n",
       "      <td>0</td>\n",
       "    </tr>\n",
       "    <tr>\n",
       "      <th>1039</th>\n",
       "      <td>1</td>\n",
       "      <td>37.0</td>\n",
       "      <td>1</td>\n",
       "      <td>0</td>\n",
       "      <td>4.499810</td>\n",
       "      <td>0</td>\n",
       "      <td>0</td>\n",
       "      <td>0</td>\n",
       "    </tr>\n",
       "    <tr>\n",
       "      <th>1040</th>\n",
       "      <td>1</td>\n",
       "      <td>28.0</td>\n",
       "      <td>0</td>\n",
       "      <td>0</td>\n",
       "      <td>2.050913</td>\n",
       "      <td>0</td>\n",
       "      <td>1</td>\n",
       "      <td>0</td>\n",
       "    </tr>\n",
       "    <tr>\n",
       "      <th>1041</th>\n",
       "      <td>1</td>\n",
       "      <td>39.0</td>\n",
       "      <td>0</td>\n",
       "      <td>0</td>\n",
       "      <td>4.690430</td>\n",
       "      <td>0</td>\n",
       "      <td>0</td>\n",
       "      <td>0</td>\n",
       "    </tr>\n",
       "    <tr>\n",
       "      <th>1042</th>\n",
       "      <td>0</td>\n",
       "      <td>38.5</td>\n",
       "      <td>0</td>\n",
       "      <td>0</td>\n",
       "      <td>1.981001</td>\n",
       "      <td>0</td>\n",
       "      <td>1</td>\n",
       "      <td>1</td>\n",
       "    </tr>\n",
       "  </tbody>\n",
       "</table>\n",
       "<p>1043 rows × 8 columns</p>\n",
       "</div>"
      ],
      "text/plain": [
       "      Survived   Age  SibSp  Parch      Fare  Pclass_2  Pclass_3  Sex_1\n",
       "0            0  22.0      1      0  1.981001         0         1      1\n",
       "1            1  38.0      1      0  4.266662         0         0      0\n",
       "2            1  26.0      0      0  2.070022         0         1      0\n",
       "3            1  35.0      1      0  3.972177         0         0      0\n",
       "4            0  35.0      0      0  2.085672         0         1      1\n",
       "...        ...   ...    ...    ...       ...       ...       ...    ...\n",
       "1038         1   3.0      1      1  2.622855         0         1      0\n",
       "1039         1  37.0      1      0  4.499810         0         0      0\n",
       "1040         1  28.0      0      0  2.050913         0         1      0\n",
       "1041         1  39.0      0      0  4.690430         0         0      0\n",
       "1042         0  38.5      0      0  1.981001         0         1      1\n",
       "\n",
       "[1043 rows x 8 columns]"
      ]
     },
     "execution_count": 2,
     "metadata": {},
     "output_type": "execute_result"
    }
   ],
   "source": [
    "df_svm = pd.read_csv('C:/Users/Administrator/GitHub/TIL/ADP_study/rawdata/df_titanic.csv')\n",
    "\n",
    "# 데이터 확인\n",
    "df_svm"
   ]
  },
  {
   "cell_type": "markdown",
   "metadata": {},
   "source": [
    "## 선형 커널 - LinearSVC\n",
    "### X(Fare, Age) / y(Survived)"
   ]
  },
  {
   "cell_type": "code",
   "execution_count": 3,
   "metadata": {},
   "outputs": [
    {
     "data": {
      "text/plain": [
       "SVC(C=0.01, kernel='linear')"
      ]
     },
     "execution_count": 3,
     "metadata": {},
     "output_type": "execute_result"
    }
   ],
   "source": [
    "X = np.array(df_svm[['Fare','Age']])\n",
    "y = np.array(df_svm['Survived'])\n",
    "\n",
    "# C: Cost(비용), 마진 너비 조절 변수 값이 클수록 마진 너비가 좁아진다\n",
    "clf = svm.SVC(kernel='linear', C=0.01)\n",
    "clf.fit(X,y)"
   ]
  },
  {
   "cell_type": "code",
   "execution_count": 4,
   "metadata": {},
   "outputs": [
    {
     "data": {
      "image/png": "[encoded data removed]",
      "text/plain": [
       "<Figure size 432x288 with 1 Axes>"
      ]
     },
     "metadata": {
      "needs_background": "light"
     },
     "output_type": "display_data"
    }
   ],
   "source": [
    "# 결정 함수 플로팅\n",
    "ax = plt.gca()\n",
    "xlim = ax.get_xlim()\n",
    "ylim = ax.get_ylim()\n",
    "\n",
    "\n",
    "# 모델 평가를위한 그리드 생성\n",
    "xx = np.linspace(xlim[0], xlim[1], 30)\n",
    "yy = np.linspace(ylim[0], ylim[1], 30)\n",
    "YY, XX = np.meshgrid(yy, xx)\n",
    "xy = np.vstack([XX.ravel(), YY.ravel()]).T"
   ]
  },
  {
   "cell_type": "code",
   "execution_count": 5,
   "metadata": {},
   "outputs": [
    {
     "data": {
      "text/plain": [
       "array([[0.        , 0.        ],\n",
       "       [0.        , 0.03448276],\n",
       "       [0.        , 0.06896552],\n",
       "       ...,\n",
       "       [1.        , 0.93103448],\n",
       "       [1.        , 0.96551724],\n",
       "       [1.        , 1.        ]])"
      ]
     },
     "execution_count": 5,
     "metadata": {},
     "output_type": "execute_result"
    }
   ],
   "source": [
    "xy"
   ]
  },
  {
   "cell_type": "code",
   "execution_count": 6,
   "metadata": {},
   "outputs": [
    {
     "data": {
      "text/plain": [
       "array([-1.89335589, -1.89390107, -1.89444626, -1.89499145, -1.89553664,\n",
       "       -1.89608182, -1.89662701, -1.8971722 , -1.89771739, -1.89826257,\n",
       "       -1.89880776, -1.89935295, -1.89989814, -1.90044332, -1.90098851,\n",
       "       -1.9015337 , -1.90207889, -1.90262407, -1.90316926, -1.90371445,\n",
       "       -1.90425964, -1.90480482, -1.90535001, -1.9058952 , -1.90644039,\n",
       "       -1.90698557, -1.90753076, -1.90807595, -1.90862114, -1.90916632,\n",
       "       -1.87284354, -1.87338873, -1.87393392, -1.8744791 , -1.87502429,\n",
       "       -1.87556948, -1.87611467, -1.87665985, -1.87720504, -1.87775023,\n",
       "       -1.87829542, -1.8788406 , -1.87938579, -1.87993098, -1.88047617,\n",
       "       -1.88102135, -1.88156654, -1.88211173, -1.88265692, -1.8832021 ,\n",
       "       -1.88374729, -1.88429248, -1.88483767, -1.88538285, -1.88592804,\n",
       "       -1.88647323, -1.88701842, -1.8875636 , -1.88810879, -1.88865398,\n",
       "       -1.85233119, -1.85287638, -1.85342157, -1.85396676, -1.85451194,\n",
       "       -1.85505713, -1.85560232, -1.85614751, -1.85669269, -1.85723788,\n",
       "       -1.85778307, -1.85832826, -1.85887344, -1.85941863, -1.85996382,\n",
       "       -1.86050901, -1.86105419, -1.86159938, -1.86214457, -1.86268976,\n",
       "       -1.86323494, -1.86378013, -1.86432532, -1.86487051, -1.86541569,\n",
       "       -1.86596088, -1.86650607, -1.86705126, -1.86759644, -1.86814163,\n",
       "       -1.83181885, -1.83236404, -1.83290922, -1.83345441, -1.8339996 ,\n",
       "       -1.83454479, -1.83508997, -1.83563516, -1.83618035, -1.83672554,\n",
       "       -1.83727072, -1.83781591, -1.8383611 , -1.83890629, -1.83945147,\n",
       "       -1.83999666, -1.84054185, -1.84108704, -1.84163222, -1.84217741,\n",
       "       -1.8427226 , -1.84326779, -1.84381297, -1.84435816, -1.84490335,\n",
       "       -1.84544854, -1.84599372, -1.84653891, -1.8470841 , -1.84762929,\n",
       "       -1.8113065 , -1.81185169, -1.81239688, -1.81294206, -1.81348725,\n",
       "       -1.81403244, -1.81457763, -1.81512281, -1.815668  , -1.81621319,\n",
       "       -1.81675838, -1.81730356, -1.81784875, -1.81839394, -1.81893913,\n",
       "       -1.81948431, -1.8200295 , -1.82057469, -1.82111988, -1.82166506,\n",
       "       -1.82221025, -1.82275544, -1.82330063, -1.82384581, -1.824391  ,\n",
       "       -1.82493619, -1.82548138, -1.82602656, -1.82657175, -1.82711694,\n",
       "       -1.79079416, -1.79133934, -1.79188453, -1.79242972, -1.79297491,\n",
       "       -1.79352009, -1.79406528, -1.79461047, -1.79515566, -1.79570084,\n",
       "       -1.79624603, -1.79679122, -1.79733641, -1.79788159, -1.79842678,\n",
       "       -1.79897197, -1.79951716, -1.80006234, -1.80060753, -1.80115272,\n",
       "       -1.80169791, -1.80224309, -1.80278828, -1.80333347, -1.80387866,\n",
       "       -1.80442384, -1.80496903, -1.80551422, -1.80605941, -1.80660459,\n",
       "       -1.77028181, -1.770827  , -1.77137218, -1.77191737, -1.77246256,\n",
       "       -1.77300775, -1.77355293, -1.77409812, -1.77464331, -1.7751885 ,\n",
       "       -1.77573368, -1.77627887, -1.77682406, -1.77736925, -1.77791443,\n",
       "       -1.77845962, -1.77900481, -1.77955   , -1.78009518, -1.78064037,\n",
       "       -1.78118556, -1.78173075, -1.78227593, -1.78282112, -1.78336631,\n",
       "       -1.7839115 , -1.78445668, -1.78500187, -1.78554706, -1.78609225,\n",
       "       -1.74976946, -1.75031465, -1.75085984, -1.75140503, -1.75195021,\n",
       "       -1.7524954 , -1.75304059, -1.75358578, -1.75413096, -1.75467615,\n",
       "       -1.75522134, -1.75576653, -1.75631171, -1.7568569 , -1.75740209,\n",
       "       -1.75794728, -1.75849246, -1.75903765, -1.75958284, -1.76012803,\n",
       "       -1.76067321, -1.7612184 , -1.76176359, -1.76230878, -1.76285396,\n",
       "       -1.76339915, -1.76394434, -1.76448953, -1.76503471, -1.7655799 ,\n",
       "       -1.72925712, -1.7298023 , -1.73034749, -1.73089268, -1.73143787,\n",
       "       -1.73198305, -1.73252824, -1.73307343, -1.73361862, -1.7341638 ,\n",
       "       -1.73470899, -1.73525418, -1.73579937, -1.73634455, -1.73688974,\n",
       "       -1.73743493, -1.73798012, -1.7385253 , -1.73907049, -1.73961568,\n",
       "       -1.74016087, -1.74070605, -1.74125124, -1.74179643, -1.74234162,\n",
       "       -1.7428868 , -1.74343199, -1.74397718, -1.74452237, -1.74506755,\n",
       "       -1.70874477, -1.70928996, -1.70983515, -1.71038033, -1.71092552,\n",
       "       -1.71147071, -1.7120159 , -1.71256108, -1.71310627, -1.71365146,\n",
       "       -1.71419665, -1.71474183, -1.71528702, -1.71583221, -1.7163774 ,\n",
       "       -1.71692258, -1.71746777, -1.71801296, -1.71855815, -1.71910333,\n",
       "       -1.71964852, -1.72019371, -1.7207389 , -1.72128408, -1.72182927,\n",
       "       -1.72237446, -1.72291965, -1.72346483, -1.72401002, -1.72455521,\n",
       "       -1.68823242, -1.68877761, -1.6893228 , -1.68986799, -1.69041317,\n",
       "       -1.69095836, -1.69150355, -1.69204874, -1.69259392, -1.69313911,\n",
       "       -1.6936843 , -1.69422949, -1.69477467, -1.69531986, -1.69586505,\n",
       "       -1.69641024, -1.69695542, -1.69750061, -1.6980458 , -1.69859099,\n",
       "       -1.69913617, -1.69968136, -1.70022655, -1.70077174, -1.70131692,\n",
       "       -1.70186211, -1.7024073 , -1.70295249, -1.70349767, -1.70404286,\n",
       "       -1.66772008, -1.66826527, -1.66881045, -1.66935564, -1.66990083,\n",
       "       -1.67044602, -1.6709912 , -1.67153639, -1.67208158, -1.67262677,\n",
       "       -1.67317195, -1.67371714, -1.67426233, -1.67480752, -1.6753527 ,\n",
       "       -1.67589789, -1.67644308, -1.67698827, -1.67753345, -1.67807864,\n",
       "       -1.67862383, -1.67916902, -1.6797142 , -1.68025939, -1.68080458,\n",
       "       -1.68134977, -1.68189495, -1.68244014, -1.68298533, -1.68353052,\n",
       "       -1.64720773, -1.64775292, -1.64829811, -1.6488433 , -1.64938848,\n",
       "       -1.64993367, -1.65047886, -1.65102405, -1.65156923, -1.65211442,\n",
       "       -1.65265961, -1.65320479, -1.65374998, -1.65429517, -1.65484036,\n",
       "       -1.65538554, -1.65593073, -1.65647592, -1.65702111, -1.65756629,\n",
       "       -1.65811148, -1.65865667, -1.65920186, -1.65974704, -1.66029223,\n",
       "       -1.66083742, -1.66138261, -1.66192779, -1.66247298, -1.66301817,\n",
       "       -1.62669539, -1.62724057, -1.62778576, -1.62833095, -1.62887614,\n",
       "       -1.62942132, -1.62996651, -1.6305117 , -1.63105689, -1.63160207,\n",
       "       -1.63214726, -1.63269245, -1.63323764, -1.63378282, -1.63432801,\n",
       "       -1.6348732 , -1.63541839, -1.63596357, -1.63650876, -1.63705395,\n",
       "       -1.63759914, -1.63814432, -1.63868951, -1.6392347 , -1.63977989,\n",
       "       -1.64032507, -1.64087026, -1.64141545, -1.64196064, -1.64250582,\n",
       "       -1.60618304, -1.60672823, -1.60727342, -1.6078186 , -1.60836379,\n",
       "       -1.60890898, -1.60945417, -1.60999935, -1.61054454, -1.61108973,\n",
       "       -1.61163492, -1.6121801 , -1.61272529, -1.61327048, -1.61381567,\n",
       "       -1.61436085, -1.61490604, -1.61545123, -1.61599642, -1.6165416 ,\n",
       "       -1.61708679, -1.61763198, -1.61817716, -1.61872235, -1.61926754,\n",
       "       -1.61981273, -1.62035791, -1.6209031 , -1.62144829, -1.62199348,\n",
       "       -1.58567069, -1.58621588, -1.58676107, -1.58730626, -1.58785144,\n",
       "       -1.58839663, -1.58894182, -1.58948701, -1.59003219, -1.59057738,\n",
       "       -1.59112257, -1.59166776, -1.59221294, -1.59275813, -1.59330332,\n",
       "       -1.59384851, -1.59439369, -1.59493888, -1.59548407, -1.59602926,\n",
       "       -1.59657444, -1.59711963, -1.59766482, -1.59821001, -1.59875519,\n",
       "       -1.59930038, -1.59984557, -1.60039076, -1.60093594, -1.60148113,\n",
       "       -1.56515835, -1.56570354, -1.56624872, -1.56679391, -1.5673391 ,\n",
       "       -1.56788429, -1.56842947, -1.56897466, -1.56951985, -1.57006504,\n",
       "       -1.57061022, -1.57115541, -1.5717006 , -1.57224579, -1.57279097,\n",
       "       -1.57333616, -1.57388135, -1.57442654, -1.57497172, -1.57551691,\n",
       "       -1.5760621 , -1.57660729, -1.57715247, -1.57769766, -1.57824285,\n",
       "       -1.57878804, -1.57933322, -1.57987841, -1.5804236 , -1.58096878,\n",
       "       -1.544646  , -1.54519119, -1.54573638, -1.54628156, -1.54682675,\n",
       "       -1.54737194, -1.54791713, -1.54846231, -1.5490075 , -1.54955269,\n",
       "       -1.55009788, -1.55064306, -1.55118825, -1.55173344, -1.55227863,\n",
       "       -1.55282381, -1.553369  , -1.55391419, -1.55445938, -1.55500456,\n",
       "       -1.55554975, -1.55609494, -1.55664013, -1.55718531, -1.5577305 ,\n",
       "       -1.55827569, -1.55882088, -1.55936606, -1.55991125, -1.56045644,\n",
       "       -1.52413366, -1.52467884, -1.52522403, -1.52576922, -1.52631441,\n",
       "       -1.52685959, -1.52740478, -1.52794997, -1.52849516, -1.52904034,\n",
       "       -1.52958553, -1.53013072, -1.53067591, -1.53122109, -1.53176628,\n",
       "       -1.53231147, -1.53285666, -1.53340184, -1.53394703, -1.53449222,\n",
       "       -1.53503741, -1.53558259, -1.53612778, -1.53667297, -1.53721816,\n",
       "       -1.53776334, -1.53830853, -1.53885372, -1.53939891, -1.53994409,\n",
       "       -1.50362131, -1.5041665 , -1.50471168, -1.50525687, -1.50580206,\n",
       "       -1.50634725, -1.50689243, -1.50743762, -1.50798281, -1.508528  ,\n",
       "       -1.50907318, -1.50961837, -1.51016356, -1.51070875, -1.51125393,\n",
       "       -1.51179912, -1.51234431, -1.5128895 , -1.51343468, -1.51397987,\n",
       "       -1.51452506, -1.51507025, -1.51561543, -1.51616062, -1.51670581,\n",
       "       -1.517251  , -1.51779618, -1.51834137, -1.51888656, -1.51943175,\n",
       "       -1.48310896, -1.48365415, -1.48419934, -1.48474453, -1.48528971,\n",
       "       -1.4858349 , -1.48638009, -1.48692528, -1.48747046, -1.48801565,\n",
       "       -1.48856084, -1.48910603, -1.48965121, -1.4901964 , -1.49074159,\n",
       "       -1.49128678, -1.49183196, -1.49237715, -1.49292234, -1.49346753,\n",
       "       -1.49401271, -1.4945579 , -1.49510309, -1.49564828, -1.49619346,\n",
       "       -1.49673865, -1.49728384, -1.49782903, -1.49837421, -1.4989194 ,\n",
       "       -1.46259662, -1.4631418 , -1.46368699, -1.46423218, -1.46477737,\n",
       "       -1.46532255, -1.46586774, -1.46641293, -1.46695812, -1.4675033 ,\n",
       "       -1.46804849, -1.46859368, -1.46913887, -1.46968405, -1.47022924,\n",
       "       -1.47077443, -1.47131962, -1.4718648 , -1.47240999, -1.47295518,\n",
       "       -1.47350037, -1.47404555, -1.47459074, -1.47513593, -1.47568112,\n",
       "       -1.4762263 , -1.47677149, -1.47731668, -1.47786187, -1.47840705,\n",
       "       -1.44208427, -1.44262946, -1.44317465, -1.44371983, -1.44426502,\n",
       "       -1.44481021, -1.4453554 , -1.44590058, -1.44644577, -1.44699096,\n",
       "       -1.44753615, -1.44808133, -1.44862652, -1.44917171, -1.4497169 ,\n",
       "       -1.45026208, -1.45080727, -1.45135246, -1.45189765, -1.45244283,\n",
       "       -1.45298802, -1.45353321, -1.4540784 , -1.45462358, -1.45516877,\n",
       "       -1.45571396, -1.45625915, -1.45680433, -1.45734952, -1.45789471,\n",
       "       -1.42157192, -1.42211711, -1.4226623 , -1.42320749, -1.42375267,\n",
       "       -1.42429786, -1.42484305, -1.42538824, -1.42593342, -1.42647861,\n",
       "       -1.4270238 , -1.42756899, -1.42811417, -1.42865936, -1.42920455,\n",
       "       -1.42974974, -1.43029492, -1.43084011, -1.4313853 , -1.43193049,\n",
       "       -1.43247567, -1.43302086, -1.43356605, -1.43411124, -1.43465642,\n",
       "       -1.43520161, -1.4357468 , -1.43629199, -1.43683717, -1.43738236,\n",
       "       -1.40105958, -1.40160477, -1.40214995, -1.40269514, -1.40324033,\n",
       "       -1.40378552, -1.4043307 , -1.40487589, -1.40542108, -1.40596627,\n",
       "       -1.40651145, -1.40705664, -1.40760183, -1.40814702, -1.4086922 ,\n",
       "       -1.40923739, -1.40978258, -1.41032777, -1.41087295, -1.41141814,\n",
       "       -1.41196333, -1.41250852, -1.4130537 , -1.41359889, -1.41414408,\n",
       "       -1.41468927, -1.41523445, -1.41577964, -1.41632483, -1.41687002,\n",
       "       -1.38054723, -1.38109242, -1.38163761, -1.38218279, -1.38272798,\n",
       "       -1.38327317, -1.38381836, -1.38436354, -1.38490873, -1.38545392,\n",
       "       -1.38599911, -1.38654429, -1.38708948, -1.38763467, -1.38817986,\n",
       "       -1.38872504, -1.38927023, -1.38981542, -1.39036061, -1.39090579,\n",
       "       -1.39145098, -1.39199617, -1.39254136, -1.39308654, -1.39363173,\n",
       "       -1.39417692, -1.39472211, -1.39526729, -1.39581248, -1.39635767,\n",
       "       -1.36003489, -1.36058007, -1.36112526, -1.36167045, -1.36221564,\n",
       "       -1.36276082, -1.36330601, -1.3638512 , -1.36439639, -1.36494157,\n",
       "       -1.36548676, -1.36603195, -1.36657714, -1.36712232, -1.36766751,\n",
       "       -1.3682127 , -1.36875789, -1.36930307, -1.36984826, -1.37039345,\n",
       "       -1.37093864, -1.37148382, -1.37202901, -1.3725742 , -1.37311939,\n",
       "       -1.37366457, -1.37420976, -1.37475495, -1.37530014, -1.37584532,\n",
       "       -1.33952254, -1.34006773, -1.34061291, -1.3411581 , -1.34170329,\n",
       "       -1.34224848, -1.34279366, -1.34333885, -1.34388404, -1.34442923,\n",
       "       -1.34497441, -1.3455196 , -1.34606479, -1.34660998, -1.34715516,\n",
       "       -1.34770035, -1.34824554, -1.34879073, -1.34933591, -1.3498811 ,\n",
       "       -1.35042629, -1.35097148, -1.35151666, -1.35206185, -1.35260704,\n",
       "       -1.35315223, -1.35369741, -1.3542426 , -1.35478779, -1.35533298,\n",
       "       -1.31901019, -1.31955538, -1.32010057, -1.32064576, -1.32119094,\n",
       "       -1.32173613, -1.32228132, -1.32282651, -1.32337169, -1.32391688,\n",
       "       -1.32446207, -1.32500726, -1.32555244, -1.32609763, -1.32664282,\n",
       "       -1.32718801, -1.32773319, -1.32827838, -1.32882357, -1.32936876,\n",
       "       -1.32991394, -1.33045913, -1.33100432, -1.33154951, -1.33209469,\n",
       "       -1.33263988, -1.33318507, -1.33373026, -1.33427544, -1.33482063,\n",
       "       -1.29849785, -1.29904303, -1.29958822, -1.30013341, -1.3006786 ,\n",
       "       -1.30122378, -1.30176897, -1.30231416, -1.30285935, -1.30340453,\n",
       "       -1.30394972, -1.30449491, -1.3050401 , -1.30558528, -1.30613047,\n",
       "       -1.30667566, -1.30722085, -1.30776603, -1.30831122, -1.30885641,\n",
       "       -1.3094016 , -1.30994678, -1.31049197, -1.31103716, -1.31158235,\n",
       "       -1.31212753, -1.31267272, -1.31321791, -1.3137631 , -1.31430828])"
      ]
     },
     "execution_count": 6,
     "metadata": {},
     "output_type": "execute_result"
    }
   ],
   "source": [
    "clf.decision_function(xy)"
   ]
  },
  {
   "cell_type": "code",
   "execution_count": 7,
   "metadata": {},
   "outputs": [
    {
     "ename": "NameError",
     "evalue": "name 'c' is not defined",
     "output_type": "error",
     "traceback": [
      "\u001b[1;31m---------------------------------------------------------------------------\u001b[0m",
      "\u001b[1;31mNameError\u001b[0m                                 Traceback (most recent call last)",
      "\u001b[1;32m<ipython-input-7-1dd5973cae19>\u001b[0m in \u001b[0;36m<module>\u001b[1;34m\u001b[0m\n\u001b[1;32m----> 1\u001b[1;33m \u001b[0mprint\u001b[0m\u001b[1;33m(\u001b[0m\u001b[0mc\u001b[0m\u001b[1;33m)\u001b[0m\u001b[1;33m\u001b[0m\u001b[1;33m\u001b[0m\u001b[0m\n\u001b[0m",
      "\u001b[1;31mNameError\u001b[0m: name 'c' is not defined"
     ]
    }
   ],
   "source": [
    "print(c)"
   ]
  },
  {
   "cell_type": "code",
   "execution_count": null,
   "metadata": {},
   "outputs": [],
   "source": [
    "plt.scatter(X[:, 0], X[:, 1], c=y, s=30, cmap=plt.cm.Paired)"
   ]
  },
  {
   "cell_type": "code",
   "execution_count": null,
   "metadata": {},
   "outputs": [],
   "source": [
    "# 서포트 벡터 플로팅\n",
    "ax.scatter(clf.support_vectors_[:, 0], clf.support_vectors_[:, 1], s=50,\n",
    "           linewidth=1, facecolors='none', edgecolors='k')"
   ]
  },
  {
   "cell_type": "code",
   "execution_count": null,
   "metadata": {},
   "outputs": [],
   "source": [
    "# X축, y축 라벨링\n",
    "plt.xlabel(\"Fare\")\n",
    "plt.ylabel(\"Age\")\n",
    "\n",
    "plot_decision_regions(X=X, \n",
    "                      y=y,\n",
    "                      clf=clf, \n",
    "                      legend=2)\n",
    "\n",
    "plt.title('SVM Decision Region Boundary - Linear', size=14)\n",
    "L = plt.legend()\n",
    "L.get_texts()[0].set_text('Survived=0')\n",
    "L.get_texts()[1].set_text('Survived=1')\n",
    "\n",
    "\n",
    "\n",
    "# 결정 함수 플로팅\n",
    "ax = plt.gca()\n",
    "xlim = ax.get_xlim()\n",
    "ylim = ax.get_ylim()\n",
    "\n",
    "\n",
    "# 모델 평가를위한 그리드 생성\n",
    "xx = np.linspace(xlim[0], xlim[1], 30)\n",
    "yy = np.linspace(ylim[0], ylim[1], 30)\n",
    "YY, XX = np.meshgrid(yy, xx)\n",
    "xy = np.vstack([XX.ravel(), YY.ravel()]).T\n",
    "Z = clf.decision_function(xy).reshape(XX.shape)\n",
    "\n",
    "\n",
    "# 결정 경계와 마진\n",
    "ax.contour(XX, YY, Z, colors='k', levels=[-1, 0, 1], alpha=0.5,\n",
    "           linestyles=['--', '-', '--'])\n",
    "\n",
    "\n",
    "plt.show()"
   ]
  },
  {
   "cell_type": "code",
   "execution_count": null,
   "metadata": {},
   "outputs": [],
   "source": [
    "clf.decision_function(xy)"
   ]
  },
  {
   "cell_type": "code",
   "execution_count": null,
   "metadata": {},
   "outputs": [],
   "source": [
    "# 결정 함수 플로팅\n",
    "ax = plt.gca()\n",
    "xlim = ax.get_xlim()\n",
    "ylim = ax.get_ylim()\n",
    "\n",
    "\n",
    "# 모델 평가를위한 그리드 생성\n",
    "xx = np.linspace(xlim[0], xlim[1], 30)\n",
    "yy = np.linspace(ylim[0], ylim[1], 30)\n",
    "YY, XX = np.meshgrid(yy, xx)\n",
    "xy = np.vstack([XX.ravel(), YY.ravel()]).T\n",
    "Z = clf.decision_function(xy).reshape(XX.shape)\n",
    "\n",
    "\n",
    "# 결정 경계와 마진\n",
    "ax.contour(XX, YY, Z, colors='k', levels=[-1, 0, 1], alpha=0.5,\n",
    "           linestyles=['--', '-', '--'])"
   ]
  },
  {
   "cell_type": "code",
   "execution_count": null,
   "metadata": {},
   "outputs": [],
   "source": []
  },
  {
   "cell_type": "code",
   "execution_count": null,
   "metadata": {},
   "outputs": [],
   "source": []
  },
  {
   "cell_type": "code",
   "execution_count": null,
   "metadata": {},
   "outputs": [],
   "source": []
  },
  {
   "cell_type": "code",
   "execution_count": null,
   "metadata": {},
   "outputs": [],
   "source": []
  },
  {
   "cell_type": "code",
   "execution_count": null,
   "metadata": {},
   "outputs": [],
   "source": []
  },
  {
   "cell_type": "code",
   "execution_count": null,
   "metadata": {},
   "outputs": [],
   "source": [
    "clf.score(X, y)"
   ]
  },
  {
   "cell_type": "markdown",
   "metadata": {},
   "source": [
    "### GridSearchCV 를 활용한 최적의 파라미터 찾기"
   ]
  },
  {
   "cell_type": "code",
   "execution_count": null,
   "metadata": {},
   "outputs": [],
   "source": [
    "GridSearchCV?\n",
    "\n",
    "# estimator: regressor, classifier  등이 사용 됩니다.\n",
    "# param_grid: 딕셔너리 형태 이며 파라미터 튜닝을 위한 여러 파라미터 명과 값을 지정\n",
    "# n_jobs: CPU 코어 사용 갯수, -1 지정시 모든 코어 사용\n",
    "# refit: 최적의 하이퍼 파라미터를 찾은 뒤 그 파라미터를 입력된 estimator로 재학습\n",
    "# cv: cross validation, 교차 검증을 위해 분할 되는 세트의 개수"
   ]
  },
  {
   "cell_type": "code",
   "execution_count": null,
   "metadata": {},
   "outputs": [],
   "source": [
    "# defining parameter range \n",
    "# C: Cost(비용), 마진 너비 조절 변수 값이 클수록 마진 너비가 좁아진다\n",
    "# gamma: 감마, 작을 데이터 포인트의 영향이 커 경계가 완만해진다.\n",
    "param_grid = {'C': [0.1, 1, 10, 100, 1000],  \n",
    "              'gamma': [1, 0.1, 0.01, 0.001, 0.0001], \n",
    "              'kernel': ['linear']}  \n",
    "\n",
    "grid = GridSearchCV(svm.SVC(), param_grid, refit = True, scoring = 'accuracy', n_jobs=-1) \n",
    "grid.fit(X, y)"
   ]
  },
  {
   "cell_type": "code",
   "execution_count": null,
   "metadata": {},
   "outputs": [],
   "source": [
    "df_grid = pd.DataFrame(grid.cv_results_)\n",
    "df_grid.head()"
   ]
  },
  {
   "cell_type": "code",
   "execution_count": null,
   "metadata": {},
   "outputs": [],
   "source": [
    "df_grid[['params','mean_test_score','rank_test_score']].sort_values(['rank_test_score']).head()"
   ]
  },
  {
   "cell_type": "code",
   "execution_count": null,
   "metadata": {},
   "outputs": [],
   "source": [
    "print (\"최고 Score: \",str(grid.best_score_))\n",
    "print (\"최적의 Parameters: \",str(grid.best_params_))\n",
    "print (\"최적의 Estimators: \",str(grid.best_estimator_))"
   ]
  },
  {
   "cell_type": "code",
   "execution_count": null,
   "metadata": {},
   "outputs": [],
   "source": [
    "# 최적의 Parameter로 학습된 estomator\n",
    "clf = grid.best_estimator_"
   ]
  },
  {
   "cell_type": "code",
   "execution_count": null,
   "metadata": {},
   "outputs": [],
   "source": [
    "plt.scatter(X[:, 0], X[:, 1], c=y, s=30, cmap=plt.cm.Paired)\n",
    "\n",
    "# 결정 함수 플로팅\n",
    "ax = plt.gca()\n",
    "xlim = ax.get_xlim()\n",
    "ylim = ax.get_ylim()\n",
    "\n",
    "# 모델 평가를위한 그리드 생성\n",
    "xx = np.linspace(xlim[0], xlim[1], 30)\n",
    "yy = np.linspace(ylim[0], ylim[1], 30)\n",
    "YY, XX = np.meshgrid(yy, xx)\n",
    "xy = np.vstack([XX.ravel(), YY.ravel()]).T\n",
    "Z = clf.decision_function(xy).reshape(XX.shape)\n",
    "\n",
    "# 결정 경계와 마진\n",
    "ax.contour(XX, YY, Z, colors='k', levels=[-1, 0, 1], alpha=0.5,\n",
    "           linestyles=['--', '-', '--'])\n",
    "\n",
    "# 서포트 벡터 플로팅\n",
    "ax.scatter(clf.support_vectors_[:, 0], clf.support_vectors_[:, 1], s=50,\n",
    "           linewidth=1, facecolors='none', edgecolors='k')\n",
    "\n",
    "# X축, y축 라벨링\n",
    "plt.xlabel(\"Fare\")\n",
    "plt.ylabel(\"Age\")\n",
    "\n",
    "plot_decision_regions(X=X, \n",
    "                      y=y,\n",
    "                      clf=clf, \n",
    "                      legend=2)\n",
    "\n",
    "plt.title('SVM Decision Region Boundary - Linear(GridSearchCV)', size=14)\n",
    "L = plt.legend()\n",
    "L.get_texts()[0].set_text('Survived=0')\n",
    "L.get_texts()[1].set_text('Survived=1')\n",
    "\n",
    "plt.show()"
   ]
  },
  {
   "cell_type": "markdown",
   "metadata": {},
   "source": [
    "## 방사 기저 함수"
   ]
  },
  {
   "cell_type": "code",
   "execution_count": null,
   "metadata": {},
   "outputs": [],
   "source": [
    "clf = svm.SVC(kernel=\"rbf\", gamma=0.1, C=10)\n",
    "clf.fit(X,y)"
   ]
  },
  {
   "cell_type": "code",
   "execution_count": null,
   "metadata": {},
   "outputs": [],
   "source": [
    "plt.scatter(X[:, 0], X[:, 1], c=y, s=30, cmap=plt.cm.Paired)\n",
    "\n",
    "# 결정 함수 플로팅\n",
    "ax = plt.gca()\n",
    "xlim = ax.get_xlim()\n",
    "ylim = ax.get_ylim()\n",
    "\n",
    "# 모델 평가를위한 그리드 생성\n",
    "xx = np.linspace(xlim[0], xlim[1], 30)\n",
    "yy = np.linspace(ylim[0], ylim[1], 30)\n",
    "YY, XX = np.meshgrid(yy, xx)\n",
    "xy = np.vstack([XX.ravel(), YY.ravel()]).T\n",
    "Z = clf.decision_function(xy).reshape(XX.shape)\n",
    "\n",
    "# 결정 경계와 마진\n",
    "ax.contour(XX, YY, Z, colors='k', levels=[-1, 0, 1], alpha=0.5,\n",
    "           linestyles=['--', '-', '--'])\n",
    "\n",
    "# 서포트 벡터 플로팅\n",
    "ax.scatter(clf.support_vectors_[:, 0], clf.support_vectors_[:, 1], s=50,\n",
    "           linewidth=1, facecolors='none', edgecolors='k')\n",
    "\n",
    "plt.xlabel(\"Fare\")\n",
    "plt.ylabel(\"Age\")\n",
    "\n",
    "# X축, y축 라벨링\n",
    "plot_decision_regions(X=X, \n",
    "                      y=y,\n",
    "                      clf=clf, \n",
    "                      legend=2)\n",
    "\n",
    "plt.title('SVM Decision Region Boundary - RBF', size=14)\n",
    "L = plt.legend()\n",
    "L.get_texts()[0].set_text('Survived=0')\n",
    "L.get_texts()[1].set_text('Survived=1')\n",
    "\n",
    "\n",
    "plt.show()"
   ]
  },
  {
   "cell_type": "markdown",
   "metadata": {},
   "source": [
    "## 다항식 커널"
   ]
  },
  {
   "cell_type": "code",
   "execution_count": null,
   "metadata": {},
   "outputs": [],
   "source": [
    "# degree: 몇 차원까지 할건지 지정\n",
    "clf = svm.SVC(kernel='poly', degree=3, C=0.1, gamma='auto')\n",
    "clf.fit(X,y)"
   ]
  },
  {
   "cell_type": "code",
   "execution_count": null,
   "metadata": {},
   "outputs": [],
   "source": [
    "plt.scatter(X[:, 0], X[:, 1], c=y, s=30, cmap=plt.cm.Paired)\n",
    "\n",
    "# 결정 함수 플로팅\n",
    "ax = plt.gca()\n",
    "xlim = ax.get_xlim()\n",
    "ylim = ax.get_ylim()\n",
    "\n",
    "# 모델 평가를위한 그리드 생성\n",
    "xx = np.linspace(xlim[0], xlim[1], 30)\n",
    "yy = np.linspace(ylim[0], ylim[1], 30)\n",
    "YY, XX = np.meshgrid(yy, xx)\n",
    "xy = np.vstack([XX.ravel(), YY.ravel()]).T\n",
    "Z = clf.decision_function(xy).reshape(XX.shape)\n",
    "\n",
    "# 결정 경계와 마진\n",
    "ax.contour(XX, YY, Z, colors='k', levels=[-1, 0, 1], alpha=0.5,\n",
    "           linestyles=['--', '-', '--'])\n",
    "\n",
    "# 서포트 벡터 플로팅\n",
    "ax.scatter(clf.support_vectors_[:, 0], clf.support_vectors_[:, 1], s=50,\n",
    "           linewidth=1, facecolors='none', edgecolors='k')\n",
    "\n",
    "plt.xlabel(\"Fare\")\n",
    "plt.ylabel(\"Age\")\n",
    "\n",
    "# X축, y축 라벨링\n",
    "plot_decision_regions(X=X, \n",
    "                      y=y,\n",
    "                      clf=clf, \n",
    "                      legend=2)\n",
    "\n",
    "plt.title('SVM Decision Region Boundary - Polynomial', size=14)\n",
    "L = plt.legend()\n",
    "L.get_texts()[0].set_text('Survived=0')\n",
    "L.get_texts()[1].set_text('Survived=1')\n",
    "\n",
    "\n",
    "plt.show()"
   ]
  }
 ],
 "metadata": {
  "kernelspec": {
   "display_name": "Python 3",
   "language": "python",
   "name": "python3"
  },
  "language_info": {
   "codemirror_mode": {
    "name": "ipython",
    "version": 3
   },
   "file_extension": ".py",
   "mimetype": "text/x-python",
   "name": "python",
   "nbconvert_exporter": "python",
   "pygments_lexer": "ipython3",
   "version": "3.8.8"
  },
  "toc": {
   "base_numbering": 1,
   "nav_menu": {},
   "number_sections": true,
   "sideBar": true,
   "skip_h1_title": false,
   "title_cell": "Table of Contents",
   "title_sidebar": "Contents",
   "toc_cell": false,
   "toc_position": {
    "height": "calc(100% - 180px)",
    "left": "10px",
    "top": "150px",
    "width": "305px"
   },
   "toc_section_display": true,
   "toc_window_display": true
  },
  "varInspector": {
   "cols": {
    "lenName": 16,
    "lenType": 16,
    "lenVar": 40
   },
   "kernels_config": {
    "python": {
     "delete_cmd_postfix": "",
     "delete_cmd_prefix": "del ",
     "library": "var_list.py",
     "varRefreshCmd": "print(var_dic_list())"
    },
    "r": {
     "delete_cmd_postfix": ") ",
     "delete_cmd_prefix": "rm(",
     "library": "var_list.r",
     "varRefreshCmd": "cat(var_dic_list()) "
    }
   },
   "types_to_exclude": [
    "module",
    "function",
    "builtin_function_or_method",
    "instance",
    "_Feature"
   ],
   "window_display": false
  }
 },
 "nbformat": 4,
 "nbformat_minor": 4
}
