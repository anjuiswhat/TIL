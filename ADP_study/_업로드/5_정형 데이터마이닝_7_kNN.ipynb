{
 "cells": [
  {
   "cell_type": "markdown",
   "id": "89931e24-28cb-4f34-b711-50d2eeb8c25c",
   "metadata": {
    "tags": []
   },
   "source": [
    "## - 불러올 패키지 목록"
   ]
  },
  {
   "cell_type": "code",
   "execution_count": 1,
   "id": "86f9fcd2-3c10-416e-a0c0-e061f8bcf26a",
   "metadata": {},
   "outputs": [],
   "source": [
    "# 데이터 핸들링을 위한 패키지\n",
    "import numpy as np\n",
    "import pandas as pd\n",
    "\n",
    "# 사이킷런 패키지\n",
    "from sklearn.preprocessing import *  # 데이터 전처리를 위한 패키지\n",
    "from sklearn.model_selection import *  # 데이터 분리, 검증 및 파라미터 튜닝을 위한 패키지\n",
    "from sklearn.metrics import *  # 모델에 대한 다양한 성능 평가를 위한 패키지\n",
    "from sklearn.cluster import *  # 비지도 군집화 알고리즘 제공\n",
    "from sklearn.tree import *  # 의사결정나무 알고리즘 제공\n",
    "from sklearn.ensemble import *  # 앙상블 알고리즘 제공\n",
    "from sklearn.neighbors import *  # kNN 알고리즘 제공\n",
    "from sklearn.svm import *  # 서포트 벡터 머신 알고리즘 제공\n",
    "\n",
    "# 사이파이 패키지\n",
    "from scipy.cluster.hierarchy import *  # 계층적 군집 분석을 위한 패키지\n",
    "\n",
    "# label별 데이터 카운트를 위한 모듈\n",
    "from collections import Counter  # https://docs.python.org/3/library/collections.html\n",
    "\n",
    "# 경고 메시지 무시\n",
    "import warnings\n",
    "warnings.filterwarnings('ignore')\n",
    "\n",
    "# 시각화를 위한 패키지\n",
    "import seaborn as sb\n",
    "from matplotlib import pyplot as plt\n",
    "from matplotlib.colors import ListedColormap\n",
    "from mlxtend.plotting import plot_decision_regions\n",
    "\n",
    "%matplotlib inline\n",
    "# %matplotlib inline 의 목적은 plt.show()함수가 호출되지 않은 경우에도 matplotlib 다이어그램을 렌더링하는 것이다.\n",
    "# 그러나 현재 업데이트된 버전의 주피터 노트북 버전에서는 %matplotlib inline 를 사용하지 않더라도 Matplotlib 다이어그램을 개체로 표현한다.\n",
    "# 따라서 굳이 필요하지는 않다. 그러나 코드를 깨끗하게 유지하고 자신이 만든 플롯을 호출하기 위해 여전히 관례적으로 권장된다.\n",
    "\n",
    "# 그래프 스타일 서식 지정\n",
    "plt.style.use('default')\n",
    "\n",
    "# 한글 폰트 설정\n",
    "plt.rc('font', family='Malgun Gothic')\n",
    "\n",
    "# 그래프 축의 음수 표현 오류 방지\n",
    "plt.rcParams['axes.unicode_minus'] = False"
   ]
  },
  {
   "cell_type": "markdown",
   "id": "0cb5d24e-5af5-41fd-b305-dde4ce572bc0",
   "metadata": {
    "tags": []
   },
   "source": [
    "# Dataset 불러오기 및 data 정보 확인"
   ]
  },
  {
   "cell_type": "markdown",
   "id": "be0b779b-1b44-48ea-a62a-143c9591c31d",
   "metadata": {},
   "source": [
    "## 데이터 불러오기"
   ]
  },
  {
   "cell_type": "code",
   "execution_count": 2,
   "id": "7f3ed3be-b604-43d2-979e-2ed83e343a5a",
   "metadata": {},
   "outputs": [
    {
     "data": {
      "text/html": [
       "<div>\n",
       "<style scoped>\n",
       "    .dataframe tbody tr th:only-of-type {\n",
       "        vertical-align: middle;\n",
       "    }\n",
       "\n",
       "    .dataframe tbody tr th {\n",
       "        vertical-align: top;\n",
       "    }\n",
       "\n",
       "    .dataframe thead th {\n",
       "        text-align: right;\n",
       "    }\n",
       "</style>\n",
       "<table border=\"1\" class=\"dataframe\">\n",
       "  <thead>\n",
       "    <tr style=\"text-align: right;\">\n",
       "      <th></th>\n",
       "      <th>credit.rating</th>\n",
       "      <th>account.balance</th>\n",
       "      <th>credit.duration.months</th>\n",
       "      <th>previous.credit.payment.status</th>\n",
       "      <th>credit.purpose</th>\n",
       "      <th>credit.amount</th>\n",
       "      <th>savings</th>\n",
       "      <th>employment.duration</th>\n",
       "      <th>installment.rate</th>\n",
       "      <th>marital.status</th>\n",
       "      <th>...</th>\n",
       "      <th>residence.duration</th>\n",
       "      <th>current.assets</th>\n",
       "      <th>age</th>\n",
       "      <th>other.credits</th>\n",
       "      <th>apartment.type</th>\n",
       "      <th>bank.credits</th>\n",
       "      <th>occupation</th>\n",
       "      <th>dependents</th>\n",
       "      <th>telephone</th>\n",
       "      <th>foreign.worker</th>\n",
       "    </tr>\n",
       "  </thead>\n",
       "  <tbody>\n",
       "    <tr>\n",
       "      <th>0</th>\n",
       "      <td>1</td>\n",
       "      <td>1</td>\n",
       "      <td>18</td>\n",
       "      <td>3</td>\n",
       "      <td>2</td>\n",
       "      <td>1049</td>\n",
       "      <td>1</td>\n",
       "      <td>1</td>\n",
       "      <td>4</td>\n",
       "      <td>1</td>\n",
       "      <td>...</td>\n",
       "      <td>4</td>\n",
       "      <td>2</td>\n",
       "      <td>21</td>\n",
       "      <td>2</td>\n",
       "      <td>1</td>\n",
       "      <td>1</td>\n",
       "      <td>3</td>\n",
       "      <td>1</td>\n",
       "      <td>1</td>\n",
       "      <td>1</td>\n",
       "    </tr>\n",
       "    <tr>\n",
       "      <th>1</th>\n",
       "      <td>1</td>\n",
       "      <td>1</td>\n",
       "      <td>9</td>\n",
       "      <td>3</td>\n",
       "      <td>4</td>\n",
       "      <td>2799</td>\n",
       "      <td>1</td>\n",
       "      <td>2</td>\n",
       "      <td>2</td>\n",
       "      <td>3</td>\n",
       "      <td>...</td>\n",
       "      <td>2</td>\n",
       "      <td>1</td>\n",
       "      <td>36</td>\n",
       "      <td>2</td>\n",
       "      <td>1</td>\n",
       "      <td>2</td>\n",
       "      <td>3</td>\n",
       "      <td>2</td>\n",
       "      <td>1</td>\n",
       "      <td>1</td>\n",
       "    </tr>\n",
       "    <tr>\n",
       "      <th>2</th>\n",
       "      <td>1</td>\n",
       "      <td>2</td>\n",
       "      <td>12</td>\n",
       "      <td>2</td>\n",
       "      <td>4</td>\n",
       "      <td>841</td>\n",
       "      <td>2</td>\n",
       "      <td>3</td>\n",
       "      <td>2</td>\n",
       "      <td>1</td>\n",
       "      <td>...</td>\n",
       "      <td>4</td>\n",
       "      <td>1</td>\n",
       "      <td>23</td>\n",
       "      <td>2</td>\n",
       "      <td>1</td>\n",
       "      <td>1</td>\n",
       "      <td>2</td>\n",
       "      <td>1</td>\n",
       "      <td>1</td>\n",
       "      <td>1</td>\n",
       "    </tr>\n",
       "    <tr>\n",
       "      <th>3</th>\n",
       "      <td>1</td>\n",
       "      <td>1</td>\n",
       "      <td>12</td>\n",
       "      <td>3</td>\n",
       "      <td>4</td>\n",
       "      <td>2122</td>\n",
       "      <td>1</td>\n",
       "      <td>2</td>\n",
       "      <td>3</td>\n",
       "      <td>3</td>\n",
       "      <td>...</td>\n",
       "      <td>2</td>\n",
       "      <td>1</td>\n",
       "      <td>39</td>\n",
       "      <td>2</td>\n",
       "      <td>1</td>\n",
       "      <td>2</td>\n",
       "      <td>2</td>\n",
       "      <td>2</td>\n",
       "      <td>1</td>\n",
       "      <td>2</td>\n",
       "    </tr>\n",
       "    <tr>\n",
       "      <th>4</th>\n",
       "      <td>1</td>\n",
       "      <td>1</td>\n",
       "      <td>12</td>\n",
       "      <td>3</td>\n",
       "      <td>4</td>\n",
       "      <td>2171</td>\n",
       "      <td>1</td>\n",
       "      <td>2</td>\n",
       "      <td>4</td>\n",
       "      <td>3</td>\n",
       "      <td>...</td>\n",
       "      <td>4</td>\n",
       "      <td>2</td>\n",
       "      <td>38</td>\n",
       "      <td>1</td>\n",
       "      <td>2</td>\n",
       "      <td>2</td>\n",
       "      <td>2</td>\n",
       "      <td>1</td>\n",
       "      <td>1</td>\n",
       "      <td>2</td>\n",
       "    </tr>\n",
       "    <tr>\n",
       "      <th>...</th>\n",
       "      <td>...</td>\n",
       "      <td>...</td>\n",
       "      <td>...</td>\n",
       "      <td>...</td>\n",
       "      <td>...</td>\n",
       "      <td>...</td>\n",
       "      <td>...</td>\n",
       "      <td>...</td>\n",
       "      <td>...</td>\n",
       "      <td>...</td>\n",
       "      <td>...</td>\n",
       "      <td>...</td>\n",
       "      <td>...</td>\n",
       "      <td>...</td>\n",
       "      <td>...</td>\n",
       "      <td>...</td>\n",
       "      <td>...</td>\n",
       "      <td>...</td>\n",
       "      <td>...</td>\n",
       "      <td>...</td>\n",
       "      <td>...</td>\n",
       "    </tr>\n",
       "    <tr>\n",
       "      <th>995</th>\n",
       "      <td>0</td>\n",
       "      <td>1</td>\n",
       "      <td>24</td>\n",
       "      <td>2</td>\n",
       "      <td>3</td>\n",
       "      <td>1987</td>\n",
       "      <td>1</td>\n",
       "      <td>2</td>\n",
       "      <td>2</td>\n",
       "      <td>3</td>\n",
       "      <td>...</td>\n",
       "      <td>4</td>\n",
       "      <td>1</td>\n",
       "      <td>21</td>\n",
       "      <td>2</td>\n",
       "      <td>1</td>\n",
       "      <td>1</td>\n",
       "      <td>2</td>\n",
       "      <td>2</td>\n",
       "      <td>1</td>\n",
       "      <td>1</td>\n",
       "    </tr>\n",
       "    <tr>\n",
       "      <th>996</th>\n",
       "      <td>0</td>\n",
       "      <td>1</td>\n",
       "      <td>24</td>\n",
       "      <td>2</td>\n",
       "      <td>4</td>\n",
       "      <td>2303</td>\n",
       "      <td>1</td>\n",
       "      <td>4</td>\n",
       "      <td>4</td>\n",
       "      <td>3</td>\n",
       "      <td>...</td>\n",
       "      <td>1</td>\n",
       "      <td>1</td>\n",
       "      <td>45</td>\n",
       "      <td>2</td>\n",
       "      <td>2</td>\n",
       "      <td>1</td>\n",
       "      <td>3</td>\n",
       "      <td>1</td>\n",
       "      <td>1</td>\n",
       "      <td>1</td>\n",
       "    </tr>\n",
       "    <tr>\n",
       "      <th>997</th>\n",
       "      <td>0</td>\n",
       "      <td>3</td>\n",
       "      <td>21</td>\n",
       "      <td>3</td>\n",
       "      <td>4</td>\n",
       "      <td>12680</td>\n",
       "      <td>4</td>\n",
       "      <td>4</td>\n",
       "      <td>4</td>\n",
       "      <td>3</td>\n",
       "      <td>...</td>\n",
       "      <td>4</td>\n",
       "      <td>4</td>\n",
       "      <td>30</td>\n",
       "      <td>2</td>\n",
       "      <td>3</td>\n",
       "      <td>1</td>\n",
       "      <td>4</td>\n",
       "      <td>1</td>\n",
       "      <td>2</td>\n",
       "      <td>1</td>\n",
       "    </tr>\n",
       "    <tr>\n",
       "      <th>998</th>\n",
       "      <td>0</td>\n",
       "      <td>2</td>\n",
       "      <td>12</td>\n",
       "      <td>2</td>\n",
       "      <td>3</td>\n",
       "      <td>6468</td>\n",
       "      <td>4</td>\n",
       "      <td>1</td>\n",
       "      <td>2</td>\n",
       "      <td>3</td>\n",
       "      <td>...</td>\n",
       "      <td>1</td>\n",
       "      <td>4</td>\n",
       "      <td>52</td>\n",
       "      <td>2</td>\n",
       "      <td>2</td>\n",
       "      <td>1</td>\n",
       "      <td>4</td>\n",
       "      <td>1</td>\n",
       "      <td>2</td>\n",
       "      <td>1</td>\n",
       "    </tr>\n",
       "    <tr>\n",
       "      <th>999</th>\n",
       "      <td>0</td>\n",
       "      <td>1</td>\n",
       "      <td>30</td>\n",
       "      <td>2</td>\n",
       "      <td>2</td>\n",
       "      <td>6350</td>\n",
       "      <td>4</td>\n",
       "      <td>4</td>\n",
       "      <td>4</td>\n",
       "      <td>3</td>\n",
       "      <td>...</td>\n",
       "      <td>4</td>\n",
       "      <td>2</td>\n",
       "      <td>31</td>\n",
       "      <td>2</td>\n",
       "      <td>2</td>\n",
       "      <td>1</td>\n",
       "      <td>3</td>\n",
       "      <td>1</td>\n",
       "      <td>1</td>\n",
       "      <td>1</td>\n",
       "    </tr>\n",
       "  </tbody>\n",
       "</table>\n",
       "<p>1000 rows × 21 columns</p>\n",
       "</div>"
      ],
      "text/plain": [
       "     credit.rating  account.balance  credit.duration.months  \\\n",
       "0                1                1                      18   \n",
       "1                1                1                       9   \n",
       "2                1                2                      12   \n",
       "3                1                1                      12   \n",
       "4                1                1                      12   \n",
       "..             ...              ...                     ...   \n",
       "995              0                1                      24   \n",
       "996              0                1                      24   \n",
       "997              0                3                      21   \n",
       "998              0                2                      12   \n",
       "999              0                1                      30   \n",
       "\n",
       "     previous.credit.payment.status  credit.purpose  credit.amount  savings  \\\n",
       "0                                 3               2           1049        1   \n",
       "1                                 3               4           2799        1   \n",
       "2                                 2               4            841        2   \n",
       "3                                 3               4           2122        1   \n",
       "4                                 3               4           2171        1   \n",
       "..                              ...             ...            ...      ...   \n",
       "995                               2               3           1987        1   \n",
       "996                               2               4           2303        1   \n",
       "997                               3               4          12680        4   \n",
       "998                               2               3           6468        4   \n",
       "999                               2               2           6350        4   \n",
       "\n",
       "     employment.duration  installment.rate  marital.status  ...  \\\n",
       "0                      1                 4               1  ...   \n",
       "1                      2                 2               3  ...   \n",
       "2                      3                 2               1  ...   \n",
       "3                      2                 3               3  ...   \n",
       "4                      2                 4               3  ...   \n",
       "..                   ...               ...             ...  ...   \n",
       "995                    2                 2               3  ...   \n",
       "996                    4                 4               3  ...   \n",
       "997                    4                 4               3  ...   \n",
       "998                    1                 2               3  ...   \n",
       "999                    4                 4               3  ...   \n",
       "\n",
       "     residence.duration  current.assets  age  other.credits  apartment.type  \\\n",
       "0                     4               2   21              2               1   \n",
       "1                     2               1   36              2               1   \n",
       "2                     4               1   23              2               1   \n",
       "3                     2               1   39              2               1   \n",
       "4                     4               2   38              1               2   \n",
       "..                  ...             ...  ...            ...             ...   \n",
       "995                   4               1   21              2               1   \n",
       "996                   1               1   45              2               2   \n",
       "997                   4               4   30              2               3   \n",
       "998                   1               4   52              2               2   \n",
       "999                   4               2   31              2               2   \n",
       "\n",
       "     bank.credits  occupation  dependents  telephone  foreign.worker  \n",
       "0               1           3           1          1               1  \n",
       "1               2           3           2          1               1  \n",
       "2               1           2           1          1               1  \n",
       "3               2           2           2          1               2  \n",
       "4               2           2           1          1               2  \n",
       "..            ...         ...         ...        ...             ...  \n",
       "995             1           2           2          1               1  \n",
       "996             1           3           1          1               1  \n",
       "997             1           4           1          2               1  \n",
       "998             1           4           1          2               1  \n",
       "999             1           3           1          1               1  \n",
       "\n",
       "[1000 rows x 21 columns]"
      ]
     },
     "execution_count": 2,
     "metadata": {},
     "output_type": "execute_result"
    }
   ],
   "source": [
    "# 분석할 데이터 불러오기 / 데이터프레임 생성\n",
    "df_credit = pd.read_csv(r'C:\\Users\\Boanerges\\GitHub\\TIL\\ADP_study\\rawdata\\credit_final.csv')\n",
    "\n",
    "df_credit"
   ]
  },
  {
   "cell_type": "markdown",
   "id": "8cc05d8d-8acf-4664-9aa0-52ba1eb764fc",
   "metadata": {
    "tags": []
   },
   "source": [
    "## data 정보 확인"
   ]
  },
  {
   "cell_type": "code",
   "execution_count": 3,
   "id": "35739c3c-9256-442f-8ffc-cc951c34df96",
   "metadata": {},
   "outputs": [
    {
     "name": "stdout",
     "output_type": "stream",
     "text": [
      "<class 'pandas.core.frame.DataFrame'>\n",
      "RangeIndex: 1000 entries, 0 to 999\n",
      "Data columns (total 21 columns):\n",
      " #   Column                          Non-Null Count  Dtype\n",
      "---  ------                          --------------  -----\n",
      " 0   credit.rating                   1000 non-null   int64\n",
      " 1   account.balance                 1000 non-null   int64\n",
      " 2   credit.duration.months          1000 non-null   int64\n",
      " 3   previous.credit.payment.status  1000 non-null   int64\n",
      " 4   credit.purpose                  1000 non-null   int64\n",
      " 5   credit.amount                   1000 non-null   int64\n",
      " 6   savings                         1000 non-null   int64\n",
      " 7   employment.duration             1000 non-null   int64\n",
      " 8   installment.rate                1000 non-null   int64\n",
      " 9   marital.status                  1000 non-null   int64\n",
      " 10  guarantor                       1000 non-null   int64\n",
      " 11  residence.duration              1000 non-null   int64\n",
      " 12  current.assets                  1000 non-null   int64\n",
      " 13  age                             1000 non-null   int64\n",
      " 14  other.credits                   1000 non-null   int64\n",
      " 15  apartment.type                  1000 non-null   int64\n",
      " 16  bank.credits                    1000 non-null   int64\n",
      " 17  occupation                      1000 non-null   int64\n",
      " 18  dependents                      1000 non-null   int64\n",
      " 19  telephone                       1000 non-null   int64\n",
      " 20  foreign.worker                  1000 non-null   int64\n",
      "dtypes: int64(21)\n",
      "memory usage: 164.2 KB\n"
     ]
    }
   ],
   "source": [
    "df_credit.info()"
   ]
  },
  {
   "cell_type": "markdown",
   "id": "5a493c74-168c-4d46-bc4c-18d5e3ef9e2a",
   "metadata": {
    "tags": []
   },
   "source": [
    "# 모델 학습에 사용할 x값(예측변수) 설정"
   ]
  },
  {
   "cell_type": "code",
   "execution_count": 4,
   "id": "5e19ff7d-b168-42f6-9f9c-6df61cb5db91",
   "metadata": {},
   "outputs": [],
   "source": [
    "x = df_credit.iloc[:,1:21]\n",
    "y = df_credit.iloc[:,0]"
   ]
  },
  {
   "cell_type": "markdown",
   "id": "c868aa8b-12c4-479b-a1cd-17d41527193d",
   "metadata": {
    "tags": []
   },
   "source": [
    "# 학습/테스트용 데이터셋 분리"
   ]
  },
  {
   "cell_type": "code",
   "execution_count": 5,
   "id": "8288d292-7fb6-4ed7-a364-f9ab4afd5aad",
   "metadata": {},
   "outputs": [
    {
     "name": "stdout",
     "output_type": "stream",
     "text": [
      "Counter({1: 490, 0: 210})\n",
      "\n",
      "Counter({1: 210, 0: 90})\n"
     ]
    }
   ],
   "source": [
    "# 데이터셋 나누고 라벨 분포 확인\n",
    "x_train, x_test, y_train, y_test  = train_test_split( x, y,\n",
    "                                                      test_size = 0.3,\n",
    "                                                      random_state = 154 )\n",
    "# 라벨별 데이터 분포 확인\n",
    "print( Counter(y_train) )\n",
    "print()\n",
    "print( Counter(y_test) )"
   ]
  },
  {
   "cell_type": "raw",
   "id": "001813f0-8623-495e-9b5c-aa80a3f686d9",
   "metadata": {
    "tags": []
   },
   "source": [
    "\n"
   ]
  },
  {
   "cell_type": "markdown",
   "id": "dc9b3f93-9026-423b-a7a3-416b4aaebc50",
   "metadata": {},
   "source": [
    "# 모델 생성 및 학습"
   ]
  },
  {
   "cell_type": "markdown",
   "id": "481c7416-1d1d-4324-89d1-e1b7fba6c96c",
   "metadata": {
    "tags": []
   },
   "source": [
    "## kNN 모델 생성\n",
    "- `sklearn.neighbors.KNeighborsClassifier()`  https://scikit-learn.org/stable/modules/generated/sklearn.neighbors.KNeighborsClassifier.html"
   ]
  },
  {
   "cell_type": "code",
   "execution_count": 6,
   "id": "39bad313-ad00-45a7-8b83-60ee8b82de45",
   "metadata": {},
   "outputs": [],
   "source": [
    "# 일관된 조건으로 군집화 및 평가를 하기 위해 함수로 정의하여 사용\n",
    "\n",
    "def knn(k):\n",
    "    cluster_knn = KNeighborsClassifier( n_neighbors=k )\n",
    "    return cluster_knn\n",
    "\n",
    "# n_neighborsint: default=5\n",
    "# weights: {‘uniform’, ‘distance’} or callable, default=’uniform’\n",
    "# metric: str or callable, default=’minkowski’"
   ]
  },
  {
   "cell_type": "markdown",
   "id": "421640f0-9825-4cb8-994a-78f2a562a9e1",
   "metadata": {},
   "source": [
    "## train 데이터로 학습 수행"
   ]
  },
  {
   "cell_type": "code",
   "execution_count": 7,
   "id": "3607d277-6a77-46fb-823a-6f8d1a8a85c4",
   "metadata": {},
   "outputs": [],
   "source": [
    "# k = 3, weight = 'distance' 조건으로 모델 학습\n",
    "model_knn = knn(15).fit( x_train, y_train )"
   ]
  },
  {
   "cell_type": "code",
   "execution_count": 8,
   "id": "224f225a-0517-471d-814a-0ff25d009949",
   "metadata": {},
   "outputs": [
    {
     "data": {
      "text/plain": [
       "array([0, 1], dtype=int64)"
      ]
     },
     "execution_count": 8,
     "metadata": {},
     "output_type": "execute_result"
    }
   ],
   "source": [
    "# 모델의 정답에 대한 정보 확인\n",
    "model_knn.classes_"
   ]
  },
  {
   "cell_type": "raw",
   "id": "8ec0d59a-4dc6-4ef1-83b9-fd14eda7be99",
   "metadata": {},
   "source": [
    "\n"
   ]
  },
  {
   "cell_type": "markdown",
   "id": "77a21935-a303-4214-b84a-f00a0bc3176e",
   "metadata": {},
   "source": [
    "# 예측 및 평가"
   ]
  },
  {
   "cell_type": "markdown",
   "id": "d8f43cbe-c26b-412b-ba0e-9140c80c73a8",
   "metadata": {},
   "source": [
    "## 학습된 모델로 예측 수행"
   ]
  },
  {
   "cell_type": "code",
   "execution_count": 9,
   "id": "fa008586-db03-487a-b82f-cdcf3ffb0f14",
   "metadata": {
    "tags": []
   },
   "outputs": [
    {
     "data": {
      "text/html": [
       "<div>\n",
       "<style scoped>\n",
       "    .dataframe tbody tr th:only-of-type {\n",
       "        vertical-align: middle;\n",
       "    }\n",
       "\n",
       "    .dataframe tbody tr th {\n",
       "        vertical-align: top;\n",
       "    }\n",
       "\n",
       "    .dataframe thead th {\n",
       "        text-align: right;\n",
       "    }\n",
       "</style>\n",
       "<table border=\"1\" class=\"dataframe\">\n",
       "  <thead>\n",
       "    <tr style=\"text-align: right;\">\n",
       "      <th></th>\n",
       "      <th>y_True</th>\n",
       "      <th>y_Predict</th>\n",
       "      <th>Pred_Result</th>\n",
       "    </tr>\n",
       "  </thead>\n",
       "  <tbody>\n",
       "    <tr>\n",
       "      <th>135</th>\n",
       "      <td>1</td>\n",
       "      <td>1</td>\n",
       "      <td>True</td>\n",
       "    </tr>\n",
       "    <tr>\n",
       "      <th>91</th>\n",
       "      <td>1</td>\n",
       "      <td>1</td>\n",
       "      <td>True</td>\n",
       "    </tr>\n",
       "    <tr>\n",
       "      <th>391</th>\n",
       "      <td>1</td>\n",
       "      <td>1</td>\n",
       "      <td>True</td>\n",
       "    </tr>\n",
       "    <tr>\n",
       "      <th>953</th>\n",
       "      <td>0</td>\n",
       "      <td>1</td>\n",
       "      <td>False</td>\n",
       "    </tr>\n",
       "    <tr>\n",
       "      <th>927</th>\n",
       "      <td>0</td>\n",
       "      <td>1</td>\n",
       "      <td>False</td>\n",
       "    </tr>\n",
       "    <tr>\n",
       "      <th>570</th>\n",
       "      <td>1</td>\n",
       "      <td>1</td>\n",
       "      <td>True</td>\n",
       "    </tr>\n",
       "    <tr>\n",
       "      <th>46</th>\n",
       "      <td>1</td>\n",
       "      <td>0</td>\n",
       "      <td>False</td>\n",
       "    </tr>\n",
       "    <tr>\n",
       "      <th>759</th>\n",
       "      <td>0</td>\n",
       "      <td>1</td>\n",
       "      <td>False</td>\n",
       "    </tr>\n",
       "    <tr>\n",
       "      <th>690</th>\n",
       "      <td>1</td>\n",
       "      <td>1</td>\n",
       "      <td>True</td>\n",
       "    </tr>\n",
       "    <tr>\n",
       "      <th>192</th>\n",
       "      <td>1</td>\n",
       "      <td>0</td>\n",
       "      <td>False</td>\n",
       "    </tr>\n",
       "  </tbody>\n",
       "</table>\n",
       "</div>"
      ],
      "text/plain": [
       "     y_True  y_Predict  Pred_Result\n",
       "135       1          1         True\n",
       "91        1          1         True\n",
       "391       1          1         True\n",
       "953       0          1        False\n",
       "927       0          1        False\n",
       "570       1          1         True\n",
       "46        1          0        False\n",
       "759       0          1        False\n",
       "690       1          1         True\n",
       "192       1          0        False"
      ]
     },
     "execution_count": 9,
     "metadata": {},
     "output_type": "execute_result"
    }
   ],
   "source": [
    "# test 데이터로 라벨 예측\n",
    "y_pred = model_knn.predict( x_test )\n",
    "\n",
    "pd.DataFrame( {'y_True' : y_test,\n",
    "               'y_Predict' : y_pred,\n",
    "               'Pred_Result' : y_test == y_pred} ).head(10)"
   ]
  },
  {
   "cell_type": "markdown",
   "id": "cb804272-58df-4807-8b5c-9b5cc3df4930",
   "metadata": {},
   "source": [
    "## 평가"
   ]
  },
  {
   "cell_type": "markdown",
   "id": "82939a7a-302d-4a9a-8e98-21953da2a912",
   "metadata": {},
   "source": [
    "### Confusion Metrix"
   ]
  },
  {
   "cell_type": "code",
   "execution_count": 10,
   "id": "e16b9619-85ad-4154-bab7-5d7d0b594e6f",
   "metadata": {},
   "outputs": [
    {
     "data": {
      "text/html": [
       "<div>\n",
       "<style scoped>\n",
       "    .dataframe tbody tr th:only-of-type {\n",
       "        vertical-align: middle;\n",
       "    }\n",
       "\n",
       "    .dataframe tbody tr th {\n",
       "        vertical-align: top;\n",
       "    }\n",
       "\n",
       "    .dataframe thead th {\n",
       "        text-align: right;\n",
       "    }\n",
       "</style>\n",
       "<table border=\"1\" class=\"dataframe\">\n",
       "  <thead>\n",
       "    <tr style=\"text-align: right;\">\n",
       "      <th>real</th>\n",
       "      <th>0</th>\n",
       "      <th>1</th>\n",
       "    </tr>\n",
       "    <tr>\n",
       "      <th>pred</th>\n",
       "      <th></th>\n",
       "      <th></th>\n",
       "    </tr>\n",
       "  </thead>\n",
       "  <tbody>\n",
       "    <tr>\n",
       "      <th>0</th>\n",
       "      <td>9</td>\n",
       "      <td>81</td>\n",
       "    </tr>\n",
       "    <tr>\n",
       "      <th>1</th>\n",
       "      <td>12</td>\n",
       "      <td>198</td>\n",
       "    </tr>\n",
       "  </tbody>\n",
       "</table>\n",
       "</div>"
      ],
      "text/plain": [
       "real   0    1\n",
       "pred         \n",
       "0      9   81\n",
       "1     12  198"
      ]
     },
     "execution_count": 10,
     "metadata": {},
     "output_type": "execute_result"
    }
   ],
   "source": [
    "conf_mat = pd.crosstab( y_test, y_pred, rownames=['pred'], colnames=['real'] )\n",
    "conf_mat"
   ]
  },
  {
   "cell_type": "code",
   "execution_count": 11,
   "id": "52aed5b2-37e6-4574-a3ee-73b61a117c1d",
   "metadata": {},
   "outputs": [
    {
     "data": {
      "text/plain": [
       "array([[  9,  81],\n",
       "       [ 12, 198]], dtype=int64)"
      ]
     },
     "execution_count": 11,
     "metadata": {},
     "output_type": "execute_result"
    }
   ],
   "source": [
    "confusion_matrix(y_test, y_pred)"
   ]
  },
  {
   "cell_type": "markdown",
   "id": "15ea7ab9-e05a-458a-a618-f073f74bace9",
   "metadata": {},
   "source": [
    "### 분석 지표"
   ]
  },
  {
   "cell_type": "code",
   "execution_count": 12,
   "id": "0fc386f7-21fa-43f0-af0a-8cd1ac0334a4",
   "metadata": {},
   "outputs": [
    {
     "data": {
      "text/plain": [
       "0.69"
      ]
     },
     "execution_count": 12,
     "metadata": {},
     "output_type": "execute_result"
    }
   ],
   "source": [
    "# Accuracy\n",
    "model_knn.score( x_test, y_test )"
   ]
  },
  {
   "cell_type": "code",
   "execution_count": 13,
   "id": "f1e99938-d68d-4690-942e-3e62b89c5852",
   "metadata": {},
   "outputs": [
    {
     "name": "stdout",
     "output_type": "stream",
     "text": [
      "Accuracy:  0.69\n",
      "\n",
      "              precision    recall  f1-score   support\n",
      "\n",
      "           0      0.429     0.100     0.162        90\n",
      "           1      0.710     0.943     0.810       210\n",
      "\n",
      "    accuracy                          0.690       300\n",
      "   macro avg      0.569     0.521     0.486       300\n",
      "weighted avg      0.625     0.690     0.616       300\n",
      "\n",
      "\n"
     ]
    }
   ],
   "source": [
    "print( 'Accuracy: ', accuracy_score(y_test, y_pred) )\n",
    "print()\n",
    "\n",
    "print( classification_report(y_test, y_pred, digits = 3) )\n",
    "print()"
   ]
  },
  {
   "cell_type": "code",
   "execution_count": null,
   "id": "b88e127e-0fc4-4e79-b134-21763221e5f3",
   "metadata": {},
   "outputs": [],
   "source": []
  },
  {
   "cell_type": "code",
   "execution_count": null,
   "id": "d5a4eef8-63a2-418e-8155-7c54ecc7ed3f",
   "metadata": {},
   "outputs": [],
   "source": []
  },
  {
   "cell_type": "code",
   "execution_count": 14,
   "id": "a42e4bba-2490-4bdb-8e6e-0c31cc606d9d",
   "metadata": {},
   "outputs": [
    {
     "name": "stdout",
     "output_type": "stream",
     "text": [
      "k= 3 일 경우: Accuracy:  0.6466666666666666\n",
      "k= 4 일 경우: Accuracy:  0.61\n",
      "k= 5 일 경우: Accuracy:  0.66\n",
      "k= 6 일 경우: Accuracy:  0.6466666666666666\n",
      "k= 7 일 경우: Accuracy:  0.6733333333333333\n",
      "k= 8 일 경우: Accuracy:  0.66\n",
      "k= 9 일 경우: Accuracy:  0.67\n",
      "k= 10 일 경우: Accuracy:  0.66\n",
      "k= 11 일 경우: Accuracy:  0.68\n",
      "k= 12 일 경우: Accuracy:  0.6766666666666666\n",
      "k= 13 일 경우: Accuracy:  0.6866666666666666\n",
      "k= 14 일 경우: Accuracy:  0.6866666666666666\n",
      "k= 15 일 경우: Accuracy:  0.69\n",
      "k= 16 일 경우: Accuracy:  0.6633333333333333\n",
      "k= 17 일 경우: Accuracy:  0.6833333333333333\n",
      "k= 18 일 경우: Accuracy:  0.6766666666666666\n",
      "k= 19 일 경우: Accuracy:  0.7033333333333334\n",
      "k= 20 일 경우: Accuracy:  0.7033333333333334\n",
      "k= 21 일 경우: Accuracy:  0.6966666666666667\n",
      "k= 22 일 경우: Accuracy:  0.6866666666666666\n"
     ]
    }
   ],
   "source": [
    "def knn(k):\n",
    "    cluster_knn = KNeighborsClassifier( n_neighbors=k )\n",
    "    return cluster_knn\n",
    "\n",
    "\n",
    "for k in list(range(3,23)):\n",
    "    model_knn = knn(k).fit( x_train, y_train )\n",
    "    y_pred = model_knn.predict( x_test )\n",
    "    print( 'k=',k,'일 경우:', 'Accuracy: ', accuracy_score(y_test, y_pred) )"
   ]
  },
  {
   "cell_type": "code",
   "execution_count": null,
   "id": "4fcfa343-44fe-45f0-8094-20f6c4813a2e",
   "metadata": {},
   "outputs": [],
   "source": []
  }
 ],
 "metadata": {
  "kernelspec": {
   "display_name": "Python 3",
   "language": "python",
   "name": "python3"
  },
  "language_info": {
   "codemirror_mode": {
    "name": "ipython",
    "version": 3
   },
   "file_extension": ".py",
   "mimetype": "text/x-python",
   "name": "python",
   "nbconvert_exporter": "python",
   "pygments_lexer": "ipython3",
   "version": "3.8.11"
  },
  "toc-autonumbering": true
 },
 "nbformat": 4,
 "nbformat_minor": 5
}
