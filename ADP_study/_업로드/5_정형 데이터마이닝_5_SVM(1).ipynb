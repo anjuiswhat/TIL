{
 "cells": [
  {
   "cell_type": "markdown",
   "id": "89931e24-28cb-4f34-b711-50d2eeb8c25c",
   "metadata": {
    "tags": []
   },
   "source": [
    "## - 불러올 패키지 목록"
   ]
  },
  {
   "cell_type": "code",
   "execution_count": 1,
   "id": "86f9fcd2-3c10-416e-a0c0-e061f8bcf26a",
   "metadata": {},
   "outputs": [],
   "source": [
    "# 데이터 핸들링을 위한 패키지\n",
    "import numpy as np\n",
    "import pandas as pd\n",
    "\n",
    "# 사이킷런 패키지\n",
    "from sklearn.preprocessing import *  # 데이터 전처리를 위한 패키지\n",
    "from sklearn.model_selection import *  # 데이터 분리, 검증 및 파라미터 튜닝을 위한 패키지\n",
    "from sklearn.metrics import *  # 모델에 대한 다양한 성능 평가를 위한 패키지\n",
    "from sklearn.cluster import *  # 비지도 군집화 알고리즘 제공\n",
    "from sklearn.tree import *  # 의사결정나무 알고리즘 제공\n",
    "from sklearn.ensemble import *  # 앙상블 알고리즘 제공\n",
    "from sklearn.neighbors import *  # kNN 알고리즘 제공\n",
    "from sklearn.svm import *  # 서포트 벡터 머신 알고리즘 제공\n",
    "\n",
    "# 사이파이 패키지\n",
    "from scipy.cluster.hierarchy import *  # 계층적 군집 분석을 위한 패키지\n",
    "\n",
    "# label별 데이터 카운트를 위한 모듈\n",
    "from collections import Counter  # https://docs.python.org/3/library/collections.html\n",
    "\n",
    "# 경고 메시지 무시\n",
    "import warnings\n",
    "warnings.filterwarnings('ignore')\n",
    "\n",
    "# 시각화를 위한 패키지\n",
    "import seaborn as sb\n",
    "from matplotlib import pyplot as plt\n",
    "from matplotlib.colors import ListedColormap\n",
    "from mlxtend.plotting import plot_decision_regions\n",
    "\n",
    "%matplotlib inline\n",
    "# %matplotlib inline 의 목적은 plt.show()함수가 호출되지 않은 경우에도 matplotlib 다이어그램을 렌더링하는 것이다.\n",
    "# 그러나 현재 업데이트된 버전의 주피터 노트북 버전에서는 %matplotlib inline 를 사용하지 않더라도 Matplotlib 다이어그램을 개체로 표현한다.\n",
    "# 따라서 굳이 필요하지는 않다. 그러나 코드를 깨끗하게 유지하고 자신이 만든 플롯을 호출하기 위해 여전히 관례적으로 권장된다.\n",
    "\n",
    "# 그래프 스타일 서식 지정\n",
    "plt.style.use('default')\n",
    "\n",
    "# 한글 폰트 설정\n",
    "plt.rc('font', family='Malgun Gothic')\n",
    "\n",
    "# 그래프 축의 음수 표현 오류 방지\n",
    "plt.rcParams['axes.unicode_minus'] = False"
   ]
  },
  {
   "cell_type": "markdown",
   "id": "0cb5d24e-5af5-41fd-b305-dde4ce572bc0",
   "metadata": {
    "tags": []
   },
   "source": [
    "# Dataset 불러오기 및 data 정보 확인"
   ]
  },
  {
   "cell_type": "markdown",
   "id": "be0b779b-1b44-48ea-a62a-143c9591c31d",
   "metadata": {
    "tags": []
   },
   "source": [
    "## 데이터 불러오기"
   ]
  },
  {
   "cell_type": "code",
   "execution_count": 2,
   "id": "60fff2dd-b4f7-47bb-ac5d-20d2930336df",
   "metadata": {},
   "outputs": [
    {
     "data": {
      "text/html": [
       "<div>\n",
       "<style scoped>\n",
       "    .dataframe tbody tr th:only-of-type {\n",
       "        vertical-align: middle;\n",
       "    }\n",
       "\n",
       "    .dataframe tbody tr th {\n",
       "        vertical-align: top;\n",
       "    }\n",
       "\n",
       "    .dataframe thead th {\n",
       "        text-align: right;\n",
       "    }\n",
       "</style>\n",
       "<table border=\"1\" class=\"dataframe\">\n",
       "  <thead>\n",
       "    <tr style=\"text-align: right;\">\n",
       "      <th></th>\n",
       "      <th>credit.rating</th>\n",
       "      <th>account.balance</th>\n",
       "      <th>credit.duration.months</th>\n",
       "      <th>previous.credit.payment.status</th>\n",
       "      <th>credit.purpose</th>\n",
       "      <th>credit.amount</th>\n",
       "      <th>savings</th>\n",
       "      <th>employment.duration</th>\n",
       "      <th>installment.rate</th>\n",
       "      <th>marital.status</th>\n",
       "      <th>...</th>\n",
       "      <th>residence.duration</th>\n",
       "      <th>current.assets</th>\n",
       "      <th>age</th>\n",
       "      <th>other.credits</th>\n",
       "      <th>apartment.type</th>\n",
       "      <th>bank.credits</th>\n",
       "      <th>occupation</th>\n",
       "      <th>dependents</th>\n",
       "      <th>telephone</th>\n",
       "      <th>foreign.worker</th>\n",
       "    </tr>\n",
       "  </thead>\n",
       "  <tbody>\n",
       "    <tr>\n",
       "      <th>0</th>\n",
       "      <td>1</td>\n",
       "      <td>1</td>\n",
       "      <td>18</td>\n",
       "      <td>3</td>\n",
       "      <td>2</td>\n",
       "      <td>1049</td>\n",
       "      <td>1</td>\n",
       "      <td>1</td>\n",
       "      <td>4</td>\n",
       "      <td>1</td>\n",
       "      <td>...</td>\n",
       "      <td>4</td>\n",
       "      <td>2</td>\n",
       "      <td>21</td>\n",
       "      <td>2</td>\n",
       "      <td>1</td>\n",
       "      <td>1</td>\n",
       "      <td>3</td>\n",
       "      <td>1</td>\n",
       "      <td>1</td>\n",
       "      <td>1</td>\n",
       "    </tr>\n",
       "    <tr>\n",
       "      <th>1</th>\n",
       "      <td>1</td>\n",
       "      <td>1</td>\n",
       "      <td>9</td>\n",
       "      <td>3</td>\n",
       "      <td>4</td>\n",
       "      <td>2799</td>\n",
       "      <td>1</td>\n",
       "      <td>2</td>\n",
       "      <td>2</td>\n",
       "      <td>3</td>\n",
       "      <td>...</td>\n",
       "      <td>2</td>\n",
       "      <td>1</td>\n",
       "      <td>36</td>\n",
       "      <td>2</td>\n",
       "      <td>1</td>\n",
       "      <td>2</td>\n",
       "      <td>3</td>\n",
       "      <td>2</td>\n",
       "      <td>1</td>\n",
       "      <td>1</td>\n",
       "    </tr>\n",
       "    <tr>\n",
       "      <th>2</th>\n",
       "      <td>1</td>\n",
       "      <td>2</td>\n",
       "      <td>12</td>\n",
       "      <td>2</td>\n",
       "      <td>4</td>\n",
       "      <td>841</td>\n",
       "      <td>2</td>\n",
       "      <td>3</td>\n",
       "      <td>2</td>\n",
       "      <td>1</td>\n",
       "      <td>...</td>\n",
       "      <td>4</td>\n",
       "      <td>1</td>\n",
       "      <td>23</td>\n",
       "      <td>2</td>\n",
       "      <td>1</td>\n",
       "      <td>1</td>\n",
       "      <td>2</td>\n",
       "      <td>1</td>\n",
       "      <td>1</td>\n",
       "      <td>1</td>\n",
       "    </tr>\n",
       "    <tr>\n",
       "      <th>3</th>\n",
       "      <td>1</td>\n",
       "      <td>1</td>\n",
       "      <td>12</td>\n",
       "      <td>3</td>\n",
       "      <td>4</td>\n",
       "      <td>2122</td>\n",
       "      <td>1</td>\n",
       "      <td>2</td>\n",
       "      <td>3</td>\n",
       "      <td>3</td>\n",
       "      <td>...</td>\n",
       "      <td>2</td>\n",
       "      <td>1</td>\n",
       "      <td>39</td>\n",
       "      <td>2</td>\n",
       "      <td>1</td>\n",
       "      <td>2</td>\n",
       "      <td>2</td>\n",
       "      <td>2</td>\n",
       "      <td>1</td>\n",
       "      <td>2</td>\n",
       "    </tr>\n",
       "    <tr>\n",
       "      <th>4</th>\n",
       "      <td>1</td>\n",
       "      <td>1</td>\n",
       "      <td>12</td>\n",
       "      <td>3</td>\n",
       "      <td>4</td>\n",
       "      <td>2171</td>\n",
       "      <td>1</td>\n",
       "      <td>2</td>\n",
       "      <td>4</td>\n",
       "      <td>3</td>\n",
       "      <td>...</td>\n",
       "      <td>4</td>\n",
       "      <td>2</td>\n",
       "      <td>38</td>\n",
       "      <td>1</td>\n",
       "      <td>2</td>\n",
       "      <td>2</td>\n",
       "      <td>2</td>\n",
       "      <td>1</td>\n",
       "      <td>1</td>\n",
       "      <td>2</td>\n",
       "    </tr>\n",
       "    <tr>\n",
       "      <th>...</th>\n",
       "      <td>...</td>\n",
       "      <td>...</td>\n",
       "      <td>...</td>\n",
       "      <td>...</td>\n",
       "      <td>...</td>\n",
       "      <td>...</td>\n",
       "      <td>...</td>\n",
       "      <td>...</td>\n",
       "      <td>...</td>\n",
       "      <td>...</td>\n",
       "      <td>...</td>\n",
       "      <td>...</td>\n",
       "      <td>...</td>\n",
       "      <td>...</td>\n",
       "      <td>...</td>\n",
       "      <td>...</td>\n",
       "      <td>...</td>\n",
       "      <td>...</td>\n",
       "      <td>...</td>\n",
       "      <td>...</td>\n",
       "      <td>...</td>\n",
       "    </tr>\n",
       "    <tr>\n",
       "      <th>995</th>\n",
       "      <td>0</td>\n",
       "      <td>1</td>\n",
       "      <td>24</td>\n",
       "      <td>2</td>\n",
       "      <td>3</td>\n",
       "      <td>1987</td>\n",
       "      <td>1</td>\n",
       "      <td>2</td>\n",
       "      <td>2</td>\n",
       "      <td>3</td>\n",
       "      <td>...</td>\n",
       "      <td>4</td>\n",
       "      <td>1</td>\n",
       "      <td>21</td>\n",
       "      <td>2</td>\n",
       "      <td>1</td>\n",
       "      <td>1</td>\n",
       "      <td>2</td>\n",
       "      <td>2</td>\n",
       "      <td>1</td>\n",
       "      <td>1</td>\n",
       "    </tr>\n",
       "    <tr>\n",
       "      <th>996</th>\n",
       "      <td>0</td>\n",
       "      <td>1</td>\n",
       "      <td>24</td>\n",
       "      <td>2</td>\n",
       "      <td>4</td>\n",
       "      <td>2303</td>\n",
       "      <td>1</td>\n",
       "      <td>4</td>\n",
       "      <td>4</td>\n",
       "      <td>3</td>\n",
       "      <td>...</td>\n",
       "      <td>1</td>\n",
       "      <td>1</td>\n",
       "      <td>45</td>\n",
       "      <td>2</td>\n",
       "      <td>2</td>\n",
       "      <td>1</td>\n",
       "      <td>3</td>\n",
       "      <td>1</td>\n",
       "      <td>1</td>\n",
       "      <td>1</td>\n",
       "    </tr>\n",
       "    <tr>\n",
       "      <th>997</th>\n",
       "      <td>0</td>\n",
       "      <td>3</td>\n",
       "      <td>21</td>\n",
       "      <td>3</td>\n",
       "      <td>4</td>\n",
       "      <td>12680</td>\n",
       "      <td>4</td>\n",
       "      <td>4</td>\n",
       "      <td>4</td>\n",
       "      <td>3</td>\n",
       "      <td>...</td>\n",
       "      <td>4</td>\n",
       "      <td>4</td>\n",
       "      <td>30</td>\n",
       "      <td>2</td>\n",
       "      <td>3</td>\n",
       "      <td>1</td>\n",
       "      <td>4</td>\n",
       "      <td>1</td>\n",
       "      <td>2</td>\n",
       "      <td>1</td>\n",
       "    </tr>\n",
       "    <tr>\n",
       "      <th>998</th>\n",
       "      <td>0</td>\n",
       "      <td>2</td>\n",
       "      <td>12</td>\n",
       "      <td>2</td>\n",
       "      <td>3</td>\n",
       "      <td>6468</td>\n",
       "      <td>4</td>\n",
       "      <td>1</td>\n",
       "      <td>2</td>\n",
       "      <td>3</td>\n",
       "      <td>...</td>\n",
       "      <td>1</td>\n",
       "      <td>4</td>\n",
       "      <td>52</td>\n",
       "      <td>2</td>\n",
       "      <td>2</td>\n",
       "      <td>1</td>\n",
       "      <td>4</td>\n",
       "      <td>1</td>\n",
       "      <td>2</td>\n",
       "      <td>1</td>\n",
       "    </tr>\n",
       "    <tr>\n",
       "      <th>999</th>\n",
       "      <td>0</td>\n",
       "      <td>1</td>\n",
       "      <td>30</td>\n",
       "      <td>2</td>\n",
       "      <td>2</td>\n",
       "      <td>6350</td>\n",
       "      <td>4</td>\n",
       "      <td>4</td>\n",
       "      <td>4</td>\n",
       "      <td>3</td>\n",
       "      <td>...</td>\n",
       "      <td>4</td>\n",
       "      <td>2</td>\n",
       "      <td>31</td>\n",
       "      <td>2</td>\n",
       "      <td>2</td>\n",
       "      <td>1</td>\n",
       "      <td>3</td>\n",
       "      <td>1</td>\n",
       "      <td>1</td>\n",
       "      <td>1</td>\n",
       "    </tr>\n",
       "  </tbody>\n",
       "</table>\n",
       "<p>1000 rows × 21 columns</p>\n",
       "</div>"
      ],
      "text/plain": [
       "     credit.rating  account.balance  credit.duration.months  \\\n",
       "0                1                1                      18   \n",
       "1                1                1                       9   \n",
       "2                1                2                      12   \n",
       "3                1                1                      12   \n",
       "4                1                1                      12   \n",
       "..             ...              ...                     ...   \n",
       "995              0                1                      24   \n",
       "996              0                1                      24   \n",
       "997              0                3                      21   \n",
       "998              0                2                      12   \n",
       "999              0                1                      30   \n",
       "\n",
       "     previous.credit.payment.status  credit.purpose  credit.amount  savings  \\\n",
       "0                                 3               2           1049        1   \n",
       "1                                 3               4           2799        1   \n",
       "2                                 2               4            841        2   \n",
       "3                                 3               4           2122        1   \n",
       "4                                 3               4           2171        1   \n",
       "..                              ...             ...            ...      ...   \n",
       "995                               2               3           1987        1   \n",
       "996                               2               4           2303        1   \n",
       "997                               3               4          12680        4   \n",
       "998                               2               3           6468        4   \n",
       "999                               2               2           6350        4   \n",
       "\n",
       "     employment.duration  installment.rate  marital.status  ...  \\\n",
       "0                      1                 4               1  ...   \n",
       "1                      2                 2               3  ...   \n",
       "2                      3                 2               1  ...   \n",
       "3                      2                 3               3  ...   \n",
       "4                      2                 4               3  ...   \n",
       "..                   ...               ...             ...  ...   \n",
       "995                    2                 2               3  ...   \n",
       "996                    4                 4               3  ...   \n",
       "997                    4                 4               3  ...   \n",
       "998                    1                 2               3  ...   \n",
       "999                    4                 4               3  ...   \n",
       "\n",
       "     residence.duration  current.assets  age  other.credits  apartment.type  \\\n",
       "0                     4               2   21              2               1   \n",
       "1                     2               1   36              2               1   \n",
       "2                     4               1   23              2               1   \n",
       "3                     2               1   39              2               1   \n",
       "4                     4               2   38              1               2   \n",
       "..                  ...             ...  ...            ...             ...   \n",
       "995                   4               1   21              2               1   \n",
       "996                   1               1   45              2               2   \n",
       "997                   4               4   30              2               3   \n",
       "998                   1               4   52              2               2   \n",
       "999                   4               2   31              2               2   \n",
       "\n",
       "     bank.credits  occupation  dependents  telephone  foreign.worker  \n",
       "0               1           3           1          1               1  \n",
       "1               2           3           2          1               1  \n",
       "2               1           2           1          1               1  \n",
       "3               2           2           2          1               2  \n",
       "4               2           2           1          1               2  \n",
       "..            ...         ...         ...        ...             ...  \n",
       "995             1           2           2          1               1  \n",
       "996             1           3           1          1               1  \n",
       "997             1           4           1          2               1  \n",
       "998             1           4           1          2               1  \n",
       "999             1           3           1          1               1  \n",
       "\n",
       "[1000 rows x 21 columns]"
      ]
     },
     "execution_count": 2,
     "metadata": {},
     "output_type": "execute_result"
    }
   ],
   "source": [
    "# 분석할 데이터 불러오기 / 데이터프레임 생성\n",
    "df_credit = pd.read_csv(r'C:\\Users\\Boanerges\\GitHub\\TIL\\ADP_study\\rawdata\\credit_final.csv')\n",
    "\n",
    "df_credit"
   ]
  },
  {
   "cell_type": "markdown",
   "id": "0e8ae2ab-a78b-4496-8dbf-6816e1435cc2",
   "metadata": {
    "tags": []
   },
   "source": [
    "## data 정보 확인"
   ]
  },
  {
   "cell_type": "code",
   "execution_count": 3,
   "id": "45f1ee91-458c-4ff4-9da9-022975a59ef0",
   "metadata": {},
   "outputs": [
    {
     "name": "stdout",
     "output_type": "stream",
     "text": [
      "<class 'pandas.core.frame.DataFrame'>\n",
      "RangeIndex: 1000 entries, 0 to 999\n",
      "Data columns (total 21 columns):\n",
      " #   Column                          Non-Null Count  Dtype\n",
      "---  ------                          --------------  -----\n",
      " 0   credit.rating                   1000 non-null   int64\n",
      " 1   account.balance                 1000 non-null   int64\n",
      " 2   credit.duration.months          1000 non-null   int64\n",
      " 3   previous.credit.payment.status  1000 non-null   int64\n",
      " 4   credit.purpose                  1000 non-null   int64\n",
      " 5   credit.amount                   1000 non-null   int64\n",
      " 6   savings                         1000 non-null   int64\n",
      " 7   employment.duration             1000 non-null   int64\n",
      " 8   installment.rate                1000 non-null   int64\n",
      " 9   marital.status                  1000 non-null   int64\n",
      " 10  guarantor                       1000 non-null   int64\n",
      " 11  residence.duration              1000 non-null   int64\n",
      " 12  current.assets                  1000 non-null   int64\n",
      " 13  age                             1000 non-null   int64\n",
      " 14  other.credits                   1000 non-null   int64\n",
      " 15  apartment.type                  1000 non-null   int64\n",
      " 16  bank.credits                    1000 non-null   int64\n",
      " 17  occupation                      1000 non-null   int64\n",
      " 18  dependents                      1000 non-null   int64\n",
      " 19  telephone                       1000 non-null   int64\n",
      " 20  foreign.worker                  1000 non-null   int64\n",
      "dtypes: int64(21)\n",
      "memory usage: 164.2 KB\n"
     ]
    }
   ],
   "source": [
    "df_credit.info()"
   ]
  },
  {
   "cell_type": "markdown",
   "id": "d87947c1-3042-4bb2-847f-6a47e7bf30b9",
   "metadata": {
    "tags": []
   },
   "source": [
    "# 모델 학습에 사용할 x값(예측변수) 설정"
   ]
  },
  {
   "cell_type": "code",
   "execution_count": 4,
   "id": "db78de79-9f1c-4537-983a-1e4523fc585d",
   "metadata": {},
   "outputs": [],
   "source": [
    "x = df_credit.iloc[:,1:21]\n",
    "y = df_credit.iloc[:,0]"
   ]
  },
  {
   "cell_type": "markdown",
   "id": "3a18be09-4888-4bd2-9a07-a6f26d348fb2",
   "metadata": {},
   "source": [
    "# 학습/테스트용 데이터셋 분리"
   ]
  },
  {
   "cell_type": "code",
   "execution_count": 5,
   "id": "e18470b6-e4c4-45af-bbc9-a01005863fd4",
   "metadata": {},
   "outputs": [
    {
     "name": "stdout",
     "output_type": "stream",
     "text": [
      "Counter({1: 495, 0: 205})\n",
      "\n",
      "Counter({1: 205, 0: 95})\n"
     ]
    }
   ],
   "source": [
    "# 데이터셋 나누고 라벨 분포 확인\n",
    "x_train, x_test, y_train, y_test  = train_test_split( x, y,\n",
    "                                                      test_size = 0.30,\n",
    "                                                      random_state = 153 )\n",
    "\n",
    "# 라벨별 데이터 분포 확인\n",
    "print( Counter(y_train) )\n",
    "print()\n",
    "print( Counter(y_test) )"
   ]
  },
  {
   "cell_type": "markdown",
   "id": "dc9b3f93-9026-423b-a7a3-416b4aaebc50",
   "metadata": {},
   "source": [
    "# 모델 생성 및 학습"
   ]
  },
  {
   "cell_type": "markdown",
   "id": "481c7416-1d1d-4324-89d1-e1b7fba6c96c",
   "metadata": {},
   "source": [
    "## LinearSVC 모델 생성"
   ]
  },
  {
   "cell_type": "code",
   "execution_count": 6,
   "id": "d94806cf-846b-4f59-8ced-f03212db7791",
   "metadata": {},
   "outputs": [],
   "source": [
    "model_svm = SVC( kernel = 'linear' )"
   ]
  },
  {
   "cell_type": "markdown",
   "id": "1de07361-591a-4e85-9091-4319b0d472e5",
   "metadata": {},
   "source": [
    "## train 데이터로 학습 수행"
   ]
  },
  {
   "cell_type": "code",
   "execution_count": 7,
   "id": "f85de841-68b5-4779-bf32-426bdf100671",
   "metadata": {},
   "outputs": [
    {
     "data": {
      "text/plain": [
       "SVC(kernel='linear')"
      ]
     },
     "execution_count": 7,
     "metadata": {},
     "output_type": "execute_result"
    }
   ],
   "source": [
    "# 모델 학습\n",
    "model_svm.fit( x_train, y_train )"
   ]
  },
  {
   "cell_type": "code",
   "execution_count": 8,
   "id": "29ec24fe-f98b-4b9c-a1d5-c7548195a911",
   "metadata": {
    "tags": []
   },
   "outputs": [
    {
     "data": {
      "text/plain": [
       "array([0, 1], dtype=int64)"
      ]
     },
     "execution_count": 8,
     "metadata": {},
     "output_type": "execute_result"
    }
   ],
   "source": [
    "# 모델의 정답에 대한 정보 확인\n",
    "model_svm.classes_"
   ]
  },
  {
   "cell_type": "raw",
   "id": "0b347352-b957-4a8a-afb3-a8e36652641c",
   "metadata": {
    "tags": []
   },
   "source": [
    "\n"
   ]
  },
  {
   "cell_type": "markdown",
   "id": "abeabf04-3c4f-4a1e-96cd-cf1c0086ceee",
   "metadata": {},
   "source": [
    "# 예측 및 평가"
   ]
  },
  {
   "cell_type": "markdown",
   "id": "f56b1b4e-6292-47aa-bd10-68935cb8d72c",
   "metadata": {
    "tags": []
   },
   "source": [
    "## 학습된 모델로 예측 수행"
   ]
  },
  {
   "cell_type": "code",
   "execution_count": 9,
   "id": "831335d4-1efc-4d30-bcfe-8b59752e938d",
   "metadata": {
    "tags": []
   },
   "outputs": [
    {
     "data": {
      "text/html": [
       "<div>\n",
       "<style scoped>\n",
       "    .dataframe tbody tr th:only-of-type {\n",
       "        vertical-align: middle;\n",
       "    }\n",
       "\n",
       "    .dataframe tbody tr th {\n",
       "        vertical-align: top;\n",
       "    }\n",
       "\n",
       "    .dataframe thead th {\n",
       "        text-align: right;\n",
       "    }\n",
       "</style>\n",
       "<table border=\"1\" class=\"dataframe\">\n",
       "  <thead>\n",
       "    <tr style=\"text-align: right;\">\n",
       "      <th></th>\n",
       "      <th>y_True</th>\n",
       "      <th>y_Predict</th>\n",
       "      <th>Pred_Result</th>\n",
       "    </tr>\n",
       "  </thead>\n",
       "  <tbody>\n",
       "    <tr>\n",
       "      <th>92</th>\n",
       "      <td>1</td>\n",
       "      <td>0</td>\n",
       "      <td>False</td>\n",
       "    </tr>\n",
       "    <tr>\n",
       "      <th>372</th>\n",
       "      <td>1</td>\n",
       "      <td>1</td>\n",
       "      <td>True</td>\n",
       "    </tr>\n",
       "    <tr>\n",
       "      <th>526</th>\n",
       "      <td>1</td>\n",
       "      <td>0</td>\n",
       "      <td>False</td>\n",
       "    </tr>\n",
       "    <tr>\n",
       "      <th>276</th>\n",
       "      <td>1</td>\n",
       "      <td>1</td>\n",
       "      <td>True</td>\n",
       "    </tr>\n",
       "    <tr>\n",
       "      <th>260</th>\n",
       "      <td>1</td>\n",
       "      <td>1</td>\n",
       "      <td>True</td>\n",
       "    </tr>\n",
       "    <tr>\n",
       "      <th>839</th>\n",
       "      <td>0</td>\n",
       "      <td>1</td>\n",
       "      <td>False</td>\n",
       "    </tr>\n",
       "    <tr>\n",
       "      <th>930</th>\n",
       "      <td>0</td>\n",
       "      <td>1</td>\n",
       "      <td>False</td>\n",
       "    </tr>\n",
       "    <tr>\n",
       "      <th>121</th>\n",
       "      <td>1</td>\n",
       "      <td>1</td>\n",
       "      <td>True</td>\n",
       "    </tr>\n",
       "    <tr>\n",
       "      <th>68</th>\n",
       "      <td>1</td>\n",
       "      <td>1</td>\n",
       "      <td>True</td>\n",
       "    </tr>\n",
       "    <tr>\n",
       "      <th>970</th>\n",
       "      <td>0</td>\n",
       "      <td>0</td>\n",
       "      <td>True</td>\n",
       "    </tr>\n",
       "  </tbody>\n",
       "</table>\n",
       "</div>"
      ],
      "text/plain": [
       "     y_True  y_Predict  Pred_Result\n",
       "92        1          0        False\n",
       "372       1          1         True\n",
       "526       1          0        False\n",
       "276       1          1         True\n",
       "260       1          1         True\n",
       "839       0          1        False\n",
       "930       0          1        False\n",
       "121       1          1         True\n",
       "68        1          1         True\n",
       "970       0          0         True"
      ]
     },
     "execution_count": 9,
     "metadata": {},
     "output_type": "execute_result"
    }
   ],
   "source": [
    "# test 데이터로 라벨 예측\n",
    "y_pred = model_svm.predict( x_test )\n",
    "\n",
    "pd.DataFrame( {'y_True' : y_test,\n",
    "               'y_Predict' : y_pred,\n",
    "               'Pred_Result' : y_test == y_pred} ).head(10)"
   ]
  },
  {
   "cell_type": "markdown",
   "id": "4495d9f0-0f7b-4a89-9bf5-40416ba149d1",
   "metadata": {},
   "source": [
    "## 평가"
   ]
  },
  {
   "cell_type": "markdown",
   "id": "0bd8987d-c66c-4d3b-b483-051f3a7fdd97",
   "metadata": {},
   "source": [
    "### Confusion Metrix"
   ]
  },
  {
   "cell_type": "code",
   "execution_count": 10,
   "id": "5542fd7a-db9c-4e43-b745-8274bb2cc906",
   "metadata": {},
   "outputs": [
    {
     "data": {
      "text/html": [
       "<div>\n",
       "<style scoped>\n",
       "    .dataframe tbody tr th:only-of-type {\n",
       "        vertical-align: middle;\n",
       "    }\n",
       "\n",
       "    .dataframe tbody tr th {\n",
       "        vertical-align: top;\n",
       "    }\n",
       "\n",
       "    .dataframe thead th {\n",
       "        text-align: right;\n",
       "    }\n",
       "</style>\n",
       "<table border=\"1\" class=\"dataframe\">\n",
       "  <thead>\n",
       "    <tr style=\"text-align: right;\">\n",
       "      <th>real</th>\n",
       "      <th>0</th>\n",
       "      <th>1</th>\n",
       "    </tr>\n",
       "    <tr>\n",
       "      <th>pred</th>\n",
       "      <th></th>\n",
       "      <th></th>\n",
       "    </tr>\n",
       "  </thead>\n",
       "  <tbody>\n",
       "    <tr>\n",
       "      <th>0</th>\n",
       "      <td>44</td>\n",
       "      <td>51</td>\n",
       "    </tr>\n",
       "    <tr>\n",
       "      <th>1</th>\n",
       "      <td>26</td>\n",
       "      <td>179</td>\n",
       "    </tr>\n",
       "  </tbody>\n",
       "</table>\n",
       "</div>"
      ],
      "text/plain": [
       "real   0    1\n",
       "pred         \n",
       "0     44   51\n",
       "1     26  179"
      ]
     },
     "execution_count": 10,
     "metadata": {},
     "output_type": "execute_result"
    }
   ],
   "source": [
    "conf_mat = pd.crosstab( y_test, y_pred, rownames=['pred'], colnames=['real'] )\n",
    "conf_mat"
   ]
  },
  {
   "cell_type": "code",
   "execution_count": 11,
   "id": "cece52ad-6643-4798-9bd8-3a88576c7a26",
   "metadata": {},
   "outputs": [
    {
     "data": {
      "text/plain": [
       "array([[ 44,  51],\n",
       "       [ 26, 179]], dtype=int64)"
      ]
     },
     "execution_count": 11,
     "metadata": {},
     "output_type": "execute_result"
    }
   ],
   "source": [
    "confusion_matrix(y_test, y_pred)"
   ]
  },
  {
   "cell_type": "markdown",
   "id": "54c75474-88f1-4a41-b2d8-1236877d8d8d",
   "metadata": {},
   "source": [
    "### 분석 지표"
   ]
  },
  {
   "cell_type": "code",
   "execution_count": 12,
   "id": "297a4c0c-af29-43ea-9ef4-67ebeffca6f5",
   "metadata": {},
   "outputs": [
    {
     "data": {
      "text/plain": [
       "0.7433333333333333"
      ]
     },
     "execution_count": 12,
     "metadata": {},
     "output_type": "execute_result"
    }
   ],
   "source": [
    "# Accuracy\n",
    "model_svm.score( x_test, y_test )"
   ]
  },
  {
   "cell_type": "code",
   "execution_count": 13,
   "id": "ca8f4b51-54d2-4ee2-9cb4-713c67391dc2",
   "metadata": {},
   "outputs": [
    {
     "name": "stdout",
     "output_type": "stream",
     "text": [
      "Accuracy:  0.7433333333333333\n",
      "\n",
      "              precision    recall  f1-score   support\n",
      "\n",
      "           0      0.629     0.463     0.533        95\n",
      "           1      0.778     0.873     0.823       205\n",
      "\n",
      "    accuracy                          0.743       300\n",
      "   macro avg      0.703     0.668     0.678       300\n",
      "weighted avg      0.731     0.743     0.731       300\n",
      "\n",
      "\n"
     ]
    }
   ],
   "source": [
    "print( 'Accuracy: ', accuracy_score(y_test, y_pred) )\n",
    "print()\n",
    "\n",
    "print( classification_report(y_test, y_pred, digits = 3) )\n",
    "print()"
   ]
  },
  {
   "cell_type": "markdown",
   "id": "f73e412c-1018-4a7e-9b34-293a78be1395",
   "metadata": {},
   "source": [
    "### ROC curve / AUC"
   ]
  },
  {
   "cell_type": "code",
   "execution_count": 14,
   "id": "c5af8a26-595f-4a9e-88c3-166dab93f520",
   "metadata": {},
   "outputs": [
    {
     "name": "stdout",
     "output_type": "stream",
     "text": [
      "Accuracy:  0.7433333333333333\n",
      "AUC:  0.6681643132220796\n",
      "\n"
     ]
    },
    {
     "data": {
      "image/png": "[encoded data removed]",
      "text/plain": [
       "<Figure size 640x480 with 1 Axes>"
      ]
     },
     "metadata": {},
     "output_type": "display_data"
    }
   ],
   "source": [
    "# Accuracy\n",
    "acc = accuracy_score(y_test, y_pred)\n",
    "print('Accuracy: ', acc )\n",
    "\n",
    "# AUC 계산\n",
    "auc = roc_auc_score( y_test, y_pred )\n",
    "print('AUC: ', auc )\n",
    "print()\n",
    "\n",
    "# ROC curve 출력\n",
    "fpr, tpr, thresholds = roc_curve( y_test, y_pred,\n",
    "                                  pos_label = 1)\n",
    "\n",
    "RocCurveDisplay( fpr, tpr).plot()\n",
    "plt.legend( labels = ['AUC = %.2f' % auc],\n",
    "            loc = 'lower right')\n",
    "\n",
    "plt.plot( [0,1], [0,1] )\n",
    "\n",
    "plt.show()"
   ]
  },
  {
   "cell_type": "raw",
   "id": "f76d8936-d702-4cd1-910d-d16c6aa97658",
   "metadata": {},
   "source": [
    "\n"
   ]
  },
  {
   "cell_type": "markdown",
   "id": "c435a7ab-ebc5-442d-9652-1221cfc1249f",
   "metadata": {},
   "source": [
    "# 모델 최적화"
   ]
  },
  {
   "cell_type": "markdown",
   "id": "fa3b37bc-6f7e-41a2-b8a3-07d422030e07",
   "metadata": {},
   "source": [
    "## Hyper parameter 최적화: `GridSearchCV`"
   ]
  },
  {
   "cell_type": "markdown",
   "id": "6959f7ef-1aef-44de-944b-53ed840803f6",
   "metadata": {},
   "source": [
    "### 파라미터 확인 및 평가 조건 설정"
   ]
  },
  {
   "cell_type": "code",
   "execution_count": 15,
   "id": "8920a91a-9f87-4e5b-afa3-3f7a5efad9e7",
   "metadata": {},
   "outputs": [
    {
     "data": {
      "text/plain": [
       "['C',\n",
       " 'break_ties',\n",
       " 'cache_size',\n",
       " 'class_weight',\n",
       " 'coef0',\n",
       " 'decision_function_shape',\n",
       " 'degree',\n",
       " 'gamma',\n",
       " 'kernel',\n",
       " 'max_iter',\n",
       " 'probability',\n",
       " 'random_state',\n",
       " 'shrinking',\n",
       " 'tol',\n",
       " 'verbose']"
      ]
     },
     "execution_count": 15,
     "metadata": {},
     "output_type": "execute_result"
    }
   ],
   "source": [
    "# 파라미터 목록 확인\n",
    "list( model_svm.get_params().keys() )"
   ]
  },
  {
   "cell_type": "code",
   "execution_count": null,
   "id": "165499f0-9886-461a-a632-96045be121b0",
   "metadata": {},
   "outputs": [],
   "source": [
    "# 평가할 파라미터 split 조건 설정\n",
    "\n",
    "params = { 'gamma' : [10**-6, 10**-5, 10**-4, 10**-3, 10**-2, 10**-1 ] }\n",
    "\n",
    "grid = GridSearchCV( model_svm,\n",
    "                     param_grid = params,\n",
    "                     cv = 7,\n",
    "                     scoring = 'accuracy',\n",
    "                     n_jobs=-1)\n",
    "\n",
    "# split 조건별로 하이퍼 파라미터 학습/평가\n",
    "grid.fit( x, y )"
   ]
  },
  {
   "cell_type": "code",
   "execution_count": null,
   "id": "aba2c233-75d8-472c-a176-5f79e01442ab",
   "metadata": {},
   "outputs": [],
   "source": [
    "df_grid = pd.DataFrame( grid.cv_results_ )\n",
    "\n",
    "df_grid.info()"
   ]
  },
  {
   "cell_type": "code",
   "execution_count": null,
   "id": "1366acaa-e626-466d-ba6b-e00b5da37a31",
   "metadata": {},
   "outputs": [],
   "source": [
    "pd.set_option('display.max_colwidth', None)  # 데이터프레임의 셀 폭 설정 (한 셀의 너비에 내용이 다 안들어갈 경우)\n",
    "pd.set_option('display.max_row', 80)  # 데이터프레임의 출력 행 개수 설정 (한 셀에 모든 행 표시가 안될 경우)\n",
    "\n",
    "df_grid[ ['params','mean_test_score','rank_test_score'] ].sort_values(['rank_test_score']).head(30)"
   ]
  },
  {
   "cell_type": "markdown",
   "id": "923ef772-580d-43c4-974a-490d29618325",
   "metadata": {},
   "source": [
    "### 최적의 파라미터 추출"
   ]
  },
  {
   "cell_type": "code",
   "execution_count": null,
   "id": "aedca51e-9a03-431a-aca7-9eb520dc8b14",
   "metadata": {},
   "outputs": [],
   "source": [
    "print(\"최고 Score: \", str(np.round(grid.best_score_, 4)))\n",
    "print(\"최적 Parameters: \",str(grid.best_params_))\n",
    "print(\"최적 Estimators: \",str(grid.best_estimator_))"
   ]
  },
  {
   "cell_type": "code",
   "execution_count": null,
   "id": "6b312ba2-af9c-48ec-8194-ead0c7ded4fa",
   "metadata": {},
   "outputs": [],
   "source": []
  },
  {
   "cell_type": "code",
   "execution_count": null,
   "id": "33577721-4eed-4c88-80db-6175b835375c",
   "metadata": {},
   "outputs": [],
   "source": []
  },
  {
   "cell_type": "code",
   "execution_count": null,
   "id": "ca4d8481-7f27-476a-8e5f-660800037c60",
   "metadata": {},
   "outputs": [],
   "source": []
  },
  {
   "cell_type": "code",
   "execution_count": null,
   "id": "9a92c7af-e34b-4436-81c0-f007ac53c1ce",
   "metadata": {},
   "outputs": [],
   "source": []
  },
  {
   "cell_type": "code",
   "execution_count": null,
   "id": "e425226c-088e-43bb-9ac7-7781c66c1c17",
   "metadata": {},
   "outputs": [],
   "source": []
  },
  {
   "cell_type": "code",
   "execution_count": null,
   "id": "cef9f69c-5e24-4220-9345-cd1c690076d4",
   "metadata": {},
   "outputs": [],
   "source": []
  },
  {
   "cell_type": "code",
   "execution_count": null,
   "id": "d0e7bd76-773b-4412-aece-856e6a55d90e",
   "metadata": {},
   "outputs": [],
   "source": []
  },
  {
   "cell_type": "code",
   "execution_count": null,
   "id": "cd751a40-4481-4d1a-83e3-93355240473e",
   "metadata": {},
   "outputs": [],
   "source": []
  },
  {
   "cell_type": "code",
   "execution_count": null,
   "id": "219d43e2-7d6e-4d5e-9f40-d96005cc77f6",
   "metadata": {},
   "outputs": [],
   "source": []
  },
  {
   "cell_type": "code",
   "execution_count": null,
   "id": "1b69aba1-9cab-4dc4-8682-ebf6e6335025",
   "metadata": {},
   "outputs": [],
   "source": []
  }
 ],
 "metadata": {
  "kernelspec": {
   "display_name": "Python 3",
   "language": "python",
   "name": "python3"
  },
  "language_info": {
   "codemirror_mode": {
    "name": "ipython",
    "version": 3
   },
   "file_extension": ".py",
   "mimetype": "text/x-python",
   "name": "python",
   "nbconvert_exporter": "python",
   "pygments_lexer": "ipython3",
   "version": "3.8.11"
  },
  "toc-autonumbering": true
 },
 "nbformat": 4,
 "nbformat_minor": 5
}
