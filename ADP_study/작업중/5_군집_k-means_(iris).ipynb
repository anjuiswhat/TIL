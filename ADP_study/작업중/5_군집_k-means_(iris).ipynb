{
 "cells": [
  {
   "cell_type": "markdown",
   "id": "ad838552-7efe-44b2-9536-147ff29f5c3b",
   "metadata": {
    "tags": []
   },
   "source": [
    "## - 불러올 패키지 목록"
   ]
  },
  {
   "cell_type": "code",
   "execution_count": 1,
   "id": "2a3f9ae3-187e-4bfa-af23-837e1337dac9",
   "metadata": {},
   "outputs": [],
   "source": [
    "# 수학 함수 패키지\n",
    "import math\n",
    "\n",
    "# 데이터 핸들링을 위한 패키지\n",
    "import numpy as np\n",
    "import pandas as pd\n",
    "\n",
    "# 사이킷런 패키지\n",
    "from sklearn.preprocessing import *  # 데이터 전처리를 위한 패키지\n",
    "from sklearn.model_selection import *  # 데이터 분리, 검증 및 파라미터 튜닝을 위한 패키지\n",
    "from sklearn.metrics import *  # 모델에 대한 다양한 성능 평가를 위한 패키지\n",
    "from sklearn.cluster import *  # 비지도 군집화 알고리즘 제공\n",
    "from sklearn.tree import *  # 의사결정나무 알고리즘 제공\n",
    "from sklearn.ensemble import *  # 앙상블 알고리즘 제공\n",
    "from sklearn.neighbors import *  # kNN 알고리즘 제공\n",
    "from sklearn.svm import *  # 서포트 벡터 머신 알고리즘 제공\n",
    "from sklearn.mixture import *  # 혼합분포군집(GMM 등) 알고리즘 제공\n",
    "from sklearn.decomposition import *  # 차원축소 알고리즘 제공\n",
    "\n",
    "# 사이파이 패키지\n",
    "from scipy.cluster.hierarchy import *  # 계층적 군집 분석을 위한 패키지\n",
    "\n",
    "# label별 데이터 카운트를 위한 모듈\n",
    "from collections import Counter  # https://docs.python.org/3/library/collections.html\n",
    "\n",
    "# 경고 메시지 무시\n",
    "import warnings\n",
    "warnings.filterwarnings('ignore')\n",
    "\n",
    "# 시각화를 위한 패키지\n",
    "import seaborn as sb\n",
    "import matplotlib.pyplot as plt\n",
    "import matplotlib.cm as cm  # 내장 colormap, colormap 처리 유틸리티\n",
    "from matplotlib.colors import ListedColormap  # colors and colormaps\n",
    "from mlxtend.plotting import plot_decision_regions\n",
    "\n",
    "%matplotlib inline\n",
    "# %matplotlib inline 의 목적은 plt.show()함수가 호출되지 않은 경우에도 matplotlib 다이어그램을 렌더링하는 것이다.\n",
    "# 그러나 현재 업데이트된 버전의 주피터 노트북 버전에서는 %matplotlib inline 를 사용하지 않더라도 Matplotlib 다이어그램을 개체로 표현한다.\n",
    "# 따라서 굳이 필요하지는 않다. 그러나 코드를 깨끗하게 유지하고 자신이 만든 플롯을 호출하기 위해 여전히 관례적으로 권장된다.\n",
    "\n",
    "# 그래프 스타일 서식 지정\n",
    "plt.style.use('default')\n",
    "\n",
    "# 한글 폰트 설정\n",
    "plt.rc('font', family='Malgun Gothic')\n",
    "\n",
    "# 그래프 축의 음수 표현 오류 방지\n",
    "plt.rcParams['axes.unicode_minus'] = False"
   ]
  },
  {
   "cell_type": "markdown",
   "id": "342a3830-c15d-4227-b908-0aac581a414f",
   "metadata": {
    "tags": []
   },
   "source": [
    "# Dataset 불러오기 및 data 정보 확인"
   ]
  },
  {
   "cell_type": "markdown",
   "id": "d9b43c41-db8a-406d-8224-7b789d9fabae",
   "metadata": {},
   "source": [
    "## Dataset 불러오기"
   ]
  },
  {
   "cell_type": "code",
   "execution_count": 2,
   "id": "ac84b300-0f91-4f7e-8e39-8025cd53b499",
   "metadata": {},
   "outputs": [
    {
     "data": {
      "text/html": [
       "<div>\n",
       "<style scoped>\n",
       "    .dataframe tbody tr th:only-of-type {\n",
       "        vertical-align: middle;\n",
       "    }\n",
       "\n",
       "    .dataframe tbody tr th {\n",
       "        vertical-align: top;\n",
       "    }\n",
       "\n",
       "    .dataframe thead th {\n",
       "        text-align: right;\n",
       "    }\n",
       "</style>\n",
       "<table border=\"1\" class=\"dataframe\">\n",
       "  <thead>\n",
       "    <tr style=\"text-align: right;\">\n",
       "      <th></th>\n",
       "      <th>Sepal.Length</th>\n",
       "      <th>Sepal.Width</th>\n",
       "      <th>Petal.Length</th>\n",
       "      <th>Petal.Width</th>\n",
       "    </tr>\n",
       "  </thead>\n",
       "  <tbody>\n",
       "    <tr>\n",
       "      <th>1</th>\n",
       "      <td>5.1</td>\n",
       "      <td>3.5</td>\n",
       "      <td>1.4</td>\n",
       "      <td>0.2</td>\n",
       "    </tr>\n",
       "    <tr>\n",
       "      <th>2</th>\n",
       "      <td>4.9</td>\n",
       "      <td>3.0</td>\n",
       "      <td>1.4</td>\n",
       "      <td>0.2</td>\n",
       "    </tr>\n",
       "    <tr>\n",
       "      <th>3</th>\n",
       "      <td>4.7</td>\n",
       "      <td>3.2</td>\n",
       "      <td>1.3</td>\n",
       "      <td>0.2</td>\n",
       "    </tr>\n",
       "    <tr>\n",
       "      <th>4</th>\n",
       "      <td>4.6</td>\n",
       "      <td>3.1</td>\n",
       "      <td>1.5</td>\n",
       "      <td>0.2</td>\n",
       "    </tr>\n",
       "    <tr>\n",
       "      <th>5</th>\n",
       "      <td>5.0</td>\n",
       "      <td>3.6</td>\n",
       "      <td>1.4</td>\n",
       "      <td>0.2</td>\n",
       "    </tr>\n",
       "    <tr>\n",
       "      <th>...</th>\n",
       "      <td>...</td>\n",
       "      <td>...</td>\n",
       "      <td>...</td>\n",
       "      <td>...</td>\n",
       "    </tr>\n",
       "    <tr>\n",
       "      <th>146</th>\n",
       "      <td>6.7</td>\n",
       "      <td>3.0</td>\n",
       "      <td>5.2</td>\n",
       "      <td>2.3</td>\n",
       "    </tr>\n",
       "    <tr>\n",
       "      <th>147</th>\n",
       "      <td>6.3</td>\n",
       "      <td>2.5</td>\n",
       "      <td>5.0</td>\n",
       "      <td>1.9</td>\n",
       "    </tr>\n",
       "    <tr>\n",
       "      <th>148</th>\n",
       "      <td>6.5</td>\n",
       "      <td>3.0</td>\n",
       "      <td>5.2</td>\n",
       "      <td>2.0</td>\n",
       "    </tr>\n",
       "    <tr>\n",
       "      <th>149</th>\n",
       "      <td>6.2</td>\n",
       "      <td>3.4</td>\n",
       "      <td>5.4</td>\n",
       "      <td>2.3</td>\n",
       "    </tr>\n",
       "    <tr>\n",
       "      <th>150</th>\n",
       "      <td>5.9</td>\n",
       "      <td>3.0</td>\n",
       "      <td>5.1</td>\n",
       "      <td>1.8</td>\n",
       "    </tr>\n",
       "  </tbody>\n",
       "</table>\n",
       "<p>150 rows × 4 columns</p>\n",
       "</div>"
      ],
      "text/plain": [
       "     Sepal.Length  Sepal.Width  Petal.Length  Petal.Width\n",
       "1             5.1          3.5           1.4          0.2\n",
       "2             4.9          3.0           1.4          0.2\n",
       "3             4.7          3.2           1.3          0.2\n",
       "4             4.6          3.1           1.5          0.2\n",
       "5             5.0          3.6           1.4          0.2\n",
       "..            ...          ...           ...          ...\n",
       "146           6.7          3.0           5.2          2.3\n",
       "147           6.3          2.5           5.0          1.9\n",
       "148           6.5          3.0           5.2          2.0\n",
       "149           6.2          3.4           5.4          2.3\n",
       "150           5.9          3.0           5.1          1.8\n",
       "\n",
       "[150 rows x 4 columns]"
      ]
     },
     "execution_count": 2,
     "metadata": {},
     "output_type": "execute_result"
    }
   ],
   "source": [
    "# 분석할 데이터 불러오기 / 데이터프레임 생성\n",
    "df_iris = pd.read_csv(r'C:\\Users\\Boanerges\\GitHub\\TIL\\ADP_study\\rawdata\\iris.csv',\n",
    "                      index_col = 'Unnamed: 0')\n",
    "\n",
    "df_data = df_iris.drop('Species', axis = 1)\n",
    "\n",
    "df_data"
   ]
  },
  {
   "cell_type": "markdown",
   "id": "dd92e692-c8bd-49bf-b1f0-c4d59e1d1b89",
   "metadata": {
    "tags": []
   },
   "source": [
    "## Dataset에 대한 정보 및 대략적인 분포 확인"
   ]
  },
  {
   "cell_type": "code",
   "execution_count": 3,
   "id": "af6d812c-a89b-4ffc-a237-e411453eac64",
   "metadata": {},
   "outputs": [
    {
     "name": "stdout",
     "output_type": "stream",
     "text": [
      "<class 'pandas.core.frame.DataFrame'>\n",
      "Int64Index: 150 entries, 1 to 150\n",
      "Data columns (total 4 columns):\n",
      " #   Column        Non-Null Count  Dtype  \n",
      "---  ------        --------------  -----  \n",
      " 0   Sepal.Length  150 non-null    float64\n",
      " 1   Sepal.Width   150 non-null    float64\n",
      " 2   Petal.Length  150 non-null    float64\n",
      " 3   Petal.Width   150 non-null    float64\n",
      "dtypes: float64(4)\n",
      "memory usage: 5.9 KB\n"
     ]
    }
   ],
   "source": [
    "df_data.info()"
   ]
  },
  {
   "cell_type": "code",
   "execution_count": 4,
   "id": "f74f5b62-0cf3-4de5-a1f1-530b3ac1b63b",
   "metadata": {},
   "outputs": [
    {
     "data": {
      "text/html": [
       "<div>\n",
       "<style scoped>\n",
       "    .dataframe tbody tr th:only-of-type {\n",
       "        vertical-align: middle;\n",
       "    }\n",
       "\n",
       "    .dataframe tbody tr th {\n",
       "        vertical-align: top;\n",
       "    }\n",
       "\n",
       "    .dataframe thead th {\n",
       "        text-align: right;\n",
       "    }\n",
       "</style>\n",
       "<table border=\"1\" class=\"dataframe\">\n",
       "  <thead>\n",
       "    <tr style=\"text-align: right;\">\n",
       "      <th></th>\n",
       "      <th>Sepal.Length</th>\n",
       "      <th>Sepal.Width</th>\n",
       "      <th>Petal.Length</th>\n",
       "      <th>Petal.Width</th>\n",
       "    </tr>\n",
       "  </thead>\n",
       "  <tbody>\n",
       "    <tr>\n",
       "      <th>count</th>\n",
       "      <td>150.000000</td>\n",
       "      <td>150.000000</td>\n",
       "      <td>150.000000</td>\n",
       "      <td>150.000000</td>\n",
       "    </tr>\n",
       "    <tr>\n",
       "      <th>mean</th>\n",
       "      <td>5.843333</td>\n",
       "      <td>3.057333</td>\n",
       "      <td>3.758000</td>\n",
       "      <td>1.199333</td>\n",
       "    </tr>\n",
       "    <tr>\n",
       "      <th>std</th>\n",
       "      <td>0.828066</td>\n",
       "      <td>0.435866</td>\n",
       "      <td>1.765298</td>\n",
       "      <td>0.762238</td>\n",
       "    </tr>\n",
       "    <tr>\n",
       "      <th>min</th>\n",
       "      <td>4.300000</td>\n",
       "      <td>2.000000</td>\n",
       "      <td>1.000000</td>\n",
       "      <td>0.100000</td>\n",
       "    </tr>\n",
       "    <tr>\n",
       "      <th>25%</th>\n",
       "      <td>5.100000</td>\n",
       "      <td>2.800000</td>\n",
       "      <td>1.600000</td>\n",
       "      <td>0.300000</td>\n",
       "    </tr>\n",
       "    <tr>\n",
       "      <th>50%</th>\n",
       "      <td>5.800000</td>\n",
       "      <td>3.000000</td>\n",
       "      <td>4.350000</td>\n",
       "      <td>1.300000</td>\n",
       "    </tr>\n",
       "    <tr>\n",
       "      <th>75%</th>\n",
       "      <td>6.400000</td>\n",
       "      <td>3.300000</td>\n",
       "      <td>5.100000</td>\n",
       "      <td>1.800000</td>\n",
       "    </tr>\n",
       "    <tr>\n",
       "      <th>max</th>\n",
       "      <td>7.900000</td>\n",
       "      <td>4.400000</td>\n",
       "      <td>6.900000</td>\n",
       "      <td>2.500000</td>\n",
       "    </tr>\n",
       "  </tbody>\n",
       "</table>\n",
       "</div>"
      ],
      "text/plain": [
       "       Sepal.Length  Sepal.Width  Petal.Length  Petal.Width\n",
       "count    150.000000   150.000000    150.000000   150.000000\n",
       "mean       5.843333     3.057333      3.758000     1.199333\n",
       "std        0.828066     0.435866      1.765298     0.762238\n",
       "min        4.300000     2.000000      1.000000     0.100000\n",
       "25%        5.100000     2.800000      1.600000     0.300000\n",
       "50%        5.800000     3.000000      4.350000     1.300000\n",
       "75%        6.400000     3.300000      5.100000     1.800000\n",
       "max        7.900000     4.400000      6.900000     2.500000"
      ]
     },
     "execution_count": 4,
     "metadata": {},
     "output_type": "execute_result"
    }
   ],
   "source": [
    "df_data.describe()"
   ]
  },
  {
   "cell_type": "code",
   "execution_count": 5,
   "id": "c455b9f9-b3f7-4d97-a33c-31b92f5e43b5",
   "metadata": {},
   "outputs": [
    {
     "data": {
      "text/plain": [
       "(array([41.,  8.,  1.,  7.,  8., 33.,  6., 23.,  9., 14.]),\n",
       " array([0.1 , 0.34, 0.58, 0.82, 1.06, 1.3 , 1.54, 1.78, 2.02, 2.26, 2.5 ]),\n",
       " <BarContainer object of 10 artists>)"
      ]
     },
     "execution_count": 5,
     "metadata": {},
     "output_type": "execute_result"
    },
    {
     "data": {
      "image/png": "[encoded data removed]",
      "text/plain": [
       "<Figure size 2000x500 with 4 Axes>"
      ]
     },
     "metadata": {},
     "output_type": "display_data"
    }
   ],
   "source": [
    "fig, (ax1,ax2,ax3, ax4) = plt.subplots(figsize=(20,5), nrows=1, ncols=4)\n",
    "\n",
    "ax1.set_title('Sepal.Length')\n",
    "ax1.hist(df_data['Sepal.Length'])\n",
    "\n",
    "ax2.set_title('Sepal.Width')\n",
    "ax2.hist(df_data['Sepal.Width'])\n",
    "\n",
    "ax3.set_title('Petal.Length')\n",
    "ax3.hist(df_data['Petal.Length'])\n",
    "\n",
    "ax4.set_title('Petal.Width')\n",
    "ax4.hist(df_data['Petal.Width'])"
   ]
  },
  {
   "cell_type": "markdown",
   "id": "39f2e617-a9e8-4d80-b65f-484c5fd999ad",
   "metadata": {},
   "source": [
    "산점도 행렬\n",
    "https://seaborn.pydata.org/generated/seaborn.pairplot.html?highlight=pairplot#seaborn.pairplot"
   ]
  },
  {
   "cell_type": "raw",
   "id": "0daa5566-a465-4a48-a368-19bfff894d19",
   "metadata": {},
   "source": [
    "sb.pairplot( df_iris, hue = 'Species')"
   ]
  },
  {
   "cell_type": "markdown",
   "id": "c2e617fb-aff3-4c69-b202-d747b76ea13f",
   "metadata": {
    "tags": []
   },
   "source": [
    "# 모델 학습에 사용할 x값(예측변수) 설정"
   ]
  },
  {
   "cell_type": "code",
   "execution_count": 6,
   "id": "c77c5850-d186-4bab-bdc8-90435038d512",
   "metadata": {},
   "outputs": [
    {
     "data": {
      "text/html": [
       "<div>\n",
       "<style scoped>\n",
       "    .dataframe tbody tr th:only-of-type {\n",
       "        vertical-align: middle;\n",
       "    }\n",
       "\n",
       "    .dataframe tbody tr th {\n",
       "        vertical-align: top;\n",
       "    }\n",
       "\n",
       "    .dataframe thead th {\n",
       "        text-align: right;\n",
       "    }\n",
       "</style>\n",
       "<table border=\"1\" class=\"dataframe\">\n",
       "  <thead>\n",
       "    <tr style=\"text-align: right;\">\n",
       "      <th></th>\n",
       "      <th>Sepal.Length</th>\n",
       "      <th>Sepal.Width</th>\n",
       "      <th>Petal.Length</th>\n",
       "      <th>Petal.Width</th>\n",
       "    </tr>\n",
       "  </thead>\n",
       "  <tbody>\n",
       "    <tr>\n",
       "      <th>1</th>\n",
       "      <td>5.1</td>\n",
       "      <td>3.5</td>\n",
       "      <td>1.4</td>\n",
       "      <td>0.2</td>\n",
       "    </tr>\n",
       "    <tr>\n",
       "      <th>2</th>\n",
       "      <td>4.9</td>\n",
       "      <td>3.0</td>\n",
       "      <td>1.4</td>\n",
       "      <td>0.2</td>\n",
       "    </tr>\n",
       "    <tr>\n",
       "      <th>3</th>\n",
       "      <td>4.7</td>\n",
       "      <td>3.2</td>\n",
       "      <td>1.3</td>\n",
       "      <td>0.2</td>\n",
       "    </tr>\n",
       "    <tr>\n",
       "      <th>4</th>\n",
       "      <td>4.6</td>\n",
       "      <td>3.1</td>\n",
       "      <td>1.5</td>\n",
       "      <td>0.2</td>\n",
       "    </tr>\n",
       "    <tr>\n",
       "      <th>5</th>\n",
       "      <td>5.0</td>\n",
       "      <td>3.6</td>\n",
       "      <td>1.4</td>\n",
       "      <td>0.2</td>\n",
       "    </tr>\n",
       "    <tr>\n",
       "      <th>...</th>\n",
       "      <td>...</td>\n",
       "      <td>...</td>\n",
       "      <td>...</td>\n",
       "      <td>...</td>\n",
       "    </tr>\n",
       "    <tr>\n",
       "      <th>146</th>\n",
       "      <td>6.7</td>\n",
       "      <td>3.0</td>\n",
       "      <td>5.2</td>\n",
       "      <td>2.3</td>\n",
       "    </tr>\n",
       "    <tr>\n",
       "      <th>147</th>\n",
       "      <td>6.3</td>\n",
       "      <td>2.5</td>\n",
       "      <td>5.0</td>\n",
       "      <td>1.9</td>\n",
       "    </tr>\n",
       "    <tr>\n",
       "      <th>148</th>\n",
       "      <td>6.5</td>\n",
       "      <td>3.0</td>\n",
       "      <td>5.2</td>\n",
       "      <td>2.0</td>\n",
       "    </tr>\n",
       "    <tr>\n",
       "      <th>149</th>\n",
       "      <td>6.2</td>\n",
       "      <td>3.4</td>\n",
       "      <td>5.4</td>\n",
       "      <td>2.3</td>\n",
       "    </tr>\n",
       "    <tr>\n",
       "      <th>150</th>\n",
       "      <td>5.9</td>\n",
       "      <td>3.0</td>\n",
       "      <td>5.1</td>\n",
       "      <td>1.8</td>\n",
       "    </tr>\n",
       "  </tbody>\n",
       "</table>\n",
       "<p>150 rows × 4 columns</p>\n",
       "</div>"
      ],
      "text/plain": [
       "     Sepal.Length  Sepal.Width  Petal.Length  Petal.Width\n",
       "1             5.1          3.5           1.4          0.2\n",
       "2             4.9          3.0           1.4          0.2\n",
       "3             4.7          3.2           1.3          0.2\n",
       "4             4.6          3.1           1.5          0.2\n",
       "5             5.0          3.6           1.4          0.2\n",
       "..            ...          ...           ...          ...\n",
       "146           6.7          3.0           5.2          2.3\n",
       "147           6.3          2.5           5.0          1.9\n",
       "148           6.5          3.0           5.2          2.0\n",
       "149           6.2          3.4           5.4          2.3\n",
       "150           5.9          3.0           5.1          1.8\n",
       "\n",
       "[150 rows x 4 columns]"
      ]
     },
     "execution_count": 6,
     "metadata": {},
     "output_type": "execute_result"
    }
   ],
   "source": [
    "x = df_data.iloc[:, 0:4]\n",
    "x"
   ]
  },
  {
   "cell_type": "raw",
   "id": "df10e54f-bb03-4f78-8c03-9b634d3eb193",
   "metadata": {},
   "source": [
    "\n"
   ]
  },
  {
   "cell_type": "markdown",
   "id": "853a0a44-1c7a-4f12-9762-0af354f27fbb",
   "metadata": {},
   "source": [
    "# k-means 모델 생성 및 군집화 수행\n",
    "- `sklearn.cluster.KMeans()`  - https://scikit-learn.org/stable/modules/generated/sklearn.cluster.KMeans.html\n",
    "\n",
    "- Attributes : `cluster_centers_` : 클러스터 중심의 좌표\n",
    "- Attributes : `labels_` : 각 지점의 label\n",
    "- Attributes : `inertia_` : sample과 그 sample로부터 가장 가까운 클러스터의 중심까지 거리의 제곱 합. 즉, 오차제곱합. 군집 내의 분산을 의미함. \n",
    "- Attributes : `n_iter_` : 반복 실행 횟수"
   ]
  },
  {
   "cell_type": "code",
   "execution_count": 7,
   "id": "b71ef4d9-c2b5-47b4-9bca-977aa903a594",
   "metadata": {},
   "outputs": [],
   "source": [
    "# 일관된 조건으로 군집화 및 평가를 하기 위해 함수로 정의하여 사용\n",
    "\n",
    "# n_clusters : int, default=8\n",
    "\n",
    "# init : k-means++ : 수렴 속도를 높이기 위해 스마트 방식으로 k-mean 군집화를 위한 초기 군집 중심을 선택\n",
    "#        random : n_clusters초기 중심에 대한 데이터에서 무작위로 관측값(행)을 선택\n",
    "\n",
    "# max_iter: int, default=300. 단일 실행에 대한 k평균 알고리즘의 최대 반복 횟수\n",
    "\n",
    "def kmeans(k):\n",
    "    cluster_kmeans = KMeans( n_clusters = k,\n",
    "                             init = 'random',\n",
    "                             max_iter = 500,\n",
    "                             random_state = 0 )\n",
    "    return cluster_kmeans"
   ]
  },
  {
   "cell_type": "markdown",
   "id": "850af204-1bbb-42be-acb6-e602b850baa3",
   "metadata": {},
   "source": [
    "## k값 선정\n",
    "- k-means 모델의 결과 중 하나인 inertia 값 활용\n",
    "- 군집 수에 따른 집단 내 제곱합을 살펴보고, 그래프 기울기가 크게 감소하는 시점의 k값을 선택"
   ]
  },
  {
   "cell_type": "code",
   "execution_count": 8,
   "id": "e9c8c45a-158a-43f6-9121-5365a415c44e",
   "metadata": {},
   "outputs": [
    {
     "data": {
      "image/png": "[encoded data removed]",
      "text/plain": [
       "<Figure size 640x480 with 1 Axes>"
      ]
     },
     "metadata": {},
     "output_type": "display_data"
    }
   ],
   "source": [
    "inertia = list()\n",
    "\n",
    "# k를 1부터 10까지 변화시켜가며 inertia를 측정\n",
    "for k in range(1,11):\n",
    "    model_kmeans = kmeans(k).fit(x)\n",
    "    inertia.append(model_kmeans.inertia_)\n",
    "\n",
    "# k에 따른 inertia의 변화를 확인하여 그래프가 급격히 변하는 지점으로 k값 선정\n",
    "plt.plot(range(1,11), inertia, '-o')\n",
    "plt.xlabel('Number of Clusters (k)')\n",
    "plt.ylabel('Distortion')\n",
    "plt.show()"
   ]
  },
  {
   "cell_type": "markdown",
   "id": "51f9607c-8f98-46b7-80d5-d19c3ef8f6bb",
   "metadata": {},
   "source": [
    "## 선정된 k값 모델로 군집화 수행 및 결과 확인"
   ]
  },
  {
   "cell_type": "code",
   "execution_count": 9,
   "id": "e8d0f7f0-934c-4f8d-978c-a91af966cb7a",
   "metadata": {},
   "outputs": [
    {
     "name": "stdout",
     "output_type": "stream",
     "text": [
      "< centers >\n",
      "[[6.30103093 2.88659794 4.95876289 1.69587629]\n",
      " [5.00566038 3.36981132 1.56037736 0.29056604]]\n",
      "\n",
      "< labels >\n",
      "[1 1 1 1 1 1 1 1 1 1 1 1 1 1 1 1 1 1 1 1 1 1 1 1 1 1 1 1 1 1 1 1 1 1 1 1 1\n",
      " 1 1 1 1 1 1 1 1 1 1 1 1 1 0 0 0 0 0 0 0 1 0 0 0 0 0 0 0 0 0 0 0 0 0 0 0 0\n",
      " 0 0 0 0 0 0 0 0 0 0 0 0 0 0 0 0 0 0 0 1 0 0 0 0 1 0 0 0 0 0 0 0 0 0 0 0 0\n",
      " 0 0 0 0 0 0 0 0 0 0 0 0 0 0 0 0 0 0 0 0 0 0 0 0 0 0 0 0 0 0 0 0 0 0 0 0 0\n",
      " 0 0]\n"
     ]
    }
   ],
   "source": [
    "# k를 2개로 설정하고 군집 모델 학습\n",
    "model_kmeans = kmeans(2).fit(x)\n",
    "\n",
    "# 각각의 클러스터의 중심 확인\n",
    "print('< centers >')\n",
    "print(model_kmeans.cluster_centers_)\n",
    "print()\n",
    "\n",
    "# 분류된 군집화 값 확인\n",
    "print('< labels >')\n",
    "print(model_kmeans.labels_)"
   ]
  },
  {
   "cell_type": "code",
   "execution_count": null,
   "id": "f72925da-1daf-4962-80e1-aeab86032b33",
   "metadata": {},
   "outputs": [],
   "source": []
  },
  {
   "cell_type": "code",
   "execution_count": 10,
   "id": "38c1f5d0-25c8-4a79-9675-5b6a4261662d",
   "metadata": {},
   "outputs": [
    {
     "ename": "NameError",
     "evalue": "name 'D' is not defined",
     "output_type": "error",
     "traceback": [
      "\u001b[1;31m---------------------------------------------------------------------------\u001b[0m",
      "\u001b[1;31mNameError\u001b[0m                                 Traceback (most recent call last)",
      "\u001b[1;32m<ipython-input-10-bf808704dc2d>\u001b[0m in \u001b[0;36m<module>\u001b[1;34m\u001b[0m\n\u001b[1;32m----> 1\u001b[1;33m \u001b[0mprint\u001b[0m\u001b[1;33m(\u001b[0m\u001b[0mD\u001b[0m\u001b[1;33m)\u001b[0m\u001b[1;33m\u001b[0m\u001b[1;33m\u001b[0m\u001b[0m\n\u001b[0m",
      "\u001b[1;31mNameError\u001b[0m: name 'D' is not defined"
     ]
    }
   ],
   "source": [
    "print(D)"
   ]
  },
  {
   "cell_type": "code",
   "execution_count": null,
   "id": "0873ec5b-b5c2-446c-a5c5-8ac6f09bb667",
   "metadata": {},
   "outputs": [],
   "source": [
    "# 새로운 데이터프레임에 cluster에 대한 컬럼 추가하고 군집화 값 입력\n",
    "\n",
    "df_result = df_data.copy()\n",
    "\n",
    "df_result['km_cluster'] = model_kmeans.labels_\n",
    "\n",
    "df_result.groupby( ['km_cluster'] ).count()"
   ]
  },
  {
   "cell_type": "code",
   "execution_count": null,
   "id": "a1ec1056-a06a-49a3-97d2-2c86916fa77c",
   "metadata": {},
   "outputs": [],
   "source": [
    "sb.pairplot( df_result,\n",
    "             hue=\"km_cluster\",\n",
    "             palette='bright',\n",
    "             size=3,\n",
    "             plot_kws=dict(s=50, linewidth=1) )"
   ]
  },
  {
   "cell_type": "markdown",
   "id": "707d5949-1de6-4060-9ad2-839ba2bafe76",
   "metadata": {},
   "source": [
    "# [참고] 실제 iris data와 비교"
   ]
  },
  {
   "cell_type": "code",
   "execution_count": null,
   "id": "bb505013-c7a1-463e-8437-fec267c0147f",
   "metadata": {},
   "outputs": [],
   "source": [
    "# iris 데이터프레임에 cluster에 대한 컬럼 추가하고 군집화 값 입력\n",
    "df_iris['km_cluster'] = model_kmeans.labels_\n",
    "\n",
    "df_iris.groupby( ['Species', 'km_cluster'] ).count()"
   ]
  },
  {
   "cell_type": "raw",
   "id": "2eaaab15-edc1-4d37-95d7-d3ce894ccb4b",
   "metadata": {},
   "source": [
    "# 실제 값과 군집화된 값들을 비교하여 \n",
    "# 분류된 군집화 값들에 해당하는 Species 이름을 데이터프레임에 입력\n",
    "\n",
    "df_iris['km_cluster'] = df_iris['km_cluster'].apply( lambda x: 'setosa' if 0 == x\n",
    "                                                     else ('versicolor' if 1 == x\n",
    "                                                     else 'virginica') )\n",
    "df_iris.groupby( ['Species', 'km_cluster'] ).count()"
   ]
  },
  {
   "cell_type": "code",
   "execution_count": null,
   "id": "56bea1ee-ddad-4bdc-ac3e-fa766b222732",
   "metadata": {},
   "outputs": [],
   "source": [
    "# 실제 iris 데이터의 군집\n",
    "\n",
    "sb.pairplot( df_iris.drop('km_cluster', axis = 1),\n",
    "             hue=\"Species\",\n",
    "             size=5,\n",
    "             plot_kws=dict(s=50, linewidth=1) )"
   ]
  },
  {
   "cell_type": "raw",
   "id": "868369c5-ffdd-47cd-aa47-d6e0d429676b",
   "metadata": {},
   "source": [
    "\n"
   ]
  },
  {
   "cell_type": "markdown",
   "id": "a7c3315c-7e39-48f7-8c50-cea7ab78604c",
   "metadata": {},
   "source": [
    "# 평가 ( Silhouette Coefficient )\n",
    "- 개별 데이터 각각의 실루엣 계수: `sklearn.metrics.silhouette_samples()`  https://scikit-learn.org/stable/modules/generated/sklearn.metrics.silhouette_samples.html\n",
    "\n",
    "- 전체 데이터의 평균 실루엣 계수: `sklearn.metrics.silhouette_score()`  https://scikit-learn.org/stable/modules/generated/sklearn.metrics.silhouette_score.html"
   ]
  },
  {
   "cell_type": "markdown",
   "id": "d74acd13-3775-40c2-bf59-c9c200101676",
   "metadata": {},
   "source": [
    "## 개별 데이터 각각의 실루엣 계수 산출"
   ]
  },
  {
   "cell_type": "code",
   "execution_count": null,
   "id": "3f7e4683-2169-4e98-b6d3-e906052ffda4",
   "metadata": {},
   "outputs": [],
   "source": [
    "# 모든 개별 데이터의 실루엣 계수값을 구함. \n",
    "score_samples = silhouette_samples( x, model_kmeans.labels_ )\n",
    "\n",
    "print('< 개별 데이터 각각의 실루엣 계수 >\\n', score_samples)\n",
    "print()"
   ]
  },
  {
   "cell_type": "code",
   "execution_count": null,
   "id": "447b1af8-b375-4672-9d10-da5ea3d6503e",
   "metadata": {},
   "outputs": [],
   "source": [
    "# df_result에 각 행에 대한 실루엣 계수 컬럼 추가\n",
    "df_result['silhouette_coeff'] = score_samples\n",
    "df_result"
   ]
  },
  {
   "cell_type": "code",
   "execution_count": null,
   "id": "b12b41c0-f745-4c47-8a6f-81e5f7ebc567",
   "metadata": {},
   "outputs": [],
   "source": [
    "# 군집별 평균 실루엣 계수\n",
    "group_silhouette = df_result.groupby('km_cluster')['silhouette_coeff'].mean()\n",
    "\n",
    "print('< 군집별 평균 실루엣 계수 >\\n', group_silhouette)"
   ]
  },
  {
   "cell_type": "raw",
   "id": "44a90cc4-2b72-4565-8497-69c8b256eb7b",
   "metadata": {},
   "source": [
    "\n"
   ]
  },
  {
   "cell_type": "markdown",
   "id": "3bdaee78-e92a-4790-ac09-164e79a11b74",
   "metadata": {},
   "source": [
    "## 평균 실루엣 계수 산출"
   ]
  },
  {
   "cell_type": "code",
   "execution_count": null,
   "id": "ca68b622-2f9d-4b8e-ac4e-c4f071ffcd2e",
   "metadata": {},
   "outputs": [],
   "source": [
    "# 전체 데이터의 평균 실루엣 계수값을 구함. \n",
    "average_score = silhouette_score( x, model_kmeans.labels_ )\n",
    "\n",
    "print( '전체 평균 실루엣 계수: {0:.4f}'.format(average_score) )\n",
    "print()"
   ]
  },
  {
   "cell_type": "markdown",
   "id": "03b9109c-ebe3-4230-9ef3-1be1425e2880",
   "metadata": {},
   "source": [
    "## k값에 따른 군집별 실루엣 계수와 평균 실루엣 계수를 비교"
   ]
  },
  {
   "cell_type": "code",
   "execution_count": null,
   "id": "8c64dadc-bd26-4607-8531-3fffb0a93d38",
   "metadata": {},
   "outputs": [],
   "source": [
    "def silhouette_avg_k(a,b):\n",
    "    avg_silhouette = list()\n",
    "    print('< Average_Silhouette_Score by k >')\n",
    "    print()\n",
    "    \n",
    "    i = 0\n",
    "    for i in range(a,b):\n",
    "        model_kmeans = kmeans(i).fit(x)\n",
    "        \n",
    "        average_score = silhouette_score( x, model_kmeans.labels_ )\n",
    "        print( 'k =',i,': ', average_score )\n",
    "        \n",
    "        avg_silhouette.append(average_score)\n",
    "    \n",
    "    print()\n",
    "    plt.plot(range(a,b), avg_silhouette, '-o')\n",
    "    plt.xlabel('Number of Clusters (k)')\n",
    "    plt.ylabel('Average_Silhouette')\n",
    "    plt.show()\n",
    "\n",
    "    \n",
    "# k를 2부터 6까지 변화시켜가며 평균 실루엣 계수를 측정\n",
    "silhouette_avg_k(2,7)"
   ]
  },
  {
   "cell_type": "code",
   "execution_count": null,
   "id": "b108cb46-89fe-44bb-9859-d8f70de09750",
   "metadata": {
    "tags": []
   },
   "outputs": [],
   "source": [
    "def silhouette_avg_vs_group(a,b):\n",
    "    print('< Average_Silhouette_Score >')\n",
    "    print()\n",
    "    \n",
    "    i = 0\n",
    "    for i in range(a,b):\n",
    "        model_kmeans = kmeans(i).fit(x)\n",
    "        \n",
    "        score_samples = silhouette_samples( x, model_kmeans.labels_ )\n",
    "        average_score = silhouette_score( x, model_kmeans.labels_ )\n",
    "        \n",
    "        df = pd.DataFrame( { 'group' : model_kmeans.labels_,\n",
    "                             'Coeff' : score_samples,\n",
    "                             'Avg' : average_score } )\n",
    "        df['Coeff-avg'] = df['Coeff'] - df['Avg']\n",
    "        \n",
    "        display( df.groupby(['Avg','group'])[ ['Coeff','Coeff-avg'] ].mean() )\n",
    "        \n",
    "\n",
    "# 군집별 실루엣 계수와 평균 실루엣 계수를 비교        \n",
    "silhouette_avg_vs_group(2,7)"
   ]
  },
  {
   "cell_type": "markdown",
   "id": "525bdd95-97b9-4ec1-8906-774447a44905",
   "metadata": {},
   "source": [
    "## 클러스터별 평균 실루엣 계수의 시각화"
   ]
  },
  {
   "cell_type": "raw",
   "id": "d21fc7ca-815b-4678-b902-c04226e47272",
   "metadata": {
    "tags": []
   },
   "source": [
    "### 여러개의 클러스터링 갯수를 List로 입력 받아 각각의 실루엣 계수를 면적으로 시각화한 함수 작성\n",
    "\n",
    "def visualize_silhouette_kmeans(cluster_lists, X_features): \n",
    "\n",
    "    # 입력값으로 클러스터링 갯수들을 리스트로 받아서, 각 갯수별로 클러스터링을 적용하고 실루엣 개수를 구함\n",
    "    n_cols = len(cluster_lists)\n",
    "    \n",
    "    # plt.subplots()으로 리스트에 기재된 클러스터링 수만큼의 sub figures를 가지는 axs 생성 \n",
    "    fig, axs = plt.subplots(figsize=(4*n_cols, 4), nrows=1, ncols=n_cols)\n",
    "    \n",
    "    # 리스트에 기재된 클러스터링 갯수들을 차례로 iteration 수행하면서 실루엣 개수 시각화\n",
    "    for ind, n_cluster in enumerate(cluster_lists):\n",
    "        \n",
    "        # KMeans 클러스터링 수행하고, 실루엣 스코어와 개별 데이터의 실루엣 값 계산. \n",
    "        clusterer = KMeans(n_clusters = n_cluster, max_iter=500, random_state=0)\n",
    "        cluster_labels = clusterer.fit_predict(X_features)\n",
    "        \n",
    "        sil_avg = silhouette_score(X_features, cluster_labels)\n",
    "        sil_values = silhouette_samples(X_features, cluster_labels)\n",
    "        \n",
    "        y_lower = 10\n",
    "        axs[ind].set_title('Number of Cluster : '+ str(n_cluster)+'\\n' \\\n",
    "                          'Silhouette Score :' + str(round(sil_avg,3)) )\n",
    "        axs[ind].set_xlabel(\"The silhouette coefficient values\")\n",
    "        axs[ind].set_ylabel(\"Cluster label\")\n",
    "        axs[ind].set_xlim([-0.1, 1])\n",
    "        axs[ind].set_ylim([0, len(X_features) + (n_cluster + 1) * 10])\n",
    "        axs[ind].set_yticks([])  # Clear the yaxis labels / ticks\n",
    "        axs[ind].set_xticks([0, 0.2, 0.4, 0.6, 0.8, 1])\n",
    "        \n",
    "        # 클러스터링 갯수별로 fill_betweenx( )형태의 막대 그래프 표현. \n",
    "        for i in range(n_cluster):\n",
    "            ith_cluster_sil_values = sil_values[cluster_labels==i]\n",
    "            ith_cluster_sil_values.sort()\n",
    "            \n",
    "            size_cluster_i = ith_cluster_sil_values.shape[0]\n",
    "            y_upper = y_lower + size_cluster_i\n",
    "            \n",
    "            color = cm.nipy_spectral(float(i) / n_cluster)\n",
    "            axs[ind].fill_betweenx(np.arange(y_lower, y_upper), 0, ith_cluster_sil_values, \\\n",
    "                                facecolor=color, edgecolor=color, alpha=0.7)\n",
    "            axs[ind].text(-0.05, y_lower + 0.5 * size_cluster_i, str(i))\n",
    "            y_lower = y_upper + 10\n",
    "            \n",
    "        axs[ind].axvline(x=sil_avg, color=\"red\", linestyle=\"--\")"
   ]
  },
  {
   "cell_type": "raw",
   "id": "5abc3bb1-fe4a-45b9-9768-ec9ab793ac5a",
   "metadata": {},
   "source": [
    "# cluster 개수를 2개, 3개, 4개, 5개 일때의 클러스터별 실루엣 계수 평균값을 시각화 \n",
    "visualize_silhouette_kmeans( list(range(2,6)), x)"
   ]
  },
  {
   "cell_type": "code",
   "execution_count": null,
   "id": "d3407269-6fcd-4491-ac48-36b1633e859a",
   "metadata": {},
   "outputs": [],
   "source": [
    "### 여러개의 클러스터링 갯수를 List로 입력 받아 각각의 클러스터링 결과를 시각화 \n",
    "def visualize_kmeans_multi_PCA(cluster_lists, X_features):\n",
    "    \n",
    "    from sklearn.cluster import KMeans\n",
    "    from sklearn.decomposition import PCA\n",
    "    import pandas as pd\n",
    "    import numpy as np\n",
    "    \n",
    "    # plt.subplots()으로 리스트에 기재된 클러스터링 만큼의 sub figures를 가지는 axs 생성 \n",
    "    n_cols = len(cluster_lists)\n",
    "    fig, axs = plt.subplots(figsize=(4*n_cols, 4), nrows=1, ncols=n_cols)\n",
    "    \n",
    "    # 입력 데이터의 FEATURE가 여러개일 경우 2차원 데이터 시각화가 어려우므로 PCA 변환하여 2차원 시각화\n",
    "    pca = PCA(n_components=2)\n",
    "    pca_transformed = pca.fit_transform(X_features)\n",
    "    dataframe = pd.DataFrame(pca_transformed, columns=['PCA1','PCA2'])\n",
    "    \n",
    "     # 리스트에 기재된 클러스터링 갯수들을 차례로 iteration 수행하면서 KMeans 클러스터링 수행하고 시각화\n",
    "    for ind, n_cluster in enumerate(cluster_lists):\n",
    "        \n",
    "        # KMeans 클러스터링으로 클러스터링 결과를 dataframe에 저장. \n",
    "        clusterer = KMeans(n_clusters = n_cluster, max_iter=500, random_state=0)\n",
    "        cluster_labels = clusterer.fit_predict(pca_transformed)\n",
    "        dataframe['cluster']=cluster_labels\n",
    "        \n",
    "        unique_labels = np.unique(clusterer.labels_)\n",
    "        markers=['o', 's', '^', 'x', '*']\n",
    "       \n",
    "        # 클러스터링 결과값 별로 scatter plot 으로 시각화\n",
    "        for label in unique_labels:\n",
    "            label_df = dataframe[dataframe['cluster']==label]\n",
    "            if label == -1:\n",
    "                cluster_legend = 'Noise'\n",
    "            else :\n",
    "                cluster_legend = 'Cluster '+str(label)           \n",
    "            axs[ind].scatter(x=label_df['PCA1'], y=label_df['PCA2'], s=70,\\\n",
    "                        edgecolor='k', marker=markers[label], label=cluster_legend)\n",
    "\n",
    "        axs[ind].set_title('Number of Cluster : '+ str(n_cluster))    \n",
    "        axs[ind].legend(loc='upper right')\n",
    "    \n",
    "    plt.show()"
   ]
  },
  {
   "cell_type": "code",
   "execution_count": null,
   "id": "c11dc1ca-9ea5-4566-9423-1a21cc598c44",
   "metadata": {},
   "outputs": [],
   "source": [
    "visualize_kmeans_multi_PCA( list(range(2,6)), x)"
   ]
  },
  {
   "cell_type": "code",
   "execution_count": null,
   "id": "326c5286-3827-4c0c-af76-c0390fa28975",
   "metadata": {},
   "outputs": [],
   "source": [
    "x"
   ]
  }
 ],
 "metadata": {
  "kernelspec": {
   "display_name": "Python 3",
   "language": "python",
   "name": "python3"
  },
  "language_info": {
   "codemirror_mode": {
    "name": "ipython",
    "version": 3
   },
   "file_extension": ".py",
   "mimetype": "text/x-python",
   "name": "python",
   "nbconvert_exporter": "python",
   "pygments_lexer": "ipython3",
   "version": "3.8.11"
  },
  "toc-autonumbering": true
 },
 "nbformat": 4,
 "nbformat_minor": 5
}
