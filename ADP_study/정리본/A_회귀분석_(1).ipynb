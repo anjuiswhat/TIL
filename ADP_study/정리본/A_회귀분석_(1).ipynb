{
 "cells": [
  {
   "cell_type": "markdown",
   "id": "d9fa6f99-276f-41ba-b78b-66bdd9301d07",
   "metadata": {
    "tags": []
   },
   "source": [
    "## - 불러올 패키지 목록"
   ]
  },
  {
   "cell_type": "code",
   "execution_count": 1,
   "id": "ed3ea6d5-a92e-4f7c-a0ab-515871843994",
   "metadata": {},
   "outputs": [],
   "source": [
    "# 수학 함수 패키지\n",
    "import math\n",
    "\n",
    "# 데이터 핸들링을 위한 패키지\n",
    "import numpy as np\n",
    "import pandas as pd\n",
    "\n",
    "# statsmodels 패키지\n",
    "from statsmodels.api import *\n",
    "from statsmodels.stats.api import *\n",
    "from statsmodels.stats.proportion import *\n",
    "from statsmodels.stats.diagnostic import *\n",
    "from statsmodels.stats.weightstats import *\n",
    "from statsmodels.stats.outliers_influence import *  # 다중공선성 확인 관련 패키지\n",
    "from statsmodels.formula.api import *\n",
    "from statsmodels.multivariate.pca import PCA as pca  # 대문자로 사용할 경우 sklearn 의 PCA와 겹침\n",
    "\n",
    "# SciPy 패키지\n",
    "import scipy as sp\n",
    "import scipy.stats as stats  # 통계 분석을 위한 패키지\n",
    "from scipy.cluster.hierarchy import *  # 계층적 군집 분석을 위한 패키지\n",
    "\n",
    "# pingouin 패키지\n",
    "import pingouin as pg\n",
    "\n",
    "# scikit-learn 패키지\n",
    "from sklearn.preprocessing import *  # 데이터 전처리를 위한 패키지\n",
    "from sklearn.feature_selection import *  # 알고리즘에 큰 영향을 미치는 feature를 우선순위대로 선택하는 기능 제공\n",
    "from sklearn.model_selection import *  # 데이터 분리, 검증 및 파라미터 튜닝을 위한 패키지\n",
    "from sklearn.metrics import *  # 모델에 대한 다양한 성능 평가를 위한 패키지\n",
    "from sklearn.linear_model import *    # 선형 회귀 분석을 위한 패키지 (로지스틱 회귀 포함)\n",
    "from sklearn.cluster import *  # 비지도 군집화 알고리즘 제공\n",
    "from sklearn.tree import *  # 의사결정나무 알고리즘 제공\n",
    "from sklearn.ensemble import *  # 앙상블 알고리즘 제공\n",
    "from sklearn.neighbors import *  # kNN 알고리즘 제공\n",
    "from sklearn.svm import *  # 서포트 벡터 머신 알고리즘 제공\n",
    "from sklearn.mixture import *  # 혼합분포군집(GMM 등) 알고리즘 제공\n",
    "from sklearn.decomposition import *  # 차원축소 알고리즘 제공\n",
    "\n",
    "# mlxtend 패키지\n",
    "from mlxtend.preprocessing import *  # 연관분석에 필요한 트랜잭션 전처리 알고리즘 포함\n",
    "from mlxtend.frequent_patterns import *  # 연관분석에 사용되는 알고리즘 포함 \n",
    "from mlxtend.plotting import plot_decision_regions\n",
    "from mlxtend.feature_selection import SequentialFeatureSelector as SFS  # 변수선택 알고리즘 포함\n",
    "from mlxtend.plotting import plot_sequential_feature_selection as plot_sfs\n",
    "\n",
    "# missingno 패키지 (데이터 전처리 전 결측치 확인)\n",
    "import missingno as msno\n",
    "\n",
    "# label별 데이터 카운트를 위한 모듈\n",
    "from collections import Counter  # https://docs.python.org/3/library/collections.html\n",
    "\n",
    "# 시각화를 위한 패키지\n",
    "import seaborn as sb\n",
    "import matplotlib.pyplot as plt\n",
    "import matplotlib.cm as cm  # 내장 colormap, colormap 처리 유틸리티\n",
    "from matplotlib.colors import ListedColormap  # colors and colormaps\n",
    "from mlxtend.plotting import plot_decision_regions\n",
    "%matplotlib inline\n",
    "# %matplotlib inline 의 목적은 plt.show()함수가 호출되지 않은 경우에도 matplotlib 다이어그램을 렌더링하는 것이다.\n",
    "# 그러나 현재 업데이트된 버전의 주피터 노트북 버전에서는 %matplotlib inline 를 사용하지 않더라도 Matplotlib 다이어그램을 개체로 표현한다.\n",
    "# 따라서 굳이 필요하지는 않다. 그러나 코드를 깨끗하게 유지하고 자신이 만든 플롯을 호출하기 위해 여전히 관례적으로 권장된다.\n",
    "\n",
    "# 경고 메시지 무시\n",
    "import warnings\n",
    "warnings.filterwarnings('ignore')\n",
    "\n",
    "# 그래프 스타일 서식 지정\n",
    "plt.style.use('default')\n",
    "\n",
    "# 한글 폰트 설정\n",
    "plt.rc('font', family='Malgun Gothic')\n",
    "\n",
    "# 그래프 축의 음수 표현 오류 방지\n",
    "plt.rcParams['axes.unicode_minus'] = False"
   ]
  },
  {
   "cell_type": "markdown",
   "id": "97245105-ae6b-4cb5-a3b8-a676017f266e",
   "metadata": {},
   "source": [
    "## [ statsmodels 패키지의 API 관련 참고 ]\n",
    "\n",
    "https://www.statsmodels.org/stable/api.html\n",
    "\n",
    "회귀 등의 분석을 위해 `statsmodels.api` 와 `statsmodels.formula.api` 둘 다 사용 가능하지만 용법이 조금씩 다르며, `statsmodels.formula.api`와는 달리 `statsmodels.api`의 경우 회귀분석 수행 전에 상수항을 추가시키는 작업이 필요하다."
   ]
  },
  {
   "cell_type": "raw",
   "id": "e4cf3645-56fc-4397-8cf2-66f96b3d62e0",
   "metadata": {},
   "source": []
  },
  {
   "cell_type": "markdown",
   "id": "96e0c943-0774-4527-9312-9e80d765160f",
   "metadata": {},
   "source": [
    "# 단순 회귀분석"
   ]
  },
  {
   "cell_type": "raw",
   "id": "8800d1c7-3398-428a-8bd7-a0eaa861ebd4",
   "metadata": {},
   "source": [
    "[ 문제 ]\n",
    "Sales.csv 파일은 12개 기업에 대해 1년 광고비와 매출액을 조사하여 얻은 데이터이다.\n",
    "이 데이터에 대해 매출액을 반응변수로 하고 광고비를 설명변수로 하여 선형 회귀분석을 수행하라."
   ]
  },
  {
   "cell_type": "code",
   "execution_count": 2,
   "id": "afe0b8ee-33ed-4629-bc81-60a0830c0fce",
   "metadata": {},
   "outputs": [
    {
     "data": {
      "text/html": [
       "<div>\n",
       "<style scoped>\n",
       "    .dataframe tbody tr th:only-of-type {\n",
       "        vertical-align: middle;\n",
       "    }\n",
       "\n",
       "    .dataframe tbody tr th {\n",
       "        vertical-align: top;\n",
       "    }\n",
       "\n",
       "    .dataframe thead th {\n",
       "        text-align: right;\n",
       "    }\n",
       "</style>\n",
       "<table border=\"1\" class=\"dataframe\">\n",
       "  <thead>\n",
       "    <tr style=\"text-align: right;\">\n",
       "      <th></th>\n",
       "      <th>Adver</th>\n",
       "      <th>Sales</th>\n",
       "    </tr>\n",
       "    <tr>\n",
       "      <th>Company</th>\n",
       "      <th></th>\n",
       "      <th></th>\n",
       "    </tr>\n",
       "  </thead>\n",
       "  <tbody>\n",
       "    <tr>\n",
       "      <th>1</th>\n",
       "      <td>11</td>\n",
       "      <td>23</td>\n",
       "    </tr>\n",
       "    <tr>\n",
       "      <th>2</th>\n",
       "      <td>19</td>\n",
       "      <td>32</td>\n",
       "    </tr>\n",
       "    <tr>\n",
       "      <th>3</th>\n",
       "      <td>23</td>\n",
       "      <td>36</td>\n",
       "    </tr>\n",
       "    <tr>\n",
       "      <th>4</th>\n",
       "      <td>26</td>\n",
       "      <td>46</td>\n",
       "    </tr>\n",
       "    <tr>\n",
       "      <th>5</th>\n",
       "      <td>56</td>\n",
       "      <td>93</td>\n",
       "    </tr>\n",
       "    <tr>\n",
       "      <th>6</th>\n",
       "      <td>62</td>\n",
       "      <td>99</td>\n",
       "    </tr>\n",
       "    <tr>\n",
       "      <th>7</th>\n",
       "      <td>29</td>\n",
       "      <td>49</td>\n",
       "    </tr>\n",
       "    <tr>\n",
       "      <th>8</th>\n",
       "      <td>30</td>\n",
       "      <td>50</td>\n",
       "    </tr>\n",
       "    <tr>\n",
       "      <th>9</th>\n",
       "      <td>38</td>\n",
       "      <td>65</td>\n",
       "    </tr>\n",
       "    <tr>\n",
       "      <th>10</th>\n",
       "      <td>39</td>\n",
       "      <td>70</td>\n",
       "    </tr>\n",
       "    <tr>\n",
       "      <th>11</th>\n",
       "      <td>46</td>\n",
       "      <td>71</td>\n",
       "    </tr>\n",
       "    <tr>\n",
       "      <th>12</th>\n",
       "      <td>49</td>\n",
       "      <td>89</td>\n",
       "    </tr>\n",
       "  </tbody>\n",
       "</table>\n",
       "</div>"
      ],
      "text/plain": [
       "         Adver  Sales\n",
       "Company              \n",
       "1           11     23\n",
       "2           19     32\n",
       "3           23     36\n",
       "4           26     46\n",
       "5           56     93\n",
       "6           62     99\n",
       "7           29     49\n",
       "8           30     50\n",
       "9           38     65\n",
       "10          39     70\n",
       "11          46     71\n",
       "12          49     89"
      ]
     },
     "execution_count": 2,
     "metadata": {},
     "output_type": "execute_result"
    }
   ],
   "source": [
    "df_sales = pd.read_csv( r'C:\\Users\\Boanerges\\GitHub\\TIL\\rawdata\\Sales.csv',\n",
    "                        index_col = 'Company')\n",
    "\n",
    "df_sales"
   ]
  },
  {
   "cell_type": "code",
   "execution_count": 3,
   "id": "ba7855c5-4d79-42ec-b466-2e4f7d760798",
   "metadata": {},
   "outputs": [
    {
     "data": {
      "image/png": "[encoded data removed]",
      "text/plain": [
       "<Figure size 1500x500 with 2 Axes>"
      ]
     },
     "metadata": {},
     "output_type": "display_data"
    }
   ],
   "source": [
    "plt.figure( figsize = (15,5) )\n",
    "\n",
    "ax1 = plt.subplot( 121 )\n",
    "ax1 = sb.distplot( df_sales.Adver, label = 'Adver', color = 'blue' )\n",
    "ax1.set( title = \"Frequency of Adver\")\n",
    "plt.legend()\n",
    "\n",
    "ax2 = plt.subplot( 122 )\n",
    "ax2 = sb.distplot( df_sales.Sales, label = 'Sales', color = 'red'  )\n",
    "ax2.set( title = \"Frequency of Sales\")\n",
    "plt.legend()\n",
    "\n",
    "plt.show()"
   ]
  },
  {
   "cell_type": "code",
   "execution_count": 4,
   "id": "ad083464-82c7-476a-b1cf-3c92554e37b9",
   "metadata": {},
   "outputs": [
    {
     "data": {
      "text/plain": [
       "<seaborn.axisgrid.PairGrid at 0x1e82b3eaf10>"
      ]
     },
     "execution_count": 4,
     "metadata": {},
     "output_type": "execute_result"
    },
    {
     "data": {
      "image/png": "[encoded data removed]",
      "text/plain": [
       "<Figure size 500x500 with 6 Axes>"
      ]
     },
     "metadata": {},
     "output_type": "display_data"
    }
   ],
   "source": [
    "sb.pairplot( df_sales )"
   ]
  },
  {
   "cell_type": "code",
   "execution_count": 5,
   "id": "fb61b979-18d1-4250-8ca1-6ca823ba278c",
   "metadata": {},
   "outputs": [
    {
     "data": {
      "image/png": "[encoded data removed]",
      "text/plain": [
       "<Figure size 600x600 with 3 Axes>"
      ]
     },
     "metadata": {},
     "output_type": "display_data"
    }
   ],
   "source": [
    "sb.jointplot( x = df_sales.Adver,\n",
    "              y = df_sales.Sales,\n",
    "              kind = 'reg' )\n",
    "\n",
    "plt.show()"
   ]
  },
  {
   "cell_type": "raw",
   "id": "aa5945ff-76c9-49e3-915d-c4dec25d4464",
   "metadata": {},
   "source": []
  },
  {
   "cell_type": "markdown",
   "id": "1a93a0f3-fde0-4d68-888a-c0e49365ed0d",
   "metadata": {},
   "source": [
    "## 선형 회귀모델 생성 및 회귀분석\n",
    "\n",
    "- 모델 생성  \n",
    "`statsmodels.formula.api.ols( formula, data, subset=None, drop_cols=None, *args, **kwargs )`  \n",
    "https://www.statsmodels.org/stable/generated/statsmodels.formula.api.ols.html\n",
    "\n",
    "- 모델 적합  \n",
    "`model.fit(method='pinv', cov_type='nonrobust', cov_kwds=None, use_t=None, **kwargs)`  \n",
    "Returns : `RegressionResults`  \n",
    "https://www.statsmodels.org/stable/generated/statsmodels.regression.linear_model.OLS.fit.html\n",
    "\n",
    "- 선형계수 출력  \n",
    "`RegressionResults.params`\n",
    "\n",
    "- 회귀 결과 요약  \n",
    "`RegressionResults.summary( yname=None, xname=None, title=None, alpha=0.05 )`  \n",
    "https://www.statsmodels.org/stable/generated/statsmodels.regression.linear_model.RegressionResults.summary.html\n",
    "\n",
    "- 적합된 모델에 대한 분산분석표 출력  \n",
    "`statsmodels.stats.anova.anova_lm( *args, **kwargs )`  \n",
    "https://www.statsmodels.org/stable/generated/statsmodels.stats.anova.anova_lm.html"
   ]
  },
  {
   "cell_type": "code",
   "execution_count": 6,
   "id": "55e8e50d-deef-4b26-9db8-ef37f75eba8a",
   "metadata": {},
   "outputs": [
    {
     "name": "stdout",
     "output_type": "stream",
     "text": [
      "Intercept    3.284798\n",
      "Adver        1.597155\n",
      "dtype: float64\n",
      "\n",
      "                            OLS Regression Results                            \n",
      "==============================================================================\n",
      "Dep. Variable:                  Sales   R-squared:                       0.979\n",
      "Model:                            OLS   Adj. R-squared:                  0.976\n",
      "Method:                 Least Squares   F-statistic:                     455.5\n",
      "Date:                Wed, 01 Sep 2021   Prob (F-statistic):           1.14e-09\n",
      "Time:                        23:38:24   Log-Likelihood:                -32.059\n",
      "No. Observations:                  12   AIC:                             68.12\n",
      "Df Residuals:                      10   BIC:                             69.09\n",
      "Df Model:                           1                                         \n",
      "Covariance Type:            nonrobust                                         \n",
      "==============================================================================\n",
      "                 coef    std err          t      P>|t|      [0.025      0.975]\n",
      "------------------------------------------------------------------------------\n",
      "Intercept      3.2848      2.889      1.137      0.282      -3.153       9.723\n",
      "Adver          1.5972      0.075     21.343      0.000       1.430       1.764\n",
      "==============================================================================\n",
      "Omnibus:                        0.879   Durbin-Watson:                   2.470\n",
      "Prob(Omnibus):                  0.644   Jarque-Bera (JB):                0.379\n",
      "Skew:                           0.419   Prob(JB):                        0.828\n",
      "Kurtosis:                       2.768   Cond. No.                         101.\n",
      "==============================================================================\n",
      "\n",
      "Notes:\n",
      "[1] Standard Errors assume that the covariance matrix of the errors is correctly specified.\n"
     ]
    }
   ],
   "source": [
    "model_sales = ols( formula = 'Sales ~ Adver', data = df_sales )\n",
    "\n",
    "fit_sales = model_sales.fit()\n",
    "\n",
    "print( fit_sales.params )\n",
    "print()\n",
    "\n",
    "print( fit_sales.summary(alpha = 0.05) )"
   ]
  },
  {
   "cell_type": "code",
   "execution_count": 7,
   "id": "03f4d85a-cba2-4d71-a904-605c23a0fd20",
   "metadata": {},
   "outputs": [
    {
     "data": {
      "text/html": [
       "<div>\n",
       "<style scoped>\n",
       "    .dataframe tbody tr th:only-of-type {\n",
       "        vertical-align: middle;\n",
       "    }\n",
       "\n",
       "    .dataframe tbody tr th {\n",
       "        vertical-align: top;\n",
       "    }\n",
       "\n",
       "    .dataframe thead th {\n",
       "        text-align: right;\n",
       "    }\n",
       "</style>\n",
       "<table border=\"1\" class=\"dataframe\">\n",
       "  <thead>\n",
       "    <tr style=\"text-align: right;\">\n",
       "      <th></th>\n",
       "      <th>df</th>\n",
       "      <th>sum_sq</th>\n",
       "      <th>mean_sq</th>\n",
       "      <th>F</th>\n",
       "      <th>PR(&gt;F)</th>\n",
       "    </tr>\n",
       "  </thead>\n",
       "  <tbody>\n",
       "    <tr>\n",
       "      <th>Adver</th>\n",
       "      <td>1.0</td>\n",
       "      <td>6695.274575</td>\n",
       "      <td>6695.274575</td>\n",
       "      <td>455.537009</td>\n",
       "      <td>1.135673e-09</td>\n",
       "    </tr>\n",
       "    <tr>\n",
       "      <th>Residual</th>\n",
       "      <td>10.0</td>\n",
       "      <td>146.975425</td>\n",
       "      <td>14.697543</td>\n",
       "      <td>NaN</td>\n",
       "      <td>NaN</td>\n",
       "    </tr>\n",
       "  </tbody>\n",
       "</table>\n",
       "</div>"
      ],
      "text/plain": [
       "            df       sum_sq      mean_sq           F        PR(>F)\n",
       "Adver      1.0  6695.274575  6695.274575  455.537009  1.135673e-09\n",
       "Residual  10.0   146.975425    14.697543         NaN           NaN"
      ]
     },
     "execution_count": 7,
     "metadata": {},
     "output_type": "execute_result"
    }
   ],
   "source": [
    "anova_lm(fit_sales, test = 'F', typ = 1)"
   ]
  },
  {
   "cell_type": "code",
   "execution_count": 8,
   "id": "fcef8476-b06b-46d5-8897-6acf3a80f252",
   "metadata": {},
   "outputs": [
    {
     "name": "stdout",
     "output_type": "stream",
     "text": [
      "                            OLS Regression Results                            \n",
      "==============================================================================\n",
      "Dep. Variable:                  Sales   R-squared:                       0.979\n",
      "Model:                            OLS   Adj. R-squared:                  0.976\n",
      "Method:                 Least Squares   F-statistic:                     455.5\n",
      "Date:                Wed, 01 Sep 2021   Prob (F-statistic):           1.14e-09\n",
      "Time:                        23:38:24   Log-Likelihood:                -32.059\n",
      "No. Observations:                  12   AIC:                             68.12\n",
      "Df Residuals:                      10   BIC:                             69.09\n",
      "Df Model:                           1                                         \n",
      "Covariance Type:            nonrobust                                         \n",
      "==============================================================================\n",
      "                 coef    std err          t      P>|t|      [0.025      0.975]\n",
      "------------------------------------------------------------------------------\n",
      "const          3.2848      2.889      1.137      0.282      -3.153       9.723\n",
      "Adver          1.5972      0.075     21.343      0.000       1.430       1.764\n",
      "==============================================================================\n",
      "Omnibus:                        0.879   Durbin-Watson:                   2.470\n",
      "Prob(Omnibus):                  0.644   Jarque-Bera (JB):                0.379\n",
      "Skew:                           0.419   Prob(JB):                        0.828\n",
      "Kurtosis:                       2.768   Cond. No.                         101.\n",
      "==============================================================================\n",
      "\n",
      "Notes:\n",
      "[1] Standard Errors assume that the covariance matrix of the errors is correctly specified.\n"
     ]
    }
   ],
   "source": [
    "# 참고\n",
    "# `statsmodels.api.OLS` 사용 시 \n",
    "# fomula 형식의 파라미터 입력 불가. X, Y 를 따로 설정하여 입력\n",
    "# 상수항을 따로 추가시켜주는 작업 필요.\n",
    "\n",
    "Y = df_sales.Sales\n",
    "X = df_sales.Adver\n",
    "\n",
    "X = add_constant(X)  # 상수항을 추가\n",
    "\n",
    "model_2_sales = OLS(Y, X)\n",
    "\n",
    "fit_2_sales = model_2_sales.fit()\n",
    "\n",
    "print( fit_2_sales.summary(alpha = 0.05) )"
   ]
  },
  {
   "cell_type": "markdown",
   "id": "8b035dd6-af5b-44ae-a8b1-54a8f8a19329",
   "metadata": {},
   "source": [
    "### 산점도와 회귀직선 출력"
   ]
  },
  {
   "cell_type": "code",
   "execution_count": 9,
   "id": "f1723a62-4613-474f-9957-e5f28bc7b573",
   "metadata": {},
   "outputs": [
    {
     "data": {
      "image/png": "[encoded data removed]",
      "text/plain": [
       "<Figure size 1600x1200 with 2 Axes>"
      ]
     },
     "metadata": {},
     "output_type": "display_data"
    }
   ],
   "source": [
    "# 산점도와 회귀직선 출력\n",
    "\n",
    "plt.figure(figsize=(16,12))\n",
    "\n",
    "ax1 = plt.subplot(221)\n",
    "ax1 = sb.regplot(x = 'Adver', y = 'Sales',\n",
    "                 data = df_sales)\n",
    "\n",
    "ax2 = plt.subplot(222)\n",
    "ax2 = sb.regplot(x = 'Adver', y = 'Sales',\n",
    "                 data = df_sales,\n",
    "                 lowess = True)"
   ]
  },
  {
   "cell_type": "code",
   "execution_count": 10,
   "id": "de918980-e877-4a15-8eb4-1fd64ce0a3c5",
   "metadata": {},
   "outputs": [
    {
     "data": {
      "text/plain": [
       "<seaborn.axisgrid.FacetGrid at 0x1e82dcf5ca0>"
      ]
     },
     "execution_count": 10,
     "metadata": {},
     "output_type": "execute_result"
    },
    {
     "data": {
      "image/png": "[encoded data removed]",
      "text/plain": [
       "<Figure size 500x500 with 1 Axes>"
      ]
     },
     "metadata": {},
     "output_type": "display_data"
    }
   ],
   "source": [
    "sb.lmplot(x = 'Adver', y = 'Sales', data = df_sales)"
   ]
  },
  {
   "cell_type": "raw",
   "id": "78f62d07-746a-4e7b-b645-15a37cf57468",
   "metadata": {},
   "source": []
  },
  {
   "cell_type": "markdown",
   "id": "df482d84-da56-4ad3-8b03-efe9e80de27f",
   "metadata": {},
   "source": [
    "## 반응변수에 대한 예측\n",
    "\n",
    "- 적합된 회귀 모델을 사용하여 예측  \n",
    "`RegressionResults.predict( exog=None, transform=True, *args, **kwargs )`  \n",
    "https://www.statsmodels.org/stable/generated/statsmodels.regression.linear_model.RegressionResults.predict.html\n",
    "\n",
    "- 예측 결과를 계산  \n",
    "`RegressionResults.get_prediction( exog=None, transform=True, weights=None, row_labels=None, **kwargs )`  \n",
    "Returns : `PredictionResults`  \n",
    "https://www.statsmodels.org/stable/generated/statsmodels.regression.linear_model.RegressionResults.get_prediction.html\n",
    "\n",
    "- 계산된 예측 결과를 데이터프레임으로 반환  \n",
    "`PredictionResults.summary_frame( alpha=0.05 )`  \n",
    "https://www.statsmodels.org/stable/generated/statsmodels.regression.linear_model.PredictionResults.summary_frame.html\n",
    "\n",
    "- RMSE 출력  \n",
    "`sklearn.metrics.mean_squared_error( y_true, y_pred, *, sample_weight=None, multioutput='uniform_average', squared=True )`  \n",
    "https://scikit-learn.org/stable/modules/generated/sklearn.metrics.mean_squared_error.html"
   ]
  },
  {
   "cell_type": "code",
   "execution_count": 11,
   "id": "6eaaae40-1fc1-4dd5-bb8e-e30898584cd0",
   "metadata": {},
   "outputs": [
    {
     "data": {
      "text/plain": [
       "array([ 20.85350521,  33.63074676,  40.01936754,  44.81083312,\n",
       "        92.72548895, 102.30842012,  49.6022987 ,  51.1994539 ,\n",
       "        63.97669545,  65.57385065,  76.75393701,  81.54540259])"
      ]
     },
     "execution_count": 11,
     "metadata": {},
     "output_type": "execute_result"
    }
   ],
   "source": [
    "# 예측값\n",
    "fit_sales.predict()"
   ]
  },
  {
   "cell_type": "code",
   "execution_count": 12,
   "id": "fb44fc3d-bef5-450f-94f3-7a43aec329a8",
   "metadata": {},
   "outputs": [
    {
     "data": {
      "text/html": [
       "<div>\n",
       "<style scoped>\n",
       "    .dataframe tbody tr th:only-of-type {\n",
       "        vertical-align: middle;\n",
       "    }\n",
       "\n",
       "    .dataframe tbody tr th {\n",
       "        vertical-align: top;\n",
       "    }\n",
       "\n",
       "    .dataframe thead th {\n",
       "        text-align: right;\n",
       "    }\n",
       "</style>\n",
       "<table border=\"1\" class=\"dataframe\">\n",
       "  <thead>\n",
       "    <tr style=\"text-align: right;\">\n",
       "      <th></th>\n",
       "      <th>mean</th>\n",
       "      <th>mean_se</th>\n",
       "      <th>mean_ci_lower</th>\n",
       "      <th>mean_ci_upper</th>\n",
       "      <th>obs_ci_lower</th>\n",
       "      <th>obs_ci_upper</th>\n",
       "    </tr>\n",
       "    <tr>\n",
       "      <th>Company</th>\n",
       "      <th></th>\n",
       "      <th></th>\n",
       "      <th></th>\n",
       "      <th></th>\n",
       "      <th></th>\n",
       "      <th></th>\n",
       "    </tr>\n",
       "  </thead>\n",
       "  <tbody>\n",
       "    <tr>\n",
       "      <th>1</th>\n",
       "      <td>20.854</td>\n",
       "      <td>2.152</td>\n",
       "      <td>16.058</td>\n",
       "      <td>25.649</td>\n",
       "      <td>11.057</td>\n",
       "      <td>30.650</td>\n",
       "    </tr>\n",
       "    <tr>\n",
       "      <th>2</th>\n",
       "      <td>33.631</td>\n",
       "      <td>1.667</td>\n",
       "      <td>29.916</td>\n",
       "      <td>37.346</td>\n",
       "      <td>24.316</td>\n",
       "      <td>42.946</td>\n",
       "    </tr>\n",
       "    <tr>\n",
       "      <th>3</th>\n",
       "      <td>40.019</td>\n",
       "      <td>1.457</td>\n",
       "      <td>36.773</td>\n",
       "      <td>43.266</td>\n",
       "      <td>30.881</td>\n",
       "      <td>49.158</td>\n",
       "    </tr>\n",
       "    <tr>\n",
       "      <th>4</th>\n",
       "      <td>44.811</td>\n",
       "      <td>1.322</td>\n",
       "      <td>41.865</td>\n",
       "      <td>47.757</td>\n",
       "      <td>35.775</td>\n",
       "      <td>53.847</td>\n",
       "    </tr>\n",
       "    <tr>\n",
       "      <th>5</th>\n",
       "      <td>92.725</td>\n",
       "      <td>1.881</td>\n",
       "      <td>88.533</td>\n",
       "      <td>96.918</td>\n",
       "      <td>83.210</td>\n",
       "      <td>102.241</td>\n",
       "    </tr>\n",
       "    <tr>\n",
       "      <th>6</th>\n",
       "      <td>102.308</td>\n",
       "      <td>2.260</td>\n",
       "      <td>97.273</td>\n",
       "      <td>107.344</td>\n",
       "      <td>92.392</td>\n",
       "      <td>112.224</td>\n",
       "    </tr>\n",
       "    <tr>\n",
       "      <th>7</th>\n",
       "      <td>49.602</td>\n",
       "      <td>1.214</td>\n",
       "      <td>46.897</td>\n",
       "      <td>52.307</td>\n",
       "      <td>40.642</td>\n",
       "      <td>58.562</td>\n",
       "    </tr>\n",
       "    <tr>\n",
       "      <th>8</th>\n",
       "      <td>51.199</td>\n",
       "      <td>1.185</td>\n",
       "      <td>48.559</td>\n",
       "      <td>53.840</td>\n",
       "      <td>42.258</td>\n",
       "      <td>60.140</td>\n",
       "    </tr>\n",
       "    <tr>\n",
       "      <th>9</th>\n",
       "      <td>63.977</td>\n",
       "      <td>1.120</td>\n",
       "      <td>61.480</td>\n",
       "      <td>66.473</td>\n",
       "      <td>55.077</td>\n",
       "      <td>72.876</td>\n",
       "    </tr>\n",
       "    <tr>\n",
       "      <th>10</th>\n",
       "      <td>65.574</td>\n",
       "      <td>1.134</td>\n",
       "      <td>63.046</td>\n",
       "      <td>68.102</td>\n",
       "      <td>56.666</td>\n",
       "      <td>74.482</td>\n",
       "    </tr>\n",
       "    <tr>\n",
       "      <th>11</th>\n",
       "      <td>76.754</td>\n",
       "      <td>1.350</td>\n",
       "      <td>73.746</td>\n",
       "      <td>79.762</td>\n",
       "      <td>67.698</td>\n",
       "      <td>85.810</td>\n",
       "    </tr>\n",
       "    <tr>\n",
       "      <th>12</th>\n",
       "      <td>81.545</td>\n",
       "      <td>1.490</td>\n",
       "      <td>78.225</td>\n",
       "      <td>84.865</td>\n",
       "      <td>72.381</td>\n",
       "      <td>90.710</td>\n",
       "    </tr>\n",
       "  </tbody>\n",
       "</table>\n",
       "</div>"
      ],
      "text/plain": [
       "            mean  mean_se  mean_ci_lower  mean_ci_upper  obs_ci_lower  \\\n",
       "Company                                                                 \n",
       "1         20.854    2.152         16.058         25.649        11.057   \n",
       "2         33.631    1.667         29.916         37.346        24.316   \n",
       "3         40.019    1.457         36.773         43.266        30.881   \n",
       "4         44.811    1.322         41.865         47.757        35.775   \n",
       "5         92.725    1.881         88.533         96.918        83.210   \n",
       "6        102.308    2.260         97.273        107.344        92.392   \n",
       "7         49.602    1.214         46.897         52.307        40.642   \n",
       "8         51.199    1.185         48.559         53.840        42.258   \n",
       "9         63.977    1.120         61.480         66.473        55.077   \n",
       "10        65.574    1.134         63.046         68.102        56.666   \n",
       "11        76.754    1.350         73.746         79.762        67.698   \n",
       "12        81.545    1.490         78.225         84.865        72.381   \n",
       "\n",
       "         obs_ci_upper  \n",
       "Company                \n",
       "1              30.650  \n",
       "2              42.946  \n",
       "3              49.158  \n",
       "4              53.847  \n",
       "5             102.241  \n",
       "6             112.224  \n",
       "7              58.562  \n",
       "8              60.140  \n",
       "9              72.876  \n",
       "10             74.482  \n",
       "11             85.810  \n",
       "12             90.710  "
      ]
     },
     "execution_count": 12,
     "metadata": {},
     "output_type": "execute_result"
    }
   ],
   "source": [
    "# 예측 결과 계산 및 출력\n",
    "\n",
    "predictions = fit_sales.get_prediction()\n",
    "\n",
    "predictions.summary_frame( alpha = 0.05 ).round(3)"
   ]
  },
  {
   "cell_type": "code",
   "execution_count": 13,
   "id": "edfa5591-ba9b-40f3-ae12-35d645165ab7",
   "metadata": {},
   "outputs": [
    {
     "data": {
      "text/plain": [
       "0    115.085662\n",
       "1    131.057214\n",
       "2    147.028766\n",
       "3    163.000318\n",
       "dtype: float64"
      ]
     },
     "execution_count": 13,
     "metadata": {},
     "output_type": "execute_result"
    }
   ],
   "source": [
    "# 생성한 회귀모델을 새로운 데이터에 적용하여 예측\n",
    "\n",
    "new_data = pd.DataFrame( { 'Adver' : [70,80,90,100] } )\n",
    "\n",
    "fit_sales.predict(new_data)"
   ]
  },
  {
   "cell_type": "code",
   "execution_count": 14,
   "id": "e05c4a7c-625f-4b8e-bd7d-c940a778301a",
   "metadata": {},
   "outputs": [
    {
     "data": {
      "text/html": [
       "<div>\n",
       "<style scoped>\n",
       "    .dataframe tbody tr th:only-of-type {\n",
       "        vertical-align: middle;\n",
       "    }\n",
       "\n",
       "    .dataframe tbody tr th {\n",
       "        vertical-align: top;\n",
       "    }\n",
       "\n",
       "    .dataframe thead th {\n",
       "        text-align: right;\n",
       "    }\n",
       "</style>\n",
       "<table border=\"1\" class=\"dataframe\">\n",
       "  <thead>\n",
       "    <tr style=\"text-align: right;\">\n",
       "      <th></th>\n",
       "      <th>mean</th>\n",
       "      <th>mean_se</th>\n",
       "      <th>mean_ci_lower</th>\n",
       "      <th>mean_ci_upper</th>\n",
       "      <th>obs_ci_lower</th>\n",
       "      <th>obs_ci_upper</th>\n",
       "    </tr>\n",
       "  </thead>\n",
       "  <tbody>\n",
       "    <tr>\n",
       "      <th>0</th>\n",
       "      <td>115.086</td>\n",
       "      <td>2.797</td>\n",
       "      <td>108.853</td>\n",
       "      <td>121.319</td>\n",
       "      <td>104.511</td>\n",
       "      <td>125.660</td>\n",
       "    </tr>\n",
       "    <tr>\n",
       "      <th>1</th>\n",
       "      <td>131.057</td>\n",
       "      <td>3.497</td>\n",
       "      <td>123.265</td>\n",
       "      <td>138.850</td>\n",
       "      <td>119.495</td>\n",
       "      <td>142.620</td>\n",
       "    </tr>\n",
       "    <tr>\n",
       "      <th>2</th>\n",
       "      <td>147.029</td>\n",
       "      <td>4.214</td>\n",
       "      <td>137.640</td>\n",
       "      <td>156.418</td>\n",
       "      <td>134.336</td>\n",
       "      <td>159.722</td>\n",
       "    </tr>\n",
       "    <tr>\n",
       "      <th>3</th>\n",
       "      <td>163.000</td>\n",
       "      <td>4.940</td>\n",
       "      <td>151.994</td>\n",
       "      <td>174.007</td>\n",
       "      <td>149.068</td>\n",
       "      <td>176.933</td>\n",
       "    </tr>\n",
       "  </tbody>\n",
       "</table>\n",
       "</div>"
      ],
      "text/plain": [
       "      mean  mean_se  mean_ci_lower  mean_ci_upper  obs_ci_lower  obs_ci_upper\n",
       "0  115.086    2.797        108.853        121.319       104.511       125.660\n",
       "1  131.057    3.497        123.265        138.850       119.495       142.620\n",
       "2  147.029    4.214        137.640        156.418       134.336       159.722\n",
       "3  163.000    4.940        151.994        174.007       149.068       176.933"
      ]
     },
     "execution_count": 14,
     "metadata": {},
     "output_type": "execute_result"
    }
   ],
   "source": [
    "new_pred = fit_sales.get_prediction( new_data )\n",
    "\n",
    "new_pred.summary_frame( alpha = 0.05 ).round(3)"
   ]
  },
  {
   "cell_type": "code",
   "execution_count": 15,
   "id": "e363c0f6-d11e-4792-8ab2-68d47de7d488",
   "metadata": {},
   "outputs": [
    {
     "data": {
      "text/plain": [
       "3.4997074336155922"
      ]
     },
     "execution_count": 15,
     "metadata": {},
     "output_type": "execute_result"
    }
   ],
   "source": [
    "# RMSE 계산\n",
    "\n",
    "y = df_sales.Sales\n",
    "y_pred = fit_sales.predict()\n",
    "\n",
    "mean_squared_error( y, y_pred, squared = False)"
   ]
  },
  {
   "cell_type": "raw",
   "id": "e42311d4-8e03-435e-aad6-80a2e5da8091",
   "metadata": {},
   "source": []
  },
  {
   "cell_type": "markdown",
   "id": "c50ce7e6-d281-4bef-bd99-54dfac5e9d41",
   "metadata": {},
   "source": [
    "## 잔차분석"
   ]
  },
  {
   "cell_type": "markdown",
   "id": "1c22c221-b8ed-4346-9729-0c95061f84be",
   "metadata": {},
   "source": [
    "### 표준화 잔차\n",
    "\n",
    "- 모델의 잔차  \n",
    "`RegressionResults.resid`\n",
    "\n",
    "- 표준화 잔차  \n",
    "`RegressionResults.resid_pearson`"
   ]
  },
  {
   "cell_type": "code",
   "execution_count": 16,
   "id": "a3f70f3e-576a-45a5-97e3-bcfec918b63b",
   "metadata": {},
   "outputs": [
    {
     "data": {
      "text/html": [
       "<div>\n",
       "<style scoped>\n",
       "    .dataframe tbody tr th:only-of-type {\n",
       "        vertical-align: middle;\n",
       "    }\n",
       "\n",
       "    .dataframe tbody tr th {\n",
       "        vertical-align: top;\n",
       "    }\n",
       "\n",
       "    .dataframe thead th {\n",
       "        text-align: right;\n",
       "    }\n",
       "</style>\n",
       "<table border=\"1\" class=\"dataframe\">\n",
       "  <thead>\n",
       "    <tr style=\"text-align: right;\">\n",
       "      <th></th>\n",
       "      <th>Predict</th>\n",
       "      <th>Residual</th>\n",
       "      <th>normalized Residual</th>\n",
       "    </tr>\n",
       "    <tr>\n",
       "      <th>Company</th>\n",
       "      <th></th>\n",
       "      <th></th>\n",
       "      <th></th>\n",
       "    </tr>\n",
       "  </thead>\n",
       "  <tbody>\n",
       "    <tr>\n",
       "      <th>1</th>\n",
       "      <td>20.854</td>\n",
       "      <td>2.146</td>\n",
       "      <td>0.560</td>\n",
       "    </tr>\n",
       "    <tr>\n",
       "      <th>2</th>\n",
       "      <td>33.631</td>\n",
       "      <td>-1.631</td>\n",
       "      <td>-0.425</td>\n",
       "    </tr>\n",
       "    <tr>\n",
       "      <th>3</th>\n",
       "      <td>40.019</td>\n",
       "      <td>-4.019</td>\n",
       "      <td>-1.048</td>\n",
       "    </tr>\n",
       "    <tr>\n",
       "      <th>4</th>\n",
       "      <td>44.811</td>\n",
       "      <td>1.189</td>\n",
       "      <td>0.310</td>\n",
       "    </tr>\n",
       "    <tr>\n",
       "      <th>5</th>\n",
       "      <td>92.725</td>\n",
       "      <td>0.275</td>\n",
       "      <td>0.072</td>\n",
       "    </tr>\n",
       "    <tr>\n",
       "      <th>6</th>\n",
       "      <td>102.308</td>\n",
       "      <td>-3.308</td>\n",
       "      <td>-0.863</td>\n",
       "    </tr>\n",
       "    <tr>\n",
       "      <th>7</th>\n",
       "      <td>49.602</td>\n",
       "      <td>-0.602</td>\n",
       "      <td>-0.157</td>\n",
       "    </tr>\n",
       "    <tr>\n",
       "      <th>8</th>\n",
       "      <td>51.199</td>\n",
       "      <td>-1.199</td>\n",
       "      <td>-0.313</td>\n",
       "    </tr>\n",
       "    <tr>\n",
       "      <th>9</th>\n",
       "      <td>63.977</td>\n",
       "      <td>1.023</td>\n",
       "      <td>0.267</td>\n",
       "    </tr>\n",
       "    <tr>\n",
       "      <th>10</th>\n",
       "      <td>65.574</td>\n",
       "      <td>4.426</td>\n",
       "      <td>1.155</td>\n",
       "    </tr>\n",
       "    <tr>\n",
       "      <th>11</th>\n",
       "      <td>76.754</td>\n",
       "      <td>-5.754</td>\n",
       "      <td>-1.501</td>\n",
       "    </tr>\n",
       "    <tr>\n",
       "      <th>12</th>\n",
       "      <td>81.545</td>\n",
       "      <td>7.455</td>\n",
       "      <td>1.944</td>\n",
       "    </tr>\n",
       "  </tbody>\n",
       "</table>\n",
       "</div>"
      ],
      "text/plain": [
       "         Predict  Residual  normalized Residual\n",
       "Company                                        \n",
       "1         20.854     2.146                0.560\n",
       "2         33.631    -1.631               -0.425\n",
       "3         40.019    -4.019               -1.048\n",
       "4         44.811     1.189                0.310\n",
       "5         92.725     0.275                0.072\n",
       "6        102.308    -3.308               -0.863\n",
       "7         49.602    -0.602               -0.157\n",
       "8         51.199    -1.199               -0.313\n",
       "9         63.977     1.023                0.267\n",
       "10        65.574     4.426                1.155\n",
       "11        76.754    -5.754               -1.501\n",
       "12        81.545     7.455                1.944"
      ]
     },
     "execution_count": 16,
     "metadata": {},
     "output_type": "execute_result"
    }
   ],
   "source": [
    "# 예측값\n",
    "pred = fit_sales.predict()\n",
    "\n",
    "# 잔차\n",
    "residual = fit_sales.resid\n",
    "\n",
    "# 표준화 잔차\n",
    "r_norm = fit_sales.resid_pearson\n",
    "\n",
    "pd.DataFrame( { 'Predict' : pred,\n",
    "                'Residual' : residual,\n",
    "                'normalized Residual' : r_norm } ).round(3)"
   ]
  },
  {
   "cell_type": "code",
   "execution_count": 17,
   "id": "8f0caf92-975a-4aa8-9e31-14446506b7f8",
   "metadata": {},
   "outputs": [
    {
     "data": {
      "text/plain": [
       "<matplotlib.lines.Line2D at 0x1e82e6d9fd0>"
      ]
     },
     "execution_count": 17,
     "metadata": {},
     "output_type": "execute_result"
    },
    {
     "data": {
      "image/png": "[encoded data removed]",
      "text/plain": [
       "<Figure size 1000x800 with 1 Axes>"
      ]
     },
     "metadata": {},
     "output_type": "display_data"
    }
   ],
   "source": [
    "# 표준화잔차 vs. 적합값 도표 \n",
    "\n",
    "fig, ax = plt.subplots( figsize = (10,8) )\n",
    "sb.scatterplot( x = pred, y =r_norm )\n",
    "ax.axhline(y=0)"
   ]
  },
  {
   "cell_type": "markdown",
   "id": "820f696c-8d2c-444c-be55-3b9111e3cb83",
   "metadata": {},
   "source": [
    "### 잔차에 대한 정규성 검토"
   ]
  },
  {
   "cell_type": "markdown",
   "id": "ea6138b9-e99a-4e9e-895c-6ee54b96ae75",
   "metadata": {},
   "source": [
    "#### 히스토그램"
   ]
  },
  {
   "cell_type": "code",
   "execution_count": 18,
   "id": "a1095124-a4ae-47fb-88dd-7292d9342211",
   "metadata": {},
   "outputs": [
    {
     "data": {
      "text/plain": [
       "<AxesSubplot:ylabel='Density'>"
      ]
     },
     "execution_count": 18,
     "metadata": {},
     "output_type": "execute_result"
    },
    {
     "data": {
      "image/png": "[encoded data removed]",
      "text/plain": [
       "<Figure size 640x480 with 1 Axes>"
      ]
     },
     "metadata": {},
     "output_type": "display_data"
    }
   ],
   "source": [
    "sb.distplot( r_norm )"
   ]
  },
  {
   "cell_type": "code",
   "execution_count": 19,
   "id": "c01e80fa-9ea9-4acc-8308-cfc7a1359c2a",
   "metadata": {},
   "outputs": [
    {
     "data": {
      "text/plain": [
       "<AxesSubplot:ylabel='Density'>"
      ]
     },
     "execution_count": 19,
     "metadata": {},
     "output_type": "execute_result"
    },
    {
     "data": {
      "image/png": "[encoded data removed]",
      "text/plain": [
       "<Figure size 640x480 with 1 Axes>"
      ]
     },
     "metadata": {},
     "output_type": "display_data"
    }
   ],
   "source": [
    "sb.distplot( r_norm, bins = 10 )"
   ]
  },
  {
   "cell_type": "markdown",
   "id": "b38e39cb-bf71-4e6f-8173-59eff3490df6",
   "metadata": {},
   "source": [
    "#### Q-Q Plot"
   ]
  },
  {
   "cell_type": "code",
   "execution_count": 20,
   "id": "ed52c1e9-dd23-43dc-b851-a05bb676072e",
   "metadata": {},
   "outputs": [
    {
     "data": {
      "text/plain": [
       "((array([-1.58815464, -1.09814975, -0.78255927, -0.53069113, -0.30892353,\n",
       "         -0.101534  ,  0.101534  ,  0.30892353,  0.53069113,  0.78255927,\n",
       "          1.09814975,  1.58815464]),\n",
       "  array([-1.50086884, -1.04842015, -0.86297515, -0.42536736, -0.31286804,\n",
       "         -0.15710484,  0.07160403,  0.26692088,  0.31018475,  0.55989614,\n",
       "          1.15452596,  1.94447261])),\n",
       " (1.0149301645279463, -7.696993776987073e-15, 0.9869321023876501))"
      ]
     },
     "execution_count": 20,
     "metadata": {},
     "output_type": "execute_result"
    },
    {
     "data": {
      "image/png": "[encoded data removed]",
      "text/plain": [
       "<Figure size 640x480 with 1 Axes>"
      ]
     },
     "metadata": {},
     "output_type": "display_data"
    }
   ],
   "source": [
    "# Q-Q plot\n",
    "\n",
    "stats.probplot( r_norm, plot = plt )"
   ]
  },
  {
   "cell_type": "markdown",
   "id": "443ba6d1-5991-43e0-921b-159613cb83d5",
   "metadata": {},
   "source": [
    "### 오차항의 등분산성 검토"
   ]
  },
  {
   "cell_type": "code",
   "execution_count": 21,
   "id": "a863f084-1c97-4c04-afb8-751d09d0435d",
   "metadata": {},
   "outputs": [
    {
     "data": {
      "image/png": "[encoded data removed]",
      "text/plain": [
       "<Figure size 640x480 with 1 Axes>"
      ]
     },
     "metadata": {},
     "output_type": "display_data"
    }
   ],
   "source": [
    "# 잔차 확인\n",
    "sb.residplot( data = df_sales,\n",
    "              x = 'Adver', y = 'Sales',\n",
    "              lowess = True )\n",
    "plt.xlim(0,80)\n",
    "plt.ylim(-10,10)\n",
    "\n",
    "plt.show()"
   ]
  },
  {
   "cell_type": "markdown",
   "id": "c35bf70b-2815-4bd6-8bfc-fb38301817ce",
   "metadata": {},
   "source": [
    "### 오차항의 독립성 검토"
   ]
  },
  {
   "cell_type": "markdown",
   "id": "ad3ca4f7-3e1c-40e9-98c9-e6c8c2a71f3a",
   "metadata": {},
   "source": [
    "#### Durbin-Watson 통계량\n",
    "\n",
    "- 2 에 가까우면 오차항의 독립성 만족,  \n",
    "- 0 에 가까우면 양(+)의 자기상관관계,  \n",
    "- 4 에 가까우면 음(-)의 자기상관관계\n",
    "\n",
    "- `statsmodels.stats.stattools.durbin_watson( resids, axis=0 )` https://www.statsmodels.org/stable/generated/statsmodels.stats.stattools.durbin_watson.html\n",
    "\n",
    "- 회귀 결과 요약 `RegressionResults.summary()`의 Durbin-Watson 항목에서도 확인 가능."
   ]
  },
  {
   "cell_type": "code",
   "execution_count": 22,
   "id": "6533f16b-f3d8-4ce3-9105-3b05dcdb5b30",
   "metadata": {},
   "outputs": [
    {
     "name": "stdout",
     "output_type": "stream",
     "text": [
      "\n"
     ]
    }
   ],
   "source": [
    "# 더빈-왓슨 통계량\n",
    "durbin_watson( r_norm )\n",
    "print()"
   ]
  },
  {
   "cell_type": "markdown",
   "id": "f77a280c-efde-4ab3-815d-def41fcfe951",
   "metadata": {},
   "source": [
    "### 회귀진단 결과 플로팅\n",
    "\n",
    "- `statsmodels.graphics.regressionplots.plot_regress_exog(results, exog_idx, fig=None)` https://www.statsmodels.org/stable/generated/statsmodels.graphics.regressionplots.plot_regress_exog.html"
   ]
  },
  {
   "cell_type": "code",
   "execution_count": 23,
   "id": "3c07802f-5b7a-45c9-a990-60e22a2db1c4",
   "metadata": {},
   "outputs": [
    {
     "data": {
      "image/png": "[encoded data removed]",
      "text/plain": [
       "<Figure size 800x800 with 4 Axes>"
      ]
     },
     "metadata": {},
     "output_type": "display_data"
    }
   ],
   "source": [
    "fig = plt.figure(figsize = (8, 8))\n",
    "\n",
    "fig = graphics.plot_regress_exog( fit_sales, 'Adver', fig = fig)"
   ]
  },
  {
   "cell_type": "raw",
   "id": "123f31cd-2cbc-4c4d-aec5-72962cbb761e",
   "metadata": {},
   "source": [
    "\n",
    "\n"
   ]
  },
  {
   "cell_type": "markdown",
   "id": "0822c511-5b44-4854-8e77-8c83e565eb3e",
   "metadata": {},
   "source": [
    "# 다중 회귀분석"
   ]
  },
  {
   "cell_type": "raw",
   "id": "e10a3d7f-ce1c-4bcf-b67a-05d1f4ba2fca",
   "metadata": {},
   "source": [
    "[문제]\n",
    "Satisfaction.csv 파일은 700명의 고객을 대상으로 어떤 제품에 대해 조사하여 얻은 것으로\n",
    "X1(디자인 만족도), X2(사용편리성 만족도), X3(성능 만족도), X4(고장 및 견고성 만족도), Y(구입 의향) 등의 변수들이 포함되어 있다.\n",
    "변수 Y를 반응변수로 하고 X1~X4를 설명변수로 하여 다중 회귀분석을 수행하라."
   ]
  },
  {
   "cell_type": "code",
   "execution_count": 24,
   "id": "cbf0a983-9e16-4418-ab42-0b368eb4eed2",
   "metadata": {},
   "outputs": [
    {
     "data": {
      "text/html": [
       "<div>\n",
       "<style scoped>\n",
       "    .dataframe tbody tr th:only-of-type {\n",
       "        vertical-align: middle;\n",
       "    }\n",
       "\n",
       "    .dataframe tbody tr th {\n",
       "        vertical-align: top;\n",
       "    }\n",
       "\n",
       "    .dataframe thead th {\n",
       "        text-align: right;\n",
       "    }\n",
       "</style>\n",
       "<table border=\"1\" class=\"dataframe\">\n",
       "  <thead>\n",
       "    <tr style=\"text-align: right;\">\n",
       "      <th></th>\n",
       "      <th>Y</th>\n",
       "      <th>X1</th>\n",
       "      <th>X2</th>\n",
       "      <th>X3</th>\n",
       "      <th>X4</th>\n",
       "    </tr>\n",
       "    <tr>\n",
       "      <th>ID</th>\n",
       "      <th></th>\n",
       "      <th></th>\n",
       "      <th></th>\n",
       "      <th></th>\n",
       "      <th></th>\n",
       "    </tr>\n",
       "  </thead>\n",
       "  <tbody>\n",
       "    <tr>\n",
       "      <th>1</th>\n",
       "      <td>5</td>\n",
       "      <td>5</td>\n",
       "      <td>5</td>\n",
       "      <td>6</td>\n",
       "      <td>5</td>\n",
       "    </tr>\n",
       "    <tr>\n",
       "      <th>2</th>\n",
       "      <td>5</td>\n",
       "      <td>5</td>\n",
       "      <td>5</td>\n",
       "      <td>5</td>\n",
       "      <td>5</td>\n",
       "    </tr>\n",
       "    <tr>\n",
       "      <th>3</th>\n",
       "      <td>5</td>\n",
       "      <td>5</td>\n",
       "      <td>6</td>\n",
       "      <td>5</td>\n",
       "      <td>5</td>\n",
       "    </tr>\n",
       "    <tr>\n",
       "      <th>4</th>\n",
       "      <td>5</td>\n",
       "      <td>6</td>\n",
       "      <td>6</td>\n",
       "      <td>5</td>\n",
       "      <td>6</td>\n",
       "    </tr>\n",
       "    <tr>\n",
       "      <th>5</th>\n",
       "      <td>5</td>\n",
       "      <td>5</td>\n",
       "      <td>6</td>\n",
       "      <td>5</td>\n",
       "      <td>5</td>\n",
       "    </tr>\n",
       "    <tr>\n",
       "      <th>...</th>\n",
       "      <td>...</td>\n",
       "      <td>...</td>\n",
       "      <td>...</td>\n",
       "      <td>...</td>\n",
       "      <td>...</td>\n",
       "    </tr>\n",
       "    <tr>\n",
       "      <th>696</th>\n",
       "      <td>3</td>\n",
       "      <td>4</td>\n",
       "      <td>5</td>\n",
       "      <td>6</td>\n",
       "      <td>4</td>\n",
       "    </tr>\n",
       "    <tr>\n",
       "      <th>697</th>\n",
       "      <td>4</td>\n",
       "      <td>3</td>\n",
       "      <td>3</td>\n",
       "      <td>3</td>\n",
       "      <td>5</td>\n",
       "    </tr>\n",
       "    <tr>\n",
       "      <th>698</th>\n",
       "      <td>5</td>\n",
       "      <td>6</td>\n",
       "      <td>6</td>\n",
       "      <td>5</td>\n",
       "      <td>6</td>\n",
       "    </tr>\n",
       "    <tr>\n",
       "      <th>699</th>\n",
       "      <td>5</td>\n",
       "      <td>5</td>\n",
       "      <td>4</td>\n",
       "      <td>5</td>\n",
       "      <td>6</td>\n",
       "    </tr>\n",
       "    <tr>\n",
       "      <th>700</th>\n",
       "      <td>5</td>\n",
       "      <td>6</td>\n",
       "      <td>5</td>\n",
       "      <td>6</td>\n",
       "      <td>6</td>\n",
       "    </tr>\n",
       "  </tbody>\n",
       "</table>\n",
       "<p>700 rows × 5 columns</p>\n",
       "</div>"
      ],
      "text/plain": [
       "     Y  X1  X2  X3  X4\n",
       "ID                    \n",
       "1    5   5   5   6   5\n",
       "2    5   5   5   5   5\n",
       "3    5   5   6   5   5\n",
       "4    5   6   6   5   6\n",
       "5    5   5   6   5   5\n",
       "..  ..  ..  ..  ..  ..\n",
       "696  3   4   5   6   4\n",
       "697  4   3   3   3   5\n",
       "698  5   6   6   5   6\n",
       "699  5   5   4   5   6\n",
       "700  5   6   5   6   6\n",
       "\n",
       "[700 rows x 5 columns]"
      ]
     },
     "execution_count": 24,
     "metadata": {},
     "output_type": "execute_result"
    }
   ],
   "source": [
    "df_satisfaction = pd.read_csv( r'C:\\Users\\Boanerges\\GitHub\\TIL\\rawdata\\Satisfaction.csv',\n",
    "                            index_col = 'ID' )\n",
    "\n",
    "df_stf = df_satisfaction.iloc[:, 0:5]\n",
    "df_stf"
   ]
  },
  {
   "cell_type": "code",
   "execution_count": 25,
   "id": "df073bd5-dd0d-4a92-bc87-369554e3dcb0",
   "metadata": {},
   "outputs": [
    {
     "data": {
      "text/html": [
       "<div>\n",
       "<style scoped>\n",
       "    .dataframe tbody tr th:only-of-type {\n",
       "        vertical-align: middle;\n",
       "    }\n",
       "\n",
       "    .dataframe tbody tr th {\n",
       "        vertical-align: top;\n",
       "    }\n",
       "\n",
       "    .dataframe thead th {\n",
       "        text-align: right;\n",
       "    }\n",
       "</style>\n",
       "<table border=\"1\" class=\"dataframe\">\n",
       "  <thead>\n",
       "    <tr style=\"text-align: right;\">\n",
       "      <th></th>\n",
       "      <th>X</th>\n",
       "      <th>Y</th>\n",
       "      <th>method</th>\n",
       "      <th>alternative</th>\n",
       "      <th>n</th>\n",
       "      <th>r</th>\n",
       "      <th>CI95%</th>\n",
       "      <th>p-unc</th>\n",
       "      <th>BF10</th>\n",
       "      <th>power</th>\n",
       "    </tr>\n",
       "  </thead>\n",
       "  <tbody>\n",
       "    <tr>\n",
       "      <th>0</th>\n",
       "      <td>Y</td>\n",
       "      <td>X1</td>\n",
       "      <td>pearson</td>\n",
       "      <td>two-sided</td>\n",
       "      <td>700</td>\n",
       "      <td>0.295</td>\n",
       "      <td>[0.23, 0.36]</td>\n",
       "      <td>0.0</td>\n",
       "      <td>2.559e+12</td>\n",
       "      <td>1.0</td>\n",
       "    </tr>\n",
       "    <tr>\n",
       "      <th>1</th>\n",
       "      <td>Y</td>\n",
       "      <td>X2</td>\n",
       "      <td>pearson</td>\n",
       "      <td>two-sided</td>\n",
       "      <td>700</td>\n",
       "      <td>0.288</td>\n",
       "      <td>[0.22, 0.35]</td>\n",
       "      <td>0.0</td>\n",
       "      <td>5.229e+11</td>\n",
       "      <td>1.0</td>\n",
       "    </tr>\n",
       "    <tr>\n",
       "      <th>2</th>\n",
       "      <td>Y</td>\n",
       "      <td>X3</td>\n",
       "      <td>pearson</td>\n",
       "      <td>two-sided</td>\n",
       "      <td>700</td>\n",
       "      <td>0.318</td>\n",
       "      <td>[0.25, 0.38]</td>\n",
       "      <td>0.0</td>\n",
       "      <td>6.462e+14</td>\n",
       "      <td>1.0</td>\n",
       "    </tr>\n",
       "    <tr>\n",
       "      <th>3</th>\n",
       "      <td>Y</td>\n",
       "      <td>X4</td>\n",
       "      <td>pearson</td>\n",
       "      <td>two-sided</td>\n",
       "      <td>700</td>\n",
       "      <td>0.207</td>\n",
       "      <td>[0.13, 0.28]</td>\n",
       "      <td>0.0</td>\n",
       "      <td>1.933e+05</td>\n",
       "      <td>1.0</td>\n",
       "    </tr>\n",
       "    <tr>\n",
       "      <th>4</th>\n",
       "      <td>X1</td>\n",
       "      <td>X2</td>\n",
       "      <td>pearson</td>\n",
       "      <td>two-sided</td>\n",
       "      <td>700</td>\n",
       "      <td>0.397</td>\n",
       "      <td>[0.33, 0.46]</td>\n",
       "      <td>0.0</td>\n",
       "      <td>4.153e+24</td>\n",
       "      <td>1.0</td>\n",
       "    </tr>\n",
       "    <tr>\n",
       "      <th>5</th>\n",
       "      <td>X1</td>\n",
       "      <td>X3</td>\n",
       "      <td>pearson</td>\n",
       "      <td>two-sided</td>\n",
       "      <td>700</td>\n",
       "      <td>0.446</td>\n",
       "      <td>[0.38, 0.5]</td>\n",
       "      <td>0.0</td>\n",
       "      <td>1.582e+32</td>\n",
       "      <td>1.0</td>\n",
       "    </tr>\n",
       "    <tr>\n",
       "      <th>6</th>\n",
       "      <td>X1</td>\n",
       "      <td>X4</td>\n",
       "      <td>pearson</td>\n",
       "      <td>two-sided</td>\n",
       "      <td>700</td>\n",
       "      <td>0.312</td>\n",
       "      <td>[0.24, 0.38]</td>\n",
       "      <td>0.0</td>\n",
       "      <td>1.565e+14</td>\n",
       "      <td>1.0</td>\n",
       "    </tr>\n",
       "    <tr>\n",
       "      <th>7</th>\n",
       "      <td>X2</td>\n",
       "      <td>X3</td>\n",
       "      <td>pearson</td>\n",
       "      <td>two-sided</td>\n",
       "      <td>700</td>\n",
       "      <td>0.582</td>\n",
       "      <td>[0.53, 0.63]</td>\n",
       "      <td>0.0</td>\n",
       "      <td>1.278e+61</td>\n",
       "      <td>1.0</td>\n",
       "    </tr>\n",
       "    <tr>\n",
       "      <th>8</th>\n",
       "      <td>X2</td>\n",
       "      <td>X4</td>\n",
       "      <td>pearson</td>\n",
       "      <td>two-sided</td>\n",
       "      <td>700</td>\n",
       "      <td>0.361</td>\n",
       "      <td>[0.29, 0.42]</td>\n",
       "      <td>0.0</td>\n",
       "      <td>5.923e+19</td>\n",
       "      <td>1.0</td>\n",
       "    </tr>\n",
       "    <tr>\n",
       "      <th>9</th>\n",
       "      <td>X3</td>\n",
       "      <td>X4</td>\n",
       "      <td>pearson</td>\n",
       "      <td>two-sided</td>\n",
       "      <td>700</td>\n",
       "      <td>0.430</td>\n",
       "      <td>[0.37, 0.49]</td>\n",
       "      <td>0.0</td>\n",
       "      <td>3.257e+29</td>\n",
       "      <td>1.0</td>\n",
       "    </tr>\n",
       "  </tbody>\n",
       "</table>\n",
       "</div>"
      ],
      "text/plain": [
       "    X   Y   method alternative    n      r         CI95%  p-unc       BF10  \\\n",
       "0   Y  X1  pearson   two-sided  700  0.295  [0.23, 0.36]    0.0  2.559e+12   \n",
       "1   Y  X2  pearson   two-sided  700  0.288  [0.22, 0.35]    0.0  5.229e+11   \n",
       "2   Y  X3  pearson   two-sided  700  0.318  [0.25, 0.38]    0.0  6.462e+14   \n",
       "3   Y  X4  pearson   two-sided  700  0.207  [0.13, 0.28]    0.0  1.933e+05   \n",
       "4  X1  X2  pearson   two-sided  700  0.397  [0.33, 0.46]    0.0  4.153e+24   \n",
       "5  X1  X3  pearson   two-sided  700  0.446   [0.38, 0.5]    0.0  1.582e+32   \n",
       "6  X1  X4  pearson   two-sided  700  0.312  [0.24, 0.38]    0.0  1.565e+14   \n",
       "7  X2  X3  pearson   two-sided  700  0.582  [0.53, 0.63]    0.0  1.278e+61   \n",
       "8  X2  X4  pearson   two-sided  700  0.361  [0.29, 0.42]    0.0  5.923e+19   \n",
       "9  X3  X4  pearson   two-sided  700  0.430  [0.37, 0.49]    0.0  3.257e+29   \n",
       "\n",
       "   power  \n",
       "0    1.0  \n",
       "1    1.0  \n",
       "2    1.0  \n",
       "3    1.0  \n",
       "4    1.0  \n",
       "5    1.0  \n",
       "6    1.0  \n",
       "7    1.0  \n",
       "8    1.0  \n",
       "9    1.0  "
      ]
     },
     "execution_count": 25,
     "metadata": {},
     "output_type": "execute_result"
    }
   ],
   "source": [
    "# 상관계수 확인\n",
    "\n",
    "df_stf.pairwise_corr(method='pearson').round(3)"
   ]
  },
  {
   "cell_type": "code",
   "execution_count": 26,
   "id": "d99e6e7f-4de4-40f3-89a2-f3ef8dac68d3",
   "metadata": {},
   "outputs": [
    {
     "data": {
      "text/plain": [
       "<seaborn.axisgrid.PairGrid at 0x1e82d980ee0>"
      ]
     },
     "execution_count": 26,
     "metadata": {},
     "output_type": "execute_result"
    },
    {
     "data": {
      "image/png": "[encoded data removed]",
      "text/plain": [
       "<Figure size 1250x1250 with 30 Axes>"
      ]
     },
     "metadata": {},
     "output_type": "display_data"
    }
   ],
   "source": [
    "# 산점도 확인\n",
    "sb.pairplot( df_stf )"
   ]
  },
  {
   "cell_type": "markdown",
   "id": "ec8dbd62-cfc2-4d43-89b8-81651ea5c6e3",
   "metadata": {},
   "source": [
    "## 다중 회귀모델 생성 및 회귀분석\n",
    "\n",
    "- y = α + β1·x1 + β2·x2 + ... + βp·xp + ε\n",
    "\n",
    "- 귀무가설 H0 : β1 = β2 = ... = βp = 0\n",
    "- 대립가설 H1 : β1 ~ βp 중 적어도 하나 이상의 계수는 0 이 아니다."
   ]
  },
  {
   "cell_type": "code",
   "execution_count": 27,
   "id": "17e89398-feb6-4204-86f1-57de7b0b8ec6",
   "metadata": {},
   "outputs": [
    {
     "name": "stdout",
     "output_type": "stream",
     "text": [
      "                            OLS Regression Results                            \n",
      "==============================================================================\n",
      "Dep. Variable:                      Y   R-squared:                       0.141\n",
      "Model:                            OLS   Adj. R-squared:                  0.136\n",
      "Method:                 Least Squares   F-statistic:                     28.56\n",
      "Date:                Wed, 01 Sep 2021   Prob (F-statistic):           5.38e-22\n",
      "Time:                        23:38:32   Log-Likelihood:                -1174.4\n",
      "No. Observations:                 700   AIC:                             2359.\n",
      "Df Residuals:                     695   BIC:                             2382.\n",
      "Df Model:                           4                                         \n",
      "Covariance Type:            nonrobust                                         \n",
      "==============================================================================\n",
      "                 coef    std err          t      P>|t|      [0.025      0.975]\n",
      "------------------------------------------------------------------------------\n",
      "Intercept      1.2918      0.347      3.719      0.000       0.610       1.974\n",
      "X1             0.2352      0.058      4.077      0.000       0.122       0.349\n",
      "X2             0.1666      0.066      2.543      0.011       0.038       0.295\n",
      "X3             0.2309      0.068      3.421      0.001       0.098       0.363\n",
      "X4             0.0585      0.050      1.168      0.243      -0.040       0.157\n",
      "==============================================================================\n",
      "Omnibus:                      147.199   Durbin-Watson:                   1.804\n",
      "Prob(Omnibus):                  0.000   Jarque-Bera (JB):              482.307\n",
      "Skew:                           0.987   Prob(JB):                    1.86e-105\n",
      "Kurtosis:                       6.556   Cond. No.                         75.1\n",
      "==============================================================================\n",
      "\n",
      "Notes:\n",
      "[1] Standard Errors assume that the covariance matrix of the errors is correctly specified.\n"
     ]
    }
   ],
   "source": [
    "model_stf = ols( data = df_stf, formula = 'Y ~ X1+X2+X3+X4')\n",
    "\n",
    "fit_stf = model_stf.fit()\n",
    "\n",
    "print( fit_stf.summary() )"
   ]
  },
  {
   "cell_type": "code",
   "execution_count": 28,
   "id": "d4056ab2-0d2f-4481-83f2-9e23f04aac13",
   "metadata": {},
   "outputs": [
    {
     "data": {
      "text/html": [
       "<div>\n",
       "<style scoped>\n",
       "    .dataframe tbody tr th:only-of-type {\n",
       "        vertical-align: middle;\n",
       "    }\n",
       "\n",
       "    .dataframe tbody tr th {\n",
       "        vertical-align: top;\n",
       "    }\n",
       "\n",
       "    .dataframe thead th {\n",
       "        text-align: right;\n",
       "    }\n",
       "</style>\n",
       "<table border=\"1\" class=\"dataframe\">\n",
       "  <thead>\n",
       "    <tr style=\"text-align: right;\">\n",
       "      <th></th>\n",
       "      <th>df</th>\n",
       "      <th>sum_sq</th>\n",
       "      <th>mean_sq</th>\n",
       "      <th>F</th>\n",
       "      <th>PR(&gt;F)</th>\n",
       "    </tr>\n",
       "  </thead>\n",
       "  <tbody>\n",
       "    <tr>\n",
       "      <th>X1</th>\n",
       "      <td>1.0</td>\n",
       "      <td>118.7986</td>\n",
       "      <td>118.7986</td>\n",
       "      <td>70.2889</td>\n",
       "      <td>0.0000</td>\n",
       "    </tr>\n",
       "    <tr>\n",
       "      <th>X2</th>\n",
       "      <td>1.0</td>\n",
       "      <td>47.2047</td>\n",
       "      <td>47.2047</td>\n",
       "      <td>27.9294</td>\n",
       "      <td>0.0000</td>\n",
       "    </tr>\n",
       "    <tr>\n",
       "      <th>X3</th>\n",
       "      <td>1.0</td>\n",
       "      <td>24.7888</td>\n",
       "      <td>24.7888</td>\n",
       "      <td>14.6667</td>\n",
       "      <td>0.0001</td>\n",
       "    </tr>\n",
       "    <tr>\n",
       "      <th>X4</th>\n",
       "      <td>1.0</td>\n",
       "      <td>2.3047</td>\n",
       "      <td>2.3047</td>\n",
       "      <td>1.3636</td>\n",
       "      <td>0.2433</td>\n",
       "    </tr>\n",
       "    <tr>\n",
       "      <th>Residual</th>\n",
       "      <td>695.0</td>\n",
       "      <td>1174.6518</td>\n",
       "      <td>1.6901</td>\n",
       "      <td>NaN</td>\n",
       "      <td>NaN</td>\n",
       "    </tr>\n",
       "  </tbody>\n",
       "</table>\n",
       "</div>"
      ],
      "text/plain": [
       "             df     sum_sq   mean_sq        F  PR(>F)\n",
       "X1          1.0   118.7986  118.7986  70.2889  0.0000\n",
       "X2          1.0    47.2047   47.2047  27.9294  0.0000\n",
       "X3          1.0    24.7888   24.7888  14.6667  0.0001\n",
       "X4          1.0     2.3047    2.3047   1.3636  0.2433\n",
       "Residual  695.0  1174.6518    1.6901      NaN     NaN"
      ]
     },
     "execution_count": 28,
     "metadata": {},
     "output_type": "execute_result"
    }
   ],
   "source": [
    "# 적합된 모델에 대한 분산분석표 확인\n",
    "\n",
    "anova_lm( fit_stf, test = 'F', typ = 1).round(4)"
   ]
  },
  {
   "cell_type": "markdown",
   "id": "0147f3e9-f27d-451e-be48-7f112b152a7f",
   "metadata": {},
   "source": [
    "## 표준화 회귀계수\n",
    "\n",
    "- Z값 계산  \n",
    "`scipy.stats.zscore(a, axis=0, ddof=0, nan_policy='propagate')`  \n",
    "https://docs.scipy.org/doc/scipy/reference/generated/scipy.stats.zscore.html"
   ]
  },
  {
   "cell_type": "code",
   "execution_count": 29,
   "id": "aed3ab19-aacc-46a8-816d-cfecb4d9fbba",
   "metadata": {},
   "outputs": [
    {
     "data": {
      "text/html": [
       "<div>\n",
       "<style scoped>\n",
       "    .dataframe tbody tr th:only-of-type {\n",
       "        vertical-align: middle;\n",
       "    }\n",
       "\n",
       "    .dataframe tbody tr th {\n",
       "        vertical-align: top;\n",
       "    }\n",
       "\n",
       "    .dataframe thead th {\n",
       "        text-align: right;\n",
       "    }\n",
       "</style>\n",
       "<table border=\"1\" class=\"dataframe\">\n",
       "  <thead>\n",
       "    <tr style=\"text-align: right;\">\n",
       "      <th></th>\n",
       "      <th>Y</th>\n",
       "      <th>X1</th>\n",
       "      <th>X2</th>\n",
       "      <th>X3</th>\n",
       "      <th>X4</th>\n",
       "    </tr>\n",
       "    <tr>\n",
       "      <th>ID</th>\n",
       "      <th></th>\n",
       "      <th></th>\n",
       "      <th></th>\n",
       "      <th></th>\n",
       "      <th></th>\n",
       "    </tr>\n",
       "  </thead>\n",
       "  <tbody>\n",
       "    <tr>\n",
       "      <th>1</th>\n",
       "      <td>0.077671</td>\n",
       "      <td>-0.223819</td>\n",
       "      <td>-0.241429</td>\n",
       "      <td>0.854490</td>\n",
       "      <td>-0.203835</td>\n",
       "    </tr>\n",
       "    <tr>\n",
       "      <th>2</th>\n",
       "      <td>0.077671</td>\n",
       "      <td>-0.223819</td>\n",
       "      <td>-0.241429</td>\n",
       "      <td>-0.182153</td>\n",
       "      <td>-0.203835</td>\n",
       "    </tr>\n",
       "    <tr>\n",
       "      <th>3</th>\n",
       "      <td>0.077671</td>\n",
       "      <td>-0.223819</td>\n",
       "      <td>0.814822</td>\n",
       "      <td>-0.182153</td>\n",
       "      <td>-0.203835</td>\n",
       "    </tr>\n",
       "    <tr>\n",
       "      <th>4</th>\n",
       "      <td>0.077671</td>\n",
       "      <td>0.800191</td>\n",
       "      <td>0.814822</td>\n",
       "      <td>-0.182153</td>\n",
       "      <td>0.699232</td>\n",
       "    </tr>\n",
       "    <tr>\n",
       "      <th>5</th>\n",
       "      <td>0.077671</td>\n",
       "      <td>-0.223819</td>\n",
       "      <td>0.814822</td>\n",
       "      <td>-0.182153</td>\n",
       "      <td>-0.203835</td>\n",
       "    </tr>\n",
       "    <tr>\n",
       "      <th>...</th>\n",
       "      <td>...</td>\n",
       "      <td>...</td>\n",
       "      <td>...</td>\n",
       "      <td>...</td>\n",
       "      <td>...</td>\n",
       "    </tr>\n",
       "    <tr>\n",
       "      <th>696</th>\n",
       "      <td>-1.353118</td>\n",
       "      <td>-1.247830</td>\n",
       "      <td>-0.241429</td>\n",
       "      <td>0.854490</td>\n",
       "      <td>-1.106902</td>\n",
       "    </tr>\n",
       "    <tr>\n",
       "      <th>697</th>\n",
       "      <td>-0.637724</td>\n",
       "      <td>-2.271840</td>\n",
       "      <td>-2.353929</td>\n",
       "      <td>-2.255440</td>\n",
       "      <td>-0.203835</td>\n",
       "    </tr>\n",
       "    <tr>\n",
       "      <th>698</th>\n",
       "      <td>0.077671</td>\n",
       "      <td>0.800191</td>\n",
       "      <td>0.814822</td>\n",
       "      <td>-0.182153</td>\n",
       "      <td>0.699232</td>\n",
       "    </tr>\n",
       "    <tr>\n",
       "      <th>699</th>\n",
       "      <td>0.077671</td>\n",
       "      <td>-0.223819</td>\n",
       "      <td>-1.297679</td>\n",
       "      <td>-0.182153</td>\n",
       "      <td>0.699232</td>\n",
       "    </tr>\n",
       "    <tr>\n",
       "      <th>700</th>\n",
       "      <td>0.077671</td>\n",
       "      <td>0.800191</td>\n",
       "      <td>-0.241429</td>\n",
       "      <td>0.854490</td>\n",
       "      <td>0.699232</td>\n",
       "    </tr>\n",
       "  </tbody>\n",
       "</table>\n",
       "<p>700 rows × 5 columns</p>\n",
       "</div>"
      ],
      "text/plain": [
       "            Y        X1        X2        X3        X4\n",
       "ID                                                   \n",
       "1    0.077671 -0.223819 -0.241429  0.854490 -0.203835\n",
       "2    0.077671 -0.223819 -0.241429 -0.182153 -0.203835\n",
       "3    0.077671 -0.223819  0.814822 -0.182153 -0.203835\n",
       "4    0.077671  0.800191  0.814822 -0.182153  0.699232\n",
       "5    0.077671 -0.223819  0.814822 -0.182153 -0.203835\n",
       "..        ...       ...       ...       ...       ...\n",
       "696 -1.353118 -1.247830 -0.241429  0.854490 -1.106902\n",
       "697 -0.637724 -2.271840 -2.353929 -2.255440 -0.203835\n",
       "698  0.077671  0.800191  0.814822 -0.182153  0.699232\n",
       "699  0.077671 -0.223819 -1.297679 -0.182153  0.699232\n",
       "700  0.077671  0.800191 -0.241429  0.854490  0.699232\n",
       "\n",
       "[700 rows x 5 columns]"
      ]
     },
     "execution_count": 29,
     "metadata": {},
     "output_type": "execute_result"
    }
   ],
   "source": [
    "df_stf_z = df_stf.iloc[:, 0:5].apply(stats.zscore)\n",
    "df_stf_z"
   ]
  },
  {
   "cell_type": "code",
   "execution_count": 30,
   "id": "5e1bfde0-ba53-441d-a039-10cfd211beef",
   "metadata": {},
   "outputs": [
    {
     "data": {
      "text/plain": [
       "Intercept    0.0000\n",
       "X1           0.1643\n",
       "X2           0.1128\n",
       "X3           0.1594\n",
       "X4           0.0463\n",
       "dtype: float64"
      ]
     },
     "execution_count": 30,
     "metadata": {},
     "output_type": "execute_result"
    }
   ],
   "source": [
    "model_stf_z = ols( data = df_stf_z,\n",
    "               formula = 'Y ~ X1+X2+X3+X4')\n",
    "\n",
    "fit_stf_z = model_stf_z.fit()\n",
    "\n",
    "fit_stf_z.params.round(4)"
   ]
  },
  {
   "cell_type": "code",
   "execution_count": 31,
   "id": "ba947d10-2695-4041-b145-362c026c529a",
   "metadata": {},
   "outputs": [
    {
     "name": "stdout",
     "output_type": "stream",
     "text": [
      "                            OLS Regression Results                            \n",
      "==============================================================================\n",
      "Dep. Variable:                      Y   R-squared:                       0.141\n",
      "Model:                            OLS   Adj. R-squared:                  0.136\n",
      "Method:                 Least Squares   F-statistic:                     28.56\n",
      "Date:                Wed, 01 Sep 2021   Prob (F-statistic):           5.38e-22\n",
      "Time:                        23:38:32   Log-Likelihood:                -939.99\n",
      "No. Observations:                 700   AIC:                             1890.\n",
      "Df Residuals:                     695   BIC:                             1913.\n",
      "Df Model:                           4                                         \n",
      "Covariance Type:            nonrobust                                         \n",
      "==============================================================================\n",
      "                 coef    std err          t      P>|t|      [0.025      0.975]\n",
      "------------------------------------------------------------------------------\n",
      "Intercept   4.857e-17      0.035   1.38e-15      1.000      -0.069       0.069\n",
      "X1             0.1643      0.040      4.077      0.000       0.085       0.243\n",
      "X2             0.1128      0.044      2.543      0.011       0.026       0.200\n",
      "X3             0.1594      0.047      3.421      0.001       0.068       0.251\n",
      "X4             0.0463      0.040      1.168      0.243      -0.032       0.124\n",
      "==============================================================================\n",
      "Omnibus:                      147.199   Durbin-Watson:                   1.804\n",
      "Prob(Omnibus):                  0.000   Jarque-Bera (JB):              482.307\n",
      "Skew:                           0.987   Prob(JB):                    1.86e-105\n",
      "Kurtosis:                       6.556   Cond. No.                         2.36\n",
      "==============================================================================\n",
      "\n",
      "Notes:\n",
      "[1] Standard Errors assume that the covariance matrix of the errors is correctly specified.\n",
      "\n"
     ]
    }
   ],
   "source": [
    "print( fit_stf_z.summary() )\n",
    "print()"
   ]
  },
  {
   "cell_type": "raw",
   "id": "eb26673a-d50b-43ba-abe3-9fb5ef96a466",
   "metadata": {},
   "source": []
  },
  {
   "cell_type": "markdown",
   "id": "6a966c4b-5e29-4fc8-918c-571109c983db",
   "metadata": {},
   "source": [
    "## 변수 선택"
   ]
  },
  {
   "cell_type": "markdown",
   "id": "57984d7e-c5ed-4e73-aac9-cf615eca2ba4",
   "metadata": {},
   "source": [
    "### 변수별 추정계수의 p값 확인"
   ]
  },
  {
   "cell_type": "code",
   "execution_count": 32,
   "id": "f8612ce8-43f5-431f-a84e-bfc0a6ef2766",
   "metadata": {},
   "outputs": [
    {
     "name": "stdout",
     "output_type": "stream",
     "text": [
      "                            OLS Regression Results                            \n",
      "==============================================================================\n",
      "Dep. Variable:                      Y   R-squared:                       0.139\n",
      "Model:                            OLS   Adj. R-squared:                  0.136\n",
      "Method:                 Least Squares   F-statistic:                     37.61\n",
      "Date:                Wed, 01 Sep 2021   Prob (F-statistic):           1.56e-22\n",
      "Time:                        23:38:32   Log-Likelihood:                -1175.1\n",
      "No. Observations:                 700   AIC:                             2358.\n",
      "Df Residuals:                     696   BIC:                             2376.\n",
      "Df Model:                           3                                         \n",
      "Covariance Type:            nonrobust                                         \n",
      "==============================================================================\n",
      "                 coef    std err          t      P>|t|      [0.025      0.975]\n",
      "------------------------------------------------------------------------------\n",
      "Intercept      1.4020      0.334      4.193      0.000       0.746       2.059\n",
      "X1             0.2436      0.057      4.254      0.000       0.131       0.356\n",
      "X2             0.1763      0.065      2.712      0.007       0.049       0.304\n",
      "X3             0.2504      0.065      3.829      0.000       0.122       0.379\n",
      "==============================================================================\n",
      "Omnibus:                      140.914   Durbin-Watson:                   1.803\n",
      "Prob(Omnibus):                  0.000   Jarque-Bera (JB):              452.399\n",
      "Skew:                           0.951   Prob(JB):                     5.79e-99\n",
      "Kurtosis:                       6.449   Cond. No.                         62.8\n",
      "==============================================================================\n",
      "\n",
      "Notes:\n",
      "[1] Standard Errors assume that the covariance matrix of the errors is correctly specified.\n",
      "\n"
     ]
    }
   ],
   "source": [
    "# X4 의 p값이 0.243 으로 유의수준 5% 보다 크므로 반응변수를 설명하는데 유의하지 않으므로 제거 \n",
    "\n",
    "model_2_stf = ols( data = df_stf, formula = 'Y ~ X1+X2+X3')\n",
    "\n",
    "fit_2_stf = model_2_stf.fit()\n",
    "\n",
    "print( fit_2_stf.summary() )\n",
    "print()"
   ]
  },
  {
   "cell_type": "code",
   "execution_count": 33,
   "id": "3d643f2c-e1fc-4262-be44-619ea58598b2",
   "metadata": {},
   "outputs": [
    {
     "data": {
      "text/html": [
       "<div>\n",
       "<style scoped>\n",
       "    .dataframe tbody tr th:only-of-type {\n",
       "        vertical-align: middle;\n",
       "    }\n",
       "\n",
       "    .dataframe tbody tr th {\n",
       "        vertical-align: top;\n",
       "    }\n",
       "\n",
       "    .dataframe thead th {\n",
       "        text-align: right;\n",
       "    }\n",
       "</style>\n",
       "<table border=\"1\" class=\"dataframe\">\n",
       "  <thead>\n",
       "    <tr style=\"text-align: right;\">\n",
       "      <th></th>\n",
       "      <th>df</th>\n",
       "      <th>sum_sq</th>\n",
       "      <th>mean_sq</th>\n",
       "      <th>F</th>\n",
       "      <th>PR(&gt;F)</th>\n",
       "    </tr>\n",
       "  </thead>\n",
       "  <tbody>\n",
       "    <tr>\n",
       "      <th>X1</th>\n",
       "      <td>1.0</td>\n",
       "      <td>118.7986</td>\n",
       "      <td>118.7986</td>\n",
       "      <td>70.2522</td>\n",
       "      <td>0.0000</td>\n",
       "    </tr>\n",
       "    <tr>\n",
       "      <th>X2</th>\n",
       "      <td>1.0</td>\n",
       "      <td>47.2047</td>\n",
       "      <td>47.2047</td>\n",
       "      <td>27.9148</td>\n",
       "      <td>0.0000</td>\n",
       "    </tr>\n",
       "    <tr>\n",
       "      <th>X3</th>\n",
       "      <td>1.0</td>\n",
       "      <td>24.7888</td>\n",
       "      <td>24.7888</td>\n",
       "      <td>14.6590</td>\n",
       "      <td>0.0001</td>\n",
       "    </tr>\n",
       "    <tr>\n",
       "      <th>Residual</th>\n",
       "      <td>696.0</td>\n",
       "      <td>1176.9565</td>\n",
       "      <td>1.6910</td>\n",
       "      <td>NaN</td>\n",
       "      <td>NaN</td>\n",
       "    </tr>\n",
       "  </tbody>\n",
       "</table>\n",
       "</div>"
      ],
      "text/plain": [
       "             df     sum_sq   mean_sq        F  PR(>F)\n",
       "X1          1.0   118.7986  118.7986  70.2522  0.0000\n",
       "X2          1.0    47.2047   47.2047  27.9148  0.0000\n",
       "X3          1.0    24.7888   24.7888  14.6590  0.0001\n",
       "Residual  696.0  1176.9565    1.6910      NaN     NaN"
      ]
     },
     "execution_count": 33,
     "metadata": {},
     "output_type": "execute_result"
    }
   ],
   "source": [
    "anova_lm( fit_2_stf, test = 'F', typ = 1).round(4)"
   ]
  },
  {
   "cell_type": "markdown",
   "id": "24e000f7-bd4d-432d-ad98-d05ea9c098d3",
   "metadata": {},
   "source": [
    "### 단계적 변수 선택법\n",
    "\n",
    "- `mlxtend.feature_selection` 패키지 사용 (sklearn으로 생성된 모델 적용 필요)\n",
    "\n",
    "-\n",
    "\n",
    "- `SequentialFeatureSelector( estimator, k_features=1, forward=True, floating=False, verbose=0, scoring=None, cv=5, n_jobs=1, pre_dispatch='2n_jobs', clone_estimator=True, fixed_features=None )`  \n",
    "https://rasbt.github.io/mlxtend/user_guide/feature_selection/SequentialFeatureSelector/\n",
    "\n",
    "1.  변수선택 방법은 `forward`, `floating` 파라미터로 설정  \n",
    "전진 선택법(sfs) : forward = True, floating = False  \n",
    "후진 제거법(sbs) : forward = False, floating = False  \n",
    "단계적 방법(sffs) : forward = True, floating = True  \n",
    "단계적 방법(sbfs) : forward = False, floating = True  \n",
    "\n",
    "2. 변수선택(모형선택) 기준은 `scoring` 파라미터로 설정  \n",
    "회귀 모델의 경우 : { `neg_mean_absolute_error`, `neg_mean_squared_error`, `neg_median_absolute_error`, `r2` }   \n",
    "분류 모델의 경우 { `accuracy`, `f1`, `precision`, `recall`, `roc_auc` }\n",
    "\n",
    "-\n",
    "\n",
    "- `plot_sequential_feature_selection( metric_dict, figsize=None, kind='std_dev', color='blue', bcolor='steelblue', marker='o', alpha=0.2, ylabel='Performance', confidence_interval=0.95 )`  \n",
    "https://rasbt.github.io/mlxtend/user_guide/plotting/plot_sequential_feature_selection/"
   ]
  },
  {
   "cell_type": "code",
   "execution_count": 34,
   "id": "c610fab6-9fc6-4449-9a0f-72b3268eb9cf",
   "metadata": {},
   "outputs": [
    {
     "data": {
      "text/plain": [
       "dict_keys(['explained_variance', 'r2', 'max_error', 'neg_median_absolute_error', 'neg_mean_absolute_error', 'neg_mean_absolute_percentage_error', 'neg_mean_squared_error', 'neg_mean_squared_log_error', 'neg_root_mean_squared_error', 'neg_mean_poisson_deviance', 'neg_mean_gamma_deviance', 'accuracy', 'top_k_accuracy', 'roc_auc', 'roc_auc_ovr', 'roc_auc_ovo', 'roc_auc_ovr_weighted', 'roc_auc_ovo_weighted', 'balanced_accuracy', 'average_precision', 'neg_log_loss', 'neg_brier_score', 'adjusted_rand_score', 'rand_score', 'homogeneity_score', 'completeness_score', 'v_measure_score', 'mutual_info_score', 'adjusted_mutual_info_score', 'normalized_mutual_info_score', 'fowlkes_mallows_score', 'precision', 'precision_macro', 'precision_micro', 'precision_samples', 'precision_weighted', 'recall', 'recall_macro', 'recall_micro', 'recall_samples', 'recall_weighted', 'f1', 'f1_macro', 'f1_micro', 'f1_samples', 'f1_weighted', 'jaccard', 'jaccard_macro', 'jaccard_micro', 'jaccard_samples', 'jaccard_weighted'])"
      ]
     },
     "execution_count": 34,
     "metadata": {},
     "output_type": "execute_result"
    }
   ],
   "source": [
    "SCORERS.keys()"
   ]
  },
  {
   "cell_type": "code",
   "execution_count": 35,
   "id": "cff04d84-9558-4b4c-be21-595fa9a16714",
   "metadata": {},
   "outputs": [
    {
     "name": "stdout",
     "output_type": "stream",
     "text": [
      "<class 'pandas.core.frame.DataFrame'>\n",
      "Int64Index: 700 entries, 1 to 700\n",
      "Data columns (total 5 columns):\n",
      " #   Column  Non-Null Count  Dtype\n",
      "---  ------  --------------  -----\n",
      " 0   Y       700 non-null    int64\n",
      " 1   X1      700 non-null    int64\n",
      " 2   X2      700 non-null    int64\n",
      " 3   X3      700 non-null    int64\n",
      " 4   X4      700 non-null    int64\n",
      "dtypes: int64(5)\n",
      "memory usage: 49.0 KB\n"
     ]
    }
   ],
   "source": [
    "df_stf.info()"
   ]
  },
  {
   "cell_type": "code",
   "execution_count": 36,
   "id": "b31ee317-0360-43a5-8ef8-7df1a2b670f6",
   "metadata": {},
   "outputs": [],
   "source": [
    "x = df_stf.iloc[:, 1:5]\n",
    "y = df_stf.iloc[:, 0]"
   ]
  },
  {
   "cell_type": "code",
   "execution_count": 37,
   "id": "ba7c9aef-96b2-408b-9abe-57fea1129f90",
   "metadata": {},
   "outputs": [
    {
     "data": {
      "image/png": "[encoded data removed]",
      "text/plain": [
       "<Figure size 640x480 with 1 Axes>"
      ]
     },
     "metadata": {},
     "output_type": "display_data"
    },
    {
     "data": {
      "text/html": [
       "<div>\n",
       "<style scoped>\n",
       "    .dataframe tbody tr th:only-of-type {\n",
       "        vertical-align: middle;\n",
       "    }\n",
       "\n",
       "    .dataframe tbody tr th {\n",
       "        vertical-align: top;\n",
       "    }\n",
       "\n",
       "    .dataframe thead th {\n",
       "        text-align: right;\n",
       "    }\n",
       "</style>\n",
       "<table border=\"1\" class=\"dataframe\">\n",
       "  <thead>\n",
       "    <tr style=\"text-align: right;\">\n",
       "      <th></th>\n",
       "      <th>feature_idx</th>\n",
       "      <th>cv_scores</th>\n",
       "      <th>avg_score</th>\n",
       "      <th>feature_names</th>\n",
       "      <th>ci_bound</th>\n",
       "      <th>std_dev</th>\n",
       "      <th>std_err</th>\n",
       "    </tr>\n",
       "  </thead>\n",
       "  <tbody>\n",
       "    <tr>\n",
       "      <th>1</th>\n",
       "      <td>(2,)</td>\n",
       "      <td>[0.11172850107588017, -0.044981548476835886, 0...</td>\n",
       "      <td>0.072914</td>\n",
       "      <td>(X3,)</td>\n",
       "      <td>0.06898</td>\n",
       "      <td>0.079143</td>\n",
       "      <td>0.029913</td>\n",
       "    </tr>\n",
       "    <tr>\n",
       "      <th>2</th>\n",
       "      <td>(0, 2)</td>\n",
       "      <td>[0.1577155312694588, -0.015314072761265729, 0....</td>\n",
       "      <td>0.094592</td>\n",
       "      <td>(X1, X3)</td>\n",
       "      <td>0.050841</td>\n",
       "      <td>0.058332</td>\n",
       "      <td>0.022047</td>\n",
       "    </tr>\n",
       "    <tr>\n",
       "      <th>3</th>\n",
       "      <td>(0, 1, 2)</td>\n",
       "      <td>[0.17283151202506442, 0.005716935434273873, 0....</td>\n",
       "      <td>0.100678</td>\n",
       "      <td>(X1, X2, X3)</td>\n",
       "      <td>0.050122</td>\n",
       "      <td>0.057507</td>\n",
       "      <td>0.021736</td>\n",
       "    </tr>\n",
       "  </tbody>\n",
       "</table>\n",
       "</div>"
      ],
      "text/plain": [
       "  feature_idx                                          cv_scores avg_score  \\\n",
       "1        (2,)  [0.11172850107588017, -0.044981548476835886, 0...  0.072914   \n",
       "2      (0, 2)  [0.1577155312694588, -0.015314072761265729, 0....  0.094592   \n",
       "3   (0, 1, 2)  [0.17283151202506442, 0.005716935434273873, 0....  0.100678   \n",
       "\n",
       "  feature_names  ci_bound   std_dev   std_err  \n",
       "1         (X3,)   0.06898  0.079143  0.029913  \n",
       "2      (X1, X3)  0.050841  0.058332  0.022047  \n",
       "3  (X1, X2, X3)  0.050122  0.057507  0.021736  "
      ]
     },
     "execution_count": 37,
     "metadata": {},
     "output_type": "execute_result"
    }
   ],
   "source": [
    "# 사이킷런으로 선형회귀모델 생성\n",
    "lr = LinearRegression()\n",
    "\n",
    "# mlxtend.feature_selection 의 SequentialFeatureSelector 적용\n",
    "sffs = SFS( lr,\n",
    "            k_features=3,  # 변수의 개수 선택\n",
    "            forward=True, floating=True,  # 단계적 선택법을 하되 Top Down 방향으로...\n",
    "            scoring='r2',  # 선택 기준은 R-square\n",
    "            cv = 8,  # 교차검증은 8-fold\n",
    "            n_jobs=-1 )  # 연산할 때 모든 CPU 코어 사용\n",
    "\n",
    "sffs.fit(x,y)\n",
    "\n",
    "fig = plot_sfs(sffs.get_metric_dict(), kind='std_err')\n",
    "\n",
    "plt.title('Sequential Forward Selection (w. StdErr)')\n",
    "plt.grid()\n",
    "plt.show()\n",
    "\n",
    "pd.DataFrame.from_dict(sffs.get_metric_dict()).T"
   ]
  },
  {
   "cell_type": "code",
   "execution_count": 38,
   "id": "57a12fc1-fe0f-4246-a616-e024d8e0fbee",
   "metadata": {},
   "outputs": [
    {
     "name": "stdout",
     "output_type": "stream",
     "text": [
      "                            OLS Regression Results                            \n",
      "==============================================================================\n",
      "Dep. Variable:                      Y   R-squared:                       0.139\n",
      "Model:                            OLS   Adj. R-squared:                  0.136\n",
      "Method:                 Least Squares   F-statistic:                     37.61\n",
      "Date:                Wed, 01 Sep 2021   Prob (F-statistic):           1.56e-22\n",
      "Time:                        23:38:42   Log-Likelihood:                -1175.1\n",
      "No. Observations:                 700   AIC:                             2358.\n",
      "Df Residuals:                     696   BIC:                             2376.\n",
      "Df Model:                           3                                         \n",
      "Covariance Type:            nonrobust                                         \n",
      "==============================================================================\n",
      "                 coef    std err          t      P>|t|      [0.025      0.975]\n",
      "------------------------------------------------------------------------------\n",
      "Intercept      1.4020      0.334      4.193      0.000       0.746       2.059\n",
      "X1             0.2436      0.057      4.254      0.000       0.131       0.356\n",
      "X2             0.1763      0.065      2.712      0.007       0.049       0.304\n",
      "X3             0.2504      0.065      3.829      0.000       0.122       0.379\n",
      "==============================================================================\n",
      "Omnibus:                      140.914   Durbin-Watson:                   1.803\n",
      "Prob(Omnibus):                  0.000   Jarque-Bera (JB):              452.399\n",
      "Skew:                           0.951   Prob(JB):                     5.79e-99\n",
      "Kurtosis:                       6.449   Cond. No.                         62.8\n",
      "==============================================================================\n",
      "\n",
      "Notes:\n",
      "[1] Standard Errors assume that the covariance matrix of the errors is correctly specified.\n",
      "\n"
     ]
    }
   ],
   "source": [
    "model_2_stf = ols( data = df_stf, formula = 'Y ~ X1+X2+X3')\n",
    "\n",
    "fit_2_stf = model_2_stf.fit()\n",
    "\n",
    "print( fit_2_stf.summary() )\n",
    "print()"
   ]
  },
  {
   "cell_type": "raw",
   "id": "d8238ac7-73af-4de2-9167-de6a40ea4110",
   "metadata": {},
   "source": []
  },
  {
   "cell_type": "markdown",
   "id": "b5d1bf0c-de99-47df-92ed-2f9686b5c398",
   "metadata": {},
   "source": [
    "## 다중공선성"
   ]
  },
  {
   "cell_type": "code",
   "execution_count": 39,
   "id": "d078dde1-c498-4be3-92fd-7c2b433c99ed",
   "metadata": {},
   "outputs": [
    {
     "data": {
      "text/html": [
       "<div>\n",
       "<style scoped>\n",
       "    .dataframe tbody tr th:only-of-type {\n",
       "        vertical-align: middle;\n",
       "    }\n",
       "\n",
       "    .dataframe tbody tr th {\n",
       "        vertical-align: top;\n",
       "    }\n",
       "\n",
       "    .dataframe thead th {\n",
       "        text-align: right;\n",
       "    }\n",
       "</style>\n",
       "<table border=\"1\" class=\"dataframe\">\n",
       "  <thead>\n",
       "    <tr style=\"text-align: right;\">\n",
       "      <th></th>\n",
       "      <th>Y</th>\n",
       "      <th>X1</th>\n",
       "      <th>X2</th>\n",
       "      <th>X3</th>\n",
       "      <th>X4</th>\n",
       "    </tr>\n",
       "    <tr>\n",
       "      <th>ID</th>\n",
       "      <th></th>\n",
       "      <th></th>\n",
       "      <th></th>\n",
       "      <th></th>\n",
       "      <th></th>\n",
       "    </tr>\n",
       "  </thead>\n",
       "  <tbody>\n",
       "    <tr>\n",
       "      <th>1</th>\n",
       "      <td>4.0</td>\n",
       "      <td>4.0</td>\n",
       "      <td>4.0</td>\n",
       "      <td>4.0</td>\n",
       "      <td>4.0</td>\n",
       "    </tr>\n",
       "    <tr>\n",
       "      <th>2</th>\n",
       "      <td>4.0</td>\n",
       "      <td>4.0</td>\n",
       "      <td>4.0</td>\n",
       "      <td>3.0</td>\n",
       "      <td>3.5</td>\n",
       "    </tr>\n",
       "    <tr>\n",
       "      <th>3</th>\n",
       "      <td>4.0</td>\n",
       "      <td>4.0</td>\n",
       "      <td>3.0</td>\n",
       "      <td>4.5</td>\n",
       "      <td>4.0</td>\n",
       "    </tr>\n",
       "    <tr>\n",
       "      <th>4</th>\n",
       "      <td>4.0</td>\n",
       "      <td>4.0</td>\n",
       "      <td>4.0</td>\n",
       "      <td>3.0</td>\n",
       "      <td>3.5</td>\n",
       "    </tr>\n",
       "    <tr>\n",
       "      <th>5</th>\n",
       "      <td>5.0</td>\n",
       "      <td>5.0</td>\n",
       "      <td>5.0</td>\n",
       "      <td>4.0</td>\n",
       "      <td>4.5</td>\n",
       "    </tr>\n",
       "    <tr>\n",
       "      <th>6</th>\n",
       "      <td>4.0</td>\n",
       "      <td>4.0</td>\n",
       "      <td>5.0</td>\n",
       "      <td>3.0</td>\n",
       "      <td>3.5</td>\n",
       "    </tr>\n",
       "    <tr>\n",
       "      <th>7</th>\n",
       "      <td>4.0</td>\n",
       "      <td>4.0</td>\n",
       "      <td>4.0</td>\n",
       "      <td>3.0</td>\n",
       "      <td>3.5</td>\n",
       "    </tr>\n",
       "    <tr>\n",
       "      <th>8</th>\n",
       "      <td>5.0</td>\n",
       "      <td>5.0</td>\n",
       "      <td>4.0</td>\n",
       "      <td>4.0</td>\n",
       "      <td>4.5</td>\n",
       "    </tr>\n",
       "    <tr>\n",
       "      <th>9</th>\n",
       "      <td>4.0</td>\n",
       "      <td>4.0</td>\n",
       "      <td>4.0</td>\n",
       "      <td>3.5</td>\n",
       "      <td>4.0</td>\n",
       "    </tr>\n",
       "    <tr>\n",
       "      <th>10</th>\n",
       "      <td>4.0</td>\n",
       "      <td>4.0</td>\n",
       "      <td>5.0</td>\n",
       "      <td>3.0</td>\n",
       "      <td>3.5</td>\n",
       "    </tr>\n",
       "    <tr>\n",
       "      <th>11</th>\n",
       "      <td>3.0</td>\n",
       "      <td>4.0</td>\n",
       "      <td>4.0</td>\n",
       "      <td>3.0</td>\n",
       "      <td>3.5</td>\n",
       "    </tr>\n",
       "    <tr>\n",
       "      <th>12</th>\n",
       "      <td>4.0</td>\n",
       "      <td>3.0</td>\n",
       "      <td>3.0</td>\n",
       "      <td>3.0</td>\n",
       "      <td>3.0</td>\n",
       "    </tr>\n",
       "    <tr>\n",
       "      <th>13</th>\n",
       "      <td>4.0</td>\n",
       "      <td>4.0</td>\n",
       "      <td>4.0</td>\n",
       "      <td>4.0</td>\n",
       "      <td>4.0</td>\n",
       "    </tr>\n",
       "    <tr>\n",
       "      <th>14</th>\n",
       "      <td>4.0</td>\n",
       "      <td>4.0</td>\n",
       "      <td>4.0</td>\n",
       "      <td>3.0</td>\n",
       "      <td>3.5</td>\n",
       "    </tr>\n",
       "    <tr>\n",
       "      <th>15</th>\n",
       "      <td>4.0</td>\n",
       "      <td>4.0</td>\n",
       "      <td>4.0</td>\n",
       "      <td>3.0</td>\n",
       "      <td>3.5</td>\n",
       "    </tr>\n",
       "    <tr>\n",
       "      <th>16</th>\n",
       "      <td>4.0</td>\n",
       "      <td>4.0</td>\n",
       "      <td>3.0</td>\n",
       "      <td>2.5</td>\n",
       "      <td>3.0</td>\n",
       "    </tr>\n",
       "    <tr>\n",
       "      <th>17</th>\n",
       "      <td>4.0</td>\n",
       "      <td>4.0</td>\n",
       "      <td>3.0</td>\n",
       "      <td>3.0</td>\n",
       "      <td>3.5</td>\n",
       "    </tr>\n",
       "    <tr>\n",
       "      <th>18</th>\n",
       "      <td>4.0</td>\n",
       "      <td>4.0</td>\n",
       "      <td>5.0</td>\n",
       "      <td>5.0</td>\n",
       "      <td>4.5</td>\n",
       "    </tr>\n",
       "    <tr>\n",
       "      <th>19</th>\n",
       "      <td>5.0</td>\n",
       "      <td>4.0</td>\n",
       "      <td>4.0</td>\n",
       "      <td>5.0</td>\n",
       "      <td>4.5</td>\n",
       "    </tr>\n",
       "    <tr>\n",
       "      <th>20</th>\n",
       "      <td>5.0</td>\n",
       "      <td>5.0</td>\n",
       "      <td>4.0</td>\n",
       "      <td>4.0</td>\n",
       "      <td>4.5</td>\n",
       "    </tr>\n",
       "  </tbody>\n",
       "</table>\n",
       "</div>"
      ],
      "text/plain": [
       "      Y   X1   X2   X3   X4\n",
       "ID                         \n",
       "1   4.0  4.0  4.0  4.0  4.0\n",
       "2   4.0  4.0  4.0  3.0  3.5\n",
       "3   4.0  4.0  3.0  4.5  4.0\n",
       "4   4.0  4.0  4.0  3.0  3.5\n",
       "5   5.0  5.0  5.0  4.0  4.5\n",
       "6   4.0  4.0  5.0  3.0  3.5\n",
       "7   4.0  4.0  4.0  3.0  3.5\n",
       "8   5.0  5.0  4.0  4.0  4.5\n",
       "9   4.0  4.0  4.0  3.5  4.0\n",
       "10  4.0  4.0  5.0  3.0  3.5\n",
       "11  3.0  4.0  4.0  3.0  3.5\n",
       "12  4.0  3.0  3.0  3.0  3.0\n",
       "13  4.0  4.0  4.0  4.0  4.0\n",
       "14  4.0  4.0  4.0  3.0  3.5\n",
       "15  4.0  4.0  4.0  3.0  3.5\n",
       "16  4.0  4.0  3.0  2.5  3.0\n",
       "17  4.0  4.0  3.0  3.0  3.5\n",
       "18  4.0  4.0  5.0  5.0  4.5\n",
       "19  5.0  4.0  4.0  5.0  4.5\n",
       "20  5.0  5.0  4.0  4.0  4.5"
      ]
     },
     "execution_count": 39,
     "metadata": {},
     "output_type": "execute_result"
    }
   ],
   "source": [
    "df_multico = pd.read_csv(r'C:\\Users\\Boanerges\\GitHub\\TIL\\rawdata\\Multico.csv',\n",
    "                         index_col = 'ID')\n",
    "\n",
    "df_multico"
   ]
  },
  {
   "cell_type": "code",
   "execution_count": 40,
   "id": "3116ea08-25dd-4b37-aec8-bace2f7e89b5",
   "metadata": {},
   "outputs": [
    {
     "name": "stdout",
     "output_type": "stream",
     "text": [
      "                            OLS Regression Results                            \n",
      "==============================================================================\n",
      "Dep. Variable:                      Y   R-squared:                       0.540\n",
      "Model:                            OLS   Adj. R-squared:                  0.417\n",
      "Method:                 Least Squares   F-statistic:                     4.404\n",
      "Date:                Wed, 01 Sep 2021   Prob (F-statistic):             0.0149\n",
      "Time:                        23:38:42   Log-Likelihood:                -5.8055\n",
      "No. Observations:                  20   AIC:                             21.61\n",
      "Df Residuals:                      15   BIC:                             26.59\n",
      "Df Model:                           4                                         \n",
      "Covariance Type:            nonrobust                                         \n",
      "==============================================================================\n",
      "                 coef    std err          t      P>|t|      [0.025      0.975]\n",
      "------------------------------------------------------------------------------\n",
      "Intercept      1.1511      0.858      1.341      0.200      -0.678       2.980\n",
      "X1             0.4306      0.504      0.854      0.407      -0.644       1.505\n",
      "X2            -0.1246      0.158     -0.786      0.444      -0.462       0.213\n",
      "X3             0.0118      0.491      0.024      0.981      -1.035       1.058\n",
      "X4             0.4448      0.966      0.460      0.652      -1.614       2.504\n",
      "==============================================================================\n",
      "Omnibus:                        8.376   Durbin-Watson:                   2.843\n",
      "Prob(Omnibus):                  0.015   Jarque-Bera (JB):                6.223\n",
      "Skew:                          -0.892   Prob(JB):                       0.0445\n",
      "Kurtosis:                       5.070   Cond. No.                         113.\n",
      "==============================================================================\n",
      "\n",
      "Notes:\n",
      "[1] Standard Errors assume that the covariance matrix of the errors is correctly specified.\n",
      "\n"
     ]
    }
   ],
   "source": [
    "model_mtc = ols( data = df_multico, formula = 'Y ~ X1+X2+X3+X4')\n",
    "\n",
    "fit_mtc = model_mtc.fit()\n",
    "\n",
    "print( fit_mtc.summary() )\n",
    "print()"
   ]
  },
  {
   "cell_type": "code",
   "execution_count": 41,
   "id": "278d38e3-dc7f-4c22-a073-4118d40dc070",
   "metadata": {},
   "outputs": [
    {
     "data": {
      "text/html": [
       "<div>\n",
       "<style scoped>\n",
       "    .dataframe tbody tr th:only-of-type {\n",
       "        vertical-align: middle;\n",
       "    }\n",
       "\n",
       "    .dataframe tbody tr th {\n",
       "        vertical-align: top;\n",
       "    }\n",
       "\n",
       "    .dataframe thead th {\n",
       "        text-align: right;\n",
       "    }\n",
       "</style>\n",
       "<table border=\"1\" class=\"dataframe\">\n",
       "  <thead>\n",
       "    <tr style=\"text-align: right;\">\n",
       "      <th></th>\n",
       "      <th>df</th>\n",
       "      <th>sum_sq</th>\n",
       "      <th>mean_sq</th>\n",
       "      <th>F</th>\n",
       "      <th>PR(&gt;F)</th>\n",
       "    </tr>\n",
       "  </thead>\n",
       "  <tbody>\n",
       "    <tr>\n",
       "      <th>X1</th>\n",
       "      <td>1.0</td>\n",
       "      <td>1.9184</td>\n",
       "      <td>1.9184</td>\n",
       "      <td>13.7516</td>\n",
       "      <td>0.0021</td>\n",
       "    </tr>\n",
       "    <tr>\n",
       "      <th>X2</th>\n",
       "      <td>1.0</td>\n",
       "      <td>0.0255</td>\n",
       "      <td>0.0255</td>\n",
       "      <td>0.1829</td>\n",
       "      <td>0.6750</td>\n",
       "    </tr>\n",
       "    <tr>\n",
       "      <th>X3</th>\n",
       "      <td>1.0</td>\n",
       "      <td>0.4839</td>\n",
       "      <td>0.4839</td>\n",
       "      <td>3.4686</td>\n",
       "      <td>0.0822</td>\n",
       "    </tr>\n",
       "    <tr>\n",
       "      <th>X4</th>\n",
       "      <td>1.0</td>\n",
       "      <td>0.0296</td>\n",
       "      <td>0.0296</td>\n",
       "      <td>0.2120</td>\n",
       "      <td>0.6518</td>\n",
       "    </tr>\n",
       "    <tr>\n",
       "      <th>Residual</th>\n",
       "      <td>15.0</td>\n",
       "      <td>2.0926</td>\n",
       "      <td>0.1395</td>\n",
       "      <td>NaN</td>\n",
       "      <td>NaN</td>\n",
       "    </tr>\n",
       "  </tbody>\n",
       "</table>\n",
       "</div>"
      ],
      "text/plain": [
       "            df  sum_sq  mean_sq        F  PR(>F)\n",
       "X1         1.0  1.9184   1.9184  13.7516  0.0021\n",
       "X2         1.0  0.0255   0.0255   0.1829  0.6750\n",
       "X3         1.0  0.4839   0.4839   3.4686  0.0822\n",
       "X4         1.0  0.0296   0.0296   0.2120  0.6518\n",
       "Residual  15.0  2.0926   0.1395      NaN     NaN"
      ]
     },
     "execution_count": 41,
     "metadata": {},
     "output_type": "execute_result"
    }
   ],
   "source": [
    "# 분산분석 F-test\n",
    "anova_lm( fit_mtc, test = 'F', typ = 1).round(4)"
   ]
  },
  {
   "cell_type": "raw",
   "id": "9bf77d54-b9e0-42a4-8b2a-bf9f4e69dd04",
   "metadata": {},
   "source": []
  },
  {
   "cell_type": "markdown",
   "id": "acc689c3-4ba9-4fda-9221-423913f47d86",
   "metadata": {},
   "source": [
    "### 다중공선성의 진단"
   ]
  },
  {
   "cell_type": "markdown",
   "id": "15da45dc-3828-4317-b62f-c317092d5702",
   "metadata": {},
   "source": [
    "#### 상관계수"
   ]
  },
  {
   "cell_type": "code",
   "execution_count": 42,
   "id": "84609cd2-1c35-47c4-aa77-1b33218ab1d6",
   "metadata": {},
   "outputs": [
    {
     "data": {
      "text/html": [
       "<div>\n",
       "<style scoped>\n",
       "    .dataframe tbody tr th:only-of-type {\n",
       "        vertical-align: middle;\n",
       "    }\n",
       "\n",
       "    .dataframe tbody tr th {\n",
       "        vertical-align: top;\n",
       "    }\n",
       "\n",
       "    .dataframe thead th {\n",
       "        text-align: right;\n",
       "    }\n",
       "</style>\n",
       "<table border=\"1\" class=\"dataframe\">\n",
       "  <thead>\n",
       "    <tr style=\"text-align: right;\">\n",
       "      <th></th>\n",
       "      <th>X</th>\n",
       "      <th>Y</th>\n",
       "      <th>method</th>\n",
       "      <th>alternative</th>\n",
       "      <th>n</th>\n",
       "      <th>r</th>\n",
       "      <th>CI95%</th>\n",
       "      <th>p-unc</th>\n",
       "      <th>BF10</th>\n",
       "      <th>power</th>\n",
       "    </tr>\n",
       "  </thead>\n",
       "  <tbody>\n",
       "    <tr>\n",
       "      <th>0</th>\n",
       "      <td>Y</td>\n",
       "      <td>X1</td>\n",
       "      <td>pearson</td>\n",
       "      <td>two-sided</td>\n",
       "      <td>20</td>\n",
       "      <td>0.649331</td>\n",
       "      <td>[0.29, 0.85]</td>\n",
       "      <td>1.947543e-03</td>\n",
       "      <td>24.253</td>\n",
       "      <td>0.902509</td>\n",
       "    </tr>\n",
       "    <tr>\n",
       "      <th>1</th>\n",
       "      <td>Y</td>\n",
       "      <td>X2</td>\n",
       "      <td>pearson</td>\n",
       "      <td>two-sided</td>\n",
       "      <td>20</td>\n",
       "      <td>0.165748</td>\n",
       "      <td>[-0.3, 0.57]</td>\n",
       "      <td>4.849427e-01</td>\n",
       "      <td>0.348</td>\n",
       "      <td>0.107835</td>\n",
       "    </tr>\n",
       "    <tr>\n",
       "      <th>2</th>\n",
       "      <td>Y</td>\n",
       "      <td>X3</td>\n",
       "      <td>pearson</td>\n",
       "      <td>two-sided</td>\n",
       "      <td>20</td>\n",
       "      <td>0.501832</td>\n",
       "      <td>[0.08, 0.77]</td>\n",
       "      <td>2.416338e-02</td>\n",
       "      <td>2.975</td>\n",
       "      <td>0.641721</td>\n",
       "    </tr>\n",
       "    <tr>\n",
       "      <th>3</th>\n",
       "      <td>Y</td>\n",
       "      <td>X4</td>\n",
       "      <td>pearson</td>\n",
       "      <td>two-sided</td>\n",
       "      <td>20</td>\n",
       "      <td>0.670358</td>\n",
       "      <td>[0.32, 0.86]</td>\n",
       "      <td>1.218921e-03</td>\n",
       "      <td>36.18</td>\n",
       "      <td>0.926730</td>\n",
       "    </tr>\n",
       "    <tr>\n",
       "      <th>4</th>\n",
       "      <td>X1</td>\n",
       "      <td>X2</td>\n",
       "      <td>pearson</td>\n",
       "      <td>two-sided</td>\n",
       "      <td>20</td>\n",
       "      <td>0.362738</td>\n",
       "      <td>[-0.1, 0.69]</td>\n",
       "      <td>1.159856e-01</td>\n",
       "      <td>0.879</td>\n",
       "      <td>0.359579</td>\n",
       "    </tr>\n",
       "    <tr>\n",
       "      <th>5</th>\n",
       "      <td>X1</td>\n",
       "      <td>X3</td>\n",
       "      <td>pearson</td>\n",
       "      <td>two-sided</td>\n",
       "      <td>20</td>\n",
       "      <td>0.312641</td>\n",
       "      <td>[-0.15, 0.66]</td>\n",
       "      <td>1.795702e-01</td>\n",
       "      <td>0.643</td>\n",
       "      <td>0.275109</td>\n",
       "    </tr>\n",
       "    <tr>\n",
       "      <th>6</th>\n",
       "      <td>X1</td>\n",
       "      <td>X4</td>\n",
       "      <td>pearson</td>\n",
       "      <td>two-sided</td>\n",
       "      <td>20</td>\n",
       "      <td>0.686210</td>\n",
       "      <td>[0.35, 0.87]</td>\n",
       "      <td>8.353890e-04</td>\n",
       "      <td>50.019</td>\n",
       "      <td>0.942331</td>\n",
       "    </tr>\n",
       "    <tr>\n",
       "      <th>7</th>\n",
       "      <td>X2</td>\n",
       "      <td>X3</td>\n",
       "      <td>pearson</td>\n",
       "      <td>two-sided</td>\n",
       "      <td>20</td>\n",
       "      <td>0.220998</td>\n",
       "      <td>[-0.25, 0.6]</td>\n",
       "      <td>3.490963e-01</td>\n",
       "      <td>0.417</td>\n",
       "      <td>0.156612</td>\n",
       "    </tr>\n",
       "    <tr>\n",
       "      <th>8</th>\n",
       "      <td>X2</td>\n",
       "      <td>X4</td>\n",
       "      <td>pearson</td>\n",
       "      <td>two-sided</td>\n",
       "      <td>20</td>\n",
       "      <td>0.407705</td>\n",
       "      <td>[-0.04, 0.72]</td>\n",
       "      <td>7.436289e-02</td>\n",
       "      <td>1.227</td>\n",
       "      <td>0.445434</td>\n",
       "    </tr>\n",
       "    <tr>\n",
       "      <th>9</th>\n",
       "      <td>X3</td>\n",
       "      <td>X4</td>\n",
       "      <td>pearson</td>\n",
       "      <td>two-sided</td>\n",
       "      <td>20</td>\n",
       "      <td>0.879395</td>\n",
       "      <td>[0.72, 0.95]</td>\n",
       "      <td>3.283794e-07</td>\n",
       "      <td>4.771e+04</td>\n",
       "      <td>0.999925</td>\n",
       "    </tr>\n",
       "  </tbody>\n",
       "</table>\n",
       "</div>"
      ],
      "text/plain": [
       "    X   Y   method alternative   n         r          CI95%         p-unc  \\\n",
       "0   Y  X1  pearson   two-sided  20  0.649331   [0.29, 0.85]  1.947543e-03   \n",
       "1   Y  X2  pearson   two-sided  20  0.165748   [-0.3, 0.57]  4.849427e-01   \n",
       "2   Y  X3  pearson   two-sided  20  0.501832   [0.08, 0.77]  2.416338e-02   \n",
       "3   Y  X4  pearson   two-sided  20  0.670358   [0.32, 0.86]  1.218921e-03   \n",
       "4  X1  X2  pearson   two-sided  20  0.362738   [-0.1, 0.69]  1.159856e-01   \n",
       "5  X1  X3  pearson   two-sided  20  0.312641  [-0.15, 0.66]  1.795702e-01   \n",
       "6  X1  X4  pearson   two-sided  20  0.686210   [0.35, 0.87]  8.353890e-04   \n",
       "7  X2  X3  pearson   two-sided  20  0.220998   [-0.25, 0.6]  3.490963e-01   \n",
       "8  X2  X4  pearson   two-sided  20  0.407705  [-0.04, 0.72]  7.436289e-02   \n",
       "9  X3  X4  pearson   two-sided  20  0.879395   [0.72, 0.95]  3.283794e-07   \n",
       "\n",
       "        BF10     power  \n",
       "0     24.253  0.902509  \n",
       "1      0.348  0.107835  \n",
       "2      2.975  0.641721  \n",
       "3      36.18  0.926730  \n",
       "4      0.879  0.359579  \n",
       "5      0.643  0.275109  \n",
       "6     50.019  0.942331  \n",
       "7      0.417  0.156612  \n",
       "8      1.227  0.445434  \n",
       "9  4.771e+04  0.999925  "
      ]
     },
     "execution_count": 42,
     "metadata": {},
     "output_type": "execute_result"
    }
   ],
   "source": [
    "df_multico.pairwise_corr()"
   ]
  },
  {
   "cell_type": "code",
   "execution_count": 43,
   "id": "9c1ce7b7-38bd-4c1d-88a3-c8fb93175155",
   "metadata": {},
   "outputs": [
    {
     "name": "stdout",
     "output_type": "stream",
     "text": [
      "\n"
     ]
    },
    {
     "data": {
      "image/png": "[encoded data removed]",
      "text/plain": [
       "<Figure size 640x480 with 2 Axes>"
      ]
     },
     "metadata": {},
     "output_type": "display_data"
    }
   ],
   "source": [
    "sb.heatmap(df_multico.iloc[:, 1:].corr(), annot = True)\n",
    "print()"
   ]
  },
  {
   "cell_type": "markdown",
   "id": "484115fb-6784-41cb-8dfd-4629dddfa25c",
   "metadata": {},
   "source": [
    "#### VIF (분산확대인자)\n",
    "\n",
    "- `statsmodels.stats.outliers_influence.variance_inflation_factor( exog, exog_idx )`  \n",
    "https://www.statsmodels.org/stable/generated/statsmodels.stats.outliers_influence.variance_inflation_factor.html\n",
    "\n",
    "- 10보다 크면(즉, 해당 변수의 변이가 다른 설명변수들에 의해서 90% 이상 설명이 되면) 다중공선성이 심각한 것으로 간주한다."
   ]
  },
  {
   "cell_type": "code",
   "execution_count": 44,
   "id": "2ac01c12-8dd3-4e8e-8da8-f6dd5eabc025",
   "metadata": {},
   "outputs": [
    {
     "data": {
      "text/plain": [
       "['Intercept', 'X1', 'X2', 'X3', 'X4']"
      ]
     },
     "execution_count": 44,
     "metadata": {},
     "output_type": "execute_result"
    }
   ],
   "source": [
    "# 설명변수들의 이름\n",
    "\n",
    "model_mtc.exog_names"
   ]
  },
  {
   "cell_type": "code",
   "execution_count": 45,
   "id": "89f338b1-c4b6-4861-bb5c-9cc8d1b6a44d",
   "metadata": {},
   "outputs": [
    {
     "name": "stdout",
     "output_type": "stream",
     "text": [
      "0 Intercept\n",
      "1 X1\n",
      "2 X2\n",
      "3 X3\n",
      "4 X4\n"
     ]
    }
   ],
   "source": [
    "for i, column in enumerate(model_mtc.exog_names):\n",
    "    print( i, column )"
   ]
  },
  {
   "cell_type": "code",
   "execution_count": 46,
   "id": "3c8c4521-3a17-428b-bd62-fbb1bfbc3fb6",
   "metadata": {},
   "outputs": [
    {
     "data": {
      "text/plain": [
       "array([[1. , 4. , 4. , 4. , 4. ],\n",
       "       [1. , 4. , 4. , 3. , 3.5],\n",
       "       [1. , 4. , 3. , 4.5, 4. ],\n",
       "       [1. , 4. , 4. , 3. , 3.5],\n",
       "       [1. , 5. , 5. , 4. , 4.5],\n",
       "       [1. , 4. , 5. , 3. , 3.5],\n",
       "       [1. , 4. , 4. , 3. , 3.5],\n",
       "       [1. , 5. , 4. , 4. , 4.5],\n",
       "       [1. , 4. , 4. , 3.5, 4. ],\n",
       "       [1. , 4. , 5. , 3. , 3.5],\n",
       "       [1. , 4. , 4. , 3. , 3.5],\n",
       "       [1. , 3. , 3. , 3. , 3. ],\n",
       "       [1. , 4. , 4. , 4. , 4. ],\n",
       "       [1. , 4. , 4. , 3. , 3.5],\n",
       "       [1. , 4. , 4. , 3. , 3.5],\n",
       "       [1. , 4. , 3. , 2.5, 3. ],\n",
       "       [1. , 4. , 3. , 3. , 3.5],\n",
       "       [1. , 4. , 5. , 5. , 4.5],\n",
       "       [1. , 4. , 4. , 5. , 4.5],\n",
       "       [1. , 5. , 4. , 4. , 4.5]])"
      ]
     },
     "execution_count": 46,
     "metadata": {},
     "output_type": "execute_result"
    }
   ],
   "source": [
    "# 설명변수들에 대한 데이터 배열\n",
    "\n",
    "model_mtc.exog"
   ]
  },
  {
   "cell_type": "code",
   "execution_count": 47,
   "id": "b6d13bdb-08b3-47cd-ab74-08640c9af508",
   "metadata": {},
   "outputs": [
    {
     "name": "stdout",
     "output_type": "stream",
     "text": [
      "105.59693699965166\n",
      "\n",
      "6.927097111033759\n",
      "\n",
      "1.440306300034806\n",
      "\n",
      "17.68846153846154\n",
      "\n",
      "31.44239470936308\n",
      "\n"
     ]
    }
   ],
   "source": [
    "# 분산확대인자 출력\n",
    "\n",
    "print( variance_inflation_factor( model_mtc.exog, 0) )\n",
    "print()\n",
    "print( variance_inflation_factor( model_mtc.exog, 1) )\n",
    "print()\n",
    "print( variance_inflation_factor( model_mtc.exog, 2) )\n",
    "print()\n",
    "print( variance_inflation_factor( model_mtc.exog, 3) )\n",
    "print()\n",
    "print( variance_inflation_factor( model_mtc.exog, 4) )\n",
    "print()"
   ]
  },
  {
   "cell_type": "code",
   "execution_count": 48,
   "id": "ba6e8d24-0ced-4370-b4d0-41e3b7fab902",
   "metadata": {},
   "outputs": [
    {
     "data": {
      "text/html": [
       "<div>\n",
       "<style scoped>\n",
       "    .dataframe tbody tr th:only-of-type {\n",
       "        vertical-align: middle;\n",
       "    }\n",
       "\n",
       "    .dataframe tbody tr th {\n",
       "        vertical-align: top;\n",
       "    }\n",
       "\n",
       "    .dataframe thead th {\n",
       "        text-align: right;\n",
       "    }\n",
       "</style>\n",
       "<table border=\"1\" class=\"dataframe\">\n",
       "  <thead>\n",
       "    <tr style=\"text-align: right;\">\n",
       "      <th></th>\n",
       "      <th>X</th>\n",
       "      <th>VIF</th>\n",
       "    </tr>\n",
       "  </thead>\n",
       "  <tbody>\n",
       "    <tr>\n",
       "      <th>0</th>\n",
       "      <td>Intercept</td>\n",
       "      <td>105.596937</td>\n",
       "    </tr>\n",
       "    <tr>\n",
       "      <th>1</th>\n",
       "      <td>X1</td>\n",
       "      <td>6.927097</td>\n",
       "    </tr>\n",
       "    <tr>\n",
       "      <th>2</th>\n",
       "      <td>X2</td>\n",
       "      <td>1.440306</td>\n",
       "    </tr>\n",
       "    <tr>\n",
       "      <th>3</th>\n",
       "      <td>X3</td>\n",
       "      <td>17.688462</td>\n",
       "    </tr>\n",
       "    <tr>\n",
       "      <th>4</th>\n",
       "      <td>X4</td>\n",
       "      <td>31.442395</td>\n",
       "    </tr>\n",
       "  </tbody>\n",
       "</table>\n",
       "</div>"
      ],
      "text/plain": [
       "           X         VIF\n",
       "0  Intercept  105.596937\n",
       "1         X1    6.927097\n",
       "2         X2    1.440306\n",
       "3         X3   17.688462\n",
       "4         X4   31.442395"
      ]
     },
     "execution_count": 48,
     "metadata": {},
     "output_type": "execute_result"
    }
   ],
   "source": [
    "# 분산확대인자를 데이터프레임 형식으로 출력 (1)\n",
    "\n",
    "pd.DataFrame( {'X' : column,\n",
    "               'VIF' : variance_inflation_factor( model_mtc.exog, i)}\n",
    "               for i, column in enumerate(model_mtc.exog_names)  )"
   ]
  },
  {
   "cell_type": "code",
   "execution_count": 49,
   "id": "e24e3214-0f93-49f8-ae27-276bcc3f9c55",
   "metadata": {},
   "outputs": [
    {
     "data": {
      "text/html": [
       "<div>\n",
       "<style scoped>\n",
       "    .dataframe tbody tr th:only-of-type {\n",
       "        vertical-align: middle;\n",
       "    }\n",
       "\n",
       "    .dataframe tbody tr th {\n",
       "        vertical-align: top;\n",
       "    }\n",
       "\n",
       "    .dataframe thead th {\n",
       "        text-align: right;\n",
       "    }\n",
       "</style>\n",
       "<table border=\"1\" class=\"dataframe\">\n",
       "  <thead>\n",
       "    <tr style=\"text-align: right;\">\n",
       "      <th></th>\n",
       "      <th>features</th>\n",
       "      <th>VIF factor</th>\n",
       "    </tr>\n",
       "  </thead>\n",
       "  <tbody>\n",
       "    <tr>\n",
       "      <th>0</th>\n",
       "      <td>Intercept</td>\n",
       "      <td>105.597</td>\n",
       "    </tr>\n",
       "    <tr>\n",
       "      <th>1</th>\n",
       "      <td>X1</td>\n",
       "      <td>6.927</td>\n",
       "    </tr>\n",
       "    <tr>\n",
       "      <th>2</th>\n",
       "      <td>X2</td>\n",
       "      <td>1.440</td>\n",
       "    </tr>\n",
       "    <tr>\n",
       "      <th>3</th>\n",
       "      <td>X3</td>\n",
       "      <td>17.688</td>\n",
       "    </tr>\n",
       "    <tr>\n",
       "      <th>4</th>\n",
       "      <td>X4</td>\n",
       "      <td>31.442</td>\n",
       "    </tr>\n",
       "  </tbody>\n",
       "</table>\n",
       "</div>"
      ],
      "text/plain": [
       "    features  VIF factor\n",
       "0  Intercept     105.597\n",
       "1         X1       6.927\n",
       "2         X2       1.440\n",
       "3         X3      17.688\n",
       "4         X4      31.442"
      ]
     },
     "execution_count": 49,
     "metadata": {},
     "output_type": "execute_result"
    }
   ],
   "source": [
    "# 분산확대인자를 데이터프레임 형식으로 출력 (2)\n",
    "\n",
    "x = df_multico.iloc[:, 1:5]\n",
    "newX = pd.DataFrame( { \"Intercept\" : np.ones(len(x)) } ).join(pd.DataFrame(x).reset_index()).drop(['ID'], axis=1)\n",
    "\n",
    "VIF = pd.DataFrame()\n",
    "VIF['features'] = newX.columns\n",
    "VIF['VIF factor'] = [ variance_inflation_factor(newX.values, i) for i in range(newX.shape[1]) ]\n",
    "\n",
    "VIF.round(3)"
   ]
  },
  {
   "cell_type": "markdown",
   "id": "af72baea-7292-421b-9367-acd5d798d474",
   "metadata": {},
   "source": [
    "#### Condition Number (상태지수 또는 조건수)\n",
    "\n",
    "- 회귀분석에서 Condition Number가 커지는 경우는 크게 두 가지가 있다.  \n",
    "(1) 변수들의 단위 차이로 인해 숫자의 스케일이 크게 달라지는 경우. 이 경우에는 스케일링(scaling)으로 해결한다.  \n",
    "(2) 다중 공선성 즉, 상관관계가 큰 독립 변수들이 있는 경우. 이 경우에는 변수 선택이나 PCA를 사용한 차원 축소 등으로 해결한다.\n",
    "\n",
    "- 다중공선성 측면만 본다면 (스케일링 측면의 문제가 없다고 가정하면)  \n",
    "상태지수가 10보다 크면 다중공선성이 어느 정도 존재 하는 것으로 간주.  \n",
    "상태지수가 100보다 크면 다중공선성이 매우 심각한 것으로 간주.\n",
    "\n",
    "- `RegressionResults.condition_number`  \n",
    "https://www.statsmodels.org/stable/generated/statsmodels.regression.linear_model.RegressionResults.condition_number.html\n",
    "\n",
    "- 회귀 결과 요약 `RegressionResults.summary()`의 `Cond. No.` 항목에서도 확인 가능."
   ]
  },
  {
   "cell_type": "code",
   "execution_count": 50,
   "id": "7ea50bd9-a04f-41a8-ae1d-0c6f901ab901",
   "metadata": {},
   "outputs": [
    {
     "data": {
      "text/plain": [
       "113.35081366105277"
      ]
     },
     "execution_count": 50,
     "metadata": {},
     "output_type": "execute_result"
    }
   ],
   "source": [
    "fit_mtc.condition_number"
   ]
  },
  {
   "cell_type": "raw",
   "id": "e571533a-0c78-442f-b96f-2024b00a4624",
   "metadata": {
    "tags": []
   },
   "source": []
  },
  {
   "cell_type": "markdown",
   "id": "b01352ed-79ad-413b-8c13-8646a088fc74",
   "metadata": {},
   "source": [
    "### 다중공선성에 대한 대책\n",
    "\n",
    "- 다중공선성과 관련있는 일부 변수 제거\n",
    "- 더 넓은 범위의 독립변수들의 값에서 새로운 관측치를 얻어낸다.\n",
    "- 능형회귀 또는 주성분 분석 등의 편의 추정법을 사용한다."
   ]
  },
  {
   "cell_type": "code",
   "execution_count": 51,
   "id": "58e4f117-8f7c-4c9f-ac2b-1c759e2160ca",
   "metadata": {},
   "outputs": [
    {
     "data": {
      "text/html": [
       "<div>\n",
       "<style scoped>\n",
       "    .dataframe tbody tr th:only-of-type {\n",
       "        vertical-align: middle;\n",
       "    }\n",
       "\n",
       "    .dataframe tbody tr th {\n",
       "        vertical-align: top;\n",
       "    }\n",
       "\n",
       "    .dataframe thead th {\n",
       "        text-align: right;\n",
       "    }\n",
       "</style>\n",
       "<table border=\"1\" class=\"dataframe\">\n",
       "  <thead>\n",
       "    <tr style=\"text-align: right;\">\n",
       "      <th></th>\n",
       "      <th>X</th>\n",
       "      <th>Y</th>\n",
       "      <th>method</th>\n",
       "      <th>alternative</th>\n",
       "      <th>n</th>\n",
       "      <th>r</th>\n",
       "      <th>CI95%</th>\n",
       "      <th>p-unc</th>\n",
       "      <th>BF10</th>\n",
       "      <th>power</th>\n",
       "    </tr>\n",
       "  </thead>\n",
       "  <tbody>\n",
       "    <tr>\n",
       "      <th>0</th>\n",
       "      <td>Y</td>\n",
       "      <td>X1</td>\n",
       "      <td>pearson</td>\n",
       "      <td>two-sided</td>\n",
       "      <td>20</td>\n",
       "      <td>0.649</td>\n",
       "      <td>[0.29, 0.85]</td>\n",
       "      <td>0.002</td>\n",
       "      <td>24.253</td>\n",
       "      <td>0.903</td>\n",
       "    </tr>\n",
       "    <tr>\n",
       "      <th>1</th>\n",
       "      <td>Y</td>\n",
       "      <td>X2</td>\n",
       "      <td>pearson</td>\n",
       "      <td>two-sided</td>\n",
       "      <td>20</td>\n",
       "      <td>0.166</td>\n",
       "      <td>[-0.3, 0.57]</td>\n",
       "      <td>0.485</td>\n",
       "      <td>0.348</td>\n",
       "      <td>0.108</td>\n",
       "    </tr>\n",
       "    <tr>\n",
       "      <th>2</th>\n",
       "      <td>Y</td>\n",
       "      <td>X3</td>\n",
       "      <td>pearson</td>\n",
       "      <td>two-sided</td>\n",
       "      <td>20</td>\n",
       "      <td>0.502</td>\n",
       "      <td>[0.08, 0.77]</td>\n",
       "      <td>0.024</td>\n",
       "      <td>2.975</td>\n",
       "      <td>0.642</td>\n",
       "    </tr>\n",
       "    <tr>\n",
       "      <th>3</th>\n",
       "      <td>Y</td>\n",
       "      <td>X4</td>\n",
       "      <td>pearson</td>\n",
       "      <td>two-sided</td>\n",
       "      <td>20</td>\n",
       "      <td>0.670</td>\n",
       "      <td>[0.32, 0.86]</td>\n",
       "      <td>0.001</td>\n",
       "      <td>36.18</td>\n",
       "      <td>0.927</td>\n",
       "    </tr>\n",
       "    <tr>\n",
       "      <th>4</th>\n",
       "      <td>X1</td>\n",
       "      <td>X2</td>\n",
       "      <td>pearson</td>\n",
       "      <td>two-sided</td>\n",
       "      <td>20</td>\n",
       "      <td>0.363</td>\n",
       "      <td>[-0.1, 0.69]</td>\n",
       "      <td>0.116</td>\n",
       "      <td>0.879</td>\n",
       "      <td>0.360</td>\n",
       "    </tr>\n",
       "    <tr>\n",
       "      <th>5</th>\n",
       "      <td>X1</td>\n",
       "      <td>X3</td>\n",
       "      <td>pearson</td>\n",
       "      <td>two-sided</td>\n",
       "      <td>20</td>\n",
       "      <td>0.313</td>\n",
       "      <td>[-0.15, 0.66]</td>\n",
       "      <td>0.180</td>\n",
       "      <td>0.643</td>\n",
       "      <td>0.275</td>\n",
       "    </tr>\n",
       "    <tr>\n",
       "      <th>6</th>\n",
       "      <td>X1</td>\n",
       "      <td>X4</td>\n",
       "      <td>pearson</td>\n",
       "      <td>two-sided</td>\n",
       "      <td>20</td>\n",
       "      <td>0.686</td>\n",
       "      <td>[0.35, 0.87]</td>\n",
       "      <td>0.001</td>\n",
       "      <td>50.019</td>\n",
       "      <td>0.942</td>\n",
       "    </tr>\n",
       "    <tr>\n",
       "      <th>7</th>\n",
       "      <td>X2</td>\n",
       "      <td>X3</td>\n",
       "      <td>pearson</td>\n",
       "      <td>two-sided</td>\n",
       "      <td>20</td>\n",
       "      <td>0.221</td>\n",
       "      <td>[-0.25, 0.6]</td>\n",
       "      <td>0.349</td>\n",
       "      <td>0.417</td>\n",
       "      <td>0.157</td>\n",
       "    </tr>\n",
       "    <tr>\n",
       "      <th>8</th>\n",
       "      <td>X2</td>\n",
       "      <td>X4</td>\n",
       "      <td>pearson</td>\n",
       "      <td>two-sided</td>\n",
       "      <td>20</td>\n",
       "      <td>0.408</td>\n",
       "      <td>[-0.04, 0.72]</td>\n",
       "      <td>0.074</td>\n",
       "      <td>1.227</td>\n",
       "      <td>0.445</td>\n",
       "    </tr>\n",
       "    <tr>\n",
       "      <th>9</th>\n",
       "      <td>X3</td>\n",
       "      <td>X4</td>\n",
       "      <td>pearson</td>\n",
       "      <td>two-sided</td>\n",
       "      <td>20</td>\n",
       "      <td>0.879</td>\n",
       "      <td>[0.72, 0.95]</td>\n",
       "      <td>0.000</td>\n",
       "      <td>4.771e+04</td>\n",
       "      <td>1.000</td>\n",
       "    </tr>\n",
       "  </tbody>\n",
       "</table>\n",
       "</div>"
      ],
      "text/plain": [
       "    X   Y   method alternative   n      r          CI95%  p-unc       BF10  \\\n",
       "0   Y  X1  pearson   two-sided  20  0.649   [0.29, 0.85]  0.002     24.253   \n",
       "1   Y  X2  pearson   two-sided  20  0.166   [-0.3, 0.57]  0.485      0.348   \n",
       "2   Y  X3  pearson   two-sided  20  0.502   [0.08, 0.77]  0.024      2.975   \n",
       "3   Y  X4  pearson   two-sided  20  0.670   [0.32, 0.86]  0.001      36.18   \n",
       "4  X1  X2  pearson   two-sided  20  0.363   [-0.1, 0.69]  0.116      0.879   \n",
       "5  X1  X3  pearson   two-sided  20  0.313  [-0.15, 0.66]  0.180      0.643   \n",
       "6  X1  X4  pearson   two-sided  20  0.686   [0.35, 0.87]  0.001     50.019   \n",
       "7  X2  X3  pearson   two-sided  20  0.221   [-0.25, 0.6]  0.349      0.417   \n",
       "8  X2  X4  pearson   two-sided  20  0.408  [-0.04, 0.72]  0.074      1.227   \n",
       "9  X3  X4  pearson   two-sided  20  0.879   [0.72, 0.95]  0.000  4.771e+04   \n",
       "\n",
       "   power  \n",
       "0  0.903  \n",
       "1  0.108  \n",
       "2  0.642  \n",
       "3  0.927  \n",
       "4  0.360  \n",
       "5  0.275  \n",
       "6  0.942  \n",
       "7  0.157  \n",
       "8  0.445  \n",
       "9  1.000  "
      ]
     },
     "execution_count": 51,
     "metadata": {},
     "output_type": "execute_result"
    }
   ],
   "source": [
    "df_multico.pairwise_corr(method='pearson').round(3)"
   ]
  },
  {
   "cell_type": "code",
   "execution_count": 52,
   "id": "b73db965-40ea-4523-b6cc-5567720b1b2f",
   "metadata": {},
   "outputs": [
    {
     "name": "stdout",
     "output_type": "stream",
     "text": [
      "                            OLS Regression Results                            \n",
      "==============================================================================\n",
      "Dep. Variable:                      Y   R-squared:                       0.521\n",
      "Model:                            OLS   Adj. R-squared:                  0.464\n",
      "Method:                 Least Squares   F-statistic:                     9.231\n",
      "Date:                Wed, 01 Sep 2021   Prob (F-statistic):            0.00193\n",
      "Time:                        23:38:43   Log-Likelihood:                -6.2205\n",
      "No. Observations:                  20   AIC:                             18.44\n",
      "Df Residuals:                      17   BIC:                             21.43\n",
      "Df Model:                           2                                         \n",
      "Covariance Type:            nonrobust                                         \n",
      "==============================================================================\n",
      "                 coef    std err          t      P>|t|      [0.025      0.975]\n",
      "------------------------------------------------------------------------------\n",
      "Intercept      0.9231      0.776      1.190      0.251      -0.714       2.560\n",
      "X1             0.5972      0.193      3.087      0.007       0.189       1.005\n",
      "X3             0.2208      0.118      1.873      0.078      -0.028       0.469\n",
      "==============================================================================\n",
      "Omnibus:                        7.800   Durbin-Watson:                   2.794\n",
      "Prob(Omnibus):                  0.020   Jarque-Bera (JB):                5.803\n",
      "Skew:                          -0.792   Prob(JB):                       0.0550\n",
      "Kurtosis:                       5.110   Cond. No.                         54.9\n",
      "==============================================================================\n",
      "\n",
      "Notes:\n",
      "[1] Standard Errors assume that the covariance matrix of the errors is correctly specified.\n"
     ]
    }
   ],
   "source": [
    "model_2_mtc = ols( data = df_multico, formula = 'Y ~ X1+X3')\n",
    "\n",
    "fit_2_mtc = model_2_mtc.fit()\n",
    "\n",
    "print( fit_2_mtc.summary() )"
   ]
  },
  {
   "cell_type": "code",
   "execution_count": 53,
   "id": "575df917-5079-4e52-9c9d-f74172b8d26b",
   "metadata": {},
   "outputs": [
    {
     "data": {
      "text/html": [
       "<div>\n",
       "<style scoped>\n",
       "    .dataframe tbody tr th:only-of-type {\n",
       "        vertical-align: middle;\n",
       "    }\n",
       "\n",
       "    .dataframe tbody tr th {\n",
       "        vertical-align: top;\n",
       "    }\n",
       "\n",
       "    .dataframe thead th {\n",
       "        text-align: right;\n",
       "    }\n",
       "</style>\n",
       "<table border=\"1\" class=\"dataframe\">\n",
       "  <thead>\n",
       "    <tr style=\"text-align: right;\">\n",
       "      <th></th>\n",
       "      <th>df</th>\n",
       "      <th>sum_sq</th>\n",
       "      <th>mean_sq</th>\n",
       "      <th>F</th>\n",
       "      <th>PR(&gt;F)</th>\n",
       "    </tr>\n",
       "  </thead>\n",
       "  <tbody>\n",
       "    <tr>\n",
       "      <th>X1</th>\n",
       "      <td>1.0</td>\n",
       "      <td>1.9184</td>\n",
       "      <td>1.9184</td>\n",
       "      <td>14.9515</td>\n",
       "      <td>0.0012</td>\n",
       "    </tr>\n",
       "    <tr>\n",
       "      <th>X3</th>\n",
       "      <td>1.0</td>\n",
       "      <td>0.4503</td>\n",
       "      <td>0.4503</td>\n",
       "      <td>3.5096</td>\n",
       "      <td>0.0783</td>\n",
       "    </tr>\n",
       "    <tr>\n",
       "      <th>Residual</th>\n",
       "      <td>17.0</td>\n",
       "      <td>2.1813</td>\n",
       "      <td>0.1283</td>\n",
       "      <td>NaN</td>\n",
       "      <td>NaN</td>\n",
       "    </tr>\n",
       "  </tbody>\n",
       "</table>\n",
       "</div>"
      ],
      "text/plain": [
       "            df  sum_sq  mean_sq        F  PR(>F)\n",
       "X1         1.0  1.9184   1.9184  14.9515  0.0012\n",
       "X3         1.0  0.4503   0.4503   3.5096  0.0783\n",
       "Residual  17.0  2.1813   0.1283      NaN     NaN"
      ]
     },
     "execution_count": 53,
     "metadata": {},
     "output_type": "execute_result"
    }
   ],
   "source": [
    "anova_lm( fit_2_mtc, test = 'F', typ = 1).round(4)"
   ]
  },
  {
   "cell_type": "raw",
   "id": "7c624d44-982d-43f4-953c-53ab1b9c68bc",
   "metadata": {},
   "source": [
    "\n"
   ]
  },
  {
   "cell_type": "markdown",
   "id": "eda48da6-3dad-4c8d-a314-33d36e935115",
   "metadata": {},
   "source": [
    "## 가변수 - 질적 설명변수의 처리"
   ]
  },
  {
   "cell_type": "code",
   "execution_count": null,
   "id": "ed03f55e-1a5a-4508-97fc-107a97a74de4",
   "metadata": {},
   "outputs": [],
   "source": []
  },
  {
   "cell_type": "code",
   "execution_count": null,
   "id": "d0274398-dd17-4974-9007-318f04b5e3ba",
   "metadata": {},
   "outputs": [],
   "source": []
  },
  {
   "cell_type": "code",
   "execution_count": null,
   "id": "e675ceb8-d282-4e0b-aba8-e675ceb246ba",
   "metadata": {},
   "outputs": [],
   "source": []
  },
  {
   "cell_type": "code",
   "execution_count": null,
   "id": "463bfac5-5981-4d1c-96fd-cc058be909b4",
   "metadata": {},
   "outputs": [],
   "source": []
  },
  {
   "cell_type": "raw",
   "id": "c966bd84-059f-40b0-bf8e-30942c5577ad",
   "metadata": {},
   "source": []
  },
  {
   "cell_type": "markdown",
   "id": "a2938745-c8ba-4cd4-bff2-ee4217f40509",
   "metadata": {},
   "source": [
    "## 변수변환과 비선형 회귀분석"
   ]
  },
  {
   "cell_type": "markdown",
   "id": "2c066630-f681-48c2-9a46-042a62858cde",
   "metadata": {},
   "source": [
    "### 변수변환에 의한 곡선 추정"
   ]
  },
  {
   "cell_type": "code",
   "execution_count": null,
   "id": "a1ef765c-1ab7-47b2-9852-02102b53bfa5",
   "metadata": {},
   "outputs": [],
   "source": []
  },
  {
   "cell_type": "markdown",
   "id": "fcc77c61-2298-4978-b1ec-956bb299ca55",
   "metadata": {},
   "source": [
    "### 비선형 회귀분석"
   ]
  },
  {
   "cell_type": "code",
   "execution_count": null,
   "id": "c5d096ba-fc6b-412c-b590-4138b581c7e8",
   "metadata": {},
   "outputs": [],
   "source": []
  }
 ],
 "metadata": {
  "kernelspec": {
   "display_name": "Python 3 (ipykernel)",
   "language": "python",
   "name": "python3"
  },
  "language_info": {
   "codemirror_mode": {
    "name": "ipython",
    "version": 3
   },
   "file_extension": ".py",
   "mimetype": "text/x-python",
   "name": "python",
   "nbconvert_exporter": "python",
   "pygments_lexer": "ipython3",
   "version": "3.8.11"
  }
 },
 "nbformat": 4,
 "nbformat_minor": 5
}
