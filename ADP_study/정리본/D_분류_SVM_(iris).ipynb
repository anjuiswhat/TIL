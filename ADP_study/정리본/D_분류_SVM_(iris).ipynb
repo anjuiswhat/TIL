{
 "cells": [
  {
   "cell_type": "markdown",
   "id": "89931e24-28cb-4f34-b711-50d2eeb8c25c",
   "metadata": {
    "tags": []
   },
   "source": [
    "## - 불러올 패키지 목록"
   ]
  },
  {
   "cell_type": "code",
   "execution_count": 1,
   "id": "86f9fcd2-3c10-416e-a0c0-e061f8bcf26a",
   "metadata": {},
   "outputs": [],
   "source": [
    "# 파이썬 기본 패키지\n",
    "import math  # 수학 함수 패키지\n",
    "import itertools  # Functions creating iterators for efficient looping\n",
    "\n",
    "# 데이터 핸들링을 위한 패키지\n",
    "import numpy as np\n",
    "import pandas as pd\n",
    "\n",
    "# statsmodels 패키지\n",
    "from statsmodels.api import *\n",
    "from statsmodels.formula.api import *\n",
    "from statsmodels.stats.api import *\n",
    "from statsmodels.stats.proportion import *\n",
    "from statsmodels.stats.diagnostic import *\n",
    "from statsmodels.stats.weightstats import *\n",
    "from statsmodels.stats.outliers_influence import *  # 다중공선성 확인 관련 패키지\n",
    "from statsmodels.multivariate.pca import PCA as pca  # 대문자로 사용할 경우 sklearn 의 PCA와 겹침\n",
    "\n",
    "# 시계열 관련 statsmodels 패키지\n",
    "from statsmodels.tsa.api import *\n",
    "from statsmodels.tsa.ar_model import *\n",
    "from statsmodels.tsa.arima.model import *\n",
    "from statsmodels.tsa.arima_process import *\n",
    "from statsmodels.tsa.statespace import *\n",
    "from statsmodels.graphics.api import *\n",
    "from statsmodels.graphics.tsaplots import *\n",
    "\n",
    "# SciPy 패키지\n",
    "import scipy as sp\n",
    "import scipy.stats as stats  # 통계 분석을 위한 패키지\n",
    "from scipy.cluster.hierarchy import *  # 계층적 군집 분석을 위한 패키지\n",
    "\n",
    "# pingouin 패키지\n",
    "import pingouin as pg\n",
    "\n",
    "# scikit-learn 패키지\n",
    "from sklearn.preprocessing import *  # 데이터 전처리를 위한 패키지\n",
    "from sklearn.feature_selection import *  # 알고리즘에 큰 영향을 미치는 feature를 우선순위대로 선택하는 기능 제공\n",
    "from sklearn.model_selection import *  # 데이터 분리, 검증 및 파라미터 튜닝을 위한 패키지\n",
    "from sklearn.metrics import *  # 모델에 대한 다양한 성능 평가를 위한 패키지\n",
    "from sklearn.linear_model import *    # 선형 회귀 분석을 위한 패키지 (로지스틱 회귀 포함)\n",
    "from sklearn.cluster import *  # 비지도 군집화 알고리즘 제공\n",
    "from sklearn.tree import *  # 의사결정나무 알고리즘 제공\n",
    "from sklearn.ensemble import *  # 앙상블 알고리즘 제공\n",
    "from sklearn.neighbors import *  # kNN 알고리즘 제공\n",
    "from sklearn.svm import *  # 서포트 벡터 머신 알고리즘 제공\n",
    "from sklearn.mixture import *  # 혼합분포군집(GMM 등) 알고리즘 제공\n",
    "from sklearn.decomposition import *  # 차원축소 알고리즘 제공\n",
    "from sklearn.multiclass import OneVsRestClassifier  # multiclass 분류기 알고리즘 제공\n",
    "\n",
    "# mlxtend 패키지\n",
    "from mlxtend.preprocessing import *  # 연관분석에 필요한 트랜잭션 전처리 알고리즘 포함\n",
    "from mlxtend.frequent_patterns import *  # 연관분석에 사용되는 알고리즘 포함 \n",
    "from mlxtend.plotting import plot_decision_regions\n",
    "from mlxtend.feature_selection import SequentialFeatureSelector as SFS  # 변수선택 알고리즘 포함\n",
    "from mlxtend.plotting import plot_sequential_feature_selection as plot_sfs\n",
    "\n",
    "# missingno 패키지 (데이터 전처리 전 결측치 확인)\n",
    "import missingno as msno\n",
    "\n",
    "# label별 데이터 카운트를 위한 모듈\n",
    "from collections import Counter  # https://docs.python.org/3/library/collections.html\n",
    "\n",
    "# 시각화를 위한 패키지\n",
    "import seaborn as sb\n",
    "import matplotlib.pyplot as plt\n",
    "import matplotlib.cm as cm  # 내장 colormap, colormap 처리 유틸리티\n",
    "from matplotlib.colors import ListedColormap  # colors and colormaps\n",
    "from mlxtend.plotting import plot_decision_regions\n",
    "%matplotlib inline\n",
    "# %matplotlib inline 의 목적은 plt.show()함수가 호출되지 않은 경우에도 matplotlib 다이어그램을 렌더링하는 것이다.\n",
    "# 그러나 현재 업데이트된 버전의 주피터 노트북 버전에서는 %matplotlib inline 를 사용하지 않더라도 Matplotlib 다이어그램을 개체로 표현한다.\n",
    "# 따라서 굳이 필요하지는 않다. 그러나 코드를 깨끗하게 유지하고 자신이 만든 플롯을 호출하기 위해 여전히 관례적으로 권장된다.\n",
    "\n",
    "# 경고 메시지 무시\n",
    "import warnings\n",
    "warnings.filterwarnings('ignore')\n",
    "\n",
    "# 그래프 스타일 서식 지정\n",
    "plt.style.use('default')\n",
    "\n",
    "# 한글 폰트 설정\n",
    "plt.rc('font', family='Malgun Gothic')\n",
    "\n",
    "# 그래프 축의 음수 표현 오류 방지\n",
    "plt.rcParams['axes.unicode_minus'] = False"
   ]
  },
  {
   "cell_type": "markdown",
   "id": "d14255ae-06e7-44d0-9ed4-c2f76c2f7cfa",
   "metadata": {},
   "source": [
    "# 데이터 확인 및 전처리"
   ]
  },
  {
   "cell_type": "markdown",
   "id": "0cb5d24e-5af5-41fd-b305-dde4ce572bc0",
   "metadata": {
    "tags": []
   },
   "source": [
    "## Dataset 불러오기 및 data 정보 확인"
   ]
  },
  {
   "cell_type": "markdown",
   "id": "be0b779b-1b44-48ea-a62a-143c9591c31d",
   "metadata": {},
   "source": [
    "### 데이터 불러오기"
   ]
  },
  {
   "cell_type": "code",
   "execution_count": 2,
   "id": "7f3ed3be-b604-43d2-979e-2ed83e343a5a",
   "metadata": {},
   "outputs": [
    {
     "data": {
      "text/html": [
       "<div>\n",
       "<style scoped>\n",
       "    .dataframe tbody tr th:only-of-type {\n",
       "        vertical-align: middle;\n",
       "    }\n",
       "\n",
       "    .dataframe tbody tr th {\n",
       "        vertical-align: top;\n",
       "    }\n",
       "\n",
       "    .dataframe thead th {\n",
       "        text-align: right;\n",
       "    }\n",
       "</style>\n",
       "<table border=\"1\" class=\"dataframe\">\n",
       "  <thead>\n",
       "    <tr style=\"text-align: right;\">\n",
       "      <th></th>\n",
       "      <th>Sepal.Length</th>\n",
       "      <th>Sepal.Width</th>\n",
       "      <th>Petal.Length</th>\n",
       "      <th>Petal.Width</th>\n",
       "      <th>Species</th>\n",
       "    </tr>\n",
       "  </thead>\n",
       "  <tbody>\n",
       "    <tr>\n",
       "      <th>1</th>\n",
       "      <td>5.1</td>\n",
       "      <td>3.5</td>\n",
       "      <td>1.4</td>\n",
       "      <td>0.2</td>\n",
       "      <td>setosa</td>\n",
       "    </tr>\n",
       "    <tr>\n",
       "      <th>2</th>\n",
       "      <td>4.9</td>\n",
       "      <td>3.0</td>\n",
       "      <td>1.4</td>\n",
       "      <td>0.2</td>\n",
       "      <td>setosa</td>\n",
       "    </tr>\n",
       "    <tr>\n",
       "      <th>3</th>\n",
       "      <td>4.7</td>\n",
       "      <td>3.2</td>\n",
       "      <td>1.3</td>\n",
       "      <td>0.2</td>\n",
       "      <td>setosa</td>\n",
       "    </tr>\n",
       "    <tr>\n",
       "      <th>4</th>\n",
       "      <td>4.6</td>\n",
       "      <td>3.1</td>\n",
       "      <td>1.5</td>\n",
       "      <td>0.2</td>\n",
       "      <td>setosa</td>\n",
       "    </tr>\n",
       "    <tr>\n",
       "      <th>5</th>\n",
       "      <td>5.0</td>\n",
       "      <td>3.6</td>\n",
       "      <td>1.4</td>\n",
       "      <td>0.2</td>\n",
       "      <td>setosa</td>\n",
       "    </tr>\n",
       "    <tr>\n",
       "      <th>...</th>\n",
       "      <td>...</td>\n",
       "      <td>...</td>\n",
       "      <td>...</td>\n",
       "      <td>...</td>\n",
       "      <td>...</td>\n",
       "    </tr>\n",
       "    <tr>\n",
       "      <th>146</th>\n",
       "      <td>6.7</td>\n",
       "      <td>3.0</td>\n",
       "      <td>5.2</td>\n",
       "      <td>2.3</td>\n",
       "      <td>virginica</td>\n",
       "    </tr>\n",
       "    <tr>\n",
       "      <th>147</th>\n",
       "      <td>6.3</td>\n",
       "      <td>2.5</td>\n",
       "      <td>5.0</td>\n",
       "      <td>1.9</td>\n",
       "      <td>virginica</td>\n",
       "    </tr>\n",
       "    <tr>\n",
       "      <th>148</th>\n",
       "      <td>6.5</td>\n",
       "      <td>3.0</td>\n",
       "      <td>5.2</td>\n",
       "      <td>2.0</td>\n",
       "      <td>virginica</td>\n",
       "    </tr>\n",
       "    <tr>\n",
       "      <th>149</th>\n",
       "      <td>6.2</td>\n",
       "      <td>3.4</td>\n",
       "      <td>5.4</td>\n",
       "      <td>2.3</td>\n",
       "      <td>virginica</td>\n",
       "    </tr>\n",
       "    <tr>\n",
       "      <th>150</th>\n",
       "      <td>5.9</td>\n",
       "      <td>3.0</td>\n",
       "      <td>5.1</td>\n",
       "      <td>1.8</td>\n",
       "      <td>virginica</td>\n",
       "    </tr>\n",
       "  </tbody>\n",
       "</table>\n",
       "<p>150 rows × 5 columns</p>\n",
       "</div>"
      ],
      "text/plain": [
       "     Sepal.Length  Sepal.Width  Petal.Length  Petal.Width    Species\n",
       "1             5.1          3.5           1.4          0.2     setosa\n",
       "2             4.9          3.0           1.4          0.2     setosa\n",
       "3             4.7          3.2           1.3          0.2     setosa\n",
       "4             4.6          3.1           1.5          0.2     setosa\n",
       "5             5.0          3.6           1.4          0.2     setosa\n",
       "..            ...          ...           ...          ...        ...\n",
       "146           6.7          3.0           5.2          2.3  virginica\n",
       "147           6.3          2.5           5.0          1.9  virginica\n",
       "148           6.5          3.0           5.2          2.0  virginica\n",
       "149           6.2          3.4           5.4          2.3  virginica\n",
       "150           5.9          3.0           5.1          1.8  virginica\n",
       "\n",
       "[150 rows x 5 columns]"
      ]
     },
     "execution_count": 2,
     "metadata": {},
     "output_type": "execute_result"
    }
   ],
   "source": [
    "# 분석할 데이터 불러오기 / 데이터프레임 생성\n",
    "df_iris = pd.read_csv(r'C:\\Users\\Boanerges\\GitHub\\TIL\\rawdata\\iris.csv',\n",
    "                      index_col = 'Unnamed: 0')\n",
    "df_iris"
   ]
  },
  {
   "cell_type": "markdown",
   "id": "0f142309-25a0-40fd-a779-b425cbd87196",
   "metadata": {
    "tags": []
   },
   "source": [
    "## x값(예측변수), y값(목표변수) 설정\n",
    "- svm 시각화를 위해 x변수는 2개만 지정"
   ]
  },
  {
   "cell_type": "code",
   "execution_count": 3,
   "id": "acbf388b-d44b-44b9-a8a1-b1ec0afebdfc",
   "metadata": {},
   "outputs": [],
   "source": [
    "# 목표변수와 나머지 변수들을 따로 저장\n",
    "x = df_iris.iloc[: , [2,3] ]\n",
    "y = df_iris.iloc[:, 4 ]"
   ]
  },
  {
   "cell_type": "code",
   "execution_count": 4,
   "id": "6cd38e1f-6d41-475e-9bda-81a172ba6faf",
   "metadata": {},
   "outputs": [
    {
     "data": {
      "text/html": [
       "<div>\n",
       "<style scoped>\n",
       "    .dataframe tbody tr th:only-of-type {\n",
       "        vertical-align: middle;\n",
       "    }\n",
       "\n",
       "    .dataframe tbody tr th {\n",
       "        vertical-align: top;\n",
       "    }\n",
       "\n",
       "    .dataframe thead th {\n",
       "        text-align: right;\n",
       "    }\n",
       "</style>\n",
       "<table border=\"1\" class=\"dataframe\">\n",
       "  <thead>\n",
       "    <tr style=\"text-align: right;\">\n",
       "      <th></th>\n",
       "      <th>Petal.Length</th>\n",
       "      <th>Petal.Width</th>\n",
       "    </tr>\n",
       "  </thead>\n",
       "  <tbody>\n",
       "    <tr>\n",
       "      <th>1</th>\n",
       "      <td>1.4</td>\n",
       "      <td>0.2</td>\n",
       "    </tr>\n",
       "    <tr>\n",
       "      <th>2</th>\n",
       "      <td>1.4</td>\n",
       "      <td>0.2</td>\n",
       "    </tr>\n",
       "    <tr>\n",
       "      <th>3</th>\n",
       "      <td>1.3</td>\n",
       "      <td>0.2</td>\n",
       "    </tr>\n",
       "    <tr>\n",
       "      <th>4</th>\n",
       "      <td>1.5</td>\n",
       "      <td>0.2</td>\n",
       "    </tr>\n",
       "    <tr>\n",
       "      <th>5</th>\n",
       "      <td>1.4</td>\n",
       "      <td>0.2</td>\n",
       "    </tr>\n",
       "    <tr>\n",
       "      <th>...</th>\n",
       "      <td>...</td>\n",
       "      <td>...</td>\n",
       "    </tr>\n",
       "    <tr>\n",
       "      <th>146</th>\n",
       "      <td>5.2</td>\n",
       "      <td>2.3</td>\n",
       "    </tr>\n",
       "    <tr>\n",
       "      <th>147</th>\n",
       "      <td>5.0</td>\n",
       "      <td>1.9</td>\n",
       "    </tr>\n",
       "    <tr>\n",
       "      <th>148</th>\n",
       "      <td>5.2</td>\n",
       "      <td>2.0</td>\n",
       "    </tr>\n",
       "    <tr>\n",
       "      <th>149</th>\n",
       "      <td>5.4</td>\n",
       "      <td>2.3</td>\n",
       "    </tr>\n",
       "    <tr>\n",
       "      <th>150</th>\n",
       "      <td>5.1</td>\n",
       "      <td>1.8</td>\n",
       "    </tr>\n",
       "  </tbody>\n",
       "</table>\n",
       "<p>150 rows × 2 columns</p>\n",
       "</div>"
      ],
      "text/plain": [
       "     Petal.Length  Petal.Width\n",
       "1             1.4          0.2\n",
       "2             1.4          0.2\n",
       "3             1.3          0.2\n",
       "4             1.5          0.2\n",
       "5             1.4          0.2\n",
       "..            ...          ...\n",
       "146           5.2          2.3\n",
       "147           5.0          1.9\n",
       "148           5.2          2.0\n",
       "149           5.4          2.3\n",
       "150           5.1          1.8\n",
       "\n",
       "[150 rows x 2 columns]"
      ]
     },
     "execution_count": 4,
     "metadata": {},
     "output_type": "execute_result"
    }
   ],
   "source": [
    "x"
   ]
  },
  {
   "cell_type": "markdown",
   "id": "04620384-5861-4c22-a60e-bbfa13f8801f",
   "metadata": {
    "tags": []
   },
   "source": [
    "## y값에 대한 Label Encoding 실행\n",
    "- SVM 수행을 위해서는 y값을 숫자로 변환 필요\n",
    "\n",
    "- `sklearn.preprocessing.LabelEncoder()`  \n",
    "  - Methods : `.fit()`, `.transform()`, `.fit_transform()`   \n",
    "https://scikit-learn.org/stable/modules/generated/sklearn.preprocessing.LabelEncoder.html "
   ]
  },
  {
   "cell_type": "code",
   "execution_count": 5,
   "id": "15163619-787a-4805-bda8-b078df200189",
   "metadata": {},
   "outputs": [
    {
     "data": {
      "text/html": [
       "<div>\n",
       "<style scoped>\n",
       "    .dataframe tbody tr th:only-of-type {\n",
       "        vertical-align: middle;\n",
       "    }\n",
       "\n",
       "    .dataframe tbody tr th {\n",
       "        vertical-align: top;\n",
       "    }\n",
       "\n",
       "    .dataframe thead th {\n",
       "        text-align: right;\n",
       "    }\n",
       "</style>\n",
       "<table border=\"1\" class=\"dataframe\">\n",
       "  <thead>\n",
       "    <tr style=\"text-align: right;\">\n",
       "      <th></th>\n",
       "      <th>y</th>\n",
       "      <th>y_encoding</th>\n",
       "    </tr>\n",
       "  </thead>\n",
       "  <tbody>\n",
       "    <tr>\n",
       "      <th>0</th>\n",
       "      <td>setosa</td>\n",
       "      <td>0</td>\n",
       "    </tr>\n",
       "    <tr>\n",
       "      <th>1</th>\n",
       "      <td>versicolor</td>\n",
       "      <td>1</td>\n",
       "    </tr>\n",
       "    <tr>\n",
       "      <th>2</th>\n",
       "      <td>virginica</td>\n",
       "      <td>2</td>\n",
       "    </tr>\n",
       "  </tbody>\n",
       "</table>\n",
       "</div>"
      ],
      "text/plain": [
       "            y  y_encoding\n",
       "0      setosa           0\n",
       "1  versicolor           1\n",
       "2   virginica           2"
      ]
     },
     "execution_count": 5,
     "metadata": {},
     "output_type": "execute_result"
    }
   ],
   "source": [
    "# 문자로 된 범주형 데이터를 숫자로 변환\n",
    "encoder = LabelEncoder()\n",
    "y1 = encoder.fit_transform(y)\n",
    "\n",
    "# 인코딩 전후 비교\n",
    "pd.DataFrame( { 'y' : y.unique(),\n",
    "                'y_encoding': np.unique(y1) } )"
   ]
  },
  {
   "cell_type": "markdown",
   "id": "3a18be09-4888-4bd2-9a07-a6f26d348fb2",
   "metadata": {},
   "source": [
    "# 학습/테스트용 데이터셋 분리\n",
    "- `sklearn.model_selection.train_test_split()`  https://scikit-learn.org/stable/modules/generated/sklearn.model_selection.train_test_split.html"
   ]
  },
  {
   "cell_type": "code",
   "execution_count": 6,
   "id": "e18470b6-e4c4-45af-bbc9-a01005863fd4",
   "metadata": {},
   "outputs": [],
   "source": [
    "# 데이터셋 나누고 라벨 분포 확인\n",
    "x_train, x_test, y_train, y_test  = train_test_split( x, y1,\n",
    "                                                      test_size = 0.3,\n",
    "                                                      random_state = 0 )"
   ]
  },
  {
   "cell_type": "markdown",
   "id": "dc9b3f93-9026-423b-a7a3-416b4aaebc50",
   "metadata": {
    "tags": []
   },
   "source": [
    "# SVM 모델 생성 및 학습\n",
    "- `sklearn.svm: Support Vector Machines`  https://scikit-learn.org/stable/modules/classes.html#module-sklearn.svm\n",
    "- \n",
    "- `sklearn.svm.SVC( *, C=1.0, kernel='rbf', degree=3, gamma='scale', coef0=0.0, shrinking=True, probability=False, tol=0.001, cache_size=200, class_weight=None, verbose=False, max_iter=- 1, decision_function_shape='ovr', break_ties=False, random_state=None )`  \n",
    "https://scikit-learn.org/stable/modules/generated/sklearn.svm.SVC.html\n",
    "\n",
    "- Attributes : `.classes_`\n",
    "\n",
    "- Methods : `.fit()`  https://scikit-learn.org/stable/modules/generated/sklearn.svm.SVC.html#sklearn.svm.SVC.fit\n",
    "- Methods : `.predict()` https://scikit-learn.org/stable/modules/generated/sklearn.svm.SVC.html#sklearn.svm.SVC.predict\n",
    "- Methods : `.score()`  https://scikit-learn.org/stable/modules/generated/sklearn.svm.SVC.html#sklearn.svm.SVC.score\n",
    "- \n",
    "- [참고] `svm.svc`와 `svm.linearsvc`의 차이???  https://stackoverflow.com/questions/33843981/under-what-parameters-are-svc-and-linearsvc-in-scikit-learn-equivalent/33844092#33844092"
   ]
  },
  {
   "cell_type": "markdown",
   "id": "481c7416-1d1d-4324-89d1-e1b7fba6c96c",
   "metadata": {},
   "source": [
    "## LinearSVC 모델 생성 및 train 데이터로 학습"
   ]
  },
  {
   "cell_type": "code",
   "execution_count": 7,
   "id": "b3990e50-81a6-45ba-aebd-de608a4b0014",
   "metadata": {},
   "outputs": [
    {
     "data": {
      "text/plain": [
       "SVC(C=0.01, gamma=0.01, kernel='linear', probability=True)"
      ]
     },
     "execution_count": 7,
     "metadata": {},
     "output_type": "execute_result"
    }
   ],
   "source": [
    "# svm 모델 생성\n",
    "model_svm = SVC( C = 0.01, kernel = 'linear', gamma = 0.01,\n",
    "            probability = True )  # probability 옵션이 있어야 ROC 산출을 위한 predict_proba() 가능\n",
    "\n",
    "# 모델 학습\n",
    "model_svm.fit( x_train, y_train )"
   ]
  },
  {
   "cell_type": "markdown",
   "id": "2d19c2a7-7501-4aee-a2e9-340419e21e0e",
   "metadata": {},
   "source": [
    "# SVM 시각화"
   ]
  },
  {
   "cell_type": "markdown",
   "id": "c09190c4-edcb-4d0e-a797-10e5dbaf16cd",
   "metadata": {},
   "source": [
    "- `mlxtend.plotting.plot_decision_regions()`  http://rasbt.github.io/mlxtend/user_guide/plotting/plot_decision_regions/"
   ]
  },
  {
   "cell_type": "code",
   "execution_count": 8,
   "id": "526e257a-df52-4875-a9d0-4e2c40f8cbdc",
   "metadata": {
    "tags": []
   },
   "outputs": [
    {
     "data": {
      "image/png": "[encoded data removed]",
      "text/plain": [
       "<Figure size 640x480 with 1 Axes>"
      ]
     },
     "metadata": {},
     "output_type": "display_data"
    }
   ],
   "source": [
    "# Plotting decision regions\n",
    "plot_decision_regions( x_train.values, y_train,  # x, y 모두 NumPy array 형식이어야 함.\n",
    "                       clf = model_svm )\n",
    "\n",
    "# Adding axes annotations\n",
    "plt.xlabel('sepal length [cm]')\n",
    "plt.ylabel('petal length [cm]')\n",
    "plt.title('SVM on Iris')\n",
    "\n",
    "L = plt.legend()\n",
    "L.get_texts()[0].set_text('Setosa')\n",
    "L.get_texts()[1].set_text('versicolor')\n",
    "L.get_texts()[2].set_text('virginica')\n",
    "\n",
    "plt.show()"
   ]
  },
  {
   "cell_type": "markdown",
   "id": "091b0528-d538-4146-b470-6a76a78c80c9",
   "metadata": {},
   "source": [
    "## [미해결] 마진을 표현하는 선 추가"
   ]
  },
  {
   "cell_type": "code",
   "execution_count": 9,
   "id": "fb08aa7b-3f70-4c6f-b174-904f967e1cee",
   "metadata": {
    "tags": []
   },
   "outputs": [],
   "source": [
    "# 마진을 표현하는 선 추가 ( 종속변수가 3개 이상일때의 적용은 미해결)\n",
    "\n",
    "# 결정 함수 플로팅\n",
    "#ax = plt.gca()\n",
    "#xlim = ax.get_xlim()\n",
    "#ylim = ax.get_ylim()\n",
    "\n",
    "# 모델 평가를위한 그리드 생성\n",
    "#xx = np.linspace(xlim[0], xlim[1], 30)  # 0에서 1까지의 구간을 30개 간격으로 나눈 배열 생성 \n",
    "#yy = np.linspace(ylim[0], ylim[1], 30)\n",
    "#YY, XX = np.meshgrid(yy, xx)\n",
    "#xy = np.vstack([XX.ravel(), YY.ravel()]).T\n",
    "\n",
    "#Z = model_svm.decision_function(xy).reshape(XX.shape)\n",
    "\n",
    "# 결정 경계와 마진\n",
    "#ax.contour(XX, YY, Z, colors='k', levels=[-1, 0, 1], alpha=0.5,\n",
    "#           linestyles=['--', '-', '--'])\n",
    "\n",
    "#plt.show()"
   ]
  },
  {
   "cell_type": "raw",
   "id": "ecdd4b4e-b08b-4115-b593-fdc4819c09d3",
   "metadata": {},
   "source": [
    "\n"
   ]
  },
  {
   "cell_type": "markdown",
   "id": "abeabf04-3c4f-4a1e-96cd-cf1c0086ceee",
   "metadata": {
    "tags": []
   },
   "source": [
    "# 예측 및 평가"
   ]
  },
  {
   "cell_type": "markdown",
   "id": "f56b1b4e-6292-47aa-bd10-68935cb8d72c",
   "metadata": {
    "tags": []
   },
   "source": [
    "## 학습된 모델로 예측 수행"
   ]
  },
  {
   "cell_type": "code",
   "execution_count": 10,
   "id": "831335d4-1efc-4d30-bcfe-8b59752e938d",
   "metadata": {
    "tags": []
   },
   "outputs": [
    {
     "name": "stdout",
     "output_type": "stream",
     "text": [
      "Accuracy: 0.6888888888888889\n",
      "\n"
     ]
    },
    {
     "data": {
      "text/html": [
       "<div>\n",
       "<style scoped>\n",
       "    .dataframe tbody tr th:only-of-type {\n",
       "        vertical-align: middle;\n",
       "    }\n",
       "\n",
       "    .dataframe tbody tr th {\n",
       "        vertical-align: top;\n",
       "    }\n",
       "\n",
       "    .dataframe thead th {\n",
       "        text-align: right;\n",
       "    }\n",
       "</style>\n",
       "<table border=\"1\" class=\"dataframe\">\n",
       "  <thead>\n",
       "    <tr style=\"text-align: right;\">\n",
       "      <th></th>\n",
       "      <th>y_True</th>\n",
       "      <th>y_Predict</th>\n",
       "      <th>Pred_Result</th>\n",
       "    </tr>\n",
       "  </thead>\n",
       "  <tbody>\n",
       "    <tr>\n",
       "      <th>0</th>\n",
       "      <td>2</td>\n",
       "      <td>2</td>\n",
       "      <td>True</td>\n",
       "    </tr>\n",
       "    <tr>\n",
       "      <th>1</th>\n",
       "      <td>1</td>\n",
       "      <td>1</td>\n",
       "      <td>True</td>\n",
       "    </tr>\n",
       "    <tr>\n",
       "      <th>2</th>\n",
       "      <td>0</td>\n",
       "      <td>0</td>\n",
       "      <td>True</td>\n",
       "    </tr>\n",
       "    <tr>\n",
       "      <th>3</th>\n",
       "      <td>2</td>\n",
       "      <td>2</td>\n",
       "      <td>True</td>\n",
       "    </tr>\n",
       "    <tr>\n",
       "      <th>4</th>\n",
       "      <td>0</td>\n",
       "      <td>0</td>\n",
       "      <td>True</td>\n",
       "    </tr>\n",
       "    <tr>\n",
       "      <th>5</th>\n",
       "      <td>2</td>\n",
       "      <td>2</td>\n",
       "      <td>True</td>\n",
       "    </tr>\n",
       "    <tr>\n",
       "      <th>6</th>\n",
       "      <td>0</td>\n",
       "      <td>0</td>\n",
       "      <td>True</td>\n",
       "    </tr>\n",
       "    <tr>\n",
       "      <th>7</th>\n",
       "      <td>1</td>\n",
       "      <td>2</td>\n",
       "      <td>False</td>\n",
       "    </tr>\n",
       "    <tr>\n",
       "      <th>8</th>\n",
       "      <td>1</td>\n",
       "      <td>2</td>\n",
       "      <td>False</td>\n",
       "    </tr>\n",
       "    <tr>\n",
       "      <th>9</th>\n",
       "      <td>1</td>\n",
       "      <td>2</td>\n",
       "      <td>False</td>\n",
       "    </tr>\n",
       "  </tbody>\n",
       "</table>\n",
       "</div>"
      ],
      "text/plain": [
       "   y_True  y_Predict  Pred_Result\n",
       "0       2          2         True\n",
       "1       1          1         True\n",
       "2       0          0         True\n",
       "3       2          2         True\n",
       "4       0          0         True\n",
       "5       2          2         True\n",
       "6       0          0         True\n",
       "7       1          2        False\n",
       "8       1          2        False\n",
       "9       1          2        False"
      ]
     },
     "execution_count": 10,
     "metadata": {},
     "output_type": "execute_result"
    }
   ],
   "source": [
    "# test 데이터로 라벨 예측\n",
    "y_pred = model_svm.predict( x_test )\n",
    "\n",
    "print( 'Accuracy:', model_svm.score( x_test, y_test ) )\n",
    "print()\n",
    "\n",
    "pd.DataFrame( {'y_True' : y_test,\n",
    "               'y_Predict' : y_pred,\n",
    "               'Pred_Result' : y_test == y_pred} ).head(10)"
   ]
  },
  {
   "cell_type": "markdown",
   "id": "0bd8987d-c66c-4d3b-b483-051f3a7fdd97",
   "metadata": {},
   "source": [
    "## Confusion Matrix\n",
    "- `pandas.crosstab()`  https://pandas.pydata.org/docs/reference/api/pandas.crosstab.html\n",
    "- \n",
    "- `sklearn.metrics.confusion_matrix()`  https://scikit-learn.org/stable/modules/generated/sklearn.metrics.confusion_matrix.html\n",
    "- \n",
    "- `sklearn.metrics.multilabel_confusion_matrix()`  https://scikit-learn.org/stable/modules/generated/sklearn.metrics.multilabel_confusion_matrix.html\n",
    "- \n",
    "- `sklearn.metrics.ConfusionMatrixDisplay()`  https://scikit-learn.org/stable/modules/generated/sklearn.metrics.ConfusionMatrixDisplay.html"
   ]
  },
  {
   "cell_type": "code",
   "execution_count": 11,
   "id": "5542fd7a-db9c-4e43-b745-8274bb2cc906",
   "metadata": {},
   "outputs": [
    {
     "data": {
      "text/html": [
       "<div>\n",
       "<style scoped>\n",
       "    .dataframe tbody tr th:only-of-type {\n",
       "        vertical-align: middle;\n",
       "    }\n",
       "\n",
       "    .dataframe tbody tr th {\n",
       "        vertical-align: top;\n",
       "    }\n",
       "\n",
       "    .dataframe thead th {\n",
       "        text-align: right;\n",
       "    }\n",
       "</style>\n",
       "<table border=\"1\" class=\"dataframe\">\n",
       "  <thead>\n",
       "    <tr style=\"text-align: right;\">\n",
       "      <th>real</th>\n",
       "      <th>0</th>\n",
       "      <th>1</th>\n",
       "      <th>2</th>\n",
       "    </tr>\n",
       "    <tr>\n",
       "      <th>pred</th>\n",
       "      <th></th>\n",
       "      <th></th>\n",
       "      <th></th>\n",
       "    </tr>\n",
       "  </thead>\n",
       "  <tbody>\n",
       "    <tr>\n",
       "      <th>0</th>\n",
       "      <td>16</td>\n",
       "      <td>0</td>\n",
       "      <td>0</td>\n",
       "    </tr>\n",
       "    <tr>\n",
       "      <th>1</th>\n",
       "      <td>0</td>\n",
       "      <td>4</td>\n",
       "      <td>14</td>\n",
       "    </tr>\n",
       "    <tr>\n",
       "      <th>2</th>\n",
       "      <td>0</td>\n",
       "      <td>0</td>\n",
       "      <td>11</td>\n",
       "    </tr>\n",
       "  </tbody>\n",
       "</table>\n",
       "</div>"
      ],
      "text/plain": [
       "real   0  1   2\n",
       "pred           \n",
       "0     16  0   0\n",
       "1      0  4  14\n",
       "2      0  0  11"
      ]
     },
     "execution_count": 11,
     "metadata": {},
     "output_type": "execute_result"
    }
   ],
   "source": [
    "conf_mat = pd.crosstab( y_test, y_pred, rownames=['pred'], colnames=['real'] )\n",
    "conf_mat"
   ]
  },
  {
   "cell_type": "code",
   "execution_count": 12,
   "id": "bdf3f682-55d4-40d0-81ca-1af3c66bf337",
   "metadata": {},
   "outputs": [
    {
     "data": {
      "text/plain": [
       "array([[16,  0,  0],\n",
       "       [ 0,  4, 14],\n",
       "       [ 0,  0, 11]], dtype=int64)"
      ]
     },
     "execution_count": 12,
     "metadata": {},
     "output_type": "execute_result"
    }
   ],
   "source": [
    "cm = confusion_matrix(y_test, y_pred)\n",
    "cm"
   ]
  },
  {
   "cell_type": "code",
   "execution_count": 13,
   "id": "fb0d961b-862f-4966-ba8b-1889790e9f60",
   "metadata": {},
   "outputs": [
    {
     "data": {
      "text/plain": [
       "array([[[29,  0],\n",
       "        [ 0, 16]],\n",
       "\n",
       "       [[27,  0],\n",
       "        [14,  4]],\n",
       "\n",
       "       [[20, 14],\n",
       "        [ 0, 11]]], dtype=int64)"
      ]
     },
     "execution_count": 13,
     "metadata": {},
     "output_type": "execute_result"
    }
   ],
   "source": [
    "cm_multi = multilabel_confusion_matrix(y_test, y_pred)\n",
    "cm_multi"
   ]
  },
  {
   "cell_type": "code",
   "execution_count": 14,
   "id": "cece52ad-6643-4798-9bd8-3a88576c7a26",
   "metadata": {},
   "outputs": [
    {
     "data": {
      "text/plain": [
       "<sklearn.metrics._plot.confusion_matrix.ConfusionMatrixDisplay at 0x2336cbd0820>"
      ]
     },
     "execution_count": 14,
     "metadata": {},
     "output_type": "execute_result"
    },
    {
     "data": {
      "image/png": "[encoded data removed]",
      "text/plain": [
       "<Figure size 640x480 with 2 Axes>"
      ]
     },
     "metadata": {},
     "output_type": "display_data"
    }
   ],
   "source": [
    "ConfusionMatrixDisplay( cm ).plot()"
   ]
  },
  {
   "cell_type": "code",
   "execution_count": 15,
   "id": "9f8b20a3-d5b0-4c39-97db-8b81a6d33138",
   "metadata": {},
   "outputs": [
    {
     "data": {
      "text/plain": [
       "<sklearn.metrics._plot.confusion_matrix.ConfusionMatrixDisplay at 0x2336ceb8940>"
      ]
     },
     "execution_count": 15,
     "metadata": {},
     "output_type": "execute_result"
    },
    {
     "data": {
      "image/png": "[encoded data removed]",
      "text/plain": [
       "<Figure size 500x1500 with 6 Axes>"
      ]
     },
     "metadata": {},
     "output_type": "display_data"
    }
   ],
   "source": [
    "cm_0 = cm_multi[0]\n",
    "cm_1 = cm_multi[1]\n",
    "cm_2 = cm_multi[2]\n",
    "\n",
    "fig = plt.figure( figsize = (5, 15) )\n",
    "\n",
    "ax0 = fig.add_subplot(3, 1, 1)\n",
    "ax0.set_title( y.unique()[0], size = 15 )\n",
    "\n",
    "ax1 = fig.add_subplot(3, 1, 2)\n",
    "ax1.set_title( y.unique()[1], size = 15 )\n",
    "\n",
    "ax2 = fig.add_subplot(3, 1, 3)\n",
    "ax2.set_title( y.unique()[2], size = 15 )\n",
    "\n",
    "ConfusionMatrixDisplay(cm_0).plot(ax=ax0)\n",
    "ConfusionMatrixDisplay(cm_1).plot(ax=ax1)\n",
    "ConfusionMatrixDisplay(cm_2).plot(ax=ax2)"
   ]
  },
  {
   "cell_type": "markdown",
   "id": "54c75474-88f1-4a41-b2d8-1236877d8d8d",
   "metadata": {},
   "source": [
    "## 분석 지표\n",
    "- `sklearn.metrics.accuracy_score()`  https://scikit-learn.org/stable/modules/generated/sklearn.metrics.accuracy_score.html\n",
    "\n",
    "- `sklearn.metrics.classification_report()`  https://scikit-learn.org/stable/modules/generated/sklearn.metrics.classification_report.html"
   ]
  },
  {
   "cell_type": "code",
   "execution_count": 16,
   "id": "ca8f4b51-54d2-4ee2-9cb4-713c67391dc2",
   "metadata": {},
   "outputs": [
    {
     "name": "stdout",
     "output_type": "stream",
     "text": [
      "Accuracy:  0.6888888888888889\n",
      "\n",
      "              precision    recall  f1-score   support\n",
      "\n",
      "           0      1.000     1.000     1.000        16\n",
      "           1      1.000     0.222     0.364        18\n",
      "           2      0.440     1.000     0.611        11\n",
      "\n",
      "    accuracy                          0.689        45\n",
      "   macro avg      0.813     0.741     0.658        45\n",
      "weighted avg      0.863     0.689     0.650        45\n",
      "\n",
      "\n"
     ]
    }
   ],
   "source": [
    "print( 'Accuracy: ', accuracy_score(y_test, y_pred) )\n",
    "print()\n",
    "\n",
    "print( classification_report(y_test, y_pred, digits = 3) )\n",
    "print()"
   ]
  },
  {
   "cell_type": "markdown",
   "id": "353e5d0e-18b3-4c91-9729-e44caad87dce",
   "metadata": {
    "jp-MarkdownHeadingCollapsed": true,
    "tags": []
   },
   "source": [
    "## ROC curve / AUC (주의!)\n",
    "\n",
    "[ 주의 !! ] 다중 클래스인 경우에는 ROC curve 또는 AUC 를 구할 때, one-vs-all 방식으로 클래스를 이진화 시키는 과정이 필요하다!! (target에 대한 일종의 One-Hot Encoding)\n",
    "\n",
    "- `sklearn.metrics.roc_curve()`  https://scikit-learn.org/stable/modules/generated/sklearn.metrics.roc_curve.html\n",
    "\n",
    "- `sklearn.metrics.roc_auc_score()`  https://scikit-learn.org/stable/modules/generated/sklearn.metrics.roc_auc_score.html\n",
    "\n",
    "- `sklearn.metrics.RocCurveDisplay()`  https://scikit-learn.org/stable/modules/generated/sklearn.metrics.RocCurveDisplay.html\n",
    " \n",
    "- [참고] https://scikit-learn.org/stable/auto_examples/model_selection/plot_roc.html"
   ]
  },
  {
   "cell_type": "markdown",
   "id": "a5d90828-de0b-4333-9061-e3acf016b537",
   "metadata": {},
   "source": [
    "### Target을 One-vs-All 방식으로 Labels Binarize\n",
    "\n",
    "- `sklearn.preprocessing.label_binarize( y, *, classes, neg_label=0, pos_label=1, sparse_output=False )`  \n",
    "https://scikit-learn.org/stable/modules/generated/sklearn.preprocessing.label_binarize.html"
   ]
  },
  {
   "cell_type": "code",
   "execution_count": 17,
   "id": "04d87da5-fbdc-4b64-8e04-bfbd24e1cd6f",
   "metadata": {},
   "outputs": [
    {
     "data": {
      "text/html": [
       "<div>\n",
       "<style scoped>\n",
       "    .dataframe tbody tr th:only-of-type {\n",
       "        vertical-align: middle;\n",
       "    }\n",
       "\n",
       "    .dataframe tbody tr th {\n",
       "        vertical-align: top;\n",
       "    }\n",
       "\n",
       "    .dataframe thead th {\n",
       "        text-align: right;\n",
       "    }\n",
       "</style>\n",
       "<table border=\"1\" class=\"dataframe\">\n",
       "  <thead>\n",
       "    <tr style=\"text-align: right;\">\n",
       "      <th></th>\n",
       "      <th>y</th>\n",
       "      <th>y1 (label_encoding)</th>\n",
       "      <th>y2 (label_binarize)</th>\n",
       "    </tr>\n",
       "  </thead>\n",
       "  <tbody>\n",
       "    <tr>\n",
       "      <th>0</th>\n",
       "      <td>setosa</td>\n",
       "      <td>0</td>\n",
       "      <td>(1, 0, 0)</td>\n",
       "    </tr>\n",
       "    <tr>\n",
       "      <th>1</th>\n",
       "      <td>versicolor</td>\n",
       "      <td>1</td>\n",
       "      <td>(0, 0, 1)</td>\n",
       "    </tr>\n",
       "    <tr>\n",
       "      <th>2</th>\n",
       "      <td>virginica</td>\n",
       "      <td>2</td>\n",
       "      <td>(0, 1, 0)</td>\n",
       "    </tr>\n",
       "  </tbody>\n",
       "</table>\n",
       "</div>"
      ],
      "text/plain": [
       "            y  y1 (label_encoding) y2 (label_binarize)\n",
       "0      setosa                    0           (1, 0, 0)\n",
       "1  versicolor                    1           (0, 0, 1)\n",
       "2   virginica                    2           (0, 1, 0)"
      ]
     },
     "execution_count": 17,
     "metadata": {},
     "output_type": "execute_result"
    }
   ],
   "source": [
    "# 앞서 맨 처음에 레이블 인코딩한 결과 y1을 원핫인코딩 형식으로 변환\n",
    "y2 = label_binarize(y1, classes=[0, 1, 2])\n",
    "\n",
    "# 인코딩 전후 비교\n",
    "pd.DataFrame( { 'y' : y.unique(),\n",
    "                'y1 (label_encoding)' : np.unique(y1),\n",
    "                'y2 (label_binarize)': list(set(map(tuple, y2))) } )"
   ]
  },
  {
   "cell_type": "markdown",
   "id": "d3133af8-9d70-4bfa-8276-b070d72ea570",
   "metadata": {
    "tags": []
   },
   "source": [
    "### 학습/테스트용 데이터셋 분리"
   ]
  },
  {
   "cell_type": "code",
   "execution_count": 18,
   "id": "4c5daf8a-a351-47ac-8495-a04f459b8100",
   "metadata": {},
   "outputs": [],
   "source": [
    "x_train, x_test, y2_train, y2_test  = train_test_split( x, y2,\n",
    "                                                      test_size = 0.3,\n",
    "                                                      random_state = 0 )"
   ]
  },
  {
   "cell_type": "markdown",
   "id": "a2bbce98-29f3-4805-8f16-fbedba067965",
   "metadata": {},
   "source": [
    "### One-vs-the-rest (OvR) multiclass 모델 생성 및 적합\n",
    "\n",
    "- `sklearn.multiclass.OneVsRestClassifier( estimator, *, n_jobs=None )`  \n",
    "https://scikit-learn.org/stable/modules/generated/sklearn.multiclass.OneVsRestClassifier.html"
   ]
  },
  {
   "cell_type": "code",
   "execution_count": 19,
   "id": "4975cd7e-08fc-4a1b-92a3-8769a308fdd4",
   "metadata": {},
   "outputs": [],
   "source": [
    "# 모델 생성\n",
    "model_ovr = OneVsRestClassifier( model_svm )  # 앞서 생성했던 svm 모델을 괄호 안에 입력\n",
    "\n",
    "# 모델 학습\n",
    "model_ovr.fit( x_train, y2_train )\n",
    "\n",
    "# 예측 확률 반환 (ROC 곡선에 필요)\n",
    "y_proba = model_ovr.predict_proba(x_test)"
   ]
  },
  {
   "cell_type": "markdown",
   "id": "a2b5eba6-ca20-4f9a-a372-18531d2fa37e",
   "metadata": {},
   "source": [
    "### ROC curve 및 AUC 출력"
   ]
  },
  {
   "cell_type": "code",
   "execution_count": 20,
   "id": "86a0eb03-2f7f-4d2e-a43b-fc80b5ee9aeb",
   "metadata": {},
   "outputs": [
    {
     "data": {
      "image/png": "[encoded data removed]",
      "text/plain": [
       "<Figure size 640x480 with 1 Axes>"
      ]
     },
     "metadata": {},
     "output_type": "display_data"
    },
    {
     "data": {
      "image/png": "[encoded data removed]",
      "text/plain": [
       "<Figure size 640x480 with 1 Axes>"
      ]
     },
     "metadata": {},
     "output_type": "display_data"
    },
    {
     "data": {
      "image/png": "[encoded data removed]",
      "text/plain": [
       "<Figure size 640x480 with 1 Axes>"
      ]
     },
     "metadata": {},
     "output_type": "display_data"
    }
   ],
   "source": [
    "fpr = dict()\n",
    "tpr = dict()\n",
    "thresholds = dict()\n",
    "\n",
    "roc_auc = dict()\n",
    "for i in list(range(0,3)):\n",
    "    fpr[i], tpr[i], thresholds[i] = roc_curve( y2_test[:, i], y_proba[:, i] )\n",
    "    auc = roc_auc_score( y2_test[:, i], y_proba[:, i], multi_class=\"ovr\" )\n",
    "    \n",
    "    RocCurveDisplay( fpr[i], tpr[i] ).plot()\n",
    "    plt.legend( labels = ['AUC = %.4f' % auc],\n",
    "                loc = 'lower right')\n",
    "    plt.plot( [0,1], [0,1], 'k--' )\n",
    "    plt.show()"
   ]
  },
  {
   "cell_type": "raw",
   "id": "f76d8936-d702-4cd1-910d-d16c6aa97658",
   "metadata": {},
   "source": [
    "\n"
   ]
  },
  {
   "cell_type": "markdown",
   "id": "f09c367c-83b2-4225-bc11-fbea02bccb7e",
   "metadata": {
    "tags": []
   },
   "source": [
    "# 모델 최적화"
   ]
  },
  {
   "cell_type": "markdown",
   "id": "8ccd9854-3bdd-4e09-b11c-5ec913148e71",
   "metadata": {
    "tags": []
   },
   "source": [
    "## Hyper parameter 최적화: `GridSearchCV`\n",
    "- 교차 검증과 Hyper Parameter 튜닝을 한 번에 수행함.\n",
    "\n",
    "- `sklearn.model_selection.GridSearchCV()`  https://scikit-learn.org/stable/modules/generated/sklearn.model_selection.GridSearchCV.html\n",
    "\n",
    "- Attributes: `cv_results_`, `best_score_`, `best_params_`, `best_estimator_`\n",
    "\n",
    "- Methods: `get_params()`  https://scikit-learn.org/stable/modules/generated/sklearn.model_selection.GridSearchCV.html#sklearn.model_selection.GridSearchCV.get_params"
   ]
  },
  {
   "cell_type": "markdown",
   "id": "961086d2-1f73-476a-ae64-2f736db58df4",
   "metadata": {
    "tags": []
   },
   "source": [
    "### 파라미터 확인 및 평가 조건 설정"
   ]
  },
  {
   "cell_type": "code",
   "execution_count": 21,
   "id": "3071eda7-0bb7-4f24-96fb-03cd754f1b3c",
   "metadata": {},
   "outputs": [
    {
     "data": {
      "text/plain": [
       "['C',\n",
       " 'break_ties',\n",
       " 'cache_size',\n",
       " 'class_weight',\n",
       " 'coef0',\n",
       " 'decision_function_shape',\n",
       " 'degree',\n",
       " 'gamma',\n",
       " 'kernel',\n",
       " 'max_iter',\n",
       " 'probability',\n",
       " 'random_state',\n",
       " 'shrinking',\n",
       " 'tol',\n",
       " 'verbose']"
      ]
     },
     "execution_count": 21,
     "metadata": {},
     "output_type": "execute_result"
    }
   ],
   "source": [
    "# 파라미터 목록 확인\n",
    "list( model_svm.get_params() )"
   ]
  },
  {
   "cell_type": "code",
   "execution_count": 22,
   "id": "b3861251-38b3-444a-a12b-ad23ae18fd67",
   "metadata": {},
   "outputs": [
    {
     "data": {
      "text/plain": [
       "GridSearchCV(cv=20,\n",
       "             estimator=SVC(C=0.01, gamma=0.01, kernel='linear',\n",
       "                           probability=True),\n",
       "             n_jobs=-1,\n",
       "             param_grid={'C': [0.01, 0.1, 1, 10],\n",
       "                         'gamma': ['scale', 'auto', 1e-06, 1e-05, 0.0001, 0.001,\n",
       "                                   0.01, 0.1],\n",
       "                         'kernel': ['linear', 'poly', 'rbf', 'sigmoid']},\n",
       "             scoring='accuracy')"
      ]
     },
     "execution_count": 22,
     "metadata": {},
     "output_type": "execute_result"
    }
   ],
   "source": [
    "# 평가할 파라미터 split 조건 설정\n",
    "# C: Cost(비용), 마진 너비 조절 변수 값이 클수록 마진 너비가 좁아진다\n",
    "# gamma: 감마, 작을 데이터 포인트의 영향이 커 경계가 완만해진다.\n",
    "\n",
    "params = { 'C' : [ 0.01, 0.1, 1, 10 ],\n",
    "           'kernel' : [ 'linear', 'poly', 'rbf', 'sigmoid' ],\n",
    "           'gamma' : [ 'scale', 'auto', 10**-6, 10**-5, 10**-4, 10**-3, 10**-2, 10**-1 ] }\n",
    "\n",
    "grid = GridSearchCV( model_svm,\n",
    "                     param_grid = params,\n",
    "                     cv = 20,\n",
    "                     scoring = 'accuracy',\n",
    "                     refit = True,\n",
    "                     n_jobs = -1)\n",
    "\n",
    "# split 조건별로 하이퍼 파라미터 학습/평가\n",
    "grid.fit( x, y )"
   ]
  },
  {
   "cell_type": "raw",
   "id": "6c9ad2bd-6ac2-4ed1-9cc7-044660e5384d",
   "metadata": {
    "tags": []
   },
   "source": [
    "# 평가할 파라미터 split 조건 설정\n",
    "# C: Cost(비용), 마진 너비 조절 변수 값이 클수록 마진 너비가 좁아진다\n",
    "# gamma: 감마, 작을 데이터 포인트의 영향이 커 경계가 완만해진다.\n",
    "\n",
    "params = { 'C': [0.1, 1, 10, 100, 1000],  \n",
    "           'gamma': [1, 0.1, 0.01, 0.001, 0.0001],\n",
    "           'kernel' : [ 'linear', 'poly', 'rbf', 'sigmoid' ] }  # 'precomputed' 옵션도 있으나 x가 정사각 행렬일때만 가능하다.\n",
    "\n",
    "grid = GridSearchCV( model_svm,\n",
    "                     param_grid = params,\n",
    "                     cv = 10,\n",
    "                     scoring = 'accuracy',\n",
    "                     refit = True,\n",
    "                     n_jobs = -1 )\n",
    "\n",
    "# split 조건별로 하이퍼 파라미터 학습/평가\n",
    "grid.fit( x, y )"
   ]
  },
  {
   "cell_type": "markdown",
   "id": "eae78f48-6ef7-4065-b267-873f17a30e10",
   "metadata": {},
   "source": [
    "### 최적의 파라미터 결과 확인"
   ]
  },
  {
   "cell_type": "code",
   "execution_count": 23,
   "id": "b5833554-1d80-4ee9-8c67-78f789b24936",
   "metadata": {},
   "outputs": [
    {
     "name": "stdout",
     "output_type": "stream",
     "text": [
      "<class 'pandas.core.frame.DataFrame'>\n",
      "RangeIndex: 128 entries, 0 to 127\n",
      "Data columns (total 31 columns):\n",
      " #   Column              Non-Null Count  Dtype  \n",
      "---  ------              --------------  -----  \n",
      " 0   mean_fit_time       128 non-null    float64\n",
      " 1   std_fit_time        128 non-null    float64\n",
      " 2   mean_score_time     128 non-null    float64\n",
      " 3   std_score_time      128 non-null    float64\n",
      " 4   param_C             128 non-null    object \n",
      " 5   param_gamma         128 non-null    object \n",
      " 6   param_kernel        128 non-null    object \n",
      " 7   params              128 non-null    object \n",
      " 8   split0_test_score   128 non-null    float64\n",
      " 9   split1_test_score   128 non-null    float64\n",
      " 10  split2_test_score   128 non-null    float64\n",
      " 11  split3_test_score   128 non-null    float64\n",
      " 12  split4_test_score   128 non-null    float64\n",
      " 13  split5_test_score   128 non-null    float64\n",
      " 14  split6_test_score   128 non-null    float64\n",
      " 15  split7_test_score   128 non-null    float64\n",
      " 16  split8_test_score   128 non-null    float64\n",
      " 17  split9_test_score   128 non-null    float64\n",
      " 18  split10_test_score  128 non-null    float64\n",
      " 19  split11_test_score  128 non-null    float64\n",
      " 20  split12_test_score  128 non-null    float64\n",
      " 21  split13_test_score  128 non-null    float64\n",
      " 22  split14_test_score  128 non-null    float64\n",
      " 23  split15_test_score  128 non-null    float64\n",
      " 24  split16_test_score  128 non-null    float64\n",
      " 25  split17_test_score  128 non-null    float64\n",
      " 26  split18_test_score  128 non-null    float64\n",
      " 27  split19_test_score  128 non-null    float64\n",
      " 28  mean_test_score     128 non-null    float64\n",
      " 29  std_test_score      128 non-null    float64\n",
      " 30  rank_test_score     128 non-null    int32  \n",
      "dtypes: float64(26), int32(1), object(4)\n",
      "memory usage: 30.6+ KB\n"
     ]
    }
   ],
   "source": [
    "df_grid = pd.DataFrame( grid.cv_results_ )\n",
    "\n",
    "df_grid.info()"
   ]
  },
  {
   "cell_type": "code",
   "execution_count": 24,
   "id": "4787677e-f213-4c22-b13b-a7eacae85b86",
   "metadata": {},
   "outputs": [
    {
     "data": {
      "text/html": [
       "<div>\n",
       "<style scoped>\n",
       "    .dataframe tbody tr th:only-of-type {\n",
       "        vertical-align: middle;\n",
       "    }\n",
       "\n",
       "    .dataframe tbody tr th {\n",
       "        vertical-align: top;\n",
       "    }\n",
       "\n",
       "    .dataframe thead th {\n",
       "        text-align: right;\n",
       "    }\n",
       "</style>\n",
       "<table border=\"1\" class=\"dataframe\">\n",
       "  <thead>\n",
       "    <tr style=\"text-align: right;\">\n",
       "      <th></th>\n",
       "      <th>params</th>\n",
       "      <th>mean_test_score</th>\n",
       "      <th>std_test_score</th>\n",
       "      <th>rank_test_score</th>\n",
       "    </tr>\n",
       "  </thead>\n",
       "  <tbody>\n",
       "    <tr>\n",
       "      <th>126</th>\n",
       "      <td>{'C': 10, 'gamma': 0.1, 'kernel': 'rbf'}</td>\n",
       "      <td>0.966071</td>\n",
       "      <td>0.058929</td>\n",
       "      <td>1</td>\n",
       "    </tr>\n",
       "    <tr>\n",
       "      <th>123</th>\n",
       "      <td>{'C': 10, 'gamma': 0.01, 'kernel': 'sigmoid'}</td>\n",
       "      <td>0.966071</td>\n",
       "      <td>0.058929</td>\n",
       "      <td>1</td>\n",
       "    </tr>\n",
       "    <tr>\n",
       "      <th>92</th>\n",
       "      <td>{'C': 1, 'gamma': 0.1, 'kernel': 'linear'}</td>\n",
       "      <td>0.966071</td>\n",
       "      <td>0.058929</td>\n",
       "      <td>1</td>\n",
       "    </tr>\n",
       "    <tr>\n",
       "      <th>76</th>\n",
       "      <td>{'C': 1, 'gamma': 1e-05, 'kernel': 'linear'}</td>\n",
       "      <td>0.966071</td>\n",
       "      <td>0.058929</td>\n",
       "      <td>1</td>\n",
       "    </tr>\n",
       "    <tr>\n",
       "      <th>93</th>\n",
       "      <td>{'C': 1, 'gamma': 0.1, 'kernel': 'poly'}</td>\n",
       "      <td>0.966071</td>\n",
       "      <td>0.058929</td>\n",
       "      <td>1</td>\n",
       "    </tr>\n",
       "    <tr>\n",
       "      <th>84</th>\n",
       "      <td>{'C': 1, 'gamma': 0.001, 'kernel': 'linear'}</td>\n",
       "      <td>0.966071</td>\n",
       "      <td>0.058929</td>\n",
       "      <td>1</td>\n",
       "    </tr>\n",
       "    <tr>\n",
       "      <th>96</th>\n",
       "      <td>{'C': 10, 'gamma': 'scale', 'kernel': 'linear'}</td>\n",
       "      <td>0.966071</td>\n",
       "      <td>0.058929</td>\n",
       "      <td>1</td>\n",
       "    </tr>\n",
       "    <tr>\n",
       "      <th>100</th>\n",
       "      <td>{'C': 10, 'gamma': 'auto', 'kernel': 'linear'}</td>\n",
       "      <td>0.966071</td>\n",
       "      <td>0.058929</td>\n",
       "      <td>1</td>\n",
       "    </tr>\n",
       "    <tr>\n",
       "      <th>72</th>\n",
       "      <td>{'C': 1, 'gamma': 1e-06, 'kernel': 'linear'}</td>\n",
       "      <td>0.966071</td>\n",
       "      <td>0.058929</td>\n",
       "      <td>1</td>\n",
       "    </tr>\n",
       "    <tr>\n",
       "      <th>116</th>\n",
       "      <td>{'C': 10, 'gamma': 0.001, 'kernel': 'linear'}</td>\n",
       "      <td>0.966071</td>\n",
       "      <td>0.058929</td>\n",
       "      <td>1</td>\n",
       "    </tr>\n",
       "    <tr>\n",
       "      <th>104</th>\n",
       "      <td>{'C': 10, 'gamma': 1e-06, 'kernel': 'linear'}</td>\n",
       "      <td>0.966071</td>\n",
       "      <td>0.058929</td>\n",
       "      <td>1</td>\n",
       "    </tr>\n",
       "    <tr>\n",
       "      <th>64</th>\n",
       "      <td>{'C': 1, 'gamma': 'scale', 'kernel': 'linear'}</td>\n",
       "      <td>0.966071</td>\n",
       "      <td>0.058929</td>\n",
       "      <td>1</td>\n",
       "    </tr>\n",
       "    <tr>\n",
       "      <th>33</th>\n",
       "      <td>{'C': 0.1, 'gamma': 'scale', 'kernel': 'poly'}</td>\n",
       "      <td>0.966071</td>\n",
       "      <td>0.058929</td>\n",
       "      <td>1</td>\n",
       "    </tr>\n",
       "    <tr>\n",
       "      <th>80</th>\n",
       "      <td>{'C': 1, 'gamma': 0.0001, 'kernel': 'linear'}</td>\n",
       "      <td>0.966071</td>\n",
       "      <td>0.058929</td>\n",
       "      <td>1</td>\n",
       "    </tr>\n",
       "    <tr>\n",
       "      <th>108</th>\n",
       "      <td>{'C': 10, 'gamma': 1e-05, 'kernel': 'linear'}</td>\n",
       "      <td>0.966071</td>\n",
       "      <td>0.058929</td>\n",
       "      <td>1</td>\n",
       "    </tr>\n",
       "    <tr>\n",
       "      <th>120</th>\n",
       "      <td>{'C': 10, 'gamma': 0.01, 'kernel': 'linear'}</td>\n",
       "      <td>0.966071</td>\n",
       "      <td>0.058929</td>\n",
       "      <td>1</td>\n",
       "    </tr>\n",
       "    <tr>\n",
       "      <th>68</th>\n",
       "      <td>{'C': 1, 'gamma': 'auto', 'kernel': 'linear'}</td>\n",
       "      <td>0.966071</td>\n",
       "      <td>0.058929</td>\n",
       "      <td>1</td>\n",
       "    </tr>\n",
       "    <tr>\n",
       "      <th>124</th>\n",
       "      <td>{'C': 10, 'gamma': 0.1, 'kernel': 'linear'}</td>\n",
       "      <td>0.966071</td>\n",
       "      <td>0.058929</td>\n",
       "      <td>1</td>\n",
       "    </tr>\n",
       "    <tr>\n",
       "      <th>65</th>\n",
       "      <td>{'C': 1, 'gamma': 'scale', 'kernel': 'poly'}</td>\n",
       "      <td>0.966071</td>\n",
       "      <td>0.058929</td>\n",
       "      <td>1</td>\n",
       "    </tr>\n",
       "    <tr>\n",
       "      <th>5</th>\n",
       "      <td>{'C': 0.01, 'gamma': 'auto', 'kernel': 'poly'}</td>\n",
       "      <td>0.966071</td>\n",
       "      <td>0.058929</td>\n",
       "      <td>1</td>\n",
       "    </tr>\n",
       "    <tr>\n",
       "      <th>112</th>\n",
       "      <td>{'C': 10, 'gamma': 0.0001, 'kernel': 'linear'}</td>\n",
       "      <td>0.966071</td>\n",
       "      <td>0.058929</td>\n",
       "      <td>1</td>\n",
       "    </tr>\n",
       "    <tr>\n",
       "      <th>70</th>\n",
       "      <td>{'C': 1, 'gamma': 'auto', 'kernel': 'rbf'}</td>\n",
       "      <td>0.966071</td>\n",
       "      <td>0.058929</td>\n",
       "      <td>1</td>\n",
       "    </tr>\n",
       "    <tr>\n",
       "      <th>88</th>\n",
       "      <td>{'C': 1, 'gamma': 0.01, 'kernel': 'linear'}</td>\n",
       "      <td>0.966071</td>\n",
       "      <td>0.058929</td>\n",
       "      <td>1</td>\n",
       "    </tr>\n",
       "    <tr>\n",
       "      <th>62</th>\n",
       "      <td>{'C': 0.1, 'gamma': 0.1, 'kernel': 'rbf'}</td>\n",
       "      <td>0.959821</td>\n",
       "      <td>0.076364</td>\n",
       "      <td>24</td>\n",
       "    </tr>\n",
       "    <tr>\n",
       "      <th>102</th>\n",
       "      <td>{'C': 10, 'gamma': 'auto', 'kernel': 'rbf'}</td>\n",
       "      <td>0.958929</td>\n",
       "      <td>0.062907</td>\n",
       "      <td>25</td>\n",
       "    </tr>\n",
       "    <tr>\n",
       "      <th>101</th>\n",
       "      <td>{'C': 10, 'gamma': 'auto', 'kernel': 'poly'}</td>\n",
       "      <td>0.958929</td>\n",
       "      <td>0.062907</td>\n",
       "      <td>25</td>\n",
       "    </tr>\n",
       "    <tr>\n",
       "      <th>98</th>\n",
       "      <td>{'C': 10, 'gamma': 'scale', 'kernel': 'rbf'}</td>\n",
       "      <td>0.958929</td>\n",
       "      <td>0.062907</td>\n",
       "      <td>25</td>\n",
       "    </tr>\n",
       "    <tr>\n",
       "      <th>91</th>\n",
       "      <td>{'C': 1, 'gamma': 0.01, 'kernel': 'sigmoid'}</td>\n",
       "      <td>0.958929</td>\n",
       "      <td>0.077447</td>\n",
       "      <td>25</td>\n",
       "    </tr>\n",
       "    <tr>\n",
       "      <th>52</th>\n",
       "      <td>{'C': 0.1, 'gamma': 0.001, 'kernel': 'linear'}</td>\n",
       "      <td>0.952679</td>\n",
       "      <td>0.078911</td>\n",
       "      <td>29</td>\n",
       "    </tr>\n",
       "    <tr>\n",
       "      <th>44</th>\n",
       "      <td>{'C': 0.1, 'gamma': 1e-05, 'kernel': 'linear'}</td>\n",
       "      <td>0.952679</td>\n",
       "      <td>0.078911</td>\n",
       "      <td>29</td>\n",
       "    </tr>\n",
       "  </tbody>\n",
       "</table>\n",
       "</div>"
      ],
      "text/plain": [
       "                                              params  mean_test_score  \\\n",
       "126         {'C': 10, 'gamma': 0.1, 'kernel': 'rbf'}         0.966071   \n",
       "123    {'C': 10, 'gamma': 0.01, 'kernel': 'sigmoid'}         0.966071   \n",
       "92        {'C': 1, 'gamma': 0.1, 'kernel': 'linear'}         0.966071   \n",
       "76      {'C': 1, 'gamma': 1e-05, 'kernel': 'linear'}         0.966071   \n",
       "93          {'C': 1, 'gamma': 0.1, 'kernel': 'poly'}         0.966071   \n",
       "84      {'C': 1, 'gamma': 0.001, 'kernel': 'linear'}         0.966071   \n",
       "96   {'C': 10, 'gamma': 'scale', 'kernel': 'linear'}         0.966071   \n",
       "100   {'C': 10, 'gamma': 'auto', 'kernel': 'linear'}         0.966071   \n",
       "72      {'C': 1, 'gamma': 1e-06, 'kernel': 'linear'}         0.966071   \n",
       "116    {'C': 10, 'gamma': 0.001, 'kernel': 'linear'}         0.966071   \n",
       "104    {'C': 10, 'gamma': 1e-06, 'kernel': 'linear'}         0.966071   \n",
       "64    {'C': 1, 'gamma': 'scale', 'kernel': 'linear'}         0.966071   \n",
       "33    {'C': 0.1, 'gamma': 'scale', 'kernel': 'poly'}         0.966071   \n",
       "80     {'C': 1, 'gamma': 0.0001, 'kernel': 'linear'}         0.966071   \n",
       "108    {'C': 10, 'gamma': 1e-05, 'kernel': 'linear'}         0.966071   \n",
       "120     {'C': 10, 'gamma': 0.01, 'kernel': 'linear'}         0.966071   \n",
       "68     {'C': 1, 'gamma': 'auto', 'kernel': 'linear'}         0.966071   \n",
       "124      {'C': 10, 'gamma': 0.1, 'kernel': 'linear'}         0.966071   \n",
       "65      {'C': 1, 'gamma': 'scale', 'kernel': 'poly'}         0.966071   \n",
       "5     {'C': 0.01, 'gamma': 'auto', 'kernel': 'poly'}         0.966071   \n",
       "112   {'C': 10, 'gamma': 0.0001, 'kernel': 'linear'}         0.966071   \n",
       "70        {'C': 1, 'gamma': 'auto', 'kernel': 'rbf'}         0.966071   \n",
       "88       {'C': 1, 'gamma': 0.01, 'kernel': 'linear'}         0.966071   \n",
       "62         {'C': 0.1, 'gamma': 0.1, 'kernel': 'rbf'}         0.959821   \n",
       "102      {'C': 10, 'gamma': 'auto', 'kernel': 'rbf'}         0.958929   \n",
       "101     {'C': 10, 'gamma': 'auto', 'kernel': 'poly'}         0.958929   \n",
       "98      {'C': 10, 'gamma': 'scale', 'kernel': 'rbf'}         0.958929   \n",
       "91      {'C': 1, 'gamma': 0.01, 'kernel': 'sigmoid'}         0.958929   \n",
       "52    {'C': 0.1, 'gamma': 0.001, 'kernel': 'linear'}         0.952679   \n",
       "44    {'C': 0.1, 'gamma': 1e-05, 'kernel': 'linear'}         0.952679   \n",
       "\n",
       "     std_test_score  rank_test_score  \n",
       "126        0.058929                1  \n",
       "123        0.058929                1  \n",
       "92         0.058929                1  \n",
       "76         0.058929                1  \n",
       "93         0.058929                1  \n",
       "84         0.058929                1  \n",
       "96         0.058929                1  \n",
       "100        0.058929                1  \n",
       "72         0.058929                1  \n",
       "116        0.058929                1  \n",
       "104        0.058929                1  \n",
       "64         0.058929                1  \n",
       "33         0.058929                1  \n",
       "80         0.058929                1  \n",
       "108        0.058929                1  \n",
       "120        0.058929                1  \n",
       "68         0.058929                1  \n",
       "124        0.058929                1  \n",
       "65         0.058929                1  \n",
       "5          0.058929                1  \n",
       "112        0.058929                1  \n",
       "70         0.058929                1  \n",
       "88         0.058929                1  \n",
       "62         0.076364               24  \n",
       "102        0.062907               25  \n",
       "101        0.062907               25  \n",
       "98         0.062907               25  \n",
       "91         0.077447               25  \n",
       "52         0.078911               29  \n",
       "44         0.078911               29  "
      ]
     },
     "execution_count": 24,
     "metadata": {},
     "output_type": "execute_result"
    }
   ],
   "source": [
    "# pd.set_option('display.max_colwidth', None)  # 데이터프레임의 셀 폭 설정 (한 셀의 너비에 내용이 다 안들어갈 경우)\n",
    "# pd.set_option('display.max_row', 80)  # 데이터프레임의 출력 행 개수 설정 (한 셀에 모든 행 표시가 안될 경우)\n",
    "\n",
    "df_grid[ ['params','mean_test_score','std_test_score', 'rank_test_score'] ].sort_values(['rank_test_score']).head(30)"
   ]
  },
  {
   "cell_type": "markdown",
   "id": "11e8276f-f9e0-4c81-97ec-7a4df82013b8",
   "metadata": {},
   "source": [
    "### 최적의 파라미터 추출"
   ]
  },
  {
   "cell_type": "code",
   "execution_count": 25,
   "id": "7a2e2a82-5974-4e8a-9ab0-9cfad150e673",
   "metadata": {},
   "outputs": [
    {
     "name": "stdout",
     "output_type": "stream",
     "text": [
      "최고 Score:  0.9661\n",
      "최적 Parameters:  {'C': 0.01, 'gamma': 'auto', 'kernel': 'poly'}\n",
      "최적 Estimators:  SVC(C=0.01, gamma='auto', kernel='poly', probability=True)\n"
     ]
    }
   ],
   "source": [
    "print(\"최고 Score: \", str(np.round(grid.best_score_, 4)))\n",
    "print(\"최적 Parameters: \",str(grid.best_params_))\n",
    "print(\"최적 Estimators: \",str(grid.best_estimator_))"
   ]
  },
  {
   "cell_type": "markdown",
   "id": "4930e692-6d1c-4dfa-8019-16ae9a7fa869",
   "metadata": {
    "tags": []
   },
   "source": [
    "## 최적 Parameter 조건으로 모델 생성 및 학습"
   ]
  },
  {
   "cell_type": "code",
   "execution_count": 26,
   "id": "506a91e7-d0ee-45ee-afb9-18b6eeffb0e0",
   "metadata": {},
   "outputs": [
    {
     "data": {
      "text/plain": [
       "SVC(C=0.01, gamma='auto', kernel='poly', probability=True)"
      ]
     },
     "execution_count": 26,
     "metadata": {},
     "output_type": "execute_result"
    }
   ],
   "source": [
    "# SVM 모델 생성\n",
    "tune_svm = SVC(C=0.01, gamma='auto', kernel='poly', probability=True)\n",
    "\n",
    "# 모델 학습\n",
    "tune_svm.fit( x_train, y_train )"
   ]
  },
  {
   "cell_type": "markdown",
   "id": "1d8bfe42-e57d-4294-8d07-660d681bf202",
   "metadata": {},
   "source": [
    "## 최적화된 모델로 시각화"
   ]
  },
  {
   "cell_type": "code",
   "execution_count": 27,
   "id": "64420b5e-f223-4c4a-8a99-c1d3524a449b",
   "metadata": {
    "tags": []
   },
   "outputs": [
    {
     "data": {
      "image/png": "[encoded data removed]",
      "text/plain": [
       "<Figure size 640x480 with 1 Axes>"
      ]
     },
     "metadata": {},
     "output_type": "display_data"
    }
   ],
   "source": [
    "# Plotting decision regions\n",
    "plot_decision_regions( x_train.values, y_train,\n",
    "                       clf = tune_svm )\n",
    "\n",
    "# Adding axes annotations\n",
    "plt.xlabel('sepal length [cm]')\n",
    "plt.ylabel('petal length [cm]')\n",
    "plt.title('SVM on Iris')\n",
    "\n",
    "L = plt.legend()\n",
    "L.get_texts()[0].set_text('Setosa')\n",
    "L.get_texts()[1].set_text('versicolor')\n",
    "L.get_texts()[2].set_text('virginica')\n",
    "\n",
    "plt.show()"
   ]
  },
  {
   "cell_type": "raw",
   "id": "0fa69bf4-6768-4aa3-865c-04bd02b4577d",
   "metadata": {},
   "source": [
    "\n"
   ]
  },
  {
   "cell_type": "markdown",
   "id": "49834266-6f98-470b-aca3-4b4585dd7448",
   "metadata": {},
   "source": [
    "## 최적화 모델 평가"
   ]
  },
  {
   "cell_type": "markdown",
   "id": "0f0bfd3d-9066-4b25-9540-3aade7a7675f",
   "metadata": {
    "tags": []
   },
   "source": [
    "### 학습된 모델로 예측 수행"
   ]
  },
  {
   "cell_type": "code",
   "execution_count": 28,
   "id": "cd4729cf-c70e-4c0e-a3ab-07b891d8bfbc",
   "metadata": {
    "tags": []
   },
   "outputs": [
    {
     "name": "stdout",
     "output_type": "stream",
     "text": [
      "Accuracy: 0.9777777777777777\n",
      "\n"
     ]
    },
    {
     "data": {
      "text/html": [
       "<div>\n",
       "<style scoped>\n",
       "    .dataframe tbody tr th:only-of-type {\n",
       "        vertical-align: middle;\n",
       "    }\n",
       "\n",
       "    .dataframe tbody tr th {\n",
       "        vertical-align: top;\n",
       "    }\n",
       "\n",
       "    .dataframe thead th {\n",
       "        text-align: right;\n",
       "    }\n",
       "</style>\n",
       "<table border=\"1\" class=\"dataframe\">\n",
       "  <thead>\n",
       "    <tr style=\"text-align: right;\">\n",
       "      <th></th>\n",
       "      <th>y_True</th>\n",
       "      <th>y_Predict</th>\n",
       "      <th>Pred_Result</th>\n",
       "    </tr>\n",
       "  </thead>\n",
       "  <tbody>\n",
       "    <tr>\n",
       "      <th>0</th>\n",
       "      <td>2</td>\n",
       "      <td>2</td>\n",
       "      <td>True</td>\n",
       "    </tr>\n",
       "    <tr>\n",
       "      <th>1</th>\n",
       "      <td>1</td>\n",
       "      <td>1</td>\n",
       "      <td>True</td>\n",
       "    </tr>\n",
       "    <tr>\n",
       "      <th>2</th>\n",
       "      <td>0</td>\n",
       "      <td>0</td>\n",
       "      <td>True</td>\n",
       "    </tr>\n",
       "    <tr>\n",
       "      <th>3</th>\n",
       "      <td>2</td>\n",
       "      <td>2</td>\n",
       "      <td>True</td>\n",
       "    </tr>\n",
       "    <tr>\n",
       "      <th>4</th>\n",
       "      <td>0</td>\n",
       "      <td>0</td>\n",
       "      <td>True</td>\n",
       "    </tr>\n",
       "    <tr>\n",
       "      <th>5</th>\n",
       "      <td>2</td>\n",
       "      <td>2</td>\n",
       "      <td>True</td>\n",
       "    </tr>\n",
       "    <tr>\n",
       "      <th>6</th>\n",
       "      <td>0</td>\n",
       "      <td>0</td>\n",
       "      <td>True</td>\n",
       "    </tr>\n",
       "    <tr>\n",
       "      <th>7</th>\n",
       "      <td>1</td>\n",
       "      <td>1</td>\n",
       "      <td>True</td>\n",
       "    </tr>\n",
       "    <tr>\n",
       "      <th>8</th>\n",
       "      <td>1</td>\n",
       "      <td>1</td>\n",
       "      <td>True</td>\n",
       "    </tr>\n",
       "    <tr>\n",
       "      <th>9</th>\n",
       "      <td>1</td>\n",
       "      <td>1</td>\n",
       "      <td>True</td>\n",
       "    </tr>\n",
       "  </tbody>\n",
       "</table>\n",
       "</div>"
      ],
      "text/plain": [
       "   y_True  y_Predict  Pred_Result\n",
       "0       2          2         True\n",
       "1       1          1         True\n",
       "2       0          0         True\n",
       "3       2          2         True\n",
       "4       0          0         True\n",
       "5       2          2         True\n",
       "6       0          0         True\n",
       "7       1          1         True\n",
       "8       1          1         True\n",
       "9       1          1         True"
      ]
     },
     "execution_count": 28,
     "metadata": {},
     "output_type": "execute_result"
    }
   ],
   "source": [
    "# test 데이터로 라벨 예측\n",
    "y_pred = tune_svm.predict( x_test )\n",
    "\n",
    "print( 'Accuracy:', tune_svm.score( x_test, y_test ) )\n",
    "print()\n",
    "\n",
    "pd.DataFrame( {'y_True' : y_test,\n",
    "               'y_Predict' : y_pred,\n",
    "               'Pred_Result' : y_test == y_pred} ).head(10)"
   ]
  },
  {
   "cell_type": "markdown",
   "id": "23a30a5d-c6f6-4ec3-b31f-10945eadde44",
   "metadata": {},
   "source": [
    "### Confusion Matrix\n",
    "- `pandas.crosstab()`  https://pandas.pydata.org/docs/reference/api/pandas.crosstab.html\n",
    "- \n",
    "- `sklearn.metrics.confusion_matrix()`  https://scikit-learn.org/stable/modules/generated/sklearn.metrics.confusion_matrix.html\n",
    "- \n",
    "- `sklearn.metrics.multilabel_confusion_matrix()`  https://scikit-learn.org/stable/modules/generated/sklearn.metrics.multilabel_confusion_matrix.html\n",
    "- \n",
    "- `sklearn.metrics.ConfusionMatrixDisplay()`  https://scikit-learn.org/stable/modules/generated/sklearn.metrics.ConfusionMatrixDisplay.html"
   ]
  },
  {
   "cell_type": "code",
   "execution_count": 29,
   "id": "b5f0e859-6fd3-4dd1-9ff9-ff94d68f72c6",
   "metadata": {},
   "outputs": [
    {
     "data": {
      "text/html": [
       "<div>\n",
       "<style scoped>\n",
       "    .dataframe tbody tr th:only-of-type {\n",
       "        vertical-align: middle;\n",
       "    }\n",
       "\n",
       "    .dataframe tbody tr th {\n",
       "        vertical-align: top;\n",
       "    }\n",
       "\n",
       "    .dataframe thead th {\n",
       "        text-align: right;\n",
       "    }\n",
       "</style>\n",
       "<table border=\"1\" class=\"dataframe\">\n",
       "  <thead>\n",
       "    <tr style=\"text-align: right;\">\n",
       "      <th>real</th>\n",
       "      <th>0</th>\n",
       "      <th>1</th>\n",
       "      <th>2</th>\n",
       "    </tr>\n",
       "    <tr>\n",
       "      <th>pred</th>\n",
       "      <th></th>\n",
       "      <th></th>\n",
       "      <th></th>\n",
       "    </tr>\n",
       "  </thead>\n",
       "  <tbody>\n",
       "    <tr>\n",
       "      <th>0</th>\n",
       "      <td>16</td>\n",
       "      <td>0</td>\n",
       "      <td>0</td>\n",
       "    </tr>\n",
       "    <tr>\n",
       "      <th>1</th>\n",
       "      <td>0</td>\n",
       "      <td>17</td>\n",
       "      <td>1</td>\n",
       "    </tr>\n",
       "    <tr>\n",
       "      <th>2</th>\n",
       "      <td>0</td>\n",
       "      <td>0</td>\n",
       "      <td>11</td>\n",
       "    </tr>\n",
       "  </tbody>\n",
       "</table>\n",
       "</div>"
      ],
      "text/plain": [
       "real   0   1   2\n",
       "pred            \n",
       "0     16   0   0\n",
       "1      0  17   1\n",
       "2      0   0  11"
      ]
     },
     "execution_count": 29,
     "metadata": {},
     "output_type": "execute_result"
    }
   ],
   "source": [
    "conf_mat = pd.crosstab( y_test, y_pred, rownames=['pred'], colnames=['real'] )\n",
    "conf_mat"
   ]
  },
  {
   "cell_type": "code",
   "execution_count": 30,
   "id": "a9bdaa64-3da4-485e-bd1e-4e6cb9e03d8c",
   "metadata": {},
   "outputs": [
    {
     "data": {
      "text/plain": [
       "array([[16,  0,  0],\n",
       "       [ 0, 17,  1],\n",
       "       [ 0,  0, 11]], dtype=int64)"
      ]
     },
     "execution_count": 30,
     "metadata": {},
     "output_type": "execute_result"
    }
   ],
   "source": [
    "cm = confusion_matrix(y_test, y_pred)\n",
    "cm"
   ]
  },
  {
   "cell_type": "code",
   "execution_count": 31,
   "id": "8add17ff-20b5-4f28-8b70-400f18c20867",
   "metadata": {},
   "outputs": [
    {
     "data": {
      "text/plain": [
       "array([[[29,  0],\n",
       "        [ 0, 16]],\n",
       "\n",
       "       [[27,  0],\n",
       "        [ 1, 17]],\n",
       "\n",
       "       [[33,  1],\n",
       "        [ 0, 11]]], dtype=int64)"
      ]
     },
     "execution_count": 31,
     "metadata": {},
     "output_type": "execute_result"
    }
   ],
   "source": [
    "cm_multi = multilabel_confusion_matrix(y_test, y_pred)\n",
    "cm_multi"
   ]
  },
  {
   "cell_type": "code",
   "execution_count": 32,
   "id": "8feb3cda-46ab-4319-9a2e-7952d253fc18",
   "metadata": {},
   "outputs": [
    {
     "data": {
      "text/plain": [
       "<sklearn.metrics._plot.confusion_matrix.ConfusionMatrixDisplay at 0x2336d10db20>"
      ]
     },
     "execution_count": 32,
     "metadata": {},
     "output_type": "execute_result"
    },
    {
     "data": {
      "image/png": "[encoded data removed]",
      "text/plain": [
       "<Figure size 640x480 with 2 Axes>"
      ]
     },
     "metadata": {},
     "output_type": "display_data"
    }
   ],
   "source": [
    "ConfusionMatrixDisplay( cm ).plot()"
   ]
  },
  {
   "cell_type": "code",
   "execution_count": 33,
   "id": "7d98beac-0302-4b19-9b2a-4ea224e5e5ca",
   "metadata": {},
   "outputs": [
    {
     "data": {
      "text/plain": [
       "<sklearn.metrics._plot.confusion_matrix.ConfusionMatrixDisplay at 0x2336d026700>"
      ]
     },
     "execution_count": 33,
     "metadata": {},
     "output_type": "execute_result"
    },
    {
     "data": {
      "image/png": "[encoded data removed]",
      "text/plain": [
       "<Figure size 500x1500 with 6 Axes>"
      ]
     },
     "metadata": {},
     "output_type": "display_data"
    }
   ],
   "source": [
    "cm_0 = cm_multi[0]\n",
    "cm_1 = cm_multi[1]\n",
    "cm_2 = cm_multi[2]\n",
    "\n",
    "fig = plt.figure( figsize = (5, 15) )\n",
    "\n",
    "ax0 = fig.add_subplot(3, 1, 1)\n",
    "ax0.set_title( y.unique()[0], size = 15 )\n",
    "\n",
    "ax1 = fig.add_subplot(3, 1, 2)\n",
    "ax1.set_title( y.unique()[1], size = 15 )\n",
    "\n",
    "ax2 = fig.add_subplot(3, 1, 3)\n",
    "ax2.set_title( y.unique()[2], size = 15 )\n",
    "\n",
    "ConfusionMatrixDisplay(cm_0).plot(ax=ax0)\n",
    "ConfusionMatrixDisplay(cm_1).plot(ax=ax1)\n",
    "ConfusionMatrixDisplay(cm_2).plot(ax=ax2)"
   ]
  },
  {
   "cell_type": "markdown",
   "id": "01bccfaf-9be4-41e1-ae6f-f2f06a652fff",
   "metadata": {},
   "source": [
    "### 분석 지표\n",
    "- `sklearn.metrics.accuracy_score()`  https://scikit-learn.org/stable/modules/generated/sklearn.metrics.accuracy_score.html\n",
    "\n",
    "- `sklearn.metrics.classification_report()`  https://scikit-learn.org/stable/modules/generated/sklearn.metrics.classification_report.html"
   ]
  },
  {
   "cell_type": "code",
   "execution_count": 34,
   "id": "bfe8b47f-2f4f-44f9-8fd4-68a35d018d33",
   "metadata": {},
   "outputs": [
    {
     "name": "stdout",
     "output_type": "stream",
     "text": [
      "Accuracy:  0.9777777777777777\n",
      "\n",
      "              precision    recall  f1-score   support\n",
      "\n",
      "           0      1.000     1.000     1.000        16\n",
      "           1      1.000     0.944     0.971        18\n",
      "           2      0.917     1.000     0.957        11\n",
      "\n",
      "    accuracy                          0.978        45\n",
      "   macro avg      0.972     0.981     0.976        45\n",
      "weighted avg      0.980     0.978     0.978        45\n",
      "\n",
      "\n"
     ]
    }
   ],
   "source": [
    "print( 'Accuracy: ', accuracy_score(y_test, y_pred) )\n",
    "print()\n",
    "\n",
    "print( classification_report(y_test, y_pred, digits = 3) )\n",
    "print()"
   ]
  },
  {
   "cell_type": "markdown",
   "id": "dfadf748-c722-4291-a84b-dd3634e329b9",
   "metadata": {
    "jp-MarkdownHeadingCollapsed": true,
    "tags": []
   },
   "source": [
    "### ROC curve / AUC (주의!)\n",
    "\n",
    "[ 주의 !! ] 다중 클래스인 경우에는 ROC curve 또는 AUC 를 구할 때, one-vs-all 방식으로 클래스를 이진화 시키는 과정이 필요하다!! (target에 대한 일종의 One-Hot Encoding)\n",
    "\n",
    "- `sklearn.metrics.roc_curve()`  https://scikit-learn.org/stable/modules/generated/sklearn.metrics.roc_curve.html\n",
    "\n",
    "- `sklearn.metrics.roc_auc_score()`  https://scikit-learn.org/stable/modules/generated/sklearn.metrics.roc_auc_score.html\n",
    "\n",
    "- `sklearn.metrics.RocCurveDisplay()`  https://scikit-learn.org/stable/modules/generated/sklearn.metrics.RocCurveDisplay.html\n",
    " \n",
    "- [참고] https://scikit-learn.org/stable/auto_examples/model_selection/plot_roc.html"
   ]
  },
  {
   "cell_type": "markdown",
   "id": "502a1f41-8bc5-4d9f-a9f7-b42ce0b46673",
   "metadata": {},
   "source": [
    "#### Target을 One-vs-All 방식으로 Labels Binarize\n",
    "\n",
    "- 앞서 1차 ROC 평가 시 진행하였으므로 생략"
   ]
  },
  {
   "cell_type": "markdown",
   "id": "a75e013b-f7d1-46f3-b557-b29c05899405",
   "metadata": {
    "tags": []
   },
   "source": [
    "#### 학습/테스트용 데이터셋 분리\n",
    "\n",
    "- 앞서 1차 ROC 평가 시 진행하였으므로 생략"
   ]
  },
  {
   "cell_type": "markdown",
   "id": "a2699607-22aa-456c-bfef-962e88a5027d",
   "metadata": {},
   "source": [
    "#### One-vs-the-rest (OvR) multiclass 모델 생성 및 적합\n",
    "\n",
    "- `sklearn.multiclass.OneVsRestClassifier( estimator, *, n_jobs=None )`  \n",
    "https://scikit-learn.org/stable/modules/generated/sklearn.multiclass.OneVsRestClassifier.html"
   ]
  },
  {
   "cell_type": "code",
   "execution_count": 35,
   "id": "e9938bc9-8df6-4c84-91c5-cb3726f00dd7",
   "metadata": {},
   "outputs": [],
   "source": [
    "# 모델 생성\n",
    "model_ovr = OneVsRestClassifier( tune_svm )  # 앞서 생성했던 svm 모델을 괄호 안에 입력\n",
    "\n",
    "# 모델 학습\n",
    "model_ovr.fit( x_train, y2_train )\n",
    "\n",
    "# 예측 확률 반환 (ROC 곡선에 필요)\n",
    "y_proba = model_ovr.predict_proba(x_test)"
   ]
  },
  {
   "cell_type": "markdown",
   "id": "44f7f835-5fc4-4a10-abc7-914db6c3b98e",
   "metadata": {},
   "source": [
    "#### ROC curve 및 AUC 출력"
   ]
  },
  {
   "cell_type": "code",
   "execution_count": 36,
   "id": "5f6cbed1-3481-4856-9909-c256b048749c",
   "metadata": {},
   "outputs": [
    {
     "data": {
      "image/png": "[encoded data removed]",
      "text/plain": [
       "<Figure size 640x480 with 1 Axes>"
      ]
     },
     "metadata": {},
     "output_type": "display_data"
    },
    {
     "data": {
      "image/png": "[encoded data removed]",
      "text/plain": [
       "<Figure size 640x480 with 1 Axes>"
      ]
     },
     "metadata": {},
     "output_type": "display_data"
    },
    {
     "data": {
      "image/png": "[encoded data removed]",
      "text/plain": [
       "<Figure size 640x480 with 1 Axes>"
      ]
     },
     "metadata": {},
     "output_type": "display_data"
    }
   ],
   "source": [
    "fpr = dict()\n",
    "tpr = dict()\n",
    "thresholds = dict()\n",
    "\n",
    "roc_auc = dict()\n",
    "for i in list(range(0,3)):\n",
    "    fpr[i], tpr[i], thresholds[i] = roc_curve( y2_test[:, i], y_proba[:, i] )\n",
    "    auc = roc_auc_score( y2_test[:, i], y_proba[:, i], multi_class=\"ovr\" )\n",
    "    \n",
    "    RocCurveDisplay( fpr[i], tpr[i] ).plot()\n",
    "    plt.legend( labels = ['AUC = %.4f' % auc],\n",
    "                loc = 'lower right')\n",
    "    plt.plot( [0,1], [0,1], 'k--' )\n",
    "    plt.show()"
   ]
  },
  {
   "cell_type": "code",
   "execution_count": null,
   "id": "bca7c352-b49c-419f-91d1-520f5a7501d1",
   "metadata": {},
   "outputs": [],
   "source": []
  }
 ],
 "metadata": {
  "kernelspec": {
   "display_name": "Python 3 (ipykernel)",
   "language": "python",
   "name": "python3"
  },
  "language_info": {
   "codemirror_mode": {
    "name": "ipython",
    "version": 3
   },
   "file_extension": ".py",
   "mimetype": "text/x-python",
   "name": "python",
   "nbconvert_exporter": "python",
   "pygments_lexer": "ipython3",
   "version": "3.8.11"
  },
  "toc-autonumbering": true
 },
 "nbformat": 4,
 "nbformat_minor": 5
}
