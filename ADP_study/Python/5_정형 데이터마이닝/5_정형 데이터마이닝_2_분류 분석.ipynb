{
 "cells": [
  {
   "cell_type": "markdown",
   "id": "f9f187e0-9d77-498b-bf28-5c5755a53b83",
   "metadata": {},
   "source": [
    "# [ PART 05. 정형 데이터마이닝 ] - 2장. 분류 분석\n",
    "- 분류분석은 데이터가 어떤 그룹에 속하는지 예측하는데 사용하는 기법.\n",
    "- 의사결정나무, 앙상블기법, 인공신경망 등이 있음.\n",
    "- ADP 실기에서는 \"분류기법들을 활용해 가장 정확도같은 지표가 좋은 기법과 결과를 보고서에 나타내라\"는 형식의 문제가 출제됨."
   ]
  },
  {
   "cell_type": "raw",
   "id": "8a1beebc-d600-4290-9e54-2819d83f759b",
   "metadata": {},
   "source": [
    "\n"
   ]
  },
  {
   "cell_type": "markdown",
   "id": "3368b03a-2f2f-4bd2-a5ca-06b621a74231",
   "metadata": {},
   "source": [
    "## - 불러올 패키지 목록"
   ]
  },
  {
   "cell_type": "code",
   "execution_count": 1,
   "id": "bc355631-ef44-41ac-8d7c-c517d18f6042",
   "metadata": {},
   "outputs": [],
   "source": [
    "# 데이터 핸들링을 위한 패키지\n",
    "import numpy as np\n",
    "import pandas as pd\n",
    "\n",
    "import statsmodels.api as sm\n",
    "from statsmodels.formula.api import ols\n",
    "\n",
    "import statsmodels.regression.linear_model\n",
    "\n",
    "\n",
    "from sklearn.model_selection import train_test_split    # training/test data set을 추출하는 패키지\n",
    "from sklearn.linear_model import *    # 로지스틱 회귀 분석을 위한 패키지\n",
    "from sklearn.metrics import *\n",
    "from sklearn.datasets import load_breast_cancer\n",
    "from sklearn.preprocessing import StandardScaler\n",
    "\n"
   ]
  },
  {
   "cell_type": "raw",
   "id": "167e7282-7aae-4e15-86d3-1dd2cc30895b",
   "metadata": {},
   "source": [
    "\n"
   ]
  },
  {
   "cell_type": "markdown",
   "id": "872b37a4-f430-4285-bb7a-83e94df2d7ba",
   "metadata": {},
   "source": [
    "## 1. 로지스틱 회귀분석\n",
    "- 반응변수가 범주형인 경우 적용되는 회귀분석\n",
    "- 새로운 설명변수가 주어질 때 반응변수의 각 범주에 속할 확률이 얼마인지를 추정하여 추정확률을 기준치에 따라 분류하는 목적으로 활용"
   ]
  },
  {
   "cell_type": "raw",
   "id": "773bed53-9a61-4f13-8e1a-a6a7b549a602",
   "metadata": {},
   "source": [
    "[Problem]\n",
    "- credit 데이터를 분할하고, train 데이터로 로지스틱 회귀모델을 생성하라."
   ]
  },
  {
   "cell_type": "code",
   "execution_count": 2,
   "id": "c16e421e-7220-4ef6-b4e7-2b7da6c17e6c",
   "metadata": {},
   "outputs": [
    {
     "data": {
      "text/html": [
       "<div>\n",
       "<style scoped>\n",
       "    .dataframe tbody tr th:only-of-type {\n",
       "        vertical-align: middle;\n",
       "    }\n",
       "\n",
       "    .dataframe tbody tr th {\n",
       "        vertical-align: top;\n",
       "    }\n",
       "\n",
       "    .dataframe thead th {\n",
       "        text-align: right;\n",
       "    }\n",
       "</style>\n",
       "<table border=\"1\" class=\"dataframe\">\n",
       "  <thead>\n",
       "    <tr style=\"text-align: right;\">\n",
       "      <th></th>\n",
       "      <th>const</th>\n",
       "      <th>credit.rating</th>\n",
       "      <th>account.balance</th>\n",
       "      <th>credit.duration.months</th>\n",
       "      <th>previous.credit.payment.status</th>\n",
       "      <th>credit.purpose</th>\n",
       "      <th>credit.amount</th>\n",
       "      <th>savings</th>\n",
       "      <th>employment.duration</th>\n",
       "      <th>installment.rate</th>\n",
       "      <th>...</th>\n",
       "      <th>residence.duration</th>\n",
       "      <th>current.assets</th>\n",
       "      <th>age</th>\n",
       "      <th>other.credits</th>\n",
       "      <th>apartment.type</th>\n",
       "      <th>bank.credits</th>\n",
       "      <th>occupation</th>\n",
       "      <th>dependents</th>\n",
       "      <th>telephone</th>\n",
       "      <th>foreign.worker</th>\n",
       "    </tr>\n",
       "  </thead>\n",
       "  <tbody>\n",
       "    <tr>\n",
       "      <th>0</th>\n",
       "      <td>1.0</td>\n",
       "      <td>1</td>\n",
       "      <td>1</td>\n",
       "      <td>18</td>\n",
       "      <td>3</td>\n",
       "      <td>2</td>\n",
       "      <td>1049</td>\n",
       "      <td>1</td>\n",
       "      <td>1</td>\n",
       "      <td>4</td>\n",
       "      <td>...</td>\n",
       "      <td>4</td>\n",
       "      <td>2</td>\n",
       "      <td>21</td>\n",
       "      <td>2</td>\n",
       "      <td>1</td>\n",
       "      <td>1</td>\n",
       "      <td>3</td>\n",
       "      <td>1</td>\n",
       "      <td>1</td>\n",
       "      <td>1</td>\n",
       "    </tr>\n",
       "    <tr>\n",
       "      <th>1</th>\n",
       "      <td>1.0</td>\n",
       "      <td>1</td>\n",
       "      <td>1</td>\n",
       "      <td>9</td>\n",
       "      <td>3</td>\n",
       "      <td>4</td>\n",
       "      <td>2799</td>\n",
       "      <td>1</td>\n",
       "      <td>2</td>\n",
       "      <td>2</td>\n",
       "      <td>...</td>\n",
       "      <td>2</td>\n",
       "      <td>1</td>\n",
       "      <td>36</td>\n",
       "      <td>2</td>\n",
       "      <td>1</td>\n",
       "      <td>2</td>\n",
       "      <td>3</td>\n",
       "      <td>2</td>\n",
       "      <td>1</td>\n",
       "      <td>1</td>\n",
       "    </tr>\n",
       "    <tr>\n",
       "      <th>2</th>\n",
       "      <td>1.0</td>\n",
       "      <td>1</td>\n",
       "      <td>2</td>\n",
       "      <td>12</td>\n",
       "      <td>2</td>\n",
       "      <td>4</td>\n",
       "      <td>841</td>\n",
       "      <td>2</td>\n",
       "      <td>3</td>\n",
       "      <td>2</td>\n",
       "      <td>...</td>\n",
       "      <td>4</td>\n",
       "      <td>1</td>\n",
       "      <td>23</td>\n",
       "      <td>2</td>\n",
       "      <td>1</td>\n",
       "      <td>1</td>\n",
       "      <td>2</td>\n",
       "      <td>1</td>\n",
       "      <td>1</td>\n",
       "      <td>1</td>\n",
       "    </tr>\n",
       "    <tr>\n",
       "      <th>3</th>\n",
       "      <td>1.0</td>\n",
       "      <td>1</td>\n",
       "      <td>1</td>\n",
       "      <td>12</td>\n",
       "      <td>3</td>\n",
       "      <td>4</td>\n",
       "      <td>2122</td>\n",
       "      <td>1</td>\n",
       "      <td>2</td>\n",
       "      <td>3</td>\n",
       "      <td>...</td>\n",
       "      <td>2</td>\n",
       "      <td>1</td>\n",
       "      <td>39</td>\n",
       "      <td>2</td>\n",
       "      <td>1</td>\n",
       "      <td>2</td>\n",
       "      <td>2</td>\n",
       "      <td>2</td>\n",
       "      <td>1</td>\n",
       "      <td>2</td>\n",
       "    </tr>\n",
       "    <tr>\n",
       "      <th>4</th>\n",
       "      <td>1.0</td>\n",
       "      <td>1</td>\n",
       "      <td>1</td>\n",
       "      <td>12</td>\n",
       "      <td>3</td>\n",
       "      <td>4</td>\n",
       "      <td>2171</td>\n",
       "      <td>1</td>\n",
       "      <td>2</td>\n",
       "      <td>4</td>\n",
       "      <td>...</td>\n",
       "      <td>4</td>\n",
       "      <td>2</td>\n",
       "      <td>38</td>\n",
       "      <td>1</td>\n",
       "      <td>2</td>\n",
       "      <td>2</td>\n",
       "      <td>2</td>\n",
       "      <td>1</td>\n",
       "      <td>1</td>\n",
       "      <td>2</td>\n",
       "    </tr>\n",
       "  </tbody>\n",
       "</table>\n",
       "<p>5 rows × 22 columns</p>\n",
       "</div>"
      ],
      "text/plain": [
       "   const  credit.rating  account.balance  credit.duration.months  \\\n",
       "0    1.0              1                1                      18   \n",
       "1    1.0              1                1                       9   \n",
       "2    1.0              1                2                      12   \n",
       "3    1.0              1                1                      12   \n",
       "4    1.0              1                1                      12   \n",
       "\n",
       "   previous.credit.payment.status  credit.purpose  credit.amount  savings  \\\n",
       "0                               3               2           1049        1   \n",
       "1                               3               4           2799        1   \n",
       "2                               2               4            841        2   \n",
       "3                               3               4           2122        1   \n",
       "4                               3               4           2171        1   \n",
       "\n",
       "   employment.duration  installment.rate  ...  residence.duration  \\\n",
       "0                    1                 4  ...                   4   \n",
       "1                    2                 2  ...                   2   \n",
       "2                    3                 2  ...                   4   \n",
       "3                    2                 3  ...                   2   \n",
       "4                    2                 4  ...                   4   \n",
       "\n",
       "   current.assets  age  other.credits  apartment.type  bank.credits  \\\n",
       "0               2   21              2               1             1   \n",
       "1               1   36              2               1             2   \n",
       "2               1   23              2               1             1   \n",
       "3               1   39              2               1             2   \n",
       "4               2   38              1               2             2   \n",
       "\n",
       "   occupation  dependents  telephone  foreign.worker  \n",
       "0           3           1          1               1  \n",
       "1           3           2          1               1  \n",
       "2           2           1          1               1  \n",
       "3           2           2          1               2  \n",
       "4           2           1          1               2  \n",
       "\n",
       "[5 rows x 22 columns]"
      ]
     },
     "execution_count": 2,
     "metadata": {},
     "output_type": "execute_result"
    }
   ],
   "source": [
    "# 데이터 로드 및 데이터프레임 생성\n",
    "df_credit = pd.read_csv( 'C:/Users/Administrator/GitHub/TIL/ADP_study/rawdata/credit_final.csv')\n",
    "\n",
    "\n",
    "# 회귀모델의 상수항에 해당하는 컬럼 추가\n",
    "df_credit = sm.add_constant( df_credit,\n",
    "                             has_constant = \"add\" )\n",
    "\n",
    "df_credit.head()"
   ]
  },
  {
   "cell_type": "code",
   "execution_count": 3,
   "id": "c5c2f4fc-bfa4-41bd-bf48-03b83a9231d6",
   "metadata": {},
   "outputs": [
    {
     "name": "stdout",
     "output_type": "stream",
     "text": [
      "train_x (700, 21) \n",
      " test_x (300, 21)\n",
      "train_y (700,) \n",
      " test_y (300,)\n"
     ]
    }
   ],
   "source": [
    "# 독립변수, 종속변수 지정\n",
    "x = df_credit.drop('credit.rating', axis = 1)\n",
    "y = df_credit['credit.rating']\n",
    "\n",
    "\n",
    "# 데이터 분할 : train 70%, test 30%\n",
    "train_x, test_x, train_y, test_y = train_test_split( x, y,\n",
    "                                                     train_size = 0.7, test_size = 0.3,\n",
    "                                                     random_state = 153 )\n",
    "\n",
    "print( 'train_x', train_x.shape,'\\n', 'test_x', test_x.shape)\n",
    "print( 'train_y', train_y.shape,'\\n', 'test_y', test_y.shape)"
   ]
  },
  {
   "cell_type": "raw",
   "id": "ed5441bd-21f6-4b52-a7c8-ea53f6acb06e",
   "metadata": {},
   "source": []
  },
  {
   "cell_type": "markdown",
   "id": "52952838-9c46-4a2c-b9bb-ae6844d864a5",
   "metadata": {},
   "source": [
    "### sklearn 패키지 사용"
   ]
  },
  {
   "cell_type": "code",
   "execution_count": 4,
   "id": "e12ea0c4-7e4a-4019-b498-48ad08722021",
   "metadata": {},
   "outputs": [
    {
     "data": {
      "text/plain": [
       "LogisticRegressionCV(max_iter=1000)"
      ]
     },
     "execution_count": 4,
     "metadata": {},
     "output_type": "execute_result"
    }
   ],
   "source": [
    "# 로지스틱 회귀를 이용하여 학습 및 예측 수행. \n",
    "lr_clf = LogisticRegressionCV(max_iter = 1000)\n",
    "lr_clf.fit( train_x, train_y )"
   ]
  },
  {
   "cell_type": "code",
   "execution_count": 5,
   "id": "f8267f0c-3dbf-41f4-a288-9e779778d0c6",
   "metadata": {},
   "outputs": [
    {
     "name": "stdout",
     "output_type": "stream",
     "text": [
      "accuracy: 0.723\n",
      "roc_auc: 0.628\n"
     ]
    }
   ],
   "source": [
    "lr_preds = lr_clf.predict(test_x)\n",
    "\n",
    "# accuracy와 roc_auc 측정\n",
    "print('accuracy: {:0.3f}'.format(accuracy_score(test_y, lr_preds)))\n",
    "print('roc_auc: {:0.3f}'.format(roc_auc_score(test_y , lr_preds)))"
   ]
  },
  {
   "cell_type": "code",
   "execution_count": null,
   "id": "47ec6ac1-85e6-49b4-a69a-acd34d48ceae",
   "metadata": {},
   "outputs": [],
   "source": []
  },
  {
   "cell_type": "markdown",
   "id": "e3cf0049-ec12-4ddf-8ac7-8abc3957cc6d",
   "metadata": {},
   "source": [
    "### statsmodels 패키지 사용"
   ]
  },
  {
   "cell_type": "code",
   "execution_count": 6,
   "id": "66285784-1e22-4060-8a03-66027d343a7f",
   "metadata": {},
   "outputs": [
    {
     "name": "stdout",
     "output_type": "stream",
     "text": [
      "Optimization terminated successfully.\n",
      "         Current function value: 0.461446\n",
      "         Iterations 7\n"
     ]
    }
   ],
   "source": [
    "# 로지스틱 회귀분석 실행\n",
    "\n",
    "model = sm.Logit(train_y, train_x)\n",
    "result = model.fit()"
   ]
  },
  {
   "cell_type": "code",
   "execution_count": 7,
   "id": "6f1e0918-fe1f-48e0-a938-441997d5cc01",
   "metadata": {},
   "outputs": [
    {
     "name": "stdout",
     "output_type": "stream",
     "text": [
      "                           Logit Regression Results                           \n",
      "==============================================================================\n",
      "Dep. Variable:          credit.rating   No. Observations:                  700\n",
      "Model:                          Logit   Df Residuals:                      679\n",
      "Method:                           MLE   Df Model:                           20\n",
      "Date:                Sat, 07 Aug 2021   Pseudo R-squ.:                  0.2369\n",
      "Time:                        16:41:57   Log-Likelihood:                -323.01\n",
      "converged:                       True   LL-Null:                       -423.28\n",
      "Covariance Type:            nonrobust   LLR p-value:                 8.790e-32\n",
      "==================================================================================================\n",
      "                                     coef    std err          z      P>|z|      [0.025      0.975]\n",
      "--------------------------------------------------------------------------------------------------\n",
      "const                             -2.4741      1.557     -1.589      0.112      -5.527       0.579\n",
      "account.balance                    0.8728      0.125      7.004      0.000       0.629       1.117\n",
      "credit.duration.months            -0.0303      0.010     -2.961      0.003      -0.050      -0.010\n",
      "previous.credit.payment.status     0.4685      0.187      2.506      0.012       0.102       0.835\n",
      "credit.purpose                    -0.4185      0.111     -3.785      0.000      -0.635      -0.202\n",
      "credit.amount                     -0.0001   4.97e-05     -2.557      0.011      -0.000   -2.97e-05\n",
      "savings                            0.3452      0.096      3.583      0.000       0.156       0.534\n",
      "employment.duration                0.2673      0.103      2.591      0.010       0.065       0.470\n",
      "installment.rate                  -0.2234      0.102     -2.198      0.028      -0.423      -0.024\n",
      "marital.status                     0.0578      0.096      0.605      0.545      -0.129       0.245\n",
      "guarantor                          0.2920      0.331      0.883      0.377      -0.356       0.940\n",
      "residence.duration                -0.1031      0.095     -1.086      0.277      -0.289       0.083\n",
      "current.assets                    -0.1962      0.111     -1.761      0.078      -0.415       0.022\n",
      "age                                0.0114      0.010      1.107      0.268      -0.009       0.032\n",
      "other.credits                      0.0142      0.253      0.056      0.955      -0.482       0.511\n",
      "apartment.type                     0.1402      0.212      0.663      0.507      -0.274       0.555\n",
      "bank.credits                      -0.3378      0.239     -1.416      0.157      -0.805       0.130\n",
      "occupation                        -0.0235      0.170     -0.138      0.890      -0.357       0.310\n",
      "dependents                         0.0511      0.294      0.174      0.862      -0.525       0.627\n",
      "telephone                          0.1994      0.231      0.863      0.388      -0.253       0.652\n",
      "foreign.worker                     2.0812      1.067      1.951      0.051      -0.010       4.172\n",
      "==================================================================================================\n"
     ]
    }
   ],
   "source": [
    "print( result.summary() )"
   ]
  },
  {
   "cell_type": "code",
   "execution_count": 8,
   "id": "0c339612-9748-46e4-93b5-4e3bfe1300ec",
   "metadata": {},
   "outputs": [
    {
     "name": "stdout",
     "output_type": "stream",
     "text": [
      "<class 'pandas.core.frame.DataFrame'>\n",
      "RangeIndex: 1000 entries, 0 to 999\n",
      "Data columns (total 22 columns):\n",
      " #   Column                          Non-Null Count  Dtype  \n",
      "---  ------                          --------------  -----  \n",
      " 0   const                           1000 non-null   float64\n",
      " 1   credit.rating                   1000 non-null   int64  \n",
      " 2   account.balance                 1000 non-null   int64  \n",
      " 3   credit.duration.months          1000 non-null   int64  \n",
      " 4   previous.credit.payment.status  1000 non-null   int64  \n",
      " 5   credit.purpose                  1000 non-null   int64  \n",
      " 6   credit.amount                   1000 non-null   int64  \n",
      " 7   savings                         1000 non-null   int64  \n",
      " 8   employment.duration             1000 non-null   int64  \n",
      " 9   installment.rate                1000 non-null   int64  \n",
      " 10  marital.status                  1000 non-null   int64  \n",
      " 11  guarantor                       1000 non-null   int64  \n",
      " 12  residence.duration              1000 non-null   int64  \n",
      " 13  current.assets                  1000 non-null   int64  \n",
      " 14  age                             1000 non-null   int64  \n",
      " 15  other.credits                   1000 non-null   int64  \n",
      " 16  apartment.type                  1000 non-null   int64  \n",
      " 17  bank.credits                    1000 non-null   int64  \n",
      " 18  occupation                      1000 non-null   int64  \n",
      " 19  dependents                      1000 non-null   int64  \n",
      " 20  telephone                       1000 non-null   int64  \n",
      " 21  foreign.worker                  1000 non-null   int64  \n",
      "dtypes: float64(1), int64(21)\n",
      "memory usage: 172.0 KB\n"
     ]
    }
   ],
   "source": [
    "df_credit.info()"
   ]
  },
  {
   "cell_type": "code",
   "execution_count": 9,
   "id": "8f346574-d5f5-40ff-bd3b-328cef2a5701",
   "metadata": {},
   "outputs": [
    {
     "name": "stdout",
     "output_type": "stream",
     "text": [
      "train_x (700, 13) \n",
      " test_x (300, 13)\n",
      "train_y (700,) \n",
      " test_y (300,)\n"
     ]
    }
   ],
   "source": [
    "# 독립변수, 종속변수 지정\n",
    "x2 = df_credit[ ['account.balance', 'credit.duration.months', 'previous.credit.payment.status',\n",
    "                 'savings', 'credit.purpose', 'current.assets', 'apartment.type', 'foreign.worker',\n",
    "                 'guarantor', 'age', 'other.credits', 'marital.status', 'installment.rate'] ]\n",
    "y = df_credit['credit.rating']\n",
    "\n",
    "\n",
    "# 데이터 분할 : train 70%, test 30%\n",
    "train_x, test_x, train_y, test_y = train_test_split( x2, y,\n",
    "                                                     train_size = 0.7, test_size = 0.3,\n",
    "                                                     stratify = y,\n",
    "                                                     random_state = 153 )\n",
    "\n",
    "print( 'train_x', train_x.shape,'\\n', 'test_x', test_x.shape)\n",
    "print( 'train_y', train_y.shape,'\\n', 'test_y', test_y.shape)"
   ]
  },
  {
   "cell_type": "code",
   "execution_count": 10,
   "id": "55a99e72-e497-449d-a3d4-cc757c645891",
   "metadata": {},
   "outputs": [
    {
     "name": "stdout",
     "output_type": "stream",
     "text": [
      "Optimization terminated successfully.\n",
      "         Current function value: 0.481089\n",
      "         Iterations 6\n"
     ]
    }
   ],
   "source": [
    "# 로지스틱 회귀분석 실행\n",
    "\n",
    "model = sm.Logit(train_y, train_x)\n",
    "result = model.fit()"
   ]
  },
  {
   "cell_type": "code",
   "execution_count": 11,
   "id": "a27fd94a-58a1-4f90-bc84-2608b1fd370b",
   "metadata": {},
   "outputs": [
    {
     "name": "stdout",
     "output_type": "stream",
     "text": [
      "                           Logit Regression Results                           \n",
      "==============================================================================\n",
      "Dep. Variable:          credit.rating   No. Observations:                  700\n",
      "Model:                          Logit   Df Residuals:                      687\n",
      "Method:                           MLE   Df Model:                           12\n",
      "Date:                Sat, 07 Aug 2021   Pseudo R-squ.:                  0.2124\n",
      "Time:                        16:41:58   Log-Likelihood:                -336.76\n",
      "converged:                       True   LL-Null:                       -427.61\n",
      "Covariance Type:            nonrobust   LLR p-value:                 1.924e-32\n",
      "==================================================================================================\n",
      "                                     coef    std err          z      P>|z|      [0.025      0.975]\n",
      "--------------------------------------------------------------------------------------------------\n",
      "account.balance                    0.7475      0.117      6.365      0.000       0.517       0.978\n",
      "credit.duration.months            -0.0495      0.008     -6.017      0.000      -0.066      -0.033\n",
      "previous.credit.payment.status     0.5299      0.156      3.388      0.001       0.223       0.836\n",
      "savings                            0.3003      0.090      3.326      0.001       0.123       0.477\n",
      "credit.purpose                    -0.3908      0.104     -3.764      0.000      -0.594      -0.187\n",
      "current.assets                    -0.2583      0.101     -2.552      0.011      -0.457      -0.060\n",
      "apartment.type                     0.2824      0.193      1.462      0.144      -0.096       0.661\n",
      "foreign.worker                    -0.2102      0.489     -0.430      0.667      -1.168       0.748\n",
      "guarantor                         -0.0983      0.320     -0.307      0.759      -0.725       0.529\n",
      "age                                0.0053      0.010      0.558      0.577      -0.013       0.024\n",
      "other.credits                      0.1566      0.223      0.702      0.482      -0.280       0.593\n",
      "marital.status                     0.1777      0.091      1.947      0.052      -0.001       0.357\n",
      "installment.rate                  -0.1990      0.086     -2.304      0.021      -0.368      -0.030\n",
      "==================================================================================================\n"
     ]
    }
   ],
   "source": [
    "print( result.summary() )"
   ]
  },
  {
   "cell_type": "code",
   "execution_count": null,
   "id": "dd65d994-c8d2-428b-adf6-999613876430",
   "metadata": {},
   "outputs": [],
   "source": []
  },
  {
   "cell_type": "code",
   "execution_count": null,
   "id": "4ab7311d-4baf-4773-b127-98815d02eb79",
   "metadata": {},
   "outputs": [],
   "source": []
  }
 ],
 "metadata": {
  "kernelspec": {
   "display_name": "Python 3",
   "language": "python",
   "name": "python3"
  },
  "language_info": {
   "codemirror_mode": {
    "name": "ipython",
    "version": 3
   },
   "file_extension": ".py",
   "mimetype": "text/x-python",
   "name": "python",
   "nbconvert_exporter": "python",
   "pygments_lexer": "ipython3",
   "version": "3.8.8"
  },
  "toc-autonumbering": false
 },
 "nbformat": 4,
 "nbformat_minor": 5
}
