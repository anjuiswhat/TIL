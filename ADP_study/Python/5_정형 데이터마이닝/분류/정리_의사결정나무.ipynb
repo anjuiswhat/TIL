{
 "cells": [
  {
   "cell_type": "markdown",
   "id": "895f3bf3-5c34-4598-b60a-6008b6f3fc69",
   "metadata": {
    "tags": []
   },
   "source": [
    "## - 불러올 패키지 목록"
   ]
  },
  {
   "cell_type": "code",
   "execution_count": 1,
   "id": "4f12180a-74a3-47e5-974e-f9a59c1a7fc8",
   "metadata": {},
   "outputs": [],
   "source": [
    "# 데이터 핸들링을 위한 패키지\n",
    "import numpy as np\n",
    "import pandas as pd\n",
    "\n",
    "# 사이킷런 패키지\n",
    "from sklearn.preprocessing import *  # 데이터 전처리를 위한 패키지\n",
    "from sklearn.model_selection import *  # 데이터 분리, 검증 및 파라미터 튜닝을 위한 패키지\n",
    "from sklearn.metrics import *  # 모델에 대한 다양한 성능 평가를 위한 패키지\n",
    "from sklearn.cluster import *  # 비지도 군집화 알고리즘 제공\n",
    "from sklearn.tree import *  # 의사결정나무 알고리즘 제공\n",
    "from sklearn.ensemble import *  # 앙상블 알고리즘 제공\n",
    "from sklearn.neighbors import *  # kNN 알고리즘 제공\n",
    "from sklearn.svm import *  # 서포트 벡터 머신 알고리즘 제공\n",
    "\n",
    "# 사이파이 패키지\n",
    "from scipy.cluster.hierarchy import *  # 계층적 군집 분석을 위한 패키지\n",
    "\n",
    "# label별 데이터 카운트를 위한 모듈\n",
    "from collections import Counter  # https://docs.python.org/3/library/collections.html\n",
    "\n",
    "# 경고 메시지 무시\n",
    "import warnings\n",
    "warnings.filterwarnings('ignore')\n",
    "\n",
    "# 시각화를 위한 패키지\n",
    "import seaborn as sb\n",
    "from matplotlib import pyplot as plt\n",
    "from matplotlib.colors import ListedColormap\n",
    "from mlxtend.plotting import plot_decision_regions\n",
    "\n",
    "%matplotlib inline\n",
    "# %matplotlib inline 의 목적은 plt.show()함수가 호출되지 않은 경우에도 matplotlib 다이어그램을 렌더링하는 것이다.\n",
    "# 그러나 현재 업데이트된 버전의 주피터 노트북 버전에서는 %matplotlib inline 를 사용하지 않더라도 Matplotlib 다이어그램을 개체로 표현한다.\n",
    "# 따라서 굳이 필요하지는 않다. 그러나 코드를 깨끗하게 유지하고 자신이 만든 플롯을 호출하기 위해 여전히 관례적으로 권장된다.\n",
    "\n",
    "# 그래프 스타일 서식 지정\n",
    "plt.style.use('default')\n",
    "\n",
    "# 한글 폰트 설정\n",
    "plt.rc('font', family='Malgun Gothic')\n",
    "\n",
    "# 그래프 축의 음수 표현 오류 방지\n",
    "plt.rcParams['axes.unicode_minus'] = False"
   ]
  },
  {
   "cell_type": "markdown",
   "id": "9ce91393-a1c8-4b9a-b3d3-d14550359dd3",
   "metadata": {
    "tags": []
   },
   "source": [
    "# Dataset 불러오기 및 data 정보 확인"
   ]
  },
  {
   "cell_type": "markdown",
   "id": "83324ca0-d3ad-44c7-86a0-071a48104c0d",
   "metadata": {},
   "source": [
    "## 데이터 불러오기"
   ]
  },
  {
   "cell_type": "code",
   "execution_count": 2,
   "id": "30dc18a4-5926-468a-aed4-5e400596e3fc",
   "metadata": {},
   "outputs": [
    {
     "data": {
      "text/html": [
       "<div>\n",
       "<style scoped>\n",
       "    .dataframe tbody tr th:only-of-type {\n",
       "        vertical-align: middle;\n",
       "    }\n",
       "\n",
       "    .dataframe tbody tr th {\n",
       "        vertical-align: top;\n",
       "    }\n",
       "\n",
       "    .dataframe thead th {\n",
       "        text-align: right;\n",
       "    }\n",
       "</style>\n",
       "<table border=\"1\" class=\"dataframe\">\n",
       "  <thead>\n",
       "    <tr style=\"text-align: right;\">\n",
       "      <th></th>\n",
       "      <th>Sepal.Length</th>\n",
       "      <th>Sepal.Width</th>\n",
       "      <th>Petal.Length</th>\n",
       "      <th>Petal.Width</th>\n",
       "      <th>Species</th>\n",
       "    </tr>\n",
       "  </thead>\n",
       "  <tbody>\n",
       "    <tr>\n",
       "      <th>1</th>\n",
       "      <td>5.1</td>\n",
       "      <td>3.5</td>\n",
       "      <td>1.4</td>\n",
       "      <td>0.2</td>\n",
       "      <td>setosa</td>\n",
       "    </tr>\n",
       "    <tr>\n",
       "      <th>2</th>\n",
       "      <td>4.9</td>\n",
       "      <td>3.0</td>\n",
       "      <td>1.4</td>\n",
       "      <td>0.2</td>\n",
       "      <td>setosa</td>\n",
       "    </tr>\n",
       "    <tr>\n",
       "      <th>3</th>\n",
       "      <td>4.7</td>\n",
       "      <td>3.2</td>\n",
       "      <td>1.3</td>\n",
       "      <td>0.2</td>\n",
       "      <td>setosa</td>\n",
       "    </tr>\n",
       "    <tr>\n",
       "      <th>4</th>\n",
       "      <td>4.6</td>\n",
       "      <td>3.1</td>\n",
       "      <td>1.5</td>\n",
       "      <td>0.2</td>\n",
       "      <td>setosa</td>\n",
       "    </tr>\n",
       "    <tr>\n",
       "      <th>5</th>\n",
       "      <td>5.0</td>\n",
       "      <td>3.6</td>\n",
       "      <td>1.4</td>\n",
       "      <td>0.2</td>\n",
       "      <td>setosa</td>\n",
       "    </tr>\n",
       "    <tr>\n",
       "      <th>...</th>\n",
       "      <td>...</td>\n",
       "      <td>...</td>\n",
       "      <td>...</td>\n",
       "      <td>...</td>\n",
       "      <td>...</td>\n",
       "    </tr>\n",
       "    <tr>\n",
       "      <th>146</th>\n",
       "      <td>6.7</td>\n",
       "      <td>3.0</td>\n",
       "      <td>5.2</td>\n",
       "      <td>2.3</td>\n",
       "      <td>virginica</td>\n",
       "    </tr>\n",
       "    <tr>\n",
       "      <th>147</th>\n",
       "      <td>6.3</td>\n",
       "      <td>2.5</td>\n",
       "      <td>5.0</td>\n",
       "      <td>1.9</td>\n",
       "      <td>virginica</td>\n",
       "    </tr>\n",
       "    <tr>\n",
       "      <th>148</th>\n",
       "      <td>6.5</td>\n",
       "      <td>3.0</td>\n",
       "      <td>5.2</td>\n",
       "      <td>2.0</td>\n",
       "      <td>virginica</td>\n",
       "    </tr>\n",
       "    <tr>\n",
       "      <th>149</th>\n",
       "      <td>6.2</td>\n",
       "      <td>3.4</td>\n",
       "      <td>5.4</td>\n",
       "      <td>2.3</td>\n",
       "      <td>virginica</td>\n",
       "    </tr>\n",
       "    <tr>\n",
       "      <th>150</th>\n",
       "      <td>5.9</td>\n",
       "      <td>3.0</td>\n",
       "      <td>5.1</td>\n",
       "      <td>1.8</td>\n",
       "      <td>virginica</td>\n",
       "    </tr>\n",
       "  </tbody>\n",
       "</table>\n",
       "<p>150 rows × 5 columns</p>\n",
       "</div>"
      ],
      "text/plain": [
       "     Sepal.Length  Sepal.Width  Petal.Length  Petal.Width    Species\n",
       "1             5.1          3.5           1.4          0.2     setosa\n",
       "2             4.9          3.0           1.4          0.2     setosa\n",
       "3             4.7          3.2           1.3          0.2     setosa\n",
       "4             4.6          3.1           1.5          0.2     setosa\n",
       "5             5.0          3.6           1.4          0.2     setosa\n",
       "..            ...          ...           ...          ...        ...\n",
       "146           6.7          3.0           5.2          2.3  virginica\n",
       "147           6.3          2.5           5.0          1.9  virginica\n",
       "148           6.5          3.0           5.2          2.0  virginica\n",
       "149           6.2          3.4           5.4          2.3  virginica\n",
       "150           5.9          3.0           5.1          1.8  virginica\n",
       "\n",
       "[150 rows x 5 columns]"
      ]
     },
     "execution_count": 2,
     "metadata": {},
     "output_type": "execute_result"
    }
   ],
   "source": [
    "# 분석할 데이터 불러오기 / 데이터프레임 생성\n",
    "df_iris = pd.read_csv('C:/Users/Administrator/GitHub/TIL/ADP_study/rawdata/iris.csv',\n",
    "                      index_col = 'Unnamed: 0')\n",
    "df_iris"
   ]
  },
  {
   "cell_type": "markdown",
   "id": "03314a53-afd2-44e8-ab51-8d683ead6252",
   "metadata": {},
   "source": [
    "## data 정보 확인"
   ]
  },
  {
   "cell_type": "code",
   "execution_count": 3,
   "id": "4f621687-4686-4ce8-bcd4-e3a860963437",
   "metadata": {},
   "outputs": [
    {
     "name": "stdout",
     "output_type": "stream",
     "text": [
      "<class 'pandas.core.frame.DataFrame'>\n",
      "Int64Index: 150 entries, 1 to 150\n",
      "Data columns (total 5 columns):\n",
      " #   Column        Non-Null Count  Dtype  \n",
      "---  ------        --------------  -----  \n",
      " 0   Sepal.Length  150 non-null    float64\n",
      " 1   Sepal.Width   150 non-null    float64\n",
      " 2   Petal.Length  150 non-null    float64\n",
      " 3   Petal.Width   150 non-null    float64\n",
      " 4   Species       150 non-null    object \n",
      "dtypes: float64(4), object(1)\n",
      "memory usage: 7.0+ KB\n"
     ]
    }
   ],
   "source": [
    "df_iris.info()"
   ]
  },
  {
   "cell_type": "markdown",
   "id": "90635492-5d03-40d0-ba68-4dbc8a9c223f",
   "metadata": {},
   "source": [
    "# x값(예측변수), y값(목표변수) 설정"
   ]
  },
  {
   "cell_type": "code",
   "execution_count": 4,
   "id": "98b42bca-6259-45cf-9a3e-7517ba08a5f8",
   "metadata": {},
   "outputs": [],
   "source": [
    "# 목표변수와 나머지 변수들을 따로 저장\n",
    "x = df_iris.iloc[: , 0:4 ]\n",
    "y = df_iris.iloc[:, 4 ]"
   ]
  },
  {
   "cell_type": "code",
   "execution_count": 5,
   "id": "5c636937-6148-461a-9320-dd0a9bc6b1bb",
   "metadata": {},
   "outputs": [],
   "source": [
    "# df_iris.data = df_iris.loc[ : , 'Sepal.Length':'Petal.Width' ] .values\n",
    "# df_iris.feature_names = list( df_iris.drop('Species', axis=1) )\n",
    "\n",
    "# df_iris.target = df_iris['Species']\n",
    "# df_iris.target_names = list( df_iris['Species'].unique() )"
   ]
  },
  {
   "cell_type": "markdown",
   "id": "9635f57b-566e-4f3a-9c76-9ccc36fbaa5f",
   "metadata": {},
   "source": [
    "# 학습/테스트용 데이터셋 분리\n",
    "- `sklearn.model_selection.train_test_split()`  https://scikit-learn.org/stable/modules/generated/sklearn.model_selection.train_test_split.html"
   ]
  },
  {
   "cell_type": "code",
   "execution_count": 6,
   "id": "ded5ef5d-c4f6-44a3-b323-4e885ec408fa",
   "metadata": {},
   "outputs": [
    {
     "name": "stdout",
     "output_type": "stream",
     "text": [
      "Counter({'virginica': 39, 'setosa': 34, 'versicolor': 32})\n",
      "\n",
      "Counter({'versicolor': 18, 'setosa': 16, 'virginica': 11})\n"
     ]
    }
   ],
   "source": [
    "# 데이터셋 나누고 라벨 분포 확인\n",
    "x_train, x_test, y_train, y_test  = train_test_split( x, y,\n",
    "                                                      test_size = 0.3,\n",
    "                                                      random_state = 154 )\n",
    "\n",
    "# 라벨별 데이터 분포 확인\n",
    "print( Counter(y_train) )\n",
    "print()\n",
    "print( Counter(y_test) )"
   ]
  },
  {
   "cell_type": "raw",
   "id": "d961f29e-f069-4d3f-bade-11f24da881c9",
   "metadata": {
    "tags": []
   },
   "source": [
    "\n"
   ]
  },
  {
   "cell_type": "markdown",
   "id": "c67fe1f1-c277-4326-a351-fc37f266d724",
   "metadata": {},
   "source": [
    "# 모델 생성 및 학습"
   ]
  },
  {
   "cell_type": "markdown",
   "id": "3d1c5f43-f55d-4a6e-a931-6b6116c6f5e8",
   "metadata": {},
   "source": [
    "## 결정나무 모델 생성\n",
    "- `sklearn.tree.DecisionTreeClassifier()`  https://scikit-learn.org/stable/modules/generated/sklearn.tree.DecisionTreeClassifier.html"
   ]
  },
  {
   "cell_type": "code",
   "execution_count": 7,
   "id": "a62db125-f552-4c89-a59b-5512e08a1885",
   "metadata": {},
   "outputs": [],
   "source": [
    "# 의사결정트리 만들기\n",
    "model_dtclf = DecisionTreeClassifier( random_state = 153)"
   ]
  },
  {
   "cell_type": "markdown",
   "id": "eafa6962-f1a4-4e2c-afaa-dd55a5ab29c7",
   "metadata": {},
   "source": [
    "## train 데이터로 학습 수행\n",
    "- `.fit()`  https://scikit-learn.org/stable/modules/generated/sklearn.tree.DecisionTreeClassifier.html#sklearn.tree.DecisionTreeClassifier.fit"
   ]
  },
  {
   "cell_type": "code",
   "execution_count": 8,
   "id": "8c06acce-2728-40d4-887b-a4810e64e8c7",
   "metadata": {},
   "outputs": [
    {
     "data": {
      "text/plain": [
       "DecisionTreeClassifier(random_state=153)"
      ]
     },
     "execution_count": 8,
     "metadata": {},
     "output_type": "execute_result"
    }
   ],
   "source": [
    "# 모델 학습\n",
    "model_dtclf.fit( x_train, y_train )"
   ]
  },
  {
   "cell_type": "code",
   "execution_count": 9,
   "id": "a639e7f7-7cb4-478a-a73f-27870b260bc8",
   "metadata": {
    "tags": []
   },
   "outputs": [
    {
     "data": {
      "text/plain": [
       "array(['setosa', 'versicolor', 'virginica'], dtype=object)"
      ]
     },
     "execution_count": 9,
     "metadata": {},
     "output_type": "execute_result"
    }
   ],
   "source": [
    "# 모델의 정답에 대한 정보 확인\n",
    "model_dtclf.classes_"
   ]
  },
  {
   "cell_type": "raw",
   "id": "ef6abddf-662f-462a-bf40-5b4afdecec34",
   "metadata": {
    "tags": []
   },
   "source": [
    "\n"
   ]
  },
  {
   "cell_type": "markdown",
   "id": "6ee032f8-9f0c-48a5-bec8-c4b6dd6e3efa",
   "metadata": {},
   "source": [
    "# 예측 및 평가"
   ]
  },
  {
   "cell_type": "markdown",
   "id": "e5cdcd73-6a99-43cb-b649-48b41fb9ef52",
   "metadata": {},
   "source": [
    "## 학습된 모델로 예측 수행\n",
    "- `.predict()`  https://scikit-learn.org/stable/modules/generated/sklearn.tree.DecisionTreeClassifier.html#sklearn.tree.DecisionTreeClassifier.predict"
   ]
  },
  {
   "cell_type": "code",
   "execution_count": 10,
   "id": "fcea641a-909b-4a77-b2b6-50e1a6e5b691",
   "metadata": {},
   "outputs": [
    {
     "data": {
      "text/plain": [
       "array(['setosa'], dtype=object)"
      ]
     },
     "execution_count": 10,
     "metadata": {},
     "output_type": "execute_result"
    }
   ],
   "source": [
    "# 새로운 테스트 데이터로 예측하기\n",
    "model_dtclf.predict( [ [5.1, 3.5, 4.0, 0.2] ] )"
   ]
  },
  {
   "cell_type": "code",
   "execution_count": 11,
   "id": "bdf76225-4e39-4af3-b895-18b5a80b84d8",
   "metadata": {
    "tags": []
   },
   "outputs": [
    {
     "data": {
      "text/html": [
       "<div>\n",
       "<style scoped>\n",
       "    .dataframe tbody tr th:only-of-type {\n",
       "        vertical-align: middle;\n",
       "    }\n",
       "\n",
       "    .dataframe tbody tr th {\n",
       "        vertical-align: top;\n",
       "    }\n",
       "\n",
       "    .dataframe thead th {\n",
       "        text-align: right;\n",
       "    }\n",
       "</style>\n",
       "<table border=\"1\" class=\"dataframe\">\n",
       "  <thead>\n",
       "    <tr style=\"text-align: right;\">\n",
       "      <th></th>\n",
       "      <th>y_True</th>\n",
       "      <th>y_Predict</th>\n",
       "      <th>Pred_Result</th>\n",
       "    </tr>\n",
       "  </thead>\n",
       "  <tbody>\n",
       "    <tr>\n",
       "      <th>126</th>\n",
       "      <td>virginica</td>\n",
       "      <td>virginica</td>\n",
       "      <td>True</td>\n",
       "    </tr>\n",
       "    <tr>\n",
       "      <th>109</th>\n",
       "      <td>virginica</td>\n",
       "      <td>virginica</td>\n",
       "      <td>True</td>\n",
       "    </tr>\n",
       "    <tr>\n",
       "      <th>32</th>\n",
       "      <td>setosa</td>\n",
       "      <td>setosa</td>\n",
       "      <td>True</td>\n",
       "    </tr>\n",
       "    <tr>\n",
       "      <th>13</th>\n",
       "      <td>setosa</td>\n",
       "      <td>setosa</td>\n",
       "      <td>True</td>\n",
       "    </tr>\n",
       "    <tr>\n",
       "      <th>14</th>\n",
       "      <td>setosa</td>\n",
       "      <td>setosa</td>\n",
       "      <td>True</td>\n",
       "    </tr>\n",
       "    <tr>\n",
       "      <th>35</th>\n",
       "      <td>setosa</td>\n",
       "      <td>setosa</td>\n",
       "      <td>True</td>\n",
       "    </tr>\n",
       "    <tr>\n",
       "      <th>148</th>\n",
       "      <td>virginica</td>\n",
       "      <td>virginica</td>\n",
       "      <td>True</td>\n",
       "    </tr>\n",
       "    <tr>\n",
       "      <th>89</th>\n",
       "      <td>versicolor</td>\n",
       "      <td>versicolor</td>\n",
       "      <td>True</td>\n",
       "    </tr>\n",
       "    <tr>\n",
       "      <th>94</th>\n",
       "      <td>versicolor</td>\n",
       "      <td>versicolor</td>\n",
       "      <td>True</td>\n",
       "    </tr>\n",
       "    <tr>\n",
       "      <th>54</th>\n",
       "      <td>versicolor</td>\n",
       "      <td>versicolor</td>\n",
       "      <td>True</td>\n",
       "    </tr>\n",
       "  </tbody>\n",
       "</table>\n",
       "</div>"
      ],
      "text/plain": [
       "         y_True   y_Predict  Pred_Result\n",
       "126   virginica   virginica         True\n",
       "109   virginica   virginica         True\n",
       "32       setosa      setosa         True\n",
       "13       setosa      setosa         True\n",
       "14       setosa      setosa         True\n",
       "35       setosa      setosa         True\n",
       "148   virginica   virginica         True\n",
       "89   versicolor  versicolor         True\n",
       "94   versicolor  versicolor         True\n",
       "54   versicolor  versicolor         True"
      ]
     },
     "execution_count": 11,
     "metadata": {},
     "output_type": "execute_result"
    }
   ],
   "source": [
    "# test 데이터로 라벨 예측\n",
    "y_pred = model_dtclf.predict( x_test )\n",
    "\n",
    "pd.DataFrame( {'y_True' : y_test,\n",
    "               'y_Predict' : y_pred,\n",
    "               'Pred_Result' : y_test == y_pred} ).head(10)"
   ]
  },
  {
   "cell_type": "markdown",
   "id": "d2635f8b-7e3b-4ecb-8152-2d01a339f217",
   "metadata": {},
   "source": [
    "## 평가"
   ]
  },
  {
   "cell_type": "markdown",
   "id": "17f9b1c1-7cfd-498d-b769-fbe41488c4af",
   "metadata": {},
   "source": [
    "### Confusion Metrix\n",
    "- `pandas.crosstab()`  https://pandas.pydata.org/docs/reference/api/pandas.crosstab.html\n",
    "- \n",
    "- `sklearn.metrics.confusion_matrix()`  https://scikit-learn.org/stable/modules/generated/sklearn.metrics.confusion_matrix.html"
   ]
  },
  {
   "cell_type": "code",
   "execution_count": 24,
   "id": "1f1369c1-126c-432a-ab24-5cb2a8b19ff0",
   "metadata": {},
   "outputs": [
    {
     "data": {
      "text/plain": [
       "array(['virginica', 'virginica', 'setosa', 'setosa', 'setosa', 'setosa',\n",
       "       'virginica', 'versicolor', 'versicolor', 'versicolor', 'setosa',\n",
       "       'virginica', 'virginica', 'versicolor', 'setosa', 'versicolor',\n",
       "       'virginica', 'versicolor', 'versicolor', 'setosa', 'setosa',\n",
       "       'versicolor', 'versicolor', 'versicolor', 'setosa', 'versicolor',\n",
       "       'virginica', 'versicolor', 'virginica', 'setosa', 'setosa',\n",
       "       'versicolor', 'versicolor', 'versicolor', 'virginica', 'setosa',\n",
       "       'versicolor', 'versicolor', 'setosa', 'setosa', 'setosa', 'setosa',\n",
       "       'versicolor', 'virginica', 'virginica'], dtype=object)"
      ]
     },
     "execution_count": 24,
     "metadata": {},
     "output_type": "execute_result"
    }
   ],
   "source": [
    "y_pred"
   ]
  },
  {
   "cell_type": "code",
   "execution_count": 12,
   "id": "ef2a56db-bc6e-4c33-a384-2e67947b60ae",
   "metadata": {},
   "outputs": [
    {
     "data": {
      "text/html": [
       "<div>\n",
       "<style scoped>\n",
       "    .dataframe tbody tr th:only-of-type {\n",
       "        vertical-align: middle;\n",
       "    }\n",
       "\n",
       "    .dataframe tbody tr th {\n",
       "        vertical-align: top;\n",
       "    }\n",
       "\n",
       "    .dataframe thead th {\n",
       "        text-align: right;\n",
       "    }\n",
       "</style>\n",
       "<table border=\"1\" class=\"dataframe\">\n",
       "  <thead>\n",
       "    <tr style=\"text-align: right;\">\n",
       "      <th>real</th>\n",
       "      <th>setosa</th>\n",
       "      <th>versicolor</th>\n",
       "      <th>virginica</th>\n",
       "    </tr>\n",
       "    <tr>\n",
       "      <th>pred</th>\n",
       "      <th></th>\n",
       "      <th></th>\n",
       "      <th></th>\n",
       "    </tr>\n",
       "  </thead>\n",
       "  <tbody>\n",
       "    <tr>\n",
       "      <th>setosa</th>\n",
       "      <td>16</td>\n",
       "      <td>0</td>\n",
       "      <td>0</td>\n",
       "    </tr>\n",
       "    <tr>\n",
       "      <th>versicolor</th>\n",
       "      <td>0</td>\n",
       "      <td>17</td>\n",
       "      <td>1</td>\n",
       "    </tr>\n",
       "    <tr>\n",
       "      <th>virginica</th>\n",
       "      <td>0</td>\n",
       "      <td>1</td>\n",
       "      <td>10</td>\n",
       "    </tr>\n",
       "  </tbody>\n",
       "</table>\n",
       "</div>"
      ],
      "text/plain": [
       "real        setosa  versicolor  virginica\n",
       "pred                                     \n",
       "setosa          16           0          0\n",
       "versicolor       0          17          1\n",
       "virginica        0           1         10"
      ]
     },
     "execution_count": 12,
     "metadata": {},
     "output_type": "execute_result"
    }
   ],
   "source": [
    "conf_mat = pd.crosstab( y_test, y_pred, rownames=['pred'], colnames=['real'] )\n",
    "conf_mat"
   ]
  },
  {
   "cell_type": "code",
   "execution_count": 13,
   "id": "6fd0206c-9c9a-4a52-8d86-7eb46416900e",
   "metadata": {},
   "outputs": [
    {
     "data": {
      "text/plain": [
       "array([[16,  0,  0],\n",
       "       [ 0, 17,  1],\n",
       "       [ 0,  1, 10]], dtype=int64)"
      ]
     },
     "execution_count": 13,
     "metadata": {},
     "output_type": "execute_result"
    }
   ],
   "source": [
    "confusion_matrix(y_test, y_pred)"
   ]
  },
  {
   "cell_type": "markdown",
   "id": "a68b9f5b-c4a5-45ac-829e-797cba7f71e5",
   "metadata": {},
   "source": [
    "### 분석 지표\n",
    "- https://scikit-learn.org/stable/modules/generated/sklearn.tree.DecisionTreeClassifier.html#sklearn.tree.DecisionTreeClassifier.score\n",
    "\n",
    "- `sklearn.metrics.accuracy_score()` https://scikit-learn.org/stable/modules/generated/sklearn.metrics.accuracy_score.html\n",
    "- `sklearn.metrics.classification_report()` https://scikit-learn.org/stable/modules/generated/sklearn.metrics.classification_report.html"
   ]
  },
  {
   "cell_type": "code",
   "execution_count": 14,
   "id": "0a459954-8807-4e6a-b41c-3cbc8a2668ce",
   "metadata": {},
   "outputs": [
    {
     "name": "stdout",
     "output_type": "stream",
     "text": [
      "Accuracy:  0.9555555555555556\n",
      "\n",
      "              precision    recall  f1-score   support\n",
      "\n",
      "      setosa      1.000     1.000     1.000        16\n",
      "  versicolor      0.944     0.944     0.944        18\n",
      "   virginica      0.909     0.909     0.909        11\n",
      "\n",
      "    accuracy                          0.956        45\n",
      "   macro avg      0.951     0.951     0.951        45\n",
      "weighted avg      0.956     0.956     0.956        45\n",
      "\n",
      "\n"
     ]
    }
   ],
   "source": [
    "print( 'Accuracy: ', accuracy_score(y_test, y_pred) )\n",
    "print()\n",
    "\n",
    "print( classification_report(y_test, y_pred, digits = 3) )\n",
    "print()"
   ]
  },
  {
   "cell_type": "raw",
   "id": "c4b6737f-0bbf-4d99-8a7e-ee0936df0037",
   "metadata": {
    "tags": []
   },
   "source": [
    "\n"
   ]
  },
  {
   "cell_type": "code",
   "execution_count": 15,
   "id": "face33b0-b6ed-4cbd-8709-31db4f46cf5c",
   "metadata": {},
   "outputs": [
    {
     "data": {
      "text/plain": [
       "0.9148936170212766"
      ]
     },
     "execution_count": 15,
     "metadata": {},
     "output_type": "execute_result"
    }
   ],
   "source": [
    "jaccard_score(y_test, y_pred, average='micro')"
   ]
  },
  {
   "cell_type": "code",
   "execution_count": 16,
   "id": "2fd0acd3-1e73-4085-9421-a95f16a995d1",
   "metadata": {},
   "outputs": [
    {
     "data": {
      "text/plain": [
       "0.9093567251461989"
      ]
     },
     "execution_count": 16,
     "metadata": {},
     "output_type": "execute_result"
    }
   ],
   "source": [
    "jaccard_score(y_test, y_pred, average='macro')"
   ]
  },
  {
   "cell_type": "code",
   "execution_count": 17,
   "id": "66a72b2c-1391-4828-8333-1d1e3cb201a6",
   "metadata": {},
   "outputs": [
    {
     "data": {
      "text/plain": [
       "0.9171539961013647"
      ]
     },
     "execution_count": 17,
     "metadata": {},
     "output_type": "execute_result"
    }
   ],
   "source": [
    "jaccard_score(y_test, y_pred, average='weighted')"
   ]
  },
  {
   "cell_type": "code",
   "execution_count": 18,
   "id": "d3816319-4e85-4e63-ba13-3356255f3863",
   "metadata": {},
   "outputs": [
    {
     "data": {
      "text/plain": [
       "array([1.        , 0.89473684, 0.83333333])"
      ]
     },
     "execution_count": 18,
     "metadata": {},
     "output_type": "execute_result"
    }
   ],
   "source": [
    "jaccard_score(y_test, y_pred, average=None)"
   ]
  },
  {
   "cell_type": "code",
   "execution_count": null,
   "id": "6b11179b-d03e-464b-a8c0-6e8d01256631",
   "metadata": {},
   "outputs": [],
   "source": []
  },
  {
   "cell_type": "markdown",
   "id": "84046baf-4e09-4ae6-b22d-09d395e9dc84",
   "metadata": {},
   "source": [
    "### [미해결: 다중클래스에 대한 ROC, 사이킷런 가이드의 결과와 다르게 나옴] ROC curve / AUC\n",
    "- `sklearn.metrics.roc_curve()`  https://scikit-learn.org/stable/modules/generated/sklearn.metrics.roc_curve.html\n",
    "- `sklearn.metrics.RocCurveDisplay()`  https://scikit-learn.org/stable/modules/generated/sklearn.metrics.RocCurveDisplay.html\n",
    "- `sklearn.metrics.roc_auc_score()`  https://scikit-learn.org/stable/modules/generated/sklearn.metrics.roc_auc_score.html\n",
    "- \n",
    "- [참고!] https://scikit-learn.org/stable/auto_examples/model_selection/plot_roc.html#sphx-glr-auto-examples-model-selection-plot-roc-py"
   ]
  },
  {
   "cell_type": "code",
   "execution_count": 19,
   "id": "1bc67288-0db3-477e-966b-563b7bfeff6d",
   "metadata": {},
   "outputs": [
    {
     "name": "stdout",
     "output_type": "stream",
     "text": [
      "Accuracy:  1.0\n",
      "AUC:  1.0\n",
      "\n"
     ]
    },
    {
     "data": {
      "image/png": "[encoded data removed]",
      "text/plain": [
       "<Figure size 640x480 with 1 Axes>"
      ]
     },
     "metadata": {},
     "output_type": "display_data"
    }
   ],
   "source": [
    "# 'setosa' 에 대한 AUC 계산을 위해 y_test 의 범주형 리스트를 0과 1로 이원화\n",
    "\n",
    "y_test_1 = np.where( y_test == 'setosa', 1, 0 )\n",
    "y_pred_1 = np.where( y_pred == 'setosa', 1, 0 )\n",
    "\n",
    "# Accuracy\n",
    "acc = accuracy_score(y_test_1, y_pred_1)\n",
    "print('Accuracy: ', acc )\n",
    "\n",
    "# AUC 계산\n",
    "auc = roc_auc_score( y_test_1, y_pred_1 )\n",
    "print('AUC: ', auc )\n",
    "print()\n",
    "\n",
    "# ROC curve 출력\n",
    "fpr, tpr, thresholds = roc_curve( y_test_1, y_pred_1,\n",
    "                                  pos_label = 1)\n",
    "\n",
    "RocCurveDisplay( fpr, tpr).plot()\n",
    "plt.legend( labels = ['AUC = %.2f' % auc],\n",
    "            loc = 'lower right')\n",
    "\n",
    "plt.plot( [0,1], [0,1] )\n",
    "\n",
    "plt.show()"
   ]
  },
  {
   "cell_type": "code",
   "execution_count": 20,
   "id": "dbd22c47-c004-44c5-bde1-0b2371a3f0d8",
   "metadata": {},
   "outputs": [
    {
     "name": "stdout",
     "output_type": "stream",
     "text": [
      "Accuracy:  0.9555555555555556\n",
      "AUC:  0.9537037037037037\n",
      "\n"
     ]
    },
    {
     "data": {
      "image/png": "[encoded data removed]",
      "text/plain": [
       "<Figure size 640x480 with 1 Axes>"
      ]
     },
     "metadata": {},
     "output_type": "display_data"
    }
   ],
   "source": [
    "# 'versicolor' 에 대한 AUC 계산을 위해 y_test 의 범주형 리스트를 0과 1로 이원화\n",
    "\n",
    "y_test_2 = np.where( y_test == 'versicolor', 1, 0 )\n",
    "y_pred_2 = np.where( y_pred == 'versicolor', 1, 0 )\n",
    "\n",
    "# Accuracy\n",
    "acc = accuracy_score(y_test_2, y_pred_2)\n",
    "print('Accuracy: ', acc )\n",
    "\n",
    "# AUC 계산\n",
    "auc = roc_auc_score( y_test_2, y_pred_2 )\n",
    "print('AUC: ', auc )\n",
    "print()\n",
    "\n",
    "# ROC curve 출력\n",
    "fpr, tpr, thresholds = roc_curve( y_test_2, y_pred_2,\n",
    "                                  pos_label = 1)\n",
    "\n",
    "RocCurveDisplay( fpr, tpr).plot()\n",
    "plt.legend( labels = ['AUC = %.2f' % auc],\n",
    "            loc = 'lower right')\n",
    "\n",
    "plt.plot( [0,1], [0,1] )\n",
    "\n",
    "plt.show()"
   ]
  },
  {
   "cell_type": "code",
   "execution_count": 21,
   "id": "8bec2225-1039-4f2c-a26f-631118d0cb73",
   "metadata": {},
   "outputs": [
    {
     "name": "stdout",
     "output_type": "stream",
     "text": [
      "Accuracy:  0.9555555555555556\n",
      "AUC:  0.9398395721925135\n",
      "\n"
     ]
    },
    {
     "data": {
      "image/png": "[encoded data removed]",
      "text/plain": [
       "<Figure size 640x480 with 1 Axes>"
      ]
     },
     "metadata": {},
     "output_type": "display_data"
    }
   ],
   "source": [
    "# 'virginica' 에 대한 AUC 계산을 위해 y_test 의 범주형 리스트를 0과 1로 이원화\n",
    "y_test_3 = np.where( y_test == 'virginica', 1, 0 )\n",
    "y_pred_3 = np.where( y_pred == 'virginica', 1, 0 )\n",
    "\n",
    "# Accuracy\n",
    "acc = accuracy_score(y_test_3, y_pred_3)\n",
    "print('Accuracy: ', acc )\n",
    "\n",
    "# AUC 계산\n",
    "auc = roc_auc_score( y_test_3, y_pred_3 )\n",
    "print('AUC: ', auc )\n",
    "print()\n",
    "\n",
    "# ROC curve 출력\n",
    "fpr, tpr, thresholds = roc_curve( y_test_3, y_pred_3,\n",
    "                                  pos_label = 1)\n",
    "\n",
    "RocCurveDisplay( fpr, tpr).plot()\n",
    "plt.legend( labels = ['AUC = %.2f' % auc],\n",
    "            loc = 'lower right')\n",
    "\n",
    "plt.plot( [0,1], [0,1] )\n",
    "\n",
    "plt.show()"
   ]
  },
  {
   "cell_type": "raw",
   "id": "7418919a-5f3f-417f-9c62-4528f545f49a",
   "metadata": {
    "tags": []
   },
   "source": [
    "\n"
   ]
  },
  {
   "cell_type": "code",
   "execution_count": 22,
   "id": "4f30b9a0-ef0f-4a31-bdce-ba45d407c63b",
   "metadata": {},
   "outputs": [
    {
     "ename": "NameError",
     "evalue": "name 'C' is not defined",
     "output_type": "error",
     "traceback": [
      "\u001b[1;31m---------------------------------------------------------------------------\u001b[0m",
      "\u001b[1;31mNameError\u001b[0m                                 Traceback (most recent call last)",
      "\u001b[1;32m<ipython-input-22-085b32debabd>\u001b[0m in \u001b[0;36m<module>\u001b[1;34m\u001b[0m\n\u001b[1;32m----> 1\u001b[1;33m \u001b[0mprint\u001b[0m\u001b[1;33m(\u001b[0m\u001b[0mC\u001b[0m\u001b[1;33m)\u001b[0m\u001b[1;33m\u001b[0m\u001b[1;33m\u001b[0m\u001b[0m\n\u001b[0m",
      "\u001b[1;31mNameError\u001b[0m: name 'C' is not defined"
     ]
    }
   ],
   "source": [
    "print(C)"
   ]
  },
  {
   "cell_type": "markdown",
   "id": "0238ea6e-48af-4e40-ba92-4c0db4781c10",
   "metadata": {},
   "source": [
    "# 시각화"
   ]
  },
  {
   "cell_type": "markdown",
   "id": "df794249-c2b8-4edc-a6de-52cd987e0c1b",
   "metadata": {},
   "source": [
    "## 결정나무 시각화\n",
    "- `sklearn.tree.plot_tree()`  https://scikit-learn.org/stable/modules/generated/sklearn.tree.plot_tree.html"
   ]
  },
  {
   "cell_type": "code",
   "execution_count": null,
   "id": "83f23fe4-3391-42cd-833c-ec5aad70d552",
   "metadata": {
    "tags": []
   },
   "outputs": [],
   "source": [
    "plt.figure( figsize=(15, 15) )\n",
    "\n",
    "plot_tree( model_dtclf,\n",
    "           class_names = y_train.unique(),\n",
    "           feature_names = x_train.columns,\n",
    "           filled = True,\n",
    "           node_ids = True )\n",
    "\n",
    "plt.show()"
   ]
  },
  {
   "cell_type": "markdown",
   "id": "397b8c5c-bb61-4a7d-aa5a-7f6bbc6beb1f",
   "metadata": {},
   "source": [
    "## 결정나무를 텍스트 형식으로 출력\n",
    "- `sklearn.tree.export_text()`  https://scikit-learn.org/stable/modules/generated/sklearn.tree.export_text.html"
   ]
  },
  {
   "cell_type": "code",
   "execution_count": null,
   "id": "6fad8267-ceba-4e85-b3b7-607bb66bdf46",
   "metadata": {
    "tags": []
   },
   "outputs": [],
   "source": [
    "tree_text = export_text( model_dtclf )\n",
    "\n",
    "print( tree_text )"
   ]
  },
  {
   "cell_type": "markdown",
   "id": "5937af7a-8282-46e6-9e60-dcf971fe566f",
   "metadata": {
    "tags": []
   },
   "source": [
    "## 입력변수들의 중요도 확인(확률값)\n",
    "- `.feature_importances_`  https://scikit-learn.org/stable/modules/generated/sklearn.tree.DecisionTreeClassifier.html#sklearn.tree.DecisionTreeClassifier.feature_importances_"
   ]
  },
  {
   "cell_type": "code",
   "execution_count": null,
   "id": "af1c5d85-5208-410c-924a-03421786df6b",
   "metadata": {
    "tags": []
   },
   "outputs": [],
   "source": [
    "# 입력변수들의 중요도 확인(확률값)\n",
    "\n",
    "ft_impt = pd.DataFrame( {'feature' : x_train.columns,\n",
    "                         'importance' : model_dtclf.feature_importances_} )\n",
    "\n",
    "print( ft_impt )\n",
    "print()\n",
    "\n",
    "sb.barplot( x = model_dtclf.feature_importances_,\n",
    "            y = list( df_iris.drop('Species', axis=1) ) )\n",
    "plt.show()"
   ]
  },
  {
   "cell_type": "raw",
   "id": "c3687a26-34fc-48b2-98f8-1ef3ec0afc35",
   "metadata": {
    "tags": []
   },
   "source": [
    "\n"
   ]
  },
  {
   "cell_type": "markdown",
   "id": "ef456b47-b12e-4217-b220-4fe54449ad61",
   "metadata": {},
   "source": [
    "# 모델 최적화"
   ]
  },
  {
   "cell_type": "markdown",
   "id": "5956e97e-6061-42d3-b11d-a25835f1f0f6",
   "metadata": {},
   "source": [
    "## Hyper parameter 최적화: `GridSearchCV`\n",
    "- 교차 검증과 Hyper Parameter 튜닝을 한 번에 수행함.\n",
    "- `sklearn.model_selection.GridSearchCV()`  https://scikit-learn.org/stable/modules/generated/sklearn.model_selection.GridSearchCV.html"
   ]
  },
  {
   "cell_type": "markdown",
   "id": "50d0008b-71c6-49ec-968d-422ebcee2c20",
   "metadata": {},
   "source": [
    "### 파라미터 확인 및 평가 조건 설정\n",
    "- `get_params()`  https://scikit-learn.org/stable/modules/generated/sklearn.model_selection.GridSearchCV.html#sklearn.model_selection.GridSearchCV.get_params\n",
    "- `sklearn.model_selection.GridSearchCV()`  https://scikit-learn.org/stable/modules/generated/sklearn.model_selection.GridSearchCV.html"
   ]
  },
  {
   "cell_type": "code",
   "execution_count": null,
   "id": "59cec346-ec5b-44fb-9312-09da0874c453",
   "metadata": {},
   "outputs": [],
   "source": [
    "# 파라미터 목록 확인\n",
    "list( model_dtclf.get_params().keys() )"
   ]
  },
  {
   "cell_type": "code",
   "execution_count": null,
   "id": "8dc835db-eb67-4f0f-be5d-32a325160533",
   "metadata": {},
   "outputs": [],
   "source": [
    "# 평가할 파라미터 split 조건 설정\n",
    "\n",
    "params = { 'max_depth' : [3, 4, 5],\n",
    "           'min_samples_split' : [1, 2, 3, 4, 5],\n",
    "           'min_samples_leaf' : [1, 2, 3, 4, 5] }\n",
    "\n",
    "grid = GridSearchCV( model_dtclf,\n",
    "                     param_grid = params,\n",
    "                     cv = 10,\n",
    "                     scoring = 'accuracy')\n",
    "\n",
    "# split 조건별로 하이퍼 파라미터 학습/평가\n",
    "grid.fit( x, y )"
   ]
  },
  {
   "cell_type": "code",
   "execution_count": null,
   "id": "14ba963e-6ac1-40ad-9c5a-0ab5802298ca",
   "metadata": {},
   "outputs": [],
   "source": [
    "df_grid = pd.DataFrame( grid.cv_results_ )\n",
    "\n",
    "df_grid.info()"
   ]
  },
  {
   "cell_type": "code",
   "execution_count": null,
   "id": "8092eaea-8e53-41a1-bf21-c035afdcbf4a",
   "metadata": {
    "tags": []
   },
   "outputs": [],
   "source": [
    "pd.set_option('display.max_colwidth', None)  # 데이터프레임의 셀 폭 설정 (한 셀의 너비에 내용이 다 안들어갈 경우)\n",
    "pd.set_option('display.max_row', 80)  # 데이터프레임의 출력 행 개수 설정 (한 셀에 모든 행 표시가 안될 경우)\n",
    "\n",
    "df_grid[ ['params','mean_test_score','rank_test_score'] ].sort_values(['rank_test_score']).head(30)"
   ]
  },
  {
   "cell_type": "markdown",
   "id": "c26e89ba-964d-4229-a85d-67388fa5772e",
   "metadata": {},
   "source": [
    "### 최적의 파라미터 추출\n",
    "- `sklearn.model_selection.GridSearchCV()`  https://scikit-learn.org/stable/modules/generated/sklearn.model_selection.GridSearchCV.html"
   ]
  },
  {
   "cell_type": "code",
   "execution_count": null,
   "id": "0cc5ed59-cd9a-49eb-bd69-b15599cae276",
   "metadata": {},
   "outputs": [],
   "source": [
    "print(\"최고 Score: \", str(np.round(grid.best_score_, 4)))\n",
    "print(\"최적 Parameters: \",str(grid.best_params_))\n",
    "print(\"최적 Estimators: \",str(grid.best_estimator_))"
   ]
  },
  {
   "cell_type": "code",
   "execution_count": null,
   "id": "38d0d420-a861-4647-864e-9a9491ba0917",
   "metadata": {},
   "outputs": [],
   "source": [
    "print(C)"
   ]
  },
  {
   "cell_type": "markdown",
   "id": "1ba4a924-043c-4ddd-96d0-ea861b5a354e",
   "metadata": {},
   "source": [
    "## 최적 Parameter 조건으로 모델 생성 및 학습"
   ]
  },
  {
   "cell_type": "code",
   "execution_count": null,
   "id": "941a4019-d70a-4a33-8758-d98863f5130d",
   "metadata": {},
   "outputs": [],
   "source": [
    "# 의사결정트리 생성\n",
    "model_dtclf = DecisionTreeClassifier( max_depth=3,\n",
    "                                      random_state=153 )\n",
    "\n",
    "# 모델 학습\n",
    "model_dtclf.fit( x_train, y_train )"
   ]
  },
  {
   "cell_type": "markdown",
   "id": "6fb1d9e3-75e2-46e9-b95c-198a2d152c96",
   "metadata": {},
   "source": [
    "## 최적화된 모델로 예측 수행\n",
    "- `.predict()`  https://scikit-learn.org/stable/modules/generated/sklearn.tree.DecisionTreeClassifier.html#sklearn.tree.DecisionTreeClassifier.predict"
   ]
  },
  {
   "cell_type": "code",
   "execution_count": null,
   "id": "ce6d42dc-0bc3-4ac3-b6ba-ba60af0b92be",
   "metadata": {},
   "outputs": [],
   "source": [
    "# test 데이터로 라벨 예측\n",
    "y_pred = model_dtclf.predict( x_test )\n",
    "print( 'Accuracy:', accuracy_score(y_test, y_pred) )\n",
    "print()"
   ]
  },
  {
   "cell_type": "code",
   "execution_count": null,
   "id": "733520d4-7139-41fd-806d-b6fdfa02b281",
   "metadata": {},
   "outputs": [],
   "source": [
    "# 시각화\n",
    "plt.figure( figsize=(15, 15) )\n",
    "plot_tree( model_dtclf,\n",
    "           class_names = y_train.unique(),\n",
    "           feature_names = x_train.columns,\n",
    "           filled = True,\n",
    "           node_ids = True )\n",
    "plt.show()"
   ]
  },
  {
   "cell_type": "markdown",
   "id": "9e8ee985-ff8d-4082-aa70-147c51f91b6a",
   "metadata": {},
   "source": [
    "### 최적화된 모델의 입력변수들의 중요도 확인(확률값)\n",
    "- `.feature_importances_`\n",
    "- https://scikit-learn.org/stable/modules/generated/sklearn.tree.DecisionTreeClassifier.html"
   ]
  },
  {
   "cell_type": "code",
   "execution_count": null,
   "id": "4c9d7ba6-f422-4bba-917d-8f062dddd251",
   "metadata": {},
   "outputs": [],
   "source": [
    "# 입력변수들의 중요도 확인(확률값)\n",
    "\n",
    "ft_impt = pd.DataFrame( {'feature' : x_train.columns,\n",
    "                         'importance' : model_dtclf.feature_importances_} )\n",
    "\n",
    "print( ft_impt )\n",
    "print()\n",
    "\n",
    "sb.barplot( x = model_dtclf.feature_importances_,\n",
    "            y = list( df_iris.drop('Species', axis=1) ) )\n",
    "plt.show()"
   ]
  },
  {
   "cell_type": "code",
   "execution_count": null,
   "id": "e9aa16e7-ae93-4dc0-9fc9-239d3f46a03b",
   "metadata": {},
   "outputs": [],
   "source": [
    "# max_depth 에 따른 평가결과 차이 확인\n",
    "plt.scatter( df_grid['param_max_depth'], df_grid['mean_test_score'] )\n",
    "plt.xlabel( 'param_max_depth' )\n",
    "plt.ylabel( 'mean_test_score' )\n",
    "plt.show()"
   ]
  },
  {
   "cell_type": "code",
   "execution_count": null,
   "id": "1dd244c7-9155-4f2a-a491-93b2151fb51d",
   "metadata": {},
   "outputs": [],
   "source": [
    "# min_samples_leaf 에 따른 평가결과 차이 확인\n",
    "plt.scatter( df_grid['param_min_samples_leaf'], df_grid['mean_test_score'] )\n",
    "plt.xlabel( 'param_min_samples_leaf' )\n",
    "plt.ylabel( 'mean_test_score' )\n",
    "plt.show()"
   ]
  },
  {
   "cell_type": "code",
   "execution_count": null,
   "id": "5baec813-664a-426c-80b8-c4e186402230",
   "metadata": {},
   "outputs": [],
   "source": [
    "# min_samples_split 에 따른 평가결과 차이 확인\n",
    "plt.scatter( df_grid['param_min_samples_split'], df_grid['mean_test_score'] )\n",
    "plt.xlabel( 'param_min_samples_split' )\n",
    "plt.ylabel( 'mean_test_score' )\n",
    "plt.show()"
   ]
  },
  {
   "cell_type": "markdown",
   "id": "2a1fcc8b-b893-4f3c-9b32-bbabf19134cf",
   "metadata": {},
   "source": [
    "## 최적화 모델 평가"
   ]
  },
  {
   "cell_type": "markdown",
   "id": "55ddd940-1be0-411a-ae36-3ae6c316687d",
   "metadata": {},
   "source": [
    "### Confusion Metrix"
   ]
  },
  {
   "cell_type": "code",
   "execution_count": null,
   "id": "36b6a983-2699-44fc-8be8-22c89de094cc",
   "metadata": {},
   "outputs": [],
   "source": [
    "confusion_matrix(y_test, y_pred)"
   ]
  },
  {
   "cell_type": "code",
   "execution_count": null,
   "id": "13c4c62e-82e8-482d-b6af-81be0beffbf2",
   "metadata": {},
   "outputs": [],
   "source": [
    "pd.crosstab( y_test, y_pred, rownames=['pred'], colnames=['real'] )"
   ]
  },
  {
   "cell_type": "markdown",
   "id": "5dba0208-3f18-4b27-b040-c79eb21dfb50",
   "metadata": {},
   "source": [
    "### 분석 지표\n",
    "- `sklearn.metrics.accuracy_score()`\n",
    "- https://scikit-learn.org/stable/modules/generated/sklearn.metrics.accuracy_score.html\n",
    "- `sklearn.metrics.classification_report()`\n",
    "- https://scikit-learn.org/stable/modules/generated/sklearn.metrics.classification_report.html"
   ]
  },
  {
   "cell_type": "code",
   "execution_count": null,
   "id": "ace98cda-ebf0-48c0-b38f-4a2de5a52337",
   "metadata": {},
   "outputs": [],
   "source": [
    "# Accuracy\n",
    "model_dtclf.score( x_test, y_test )"
   ]
  },
  {
   "cell_type": "code",
   "execution_count": null,
   "id": "fa9070ee-b8b7-448b-9cb3-bb135ed113ea",
   "metadata": {},
   "outputs": [],
   "source": [
    "print( 'Accuracy: ', accuracy_score(y_test, y_pred) )\n",
    "print()\n",
    "\n",
    "print( classification_report(y_test, y_pred, digits = 3) )\n",
    "print()"
   ]
  },
  {
   "cell_type": "markdown",
   "id": "01bd6013-b3e6-4c80-aaa1-e834d1a3a957",
   "metadata": {},
   "source": [
    "### 데이터별 예측 확률\n",
    "- `.predict_proba()`\n",
    "- https://scikit-learn.org/stable/modules/generated/sklearn.tree.DecisionTreeClassifier.html#sklearn.tree.DecisionTreeClassifier.predict_proba"
   ]
  },
  {
   "cell_type": "code",
   "execution_count": null,
   "id": "973712e5-1c38-4e13-9c56-24eaffd553d7",
   "metadata": {},
   "outputs": [],
   "source": [
    "proba = model_dtclf.predict_proba(x_test)\n",
    "\n",
    "df_proba = pd.DataFrame( proba, columns = model_dtclf.classes_ )\n",
    "\n",
    "df_proba.head()"
   ]
  },
  {
   "cell_type": "markdown",
   "id": "e411c13e-804c-4351-b5cc-fd5241568ecc",
   "metadata": {},
   "source": [
    "### ROC curve / AUC\n",
    "- `sklearn.metrics.roc_curve()`\n",
    "- https://scikit-learn.org/stable/modules/generated/sklearn.metrics.roc_curve.html\n",
    "- `sklearn.metrics.RocCurveDisplay()`\n",
    "- https://scikit-learn.org/stable/modules/generated/sklearn.metrics.RocCurveDisplay.html\n",
    "- `sklearn.metrics.roc_auc_score()`\n",
    "- https://scikit-learn.org/stable/modules/generated/sklearn.metrics.roc_auc_score.html"
   ]
  },
  {
   "cell_type": "code",
   "execution_count": null,
   "id": "eae15458-310a-4ac2-90a9-5576edf805d3",
   "metadata": {},
   "outputs": [],
   "source": [
    "# 'setosa' 에 대한 AUC 계산을 위해 y_test 의 범주형 리스트를 0과 1로 이원화\n",
    "result_1 = y_test.apply(lambda x: 1 if 'setosa' == x else 0 )\n",
    "\n",
    "# 'sotosa' 에 대한 proba 추출'\n",
    "proba_1 = df_proba['setosa']\n",
    "\n",
    "# AUC 계산\n",
    "print('AUC: ', roc_auc_score( result_1, proba_1 ) )\n",
    "\n",
    "# ROC curve 출력\n",
    "fpr, tpr, thresholds = roc_curve( y_test, proba_1,\n",
    "                                  pos_label='setosa')\n",
    "\n",
    "RocCurveDisplay( fpr, tpr).plot()\n",
    "\n",
    "plt.plot( [0,1], [0,1],\n",
    "          label = 'Random')\n",
    "plt.show()"
   ]
  },
  {
   "cell_type": "code",
   "execution_count": null,
   "id": "9c02d461-5ca9-4192-ab3f-da12ca5909fd",
   "metadata": {},
   "outputs": [],
   "source": [
    "# 'versicolor' 에 대한 AUC 계산을 위해 y_test 의 범주형 리스트를 0과 1로 이원화\n",
    "result_2 = y_test.apply(lambda x: 1 if 'versicolor' == x else 0 )\n",
    "\n",
    "# 'versicolor' 에 대한 proba 추출'\n",
    "proba_2 = df_proba['versicolor']\n",
    "\n",
    "# AUC 계산\n",
    "print('AUC: ', roc_auc_score( result_2, proba_2 ) )\n",
    "\n",
    "# ROC curve 출력\n",
    "fpr, tpr, thresholds = roc_curve( y_test, proba_2,\n",
    "                                  pos_label='versicolor')\n",
    "\n",
    "RocCurveDisplay( fpr, tpr).plot()\n",
    "\n",
    "plt.plot( [0,1], [0,1],\n",
    "          label = 'Random')\n",
    "plt.show()"
   ]
  },
  {
   "cell_type": "code",
   "execution_count": null,
   "id": "3d0efda2-5f33-477f-8480-672cb56678b3",
   "metadata": {},
   "outputs": [],
   "source": [
    "# 'virginica' 에 대한 AUC 계산을 위해 y_test 의 범주형 리스트를 0과 1로 이원화\n",
    "result_3 = y_test.apply(lambda x: 1 if 'virginica' == x else 0 )\n",
    "\n",
    "# 'virginica' 에 대한 proba 추출'\n",
    "proba_3 = df_proba['virginica']\n",
    "\n",
    "# AUC 계산\n",
    "print('AUC: ', roc_auc_score( result_3, proba_3 ) )\n",
    "\n",
    "# ROC curve 출력\n",
    "fpr, tpr, thresholds = roc_curve( y_test, proba_3,\n",
    "                                  pos_label='virginica')\n",
    "\n",
    "RocCurveDisplay( fpr, tpr).plot()\n",
    "\n",
    "plt.plot( [0,1], [0,1],\n",
    "          label = 'Random')\n",
    "plt.show()"
   ]
  },
  {
   "cell_type": "code",
   "execution_count": null,
   "id": "c596d1a4-bee0-4518-8929-aa5dd6c646f3",
   "metadata": {},
   "outputs": [],
   "source": [
    "pd.DataFrame( {'setosa':result_1,\n",
    "               'proba_1':proba_1,\n",
    "               'versicolor':result_2,\n",
    "               'proba_2':proba_2,\n",
    "               'virginica':result_3,\n",
    "               'proba_3':proba_3} ).head()"
   ]
  },
  {
   "cell_type": "raw",
   "id": "a3b31bc4-3f46-4bc9-ae3b-270aaaad2128",
   "metadata": {},
   "source": [
    "\n",
    "\n",
    "\n",
    "\n",
    "\n",
    "\n",
    "\n",
    "\n"
   ]
  },
  {
   "cell_type": "markdown",
   "id": "f323b039-21fa-4d0f-9e2d-3202a2dd6c5b",
   "metadata": {},
   "source": [
    "# [참고] 결정나무의 Parameters\n",
    "- https://scikit-learn.org/stable/modules/generated/sklearn.tree.DecisionTreeClassifier.html"
   ]
  },
  {
   "cell_type": "markdown",
   "id": "f3697818-b112-4e75-b16e-dd0b91e9cc98",
   "metadata": {},
   "source": [
    "## 결정나무의 최대 깊이 제어\n",
    "- `sklearn.tree.DecisionTreeClassifier( max_depth = int, default=None )`\n",
    "- https://scikit-learn.org/stable/modules/generated/sklearn.tree.DecisionTreeClassifier.html"
   ]
  },
  {
   "cell_type": "code",
   "execution_count": null,
   "id": "dfc8078d-006a-4ad1-9968-77d1fa74fa41",
   "metadata": {},
   "outputs": [],
   "source": [
    "# 의사결정트리 생성\n",
    "model_dtclf = DecisionTreeClassifier( max_depth = 3,\n",
    "                                      random_state = 156 )\n",
    "\n",
    "# 모델 학습\n",
    "model_dtclf.fit( x_train, y_train )\n",
    "\n",
    "# test 데이터로 라벨 예측\n",
    "y_pred = model_dtclf.predict( x_test )\n",
    "print( 'Accuracy:', accuracy_score(y_test, y_pred) )\n",
    "\n",
    "# 시각화\n",
    "plt.figure( figsize=(15, 15) )\n",
    "plot_tree( model_dtclf,\n",
    "           class_names = df_iris['Species'].unique(),\n",
    "           feature_names = list(df_iris.drop('Species', axis =1)),\n",
    "           filled = True,\n",
    "           node_ids = True )\n",
    "plt.show()"
   ]
  },
  {
   "cell_type": "markdown",
   "id": "b461a3ff-7727-4961-b6fa-c4bcdeb8c7d9",
   "metadata": {},
   "source": [
    "## 자식노드를 생성하기 위한 최소 데이터 개수 설정\n",
    "- `sklearn.tree.DecisionTreeClassifier( min_samples_split = int or float, default=2 )`\n",
    "- https://scikit-learn.org/stable/modules/generated/sklearn.tree.DecisionTreeClassifier.html"
   ]
  },
  {
   "cell_type": "code",
   "execution_count": null,
   "id": "6a568218-fd79-48dc-8436-97d53789e847",
   "metadata": {},
   "outputs": [],
   "source": [
    "# 의사결정트리 생성\n",
    "model_dtclf = DecisionTreeClassifier( min_samples_split = 3,\n",
    "                                      random_state = 156 )\n",
    "\n",
    "# 모델 학습\n",
    "model_dtclf.fit( x_train, y_train )\n",
    "\n",
    "# test 데이터로 라벨 예측\n",
    "y_pred = model_dtclf.predict( x_test )\n",
    "print( 'Accuracy:', accuracy_score(y_test, y_pred) )\n",
    "\n",
    "# 시각화\n",
    "plt.figure( figsize=(15, 15) )\n",
    "plot_tree( model_dtclf,\n",
    "           class_names = df_iris['Species'].unique(),\n",
    "           feature_names = list(df_iris.drop('Species', axis =1)),\n",
    "           filled = True,\n",
    "           node_ids = True )\n",
    "plt.show()"
   ]
  },
  {
   "cell_type": "markdown",
   "id": "07b3a861-4434-43b3-930a-544e764ae979",
   "metadata": {},
   "source": [
    "## 리프 노드가 될 수 있는 최소 데이터 개수 설정\n",
    "- `sklearn.tree.DecisionTreeClassifier( min_samples_leaf = int or float, default=1 )`\n",
    "- https://scikit-learn.org/stable/modules/generated/sklearn.tree.DecisionTreeClassifier.html"
   ]
  },
  {
   "cell_type": "code",
   "execution_count": null,
   "id": "7bc07efd-5d39-4903-b8b9-acd44b7def8e",
   "metadata": {},
   "outputs": [],
   "source": [
    "# 의사결정트리 생성\n",
    "model_dtclf = DecisionTreeClassifier( min_samples_leaf = 2,\n",
    "                                      random_state = 156 )\n",
    "\n",
    "# 모델 학습\n",
    "model_dtclf.fit( x_train, y_train )\n",
    "\n",
    "# test 데이터로 라벨 예측\n",
    "y_pred = model_dtclf.predict( x_test )\n",
    "print( 'Accuracy:', accuracy_score(y_test, y_pred) )\n",
    "\n",
    "# 시각화\n",
    "plt.figure( figsize=(15, 15) )\n",
    "plot_tree( model_dtclf,\n",
    "           class_names = df_iris['Species'].unique(),\n",
    "           feature_names = list(df_iris.drop('Species', axis =1)),\n",
    "           filled = True,\n",
    "           node_ids = True )\n",
    "plt.show()"
   ]
  },
  {
   "cell_type": "code",
   "execution_count": null,
   "id": "ab8f59c4-d40d-45de-be21-98643aadd73e",
   "metadata": {},
   "outputs": [],
   "source": []
  },
  {
   "cell_type": "markdown",
   "id": "37dda612-7183-4d0f-9eb8-cdf1f717e3c8",
   "metadata": {},
   "source": [
    "# [참고] 결정나무의 과적합 여부 확인"
   ]
  },
  {
   "cell_type": "code",
   "execution_count": null,
   "id": "1b78529a-60c9-49e1-bb82-f06de078bbaf",
   "metadata": {},
   "outputs": [],
   "source": [
    "# 2차원 시각화를 위해 두 개의 독립변수만 사용\n",
    "x2 = df_iris.iloc[:, [2, 3] ]\n",
    "y2 = df_iris.iloc[:,4]"
   ]
  },
  {
   "cell_type": "code",
   "execution_count": null,
   "id": "f55bd944-df14-48ce-9fbd-755f31ac68c6",
   "metadata": {},
   "outputs": [],
   "source": [
    "encoder = LabelEncoder()\n",
    "encoder.fit(y2)\n",
    "\n",
    "labels = encoder.transform(y2)\n",
    "y2 = labels"
   ]
  },
  {
   "cell_type": "code",
   "execution_count": null,
   "id": "82ad9a5a-8dd1-4156-b2b8-d633da9e44c0",
   "metadata": {},
   "outputs": [],
   "source": [
    "y2"
   ]
  },
  {
   "cell_type": "code",
   "execution_count": null,
   "id": "1e3f9798-1a9e-4655-8d1d-22feb9c1715f",
   "metadata": {},
   "outputs": [],
   "source": [
    "# 데이터셋 나누기\n",
    "x2_train, x2_test, y2_train, y2_test  = train_test_split( x2, y2,\n",
    "                                                          test_size = 0.30,\n",
    "                                                          random_state = 153 )"
   ]
  },
  {
   "cell_type": "code",
   "execution_count": null,
   "id": "9f9d54ec-1a4a-4b3f-a11f-3ba1f22bbd8c",
   "metadata": {},
   "outputs": [],
   "source": [
    "# plot 형태로 2개의 feature로 2차원 좌표 시각화, 각 클래스값은 다른 색깔로 표시됨. \n",
    "plt.scatter( x2_train['Petal.Length'], x2_train['Petal.Width'],\n",
    "             marker='o',\n",
    "             c = y2_train,\n",
    "             s = 25,\n",
    "             cmap='rainbow',\n",
    "             edgecolor='k')\n",
    "plt.show()"
   ]
  },
  {
   "cell_type": "code",
   "execution_count": null,
   "id": "cf40fe9a-e950-4272-ac7b-3e51af597943",
   "metadata": {},
   "outputs": [],
   "source": [
    "# Classifier의 Decision Boundary를 시각화 하는 함수\n",
    "\n",
    "def visualize_boundary(model, X, y):\n",
    "    fig,ax = plt.subplots()\n",
    "    \n",
    "    # 학습 데이타 scatter plot으로 나타내기\n",
    "    ax.scatter(x2_train['Petal.Length'], x2_train['Petal.Width'], c=y2_train, s=25, cmap='rainbow', edgecolor='k',\n",
    "               clim=(y.min(), y.max()), zorder=3)\n",
    "    ax.axis('tight')\n",
    "    ax.axis('off')\n",
    "    xlim_start , xlim_end = ax.get_xlim()\n",
    "    ylim_start , ylim_end = ax.get_ylim()\n",
    "    \n",
    "    # 호출 파라미터로 들어온 training 데이타로 model 학습 . \n",
    "    model.fit(X, y)\n",
    "    # meshgrid 형태인 모든 좌표값으로 예측 수행. \n",
    "    xx, yy = np.meshgrid(np.linspace(xlim_start,xlim_end, num=200),np.linspace(ylim_start,ylim_end, num=200))\n",
    "    Z = model.predict(np.c_[xx.ravel(), yy.ravel()]).reshape(xx.shape)\n",
    "    \n",
    "    # contourf() 를 이용하여 class boundary 를 visualization 수행. \n",
    "    n_classes = len(np.unique(y))\n",
    "    contours = ax.contourf(xx, yy, Z, alpha=0.3,\n",
    "                           levels=np.arange(n_classes + 1) - 0.5,\n",
    "                           cmap='rainbow', clim=(y.min(), y.max()),\n",
    "                           zorder=1)"
   ]
  },
  {
   "cell_type": "code",
   "execution_count": null,
   "id": "87f81203-4eee-4a19-861d-f0e4341de375",
   "metadata": {},
   "outputs": [],
   "source": [
    "# 특정한 트리 생성 제약없는 결정 트리의 Decsion Boundary 시각화.\n",
    "dt_clf = DecisionTreeClassifier(random_state=153).fit(x2_train, y2_train)\n",
    "\n",
    "visualize_boundary(dt_clf, x2_train, y2_train)"
   ]
  },
  {
   "cell_type": "code",
   "execution_count": null,
   "id": "0b4c1736-2ded-45dc-b3c3-57d35c9296c0",
   "metadata": {},
   "outputs": [],
   "source": [
    "# 하이퍼 파라미터 최적화 결과를 적용한 결정 트리의 Decsion Boundary 시각화.\n",
    "dt_clf = DecisionTreeClassifier(max_depth=3, min_samples_leaf=3, random_state=153).fit(x2_train, y2_train)\n",
    "\n",
    "visualize_boundary(dt_clf, x2_train, y2_train)"
   ]
  }
 ],
 "metadata": {
  "kernelspec": {
   "display_name": "Python 3",
   "language": "python",
   "name": "python3"
  },
  "language_info": {
   "codemirror_mode": {
    "name": "ipython",
    "version": 3
   },
   "file_extension": ".py",
   "mimetype": "text/x-python",
   "name": "python",
   "nbconvert_exporter": "python",
   "pygments_lexer": "ipython3",
   "version": "3.8.8"
  },
  "toc-autonumbering": true
 },
 "nbformat": 4,
 "nbformat_minor": 5
}
