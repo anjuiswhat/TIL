{
 "cells": [
  {
   "cell_type": "markdown",
   "id": "93a88c79-15c2-4312-a8cb-3af8d6f60a29",
   "metadata": {},
   "source": [
    "# PART 03. 통계분석"
   ]
  },
  {
   "cell_type": "markdown",
   "id": "0e8be38b-cd09-44c4-9aef-009eb1488142",
   "metadata": {},
   "source": [
    "## 1장. 데이터 샘플링"
   ]
  },
  {
   "cell_type": "raw",
   "id": "99d7a665-aafb-4a39-a5be-ee57da3ce5b1",
   "metadata": {},
   "source": []
  },
  {
   "cell_type": "markdown",
   "id": "8215d7da-da0d-49f5-8c0f-3065d3f3f6ba",
   "metadata": {},
   "source": [
    "### 2절. 표본 추출"
   ]
  },
  {
   "cell_type": "markdown",
   "id": "823f75c4-41f5-41dd-9428-a301ce8e2542",
   "metadata": {},
   "source": [
    "#### [Problem] 단순 임의 추출\n",
    "- iris 데이터로 분석을 진행하기 위해 전체 데이터의 7:3의 비율로 training data와 test data를 추출한 뒤 새로운 변수에 저장하라.\n",
    "- 데이터 추출 방법은 단순 임의 비복원 추출을 이용한다."
   ]
  },
  {
   "cell_type": "code",
   "execution_count": 2,
   "id": "8215c919-8e48-449b-bf38-d30c041c5a65",
   "metadata": {
    "tags": []
   },
   "outputs": [],
   "source": [
    "import numpy as np\n",
    "import pandas as pd\n",
    "from sklearn.model_selection import train_test_split    # training/test data set을 추출하는 패키지\n",
    "from sklearn.model_selection import StratifiedShuffleSplit  # 층화추출로 sampling 을 수행하는 패키지\n",
    "                                                            # 하지만 위의 train_test_split() 으로도 층화추출이 가능하다.\n",
    "\n",
    "# iris dataset을 불러와 데이터프레임으로 변환\n",
    "df_iris = pd.read_csv( \"C:/Users/Administrator/GitHub/TIL/ADP_study/rawdata/iris.csv\",\n",
    "                      index_col='Unnamed: 0' )"
   ]
  },
  {
   "cell_type": "code",
   "execution_count": 4,
   "id": "e47fad58-8a17-4c5d-ac66-2fc444c70c6e",
   "metadata": {
    "tags": []
   },
   "outputs": [
    {
     "name": "stdout",
     "output_type": "stream",
     "text": [
      "\n"
     ]
    },
    {
     "data": {
      "text/plain": [
       "(105, 5)"
      ]
     },
     "metadata": {},
     "output_type": "display_data"
    },
    {
     "data": {
      "text/html": [
       "<div>\n",
       "<style scoped>\n",
       "    .dataframe tbody tr th:only-of-type {\n",
       "        vertical-align: middle;\n",
       "    }\n",
       "\n",
       "    .dataframe tbody tr th {\n",
       "        vertical-align: top;\n",
       "    }\n",
       "\n",
       "    .dataframe thead th {\n",
       "        text-align: right;\n",
       "    }\n",
       "</style>\n",
       "<table border=\"1\" class=\"dataframe\">\n",
       "  <thead>\n",
       "    <tr style=\"text-align: right;\">\n",
       "      <th></th>\n",
       "      <th>Sepal.Length</th>\n",
       "      <th>Sepal.Width</th>\n",
       "      <th>Petal.Length</th>\n",
       "      <th>Petal.Width</th>\n",
       "      <th>Species</th>\n",
       "    </tr>\n",
       "  </thead>\n",
       "  <tbody>\n",
       "    <tr>\n",
       "      <th>12</th>\n",
       "      <td>4.8</td>\n",
       "      <td>3.4</td>\n",
       "      <td>1.6</td>\n",
       "      <td>0.2</td>\n",
       "      <td>setosa</td>\n",
       "    </tr>\n",
       "    <tr>\n",
       "      <th>34</th>\n",
       "      <td>5.5</td>\n",
       "      <td>4.2</td>\n",
       "      <td>1.4</td>\n",
       "      <td>0.2</td>\n",
       "      <td>setosa</td>\n",
       "    </tr>\n",
       "    <tr>\n",
       "      <th>22</th>\n",
       "      <td>5.1</td>\n",
       "      <td>3.7</td>\n",
       "      <td>1.5</td>\n",
       "      <td>0.4</td>\n",
       "      <td>setosa</td>\n",
       "    </tr>\n",
       "    <tr>\n",
       "      <th>70</th>\n",
       "      <td>5.6</td>\n",
       "      <td>2.5</td>\n",
       "      <td>3.9</td>\n",
       "      <td>1.1</td>\n",
       "      <td>versicolor</td>\n",
       "    </tr>\n",
       "    <tr>\n",
       "      <th>8</th>\n",
       "      <td>5.0</td>\n",
       "      <td>3.4</td>\n",
       "      <td>1.5</td>\n",
       "      <td>0.2</td>\n",
       "      <td>setosa</td>\n",
       "    </tr>\n",
       "  </tbody>\n",
       "</table>\n",
       "</div>"
      ],
      "text/plain": [
       "    Sepal.Length  Sepal.Width  Petal.Length  Petal.Width     Species\n",
       "12           4.8          3.4           1.6          0.2      setosa\n",
       "34           5.5          4.2           1.4          0.2      setosa\n",
       "22           5.1          3.7           1.5          0.4      setosa\n",
       "70           5.6          2.5           3.9          1.1  versicolor\n",
       "8            5.0          3.4           1.5          0.2      setosa"
      ]
     },
     "metadata": {},
     "output_type": "display_data"
    },
    {
     "data": {
      "text/plain": [
       "None"
      ]
     },
     "metadata": {},
     "output_type": "display_data"
    },
    {
     "data": {
      "text/plain": [
       "(45, 5)"
      ]
     },
     "metadata": {},
     "output_type": "display_data"
    },
    {
     "data": {
      "text/html": [
       "<div>\n",
       "<style scoped>\n",
       "    .dataframe tbody tr th:only-of-type {\n",
       "        vertical-align: middle;\n",
       "    }\n",
       "\n",
       "    .dataframe tbody tr th {\n",
       "        vertical-align: top;\n",
       "    }\n",
       "\n",
       "    .dataframe thead th {\n",
       "        text-align: right;\n",
       "    }\n",
       "</style>\n",
       "<table border=\"1\" class=\"dataframe\">\n",
       "  <thead>\n",
       "    <tr style=\"text-align: right;\">\n",
       "      <th></th>\n",
       "      <th>Sepal.Length</th>\n",
       "      <th>Sepal.Width</th>\n",
       "      <th>Petal.Length</th>\n",
       "      <th>Petal.Width</th>\n",
       "      <th>Species</th>\n",
       "    </tr>\n",
       "  </thead>\n",
       "  <tbody>\n",
       "    <tr>\n",
       "      <th>13</th>\n",
       "      <td>4.8</td>\n",
       "      <td>3.0</td>\n",
       "      <td>1.4</td>\n",
       "      <td>0.1</td>\n",
       "      <td>setosa</td>\n",
       "    </tr>\n",
       "    <tr>\n",
       "      <th>141</th>\n",
       "      <td>6.7</td>\n",
       "      <td>3.1</td>\n",
       "      <td>5.6</td>\n",
       "      <td>2.4</td>\n",
       "      <td>virginica</td>\n",
       "    </tr>\n",
       "    <tr>\n",
       "      <th>66</th>\n",
       "      <td>6.7</td>\n",
       "      <td>3.1</td>\n",
       "      <td>4.4</td>\n",
       "      <td>1.4</td>\n",
       "      <td>versicolor</td>\n",
       "    </tr>\n",
       "    <tr>\n",
       "      <th>41</th>\n",
       "      <td>5.0</td>\n",
       "      <td>3.5</td>\n",
       "      <td>1.3</td>\n",
       "      <td>0.3</td>\n",
       "      <td>setosa</td>\n",
       "    </tr>\n",
       "    <tr>\n",
       "      <th>27</th>\n",
       "      <td>5.0</td>\n",
       "      <td>3.4</td>\n",
       "      <td>1.6</td>\n",
       "      <td>0.4</td>\n",
       "      <td>setosa</td>\n",
       "    </tr>\n",
       "  </tbody>\n",
       "</table>\n",
       "</div>"
      ],
      "text/plain": [
       "     Sepal.Length  Sepal.Width  Petal.Length  Petal.Width     Species\n",
       "13            4.8          3.0           1.4          0.1      setosa\n",
       "141           6.7          3.1           5.6          2.4   virginica\n",
       "66            6.7          3.1           4.4          1.4  versicolor\n",
       "41            5.0          3.5           1.3          0.3      setosa\n",
       "27            5.0          3.4           1.6          0.4      setosa"
      ]
     },
     "metadata": {},
     "output_type": "display_data"
    }
   ],
   "source": [
    "# 단순임의추출 시행 (1)\n",
    "# Pandas 의 .sample 메소드 활용\n",
    "\n",
    "tr_iris = df_iris.sample( frac = 0.7,          # 샘플링 할 데이터 비율\n",
    "                          replace = False )    # 복원/비복원 추출 옵션\n",
    "ts_iris = df_iris.sample( frac = 0.3,\n",
    "                          replace = False )\n",
    "\n",
    "display( tr_iris.shape, tr_iris.head(),\n",
    "         print(),\n",
    "         ts_iris.shape, ts_iris.head() )"
   ]
  },
  {
   "cell_type": "code",
   "execution_count": 6,
   "id": "eb86303f-cfeb-432f-9e19-4a9b4252aacb",
   "metadata": {
    "tags": []
   },
   "outputs": [
    {
     "name": "stdout",
     "output_type": "stream",
     "text": [
      "\n"
     ]
    },
    {
     "data": {
      "text/plain": [
       "(105, 5)"
      ]
     },
     "metadata": {},
     "output_type": "display_data"
    },
    {
     "data": {
      "text/html": [
       "<div>\n",
       "<style scoped>\n",
       "    .dataframe tbody tr th:only-of-type {\n",
       "        vertical-align: middle;\n",
       "    }\n",
       "\n",
       "    .dataframe tbody tr th {\n",
       "        vertical-align: top;\n",
       "    }\n",
       "\n",
       "    .dataframe thead th {\n",
       "        text-align: right;\n",
       "    }\n",
       "</style>\n",
       "<table border=\"1\" class=\"dataframe\">\n",
       "  <thead>\n",
       "    <tr style=\"text-align: right;\">\n",
       "      <th></th>\n",
       "      <th>Sepal.Length</th>\n",
       "      <th>Sepal.Width</th>\n",
       "      <th>Petal.Length</th>\n",
       "      <th>Petal.Width</th>\n",
       "      <th>Species</th>\n",
       "    </tr>\n",
       "  </thead>\n",
       "  <tbody>\n",
       "    <tr>\n",
       "      <th>121</th>\n",
       "      <td>6.9</td>\n",
       "      <td>3.2</td>\n",
       "      <td>5.7</td>\n",
       "      <td>2.3</td>\n",
       "      <td>virginica</td>\n",
       "    </tr>\n",
       "    <tr>\n",
       "      <th>26</th>\n",
       "      <td>5.0</td>\n",
       "      <td>3.0</td>\n",
       "      <td>1.6</td>\n",
       "      <td>0.2</td>\n",
       "      <td>setosa</td>\n",
       "    </tr>\n",
       "    <tr>\n",
       "      <th>2</th>\n",
       "      <td>4.9</td>\n",
       "      <td>3.0</td>\n",
       "      <td>1.4</td>\n",
       "      <td>0.2</td>\n",
       "      <td>setosa</td>\n",
       "    </tr>\n",
       "    <tr>\n",
       "      <th>91</th>\n",
       "      <td>5.5</td>\n",
       "      <td>2.6</td>\n",
       "      <td>4.4</td>\n",
       "      <td>1.2</td>\n",
       "      <td>versicolor</td>\n",
       "    </tr>\n",
       "    <tr>\n",
       "      <th>19</th>\n",
       "      <td>5.7</td>\n",
       "      <td>3.8</td>\n",
       "      <td>1.7</td>\n",
       "      <td>0.3</td>\n",
       "      <td>setosa</td>\n",
       "    </tr>\n",
       "  </tbody>\n",
       "</table>\n",
       "</div>"
      ],
      "text/plain": [
       "     Sepal.Length  Sepal.Width  Petal.Length  Petal.Width     Species\n",
       "121           6.9          3.2           5.7          2.3   virginica\n",
       "26            5.0          3.0           1.6          0.2      setosa\n",
       "2             4.9          3.0           1.4          0.2      setosa\n",
       "91            5.5          2.6           4.4          1.2  versicolor\n",
       "19            5.7          3.8           1.7          0.3      setosa"
      ]
     },
     "metadata": {},
     "output_type": "display_data"
    },
    {
     "data": {
      "text/plain": [
       "None"
      ]
     },
     "metadata": {},
     "output_type": "display_data"
    },
    {
     "data": {
      "text/plain": [
       "(45, 5)"
      ]
     },
     "metadata": {},
     "output_type": "display_data"
    },
    {
     "data": {
      "text/html": [
       "<div>\n",
       "<style scoped>\n",
       "    .dataframe tbody tr th:only-of-type {\n",
       "        vertical-align: middle;\n",
       "    }\n",
       "\n",
       "    .dataframe tbody tr th {\n",
       "        vertical-align: top;\n",
       "    }\n",
       "\n",
       "    .dataframe thead th {\n",
       "        text-align: right;\n",
       "    }\n",
       "</style>\n",
       "<table border=\"1\" class=\"dataframe\">\n",
       "  <thead>\n",
       "    <tr style=\"text-align: right;\">\n",
       "      <th></th>\n",
       "      <th>Sepal.Length</th>\n",
       "      <th>Sepal.Width</th>\n",
       "      <th>Petal.Length</th>\n",
       "      <th>Petal.Width</th>\n",
       "      <th>Species</th>\n",
       "    </tr>\n",
       "  </thead>\n",
       "  <tbody>\n",
       "    <tr>\n",
       "      <th>99</th>\n",
       "      <td>5.1</td>\n",
       "      <td>2.5</td>\n",
       "      <td>3.0</td>\n",
       "      <td>1.1</td>\n",
       "      <td>versicolor</td>\n",
       "    </tr>\n",
       "    <tr>\n",
       "      <th>63</th>\n",
       "      <td>6.0</td>\n",
       "      <td>2.2</td>\n",
       "      <td>4.0</td>\n",
       "      <td>1.0</td>\n",
       "      <td>versicolor</td>\n",
       "    </tr>\n",
       "    <tr>\n",
       "      <th>15</th>\n",
       "      <td>5.8</td>\n",
       "      <td>4.0</td>\n",
       "      <td>1.2</td>\n",
       "      <td>0.2</td>\n",
       "      <td>setosa</td>\n",
       "    </tr>\n",
       "    <tr>\n",
       "      <th>28</th>\n",
       "      <td>5.2</td>\n",
       "      <td>3.5</td>\n",
       "      <td>1.5</td>\n",
       "      <td>0.2</td>\n",
       "      <td>setosa</td>\n",
       "    </tr>\n",
       "    <tr>\n",
       "      <th>1</th>\n",
       "      <td>5.1</td>\n",
       "      <td>3.5</td>\n",
       "      <td>1.4</td>\n",
       "      <td>0.2</td>\n",
       "      <td>setosa</td>\n",
       "    </tr>\n",
       "  </tbody>\n",
       "</table>\n",
       "</div>"
      ],
      "text/plain": [
       "    Sepal.Length  Sepal.Width  Petal.Length  Petal.Width     Species\n",
       "99           5.1          2.5           3.0          1.1  versicolor\n",
       "63           6.0          2.2           4.0          1.0  versicolor\n",
       "15           5.8          4.0           1.2          0.2      setosa\n",
       "28           5.2          3.5           1.5          0.2      setosa\n",
       "1            5.1          3.5           1.4          0.2      setosa"
      ]
     },
     "metadata": {},
     "output_type": "display_data"
    }
   ],
   "source": [
    "# 단순임의추출 시행 (2)\n",
    "# scikit-learn 의 'train_test_split()' 함수 활용\n",
    "\n",
    "# train_test_split( data,    # 샘플링할 데이터\n",
    "#                   train_size = 0.7,    # training data set 비율 또는 개수\n",
    "#                   test_size = 0.1,    # test data set 비율 또는 개수. 비율값으로 적용 시 training 데이터셋과 test 데이터셋의 비율 합은 0~1 사이의 값이어야 한다.\n",
    "#                   shuffle = True,    # split을 해주기 이전에 섞을건지 여부. 기본값은 True\n",
    "#                   stratify = None,    # 계층화 여부. 기본값은 None. 층화추출을 시행할 때는 해당 옵션에 계층 기준 적용.\n",
    "#                   random_state = 42 )    # 무작위 선택을 제어해주는 값으로, 동일한 random_state라면 동일한 데이터를 선택하여 분리해 준다.\n",
    "#                                                                  # 생략하면 기본값인 None 이 적용되므로 추출되는 데이터가 샘플링을 실행할 때마다 달라진다.\n",
    "\n",
    "\n",
    "train_iris, test_iris = train_test_split( df_iris,    # 샘플링할 데이터\n",
    "                                          train_size = 0.7,    # test-set 비율\n",
    "                                          test_size = 0.3 )    # test-set 비율\n",
    "\n",
    "display( train_iris.shape, train_iris.head(),\n",
    "         print(),\n",
    "         test_iris.shape, test_iris.head() )"
   ]
  },
  {
   "cell_type": "raw",
   "id": "9569f05e-741e-423b-a2f0-8afebc879e78",
   "metadata": {},
   "source": []
  },
  {
   "cell_type": "markdown",
   "id": "cddac38d-c73e-474b-ba6f-e9ae4c0cf6ba",
   "metadata": {},
   "source": [
    "#### [Problem] 층화 임의 추출\n",
    "- iris 데이터에서 Species가 setosa인 데이터를 20개, versicolor인 데이터를 15개, versinica인 데이터를 15개씩 단순 임의 추출을 사용해 추출하라."
   ]
  },
  {
   "cell_type": "code",
   "execution_count": null,
   "id": "75a57e05-fd18-4d9b-8aa2-5cfea7ecb553",
   "metadata": {
    "tags": []
   },
   "outputs": [],
   "source": [
    "# 단순하게 판다스만 사용할 경우\n",
    "\n",
    "df_setosa = df_iris.loc[ df_iris['Species'] == 'setosa' ]\n",
    "df_versicolor = df_iris.loc[ df_iris['Species'] == 'versicolor' ]\n",
    "df_virginica = df_iris.loc[ df_iris['Species'] == 'virginica' ]\n",
    "\n",
    "a = df_setosa.sample( n = 20, replace = False )\n",
    "b = df_versicolor.sample( n = 15, replace = False )\n",
    "c = df_virginica.sample( n = 15, replace = False )\n",
    "\n",
    "display( a.shape, a.head(), b.shape, b.head(), c.shape, c.head())"
   ]
  },
  {
   "cell_type": "code",
   "execution_count": null,
   "id": "e7230368-e2ba-4135-a069-e65597cc33d5",
   "metadata": {
    "tags": []
   },
   "outputs": [],
   "source": [
    "# scikit-learn 의 'train_test_split()' 함수 활용\n",
    "\n",
    "# train_data, test_data = train_test_split( data,    # 샘플링할 데이터\n",
    "#                                           train_size = 0.7,    # training data set 비율 또는 개수\n",
    "#                                           test_size = 0.1,    # test data set 비율 또는 개수. 비율값으로 적용 시 training 데이터셋과 test 데이터셋의 비율 합은 0~1 사이의 값이어야 한다.\n",
    "#                                           shuffle = True,    # split을 해주기 이전에 섞을건지 여부. 기본값은 True\n",
    "#                                           stratify = None,    # 계층화 여부. 기본값은 None. 층화추출을 시행할 때는 해당 옵션에 계층 기준 적용.\n",
    "#                                           random_state = 42 )    # 무작위 선택을 제어해주는 값으로, 동일한 random_state라면 동일한 데이터를 선택하여 분리해 준다.\n",
    "#                                                                  # 생략하면 기본값인 None 이 적용되므로 추출되는 데이터가 샘플링을 실행할 때마다 달라진다.\n",
    "\n",
    "target = df_iris['Species']\n",
    "\n",
    "train_data, train_target = train_test_split( df_iris,    # 샘플링할 데이터\n",
    "                                             target,\n",
    "                                             train_size = 50,    # test-set 비율\n",
    "                                             stratify = df_iris['Species'] )\n",
    "\n"
   ]
  },
  {
   "cell_type": "code",
   "execution_count": null,
   "id": "dadb083c-750b-4618-af72-29e7320b0371",
   "metadata": {},
   "outputs": [],
   "source": []
  },
  {
   "cell_type": "code",
   "execution_count": null,
   "id": "b067ea16-8dea-482a-a5e2-9f1d85314e29",
   "metadata": {},
   "outputs": [],
   "source": []
  },
  {
   "cell_type": "code",
   "execution_count": null,
   "id": "498d55e4-62a3-4d65-9bc3-9c19503ad2d7",
   "metadata": {},
   "outputs": [],
   "source": []
  },
  {
   "cell_type": "code",
   "execution_count": null,
   "id": "2a874343-f6fd-4493-8d3e-e5d9baca6942",
   "metadata": {},
   "outputs": [],
   "source": []
  },
  {
   "cell_type": "code",
   "execution_count": null,
   "id": "ea2f0a24-3977-4e08-905c-eb3a90fbb8f6",
   "metadata": {},
   "outputs": [],
   "source": []
  },
  {
   "cell_type": "code",
   "execution_count": null,
   "id": "d4ae7a7e-15e1-4ebe-b1b6-2b1c21dbd1b7",
   "metadata": {},
   "outputs": [],
   "source": []
  }
 ],
 "metadata": {
  "kernelspec": {
   "display_name": "Python 3",
   "language": "python",
   "name": "python3"
  },
  "language_info": {
   "codemirror_mode": {
    "name": "ipython",
    "version": 3
   },
   "file_extension": ".py",
   "mimetype": "text/x-python",
   "name": "python",
   "nbconvert_exporter": "python",
   "pygments_lexer": "ipython3",
   "version": "3.8.8"
  }
 },
 "nbformat": 4,
 "nbformat_minor": 5
}
