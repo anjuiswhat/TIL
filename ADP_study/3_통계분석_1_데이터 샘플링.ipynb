{
 "cells": [
  {
   "cell_type": "markdown",
   "id": "93a88c79-15c2-4312-a8cb-3af8d6f60a29",
   "metadata": {},
   "source": [
    "# [ PART 03. 통계분석 ] - 1장. 데이터 샘플링"
   ]
  },
  {
   "cell_type": "markdown",
   "id": "8215d7da-da0d-49f5-8c0f-3065d3f3f6ba",
   "metadata": {},
   "source": [
    "## 표본 추출"
   ]
  },
  {
   "cell_type": "markdown",
   "id": "823f75c4-41f5-41dd-9428-a301ce8e2542",
   "metadata": {
    "tags": []
   },
   "source": [
    "### 1. 단순 임의 추출"
   ]
  },
  {
   "cell_type": "raw",
   "id": "b69d845e-b5ce-4487-b328-e0f90205ff66",
   "metadata": {},
   "source": [
    "[Problem]\n",
    "- iris 데이터로 분석을 진행하기 위해 전체 데이터의 7:3의 비율로 training data와 test data를 추출한 뒤 새로운 변수에 저장하라.\n",
    "- 데이터 추출 방법은 단순 임의 비복원 추출을 이용한다."
   ]
  },
  {
   "cell_type": "code",
   "execution_count": 1,
   "id": "8215c919-8e48-449b-bf38-d30c041c5a65",
   "metadata": {
    "tags": []
   },
   "outputs": [],
   "source": [
    "# 데이터 핸들링을 위한 패키지\n",
    "import numpy as np\n",
    "import pandas as pd\n",
    "\n",
    "# 데이터 샘플링을 위한 패키지\n",
    "from sklearn.model_selection import train_test_split    # training/test data set을 추출하는 패키지\n",
    "from sklearn.model_selection import StratifiedShuffleSplit  # 층화추출로 sampling 을 수행하는 패키지\n",
    "                                                            # 하지만 위의 train_test_split() 으로도 층화추출이 가능하다."
   ]
  },
  {
   "cell_type": "code",
   "execution_count": 2,
   "id": "6b155e4e-123b-43dc-840e-1616a947281b",
   "metadata": {},
   "outputs": [],
   "source": [
    "# iris dataset을 불러와 데이터프레임으로 변환\n",
    "\n",
    "df_iris = pd.read_csv( \"C:/Users/Administrator/GitHub/TIL/ADP_study/rawdata/iris.csv\",\n",
    "                      index_col='Unnamed: 0' )"
   ]
  },
  {
   "cell_type": "markdown",
   "id": "0d8d2ce9-acf7-4b20-9b34-f8f588b77941",
   "metadata": {},
   "source": [
    "#### 1.1. Pandas 의 .sample() 메소드 활용"
   ]
  },
  {
   "cell_type": "code",
   "execution_count": 3,
   "id": "e47fad58-8a17-4c5d-ac66-2fc444c70c6e",
   "metadata": {
    "tags": []
   },
   "outputs": [
    {
     "name": "stdout",
     "output_type": "stream",
     "text": [
      "\n"
     ]
    },
    {
     "data": {
      "text/plain": [
       "(105, 5)"
      ]
     },
     "metadata": {},
     "output_type": "display_data"
    },
    {
     "data": {
      "text/html": [
       "<div>\n",
       "<style scoped>\n",
       "    .dataframe tbody tr th:only-of-type {\n",
       "        vertical-align: middle;\n",
       "    }\n",
       "\n",
       "    .dataframe tbody tr th {\n",
       "        vertical-align: top;\n",
       "    }\n",
       "\n",
       "    .dataframe thead th {\n",
       "        text-align: right;\n",
       "    }\n",
       "</style>\n",
       "<table border=\"1\" class=\"dataframe\">\n",
       "  <thead>\n",
       "    <tr style=\"text-align: right;\">\n",
       "      <th></th>\n",
       "      <th>Sepal.Length</th>\n",
       "      <th>Sepal.Width</th>\n",
       "      <th>Petal.Length</th>\n",
       "      <th>Petal.Width</th>\n",
       "      <th>Species</th>\n",
       "    </tr>\n",
       "  </thead>\n",
       "  <tbody>\n",
       "    <tr>\n",
       "      <th>66</th>\n",
       "      <td>6.7</td>\n",
       "      <td>3.1</td>\n",
       "      <td>4.4</td>\n",
       "      <td>1.4</td>\n",
       "      <td>versicolor</td>\n",
       "    </tr>\n",
       "    <tr>\n",
       "      <th>80</th>\n",
       "      <td>5.7</td>\n",
       "      <td>2.6</td>\n",
       "      <td>3.5</td>\n",
       "      <td>1.0</td>\n",
       "      <td>versicolor</td>\n",
       "    </tr>\n",
       "    <tr>\n",
       "      <th>60</th>\n",
       "      <td>5.2</td>\n",
       "      <td>2.7</td>\n",
       "      <td>3.9</td>\n",
       "      <td>1.4</td>\n",
       "      <td>versicolor</td>\n",
       "    </tr>\n",
       "    <tr>\n",
       "      <th>148</th>\n",
       "      <td>6.5</td>\n",
       "      <td>3.0</td>\n",
       "      <td>5.2</td>\n",
       "      <td>2.0</td>\n",
       "      <td>virginica</td>\n",
       "    </tr>\n",
       "    <tr>\n",
       "      <th>32</th>\n",
       "      <td>5.4</td>\n",
       "      <td>3.4</td>\n",
       "      <td>1.5</td>\n",
       "      <td>0.4</td>\n",
       "      <td>setosa</td>\n",
       "    </tr>\n",
       "  </tbody>\n",
       "</table>\n",
       "</div>"
      ],
      "text/plain": [
       "     Sepal.Length  Sepal.Width  Petal.Length  Petal.Width     Species\n",
       "66            6.7          3.1           4.4          1.4  versicolor\n",
       "80            5.7          2.6           3.5          1.0  versicolor\n",
       "60            5.2          2.7           3.9          1.4  versicolor\n",
       "148           6.5          3.0           5.2          2.0   virginica\n",
       "32            5.4          3.4           1.5          0.4      setosa"
      ]
     },
     "metadata": {},
     "output_type": "display_data"
    },
    {
     "data": {
      "text/plain": [
       "None"
      ]
     },
     "metadata": {},
     "output_type": "display_data"
    },
    {
     "data": {
      "text/plain": [
       "(45, 5)"
      ]
     },
     "metadata": {},
     "output_type": "display_data"
    },
    {
     "data": {
      "text/html": [
       "<div>\n",
       "<style scoped>\n",
       "    .dataframe tbody tr th:only-of-type {\n",
       "        vertical-align: middle;\n",
       "    }\n",
       "\n",
       "    .dataframe tbody tr th {\n",
       "        vertical-align: top;\n",
       "    }\n",
       "\n",
       "    .dataframe thead th {\n",
       "        text-align: right;\n",
       "    }\n",
       "</style>\n",
       "<table border=\"1\" class=\"dataframe\">\n",
       "  <thead>\n",
       "    <tr style=\"text-align: right;\">\n",
       "      <th></th>\n",
       "      <th>Sepal.Length</th>\n",
       "      <th>Sepal.Width</th>\n",
       "      <th>Petal.Length</th>\n",
       "      <th>Petal.Width</th>\n",
       "      <th>Species</th>\n",
       "    </tr>\n",
       "  </thead>\n",
       "  <tbody>\n",
       "    <tr>\n",
       "      <th>10</th>\n",
       "      <td>4.9</td>\n",
       "      <td>3.1</td>\n",
       "      <td>1.5</td>\n",
       "      <td>0.1</td>\n",
       "      <td>setosa</td>\n",
       "    </tr>\n",
       "    <tr>\n",
       "      <th>61</th>\n",
       "      <td>5.0</td>\n",
       "      <td>2.0</td>\n",
       "      <td>3.5</td>\n",
       "      <td>1.0</td>\n",
       "      <td>versicolor</td>\n",
       "    </tr>\n",
       "    <tr>\n",
       "      <th>44</th>\n",
       "      <td>5.0</td>\n",
       "      <td>3.5</td>\n",
       "      <td>1.6</td>\n",
       "      <td>0.6</td>\n",
       "      <td>setosa</td>\n",
       "    </tr>\n",
       "    <tr>\n",
       "      <th>140</th>\n",
       "      <td>6.9</td>\n",
       "      <td>3.1</td>\n",
       "      <td>5.4</td>\n",
       "      <td>2.1</td>\n",
       "      <td>virginica</td>\n",
       "    </tr>\n",
       "    <tr>\n",
       "      <th>70</th>\n",
       "      <td>5.6</td>\n",
       "      <td>2.5</td>\n",
       "      <td>3.9</td>\n",
       "      <td>1.1</td>\n",
       "      <td>versicolor</td>\n",
       "    </tr>\n",
       "  </tbody>\n",
       "</table>\n",
       "</div>"
      ],
      "text/plain": [
       "     Sepal.Length  Sepal.Width  Petal.Length  Petal.Width     Species\n",
       "10            4.9          3.1           1.5          0.1      setosa\n",
       "61            5.0          2.0           3.5          1.0  versicolor\n",
       "44            5.0          3.5           1.6          0.6      setosa\n",
       "140           6.9          3.1           5.4          2.1   virginica\n",
       "70            5.6          2.5           3.9          1.1  versicolor"
      ]
     },
     "metadata": {},
     "output_type": "display_data"
    }
   ],
   "source": [
    "# 단순임의추출 시행 (1)\n",
    "# Pandas 의 .sample 메소드 활용\n",
    "\n",
    "tr_iris = df_iris.sample( frac = 0.7,          # 샘플링 할 데이터 비율\n",
    "                          replace = False )    # 복원/비복원 추출 옵션\n",
    "ts_iris = df_iris.sample( frac = 0.3,\n",
    "                          replace = False )\n",
    "\n",
    "display( tr_iris.shape, tr_iris.head(),\n",
    "         print(),\n",
    "         ts_iris.shape, ts_iris.head() )"
   ]
  },
  {
   "cell_type": "markdown",
   "id": "637fcb9b-f703-4f9f-8b33-48b541cce7d3",
   "metadata": {},
   "source": [
    "#### 1.2. scikit-learn 의 train_test_split() 함수 활용"
   ]
  },
  {
   "cell_type": "code",
   "execution_count": 4,
   "id": "eb86303f-cfeb-432f-9e19-4a9b4252aacb",
   "metadata": {
    "tags": []
   },
   "outputs": [
    {
     "data": {
      "text/plain": [
       "(105, 5)"
      ]
     },
     "metadata": {},
     "output_type": "display_data"
    },
    {
     "data": {
      "text/html": [
       "<div>\n",
       "<style scoped>\n",
       "    .dataframe tbody tr th:only-of-type {\n",
       "        vertical-align: middle;\n",
       "    }\n",
       "\n",
       "    .dataframe tbody tr th {\n",
       "        vertical-align: top;\n",
       "    }\n",
       "\n",
       "    .dataframe thead th {\n",
       "        text-align: right;\n",
       "    }\n",
       "</style>\n",
       "<table border=\"1\" class=\"dataframe\">\n",
       "  <thead>\n",
       "    <tr style=\"text-align: right;\">\n",
       "      <th></th>\n",
       "      <th>Sepal.Length</th>\n",
       "      <th>Sepal.Width</th>\n",
       "      <th>Petal.Length</th>\n",
       "      <th>Petal.Width</th>\n",
       "      <th>Species</th>\n",
       "    </tr>\n",
       "  </thead>\n",
       "  <tbody>\n",
       "    <tr>\n",
       "      <th>62</th>\n",
       "      <td>5.9</td>\n",
       "      <td>3.0</td>\n",
       "      <td>4.2</td>\n",
       "      <td>1.5</td>\n",
       "      <td>versicolor</td>\n",
       "    </tr>\n",
       "    <tr>\n",
       "      <th>20</th>\n",
       "      <td>5.1</td>\n",
       "      <td>3.8</td>\n",
       "      <td>1.5</td>\n",
       "      <td>0.3</td>\n",
       "      <td>setosa</td>\n",
       "    </tr>\n",
       "    <tr>\n",
       "      <th>130</th>\n",
       "      <td>7.2</td>\n",
       "      <td>3.0</td>\n",
       "      <td>5.8</td>\n",
       "      <td>1.6</td>\n",
       "      <td>virginica</td>\n",
       "    </tr>\n",
       "    <tr>\n",
       "      <th>31</th>\n",
       "      <td>4.8</td>\n",
       "      <td>3.1</td>\n",
       "      <td>1.6</td>\n",
       "      <td>0.2</td>\n",
       "      <td>setosa</td>\n",
       "    </tr>\n",
       "    <tr>\n",
       "      <th>140</th>\n",
       "      <td>6.9</td>\n",
       "      <td>3.1</td>\n",
       "      <td>5.4</td>\n",
       "      <td>2.1</td>\n",
       "      <td>virginica</td>\n",
       "    </tr>\n",
       "  </tbody>\n",
       "</table>\n",
       "</div>"
      ],
      "text/plain": [
       "     Sepal.Length  Sepal.Width  Petal.Length  Petal.Width     Species\n",
       "62            5.9          3.0           4.2          1.5  versicolor\n",
       "20            5.1          3.8           1.5          0.3      setosa\n",
       "130           7.2          3.0           5.8          1.6   virginica\n",
       "31            4.8          3.1           1.6          0.2      setosa\n",
       "140           6.9          3.1           5.4          2.1   virginica"
      ]
     },
     "metadata": {},
     "output_type": "display_data"
    },
    {
     "data": {
      "text/plain": [
       "(45, 5)"
      ]
     },
     "metadata": {},
     "output_type": "display_data"
    },
    {
     "data": {
      "text/html": [
       "<div>\n",
       "<style scoped>\n",
       "    .dataframe tbody tr th:only-of-type {\n",
       "        vertical-align: middle;\n",
       "    }\n",
       "\n",
       "    .dataframe tbody tr th {\n",
       "        vertical-align: top;\n",
       "    }\n",
       "\n",
       "    .dataframe thead th {\n",
       "        text-align: right;\n",
       "    }\n",
       "</style>\n",
       "<table border=\"1\" class=\"dataframe\">\n",
       "  <thead>\n",
       "    <tr style=\"text-align: right;\">\n",
       "      <th></th>\n",
       "      <th>Sepal.Length</th>\n",
       "      <th>Sepal.Width</th>\n",
       "      <th>Petal.Length</th>\n",
       "      <th>Petal.Width</th>\n",
       "      <th>Species</th>\n",
       "    </tr>\n",
       "  </thead>\n",
       "  <tbody>\n",
       "    <tr>\n",
       "      <th>118</th>\n",
       "      <td>7.7</td>\n",
       "      <td>3.8</td>\n",
       "      <td>6.7</td>\n",
       "      <td>2.2</td>\n",
       "      <td>virginica</td>\n",
       "    </tr>\n",
       "    <tr>\n",
       "      <th>133</th>\n",
       "      <td>6.4</td>\n",
       "      <td>2.8</td>\n",
       "      <td>5.6</td>\n",
       "      <td>2.2</td>\n",
       "      <td>virginica</td>\n",
       "    </tr>\n",
       "    <tr>\n",
       "      <th>147</th>\n",
       "      <td>6.3</td>\n",
       "      <td>2.5</td>\n",
       "      <td>5.0</td>\n",
       "      <td>1.9</td>\n",
       "      <td>virginica</td>\n",
       "    </tr>\n",
       "    <tr>\n",
       "      <th>70</th>\n",
       "      <td>5.6</td>\n",
       "      <td>2.5</td>\n",
       "      <td>3.9</td>\n",
       "      <td>1.1</td>\n",
       "      <td>versicolor</td>\n",
       "    </tr>\n",
       "    <tr>\n",
       "      <th>144</th>\n",
       "      <td>6.8</td>\n",
       "      <td>3.2</td>\n",
       "      <td>5.9</td>\n",
       "      <td>2.3</td>\n",
       "      <td>virginica</td>\n",
       "    </tr>\n",
       "  </tbody>\n",
       "</table>\n",
       "</div>"
      ],
      "text/plain": [
       "     Sepal.Length  Sepal.Width  Petal.Length  Petal.Width     Species\n",
       "118           7.7          3.8           6.7          2.2   virginica\n",
       "133           6.4          2.8           5.6          2.2   virginica\n",
       "147           6.3          2.5           5.0          1.9   virginica\n",
       "70            5.6          2.5           3.9          1.1  versicolor\n",
       "144           6.8          3.2           5.9          2.3   virginica"
      ]
     },
     "metadata": {},
     "output_type": "display_data"
    }
   ],
   "source": [
    "# train_test_split( data,    # 샘플링할 데이터\n",
    "#                   train_size = 0.7,    # training data set 비율 또는 개수\n",
    "#                   test_size = 0.1,    # test data set 비율 또는 개수. 비율값으로 적용 시 training 데이터셋과 test 데이터셋의 비율 합은 0~1 사이의 값이어야 한다.\n",
    "#                   shuffle = True,    # split을 해주기 이전에 섞을건지 여부. 기본값은 True\n",
    "#                   stratify = None,    # 계층화 여부. 기본값은 None. 층화추출을 시행할 때는 해당 옵션에 계층 기준 적용.\n",
    "#                   random_state = 42 )    # 무작위 선택을 제어해주는 값으로, 동일한 random_state라면 동일한 데이터를 선택하여 분리해 준다.\n",
    "#                                                                  # 생략하면 기본값인 None 이 적용되므로 추출되는 데이터가 샘플링을 실행할 때마다 달라진다.\n",
    "\n",
    "\n",
    "train_iris, test_iris = train_test_split( df_iris,    # 샘플링할 데이터\n",
    "                                          train_size = 0.7,    # test-set 비율\n",
    "                                          test_size = 0.3 )    # test-set 비율\n",
    "\n",
    "display( train_iris.shape, train_iris.head(),\n",
    "         test_iris.shape, test_iris.head() )"
   ]
  },
  {
   "cell_type": "markdown",
   "id": "cddac38d-c73e-474b-ba6f-e9ae4c0cf6ba",
   "metadata": {},
   "source": [
    "### 2. 층화 임의 추출"
   ]
  },
  {
   "cell_type": "raw",
   "id": "0624d079-d71a-4b44-bf65-06e576a6f535",
   "metadata": {},
   "source": [
    "[Problem]\n",
    "- iris 데이터에서 Species가 setosa인 데이터를 20개, versicolor인 데이터를 15개, versinica인 데이터를 15개씩 단순 임의 추출을 사용해 추출하라."
   ]
  },
  {
   "cell_type": "markdown",
   "id": "4b9a744d-a558-43a7-a8e5-0f2fc3e29195",
   "metadata": {},
   "source": [
    "#### 2.1. Pandas 의 .sample() 메소드 활용"
   ]
  },
  {
   "cell_type": "code",
   "execution_count": 5,
   "id": "75a57e05-fd18-4d9b-8aa2-5cfea7ecb553",
   "metadata": {
    "tags": []
   },
   "outputs": [
    {
     "data": {
      "text/plain": [
       "(20, 5)"
      ]
     },
     "metadata": {},
     "output_type": "display_data"
    },
    {
     "data": {
      "text/html": [
       "<div>\n",
       "<style scoped>\n",
       "    .dataframe tbody tr th:only-of-type {\n",
       "        vertical-align: middle;\n",
       "    }\n",
       "\n",
       "    .dataframe tbody tr th {\n",
       "        vertical-align: top;\n",
       "    }\n",
       "\n",
       "    .dataframe thead th {\n",
       "        text-align: right;\n",
       "    }\n",
       "</style>\n",
       "<table border=\"1\" class=\"dataframe\">\n",
       "  <thead>\n",
       "    <tr style=\"text-align: right;\">\n",
       "      <th></th>\n",
       "      <th>Sepal.Length</th>\n",
       "      <th>Sepal.Width</th>\n",
       "      <th>Petal.Length</th>\n",
       "      <th>Petal.Width</th>\n",
       "      <th>Species</th>\n",
       "    </tr>\n",
       "  </thead>\n",
       "  <tbody>\n",
       "    <tr>\n",
       "      <th>4</th>\n",
       "      <td>4.6</td>\n",
       "      <td>3.1</td>\n",
       "      <td>1.5</td>\n",
       "      <td>0.2</td>\n",
       "      <td>setosa</td>\n",
       "    </tr>\n",
       "    <tr>\n",
       "      <th>3</th>\n",
       "      <td>4.7</td>\n",
       "      <td>3.2</td>\n",
       "      <td>1.3</td>\n",
       "      <td>0.2</td>\n",
       "      <td>setosa</td>\n",
       "    </tr>\n",
       "    <tr>\n",
       "      <th>46</th>\n",
       "      <td>4.8</td>\n",
       "      <td>3.0</td>\n",
       "      <td>1.4</td>\n",
       "      <td>0.3</td>\n",
       "      <td>setosa</td>\n",
       "    </tr>\n",
       "    <tr>\n",
       "      <th>10</th>\n",
       "      <td>4.9</td>\n",
       "      <td>3.1</td>\n",
       "      <td>1.5</td>\n",
       "      <td>0.1</td>\n",
       "      <td>setosa</td>\n",
       "    </tr>\n",
       "    <tr>\n",
       "      <th>28</th>\n",
       "      <td>5.2</td>\n",
       "      <td>3.5</td>\n",
       "      <td>1.5</td>\n",
       "      <td>0.2</td>\n",
       "      <td>setosa</td>\n",
       "    </tr>\n",
       "  </tbody>\n",
       "</table>\n",
       "</div>"
      ],
      "text/plain": [
       "    Sepal.Length  Sepal.Width  Petal.Length  Petal.Width Species\n",
       "4            4.6          3.1           1.5          0.2  setosa\n",
       "3            4.7          3.2           1.3          0.2  setosa\n",
       "46           4.8          3.0           1.4          0.3  setosa\n",
       "10           4.9          3.1           1.5          0.1  setosa\n",
       "28           5.2          3.5           1.5          0.2  setosa"
      ]
     },
     "metadata": {},
     "output_type": "display_data"
    },
    {
     "data": {
      "text/plain": [
       "(15, 5)"
      ]
     },
     "metadata": {},
     "output_type": "display_data"
    },
    {
     "data": {
      "text/html": [
       "<div>\n",
       "<style scoped>\n",
       "    .dataframe tbody tr th:only-of-type {\n",
       "        vertical-align: middle;\n",
       "    }\n",
       "\n",
       "    .dataframe tbody tr th {\n",
       "        vertical-align: top;\n",
       "    }\n",
       "\n",
       "    .dataframe thead th {\n",
       "        text-align: right;\n",
       "    }\n",
       "</style>\n",
       "<table border=\"1\" class=\"dataframe\">\n",
       "  <thead>\n",
       "    <tr style=\"text-align: right;\">\n",
       "      <th></th>\n",
       "      <th>Sepal.Length</th>\n",
       "      <th>Sepal.Width</th>\n",
       "      <th>Petal.Length</th>\n",
       "      <th>Petal.Width</th>\n",
       "      <th>Species</th>\n",
       "    </tr>\n",
       "  </thead>\n",
       "  <tbody>\n",
       "    <tr>\n",
       "      <th>100</th>\n",
       "      <td>5.7</td>\n",
       "      <td>2.8</td>\n",
       "      <td>4.1</td>\n",
       "      <td>1.3</td>\n",
       "      <td>versicolor</td>\n",
       "    </tr>\n",
       "    <tr>\n",
       "      <th>67</th>\n",
       "      <td>5.6</td>\n",
       "      <td>3.0</td>\n",
       "      <td>4.5</td>\n",
       "      <td>1.5</td>\n",
       "      <td>versicolor</td>\n",
       "    </tr>\n",
       "    <tr>\n",
       "      <th>89</th>\n",
       "      <td>5.6</td>\n",
       "      <td>3.0</td>\n",
       "      <td>4.1</td>\n",
       "      <td>1.3</td>\n",
       "      <td>versicolor</td>\n",
       "    </tr>\n",
       "    <tr>\n",
       "      <th>80</th>\n",
       "      <td>5.7</td>\n",
       "      <td>2.6</td>\n",
       "      <td>3.5</td>\n",
       "      <td>1.0</td>\n",
       "      <td>versicolor</td>\n",
       "    </tr>\n",
       "    <tr>\n",
       "      <th>62</th>\n",
       "      <td>5.9</td>\n",
       "      <td>3.0</td>\n",
       "      <td>4.2</td>\n",
       "      <td>1.5</td>\n",
       "      <td>versicolor</td>\n",
       "    </tr>\n",
       "  </tbody>\n",
       "</table>\n",
       "</div>"
      ],
      "text/plain": [
       "     Sepal.Length  Sepal.Width  Petal.Length  Petal.Width     Species\n",
       "100           5.7          2.8           4.1          1.3  versicolor\n",
       "67            5.6          3.0           4.5          1.5  versicolor\n",
       "89            5.6          3.0           4.1          1.3  versicolor\n",
       "80            5.7          2.6           3.5          1.0  versicolor\n",
       "62            5.9          3.0           4.2          1.5  versicolor"
      ]
     },
     "metadata": {},
     "output_type": "display_data"
    },
    {
     "data": {
      "text/plain": [
       "(15, 5)"
      ]
     },
     "metadata": {},
     "output_type": "display_data"
    },
    {
     "data": {
      "text/html": [
       "<div>\n",
       "<style scoped>\n",
       "    .dataframe tbody tr th:only-of-type {\n",
       "        vertical-align: middle;\n",
       "    }\n",
       "\n",
       "    .dataframe tbody tr th {\n",
       "        vertical-align: top;\n",
       "    }\n",
       "\n",
       "    .dataframe thead th {\n",
       "        text-align: right;\n",
       "    }\n",
       "</style>\n",
       "<table border=\"1\" class=\"dataframe\">\n",
       "  <thead>\n",
       "    <tr style=\"text-align: right;\">\n",
       "      <th></th>\n",
       "      <th>Sepal.Length</th>\n",
       "      <th>Sepal.Width</th>\n",
       "      <th>Petal.Length</th>\n",
       "      <th>Petal.Width</th>\n",
       "      <th>Species</th>\n",
       "    </tr>\n",
       "  </thead>\n",
       "  <tbody>\n",
       "    <tr>\n",
       "      <th>130</th>\n",
       "      <td>7.2</td>\n",
       "      <td>3.0</td>\n",
       "      <td>5.8</td>\n",
       "      <td>1.6</td>\n",
       "      <td>virginica</td>\n",
       "    </tr>\n",
       "    <tr>\n",
       "      <th>116</th>\n",
       "      <td>6.4</td>\n",
       "      <td>3.2</td>\n",
       "      <td>5.3</td>\n",
       "      <td>2.3</td>\n",
       "      <td>virginica</td>\n",
       "    </tr>\n",
       "    <tr>\n",
       "      <th>109</th>\n",
       "      <td>6.7</td>\n",
       "      <td>2.5</td>\n",
       "      <td>5.8</td>\n",
       "      <td>1.8</td>\n",
       "      <td>virginica</td>\n",
       "    </tr>\n",
       "    <tr>\n",
       "      <th>134</th>\n",
       "      <td>6.3</td>\n",
       "      <td>2.8</td>\n",
       "      <td>5.1</td>\n",
       "      <td>1.5</td>\n",
       "      <td>virginica</td>\n",
       "    </tr>\n",
       "    <tr>\n",
       "      <th>126</th>\n",
       "      <td>7.2</td>\n",
       "      <td>3.2</td>\n",
       "      <td>6.0</td>\n",
       "      <td>1.8</td>\n",
       "      <td>virginica</td>\n",
       "    </tr>\n",
       "  </tbody>\n",
       "</table>\n",
       "</div>"
      ],
      "text/plain": [
       "     Sepal.Length  Sepal.Width  Petal.Length  Petal.Width    Species\n",
       "130           7.2          3.0           5.8          1.6  virginica\n",
       "116           6.4          3.2           5.3          2.3  virginica\n",
       "109           6.7          2.5           5.8          1.8  virginica\n",
       "134           6.3          2.8           5.1          1.5  virginica\n",
       "126           7.2          3.2           6.0          1.8  virginica"
      ]
     },
     "metadata": {},
     "output_type": "display_data"
    }
   ],
   "source": [
    "df_setosa = df_iris.loc[ df_iris['Species'] == 'setosa' ]\n",
    "df_versicolor = df_iris.loc[ df_iris['Species'] == 'versicolor' ]\n",
    "df_virginica = df_iris.loc[ df_iris['Species'] == 'virginica' ]\n",
    "\n",
    "a = df_setosa.sample( n = 20, replace = False )\n",
    "b = df_versicolor.sample( n = 15, replace = False )\n",
    "c = df_virginica.sample( n = 15, replace = False )\n",
    "\n",
    "display( a.shape, a.head(), b.shape, b.head(), c.shape, c.head())"
   ]
  },
  {
   "cell_type": "markdown",
   "id": "7b894ebd-3b0b-440d-83fd-9256ddb9386d",
   "metadata": {},
   "source": [
    "#### 2.2. scikit-learn 의 train_test_split() 함수 활용"
   ]
  },
  {
   "cell_type": "code",
   "execution_count": 6,
   "id": "e7230368-e2ba-4135-a069-e65597cc33d5",
   "metadata": {
    "tags": []
   },
   "outputs": [],
   "source": [
    "# train_data, test_data = train_test_split( data,    # 샘플링할 데이터\n",
    "#                                           train_size = 0.7,    # training data set 비율 또는 개수\n",
    "#                                           test_size = 0.1,    # test data set 비율 또는 개수. 비율값으로 적용 시 training 데이터셋과 test 데이터셋의 비율 합은 0~1 사이의 값이어야 한다.\n",
    "#                                           shuffle = True,    # split을 해주기 이전에 섞을건지 여부. 기본값은 True\n",
    "#                                           stratify = None,    # 층화추출 여부. 기본값은 None. 층화추출을 시행할 때는 해당 옵션에 계층 기준 적용.\n",
    "#                                           random_state = 42 )    # 무작위 선택을 제어해주는 값으로, 동일한 random_state라면 동일한 데이터를 선택하여 분리해 준다.\n",
    "#                                                                  # 생략하면 기본값인 None 이 적용되므로 추출되는 데이터가 샘플링을 실행할 때마다 달라진다.\n",
    "\n",
    "\n",
    "train_data, test_data = train_test_split( df_iris,\n",
    "                                          train_size = 20,\n",
    "                                          test_size = 20, \n",
    "                                          stratify = df_iris['Species'] )"
   ]
  },
  {
   "cell_type": "code",
   "execution_count": 7,
   "id": "dadb083c-750b-4618-af72-29e7320b0371",
   "metadata": {},
   "outputs": [
    {
     "data": {
      "text/plain": [
       "setosa        7\n",
       "versicolor    7\n",
       "virginica     6\n",
       "Name: Species, dtype: int64"
      ]
     },
     "execution_count": 7,
     "metadata": {},
     "output_type": "execute_result"
    }
   ],
   "source": [
    "train_data['Species'].value_counts()"
   ]
  },
  {
   "cell_type": "code",
   "execution_count": 8,
   "id": "498d55e4-62a3-4d65-9bc3-9c19503ad2d7",
   "metadata": {},
   "outputs": [
    {
     "data": {
      "text/plain": [
       "virginica     7\n",
       "versicolor    7\n",
       "setosa        6\n",
       "Name: Species, dtype: int64"
      ]
     },
     "execution_count": 8,
     "metadata": {},
     "output_type": "execute_result"
    }
   ],
   "source": [
    "test_data['Species'].value_counts()"
   ]
  }
 ],
 "metadata": {
  "kernelspec": {
   "display_name": "Python 3",
   "language": "python",
   "name": "python3"
  },
  "language_info": {
   "codemirror_mode": {
    "name": "ipython",
    "version": 3
   },
   "file_extension": ".py",
   "mimetype": "text/x-python",
   "name": "python",
   "nbconvert_exporter": "python",
   "pygments_lexer": "ipython3",
   "version": "3.8.8"
  }
 },
 "nbformat": 4,
 "nbformat_minor": 5
}
