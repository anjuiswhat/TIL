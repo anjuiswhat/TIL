{
 "cells": [
  {
   "cell_type": "markdown",
   "id": "93a88c79-15c2-4312-a8cb-3af8d6f60a29",
   "metadata": {},
   "source": [
    "# PART 02. 데이터 전처리"
   ]
  },
  {
   "cell_type": "markdown",
   "id": "71c909f8-dbec-4d56-8e8d-fe50a03513bd",
   "metadata": {},
   "source": [
    "## 6장. 날짜 데이터 전처리"
   ]
  },
  {
   "cell_type": "raw",
   "id": "ec28de9b-3ad7-44a9-b14d-a32d1a06e148",
   "metadata": {},
   "source": []
  },
  {
   "cell_type": "markdown",
   "id": "ef2aa8af-d069-4499-a41a-e9e8eb9342a1",
   "metadata": {},
   "source": [
    "### 1절. 날짜 데이터 다루기"
   ]
  },
  {
   "cell_type": "code",
   "execution_count": null,
   "id": "62fc4ad5-a42a-423c-bf51-7f8482454222",
   "metadata": {},
   "outputs": [],
   "source": []
  },
  {
   "cell_type": "code",
   "execution_count": null,
   "id": "8aa1a0d0-e1fd-498e-b45b-8da50f4a906d",
   "metadata": {},
   "outputs": [],
   "source": [
    "##### 1. R의 날짜 데이터 형식\n",
    "\n",
    "\n",
    "## Q1) Sys.Date함수와 Sys.time함수를 이용해 현재 날짜와 시간을 확인하고 \n",
    "## 각각 다른 변수에 저장하여 데이터 형식을 확인해보자.\n",
    "\n",
    "##===== A)\n",
    "# 현재 날짜를 today변수에 저장\n",
    "today<-Sys.Date()\n",
    "today\n",
    "\n",
    "# today의 클래스 확인\n",
    "class(today)\n",
    "\n",
    "# 현재 날짜와 시간을 time변수에 저장\n",
    "time<-Sys.time()\n",
    "time\n",
    "\n",
    "# time의 클래스 확인\n",
    "class(time)\n",
    "\n",
    "\n",
    "\n",
    "## Q2) unclass( )는 데이터의 클래스 속성을 제거해주는 기능을 가진다. \n",
    "## unclass함수를 today와 time변수에 각각 적용하여 내부적으로 저장하고 있는 값을 확인해보자. \n",
    "## 또한 unclass를 적용한 time변수값을 다시 원래의 데이터 형식 POSIXct로 변환해보자.\n",
    "\n",
    "##===== A)\n",
    "# today 내부의 값 확인 : 1970년 1월 1일 이후로 경과한 일 수를 의미함\n",
    "unclass(today)\n",
    "\n",
    "# time 내부의 값 확인 : 1970년 1월 1일 00:00:00 이후로 경과한 초 수를 의미함\n",
    "unclass(time)\n",
    "\n",
    "# unclass를 적용한 time 값을 다시 원래 날짜 형식으로 변환하기\n",
    "as.POSIXct(unclass(time), origin=\"1970-01-01\")\n",
    "# unclass(time)은 1970년1월1일 이후로 경과한 초 수를 의미하므로, \n",
    "# origin 인자값으로 \"1970-01-01\"을 지정\n",
    "\n",
    "\n",
    "\n",
    "## Q3) Sys.time 함수를 이용하여 현재 시간을 구하고 이를 time 변수에 저장하여라. \n",
    "## time을 POSIXlt형식으로 변환한 뒤, 연/월/시간/일/요일 등의 정보를 추출해보자.\n",
    "\n",
    "##===== A)\n",
    "# 현재 시간을 구한 뒤 POSIXlt 형식으로 변환하여 time 변수에 저장\n",
    "time<-as.POSIXlt(Sys.time())\n",
    "\n",
    "# 연(year) 추출 \n",
    "# time$year에는 1900년 이후의 경과 년도수가 저장되어 있으므로 현재 년도를 구하기 위해서는 1900을 더해야함\n",
    "time$year+1900\n",
    "\n",
    "# 월(mon) 추출 : 월 정보는 0-11값으로 저장되어 있기 때문에 1을 더함\n",
    "time$mon+1\n",
    "\n",
    "# 일(mday) 추출\n",
    "time$mday\n",
    "\n",
    "# 요일(wday) 추출\n",
    "time$wday"
   ]
  },
  {
   "cell_type": "code",
   "execution_count": null,
   "id": "87ee5e1e-a690-4ecc-a2b5-4ce3b7b00f59",
   "metadata": {},
   "outputs": [],
   "source": []
  },
  {
   "cell_type": "code",
   "execution_count": null,
   "id": "8ba2459e-c3c9-490f-8f43-66c3c8acbb7a",
   "metadata": {},
   "outputs": [],
   "source": [
    "##### 2. 날짜 표시형식 변경\n",
    "\n",
    "## Q1) Sys.time 함수를 이용해 현재 날짜와 시간을 now 변수에 저장한 후, \n",
    "## 이를 “네자리 연도수-두자리 월-일 시:분:초”의 형태를 가진 문자형 데이터로 변환해보자.\n",
    "\n",
    "##===== A)\n",
    "# 현재 날짜와 시간을 now에 저장\n",
    "now<-Sys.time()\n",
    "\n",
    "# now 데이터의 class 확인\n",
    "class(now)\n",
    "\n",
    "# now 데이터를 문자형으로 변환\n",
    "format(now, \"%y-%m-%d %H:%M:%S\")\n",
    "\n",
    "# 문자형으로 변환한 데이터의 class 확인 \n",
    "class(format(now, \"%y-%m-%d %H:%M:%S\"))\n",
    "\n",
    "\n",
    "\n",
    "## Q2)  “20200101”이라는 문자열을 Date 형식으로 변환한 후, \n",
    "## date 변수에 저장하여 class를 확인해보자.\n",
    "\n",
    "##===== A)\n",
    "date<-as.Date(\"20200101\", format=\"%Y%m%d\")\n",
    "date\n",
    "\n",
    "# date의 class 확인 : Date 형식으로 변환된 것을 확인할 수 있음\n",
    "class(date)"
   ]
  },
  {
   "cell_type": "code",
   "execution_count": null,
   "id": "9e6e55e3-9d04-4c14-a9f0-441b49204bc7",
   "metadata": {},
   "outputs": [],
   "source": []
  },
  {
   "cell_type": "code",
   "execution_count": null,
   "id": "af04d3a0-9ab6-4b3f-b898-5d7d541d0703",
   "metadata": {},
   "outputs": [],
   "source": [
    "##### 3. 날짜 데이터의 연산\n",
    "\n",
    "# 현재 날짜로부터 100일 후의 날짜 구하기\n",
    "Sys.Date() + 100\n",
    "\n",
    "# \"2020-01-01\"로 표현된 데이터로부터 365일 후의 날짜 구하기\n",
    "as.Date(\"2020-01-01\", format=\"%Y-%m-%d\") + 365\n",
    "\n",
    "# \"1990-01-01\" 과 \"2025-01-01\" 사이의 일 수 구하기\n",
    "as.Date(\"1990-01-01\") - as.Date(\"2025-01-01\")\n",
    "\n",
    "# 두 날짜 사이의 일 수만을 구하고 싶다면 날짜끼리 뺄셈을 한 후 \n",
    "# 해당 값을 숫자형으로 변경하면 된다.\n",
    "days <- as.Date(\"1990-01-01\") - as.Date(\"2025-01-01\")\n",
    "as.numeric(days)\n",
    "\n",
    "\n",
    "\n",
    "\n",
    "# 오늘 날짜와 \"1990-01-01\" 사이의 일 수 구하기\n",
    "difftime(\"1990-01-01\", Sys.Date())\n",
    "\n",
    "# \"09:40:00\"시간과 \"18:30:00\"시간 사이의 차이 구하기\n",
    "as.difftime(\"09:40:00\")-as.difftime(\"18:30:00\")\n"
   ]
  }
 ],
 "metadata": {
  "kernelspec": {
   "display_name": "Python 3",
   "language": "python",
   "name": "python3"
  },
  "language_info": {
   "codemirror_mode": {
    "name": "ipython",
    "version": 3
   },
   "file_extension": ".py",
   "mimetype": "text/x-python",
   "name": "python",
   "nbconvert_exporter": "python",
   "pygments_lexer": "ipython3",
   "version": "3.8.8"
  }
 },
 "nbformat": 4,
 "nbformat_minor": 5
}
