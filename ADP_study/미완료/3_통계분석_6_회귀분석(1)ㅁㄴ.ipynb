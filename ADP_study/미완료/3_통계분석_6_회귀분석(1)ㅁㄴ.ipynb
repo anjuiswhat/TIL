{
 "cells": [
  {
   "cell_type": "markdown",
   "id": "93a88c79-15c2-4312-a8cb-3af8d6f60a29",
   "metadata": {},
   "source": [
    "# [ PART 03. 통계분석 ] - 6장. 회귀분석"
   ]
  },
  {
   "cell_type": "markdown",
   "id": "0429228e-ae5a-457d-a6dc-5a5034756245",
   "metadata": {},
   "source": [
    "## - 불러올 패키지 목록"
   ]
  },
  {
   "cell_type": "code",
   "execution_count": 1,
   "id": "fb3e165d-d78a-4d4f-be08-6efed91b0a73",
   "metadata": {},
   "outputs": [],
   "source": [
    "# 데이터 핸들링을 위한 패키지\n",
    "import numpy as np\n",
    "import pandas as pd\n",
    "\n",
    "# 통계 학습을 위한 패키지\n",
    "import scipy as sp\n",
    "from scipy import stats\n",
    "import statsmodels.api as sm\n",
    "from statsmodels.formula.api import ols\n",
    "\n",
    "# 기계 학습을 위한 패키지\n",
    "import sklearn.linear_model\n",
    "from sklearn.model_selection import train_test_split    # training/test data set을 추출하는 패키지\n",
    "from sklearn.metrics import mean_squared_error, r2_score, mean_absolute_error\n",
    "\n",
    "# 시각화를 위한 패키지\n",
    "import seaborn as sb\n",
    "import matplotlib.pyplot as plt\n",
    "import matplotlib.font_manager as fm\n",
    "\n",
    "# %matplotlib inline 의 목적은 plt.show()함수가 호출되지 않은 경우에도 matplotlib 다이어그램을 렌더링하는 것이다.\n",
    "# 그러나 현재 업데이트된 버전의 주피터 노트북 버전에서는 %matplotlib inline 를 사용하지 않더라도 Matplotlib 다이어그램을 개체로 표현한다.\n",
    "# 따라서 굳이 필요하지는 않다. 그러나 코드를 깨끗하게 유지하고 자신이 만든 플롯을 호출하기 위해 여전히 관례적으로 권장된다.\n",
    "%matplotlib inline\n",
    "\n",
    "# 경고 메시지 무시\n",
    "import warnings\n",
    "warnings.filterwarnings('ignore')\n",
    "\n",
    "# 한글 폰트 설정\n",
    "plt.rc('font', family='Malgun Gothic')"
   ]
  },
  {
   "cell_type": "markdown",
   "id": "1ba347fe-c3bf-4846-afb4-fa122333d150",
   "metadata": {},
   "source": [
    "## 단순선형회귀분석"
   ]
  },
  {
   "cell_type": "raw",
   "id": "e6f97a96-32a4-4ff6-b19b-b58e85b49c54",
   "metadata": {},
   "source": [
    "[Problem]\n",
    "- Cars93 데이터의 엔진크기(EngineSize)를 독립변수, 가격(Price)를 종속변수로 설정하여 단순 선형 회귀분석을 실시한 후 추정된 회귀모형에 대해 해석하라."
   ]
  },
  {
   "cell_type": "markdown",
   "id": "472472d2-13e3-4f19-9650-efc9b7197715",
   "metadata": {},
   "source": [
    "### 1. 데이터 파악"
   ]
  },
  {
   "cell_type": "code",
   "execution_count": 2,
   "id": "4e246b6c-c0e1-4059-948e-af76d29c478c",
   "metadata": {
    "tags": []
   },
   "outputs": [
    {
     "data": {
      "text/html": [
       "<div>\n",
       "<style scoped>\n",
       "    .dataframe tbody tr th:only-of-type {\n",
       "        vertical-align: middle;\n",
       "    }\n",
       "\n",
       "    .dataframe tbody tr th {\n",
       "        vertical-align: top;\n",
       "    }\n",
       "\n",
       "    .dataframe thead th {\n",
       "        text-align: right;\n",
       "    }\n",
       "</style>\n",
       "<table border=\"1\" class=\"dataframe\">\n",
       "  <thead>\n",
       "    <tr style=\"text-align: right;\">\n",
       "      <th></th>\n",
       "      <th>EngineSize</th>\n",
       "    </tr>\n",
       "  </thead>\n",
       "  <tbody>\n",
       "    <tr>\n",
       "      <th>1</th>\n",
       "      <td>1.8</td>\n",
       "    </tr>\n",
       "    <tr>\n",
       "      <th>2</th>\n",
       "      <td>3.2</td>\n",
       "    </tr>\n",
       "    <tr>\n",
       "      <th>3</th>\n",
       "      <td>2.8</td>\n",
       "    </tr>\n",
       "    <tr>\n",
       "      <th>4</th>\n",
       "      <td>2.8</td>\n",
       "    </tr>\n",
       "    <tr>\n",
       "      <th>5</th>\n",
       "      <td>3.5</td>\n",
       "    </tr>\n",
       "    <tr>\n",
       "      <th>...</th>\n",
       "      <td>...</td>\n",
       "    </tr>\n",
       "    <tr>\n",
       "      <th>89</th>\n",
       "      <td>2.5</td>\n",
       "    </tr>\n",
       "    <tr>\n",
       "      <th>90</th>\n",
       "      <td>2.0</td>\n",
       "    </tr>\n",
       "    <tr>\n",
       "      <th>91</th>\n",
       "      <td>2.8</td>\n",
       "    </tr>\n",
       "    <tr>\n",
       "      <th>92</th>\n",
       "      <td>2.3</td>\n",
       "    </tr>\n",
       "    <tr>\n",
       "      <th>93</th>\n",
       "      <td>2.4</td>\n",
       "    </tr>\n",
       "  </tbody>\n",
       "</table>\n",
       "<p>93 rows × 1 columns</p>\n",
       "</div>"
      ],
      "text/plain": [
       "    EngineSize\n",
       "1          1.8\n",
       "2          3.2\n",
       "3          2.8\n",
       "4          2.8\n",
       "5          3.5\n",
       "..         ...\n",
       "89         2.5\n",
       "90         2.0\n",
       "91         2.8\n",
       "92         2.3\n",
       "93         2.4\n",
       "\n",
       "[93 rows x 1 columns]"
      ]
     },
     "metadata": {},
     "output_type": "display_data"
    },
    {
     "data": {
      "text/html": [
       "<div>\n",
       "<style scoped>\n",
       "    .dataframe tbody tr th:only-of-type {\n",
       "        vertical-align: middle;\n",
       "    }\n",
       "\n",
       "    .dataframe tbody tr th {\n",
       "        vertical-align: top;\n",
       "    }\n",
       "\n",
       "    .dataframe thead th {\n",
       "        text-align: right;\n",
       "    }\n",
       "</style>\n",
       "<table border=\"1\" class=\"dataframe\">\n",
       "  <thead>\n",
       "    <tr style=\"text-align: right;\">\n",
       "      <th></th>\n",
       "      <th>Price</th>\n",
       "    </tr>\n",
       "  </thead>\n",
       "  <tbody>\n",
       "    <tr>\n",
       "      <th>1</th>\n",
       "      <td>15.9</td>\n",
       "    </tr>\n",
       "    <tr>\n",
       "      <th>2</th>\n",
       "      <td>33.9</td>\n",
       "    </tr>\n",
       "    <tr>\n",
       "      <th>3</th>\n",
       "      <td>29.1</td>\n",
       "    </tr>\n",
       "    <tr>\n",
       "      <th>4</th>\n",
       "      <td>37.7</td>\n",
       "    </tr>\n",
       "    <tr>\n",
       "      <th>5</th>\n",
       "      <td>30.0</td>\n",
       "    </tr>\n",
       "    <tr>\n",
       "      <th>...</th>\n",
       "      <td>...</td>\n",
       "    </tr>\n",
       "    <tr>\n",
       "      <th>89</th>\n",
       "      <td>19.7</td>\n",
       "    </tr>\n",
       "    <tr>\n",
       "      <th>90</th>\n",
       "      <td>20.0</td>\n",
       "    </tr>\n",
       "    <tr>\n",
       "      <th>91</th>\n",
       "      <td>23.3</td>\n",
       "    </tr>\n",
       "    <tr>\n",
       "      <th>92</th>\n",
       "      <td>22.7</td>\n",
       "    </tr>\n",
       "    <tr>\n",
       "      <th>93</th>\n",
       "      <td>26.7</td>\n",
       "    </tr>\n",
       "  </tbody>\n",
       "</table>\n",
       "<p>93 rows × 1 columns</p>\n",
       "</div>"
      ],
      "text/plain": [
       "    Price\n",
       "1    15.9\n",
       "2    33.9\n",
       "3    29.1\n",
       "4    37.7\n",
       "5    30.0\n",
       "..    ...\n",
       "89   19.7\n",
       "90   20.0\n",
       "91   23.3\n",
       "92   22.7\n",
       "93   26.7\n",
       "\n",
       "[93 rows x 1 columns]"
      ]
     },
     "metadata": {},
     "output_type": "display_data"
    }
   ],
   "source": [
    "# 데이터프레임 생성\n",
    "\n",
    "df_cars93 = pd.read_csv( 'C:/Users/Administrator/GitHub/TIL/ADP_study/rawdata/Cars93.csv',\n",
    "                         index_col = 'Unnamed: 0' )\n",
    "\n",
    "x = pd.DataFrame( df_cars93['EngineSize'] )\n",
    "y = pd.DataFrame( df_cars93['Price'] )\n",
    "display(x, y)"
   ]
  },
  {
   "cell_type": "markdown",
   "id": "35f6b2a1-7846-4f8f-aaf0-ac90fbc35f67",
   "metadata": {},
   "source": [
    "### 2. Train set / Test set 나누기"
   ]
  },
  {
   "cell_type": "code",
   "execution_count": 3,
   "id": "3544ee6c-251c-4f34-b2e6-0acb1941c0d9",
   "metadata": {},
   "outputs": [],
   "source": [
    "x_train, x_test, y_train, y_test = train_test_split( x, y,\n",
    "                                                     test_size = 0.3,\n",
    "                                                     random_state = 2000 )"
   ]
  },
  {
   "cell_type": "raw",
   "id": "5490e2a6-8b2e-4de0-b803-33cd06aebcf0",
   "metadata": {},
   "source": []
  },
  {
   "cell_type": "markdown",
   "id": "6bdd5dca-ccf7-482f-ba59-4f3fcdfb5b32",
   "metadata": {},
   "source": [
    "### 3. 선형회귀 모델 구축\n",
    "- statsmodels 의 OLS를 사용하여 선형회귀분석 시행 ( OLS : Ordinary Least Squares )\n",
    "- OLS: 가장 기본적인 결정론적 선형 회귀 방법으로 잔차제곱합(RSS: Residual Sum of Squares)를 최소화하는 가중치(β1, β2, ...)를 구하는 방법\n",
    "- 모델 선언: model = sm.OLS( y데이터, x데이터 )\n",
    "- 모델 학습: model_trained = model.fit()"
   ]
  },
  {
   "cell_type": "raw",
   "id": "49c96bcf-7d08-4e80-8aae-39d706a266e3",
   "metadata": {},
   "source": []
  },
  {
   "cell_type": "markdown",
   "id": "887ea04f-fee0-4a29-a1e5-6c0fe8f894e3",
   "metadata": {},
   "source": [
    "#### 3.1. 선형회귀 모델의 가정 확인"
   ]
  },
  {
   "cell_type": "code",
   "execution_count": 4,
   "id": "0e11d401-9415-4000-9c6c-28d1a4a05383",
   "metadata": {},
   "outputs": [],
   "source": [
    "x_train = sm.add_constant(x_train)\n",
    "model = sm.OLS( y_train, x_train, axis = 1 )\n",
    "model_trained = model.fit()"
   ]
  },
  {
   "cell_type": "raw",
   "id": "dd479174-90a2-4001-96f9-99f539d2df20",
   "metadata": {},
   "source": []
  },
  {
   "cell_type": "markdown",
   "id": "d697c53b-a8b3-4c39-80cf-1dd8107ebf08",
   "metadata": {},
   "source": [
    "##### 3.1.1. 확률오차의 정규성 확인"
   ]
  },
  {
   "cell_type": "code",
   "execution_count": 5,
   "id": "59c88b3b-37fc-4e1a-821b-c67255bf1c93",
   "metadata": {},
   "outputs": [
    {
     "data": {
      "image/png": "[encoded data removed]",
      "text/plain": [
       "<Figure size 864x576 with 1 Axes>"
      ]
     },
     "metadata": {
      "needs_background": "light"
     },
     "output_type": "display_data"
    }
   ],
   "source": [
    "model_residuals = model_trained.resid\n",
    "\n",
    "plt.rcParams[ 'axes.unicode_minus' ] = False   # 음수 폰트 깨짐을 방지\n",
    "fig, ax = plt.subplots(1, 1)\n",
    "fig.set_figheight(8)\n",
    "fig.set_figwidth(12)\n",
    "\n",
    "sm.ProbPlot(model_residuals).qqplot(line = 's', color = 'blue', ax = ax)\n",
    "ax.title.set_text('Q-Q plot')"
   ]
  },
  {
   "cell_type": "raw",
   "id": "5ff9427d-280a-46f1-addb-dd46713799ad",
   "metadata": {},
   "source": []
  },
  {
   "cell_type": "markdown",
   "id": "6df562de-61e7-4fa6-9f8d-4e6c21a4ed3f",
   "metadata": {},
   "source": [
    "#####  3.1.2. 확률오차의 등분산성 확인"
   ]
  },
  {
   "cell_type": "code",
   "execution_count": 6,
   "id": "6a4a54dd-7c87-4f2e-a7c8-e12466f648c7",
   "metadata": {},
   "outputs": [
    {
     "data": {
      "text/plain": [
       "[Text(0.5, 0, 'Fitted values'), Text(0, 0.5, 'Residuals')]"
      ]
     },
     "execution_count": 6,
     "metadata": {},
     "output_type": "execute_result"
    },
    {
     "data": {
      "image/png": "[encoded data removed]",
      "text/plain": [
       "<Figure size 864x576 with 1 Axes>"
      ]
     },
     "metadata": {
      "needs_background": "light"
     },
     "output_type": "display_data"
    }
   ],
   "source": [
    "model_fitted_y = model_trained.fittedvalues\n",
    "\n",
    "fig, ax = plt.subplots(1, 1)\n",
    "fig.set_figheight(8)\n",
    "fig.set_figwidth(12)\n",
    "\n",
    "sb.residplot( model_fitted_y, y_train,\n",
    "              data = x_train,\n",
    "              lowess = True,\n",
    "              scatter_kws = {'alpha':0.5},\n",
    "              line_kws = {'color':'red'},\n",
    "              ax = ax )\n",
    "\n",
    "ax.title.set_text('Redisuals vs Fitted')\n",
    "ax.set(xlabel = 'Fitted values', ylabel = 'Residuals')"
   ]
  },
  {
   "cell_type": "raw",
   "id": "5e913855-93a4-4582-99c5-10ec7080b036",
   "metadata": {},
   "source": []
  },
  {
   "cell_type": "markdown",
   "id": "12838158-970b-479f-8340-7279c48e08c4",
   "metadata": {},
   "source": [
    "#### 3.2. 설명 : 통계적으로 해석\n",
    "- 모형의 성능 : R-squared (결정계수; coefficient of determination) \n",
    "- coef(회귀계수): x가 한 단위 증가할 때 y의 변화량\n",
    "- P>[t] (p-value): 유의수준 0.05 이하일 때 변수가 유의미"
   ]
  },
  {
   "cell_type": "code",
   "execution_count": 7,
   "id": "1643be0f-d448-4c10-8c91-615776319c08",
   "metadata": {},
   "outputs": [
    {
     "name": "stdout",
     "output_type": "stream",
     "text": [
      "                            OLS Regression Results                            \n",
      "==============================================================================\n",
      "Dep. Variable:                  Price   R-squared:                       0.301\n",
      "Model:                            OLS   Adj. R-squared:                  0.290\n",
      "Method:                 Least Squares   F-statistic:                     27.14\n",
      "Date:                Fri, 16 Jul 2021   Prob (F-statistic):           2.22e-06\n",
      "Time:                        22:45:55   Log-Likelihood:                -223.19\n",
      "No. Observations:                  65   AIC:                             450.4\n",
      "Df Residuals:                      63   BIC:                             454.7\n",
      "Df Model:                           1                                         \n",
      "Covariance Type:            nonrobust                                         \n",
      "==============================================================================\n",
      "                 coef    std err          t      P>|t|      [0.025      0.975]\n",
      "------------------------------------------------------------------------------\n",
      "const          5.1391      2.741      1.875      0.065      -0.339      10.617\n",
      "EngineSize     5.1749      0.993      5.210      0.000       3.190       7.160\n",
      "==============================================================================\n",
      "Omnibus:                       58.409   Durbin-Watson:                   2.287\n",
      "Prob(Omnibus):                  0.000   Jarque-Bera (JB):              375.478\n",
      "Skew:                           2.489   Prob(JB):                     2.92e-82\n",
      "Kurtosis:                      13.670   Cond. No.                         8.95\n",
      "==============================================================================\n",
      "\n",
      "Notes:\n",
      "[1] Standard Errors assume that the covariance matrix of the errors is correctly specified.\n"
     ]
    }
   ],
   "source": [
    "print(model_trained.summary())"
   ]
  },
  {
   "cell_type": "raw",
   "id": "a48d6e3c-7a04-43b6-84e5-0b7c22ebeb1a",
   "metadata": {},
   "source": []
  },
  {
   "cell_type": "markdown",
   "id": "331ed589-fdea-42aa-8017-77aa17468ed2",
   "metadata": {},
   "source": [
    "#### 3.3. 예측: 미래의 반응변수 값 예측"
   ]
  },
  {
   "cell_type": "code",
   "execution_count": 8,
   "id": "ec273511-f960-46bf-a1eb-78aeaf94662a",
   "metadata": {},
   "outputs": [
    {
     "data": {
      "image/png": "[encoded data removed]",
      "text/plain": [
       "<Figure size 720x432 with 1 Axes>"
      ]
     },
     "metadata": {
      "needs_background": "light"
     },
     "output_type": "display_data"
    }
   ],
   "source": [
    "y_train_pred = model_trained.fittedvalues\n",
    "\n",
    "plt.figure(figsize = (10,6))\n",
    "plt.title('실제값 vs. 모델 예측값', size = 18)\n",
    "plt.scatter(y_train, y_train_pred)\n",
    "plt.plot( [-5,55], [-5,55], ls='--', c='red')\n",
    "plt.xlabel('실제값', size=16)\n",
    "plt.ylabel('모델 예측값', size = 16)\n",
    "plt.xlim(-5,55)\n",
    "plt.ylim(-5,55)\n",
    "\n",
    "plt.show()"
   ]
  },
  {
   "cell_type": "code",
   "execution_count": 9,
   "id": "f9f3a759-b5c3-42eb-b920-f0eb23db31cd",
   "metadata": {},
   "outputs": [
    {
     "data": {
      "text/html": [
       "<div>\n",
       "<style scoped>\n",
       "    .dataframe tbody tr th:only-of-type {\n",
       "        vertical-align: middle;\n",
       "    }\n",
       "\n",
       "    .dataframe tbody tr th {\n",
       "        vertical-align: top;\n",
       "    }\n",
       "\n",
       "    .dataframe thead th {\n",
       "        text-align: right;\n",
       "    }\n",
       "</style>\n",
       "<table border=\"1\" class=\"dataframe\">\n",
       "  <thead>\n",
       "    <tr style=\"text-align: right;\">\n",
       "      <th></th>\n",
       "      <th>const</th>\n",
       "      <th>EngineSize</th>\n",
       "      <th>Price_Pred</th>\n",
       "    </tr>\n",
       "  </thead>\n",
       "  <tbody>\n",
       "    <tr>\n",
       "      <th>8</th>\n",
       "      <td>1.0</td>\n",
       "      <td>5.7</td>\n",
       "      <td>34.636230</td>\n",
       "    </tr>\n",
       "    <tr>\n",
       "      <th>37</th>\n",
       "      <td>1.0</td>\n",
       "      <td>3.0</td>\n",
       "      <td>20.663898</td>\n",
       "    </tr>\n",
       "    <tr>\n",
       "      <th>62</th>\n",
       "      <td>1.0</td>\n",
       "      <td>1.5</td>\n",
       "      <td>12.901491</td>\n",
       "    </tr>\n",
       "    <tr>\n",
       "      <th>91</th>\n",
       "      <td>1.0</td>\n",
       "      <td>2.8</td>\n",
       "      <td>19.628910</td>\n",
       "    </tr>\n",
       "    <tr>\n",
       "      <th>88</th>\n",
       "      <td>1.0</td>\n",
       "      <td>1.8</td>\n",
       "      <td>14.453972</td>\n",
       "    </tr>\n",
       "  </tbody>\n",
       "</table>\n",
       "</div>"
      ],
      "text/plain": [
       "    const  EngineSize  Price_Pred\n",
       "8     1.0         5.7   34.636230\n",
       "37    1.0         3.0   20.663898\n",
       "62    1.0         1.5   12.901491\n",
       "91    1.0         2.8   19.628910\n",
       "88    1.0         1.8   14.453972"
      ]
     },
     "execution_count": 9,
     "metadata": {},
     "output_type": "execute_result"
    }
   ],
   "source": [
    "x_train, x_test, y_train, y_test = train_test_split( x, y,\n",
    "                                                     test_size = 5 )\n",
    "\n",
    "x_test = sm.add_constant(x_test)\n",
    "y_test_pred = model_trained.predict(x_test)\n",
    "\n",
    "x_test['Price_Pred'] = y_test_pred\n",
    "\n",
    "x_test"
   ]
  },
  {
   "cell_type": "raw",
   "id": "f67c8e1d-f9a5-4877-8b76-fc462fefb43c",
   "metadata": {},
   "source": []
  },
  {
   "cell_type": "markdown",
   "id": "84a97ba8-a386-4011-b6f4-f1fa7af8e167",
   "metadata": {},
   "source": [
    "#####  3.3.1. Mean Squared Error (평균 제곱 오차)"
   ]
  },
  {
   "cell_type": "code",
   "execution_count": 10,
   "id": "53173698-cb55-45e6-bc3c-5b1c917e4c41",
   "metadata": {},
   "outputs": [
    {
     "name": "stdout",
     "output_type": "stream",
     "text": [
      "\n"
     ]
    }
   ],
   "source": [
    "mean_squared_error( y_test, y_test_pred )\n",
    "print()"
   ]
  },
  {
   "cell_type": "markdown",
   "id": "abd2e61c-46be-452b-81f6-3cddc411e277",
   "metadata": {},
   "source": [
    "#####  3.3.2. Root Mean Squared Error (제곱근 평균 제곱 오차)"
   ]
  },
  {
   "cell_type": "code",
   "execution_count": 11,
   "id": "d15f4c8c-c495-46cc-88f9-69c12bd01360",
   "metadata": {},
   "outputs": [
    {
     "name": "stdout",
     "output_type": "stream",
     "text": [
      "\n"
     ]
    }
   ],
   "source": [
    "np.sqrt( mean_squared_error( y_test, y_test_pred ) )\n",
    "print()"
   ]
  },
  {
   "cell_type": "markdown",
   "id": "709c3974-ce7b-4437-988c-785da737cb6a",
   "metadata": {},
   "source": [
    "#####  3.3.3. Mean Absolute Error (평균 절대 오차)"
   ]
  },
  {
   "cell_type": "code",
   "execution_count": 12,
   "id": "15dbda7c-b977-4bce-84c2-4b94ceb6872c",
   "metadata": {},
   "outputs": [
    {
     "name": "stdout",
     "output_type": "stream",
     "text": [
      "\n"
     ]
    }
   ],
   "source": [
    "mean_absolute_error( y_test, y_test_pred )\n",
    "print()"
   ]
  },
  {
   "cell_type": "markdown",
   "id": "9750fef6-35e0-4dce-b803-bc414d8c5bb7",
   "metadata": {},
   "source": [
    "#####  3.3.4. Mean Absolute Percentage Error (평균 절대 백분율 오차)"
   ]
  },
  {
   "cell_type": "code",
   "execution_count": 13,
   "id": "9f119618-4665-4b5d-aaf7-e1ed4ded7fcf",
   "metadata": {},
   "outputs": [
    {
     "name": "stdout",
     "output_type": "stream",
     "text": [
      "\n"
     ]
    }
   ],
   "source": [
    "def mape( y_true, y_pred ):\n",
    "    y_true, y_pred = np.array(y_true), np.array(y_pred)\n",
    "    return np.mean(np.abs( (y_true-y_pred)/y_true ) ) * 100\n",
    "\n",
    "mape( y_test, y_test_pred )\n",
    "print()"
   ]
  },
  {
   "cell_type": "markdown",
   "id": "64fa162c-a77b-4561-83ec-255a4dcfd76c",
   "metadata": {},
   "source": [
    "#####  3.3.5. R-squared"
   ]
  },
  {
   "cell_type": "code",
   "execution_count": 14,
   "id": "df3f54f5-2a92-4bac-9413-9ceabc998226",
   "metadata": {},
   "outputs": [
    {
     "data": {
      "text/plain": [
       "0.16309865801558687"
      ]
     },
     "execution_count": 14,
     "metadata": {},
     "output_type": "execute_result"
    }
   ],
   "source": [
    "r2_score( y_test, y_test_pred )"
   ]
  }
 ],
 "metadata": {
  "kernelspec": {
   "display_name": "Python 3",
   "language": "python",
   "name": "python3"
  },
  "language_info": {
   "codemirror_mode": {
    "name": "ipython",
    "version": 3
   },
   "file_extension": ".py",
   "mimetype": "text/x-python",
   "name": "python",
   "nbconvert_exporter": "python",
   "pygments_lexer": "ipython3",
   "version": "3.8.11"
  }
 },
 "nbformat": 4,
 "nbformat_minor": 5
}
