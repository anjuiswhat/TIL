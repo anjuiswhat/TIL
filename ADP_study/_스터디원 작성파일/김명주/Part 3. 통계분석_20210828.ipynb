{
 "cells": [
  {
   "cell_type": "markdown",
   "metadata": {
    "id": "zy7iqTJXFNvh"
   },
   "source": [
    "# PART 3. 통계분석"
   ]
  },
  {
   "cell_type": "markdown",
   "metadata": {},
   "source": [
    "**목차**\n",
    "\n",
    "1장. 데이터 샘플링\n",
    "- 단순 임의 추출: train_test_split   \n",
    "- 층화 임의 추출: np.random.choice   \n",
    "\n",
    "2장. T-검정(T-Test)\n",
    "\n",
    "- one sample: parametric vs. nonparametric\n",
    "- paired sample:  parametric vs. nonparametric\n",
    "- independent two sample: parametric vs. nonparametric\n",
    "\n",
    "3장. 교차분석   \n",
    "4장. 분산분석(ANOVA)   \n",
    "5장. 상관분석   \n",
    "6장. 회귀분석   "
   ]
  },
  {
   "cell_type": "markdown",
   "metadata": {
    "id": "PY8PHWnCFNwt"
   },
   "source": [
    "### 1장. 데이터 샘플링\n",
    "\n",
    "##### 1. 단순 임의 추출\n",
    "Question 1) iris 데이터로 분석을 진행하기 위해 전체 데이터의 7:3의 비율로   \n",
    "training data와 test data를 추출한 뒤 새로운 변수에 저장해보자.    \n",
    "(데이터 추출 방법은 단순 임의 비복원 추출을 이용한다.)"
   ]
  },
  {
   "cell_type": "code",
   "execution_count": 14,
   "metadata": {
    "id": "OqAsTLBsFNyT"
   },
   "outputs": [],
   "source": [
    "import pandas as pd \n",
    "import numpy as np \n",
    "import seaborn as sns\n",
    "from sklearn.datasets import load_iris \n",
    "iris=load_iris()\n",
    "iris_df = sns.load_dataset('iris')"
   ]
  },
  {
   "cell_type": "code",
   "execution_count": 15,
   "metadata": {
    "id": "SPuw2JjEFNyj"
   },
   "outputs": [],
   "source": [
    "import sklearn\n",
    "from sklearn.model_selection import train_test_split"
   ]
  },
  {
   "cell_type": "code",
   "execution_count": 16,
   "metadata": {
    "id": "8trtz8xwFNyq"
   },
   "outputs": [],
   "source": [
    "traindata, testdata = train_test_split(iris_df, test_size=0.3, random_state=1)"
   ]
  },
  {
   "cell_type": "code",
   "execution_count": 17,
   "metadata": {
    "id": "ed21nqPGFNyr",
    "outputId": "5d998a52-feb6-499d-ea45-bf0825aee872"
   },
   "outputs": [
    {
     "name": "stdout",
     "output_type": "stream",
     "text": [
      "(105, 5)\n"
     ]
    },
    {
     "data": {
      "text/html": [
       "<div>\n",
       "<style scoped>\n",
       "    .dataframe tbody tr th:only-of-type {\n",
       "        vertical-align: middle;\n",
       "    }\n",
       "\n",
       "    .dataframe tbody tr th {\n",
       "        vertical-align: top;\n",
       "    }\n",
       "\n",
       "    .dataframe thead th {\n",
       "        text-align: right;\n",
       "    }\n",
       "</style>\n",
       "<table border=\"1\" class=\"dataframe\">\n",
       "  <thead>\n",
       "    <tr style=\"text-align: right;\">\n",
       "      <th></th>\n",
       "      <th>sepal_length</th>\n",
       "      <th>sepal_width</th>\n",
       "      <th>petal_length</th>\n",
       "      <th>petal_width</th>\n",
       "      <th>species</th>\n",
       "    </tr>\n",
       "  </thead>\n",
       "  <tbody>\n",
       "    <tr>\n",
       "      <th>118</th>\n",
       "      <td>7.7</td>\n",
       "      <td>2.6</td>\n",
       "      <td>6.9</td>\n",
       "      <td>2.3</td>\n",
       "      <td>virginica</td>\n",
       "    </tr>\n",
       "    <tr>\n",
       "      <th>18</th>\n",
       "      <td>5.7</td>\n",
       "      <td>3.8</td>\n",
       "      <td>1.7</td>\n",
       "      <td>0.3</td>\n",
       "      <td>setosa</td>\n",
       "    </tr>\n",
       "    <tr>\n",
       "      <th>4</th>\n",
       "      <td>5.0</td>\n",
       "      <td>3.6</td>\n",
       "      <td>1.4</td>\n",
       "      <td>0.2</td>\n",
       "      <td>setosa</td>\n",
       "    </tr>\n",
       "    <tr>\n",
       "      <th>45</th>\n",
       "      <td>4.8</td>\n",
       "      <td>3.0</td>\n",
       "      <td>1.4</td>\n",
       "      <td>0.3</td>\n",
       "      <td>setosa</td>\n",
       "    </tr>\n",
       "    <tr>\n",
       "      <th>59</th>\n",
       "      <td>5.2</td>\n",
       "      <td>2.7</td>\n",
       "      <td>3.9</td>\n",
       "      <td>1.4</td>\n",
       "      <td>versicolor</td>\n",
       "    </tr>\n",
       "  </tbody>\n",
       "</table>\n",
       "</div>"
      ],
      "text/plain": [
       "     sepal_length  sepal_width  petal_length  petal_width     species\n",
       "118           7.7          2.6           6.9          2.3   virginica\n",
       "18            5.7          3.8           1.7          0.3      setosa\n",
       "4             5.0          3.6           1.4          0.2      setosa\n",
       "45            4.8          3.0           1.4          0.3      setosa\n",
       "59            5.2          2.7           3.9          1.4  versicolor"
      ]
     },
     "execution_count": 17,
     "metadata": {},
     "output_type": "execute_result"
    }
   ],
   "source": [
    "print(traindata.shape)\n",
    "traindata.head()"
   ]
  },
  {
   "cell_type": "code",
   "execution_count": 18,
   "metadata": {
    "id": "AVayQVWNFNy_",
    "outputId": "1791634c-19ad-4233-9647-9be175de8b1b"
   },
   "outputs": [
    {
     "name": "stdout",
     "output_type": "stream",
     "text": [
      "(45, 5)\n"
     ]
    },
    {
     "data": {
      "text/html": [
       "<div>\n",
       "<style scoped>\n",
       "    .dataframe tbody tr th:only-of-type {\n",
       "        vertical-align: middle;\n",
       "    }\n",
       "\n",
       "    .dataframe tbody tr th {\n",
       "        vertical-align: top;\n",
       "    }\n",
       "\n",
       "    .dataframe thead th {\n",
       "        text-align: right;\n",
       "    }\n",
       "</style>\n",
       "<table border=\"1\" class=\"dataframe\">\n",
       "  <thead>\n",
       "    <tr style=\"text-align: right;\">\n",
       "      <th></th>\n",
       "      <th>sepal_length</th>\n",
       "      <th>sepal_width</th>\n",
       "      <th>petal_length</th>\n",
       "      <th>petal_width</th>\n",
       "      <th>species</th>\n",
       "    </tr>\n",
       "  </thead>\n",
       "  <tbody>\n",
       "    <tr>\n",
       "      <th>14</th>\n",
       "      <td>5.8</td>\n",
       "      <td>4.0</td>\n",
       "      <td>1.2</td>\n",
       "      <td>0.2</td>\n",
       "      <td>setosa</td>\n",
       "    </tr>\n",
       "    <tr>\n",
       "      <th>98</th>\n",
       "      <td>5.1</td>\n",
       "      <td>2.5</td>\n",
       "      <td>3.0</td>\n",
       "      <td>1.1</td>\n",
       "      <td>versicolor</td>\n",
       "    </tr>\n",
       "    <tr>\n",
       "      <th>75</th>\n",
       "      <td>6.6</td>\n",
       "      <td>3.0</td>\n",
       "      <td>4.4</td>\n",
       "      <td>1.4</td>\n",
       "      <td>versicolor</td>\n",
       "    </tr>\n",
       "    <tr>\n",
       "      <th>16</th>\n",
       "      <td>5.4</td>\n",
       "      <td>3.9</td>\n",
       "      <td>1.3</td>\n",
       "      <td>0.4</td>\n",
       "      <td>setosa</td>\n",
       "    </tr>\n",
       "    <tr>\n",
       "      <th>131</th>\n",
       "      <td>7.9</td>\n",
       "      <td>3.8</td>\n",
       "      <td>6.4</td>\n",
       "      <td>2.0</td>\n",
       "      <td>virginica</td>\n",
       "    </tr>\n",
       "  </tbody>\n",
       "</table>\n",
       "</div>"
      ],
      "text/plain": [
       "     sepal_length  sepal_width  petal_length  petal_width     species\n",
       "14            5.8          4.0           1.2          0.2      setosa\n",
       "98            5.1          2.5           3.0          1.1  versicolor\n",
       "75            6.6          3.0           4.4          1.4  versicolor\n",
       "16            5.4          3.9           1.3          0.4      setosa\n",
       "131           7.9          3.8           6.4          2.0   virginica"
      ]
     },
     "execution_count": 18,
     "metadata": {},
     "output_type": "execute_result"
    }
   ],
   "source": [
    "print(testdata.shape)\n",
    "testdata.head()"
   ]
  },
  {
   "cell_type": "markdown",
   "metadata": {
    "id": "TapXxxynFNzJ"
   },
   "source": [
    "##### 2. 층화 임의 추출\n",
    ": class별로 sample을 나눠 뽑는 것\n",
    "\n",
    "Question 2) iris 데이터에서 Species가 setosa인 데이터를 20개, versicolor인 데이터를 15개,    \n",
    "versinica인 데이터를 15개씩 단순 임의 추출을 사용해 추출해보자.   "
   ]
  },
  {
   "cell_type": "code",
   "execution_count": null,
   "metadata": {
    "id": "Rwss2eX0FNzN",
    "outputId": "760cbc47-b2e4-4a00-9efa-f9fc53a220f7"
   },
   "outputs": [
    {
     "data": {
      "text/plain": [
       "virginica     50\n",
       "setosa        50\n",
       "versicolor    50\n",
       "Name: species, dtype: int64"
      ]
     },
     "execution_count": 40,
     "metadata": {
      "tags": []
     },
     "output_type": "execute_result"
    }
   ],
   "source": [
    "iris_df['species'].value_counts()"
   ]
  },
  {
   "cell_type": "code",
   "execution_count": null,
   "metadata": {
    "id": "zl6CiV7bFNzQ"
   },
   "outputs": [],
   "source": [
    "setosa_idx=list(np.random.choice(50, 20))\n",
    "versicolor_idx=list(np.random.choice(50, 15))\n",
    "virginica_idx=list(np.random.choice(50, 15))"
   ]
  },
  {
   "cell_type": "code",
   "execution_count": null,
   "metadata": {
    "id": "zHp1lQ5-FNzR",
    "outputId": "2dd8fb2a-78f3-4315-8cdf-02a77c6dfd88"
   },
   "outputs": [
    {
     "name": "stdout",
     "output_type": "stream",
     "text": [
      "(20, 5)\n"
     ]
    },
    {
     "data": {
      "text/html": [
       "<div>\n",
       "<style scoped>\n",
       "    .dataframe tbody tr th:only-of-type {\n",
       "        vertical-align: middle;\n",
       "    }\n",
       "\n",
       "    .dataframe tbody tr th {\n",
       "        vertical-align: top;\n",
       "    }\n",
       "\n",
       "    .dataframe thead th {\n",
       "        text-align: right;\n",
       "    }\n",
       "</style>\n",
       "<table border=\"1\" class=\"dataframe\">\n",
       "  <thead>\n",
       "    <tr style=\"text-align: right;\">\n",
       "      <th></th>\n",
       "      <th>sepal_length</th>\n",
       "      <th>sepal_width</th>\n",
       "      <th>petal_length</th>\n",
       "      <th>petal_width</th>\n",
       "      <th>species</th>\n",
       "    </tr>\n",
       "  </thead>\n",
       "  <tbody>\n",
       "    <tr>\n",
       "      <th>7</th>\n",
       "      <td>5.0</td>\n",
       "      <td>3.4</td>\n",
       "      <td>1.5</td>\n",
       "      <td>0.2</td>\n",
       "      <td>setosa</td>\n",
       "    </tr>\n",
       "    <tr>\n",
       "      <th>23</th>\n",
       "      <td>5.1</td>\n",
       "      <td>3.3</td>\n",
       "      <td>1.7</td>\n",
       "      <td>0.5</td>\n",
       "      <td>setosa</td>\n",
       "    </tr>\n",
       "    <tr>\n",
       "      <th>11</th>\n",
       "      <td>4.8</td>\n",
       "      <td>3.4</td>\n",
       "      <td>1.6</td>\n",
       "      <td>0.2</td>\n",
       "      <td>setosa</td>\n",
       "    </tr>\n",
       "    <tr>\n",
       "      <th>25</th>\n",
       "      <td>5.0</td>\n",
       "      <td>3.0</td>\n",
       "      <td>1.6</td>\n",
       "      <td>0.2</td>\n",
       "      <td>setosa</td>\n",
       "    </tr>\n",
       "    <tr>\n",
       "      <th>48</th>\n",
       "      <td>5.3</td>\n",
       "      <td>3.7</td>\n",
       "      <td>1.5</td>\n",
       "      <td>0.2</td>\n",
       "      <td>setosa</td>\n",
       "    </tr>\n",
       "  </tbody>\n",
       "</table>\n",
       "</div>"
      ],
      "text/plain": [
       "    sepal_length  sepal_width  petal_length  petal_width species\n",
       "7            5.0          3.4           1.5          0.2  setosa\n",
       "23           5.1          3.3           1.7          0.5  setosa\n",
       "11           4.8          3.4           1.6          0.2  setosa\n",
       "25           5.0          3.0           1.6          0.2  setosa\n",
       "48           5.3          3.7           1.5          0.2  setosa"
      ]
     },
     "execution_count": 51,
     "metadata": {
      "tags": []
     },
     "output_type": "execute_result"
    }
   ],
   "source": [
    "iris_setosa=iris_df[iris_df['species']==\"setosa\"].loc[setosa_idx]\n",
    "print(iris_setosa.shape)\n",
    "iris_setosa.head()"
   ]
  },
  {
   "cell_type": "code",
   "execution_count": null,
   "metadata": {
    "id": "sFT0cGupFNzT",
    "outputId": "154f8734-1570-4e00-f4f1-2a69a98bf197"
   },
   "outputs": [
    {
     "data": {
      "text/html": [
       "<div>\n",
       "<style scoped>\n",
       "    .dataframe tbody tr th:only-of-type {\n",
       "        vertical-align: middle;\n",
       "    }\n",
       "\n",
       "    .dataframe tbody tr th {\n",
       "        vertical-align: top;\n",
       "    }\n",
       "\n",
       "    .dataframe thead th {\n",
       "        text-align: right;\n",
       "    }\n",
       "</style>\n",
       "<table border=\"1\" class=\"dataframe\">\n",
       "  <thead>\n",
       "    <tr style=\"text-align: right;\">\n",
       "      <th></th>\n",
       "      <th>sepal_length</th>\n",
       "      <th>sepal_width</th>\n",
       "      <th>petal_length</th>\n",
       "      <th>petal_width</th>\n",
       "      <th>species</th>\n",
       "    </tr>\n",
       "  </thead>\n",
       "  <tbody>\n",
       "    <tr>\n",
       "      <th>0</th>\n",
       "      <td>7.0</td>\n",
       "      <td>3.2</td>\n",
       "      <td>4.7</td>\n",
       "      <td>1.4</td>\n",
       "      <td>versicolor</td>\n",
       "    </tr>\n",
       "    <tr>\n",
       "      <th>1</th>\n",
       "      <td>6.4</td>\n",
       "      <td>3.2</td>\n",
       "      <td>4.5</td>\n",
       "      <td>1.5</td>\n",
       "      <td>versicolor</td>\n",
       "    </tr>\n",
       "    <tr>\n",
       "      <th>2</th>\n",
       "      <td>6.9</td>\n",
       "      <td>3.1</td>\n",
       "      <td>4.9</td>\n",
       "      <td>1.5</td>\n",
       "      <td>versicolor</td>\n",
       "    </tr>\n",
       "    <tr>\n",
       "      <th>3</th>\n",
       "      <td>5.5</td>\n",
       "      <td>2.3</td>\n",
       "      <td>4.0</td>\n",
       "      <td>1.3</td>\n",
       "      <td>versicolor</td>\n",
       "    </tr>\n",
       "    <tr>\n",
       "      <th>4</th>\n",
       "      <td>6.5</td>\n",
       "      <td>2.8</td>\n",
       "      <td>4.6</td>\n",
       "      <td>1.5</td>\n",
       "      <td>versicolor</td>\n",
       "    </tr>\n",
       "  </tbody>\n",
       "</table>\n",
       "</div>"
      ],
      "text/plain": [
       "   sepal_length  sepal_width  petal_length  petal_width     species\n",
       "0           7.0          3.2           4.7          1.4  versicolor\n",
       "1           6.4          3.2           4.5          1.5  versicolor\n",
       "2           6.9          3.1           4.9          1.5  versicolor\n",
       "3           5.5          2.3           4.0          1.3  versicolor\n",
       "4           6.5          2.8           4.6          1.5  versicolor"
      ]
     },
     "execution_count": 59,
     "metadata": {
      "tags": []
     },
     "output_type": "execute_result"
    }
   ],
   "source": [
    "iris_versicolor=iris_df[iris_df['species']==\"versicolor\"]\n",
    "iris_versicolor.reset_index(drop=True, inplace=True)\n",
    "iris_versicolor.head()"
   ]
  },
  {
   "cell_type": "code",
   "execution_count": null,
   "metadata": {
    "id": "9TOY5hHuFNzU",
    "outputId": "84d3fdf7-0f9b-48f5-aa6e-5118148d4eb3"
   },
   "outputs": [
    {
     "name": "stdout",
     "output_type": "stream",
     "text": [
      "(15, 5)\n"
     ]
    },
    {
     "data": {
      "text/html": [
       "<div>\n",
       "<style scoped>\n",
       "    .dataframe tbody tr th:only-of-type {\n",
       "        vertical-align: middle;\n",
       "    }\n",
       "\n",
       "    .dataframe tbody tr th {\n",
       "        vertical-align: top;\n",
       "    }\n",
       "\n",
       "    .dataframe thead th {\n",
       "        text-align: right;\n",
       "    }\n",
       "</style>\n",
       "<table border=\"1\" class=\"dataframe\">\n",
       "  <thead>\n",
       "    <tr style=\"text-align: right;\">\n",
       "      <th></th>\n",
       "      <th>sepal_length</th>\n",
       "      <th>sepal_width</th>\n",
       "      <th>petal_length</th>\n",
       "      <th>petal_width</th>\n",
       "      <th>species</th>\n",
       "    </tr>\n",
       "  </thead>\n",
       "  <tbody>\n",
       "    <tr>\n",
       "      <th>6</th>\n",
       "      <td>6.3</td>\n",
       "      <td>3.3</td>\n",
       "      <td>4.7</td>\n",
       "      <td>1.6</td>\n",
       "      <td>versicolor</td>\n",
       "    </tr>\n",
       "    <tr>\n",
       "      <th>45</th>\n",
       "      <td>5.7</td>\n",
       "      <td>3.0</td>\n",
       "      <td>4.2</td>\n",
       "      <td>1.2</td>\n",
       "      <td>versicolor</td>\n",
       "    </tr>\n",
       "    <tr>\n",
       "      <th>48</th>\n",
       "      <td>5.1</td>\n",
       "      <td>2.5</td>\n",
       "      <td>3.0</td>\n",
       "      <td>1.1</td>\n",
       "      <td>versicolor</td>\n",
       "    </tr>\n",
       "    <tr>\n",
       "      <th>38</th>\n",
       "      <td>5.6</td>\n",
       "      <td>3.0</td>\n",
       "      <td>4.1</td>\n",
       "      <td>1.3</td>\n",
       "      <td>versicolor</td>\n",
       "    </tr>\n",
       "    <tr>\n",
       "      <th>32</th>\n",
       "      <td>5.8</td>\n",
       "      <td>2.7</td>\n",
       "      <td>3.9</td>\n",
       "      <td>1.2</td>\n",
       "      <td>versicolor</td>\n",
       "    </tr>\n",
       "  </tbody>\n",
       "</table>\n",
       "</div>"
      ],
      "text/plain": [
       "    sepal_length  sepal_width  petal_length  petal_width     species\n",
       "6            6.3          3.3           4.7          1.6  versicolor\n",
       "45           5.7          3.0           4.2          1.2  versicolor\n",
       "48           5.1          2.5           3.0          1.1  versicolor\n",
       "38           5.6          3.0           4.1          1.3  versicolor\n",
       "32           5.8          2.7           3.9          1.2  versicolor"
      ]
     },
     "execution_count": 62,
     "metadata": {
      "tags": []
     },
     "output_type": "execute_result"
    }
   ],
   "source": [
    "iris_versicolor=iris_versicolor.loc[versicolor_idx]\n",
    "print(iris_versicolor.shape)\n",
    "iris_versicolor.head()"
   ]
  },
  {
   "cell_type": "code",
   "execution_count": null,
   "metadata": {
    "id": "g8SMyE2MFNzW",
    "outputId": "3c3e7dd4-ee17-4a4b-ec47-b41ccbddaa39"
   },
   "outputs": [
    {
     "data": {
      "text/html": [
       "<div>\n",
       "<style scoped>\n",
       "    .dataframe tbody tr th:only-of-type {\n",
       "        vertical-align: middle;\n",
       "    }\n",
       "\n",
       "    .dataframe tbody tr th {\n",
       "        vertical-align: top;\n",
       "    }\n",
       "\n",
       "    .dataframe thead th {\n",
       "        text-align: right;\n",
       "    }\n",
       "</style>\n",
       "<table border=\"1\" class=\"dataframe\">\n",
       "  <thead>\n",
       "    <tr style=\"text-align: right;\">\n",
       "      <th></th>\n",
       "      <th>sepal_length</th>\n",
       "      <th>sepal_width</th>\n",
       "      <th>petal_length</th>\n",
       "      <th>petal_width</th>\n",
       "      <th>species</th>\n",
       "    </tr>\n",
       "  </thead>\n",
       "  <tbody>\n",
       "    <tr>\n",
       "      <th>0</th>\n",
       "      <td>6.3</td>\n",
       "      <td>3.3</td>\n",
       "      <td>6.0</td>\n",
       "      <td>2.5</td>\n",
       "      <td>virginica</td>\n",
       "    </tr>\n",
       "    <tr>\n",
       "      <th>1</th>\n",
       "      <td>5.8</td>\n",
       "      <td>2.7</td>\n",
       "      <td>5.1</td>\n",
       "      <td>1.9</td>\n",
       "      <td>virginica</td>\n",
       "    </tr>\n",
       "    <tr>\n",
       "      <th>2</th>\n",
       "      <td>7.1</td>\n",
       "      <td>3.0</td>\n",
       "      <td>5.9</td>\n",
       "      <td>2.1</td>\n",
       "      <td>virginica</td>\n",
       "    </tr>\n",
       "    <tr>\n",
       "      <th>3</th>\n",
       "      <td>6.3</td>\n",
       "      <td>2.9</td>\n",
       "      <td>5.6</td>\n",
       "      <td>1.8</td>\n",
       "      <td>virginica</td>\n",
       "    </tr>\n",
       "    <tr>\n",
       "      <th>4</th>\n",
       "      <td>6.5</td>\n",
       "      <td>3.0</td>\n",
       "      <td>5.8</td>\n",
       "      <td>2.2</td>\n",
       "      <td>virginica</td>\n",
       "    </tr>\n",
       "  </tbody>\n",
       "</table>\n",
       "</div>"
      ],
      "text/plain": [
       "   sepal_length  sepal_width  petal_length  petal_width    species\n",
       "0           6.3          3.3           6.0          2.5  virginica\n",
       "1           5.8          2.7           5.1          1.9  virginica\n",
       "2           7.1          3.0           5.9          2.1  virginica\n",
       "3           6.3          2.9           5.6          1.8  virginica\n",
       "4           6.5          3.0           5.8          2.2  virginica"
      ]
     },
     "execution_count": 63,
     "metadata": {
      "tags": []
     },
     "output_type": "execute_result"
    }
   ],
   "source": [
    "iris_virginica=iris_df[iris_df['species']==\"virginica\"]\n",
    "iris_virginica.reset_index(drop=True, inplace=True)\n",
    "iris_virginica.head()"
   ]
  },
  {
   "cell_type": "code",
   "execution_count": null,
   "metadata": {
    "id": "kHLmlPrUFNzX",
    "outputId": "4ae24625-93a6-4453-80fd-92a1fbebef50"
   },
   "outputs": [
    {
     "name": "stdout",
     "output_type": "stream",
     "text": [
      "(15, 5)\n"
     ]
    },
    {
     "data": {
      "text/html": [
       "<div>\n",
       "<style scoped>\n",
       "    .dataframe tbody tr th:only-of-type {\n",
       "        vertical-align: middle;\n",
       "    }\n",
       "\n",
       "    .dataframe tbody tr th {\n",
       "        vertical-align: top;\n",
       "    }\n",
       "\n",
       "    .dataframe thead th {\n",
       "        text-align: right;\n",
       "    }\n",
       "</style>\n",
       "<table border=\"1\" class=\"dataframe\">\n",
       "  <thead>\n",
       "    <tr style=\"text-align: right;\">\n",
       "      <th></th>\n",
       "      <th>sepal_length</th>\n",
       "      <th>sepal_width</th>\n",
       "      <th>petal_length</th>\n",
       "      <th>petal_width</th>\n",
       "      <th>species</th>\n",
       "    </tr>\n",
       "  </thead>\n",
       "  <tbody>\n",
       "    <tr>\n",
       "      <th>13</th>\n",
       "      <td>5.7</td>\n",
       "      <td>2.5</td>\n",
       "      <td>5.0</td>\n",
       "      <td>2.0</td>\n",
       "      <td>virginica</td>\n",
       "    </tr>\n",
       "    <tr>\n",
       "      <th>43</th>\n",
       "      <td>6.8</td>\n",
       "      <td>3.2</td>\n",
       "      <td>5.9</td>\n",
       "      <td>2.3</td>\n",
       "      <td>virginica</td>\n",
       "    </tr>\n",
       "    <tr>\n",
       "      <th>14</th>\n",
       "      <td>5.8</td>\n",
       "      <td>2.8</td>\n",
       "      <td>5.1</td>\n",
       "      <td>2.4</td>\n",
       "      <td>virginica</td>\n",
       "    </tr>\n",
       "    <tr>\n",
       "      <th>44</th>\n",
       "      <td>6.7</td>\n",
       "      <td>3.3</td>\n",
       "      <td>5.7</td>\n",
       "      <td>2.5</td>\n",
       "      <td>virginica</td>\n",
       "    </tr>\n",
       "    <tr>\n",
       "      <th>37</th>\n",
       "      <td>6.4</td>\n",
       "      <td>3.1</td>\n",
       "      <td>5.5</td>\n",
       "      <td>1.8</td>\n",
       "      <td>virginica</td>\n",
       "    </tr>\n",
       "  </tbody>\n",
       "</table>\n",
       "</div>"
      ],
      "text/plain": [
       "    sepal_length  sepal_width  petal_length  petal_width    species\n",
       "13           5.7          2.5           5.0          2.0  virginica\n",
       "43           6.8          3.2           5.9          2.3  virginica\n",
       "14           5.8          2.8           5.1          2.4  virginica\n",
       "44           6.7          3.3           5.7          2.5  virginica\n",
       "37           6.4          3.1           5.5          1.8  virginica"
      ]
     },
     "execution_count": 64,
     "metadata": {
      "tags": []
     },
     "output_type": "execute_result"
    }
   ],
   "source": [
    "iris_virginica=iris_virginica.loc[virginica_idx]\n",
    "print(iris_virginica.shape)\n",
    "iris_virginica.head()"
   ]
  },
  {
   "cell_type": "markdown",
   "metadata": {
    "id": "gU_GDG0_FNzc"
   },
   "source": [
    "### 2장. T-검정(T-Test)\n",
    "\n",
    "\n",
    "#### 1절 | 일표본 T-검정(One Sample T-Test) \n",
    " * 일표본 T-검정의 가정: 정규성\n",
    "\n",
    "Question 3) MASS패키지의 cats 데이터는 고양이들의 성별(Sex 변수),    \n",
    "몸무게(Bwt 변수), 심장의 무게(Hwt 변수)를 담고있다.    \n",
    "cats 데이터에서 고양이들의 평균몸무게가 2.6kg인지 아닌지에 대한   \n",
    "통계적 검정을 수행하고, 결과를 해석해보자.   "
   ]
  },
  {
   "cell_type": "code",
   "execution_count": 19,
   "metadata": {
    "id": "ct_0nkbBFNzd",
    "outputId": "9bc4eb4d-38a1-4a84-d9bf-170f1902032f"
   },
   "outputs": [
    {
     "data": {
      "text/html": [
       "<div>\n",
       "<style scoped>\n",
       "    .dataframe tbody tr th:only-of-type {\n",
       "        vertical-align: middle;\n",
       "    }\n",
       "\n",
       "    .dataframe tbody tr th {\n",
       "        vertical-align: top;\n",
       "    }\n",
       "\n",
       "    .dataframe thead th {\n",
       "        text-align: right;\n",
       "    }\n",
       "</style>\n",
       "<table border=\"1\" class=\"dataframe\">\n",
       "  <thead>\n",
       "    <tr style=\"text-align: right;\">\n",
       "      <th></th>\n",
       "      <th>Sex</th>\n",
       "      <th>Bwt</th>\n",
       "      <th>Hwt</th>\n",
       "    </tr>\n",
       "  </thead>\n",
       "  <tbody>\n",
       "    <tr>\n",
       "      <th>0</th>\n",
       "      <td>F</td>\n",
       "      <td>2.0</td>\n",
       "      <td>7.0</td>\n",
       "    </tr>\n",
       "    <tr>\n",
       "      <th>1</th>\n",
       "      <td>F</td>\n",
       "      <td>2.0</td>\n",
       "      <td>7.4</td>\n",
       "    </tr>\n",
       "    <tr>\n",
       "      <th>2</th>\n",
       "      <td>F</td>\n",
       "      <td>2.0</td>\n",
       "      <td>9.5</td>\n",
       "    </tr>\n",
       "    <tr>\n",
       "      <th>3</th>\n",
       "      <td>F</td>\n",
       "      <td>2.1</td>\n",
       "      <td>7.2</td>\n",
       "    </tr>\n",
       "    <tr>\n",
       "      <th>4</th>\n",
       "      <td>F</td>\n",
       "      <td>2.1</td>\n",
       "      <td>7.3</td>\n",
       "    </tr>\n",
       "  </tbody>\n",
       "</table>\n",
       "</div>"
      ],
      "text/plain": [
       "  Sex  Bwt  Hwt\n",
       "0   F  2.0  7.0\n",
       "1   F  2.0  7.4\n",
       "2   F  2.0  9.5\n",
       "3   F  2.1  7.2\n",
       "4   F  2.1  7.3"
      ]
     },
     "execution_count": 19,
     "metadata": {},
     "output_type": "execute_result"
    }
   ],
   "source": [
    "import pandas as pd \n",
    "cats_df=pd.read_csv(r'C:\\ISLR-python-master\\Notebooks\\Data\\cats.csv')\n",
    "cats_df.head()"
   ]
  },
  {
   "cell_type": "code",
   "execution_count": 20,
   "metadata": {
    "id": "_Yhvg4JCFNzf"
   },
   "outputs": [],
   "source": [
    "from scipy import stats\n",
    "import seaborn as sns\n",
    "import matplotlib.pyplot as plt"
   ]
  },
  {
   "cell_type": "code",
   "execution_count": 21,
   "metadata": {
    "id": "FdE15iGRFNzg",
    "outputId": "4c603375-8683-4c35-d9ef-c5f315d257ab"
   },
   "outputs": [
    {
     "data": {
      "text/plain": [
       "<matplotlib.axes._subplots.AxesSubplot at 0x1ebba8b1430>"
      ]
     },
     "execution_count": 21,
     "metadata": {},
     "output_type": "execute_result"
    },
    {
     "data": {
      "image/png": "[encoded data removed]",
      "text/plain": [
       "<Figure size 432x288 with 1 Axes>"
      ]
     },
     "metadata": {
      "needs_background": "light"
     },
     "output_type": "display_data"
    }
   ],
   "source": [
    "#1. 정규성 검정: Shapiro–Wilk test \n",
    "sns.kdeplot(data=cats_df, x=\"Bwt\")"
   ]
  },
  {
   "cell_type": "code",
   "execution_count": 22,
   "metadata": {
    "id": "hu7b0w-XFNzh",
    "outputId": "7b14ba29-0fe1-47c4-acc9-b9c95cf9689c"
   },
   "outputs": [
    {
     "name": "stdout",
     "output_type": "stream",
     "text": [
      "0.000\n"
     ]
    }
   ],
   "source": [
    "print('%.3f' %stats.shapiro(cats_df['Bwt']).pvalue)"
   ]
  },
  {
   "cell_type": "code",
   "execution_count": 23,
   "metadata": {
    "id": "DJS_67lNFNzi",
    "outputId": "a3050a72-3747-4bd4-fa16-46def054fa7f"
   },
   "outputs": [
    {
     "data": {
      "image/png": "[encoded data removed]",
      "text/plain": [
       "<Figure size 432x288 with 1 Axes>"
      ]
     },
     "metadata": {
      "needs_background": "light"
     },
     "output_type": "display_data"
    }
   ],
   "source": [
    "fig=plt.figure()\n",
    "stats.probplot(cats_df['Bwt'], plot=plt)\n",
    "plt.show()"
   ]
  },
  {
   "cell_type": "markdown",
   "metadata": {
    "id": "QYfK9KqQFNzj"
   },
   "source": [
    "결과해석: Shapiro–Wilk test 결과,    \n",
    "          Bwt 변수가 normal distribution을 따르고 있다는 영가설을 기각할 확률이 p<0.001이므로, Bwt 변수는 정규분포를 따르지 않는다.           "
   ]
  },
  {
   "cell_type": "code",
   "execution_count": 25,
   "metadata": {
    "id": "2R7eGMAMFNzk"
   },
   "outputs": [],
   "source": [
    "#2. t-test: One sample t-test (정규성 만족할 경우)\n",
    "question3_result=stats.ttest_1samp(cats_df['Bwt'], 2.6)"
   ]
  },
  {
   "cell_type": "code",
   "execution_count": 26,
   "metadata": {
    "id": "0wIOC-n_FNzk",
    "outputId": "93c6669d-5c15-41ba-a59a-c7e96a19290a"
   },
   "outputs": [
    {
     "data": {
      "text/plain": [
       "3.0564867998078107"
      ]
     },
     "execution_count": 26,
     "metadata": {},
     "output_type": "execute_result"
    }
   ],
   "source": [
    "question3_result.statistic"
   ]
  },
  {
   "cell_type": "code",
   "execution_count": 27,
   "metadata": {
    "id": "eHmjUfGcFNzl",
    "outputId": "9f71c574-0d0c-47d3-ba77-8048aafa31e9"
   },
   "outputs": [
    {
     "data": {
      "text/plain": [
       "0.0026730362561723613"
      ]
     },
     "execution_count": 27,
     "metadata": {},
     "output_type": "execute_result"
    }
   ],
   "source": [
    "question3_result.pvalue"
   ]
  },
  {
   "cell_type": "code",
   "execution_count": 28,
   "metadata": {
    "id": "xKLwUBOjFNzm",
    "outputId": "652a13cf-2bd1-4be8-f991-d987842a99a6"
   },
   "outputs": [
    {
     "name": "stdout",
     "output_type": "stream",
     "text": [
      "The T-statistic is 3.056 and the p-value is 0.003\n"
     ]
    }
   ],
   "source": [
    "print(\"The T-statistic is %.3f and the p-value is %.3f\" % question3_result)"
   ]
  },
  {
   "cell_type": "markdown",
   "metadata": {
    "id": "-pnl3w5pFNzm"
   },
   "source": [
    "결과 해석: one-sample t-test 결과,    \n",
    "고양이들의 몸무게가 2.6kg라는 영가설을 기각할 확률이 p=0.003이므로, 고양이들의 평균 몸무게는 2.6kg가 아니다. "
   ]
  },
  {
   "cell_type": "code",
   "execution_count": 29,
   "metadata": {},
   "outputs": [],
   "source": [
    "# 3. Wilcoxon Signed Rank (정규성 만족하지 않을 경우)\n",
    ": null hypothesis that two related paired samples come from the same distribution\n",
    "from scipy.stats import wilcoxon"
   ]
  },
  {
   "cell_type": "code",
   "execution_count": 31,
   "metadata": {},
   "outputs": [
    {
     "name": "stdout",
     "output_type": "stream",
     "text": [
      "The T-statistic is 3.056 and the p-value is 0.003\n"
     ]
    }
   ],
   "source": [
    "question3_result_r=stats.wilcoxon(cats_df['Bwt']-2.6)\n",
    "print(\"The T-statistic is %.3f and the p-value is %.3f\" % question3_result)"
   ]
  },
  {
   "cell_type": "markdown",
   "metadata": {},
   "source": [
    "결과해석: one sample Wilcoxon Signed Rank test 결과,    \n",
    "고양이들의 몸무게가 2.6kg라는 영가설을 기각할 확률이 p=0.003이므로, 고양이들의 평균 몸무게는 2.6kg가 아니다."
   ]
  },
  {
   "cell_type": "markdown",
   "metadata": {
    "id": "oKifXWGbFNzn"
   },
   "source": [
    "#### 2절 | 대응표본 T-검정(Paired Sample T-Test)\n",
    "\n",
    "* 대응표본 T-검정의 가정: 정규성\n",
    "\n",
    "Question 4) 10명의 환자를 대상으로 수면영양제를 복용하기 전과 후의 수면시간을 측정하여    \n",
    "영양제의 효과가 있는지를 판단하고자 한다.    \n",
    "영양제 복용 전과 후의 평균 수면시간에 차이가 있는지를 알아보는데,    \n",
    "단측검정을 수행하여 영양제 복용 후에 수면시간이 더 늘어났는지를 검정해보자.    \n",
    "수면영양제를 복용하기 전과 후의 수면시간은 아래에 제시된 바와 같다.    \n",
    "(표본이 정규성을 만족한다는 가정 하에 단측검정 수행, 유의수준 = 0.05)   "
   ]
  },
  {
   "cell_type": "code",
   "execution_count": 32,
   "metadata": {
    "colab": {
     "base_uri": "https://localhost:8080/",
     "height": 192
    },
    "id": "YYR_J0YyFNzn",
    "outputId": "5bc5f776-ca69-42e3-e308-d2926cdc6734"
   },
   "outputs": [],
   "source": [
    "import pandas as pd\n",
    "data = pd.DataFrame({'before': [7, 3, 4, 5, 2, 1, 6, 6, 5, 4],\n",
    "                     'after' :[8, 4, 5, 6, 2, 3, 6, 8, 6, 5]})"
   ]
  },
  {
   "cell_type": "code",
   "execution_count": 37,
   "metadata": {},
   "outputs": [
    {
     "name": "stdout",
     "output_type": "stream",
     "text": [
      "0.835\n",
      "0.618\n"
     ]
    }
   ],
   "source": [
    "# assumtion: 정규성\n",
    "print('%.3f' %stats.shapiro(data['before']).pvalue)\n",
    "print('%.3f' %stats.shapiro(data['after']).pvalue)"
   ]
  },
  {
   "cell_type": "code",
   "execution_count": 39,
   "metadata": {},
   "outputs": [
    {
     "data": {
      "text/plain": [
       "<matplotlib.axes._subplots.AxesSubplot at 0x1ebbaaa5c70>"
      ]
     },
     "execution_count": 39,
     "metadata": {},
     "output_type": "execute_result"
    },
    {
     "data": {
      "image/png": "[encoded data removed]",
      "text/plain": [
       "<Figure size 432x288 with 1 Axes>"
      ]
     },
     "metadata": {
      "needs_background": "light"
     },
     "output_type": "display_data"
    }
   ],
   "source": [
    "sns.kdeplot(data['before'])"
   ]
  },
  {
   "cell_type": "code",
   "execution_count": 40,
   "metadata": {},
   "outputs": [
    {
     "data": {
      "text/plain": [
       "<matplotlib.axes._subplots.AxesSubplot at 0x1ebbab14be0>"
      ]
     },
     "execution_count": 40,
     "metadata": {},
     "output_type": "execute_result"
    },
    {
     "data": {
      "image/png": "[encoded data removed]",
      "text/plain": [
       "<Figure size 432x288 with 1 Axes>"
      ]
     },
     "metadata": {
      "needs_background": "light"
     },
     "output_type": "display_data"
    }
   ],
   "source": [
    "sns.kdeplot(data['after'])"
   ]
  },
  {
   "cell_type": "code",
   "execution_count": 3,
   "metadata": {
    "id": "pZDdDxYjFNzo"
   },
   "outputs": [],
   "source": [
    "from scipy import stats\n",
    "question4_result=stats.ttest_rel(data['before'], data['after'])"
   ]
  },
  {
   "cell_type": "code",
   "execution_count": 33,
   "metadata": {
    "id": "_FKsv3oGFNzo"
   },
   "outputs": [
    {
     "name": "stdout",
     "output_type": "stream",
     "text": [
      "-4.743416490252569\n",
      "0.0010538712570165528\n"
     ]
    }
   ],
   "source": [
    "print(question4_result.statistic)\n",
    "print(question4_result.pvalue)"
   ]
  },
  {
   "cell_type": "code",
   "execution_count": 34,
   "metadata": {
    "id": "HD0YPsTeFNzp"
   },
   "outputs": [
    {
     "name": "stdout",
     "output_type": "stream",
     "text": [
      "The T-statistic is -4.743 and the p-value is 0.001\n"
     ]
    }
   ],
   "source": [
    "print(\"The T-statistic is %.3f and the p-value is %.3f\" % question4_result)"
   ]
  },
  {
   "cell_type": "markdown",
   "metadata": {
    "id": "QSIbOXvTFNzp"
   },
   "source": [
    "결과 해석: Paired t-test 결과,   \n",
    "수면 영양제 복용 전후 차이가 없다는 영가설을 기각할 확률이 p=0.001이므로, 수면영양제 복용 전후는 차이가 있다. "
   ]
  },
  {
   "cell_type": "markdown",
   "metadata": {
    "id": "szmbgpsLFNzq"
   },
   "source": [
    "#### 3절 | 독립표본 T-검정( two sample t-test)\n",
    "\n",
    "* 독립표본 T-검정의 가정: 정규성, 독립성, 등분산성\n",
    "\n",
    "Question 5) MASS패키지의 cats 데이터는 고양이들의 성별(Sex 변수), 몸무게(Bwt 변수),    \n",
    "심장의 무게(Hwt 변수)를 담고있다. 고양이들의 성별(Sex)에 따른 몸무게(Bwt)의 평균은    \n",
    "통계적으로 다르다고 할 수 있는지에 대한 검정을 수행하고, 결과를 해석해보자. \n",
    "\n",
    "검정을 수행하기에 앞서 설정할 수 있는 가설은 아래와 같다.\n",
    "* 귀무가설 : 고양이의 성별에 따른 평균 몸무게에는 통계적으로 유의한 차이가 없다.\n",
    "* 대립가설 : 고양이의 성별에 따른 평균 몸무게에는 통계적으로 유의한 차이가 있다.\n"
   ]
  },
  {
   "cell_type": "code",
   "execution_count": 8,
   "metadata": {
    "id": "0KYmBTaNFNzq"
   },
   "outputs": [],
   "source": [
    "# 가정1. 등분산성 \n",
    "Levene_result=stats.levene(cats_df[cats_df['Sex']=='F']['Bwt'], cats_df[cats_df['Sex']=='M']['Bwt'])"
   ]
  },
  {
   "cell_type": "code",
   "execution_count": 9,
   "metadata": {
    "id": "TihKrdIBFNzr",
    "outputId": "c1dcb37e-8a42-4a74-c1a8-f6f6de98e4c6"
   },
   "outputs": [
    {
     "name": "stdout",
     "output_type": "stream",
     "text": [
      "The Statistic is 19.431 and the p-value is 0.000\n"
     ]
    }
   ],
   "source": [
    "print(\"The Statistic is %.3f and the p-value is %.3f\" % Levene_result)"
   ]
  },
  {
   "cell_type": "markdown",
   "metadata": {
    "id": "SMpmEtEZFNzs"
   },
   "source": [
    "결과해석: Levene test 결과 두 data의 등분산을 가정하는 영가설을 기각하는 확률이 p<0.001이므로, 두 data는 이분산이다. "
   ]
  },
  {
   "cell_type": "code",
   "execution_count": 43,
   "metadata": {},
   "outputs": [],
   "source": [
    "# two sample t-test (등분산성, 정규성 모두 만족)\n",
    "question5_result= stats.ttest_ind(cats_df[cats_df['Sex']=='F']['Bwt'], cats_df[cats_df['Sex']=='M']['Bwt'])"
   ]
  },
  {
   "cell_type": "code",
   "execution_count": 49,
   "metadata": {},
   "outputs": [
    {
     "name": "stdout",
     "output_type": "stream",
     "text": [
      "-7.330666826537409\n",
      "1.590445378625505e-11\n",
      "The T-statistic is -7.331 and the p-value is 0.000\n"
     ]
    }
   ],
   "source": [
    "print(question5_result.statistic)\n",
    "print(question5_result.pvalue)\n",
    "print(\"The T-statistic is %.3f and the p-value is %.3f\" % question5_result)"
   ]
  },
  {
   "cell_type": "code",
   "execution_count": 44,
   "metadata": {
    "id": "pZoJ2s8WFNzs"
   },
   "outputs": [],
   "source": [
    "# Welch-test (등분산성을 만족하지 않을 때)\n",
    "question5_result2= stats.ttest_ind(cats_df[cats_df['Sex']=='F']['Bwt'], cats_df[cats_df['Sex']=='M']['Bwt'], equal_var=False)"
   ]
  },
  {
   "cell_type": "code",
   "execution_count": 46,
   "metadata": {
    "id": "h_AaIrTdFNzs",
    "outputId": "8b7873e1-019f-4294-8b71-424f53befae7"
   },
   "outputs": [
    {
     "name": "stdout",
     "output_type": "stream",
     "text": [
      "-8.70948849909559\n",
      "8.831034455859356e-15\n",
      "The T-statistic is -8.709 and the p-value is 0.000\n"
     ]
    }
   ],
   "source": [
    "print(question5_result2.statistic)\n",
    "print(question5_result2.pvalue)\n",
    "print(\"The T-statistic is %.3f and the p-value is %.3f\" % question5_result2)"
   ]
  },
  {
   "cell_type": "markdown",
   "metadata": {
    "id": "hlWROHj9FNzt"
   },
   "source": [
    "결과 해석: (이분산이 가정된) Independent t-test 결과,   \n",
    "성별에 따른 몸무게 차이가 없다는 영가설을 기각할 확률이 p<0.001이므로, 성별에 다른 몸무게 차이가 있다. "
   ]
  },
  {
   "cell_type": "code",
   "execution_count": 47,
   "metadata": {},
   "outputs": [],
   "source": [
    "# ranksum test (정규성도 불만족, 등분산성도 불만족)\n",
    "from scipy.stats import ranksums\n",
    "question5_result3=ranksums(cats_df[cats_df['Sex']=='F']['Bwt'], cats_df[cats_df['Sex']=='M']['Bwt'])"
   ]
  },
  {
   "cell_type": "code",
   "execution_count": 48,
   "metadata": {},
   "outputs": [
    {
     "name": "stdout",
     "output_type": "stream",
     "text": [
      "-6.484649068728496\n",
      "8.893855174450822e-11\n",
      "The T-statistic is -6.485 and the p-value is 0.000\n"
     ]
    }
   ],
   "source": [
    "print(question5_result3.statistic)\n",
    "print(question5_result3.pvalue)\n",
    "print(\"The T-statistic is %.3f and the p-value is %.3f\" % question5_result3)"
   ]
  },
  {
   "cell_type": "code",
   "execution_count": 50,
   "metadata": {},
   "outputs": [],
   "source": [
    "# Mann-Whitney test (정규성도 불만족, 등분산성도 불만족)\n",
    "\n",
    "from scipy.stats import mannwhitneyu\n",
    "question5_result4=mannwhitneyu(cats_df[cats_df['Sex']=='F']['Bwt'], cats_df[cats_df['Sex']=='M']['Bwt'])"
   ]
  },
  {
   "cell_type": "code",
   "execution_count": 51,
   "metadata": {},
   "outputs": [
    {
     "name": "stdout",
     "output_type": "stream",
     "text": [
      "757.5\n",
      "4.100251117160876e-11\n",
      "The T-statistic is 757.500 and the p-value is 0.000\n"
     ]
    }
   ],
   "source": [
    "print(question5_result4.statistic)\n",
    "print(question5_result4.pvalue)\n",
    "print(\"The T-statistic is %.3f and the p-value is %.3f\" % question5_result4)"
   ]
  },
  {
   "cell_type": "markdown",
   "metadata": {},
   "source": [
    "결과 해석: 등분산성이 만족이 안되었을 때 수행하는 비모수 통계 기법인   \n",
    "Mann-Whitney test의 결과는 ttest의 equal_var=False option을 사용했을 때와 동일하다. "
   ]
  },
  {
   "cell_type": "markdown",
   "metadata": {
    "id": "AQPXrYbPFNzx"
   },
   "source": [
    "### 3장. 교차분석\n",
    "\n",
    "\n",
    "#### 2절 | 적합성 검정(goodness fo fit test)\n",
    "개념: 범주형 변수에 대해 관측된 데이터의 범주별 비율이 모집단의 범주별 비율과 같은지 검증(≒one sample t-test)   \n",
    "주어진 데이터가 특정 예상되는 분포와 동일한 분포를 나타내는지\n",
    "\n",
    "영가설: 기대치의 분포는 관찰치의 분포와 차이가 없다. \n",
    "\n",
    "Question 6) MASS 패키지의 survey 데이터에서 W.Hnd 변수는 설문 응답자가    \n",
    "왼손잡이(Left) 인지 오른손잡이(Right) 인지를 나타낸다.    \n",
    "R을 이용하여 W.Hnd 변수에 대한 분할표를 생성하고, 아래와 같은 가설에 대한 적합도 검정을 수행해보자.\n",
    "\n",
    "* 귀무가설 : 전체 응답자 중 왼손잡이의 비율이 20%, 오른손잡이의 비율이 80%이다.\n",
    "* 대립가설 : 전체 응답자 중 왼손잡이의 비율이 20%, 오른손잡이의 비율이 80%라고 할 수 없다."
   ]
  },
  {
   "cell_type": "code",
   "execution_count": null,
   "metadata": {
    "id": "zyltJb6KFNzy",
    "outputId": "ad497a7f-9f85-4b22-f833-961ddb814f7d"
   },
   "outputs": [
    {
     "data": {
      "text/html": [
       "<div>\n",
       "<style scoped>\n",
       "    .dataframe tbody tr th:only-of-type {\n",
       "        vertical-align: middle;\n",
       "    }\n",
       "\n",
       "    .dataframe tbody tr th {\n",
       "        vertical-align: top;\n",
       "    }\n",
       "\n",
       "    .dataframe thead th {\n",
       "        text-align: right;\n",
       "    }\n",
       "</style>\n",
       "<table border=\"1\" class=\"dataframe\">\n",
       "  <thead>\n",
       "    <tr style=\"text-align: right;\">\n",
       "      <th></th>\n",
       "      <th>Sex</th>\n",
       "      <th>Wr.Hnd</th>\n",
       "      <th>NW.Hnd</th>\n",
       "      <th>W.Hnd</th>\n",
       "      <th>Fold</th>\n",
       "      <th>Pulse</th>\n",
       "      <th>Clap</th>\n",
       "      <th>Exer</th>\n",
       "      <th>Smoke</th>\n",
       "      <th>Height</th>\n",
       "      <th>M.I</th>\n",
       "      <th>Age</th>\n",
       "    </tr>\n",
       "  </thead>\n",
       "  <tbody>\n",
       "    <tr>\n",
       "      <th>0</th>\n",
       "      <td>Female</td>\n",
       "      <td>18.5</td>\n",
       "      <td>18.0</td>\n",
       "      <td>Right</td>\n",
       "      <td>R on L</td>\n",
       "      <td>92.0</td>\n",
       "      <td>Left</td>\n",
       "      <td>Some</td>\n",
       "      <td>Never</td>\n",
       "      <td>173.0</td>\n",
       "      <td>Metric</td>\n",
       "      <td>18.250</td>\n",
       "    </tr>\n",
       "    <tr>\n",
       "      <th>1</th>\n",
       "      <td>Male</td>\n",
       "      <td>19.5</td>\n",
       "      <td>20.5</td>\n",
       "      <td>Left</td>\n",
       "      <td>R on L</td>\n",
       "      <td>104.0</td>\n",
       "      <td>Left</td>\n",
       "      <td>None</td>\n",
       "      <td>Regul</td>\n",
       "      <td>177.8</td>\n",
       "      <td>Imperial</td>\n",
       "      <td>17.583</td>\n",
       "    </tr>\n",
       "    <tr>\n",
       "      <th>2</th>\n",
       "      <td>Male</td>\n",
       "      <td>18.0</td>\n",
       "      <td>13.3</td>\n",
       "      <td>Right</td>\n",
       "      <td>L on R</td>\n",
       "      <td>87.0</td>\n",
       "      <td>Neither</td>\n",
       "      <td>None</td>\n",
       "      <td>Occas</td>\n",
       "      <td>NaN</td>\n",
       "      <td>NaN</td>\n",
       "      <td>16.917</td>\n",
       "    </tr>\n",
       "    <tr>\n",
       "      <th>3</th>\n",
       "      <td>Male</td>\n",
       "      <td>18.8</td>\n",
       "      <td>18.9</td>\n",
       "      <td>Right</td>\n",
       "      <td>R on L</td>\n",
       "      <td>NaN</td>\n",
       "      <td>Neither</td>\n",
       "      <td>None</td>\n",
       "      <td>Never</td>\n",
       "      <td>160.0</td>\n",
       "      <td>Metric</td>\n",
       "      <td>20.333</td>\n",
       "    </tr>\n",
       "    <tr>\n",
       "      <th>4</th>\n",
       "      <td>Male</td>\n",
       "      <td>20.0</td>\n",
       "      <td>20.0</td>\n",
       "      <td>Right</td>\n",
       "      <td>Neither</td>\n",
       "      <td>35.0</td>\n",
       "      <td>Right</td>\n",
       "      <td>Some</td>\n",
       "      <td>Never</td>\n",
       "      <td>165.0</td>\n",
       "      <td>Metric</td>\n",
       "      <td>23.667</td>\n",
       "    </tr>\n",
       "  </tbody>\n",
       "</table>\n",
       "</div>"
      ],
      "text/plain": [
       "      Sex  Wr.Hnd  NW.Hnd  W.Hnd     Fold  Pulse     Clap  Exer  Smoke  \\\n",
       "0  Female    18.5    18.0  Right   R on L   92.0     Left  Some  Never   \n",
       "1    Male    19.5    20.5   Left   R on L  104.0     Left  None  Regul   \n",
       "2    Male    18.0    13.3  Right   L on R   87.0  Neither  None  Occas   \n",
       "3    Male    18.8    18.9  Right   R on L    NaN  Neither  None  Never   \n",
       "4    Male    20.0    20.0  Right  Neither   35.0    Right  Some  Never   \n",
       "\n",
       "   Height       M.I     Age  \n",
       "0   173.0    Metric  18.250  \n",
       "1   177.8  Imperial  17.583  \n",
       "2     NaN       NaN  16.917  \n",
       "3   160.0    Metric  20.333  \n",
       "4   165.0    Metric  23.667  "
      ]
     },
     "execution_count": 14,
     "metadata": {
      "tags": []
     },
     "output_type": "execute_result"
    }
   ],
   "source": [
    "import pandas as pd \n",
    "survey_df=pd.read_csv(r'C:\\ISLR-python-master\\Notebooks\\Data\\survey.csv')\n",
    "survey_df.head()"
   ]
  },
  {
   "cell_type": "code",
   "execution_count": null,
   "metadata": {
    "id": "qDFm4dKlFNzy",
    "outputId": "3dbc49a9-5ede-46f8-bf09-5437a71609c9"
   },
   "outputs": [
    {
     "data": {
      "text/plain": [
       "[218, 18]"
      ]
     },
     "execution_count": 22,
     "metadata": {
      "tags": []
     },
     "output_type": "execute_result"
    }
   ],
   "source": [
    "observed_q6=list(survey_df['W.Hnd'].value_counts())\n",
    "observed_q6"
   ]
  },
  {
   "cell_type": "code",
   "execution_count": null,
   "metadata": {
    "id": "-BGh42WuFNzz"
   },
   "outputs": [],
   "source": [
    "expected_q6=[0.8, 0.2]"
   ]
  },
  {
   "cell_type": "code",
   "execution_count": null,
   "metadata": {
    "id": "SZjlJMJnFNzz"
   },
   "outputs": [],
   "source": [
    "question6_result=stats.chisquare(observed_q6, expected_q6)"
   ]
  },
  {
   "cell_type": "code",
   "execution_count": null,
   "metadata": {
    "id": "xb83jg5vFNzz",
    "outputId": "bda613f2-368f-4426-814e-6694dc46795c"
   },
   "outputs": [
    {
     "name": "stdout",
     "output_type": "stream",
     "text": [
      "The Statistic is 60554.000 and the p-value is 0.000\n"
     ]
    }
   ],
   "source": [
    "print(\"The Statistic is %.3f and the p-value is %.3f\" % question6_result)"
   ]
  },
  {
   "cell_type": "markdown",
   "metadata": {
    "id": "3H22MbiLFNz0"
   },
   "source": [
    "결과 해석: 일원 카이제곱 검정 결과,    \n",
    "전체 응답자 중 왼손잡이의 비율이 20%, 오른손잡이의 비율이 80%이라는 영가설을 기각할 확률이 p<0.001이므로,      \n",
    "대립가설이 채택되어 전체 응답자 중 왼손잡이의 비율이 20%, 오른손잡이의 비율이 80%라고 할 수 없다."
   ]
  },
  {
   "cell_type": "markdown",
   "metadata": {
    "id": "67q1r7WRFNz0"
   },
   "source": [
    "#### 3절 | 독립성 검정\n",
    "\n",
    "개념: 동일 집단의 두 변인을 대상으로 관련성이 있는지(독립인지 아닌지) 여부를 판단하는\n",
    "\n",
    "영가설: 변인1과 변인2는 관련성이 없다. \n",
    "\n",
    "Question 7) MASS 패키지의 survey 데이터에서 Exer 변수는 설문 응답자가    \n",
    "얼마나 자주 운동을 하는지에 대해 Freq(자주), Some(약간), None(하지 않음)의 범주로 값을 저장하고 있다.   \n",
    "W.Hnd 변수는 설문 응답자가 왼손잡이인지 오른손 잡이인지에 대해       \n",
    "Left(왼손잡이), Right(오른손 잡이)의 두 가지 범주로 값을 가지고 있다.    \n",
    "주로 사용하는 손과 운동의 빈도가 서로 독립인지를 확인하기 위해 분할표를 생성하고,    \n",
    "아래의 가설에 대한 독립성 검정을 수행해보자.   \n",
    "\n",
    "* 귀무가설 : W.Hnd(주로 사용하는 손)과 Exer(운동 빈도)는 독립이다.\n",
    "* 대립가설 : W.Hnd(주로 사용하는 손)과 Exer(운동 빈도)는 독립이 아니다."
   ]
  },
  {
   "cell_type": "code",
   "execution_count": null,
   "metadata": {
    "id": "pL-CbbGzFNz0",
    "outputId": "8042a3ac-bba8-4682-cf32-79d15b6c55b8"
   },
   "outputs": [
    {
     "data": {
      "text/html": [
       "<div>\n",
       "<style scoped>\n",
       "    .dataframe tbody tr th:only-of-type {\n",
       "        vertical-align: middle;\n",
       "    }\n",
       "\n",
       "    .dataframe tbody tr th {\n",
       "        vertical-align: top;\n",
       "    }\n",
       "\n",
       "    .dataframe thead th {\n",
       "        text-align: right;\n",
       "    }\n",
       "</style>\n",
       "<table border=\"1\" class=\"dataframe\">\n",
       "  <thead>\n",
       "    <tr style=\"text-align: right;\">\n",
       "      <th>Exer</th>\n",
       "      <th>Freq</th>\n",
       "      <th>None</th>\n",
       "      <th>Some</th>\n",
       "    </tr>\n",
       "    <tr>\n",
       "      <th>W.Hnd</th>\n",
       "      <th></th>\n",
       "      <th></th>\n",
       "      <th></th>\n",
       "    </tr>\n",
       "  </thead>\n",
       "  <tbody>\n",
       "    <tr>\n",
       "      <th>Left</th>\n",
       "      <td>7</td>\n",
       "      <td>3</td>\n",
       "      <td>8</td>\n",
       "    </tr>\n",
       "    <tr>\n",
       "      <th>Right</th>\n",
       "      <td>107</td>\n",
       "      <td>21</td>\n",
       "      <td>90</td>\n",
       "    </tr>\n",
       "  </tbody>\n",
       "</table>\n",
       "</div>"
      ],
      "text/plain": [
       "Exer   Freq  None  Some\n",
       "W.Hnd                  \n",
       "Left      7     3     8\n",
       "Right   107    21    90"
      ]
     },
     "execution_count": 46,
     "metadata": {
      "tags": []
     },
     "output_type": "execute_result"
    }
   ],
   "source": [
    "crosstab_q7=pd.crosstab(survey_df['W.Hnd'], survey_df['Exer'])\n",
    "crosstab_q7"
   ]
  },
  {
   "cell_type": "code",
   "execution_count": null,
   "metadata": {
    "id": "togLwuDsFNz1"
   },
   "outputs": [],
   "source": [
    "chi_2, p, dof, expected =stats.chi2_contingency(crosstab_q7)"
   ]
  },
  {
   "cell_type": "code",
   "execution_count": null,
   "metadata": {
    "id": "X7gh7bvrFNz1"
   },
   "outputs": [],
   "source": [
    "str_format = 'Test Statistic: {}\\np-value: {}\\nDegree of Freedom: {}'"
   ]
  },
  {
   "cell_type": "code",
   "execution_count": null,
   "metadata": {
    "id": "N6AzWfycFNz1",
    "outputId": "e377c41c-ecbe-4de7-f5ee-8d0481006251"
   },
   "outputs": [
    {
     "name": "stdout",
     "output_type": "stream",
     "text": [
      "Test Statistic: 1.2065256705182212\n",
      "p-value: 0.5470238723125773\n",
      "Degree of Freedom: 2\n"
     ]
    }
   ],
   "source": [
    "print(str_format.format(chi_2, p, dof))"
   ]
  },
  {
   "cell_type": "markdown",
   "metadata": {
    "id": "XyUxLpSQFNz2"
   },
   "source": [
    "결과 해석: 이원 카이제곱 검정 결과,   \n",
    "W.Hnd(주로 사용하는 손)과 Exer(운동 빈도)는 독립이다.는 영가설을 기각할 확률이 p=0.55이므로,   \n",
    "영가설이 채택되어 W.Hnd(주로 사용하는 손)과 Exer(운동 빈도)는 독립이다."
   ]
  },
  {
   "cell_type": "markdown",
   "metadata": {
    "id": "SP6w6thKFNz2"
   },
   "source": [
    "### 4장. 분산분석 (ANOVA)\n",
    "\n",
    "\n",
    "#### 1절 | 일원배치 분산분석\n",
    "\n",
    "영가설: 변수의 group간 평균 차이가 없다. \n",
    "\n",
    "가정: 독립성, 정규성, 등분산성\n",
    "\n",
    "Question 8) R에 내장되어 있는 iris 데이터를 이용하여 종(Species)별로    \n",
    "꽃받침의 폭(Sepal.Width)의 평균이 같은지 혹은 차이가 있는지를 확인하기 위해 일원배치 분산분석을 수행해보자.   "
   ]
  },
  {
   "cell_type": "code",
   "execution_count": null,
   "metadata": {
    "id": "TVN_w5jaFNz3",
    "outputId": "e1aee2d5-6b70-401e-c58a-174263500353"
   },
   "outputs": [
    {
     "data": {
      "text/html": [
       "<div>\n",
       "<style scoped>\n",
       "    .dataframe tbody tr th:only-of-type {\n",
       "        vertical-align: middle;\n",
       "    }\n",
       "\n",
       "    .dataframe tbody tr th {\n",
       "        vertical-align: top;\n",
       "    }\n",
       "\n",
       "    .dataframe thead th {\n",
       "        text-align: right;\n",
       "    }\n",
       "</style>\n",
       "<table border=\"1\" class=\"dataframe\">\n",
       "  <thead>\n",
       "    <tr style=\"text-align: right;\">\n",
       "      <th></th>\n",
       "      <th>sepal_length</th>\n",
       "      <th>sepal_width</th>\n",
       "      <th>petal_length</th>\n",
       "      <th>petal_width</th>\n",
       "      <th>species</th>\n",
       "    </tr>\n",
       "  </thead>\n",
       "  <tbody>\n",
       "    <tr>\n",
       "      <th>0</th>\n",
       "      <td>5.1</td>\n",
       "      <td>3.5</td>\n",
       "      <td>1.4</td>\n",
       "      <td>0.2</td>\n",
       "      <td>setosa</td>\n",
       "    </tr>\n",
       "    <tr>\n",
       "      <th>1</th>\n",
       "      <td>4.9</td>\n",
       "      <td>3.0</td>\n",
       "      <td>1.4</td>\n",
       "      <td>0.2</td>\n",
       "      <td>setosa</td>\n",
       "    </tr>\n",
       "    <tr>\n",
       "      <th>2</th>\n",
       "      <td>4.7</td>\n",
       "      <td>3.2</td>\n",
       "      <td>1.3</td>\n",
       "      <td>0.2</td>\n",
       "      <td>setosa</td>\n",
       "    </tr>\n",
       "    <tr>\n",
       "      <th>3</th>\n",
       "      <td>4.6</td>\n",
       "      <td>3.1</td>\n",
       "      <td>1.5</td>\n",
       "      <td>0.2</td>\n",
       "      <td>setosa</td>\n",
       "    </tr>\n",
       "    <tr>\n",
       "      <th>4</th>\n",
       "      <td>5.0</td>\n",
       "      <td>3.6</td>\n",
       "      <td>1.4</td>\n",
       "      <td>0.2</td>\n",
       "      <td>setosa</td>\n",
       "    </tr>\n",
       "  </tbody>\n",
       "</table>\n",
       "</div>"
      ],
      "text/plain": [
       "   sepal_length  sepal_width  petal_length  petal_width species\n",
       "0           5.1          3.5           1.4          0.2  setosa\n",
       "1           4.9          3.0           1.4          0.2  setosa\n",
       "2           4.7          3.2           1.3          0.2  setosa\n",
       "3           4.6          3.1           1.5          0.2  setosa\n",
       "4           5.0          3.6           1.4          0.2  setosa"
      ]
     },
     "execution_count": 49,
     "metadata": {
      "tags": []
     },
     "output_type": "execute_result"
    }
   ],
   "source": [
    "import seaborn as sns\n",
    "from sklearn.datasets import load_iris \n",
    "iris=load_iris()\n",
    "iris_df = sns.load_dataset('iris')\n",
    "iris_df.head()"
   ]
  },
  {
   "cell_type": "code",
   "execution_count": null,
   "metadata": {
    "id": "iy44R8UOFNz3",
    "outputId": "6cb9b447-a061-4466-b4f3-90b970db4869"
   },
   "outputs": [
    {
     "data": {
      "text/plain": [
       "virginica     50\n",
       "versicolor    50\n",
       "setosa        50\n",
       "Name: species, dtype: int64"
      ]
     },
     "execution_count": 53,
     "metadata": {
      "tags": []
     },
     "output_type": "execute_result"
    }
   ],
   "source": [
    "iris_df['species'].value_counts()"
   ]
  },
  {
   "cell_type": "code",
   "execution_count": null,
   "metadata": {
    "id": "jNh7_Gu7FNz3",
    "outputId": "15a55b38-1166-4e7e-dc6f-235bae3aff5b"
   },
   "outputs": [
    {
     "data": {
      "text/plain": [
       "<AxesSubplot:xlabel='sepal_width', ylabel='Density'>"
      ]
     },
     "execution_count": 54,
     "metadata": {
      "tags": []
     },
     "output_type": "execute_result"
    },
    {
     "data": {
      "image/png": "[encoded data removed]",
      "text/plain": [
       "<Figure size 432x288 with 1 Axes>"
      ]
     },
     "metadata": {
      "needs_background": "light",
      "tags": []
     },
     "output_type": "display_data"
    }
   ],
   "source": [
    "sns.kdeplot(data=iris_df[iris_df['species']=='setosa'], x=\"sepal_width\")\n",
    "sns.kdeplot(data=iris_df[iris_df['species']=='virginica'], x=\"sepal_width\")\n",
    "sns.kdeplot(data=iris_df[iris_df['species']=='versicolor'], x=\"sepal_width\")"
   ]
  },
  {
   "cell_type": "code",
   "execution_count": null,
   "metadata": {
    "id": "trI6WRZdFNz4"
   },
   "outputs": [],
   "source": [
    "question8_result=stats.f_oneway(iris_df[iris_df['species']=='setosa']['sepal_width'], iris_df[iris_df['species']=='virginica']['sepal_width'], iris_df[iris_df['species']=='versicolor']['sepal_width'])"
   ]
  },
  {
   "cell_type": "code",
   "execution_count": null,
   "metadata": {
    "id": "2dCVR0qMFNz4",
    "outputId": "d3eecc84-a87f-426f-fec8-bab30e2d55e2"
   },
   "outputs": [
    {
     "name": "stdout",
     "output_type": "stream",
     "text": [
      "The f-statistic is 49.160 and the p-value is 0.000\n"
     ]
    }
   ],
   "source": [
    "print(\"The f-statistic is %.3f and the p-value is %.3f\" % question8_result)"
   ]
  },
  {
   "cell_type": "markdown",
   "metadata": {
    "id": "BBvgIYXOFNz5"
   },
   "source": [
    "결과 해석: one-way ANOVA 검정 결과,   \n",
    "종(Species)별로 꽃받침의 폭(Sepal.Width)의 평균이 같다는 영가설을 기각할 확률이 p<0.001이므로,      \n",
    "영가설이 기각되어 종(Species)별로 꽃받침의 폭(Sepal.Width)의 평균은 다르다.    "
   ]
  },
  {
   "cell_type": "code",
   "execution_count": null,
   "metadata": {
    "id": "CPqdcKXrFNz5"
   },
   "outputs": [],
   "source": [
    "from statsmodels.stats.multicomp import pairwise_tukeyhsd"
   ]
  },
  {
   "cell_type": "code",
   "execution_count": null,
   "metadata": {
    "id": "Z4UeqYzEFNz6",
    "outputId": "a636655d-80db-4273-8697-fdfe3ee71c18"
   },
   "outputs": [
    {
     "data": {
      "text/html": [
       "<table class=\"simpletable\">\n",
       "<caption>Multiple Comparison of Means - Tukey HSD, FWER=0.05</caption>\n",
       "<tr>\n",
       "    <th>group1</th>     <th>group2</th>   <th>meandiff</th>  <th>p-adj</th>  <th>lower</th>   <th>upper</th>  <th>reject</th>\n",
       "</tr>\n",
       "<tr>\n",
       "    <td>setosa</td>   <td>versicolor</td>  <td>-0.658</td>   <td>0.001</td> <td>-0.8189</td> <td>-0.4971</td>  <td>True</td> \n",
       "</tr>\n",
       "<tr>\n",
       "    <td>setosa</td>    <td>virginica</td>  <td>-0.454</td>   <td>0.001</td> <td>-0.6149</td> <td>-0.2931</td>  <td>True</td> \n",
       "</tr>\n",
       "<tr>\n",
       "  <td>versicolor</td>  <td>virginica</td>   <td>0.204</td>  <td>0.0088</td> <td>0.0431</td>  <td>0.3649</td>   <td>True</td> \n",
       "</tr>\n",
       "</table>"
      ],
      "text/plain": [
       "<class 'statsmodels.iolib.table.SimpleTable'>"
      ]
     },
     "execution_count": 65,
     "metadata": {
      "tags": []
     },
     "output_type": "execute_result"
    }
   ],
   "source": [
    "hsd = pairwise_tukeyhsd(iris_df['sepal_width'], iris_df['species'], alpha=0.05)\n",
    "hsd.summary()"
   ]
  },
  {
   "cell_type": "markdown",
   "metadata": {
    "id": "W8cKRq3oFNz6"
   },
   "source": [
    "결과 해석: one-way ANOVA에 대한 사후분석으로 Tukey HSD를 수행한 결과,   \n",
    "두 집단 간 비교를 수행한 모든 경우에서 유의미한 군간 차이가 나타났다. "
   ]
  },
  {
   "cell_type": "markdown",
   "metadata": {
    "id": "9lgIAGxzFNz6"
   },
   "source": [
    "#### 2절 | 이원배치 분산분석\n",
    "\n",
    "Question 9) R에 내장된 mtcars 데이터는 32개의 차종에 대한 다양한 특성과 단위 연료당 주행거리를 담고 있다.    \n",
    "am변수는 변속기 종류이며, cyl변수는 실린더의 개수를 의미한다.    \n",
    "데이터를 분석에 적절한 형태로 전처리한 후, 변속기 종류(am변수)와 실린더의 개수(cyl변수)에 따라    \n",
    "주행거리(mpg변수) 평균에 유의미한 차이가 존재하는지 이원 분산분석을 수행하고, 그 결과를 해석해보자."
   ]
  },
  {
   "cell_type": "code",
   "execution_count": null,
   "metadata": {
    "id": "ZjtLefW0FNz7",
    "outputId": "0b2a021e-2dfd-4f5e-fa94-1a003e281a58"
   },
   "outputs": [
    {
     "data": {
      "text/html": [
       "<div>\n",
       "<style scoped>\n",
       "    .dataframe tbody tr th:only-of-type {\n",
       "        vertical-align: middle;\n",
       "    }\n",
       "\n",
       "    .dataframe tbody tr th {\n",
       "        vertical-align: top;\n",
       "    }\n",
       "\n",
       "    .dataframe thead th {\n",
       "        text-align: right;\n",
       "    }\n",
       "</style>\n",
       "<table border=\"1\" class=\"dataframe\">\n",
       "  <thead>\n",
       "    <tr style=\"text-align: right;\">\n",
       "      <th></th>\n",
       "      <th>mpg</th>\n",
       "      <th>cyl</th>\n",
       "      <th>disp</th>\n",
       "      <th>hp</th>\n",
       "      <th>drat</th>\n",
       "      <th>wt</th>\n",
       "      <th>qsec</th>\n",
       "      <th>vs</th>\n",
       "      <th>am</th>\n",
       "      <th>gear</th>\n",
       "      <th>carb</th>\n",
       "    </tr>\n",
       "  </thead>\n",
       "  <tbody>\n",
       "    <tr>\n",
       "      <th>Mazda RX4</th>\n",
       "      <td>21.0</td>\n",
       "      <td>6</td>\n",
       "      <td>160.0</td>\n",
       "      <td>110</td>\n",
       "      <td>3.90</td>\n",
       "      <td>2.620</td>\n",
       "      <td>16.46</td>\n",
       "      <td>0</td>\n",
       "      <td>1</td>\n",
       "      <td>4</td>\n",
       "      <td>4</td>\n",
       "    </tr>\n",
       "    <tr>\n",
       "      <th>Mazda RX4 Wag</th>\n",
       "      <td>21.0</td>\n",
       "      <td>6</td>\n",
       "      <td>160.0</td>\n",
       "      <td>110</td>\n",
       "      <td>3.90</td>\n",
       "      <td>2.875</td>\n",
       "      <td>17.02</td>\n",
       "      <td>0</td>\n",
       "      <td>1</td>\n",
       "      <td>4</td>\n",
       "      <td>4</td>\n",
       "    </tr>\n",
       "    <tr>\n",
       "      <th>Datsun 710</th>\n",
       "      <td>22.8</td>\n",
       "      <td>4</td>\n",
       "      <td>108.0</td>\n",
       "      <td>93</td>\n",
       "      <td>3.85</td>\n",
       "      <td>2.320</td>\n",
       "      <td>18.61</td>\n",
       "      <td>1</td>\n",
       "      <td>1</td>\n",
       "      <td>4</td>\n",
       "      <td>1</td>\n",
       "    </tr>\n",
       "    <tr>\n",
       "      <th>Hornet 4 Drive</th>\n",
       "      <td>21.4</td>\n",
       "      <td>6</td>\n",
       "      <td>258.0</td>\n",
       "      <td>110</td>\n",
       "      <td>3.08</td>\n",
       "      <td>3.215</td>\n",
       "      <td>19.44</td>\n",
       "      <td>1</td>\n",
       "      <td>0</td>\n",
       "      <td>3</td>\n",
       "      <td>1</td>\n",
       "    </tr>\n",
       "    <tr>\n",
       "      <th>Hornet Sportabout</th>\n",
       "      <td>18.7</td>\n",
       "      <td>8</td>\n",
       "      <td>360.0</td>\n",
       "      <td>175</td>\n",
       "      <td>3.15</td>\n",
       "      <td>3.440</td>\n",
       "      <td>17.02</td>\n",
       "      <td>0</td>\n",
       "      <td>0</td>\n",
       "      <td>3</td>\n",
       "      <td>2</td>\n",
       "    </tr>\n",
       "  </tbody>\n",
       "</table>\n",
       "</div>"
      ],
      "text/plain": [
       "                    mpg  cyl   disp   hp  drat     wt   qsec  vs  am  gear  \\\n",
       "Mazda RX4          21.0    6  160.0  110  3.90  2.620  16.46   0   1     4   \n",
       "Mazda RX4 Wag      21.0    6  160.0  110  3.90  2.875  17.02   0   1     4   \n",
       "Datsun 710         22.8    4  108.0   93  3.85  2.320  18.61   1   1     4   \n",
       "Hornet 4 Drive     21.4    6  258.0  110  3.08  3.215  19.44   1   0     3   \n",
       "Hornet Sportabout  18.7    8  360.0  175  3.15  3.440  17.02   0   0     3   \n",
       "\n",
       "                   carb  \n",
       "Mazda RX4             4  \n",
       "Mazda RX4 Wag         4  \n",
       "Datsun 710            1  \n",
       "Hornet 4 Drive        1  \n",
       "Hornet Sportabout     2  "
      ]
     },
     "execution_count": 69,
     "metadata": {
      "tags": []
     },
     "output_type": "execute_result"
    }
   ],
   "source": [
    "import pandas as pd\n",
    "mtcars_df = pd.read_csv(r\"C:\\ISLR-python-master\\Notebooks\\Data\\mtcars.csv\", index_col='Unnamed: 0')\n",
    "mtcars_df.head()"
   ]
  },
  {
   "cell_type": "markdown",
   "metadata": {
    "id": "q4LkFG_VFNz7"
   },
   "source": [
    "* scipy 자체 함수로는 two-way ANOVA를 수행하는 함수가 없다. "
   ]
  },
  {
   "cell_type": "code",
   "execution_count": null,
   "metadata": {
    "id": "lY_huO3MFNz8"
   },
   "outputs": [],
   "source": [
    "import statsmodels.api as sm\n",
    "from statsmodels.formula.api import ols"
   ]
  },
  {
   "cell_type": "code",
   "execution_count": null,
   "metadata": {
    "id": "RciI0szsFNz8"
   },
   "outputs": [],
   "source": [
    "model = ols('mpg ~ C(am) + C(cyl) + C(am):C(cyl)', data=mtcars_df).fit()\n",
    "question9_result=sm.stats.anova_lm(model, typ=2)"
   ]
  },
  {
   "cell_type": "code",
   "execution_count": null,
   "metadata": {
    "id": "ZV6KClJ5FNz8",
    "outputId": "0215cf86-8ed2-4c51-bd47-4b23912a50c2"
   },
   "outputs": [
    {
     "data": {
      "text/html": [
       "<div>\n",
       "<style scoped>\n",
       "    .dataframe tbody tr th:only-of-type {\n",
       "        vertical-align: middle;\n",
       "    }\n",
       "\n",
       "    .dataframe tbody tr th {\n",
       "        vertical-align: top;\n",
       "    }\n",
       "\n",
       "    .dataframe thead th {\n",
       "        text-align: right;\n",
       "    }\n",
       "</style>\n",
       "<table border=\"1\" class=\"dataframe\">\n",
       "  <thead>\n",
       "    <tr style=\"text-align: right;\">\n",
       "      <th></th>\n",
       "      <th>sum_sq</th>\n",
       "      <th>df</th>\n",
       "      <th>F</th>\n",
       "      <th>PR(&gt;F)</th>\n",
       "    </tr>\n",
       "  </thead>\n",
       "  <tbody>\n",
       "    <tr>\n",
       "      <th>C(am)</th>\n",
       "      <td>36.766919</td>\n",
       "      <td>1.0</td>\n",
       "      <td>3.998759</td>\n",
       "      <td>5.608373e-02</td>\n",
       "    </tr>\n",
       "    <tr>\n",
       "      <th>C(cyl)</th>\n",
       "      <td>456.400921</td>\n",
       "      <td>2.0</td>\n",
       "      <td>24.819011</td>\n",
       "      <td>9.354735e-07</td>\n",
       "    </tr>\n",
       "    <tr>\n",
       "      <th>C(am):C(cyl)</th>\n",
       "      <td>25.436511</td>\n",
       "      <td>2.0</td>\n",
       "      <td>1.383233</td>\n",
       "      <td>2.686140e-01</td>\n",
       "    </tr>\n",
       "    <tr>\n",
       "      <th>Residual</th>\n",
       "      <td>239.059167</td>\n",
       "      <td>26.0</td>\n",
       "      <td>NaN</td>\n",
       "      <td>NaN</td>\n",
       "    </tr>\n",
       "  </tbody>\n",
       "</table>\n",
       "</div>"
      ],
      "text/plain": [
       "                  sum_sq    df          F        PR(>F)\n",
       "C(am)          36.766919   1.0   3.998759  5.608373e-02\n",
       "C(cyl)        456.400921   2.0  24.819011  9.354735e-07\n",
       "C(am):C(cyl)   25.436511   2.0   1.383233  2.686140e-01\n",
       "Residual      239.059167  26.0        NaN           NaN"
      ]
     },
     "execution_count": 76,
     "metadata": {
      "tags": []
     },
     "output_type": "execute_result"
    }
   ],
   "source": [
    "question9_result"
   ]
  },
  {
   "cell_type": "code",
   "execution_count": null,
   "metadata": {
    "id": "KAesfWLvFNz9"
   },
   "outputs": [],
   "source": [
    "import decimal"
   ]
  },
  {
   "cell_type": "code",
   "execution_count": null,
   "metadata": {
    "id": "TSxRssQhFNz9",
    "outputId": "ffc6e97e-f9b3-4540-d372-f78aec64f011"
   },
   "outputs": [
    {
     "name": "stdout",
     "output_type": "stream",
     "text": [
      "0.056083731277106835\n",
      "9.354734621013796e-07\n",
      "0.268614022629599\n"
     ]
    }
   ],
   "source": [
    "print(question9_result['PR(>F)'][0])\n",
    "print(question9_result['PR(>F)'][1])\n",
    "print(question9_result['PR(>F)'][2])"
   ]
  },
  {
   "cell_type": "markdown",
   "metadata": {
    "id": "hwsA5u5QFNz-"
   },
   "source": [
    "결과 해석: 이원배치 분산분석 결과,    \n",
    "실린더의 종류에 따라 주행거리의 평균에 유의미한 차이를 보이지만,    \n",
    "변속기 종류, 실린더와 변속기의 상호작용에 따른 주행거리의 평균 차이는 나타나지 않는다. "
   ]
  },
  {
   "cell_type": "markdown",
   "metadata": {
    "id": "8CzitOrLFNz-"
   },
   "source": [
    "Question 10) 실린더 개수(cyl변수)와 변속기 종류(am변수) 사이에 상호작용 효과가 있는지 없는지를       \n",
    "시각화해주는 상호작용 그래프를 그린 후 이를 해석해보자."
   ]
  },
  {
   "cell_type": "code",
   "execution_count": null,
   "metadata": {
    "id": "BGoXi-UyFNz-",
    "outputId": "d30568ce-2e45-41b2-868a-bb6492063694"
   },
   "outputs": [
    {
     "data": {
      "text/plain": [
       "4    11\n",
       "6     7\n",
       "8    14\n",
       "Name: cyl, dtype: int64"
      ]
     },
     "execution_count": 97,
     "metadata": {
      "tags": []
     },
     "output_type": "execute_result"
    }
   ],
   "source": [
    "mtcars_df['cyl'].value_counts().sort_index()"
   ]
  },
  {
   "cell_type": "code",
   "execution_count": null,
   "metadata": {
    "id": "31rzy1naFNz-",
    "outputId": "1722e6b9-149b-4a14-9fb0-795462baf6b4"
   },
   "outputs": [
    {
     "data": {
      "text/plain": [
       "0    19\n",
       "1    13\n",
       "Name: am, dtype: int64"
      ]
     },
     "execution_count": 98,
     "metadata": {
      "tags": []
     },
     "output_type": "execute_result"
    }
   ],
   "source": [
    "mtcars_df['am'].value_counts().sort_index()"
   ]
  },
  {
   "cell_type": "code",
   "execution_count": null,
   "metadata": {
    "id": "41IUjMmXFNz_"
   },
   "outputs": [],
   "source": [
    "from statsmodels.graphics.factorplots import interaction_plot"
   ]
  },
  {
   "cell_type": "code",
   "execution_count": null,
   "metadata": {
    "id": "AsUpBgCbFNz_",
    "outputId": "a4526b8c-26e7-45aa-cbc2-65848c360d2f"
   },
   "outputs": [
    {
     "data": {
      "image/png": "[encoded data removed]",
      "text/plain": [
       "<Figure size 432x288 with 1 Axes>"
      ]
     },
     "metadata": {
      "needs_background": "light",
      "tags": []
     },
     "output_type": "display_data"
    }
   ],
   "source": [
    "interaction_plot(mtcars_df['am'], trace=mtcars_df['cyl'], response=mtcars_df['mpg'])\n",
    "plt.show()"
   ]
  },
  {
   "cell_type": "markdown",
   "metadata": {
    "id": "jqn_z6nrFN0A"
   },
   "source": [
    "결과해석: interaction plot을 그려본 결과,    \n",
    "일부 4번 실린더와 8번 실린더가 변속기 종류에 따라 주행거리가 달라지는 것 처럼 보이기도 한다.     "
   ]
  },
  {
   "cell_type": "markdown",
   "metadata": {
    "id": "V4hFC2ghFN0A"
   },
   "source": [
    "### 5장. 상관분석\n",
    "\n",
    "\n",
    "#### 3절 | 상관계수 검정\n",
    "\n",
    "Question 10) airquality 데이터는 뉴욕의 일일 대기 오염 정도에 대한 데이터로, 총6개의 변수로 이루어져 있다.     \n",
    "6개의 변수 중 Month(월)과 Day(일)은 제외하고 Ozone(오존량), Solar.R(일사량), Wind(풍속), Temp(최고온도)만으로    \n",
    "이루어진 데이터프레임 air를 생성하고, 네 가지 변수에 대한 상관계수를 산출해보자.    \n",
    "단, 모든 변수값에 NA가 없는 데이터들만 이용하여 피어슨, 스피어만, 켄달 상관계수를 모두 산출하여라."
   ]
  },
  {
   "cell_type": "code",
   "execution_count": null,
   "metadata": {
    "id": "cvIDP8TFFN0B",
    "outputId": "3fc2f979-adaf-4f8a-e41a-ec3306030590"
   },
   "outputs": [
    {
     "data": {
      "text/html": [
       "<div>\n",
       "<style scoped>\n",
       "    .dataframe tbody tr th:only-of-type {\n",
       "        vertical-align: middle;\n",
       "    }\n",
       "\n",
       "    .dataframe tbody tr th {\n",
       "        vertical-align: top;\n",
       "    }\n",
       "\n",
       "    .dataframe thead th {\n",
       "        text-align: right;\n",
       "    }\n",
       "</style>\n",
       "<table border=\"1\" class=\"dataframe\">\n",
       "  <thead>\n",
       "    <tr style=\"text-align: right;\">\n",
       "      <th></th>\n",
       "      <th>Ozone</th>\n",
       "      <th>Solar.R</th>\n",
       "      <th>Wind</th>\n",
       "      <th>Temp</th>\n",
       "      <th>Month</th>\n",
       "      <th>Day</th>\n",
       "    </tr>\n",
       "  </thead>\n",
       "  <tbody>\n",
       "    <tr>\n",
       "      <th>1</th>\n",
       "      <td>41.0</td>\n",
       "      <td>190.0</td>\n",
       "      <td>7.4</td>\n",
       "      <td>67</td>\n",
       "      <td>5</td>\n",
       "      <td>1</td>\n",
       "    </tr>\n",
       "    <tr>\n",
       "      <th>2</th>\n",
       "      <td>36.0</td>\n",
       "      <td>118.0</td>\n",
       "      <td>8.0</td>\n",
       "      <td>72</td>\n",
       "      <td>5</td>\n",
       "      <td>2</td>\n",
       "    </tr>\n",
       "    <tr>\n",
       "      <th>3</th>\n",
       "      <td>12.0</td>\n",
       "      <td>149.0</td>\n",
       "      <td>12.6</td>\n",
       "      <td>74</td>\n",
       "      <td>5</td>\n",
       "      <td>3</td>\n",
       "    </tr>\n",
       "    <tr>\n",
       "      <th>4</th>\n",
       "      <td>18.0</td>\n",
       "      <td>313.0</td>\n",
       "      <td>11.5</td>\n",
       "      <td>62</td>\n",
       "      <td>5</td>\n",
       "      <td>4</td>\n",
       "    </tr>\n",
       "    <tr>\n",
       "      <th>5</th>\n",
       "      <td>NaN</td>\n",
       "      <td>NaN</td>\n",
       "      <td>14.3</td>\n",
       "      <td>56</td>\n",
       "      <td>5</td>\n",
       "      <td>5</td>\n",
       "    </tr>\n",
       "  </tbody>\n",
       "</table>\n",
       "</div>"
      ],
      "text/plain": [
       "   Ozone  Solar.R  Wind  Temp  Month  Day\n",
       "1   41.0    190.0   7.4    67      5    1\n",
       "2   36.0    118.0   8.0    72      5    2\n",
       "3   12.0    149.0  12.6    74      5    3\n",
       "4   18.0    313.0  11.5    62      5    4\n",
       "5    NaN      NaN  14.3    56      5    5"
      ]
     },
     "execution_count": 99,
     "metadata": {
      "tags": []
     },
     "output_type": "execute_result"
    }
   ],
   "source": [
    "import pandas as pd\n",
    "airq_df = pd.read_csv(r'C:\\ISLR-python-master\\Notebooks\\Data\\airquality.csv', index_col='Unnamed: 0')\n",
    "airq_df.head()"
   ]
  },
  {
   "cell_type": "code",
   "execution_count": null,
   "metadata": {
    "id": "XaOy2RZhFN0B",
    "outputId": "fa8b6776-3420-4558-c213-db5e1c060637"
   },
   "outputs": [
    {
     "name": "stdout",
     "output_type": "stream",
     "text": [
      "<class 'pandas.core.frame.DataFrame'>\n",
      "Int64Index: 153 entries, 1 to 153\n",
      "Data columns (total 4 columns):\n",
      " #   Column   Non-Null Count  Dtype  \n",
      "---  ------   --------------  -----  \n",
      " 0   Ozone    116 non-null    float64\n",
      " 1   Solar.R  146 non-null    float64\n",
      " 2   Wind     153 non-null    float64\n",
      " 3   Temp     153 non-null    int64  \n",
      "dtypes: float64(3), int64(1)\n",
      "memory usage: 11.0 KB\n"
     ]
    }
   ],
   "source": [
    "air=airq_df.loc[:,:'Temp']\n",
    "air.info()"
   ]
  },
  {
   "cell_type": "code",
   "execution_count": null,
   "metadata": {
    "id": "Zd1cC6CIFN0C",
    "outputId": "d1c07a22-c780-4882-83a6-b0b02a16b3c2"
   },
   "outputs": [
    {
     "data": {
      "text/plain": [
       "Ozone      37\n",
       "Solar.R     7\n",
       "Wind        0\n",
       "Temp        0\n",
       "dtype: int64"
      ]
     },
     "execution_count": 127,
     "metadata": {
      "tags": []
     },
     "output_type": "execute_result"
    }
   ],
   "source": [
    "missing_check=pd.isnull(air)\n",
    "missing_n=air.isnull().sum()\n",
    "missing_n"
   ]
  },
  {
   "cell_type": "code",
   "execution_count": null,
   "metadata": {
    "id": "zQsy_d6DFN0D",
    "outputId": "25a2da46-a720-4034-dea7-40f2c0cd3f9d"
   },
   "outputs": [
    {
     "name": "stdout",
     "output_type": "stream",
     "text": [
      "<class 'pandas.core.frame.DataFrame'>\n",
      "Int64Index: 111 entries, 1 to 153\n",
      "Data columns (total 4 columns):\n",
      " #   Column   Non-Null Count  Dtype  \n",
      "---  ------   --------------  -----  \n",
      " 0   Ozone    111 non-null    float64\n",
      " 1   Solar.R  111 non-null    float64\n",
      " 2   Wind     111 non-null    float64\n",
      " 3   Temp     111 non-null    int64  \n",
      "dtypes: float64(3), int64(1)\n",
      "memory usage: 4.3 KB\n"
     ]
    }
   ],
   "source": [
    "air = air.dropna()\n",
    "air.info()"
   ]
  },
  {
   "cell_type": "code",
   "execution_count": null,
   "metadata": {
    "id": "9wYpp4lmFN0D"
   },
   "outputs": [],
   "source": [
    "corr_1=air.corr(method='pearson')\n",
    "corr_2=air.corr(method='spearman')\n",
    "corr_3=air.corr(method='kendall')"
   ]
  },
  {
   "cell_type": "code",
   "execution_count": null,
   "metadata": {
    "id": "jYhfNzDwFN0D",
    "outputId": "3a4a413f-8310-4888-9936-4b5b8d968fec"
   },
   "outputs": [
    {
     "data": {
      "text/html": [
       "<div>\n",
       "<style scoped>\n",
       "    .dataframe tbody tr th:only-of-type {\n",
       "        vertical-align: middle;\n",
       "    }\n",
       "\n",
       "    .dataframe tbody tr th {\n",
       "        vertical-align: top;\n",
       "    }\n",
       "\n",
       "    .dataframe thead th {\n",
       "        text-align: right;\n",
       "    }\n",
       "</style>\n",
       "<table border=\"1\" class=\"dataframe\">\n",
       "  <thead>\n",
       "    <tr style=\"text-align: right;\">\n",
       "      <th></th>\n",
       "      <th>Ozone</th>\n",
       "      <th>Solar.R</th>\n",
       "      <th>Wind</th>\n",
       "      <th>Temp</th>\n",
       "    </tr>\n",
       "  </thead>\n",
       "  <tbody>\n",
       "    <tr>\n",
       "      <th>Ozone</th>\n",
       "      <td>1.000000</td>\n",
       "      <td>0.348342</td>\n",
       "      <td>-0.612497</td>\n",
       "      <td>0.698541</td>\n",
       "    </tr>\n",
       "    <tr>\n",
       "      <th>Solar.R</th>\n",
       "      <td>0.348342</td>\n",
       "      <td>1.000000</td>\n",
       "      <td>-0.127183</td>\n",
       "      <td>0.294088</td>\n",
       "    </tr>\n",
       "    <tr>\n",
       "      <th>Wind</th>\n",
       "      <td>-0.612497</td>\n",
       "      <td>-0.127183</td>\n",
       "      <td>1.000000</td>\n",
       "      <td>-0.497190</td>\n",
       "    </tr>\n",
       "    <tr>\n",
       "      <th>Temp</th>\n",
       "      <td>0.698541</td>\n",
       "      <td>0.294088</td>\n",
       "      <td>-0.497190</td>\n",
       "      <td>1.000000</td>\n",
       "    </tr>\n",
       "  </tbody>\n",
       "</table>\n",
       "</div>"
      ],
      "text/plain": [
       "            Ozone   Solar.R      Wind      Temp\n",
       "Ozone    1.000000  0.348342 -0.612497  0.698541\n",
       "Solar.R  0.348342  1.000000 -0.127183  0.294088\n",
       "Wind    -0.612497 -0.127183  1.000000 -0.497190\n",
       "Temp     0.698541  0.294088 -0.497190  1.000000"
      ]
     },
     "execution_count": 130,
     "metadata": {
      "tags": []
     },
     "output_type": "execute_result"
    }
   ],
   "source": [
    "corr_1"
   ]
  },
  {
   "cell_type": "code",
   "execution_count": null,
   "metadata": {
    "id": "YV7j29pjFN0E",
    "outputId": "b98f09b7-323b-483c-ff12-34f17e7a655c"
   },
   "outputs": [
    {
     "data": {
      "text/html": [
       "<div>\n",
       "<style scoped>\n",
       "    .dataframe tbody tr th:only-of-type {\n",
       "        vertical-align: middle;\n",
       "    }\n",
       "\n",
       "    .dataframe tbody tr th {\n",
       "        vertical-align: top;\n",
       "    }\n",
       "\n",
       "    .dataframe thead th {\n",
       "        text-align: right;\n",
       "    }\n",
       "</style>\n",
       "<table border=\"1\" class=\"dataframe\">\n",
       "  <thead>\n",
       "    <tr style=\"text-align: right;\">\n",
       "      <th></th>\n",
       "      <th>Ozone</th>\n",
       "      <th>Solar.R</th>\n",
       "      <th>Wind</th>\n",
       "      <th>Temp</th>\n",
       "    </tr>\n",
       "  </thead>\n",
       "  <tbody>\n",
       "    <tr>\n",
       "      <th>Ozone</th>\n",
       "      <td>1.000000</td>\n",
       "      <td>0.348186</td>\n",
       "      <td>-0.605136</td>\n",
       "      <td>0.772932</td>\n",
       "    </tr>\n",
       "    <tr>\n",
       "      <th>Solar.R</th>\n",
       "      <td>0.348186</td>\n",
       "      <td>1.000000</td>\n",
       "      <td>-0.061696</td>\n",
       "      <td>0.209537</td>\n",
       "    </tr>\n",
       "    <tr>\n",
       "      <th>Wind</th>\n",
       "      <td>-0.605136</td>\n",
       "      <td>-0.061696</td>\n",
       "      <td>1.000000</td>\n",
       "      <td>-0.499323</td>\n",
       "    </tr>\n",
       "    <tr>\n",
       "      <th>Temp</th>\n",
       "      <td>0.772932</td>\n",
       "      <td>0.209537</td>\n",
       "      <td>-0.499323</td>\n",
       "      <td>1.000000</td>\n",
       "    </tr>\n",
       "  </tbody>\n",
       "</table>\n",
       "</div>"
      ],
      "text/plain": [
       "            Ozone   Solar.R      Wind      Temp\n",
       "Ozone    1.000000  0.348186 -0.605136  0.772932\n",
       "Solar.R  0.348186  1.000000 -0.061696  0.209537\n",
       "Wind    -0.605136 -0.061696  1.000000 -0.499323\n",
       "Temp     0.772932  0.209537 -0.499323  1.000000"
      ]
     },
     "execution_count": 131,
     "metadata": {
      "tags": []
     },
     "output_type": "execute_result"
    }
   ],
   "source": [
    "corr_2"
   ]
  },
  {
   "cell_type": "code",
   "execution_count": null,
   "metadata": {
    "id": "mE1LDlj3FN0E",
    "outputId": "926091a6-fbae-4830-a6ce-2be69c735681"
   },
   "outputs": [
    {
     "data": {
      "text/html": [
       "<div>\n",
       "<style scoped>\n",
       "    .dataframe tbody tr th:only-of-type {\n",
       "        vertical-align: middle;\n",
       "    }\n",
       "\n",
       "    .dataframe tbody tr th {\n",
       "        vertical-align: top;\n",
       "    }\n",
       "\n",
       "    .dataframe thead th {\n",
       "        text-align: right;\n",
       "    }\n",
       "</style>\n",
       "<table border=\"1\" class=\"dataframe\">\n",
       "  <thead>\n",
       "    <tr style=\"text-align: right;\">\n",
       "      <th></th>\n",
       "      <th>Ozone</th>\n",
       "      <th>Solar.R</th>\n",
       "      <th>Wind</th>\n",
       "      <th>Temp</th>\n",
       "    </tr>\n",
       "  </thead>\n",
       "  <tbody>\n",
       "    <tr>\n",
       "      <th>Ozone</th>\n",
       "      <td>1.000000</td>\n",
       "      <td>0.240319</td>\n",
       "      <td>-0.440459</td>\n",
       "      <td>0.586147</td>\n",
       "    </tr>\n",
       "    <tr>\n",
       "      <th>Solar.R</th>\n",
       "      <td>0.240319</td>\n",
       "      <td>1.000000</td>\n",
       "      <td>-0.043013</td>\n",
       "      <td>0.142902</td>\n",
       "    </tr>\n",
       "    <tr>\n",
       "      <th>Wind</th>\n",
       "      <td>-0.440459</td>\n",
       "      <td>-0.043013</td>\n",
       "      <td>1.000000</td>\n",
       "      <td>-0.362387</td>\n",
       "    </tr>\n",
       "    <tr>\n",
       "      <th>Temp</th>\n",
       "      <td>0.586147</td>\n",
       "      <td>0.142902</td>\n",
       "      <td>-0.362387</td>\n",
       "      <td>1.000000</td>\n",
       "    </tr>\n",
       "  </tbody>\n",
       "</table>\n",
       "</div>"
      ],
      "text/plain": [
       "            Ozone   Solar.R      Wind      Temp\n",
       "Ozone    1.000000  0.240319 -0.440459  0.586147\n",
       "Solar.R  0.240319  1.000000 -0.043013  0.142902\n",
       "Wind    -0.440459 -0.043013  1.000000 -0.362387\n",
       "Temp     0.586147  0.142902 -0.362387  1.000000"
      ]
     },
     "execution_count": 132,
     "metadata": {
      "tags": []
     },
     "output_type": "execute_result"
    }
   ],
   "source": [
    "corr_3"
   ]
  },
  {
   "cell_type": "markdown",
   "metadata": {
    "id": "zb3Xt-VIFN0F"
   },
   "source": [
    "* 상관분석에 대한 significance는 scipy.stats.pearsonr()를 통해 알 수있다. \n",
    "그러나 matrix로 결과가 깔끔하게 산출되서 나오지 않음."
   ]
  },
  {
   "cell_type": "markdown",
   "metadata": {
    "id": "2Z5IrrtqFN0F"
   },
   "source": [
    "Question 11) air데이터 내의 네가지 변수 조합별 피어슨 상관계수를 그래프로 시각화해보자."
   ]
  },
  {
   "cell_type": "code",
   "execution_count": null,
   "metadata": {
    "id": "9iR3rN9hFN0F",
    "outputId": "39fcbda5-09d0-424c-d288-d5efbd32f887"
   },
   "outputs": [
    {
     "data": {
      "text/plain": [
       "<AxesSubplot:>"
      ]
     },
     "execution_count": 133,
     "metadata": {
      "tags": []
     },
     "output_type": "execute_result"
    },
    {
     "data": {
      "image/png": "[encoded data removed]",
      "text/plain": [
       "<Figure size 432x288 with 2 Axes>"
      ]
     },
     "metadata": {
      "needs_background": "light",
      "tags": []
     },
     "output_type": "display_data"
    }
   ],
   "source": [
    "sns.heatmap(corr_1, annot = True)"
   ]
  },
  {
   "cell_type": "markdown",
   "metadata": {
    "id": "4f9Y6w_0FN0G"
   },
   "source": [
    "Question 12) air데이터의 Ozone(오존량)와 Wind(풍속)변수에 대한 상관분석을 실시하고,    \n",
    "피어슨 상관계수에 대한 검정 결과를 해석해보자. "
   ]
  },
  {
   "cell_type": "code",
   "execution_count": null,
   "metadata": {
    "id": "t5Zkq1DnFN0G"
   },
   "outputs": [],
   "source": [
    "question12_result=stats.pearsonr(air['Ozone'], air['Wind'])"
   ]
  },
  {
   "cell_type": "code",
   "execution_count": null,
   "metadata": {
    "id": "MReDSFAdFN0G",
    "outputId": "6c911827-d2d6-4074-b571-1460bb0e4fff"
   },
   "outputs": [
    {
     "name": "stdout",
     "output_type": "stream",
     "text": [
      "The Pearson correlation coefficient is -0.612 and the p-value is 0.000\n"
     ]
    }
   ],
   "source": [
    "print(\"The Pearson correlation coefficient is %.3f and the p-value is %.3f\" % question12_result)"
   ]
  },
  {
   "cell_type": "markdown",
   "metadata": {
    "id": "bqisUV1ZFN0H"
   },
   "source": [
    "결과해석: Pearson 상관분석 결과,    \n",
    "    Ozone 변수와 Wind 변수의 상관계수는 -0.612로 두 변수간 음의 상관관계가 확인되었으며,    \n",
    "    유의미성 검정시 p value<0.001로 통계적으로 유의미한 상관관계가 존재하는 것으로 보인다. "
   ]
  },
  {
   "cell_type": "markdown",
   "metadata": {
    "id": "u1NdT3xuFN0H"
   },
   "source": [
    "### 6장. 회귀분석\n",
    "\n",
    "\n",
    "#### 2절 | 단순선형회귀분석\n",
    "\n",
    "##### 3. 단순선형회귀분석  \n",
    "Question 13)  MASS패키지에서 제공하는 Cars93 데이터의 엔진크기(EngineSize)를 독립변수,    \n",
    "가격(Price)를 종속변수로 설정하여 단순 선형 회귀분석을 실시한 후 추정된 회귀모형에 대해 해석해보자.\n"
   ]
  },
  {
   "cell_type": "code",
   "execution_count": null,
   "metadata": {
    "id": "_3xipOePFN0H",
    "outputId": "429fa1b1-fef7-4f6b-da1a-2929af286b34"
   },
   "outputs": [
    {
     "data": {
      "text/html": [
       "<div>\n",
       "<style scoped>\n",
       "    .dataframe tbody tr th:only-of-type {\n",
       "        vertical-align: middle;\n",
       "    }\n",
       "\n",
       "    .dataframe tbody tr th {\n",
       "        vertical-align: top;\n",
       "    }\n",
       "\n",
       "    .dataframe thead th {\n",
       "        text-align: right;\n",
       "    }\n",
       "</style>\n",
       "<table border=\"1\" class=\"dataframe\">\n",
       "  <thead>\n",
       "    <tr style=\"text-align: right;\">\n",
       "      <th></th>\n",
       "      <th>Manufacturer</th>\n",
       "      <th>Model</th>\n",
       "      <th>Type</th>\n",
       "      <th>Min.Price</th>\n",
       "      <th>Price</th>\n",
       "      <th>Max.Price</th>\n",
       "      <th>MPG.city</th>\n",
       "      <th>MPG.highway</th>\n",
       "      <th>AirBags</th>\n",
       "      <th>DriveTrain</th>\n",
       "      <th>...</th>\n",
       "      <th>Passengers</th>\n",
       "      <th>Length</th>\n",
       "      <th>Wheelbase</th>\n",
       "      <th>Width</th>\n",
       "      <th>Turn.circle</th>\n",
       "      <th>Rear.seat.room</th>\n",
       "      <th>Luggage.room</th>\n",
       "      <th>Weight</th>\n",
       "      <th>Origin</th>\n",
       "      <th>Make</th>\n",
       "    </tr>\n",
       "  </thead>\n",
       "  <tbody>\n",
       "    <tr>\n",
       "      <th>1</th>\n",
       "      <td>Acura</td>\n",
       "      <td>Integra</td>\n",
       "      <td>Small</td>\n",
       "      <td>12.9</td>\n",
       "      <td>15.9</td>\n",
       "      <td>18.8</td>\n",
       "      <td>25</td>\n",
       "      <td>31</td>\n",
       "      <td>None</td>\n",
       "      <td>Front</td>\n",
       "      <td>...</td>\n",
       "      <td>5</td>\n",
       "      <td>177</td>\n",
       "      <td>102</td>\n",
       "      <td>68</td>\n",
       "      <td>37</td>\n",
       "      <td>26.5</td>\n",
       "      <td>11.0</td>\n",
       "      <td>2705</td>\n",
       "      <td>non-USA</td>\n",
       "      <td>Acura Integra</td>\n",
       "    </tr>\n",
       "    <tr>\n",
       "      <th>2</th>\n",
       "      <td>Acura</td>\n",
       "      <td>Legend</td>\n",
       "      <td>Midsize</td>\n",
       "      <td>29.2</td>\n",
       "      <td>33.9</td>\n",
       "      <td>38.7</td>\n",
       "      <td>18</td>\n",
       "      <td>25</td>\n",
       "      <td>Driver &amp; Passenger</td>\n",
       "      <td>Front</td>\n",
       "      <td>...</td>\n",
       "      <td>5</td>\n",
       "      <td>195</td>\n",
       "      <td>115</td>\n",
       "      <td>71</td>\n",
       "      <td>38</td>\n",
       "      <td>30.0</td>\n",
       "      <td>15.0</td>\n",
       "      <td>3560</td>\n",
       "      <td>non-USA</td>\n",
       "      <td>Acura Legend</td>\n",
       "    </tr>\n",
       "    <tr>\n",
       "      <th>3</th>\n",
       "      <td>Audi</td>\n",
       "      <td>90</td>\n",
       "      <td>Compact</td>\n",
       "      <td>25.9</td>\n",
       "      <td>29.1</td>\n",
       "      <td>32.3</td>\n",
       "      <td>20</td>\n",
       "      <td>26</td>\n",
       "      <td>Driver only</td>\n",
       "      <td>Front</td>\n",
       "      <td>...</td>\n",
       "      <td>5</td>\n",
       "      <td>180</td>\n",
       "      <td>102</td>\n",
       "      <td>67</td>\n",
       "      <td>37</td>\n",
       "      <td>28.0</td>\n",
       "      <td>14.0</td>\n",
       "      <td>3375</td>\n",
       "      <td>non-USA</td>\n",
       "      <td>Audi 90</td>\n",
       "    </tr>\n",
       "    <tr>\n",
       "      <th>4</th>\n",
       "      <td>Audi</td>\n",
       "      <td>100</td>\n",
       "      <td>Midsize</td>\n",
       "      <td>30.8</td>\n",
       "      <td>37.7</td>\n",
       "      <td>44.6</td>\n",
       "      <td>19</td>\n",
       "      <td>26</td>\n",
       "      <td>Driver &amp; Passenger</td>\n",
       "      <td>Front</td>\n",
       "      <td>...</td>\n",
       "      <td>6</td>\n",
       "      <td>193</td>\n",
       "      <td>106</td>\n",
       "      <td>70</td>\n",
       "      <td>37</td>\n",
       "      <td>31.0</td>\n",
       "      <td>17.0</td>\n",
       "      <td>3405</td>\n",
       "      <td>non-USA</td>\n",
       "      <td>Audi 100</td>\n",
       "    </tr>\n",
       "    <tr>\n",
       "      <th>5</th>\n",
       "      <td>BMW</td>\n",
       "      <td>535i</td>\n",
       "      <td>Midsize</td>\n",
       "      <td>23.7</td>\n",
       "      <td>30.0</td>\n",
       "      <td>36.2</td>\n",
       "      <td>22</td>\n",
       "      <td>30</td>\n",
       "      <td>Driver only</td>\n",
       "      <td>Rear</td>\n",
       "      <td>...</td>\n",
       "      <td>4</td>\n",
       "      <td>186</td>\n",
       "      <td>109</td>\n",
       "      <td>69</td>\n",
       "      <td>39</td>\n",
       "      <td>27.0</td>\n",
       "      <td>13.0</td>\n",
       "      <td>3640</td>\n",
       "      <td>non-USA</td>\n",
       "      <td>BMW 535i</td>\n",
       "    </tr>\n",
       "  </tbody>\n",
       "</table>\n",
       "<p>5 rows × 27 columns</p>\n",
       "</div>"
      ],
      "text/plain": [
       "  Manufacturer    Model     Type  Min.Price  Price  Max.Price  MPG.city  \\\n",
       "1        Acura  Integra    Small       12.9   15.9       18.8        25   \n",
       "2        Acura   Legend  Midsize       29.2   33.9       38.7        18   \n",
       "3         Audi       90  Compact       25.9   29.1       32.3        20   \n",
       "4         Audi      100  Midsize       30.8   37.7       44.6        19   \n",
       "5          BMW     535i  Midsize       23.7   30.0       36.2        22   \n",
       "\n",
       "   MPG.highway             AirBags DriveTrain  ... Passengers  Length  \\\n",
       "1           31                None      Front  ...          5     177   \n",
       "2           25  Driver & Passenger      Front  ...          5     195   \n",
       "3           26         Driver only      Front  ...          5     180   \n",
       "4           26  Driver & Passenger      Front  ...          6     193   \n",
       "5           30         Driver only       Rear  ...          4     186   \n",
       "\n",
       "   Wheelbase  Width  Turn.circle Rear.seat.room  Luggage.room  Weight  \\\n",
       "1        102     68           37           26.5          11.0    2705   \n",
       "2        115     71           38           30.0          15.0    3560   \n",
       "3        102     67           37           28.0          14.0    3375   \n",
       "4        106     70           37           31.0          17.0    3405   \n",
       "5        109     69           39           27.0          13.0    3640   \n",
       "\n",
       "    Origin           Make  \n",
       "1  non-USA  Acura Integra  \n",
       "2  non-USA   Acura Legend  \n",
       "3  non-USA        Audi 90  \n",
       "4  non-USA       Audi 100  \n",
       "5  non-USA       BMW 535i  \n",
       "\n",
       "[5 rows x 27 columns]"
      ]
     },
     "execution_count": 3,
     "metadata": {
      "tags": []
     },
     "output_type": "execute_result"
    }
   ],
   "source": [
    "import pandas as pd\n",
    "cars93_df=pd.read_csv(r'C:\\ISLR-python-master\\Notebooks\\Data\\Cars93.csv', index_col='Unnamed: 0')\n",
    "cars93_df.head()"
   ]
  },
  {
   "cell_type": "code",
   "execution_count": null,
   "metadata": {
    "id": "yrL64xKLFN0I"
   },
   "outputs": [],
   "source": [
    "import statsmodels.api as sm\n",
    "from statsmodels.formula.api import ols\n",
    "question13_result = ols('Price ~ EngineSize', data=cars93_df).fit()"
   ]
  },
  {
   "cell_type": "code",
   "execution_count": null,
   "metadata": {
    "id": "LlHzJsHTFN0I",
    "outputId": "bb50a83c-22f4-43a2-8c2b-1eaf28b623bc"
   },
   "outputs": [
    {
     "data": {
      "text/html": [
       "<table class=\"simpletable\">\n",
       "<caption>OLS Regression Results</caption>\n",
       "<tr>\n",
       "  <th>Dep. Variable:</th>          <td>Price</td>      <th>  R-squared:         </th> <td>   0.357</td>\n",
       "</tr>\n",
       "<tr>\n",
       "  <th>Model:</th>                   <td>OLS</td>       <th>  Adj. R-squared:    </th> <td>   0.350</td>\n",
       "</tr>\n",
       "<tr>\n",
       "  <th>Method:</th>             <td>Least Squares</td>  <th>  F-statistic:       </th> <td>   50.51</td>\n",
       "</tr>\n",
       "<tr>\n",
       "  <th>Date:</th>             <td>Thu, 15 Jul 2021</td> <th>  Prob (F-statistic):</th> <td>2.59e-10</td>\n",
       "</tr>\n",
       "<tr>\n",
       "  <th>Time:</th>                 <td>22:27:19</td>     <th>  Log-Likelihood:    </th> <td> -321.85</td>\n",
       "</tr>\n",
       "<tr>\n",
       "  <th>No. Observations:</th>      <td>    93</td>      <th>  AIC:               </th> <td>   647.7</td>\n",
       "</tr>\n",
       "<tr>\n",
       "  <th>Df Residuals:</th>          <td>    91</td>      <th>  BIC:               </th> <td>   652.8</td>\n",
       "</tr>\n",
       "<tr>\n",
       "  <th>Df Model:</th>              <td>     1</td>      <th>                     </th>     <td> </td>   \n",
       "</tr>\n",
       "<tr>\n",
       "  <th>Covariance Type:</th>      <td>nonrobust</td>    <th>                     </th>     <td> </td>   \n",
       "</tr>\n",
       "</table>\n",
       "<table class=\"simpletable\">\n",
       "<tr>\n",
       "       <td></td>         <th>coef</th>     <th>std err</th>      <th>t</th>      <th>P>|t|</th>  <th>[0.025</th>    <th>0.975]</th>  \n",
       "</tr>\n",
       "<tr>\n",
       "  <th>Intercept</th>  <td>    4.6692</td> <td>    2.239</td> <td>    2.085</td> <td> 0.040</td> <td>    0.222</td> <td>    9.117</td>\n",
       "</tr>\n",
       "<tr>\n",
       "  <th>EngineSize</th> <td>    5.5629</td> <td>    0.783</td> <td>    7.107</td> <td> 0.000</td> <td>    4.008</td> <td>    7.118</td>\n",
       "</tr>\n",
       "</table>\n",
       "<table class=\"simpletable\">\n",
       "<tr>\n",
       "  <th>Omnibus:</th>       <td>54.332</td> <th>  Durbin-Watson:     </th> <td>   1.172</td>\n",
       "</tr>\n",
       "<tr>\n",
       "  <th>Prob(Omnibus):</th> <td> 0.000</td> <th>  Jarque-Bera (JB):  </th> <td> 217.069</td>\n",
       "</tr>\n",
       "<tr>\n",
       "  <th>Skew:</th>          <td> 1.917</td> <th>  Prob(JB):          </th> <td>7.31e-48</td>\n",
       "</tr>\n",
       "<tr>\n",
       "  <th>Kurtosis:</th>      <td> 9.428</td> <th>  Cond. No.          </th> <td>    8.78</td>\n",
       "</tr>\n",
       "</table><br/><br/>Notes:<br/>[1] Standard Errors assume that the covariance matrix of the errors is correctly specified."
      ],
      "text/plain": [
       "<class 'statsmodels.iolib.summary.Summary'>\n",
       "\"\"\"\n",
       "                            OLS Regression Results                            \n",
       "==============================================================================\n",
       "Dep. Variable:                  Price   R-squared:                       0.357\n",
       "Model:                            OLS   Adj. R-squared:                  0.350\n",
       "Method:                 Least Squares   F-statistic:                     50.51\n",
       "Date:                Thu, 15 Jul 2021   Prob (F-statistic):           2.59e-10\n",
       "Time:                        22:27:19   Log-Likelihood:                -321.85\n",
       "No. Observations:                  93   AIC:                             647.7\n",
       "Df Residuals:                      91   BIC:                             652.8\n",
       "Df Model:                           1                                         \n",
       "Covariance Type:            nonrobust                                         \n",
       "==============================================================================\n",
       "                 coef    std err          t      P>|t|      [0.025      0.975]\n",
       "------------------------------------------------------------------------------\n",
       "Intercept      4.6692      2.239      2.085      0.040       0.222       9.117\n",
       "EngineSize     5.5629      0.783      7.107      0.000       4.008       7.118\n",
       "==============================================================================\n",
       "Omnibus:                       54.332   Durbin-Watson:                   1.172\n",
       "Prob(Omnibus):                  0.000   Jarque-Bera (JB):              217.069\n",
       "Skew:                           1.917   Prob(JB):                     7.31e-48\n",
       "Kurtosis:                       9.428   Cond. No.                         8.78\n",
       "==============================================================================\n",
       "\n",
       "Notes:\n",
       "[1] Standard Errors assume that the covariance matrix of the errors is correctly specified.\n",
       "\"\"\""
      ]
     },
     "execution_count": 6,
     "metadata": {
      "tags": []
     },
     "output_type": "execute_result"
    }
   ],
   "source": [
    "question13_result.summary()"
   ]
  },
  {
   "cell_type": "markdown",
   "metadata": {
    "id": "d9tFWDPVFN0J"
   },
   "source": [
    "결과해석: Price를 종속변수로, Engine size를 독립변수로 설정한 단순선형회귀분석 수행결과,    \n",
    "    Engine size 변수항의 p value<0.001로 해당 항의 기울기가 0이라는 영가설을 기각하여   \n",
    "    engine size는 price를 예측하는 것을 알 수 있음.    \n",
    "    \n",
    "* <font color=blue> 회귀분석 결과를 설명할 때 기본적으로 논하는 항목이 무엇이 있는지 list up하는 것이 필요함. "
   ]
  },
  {
   "cell_type": "markdown",
   "metadata": {
    "id": "yOlyq7ZEFN0J"
   },
   "source": [
    "##### 4. R을 이용한 선형회귀모형 진단\n",
    "Question 14) 위 예제에서 생성한 선형회귀모델 Cars93_lm을 평가할 수 있는    \n",
    "다양한 그래프를 생성한 후 해석해보자. \"모형진단그래프 그리기\"\n",
    "\n",
    "* R이 훨씬 쉽다. R 사용을 고려해보자. "
   ]
  },
  {
   "cell_type": "code",
   "execution_count": null,
   "metadata": {
    "id": "TQW3FfySFN0K",
    "outputId": "0247a55d-bbbc-420e-a65b-ae701f81a4f6"
   },
   "outputs": [
    {
     "data": {
      "text/plain": [
       "<AxesSubplot:xlabel='Price', ylabel='EngineSize'>"
      ]
     },
     "execution_count": 26,
     "metadata": {
      "tags": []
     },
     "output_type": "execute_result"
    },
    {
     "data": {
      "image/png": "[encoded data removed]",
      "text/plain": [
       "<Figure size 432x288 with 1 Axes>"
      ]
     },
     "metadata": {
      "needs_background": "light",
      "tags": []
     },
     "output_type": "display_data"
    }
   ],
   "source": [
    "# 회귀 직선\n",
    "\n",
    "import numpy as np\n",
    "import seaborn as sns\n",
    "import matplotlib.pyplot as plt\n",
    "sns.regplot(x=\"Price\", y=\"EngineSize\", data=cars93_df)"
   ]
  },
  {
   "cell_type": "code",
   "execution_count": null,
   "metadata": {
    "id": "_8uREfS1FN0K",
    "outputId": "794b6d97-8de2-449d-bb1a-a816a1b055e7"
   },
   "outputs": [
    {
     "data": {
      "text/plain": [
       "<AxesSubplot:xlabel='Price', ylabel='EngineSize'>"
      ]
     },
     "execution_count": 14,
     "metadata": {
      "tags": []
     },
     "output_type": "execute_result"
    },
    {
     "data": {
      "image/png": "[encoded data removed]",
      "text/plain": [
       "<Figure size 432x288 with 1 Axes>"
      ]
     },
     "metadata": {
      "needs_background": "light",
      "tags": []
     },
     "output_type": "display_data"
    }
   ],
   "source": [
    "#1. Residuals vs Fitted plot\n",
    "sns.residplot(x=\"Price\", y=\"EngineSize\", data=cars93_df)"
   ]
  },
  {
   "cell_type": "markdown",
   "metadata": {
    "id": "hxV6yWvrFN0L"
   },
   "source": [
    "check point: Y 잔차의 평균은 0을 중심으로 일정하게 패턴 없이 분포되어 있어야 함."
   ]
  },
  {
   "cell_type": "code",
   "execution_count": null,
   "metadata": {
    "id": "35oNW1JRFN0M",
    "outputId": "8cc74cbc-bfb6-4304-fb37-5eda03c07109"
   },
   "outputs": [
    {
     "data": {
      "image/png": "[encoded data removed]",
      "text/plain": [
       "<Figure size 432x288 with 1 Axes>"
      ]
     },
     "metadata": {
      "needs_background": "light",
      "tags": []
     },
     "output_type": "display_data"
    }
   ],
   "source": [
    "#2. Normal Q-Q plot\n",
    "model_residuals = question13_result.resid\n",
    "\n",
    "from scipy import stats\n",
    "res = stats.probplot(model_residuals , plot=plt)\n",
    "plt.show()"
   ]
  },
  {
   "cell_type": "markdown",
   "metadata": {
    "id": "yenhWH41FN0M"
   },
   "source": [
    "check point: 잔차가 정규분포를 따르는지 확인"
   ]
  },
  {
   "cell_type": "code",
   "execution_count": null,
   "metadata": {
    "id": "GeNNPvWGFN0M"
   },
   "outputs": [],
   "source": [
    "#3. scale-location plot --> skip 개념도 모른다. "
   ]
  },
  {
   "cell_type": "code",
   "execution_count": null,
   "metadata": {
    "id": "HYKEB7PvFN0N"
   },
   "outputs": [],
   "source": [
    "# 4. Residuals vs Leverage (Cook's distance)"
   ]
  },
  {
   "cell_type": "code",
   "execution_count": null,
   "metadata": {
    "id": "ARaMtUf4FN0N",
    "outputId": "604b8a34-a198-4bc6-9df2-c1f08ec98637"
   },
   "outputs": [
    {
     "name": "stderr",
     "output_type": "stream",
     "text": [
      "C:\\myeongju\\lib\\site-packages\\seaborn\\_decorators.py:36: FutureWarning: Pass the following variables as keyword args: x, y. From version 0.12, the only valid positional argument will be `data`, and passing other arguments without an explicit keyword will result in an error or misinterpretation.\n",
      "  warnings.warn(\n"
     ]
    },
    {
     "data": {
      "image/png": "[encoded data removed]",
      "text/plain": [
       "<Figure size 432x288 with 1 Axes>"
      ]
     },
     "metadata": {
      "needs_background": "light",
      "tags": []
     },
     "output_type": "display_data"
    }
   ],
   "source": [
    "model_norm_residuals = question13_result.get_influence().resid_studentized_internal\n",
    "model_leverage = question13_result.get_influence().hat_matrix_diag\n",
    "model_cooks = question13_result.get_influence().cooks_distance[0]\n",
    "\n",
    "\n",
    "plot_leverage = plt.figure()\n",
    "plt.scatter(model_leverage, model_norm_residuals, alpha=0.5);\n",
    "sns.regplot(model_leverage, model_norm_residuals,\n",
    "            scatter=False,\n",
    "            ci=False,\n",
    "            lowess=True,\n",
    "            line_kws={'color': 'red', 'lw': 1, 'alpha': 0.8});\n",
    "plot_leverage.axes[0].set_xlim(0, max(model_leverage)+0.01)\n",
    "plot_leverage.axes[0].set_ylim(-3, 5)\n",
    "plot_leverage.axes[0].set_title('Residuals vs Leverage')\n",
    "plot_leverage.axes[0].set_xlabel('Leverage')\n",
    "plot_leverage.axes[0].set_ylabel('Standardized Residuals');\n",
    "\n",
    "# annotations\n",
    "leverage_top_3 = np.flip(np.argsort(model_cooks), 0)[:3]\n",
    "for i in leverage_top_3:\n",
    "    plot_leverage.axes[0].annotate(i,\n",
    "                                   xy=(model_leverage[i],\n",
    "                                       model_norm_residuals[i]));"
   ]
  },
  {
   "cell_type": "markdown",
   "metadata": {
    "id": "2ps-ciASFN0O"
   },
   "source": [
    "check point: 레버리지는 설명변수가 얼마나 극단에 치우쳐 있는지를 뜻함.    \n",
    "빨간 dash line으로 Cook’s distance를 표시함. "
   ]
  },
  {
   "cell_type": "markdown",
   "metadata": {
    "id": "_Nb4X3UGFN0O"
   },
   "source": [
    "##### 5. 선형회귀모형을 활용한 예측\n",
    "Question 14) MASS패키지에서 제공하는 Cars93 데이터의 엔진크기(EngineSize)를 독립변수,    \n",
    "가격(Price)를 종속변수로 설정하여 회귀모형을 생성한 후, Cars93 데이터의 5개 행을 랜덤으로 뽑아 가격(Price)을 예측해보자.    \n",
    "예측 시 predict 함수의 interval 인자값을 조정하며 그 결과를 비교해보자.   "
   ]
  },
  {
   "cell_type": "code",
   "execution_count": null,
   "metadata": {
    "id": "Z9Rfxc1iFN0O",
    "outputId": "5b99045d-a825-4253-86cf-74c581464e66"
   },
   "outputs": [
    {
     "data": {
      "text/plain": [
       "(93, 27)"
      ]
     },
     "execution_count": 27,
     "metadata": {
      "tags": []
     },
     "output_type": "execute_result"
    }
   ],
   "source": [
    "cars93_df.shape"
   ]
  },
  {
   "cell_type": "code",
   "execution_count": null,
   "metadata": {
    "id": "QJUNhcRrFN0P",
    "outputId": "623f0a7b-dacc-4be9-915c-a62dd79a9a58"
   },
   "outputs": [
    {
     "data": {
      "text/html": [
       "<div>\n",
       "<style scoped>\n",
       "    .dataframe tbody tr th:only-of-type {\n",
       "        vertical-align: middle;\n",
       "    }\n",
       "\n",
       "    .dataframe tbody tr th {\n",
       "        vertical-align: top;\n",
       "    }\n",
       "\n",
       "    .dataframe thead th {\n",
       "        text-align: right;\n",
       "    }\n",
       "</style>\n",
       "<table border=\"1\" class=\"dataframe\">\n",
       "  <thead>\n",
       "    <tr style=\"text-align: right;\">\n",
       "      <th></th>\n",
       "      <th>Manufacturer</th>\n",
       "      <th>Model</th>\n",
       "      <th>Type</th>\n",
       "      <th>Min.Price</th>\n",
       "      <th>Price</th>\n",
       "      <th>Max.Price</th>\n",
       "      <th>MPG.city</th>\n",
       "      <th>MPG.highway</th>\n",
       "      <th>AirBags</th>\n",
       "      <th>DriveTrain</th>\n",
       "      <th>...</th>\n",
       "      <th>Passengers</th>\n",
       "      <th>Length</th>\n",
       "      <th>Wheelbase</th>\n",
       "      <th>Width</th>\n",
       "      <th>Turn.circle</th>\n",
       "      <th>Rear.seat.room</th>\n",
       "      <th>Luggage.room</th>\n",
       "      <th>Weight</th>\n",
       "      <th>Origin</th>\n",
       "      <th>Make</th>\n",
       "    </tr>\n",
       "  </thead>\n",
       "  <tbody>\n",
       "    <tr>\n",
       "      <th>46</th>\n",
       "      <td>Hyundai</td>\n",
       "      <td>Scoupe</td>\n",
       "      <td>Sporty</td>\n",
       "      <td>9.1</td>\n",
       "      <td>10.0</td>\n",
       "      <td>11.0</td>\n",
       "      <td>26</td>\n",
       "      <td>34</td>\n",
       "      <td>None</td>\n",
       "      <td>Front</td>\n",
       "      <td>...</td>\n",
       "      <td>4</td>\n",
       "      <td>166</td>\n",
       "      <td>94</td>\n",
       "      <td>64</td>\n",
       "      <td>34</td>\n",
       "      <td>23.5</td>\n",
       "      <td>9.0</td>\n",
       "      <td>2285</td>\n",
       "      <td>non-USA</td>\n",
       "      <td>Hyundai Scoupe</td>\n",
       "    </tr>\n",
       "    <tr>\n",
       "      <th>93</th>\n",
       "      <td>Volvo</td>\n",
       "      <td>850</td>\n",
       "      <td>Midsize</td>\n",
       "      <td>24.8</td>\n",
       "      <td>26.7</td>\n",
       "      <td>28.5</td>\n",
       "      <td>20</td>\n",
       "      <td>28</td>\n",
       "      <td>Driver &amp; Passenger</td>\n",
       "      <td>Front</td>\n",
       "      <td>...</td>\n",
       "      <td>5</td>\n",
       "      <td>184</td>\n",
       "      <td>105</td>\n",
       "      <td>69</td>\n",
       "      <td>38</td>\n",
       "      <td>30.0</td>\n",
       "      <td>15.0</td>\n",
       "      <td>3245</td>\n",
       "      <td>non-USA</td>\n",
       "      <td>Volvo 850</td>\n",
       "    </tr>\n",
       "    <tr>\n",
       "      <th>49</th>\n",
       "      <td>Lexus</td>\n",
       "      <td>ES300</td>\n",
       "      <td>Midsize</td>\n",
       "      <td>27.5</td>\n",
       "      <td>28.0</td>\n",
       "      <td>28.4</td>\n",
       "      <td>18</td>\n",
       "      <td>24</td>\n",
       "      <td>Driver only</td>\n",
       "      <td>Front</td>\n",
       "      <td>...</td>\n",
       "      <td>5</td>\n",
       "      <td>188</td>\n",
       "      <td>103</td>\n",
       "      <td>70</td>\n",
       "      <td>40</td>\n",
       "      <td>27.5</td>\n",
       "      <td>14.0</td>\n",
       "      <td>3510</td>\n",
       "      <td>non-USA</td>\n",
       "      <td>Lexus ES300</td>\n",
       "    </tr>\n",
       "    <tr>\n",
       "      <th>24</th>\n",
       "      <td>Dodge</td>\n",
       "      <td>Shadow</td>\n",
       "      <td>Small</td>\n",
       "      <td>8.4</td>\n",
       "      <td>11.3</td>\n",
       "      <td>14.2</td>\n",
       "      <td>23</td>\n",
       "      <td>29</td>\n",
       "      <td>Driver only</td>\n",
       "      <td>Front</td>\n",
       "      <td>...</td>\n",
       "      <td>5</td>\n",
       "      <td>172</td>\n",
       "      <td>97</td>\n",
       "      <td>67</td>\n",
       "      <td>38</td>\n",
       "      <td>26.5</td>\n",
       "      <td>13.0</td>\n",
       "      <td>2670</td>\n",
       "      <td>USA</td>\n",
       "      <td>Dodge Shadow</td>\n",
       "    </tr>\n",
       "    <tr>\n",
       "      <th>83</th>\n",
       "      <td>Suzuki</td>\n",
       "      <td>Swift</td>\n",
       "      <td>Small</td>\n",
       "      <td>7.3</td>\n",
       "      <td>8.6</td>\n",
       "      <td>10.0</td>\n",
       "      <td>39</td>\n",
       "      <td>43</td>\n",
       "      <td>None</td>\n",
       "      <td>Front</td>\n",
       "      <td>...</td>\n",
       "      <td>4</td>\n",
       "      <td>161</td>\n",
       "      <td>93</td>\n",
       "      <td>63</td>\n",
       "      <td>34</td>\n",
       "      <td>27.5</td>\n",
       "      <td>10.0</td>\n",
       "      <td>1965</td>\n",
       "      <td>non-USA</td>\n",
       "      <td>Suzuki Swift</td>\n",
       "    </tr>\n",
       "  </tbody>\n",
       "</table>\n",
       "<p>5 rows × 27 columns</p>\n",
       "</div>"
      ],
      "text/plain": [
       "   Manufacturer   Model     Type  Min.Price  Price  Max.Price  MPG.city  \\\n",
       "46      Hyundai  Scoupe   Sporty        9.1   10.0       11.0        26   \n",
       "93        Volvo     850  Midsize       24.8   26.7       28.5        20   \n",
       "49        Lexus   ES300  Midsize       27.5   28.0       28.4        18   \n",
       "24        Dodge  Shadow    Small        8.4   11.3       14.2        23   \n",
       "83       Suzuki   Swift    Small        7.3    8.6       10.0        39   \n",
       "\n",
       "    MPG.highway             AirBags DriveTrain  ... Passengers  Length  \\\n",
       "46           34                None      Front  ...          4     166   \n",
       "93           28  Driver & Passenger      Front  ...          5     184   \n",
       "49           24         Driver only      Front  ...          5     188   \n",
       "24           29         Driver only      Front  ...          5     172   \n",
       "83           43                None      Front  ...          4     161   \n",
       "\n",
       "    Wheelbase  Width  Turn.circle Rear.seat.room  Luggage.room  Weight  \\\n",
       "46         94     64           34           23.5           9.0    2285   \n",
       "93        105     69           38           30.0          15.0    3245   \n",
       "49        103     70           40           27.5          14.0    3510   \n",
       "24         97     67           38           26.5          13.0    2670   \n",
       "83         93     63           34           27.5          10.0    1965   \n",
       "\n",
       "     Origin            Make  \n",
       "46  non-USA  Hyundai Scoupe  \n",
       "93  non-USA       Volvo 850  \n",
       "49  non-USA     Lexus ES300  \n",
       "24      USA    Dodge Shadow  \n",
       "83  non-USA    Suzuki Swift  \n",
       "\n",
       "[5 rows x 27 columns]"
      ]
     },
     "execution_count": 28,
     "metadata": {
      "tags": []
     },
     "output_type": "execute_result"
    }
   ],
   "source": [
    "cars93_df.sample(n=5)"
   ]
  },
  {
   "cell_type": "code",
   "execution_count": null,
   "metadata": {
    "id": "CQFZzGMrFN0P",
    "outputId": "da677d3d-9fb7-499b-c44f-a417708a098d"
   },
   "outputs": [
    {
     "data": {
      "text/plain": [
       "32    14.682481\n",
       "55    18.576539\n",
       "15    16.907657\n",
       "85    16.907657\n",
       "19    36.377948\n",
       "dtype: float64"
      ]
     },
     "execution_count": 29,
     "metadata": {
      "tags": []
     },
     "output_type": "execute_result"
    }
   ],
   "source": [
    "question13_result.predict(cars93_df.sample(n=5))"
   ]
  },
  {
   "cell_type": "markdown",
   "metadata": {
    "id": "9IV2FzT7FN0Q"
   },
   "source": [
    "* <font color=blue> 점추정만 알뿐 구간 추정을 몰라서 일단 skip"
   ]
  },
  {
   "cell_type": "markdown",
   "metadata": {
    "id": "mjA4wWnAFN0Q"
   },
   "source": [
    "#### 3절 | 다중선형회귀분석\n",
    "\n",
    "##### 3. 더미변수(dummy variable)\n",
    "Question 15)  R에서 회귀모형을 생성하는 lm함수는 데이터에 범주형 변수가 포함되어 있을 경우,    \n",
    "이를 자동으로 더미변수로 변환하여 회귀모형을 생성한다.    \n",
    "이 과정을 더 자세히 이해하기 위해 범주형 변수(Spceies)가 포함된 iris데이터에서    \n",
    "Petal.Length를 종속변수로 두고 나머지 변수들을 독립변수로 설정한 회귀모형을 생성하고 그 결과를 살펴보자.   "
   ]
  },
  {
   "cell_type": "code",
   "execution_count": null,
   "metadata": {
    "id": "4xV4K8p-FN0Q",
    "outputId": "b28f7d19-6536-4062-ae99-2be215ec6bd7"
   },
   "outputs": [
    {
     "data": {
      "text/html": [
       "<div>\n",
       "<style scoped>\n",
       "    .dataframe tbody tr th:only-of-type {\n",
       "        vertical-align: middle;\n",
       "    }\n",
       "\n",
       "    .dataframe tbody tr th {\n",
       "        vertical-align: top;\n",
       "    }\n",
       "\n",
       "    .dataframe thead th {\n",
       "        text-align: right;\n",
       "    }\n",
       "</style>\n",
       "<table border=\"1\" class=\"dataframe\">\n",
       "  <thead>\n",
       "    <tr style=\"text-align: right;\">\n",
       "      <th></th>\n",
       "      <th>sepal_length</th>\n",
       "      <th>sepal_width</th>\n",
       "      <th>petal_length</th>\n",
       "      <th>petal_width</th>\n",
       "      <th>species</th>\n",
       "    </tr>\n",
       "  </thead>\n",
       "  <tbody>\n",
       "    <tr>\n",
       "      <th>0</th>\n",
       "      <td>5.1</td>\n",
       "      <td>3.5</td>\n",
       "      <td>1.4</td>\n",
       "      <td>0.2</td>\n",
       "      <td>setosa</td>\n",
       "    </tr>\n",
       "    <tr>\n",
       "      <th>1</th>\n",
       "      <td>4.9</td>\n",
       "      <td>3.0</td>\n",
       "      <td>1.4</td>\n",
       "      <td>0.2</td>\n",
       "      <td>setosa</td>\n",
       "    </tr>\n",
       "    <tr>\n",
       "      <th>2</th>\n",
       "      <td>4.7</td>\n",
       "      <td>3.2</td>\n",
       "      <td>1.3</td>\n",
       "      <td>0.2</td>\n",
       "      <td>setosa</td>\n",
       "    </tr>\n",
       "    <tr>\n",
       "      <th>3</th>\n",
       "      <td>4.6</td>\n",
       "      <td>3.1</td>\n",
       "      <td>1.5</td>\n",
       "      <td>0.2</td>\n",
       "      <td>setosa</td>\n",
       "    </tr>\n",
       "    <tr>\n",
       "      <th>4</th>\n",
       "      <td>5.0</td>\n",
       "      <td>3.6</td>\n",
       "      <td>1.4</td>\n",
       "      <td>0.2</td>\n",
       "      <td>setosa</td>\n",
       "    </tr>\n",
       "  </tbody>\n",
       "</table>\n",
       "</div>"
      ],
      "text/plain": [
       "   sepal_length  sepal_width  petal_length  petal_width species\n",
       "0           5.1          3.5           1.4          0.2  setosa\n",
       "1           4.9          3.0           1.4          0.2  setosa\n",
       "2           4.7          3.2           1.3          0.2  setosa\n",
       "3           4.6          3.1           1.5          0.2  setosa\n",
       "4           5.0          3.6           1.4          0.2  setosa"
      ]
     },
     "execution_count": 4,
     "metadata": {
      "tags": []
     },
     "output_type": "execute_result"
    }
   ],
   "source": [
    "import statsmodels.api as sm\n",
    "import seaborn as sns\n",
    "from sklearn.linear_model import LinearRegression \n",
    "from sklearn.datasets import load_iris \n",
    "from statsmodels.formula.api import ols\n",
    "iris=load_iris()\n",
    "iris_df = sns.load_dataset('iris')\n",
    "iris_df.head()"
   ]
  },
  {
   "cell_type": "code",
   "execution_count": null,
   "metadata": {
    "id": "uOLzfOTeFN0Q"
   },
   "outputs": [],
   "source": [
    "iris_df.columns\n",
    "iris_x=iris_df[['sepal_length', 'sepal_width', 'petal_width', 'species']]\n",
    "iris_y=iris_df['petal_length']"
   ]
  },
  {
   "cell_type": "code",
   "execution_count": null,
   "metadata": {
    "id": "-RBo1dY8FN0R",
    "outputId": "80161b1a-a1fb-4a9f-8b48-e3cdf53561a9"
   },
   "outputs": [
    {
     "ename": "ValueError",
     "evalue": "could not convert string to float: 'setosa'",
     "output_type": "error",
     "traceback": [
      "\u001b[1;31m---------------------------------------------------------------------------\u001b[0m",
      "\u001b[1;31mValueError\u001b[0m                                Traceback (most recent call last)",
      "\u001b[1;32m<ipython-input-7-20daaf49e7cf>\u001b[0m in \u001b[0;36m<module>\u001b[1;34m\u001b[0m\n\u001b[1;32m----> 1\u001b[1;33m \u001b[0mquestion15_result\u001b[0m \u001b[1;33m=\u001b[0m \u001b[0mLinearRegression\u001b[0m\u001b[1;33m(\u001b[0m\u001b[1;33m)\u001b[0m\u001b[1;33m.\u001b[0m\u001b[0mfit\u001b[0m\u001b[1;33m(\u001b[0m\u001b[0miris_x\u001b[0m\u001b[1;33m,\u001b[0m \u001b[0miris_y\u001b[0m\u001b[1;33m)\u001b[0m\u001b[1;33m\u001b[0m\u001b[1;33m\u001b[0m\u001b[0m\n\u001b[0m",
      "\u001b[1;32mC:\\myeongju\\lib\\site-packages\\sklearn\\linear_model\\_base.py\u001b[0m in \u001b[0;36mfit\u001b[1;34m(self, X, y, sample_weight)\u001b[0m\n\u001b[0;32m    503\u001b[0m \u001b[1;33m\u001b[0m\u001b[0m\n\u001b[0;32m    504\u001b[0m         \u001b[0mn_jobs_\u001b[0m \u001b[1;33m=\u001b[0m \u001b[0mself\u001b[0m\u001b[1;33m.\u001b[0m\u001b[0mn_jobs\u001b[0m\u001b[1;33m\u001b[0m\u001b[1;33m\u001b[0m\u001b[0m\n\u001b[1;32m--> 505\u001b[1;33m         X, y = self._validate_data(X, y, accept_sparse=['csr', 'csc', 'coo'],\n\u001b[0m\u001b[0;32m    506\u001b[0m                                    y_numeric=True, multi_output=True)\n\u001b[0;32m    507\u001b[0m \u001b[1;33m\u001b[0m\u001b[0m\n",
      "\u001b[1;32mC:\\myeongju\\lib\\site-packages\\sklearn\\base.py\u001b[0m in \u001b[0;36m_validate_data\u001b[1;34m(self, X, y, reset, validate_separately, **check_params)\u001b[0m\n\u001b[0;32m    430\u001b[0m                 \u001b[0my\u001b[0m \u001b[1;33m=\u001b[0m \u001b[0mcheck_array\u001b[0m\u001b[1;33m(\u001b[0m\u001b[0my\u001b[0m\u001b[1;33m,\u001b[0m \u001b[1;33m**\u001b[0m\u001b[0mcheck_y_params\u001b[0m\u001b[1;33m)\u001b[0m\u001b[1;33m\u001b[0m\u001b[1;33m\u001b[0m\u001b[0m\n\u001b[0;32m    431\u001b[0m             \u001b[1;32melse\u001b[0m\u001b[1;33m:\u001b[0m\u001b[1;33m\u001b[0m\u001b[1;33m\u001b[0m\u001b[0m\n\u001b[1;32m--> 432\u001b[1;33m                 \u001b[0mX\u001b[0m\u001b[1;33m,\u001b[0m \u001b[0my\u001b[0m \u001b[1;33m=\u001b[0m \u001b[0mcheck_X_y\u001b[0m\u001b[1;33m(\u001b[0m\u001b[0mX\u001b[0m\u001b[1;33m,\u001b[0m \u001b[0my\u001b[0m\u001b[1;33m,\u001b[0m \u001b[1;33m**\u001b[0m\u001b[0mcheck_params\u001b[0m\u001b[1;33m)\u001b[0m\u001b[1;33m\u001b[0m\u001b[1;33m\u001b[0m\u001b[0m\n\u001b[0m\u001b[0;32m    433\u001b[0m             \u001b[0mout\u001b[0m \u001b[1;33m=\u001b[0m \u001b[0mX\u001b[0m\u001b[1;33m,\u001b[0m \u001b[0my\u001b[0m\u001b[1;33m\u001b[0m\u001b[1;33m\u001b[0m\u001b[0m\n\u001b[0;32m    434\u001b[0m \u001b[1;33m\u001b[0m\u001b[0m\n",
      "\u001b[1;32mC:\\myeongju\\lib\\site-packages\\sklearn\\utils\\validation.py\u001b[0m in \u001b[0;36minner_f\u001b[1;34m(*args, **kwargs)\u001b[0m\n\u001b[0;32m     70\u001b[0m                           FutureWarning)\n\u001b[0;32m     71\u001b[0m         \u001b[0mkwargs\u001b[0m\u001b[1;33m.\u001b[0m\u001b[0mupdate\u001b[0m\u001b[1;33m(\u001b[0m\u001b[1;33m{\u001b[0m\u001b[0mk\u001b[0m\u001b[1;33m:\u001b[0m \u001b[0marg\u001b[0m \u001b[1;32mfor\u001b[0m \u001b[0mk\u001b[0m\u001b[1;33m,\u001b[0m \u001b[0marg\u001b[0m \u001b[1;32min\u001b[0m \u001b[0mzip\u001b[0m\u001b[1;33m(\u001b[0m\u001b[0msig\u001b[0m\u001b[1;33m.\u001b[0m\u001b[0mparameters\u001b[0m\u001b[1;33m,\u001b[0m \u001b[0margs\u001b[0m\u001b[1;33m)\u001b[0m\u001b[1;33m}\u001b[0m\u001b[1;33m)\u001b[0m\u001b[1;33m\u001b[0m\u001b[1;33m\u001b[0m\u001b[0m\n\u001b[1;32m---> 72\u001b[1;33m         \u001b[1;32mreturn\u001b[0m \u001b[0mf\u001b[0m\u001b[1;33m(\u001b[0m\u001b[1;33m**\u001b[0m\u001b[0mkwargs\u001b[0m\u001b[1;33m)\u001b[0m\u001b[1;33m\u001b[0m\u001b[1;33m\u001b[0m\u001b[0m\n\u001b[0m\u001b[0;32m     73\u001b[0m     \u001b[1;32mreturn\u001b[0m \u001b[0minner_f\u001b[0m\u001b[1;33m\u001b[0m\u001b[1;33m\u001b[0m\u001b[0m\n\u001b[0;32m     74\u001b[0m \u001b[1;33m\u001b[0m\u001b[0m\n",
      "\u001b[1;32mC:\\myeongju\\lib\\site-packages\\sklearn\\utils\\validation.py\u001b[0m in \u001b[0;36mcheck_X_y\u001b[1;34m(X, y, accept_sparse, accept_large_sparse, dtype, order, copy, force_all_finite, ensure_2d, allow_nd, multi_output, ensure_min_samples, ensure_min_features, y_numeric, estimator)\u001b[0m\n\u001b[0;32m    793\u001b[0m         \u001b[1;32mraise\u001b[0m \u001b[0mValueError\u001b[0m\u001b[1;33m(\u001b[0m\u001b[1;34m\"y cannot be None\"\u001b[0m\u001b[1;33m)\u001b[0m\u001b[1;33m\u001b[0m\u001b[1;33m\u001b[0m\u001b[0m\n\u001b[0;32m    794\u001b[0m \u001b[1;33m\u001b[0m\u001b[0m\n\u001b[1;32m--> 795\u001b[1;33m     X = check_array(X, accept_sparse=accept_sparse,\n\u001b[0m\u001b[0;32m    796\u001b[0m                     \u001b[0maccept_large_sparse\u001b[0m\u001b[1;33m=\u001b[0m\u001b[0maccept_large_sparse\u001b[0m\u001b[1;33m,\u001b[0m\u001b[1;33m\u001b[0m\u001b[1;33m\u001b[0m\u001b[0m\n\u001b[0;32m    797\u001b[0m                     \u001b[0mdtype\u001b[0m\u001b[1;33m=\u001b[0m\u001b[0mdtype\u001b[0m\u001b[1;33m,\u001b[0m \u001b[0morder\u001b[0m\u001b[1;33m=\u001b[0m\u001b[0morder\u001b[0m\u001b[1;33m,\u001b[0m \u001b[0mcopy\u001b[0m\u001b[1;33m=\u001b[0m\u001b[0mcopy\u001b[0m\u001b[1;33m,\u001b[0m\u001b[1;33m\u001b[0m\u001b[1;33m\u001b[0m\u001b[0m\n",
      "\u001b[1;32mC:\\myeongju\\lib\\site-packages\\sklearn\\utils\\validation.py\u001b[0m in \u001b[0;36minner_f\u001b[1;34m(*args, **kwargs)\u001b[0m\n\u001b[0;32m     70\u001b[0m                           FutureWarning)\n\u001b[0;32m     71\u001b[0m         \u001b[0mkwargs\u001b[0m\u001b[1;33m.\u001b[0m\u001b[0mupdate\u001b[0m\u001b[1;33m(\u001b[0m\u001b[1;33m{\u001b[0m\u001b[0mk\u001b[0m\u001b[1;33m:\u001b[0m \u001b[0marg\u001b[0m \u001b[1;32mfor\u001b[0m \u001b[0mk\u001b[0m\u001b[1;33m,\u001b[0m \u001b[0marg\u001b[0m \u001b[1;32min\u001b[0m \u001b[0mzip\u001b[0m\u001b[1;33m(\u001b[0m\u001b[0msig\u001b[0m\u001b[1;33m.\u001b[0m\u001b[0mparameters\u001b[0m\u001b[1;33m,\u001b[0m \u001b[0margs\u001b[0m\u001b[1;33m)\u001b[0m\u001b[1;33m}\u001b[0m\u001b[1;33m)\u001b[0m\u001b[1;33m\u001b[0m\u001b[1;33m\u001b[0m\u001b[0m\n\u001b[1;32m---> 72\u001b[1;33m         \u001b[1;32mreturn\u001b[0m \u001b[0mf\u001b[0m\u001b[1;33m(\u001b[0m\u001b[1;33m**\u001b[0m\u001b[0mkwargs\u001b[0m\u001b[1;33m)\u001b[0m\u001b[1;33m\u001b[0m\u001b[1;33m\u001b[0m\u001b[0m\n\u001b[0m\u001b[0;32m     73\u001b[0m     \u001b[1;32mreturn\u001b[0m \u001b[0minner_f\u001b[0m\u001b[1;33m\u001b[0m\u001b[1;33m\u001b[0m\u001b[0m\n\u001b[0;32m     74\u001b[0m \u001b[1;33m\u001b[0m\u001b[0m\n",
      "\u001b[1;32mC:\\myeongju\\lib\\site-packages\\sklearn\\utils\\validation.py\u001b[0m in \u001b[0;36mcheck_array\u001b[1;34m(array, accept_sparse, accept_large_sparse, dtype, order, copy, force_all_finite, ensure_2d, allow_nd, ensure_min_samples, ensure_min_features, estimator)\u001b[0m\n\u001b[0;32m    596\u001b[0m                     \u001b[0marray\u001b[0m \u001b[1;33m=\u001b[0m \u001b[0marray\u001b[0m\u001b[1;33m.\u001b[0m\u001b[0mastype\u001b[0m\u001b[1;33m(\u001b[0m\u001b[0mdtype\u001b[0m\u001b[1;33m,\u001b[0m \u001b[0mcasting\u001b[0m\u001b[1;33m=\u001b[0m\u001b[1;34m\"unsafe\"\u001b[0m\u001b[1;33m,\u001b[0m \u001b[0mcopy\u001b[0m\u001b[1;33m=\u001b[0m\u001b[1;32mFalse\u001b[0m\u001b[1;33m)\u001b[0m\u001b[1;33m\u001b[0m\u001b[1;33m\u001b[0m\u001b[0m\n\u001b[0;32m    597\u001b[0m                 \u001b[1;32melse\u001b[0m\u001b[1;33m:\u001b[0m\u001b[1;33m\u001b[0m\u001b[1;33m\u001b[0m\u001b[0m\n\u001b[1;32m--> 598\u001b[1;33m                     \u001b[0marray\u001b[0m \u001b[1;33m=\u001b[0m \u001b[0mnp\u001b[0m\u001b[1;33m.\u001b[0m\u001b[0masarray\u001b[0m\u001b[1;33m(\u001b[0m\u001b[0marray\u001b[0m\u001b[1;33m,\u001b[0m \u001b[0morder\u001b[0m\u001b[1;33m=\u001b[0m\u001b[0morder\u001b[0m\u001b[1;33m,\u001b[0m \u001b[0mdtype\u001b[0m\u001b[1;33m=\u001b[0m\u001b[0mdtype\u001b[0m\u001b[1;33m)\u001b[0m\u001b[1;33m\u001b[0m\u001b[1;33m\u001b[0m\u001b[0m\n\u001b[0m\u001b[0;32m    599\u001b[0m             \u001b[1;32mexcept\u001b[0m \u001b[0mComplexWarning\u001b[0m\u001b[1;33m:\u001b[0m\u001b[1;33m\u001b[0m\u001b[1;33m\u001b[0m\u001b[0m\n\u001b[0;32m    600\u001b[0m                 raise ValueError(\"Complex data not supported\\n\"\n",
      "\u001b[1;32mC:\\myeongju\\lib\\site-packages\\numpy\\core\\_asarray.py\u001b[0m in \u001b[0;36masarray\u001b[1;34m(a, dtype, order)\u001b[0m\n\u001b[0;32m     81\u001b[0m \u001b[1;33m\u001b[0m\u001b[0m\n\u001b[0;32m     82\u001b[0m     \"\"\"\n\u001b[1;32m---> 83\u001b[1;33m     \u001b[1;32mreturn\u001b[0m \u001b[0marray\u001b[0m\u001b[1;33m(\u001b[0m\u001b[0ma\u001b[0m\u001b[1;33m,\u001b[0m \u001b[0mdtype\u001b[0m\u001b[1;33m,\u001b[0m \u001b[0mcopy\u001b[0m\u001b[1;33m=\u001b[0m\u001b[1;32mFalse\u001b[0m\u001b[1;33m,\u001b[0m \u001b[0morder\u001b[0m\u001b[1;33m=\u001b[0m\u001b[0morder\u001b[0m\u001b[1;33m)\u001b[0m\u001b[1;33m\u001b[0m\u001b[1;33m\u001b[0m\u001b[0m\n\u001b[0m\u001b[0;32m     84\u001b[0m \u001b[1;33m\u001b[0m\u001b[0m\n\u001b[0;32m     85\u001b[0m \u001b[1;33m\u001b[0m\u001b[0m\n",
      "\u001b[1;32mC:\\myeongju\\lib\\site-packages\\pandas\\core\\generic.py\u001b[0m in \u001b[0;36m__array__\u001b[1;34m(self, dtype)\u001b[0m\n\u001b[0;32m   1779\u001b[0m \u001b[1;33m\u001b[0m\u001b[0m\n\u001b[0;32m   1780\u001b[0m     \u001b[1;32mdef\u001b[0m \u001b[0m__array__\u001b[0m\u001b[1;33m(\u001b[0m\u001b[0mself\u001b[0m\u001b[1;33m,\u001b[0m \u001b[0mdtype\u001b[0m\u001b[1;33m=\u001b[0m\u001b[1;32mNone\u001b[0m\u001b[1;33m)\u001b[0m \u001b[1;33m->\u001b[0m \u001b[0mnp\u001b[0m\u001b[1;33m.\u001b[0m\u001b[0mndarray\u001b[0m\u001b[1;33m:\u001b[0m\u001b[1;33m\u001b[0m\u001b[1;33m\u001b[0m\u001b[0m\n\u001b[1;32m-> 1781\u001b[1;33m         \u001b[1;32mreturn\u001b[0m \u001b[0mnp\u001b[0m\u001b[1;33m.\u001b[0m\u001b[0masarray\u001b[0m\u001b[1;33m(\u001b[0m\u001b[0mself\u001b[0m\u001b[1;33m.\u001b[0m\u001b[0m_values\u001b[0m\u001b[1;33m,\u001b[0m \u001b[0mdtype\u001b[0m\u001b[1;33m=\u001b[0m\u001b[0mdtype\u001b[0m\u001b[1;33m)\u001b[0m\u001b[1;33m\u001b[0m\u001b[1;33m\u001b[0m\u001b[0m\n\u001b[0m\u001b[0;32m   1782\u001b[0m \u001b[1;33m\u001b[0m\u001b[0m\n\u001b[0;32m   1783\u001b[0m     \u001b[1;32mdef\u001b[0m \u001b[0m__array_wrap__\u001b[0m\u001b[1;33m(\u001b[0m\u001b[0mself\u001b[0m\u001b[1;33m,\u001b[0m \u001b[0mresult\u001b[0m\u001b[1;33m,\u001b[0m \u001b[0mcontext\u001b[0m\u001b[1;33m=\u001b[0m\u001b[1;32mNone\u001b[0m\u001b[1;33m)\u001b[0m\u001b[1;33m:\u001b[0m\u001b[1;33m\u001b[0m\u001b[1;33m\u001b[0m\u001b[0m\n",
      "\u001b[1;32mC:\\myeongju\\lib\\site-packages\\numpy\\core\\_asarray.py\u001b[0m in \u001b[0;36masarray\u001b[1;34m(a, dtype, order)\u001b[0m\n\u001b[0;32m     81\u001b[0m \u001b[1;33m\u001b[0m\u001b[0m\n\u001b[0;32m     82\u001b[0m     \"\"\"\n\u001b[1;32m---> 83\u001b[1;33m     \u001b[1;32mreturn\u001b[0m \u001b[0marray\u001b[0m\u001b[1;33m(\u001b[0m\u001b[0ma\u001b[0m\u001b[1;33m,\u001b[0m \u001b[0mdtype\u001b[0m\u001b[1;33m,\u001b[0m \u001b[0mcopy\u001b[0m\u001b[1;33m=\u001b[0m\u001b[1;32mFalse\u001b[0m\u001b[1;33m,\u001b[0m \u001b[0morder\u001b[0m\u001b[1;33m=\u001b[0m\u001b[0morder\u001b[0m\u001b[1;33m)\u001b[0m\u001b[1;33m\u001b[0m\u001b[1;33m\u001b[0m\u001b[0m\n\u001b[0m\u001b[0;32m     84\u001b[0m \u001b[1;33m\u001b[0m\u001b[0m\n\u001b[0;32m     85\u001b[0m \u001b[1;33m\u001b[0m\u001b[0m\n",
      "\u001b[1;31mValueError\u001b[0m: could not convert string to float: 'setosa'"
     ]
    }
   ],
   "source": [
    "question15_result = LinearRegression().fit(iris_x, iris_y)"
   ]
  },
  {
   "cell_type": "markdown",
   "metadata": {
    "id": "CQqgWnnVFN0R"
   },
   "source": [
    "* factor변수를 요인변수로 만들어주지 않으면 linear regression 작동 안됨. "
   ]
  },
  {
   "cell_type": "code",
   "execution_count": null,
   "metadata": {
    "id": "ewf7K5jTFN0R"
   },
   "outputs": [],
   "source": [
    "import pandas as pd\n",
    "iris_df_dumm=pd.get_dummies(iris_df['species'])"
   ]
  },
  {
   "cell_type": "code",
   "execution_count": null,
   "metadata": {
    "id": "6iwXTOw9FN0R",
    "outputId": "317404f8-c020-473f-fb86-193afef112cc"
   },
   "outputs": [
    {
     "data": {
      "text/html": [
       "<div>\n",
       "<style scoped>\n",
       "    .dataframe tbody tr th:only-of-type {\n",
       "        vertical-align: middle;\n",
       "    }\n",
       "\n",
       "    .dataframe tbody tr th {\n",
       "        vertical-align: top;\n",
       "    }\n",
       "\n",
       "    .dataframe thead th {\n",
       "        text-align: right;\n",
       "    }\n",
       "</style>\n",
       "<table border=\"1\" class=\"dataframe\">\n",
       "  <thead>\n",
       "    <tr style=\"text-align: right;\">\n",
       "      <th></th>\n",
       "      <th>sepal_length</th>\n",
       "      <th>sepal_width</th>\n",
       "      <th>petal_width</th>\n",
       "      <th>setosa</th>\n",
       "      <th>versicolor</th>\n",
       "      <th>virginica</th>\n",
       "    </tr>\n",
       "  </thead>\n",
       "  <tbody>\n",
       "    <tr>\n",
       "      <th>0</th>\n",
       "      <td>5.1</td>\n",
       "      <td>3.5</td>\n",
       "      <td>0.2</td>\n",
       "      <td>1</td>\n",
       "      <td>0</td>\n",
       "      <td>0</td>\n",
       "    </tr>\n",
       "    <tr>\n",
       "      <th>1</th>\n",
       "      <td>4.9</td>\n",
       "      <td>3.0</td>\n",
       "      <td>0.2</td>\n",
       "      <td>1</td>\n",
       "      <td>0</td>\n",
       "      <td>0</td>\n",
       "    </tr>\n",
       "    <tr>\n",
       "      <th>2</th>\n",
       "      <td>4.7</td>\n",
       "      <td>3.2</td>\n",
       "      <td>0.2</td>\n",
       "      <td>1</td>\n",
       "      <td>0</td>\n",
       "      <td>0</td>\n",
       "    </tr>\n",
       "    <tr>\n",
       "      <th>3</th>\n",
       "      <td>4.6</td>\n",
       "      <td>3.1</td>\n",
       "      <td>0.2</td>\n",
       "      <td>1</td>\n",
       "      <td>0</td>\n",
       "      <td>0</td>\n",
       "    </tr>\n",
       "    <tr>\n",
       "      <th>4</th>\n",
       "      <td>5.0</td>\n",
       "      <td>3.6</td>\n",
       "      <td>0.2</td>\n",
       "      <td>1</td>\n",
       "      <td>0</td>\n",
       "      <td>0</td>\n",
       "    </tr>\n",
       "  </tbody>\n",
       "</table>\n",
       "</div>"
      ],
      "text/plain": [
       "   sepal_length  sepal_width  petal_width  setosa  versicolor  virginica\n",
       "0           5.1          3.5          0.2       1           0          0\n",
       "1           4.9          3.0          0.2       1           0          0\n",
       "2           4.7          3.2          0.2       1           0          0\n",
       "3           4.6          3.1          0.2       1           0          0\n",
       "4           5.0          3.6          0.2       1           0          0"
      ]
     },
     "execution_count": 13,
     "metadata": {
      "tags": []
     },
     "output_type": "execute_result"
    }
   ],
   "source": [
    "iris_x=pd.concat([iris_df[['sepal_length', 'sepal_width', 'petal_width']], iris_df_dumm], axis=1)\n",
    "iris_x.head()"
   ]
  },
  {
   "cell_type": "code",
   "execution_count": null,
   "metadata": {
    "id": "zkOdOh6uFN0S"
   },
   "outputs": [],
   "source": [
    "question15_result=sm.OLS(iris_y, iris_x.assign(const=1)).fit()"
   ]
  },
  {
   "cell_type": "code",
   "execution_count": null,
   "metadata": {
    "id": "rDifWiPSFN0S",
    "outputId": "0916ec1e-fe66-40e6-beb8-dd66b38a6341"
   },
   "outputs": [
    {
     "data": {
      "text/html": [
       "<table class=\"simpletable\">\n",
       "<caption>OLS Regression Results</caption>\n",
       "<tr>\n",
       "  <th>Dep. Variable:</th>      <td>petal_length</td>   <th>  R-squared:         </th> <td>   0.979</td> \n",
       "</tr>\n",
       "<tr>\n",
       "  <th>Model:</th>                   <td>OLS</td>       <th>  Adj. R-squared:    </th> <td>   0.978</td> \n",
       "</tr>\n",
       "<tr>\n",
       "  <th>Method:</th>             <td>Least Squares</td>  <th>  F-statistic:       </th> <td>   1317.</td> \n",
       "</tr>\n",
       "<tr>\n",
       "  <th>Date:</th>             <td>Sat, 17 Jul 2021</td> <th>  Prob (F-statistic):</th> <td>2.88e-118</td>\n",
       "</tr>\n",
       "<tr>\n",
       "  <th>Time:</th>                 <td>15:39:05</td>     <th>  Log-Likelihood:    </th> <td> -9.2833</td> \n",
       "</tr>\n",
       "<tr>\n",
       "  <th>No. Observations:</th>      <td>   150</td>      <th>  AIC:               </th> <td>   30.57</td> \n",
       "</tr>\n",
       "<tr>\n",
       "  <th>Df Residuals:</th>          <td>   144</td>      <th>  BIC:               </th> <td>   48.63</td> \n",
       "</tr>\n",
       "<tr>\n",
       "  <th>Df Model:</th>              <td>     5</td>      <th>                     </th>     <td> </td>    \n",
       "</tr>\n",
       "<tr>\n",
       "  <th>Covariance Type:</th>      <td>nonrobust</td>    <th>                     </th>     <td> </td>    \n",
       "</tr>\n",
       "</table>\n",
       "<table class=\"simpletable\">\n",
       "<tr>\n",
       "        <td></td>          <th>coef</th>     <th>std err</th>      <th>t</th>      <th>P>|t|</th>  <th>[0.025</th>    <th>0.975]</th>  \n",
       "</tr>\n",
       "<tr>\n",
       "  <th>sepal_length</th> <td>    0.6080</td> <td>    0.050</td> <td>   12.101</td> <td> 0.000</td> <td>    0.509</td> <td>    0.707</td>\n",
       "</tr>\n",
       "<tr>\n",
       "  <th>sepal_width</th>  <td>   -0.1805</td> <td>    0.080</td> <td>   -2.246</td> <td> 0.026</td> <td>   -0.339</td> <td>   -0.022</td>\n",
       "</tr>\n",
       "<tr>\n",
       "  <th>petal_width</th>  <td>    0.6022</td> <td>    0.121</td> <td>    4.959</td> <td> 0.000</td> <td>    0.362</td> <td>    0.842</td>\n",
       "</tr>\n",
       "<tr>\n",
       "  <th>setosa</th>       <td>   -1.1371</td> <td>    0.141</td> <td>   -8.061</td> <td> 0.000</td> <td>   -1.416</td> <td>   -0.858</td>\n",
       "</tr>\n",
       "<tr>\n",
       "  <th>versicolor</th>   <td>    0.3262</td> <td>    0.077</td> <td>    4.231</td> <td> 0.000</td> <td>    0.174</td> <td>    0.479</td>\n",
       "</tr>\n",
       "<tr>\n",
       "  <th>virginica</th>    <td>    0.8371</td> <td>    0.140</td> <td>    5.960</td> <td> 0.000</td> <td>    0.559</td> <td>    1.115</td>\n",
       "</tr>\n",
       "<tr>\n",
       "  <th>const</th>        <td>    0.0262</td> <td>    0.194</td> <td>    0.135</td> <td> 0.893</td> <td>   -0.357</td> <td>    0.410</td>\n",
       "</tr>\n",
       "</table>\n",
       "<table class=\"simpletable\">\n",
       "<tr>\n",
       "  <th>Omnibus:</th>       <td> 0.896</td> <th>  Durbin-Watson:     </th> <td>   1.677</td>\n",
       "</tr>\n",
       "<tr>\n",
       "  <th>Prob(Omnibus):</th> <td> 0.639</td> <th>  Jarque-Bera (JB):  </th> <td>   0.515</td>\n",
       "</tr>\n",
       "<tr>\n",
       "  <th>Skew:</th>          <td>-0.044</td> <th>  Prob(JB):          </th> <td>   0.773</td>\n",
       "</tr>\n",
       "<tr>\n",
       "  <th>Kurtosis:</th>      <td> 3.273</td> <th>  Cond. No.          </th> <td>6.16e+16</td>\n",
       "</tr>\n",
       "</table><br/><br/>Notes:<br/>[1] Standard Errors assume that the covariance matrix of the errors is correctly specified.<br/>[2] The smallest eigenvalue is 1.85e-30. This might indicate that there are<br/>strong multicollinearity problems or that the design matrix is singular."
      ],
      "text/plain": [
       "<class 'statsmodels.iolib.summary.Summary'>\n",
       "\"\"\"\n",
       "                            OLS Regression Results                            \n",
       "==============================================================================\n",
       "Dep. Variable:           petal_length   R-squared:                       0.979\n",
       "Model:                            OLS   Adj. R-squared:                  0.978\n",
       "Method:                 Least Squares   F-statistic:                     1317.\n",
       "Date:                Sat, 17 Jul 2021   Prob (F-statistic):          2.88e-118\n",
       "Time:                        15:39:05   Log-Likelihood:                -9.2833\n",
       "No. Observations:                 150   AIC:                             30.57\n",
       "Df Residuals:                     144   BIC:                             48.63\n",
       "Df Model:                           5                                         \n",
       "Covariance Type:            nonrobust                                         \n",
       "================================================================================\n",
       "                   coef    std err          t      P>|t|      [0.025      0.975]\n",
       "--------------------------------------------------------------------------------\n",
       "sepal_length     0.6080      0.050     12.101      0.000       0.509       0.707\n",
       "sepal_width     -0.1805      0.080     -2.246      0.026      -0.339      -0.022\n",
       "petal_width      0.6022      0.121      4.959      0.000       0.362       0.842\n",
       "setosa          -1.1371      0.141     -8.061      0.000      -1.416      -0.858\n",
       "versicolor       0.3262      0.077      4.231      0.000       0.174       0.479\n",
       "virginica        0.8371      0.140      5.960      0.000       0.559       1.115\n",
       "const            0.0262      0.194      0.135      0.893      -0.357       0.410\n",
       "==============================================================================\n",
       "Omnibus:                        0.896   Durbin-Watson:                   1.677\n",
       "Prob(Omnibus):                  0.639   Jarque-Bera (JB):                0.515\n",
       "Skew:                          -0.044   Prob(JB):                        0.773\n",
       "Kurtosis:                       3.273   Cond. No.                     6.16e+16\n",
       "==============================================================================\n",
       "\n",
       "Notes:\n",
       "[1] Standard Errors assume that the covariance matrix of the errors is correctly specified.\n",
       "[2] The smallest eigenvalue is 1.85e-30. This might indicate that there are\n",
       "strong multicollinearity problems or that the design matrix is singular.\n",
       "\"\"\""
      ]
     },
     "execution_count": 20,
     "metadata": {
      "tags": []
     },
     "output_type": "execute_result"
    }
   ],
   "source": [
    "question15_result.summary()"
   ]
  },
  {
   "cell_type": "markdown",
   "metadata": {
    "id": "1ci8RxKiFN0T"
   },
   "source": [
    "결과해석: 해당 모형은 Petal.Length의 변량의 97.8%를 설명하며,    \n",
    "    모형에 포함된 모든 독립변수는 Petal.Length를 유의미하게 예측한다. "
   ]
  },
  {
   "cell_type": "markdown",
   "metadata": {
    "id": "n2R4TxpfFN0T"
   },
   "source": [
    "##### 4. R을 이용한 다중회귀분석\n",
    "Question 16)  MASS패키지의 Cars93 데이터에서 엔진크기(EngineSize), RPM(RPM), 무게(Weight)를 독립변수로 설정하고    \n",
    " 자동차 가격(Price)를 종속변수로 설정하여 다변량 회귀분석을 수행한 뒤 그 결과를 해석해보자.   "
   ]
  },
  {
   "cell_type": "code",
   "execution_count": null,
   "metadata": {
    "id": "5y77pUhuFN0T",
    "outputId": "6cd848a3-d397-4cc9-a65a-e8fd29bb5971"
   },
   "outputs": [
    {
     "data": {
      "text/html": [
       "<div>\n",
       "<style scoped>\n",
       "    .dataframe tbody tr th:only-of-type {\n",
       "        vertical-align: middle;\n",
       "    }\n",
       "\n",
       "    .dataframe tbody tr th {\n",
       "        vertical-align: top;\n",
       "    }\n",
       "\n",
       "    .dataframe thead th {\n",
       "        text-align: right;\n",
       "    }\n",
       "</style>\n",
       "<table border=\"1\" class=\"dataframe\">\n",
       "  <thead>\n",
       "    <tr style=\"text-align: right;\">\n",
       "      <th></th>\n",
       "      <th>Manufacturer</th>\n",
       "      <th>Model</th>\n",
       "      <th>Type</th>\n",
       "      <th>Min.Price</th>\n",
       "      <th>Price</th>\n",
       "      <th>Max.Price</th>\n",
       "      <th>MPG.city</th>\n",
       "      <th>MPG.highway</th>\n",
       "      <th>AirBags</th>\n",
       "      <th>DriveTrain</th>\n",
       "      <th>...</th>\n",
       "      <th>Passengers</th>\n",
       "      <th>Length</th>\n",
       "      <th>Wheelbase</th>\n",
       "      <th>Width</th>\n",
       "      <th>Turn.circle</th>\n",
       "      <th>Rear.seat.room</th>\n",
       "      <th>Luggage.room</th>\n",
       "      <th>Weight</th>\n",
       "      <th>Origin</th>\n",
       "      <th>Make</th>\n",
       "    </tr>\n",
       "  </thead>\n",
       "  <tbody>\n",
       "    <tr>\n",
       "      <th>1</th>\n",
       "      <td>Acura</td>\n",
       "      <td>Integra</td>\n",
       "      <td>Small</td>\n",
       "      <td>12.9</td>\n",
       "      <td>15.9</td>\n",
       "      <td>18.8</td>\n",
       "      <td>25</td>\n",
       "      <td>31</td>\n",
       "      <td>None</td>\n",
       "      <td>Front</td>\n",
       "      <td>...</td>\n",
       "      <td>5</td>\n",
       "      <td>177</td>\n",
       "      <td>102</td>\n",
       "      <td>68</td>\n",
       "      <td>37</td>\n",
       "      <td>26.5</td>\n",
       "      <td>11.0</td>\n",
       "      <td>2705</td>\n",
       "      <td>non-USA</td>\n",
       "      <td>Acura Integra</td>\n",
       "    </tr>\n",
       "    <tr>\n",
       "      <th>2</th>\n",
       "      <td>Acura</td>\n",
       "      <td>Legend</td>\n",
       "      <td>Midsize</td>\n",
       "      <td>29.2</td>\n",
       "      <td>33.9</td>\n",
       "      <td>38.7</td>\n",
       "      <td>18</td>\n",
       "      <td>25</td>\n",
       "      <td>Driver &amp; Passenger</td>\n",
       "      <td>Front</td>\n",
       "      <td>...</td>\n",
       "      <td>5</td>\n",
       "      <td>195</td>\n",
       "      <td>115</td>\n",
       "      <td>71</td>\n",
       "      <td>38</td>\n",
       "      <td>30.0</td>\n",
       "      <td>15.0</td>\n",
       "      <td>3560</td>\n",
       "      <td>non-USA</td>\n",
       "      <td>Acura Legend</td>\n",
       "    </tr>\n",
       "    <tr>\n",
       "      <th>3</th>\n",
       "      <td>Audi</td>\n",
       "      <td>90</td>\n",
       "      <td>Compact</td>\n",
       "      <td>25.9</td>\n",
       "      <td>29.1</td>\n",
       "      <td>32.3</td>\n",
       "      <td>20</td>\n",
       "      <td>26</td>\n",
       "      <td>Driver only</td>\n",
       "      <td>Front</td>\n",
       "      <td>...</td>\n",
       "      <td>5</td>\n",
       "      <td>180</td>\n",
       "      <td>102</td>\n",
       "      <td>67</td>\n",
       "      <td>37</td>\n",
       "      <td>28.0</td>\n",
       "      <td>14.0</td>\n",
       "      <td>3375</td>\n",
       "      <td>non-USA</td>\n",
       "      <td>Audi 90</td>\n",
       "    </tr>\n",
       "    <tr>\n",
       "      <th>4</th>\n",
       "      <td>Audi</td>\n",
       "      <td>100</td>\n",
       "      <td>Midsize</td>\n",
       "      <td>30.8</td>\n",
       "      <td>37.7</td>\n",
       "      <td>44.6</td>\n",
       "      <td>19</td>\n",
       "      <td>26</td>\n",
       "      <td>Driver &amp; Passenger</td>\n",
       "      <td>Front</td>\n",
       "      <td>...</td>\n",
       "      <td>6</td>\n",
       "      <td>193</td>\n",
       "      <td>106</td>\n",
       "      <td>70</td>\n",
       "      <td>37</td>\n",
       "      <td>31.0</td>\n",
       "      <td>17.0</td>\n",
       "      <td>3405</td>\n",
       "      <td>non-USA</td>\n",
       "      <td>Audi 100</td>\n",
       "    </tr>\n",
       "    <tr>\n",
       "      <th>5</th>\n",
       "      <td>BMW</td>\n",
       "      <td>535i</td>\n",
       "      <td>Midsize</td>\n",
       "      <td>23.7</td>\n",
       "      <td>30.0</td>\n",
       "      <td>36.2</td>\n",
       "      <td>22</td>\n",
       "      <td>30</td>\n",
       "      <td>Driver only</td>\n",
       "      <td>Rear</td>\n",
       "      <td>...</td>\n",
       "      <td>4</td>\n",
       "      <td>186</td>\n",
       "      <td>109</td>\n",
       "      <td>69</td>\n",
       "      <td>39</td>\n",
       "      <td>27.0</td>\n",
       "      <td>13.0</td>\n",
       "      <td>3640</td>\n",
       "      <td>non-USA</td>\n",
       "      <td>BMW 535i</td>\n",
       "    </tr>\n",
       "  </tbody>\n",
       "</table>\n",
       "<p>5 rows × 27 columns</p>\n",
       "</div>"
      ],
      "text/plain": [
       "  Manufacturer    Model     Type  Min.Price  Price  Max.Price  MPG.city  \\\n",
       "1        Acura  Integra    Small       12.9   15.9       18.8        25   \n",
       "2        Acura   Legend  Midsize       29.2   33.9       38.7        18   \n",
       "3         Audi       90  Compact       25.9   29.1       32.3        20   \n",
       "4         Audi      100  Midsize       30.8   37.7       44.6        19   \n",
       "5          BMW     535i  Midsize       23.7   30.0       36.2        22   \n",
       "\n",
       "   MPG.highway             AirBags DriveTrain  ... Passengers  Length  \\\n",
       "1           31                None      Front  ...          5     177   \n",
       "2           25  Driver & Passenger      Front  ...          5     195   \n",
       "3           26         Driver only      Front  ...          5     180   \n",
       "4           26  Driver & Passenger      Front  ...          6     193   \n",
       "5           30         Driver only       Rear  ...          4     186   \n",
       "\n",
       "   Wheelbase  Width  Turn.circle Rear.seat.room  Luggage.room  Weight  \\\n",
       "1        102     68           37           26.5          11.0    2705   \n",
       "2        115     71           38           30.0          15.0    3560   \n",
       "3        102     67           37           28.0          14.0    3375   \n",
       "4        106     70           37           31.0          17.0    3405   \n",
       "5        109     69           39           27.0          13.0    3640   \n",
       "\n",
       "    Origin           Make  \n",
       "1  non-USA  Acura Integra  \n",
       "2  non-USA   Acura Legend  \n",
       "3  non-USA        Audi 90  \n",
       "4  non-USA       Audi 100  \n",
       "5  non-USA       BMW 535i  \n",
       "\n",
       "[5 rows x 27 columns]"
      ]
     },
     "execution_count": 21,
     "metadata": {
      "tags": []
     },
     "output_type": "execute_result"
    }
   ],
   "source": [
    "import pandas as pd\n",
    "cars93_df=pd.read_csv(r'C:\\ISLR-python-master\\Notebooks\\Data\\Cars93.csv', index_col='Unnamed: 0')\n",
    "cars93_df.head()"
   ]
  },
  {
   "cell_type": "code",
   "execution_count": null,
   "metadata": {
    "id": "0qaFDZSsFN0U",
    "outputId": "1b0ca842-84c7-4d53-c88e-26c35389ec53"
   },
   "outputs": [
    {
     "data": {
      "text/plain": [
       "Index(['Manufacturer', 'Model', 'Type', 'Min.Price', 'Price', 'Max.Price',\n",
       "       'MPG.city', 'MPG.highway', 'AirBags', 'DriveTrain', 'Cylinders',\n",
       "       'EngineSize', 'Horsepower', 'RPM', 'Rev.per.mile', 'Man.trans.avail',\n",
       "       'Fuel.tank.capacity', 'Passengers', 'Length', 'Wheelbase', 'Width',\n",
       "       'Turn.circle', 'Rear.seat.room', 'Luggage.room', 'Weight', 'Origin',\n",
       "       'Make'],\n",
       "      dtype='object')"
      ]
     },
     "execution_count": 22,
     "metadata": {
      "tags": []
     },
     "output_type": "execute_result"
    }
   ],
   "source": [
    "cars93_df.columns"
   ]
  },
  {
   "cell_type": "code",
   "execution_count": null,
   "metadata": {
    "id": "wQ4lsMUHFN0U"
   },
   "outputs": [],
   "source": [
    "cars93_x=cars93_df[['EngineSize', 'RPM', 'Weight']]\n",
    "cars93_y=cars93_df['Price']"
   ]
  },
  {
   "cell_type": "code",
   "execution_count": null,
   "metadata": {
    "id": "itB9LNBSFN0V"
   },
   "outputs": [],
   "source": [
    "question16_result=sm.OLS(cars93_y, cars93_x.assign(const=1)).fit()"
   ]
  },
  {
   "cell_type": "code",
   "execution_count": null,
   "metadata": {
    "id": "8wqVug5ZFN0V",
    "outputId": "577f9a75-b69a-46d8-b247-a30cf8d11129"
   },
   "outputs": [
    {
     "data": {
      "text/html": [
       "<table class=\"simpletable\">\n",
       "<caption>OLS Regression Results</caption>\n",
       "<tr>\n",
       "  <th>Dep. Variable:</th>          <td>Price</td>      <th>  R-squared:         </th> <td>   0.561</td>\n",
       "</tr>\n",
       "<tr>\n",
       "  <th>Model:</th>                   <td>OLS</td>       <th>  Adj. R-squared:    </th> <td>   0.547</td>\n",
       "</tr>\n",
       "<tr>\n",
       "  <th>Method:</th>             <td>Least Squares</td>  <th>  F-statistic:       </th> <td>   37.98</td>\n",
       "</tr>\n",
       "<tr>\n",
       "  <th>Date:</th>             <td>Sat, 17 Jul 2021</td> <th>  Prob (F-statistic):</th> <td>6.75e-16</td>\n",
       "</tr>\n",
       "<tr>\n",
       "  <th>Time:</th>                 <td>15:44:50</td>     <th>  Log-Likelihood:    </th> <td> -304.05</td>\n",
       "</tr>\n",
       "<tr>\n",
       "  <th>No. Observations:</th>      <td>    93</td>      <th>  AIC:               </th> <td>   616.1</td>\n",
       "</tr>\n",
       "<tr>\n",
       "  <th>Df Residuals:</th>          <td>    89</td>      <th>  BIC:               </th> <td>   626.2</td>\n",
       "</tr>\n",
       "<tr>\n",
       "  <th>Df Model:</th>              <td>     3</td>      <th>                     </th>     <td> </td>   \n",
       "</tr>\n",
       "<tr>\n",
       "  <th>Covariance Type:</th>      <td>nonrobust</td>    <th>                     </th>     <td> </td>   \n",
       "</tr>\n",
       "</table>\n",
       "<table class=\"simpletable\">\n",
       "<tr>\n",
       "       <td></td>         <th>coef</th>     <th>std err</th>      <th>t</th>      <th>P>|t|</th>  <th>[0.025</th>    <th>0.975]</th>  \n",
       "</tr>\n",
       "<tr>\n",
       "  <th>EngineSize</th> <td>    4.3054</td> <td>    1.325</td> <td>    3.249</td> <td> 0.002</td> <td>    1.673</td> <td>    6.938</td>\n",
       "</tr>\n",
       "<tr>\n",
       "  <th>RPM</th>        <td>    0.0071</td> <td>    0.001</td> <td>    5.208</td> <td> 0.000</td> <td>    0.004</td> <td>    0.010</td>\n",
       "</tr>\n",
       "<tr>\n",
       "  <th>Weight</th>     <td>    0.0073</td> <td>    0.002</td> <td>    3.372</td> <td> 0.001</td> <td>    0.003</td> <td>    0.012</td>\n",
       "</tr>\n",
       "<tr>\n",
       "  <th>const</th>      <td>  -51.7933</td> <td>    9.106</td> <td>   -5.688</td> <td> 0.000</td> <td>  -69.887</td> <td>  -33.699</td>\n",
       "</tr>\n",
       "</table>\n",
       "<table class=\"simpletable\">\n",
       "<tr>\n",
       "  <th>Omnibus:</th>       <td>62.441</td> <th>  Durbin-Watson:     </th> <td>   1.406</td>\n",
       "</tr>\n",
       "<tr>\n",
       "  <th>Prob(Omnibus):</th> <td> 0.000</td> <th>  Jarque-Bera (JB):  </th> <td> 361.880</td>\n",
       "</tr>\n",
       "<tr>\n",
       "  <th>Skew:</th>          <td> 2.076</td> <th>  Prob(JB):          </th> <td>2.62e-79</td>\n",
       "</tr>\n",
       "<tr>\n",
       "  <th>Kurtosis:</th>      <td>11.726</td> <th>  Cond. No.          </th> <td>8.27e+04</td>\n",
       "</tr>\n",
       "</table><br/><br/>Notes:<br/>[1] Standard Errors assume that the covariance matrix of the errors is correctly specified.<br/>[2] The condition number is large, 8.27e+04. This might indicate that there are<br/>strong multicollinearity or other numerical problems."
      ],
      "text/plain": [
       "<class 'statsmodels.iolib.summary.Summary'>\n",
       "\"\"\"\n",
       "                            OLS Regression Results                            \n",
       "==============================================================================\n",
       "Dep. Variable:                  Price   R-squared:                       0.561\n",
       "Model:                            OLS   Adj. R-squared:                  0.547\n",
       "Method:                 Least Squares   F-statistic:                     37.98\n",
       "Date:                Sat, 17 Jul 2021   Prob (F-statistic):           6.75e-16\n",
       "Time:                        15:44:50   Log-Likelihood:                -304.05\n",
       "No. Observations:                  93   AIC:                             616.1\n",
       "Df Residuals:                      89   BIC:                             626.2\n",
       "Df Model:                           3                                         \n",
       "Covariance Type:            nonrobust                                         \n",
       "==============================================================================\n",
       "                 coef    std err          t      P>|t|      [0.025      0.975]\n",
       "------------------------------------------------------------------------------\n",
       "EngineSize     4.3054      1.325      3.249      0.002       1.673       6.938\n",
       "RPM            0.0071      0.001      5.208      0.000       0.004       0.010\n",
       "Weight         0.0073      0.002      3.372      0.001       0.003       0.012\n",
       "const        -51.7933      9.106     -5.688      0.000     -69.887     -33.699\n",
       "==============================================================================\n",
       "Omnibus:                       62.441   Durbin-Watson:                   1.406\n",
       "Prob(Omnibus):                  0.000   Jarque-Bera (JB):              361.880\n",
       "Skew:                           2.076   Prob(JB):                     2.62e-79\n",
       "Kurtosis:                      11.726   Cond. No.                     8.27e+04\n",
       "==============================================================================\n",
       "\n",
       "Notes:\n",
       "[1] Standard Errors assume that the covariance matrix of the errors is correctly specified.\n",
       "[2] The condition number is large, 8.27e+04. This might indicate that there are\n",
       "strong multicollinearity or other numerical problems.\n",
       "\"\"\""
      ]
     },
     "execution_count": 27,
     "metadata": {
      "tags": []
     },
     "output_type": "execute_result"
    }
   ],
   "source": [
    "question16_result.summary()"
   ]
  },
  {
   "cell_type": "markdown",
   "metadata": {
    "id": "KRAlwiLEFN0V"
   },
   "source": [
    "결과해석: 해당 모형은 Petal.Length의 변량의 54.7%를 설명하며,       \n",
    "    모형에 포함된 모든 독립변수는 Price를 유의미하게 예측한다.    "
   ]
  },
  {
   "cell_type": "markdown",
   "metadata": {
    "id": "26YDHpVfFN0W"
   },
   "source": [
    "##### 5. 최적회귀방정식의 선택\n",
    "\n",
    "Question 17) MASS 패키지의 Cars93 데이터에서 엔진크기(EngineSize), RPM(RPM), 너비(Width),    \n",
    "길이(Length)를 독립변수로 가지고, 자동차의 가격(Price)을 종속변수로 가지는 선형회귀모형을 생성해보자.    \n",
    "또한 변수 선택을 위한 함수를 사용하지 않고, 직접 후진 제거법을 수행하는 R코드를 살펴보며    \n",
    "변수 선택법에 대해 정확하게 이해해보자.\n",
    "\n",
    "* 후진제거: 전체 모델로 시작해서 모든 예측변수가 통계적으로 유의미한 모델이 될 때까지,    \n",
    "통계적으로 유의미하지 않는 예측 변수들을 제거해나간다. "
   ]
  },
  {
   "cell_type": "code",
   "execution_count": null,
   "metadata": {
    "id": "peJ2Dw9oFN0W"
   },
   "outputs": [],
   "source": [
    "## 1) 패키지 로드 및 다중회귀모형 생성"
   ]
  },
  {
   "cell_type": "code",
   "execution_count": null,
   "metadata": {
    "id": "PICPFL_iFN0W"
   },
   "outputs": [],
   "source": [
    "cars93_x=cars93_df[['EngineSize', 'RPM', 'Width', 'Length']]\n",
    "cars93_y=cars93_df['Price']"
   ]
  },
  {
   "cell_type": "code",
   "execution_count": null,
   "metadata": {
    "id": "wmH9ogPaFN0X"
   },
   "outputs": [],
   "source": [
    "question17_result_1=sm.OLS(cars93_y, cars93_x.assign(const=1)).fit()"
   ]
  },
  {
   "cell_type": "code",
   "execution_count": null,
   "metadata": {
    "id": "gJjr7LnUFN0X",
    "outputId": "233db338-b4ea-4901-845e-1cdc17620999"
   },
   "outputs": [
    {
     "data": {
      "text/html": [
       "<table class=\"simpletable\">\n",
       "<caption>OLS Regression Results</caption>\n",
       "<tr>\n",
       "  <th>Dep. Variable:</th>          <td>Price</td>      <th>  R-squared:         </th> <td>   0.523</td>\n",
       "</tr>\n",
       "<tr>\n",
       "  <th>Model:</th>                   <td>OLS</td>       <th>  Adj. R-squared:    </th> <td>   0.501</td>\n",
       "</tr>\n",
       "<tr>\n",
       "  <th>Method:</th>             <td>Least Squares</td>  <th>  F-statistic:       </th> <td>   24.10</td>\n",
       "</tr>\n",
       "<tr>\n",
       "  <th>Date:</th>             <td>Sat, 17 Jul 2021</td> <th>  Prob (F-statistic):</th> <td>1.76e-13</td>\n",
       "</tr>\n",
       "<tr>\n",
       "  <th>Time:</th>                 <td>15:51:31</td>     <th>  Log-Likelihood:    </th> <td> -307.98</td>\n",
       "</tr>\n",
       "<tr>\n",
       "  <th>No. Observations:</th>      <td>    93</td>      <th>  AIC:               </th> <td>   626.0</td>\n",
       "</tr>\n",
       "<tr>\n",
       "  <th>Df Residuals:</th>          <td>    88</td>      <th>  BIC:               </th> <td>   638.6</td>\n",
       "</tr>\n",
       "<tr>\n",
       "  <th>Df Model:</th>              <td>     4</td>      <th>                     </th>     <td> </td>   \n",
       "</tr>\n",
       "<tr>\n",
       "  <th>Covariance Type:</th>      <td>nonrobust</td>    <th>                     </th>     <td> </td>   \n",
       "</tr>\n",
       "</table>\n",
       "<table class=\"simpletable\">\n",
       "<tr>\n",
       "       <td></td>         <th>coef</th>     <th>std err</th>      <th>t</th>      <th>P>|t|</th>  <th>[0.025</th>    <th>0.975]</th>  \n",
       "</tr>\n",
       "<tr>\n",
       "  <th>EngineSize</th> <td>    8.3806</td> <td>    1.446</td> <td>    5.797</td> <td> 0.000</td> <td>    5.508</td> <td>   11.254</td>\n",
       "</tr>\n",
       "<tr>\n",
       "  <th>RPM</th>        <td>    0.0071</td> <td>    0.001</td> <td>    4.942</td> <td> 0.000</td> <td>    0.004</td> <td>    0.010</td>\n",
       "</tr>\n",
       "<tr>\n",
       "  <th>Width</th>      <td>   -0.6549</td> <td>    0.433</td> <td>   -1.512</td> <td> 0.134</td> <td>   -1.516</td> <td>    0.206</td>\n",
       "</tr>\n",
       "<tr>\n",
       "  <th>Length</th>     <td>    0.1367</td> <td>    0.088</td> <td>    1.549</td> <td> 0.125</td> <td>   -0.039</td> <td>    0.312</td>\n",
       "</tr>\n",
       "<tr>\n",
       "  <th>const</th>      <td>  -20.1516</td> <td>   26.265</td> <td>   -0.767</td> <td> 0.445</td> <td>  -72.347</td> <td>   32.044</td>\n",
       "</tr>\n",
       "</table>\n",
       "<table class=\"simpletable\">\n",
       "<tr>\n",
       "  <th>Omnibus:</th>       <td>58.005</td> <th>  Durbin-Watson:     </th> <td>   1.348</td>\n",
       "</tr>\n",
       "<tr>\n",
       "  <th>Prob(Omnibus):</th> <td> 0.000</td> <th>  Jarque-Bera (JB):  </th> <td> 293.856</td>\n",
       "</tr>\n",
       "<tr>\n",
       "  <th>Skew:</th>          <td> 1.950</td> <th>  Prob(JB):          </th> <td>1.55e-64</td>\n",
       "</tr>\n",
       "<tr>\n",
       "  <th>Kurtosis:</th>      <td>10.787</td> <th>  Cond. No.          </th> <td>1.98e+05</td>\n",
       "</tr>\n",
       "</table><br/><br/>Notes:<br/>[1] Standard Errors assume that the covariance matrix of the errors is correctly specified.<br/>[2] The condition number is large, 1.98e+05. This might indicate that there are<br/>strong multicollinearity or other numerical problems."
      ],
      "text/plain": [
       "<class 'statsmodels.iolib.summary.Summary'>\n",
       "\"\"\"\n",
       "                            OLS Regression Results                            \n",
       "==============================================================================\n",
       "Dep. Variable:                  Price   R-squared:                       0.523\n",
       "Model:                            OLS   Adj. R-squared:                  0.501\n",
       "Method:                 Least Squares   F-statistic:                     24.10\n",
       "Date:                Sat, 17 Jul 2021   Prob (F-statistic):           1.76e-13\n",
       "Time:                        15:51:31   Log-Likelihood:                -307.98\n",
       "No. Observations:                  93   AIC:                             626.0\n",
       "Df Residuals:                      88   BIC:                             638.6\n",
       "Df Model:                           4                                         \n",
       "Covariance Type:            nonrobust                                         \n",
       "==============================================================================\n",
       "                 coef    std err          t      P>|t|      [0.025      0.975]\n",
       "------------------------------------------------------------------------------\n",
       "EngineSize     8.3806      1.446      5.797      0.000       5.508      11.254\n",
       "RPM            0.0071      0.001      4.942      0.000       0.004       0.010\n",
       "Width         -0.6549      0.433     -1.512      0.134      -1.516       0.206\n",
       "Length         0.1367      0.088      1.549      0.125      -0.039       0.312\n",
       "const        -20.1516     26.265     -0.767      0.445     -72.347      32.044\n",
       "==============================================================================\n",
       "Omnibus:                       58.005   Durbin-Watson:                   1.348\n",
       "Prob(Omnibus):                  0.000   Jarque-Bera (JB):              293.856\n",
       "Skew:                           1.950   Prob(JB):                     1.55e-64\n",
       "Kurtosis:                      10.787   Cond. No.                     1.98e+05\n",
       "==============================================================================\n",
       "\n",
       "Notes:\n",
       "[1] Standard Errors assume that the covariance matrix of the errors is correctly specified.\n",
       "[2] The condition number is large, 1.98e+05. This might indicate that there are\n",
       "strong multicollinearity or other numerical problems.\n",
       "\"\"\""
      ]
     },
     "execution_count": 36,
     "metadata": {
      "tags": []
     },
     "output_type": "execute_result"
    }
   ],
   "source": [
    "question17_result_1.summary()"
   ]
  },
  {
   "cell_type": "code",
   "execution_count": null,
   "metadata": {
    "id": "Kf5xzCbxFN0X"
   },
   "outputs": [],
   "source": [
    "## 2) 유의확률이 가장 높은 변수 Width를 제거하고 회귀모형(lm_b)을 다시 생성"
   ]
  },
  {
   "cell_type": "code",
   "execution_count": null,
   "metadata": {
    "id": "CfNko0PdFN0Y"
   },
   "outputs": [],
   "source": [
    "cars93_x=cars93_df[['EngineSize', 'RPM', 'Length']]\n",
    "cars93_y=cars93_df['Price']"
   ]
  },
  {
   "cell_type": "code",
   "execution_count": null,
   "metadata": {
    "id": "_sFqivxLFN0Y"
   },
   "outputs": [],
   "source": [
    "question17_result_2=sm.OLS(cars93_y, cars93_x.assign(const=1)).fit()"
   ]
  },
  {
   "cell_type": "code",
   "execution_count": null,
   "metadata": {
    "id": "J0axi1SDFN0Y",
    "outputId": "36f8b73f-5a0e-446b-f4a2-bcbd190e16b6"
   },
   "outputs": [
    {
     "data": {
      "text/html": [
       "<table class=\"simpletable\">\n",
       "<caption>OLS Regression Results</caption>\n",
       "<tr>\n",
       "  <th>Dep. Variable:</th>          <td>Price</td>      <th>  R-squared:         </th> <td>   0.510</td>\n",
       "</tr>\n",
       "<tr>\n",
       "  <th>Model:</th>                   <td>OLS</td>       <th>  Adj. R-squared:    </th> <td>   0.494</td>\n",
       "</tr>\n",
       "<tr>\n",
       "  <th>Method:</th>             <td>Least Squares</td>  <th>  F-statistic:       </th> <td>   30.92</td>\n",
       "</tr>\n",
       "<tr>\n",
       "  <th>Date:</th>             <td>Sat, 17 Jul 2021</td> <th>  Prob (F-statistic):</th> <td>8.70e-14</td>\n",
       "</tr>\n",
       "<tr>\n",
       "  <th>Time:</th>                 <td>15:52:20</td>     <th>  Log-Likelihood:    </th> <td> -309.17</td>\n",
       "</tr>\n",
       "<tr>\n",
       "  <th>No. Observations:</th>      <td>    93</td>      <th>  AIC:               </th> <td>   626.3</td>\n",
       "</tr>\n",
       "<tr>\n",
       "  <th>Df Residuals:</th>          <td>    89</td>      <th>  BIC:               </th> <td>   636.5</td>\n",
       "</tr>\n",
       "<tr>\n",
       "  <th>Df Model:</th>              <td>     3</td>      <th>                     </th>     <td> </td>   \n",
       "</tr>\n",
       "<tr>\n",
       "  <th>Covariance Type:</th>      <td>nonrobust</td>    <th>                     </th>     <td> </td>   \n",
       "</tr>\n",
       "</table>\n",
       "<table class=\"simpletable\">\n",
       "<tr>\n",
       "       <td></td>         <th>coef</th>     <th>std err</th>      <th>t</th>      <th>P>|t|</th>  <th>[0.025</th>    <th>0.975]</th>  \n",
       "</tr>\n",
       "<tr>\n",
       "  <th>EngineSize</th> <td>    7.1103</td> <td>    1.185</td> <td>    6.000</td> <td> 0.000</td> <td>    4.756</td> <td>    9.465</td>\n",
       "</tr>\n",
       "<tr>\n",
       "  <th>RPM</th>        <td>    0.0075</td> <td>    0.001</td> <td>    5.218</td> <td> 0.000</td> <td>    0.005</td> <td>    0.010</td>\n",
       "</tr>\n",
       "<tr>\n",
       "  <th>Length</th>     <td>    0.0741</td> <td>    0.078</td> <td>    0.944</td> <td> 0.348</td> <td>   -0.082</td> <td>    0.230</td>\n",
       "</tr>\n",
       "<tr>\n",
       "  <th>const</th>      <td>  -52.6012</td> <td>   15.252</td> <td>   -3.449</td> <td> 0.001</td> <td>  -82.906</td> <td>  -22.297</td>\n",
       "</tr>\n",
       "</table>\n",
       "<table class=\"simpletable\">\n",
       "<tr>\n",
       "  <th>Omnibus:</th>       <td>59.869</td> <th>  Durbin-Watson:     </th> <td>   1.327</td>\n",
       "</tr>\n",
       "<tr>\n",
       "  <th>Prob(Omnibus):</th> <td> 0.000</td> <th>  Jarque-Bera (JB):  </th> <td> 324.189</td>\n",
       "</tr>\n",
       "<tr>\n",
       "  <th>Skew:</th>          <td> 1.997</td> <th>  Prob(JB):          </th> <td>4.01e-71</td>\n",
       "</tr>\n",
       "<tr>\n",
       "  <th>Kurtosis:</th>      <td>11.229</td> <th>  Cond. No.          </th> <td>1.14e+05</td>\n",
       "</tr>\n",
       "</table><br/><br/>Notes:<br/>[1] Standard Errors assume that the covariance matrix of the errors is correctly specified.<br/>[2] The condition number is large, 1.14e+05. This might indicate that there are<br/>strong multicollinearity or other numerical problems."
      ],
      "text/plain": [
       "<class 'statsmodels.iolib.summary.Summary'>\n",
       "\"\"\"\n",
       "                            OLS Regression Results                            \n",
       "==============================================================================\n",
       "Dep. Variable:                  Price   R-squared:                       0.510\n",
       "Model:                            OLS   Adj. R-squared:                  0.494\n",
       "Method:                 Least Squares   F-statistic:                     30.92\n",
       "Date:                Sat, 17 Jul 2021   Prob (F-statistic):           8.70e-14\n",
       "Time:                        15:52:20   Log-Likelihood:                -309.17\n",
       "No. Observations:                  93   AIC:                             626.3\n",
       "Df Residuals:                      89   BIC:                             636.5\n",
       "Df Model:                           3                                         \n",
       "Covariance Type:            nonrobust                                         \n",
       "==============================================================================\n",
       "                 coef    std err          t      P>|t|      [0.025      0.975]\n",
       "------------------------------------------------------------------------------\n",
       "EngineSize     7.1103      1.185      6.000      0.000       4.756       9.465\n",
       "RPM            0.0075      0.001      5.218      0.000       0.005       0.010\n",
       "Length         0.0741      0.078      0.944      0.348      -0.082       0.230\n",
       "const        -52.6012     15.252     -3.449      0.001     -82.906     -22.297\n",
       "==============================================================================\n",
       "Omnibus:                       59.869   Durbin-Watson:                   1.327\n",
       "Prob(Omnibus):                  0.000   Jarque-Bera (JB):              324.189\n",
       "Skew:                           1.997   Prob(JB):                     4.01e-71\n",
       "Kurtosis:                      11.229   Cond. No.                     1.14e+05\n",
       "==============================================================================\n",
       "\n",
       "Notes:\n",
       "[1] Standard Errors assume that the covariance matrix of the errors is correctly specified.\n",
       "[2] The condition number is large, 1.14e+05. This might indicate that there are\n",
       "strong multicollinearity or other numerical problems.\n",
       "\"\"\""
      ]
     },
     "execution_count": 40,
     "metadata": {
      "tags": []
     },
     "output_type": "execute_result"
    }
   ],
   "source": [
    "question17_result_2.summary()"
   ]
  },
  {
   "cell_type": "code",
   "execution_count": null,
   "metadata": {
    "id": "53BdkxUrFN0Z"
   },
   "outputs": [],
   "source": [
    "## 3) 유의확률이 가장 높은 변수 Length를 제거하고 회귀모형(lm_c)을 다시 생성"
   ]
  },
  {
   "cell_type": "code",
   "execution_count": null,
   "metadata": {
    "id": "75zQY8XvFN0Z"
   },
   "outputs": [],
   "source": [
    "cars93_x=cars93_df[['EngineSize', 'RPM']]\n",
    "cars93_y=cars93_df['Price']"
   ]
  },
  {
   "cell_type": "code",
   "execution_count": null,
   "metadata": {
    "id": "cxczx7OIFN0b"
   },
   "outputs": [],
   "source": [
    "question17_result_3=sm.OLS(cars93_y, cars93_x.assign(const=1)).fit()"
   ]
  },
  {
   "cell_type": "code",
   "execution_count": null,
   "metadata": {
    "id": "0ywgyYRZFN0b",
    "outputId": "d0ac7495-f8e2-47b4-f68a-e6461c37e24f"
   },
   "outputs": [
    {
     "data": {
      "text/html": [
       "<table class=\"simpletable\">\n",
       "<caption>OLS Regression Results</caption>\n",
       "<tr>\n",
       "  <th>Dep. Variable:</th>          <td>Price</td>      <th>  R-squared:         </th> <td>   0.505</td>\n",
       "</tr>\n",
       "<tr>\n",
       "  <th>Model:</th>                   <td>OLS</td>       <th>  Adj. R-squared:    </th> <td>   0.494</td>\n",
       "</tr>\n",
       "<tr>\n",
       "  <th>Method:</th>             <td>Least Squares</td>  <th>  F-statistic:       </th> <td>   45.99</td>\n",
       "</tr>\n",
       "<tr>\n",
       "  <th>Date:</th>             <td>Sat, 17 Jul 2021</td> <th>  Prob (F-statistic):</th> <td>1.74e-14</td>\n",
       "</tr>\n",
       "<tr>\n",
       "  <th>Time:</th>                 <td>15:53:17</td>     <th>  Log-Likelihood:    </th> <td> -309.64</td>\n",
       "</tr>\n",
       "<tr>\n",
       "  <th>No. Observations:</th>      <td>    93</td>      <th>  AIC:               </th> <td>   625.3</td>\n",
       "</tr>\n",
       "<tr>\n",
       "  <th>Df Residuals:</th>          <td>    90</td>      <th>  BIC:               </th> <td>   632.9</td>\n",
       "</tr>\n",
       "<tr>\n",
       "  <th>Df Model:</th>              <td>     2</td>      <th>                     </th>     <td> </td>   \n",
       "</tr>\n",
       "<tr>\n",
       "  <th>Covariance Type:</th>      <td>nonrobust</td>    <th>                     </th>     <td> </td>   \n",
       "</tr>\n",
       "</table>\n",
       "<table class=\"simpletable\">\n",
       "<tr>\n",
       "       <td></td>         <th>coef</th>     <th>std err</th>      <th>t</th>      <th>P>|t|</th>  <th>[0.025</th>    <th>0.975]</th>  \n",
       "</tr>\n",
       "<tr>\n",
       "  <th>EngineSize</th> <td>    7.9131</td> <td>    0.825</td> <td>    9.590</td> <td> 0.000</td> <td>    6.274</td> <td>    9.552</td>\n",
       "</tr>\n",
       "<tr>\n",
       "  <th>RPM</th>        <td>    0.0075</td> <td>    0.001</td> <td>    5.198</td> <td> 0.000</td> <td>    0.005</td> <td>    0.010</td>\n",
       "</tr>\n",
       "<tr>\n",
       "  <th>const</th>      <td>  -40.9772</td> <td>    9.000</td> <td>   -4.553</td> <td> 0.000</td> <td>  -58.857</td> <td>  -23.097</td>\n",
       "</tr>\n",
       "</table>\n",
       "<table class=\"simpletable\">\n",
       "<tr>\n",
       "  <th>Omnibus:</th>       <td>59.370</td> <th>  Durbin-Watson:     </th> <td>   1.317</td>\n",
       "</tr>\n",
       "<tr>\n",
       "  <th>Prob(Omnibus):</th> <td> 0.000</td> <th>  Jarque-Bera (JB):  </th> <td> 304.784</td>\n",
       "</tr>\n",
       "<tr>\n",
       "  <th>Skew:</th>          <td> 2.004</td> <th>  Prob(JB):          </th> <td>6.56e-67</td>\n",
       "</tr>\n",
       "<tr>\n",
       "  <th>Kurtosis:</th>      <td>10.912</td> <th>  Cond. No.          </th> <td>6.73e+04</td>\n",
       "</tr>\n",
       "</table><br/><br/>Notes:<br/>[1] Standard Errors assume that the covariance matrix of the errors is correctly specified.<br/>[2] The condition number is large, 6.73e+04. This might indicate that there are<br/>strong multicollinearity or other numerical problems."
      ],
      "text/plain": [
       "<class 'statsmodels.iolib.summary.Summary'>\n",
       "\"\"\"\n",
       "                            OLS Regression Results                            \n",
       "==============================================================================\n",
       "Dep. Variable:                  Price   R-squared:                       0.505\n",
       "Model:                            OLS   Adj. R-squared:                  0.494\n",
       "Method:                 Least Squares   F-statistic:                     45.99\n",
       "Date:                Sat, 17 Jul 2021   Prob (F-statistic):           1.74e-14\n",
       "Time:                        15:53:17   Log-Likelihood:                -309.64\n",
       "No. Observations:                  93   AIC:                             625.3\n",
       "Df Residuals:                      90   BIC:                             632.9\n",
       "Df Model:                           2                                         \n",
       "Covariance Type:            nonrobust                                         \n",
       "==============================================================================\n",
       "                 coef    std err          t      P>|t|      [0.025      0.975]\n",
       "------------------------------------------------------------------------------\n",
       "EngineSize     7.9131      0.825      9.590      0.000       6.274       9.552\n",
       "RPM            0.0075      0.001      5.198      0.000       0.005       0.010\n",
       "const        -40.9772      9.000     -4.553      0.000     -58.857     -23.097\n",
       "==============================================================================\n",
       "Omnibus:                       59.370   Durbin-Watson:                   1.317\n",
       "Prob(Omnibus):                  0.000   Jarque-Bera (JB):              304.784\n",
       "Skew:                           2.004   Prob(JB):                     6.56e-67\n",
       "Kurtosis:                      10.912   Cond. No.                     6.73e+04\n",
       "==============================================================================\n",
       "\n",
       "Notes:\n",
       "[1] Standard Errors assume that the covariance matrix of the errors is correctly specified.\n",
       "[2] The condition number is large, 6.73e+04. This might indicate that there are\n",
       "strong multicollinearity or other numerical problems.\n",
       "\"\"\""
      ]
     },
     "execution_count": 44,
     "metadata": {
      "tags": []
     },
     "output_type": "execute_result"
    }
   ],
   "source": [
    "question17_result_3.summary()"
   ]
  },
  {
   "cell_type": "markdown",
   "metadata": {
    "id": "gyxYlPU9FN0c"
   },
   "source": [
    "Question 18) MASS 패키지의 Cars93 데이터에서 엔진크기(EngineSize), 마력(Horsepower), RPM(RPM), 너비(Width),    \n",
    "   길이(Length), 무게(Weight)를 독립변수로 가지고, 자동차의 가격(Price)를 종속변수로 가지는 선형회귀모형을 생성해보자.    \n",
    "   그 후 step함수를 사용해 ‘후진제거법’으로 변수 선택을 수행한 후 결과를 해석해보자.   "
   ]
  },
  {
   "cell_type": "code",
   "execution_count": null,
   "metadata": {
    "id": "8Yik06LvFN0c"
   },
   "outputs": [],
   "source": [
    "cars93_x=cars93_df[['EngineSize', 'Horsepower', 'RPM', 'Width', 'Length', 'Weight']]\n",
    "cars93_y=cars93_df['Price']"
   ]
  },
  {
   "cell_type": "code",
   "execution_count": null,
   "metadata": {
    "id": "QVpzhhaOFN0d"
   },
   "outputs": [],
   "source": [
    "question18=sm.OLS(cars93_y, cars93_x.assign(const=1)).fit()"
   ]
  },
  {
   "cell_type": "code",
   "execution_count": null,
   "metadata": {
    "id": "LbLvC1B-FN0e",
    "outputId": "ae8bc1df-ead0-49b5-a5ab-b7a230bfd439"
   },
   "outputs": [
    {
     "data": {
      "text/html": [
       "<table class=\"simpletable\">\n",
       "<caption>OLS Regression Results</caption>\n",
       "<tr>\n",
       "  <th>Dep. Variable:</th>          <td>Price</td>      <th>  R-squared:         </th> <td>   0.702</td>\n",
       "</tr>\n",
       "<tr>\n",
       "  <th>Model:</th>                   <td>OLS</td>       <th>  Adj. R-squared:    </th> <td>   0.682</td>\n",
       "</tr>\n",
       "<tr>\n",
       "  <th>Method:</th>             <td>Least Squares</td>  <th>  F-statistic:       </th> <td>   33.83</td>\n",
       "</tr>\n",
       "<tr>\n",
       "  <th>Date:</th>             <td>Sat, 17 Jul 2021</td> <th>  Prob (F-statistic):</th> <td>1.15e-20</td>\n",
       "</tr>\n",
       "<tr>\n",
       "  <th>Time:</th>                 <td>16:20:39</td>     <th>  Log-Likelihood:    </th> <td> -286.01</td>\n",
       "</tr>\n",
       "<tr>\n",
       "  <th>No. Observations:</th>      <td>    93</td>      <th>  AIC:               </th> <td>   586.0</td>\n",
       "</tr>\n",
       "<tr>\n",
       "  <th>Df Residuals:</th>          <td>    86</td>      <th>  BIC:               </th> <td>   603.8</td>\n",
       "</tr>\n",
       "<tr>\n",
       "  <th>Df Model:</th>              <td>     6</td>      <th>                     </th>     <td> </td>   \n",
       "</tr>\n",
       "<tr>\n",
       "  <th>Covariance Type:</th>      <td>nonrobust</td>    <th>                     </th>     <td> </td>   \n",
       "</tr>\n",
       "</table>\n",
       "<table class=\"simpletable\">\n",
       "<tr>\n",
       "       <td></td>         <th>coef</th>     <th>std err</th>      <th>t</th>      <th>P>|t|</th>  <th>[0.025</th>    <th>0.975]</th>  \n",
       "</tr>\n",
       "<tr>\n",
       "  <th>EngineSize</th> <td>    0.4058</td> <td>    1.699</td> <td>    0.239</td> <td> 0.812</td> <td>   -2.972</td> <td>    3.784</td>\n",
       "</tr>\n",
       "<tr>\n",
       "  <th>Horsepower</th> <td>    0.1416</td> <td>    0.029</td> <td>    4.926</td> <td> 0.000</td> <td>    0.084</td> <td>    0.199</td>\n",
       "</tr>\n",
       "<tr>\n",
       "  <th>RPM</th>        <td>   -0.0016</td> <td>    0.002</td> <td>   -0.815</td> <td> 0.418</td> <td>   -0.005</td> <td>    0.002</td>\n",
       "</tr>\n",
       "<tr>\n",
       "  <th>Width</th>      <td>   -1.7150</td> <td>    0.386</td> <td>   -4.438</td> <td> 0.000</td> <td>   -2.483</td> <td>   -0.947</td>\n",
       "</tr>\n",
       "<tr>\n",
       "  <th>Length</th>     <td>    0.1528</td> <td>    0.076</td> <td>    2.006</td> <td> 0.048</td> <td>    0.001</td> <td>    0.304</td>\n",
       "</tr>\n",
       "<tr>\n",
       "  <th>Weight</th>     <td>    0.0066</td> <td>    0.002</td> <td>    2.657</td> <td> 0.009</td> <td>    0.002</td> <td>    0.012</td>\n",
       "</tr>\n",
       "<tr>\n",
       "  <th>const</th>      <td>   77.1174</td> <td>   24.958</td> <td>    3.090</td> <td> 0.003</td> <td>   27.503</td> <td>  126.732</td>\n",
       "</tr>\n",
       "</table>\n",
       "<table class=\"simpletable\">\n",
       "<tr>\n",
       "  <th>Omnibus:</th>       <td>49.115</td> <th>  Durbin-Watson:     </th> <td>   1.571</td>\n",
       "</tr>\n",
       "<tr>\n",
       "  <th>Prob(Omnibus):</th> <td> 0.000</td> <th>  Jarque-Bera (JB):  </th> <td> 271.587</td>\n",
       "</tr>\n",
       "<tr>\n",
       "  <th>Skew:</th>          <td> 1.526</td> <th>  Prob(JB):          </th> <td>1.06e-59</td>\n",
       "</tr>\n",
       "<tr>\n",
       "  <th>Kurtosis:</th>      <td>10.796</td> <th>  Cond. No.          </th> <td>2.71e+05</td>\n",
       "</tr>\n",
       "</table><br/><br/>Notes:<br/>[1] Standard Errors assume that the covariance matrix of the errors is correctly specified.<br/>[2] The condition number is large, 2.71e+05. This might indicate that there are<br/>strong multicollinearity or other numerical problems."
      ],
      "text/plain": [
       "<class 'statsmodels.iolib.summary.Summary'>\n",
       "\"\"\"\n",
       "                            OLS Regression Results                            \n",
       "==============================================================================\n",
       "Dep. Variable:                  Price   R-squared:                       0.702\n",
       "Model:                            OLS   Adj. R-squared:                  0.682\n",
       "Method:                 Least Squares   F-statistic:                     33.83\n",
       "Date:                Sat, 17 Jul 2021   Prob (F-statistic):           1.15e-20\n",
       "Time:                        16:20:39   Log-Likelihood:                -286.01\n",
       "No. Observations:                  93   AIC:                             586.0\n",
       "Df Residuals:                      86   BIC:                             603.8\n",
       "Df Model:                           6                                         \n",
       "Covariance Type:            nonrobust                                         \n",
       "==============================================================================\n",
       "                 coef    std err          t      P>|t|      [0.025      0.975]\n",
       "------------------------------------------------------------------------------\n",
       "EngineSize     0.4058      1.699      0.239      0.812      -2.972       3.784\n",
       "Horsepower     0.1416      0.029      4.926      0.000       0.084       0.199\n",
       "RPM           -0.0016      0.002     -0.815      0.418      -0.005       0.002\n",
       "Width         -1.7150      0.386     -4.438      0.000      -2.483      -0.947\n",
       "Length         0.1528      0.076      2.006      0.048       0.001       0.304\n",
       "Weight         0.0066      0.002      2.657      0.009       0.002       0.012\n",
       "const         77.1174     24.958      3.090      0.003      27.503     126.732\n",
       "==============================================================================\n",
       "Omnibus:                       49.115   Durbin-Watson:                   1.571\n",
       "Prob(Omnibus):                  0.000   Jarque-Bera (JB):              271.587\n",
       "Skew:                           1.526   Prob(JB):                     1.06e-59\n",
       "Kurtosis:                      10.796   Cond. No.                     2.71e+05\n",
       "==============================================================================\n",
       "\n",
       "Notes:\n",
       "[1] Standard Errors assume that the covariance matrix of the errors is correctly specified.\n",
       "[2] The condition number is large, 2.71e+05. This might indicate that there are\n",
       "strong multicollinearity or other numerical problems.\n",
       "\"\"\""
      ]
     },
     "execution_count": 80,
     "metadata": {
      "tags": []
     },
     "output_type": "execute_result"
    }
   ],
   "source": [
    "question18.summary()"
   ]
  },
  {
   "cell_type": "code",
   "execution_count": null,
   "metadata": {
    "id": "kmHJPS9TFN0f"
   },
   "outputs": [],
   "source": [
    "question18_model = LinearRegression()"
   ]
  },
  {
   "cell_type": "code",
   "execution_count": null,
   "metadata": {
    "id": "hvWDJoLYFN0g"
   },
   "outputs": [],
   "source": [
    "import sklearn\n",
    "from mlxtend.feature_selection import SequentialFeatureSelector"
   ]
  },
  {
   "cell_type": "code",
   "execution_count": null,
   "metadata": {
    "id": "UXlCkDCvFN0g",
    "outputId": "fed18878-cf3e-41c7-a0be-021b0a10f71d"
   },
   "outputs": [
    {
     "name": "stdout",
     "output_type": "stream",
     "text": [
      "Collecting mlxtend\n",
      "  Downloading mlxtend-0.18.0-py2.py3-none-any.whl (1.3 MB)\n",
      "Requirement already satisfied: matplotlib>=3.0.0 in c:\\myeongju\\lib\\site-packages (from mlxtend) (3.3.2)\n",
      "Requirement already satisfied: pandas>=0.24.2 in c:\\myeongju\\lib\\site-packages (from mlxtend) (1.1.3)\n",
      "Requirement already satisfied: scikit-learn>=0.20.3 in c:\\myeongju\\lib\\site-packages (from mlxtend) (0.24.1)\n",
      "Requirement already satisfied: joblib>=0.13.2 in c:\\myeongju\\lib\\site-packages (from mlxtend) (0.17.0)\n",
      "Requirement already satisfied: numpy>=1.16.2 in c:\\myeongju\\lib\\site-packages (from mlxtend) (1.19.2)\n",
      "Requirement already satisfied: setuptools in c:\\myeongju\\lib\\site-packages (from mlxtend) (50.3.1.post20201107)\n",
      "Requirement already satisfied: scipy>=1.2.1 in c:\\myeongju\\lib\\site-packages (from mlxtend) (1.5.2)\n",
      "Requirement already satisfied: kiwisolver>=1.0.1 in c:\\myeongju\\lib\\site-packages (from matplotlib>=3.0.0->mlxtend) (1.3.0)\n",
      "Requirement already satisfied: python-dateutil>=2.1 in c:\\myeongju\\lib\\site-packages (from matplotlib>=3.0.0->mlxtend) (2.8.1)\n",
      "Requirement already satisfied: pyparsing!=2.0.4,!=2.1.2,!=2.1.6,>=2.0.3 in c:\\myeongju\\lib\\site-packages (from matplotlib>=3.0.0->mlxtend) (2.4.7)\n",
      "Requirement already satisfied: cycler>=0.10 in c:\\myeongju\\lib\\site-packages (from matplotlib>=3.0.0->mlxtend) (0.10.0)\n",
      "Requirement already satisfied: certifi>=2020.06.20 in c:\\myeongju\\lib\\site-packages (from matplotlib>=3.0.0->mlxtend) (2020.6.20)\n",
      "Requirement already satisfied: pillow>=6.2.0 in c:\\myeongju\\lib\\site-packages (from matplotlib>=3.0.0->mlxtend) (8.0.1)\n",
      "Requirement already satisfied: pytz>=2017.2 in c:\\myeongju\\lib\\site-packages (from pandas>=0.24.2->mlxtend) (2020.1)\n",
      "Requirement already satisfied: threadpoolctl>=2.0.0 in c:\\myeongju\\lib\\site-packages (from scikit-learn>=0.20.3->mlxtend) (2.1.0)\n",
      "Requirement already satisfied: six>=1.5 in c:\\myeongju\\lib\\site-packages (from python-dateutil>=2.1->matplotlib>=3.0.0->mlxtend) (1.15.0)\n",
      "Installing collected packages: mlxtend\n",
      "Successfully installed mlxtend-0.18.0\n"
     ]
    }
   ],
   "source": [
    "!pip install mlxtend  "
   ]
  },
  {
   "cell_type": "code",
   "execution_count": null,
   "metadata": {
    "id": "_icTOMP8FN0g"
   },
   "outputs": [],
   "source": [
    "bfs=SequentialFeatureSelector(question18_model, k_features='best', forward=False)"
   ]
  },
  {
   "cell_type": "code",
   "execution_count": null,
   "metadata": {
    "id": "sBlvF2crFN0h",
    "outputId": "bbb72fed-3b1c-42cb-c720-7a10fc760eb9"
   },
   "outputs": [
    {
     "data": {
      "text/plain": [
       "SequentialFeatureSelector(estimator=LinearRegression(), forward=False,\n",
       "                          k_features='best')"
      ]
     },
     "execution_count": 85,
     "metadata": {
      "tags": []
     },
     "output_type": "execute_result"
    }
   ],
   "source": [
    "bfs.fit(cars93_x, cars93_y, custom_feature_names=cars93_x.columns)"
   ]
  },
  {
   "cell_type": "code",
   "execution_count": null,
   "metadata": {
    "id": "CkX5edIhFN0h",
    "outputId": "eea06f65-2037-4bf8-adf0-5038039de35e"
   },
   "outputs": [
    {
     "data": {
      "text/plain": [
       "['Horsepower', 'Width', 'Length', 'Weight']"
      ]
     },
     "execution_count": 87,
     "metadata": {
      "tags": []
     },
     "output_type": "execute_result"
    }
   ],
   "source": [
    "features_b=list(bfs.k_feature_names_)\n",
    "features_b"
   ]
  },
  {
   "cell_type": "markdown",
   "metadata": {
    "id": "gzjkzb0OFN0i"
   },
   "source": [
    "### --------------------------------------------------------------------------\n",
    "\n",
    "### 실전 예제1) ADP 실기 모의고사 1회\n",
    "\n"
   ]
  },
  {
   "cell_type": "markdown",
   "metadata": {},
   "source": [
    "Q1) FIFA데이터에서 각 선수의 키는 Heghit변수에 피트와 인치로 입력되어 있습니다.    \n",
    "이를 cm로 변환하여 새로운 변수 Height_cm을 생성하시오.    \n",
    "( “ ' ” 앞의 숫자는 피트이며, “ ' ” 뒤의 숫자는 인치, 1피트 = 30cm, 1인치 = 2.5cm)   "
   ]
  },
  {
   "cell_type": "code",
   "execution_count": 96,
   "metadata": {},
   "outputs": [
    {
     "data": {
      "text/html": [
       "<div>\n",
       "<style scoped>\n",
       "    .dataframe tbody tr th:only-of-type {\n",
       "        vertical-align: middle;\n",
       "    }\n",
       "\n",
       "    .dataframe tbody tr th {\n",
       "        vertical-align: top;\n",
       "    }\n",
       "\n",
       "    .dataframe thead th {\n",
       "        text-align: right;\n",
       "    }\n",
       "</style>\n",
       "<table border=\"1\" class=\"dataframe\">\n",
       "  <thead>\n",
       "    <tr style=\"text-align: right;\">\n",
       "      <th></th>\n",
       "      <th>ID</th>\n",
       "      <th>Name</th>\n",
       "      <th>Age</th>\n",
       "      <th>Nationality</th>\n",
       "      <th>Overall</th>\n",
       "      <th>Club</th>\n",
       "      <th>Preferred_Foot</th>\n",
       "      <th>Work_Rate</th>\n",
       "      <th>Position</th>\n",
       "      <th>Jersey_Number</th>\n",
       "      <th>Contract_Valid_Until</th>\n",
       "      <th>Height</th>\n",
       "      <th>Weight_lb</th>\n",
       "      <th>Release_Clause</th>\n",
       "      <th>Value</th>\n",
       "      <th>Wage</th>\n",
       "    </tr>\n",
       "  </thead>\n",
       "  <tbody>\n",
       "    <tr>\n",
       "      <th>0</th>\n",
       "      <td>158023</td>\n",
       "      <td>L. Messi</td>\n",
       "      <td>31</td>\n",
       "      <td>Argentina</td>\n",
       "      <td>94</td>\n",
       "      <td>FC Barcelona</td>\n",
       "      <td>Left</td>\n",
       "      <td>Medium/ Medium</td>\n",
       "      <td>RF</td>\n",
       "      <td>10</td>\n",
       "      <td>2021</td>\n",
       "      <td>5'7</td>\n",
       "      <td>159</td>\n",
       "      <td>226500</td>\n",
       "      <td>110500</td>\n",
       "      <td>565</td>\n",
       "    </tr>\n",
       "    <tr>\n",
       "      <th>1</th>\n",
       "      <td>20801</td>\n",
       "      <td>Cristiano Ronaldo</td>\n",
       "      <td>33</td>\n",
       "      <td>Portugal</td>\n",
       "      <td>94</td>\n",
       "      <td>Juventus</td>\n",
       "      <td>Right</td>\n",
       "      <td>High/ Low</td>\n",
       "      <td>ST</td>\n",
       "      <td>7</td>\n",
       "      <td>2022</td>\n",
       "      <td>6'2</td>\n",
       "      <td>183</td>\n",
       "      <td>127100</td>\n",
       "      <td>77000</td>\n",
       "      <td>405</td>\n",
       "    </tr>\n",
       "    <tr>\n",
       "      <th>2</th>\n",
       "      <td>190871</td>\n",
       "      <td>Neymar Jr</td>\n",
       "      <td>26</td>\n",
       "      <td>Brazil</td>\n",
       "      <td>92</td>\n",
       "      <td>Paris Saint-Germain</td>\n",
       "      <td>Right</td>\n",
       "      <td>High/ Medium</td>\n",
       "      <td>LW</td>\n",
       "      <td>10</td>\n",
       "      <td>2022</td>\n",
       "      <td>5'9</td>\n",
       "      <td>150</td>\n",
       "      <td>228100</td>\n",
       "      <td>118500</td>\n",
       "      <td>290</td>\n",
       "    </tr>\n",
       "    <tr>\n",
       "      <th>3</th>\n",
       "      <td>193080</td>\n",
       "      <td>De Gea</td>\n",
       "      <td>27</td>\n",
       "      <td>Spain</td>\n",
       "      <td>91</td>\n",
       "      <td>Manchester United</td>\n",
       "      <td>Right</td>\n",
       "      <td>Medium/ Medium</td>\n",
       "      <td>GK</td>\n",
       "      <td>1</td>\n",
       "      <td>2020</td>\n",
       "      <td>6'4</td>\n",
       "      <td>168</td>\n",
       "      <td>138600</td>\n",
       "      <td>72000</td>\n",
       "      <td>260</td>\n",
       "    </tr>\n",
       "    <tr>\n",
       "      <th>4</th>\n",
       "      <td>192985</td>\n",
       "      <td>K. De Bruyne</td>\n",
       "      <td>27</td>\n",
       "      <td>Belgium</td>\n",
       "      <td>91</td>\n",
       "      <td>Manchester City</td>\n",
       "      <td>Right</td>\n",
       "      <td>High/ High</td>\n",
       "      <td>RCM</td>\n",
       "      <td>7</td>\n",
       "      <td>2023</td>\n",
       "      <td>5'11</td>\n",
       "      <td>154</td>\n",
       "      <td>196400</td>\n",
       "      <td>102000</td>\n",
       "      <td>355</td>\n",
       "    </tr>\n",
       "  </tbody>\n",
       "</table>\n",
       "</div>"
      ],
      "text/plain": [
       "       ID               Name  Age Nationality  Overall                 Club  \\\n",
       "0  158023           L. Messi   31   Argentina       94         FC Barcelona   \n",
       "1   20801  Cristiano Ronaldo   33    Portugal       94             Juventus   \n",
       "2  190871          Neymar Jr   26      Brazil       92  Paris Saint-Germain   \n",
       "3  193080             De Gea   27       Spain       91    Manchester United   \n",
       "4  192985       K. De Bruyne   27     Belgium       91      Manchester City   \n",
       "\n",
       "  Preferred_Foot       Work_Rate Position  Jersey_Number  \\\n",
       "0           Left  Medium/ Medium       RF             10   \n",
       "1          Right       High/ Low       ST              7   \n",
       "2          Right    High/ Medium       LW             10   \n",
       "3          Right  Medium/ Medium       GK              1   \n",
       "4          Right      High/ High      RCM              7   \n",
       "\n",
       "   Contract_Valid_Until Height  Weight_lb  Release_Clause   Value  Wage  \n",
       "0                  2021    5'7        159          226500  110500   565  \n",
       "1                  2022    6'2        183          127100   77000   405  \n",
       "2                  2022    5'9        150          228100  118500   290  \n",
       "3                  2020    6'4        168          138600   72000   260  \n",
       "4                  2023   5'11        154          196400  102000   355  "
      ]
     },
     "execution_count": 96,
     "metadata": {},
     "output_type": "execute_result"
    }
   ],
   "source": [
    "import pandas as pd\n",
    "fifa_df=pd.read_csv(r'C:\\ISLR-python-master\\Notebooks\\Data\\FIFA.csv', encoding='cp949')\n",
    "fifa_df.head()"
   ]
  },
  {
   "cell_type": "code",
   "execution_count": 97,
   "metadata": {},
   "outputs": [
    {
     "data": {
      "text/plain": [
       "ID                      0\n",
       "Name                    0\n",
       "Age                     0\n",
       "Nationality             0\n",
       "Overall                 0\n",
       "Club                    0\n",
       "Preferred_Foot          0\n",
       "Work_Rate               0\n",
       "Position                0\n",
       "Jersey_Number           0\n",
       "Contract_Valid_Until    0\n",
       "Height                  0\n",
       "Weight_lb               0\n",
       "Release_Clause          0\n",
       "Value                   0\n",
       "Wage                    0\n",
       "dtype: int64"
      ]
     },
     "execution_count": 97,
     "metadata": {},
     "output_type": "execute_result"
    }
   ],
   "source": [
    "missing_n=fifa_df.isnull().sum()\n",
    "missing_n"
   ]
  },
  {
   "cell_type": "code",
   "execution_count": 98,
   "metadata": {},
   "outputs": [
    {
     "data": {
      "text/plain": [
       "\"5'7\""
      ]
     },
     "execution_count": 98,
     "metadata": {},
     "output_type": "execute_result"
    }
   ],
   "source": [
    "fifa_df['Height'][0] # 5 feet 30 inch"
   ]
  },
  {
   "cell_type": "code",
   "execution_count": 99,
   "metadata": {},
   "outputs": [
    {
     "data": {
      "text/plain": [
       "150"
      ]
     },
     "execution_count": 99,
     "metadata": {},
     "output_type": "execute_result"
    }
   ],
   "source": [
    "int(fifa_df['Height'][0][0])*30"
   ]
  },
  {
   "cell_type": "code",
   "execution_count": 100,
   "metadata": {},
   "outputs": [
    {
     "data": {
      "text/plain": [
       "17.5"
      ]
     },
     "execution_count": 100,
     "metadata": {},
     "output_type": "execute_result"
    }
   ],
   "source": [
    "int(fifa_df['Height'][0][2])*2.5"
   ]
  },
  {
   "cell_type": "code",
   "execution_count": 101,
   "metadata": {},
   "outputs": [
    {
     "name": "stderr",
     "output_type": "stream",
     "text": [
      "<ipython-input-101-a0face242e69>:3: SettingWithCopyWarning: \n",
      "A value is trying to be set on a copy of a slice from a DataFrame\n",
      "\n",
      "See the caveats in the documentation: https://pandas.pydata.org/pandas-docs/stable/user_guide/indexing.html#returning-a-view-versus-a-copy\n",
      "  fifa_df['Height_cm'][i]=int(fifa_df['Height'][i][0])*30 + int(fifa_df['Height'][i][2])*2.5\n"
     ]
    }
   ],
   "source": [
    "fifa_df['Height_cm']=0\n",
    "for i in range(fifa_df.shape[0]):\n",
    "    fifa_df['Height_cm'][i]=int(fifa_df['Height'][i][0])*30 + int(fifa_df['Height'][i][2])*2.5"
   ]
  },
  {
   "cell_type": "code",
   "execution_count": 102,
   "metadata": {},
   "outputs": [
    {
     "data": {
      "text/html": [
       "<div>\n",
       "<style scoped>\n",
       "    .dataframe tbody tr th:only-of-type {\n",
       "        vertical-align: middle;\n",
       "    }\n",
       "\n",
       "    .dataframe tbody tr th {\n",
       "        vertical-align: top;\n",
       "    }\n",
       "\n",
       "    .dataframe thead th {\n",
       "        text-align: right;\n",
       "    }\n",
       "</style>\n",
       "<table border=\"1\" class=\"dataframe\">\n",
       "  <thead>\n",
       "    <tr style=\"text-align: right;\">\n",
       "      <th></th>\n",
       "      <th>ID</th>\n",
       "      <th>Name</th>\n",
       "      <th>Age</th>\n",
       "      <th>Nationality</th>\n",
       "      <th>Overall</th>\n",
       "      <th>Club</th>\n",
       "      <th>Preferred_Foot</th>\n",
       "      <th>Work_Rate</th>\n",
       "      <th>Position</th>\n",
       "      <th>Jersey_Number</th>\n",
       "      <th>Contract_Valid_Until</th>\n",
       "      <th>Height</th>\n",
       "      <th>Weight_lb</th>\n",
       "      <th>Release_Clause</th>\n",
       "      <th>Value</th>\n",
       "      <th>Wage</th>\n",
       "      <th>Height_cm</th>\n",
       "    </tr>\n",
       "  </thead>\n",
       "  <tbody>\n",
       "    <tr>\n",
       "      <th>0</th>\n",
       "      <td>158023</td>\n",
       "      <td>L. Messi</td>\n",
       "      <td>31</td>\n",
       "      <td>Argentina</td>\n",
       "      <td>94</td>\n",
       "      <td>FC Barcelona</td>\n",
       "      <td>Left</td>\n",
       "      <td>Medium/ Medium</td>\n",
       "      <td>RF</td>\n",
       "      <td>10</td>\n",
       "      <td>2021</td>\n",
       "      <td>5'7</td>\n",
       "      <td>159</td>\n",
       "      <td>226500</td>\n",
       "      <td>110500</td>\n",
       "      <td>565</td>\n",
       "      <td>167</td>\n",
       "    </tr>\n",
       "    <tr>\n",
       "      <th>1</th>\n",
       "      <td>20801</td>\n",
       "      <td>Cristiano Ronaldo</td>\n",
       "      <td>33</td>\n",
       "      <td>Portugal</td>\n",
       "      <td>94</td>\n",
       "      <td>Juventus</td>\n",
       "      <td>Right</td>\n",
       "      <td>High/ Low</td>\n",
       "      <td>ST</td>\n",
       "      <td>7</td>\n",
       "      <td>2022</td>\n",
       "      <td>6'2</td>\n",
       "      <td>183</td>\n",
       "      <td>127100</td>\n",
       "      <td>77000</td>\n",
       "      <td>405</td>\n",
       "      <td>185</td>\n",
       "    </tr>\n",
       "    <tr>\n",
       "      <th>2</th>\n",
       "      <td>190871</td>\n",
       "      <td>Neymar Jr</td>\n",
       "      <td>26</td>\n",
       "      <td>Brazil</td>\n",
       "      <td>92</td>\n",
       "      <td>Paris Saint-Germain</td>\n",
       "      <td>Right</td>\n",
       "      <td>High/ Medium</td>\n",
       "      <td>LW</td>\n",
       "      <td>10</td>\n",
       "      <td>2022</td>\n",
       "      <td>5'9</td>\n",
       "      <td>150</td>\n",
       "      <td>228100</td>\n",
       "      <td>118500</td>\n",
       "      <td>290</td>\n",
       "      <td>172</td>\n",
       "    </tr>\n",
       "    <tr>\n",
       "      <th>3</th>\n",
       "      <td>193080</td>\n",
       "      <td>De Gea</td>\n",
       "      <td>27</td>\n",
       "      <td>Spain</td>\n",
       "      <td>91</td>\n",
       "      <td>Manchester United</td>\n",
       "      <td>Right</td>\n",
       "      <td>Medium/ Medium</td>\n",
       "      <td>GK</td>\n",
       "      <td>1</td>\n",
       "      <td>2020</td>\n",
       "      <td>6'4</td>\n",
       "      <td>168</td>\n",
       "      <td>138600</td>\n",
       "      <td>72000</td>\n",
       "      <td>260</td>\n",
       "      <td>190</td>\n",
       "    </tr>\n",
       "    <tr>\n",
       "      <th>4</th>\n",
       "      <td>192985</td>\n",
       "      <td>K. De Bruyne</td>\n",
       "      <td>27</td>\n",
       "      <td>Belgium</td>\n",
       "      <td>91</td>\n",
       "      <td>Manchester City</td>\n",
       "      <td>Right</td>\n",
       "      <td>High/ High</td>\n",
       "      <td>RCM</td>\n",
       "      <td>7</td>\n",
       "      <td>2023</td>\n",
       "      <td>5'11</td>\n",
       "      <td>154</td>\n",
       "      <td>196400</td>\n",
       "      <td>102000</td>\n",
       "      <td>355</td>\n",
       "      <td>152</td>\n",
       "    </tr>\n",
       "  </tbody>\n",
       "</table>\n",
       "</div>"
      ],
      "text/plain": [
       "       ID               Name  Age Nationality  Overall                 Club  \\\n",
       "0  158023           L. Messi   31   Argentina       94         FC Barcelona   \n",
       "1   20801  Cristiano Ronaldo   33    Portugal       94             Juventus   \n",
       "2  190871          Neymar Jr   26      Brazil       92  Paris Saint-Germain   \n",
       "3  193080             De Gea   27       Spain       91    Manchester United   \n",
       "4  192985       K. De Bruyne   27     Belgium       91      Manchester City   \n",
       "\n",
       "  Preferred_Foot       Work_Rate Position  Jersey_Number  \\\n",
       "0           Left  Medium/ Medium       RF             10   \n",
       "1          Right       High/ Low       ST              7   \n",
       "2          Right    High/ Medium       LW             10   \n",
       "3          Right  Medium/ Medium       GK              1   \n",
       "4          Right      High/ High      RCM              7   \n",
       "\n",
       "   Contract_Valid_Until Height  Weight_lb  Release_Clause   Value  Wage  \\\n",
       "0                  2021    5'7        159          226500  110500   565   \n",
       "1                  2022    6'2        183          127100   77000   405   \n",
       "2                  2022    5'9        150          228100  118500   290   \n",
       "3                  2020    6'4        168          138600   72000   260   \n",
       "4                  2023   5'11        154          196400  102000   355   \n",
       "\n",
       "   Height_cm  \n",
       "0        167  \n",
       "1        185  \n",
       "2        172  \n",
       "3        190  \n",
       "4        152  "
      ]
     },
     "execution_count": 102,
     "metadata": {},
     "output_type": "execute_result"
    }
   ],
   "source": [
    "fifa_df.head()"
   ]
  },
  {
   "cell_type": "markdown",
   "metadata": {},
   "source": [
    "Q2) 포지션을 의미하는 Position변수를 아래 표를 참고하여 “Forward”, “Midfielder”,    \n",
    "Defender”, “GoalKeeper”로 재범주화하고, factor형으로 변환하여 Position_Class \n",
    "라는 변수를 생성하고 저장하시오."
   ]
  },
  {
   "cell_type": "code",
   "execution_count": 103,
   "metadata": {},
   "outputs": [
    {
     "data": {
      "text/plain": [
       "ST     1924\n",
       "GK     1900\n",
       "CB     1646\n",
       "CM     1276\n",
       "LB     1223\n",
       "RB     1199\n",
       "RM     1022\n",
       "LM     1012\n",
       "CAM     876\n",
       "CDM     873\n",
       "RCB     615\n",
       "LCB     595\n",
       "RCM     355\n",
       "LCM     353\n",
       "LW      338\n",
       "RW      325\n",
       "RDM     228\n",
       "LDM     224\n",
       "LS      184\n",
       "RS      179\n",
       "RWB      84\n",
       "LWB      76\n",
       "CF       66\n",
       "RAM      21\n",
       "LAM      20\n",
       "LF       15\n",
       "RF       13\n",
       "Name: Position, dtype: int64"
      ]
     },
     "execution_count": 103,
     "metadata": {},
     "output_type": "execute_result"
    }
   ],
   "source": [
    "fifa_df['Position'].value_counts()"
   ]
  },
  {
   "cell_type": "code",
   "execution_count": 104,
   "metadata": {},
   "outputs": [],
   "source": [
    "Forward=['LS, ST', 'RS', 'LW', 'LF', 'CF', 'RF', 'RW']\n",
    "Midfielder=['LAM', 'CAM', 'RAM', 'LM', 'LCM', 'CM', 'RCM', 'RM']\n",
    "Defender=['LWB', 'LDM', 'CDM', 'RDM', 'RWB', 'LB', 'LCB', 'CB', 'RCB', 'RB']\n",
    "GoalKeeper=['GK']"
   ]
  },
  {
   "cell_type": "code",
   "execution_count": 105,
   "metadata": {},
   "outputs": [
    {
     "name": "stderr",
     "output_type": "stream",
     "text": [
      "<ipython-input-105-de0505f65dd9>:4: SettingWithCopyWarning: \n",
      "A value is trying to be set on a copy of a slice from a DataFrame\n",
      "\n",
      "See the caveats in the documentation: https://pandas.pydata.org/pandas-docs/stable/user_guide/indexing.html#returning-a-view-versus-a-copy\n",
      "  fifa_df['Position_Class'][i]='Forward'\n",
      "C:\\Users\\myeon\\anaconda3\\lib\\site-packages\\pandas\\core\\indexing.py:671: SettingWithCopyWarning: \n",
      "A value is trying to be set on a copy of a slice from a DataFrame\n",
      "\n",
      "See the caveats in the documentation: https://pandas.pydata.org/pandas-docs/stable/user_guide/indexing.html#returning-a-view-versus-a-copy\n",
      "  self._setitem_with_indexer(indexer, value)\n",
      "<ipython-input-105-de0505f65dd9>:10: SettingWithCopyWarning: \n",
      "A value is trying to be set on a copy of a slice from a DataFrame\n",
      "\n",
      "See the caveats in the documentation: https://pandas.pydata.org/pandas-docs/stable/user_guide/indexing.html#returning-a-view-versus-a-copy\n",
      "  fifa_df['Position_Class'][i]='GoalKeeper'\n",
      "<ipython-input-105-de0505f65dd9>:6: SettingWithCopyWarning: \n",
      "A value is trying to be set on a copy of a slice from a DataFrame\n",
      "\n",
      "See the caveats in the documentation: https://pandas.pydata.org/pandas-docs/stable/user_guide/indexing.html#returning-a-view-versus-a-copy\n",
      "  fifa_df['Position_Class'][i]='Midfielder'\n",
      "<ipython-input-105-de0505f65dd9>:8: SettingWithCopyWarning: \n",
      "A value is trying to be set on a copy of a slice from a DataFrame\n",
      "\n",
      "See the caveats in the documentation: https://pandas.pydata.org/pandas-docs/stable/user_guide/indexing.html#returning-a-view-versus-a-copy\n",
      "  fifa_df['Position_Class'][i]='Defender'\n"
     ]
    }
   ],
   "source": [
    "fifa_df['Position_Class']=0\n",
    "for i in range(fifa_df.shape[0]):\n",
    "    if fifa_df['Position'][i] in Forward:\n",
    "        fifa_df['Position_Class'][i]='Forward'\n",
    "    elif fifa_df['Position'][i] in Midfielder:\n",
    "        fifa_df['Position_Class'][i]='Midfielder'\n",
    "    elif fifa_df['Position'][i] in Defender:\n",
    "        fifa_df['Position_Class'][i]='Defender'\n",
    "    else:\n",
    "        fifa_df['Position_Class'][i]='GoalKeeper'"
   ]
  },
  {
   "cell_type": "code",
   "execution_count": 106,
   "metadata": {},
   "outputs": [
    {
     "data": {
      "text/html": [
       "<div>\n",
       "<style scoped>\n",
       "    .dataframe tbody tr th:only-of-type {\n",
       "        vertical-align: middle;\n",
       "    }\n",
       "\n",
       "    .dataframe tbody tr th {\n",
       "        vertical-align: top;\n",
       "    }\n",
       "\n",
       "    .dataframe thead th {\n",
       "        text-align: right;\n",
       "    }\n",
       "</style>\n",
       "<table border=\"1\" class=\"dataframe\">\n",
       "  <thead>\n",
       "    <tr style=\"text-align: right;\">\n",
       "      <th></th>\n",
       "      <th>ID</th>\n",
       "      <th>Name</th>\n",
       "      <th>Age</th>\n",
       "      <th>Nationality</th>\n",
       "      <th>Overall</th>\n",
       "      <th>Club</th>\n",
       "      <th>Preferred_Foot</th>\n",
       "      <th>Work_Rate</th>\n",
       "      <th>Position</th>\n",
       "      <th>Jersey_Number</th>\n",
       "      <th>Contract_Valid_Until</th>\n",
       "      <th>Height</th>\n",
       "      <th>Weight_lb</th>\n",
       "      <th>Release_Clause</th>\n",
       "      <th>Value</th>\n",
       "      <th>Wage</th>\n",
       "      <th>Height_cm</th>\n",
       "      <th>Position_Class</th>\n",
       "    </tr>\n",
       "  </thead>\n",
       "  <tbody>\n",
       "    <tr>\n",
       "      <th>0</th>\n",
       "      <td>158023</td>\n",
       "      <td>L. Messi</td>\n",
       "      <td>31</td>\n",
       "      <td>Argentina</td>\n",
       "      <td>94</td>\n",
       "      <td>FC Barcelona</td>\n",
       "      <td>Left</td>\n",
       "      <td>Medium/ Medium</td>\n",
       "      <td>RF</td>\n",
       "      <td>10</td>\n",
       "      <td>2021</td>\n",
       "      <td>5'7</td>\n",
       "      <td>159</td>\n",
       "      <td>226500</td>\n",
       "      <td>110500</td>\n",
       "      <td>565</td>\n",
       "      <td>167</td>\n",
       "      <td>Forward</td>\n",
       "    </tr>\n",
       "    <tr>\n",
       "      <th>1</th>\n",
       "      <td>20801</td>\n",
       "      <td>Cristiano Ronaldo</td>\n",
       "      <td>33</td>\n",
       "      <td>Portugal</td>\n",
       "      <td>94</td>\n",
       "      <td>Juventus</td>\n",
       "      <td>Right</td>\n",
       "      <td>High/ Low</td>\n",
       "      <td>ST</td>\n",
       "      <td>7</td>\n",
       "      <td>2022</td>\n",
       "      <td>6'2</td>\n",
       "      <td>183</td>\n",
       "      <td>127100</td>\n",
       "      <td>77000</td>\n",
       "      <td>405</td>\n",
       "      <td>185</td>\n",
       "      <td>GoalKeeper</td>\n",
       "    </tr>\n",
       "    <tr>\n",
       "      <th>2</th>\n",
       "      <td>190871</td>\n",
       "      <td>Neymar Jr</td>\n",
       "      <td>26</td>\n",
       "      <td>Brazil</td>\n",
       "      <td>92</td>\n",
       "      <td>Paris Saint-Germain</td>\n",
       "      <td>Right</td>\n",
       "      <td>High/ Medium</td>\n",
       "      <td>LW</td>\n",
       "      <td>10</td>\n",
       "      <td>2022</td>\n",
       "      <td>5'9</td>\n",
       "      <td>150</td>\n",
       "      <td>228100</td>\n",
       "      <td>118500</td>\n",
       "      <td>290</td>\n",
       "      <td>172</td>\n",
       "      <td>Forward</td>\n",
       "    </tr>\n",
       "    <tr>\n",
       "      <th>3</th>\n",
       "      <td>193080</td>\n",
       "      <td>De Gea</td>\n",
       "      <td>27</td>\n",
       "      <td>Spain</td>\n",
       "      <td>91</td>\n",
       "      <td>Manchester United</td>\n",
       "      <td>Right</td>\n",
       "      <td>Medium/ Medium</td>\n",
       "      <td>GK</td>\n",
       "      <td>1</td>\n",
       "      <td>2020</td>\n",
       "      <td>6'4</td>\n",
       "      <td>168</td>\n",
       "      <td>138600</td>\n",
       "      <td>72000</td>\n",
       "      <td>260</td>\n",
       "      <td>190</td>\n",
       "      <td>GoalKeeper</td>\n",
       "    </tr>\n",
       "    <tr>\n",
       "      <th>4</th>\n",
       "      <td>192985</td>\n",
       "      <td>K. De Bruyne</td>\n",
       "      <td>27</td>\n",
       "      <td>Belgium</td>\n",
       "      <td>91</td>\n",
       "      <td>Manchester City</td>\n",
       "      <td>Right</td>\n",
       "      <td>High/ High</td>\n",
       "      <td>RCM</td>\n",
       "      <td>7</td>\n",
       "      <td>2023</td>\n",
       "      <td>5'11</td>\n",
       "      <td>154</td>\n",
       "      <td>196400</td>\n",
       "      <td>102000</td>\n",
       "      <td>355</td>\n",
       "      <td>152</td>\n",
       "      <td>Midfielder</td>\n",
       "    </tr>\n",
       "  </tbody>\n",
       "</table>\n",
       "</div>"
      ],
      "text/plain": [
       "       ID               Name  Age Nationality  Overall                 Club  \\\n",
       "0  158023           L. Messi   31   Argentina       94         FC Barcelona   \n",
       "1   20801  Cristiano Ronaldo   33    Portugal       94             Juventus   \n",
       "2  190871          Neymar Jr   26      Brazil       92  Paris Saint-Germain   \n",
       "3  193080             De Gea   27       Spain       91    Manchester United   \n",
       "4  192985       K. De Bruyne   27     Belgium       91      Manchester City   \n",
       "\n",
       "  Preferred_Foot       Work_Rate Position  Jersey_Number  \\\n",
       "0           Left  Medium/ Medium       RF             10   \n",
       "1          Right       High/ Low       ST              7   \n",
       "2          Right    High/ Medium       LW             10   \n",
       "3          Right  Medium/ Medium       GK              1   \n",
       "4          Right      High/ High      RCM              7   \n",
       "\n",
       "   Contract_Valid_Until Height  Weight_lb  Release_Clause   Value  Wage  \\\n",
       "0                  2021    5'7        159          226500  110500   565   \n",
       "1                  2022    6'2        183          127100   77000   405   \n",
       "2                  2022    5'9        150          228100  118500   290   \n",
       "3                  2020    6'4        168          138600   72000   260   \n",
       "4                  2023   5'11        154          196400  102000   355   \n",
       "\n",
       "   Height_cm Position_Class  \n",
       "0        167        Forward  \n",
       "1        185     GoalKeeper  \n",
       "2        172        Forward  \n",
       "3        190     GoalKeeper  \n",
       "4        152     Midfielder  "
      ]
     },
     "execution_count": 106,
     "metadata": {},
     "output_type": "execute_result"
    }
   ],
   "source": [
    "fifa_df.head()"
   ]
  },
  {
   "cell_type": "code",
   "execution_count": 107,
   "metadata": {},
   "outputs": [
    {
     "data": {
      "text/plain": [
       "Defender      6763\n",
       "Midfielder    4935\n",
       "GoalKeeper    4008\n",
       "Forward        936\n",
       "Name: Position_Class, dtype: int64"
      ]
     },
     "execution_count": 107,
     "metadata": {},
     "output_type": "execute_result"
    }
   ],
   "source": [
    "fifa_df['Position_Class'].value_counts()"
   ]
  },
  {
   "cell_type": "code",
   "execution_count": 111,
   "metadata": {},
   "outputs": [
    {
     "data": {
      "text/plain": [
       "dtype('O')"
      ]
     },
     "execution_count": 111,
     "metadata": {},
     "output_type": "execute_result"
    }
   ],
   "source": [
    "fifa_df['Position_Class'].dtype"
   ]
  },
  {
   "cell_type": "code",
   "execution_count": 114,
   "metadata": {},
   "outputs": [],
   "source": [
    "fifa_df['Position_Class']=fifa_df['Position_Class'].astype('category')"
   ]
  },
  {
   "cell_type": "code",
   "execution_count": 115,
   "metadata": {},
   "outputs": [
    {
     "data": {
      "text/plain": [
       "CategoricalDtype(categories=['Defender', 'Forward', 'GoalKeeper', 'Midfielder'], ordered=False)"
      ]
     },
     "execution_count": 115,
     "metadata": {},
     "output_type": "execute_result"
    }
   ],
   "source": [
    "fifa_df['Position_Class'].dtype"
   ]
  },
  {
   "cell_type": "code",
   "execution_count": 116,
   "metadata": {},
   "outputs": [],
   "source": [
    "## 정수형은 .astype(‘int’)\n",
    "## 문자형은 .astype(‘str’)\n",
    "## 범주형은 .astype(‘category’)"
   ]
  },
  {
   "cell_type": "markdown",
   "metadata": {},
   "source": [
    "Q3) 새로 생성한 Position_Class 변수의 각 범주에 따른 Value(선수의 시장가치)의    \n",
    "평균값의 차이를 비교하는 일원배치 분산분석을 수행하고 결과를 해석하시오.    \n",
    "그리고 평균값의 차이가 통계적으로 유의하다면 사후검정을 수행하고 설명하시오.   "
   ]
  },
  {
   "cell_type": "code",
   "execution_count": 141,
   "metadata": {},
   "outputs": [
    {
     "data": {
      "text/plain": [
       "Position_Class\n",
       "Defender      2104.653260\n",
       "Forward       4095.117521\n",
       "GoalKeeper    2105.888224\n",
       "Midfielder    2865.531915\n",
       "Name: Value, dtype: float64"
      ]
     },
     "execution_count": 141,
     "metadata": {},
     "output_type": "execute_result"
    }
   ],
   "source": [
    "fifa_df['Value'].groupby(fifa_df['Position_Class']).mean()"
   ]
  },
  {
   "cell_type": "code",
   "execution_count": 117,
   "metadata": {},
   "outputs": [
    {
     "data": {
      "text/plain": [
       "<matplotlib.axes._subplots.AxesSubplot at 0x1ebbbd2d610>"
      ]
     },
     "execution_count": 117,
     "metadata": {},
     "output_type": "execute_result"
    },
    {
     "data": {
      "image/png": "[encoded data removed]",
      "text/plain": [
       "<Figure size 432x288 with 1 Axes>"
      ]
     },
     "metadata": {
      "needs_background": "light"
     },
     "output_type": "display_data"
    }
   ],
   "source": [
    "import seaborn as sns\n",
    "sns.kdeplot(data=fifa_df[fifa_df['Position_Class']=='Forward'], x=\"Value\")\n",
    "sns.kdeplot(data=fifa_df[fifa_df['Position_Class']=='Midfielder'], x=\"Value\")\n",
    "sns.kdeplot(data=fifa_df[fifa_df['Position_Class']=='Defender'], x=\"Value\")\n",
    "sns.kdeplot(data=fifa_df[fifa_df['Position_Class']=='GoalKeeper'], x=\"Value\")"
   ]
  },
  {
   "cell_type": "markdown",
   "metadata": {},
   "source": [
    "plot 해보면 이렇지만 집단별 sample 수가 30명이 넘기 때문에 모수적 통계방법을 적용할 수 있다."
   ]
  },
  {
   "cell_type": "code",
   "execution_count": 126,
   "metadata": {},
   "outputs": [
    {
     "data": {
      "text/plain": [
       "Defender      6763\n",
       "Midfielder    4935\n",
       "GoalKeeper    4008\n",
       "Forward        936\n",
       "Name: Position_Class, dtype: int64"
      ]
     },
     "execution_count": 126,
     "metadata": {},
     "output_type": "execute_result"
    }
   ],
   "source": [
    "fifa_df['Position_Class'].value_counts()"
   ]
  },
  {
   "cell_type": "code",
   "execution_count": 137,
   "metadata": {},
   "outputs": [],
   "source": [
    "anova_result=stats.f_oneway(fifa_df[fifa_df['Position_Class']=='Forward']['Value'], \n",
    "                            fifa_df[fifa_df['Position_Class']=='Midfielder']['Value'], \n",
    "                            fifa_df[fifa_df['Position_Class']=='Defender']['Value'], \n",
    "                            fifa_df[fifa_df['Position_Class']=='GoalKeeper']['Value'])"
   ]
  },
  {
   "cell_type": "code",
   "execution_count": 136,
   "metadata": {},
   "outputs": [
    {
     "name": "stdout",
     "output_type": "stream",
     "text": [
      "The f-statistic is 47.922 and the p-value is 0.000\n"
     ]
    }
   ],
   "source": [
    "print(\"The f-statistic is %.3f and the p-value is %.3f\" % anova_result)"
   ]
  },
  {
   "cell_type": "code",
   "execution_count": 139,
   "metadata": {},
   "outputs": [],
   "source": [
    "from statsmodels.stats.multicomp import pairwise_tukeyhsd"
   ]
  },
  {
   "cell_type": "code",
   "execution_count": 140,
   "metadata": {},
   "outputs": [
    {
     "data": {
      "text/html": [
       "<table class=\"simpletable\">\n",
       "<caption>Multiple Comparison of Means - Tukey HSD, FWER=0.05</caption>\n",
       "<tr>\n",
       "    <th>group1</th>     <th>group2</th>    <th>meandiff</th>  <th>p-adj</th>    <th>lower</th>      <th>upper</th>   <th>reject</th>\n",
       "</tr>\n",
       "<tr>\n",
       "   <td>Defender</td>    <td>Forward</td>   <td>1990.4643</td> <td>0.001</td>  <td>1480.0224</td>  <td>2500.9061</td>  <td>True</td> \n",
       "</tr>\n",
       "<tr>\n",
       "   <td>Defender</td>  <td>GoalKeeper</td>    <td>1.235</td>    <td>0.9</td>   <td>-290.5287</td>  <td>292.9986</td>   <td>False</td>\n",
       "</tr>\n",
       "<tr>\n",
       "   <td>Defender</td>  <td>Midfielder</td>  <td>760.8787</td>  <td>0.001</td>  <td>486.8606</td>   <td>1034.8967</td>  <td>True</td> \n",
       "</tr>\n",
       "<tr>\n",
       "    <td>Forward</td>  <td>GoalKeeper</td> <td>-1989.2293</td> <td>0.001</td> <td>-2520.5713</td> <td>-1457.8873</td>  <td>True</td> \n",
       "</tr>\n",
       "<tr>\n",
       "    <td>Forward</td>  <td>Midfielder</td> <td>-1229.5856</td> <td>0.001</td> <td>-1751.3942</td>  <td>-707.777</td>   <td>True</td> \n",
       "</tr>\n",
       "<tr>\n",
       "  <td>GoalKeeper</td> <td>Midfielder</td>  <td>759.6437</td>  <td>0.001</td>  <td>448.4213</td>   <td>1070.8661</td>  <td>True</td> \n",
       "</tr>\n",
       "</table>"
      ],
      "text/plain": [
       "<class 'statsmodels.iolib.table.SimpleTable'>"
      ]
     },
     "execution_count": 140,
     "metadata": {},
     "output_type": "execute_result"
    }
   ],
   "source": [
    "hsd = pairwise_tukeyhsd(fifa_df['Value'], fifa_df['Position_Class'], alpha=0.05)\n",
    "hsd.summary()"
   ]
  },
  {
   "cell_type": "markdown",
   "metadata": {},
   "source": [
    "one-way ANOVA 검정 결과,   \n",
    "Position class별로 Value의 평균이 같다는 영가설을 기각할 확률이 p<0.001이므로,   \n",
    "영가설이 기각되어 Position class별로 Value의 평균은 다르다.   \n",
    "\n",
    "사후검증을 위하여 tukeyhsd를 수행한 결과,   \n",
    "Defender와 GoalKeeper 간 비교를 제외하고 나머지 모든 집단 간 비교는 서로 유의미한 차이를 보였다. "
   ]
  },
  {
   "cell_type": "markdown",
   "metadata": {},
   "source": [
    "Q4) Preferred Foot(주로 사용하는 발)과 Position_Class(재범주화 된 포지션)변수에    \n",
    "따라 Value(이적료)의 차이가 있는지를 알아보기 위해 이원배치분산분석을 수행하고 결과를 해석하시오.   "
   ]
  },
  {
   "cell_type": "code",
   "execution_count": 148,
   "metadata": {},
   "outputs": [],
   "source": [
    "import statsmodels.api as sm\n",
    "from statsmodels.formula.api import ols\n",
    "\n",
    "model = ols('Value ~ Preferred_Foot +  Position_Class +  Preferred_Foot:Position_Class', data=fifa_df).fit()\n",
    "twoway_result=sm.stats.anova_lm(model, typ=2)"
   ]
  },
  {
   "cell_type": "code",
   "execution_count": 149,
   "metadata": {},
   "outputs": [
    {
     "data": {
      "text/html": [
       "<div>\n",
       "<style scoped>\n",
       "    .dataframe tbody tr th:only-of-type {\n",
       "        vertical-align: middle;\n",
       "    }\n",
       "\n",
       "    .dataframe tbody tr th {\n",
       "        vertical-align: top;\n",
       "    }\n",
       "\n",
       "    .dataframe thead th {\n",
       "        text-align: right;\n",
       "    }\n",
       "</style>\n",
       "<table border=\"1\" class=\"dataframe\">\n",
       "  <thead>\n",
       "    <tr style=\"text-align: right;\">\n",
       "      <th></th>\n",
       "      <th>sum_sq</th>\n",
       "      <th>df</th>\n",
       "      <th>F</th>\n",
       "      <th>PR(&gt;F)</th>\n",
       "    </tr>\n",
       "  </thead>\n",
       "  <tbody>\n",
       "    <tr>\n",
       "      <th>Preferred_Foot</th>\n",
       "      <td>1.179544e+08</td>\n",
       "      <td>1.0</td>\n",
       "      <td>3.637065</td>\n",
       "      <td>5.652368e-02</td>\n",
       "    </tr>\n",
       "    <tr>\n",
       "      <th>Position_Class</th>\n",
       "      <td>4.637437e+09</td>\n",
       "      <td>3.0</td>\n",
       "      <td>47.664350</td>\n",
       "      <td>1.155899e-30</td>\n",
       "    </tr>\n",
       "    <tr>\n",
       "      <th>Preferred_Foot:Position_Class</th>\n",
       "      <td>3.700280e+08</td>\n",
       "      <td>3.0</td>\n",
       "      <td>3.803209</td>\n",
       "      <td>9.721094e-03</td>\n",
       "    </tr>\n",
       "    <tr>\n",
       "      <th>Residual</th>\n",
       "      <td>5.394606e+11</td>\n",
       "      <td>16634.0</td>\n",
       "      <td>NaN</td>\n",
       "      <td>NaN</td>\n",
       "    </tr>\n",
       "  </tbody>\n",
       "</table>\n",
       "</div>"
      ],
      "text/plain": [
       "                                     sum_sq       df          F        PR(>F)\n",
       "Preferred_Foot                 1.179544e+08      1.0   3.637065  5.652368e-02\n",
       "Position_Class                 4.637437e+09      3.0  47.664350  1.155899e-30\n",
       "Preferred_Foot:Position_Class  3.700280e+08      3.0   3.803209  9.721094e-03\n",
       "Residual                       5.394606e+11  16634.0        NaN           NaN"
      ]
     },
     "execution_count": 149,
     "metadata": {},
     "output_type": "execute_result"
    }
   ],
   "source": [
    "twoway_result"
   ]
  },
  {
   "cell_type": "code",
   "execution_count": 152,
   "metadata": {},
   "outputs": [
    {
     "name": "stdout",
     "output_type": "stream",
     "text": [
      "0.057\n",
      "0.000\n",
      "0.010\n"
     ]
    }
   ],
   "source": [
    "print('%.3f' %twoway_result['PR(>F)'][0])\n",
    "print('%.3f' %twoway_result['PR(>F)'][1])\n",
    "print('%.3f' %twoway_result['PR(>F)'][2])"
   ]
  },
  {
   "cell_type": "code",
   "execution_count": 156,
   "metadata": {},
   "outputs": [],
   "source": [
    "from sklearn.preprocessing import LabelEncoder\n",
    "encoder = LabelEncoder()\n",
    "encoder.fit(fifa_df['Preferred_Foot'])\n",
    "fifa_df['Preferred_Foot_encoded'] = encoder.transform(fifa_df['Preferred_Foot'])"
   ]
  },
  {
   "cell_type": "code",
   "execution_count": 160,
   "metadata": {},
   "outputs": [],
   "source": [
    "encoder.fit(fifa_df['Position_Class'])\n",
    "fifa_df['Position_Class_encoded'] = encoder.transform(fifa_df['Position_Class'])"
   ]
  },
  {
   "cell_type": "code",
   "execution_count": 163,
   "metadata": {},
   "outputs": [
    {
     "data": {
      "image/png": "[encoded data removed]",
      "text/plain": [
       "<Figure size 432x288 with 1 Axes>"
      ]
     },
     "metadata": {
      "needs_background": "light"
     },
     "output_type": "display_data"
    }
   ],
   "source": [
    "from statsmodels.graphics.factorplots import interaction_plot\n",
    "interaction_plot(fifa_df['Preferred_Foot_encoded'], trace=fifa_df['Position_Class_encoded'], response=fifa_df['Value'])\n",
    "plt.show()"
   ]
  },
  {
   "cell_type": "markdown",
   "metadata": {},
   "source": [
    "two-way ANOVA 분석 결과,    \n",
    "Prefered_foot의 p value는 0.057로 Prefered_foot에 따라 Value에 차이를 보이지 않는 것을 알 수 있다. 즉, Prefered_foot 주효과는 없다.    \n",
    "Postition_Class의 p value는 0.001미만으로 Position_Class에 따라 Value에 차이가 나타나는 것을 알 수있다. 즉, Preferend foot의 주효과가 나타난다.   \n",
    "Prefered_foot과 Position_Class의 상호작용향을 살펴보면 p value가 0.001로 두 변수에 상호작용이 나타나는 것을 알 수 있다.    \n",
    "이를 해석하자면, 선호하는 발이 선수의 시장 가치에 미치는 영향이 선수의 position에 따라 다르게 나타남을 의미한다.    "
   ]
  },
  {
   "cell_type": "markdown",
   "metadata": {},
   "source": [
    "Q5) Age, Overall, Wage, Height_cm, Weight_lb 가 Value에 영향을 미치는지    \n",
    "알아보는 회귀분석을 단계적 선택법을 사용하여 수행하고 결과를 해석하시오. "
   ]
  },
  {
   "cell_type": "code",
   "execution_count": 165,
   "metadata": {},
   "outputs": [
    {
     "data": {
      "text/plain": [
       "Index(['ID', 'Name', 'Age', 'Nationality', 'Overall', 'Club', 'Preferred_Foot',\n",
       "       'Work_Rate', 'Position', 'Jersey_Number', 'Contract_Valid_Until',\n",
       "       'Height', 'Weight_lb', 'Release_Clause', 'Value', 'Wage', 'Height_cm',\n",
       "       'Position_Class', 'Preferred_Foot_encoded', 'Position_Class_encoded'],\n",
       "      dtype='object')"
      ]
     },
     "execution_count": 165,
     "metadata": {},
     "output_type": "execute_result"
    }
   ],
   "source": [
    "fifa_df.columns"
   ]
  },
  {
   "cell_type": "code",
   "execution_count": 167,
   "metadata": {},
   "outputs": [],
   "source": [
    "fifa_x=fifa_df[['Age', 'Overall', 'Wage', 'Height_cm', 'Weight_lb']]\n",
    "fifa_y=fifa_df['Value']"
   ]
  },
  {
   "cell_type": "code",
   "execution_count": 181,
   "metadata": {},
   "outputs": [],
   "source": [
    "from sklearn.linear_model import LinearRegression \n",
    "model = LinearRegression()"
   ]
  },
  {
   "cell_type": "markdown",
   "metadata": {},
   "source": [
    "python에서는 단계적 변수 선택법이 없음. 그래서 forward, backward를 모두 하기로 마음에 먹음."
   ]
  },
  {
   "cell_type": "code",
   "execution_count": 182,
   "metadata": {},
   "outputs": [
    {
     "data": {
      "text/plain": [
       "SequentialFeatureSelector(estimator=LinearRegression(), forward=False,\n",
       "                          k_features='best')"
      ]
     },
     "execution_count": 182,
     "metadata": {},
     "output_type": "execute_result"
    }
   ],
   "source": [
    "from mlxtend.feature_selection import SequentialFeatureSelector\n",
    "ffs=SequentialFeatureSelector(model, k_features='best', forward=True)\n",
    "bfs=SequentialFeatureSelector(model, k_features='best', forward=False)\n",
    "ffs.fit(fifa_x, fifa_y, custom_feature_names=fifa_x.columns)\n",
    "bfs.fit(fifa_x, fifa_y, custom_feature_names=fifa_x.columns)"
   ]
  },
  {
   "cell_type": "code",
   "execution_count": 183,
   "metadata": {},
   "outputs": [
    {
     "data": {
      "text/plain": [
       "['Wage']"
      ]
     },
     "execution_count": 183,
     "metadata": {},
     "output_type": "execute_result"
    }
   ],
   "source": [
    "features_f=list(ffs.k_feature_names_)\n",
    "features_f"
   ]
  },
  {
   "cell_type": "code",
   "execution_count": 184,
   "metadata": {},
   "outputs": [
    {
     "data": {
      "text/plain": [
       "['Wage']"
      ]
     },
     "execution_count": 184,
     "metadata": {},
     "output_type": "execute_result"
    }
   ],
   "source": [
    "features_b=list(bfs.k_feature_names_)\n",
    "features_b"
   ]
  },
  {
   "cell_type": "code",
   "execution_count": 185,
   "metadata": {},
   "outputs": [
    {
     "data": {
      "text/html": [
       "<table class=\"simpletable\">\n",
       "<caption>OLS Regression Results</caption>\n",
       "<tr>\n",
       "  <th>Dep. Variable:</th>          <td>Value</td>      <th>  R-squared:         </th>  <td>   0.791</td>  \n",
       "</tr>\n",
       "<tr>\n",
       "  <th>Model:</th>                   <td>OLS</td>       <th>  Adj. R-squared:    </th>  <td>   0.791</td>  \n",
       "</tr>\n",
       "<tr>\n",
       "  <th>Method:</th>             <td>Least Squares</td>  <th>  F-statistic:       </th>  <td>1.258e+04</td> \n",
       "</tr>\n",
       "<tr>\n",
       "  <th>Date:</th>             <td>Sat, 28 Aug 2021</td> <th>  Prob (F-statistic):</th>   <td>  0.00</td>   \n",
       "</tr>\n",
       "<tr>\n",
       "  <th>Time:</th>                 <td>16:14:01</td>     <th>  Log-Likelihood:    </th> <td>-1.5458e+05</td>\n",
       "</tr>\n",
       "<tr>\n",
       "  <th>No. Observations:</th>      <td> 16642</td>      <th>  AIC:               </th>  <td>3.092e+05</td> \n",
       "</tr>\n",
       "<tr>\n",
       "  <th>Df Residuals:</th>          <td> 16636</td>      <th>  BIC:               </th>  <td>3.092e+05</td> \n",
       "</tr>\n",
       "<tr>\n",
       "  <th>Df Model:</th>              <td>     5</td>      <th>                     </th>      <td> </td>     \n",
       "</tr>\n",
       "<tr>\n",
       "  <th>Covariance Type:</th>      <td>nonrobust</td>    <th>                     </th>      <td> </td>     \n",
       "</tr>\n",
       "</table>\n",
       "<table class=\"simpletable\">\n",
       "<tr>\n",
       "      <td></td>         <th>coef</th>     <th>std err</th>      <th>t</th>      <th>P>|t|</th>  <th>[0.025</th>    <th>0.975]</th>  \n",
       "</tr>\n",
       "<tr>\n",
       "  <th>Age</th>       <td> -200.9108</td> <td>    5.013</td> <td>  -40.079</td> <td> 0.000</td> <td> -210.737</td> <td> -191.085</td>\n",
       "</tr>\n",
       "<tr>\n",
       "  <th>Overall</th>   <td>  241.8456</td> <td>    4.006</td> <td>   60.372</td> <td> 0.000</td> <td>  233.994</td> <td>  249.698</td>\n",
       "</tr>\n",
       "<tr>\n",
       "  <th>Wage</th>      <td>  184.1616</td> <td>    1.128</td> <td>  163.297</td> <td> 0.000</td> <td>  181.951</td> <td>  186.372</td>\n",
       "</tr>\n",
       "<tr>\n",
       "  <th>Height_cm</th> <td>   -1.2133</td> <td>    1.740</td> <td>   -0.697</td> <td> 0.486</td> <td>   -4.624</td> <td>    2.197</td>\n",
       "</tr>\n",
       "<tr>\n",
       "  <th>Weight_lb</th> <td>   -3.0891</td> <td>    1.543</td> <td>   -2.002</td> <td> 0.045</td> <td>   -6.114</td> <td>   -0.065</td>\n",
       "</tr>\n",
       "<tr>\n",
       "  <th>const</th>     <td>-9540.2766</td> <td>  347.951</td> <td>  -27.418</td> <td> 0.000</td> <td>-1.02e+04</td> <td>-8858.256</td>\n",
       "</tr>\n",
       "</table>\n",
       "<table class=\"simpletable\">\n",
       "<tr>\n",
       "  <th>Omnibus:</th>       <td>17086.231</td> <th>  Durbin-Watson:     </th>  <td>   1.408</td>  \n",
       "</tr>\n",
       "<tr>\n",
       "  <th>Prob(Omnibus):</th>  <td> 0.000</td>   <th>  Jarque-Bera (JB):  </th> <td>3524476.817</td>\n",
       "</tr>\n",
       "<tr>\n",
       "  <th>Skew:</th>           <td> 4.664</td>   <th>  Prob(JB):          </th>  <td>    0.00</td>  \n",
       "</tr>\n",
       "<tr>\n",
       "  <th>Kurtosis:</th>       <td>73.681</td>   <th>  Cond. No.          </th>  <td>4.29e+03</td>  \n",
       "</tr>\n",
       "</table><br/><br/>Warnings:<br/>[1] Standard Errors assume that the covariance matrix of the errors is correctly specified.<br/>[2] The condition number is large, 4.29e+03. This might indicate that there are<br/>strong multicollinearity or other numerical problems."
      ],
      "text/plain": [
       "<class 'statsmodels.iolib.summary.Summary'>\n",
       "\"\"\"\n",
       "                            OLS Regression Results                            \n",
       "==============================================================================\n",
       "Dep. Variable:                  Value   R-squared:                       0.791\n",
       "Model:                            OLS   Adj. R-squared:                  0.791\n",
       "Method:                 Least Squares   F-statistic:                 1.258e+04\n",
       "Date:                Sat, 28 Aug 2021   Prob (F-statistic):               0.00\n",
       "Time:                        16:14:01   Log-Likelihood:            -1.5458e+05\n",
       "No. Observations:               16642   AIC:                         3.092e+05\n",
       "Df Residuals:                   16636   BIC:                         3.092e+05\n",
       "Df Model:                           5                                         \n",
       "Covariance Type:            nonrobust                                         \n",
       "==============================================================================\n",
       "                 coef    std err          t      P>|t|      [0.025      0.975]\n",
       "------------------------------------------------------------------------------\n",
       "Age         -200.9108      5.013    -40.079      0.000    -210.737    -191.085\n",
       "Overall      241.8456      4.006     60.372      0.000     233.994     249.698\n",
       "Wage         184.1616      1.128    163.297      0.000     181.951     186.372\n",
       "Height_cm     -1.2133      1.740     -0.697      0.486      -4.624       2.197\n",
       "Weight_lb     -3.0891      1.543     -2.002      0.045      -6.114      -0.065\n",
       "const      -9540.2766    347.951    -27.418      0.000   -1.02e+04   -8858.256\n",
       "==============================================================================\n",
       "Omnibus:                    17086.231   Durbin-Watson:                   1.408\n",
       "Prob(Omnibus):                  0.000   Jarque-Bera (JB):          3524476.817\n",
       "Skew:                           4.664   Prob(JB):                         0.00\n",
       "Kurtosis:                      73.681   Cond. No.                     4.29e+03\n",
       "==============================================================================\n",
       "\n",
       "Warnings:\n",
       "[1] Standard Errors assume that the covariance matrix of the errors is correctly specified.\n",
       "[2] The condition number is large, 4.29e+03. This might indicate that there are\n",
       "strong multicollinearity or other numerical problems.\n",
       "\"\"\""
      ]
     },
     "execution_count": 185,
     "metadata": {},
     "output_type": "execute_result"
    }
   ],
   "source": [
    "model_full=sm.OLS(fifa_y, fifa_x.assign(const=1)).fit()\n",
    "model_full.summary()"
   ]
  },
  {
   "cell_type": "code",
   "execution_count": 187,
   "metadata": {},
   "outputs": [
    {
     "data": {
      "text/html": [
       "<table class=\"simpletable\">\n",
       "<caption>OLS Regression Results</caption>\n",
       "<tr>\n",
       "  <th>Dep. Variable:</th>          <td>Value</td>      <th>  R-squared (uncentered):</th>       <td>   0.780</td>  \n",
       "</tr>\n",
       "<tr>\n",
       "  <th>Model:</th>                   <td>OLS</td>       <th>  Adj. R-squared (uncentered):</th>  <td>   0.780</td>  \n",
       "</tr>\n",
       "<tr>\n",
       "  <th>Method:</th>             <td>Least Squares</td>  <th>  F-statistic:       </th>           <td>5.895e+04</td> \n",
       "</tr>\n",
       "<tr>\n",
       "  <th>Date:</th>             <td>Sat, 28 Aug 2021</td> <th>  Prob (F-statistic):</th>            <td>  0.00</td>   \n",
       "</tr>\n",
       "<tr>\n",
       "  <th>Time:</th>                 <td>16:14:57</td>     <th>  Log-Likelihood:    </th>          <td>-1.5640e+05</td>\n",
       "</tr>\n",
       "<tr>\n",
       "  <th>No. Observations:</th>      <td> 16642</td>      <th>  AIC:               </th>           <td>3.128e+05</td> \n",
       "</tr>\n",
       "<tr>\n",
       "  <th>Df Residuals:</th>          <td> 16641</td>      <th>  BIC:               </th>           <td>3.128e+05</td> \n",
       "</tr>\n",
       "<tr>\n",
       "  <th>Df Model:</th>              <td>     1</td>      <th>                     </th>               <td> </td>     \n",
       "</tr>\n",
       "<tr>\n",
       "  <th>Covariance Type:</th>      <td>nonrobust</td>    <th>                     </th>               <td> </td>     \n",
       "</tr>\n",
       "</table>\n",
       "<table class=\"simpletable\">\n",
       "<tr>\n",
       "    <td></td>      <th>coef</th>     <th>std err</th>      <th>t</th>      <th>P>|t|</th>  <th>[0.025</th>    <th>0.975]</th>  \n",
       "</tr>\n",
       "<tr>\n",
       "  <th>Wage</th> <td>  226.4959</td> <td>    0.933</td> <td>  242.798</td> <td> 0.000</td> <td>  224.667</td> <td>  228.324</td>\n",
       "</tr>\n",
       "</table>\n",
       "<table class=\"simpletable\">\n",
       "<tr>\n",
       "  <th>Omnibus:</th>       <td>14529.801</td> <th>  Durbin-Watson:     </th>  <td>   1.554</td>  \n",
       "</tr>\n",
       "<tr>\n",
       "  <th>Prob(Omnibus):</th>  <td> 0.000</td>   <th>  Jarque-Bera (JB):  </th> <td>1929225.025</td>\n",
       "</tr>\n",
       "<tr>\n",
       "  <th>Skew:</th>           <td> 3.629</td>   <th>  Prob(JB):          </th>  <td>    0.00</td>  \n",
       "</tr>\n",
       "<tr>\n",
       "  <th>Kurtosis:</th>       <td>55.245</td>   <th>  Cond. No.          </th>  <td>    1.00</td>  \n",
       "</tr>\n",
       "</table><br/><br/>Warnings:<br/>[1] Standard Errors assume that the covariance matrix of the errors is correctly specified."
      ],
      "text/plain": [
       "<class 'statsmodels.iolib.summary.Summary'>\n",
       "\"\"\"\n",
       "                                 OLS Regression Results                                \n",
       "=======================================================================================\n",
       "Dep. Variable:                  Value   R-squared (uncentered):                   0.780\n",
       "Model:                            OLS   Adj. R-squared (uncentered):              0.780\n",
       "Method:                 Least Squares   F-statistic:                          5.895e+04\n",
       "Date:                Sat, 28 Aug 2021   Prob (F-statistic):                        0.00\n",
       "Time:                        16:14:57   Log-Likelihood:                     -1.5640e+05\n",
       "No. Observations:               16642   AIC:                                  3.128e+05\n",
       "Df Residuals:                   16641   BIC:                                  3.128e+05\n",
       "Df Model:                           1                                                  \n",
       "Covariance Type:            nonrobust                                                  \n",
       "==============================================================================\n",
       "                 coef    std err          t      P>|t|      [0.025      0.975]\n",
       "------------------------------------------------------------------------------\n",
       "Wage         226.4959      0.933    242.798      0.000     224.667     228.324\n",
       "==============================================================================\n",
       "Omnibus:                    14529.801   Durbin-Watson:                   1.554\n",
       "Prob(Omnibus):                  0.000   Jarque-Bera (JB):          1929225.025\n",
       "Skew:                           3.629   Prob(JB):                         0.00\n",
       "Kurtosis:                      55.245   Cond. No.                         1.00\n",
       "==============================================================================\n",
       "\n",
       "Warnings:\n",
       "[1] Standard Errors assume that the covariance matrix of the errors is correctly specified.\n",
       "\"\"\""
      ]
     },
     "execution_count": 187,
     "metadata": {},
     "output_type": "execute_result"
    }
   ],
   "source": [
    "model_selected=sm.OLS(fifa_y, fifa_x['Wage']).fit()\n",
    "model_selected.summary()"
   ]
  },
  {
   "cell_type": "code",
   "execution_count": null,
   "metadata": {},
   "outputs": [],
   "source": []
  }
 ],
 "metadata": {
  "colab": {
   "name": "Part 3. 통계분석 - scipy & statsmodel 활용.ipynb",
   "provenance": []
  },
  "kernelspec": {
   "display_name": "Python 3",
   "language": "python",
   "name": "python3"
  },
  "language_info": {
   "codemirror_mode": {
    "name": "ipython",
    "version": 3
   },
   "file_extension": ".py",
   "mimetype": "text/x-python",
   "name": "python",
   "nbconvert_exporter": "python",
   "pygments_lexer": "ipython3",
   "version": "3.8.3"
  }
 },
 "nbformat": 4,
 "nbformat_minor": 1
}
