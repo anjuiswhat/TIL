{
 "cells": [
  {
   "cell_type": "code",
   "execution_count": 1,
   "metadata": {
    "id": "jLpbIN9D79Nx"
   },
   "outputs": [],
   "source": [
    "import pandas as pd"
   ]
  },
  {
   "cell_type": "code",
   "execution_count": 2,
   "metadata": {
    "id": "gzmn_U2t79N-"
   },
   "outputs": [],
   "source": [
    "import numpy as np\n",
    "from sklearn.model_selection import train_test_split\n",
    "from sklearn.metrics import confusion_matrix\n",
    "from sklearn.metrics import accuracy_score\n",
    "from sklearn.metrics import roc_curve\n",
    "from matplotlib import pyplot as plt"
   ]
  },
  {
   "cell_type": "code",
   "execution_count": 3,
   "metadata": {
    "id": "TLhSsRM579OD",
    "outputId": "7d3dd075-cbbc-4f7b-9473-514b27f144dd"
   },
   "outputs": [
    {
     "data": {
      "text/html": [
       "<div>\n",
       "<style scoped>\n",
       "    .dataframe tbody tr th:only-of-type {\n",
       "        vertical-align: middle;\n",
       "    }\n",
       "\n",
       "    .dataframe tbody tr th {\n",
       "        vertical-align: top;\n",
       "    }\n",
       "\n",
       "    .dataframe thead th {\n",
       "        text-align: right;\n",
       "    }\n",
       "</style>\n",
       "<table border=\"1\" class=\"dataframe\">\n",
       "  <thead>\n",
       "    <tr style=\"text-align: right;\">\n",
       "      <th></th>\n",
       "      <th>credit.rating</th>\n",
       "      <th>account.balance</th>\n",
       "      <th>credit.duration.months</th>\n",
       "      <th>previous.credit.payment.status</th>\n",
       "      <th>credit.purpose</th>\n",
       "      <th>credit.amount</th>\n",
       "      <th>savings</th>\n",
       "      <th>employment.duration</th>\n",
       "      <th>installment.rate</th>\n",
       "      <th>marital.status</th>\n",
       "      <th>...</th>\n",
       "      <th>residence.duration</th>\n",
       "      <th>current.assets</th>\n",
       "      <th>age</th>\n",
       "      <th>other.credits</th>\n",
       "      <th>apartment.type</th>\n",
       "      <th>bank.credits</th>\n",
       "      <th>occupation</th>\n",
       "      <th>dependents</th>\n",
       "      <th>telephone</th>\n",
       "      <th>foreign.worker</th>\n",
       "    </tr>\n",
       "  </thead>\n",
       "  <tbody>\n",
       "    <tr>\n",
       "      <th>0</th>\n",
       "      <td>1</td>\n",
       "      <td>1</td>\n",
       "      <td>18</td>\n",
       "      <td>3</td>\n",
       "      <td>2</td>\n",
       "      <td>1049</td>\n",
       "      <td>1</td>\n",
       "      <td>1</td>\n",
       "      <td>4</td>\n",
       "      <td>1</td>\n",
       "      <td>...</td>\n",
       "      <td>4</td>\n",
       "      <td>2</td>\n",
       "      <td>21</td>\n",
       "      <td>2</td>\n",
       "      <td>1</td>\n",
       "      <td>1</td>\n",
       "      <td>3</td>\n",
       "      <td>1</td>\n",
       "      <td>1</td>\n",
       "      <td>1</td>\n",
       "    </tr>\n",
       "    <tr>\n",
       "      <th>1</th>\n",
       "      <td>1</td>\n",
       "      <td>1</td>\n",
       "      <td>9</td>\n",
       "      <td>3</td>\n",
       "      <td>4</td>\n",
       "      <td>2799</td>\n",
       "      <td>1</td>\n",
       "      <td>2</td>\n",
       "      <td>2</td>\n",
       "      <td>3</td>\n",
       "      <td>...</td>\n",
       "      <td>2</td>\n",
       "      <td>1</td>\n",
       "      <td>36</td>\n",
       "      <td>2</td>\n",
       "      <td>1</td>\n",
       "      <td>2</td>\n",
       "      <td>3</td>\n",
       "      <td>2</td>\n",
       "      <td>1</td>\n",
       "      <td>1</td>\n",
       "    </tr>\n",
       "    <tr>\n",
       "      <th>2</th>\n",
       "      <td>1</td>\n",
       "      <td>2</td>\n",
       "      <td>12</td>\n",
       "      <td>2</td>\n",
       "      <td>4</td>\n",
       "      <td>841</td>\n",
       "      <td>2</td>\n",
       "      <td>3</td>\n",
       "      <td>2</td>\n",
       "      <td>1</td>\n",
       "      <td>...</td>\n",
       "      <td>4</td>\n",
       "      <td>1</td>\n",
       "      <td>23</td>\n",
       "      <td>2</td>\n",
       "      <td>1</td>\n",
       "      <td>1</td>\n",
       "      <td>2</td>\n",
       "      <td>1</td>\n",
       "      <td>1</td>\n",
       "      <td>1</td>\n",
       "    </tr>\n",
       "  </tbody>\n",
       "</table>\n",
       "<p>3 rows × 21 columns</p>\n",
       "</div>"
      ],
      "text/plain": [
       "   credit.rating  account.balance  credit.duration.months  \\\n",
       "0              1                1                      18   \n",
       "1              1                1                       9   \n",
       "2              1                2                      12   \n",
       "\n",
       "   previous.credit.payment.status  credit.purpose  credit.amount  savings  \\\n",
       "0                               3               2           1049        1   \n",
       "1                               3               4           2799        1   \n",
       "2                               2               4            841        2   \n",
       "\n",
       "   employment.duration  installment.rate  marital.status  ...  \\\n",
       "0                    1                 4               1  ...   \n",
       "1                    2                 2               3  ...   \n",
       "2                    3                 2               1  ...   \n",
       "\n",
       "   residence.duration  current.assets  age  other.credits  apartment.type  \\\n",
       "0                   4               2   21              2               1   \n",
       "1                   2               1   36              2               1   \n",
       "2                   4               1   23              2               1   \n",
       "\n",
       "   bank.credits  occupation  dependents  telephone  foreign.worker  \n",
       "0             1           3           1          1               1  \n",
       "1             2           3           2          1               1  \n",
       "2             1           2           1          1               1  \n",
       "\n",
       "[3 rows x 21 columns]"
      ]
     },
     "execution_count": 3,
     "metadata": {},
     "output_type": "execute_result"
    }
   ],
   "source": [
    "credit = pd.read_csv(r'C:\\Users\\Boanerges\\GitHub\\TIL\\rawdata\\credit_final.csv')\n",
    "credit.head(3)"
   ]
  },
  {
   "cell_type": "code",
   "execution_count": 4,
   "metadata": {
    "id": "uP16JE8l79OM",
    "outputId": "6dfa25db-3bf4-40db-a145-0ddefcc99287"
   },
   "outputs": [
    {
     "name": "stdout",
     "output_type": "stream",
     "text": [
      "<class 'pandas.core.frame.DataFrame'>\n",
      "RangeIndex: 1000 entries, 0 to 999\n",
      "Data columns (total 21 columns):\n",
      " #   Column                          Non-Null Count  Dtype\n",
      "---  ------                          --------------  -----\n",
      " 0   credit.rating                   1000 non-null   int64\n",
      " 1   account.balance                 1000 non-null   int64\n",
      " 2   credit.duration.months          1000 non-null   int64\n",
      " 3   previous.credit.payment.status  1000 non-null   int64\n",
      " 4   credit.purpose                  1000 non-null   int64\n",
      " 5   credit.amount                   1000 non-null   int64\n",
      " 6   savings                         1000 non-null   int64\n",
      " 7   employment.duration             1000 non-null   int64\n",
      " 8   installment.rate                1000 non-null   int64\n",
      " 9   marital.status                  1000 non-null   int64\n",
      " 10  guarantor                       1000 non-null   int64\n",
      " 11  residence.duration              1000 non-null   int64\n",
      " 12  current.assets                  1000 non-null   int64\n",
      " 13  age                             1000 non-null   int64\n",
      " 14  other.credits                   1000 non-null   int64\n",
      " 15  apartment.type                  1000 non-null   int64\n",
      " 16  bank.credits                    1000 non-null   int64\n",
      " 17  occupation                      1000 non-null   int64\n",
      " 18  dependents                      1000 non-null   int64\n",
      " 19  telephone                       1000 non-null   int64\n",
      " 20  foreign.worker                  1000 non-null   int64\n",
      "dtypes: int64(21)\n",
      "memory usage: 164.2 KB\n"
     ]
    }
   ],
   "source": [
    "credit.info()"
   ]
  },
  {
   "cell_type": "markdown",
   "metadata": {
    "id": "uLvknhaS79OQ"
   },
   "source": [
    "# 1. 데이터 분할과 성과분석\n",
    "## 1절. 데이터 분할\n",
    "- 데이터 분할은 train, validation, test data로 분할하여 모델 평가에 사용\n",
    "- 전체데이터에서 각각 train(50%), validataion(30%), test(20%)로 분할하며, \n",
    "- 데이터의 갯수가 작으면 validation을 생략하고 training과 test를 6:4 또는 7:3으로 두고 분석을 진행.\n"
   ]
  },
  {
   "cell_type": "code",
   "execution_count": 5,
   "metadata": {
    "id": "uHi_sbwN79OS"
   },
   "outputs": [],
   "source": [
    "X = credit.drop(['credit.rating'],axis = 1)\n",
    "Y = credit['credit.rating']"
   ]
  },
  {
   "cell_type": "code",
   "execution_count": 6,
   "metadata": {
    "id": "eJZfIYKz79OU"
   },
   "outputs": [],
   "source": [
    "from sklearn.model_selection import train_test_split\n",
    "\n",
    "train_X, test_X, train_Y, test_Y = train_test_split(X,\n",
    "                                                    Y,\n",
    "                                                    random_state = 20,\n",
    "                                                    test_size=0.3 #기본 0.25\n",
    "                                                   )"
   ]
  },
  {
   "cell_type": "markdown",
   "metadata": {
    "id": "9IlSACQY79OZ"
   },
   "source": [
    "## 2절. 성과분석\n",
    "- 성과분석은 데이터마이닝을 통해 train set으로 모델링 한 뒤, \n",
    "- test set으로 정확도, 특이도 등을 알아보기 위한 과정"
   ]
  },
  {
   "cell_type": "markdown",
   "metadata": {
    "id": "tpIJvOwW79Oe"
   },
   "source": [
    "#### 1) confusionMatrix "
   ]
  },
  {
   "cell_type": "code",
   "execution_count": 7,
   "metadata": {
    "id": "d1ZGyer-79Oj",
    "outputId": "8766f815-de51-4f94-e89e-261e387b6067"
   },
   "outputs": [
    {
     "name": "stdout",
     "output_type": "stream",
     "text": [
      "[[3 2]\n",
      " [1 6]]\n"
     ]
    }
   ],
   "source": [
    "# confusionMatrix를 활용한 성과분석\n",
    "predicted = [1,0,0,1,1,1,0,0,0,1,1,1]\n",
    "actual =    [1,0,0,1,1,0,1,1,0,1,1,1]\n",
    "\n",
    "# 분할표 그리기\n",
    "from sklearn.metrics import confusion_matrix\n",
    "cf = confusion_matrix(predicted, actual)\n",
    "print(cf)"
   ]
  },
  {
   "cell_type": "code",
   "execution_count": 8,
   "metadata": {
    "id": "_3JM0hL_79Ol",
    "outputId": "211f7d9d-b5d5-4600-cfb0-719bb51b86b9"
   },
   "outputs": [
    {
     "data": {
      "text/plain": [
       "0.75"
      ]
     },
     "execution_count": 8,
     "metadata": {},
     "output_type": "execute_result"
    }
   ],
   "source": [
    "# 정확도 구하기\n",
    "# 1) 사이킷런 함수 이용\n",
    "from sklearn.metrics import accuracy_score\n",
    "accuracy_score(predicted, actual)"
   ]
  },
  {
   "cell_type": "code",
   "execution_count": 9,
   "metadata": {
    "id": "WPUyJ1qr79Om",
    "outputId": "d468f259-6ce5-4cfd-a077-8b37677a9d0c"
   },
   "outputs": [
    {
     "data": {
      "text/plain": [
       "0.75"
      ]
     },
     "execution_count": 9,
     "metadata": {},
     "output_type": "execute_result"
    }
   ],
   "source": [
    "# 2) 직접 구하기\n",
    "(cf[0,0] + cf[1,1]) / cf.sum()"
   ]
  },
  {
   "cell_type": "markdown",
   "metadata": {
    "id": "MXXxTdXY79Oq"
   },
   "source": [
    "####  2) ROC CURVE\n",
    "- 이진 분류 분석 모형을 비교 분석 결과를 가시화할 수 있다는 점에서 유용한 평가 도구.\n",
    "- 가로축은 1-특이도, 세로축은 민감도\n",
    "- AUC가 넓을수록 좋은 모형"
   ]
  },
  {
   "cell_type": "code",
   "execution_count": 10,
   "metadata": {
    "id": "m2pEJMW279Ou"
   },
   "outputs": [],
   "source": [
    "import numpy as np"
   ]
  },
  {
   "cell_type": "code",
   "execution_count": 11,
   "metadata": {
    "id": "D8qvSHU179Ox"
   },
   "outputs": [],
   "source": [
    "from sklearn.metrics import roc_curve"
   ]
  },
  {
   "cell_type": "code",
   "execution_count": 12,
   "metadata": {
    "id": "yVR77vEN79Oy"
   },
   "outputs": [],
   "source": [
    "FPR, TPR, _ = roc_curve(predicted, actual)"
   ]
  },
  {
   "cell_type": "code",
   "execution_count": 13,
   "metadata": {
    "id": "S8HV8pr779Oz",
    "outputId": "36bb3dde-a8aa-4c14-a461-7c745b1749fe"
   },
   "outputs": [
    {
     "data": {
      "image/png": "[encoded data removed]",
      "text/plain": [
       "<Figure size 432x288 with 1 Axes>"
      ]
     },
     "metadata": {
      "needs_background": "light"
     },
     "output_type": "display_data"
    },
    {
     "data": {
      "text/plain": [
       "<Figure size 432x288 with 0 Axes>"
      ]
     },
     "metadata": {},
     "output_type": "display_data"
    }
   ],
   "source": [
    "from matplotlib import pyplot as plt\n",
    "%matplotlib inline\n",
    "\n",
    "plt.plot(FPR, TPR)\n",
    "plt.plot([0,1],[0,1],'--', color='black') # 대각선\n",
    "plt.title('ROC Curve')\n",
    "plt.xlabel('False Positive Rate')\n",
    "plt.ylabel('True Positive Rate')\n",
    "plt.show()\n",
    "plt.clf()"
   ]
  },
  {
   "cell_type": "code",
   "execution_count": 14,
   "metadata": {
    "id": "6PN31iQK79O1",
    "outputId": "f4f69406-99a5-468d-d06e-331c7c34ac33"
   },
   "outputs": [
    {
     "data": {
      "text/plain": [
       "0.75"
      ]
     },
     "execution_count": 14,
     "metadata": {},
     "output_type": "execute_result"
    }
   ],
   "source": [
    "from sklearn.metrics import roc_auc_score\n",
    "roc_auc_score(actual, predicted)"
   ]
  },
  {
   "cell_type": "markdown",
   "metadata": {
    "id": "w17jts6r79O3"
   },
   "source": [
    "# 2. 분류분석\n",
    "- 분류분석은 데이터가 어떤 그룹에 속하는지 예측하는데 사용하는 기법.\n",
    "- 의사결정나무, 앙상블기법, 인공신경망 등이 있음.\n",
    "- ADP 실기에서는 **\"분류기법들을 활용해 가장 정확도같은 지표가 좋은 기법과 결과를 보고서에 나타내라\"** 는 형식의 문제가 출제됨.\n"
   ]
  },
  {
   "cell_type": "code",
   "execution_count": 15,
   "metadata": {
    "id": "XHTrc8Lj79O3"
   },
   "outputs": [],
   "source": [
    "X = credit.drop(['credit.rating'],axis = 1)\n",
    "Y = credit['credit.rating']"
   ]
  },
  {
   "cell_type": "code",
   "execution_count": 16,
   "metadata": {
    "id": "exas0tp679O4",
    "outputId": "3d9b0166-4407-4f6e-f415-06af0a710dc5"
   },
   "outputs": [
    {
     "data": {
      "text/plain": [
       "((1000, 20), (1000,))"
      ]
     },
     "execution_count": 16,
     "metadata": {},
     "output_type": "execute_result"
    }
   ],
   "source": [
    "X.shape, Y.shape"
   ]
  },
  {
   "cell_type": "code",
   "execution_count": 17,
   "metadata": {
    "id": "LxVuE4Qu79O6"
   },
   "outputs": [],
   "source": [
    "from sklearn.model_selection import train_test_split\n",
    "train_X, test_X, train_Y, test_Y = train_test_split(X,Y,random_state = 20,\n",
    "                                                   test_size=0.3 #기본 0.25\n",
    "                                                   )"
   ]
  },
  {
   "cell_type": "markdown",
   "metadata": {
    "id": "CY5IMgA179O7"
   },
   "source": [
    "## 1절. 로지스틱 회귀분석\n",
    "- 반응변수가 범주형일 때 사용\n",
    "- 새로운 설명변수가 주어질 때 반응변수의 각 범주에 속할 확률이 얼마인지를 추정하여 <br> **추정확률**을 기준치에 따라 분류하는 목적으로 활용"
   ]
  },
  {
   "cell_type": "code",
   "execution_count": 18,
   "metadata": {
    "id": "YlR7MLoN79O8"
   },
   "outputs": [],
   "source": [
    "from sklearn.linear_model import LogisticRegression as LR\n",
    "import statsmodels.api as sm"
   ]
  },
  {
   "cell_type": "code",
   "execution_count": 19,
   "metadata": {
    "id": "zi4R8vJ879O8",
    "outputId": "2fc94f24-1c05-4117-9136-bf21df64c12f"
   },
   "outputs": [
    {
     "data": {
      "text/plain": [
       "((700, 20), (700,))"
      ]
     },
     "execution_count": 19,
     "metadata": {},
     "output_type": "execute_result"
    }
   ],
   "source": [
    "train_X.shape,train_Y.shape"
   ]
  },
  {
   "cell_type": "code",
   "execution_count": 20,
   "metadata": {
    "id": "OcSQQtX379O-",
    "outputId": "3928e96d-2388-46ba-8f7c-b4fe0a916811"
   },
   "outputs": [
    {
     "data": {
      "text/plain": [
       "((300, 20), (300,))"
      ]
     },
     "execution_count": 20,
     "metadata": {},
     "output_type": "execute_result"
    }
   ],
   "source": [
    "test_X.shape, test_Y.shape"
   ]
  },
  {
   "cell_type": "code",
   "execution_count": 21,
   "metadata": {
    "id": "zA0L3Vhg79PA"
   },
   "outputs": [
    {
     "name": "stderr",
     "output_type": "stream",
     "text": [
      "C:\\Users\\Boanerges\\Anaconda3\\lib\\site-packages\\statsmodels\\tsa\\tsatools.py:142: FutureWarning: In a future version of pandas all arguments of concat except for the argument 'objs' will be keyword-only\n",
      "  x = pd.concat(x[::order], 1)\n"
     ]
    }
   ],
   "source": [
    "# 상수항 추가\n",
    "##### 상수항 추가해줘야 centered 된다고 알고있는데,,, 할거면 train test 둘다 해줘야하나?\n",
    "train_X = sm.add_constant(train_X, has_constant='add')\n",
    "test_X = sm.add_constant(test_X, has_constant='add')"
   ]
  },
  {
   "cell_type": "code",
   "execution_count": 22,
   "metadata": {
    "id": "T0ExZdbe79PA",
    "outputId": "20f614cb-fe14-43c8-8bfe-7e102cf65e0f"
   },
   "outputs": [
    {
     "name": "stdout",
     "output_type": "stream",
     "text": [
      "Optimization terminated successfully.\n",
      "         Current function value: 0.476048\n",
      "         Iterations 7\n"
     ]
    }
   ],
   "source": [
    "# 모델링\n",
    "model = sm.Logit(train_Y, train_X)\n",
    "results = model.fit(method='newton')"
   ]
  },
  {
   "cell_type": "code",
   "execution_count": 23,
   "metadata": {
    "id": "aKHPcdMj79PB",
    "outputId": "85cb86c0-9e07-4a80-dcd7-3a417e301ec0"
   },
   "outputs": [
    {
     "data": {
      "text/plain": [
       "708.4670376853487"
      ]
     },
     "execution_count": 23,
     "metadata": {},
     "output_type": "execute_result"
    }
   ],
   "source": [
    "results.aic # R 교재에서는 689"
   ]
  },
  {
   "cell_type": "code",
   "execution_count": 24,
   "metadata": {
    "id": "flIhott879PC",
    "outputId": "e38ad6b7-ee51-40af-c193-860fae92a86d"
   },
   "outputs": [
    {
     "data": {
      "text/plain": [
       "890    0\n",
       "694    1\n",
       "798    0\n",
       "147    1\n",
       "858    0\n",
       "      ..\n",
       "257    1\n",
       "591    0\n",
       "377    1\n",
       "938    0\n",
       "57     1\n",
       "Length: 300, dtype: int32"
      ]
     },
     "execution_count": 24,
     "metadata": {},
     "output_type": "execute_result"
    }
   ],
   "source": [
    "#예측을 통한 정확도 확인\n",
    "pred_y = results.predict(test_X)\n",
    "\n",
    "# 컷오프 함수\n",
    "def cut_off(y,threshold):\n",
    "    Y = y.copy() # copy함수를 사용하여 이전의 y값이 변화지 않게 함\n",
    "    Y[Y>threshold]=1\n",
    "    Y[Y<=threshold]=0\n",
    "    return(Y.astype(int))\n",
    "\n",
    "pred_Y = cut_off(pred_y,0.5)\n",
    "pred_Y"
   ]
  },
  {
   "cell_type": "code",
   "execution_count": 25,
   "metadata": {
    "id": "dHprLGb479PD",
    "outputId": "1a7b0943-dc9e-4982-ebbd-ab7f60620b2b"
   },
   "outputs": [
    {
     "name": "stdout",
     "output_type": "stream",
     "text": [
      "[[ 45  32]\n",
      " [ 38 185]]\n"
     ]
    }
   ],
   "source": [
    "cfmat = confusion_matrix(test_Y,pred_Y)\n",
    "print(cfmat)"
   ]
  },
  {
   "cell_type": "code",
   "execution_count": 26,
   "metadata": {
    "id": "ZlSNONhM79PE"
   },
   "outputs": [],
   "source": [
    "def acc(cfmat) :\n",
    "    acc=(cfmat[0,0]+cfmat[1,1])/ cfmat.sum() ## accuracy\n",
    "    return(acc)"
   ]
  },
  {
   "cell_type": "code",
   "execution_count": 27,
   "metadata": {
    "id": "JGpVkjhg79PF",
    "outputId": "b4d16a48-195d-4515-e21a-733d59173c00"
   },
   "outputs": [
    {
     "data": {
      "text/plain": [
       "0.7666666666666667"
      ]
     },
     "execution_count": 27,
     "metadata": {},
     "output_type": "execute_result"
    }
   ],
   "source": [
    "acc(cfmat)"
   ]
  },
  {
   "cell_type": "markdown",
   "metadata": {
    "id": "17_Y-9cm79PG"
   },
   "source": [
    "## 2절. 의사결정나무\n",
    "-  tree함수는 불순도의 측도로 엔트로피 지수를 사용."
   ]
  },
  {
   "cell_type": "code",
   "execution_count": 28,
   "metadata": {
    "id": "Vw3OT4nq79PG"
   },
   "outputs": [],
   "source": [
    "from sklearn.datasets import load_iris\n",
    "from sklearn import tree"
   ]
  },
  {
   "cell_type": "code",
   "execution_count": 29,
   "metadata": {
    "id": "hG5DwKS279PG"
   },
   "outputs": [],
   "source": [
    "iris=load_iris()"
   ]
  },
  {
   "cell_type": "code",
   "execution_count": 30,
   "metadata": {
    "id": "CIR42wXT79PH"
   },
   "outputs": [],
   "source": [
    "from sklearn import tree"
   ]
  },
  {
   "cell_type": "markdown",
   "metadata": {
    "id": "IUkiHYDO79PH"
   },
   "source": [
    "- train, test 분리\n",
    "- cf.matrix 계산"
   ]
  },
  {
   "cell_type": "code",
   "execution_count": 31,
   "metadata": {
    "id": "SdlfTSN679PH"
   },
   "outputs": [],
   "source": [
    "X_train, X_test, y_train, y_test = train_test_split(iris.data,iris.target, stratify=iris.target,random_state=1)"
   ]
  },
  {
   "cell_type": "code",
   "execution_count": 32,
   "metadata": {
    "id": "1pWRUhA_79PI"
   },
   "outputs": [],
   "source": [
    "clf4 = tree.DecisionTreeClassifier(criterion=\"entropy\")"
   ]
  },
  {
   "cell_type": "code",
   "execution_count": 33,
   "metadata": {
    "id": "IHqZggbn79PI",
    "outputId": "6bb51581-f325-4618-82ad-9d785a834fc2"
   },
   "outputs": [
    {
     "data": {
      "text/plain": [
       "DecisionTreeClassifier(criterion='entropy')"
      ]
     },
     "execution_count": 33,
     "metadata": {},
     "output_type": "execute_result"
    }
   ],
   "source": [
    "clf4.fit(X_train,y_train)"
   ]
  },
  {
   "cell_type": "code",
   "execution_count": 34,
   "metadata": {
    "id": "wm_m-UG-79PJ",
    "outputId": "250c79c1-dec7-4138-e2a7-f612deaf4b3e"
   },
   "outputs": [
    {
     "data": {
      "text/plain": [
       "array([[12,  0,  0],\n",
       "       [ 0, 13,  0],\n",
       "       [ 0,  1, 12]], dtype=int64)"
      ]
     },
     "execution_count": 34,
     "metadata": {},
     "output_type": "execute_result"
    }
   ],
   "source": [
    "confusion_matrix(y_test,clf4.predict(X_test))"
   ]
  },
  {
   "cell_type": "markdown",
   "metadata": {
    "id": "Yb2pr52h79PK"
   },
   "source": [
    "#### Decision Tree Regressor"
   ]
  },
  {
   "cell_type": "code",
   "execution_count": 35,
   "metadata": {
    "id": "xLVM9bsY79PL"
   },
   "outputs": [],
   "source": [
    "from sklearn.tree import DecisionTreeRegressor"
   ]
  },
  {
   "cell_type": "code",
   "execution_count": 36,
   "metadata": {
    "id": "vz5L8SVl79PL"
   },
   "outputs": [],
   "source": [
    "regr1 = tree.DecisionTreeRegressor(max_depth=5)"
   ]
  },
  {
   "cell_type": "code",
   "execution_count": 37,
   "metadata": {
    "id": "eGDUI8Ta79PM",
    "outputId": "509e0edd-3686-4337-f91a-6fb791916df9"
   },
   "outputs": [
    {
     "data": {
      "text/plain": [
       "DecisionTreeRegressor(max_depth=5)"
      ]
     },
     "execution_count": 37,
     "metadata": {},
     "output_type": "execute_result"
    }
   ],
   "source": [
    "# 모델 피팅\n",
    "regr1.fit(X_train,y_train)"
   ]
  },
  {
   "cell_type": "code",
   "execution_count": 38,
   "metadata": {
    "id": "HSjlTyNd79PM"
   },
   "outputs": [],
   "source": [
    "# 예측값\n",
    "y1 = regr1.predict(X_test)"
   ]
  },
  {
   "cell_type": "code",
   "execution_count": 39,
   "metadata": {
    "id": "vDUjWJQy79PN",
    "outputId": "5aafea89-c382-4196-ff19-3dadf6fc7bce"
   },
   "outputs": [
    {
     "data": {
      "text/plain": [
       "array([[12,  0,  0],\n",
       "       [ 0, 13,  0],\n",
       "       [ 0,  1, 12]], dtype=int64)"
      ]
     },
     "execution_count": 39,
     "metadata": {},
     "output_type": "execute_result"
    }
   ],
   "source": [
    "confusion_matrix(y_test,y1)"
   ]
  },
  {
   "cell_type": "markdown",
   "metadata": {
    "id": "6IFVGoiD79PN"
   },
   "source": [
    "## 3절. 앙상블 기법 \n",
    "- 여러 개의 예측모형들을 만든 후 예측모형들을 조합하여 하나의 최종 예측 모형을 만드는 방법. <br> 학습방법이 가장 불안전한 의사결정나무에 주로 사용\n",
    "\n",
    "### 1) 배깅 \n",
    "- 여러개의 붓스트랩자료를 생성해 각 붓스트랩 자료에 예측모형을 만든 후 결합하여 최종 예측모형을 만드는 방법. \n",
    "- 붓스트랩; 주어진 자료에서 동일한 크기의 표본을 랜덤 복원추출로 뽑은 자료\n",
    "- 보팅(voting); 여러 개의 모형으로부터 산출된 결과를 다수결에 의해 최종결과를 선정하는 과정\n",
    "- 배깅에서는 가지치기를 하지 않고 최대로 성장한 의사결정나무 활용"
   ]
  },
  {
   "cell_type": "code",
   "execution_count": 40,
   "metadata": {
    "id": "sXabDRm379PO"
   },
   "outputs": [],
   "source": [
    "from math import sqrt\n",
    "from sklearn.metrics import mean_squared_error, r2_score"
   ]
  },
  {
   "cell_type": "code",
   "execution_count": 41,
   "metadata": {
    "id": "3gqJVCbC79PO"
   },
   "outputs": [],
   "source": [
    "#함수를 활용하여 분석 결과를 확인하기 보다 train한 데이터로 test 데이터를 예측하여 confusionMatrix를 주로 확인함\n",
    "#아까 로지스틱으로 했을땐 accuracy 76.7%\n",
    "X = credit.drop(['credit.rating'],axis = 1)\n",
    "Y = credit['credit.rating']\n",
    "\n",
    "from sklearn.model_selection import train_test_split\n",
    "train_x, test_x, train_y, test_y = train_test_split(X,Y,random_state = 20, test_size=0.3)"
   ]
  },
  {
   "cell_type": "code",
   "execution_count": 42,
   "metadata": {
    "id": "mSFQBX-k79PP",
    "outputId": "7ffc2a44-56f2-4a5a-cd90-70649a0c9025"
   },
   "outputs": [
    {
     "name": "stderr",
     "output_type": "stream",
     "text": [
      "[Parallel(n_jobs=1)]: Using backend SequentialBackend with 1 concurrent workers.\n",
      "C:\\Users\\Boanerges\\Anaconda3\\lib\\site-packages\\sklearn\\linear_model\\_logistic.py:763: ConvergenceWarning: lbfgs failed to converge (status=1):\n",
      "STOP: TOTAL NO. of ITERATIONS REACHED LIMIT.\n",
      "\n",
      "Increase the number of iterations (max_iter) or scale the data as shown in:\n",
      "    https://scikit-learn.org/stable/modules/preprocessing.html\n",
      "Please also refer to the documentation for alternative solver options:\n",
      "    https://scikit-learn.org/stable/modules/linear_model.html#logistic-regression\n",
      "  n_iter_i = _check_optimize_result(\n",
      "C:\\Users\\Boanerges\\Anaconda3\\lib\\site-packages\\sklearn\\linear_model\\_logistic.py:763: ConvergenceWarning: lbfgs failed to converge (status=1):\n",
      "STOP: TOTAL NO. of ITERATIONS REACHED LIMIT.\n",
      "\n",
      "Increase the number of iterations (max_iter) or scale the data as shown in:\n",
      "    https://scikit-learn.org/stable/modules/preprocessing.html\n",
      "Please also refer to the documentation for alternative solver options:\n",
      "    https://scikit-learn.org/stable/modules/linear_model.html#logistic-regression\n",
      "  n_iter_i = _check_optimize_result(\n",
      "C:\\Users\\Boanerges\\Anaconda3\\lib\\site-packages\\sklearn\\linear_model\\_logistic.py:763: ConvergenceWarning: lbfgs failed to converge (status=1):\n",
      "STOP: TOTAL NO. of ITERATIONS REACHED LIMIT.\n",
      "\n",
      "Increase the number of iterations (max_iter) or scale the data as shown in:\n",
      "    https://scikit-learn.org/stable/modules/preprocessing.html\n",
      "Please also refer to the documentation for alternative solver options:\n",
      "    https://scikit-learn.org/stable/modules/linear_model.html#logistic-regression\n",
      "  n_iter_i = _check_optimize_result(\n",
      "C:\\Users\\Boanerges\\Anaconda3\\lib\\site-packages\\sklearn\\linear_model\\_logistic.py:763: ConvergenceWarning: lbfgs failed to converge (status=1):\n",
      "STOP: TOTAL NO. of ITERATIONS REACHED LIMIT.\n",
      "\n",
      "Increase the number of iterations (max_iter) or scale the data as shown in:\n",
      "    https://scikit-learn.org/stable/modules/preprocessing.html\n",
      "Please also refer to the documentation for alternative solver options:\n",
      "    https://scikit-learn.org/stable/modules/linear_model.html#logistic-regression\n",
      "  n_iter_i = _check_optimize_result(\n",
      "C:\\Users\\Boanerges\\Anaconda3\\lib\\site-packages\\sklearn\\linear_model\\_logistic.py:763: ConvergenceWarning: lbfgs failed to converge (status=1):\n",
      "STOP: TOTAL NO. of ITERATIONS REACHED LIMIT.\n",
      "\n",
      "Increase the number of iterations (max_iter) or scale the data as shown in:\n",
      "    https://scikit-learn.org/stable/modules/preprocessing.html\n",
      "Please also refer to the documentation for alternative solver options:\n",
      "    https://scikit-learn.org/stable/modules/linear_model.html#logistic-regression\n",
      "  n_iter_i = _check_optimize_result(\n",
      "[Parallel(n_jobs=1)]: Done   1 out of   1 | elapsed:    0.1s finished\n",
      "[Parallel(n_jobs=1)]: Using backend SequentialBackend with 1 concurrent workers.\n",
      "[Parallel(n_jobs=1)]: Done   1 out of   1 | elapsed:    0.0s finished\n"
     ]
    }
   ],
   "source": [
    "from sklearn.ensemble import BaggingRegressor\n",
    "bagging_model = BaggingRegressor(base_estimator = LR(), # 선형회귀모형\n",
    "                                 n_estimators = 5, # 5번 샘플링\n",
    "                                 verbose = 1) # 학습 과정 표시\n",
    "linear_model2 = bagging_model.fit(train_x, train_y) # 학습 진행\n",
    "predict2 = linear_model2.predict(test_x) # 학습된 Bagging 선형 회귀 모형으로 평가 데이터 예측\n",
    "#print(\"RMSE: {}\".format(sqrt(mean_squared_error(predict2, test_y)))) # RMSE 결과"
   ]
  },
  {
   "cell_type": "code",
   "execution_count": 43,
   "metadata": {
    "id": "XV4GYjLN79PQ"
   },
   "outputs": [],
   "source": [
    "pred_Y = cut_off(predict2,0.5)\n",
    "#pred_Y"
   ]
  },
  {
   "cell_type": "code",
   "execution_count": 44,
   "metadata": {
    "id": "qH-kz6sI79PQ",
    "outputId": "83101651-5a7e-4f70-eeb7-4fcc1e8eb08f"
   },
   "outputs": [
    {
     "data": {
      "text/plain": [
       "0.78"
      ]
     },
     "execution_count": 44,
     "metadata": {},
     "output_type": "execute_result"
    }
   ],
   "source": [
    "# accuracy 77.67%\n",
    "cfmat = confusion_matrix(pred_Y,test_y)\n",
    "acc(cfmat)"
   ]
  },
  {
   "cell_type": "code",
   "execution_count": 45,
   "metadata": {
    "id": "HwoZ9Oqe79PR",
    "outputId": "e02b7bd6-f054-4a6f-a73c-af04c4e36756"
   },
   "outputs": [
    {
     "data": {
      "text/plain": [
       "0.7159746083512899"
      ]
     },
     "execution_count": 45,
     "metadata": {},
     "output_type": "execute_result"
    }
   ],
   "source": [
    "# auc  \n",
    "roc_auc_score(test_y, pred_Y )"
   ]
  },
  {
   "cell_type": "markdown",
   "metadata": {
    "id": "gKAHWPNo79PR"
   },
   "source": [
    "### 2) 부스팅 \n",
    "- 예측력이 약한 모형들의 결합하여 강한 예측모형을 만드는 방법  \n"
   ]
  },
  {
   "cell_type": "code",
   "execution_count": 46,
   "metadata": {
    "id": "VEW_7XmR79PS"
   },
   "outputs": [],
   "source": [
    "# ex) 앞서 분할한 credit 데이터의 train 데이터로 부스팅 모델을 만들어 보자.\n",
    "# Adaboost, Gradient boost"
   ]
  },
  {
   "cell_type": "code",
   "execution_count": 47,
   "metadata": {
    "id": "Gr7KKsGx79PS",
    "outputId": "13cedc17-f3d9-4639-b111-f59e1799f363"
   },
   "outputs": [
    {
     "data": {
      "text/plain": [
       "((1000, 20), (1000,))"
      ]
     },
     "execution_count": 47,
     "metadata": {},
     "output_type": "execute_result"
    }
   ],
   "source": [
    "X.shape, Y.shape"
   ]
  },
  {
   "cell_type": "markdown",
   "metadata": {
    "id": "HQy1Knaa79PS"
   },
   "source": [
    "####  Adaboost\n"
   ]
  },
  {
   "cell_type": "code",
   "execution_count": 48,
   "metadata": {
    "id": "j0Oy40oI79PT"
   },
   "outputs": [],
   "source": [
    "from sklearn.ensemble import AdaBoostClassifier\n",
    "from sklearn.tree import DecisionTreeClassifier"
   ]
  },
  {
   "cell_type": "code",
   "execution_count": 49,
   "metadata": {
    "id": "TKlvVV6Z79PT"
   },
   "outputs": [],
   "source": [
    "from sklearn.model_selection import train_test_split\n",
    "train_x, test_x, train_y, test_y = train_test_split(X,Y,random_state = 20, test_size=0.3)"
   ]
  },
  {
   "cell_type": "code",
   "execution_count": 50,
   "metadata": {
    "id": "QNNltKx279PU",
    "outputId": "728946c3-bbcc-4b20-ad03-472f2ab5807b"
   },
   "outputs": [
    {
     "data": {
      "text/plain": [
       "0.6833333333333333"
      ]
     },
     "execution_count": 50,
     "metadata": {},
     "output_type": "execute_result"
    }
   ],
   "source": [
    "tree_model = DecisionTreeClassifier(max_depth = 5) # 트리 최대 깊이 5\n",
    "Adaboost_model1 = AdaBoostClassifier(base_estimator = tree_model, # 트리모델을 기본으로 추정\n",
    "                                     n_estimators = 20,\n",
    "                                     random_state = 42) \n",
    "model1 = Adaboost_model1.fit(train_x, train_y) # 학습 진행\n",
    "\n",
    "predict1 = model1.predict(test_x) # 평가 데이터 예측\n",
    "accuracy_score(test_y, predict1) "
   ]
  },
  {
   "cell_type": "markdown",
   "metadata": {
    "id": "MmKd-H0a79PV"
   },
   "source": [
    "#### Gradient boost\n",
    "XGB"
   ]
  },
  {
   "cell_type": "code",
   "execution_count": 51,
   "metadata": {
    "id": "gPy-7gr479PV"
   },
   "outputs": [
    {
     "ename": "ModuleNotFoundError",
     "evalue": "No module named 'xgboost'",
     "output_type": "error",
     "traceback": [
      "\u001b[1;31m---------------------------------------------------------------------------\u001b[0m",
      "\u001b[1;31mModuleNotFoundError\u001b[0m                       Traceback (most recent call last)",
      "\u001b[1;32mC:\\Users\\BOANER~1\\AppData\\Local\\Temp/ipykernel_7300/2785909336.py\u001b[0m in \u001b[0;36m<module>\u001b[1;34m\u001b[0m\n\u001b[1;32m----> 1\u001b[1;33m \u001b[1;32mimport\u001b[0m \u001b[0mxgboost\u001b[0m \u001b[1;32mas\u001b[0m \u001b[0mxgb\u001b[0m\u001b[1;33m\u001b[0m\u001b[1;33m\u001b[0m\u001b[0m\n\u001b[0m",
      "\u001b[1;31mModuleNotFoundError\u001b[0m: No module named 'xgboost'"
     ]
    }
   ],
   "source": [
    "import xgboost as xgb"
   ]
  },
  {
   "cell_type": "code",
   "execution_count": null,
   "metadata": {
    "id": "psg5rRye79PV",
    "outputId": "75f5cdcb-91cd-46e7-a064-ef9003a26356",
    "scrolled": true
   },
   "outputs": [],
   "source": [
    "xgb_dtrain = xgb.DMatrix(data = train_x, label = train_y) # 학습 데이터를 XGBoost 모델에 맞게 변환\n",
    "xgb_dtest = xgb.DMatrix(data = test_x) # 평가 데이터를 XGBoost 모델에 맞게 변환\n",
    "\n",
    "xgb_param = {'max_depth': 10,\n",
    "         'learning_rate': 0.01, # Step Size\n",
    "         'n_estimators': 100, # Number of trees, 트리 생성 개수\n",
    "         'objective': 'multi:softmax', # 목적 함수\n",
    "        'num_class': len(set(train_y)) + 1} # 파라미터 추가, Label must be in [0, num_class) -> num_class보다 1 커야한다.\n",
    "\n",
    "xgb_model = xgb.train(params = xgb_param, dtrain = xgb_dtrain) # 학습 진행\n",
    "xgb_model_predict = xgb_model.predict(xgb_dtest) # 평가 데이터 예측\n",
    "\n",
    "accuracy_score(test_y, xgb_model_predict)"
   ]
  },
  {
   "cell_type": "code",
   "execution_count": null,
   "metadata": {
    "id": "DbM2kJM379PW",
    "outputId": "c4e64737-8ea7-45a9-a1a7-735ac3ea3ba7"
   },
   "outputs": [],
   "source": [
    "# roc curve 그리기\n",
    "FPR, TPR, _ = roc_curve(xgb_model_predict, test_y)\n",
    "\n",
    "#from matplotlib import pyplot as plt\n",
    "%matplotlib inline\n",
    "\n",
    "plt.plot(FPR, TPR)\n",
    "plt.plot([0,1],[0,1],'--', color='black') # 대각선\n",
    "plt.title('ROC Curve')\n",
    "plt.xlabel('False Positive Rate')\n",
    "plt.ylabel('True Positive Rate')\n",
    "plt.show()\n",
    "plt.clf()"
   ]
  },
  {
   "cell_type": "code",
   "execution_count": null,
   "metadata": {
    "id": "nl_F64ws79PX",
    "outputId": "a25057b8-798a-4534-be1b-d9975a373243"
   },
   "outputs": [],
   "source": [
    "#from sklearn.metrics import roc_auc_score\n",
    "roc_auc_score( test_y, xgb_model_predict)"
   ]
  },
  {
   "cell_type": "markdown",
   "metadata": {
    "id": "rnZBMKYJ79PX"
   },
   "source": [
    "### 3) 랜덤포레스트 \n",
    "- 의사결정나무의 특징인 분산이 크다는 점을 고려하여 배깅과 부스팅보다 더 많은 무작위성을 줘서 약한 학습기들을 생성한 후\n",
    "- 이를 선형결합하여 최종학습기를 만드는 방법\n"
   ]
  },
  {
   "cell_type": "code",
   "execution_count": null,
   "metadata": {
    "id": "P5RWMQT779PY",
    "outputId": "b7818b0f-015d-430e-d6f9-fae2b4d8f3df"
   },
   "outputs": [],
   "source": [
    "from sklearn.ensemble import RandomForestClassifier\n",
    "random_forest_model1 = RandomForestClassifier(n_estimators = 20, # 20번 추정\n",
    "                                             max_depth = 5, # 트리 최대 깊이 5\n",
    "                                             random_state = 42) # 시드값 고정\n",
    "\n",
    "model1 = random_forest_model1.fit(train_x, train_y) # 학습 진행\n",
    "predict1 = model1.predict(test_x) # 평가 데이터 예측\n",
    "\n",
    "accuracy_score(test_y, predict1)"
   ]
  },
  {
   "cell_type": "code",
   "execution_count": null,
   "metadata": {
    "id": "q7nG0Vnk79PY",
    "outputId": "f9e10e61-82f5-47c4-9e81-e35b8c04394d"
   },
   "outputs": [],
   "source": [
    "roc_auc_score(test_y,predict1)"
   ]
  },
  {
   "cell_type": "markdown",
   "metadata": {
    "id": "hgxjHDGv79PZ"
   },
   "source": [
    "## 4절. SVM"
   ]
  },
  {
   "cell_type": "markdown",
   "metadata": {
    "id": "D9CdZQAe79PZ"
   },
   "source": [
    "- 기계학습 분야 중 하나로 패턴인식, 자료 분석 등을 위한 지도학습 모델\n",
    "- 주어진 데이터 집합을 바탕으로 하여 새로운 데이터가 어떤 범주에 속할 것인지를 판단하는 **비확률적** 이진 선형 분류 모델을 생성.\n"
   ]
  },
  {
   "cell_type": "code",
   "execution_count": null,
   "metadata": {
    "id": "WJtzeo0S79Pa"
   },
   "outputs": [],
   "source": []
  },
  {
   "cell_type": "markdown",
   "metadata": {
    "id": "GeBm2Gj-79Pb"
   },
   "source": [
    "## 5절. 나이브 베이즈 분류\n",
    "- 조건부 독립을 가정하는 알고리즘\n",
    "- 클래스에 대한 사전 정보와 데이터로부터 추출된 정보를 결합하고, <br>베이즈 정리를 이용하여 어떤 데이터가 특정 클래스에 속하는지 분류하는 알고리즘"
   ]
  },
  {
   "cell_type": "code",
   "execution_count": null,
   "metadata": {
    "id": "io6cdNy779Pb"
   },
   "outputs": [],
   "source": [
    "from sklearn.naive_bayes import GaussianNB"
   ]
  },
  {
   "cell_type": "code",
   "execution_count": null,
   "metadata": {
    "id": "eZ8u9ouw79Pb"
   },
   "outputs": [],
   "source": [
    "gnb = GaussianNB()\n",
    "fitted = gnb.fit(train_x,train_y)\n",
    "y_pred = fitted.predict(test_x)"
   ]
  },
  {
   "cell_type": "code",
   "execution_count": null,
   "metadata": {
    "id": "r1zlgeUf79Pb",
    "outputId": "e2918b6e-c197-41fb-d76a-2a43e5a5592b"
   },
   "outputs": [],
   "source": [
    "confusion_matrix(test_y, y_pred)"
   ]
  },
  {
   "cell_type": "code",
   "execution_count": null,
   "metadata": {
    "id": "JbWnzCP379Pc",
    "outputId": "706fa29d-ab95-40c3-d10a-f17a0a9cbef6"
   },
   "outputs": [],
   "source": [
    "# roc_auc_score(true, predict)\n",
    "roc_auc_score(y_pred, test_y)"
   ]
  },
  {
   "cell_type": "markdown",
   "metadata": {
    "id": "exSHv8AE79Pc"
   },
   "source": [
    "## 6절. KNN"
   ]
  },
  {
   "cell_type": "markdown",
   "metadata": {
    "id": "ukO_SJ8S79Pc"
   },
   "source": [
    "- 지도학습\n",
    "- 어떤 범주로 나누어져 있는 데이터셋이 있을 때, 새로운 데이터가 추가된다면 <br>이를 어떤 범주로 분류할 것인지를 결정하는 알고리즘\n",
    "- 최근접 이웃 간의 거리를 계산할 때, 유클리디안, 멘하탄, 민코우스키 거리 등을 사용\n",
    "- k의 선택은 일반적으로 **훈련데이터 개수의 제곱근**으로 설정"
   ]
  },
  {
   "cell_type": "code",
   "execution_count": null,
   "metadata": {
    "id": "Eb82CKh679Pd"
   },
   "outputs": [],
   "source": [
    "from sklearn import neighbors"
   ]
  },
  {
   "cell_type": "code",
   "execution_count": null,
   "metadata": {
    "id": "t8zznlsY79Pd",
    "outputId": "01ee8362-a1d8-4f50-969f-afeb4b769c01"
   },
   "outputs": [],
   "source": [
    "clf = neighbors.KNeighborsClassifier(5)\n",
    "clf.fit(train_x,train_y)"
   ]
  },
  {
   "cell_type": "code",
   "execution_count": null,
   "metadata": {
    "id": "NFcU5ODJ79Pe"
   },
   "outputs": [],
   "source": [
    "y_pred = clf.predict(test_x)"
   ]
  },
  {
   "cell_type": "code",
   "execution_count": null,
   "metadata": {
    "id": "sQPTMAU_79Pe",
    "outputId": "7ca7845b-a9de-4092-8806-8373f1fb0e12"
   },
   "outputs": [],
   "source": [
    "confusion_matrix(test_y,y_pred)"
   ]
  },
  {
   "cell_type": "code",
   "execution_count": null,
   "metadata": {
    "id": "dP6mdHBU79Pe",
    "outputId": "60febdc0-b8c2-4bf1-ff09-453d3825f677",
    "scrolled": true
   },
   "outputs": [],
   "source": [
    "roc_auc_score(y_pred, test_y)"
   ]
  },
  {
   "cell_type": "code",
   "execution_count": null,
   "metadata": {
    "id": "MIxFdJ3m79Pg"
   },
   "outputs": [],
   "source": [
    "# 교재에서는 최적의 k가 19라네..?\n",
    "accuracy = []\n",
    "auc = []\n",
    "for i in range(2,20):\n",
    "    clf = neighbors.KNeighborsClassifier(i)\n",
    "    clf.fit(train_x,train_y)\n",
    "    y_pred = clf.predict(test_x)\n",
    "    cfm = confusion_matrix(y_pred,test_y)\n",
    "    accuracy.append(acc(cfm))\n",
    "    auc.append(roc_auc_score(y_pred, test_y))"
   ]
  },
  {
   "cell_type": "code",
   "execution_count": null,
   "metadata": {
    "id": "VE7GR_xj79Pg",
    "outputId": "5f56ebb5-f995-42a4-dcb8-b25dc7a87412"
   },
   "outputs": [],
   "source": [
    "print(\"acc 기준 최적의 k값 : {}, accuracy : {}\".format(accuracy.index(max(accuracy)),max(accuracy)))\n",
    "print(\"auc 기준 최적의 k값 : {}, accuracy : {}\".format(auc.index(max(auc)),max(auc)))"
   ]
  },
  {
   "cell_type": "markdown",
   "metadata": {
    "id": "2j-5pRoh79Ph"
   },
   "source": [
    "## 7절. 인공신경망"
   ]
  },
  {
   "cell_type": "code",
   "execution_count": null,
   "metadata": {
    "id": "UAPkknj179Ph"
   },
   "outputs": [],
   "source": []
  },
  {
   "cell_type": "markdown",
   "metadata": {
    "id": "PMAUuUyM79Ph"
   },
   "source": [
    "# 3장 군집분석\n",
    "## 1절. 군집분석"
   ]
  },
  {
   "cell_type": "code",
   "execution_count": null,
   "metadata": {
    "id": "mX95l02a79Ph"
   },
   "outputs": [],
   "source": []
  },
  {
   "cell_type": "markdown",
   "metadata": {
    "id": "OxtDk3v379Pn"
   },
   "source": [
    "## 2절. 계층적 군집분석"
   ]
  },
  {
   "cell_type": "code",
   "execution_count": null,
   "metadata": {
    "id": "IGzje-2r79Po"
   },
   "outputs": [],
   "source": []
  },
  {
   "cell_type": "markdown",
   "metadata": {
    "id": "4QctYtnF79Po"
   },
   "source": [
    "## 3절. 비계층적 군집분석"
   ]
  },
  {
   "cell_type": "code",
   "execution_count": null,
   "metadata": {
    "id": "w0SfmaoQ79Pp"
   },
   "outputs": [],
   "source": []
  },
  {
   "cell_type": "markdown",
   "metadata": {
    "id": "7JBuU1pU79Pp"
   },
   "source": [
    "## 4절. 혼합 분포 군집"
   ]
  },
  {
   "cell_type": "code",
   "execution_count": null,
   "metadata": {
    "id": "dEUSjU8C79Pp"
   },
   "outputs": [],
   "source": []
  },
  {
   "cell_type": "markdown",
   "metadata": {
    "id": "xI1f_j1x79Pp"
   },
   "source": [
    "# 4장 연관분석\n",
    "## 1절. 연관규칙\n",
    "연관규칙분석은 기업의 데이터베이스에서 상품의 구매, 서비스 등 일련의 거래 또는 사건들 간의 규칙을 발견하기 위해 적용. <br>\n",
    "측도로는 지지도, 신뢰도, 향상도가 있다."
   ]
  },
  {
   "cell_type": "code",
   "execution_count": null,
   "metadata": {
    "id": "9442q2eL79Pp",
    "outputId": "c25f0e2e-5280-4076-d152-3936c653d6ef"
   },
   "outputs": [],
   "source": [
    "#ex) 통신사의 고객 데이터를 입력하고 as함수로 데이터를 변형하고 inspect 함수로 데이터를 확인해보자.\n",
    "\n",
    "cnt = pd.DataFrame({'id':[1,2,3,4,5,6],\n",
    "                   'gender':[\"FEMALE\", \"MALE\", \"FEMALE\", \"FEMALE\", \"MALE\", \"FEMALE\"],\n",
    "                   'age':[\"age_20\", \"age_20\", \"age_40\", \"age_30\", \"age_40\", \"age_30\"],\n",
    "                   'rank':[\"Gold\", \"Silver\", \"Silver\", \"VIP\", \"Gold\", \"Gold\"],\n",
    "                   'mobile_app_use':[\"YES\", \"YES\", \"NO\", \"YES\", \"NO\", \"YES\"],\n",
    "                   're_order':[\"YES\", \"NO\", \"NO\", \"YES\", \"NO\", \"YES\"]\n",
    "                   })\n",
    "cnt"
   ]
  },
  {
   "cell_type": "code",
   "execution_count": null,
   "metadata": {
    "id": "Af6YzMxk79Pr",
    "outputId": "e7477ae6-2a02-47b3-ce8e-8b31fa9de110"
   },
   "outputs": [],
   "source": [
    "cnt.set_index('id')"
   ]
  },
  {
   "cell_type": "markdown",
   "metadata": {
    "id": "wDXE6pUK79Pt"
   },
   "source": [
    "inspect함수..."
   ]
  },
  {
   "cell_type": "code",
   "execution_count": null,
   "metadata": {
    "id": "DwmfRj5Q79Pu"
   },
   "outputs": [],
   "source": []
  }
 ],
 "metadata": {
  "colab": {
   "name": "PART 05) 정형 데이터마이닝.ipynb",
   "provenance": []
  },
  "kernelspec": {
   "display_name": "Python 3 (ipykernel)",
   "language": "python",
   "name": "python3"
  },
  "language_info": {
   "codemirror_mode": {
    "name": "ipython",
    "version": 3
   },
   "file_extension": ".py",
   "mimetype": "text/x-python",
   "name": "python",
   "nbconvert_exporter": "python",
   "pygments_lexer": "ipython3",
   "version": "3.8.11"
  }
 },
 "nbformat": 4,
 "nbformat_minor": 4
}
