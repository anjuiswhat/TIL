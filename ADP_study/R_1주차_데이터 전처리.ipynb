{
 "cells": [
  {
   "cell_type": "markdown",
   "id": "93a88c79-15c2-4312-a8cb-3af8d6f60a29",
   "metadata": {},
   "source": [
    "# PART 02. 데이터 전처리"
   ]
  },
  {
   "cell_type": "raw",
   "id": "ec9e8d41-ba94-4c4b-8940-41d010b75984",
   "metadata": {},
   "source": []
  },
  {
   "cell_type": "markdown",
   "id": "a3ab937f-b8e8-4b17-8fad-71c0fec93f6b",
   "metadata": {},
   "source": [
    "## 1장. 제어문"
   ]
  },
  {
   "cell_type": "raw",
   "id": "cfc72421-3917-4fa0-a0f6-41223d6e3b69",
   "metadata": {},
   "source": []
  },
  {
   "cell_type": "markdown",
   "id": "3d326f5b-2240-46e5-968a-5e5e04d3ca2d",
   "metadata": {},
   "source": [
    "### 1절. 조건문 ( if/else , ifelse() )"
   ]
  },
  {
   "cell_type": "markdown",
   "id": "86d00f79-3b68-4939-aa85-ae079571e2b3",
   "metadata": {},
   "source": [
    "#### [Problem]  if, else\n",
    "- 정수를 입력받아 해당 숫자가 짝수인지 홀수인지 판단하고, 만약 입력받은 숫자가 정수가 아닐 경우 “정수를 입력해주세요.”라는 문구를 출력하는 if문을 작성하라"
   ]
  },
  {
   "cell_type": "code",
   "execution_count": 3,
   "id": "4e0c0b1d-b115-40c3-a178-efec5cd21a24",
   "metadata": {},
   "outputs": [
    {
     "name": "stdout",
     "output_type": "stream",
     "text": [
      "[1] \"9 는 홀수입니다.\"\n"
     ]
    }
   ],
   "source": [
    "x <- 9\n",
    "\n",
    "if(x%%2==0){\n",
    "    print(paste(x, \"는 짝수입니다.\"))\n",
    "} else if (x%%2==1) {\n",
    "    print(paste(x, \"는 홀수입니다.\"))\n",
    "} else {\n",
    "    print (\"정수를 입력해주세요.\")\n",
    "}"
   ]
  },
  {
   "cell_type": "markdown",
   "id": "756f202d-973a-4a91-93dc-7c0a66169f85",
   "metadata": {},
   "source": [
    "#### [Problem]  ifelse\n",
    "- 정수를 입력받아 짝수이면 “짝수입니다.”, 홀수이면 “홀수입니다.”를 출력하고, 정수가 아닐 경우 “정수가 아닙니다.”를 출력하는 ifelse문을 작성하라"
   ]
  },
  {
   "cell_type": "code",
   "execution_count": 9,
   "id": "9e375248-a7f6-4880-8150-e78da8387864",
   "metadata": {},
   "outputs": [
    {
     "data": {
      "text/html": [
       "'정수가 아닙니다.'"
      ],
      "text/latex": [
       "'정수가 아닙니다.'"
      ],
      "text/markdown": [
       "'정수가 아닙니다.'"
      ],
      "text/plain": [
       "[1] \"정수가 아닙니다.\""
      ]
     },
     "metadata": {},
     "output_type": "display_data"
    }
   ],
   "source": [
    "x <- 3.9\n",
    "\n",
    "ifelse( x%%2==0, \"짝수입니다.\",\n",
    "       ifelse( x%%2==1, \"홀수입니다.\", \"정수가 아닙니다.\" )\n",
    "      )"
   ]
  },
  {
   "cell_type": "raw",
   "id": "ad80e897-292f-480a-8562-15a88ae0ba2f",
   "metadata": {},
   "source": []
  },
  {
   "cell_type": "markdown",
   "id": "3ac5c92a-4485-46c8-adae-db69708baa5f",
   "metadata": {},
   "source": [
    "### 2절. 반복문 ( for, while, repeat )"
   ]
  },
  {
   "cell_type": "markdown",
   "id": "ef00030f-a58a-4bb0-a77d-f831e9d94f99",
   "metadata": {},
   "source": [
    "#### [Problem]  for\n",
    "- 반복문을 사용하지 않은 경우 : print 함수를 4번 실행\n",
    "- 반복문을 사용한 경우 : for문을 1번 실행"
   ]
  },
  {
   "cell_type": "code",
   "execution_count": 5,
   "id": "6513d058-bef9-4776-a6f8-494820147e37",
   "metadata": {},
   "outputs": [
    {
     "name": "stdout",
     "output_type": "stream",
     "text": [
      "[1] \"The year is 2015\"\n",
      "[1] \"The year is 2016\"\n",
      "[1] \"The year is 2017\"\n",
      "[1] \"The year is 2018\"\n"
     ]
    }
   ],
   "source": [
    "print(paste(\"The year is\", 2015))\t# paste() : ()안에 나열된 문자열을 합쳐주는 함수\n",
    "print(paste(\"The year is\", 2016))\n",
    "print(paste(\"The year is\", 2017))\n",
    "print(paste(\"The year is\", 2018))"
   ]
  },
  {
   "cell_type": "code",
   "execution_count": 6,
   "id": "c044dd27-b924-4efe-9eb3-8ba623afe49a",
   "metadata": {},
   "outputs": [
    {
     "name": "stdout",
     "output_type": "stream",
     "text": [
      "[1] \"The year is 2015\"\n",
      "[1] \"The year is 2016\"\n",
      "[1] \"The year is 2017\"\n",
      "[1] \"The year is 2018\"\n"
     ]
    }
   ],
   "source": [
    "# year변수에 2015에서 2018까지의 값이 모두 대입될 때 까지 { }안의 구문이 반복\n",
    "for (year in c(2015:2018)) {\n",
    "    print(paste(\"The year is\", year))\n",
    "}"
   ]
  },
  {
   "cell_type": "markdown",
   "id": "a43d3390-c7bb-45cc-93c3-fcec2f02d40e",
   "metadata": {},
   "source": [
    "#### [Problem]  while\n",
    "\n",
    "- for문을 사용하여 해결했던 예제에 대해 while문을 이용해서 똑같은 결과값을 출력하는 코드를 작성하라"
   ]
  },
  {
   "cell_type": "code",
   "execution_count": 7,
   "id": "8ebc860e-431d-453a-8122-075091df6d1a",
   "metadata": {},
   "outputs": [
    {
     "name": "stdout",
     "output_type": "stream",
     "text": [
      "[1] \"The year is 2015\"\n",
      "[1] \"The year is 2016\"\n",
      "[1] \"The year is 2017\"\n",
      "[1] \"The year is 2018\"\n"
     ]
    }
   ],
   "source": [
    "# year변수의 값이 2018이하이면 { }안의 구문이 실행\n",
    "\n",
    "year <- 2015\n",
    "\n",
    "while (year<=2018) {\n",
    "    print(paste(\"The year is\", year))\n",
    "    year <- year+1}"
   ]
  },
  {
   "cell_type": "markdown",
   "id": "03839710-6fb3-4300-a167-fe9313262332",
   "metadata": {},
   "source": [
    "#### [Problem]  repeat\n",
    "- break, next 사용"
   ]
  },
  {
   "cell_type": "code",
   "execution_count": null,
   "id": "073a645b-cdba-4ece-82cb-e21eb401d30f",
   "metadata": {},
   "outputs": [],
   "source": [
    "## break 사용 예시\n",
    "# 1~10 까지의 숫자 중 짝수만 출력하기\n",
    "\n",
    "i<-0\n",
    "repeat{i<-i+2\n",
    "print(i)\n",
    "if(i>=10){\n",
    "    break   # i가 10이상이면 반복문 종료\n",
    "}\n",
    "}"
   ]
  },
  {
   "cell_type": "code",
   "execution_count": null,
   "id": "dd18fb39-02af-42a6-a8de-8363da825900",
   "metadata": {},
   "outputs": [],
   "source": [
    "## next 사용 예시\n",
    "# 1~10 까지의 숫자 중 홀수만 출력하기\n",
    "# 반복문 내의 next를 만나면 print(i)를 실행하지 않고 for문의 맨 처음으로 이동\n",
    "\n",
    "for(i in 1:10){ \n",
    "  if(i%%2==0){ next }\n",
    "  print(i)\n",
    "} "
   ]
  },
  {
   "cell_type": "raw",
   "id": "070a6602-1deb-426b-812d-1b2fa3542920",
   "metadata": {},
   "source": []
  },
  {
   "cell_type": "markdown",
   "id": "4cd8da55-ea1a-4e64-a278-6507c06c62bb",
   "metadata": {},
   "source": [
    "## 2장. 데이터 변환"
   ]
  },
  {
   "cell_type": "markdown",
   "id": "461ecc0a-bee6-4cdc-81ff-4859039d6a54",
   "metadata": {},
   "source": [
    "### 1절. 파생변수 생성"
   ]
  },
  {
   "cell_type": "markdown",
   "id": "9414ef79-c5e8-4e8f-9519-8d1bbb893087",
   "metadata": {},
   "source": [
    "#### [Problem]  $ : data.frame에서의 변수추가\n",
    "- R의 내장 데이터 iris에 행번호를 담고 있는 ‘ID’ 라는 변수를 새로 생성하라"
   ]
  },
  {
   "cell_type": "code",
   "execution_count": null,
   "id": "b1d1613b-3d5c-4cf0-8b36-bfc29e1fad9c",
   "metadata": {},
   "outputs": [],
   "source": [
    "# iris 데이터의 구조 확인 : 150개의 행과 5개의 변수를 가지고 있다.\n",
    "str(iris)\n",
    "\n",
    "# 150개 개체들의 고유번호에 해당하는 'ID' 변수를 새로 생성\n",
    "iris$ID<-1:150\n",
    "\n",
    "# iris 데이터의 상위 6개의 행을 출력한 결과, ID 변수가 추가된 것을 확인할 수 있다.\n",
    "head(iris)"
   ]
  },
  {
   "cell_type": "markdown",
   "id": "65c2bd63-5881-46b9-b4f4-eb1e3f9839e8",
   "metadata": {},
   "source": [
    "#### [Problem]  [ ] : 대괄호를 활용한 변수추가\n",
    "- $를 이용하여 생성했던 ID 변수의 값이 짝수이면 A, 홀수이면 B로 분류하는 새로운 변수(변수명 : Group)를 [ ]를 활용하여 생성하라."
   ]
  },
  {
   "cell_type": "code",
   "execution_count": null,
   "id": "fe0759b5-e0b6-4401-8248-118352472094",
   "metadata": {},
   "outputs": [],
   "source": [
    "# ifelse 함수를 이용하여 ID가 짝수이면 A, 홀수이면 B를 부여\n",
    "iris[\"Group\"]<-ifelse(iris$ID%%2==0,\"A\",\"B\")\n",
    "\n",
    "# iris 데이터의 상위 6개의 행을 출력 : Group 변수가 추가된 것을 확인할 수 있다.\n",
    "head(iris)"
   ]
  },
  {
   "cell_type": "markdown",
   "id": "ea585195-4656-4d20-bfa6-ce93ab431f36",
   "metadata": {},
   "source": [
    "#### [Problem]  transform\n",
    "- iris 데이터에서 Sepal.Length 변수와 Petal.Length 변수의 값을 더하여 ‘Sum.Length’ 라는 새로운 변수를 생성하라."
   ]
  },
  {
   "cell_type": "code",
   "execution_count": null,
   "id": "6de1dec5-c813-4f2f-8fb0-0e0895bb89b2",
   "metadata": {},
   "outputs": [],
   "source": [
    "transform(iris, Sum.Length=Sepal.Length + Petal.Length)"
   ]
  },
  {
   "cell_type": "markdown",
   "id": "e543830d-1b76-4170-a8f5-b9f63c8d2dc6",
   "metadata": {},
   "source": [
    "#### [Problem]  within\n",
    "- 학생의 id(s1, s2, s3, s4, s5, s6)를 담은 student_id 변수와 시험점수(55, 90, 85, 71, 63, 99)를 담은 score 변수로 구성된 데이터프레임을 생성\n",
    "- 그 후 시험점수가 90점 이상이면 수, 80점 이상 90점 미만이면 우, 70점 이상 80점 미만이면 미, 60점 이상 70점 미만이면 양, 60점 이하이면 가로 분류하는 ‘grade’ 라는 변수를 새롭게 생성"
   ]
  },
  {
   "cell_type": "code",
   "execution_count": null,
   "id": "fc28f596-b2f5-47eb-9981-c517ccbd4cf5",
   "metadata": {},
   "outputs": [],
   "source": [
    "# 학생id(student_id 변수)와 시험점수(score 변수)로 이루어진 데이터 프레임 생성\n",
    "student_id <- c(\"s1\", \"s2\", \"s3\", \"s4\", \"s5\", \"s6\")  # 학생id가 담긴 벡터\n",
    "score <- c(55, 90, 85, 71, 63, 99)                   # 시험점수가 담긴 벡터\n",
    "score_df <- data.frame(student_id, score)            # 데이터 프레임 생성\n",
    "score_df"
   ]
  },
  {
   "cell_type": "code",
   "execution_count": null,
   "id": "a890558c-adc3-4c65-892b-d3f076a41da4",
   "metadata": {},
   "outputs": [],
   "source": [
    "# 학생의 점수(score변수)를 수, 우, 미, 양, 가로 분류하여 'grade' 라는 새로운 변수 생성\n",
    "score_df <- within(score_df, {\n",
    "  grade = character(0)         # 새로운 변수의 데이터 타입 지정 (생략 가능)\n",
    "  grade[ score < 60 ] = \"가\"   # score가 60미만인 경우 grade에 “가” 입력\n",
    "  grade[ score >=60 & score < 70 ] = \"양\" \n",
    "  grade[ score >=70 & score < 80 ] = \"미\"\n",
    "  grade[ score >=80 & score < 90 ] = \"우\" \n",
    "  grade[ score >=90 ] = \"수\" \n",
    "  grade = factor(grade, level = c(\"수\", \"우\", \"미\", \"양\", \"가\")) \n",
    "  # grade변수를 \"수\", \"우\", \"미\", \"양\", \"가\"의 범주로 이루어진 팩터로 변환\n",
    "})\n",
    "\n",
    "# score_df 출력 : grade 변수가 추가된 것을 확인할 수 있다.\n",
    "score_df"
   ]
  },
  {
   "cell_type": "raw",
   "id": "877fe58d-2a4e-4de9-a42b-6132db49185f",
   "metadata": {},
   "source": []
  },
  {
   "cell_type": "markdown",
   "id": "32a61dad-23cf-43b0-933c-e9662a661bd5",
   "metadata": {},
   "source": [
    "### 2절. 변수 축소"
   ]
  },
  {
   "cell_type": "markdown",
   "id": "bcee0954-3e3b-479b-8ac6-bd02267f838d",
   "metadata": {},
   "source": [
    "#### [Problem]  주성분분석\n",
    "- R에 내장된 USArrests 데이터는 1973년 미국 50개주 100,000명의 인구 당 체포된 세 가지 강력범죄수(assault, murder, rape)와 각 주마다 도시에 거주하는 인구의 비율(%)로 구성되어있다.\n",
    "- 주성분 분석을 수행하여 해당 데이터의 변수들을 가장 잘 요약하는 주성분을 구하고 해석하라."
   ]
  },
  {
   "cell_type": "code",
   "execution_count": 1,
   "id": "cd7e7f1f-a36d-4bf5-adaa-da918f57744b",
   "metadata": {},
   "outputs": [
    {
     "data": {
      "text/html": [
       "<table>\n",
       "<thead><tr><th></th><th scope=col>Murder</th><th scope=col>Assault</th><th scope=col>UrbanPop</th><th scope=col>Rape</th></tr></thead>\n",
       "<tbody>\n",
       "\t<tr><th scope=row>Alabama</th><td>13.2</td><td>236 </td><td>58  </td><td>21.2</td></tr>\n",
       "\t<tr><th scope=row>Alaska</th><td>10.0</td><td>263 </td><td>48  </td><td>44.5</td></tr>\n",
       "\t<tr><th scope=row>Arizona</th><td> 8.1</td><td>294 </td><td>80  </td><td>31.0</td></tr>\n",
       "\t<tr><th scope=row>Arkansas</th><td> 8.8</td><td>190 </td><td>50  </td><td>19.5</td></tr>\n",
       "\t<tr><th scope=row>California</th><td> 9.0</td><td>276 </td><td>91  </td><td>40.6</td></tr>\n",
       "\t<tr><th scope=row>Colorado</th><td> 7.9</td><td>204 </td><td>78  </td><td>38.7</td></tr>\n",
       "</tbody>\n",
       "</table>\n"
      ],
      "text/latex": [
       "\\begin{tabular}{r|llll}\n",
       "  & Murder & Assault & UrbanPop & Rape\\\\\n",
       "\\hline\n",
       "\tAlabama & 13.2 & 236  & 58   & 21.2\\\\\n",
       "\tAlaska & 10.0 & 263  & 48   & 44.5\\\\\n",
       "\tArizona &  8.1 & 294  & 80   & 31.0\\\\\n",
       "\tArkansas &  8.8 & 190  & 50   & 19.5\\\\\n",
       "\tCalifornia &  9.0 & 276  & 91   & 40.6\\\\\n",
       "\tColorado &  7.9 & 204  & 78   & 38.7\\\\\n",
       "\\end{tabular}\n"
      ],
      "text/markdown": [
       "\n",
       "| <!--/--> | Murder | Assault | UrbanPop | Rape |\n",
       "|---|---|---|---|---|\n",
       "| Alabama | 13.2 | 236  | 58   | 21.2 |\n",
       "| Alaska | 10.0 | 263  | 48   | 44.5 |\n",
       "| Arizona |  8.1 | 294  | 80   | 31.0 |\n",
       "| Arkansas |  8.8 | 190  | 50   | 19.5 |\n",
       "| California |  9.0 | 276  | 91   | 40.6 |\n",
       "| Colorado |  7.9 | 204  | 78   | 38.7 |\n",
       "\n"
      ],
      "text/plain": [
       "           Murder Assault UrbanPop Rape\n",
       "Alabama    13.2   236     58       21.2\n",
       "Alaska     10.0   263     48       44.5\n",
       "Arizona     8.1   294     80       31.0\n",
       "Arkansas    8.8   190     50       19.5\n",
       "California  9.0   276     91       40.6\n",
       "Colorado    7.9   204     78       38.7"
      ]
     },
     "metadata": {},
     "output_type": "display_data"
    }
   ],
   "source": [
    "library(datasets)\n",
    "data(USArrests)\n",
    "head(USArrests)"
   ]
  },
  {
   "cell_type": "code",
   "execution_count": 2,
   "id": "926e59fc-3fc0-43ae-ac9f-3ed2ad01e87c",
   "metadata": {},
   "outputs": [
    {
     "data": {
      "image/png": "[encoded data removed]",
      "text/plain": [
       "plot without title"
      ]
     },
     "metadata": {},
     "output_type": "display_data"
    }
   ],
   "source": [
    "#산점도를 통해 변수간 상관관계 파악\n",
    "# pairs() : 둘 이상의 변수에 대해 모든 가능한 산점도를 그려줌\n",
    "pairs(USArrests, panel = panel.smooth, main = \"USArrests data\")"
   ]
  },
  {
   "cell_type": "code",
   "execution_count": 3,
   "id": "d18ac474-22bd-4cf8-9ab7-b1966aa79653",
   "metadata": {},
   "outputs": [
    {
     "data": {
      "text/plain": [
       "Importance of components:\n",
       "                          Comp.1    Comp.2    Comp.3     Comp.4\n",
       "Standard deviation     1.5748783 0.9948694 0.5971291 0.41644938\n",
       "Proportion of Variance 0.6200604 0.2474413 0.0891408 0.04335752\n",
       "Cumulative Proportion  0.6200604 0.8675017 0.9566425 1.00000000"
      ]
     },
     "metadata": {},
     "output_type": "display_data"
    }
   ],
   "source": [
    "# ② 주성분분석 수행\n",
    "US.prin<-princomp(USArrests, cor=TRUE)\n",
    "summary(US.prin)"
   ]
  },
  {
   "cell_type": "code",
   "execution_count": 4,
   "id": "56cb57dd-1427-43d6-b002-b2f4330e9122",
   "metadata": {},
   "outputs": [
    {
     "data": {
      "image/png": "[encoded data removed]",
      "text/plain": [
       "Plot with title \"US.prin\""
      ]
     },
     "metadata": {},
     "output_type": "display_data"
    }
   ],
   "source": [
    "# screeplot 그리기\n",
    "# 주성분분석의 결과를 plot함수 인자값으로 지정하면 scree plot이 생성된다.\n",
    "plot(US.prin,type='l')"
   ]
  },
  {
   "cell_type": "code",
   "execution_count": 5,
   "id": "d2e65392-3ad9-4abb-9783-0b5e448dcd70",
   "metadata": {},
   "outputs": [
    {
     "data": {
      "text/plain": [
       "\n",
       "Loadings:\n",
       "         Comp.1 Comp.2 Comp.3 Comp.4\n",
       "Murder    0.536  0.418  0.341  0.649\n",
       "Assault   0.583  0.188  0.268 -0.743\n",
       "UrbanPop  0.278 -0.873  0.378  0.134\n",
       "Rape      0.543 -0.167 -0.818       \n",
       "\n",
       "               Comp.1 Comp.2 Comp.3 Comp.4\n",
       "SS loadings      1.00   1.00   1.00   1.00\n",
       "Proportion Var   0.25   0.25   0.25   0.25\n",
       "Cumulative Var   0.25   0.50   0.75   1.00"
      ]
     },
     "metadata": {},
     "output_type": "display_data"
    }
   ],
   "source": [
    "# ③ Loading\n",
    "US.prin$loadings"
   ]
  },
  {
   "cell_type": "code",
   "execution_count": 6,
   "id": "ae8154d9-e8d9-4460-ac8e-0dcf8c0d68f8",
   "metadata": {},
   "outputs": [
    {
     "data": {
      "text/html": [
       "<table>\n",
       "<thead><tr><th></th><th scope=col>Comp.1</th><th scope=col>Comp.2</th><th scope=col>Comp.3</th><th scope=col>Comp.4</th></tr></thead>\n",
       "<tbody>\n",
       "\t<tr><th scope=row>Alabama</th><td> 0.98556588 </td><td> 1.13339238 </td><td> 0.44426879 </td><td> 0.156267145</td></tr>\n",
       "\t<tr><th scope=row>Alaska</th><td> 1.95013775 </td><td> 1.07321326 </td><td>-2.04000333 </td><td>-0.438583440</td></tr>\n",
       "\t<tr><th scope=row>Arizona</th><td> 1.76316354 </td><td>-0.74595678 </td><td>-0.05478082 </td><td>-0.834652924</td></tr>\n",
       "\t<tr><th scope=row>Arkansas</th><td>-0.14142029 </td><td> 1.11979678 </td><td>-0.11457369 </td><td>-0.182810896</td></tr>\n",
       "\t<tr><th scope=row>California</th><td> 2.52398013 </td><td>-1.54293399 </td><td>-0.59855680 </td><td>-0.341996478</td></tr>\n",
       "\t<tr><th scope=row>Colorado</th><td> 1.51456286 </td><td>-0.98755509 </td><td>-1.09500699 </td><td> 0.001464887</td></tr>\n",
       "\t<tr><th scope=row>Connecticut</th><td>-1.35864746 </td><td>-1.08892789 </td><td> 0.64325757 </td><td>-0.118469414</td></tr>\n",
       "\t<tr><th scope=row>Delaware</th><td> 0.04770931 </td><td>-0.32535892 </td><td> 0.71863294 </td><td>-0.881977637</td></tr>\n",
       "\t<tr><th scope=row>Florida</th><td> 3.01304227 </td><td> 0.03922851 </td><td> 0.57682949 </td><td>-0.096284752</td></tr>\n",
       "\t<tr><th scope=row>Georgia</th><td> 1.63928304 </td><td> 1.27894240 </td><td> 0.34246008 </td><td> 1.076796812</td></tr>\n",
       "\t<tr><th scope=row>Hawaii</th><td>-0.91265715 </td><td>-1.57046001 </td><td>-0.05078189 </td><td> 0.902806864</td></tr>\n",
       "\t<tr><th scope=row>Idaho</th><td>-1.63979985 </td><td> 0.21097292 </td><td>-0.25980134 </td><td>-0.499104101</td></tr>\n",
       "\t<tr><th scope=row>Illinois</th><td> 1.37891072 </td><td>-0.68184119 </td><td> 0.67749564 </td><td>-0.122021292</td></tr>\n",
       "\t<tr><th scope=row>Indiana</th><td>-0.50546136 </td><td>-0.15156254 </td><td>-0.22805484 </td><td> 0.424665700</td></tr>\n",
       "\t<tr><th scope=row>Iowa</th><td>-2.25364607 </td><td>-0.10405407 </td><td>-0.16456432 </td><td> 0.017555916</td></tr>\n",
       "\t<tr><th scope=row>Kansas</th><td>-0.79688112 </td><td>-0.27016470 </td><td>-0.02555331 </td><td> 0.206496428</td></tr>\n",
       "\t<tr><th scope=row>Kentucky</th><td>-0.75085907 </td><td> 0.95844029 </td><td> 0.02836942 </td><td> 0.670556671</td></tr>\n",
       "\t<tr><th scope=row>Louisiana</th><td> 1.56481798 </td><td> 0.87105466 </td><td> 0.78348036 </td><td> 0.454728038</td></tr>\n",
       "\t<tr><th scope=row>Maine</th><td>-2.39682949 </td><td> 0.37639158 </td><td> 0.06568239 </td><td>-0.330459817</td></tr>\n",
       "\t<tr><th scope=row>Maryland</th><td> 1.76336939 </td><td> 0.42765519 </td><td> 0.15725013 </td><td>-0.559069521</td></tr>\n",
       "\t<tr><th scope=row>Massachusetts</th><td>-0.48616629 </td><td>-1.47449650 </td><td> 0.60949748 </td><td>-0.179598963</td></tr>\n",
       "\t<tr><th scope=row>Michigan</th><td> 2.10844115 </td><td>-0.15539682 </td><td>-0.38486858 </td><td> 0.102372019</td></tr>\n",
       "\t<tr><th scope=row>Minnesota</th><td>-1.69268181 </td><td>-0.63226125 </td><td>-0.15307043 </td><td> 0.067316885</td></tr>\n",
       "\t<tr><th scope=row>Mississippi</th><td> 0.99649446 </td><td> 2.39379599 </td><td> 0.74080840 </td><td> 0.215508013</td></tr>\n",
       "\t<tr><th scope=row>Missouri</th><td> 0.69678733 </td><td>-0.26335479 </td><td>-0.37744383 </td><td> 0.225824461</td></tr>\n",
       "\t<tr><th scope=row>Montana</th><td>-1.18545191 </td><td> 0.53687437 </td><td>-0.24688932 </td><td> 0.123742227</td></tr>\n",
       "\t<tr><th scope=row>Nebraska</th><td>-1.26563654 </td><td>-0.19395373 </td><td>-0.17557391 </td><td> 0.015892888</td></tr>\n",
       "\t<tr><th scope=row>Nevada</th><td> 2.87439454 </td><td>-0.77560020 </td><td>-1.16338049 </td><td> 0.314515476</td></tr>\n",
       "\t<tr><th scope=row>New Hampshire</th><td>-2.38391541 </td><td>-0.01808229 </td><td>-0.03685539 </td><td>-0.033137338</td></tr>\n",
       "\t<tr><th scope=row>New Jersey</th><td> 0.18156611 </td><td>-1.44950571 </td><td> 0.76445355 </td><td> 0.243382700</td></tr>\n",
       "\t<tr><th scope=row>New Mexico</th><td> 1.98002375 </td><td> 0.14284878 </td><td>-0.18369218 </td><td>-0.339533597</td></tr>\n",
       "\t<tr><th scope=row>New York</th><td> 1.68257738 </td><td>-0.82318414 </td><td> 0.64307509 </td><td>-0.013484369</td></tr>\n",
       "\t<tr><th scope=row>North Carolina</th><td> 1.12337861 </td><td> 2.22800338 </td><td> 0.86357179 </td><td>-0.954381667</td></tr>\n",
       "\t<tr><th scope=row>North Dakota</th><td>-2.99222562 </td><td> 0.59911882 </td><td>-0.30127728 </td><td>-0.253987327</td></tr>\n",
       "\t<tr><th scope=row>Ohio</th><td>-0.22596542 </td><td>-0.74223824 </td><td> 0.03113912 </td><td> 0.473915911</td></tr>\n",
       "\t<tr><th scope=row>Oklahoma</th><td>-0.31178286 </td><td>-0.28785421 </td><td> 0.01530979 </td><td> 0.010332321</td></tr>\n",
       "\t<tr><th scope=row>Oregon</th><td> 0.05912208 </td><td>-0.54141145 </td><td>-0.93983298 </td><td>-0.237780688</td></tr>\n",
       "\t<tr><th scope=row>Pennsylvania</th><td>-0.88841582 </td><td>-0.57110035 </td><td> 0.40062871 </td><td> 0.359061124</td></tr>\n",
       "\t<tr><th scope=row>Rhode Island</th><td>-0.86377206 </td><td>-1.49197842 </td><td> 1.36994570 </td><td>-0.613569430</td></tr>\n",
       "\t<tr><th scope=row>South Carolina</th><td> 1.32072380 </td><td> 1.93340466 </td><td> 0.30053779 </td><td>-0.131466685</td></tr>\n",
       "\t<tr><th scope=row>South Dakota</th><td>-1.98777484 </td><td> 0.82334324 </td><td>-0.38929333 </td><td>-0.109571764</td></tr>\n",
       "\t<tr><th scope=row>Tennessee</th><td> 0.99974168 </td><td> 0.86025130 </td><td>-0.18808295 </td><td> 0.652864291</td></tr>\n",
       "\t<tr><th scope=row>Texas</th><td> 1.35513821 </td><td>-0.41248082 </td><td> 0.49206886 </td><td> 0.643195491</td></tr>\n",
       "\t<tr><th scope=row>Utah</th><td>-0.55056526 </td><td>-1.47150461 </td><td>-0.29372804 </td><td>-0.082314047</td></tr>\n",
       "\t<tr><th scope=row>Vermont</th><td>-2.80141174 </td><td> 1.40228806 </td><td>-0.84126309 </td><td>-0.144889914</td></tr>\n",
       "\t<tr><th scope=row>Virginia</th><td>-0.09633491 </td><td> 0.19973529 </td><td>-0.01171254 </td><td> 0.211370813</td></tr>\n",
       "\t<tr><th scope=row>Washington</th><td>-0.21690338 </td><td>-0.97012418 </td><td>-0.62487094 </td><td>-0.220847793</td></tr>\n",
       "\t<tr><th scope=row>West Virginia</th><td>-2.10858541 </td><td> 1.42484670 </td><td>-0.10477467 </td><td> 0.131908831</td></tr>\n",
       "\t<tr><th scope=row>Wisconsin</th><td>-2.07971417 </td><td>-0.61126862 </td><td> 0.13886500 </td><td> 0.184103743</td></tr>\n",
       "\t<tr><th scope=row>Wyoming</th><td>-0.62942666 </td><td> 0.32101297 </td><td> 0.24065923 </td><td>-0.166651801</td></tr>\n",
       "</tbody>\n",
       "</table>\n"
      ],
      "text/latex": [
       "\\begin{tabular}{r|llll}\n",
       "  & Comp.1 & Comp.2 & Comp.3 & Comp.4\\\\\n",
       "\\hline\n",
       "\tAlabama &  0.98556588  &  1.13339238  &  0.44426879  &  0.156267145\\\\\n",
       "\tAlaska &  1.95013775  &  1.07321326  & -2.04000333  & -0.438583440\\\\\n",
       "\tArizona &  1.76316354  & -0.74595678  & -0.05478082  & -0.834652924\\\\\n",
       "\tArkansas & -0.14142029  &  1.11979678  & -0.11457369  & -0.182810896\\\\\n",
       "\tCalifornia &  2.52398013  & -1.54293399  & -0.59855680  & -0.341996478\\\\\n",
       "\tColorado &  1.51456286  & -0.98755509  & -1.09500699  &  0.001464887\\\\\n",
       "\tConnecticut & -1.35864746  & -1.08892789  &  0.64325757  & -0.118469414\\\\\n",
       "\tDelaware &  0.04770931  & -0.32535892  &  0.71863294  & -0.881977637\\\\\n",
       "\tFlorida &  3.01304227  &  0.03922851  &  0.57682949  & -0.096284752\\\\\n",
       "\tGeorgia &  1.63928304  &  1.27894240  &  0.34246008  &  1.076796812\\\\\n",
       "\tHawaii & -0.91265715  & -1.57046001  & -0.05078189  &  0.902806864\\\\\n",
       "\tIdaho & -1.63979985  &  0.21097292  & -0.25980134  & -0.499104101\\\\\n",
       "\tIllinois &  1.37891072  & -0.68184119  &  0.67749564  & -0.122021292\\\\\n",
       "\tIndiana & -0.50546136  & -0.15156254  & -0.22805484  &  0.424665700\\\\\n",
       "\tIowa & -2.25364607  & -0.10405407  & -0.16456432  &  0.017555916\\\\\n",
       "\tKansas & -0.79688112  & -0.27016470  & -0.02555331  &  0.206496428\\\\\n",
       "\tKentucky & -0.75085907  &  0.95844029  &  0.02836942  &  0.670556671\\\\\n",
       "\tLouisiana &  1.56481798  &  0.87105466  &  0.78348036  &  0.454728038\\\\\n",
       "\tMaine & -2.39682949  &  0.37639158  &  0.06568239  & -0.330459817\\\\\n",
       "\tMaryland &  1.76336939  &  0.42765519  &  0.15725013  & -0.559069521\\\\\n",
       "\tMassachusetts & -0.48616629  & -1.47449650  &  0.60949748  & -0.179598963\\\\\n",
       "\tMichigan &  2.10844115  & -0.15539682  & -0.38486858  &  0.102372019\\\\\n",
       "\tMinnesota & -1.69268181  & -0.63226125  & -0.15307043  &  0.067316885\\\\\n",
       "\tMississippi &  0.99649446  &  2.39379599  &  0.74080840  &  0.215508013\\\\\n",
       "\tMissouri &  0.69678733  & -0.26335479  & -0.37744383  &  0.225824461\\\\\n",
       "\tMontana & -1.18545191  &  0.53687437  & -0.24688932  &  0.123742227\\\\\n",
       "\tNebraska & -1.26563654  & -0.19395373  & -0.17557391  &  0.015892888\\\\\n",
       "\tNevada &  2.87439454  & -0.77560020  & -1.16338049  &  0.314515476\\\\\n",
       "\tNew Hampshire & -2.38391541  & -0.01808229  & -0.03685539  & -0.033137338\\\\\n",
       "\tNew Jersey &  0.18156611  & -1.44950571  &  0.76445355  &  0.243382700\\\\\n",
       "\tNew Mexico &  1.98002375  &  0.14284878  & -0.18369218  & -0.339533597\\\\\n",
       "\tNew York &  1.68257738  & -0.82318414  &  0.64307509  & -0.013484369\\\\\n",
       "\tNorth Carolina &  1.12337861  &  2.22800338  &  0.86357179  & -0.954381667\\\\\n",
       "\tNorth Dakota & -2.99222562  &  0.59911882  & -0.30127728  & -0.253987327\\\\\n",
       "\tOhio & -0.22596542  & -0.74223824  &  0.03113912  &  0.473915911\\\\\n",
       "\tOklahoma & -0.31178286  & -0.28785421  &  0.01530979  &  0.010332321\\\\\n",
       "\tOregon &  0.05912208  & -0.54141145  & -0.93983298  & -0.237780688\\\\\n",
       "\tPennsylvania & -0.88841582  & -0.57110035  &  0.40062871  &  0.359061124\\\\\n",
       "\tRhode Island & -0.86377206  & -1.49197842  &  1.36994570  & -0.613569430\\\\\n",
       "\tSouth Carolina &  1.32072380  &  1.93340466  &  0.30053779  & -0.131466685\\\\\n",
       "\tSouth Dakota & -1.98777484  &  0.82334324  & -0.38929333  & -0.109571764\\\\\n",
       "\tTennessee &  0.99974168  &  0.86025130  & -0.18808295  &  0.652864291\\\\\n",
       "\tTexas &  1.35513821  & -0.41248082  &  0.49206886  &  0.643195491\\\\\n",
       "\tUtah & -0.55056526  & -1.47150461  & -0.29372804  & -0.082314047\\\\\n",
       "\tVermont & -2.80141174  &  1.40228806  & -0.84126309  & -0.144889914\\\\\n",
       "\tVirginia & -0.09633491  &  0.19973529  & -0.01171254  &  0.211370813\\\\\n",
       "\tWashington & -0.21690338  & -0.97012418  & -0.62487094  & -0.220847793\\\\\n",
       "\tWest Virginia & -2.10858541  &  1.42484670  & -0.10477467  &  0.131908831\\\\\n",
       "\tWisconsin & -2.07971417  & -0.61126862  &  0.13886500  &  0.184103743\\\\\n",
       "\tWyoming & -0.62942666  &  0.32101297  &  0.24065923  & -0.166651801\\\\\n",
       "\\end{tabular}\n"
      ],
      "text/markdown": [
       "\n",
       "| <!--/--> | Comp.1 | Comp.2 | Comp.3 | Comp.4 |\n",
       "|---|---|---|---|---|\n",
       "| Alabama |  0.98556588  |  1.13339238  |  0.44426879  |  0.156267145 |\n",
       "| Alaska |  1.95013775  |  1.07321326  | -2.04000333  | -0.438583440 |\n",
       "| Arizona |  1.76316354  | -0.74595678  | -0.05478082  | -0.834652924 |\n",
       "| Arkansas | -0.14142029  |  1.11979678  | -0.11457369  | -0.182810896 |\n",
       "| California |  2.52398013  | -1.54293399  | -0.59855680  | -0.341996478 |\n",
       "| Colorado |  1.51456286  | -0.98755509  | -1.09500699  |  0.001464887 |\n",
       "| Connecticut | -1.35864746  | -1.08892789  |  0.64325757  | -0.118469414 |\n",
       "| Delaware |  0.04770931  | -0.32535892  |  0.71863294  | -0.881977637 |\n",
       "| Florida |  3.01304227  |  0.03922851  |  0.57682949  | -0.096284752 |\n",
       "| Georgia |  1.63928304  |  1.27894240  |  0.34246008  |  1.076796812 |\n",
       "| Hawaii | -0.91265715  | -1.57046001  | -0.05078189  |  0.902806864 |\n",
       "| Idaho | -1.63979985  |  0.21097292  | -0.25980134  | -0.499104101 |\n",
       "| Illinois |  1.37891072  | -0.68184119  |  0.67749564  | -0.122021292 |\n",
       "| Indiana | -0.50546136  | -0.15156254  | -0.22805484  |  0.424665700 |\n",
       "| Iowa | -2.25364607  | -0.10405407  | -0.16456432  |  0.017555916 |\n",
       "| Kansas | -0.79688112  | -0.27016470  | -0.02555331  |  0.206496428 |\n",
       "| Kentucky | -0.75085907  |  0.95844029  |  0.02836942  |  0.670556671 |\n",
       "| Louisiana |  1.56481798  |  0.87105466  |  0.78348036  |  0.454728038 |\n",
       "| Maine | -2.39682949  |  0.37639158  |  0.06568239  | -0.330459817 |\n",
       "| Maryland |  1.76336939  |  0.42765519  |  0.15725013  | -0.559069521 |\n",
       "| Massachusetts | -0.48616629  | -1.47449650  |  0.60949748  | -0.179598963 |\n",
       "| Michigan |  2.10844115  | -0.15539682  | -0.38486858  |  0.102372019 |\n",
       "| Minnesota | -1.69268181  | -0.63226125  | -0.15307043  |  0.067316885 |\n",
       "| Mississippi |  0.99649446  |  2.39379599  |  0.74080840  |  0.215508013 |\n",
       "| Missouri |  0.69678733  | -0.26335479  | -0.37744383  |  0.225824461 |\n",
       "| Montana | -1.18545191  |  0.53687437  | -0.24688932  |  0.123742227 |\n",
       "| Nebraska | -1.26563654  | -0.19395373  | -0.17557391  |  0.015892888 |\n",
       "| Nevada |  2.87439454  | -0.77560020  | -1.16338049  |  0.314515476 |\n",
       "| New Hampshire | -2.38391541  | -0.01808229  | -0.03685539  | -0.033137338 |\n",
       "| New Jersey |  0.18156611  | -1.44950571  |  0.76445355  |  0.243382700 |\n",
       "| New Mexico |  1.98002375  |  0.14284878  | -0.18369218  | -0.339533597 |\n",
       "| New York |  1.68257738  | -0.82318414  |  0.64307509  | -0.013484369 |\n",
       "| North Carolina |  1.12337861  |  2.22800338  |  0.86357179  | -0.954381667 |\n",
       "| North Dakota | -2.99222562  |  0.59911882  | -0.30127728  | -0.253987327 |\n",
       "| Ohio | -0.22596542  | -0.74223824  |  0.03113912  |  0.473915911 |\n",
       "| Oklahoma | -0.31178286  | -0.28785421  |  0.01530979  |  0.010332321 |\n",
       "| Oregon |  0.05912208  | -0.54141145  | -0.93983298  | -0.237780688 |\n",
       "| Pennsylvania | -0.88841582  | -0.57110035  |  0.40062871  |  0.359061124 |\n",
       "| Rhode Island | -0.86377206  | -1.49197842  |  1.36994570  | -0.613569430 |\n",
       "| South Carolina |  1.32072380  |  1.93340466  |  0.30053779  | -0.131466685 |\n",
       "| South Dakota | -1.98777484  |  0.82334324  | -0.38929333  | -0.109571764 |\n",
       "| Tennessee |  0.99974168  |  0.86025130  | -0.18808295  |  0.652864291 |\n",
       "| Texas |  1.35513821  | -0.41248082  |  0.49206886  |  0.643195491 |\n",
       "| Utah | -0.55056526  | -1.47150461  | -0.29372804  | -0.082314047 |\n",
       "| Vermont | -2.80141174  |  1.40228806  | -0.84126309  | -0.144889914 |\n",
       "| Virginia | -0.09633491  |  0.19973529  | -0.01171254  |  0.211370813 |\n",
       "| Washington | -0.21690338  | -0.97012418  | -0.62487094  | -0.220847793 |\n",
       "| West Virginia | -2.10858541  |  1.42484670  | -0.10477467  |  0.131908831 |\n",
       "| Wisconsin | -2.07971417  | -0.61126862  |  0.13886500  |  0.184103743 |\n",
       "| Wyoming | -0.62942666  |  0.32101297  |  0.24065923  | -0.166651801 |\n",
       "\n"
      ],
      "text/plain": [
       "               Comp.1      Comp.2      Comp.3      Comp.4      \n",
       "Alabama         0.98556588  1.13339238  0.44426879  0.156267145\n",
       "Alaska          1.95013775  1.07321326 -2.04000333 -0.438583440\n",
       "Arizona         1.76316354 -0.74595678 -0.05478082 -0.834652924\n",
       "Arkansas       -0.14142029  1.11979678 -0.11457369 -0.182810896\n",
       "California      2.52398013 -1.54293399 -0.59855680 -0.341996478\n",
       "Colorado        1.51456286 -0.98755509 -1.09500699  0.001464887\n",
       "Connecticut    -1.35864746 -1.08892789  0.64325757 -0.118469414\n",
       "Delaware        0.04770931 -0.32535892  0.71863294 -0.881977637\n",
       "Florida         3.01304227  0.03922851  0.57682949 -0.096284752\n",
       "Georgia         1.63928304  1.27894240  0.34246008  1.076796812\n",
       "Hawaii         -0.91265715 -1.57046001 -0.05078189  0.902806864\n",
       "Idaho          -1.63979985  0.21097292 -0.25980134 -0.499104101\n",
       "Illinois        1.37891072 -0.68184119  0.67749564 -0.122021292\n",
       "Indiana        -0.50546136 -0.15156254 -0.22805484  0.424665700\n",
       "Iowa           -2.25364607 -0.10405407 -0.16456432  0.017555916\n",
       "Kansas         -0.79688112 -0.27016470 -0.02555331  0.206496428\n",
       "Kentucky       -0.75085907  0.95844029  0.02836942  0.670556671\n",
       "Louisiana       1.56481798  0.87105466  0.78348036  0.454728038\n",
       "Maine          -2.39682949  0.37639158  0.06568239 -0.330459817\n",
       "Maryland        1.76336939  0.42765519  0.15725013 -0.559069521\n",
       "Massachusetts  -0.48616629 -1.47449650  0.60949748 -0.179598963\n",
       "Michigan        2.10844115 -0.15539682 -0.38486858  0.102372019\n",
       "Minnesota      -1.69268181 -0.63226125 -0.15307043  0.067316885\n",
       "Mississippi     0.99649446  2.39379599  0.74080840  0.215508013\n",
       "Missouri        0.69678733 -0.26335479 -0.37744383  0.225824461\n",
       "Montana        -1.18545191  0.53687437 -0.24688932  0.123742227\n",
       "Nebraska       -1.26563654 -0.19395373 -0.17557391  0.015892888\n",
       "Nevada          2.87439454 -0.77560020 -1.16338049  0.314515476\n",
       "New Hampshire  -2.38391541 -0.01808229 -0.03685539 -0.033137338\n",
       "New Jersey      0.18156611 -1.44950571  0.76445355  0.243382700\n",
       "New Mexico      1.98002375  0.14284878 -0.18369218 -0.339533597\n",
       "New York        1.68257738 -0.82318414  0.64307509 -0.013484369\n",
       "North Carolina  1.12337861  2.22800338  0.86357179 -0.954381667\n",
       "North Dakota   -2.99222562  0.59911882 -0.30127728 -0.253987327\n",
       "Ohio           -0.22596542 -0.74223824  0.03113912  0.473915911\n",
       "Oklahoma       -0.31178286 -0.28785421  0.01530979  0.010332321\n",
       "Oregon          0.05912208 -0.54141145 -0.93983298 -0.237780688\n",
       "Pennsylvania   -0.88841582 -0.57110035  0.40062871  0.359061124\n",
       "Rhode Island   -0.86377206 -1.49197842  1.36994570 -0.613569430\n",
       "South Carolina  1.32072380  1.93340466  0.30053779 -0.131466685\n",
       "South Dakota   -1.98777484  0.82334324 -0.38929333 -0.109571764\n",
       "Tennessee       0.99974168  0.86025130 -0.18808295  0.652864291\n",
       "Texas           1.35513821 -0.41248082  0.49206886  0.643195491\n",
       "Utah           -0.55056526 -1.47150461 -0.29372804 -0.082314047\n",
       "Vermont        -2.80141174  1.40228806 -0.84126309 -0.144889914\n",
       "Virginia       -0.09633491  0.19973529 -0.01171254  0.211370813\n",
       "Washington     -0.21690338 -0.97012418 -0.62487094 -0.220847793\n",
       "West Virginia  -2.10858541  1.42484670 -0.10477467  0.131908831\n",
       "Wisconsin      -2.07971417 -0.61126862  0.13886500  0.184103743\n",
       "Wyoming        -0.62942666  0.32101297  0.24065923 -0.166651801"
      ]
     },
     "metadata": {},
     "output_type": "display_data"
    }
   ],
   "source": [
    "# ④ Scores\n",
    "US.prin$scores"
   ]
  },
  {
   "cell_type": "code",
   "execution_count": 7,
   "id": "402a469d-4ed6-4519-a987-eac3ebb5fcb6",
   "metadata": {},
   "outputs": [
    {
     "data": {
      "image/png": "[encoded data removed]",
      "text/plain": [
       "plot without title"
      ]
     },
     "metadata": {},
     "output_type": "display_data"
    }
   ],
   "source": [
    "# ⑤ 제 1-2 주성분에 의한 행렬도\n",
    "biplot(US.prin, scale=0)"
   ]
  },
  {
   "cell_type": "raw",
   "id": "afe4f199-833c-4bcb-a9cf-b7df539fcb36",
   "metadata": {},
   "source": [
    "#### [Problem]  요인분석\n",
    "- R의 내장 데이터 swiss는 1888년 경 스위스 내 47개 주의 사회 경제적 지표(교육, 농업 종사자 비율 등)와 출산율에 대한 데이터이다.\n",
    "- 원활한 분석을 위해 먼저 해당 데이터의 5가지 변수들을 min-max 정규화한 뒤, 요인분석을 실시하여 변수들을 3개의 요인으로 축소하라.(factanal 함수 사용)"
   ]
  },
  {
   "cell_type": "code",
   "execution_count": 8,
   "id": "b6d3b6e8-b1de-4fd9-a5af-7b635e1e7e9e",
   "metadata": {},
   "outputs": [
    {
     "name": "stdout",
     "output_type": "stream",
     "text": [
      "'data.frame':\t47 obs. of  6 variables:\n",
      " $ Fertility       : num  80.2 83.1 92.5 85.8 76.9 76.1 83.8 92.4 82.4 82.9 ...\n",
      " $ Agriculture     : num  17 45.1 39.7 36.5 43.5 35.3 70.2 67.8 53.3 45.2 ...\n",
      " $ Examination     : int  15 6 5 12 17 9 16 14 12 16 ...\n",
      " $ Education       : int  12 9 5 7 15 7 7 8 7 13 ...\n",
      " $ Catholic        : num  9.96 84.84 93.4 33.77 5.16 ...\n",
      " $ Infant.Mortality: num  22.2 22.2 20.2 20.3 20.6 26.6 23.6 24.9 21 24.4 ...\n"
     ]
    }
   ],
   "source": [
    "# swiss 데이터 확인 \n",
    "data(swiss)\n",
    "str(swiss)"
   ]
  },
  {
   "cell_type": "code",
   "execution_count": 9,
   "id": "cb626c07-0e11-4689-bfa6-16e356f7cb3c",
   "metadata": {},
   "outputs": [
    {
     "data": {
      "text/html": [
       "<table>\n",
       "<thead><tr><th></th><th scope=col>Fertility</th><th scope=col>Agriculture</th><th scope=col>Examination</th><th scope=col>Education</th><th scope=col>Catholic</th><th scope=col>Infant.Mortality</th></tr></thead>\n",
       "<tbody>\n",
       "\t<tr><th scope=row>Courtelary</th><td>0.7860870 </td><td>0.1785311 </td><td>0.35294118</td><td>0.21153846</td><td>0.07981604</td><td>0.7215190 </td></tr>\n",
       "\t<tr><th scope=row>Delemont</th><td>0.8365217 </td><td>0.4960452 </td><td>0.08823529</td><td>0.15384615</td><td>0.84506898</td><td>0.7215190 </td></tr>\n",
       "\t<tr><th scope=row>Franches-Mnt</th><td>1.0000000 </td><td>0.4350282 </td><td>0.05882353</td><td>0.07692308</td><td>0.93254982</td><td>0.5949367 </td></tr>\n",
       "\t<tr><th scope=row>Moutier</th><td>0.8834783 </td><td>0.3988701 </td><td>0.26470588</td><td>0.11538462</td><td>0.32314768</td><td>0.6012658 </td></tr>\n",
       "\t<tr><th scope=row>Neuveville</th><td>0.7286957 </td><td>0.4779661 </td><td>0.41176471</td><td>0.26923077</td><td>0.03076137</td><td>0.6202532 </td></tr>\n",
       "\t<tr><th scope=row>Porrentruy</th><td>0.7147826 </td><td>0.3853107 </td><td>0.17647059</td><td>0.11538462</td><td>0.90362800</td><td>1.0000000 </td></tr>\n",
       "</tbody>\n",
       "</table>\n"
      ],
      "text/latex": [
       "\\begin{tabular}{r|llllll}\n",
       "  & Fertility & Agriculture & Examination & Education & Catholic & Infant.Mortality\\\\\n",
       "\\hline\n",
       "\tCourtelary & 0.7860870  & 0.1785311  & 0.35294118 & 0.21153846 & 0.07981604 & 0.7215190 \\\\\n",
       "\tDelemont & 0.8365217  & 0.4960452  & 0.08823529 & 0.15384615 & 0.84506898 & 0.7215190 \\\\\n",
       "\tFranches-Mnt & 1.0000000  & 0.4350282  & 0.05882353 & 0.07692308 & 0.93254982 & 0.5949367 \\\\\n",
       "\tMoutier & 0.8834783  & 0.3988701  & 0.26470588 & 0.11538462 & 0.32314768 & 0.6012658 \\\\\n",
       "\tNeuveville & 0.7286957  & 0.4779661  & 0.41176471 & 0.26923077 & 0.03076137 & 0.6202532 \\\\\n",
       "\tPorrentruy & 0.7147826  & 0.3853107  & 0.17647059 & 0.11538462 & 0.90362800 & 1.0000000 \\\\\n",
       "\\end{tabular}\n"
      ],
      "text/markdown": [
       "\n",
       "| <!--/--> | Fertility | Agriculture | Examination | Education | Catholic | Infant.Mortality |\n",
       "|---|---|---|---|---|---|---|\n",
       "| Courtelary | 0.7860870  | 0.1785311  | 0.35294118 | 0.21153846 | 0.07981604 | 0.7215190  |\n",
       "| Delemont | 0.8365217  | 0.4960452  | 0.08823529 | 0.15384615 | 0.84506898 | 0.7215190  |\n",
       "| Franches-Mnt | 1.0000000  | 0.4350282  | 0.05882353 | 0.07692308 | 0.93254982 | 0.5949367  |\n",
       "| Moutier | 0.8834783  | 0.3988701  | 0.26470588 | 0.11538462 | 0.32314768 | 0.6012658  |\n",
       "| Neuveville | 0.7286957  | 0.4779661  | 0.41176471 | 0.26923077 | 0.03076137 | 0.6202532  |\n",
       "| Porrentruy | 0.7147826  | 0.3853107  | 0.17647059 | 0.11538462 | 0.90362800 | 1.0000000  |\n",
       "\n"
      ],
      "text/plain": [
       "             Fertility Agriculture Examination Education  Catholic  \n",
       "Courtelary   0.7860870 0.1785311   0.35294118  0.21153846 0.07981604\n",
       "Delemont     0.8365217 0.4960452   0.08823529  0.15384615 0.84506898\n",
       "Franches-Mnt 1.0000000 0.4350282   0.05882353  0.07692308 0.93254982\n",
       "Moutier      0.8834783 0.3988701   0.26470588  0.11538462 0.32314768\n",
       "Neuveville   0.7286957 0.4779661   0.41176471  0.26923077 0.03076137\n",
       "Porrentruy   0.7147826 0.3853107   0.17647059  0.11538462 0.90362800\n",
       "             Infant.Mortality\n",
       "Courtelary   0.7215190       \n",
       "Delemont     0.7215190       \n",
       "Franches-Mnt 0.5949367       \n",
       "Moutier      0.6012658       \n",
       "Neuveville   0.6202532       \n",
       "Porrentruy   1.0000000       "
      ]
     },
     "metadata": {},
     "output_type": "display_data"
    }
   ],
   "source": [
    "# 정규화 수행 및 실습용 데이터 생성\n",
    "# apply(데이터, 계산방향, 적용함수) : 주어진 데이터의 행 혹은 열 방향으로 함수를 적용\n",
    "Min <- apply(swiss,2,min) \n",
    "Max <- apply(swiss,2,max)\n",
    "swiss_fa<-scale(swiss, center=Min, scale=(Max-Min))\n",
    "\n",
    "head(swiss_fa)"
   ]
  },
  {
   "cell_type": "code",
   "execution_count": 10,
   "id": "f791d85f-beda-4cd8-a3e2-aeb00a288d8f",
   "metadata": {},
   "outputs": [
    {
     "data": {
      "text/plain": [
       "\n",
       "Call:\n",
       "factanal(x = swiss_fa, factors = 3)\n",
       "\n",
       "Uniquenesses:\n",
       "       Fertility      Agriculture      Examination        Education \n",
       "           0.005            0.286            0.213            0.114 \n",
       "        Catholic Infant.Mortality \n",
       "           0.083            0.743 \n",
       "\n",
       "Loadings:\n",
       "                 Factor1 Factor2 Factor3\n",
       "Fertility        -0.512   0.203   0.832 \n",
       "Agriculture      -0.774   0.312  -0.129 \n",
       "Examination       0.751  -0.423  -0.211 \n",
       "Education         0.901          -0.262 \n",
       "Catholic         -0.186   0.913   0.220 \n",
       "Infant.Mortality                  0.500 \n",
       "\n",
       "               Factor1 Factor2 Factor3\n",
       "SS loadings      2.273   1.164   1.120\n",
       "Proportion Var   0.379   0.194   0.187\n",
       "Cumulative Var   0.379   0.573   0.759\n",
       "\n",
       "The degrees of freedom for the model is 0 and the fit was 1e-04 "
      ]
     },
     "metadata": {},
     "output_type": "display_data"
    }
   ],
   "source": [
    "# 요인분석 수행\n",
    "# factanal함수 rotation 인자의 기본값은 \"varimax\"임\n",
    "factanal(swiss_fa, factors=3)"
   ]
  },
  {
   "cell_type": "raw",
   "id": "4f7bf089-3e71-447a-b059-db314782bedb",
   "metadata": {},
   "source": []
  },
  {
   "cell_type": "markdown",
   "id": "b176a339-2738-49f0-be9e-aaf993d55f23",
   "metadata": {},
   "source": [
    "### 3절. 표준화와 정규화"
   ]
  },
  {
   "cell_type": "markdown",
   "id": "a64d15c6-5253-4fed-9a2e-39a35c06c6f8",
   "metadata": {},
   "source": [
    "#### [Problem]  표준화\n",
    "- R의 내장 데이터 ‘mtcars’의 mpg(마일)변수와 hp(총마력)변수로만 이루어진 데이터프레임(test.cars)을 생성하고, 각 변수를 표준화한 새로운 변수를 추가하라. (mpg를 표준화한 변수의 이름은 mpg_scale, hp를 표준화한 변수의 이름은 hp_scale로 지정)"
   ]
  },
  {
   "cell_type": "code",
   "execution_count": 11,
   "id": "511e2408-f66d-4897-9c79-a3dec540ff7b",
   "metadata": {},
   "outputs": [
    {
     "name": "stdout",
     "output_type": "stream",
     "text": [
      "'data.frame':\t32 obs. of  11 variables:\n",
      " $ mpg : num  21 21 22.8 21.4 18.7 18.1 14.3 24.4 22.8 19.2 ...\n",
      " $ cyl : num  6 6 4 6 8 6 8 4 4 6 ...\n",
      " $ disp: num  160 160 108 258 360 ...\n",
      " $ hp  : num  110 110 93 110 175 105 245 62 95 123 ...\n",
      " $ drat: num  3.9 3.9 3.85 3.08 3.15 2.76 3.21 3.69 3.92 3.92 ...\n",
      " $ wt  : num  2.62 2.88 2.32 3.21 3.44 ...\n",
      " $ qsec: num  16.5 17 18.6 19.4 17 ...\n",
      " $ vs  : num  0 0 1 1 0 1 0 1 1 1 ...\n",
      " $ am  : num  1 1 1 0 0 0 0 0 0 0 ...\n",
      " $ gear: num  4 4 4 3 3 3 3 4 4 4 ...\n",
      " $ carb: num  4 4 1 1 2 1 4 2 2 4 ...\n"
     ]
    }
   ],
   "source": [
    "# 데이터 확인 \n",
    "data(\"mtcars\")\n",
    "str(mtcars)"
   ]
  },
  {
   "cell_type": "code",
   "execution_count": 12,
   "id": "394fa381-bfc0-4e75-aaeb-66e5018b0c2e",
   "metadata": {},
   "outputs": [
    {
     "data": {
      "text/html": [
       "<table>\n",
       "<thead><tr><th></th><th scope=col>mpg</th><th scope=col>hp</th></tr></thead>\n",
       "<tbody>\n",
       "\t<tr><th scope=row>Mazda RX4</th><td>21.0</td><td>110 </td></tr>\n",
       "\t<tr><th scope=row>Mazda RX4 Wag</th><td>21.0</td><td>110 </td></tr>\n",
       "\t<tr><th scope=row>Datsun 710</th><td>22.8</td><td> 93 </td></tr>\n",
       "\t<tr><th scope=row>Hornet 4 Drive</th><td>21.4</td><td>110 </td></tr>\n",
       "\t<tr><th scope=row>Hornet Sportabout</th><td>18.7</td><td>175 </td></tr>\n",
       "\t<tr><th scope=row>Valiant</th><td>18.1</td><td>105 </td></tr>\n",
       "</tbody>\n",
       "</table>\n"
      ],
      "text/latex": [
       "\\begin{tabular}{r|ll}\n",
       "  & mpg & hp\\\\\n",
       "\\hline\n",
       "\tMazda RX4 & 21.0 & 110 \\\\\n",
       "\tMazda RX4 Wag & 21.0 & 110 \\\\\n",
       "\tDatsun 710 & 22.8 &  93 \\\\\n",
       "\tHornet 4 Drive & 21.4 & 110 \\\\\n",
       "\tHornet Sportabout & 18.7 & 175 \\\\\n",
       "\tValiant & 18.1 & 105 \\\\\n",
       "\\end{tabular}\n"
      ],
      "text/markdown": [
       "\n",
       "| <!--/--> | mpg | hp |\n",
       "|---|---|---|\n",
       "| Mazda RX4 | 21.0 | 110  |\n",
       "| Mazda RX4 Wag | 21.0 | 110  |\n",
       "| Datsun 710 | 22.8 |  93  |\n",
       "| Hornet 4 Drive | 21.4 | 110  |\n",
       "| Hornet Sportabout | 18.7 | 175  |\n",
       "| Valiant | 18.1 | 105  |\n",
       "\n"
      ],
      "text/plain": [
       "                  mpg  hp \n",
       "Mazda RX4         21.0 110\n",
       "Mazda RX4 Wag     21.0 110\n",
       "Datsun 710        22.8  93\n",
       "Hornet 4 Drive    21.4 110\n",
       "Hornet Sportabout 18.7 175\n",
       "Valiant           18.1 105"
      ]
     },
     "metadata": {},
     "output_type": "display_data"
    }
   ],
   "source": [
    "# 데이터프레임 생성\n",
    "test.cars<-mtcars[,c(\"mpg\",\"hp\")]\n",
    "\n",
    "# test.cars데이터의 상위 6개의 행 확인\n",
    "head(test.cars)"
   ]
  },
  {
   "cell_type": "code",
   "execution_count": 13,
   "id": "00f59b76-c00f-400b-b1d7-3860f00e8b7d",
   "metadata": {},
   "outputs": [
    {
     "data": {
      "text/html": [
       "<table>\n",
       "<thead><tr><th></th><th scope=col>mpg</th><th scope=col>hp</th><th scope=col>mpg_scale</th><th scope=col>hp_scale</th></tr></thead>\n",
       "<tbody>\n",
       "\t<tr><th scope=row>Mazda RX4</th><td>21.0      </td><td>110       </td><td> 0.1508848</td><td>-0.5350928</td></tr>\n",
       "\t<tr><th scope=row>Mazda RX4 Wag</th><td>21.0      </td><td>110       </td><td> 0.1508848</td><td>-0.5350928</td></tr>\n",
       "\t<tr><th scope=row>Datsun 710</th><td>22.8      </td><td> 93       </td><td> 0.4495434</td><td>-0.7830405</td></tr>\n",
       "\t<tr><th scope=row>Hornet 4 Drive</th><td>21.4      </td><td>110       </td><td> 0.2172534</td><td>-0.5350928</td></tr>\n",
       "\t<tr><th scope=row>Hornet Sportabout</th><td>18.7      </td><td>175       </td><td>-0.2307345</td><td> 0.4129422</td></tr>\n",
       "\t<tr><th scope=row>Valiant</th><td>18.1      </td><td>105       </td><td>-0.3302874</td><td>-0.6080186</td></tr>\n",
       "</tbody>\n",
       "</table>\n"
      ],
      "text/latex": [
       "\\begin{tabular}{r|llll}\n",
       "  & mpg & hp & mpg\\_scale & hp\\_scale\\\\\n",
       "\\hline\n",
       "\tMazda RX4 & 21.0       & 110        &  0.1508848 & -0.5350928\\\\\n",
       "\tMazda RX4 Wag & 21.0       & 110        &  0.1508848 & -0.5350928\\\\\n",
       "\tDatsun 710 & 22.8       &  93        &  0.4495434 & -0.7830405\\\\\n",
       "\tHornet 4 Drive & 21.4       & 110        &  0.2172534 & -0.5350928\\\\\n",
       "\tHornet Sportabout & 18.7       & 175        & -0.2307345 &  0.4129422\\\\\n",
       "\tValiant & 18.1       & 105        & -0.3302874 & -0.6080186\\\\\n",
       "\\end{tabular}\n"
      ],
      "text/markdown": [
       "\n",
       "| <!--/--> | mpg | hp | mpg_scale | hp_scale |\n",
       "|---|---|---|---|---|\n",
       "| Mazda RX4 | 21.0       | 110        |  0.1508848 | -0.5350928 |\n",
       "| Mazda RX4 Wag | 21.0       | 110        |  0.1508848 | -0.5350928 |\n",
       "| Datsun 710 | 22.8       |  93        |  0.4495434 | -0.7830405 |\n",
       "| Hornet 4 Drive | 21.4       | 110        |  0.2172534 | -0.5350928 |\n",
       "| Hornet Sportabout | 18.7       | 175        | -0.2307345 |  0.4129422 |\n",
       "| Valiant | 18.1       | 105        | -0.3302874 | -0.6080186 |\n",
       "\n"
      ],
      "text/plain": [
       "                  mpg  hp  mpg_scale  hp_scale  \n",
       "Mazda RX4         21.0 110  0.1508848 -0.5350928\n",
       "Mazda RX4 Wag     21.0 110  0.1508848 -0.5350928\n",
       "Datsun 710        22.8  93  0.4495434 -0.7830405\n",
       "Hornet 4 Drive    21.4 110  0.2172534 -0.5350928\n",
       "Hornet Sportabout 18.7 175 -0.2307345  0.4129422\n",
       "Valiant           18.1 105 -0.3302874 -0.6080186"
      ]
     },
     "metadata": {},
     "output_type": "display_data"
    }
   ],
   "source": [
    "# 표준화한 변수 추가\n",
    "test.cars<-transform(test.cars,\n",
    "                     mpg_scale=scale(test.cars$mpg),\n",
    "                     hp_scale=scale(test.cars$hp))\n",
    "head(test.cars)"
   ]
  },
  {
   "cell_type": "markdown",
   "id": "ec49c2f6-9ece-41bb-921c-1d664735e5f8",
   "metadata": {},
   "source": [
    "#### [Problem]  정규화\n",
    "- R의 내장 데이터 iris의 Sepal.Length 변소를 정규화하는 코드 작성\n",
    "- scale 함수를 이용하는 경우와 사용자 정의 함수를 이용하는 경우에 대해 각각 실행"
   ]
  },
  {
   "cell_type": "code",
   "execution_count": null,
   "id": "61c69a30-ea5d-44e4-94da-d81f9e190d65",
   "metadata": {},
   "outputs": [],
   "source": [
    "## 가. scale함수 이용\n",
    "## scale 함수를 이용하여 R의 내장 데이터 iris의 Sepal.Length 변수를 정규화하는 코드를 살펴보자.\n",
    "\n",
    "# iris데이터 Sepal.Length  변수의 최솟값 저장\n",
    "Min<-min(iris$Sepal.Length)\n",
    "\n",
    "# iris데이터 Sepal.Length 변수의 최댓값 저장\n",
    "Max<-max(iris$Sepal.Length)\n",
    "\n",
    "# scale함수를 활용한 min-max 표준화\n",
    "iris$SL_new<-scale(iris$Sepal.Length, center=Min, scale=Max-Min)\n",
    "\n",
    "head(iris)"
   ]
  },
  {
   "cell_type": "code",
   "execution_count": null,
   "id": "cb5964d9-70fb-4e82-89c7-e5ca38f21915",
   "metadata": {},
   "outputs": [],
   "source": [
    "## 나. 사용자 정의 함수 이용\n",
    "\n",
    "# 정규화한 값을 반환하는 함수 정의\n",
    "# x : 정규화하고자 하는 숫자형 벡터\n",
    "normalize <-function(x) {\n",
    "  return ((x-min(x)) / (max(x) -min(x)))\n",
    "}\n",
    "\n",
    "# 숫자형 벡터 생성\n",
    "num<-c(50:500)\n",
    "\n",
    "# 생성한 사용자 정의 함수를 이용하여 정규화 수행\n",
    "num_new<-normalize(num) \n",
    "head(num_new)"
   ]
  },
  {
   "cell_type": "markdown",
   "id": "ed8cc852-c8be-45c5-918e-80a1d5a7eb32",
   "metadata": {},
   "source": []
  },
  {
   "cell_type": "markdown",
   "id": "711b4f36-31aa-4dd2-81ed-1b58bcdae9e0",
   "metadata": {},
   "source": [
    "## 3장. 데이터 결합 및 요약"
   ]
  },
  {
   "cell_type": "markdown",
   "id": "58acf15b-d72c-4a91-bdc1-bb22a356dc85",
   "metadata": {},
   "source": [
    "### 1절. 데이터 결합"
   ]
  },
  {
   "cell_type": "markdown",
   "id": "b1b07028-98ba-4aa7-b677-0b4a7cb45edb",
   "metadata": {},
   "source": [
    "#### [Problem]  rbind\n",
    "- id와 last_name이라는 변수로 이루어진 두 개의 데이터프레임을 생성한 후, 두 데이터프레임을 행 기준으로 결합하여 고객의 아이디와 성을 저장하고 있는 하나의 데이터프레임으로 생성하라."
   ]
  },
  {
   "cell_type": "code",
   "execution_count": null,
   "id": "5be4003b-03d5-457c-82b8-9b2ea84a8fe6",
   "metadata": {},
   "outputs": [],
   "source": [
    "# 행으로 묶을 데이터 생성 : rbind를 사용할 때에는 열의 이름과 개수가 동일해야 함\n",
    "customer1 <- data.frame(id = c(\"c01\",\"c02\",\"c03\",\"c04\"),\n",
    "                        last_name = c(\"Lee\", \"Kim\", \"Choi\", \"Park\"))\n",
    "\n",
    "customer2 <- data.frame(id = c(\"c05\", \"c06\", \"c07\"), \n",
    "                        last_name = c(\"Lim\" , \"Bae\", \"Kim\"))\n",
    "\n",
    "# rbind를 사용하여 두 데이터프레임을 결합\n",
    "id_name <- rbind(customer1, customer2)    \n",
    "id_name  "
   ]
  },
  {
   "cell_type": "markdown",
   "id": "530b77a5-cca7-4e69-be93-1147a00a71c9",
   "metadata": {},
   "source": [
    "#### [Problem]  cbind\n",
    "- 고객의 나이(age)와 수입(income)을 담고 있는 데이터(age_income)를 새로 생성하고, rbind 함수 예제에서 생성했던 id_name 데이터와 열을 기준으로 결합하여 customer 데이터를 생성하라."
   ]
  },
  {
   "cell_type": "code",
   "execution_count": null,
   "id": "70346867-66af-4786-8c01-30e5d5c80d50",
   "metadata": {},
   "outputs": [],
   "source": [
    "# 열로 묶을 데이터 생성 : cbind를 사용할 때에는 행의 개수가 동일해야 함\n",
    "# age변수와 income변수로 구성된 데이터프레임 생성\n",
    "age_income <- data.frame(age = c(20, 25, 37, 40, 32, 45, 37), \n",
    "                         income = c(2500, 6400, 0, 7000, 3400, 3800, 5010))\n",
    "\n",
    "# cbind를 사용하여 두 데이터프레임을 결합\n",
    "customer <- cbind(id_name, age_income)     \n",
    "customer"
   ]
  },
  {
   "cell_type": "markdown",
   "id": "47064f5d-86a8-4469-b332-b83b1e18d1b5",
   "metadata": {},
   "source": [
    "#### [Problem]  merge\n",
    "- 고객의 아이디(id), 이름(name)으로 이루어진 데이터프레임(id_name)과 고객의 아이디(id), 번호(number)로 이루어진 데이터프레임(id_number)을 생성한 뒤, 다양한 방법을 사용하여 두 데이터를 병합하라."
   ]
  },
  {
   "cell_type": "code",
   "execution_count": null,
   "id": "3be7610d-700f-4f1e-87e0-866e33eb1b38",
   "metadata": {},
   "outputs": [],
   "source": [
    "# 병합에 사용할 데이터프레임 생성\n",
    "id_name <- data.frame(id = c(\"c01\",\"c02\",\"c03\",\"c04\",\"c05\", \"c06\", \"c07\"), \n",
    "                      last_name = c(\"Lee\", \"Kim\", \"Choi\", \"Park\", \"Lim\" , \"Bae\", \"Kim\"))\n",
    "\n",
    "id_number <- data.frame(id = c(\"c03\", \"c04\", \"c05\", \"c06\", \"c07\", \"c08\", \"c09\"), \n",
    "                        number = c(3, 1, 0, 7, 3, 4, 1))\n",
    "\n",
    "# id_name, id_number 데이터프레임 확인\n",
    "id_name\n",
    "id_number"
   ]
  },
  {
   "cell_type": "code",
   "execution_count": null,
   "id": "ee3d4e49-8303-4080-a7cc-f4ac0ae053ce",
   "metadata": {},
   "outputs": [],
   "source": [
    "# Q1) id 칼럼을 기준으로 두 테이블이 모두 공통된 값을 가지고 있는 경우에만 두 데이터(id_name, id_number)를 병합.\n",
    "# (데이터베이스의 Inner Join에 해당)\n",
    "\n",
    "merge(id_name, id_number, by = 'id')"
   ]
  },
  {
   "cell_type": "code",
   "execution_count": null,
   "id": "e0da8e56-28f9-45f0-a722-e0f0d1dd88f4",
   "metadata": {},
   "outputs": [],
   "source": [
    "# Q2) 공통된 값이 없는 경우에도 데이터가 출력되도록 id 칼럼을 기준으로 두 데이터(id_name, id_number)의 모든 행을 병합.\n",
    "# (데이터베이스의 Outer Join에 해당)\n",
    "# 기준칼럼에 공통된 값이 없는 경우, 다른 변수 값 자리에는 NA가 채워짐\n",
    "\n",
    "merge(id_name, id_number, by = 'id', all = T) "
   ]
  },
  {
   "cell_type": "code",
   "execution_count": null,
   "id": "f05a753a-c1b6-46bd-8c6e-390081a1557c",
   "metadata": {},
   "outputs": [],
   "source": [
    "# Q3) id 칼럼을 기준으로 두 데이터(id_name, id_number)를 병합하되 기준칼럼에 공통 값이 없는 경우에는 id_name 데이터를 기준으로 병합.\n",
    "# (데이터베이스의 Left Outer Join에 해당)\n",
    "\n",
    "merge(id_name, id_number,  by = 'id', all.x = T)"
   ]
  },
  {
   "cell_type": "code",
   "execution_count": null,
   "id": "cb52fde1-980c-4969-ab0e-d3639edf1ac9",
   "metadata": {},
   "outputs": [],
   "source": [
    "# Q4) id 칼럼을 기준으로 두 데이터(id_name, id_number)를 병합하되 기준칼럼에 공통 값이 없는 경우에는 id_number 데이터를 기준으로 병합. \n",
    "# (데이터베이스의 Right Outer Join에 해당)\n",
    "merge(id_name, id_number, by = 'id', all.y = T)"
   ]
  },
  {
   "cell_type": "raw",
   "id": "c90fbd21-a745-4e66-835b-14a4f73d04e5",
   "metadata": {},
   "source": []
  },
  {
   "cell_type": "markdown",
   "id": "74b2bf7c-4a1b-4670-9bb8-33f08842dd9e",
   "metadata": {},
   "source": [
    "### 2절. 데이터 요약"
   ]
  },
  {
   "cell_type": "code",
   "execution_count": null,
   "id": "0b237928-2f8b-4e2a-856e-bbf3532771b3",
   "metadata": {},
   "outputs": [],
   "source": []
  },
  {
   "cell_type": "code",
   "execution_count": null,
   "id": "23f08d98-3b9b-4213-b055-5cacbaeda876",
   "metadata": {},
   "outputs": [],
   "source": [
    "##### 1. aggregate\n",
    "\n",
    "## Q1) iris 데이터에서 종별 Sepal.Width의 평균을 구해보자.\n",
    "aggregate(Sepal.Width~Species, iris, mean)\n",
    "\n",
    "## Q2) iris 데이터에서 종별 Sepal.Width, Petal.Width 의 평균을 한 번에 구해보자.\n",
    "aggregate(cbind(Sepal.Width, Petal.Width)~Species, iris, mean)"
   ]
  },
  {
   "cell_type": "code",
   "execution_count": null,
   "id": "e045feab-b88b-499e-a901-201ae8b4c583",
   "metadata": {},
   "outputs": [],
   "source": []
  },
  {
   "cell_type": "code",
   "execution_count": null,
   "id": "fd6cb4fa-e513-4b0f-8986-7f4f4f3cc2b7",
   "metadata": {},
   "outputs": [],
   "source": [
    "##### 2. table\n",
    "\n",
    "## Q1) 내장데이터 Titanic은 타이타닉호 탑승자들의 특성에 따른 생존여부를 기록해놓은 데이터이다.\n",
    "## Titanic이 데이터에서 좌석등급을 의미하는 Class 변수에 대해서 도수분포표를 생성해보자.\n",
    "\n",
    "##===== A)\n",
    "# 내장데이터 Titanic의 구조 확인\n",
    "str(Titanic)\n",
    "\n",
    "# 분석을 위해 Titanic 데이터를 데이터프레임으로 변환한 뒤 다시 한번 구조를 확인\n",
    "# as.data.frame() : 객체를 데이터프레임으로 변환\n",
    "Titanic<-as.data.frame(Titanic)   \n",
    "\n",
    "str(Titanic)   # 데이터 구조가 데이터프레임으로 변환되었음을 확인 가능\n",
    "\n",
    "# table함수를 이용하여 범주형 변수 Class에 대한 도수분포표를 생성\n",
    "table(Titanic$Class)\n",
    "\n",
    "\n",
    "## Q2) 내장데이터 Titanic에서 Survived 변수는 승객의 생존여부를 의미한다. \n",
    "## 좌석등급과 생존여부의 관계를 살펴보기 위해 \n",
    "## Class 변수에 따른 Survived 변수의 도수를 표 형태로 나타내보자.\n",
    "table(Titanic$Class, Titanic$Survived)"
   ]
  },
  {
   "cell_type": "code",
   "execution_count": null,
   "id": "6d0edebc-05da-440b-82cf-d88cd7bd1655",
   "metadata": {},
   "outputs": [],
   "source": []
  },
  {
   "cell_type": "code",
   "execution_count": null,
   "id": "4717001b-30b7-4f97-804e-28e934a36cd9",
   "metadata": {},
   "outputs": [],
   "source": [
    "##### 3. prop.table\n",
    "\n",
    "## Q) Titanic 데이터에서 Age 변수는 해당 승객이 어른인지 아이인지의 여부를 나타낸다. \n",
    "## Age 변수에 따른 생존여부의 관계를 전체에 대한 비율, 행별 비율, 열별 비율로 살펴보자.\n",
    "\n",
    "##===== A)\n",
    "# Age에 따른 Survived에 대한 비율을 파악\n",
    "prop.table(table(Titanic$Age, Titanic$Survived))\n",
    "\n",
    "# 행 별 비율 파악\n",
    "prop.table(table(Titanic$Age, Titanic$Survived), 1)  \n",
    "\n",
    "# 열 별 비율 파악\n",
    "prop.table(table(Titanic$Age, Titanic$Survived), 2)  \n"
   ]
  },
  {
   "cell_type": "code",
   "execution_count": null,
   "id": "d5ae3b94-7c38-4552-9776-c89dfa01fcc5",
   "metadata": {},
   "outputs": [],
   "source": []
  },
  {
   "cell_type": "code",
   "execution_count": null,
   "id": "f78781ad-f1da-4451-aff3-4f91d2e3b1c7",
   "metadata": {},
   "outputs": [],
   "source": [
    "##### 4. subset\n",
    "\n",
    "## Q) 내장데이터 iris에서 종(Species)이 setosa이면서, \n",
    "## Sepal.Length의 값이 5.5초과인 데이터들의 Species와 Sepal.Length 변수값만 조회해보자. \n",
    "\n",
    "##===== A)\n",
    "subset(iris,\n",
    "       subset = (Species=='setosa' & Sepal.Length > 5.5),\n",
    "       select = c(Species,Sepal.Length))\n"
   ]
  },
  {
   "cell_type": "code",
   "execution_count": null,
   "id": "9a14750c-bec6-4275-9e3a-0cf8ab350d89",
   "metadata": {},
   "outputs": [],
   "source": []
  },
  {
   "cell_type": "code",
   "execution_count": null,
   "id": "8bf0958e-7e65-415f-9921-986fe9a193f9",
   "metadata": {},
   "outputs": [],
   "source": []
  },
  {
   "cell_type": "markdown",
   "id": "2589bc3d-909e-4550-bec2-c9d8980df9a4",
   "metadata": {},
   "source": [
    "### 3절. apply 계열 함수"
   ]
  },
  {
   "cell_type": "code",
   "execution_count": null,
   "id": "72d003f1-d68c-480e-9b64-8c81b6e2e1a5",
   "metadata": {},
   "outputs": [],
   "source": []
  },
  {
   "cell_type": "code",
   "execution_count": null,
   "id": "f73a9e42-9bd4-4191-8064-9d4c13d38a6b",
   "metadata": {},
   "outputs": [],
   "source": [
    "##### 1. apply\n",
    "\n",
    "## Q1) 4행 3열로 이루어진 행렬을 만든 후에 각 행별로 max 값을 구해보자.\n",
    "a <- matrix(1:12, nrow=4, ncol=3)        # matrix 생성 \n",
    "apply(a, 1, max)                         # 1은 행 방향, 2는 열 방향으로 계산함을 의미\n",
    "\n",
    "## Q2) iris 데이터의 1~4열에 대해서 평균을 구해보자.\n",
    "apply(iris[,1:4], 2, mean) \n"
   ]
  },
  {
   "cell_type": "code",
   "execution_count": null,
   "id": "170a5b7c-c581-44dd-9f7e-95183b5b5885",
   "metadata": {},
   "outputs": [],
   "source": []
  },
  {
   "cell_type": "code",
   "execution_count": null,
   "id": "4a27a9b7-6bd6-48d8-b83c-7545cdaee970",
   "metadata": {},
   "outputs": [],
   "source": [
    "##### 2. lapply\n",
    "## Q) lapply함수를 사용하여 숫자가 저장된 벡터의 값을 제곱한 뒤 리스트 형태로 반환해보자.\n",
    "\n",
    "##===== A)\n",
    "a <- c(1,2,3)                      # a는 1,2,3의 숫자가 저장된 벡터\n",
    "lapply(a, FUN=function(x){x^2})    # FUN인자의 값으로 제곱을 계산해주는 사용자 정의 함수를 사용\n",
    "\n",
    "# 데이터구조 확인하기 : lapply 함수의 적용 결과 반환되는 데이터는 리스트임을 알 수 있음\n",
    "class(lapply(a, FUN=function(x){x^2})) # class() : 객체의 물리적 자료형 반환 \n",
    "\n",
    "# 만약 리스트로 반환된 결과를 벡터로 변환하고 싶다면 unlist함수를 이용하여 원하는 결과를 얻을 수 있음\n",
    "b<-lapply(a, FUN=function(x){x^2})     # lapply를 적용한 결과를 변수 b에 저장\n",
    "unlist(b)                              # unlist함수를 이용하여 리스트 b를 벡터로 변환"
   ]
  },
  {
   "cell_type": "code",
   "execution_count": null,
   "id": "7cbaa2f1-4ba2-4a63-a73e-893c8e2acbee",
   "metadata": {},
   "outputs": [],
   "source": []
  },
  {
   "cell_type": "code",
   "execution_count": null,
   "id": "d6fa7af8-c880-4fc3-995b-dfc53be24a02",
   "metadata": {},
   "outputs": [],
   "source": [
    "##### 3. sapply\n",
    "## Q1) iris 데이터에서 각 컬럼별 데이터 타입을 구해보자.\n",
    "sapply(iris, class)\n",
    "\n",
    "# 데이터구조 확인 : 변수마다 함수를 적용한 결과 값이 하나씩 존재하므로 문자형 벡터로 반환\n",
    "class(sapply(iris, class))  # “character”는 문자를 저장한 벡터를 의미\n",
    "\n",
    "\n",
    "## Q2) iris 데이터에서 각 컬럼에 summary함수를 적용해보자.\n",
    "sapply(iris, summary)       # summary() : 데이터의 기초 통계량을 요약해주는 함수           \n",
    "\n",
    "# 데이터구조 확인 : 변수마다 함수를 적용한 결과 값의 길이가 다르므로 리스트로 반환\n",
    "class(sapply(iris, summary))"
   ]
  },
  {
   "cell_type": "code",
   "execution_count": null,
   "id": "1a779ade-aa9a-483b-bd36-97d694f569ce",
   "metadata": {},
   "outputs": [],
   "source": []
  },
  {
   "cell_type": "code",
   "execution_count": null,
   "id": "23f57460-1390-4f2e-8fa8-818ce0bd011c",
   "metadata": {},
   "outputs": [],
   "source": [
    "##### 4. vapply\n",
    "## Q) 1~100까지의 숫자가 저장된 리스트에 fivenum함수를 적용한 후, \n",
    "## 각 값에 이름을 부여하여 리스트 형태로 출력해보자.\n",
    "\n",
    "##===== A)\n",
    "# fivenum() : 최소값, 1사분위수, 중위수, 3사분위수, 최대값을 차례로 출력\n",
    "# 1~100까지의 숫자가 저장된 벡터 생성\n",
    "test <- c(1:100)\n",
    "\n",
    "# fivenum 함수를 적용\n",
    "fivenum(test)\n",
    "\n",
    "# vapply를 이용하여 fivenum 함수를 적용하는데, 출력되는 결과의 형식(Template)을 원하는대로 지정\n",
    "test <- list(test) #출력형태를 리스트로 변환\n",
    "\n",
    "#출력되는 결과의 양식(Template)을 Min, Q1, Median, Q3, Max 로 지정\n",
    "test2 <- vapply(test, fivenum, c(\"Min\" = 0, \"Q1\" = 0, \"Median\" = 0, \"Q3\" = 0, \"Max\" = 0))\n",
    "test2\n"
   ]
  },
  {
   "cell_type": "code",
   "execution_count": null,
   "id": "2ae9afad-7ff7-4445-9d6c-8a4cce7d1498",
   "metadata": {},
   "outputs": [],
   "source": []
  },
  {
   "cell_type": "code",
   "execution_count": null,
   "id": "90ce1949-ddb2-402d-8599-7663440c7392",
   "metadata": {},
   "outputs": [],
   "source": [
    "##### 5. mapply\n",
    "## Q) 1을 4번, 2를 3번, 3을 2번, 4를 1번 반복하는 4개의 수열을 구해보자. \n",
    "## 이 때 rep 함수를 이용할 때와 mapply 함수를 이용 할 때를 비교해보자.\n",
    "\n",
    "##===== A)\n",
    "# 1) rep을 사용할 경우 총 4번의 R 코드를 실행해야 한다.\n",
    "#   rep(x, times, ... )\n",
    "#   x: 반복할 객체, times: 반복횟수\n",
    "rep(1,4)\n",
    "rep(2,3)\n",
    "rep(3,2)\n",
    "rep(4,1) \n",
    "\n",
    "\n",
    "# 2) mapply를 사용할 경우 1번의 R 코드 실행으로 동일한 결과를 얻을 수 있다. \n",
    "# rep함수의 x 인자값 : c(1:4), times 인자값 : c(4:1)\n",
    "mapply(rep, c(1:4), c(4:1))     "
   ]
  },
  {
   "cell_type": "code",
   "execution_count": null,
   "id": "a94034bc-af28-4d4f-ade2-b3dfb69971a6",
   "metadata": {},
   "outputs": [],
   "source": []
  },
  {
   "cell_type": "code",
   "execution_count": null,
   "id": "7da2701f-b221-46c6-be2b-d3de2ec201c1",
   "metadata": {},
   "outputs": [],
   "source": [
    "##### 6. tapply\n",
    "## Q1) R의 googleVis 패키지에 있는 Fruits 데이터에서 과일종류(Fruit)별 판매량(Profit)의 평균을 구해보자.\n",
    "\n",
    "# googleVis 패키지의 Fruits 데이터를 이용하기 위해 패키지 설치 및 로드\n",
    "install.packages(\"googleVis\")\n",
    "library(googleVis)\n",
    "\n",
    "# Fruits 데이터의 상위 6개의 행 확인\n",
    "head(Fruits)\n",
    "\n",
    "# tapply 함수를 이용하여 과일종류별 판매량의 평균 산출\n",
    "tapply(Fruits$Sales, Fruits$Fruit, mean)\n",
    "\n",
    "\n",
    "## Q2) Fruits 데이터에서 Location이 West인 것과 아닌 것으로 그룹을 지정하여 Profit의 평균을 구해보자.\n",
    "\n",
    "# INDEX인자에 비교구문을 사용하여 그룹을 지정\n",
    "tapply(Fruits$Profit, Fruits$Location==\"West\", mean)"
   ]
  },
  {
   "cell_type": "code",
   "execution_count": null,
   "id": "e313261b-a562-45d0-8fdc-024ab89b3a90",
   "metadata": {},
   "outputs": [],
   "source": []
  },
  {
   "cell_type": "code",
   "execution_count": null,
   "id": "7c9ae8dc-670d-423d-a963-cd9d37498351",
   "metadata": {},
   "outputs": [],
   "source": []
  },
  {
   "cell_type": "markdown",
   "id": "5c43dfac-29bf-4997-b03f-048e101f92a4",
   "metadata": {},
   "source": [
    "## 4장. 패키지를 활용한 데이터 전처리"
   ]
  },
  {
   "cell_type": "markdown",
   "id": "40bba75b-39fd-4dfb-a075-57ed5a37607e",
   "metadata": {},
   "source": [
    "### 1절. plyr"
   ]
  },
  {
   "cell_type": "code",
   "execution_count": null,
   "id": "22a5da17-04c1-402b-881b-f853642a0776",
   "metadata": {},
   "outputs": [],
   "source": []
  },
  {
   "cell_type": "code",
   "execution_count": null,
   "id": "593d1e05-445e-4fc0-b451-0b0cb37797b2",
   "metadata": {},
   "outputs": [],
   "source": [
    "##### 2. adply\n",
    "# 패키지 설치 및 로드\n",
    "install.packages(\"plyr\")\n",
    "library(plyr)\n",
    "\n",
    "## Q) R의 iris 데이터에서 Petal.Length 변수가 1.5미만이면서 \n",
    "## Species 변수 값이 ‘setosa’인 조건을 만족하는 경우 ‘1’을 \n",
    "## 그렇지 않은 경우 ‘0’을 부여한 칼럼을 생성하여,\n",
    "## 원래의 iris 데이터와 함께 데이터프레임 형태로 출력해보자.\n",
    "\n",
    "##===== A)\n",
    "# 패키지 설치 및 로드\n",
    "install.packages(\"plyr\")\n",
    "library(plyr)\n",
    "\n",
    "# 변수명을 지정하지 않고 adply를 이용해 연산\n",
    "adply(iris,1, \n",
    "      function(row){ifelse(row$Petal.Length<1.5 & \n",
    "                             row$Species==\"setosa\", \"1\", \"0\")})\n",
    "\n",
    "# 변수명을 'setosa_PL1.5'로 지정하여 데이터프레임으로 반환\n",
    "adply(iris,1, \n",
    "      function(row){\n",
    "        data.frame(setosa_PL1.5=\n",
    "                     c(ifelse(row$Petal.Length<1.5 & \n",
    "                                row$Species==\"setosa\", \"1\", \"0\"))\n",
    "        )\n",
    "      })"
   ]
  },
  {
   "cell_type": "code",
   "execution_count": null,
   "id": "68f75bc8-54e0-4176-b566-52ca6c6010fc",
   "metadata": {},
   "outputs": [],
   "source": []
  },
  {
   "cell_type": "code",
   "execution_count": null,
   "id": "b442d8ce-595c-4c45-84e6-7716a157306a",
   "metadata": {},
   "outputs": [],
   "source": []
  },
  {
   "cell_type": "code",
   "execution_count": null,
   "id": "2097682e-94b0-4e66-a8b4-d9e24dc4c65c",
   "metadata": {},
   "outputs": [],
   "source": [
    "##### 3. ddply\n",
    "## Q1) R의 iris 데이터에서 Species별로 나머지 네 개 변수 \n",
    "## (Sepal.Length, Sepal.Width, Petal.Length, Petal.Width)의 평균을 출력해보자.\n",
    "\n",
    "##===== A)\n",
    "ddply(iris, .(Species), function(sub){\n",
    "  data.frame(\n",
    "    mean_SL=mean(sub$Sepal.Length), mean_SW=mean(sub$Sepal.Width),\n",
    "    mean_PL=mean(sub$Petal.Length), mean_PW=mean(sub$Petal.Width))\n",
    "})\n",
    "\n",
    "\n",
    "## Q2) R의 iris 데이터에서 Species와 Petal.Length가 1.5 미만인지의 여부로 데이터를 그룹지어 \n",
    "## 네 개 변수 (Sepal.Length, Sepal.Width, Petal.Length, Petal.Width)의 평균을 출력해보자.\n",
    "\n",
    "##===== A)\n",
    "# variables 인자 자리 .( )에 그룹화할 변수와 조건을 입력\n",
    "ddply(iris, .(Species, Petal.Length<1.5), function(sub){\n",
    "  data.frame(\n",
    "    mean_SL=mean(sub$Sepal.Length), mean_SW=mean(sub$Sepal.Width),\n",
    "    mean_PL=mean(sub$Petal.Length), mean_PW=mean(sub$Petal.Width))\n",
    "})\n",
    "\n",
    "\n",
    "##### 가. transform\n",
    "## plyr 패키지의 baseball은 1871년부터 2007년까지 총 1,228명의 미국 야구선수들의 \n",
    "## 타격에 대한 정보가 저장된 데이터이다. 각 선수는 id 칼럼으로 구분되어 있으며, \n",
    "## 총 22개의 변수와 21,699개의 행으로 이루어져 있다. \n",
    "## baseball 데이터로 ddply 내부 함수들에 대한 실습을 진행해보자.\n",
    "\n",
    "\n",
    "## Q) 'g’ 칼럼은 각 선수가 해당 연도에 출전한 게임 수를 나타낸다. \n",
    "## 원본 데이터에 각 선수의 연평균 출전횟수를 나타내는 ‘avgG’ 칼럼을 추가해보자. \n",
    "## 이 문제를 해결하기 위해 먼저 데이터를 id 기준으로 그룹화한 뒤, \n",
    "## 각 선수의 출전횟수 총합(sum(g))을 경기에 출전한 연도 수(count(year))로 나누어준다.\n",
    "\n",
    "##===== A)\n",
    "# baseball 데이터 확인\n",
    "str(baseball)\n",
    "\n",
    "# 원본데이터 avgG칼럼(선수별 연평균 출전횟수)을 추가하여 출\n",
    "ddply(baseball, .(id), transform, avgG=sum(g)/length(year))\n",
    "\n",
    "\n",
    "\n",
    "##### 나. mutate\n",
    "## Q) transform 예제에서와 마찬가지로 ‘avgG’ 칼럼을 추가하는데 이번에는 mutate 함수를 이용해보자. \n",
    "## 또한 새로 생성한 ‘avgG’칼럼 값을 반올림한 ‘avgG_rnd’ 칼럼도 함께 생성해보자.\n",
    "\n",
    "##===== A)\n",
    "# 원본데이터에 avgG칼럼과 avgG_RND(avgG칼럼을 반올림)칼럼을 한 번에 추가하여 출력\n",
    "# 이 경우, mutate가 아닌 transform을 사용하면 에러가 발생함 \n",
    "ddply(baseball, .(id), mutate, avgG=sum(g)/length(year), avgG_RND=round(avgG))\n",
    "\n",
    "\n",
    "\n",
    "##### 다. summarise\n",
    "## Q1) 선수별로 1871~2007년 사이 기간 동안 출전한 경기 중 가장 마지막에 출전한 경기의 연도수를 \n",
    "## 구해 ’year_fin’ 변수에 저장하고, 관련 정보들만 뽑아서 요약해보자. \n",
    "## 이를 위해 먼저 데이터를 id로 그룹화한 뒤, year 변수의 최댓값을 계산하여 ‘year_fin’변수에 부여한다.\n",
    "\n",
    "##===== A)\n",
    "# summarise를 활용해 선수별 마지막 경기 출전연도 구하기\n",
    "ddply(baseball, .(id), summarise, year_fin=max(year))\n",
    "\n",
    "\n",
    "## Q2) baseball 데이터의 team 변수는 선수의 소속팀을 의미하고, hr은 홈런의 수를 의미한다. \n",
    "## ddply의 summarise를 활용해 팀별 홈런 수의 합을 구하고, 출력해보자.\n",
    "\n",
    "##===== A)\n",
    "# summarise를 활용해 팀별 홈런 수의 합 출력하기\n",
    "ddply(baseball, .(team), summarise, hr_sum=sum(hr))\n",
    "\n",
    "\n",
    "\n",
    "##### 라. subset\n",
    "## Q) ubset을 이용하여 선수별로 마지막 경기 출전연도에 해당하는 행들의 \n",
    "## 일부 열(id, year, stint, team, lg, g)들만 추출해보자. \n",
    "## 아래의 R코드는 먼저 id로 데이터를 그룹화한 뒤, \n",
    "## year값이 선수별 year변수의 최댓값과 같은 행만 subset으로 추출하는 방법이다.\n",
    "\n",
    "##===== A)\n",
    "ddply(baseball, .(id), subset, year==max(year), select=c(\"id\",\"year\",\"stint\",\"team\",\"lg\",\"g\"))"
   ]
  },
  {
   "cell_type": "code",
   "execution_count": null,
   "id": "b7576e47-9684-4b3c-9978-c7c2cfe5fd01",
   "metadata": {},
   "outputs": [],
   "source": []
  },
  {
   "cell_type": "code",
   "execution_count": null,
   "id": "4478192e-ed4b-4519-8af9-34ab8e4731ea",
   "metadata": {},
   "outputs": [],
   "source": []
  },
  {
   "cell_type": "code",
   "execution_count": null,
   "id": "b94c9a77-a22d-4f57-84e6-4f63827ce1a4",
   "metadata": {},
   "outputs": [],
   "source": []
  },
  {
   "cell_type": "code",
   "execution_count": null,
   "id": "3510327b-1a6b-42a8-b89e-de1bf2f35ce6",
   "metadata": {},
   "outputs": [],
   "source": []
  },
  {
   "cell_type": "code",
   "execution_count": null,
   "id": "cb9839a6-c12b-49a0-a18d-322549899f71",
   "metadata": {},
   "outputs": [],
   "source": []
  },
  {
   "cell_type": "markdown",
   "id": "573f5ef7-c6ba-4b21-a43a-135f75e8d778",
   "metadata": {},
   "source": [
    "### 2절. dplyr"
   ]
  },
  {
   "cell_type": "code",
   "execution_count": null,
   "id": "721174e7-458b-4394-8396-949c230643c7",
   "metadata": {},
   "outputs": [],
   "source": []
  },
  {
   "cell_type": "code",
   "execution_count": null,
   "id": "7156baf1-d607-4baf-a64e-fa616a9b5a8b",
   "metadata": {},
   "outputs": [],
   "source": [
    "##### 2. filter\n",
    "## Q) MASS패키지에서 제공하는 Cars93 데이터는 1993년 미국에서 팬매된 93대의 자동차에 대한 정보를 담고 있으며, \n",
    "## 27개의 변수로 이루어져 있다. Cars93 데이터에서 제조사(Manufacturer)가 \"Audi\" 혹은 \"BMW\" 이면서, \n",
    "## 엔진크기(EnginSize)가 2.4 이상인 행들만 추출해보자.\n",
    "\n",
    "##===== A)\n",
    "# 패키지 설치 및 로드\n",
    "install.packages(\"dplyr\")\n",
    "library(dplyr)\n",
    "\n",
    "# filter함수를 사용하여 조건에 맞는 행 추출\n",
    "Cars93 %>% filter((Manufacturer==\"Audi\"|Manufacturer==\"BMW\") & EngineSize>=2.4)"
   ]
  },
  {
   "cell_type": "code",
   "execution_count": null,
   "id": "c45affd0-93e6-480e-af7c-1e7de0fcc53f",
   "metadata": {},
   "outputs": [],
   "source": []
  },
  {
   "cell_type": "code",
   "execution_count": null,
   "id": "7dd84350-ebfc-4ae6-94cc-e8a505f7105f",
   "metadata": {},
   "outputs": [],
   "source": [
    "##### 3. select\n",
    "## Q1) Cars93 데이터의 모델번호(Model), 종류(Type), 가격(Price) 변수들만 추출해보자.\n",
    "\n",
    "##===== A)\n",
    "# select를 사용하여 특정 변수만 추출\n",
    "Cars93 %>% select(Model, Type, Price)\n",
    "\n",
    "# 에러발생 이유 : MASS 패키지의 select()와 dplyr의 select()가 충돌하기 때문\n",
    "# 해결방법 : 사용할 select함수가 dplyr의 함수임을 명시해주기\n",
    "Cars93 %>% dplyr::select(Model, Type, Price)\n",
    "\n",
    "\n",
    "## Q2) 제조사(Manufacture)가 \"Chevrolet\" 혹은 \"Volkswagen\" 이면서, \n",
    "## 가격(Price)이 10이상인 행들의 제조사(Manufacture), 모델(Model), 종류(Type), 가격(Price) 변수들만 추출해보자.\n",
    "\n",
    "##===== A)\n",
    "# filter와 select를 조합하여 조건을 만족하는 데이터의 특정 열만 추출\n",
    "Cars93 %>% \n",
    "  filter((Manufacturer==\"Chevrolet\"|Manufacturer==\"Volkswagen\") & Price>=10)%>%\n",
    "  dplyr::select(Manufacturer, Model, Type, Price)\n"
   ]
  },
  {
   "cell_type": "code",
   "execution_count": null,
   "id": "d0afded2-7403-4241-8a83-09a75fc19eae",
   "metadata": {},
   "outputs": [],
   "source": []
  },
  {
   "cell_type": "code",
   "execution_count": null,
   "id": "a54fbf2e-e42b-4d14-b98e-77889b274622",
   "metadata": {},
   "outputs": [],
   "source": [
    "##### 4. group_by 와 summarise\n",
    "## Q1) Cars93 데이터의 제조사(Manufacturer)별 가격(Price)의 평균과 무게(Weight)의 최댓값을\n",
    "## 산출한 뒤 변수명을 각각 mean_Price, max_Weight로 지정하여 출력해보자.\n",
    "\n",
    "##===== A)\n",
    "# group_by와 summarise를 조합하기\n",
    "Cars93 %>% group_by(Manufacturer) %>% \n",
    "  summarise(mean_Price=mean(Price), max_Weight=max(Weight))\n",
    "\n",
    "\n",
    "## Q2) 종류(Type)와 에어백(AirBags)을 기준으로 데이터를 그룹화한 뒤, \n",
    "## 자동차 평균 무게(Weight)를 구해보자.\n",
    "\n",
    "##===== A)\n",
    "Cars93 %>% group_by(Type, AirBags) %>% summarise(mean_Weight=mean(Weight))"
   ]
  },
  {
   "cell_type": "code",
   "execution_count": null,
   "id": "fc4cab9e-10c9-498e-a570-0f9155245dd8",
   "metadata": {},
   "outputs": [],
   "source": []
  },
  {
   "cell_type": "code",
   "execution_count": null,
   "id": "50f9265f-98f1-4b94-925f-04f952841958",
   "metadata": {},
   "outputs": [],
   "source": [
    "##### 5. mutate\n",
    "## Q) Cars93 데이터에서 가격(Price변수, 1000달러 기준)이 12미만이면 low,\n",
    "## 12이상 23미만이면 middle, 23이상이면 high 값을 가지는 Pr_level 변수를 생성한 뒤,\n",
    "## 모델(Model), 가격(Price), 새로운 파생변수 Pr_level만 출력해보자.\n",
    "\n",
    "##===== A)\n",
    "# mutate를 이용해 파생변수 생성하기\n",
    "Cars93 %>% mutate(Pr_level=ifelse(Price < 12, \"low\", \n",
    "                                  ifelse(Price >= 12 & Price < 23, \"middle\", \"high\"))) %>%\n",
    "  dplyr::select(Model, Price, Pr_level)"
   ]
  },
  {
   "cell_type": "code",
   "execution_count": null,
   "id": "77ca10be-9f91-4ba7-a82c-73d03ba962ef",
   "metadata": {},
   "outputs": [],
   "source": []
  },
  {
   "cell_type": "code",
   "execution_count": null,
   "id": "74d4e277-ac72-4778-9fd5-76de6da1cd34",
   "metadata": {},
   "outputs": [],
   "source": [
    "##### 6. arrange\n",
    "## Q) Cars93 데이터에서 종류(Type)가 \"Midsize\" 혹은 \"Small\" 인 데이터의 \n",
    "## Model, Type, Weight, Price 변수들만 추출한 뒤,\n",
    "## 종류(Type)별로 \"Weight 변수값들이 Weight의 중앙값보다 작은(미만인) 경우는 \"low\", \n",
    "## 중앙값 이상인 경우 \"high\" 값을 갖는 Weight_lv 변수를 생성하라.\n",
    "## 그리고, Price 변수를 기준으로 데이터를 오름차순 정렬하여 출력하여라.\n",
    "\n",
    "##===== A)\n",
    "Cars93 %>% \n",
    "  filter(Type %in% c(\"Midsize\", \"Small\")) %>%\n",
    "  dplyr::select(Model, Type, Weight, Price) %>%\n",
    "  group_by(Type) %>%\n",
    "  mutate(Weight_lv=ifelse(Weight<median(Weight),\"low\",\"high\")) %>%\n",
    "  arrange(Price)"
   ]
  },
  {
   "cell_type": "code",
   "execution_count": null,
   "id": "cbdf5fc4-9c0e-43ba-8c35-2fc378fff00f",
   "metadata": {},
   "outputs": [],
   "source": []
  },
  {
   "cell_type": "code",
   "execution_count": null,
   "id": "cb33abd0-31d0-4fa4-8199-2b0aa2242d9b",
   "metadata": {},
   "outputs": [],
   "source": [
    "##### 7. left, right, inner, full}_join\n",
    "\n",
    "## Q) 카페에서 판매하는 메뉴 코드(code), 이름(name)을 담은 데이터 NAME과 메뉴 코드(code), \n",
    "## 해당 메뉴의 가격(price)을 담은 데이터 PRICE를 생성해보자. \n",
    "## 그 후 각 메뉴의 고유코드를 의미하는 code 변수를 기준으로 \n",
    "## left join, right join, inner join, outer join을 수행하여 결과를 확인해보자.\n",
    "\n",
    "##===== A)\n",
    "# NAME, PRICE 데이터 생성\n",
    "NAME<-data.frame(code=c(\"A01\",\"A02\",\"A03\"),\n",
    "                 name=c(\"coffee\",\"cake\",\"cookie\"))\n",
    "NAME\n",
    "\n",
    "PRICE<-data.frame(code=c(\"A01\",\"A02\",\"A04\"),\n",
    "                  price=c(3000, 4000, 3000))\n",
    "PRICE\n",
    "\n",
    "\n",
    "# left_join\n",
    "cafe_left <- left_join(NAME, PRICE, by=\"code\")\n",
    "cafe_left\n",
    "\n",
    "# right_join\n",
    "cafe_right <- right_join(NAME, PRICE, by=\"code\")\n",
    "cafe_right\n",
    "\n",
    "# inner_join\n",
    "cafe_inner <- inner_join(NAME, PRICE, by=\"code\")\n",
    "cafe_inner\n",
    "\n",
    "# full_join\n",
    "cafe_full <- full_join(NAME, PRICE, by=\"code\")\n",
    "cafe_full"
   ]
  },
  {
   "cell_type": "code",
   "execution_count": null,
   "id": "e8106862-b70d-4a34-991c-8d93f7544342",
   "metadata": {},
   "outputs": [],
   "source": []
  },
  {
   "cell_type": "code",
   "execution_count": null,
   "id": "9f5e33df-8e55-44c2-b12a-d2011e7b0601",
   "metadata": {},
   "outputs": [],
   "source": [
    "##### 8. bind_rows, bind_cols\n",
    "\n",
    "## bind_rows\n",
    "## Q1) 위 예제에서 생성한 NAME 데이터와 PRICE 데이터를 \n",
    "## {base}패키지의 rbind함수와 {dplyr}패키지의 bind_rows함수를 이용해\n",
    "## 행으로 결합해보고 그 결과를 확인해보자. \n",
    "\n",
    "##===== A)\n",
    "# base::rbind 함수를 이용해 데이터 결합\n",
    "rbind(NAME, PRICE) # 데이터 결합이 제대로 되지않고, 에러가 발생함\n",
    "\n",
    "# dplyr::bind_rows 함수를 이용해 데이터 결합\n",
    "bind_rows(NAME, PRICE) \n",
    "# 결합할 데이터들의 변수가 다르더라도 결합이 이루어지며, 빈자리는 NA로 채워짐\n",
    "\n",
    "\n",
    "## Q2) 카페에서 판매되는 메뉴의 고유코드(code)와 이름(name)을 담은 데이터 A, B, C를 \n",
    "## 생성하고, 세 개의 데이터를 행으로 결합해보자. \n",
    "## 또한 각 행이 어떤 데이터로부터 결합된 것인지를 나타내는 id열도 함께 나타내보자.\n",
    "\n",
    "##===== A)\n",
    "# 실습용 데이터 생성\n",
    "A<-data.frame(code=c(1,2), name=c(\"coffee\",\"cake\"))\n",
    "B<-data.frame(code=c(3,4), name=c(\"cookie\",\"juice\"))\n",
    "C<-data.frame(code=5, name=\"bread\")\n",
    "\n",
    "# 세 개의 데이터를 bind_rows함수를 이용해 행으로 결합\n",
    "cafe_bind<-bind_rows(A,B,C, .id=\"id\")              \n",
    "cafe_bind\n",
    "# id열을 통해 1,2행의 원천은 첫 번째 데이터, 3,4행은 두 번째 데이터,\n",
    "# 5행의 원천은 세 번째 데이터로 부터 왔음을 알 수 있음\n",
    "\n",
    "\n",
    "\n",
    "## bind_cols\n",
    "## Q) 총 다섯명의 학생 id(id변수), 국어점수(x변수)가 저장된 A데이터와\n",
    "## 수학점수(y변수)가 저장된 B데이터를 생성한 뒤 두 데이터를 열로 결합해보자.\n",
    "\n",
    "##===== A)\n",
    "# 실습용 데이터 생성\n",
    "A<-data.frame(id=c(1:5), x=c(80,90,95,100,75))\n",
    "B<-data.frame(y=c(80,75,100,90,80))\n",
    "\n",
    "# bind_cols함수를 이용해 데이터의 열을 붙여 결합\n",
    "bind_cols(A,B)"
   ]
  },
  {
   "cell_type": "code",
   "execution_count": null,
   "id": "5dea2ca9-452e-4790-b2b5-16fa47ea17db",
   "metadata": {},
   "outputs": [],
   "source": []
  },
  {
   "cell_type": "code",
   "execution_count": null,
   "id": "a6932cef-ef79-4464-9be7-96cdc4eed358",
   "metadata": {},
   "outputs": [],
   "source": []
  },
  {
   "cell_type": "code",
   "execution_count": null,
   "id": "b55f41ee-f592-45ea-a360-38746bc7e19c",
   "metadata": {},
   "outputs": [],
   "source": []
  },
  {
   "cell_type": "code",
   "execution_count": null,
   "id": "c10fe3e5-4010-4b82-b3de-0555413d0867",
   "metadata": {},
   "outputs": [],
   "source": []
  },
  {
   "cell_type": "markdown",
   "id": "a7eaea4d-391d-4d0b-b403-621e4bea21e7",
   "metadata": {},
   "source": [
    "### 3절. reshape2"
   ]
  },
  {
   "cell_type": "code",
   "execution_count": null,
   "id": "8535ca18-0ebd-45ef-9ed9-476495761427",
   "metadata": {},
   "outputs": [],
   "source": []
  },
  {
   "cell_type": "code",
   "execution_count": null,
   "id": "0a6cb0ba-55d8-48d9-8e31-f2bd814f9fe8",
   "metadata": {},
   "outputs": [],
   "source": [
    "##### 1. reshape2 패키지\n",
    "##### 도표 내 R코드\n",
    "exam<-data.frame(학년=c(1,1,2),\n",
    "                   반=c(\"A\",\"B\",\"C\"),\n",
    "                   국어=c(70,80,85),\n",
    "                   수학=c(80,95,100))\n",
    "\n",
    "mt<-melt(exam, id=c(\"학년\",\"반\"))\n",
    "dcast(mt, 학년+반~variable)\n",
    "dcast(mt, 학년~variable, mean)\n"
   ]
  },
  {
   "cell_type": "code",
   "execution_count": null,
   "id": "88fd8147-94dd-4578-b1ea-d5f8e8aa96a0",
   "metadata": {},
   "outputs": [],
   "source": []
  },
  {
   "cell_type": "code",
   "execution_count": null,
   "id": "1e435393-cabd-42a1-bd4f-5a478c718074",
   "metadata": {},
   "outputs": [],
   "source": [
    "##### 2. melt\n",
    "## Q) R의 airquality는 1973년 5월~9월 동안 뉴욕의 일일 대기 질 측정량에 대한 데이터로, \n",
    "## 153개의 행과 6개의 변수로 이루어져있다. 6개의 변수 중 Month(월)과 Day(일)을 식별자로 두고, \n",
    "## 나머지 변수와 변수 값은 모두 데이터 내에 포함되는 형태로 변환해보자.\n",
    "\n",
    "##===== A)\n",
    "# reshape2 패키지 설치 및 로드\n",
    "install.packages(\"reshape2\")\n",
    "library(reshape2)\n",
    "\n",
    "# melt함수를 사용한 데이터 변환\n",
    "melt(airquality, id.vars=c(\"Month\", \"Day\"), na.rm=T)"
   ]
  },
  {
   "cell_type": "code",
   "execution_count": null,
   "id": "87729ea1-2af6-4a3f-ba0d-3308c79ef42d",
   "metadata": {},
   "outputs": [],
   "source": []
  },
  {
   "cell_type": "code",
   "execution_count": null,
   "id": "f276174d-e67a-474e-a870-704716316ea6",
   "metadata": {},
   "outputs": [],
   "source": [
    "##### 3. dcast\n",
    "## Q1) melt 함수에 대하 예제에서 airquallity에 melt를 적용한 데이터를 airquallity_melt에 저장하고, \n",
    "## 이 데이터를 다시 원래 airauallity와 동일한 형태로 변환해보자.\n",
    "\n",
    "##===== A)\n",
    "# airquallity 데이터에 melt함수를 적용하여 air_melt변수에 저장\n",
    "air_melt<-melt(airquality, id.vars=c(\"Month\", \"Day\"), na.rm=T)\n",
    "\n",
    "# dcast함수를 이용해 air_melt 데이터를 다시 원래 airquallity의 형태로 변환\n",
    "air_dcast<-dcast(air_melt, Month + Day ~ ...)\n",
    "\n",
    "# air_dcast와 airquallity 비교\n",
    "# → 변수의 순서는 조금 바뀌었지만 변수명과 변수값은 동일한 것을 확인할 수 있음\n",
    "head(air_dcast)\n",
    "head(airquality)\n",
    "\n",
    "\n",
    "\n",
    "## Q2) 위 예제에서 만든 air_melt 데이터에서 \n",
    "## Month(월)과 Day(일)을 기준으로 나머지 변수들의 평균값을 구해보자.\n",
    "\n",
    "##===== A)\n",
    "dcast(air_melt, Month+Day ~ variable, fun.aggregate=mean)"
   ]
  },
  {
   "cell_type": "code",
   "execution_count": null,
   "id": "780d6cab-8c36-457c-9cc6-bcc49d4d0585",
   "metadata": {},
   "outputs": [],
   "source": []
  },
  {
   "cell_type": "code",
   "execution_count": null,
   "id": "77cfd0b3-5f54-4dac-84e2-fca6c047f74d",
   "metadata": {},
   "outputs": [],
   "source": []
  },
  {
   "cell_type": "code",
   "execution_count": null,
   "id": "5381f965-4849-4d9b-9581-98d432fedf13",
   "metadata": {},
   "outputs": [],
   "source": []
  },
  {
   "cell_type": "code",
   "execution_count": null,
   "id": "bd53b4c1-f0d3-45a6-9dd2-b8c7deeb5b37",
   "metadata": {},
   "outputs": [],
   "source": []
  },
  {
   "cell_type": "markdown",
   "id": "7581151f-fa31-47c4-b821-85e8307bc51f",
   "metadata": {},
   "source": [
    "### 4절. data.tabler"
   ]
  },
  {
   "cell_type": "code",
   "execution_count": null,
   "id": "8d59e0bb-bb7d-4a80-a375-900b7876dafd",
   "metadata": {},
   "outputs": [],
   "source": []
  },
  {
   "cell_type": "code",
   "execution_count": null,
   "id": "e68e394c-0a2e-4154-805d-83b494723768",
   "metadata": {},
   "outputs": [],
   "source": [
    "##### 2. 데이터 테이블 생성\n",
    "## Q1) 숫자 1,2,3이 저장된 x변수와 문자 “가”,“나”,“다”가 저장된 y변수로 \n",
    "## 이루어진 데이터 테이블(mydata)을 생성한 뒤, 데이터 타입을 확인해보자.\n",
    "\n",
    "##===== A)\n",
    "# data.table 패키지 설치 및 로드\n",
    "install.packages(\"data.table\")\n",
    "library(data.table)\n",
    "\n",
    "# 데이터 테이블 생성\n",
    "mydata<-data.table(x=c(1:3), y=c(\"가\", \"나\", \"다\"))\n",
    "mydata\n",
    "\n",
    "# mydata의 데이터 타입 확인\n",
    "class(mydata)   # 데이터테이블의 클래스가 data.frame도 포함하고 있음\n",
    "\n",
    "\n",
    "## Q2) 데이터 프레임 형태인 iris를 데이터 테이블로 변환한 후 클래스를 확인해보자.\n",
    "# iris 데이터의 클래스 : 데이터 프레임\n",
    "class(iris)   \n",
    "\n",
    "##===== A)\n",
    "# iris 데이터를 데이터 테이블로 변환\n",
    "iris_dt<-as.data.table(iris)\n",
    "class(iris_dt)\n",
    "\n",
    "# iris_dt 출력\n",
    "iris_dt\n",
    "\n",
    "# 모든 데이터 테이블 객체 확인\n",
    "tables()\n"
   ]
  },
  {
   "cell_type": "code",
   "execution_count": null,
   "id": "f661349f-2118-428e-a64d-0a732c6fc232",
   "metadata": {},
   "outputs": [],
   "source": []
  },
  {
   "cell_type": "code",
   "execution_count": null,
   "id": "47aa52c1-38ca-4fc8-8ab1-3702af86c517",
   "metadata": {},
   "outputs": [],
   "source": [
    "##### 3. 데이터 접근\n",
    "\n",
    "## 가. 행\n",
    "## Q)\t[ ] 내 첫 번째 자리에는 행 번호 혹은 선택할 행에 대한 조건식을 지정한다. \n",
    "## 위 예제에서 생성한 iris_dt 데이터로 데이터 테이블의 접근법을 익혀보자.\n",
    "\n",
    "##===== A)\n",
    "# iris_dt의 1행 출력\n",
    "iris_dt[1, ] \n",
    "\n",
    "#1~5행 출력\n",
    "iris_dt[c(1:5), ] \n",
    "\n",
    "#Species 변수 값이 setosa인 행들만 출력\n",
    "iris_dt[iris_dt$Species==\"setosa\", ] \n",
    "\n",
    "\n",
    "## 나. 열\n",
    "# 1~3행의 Petal.Length(세번째 열)만 출력\n",
    "iris_dt[1:3, .(Petal.Length)]\n",
    "iris_dt[1:3, 3]\n",
    "iris_dt[1:3, \"Petal.Length\", with=FALSE]\n",
    "\n",
    "# Sepal.Width, Petal.Width 열만 출력\n",
    "iris_dt[, list(Sepal.Width, Petal.Width)] \n",
    "iris_dt[, .(Sepal.Width, Petal.Width)] \n",
    "\n",
    "# Sepal.Length값의 평균을 출력\n",
    "iris_dt[,mean(Sepal.Length)] \n",
    "\n",
    "\n",
    "## 다. by=“그룹화 기준 변수”\n",
    "\n",
    "# Species별 Petal.Length의 평균 출력 (Species 변수로 데이터를 그룹화)\n",
    "iris_dt[,mean(Petal.Length),by=Species]\n",
    "\n",
    "# Petal.Length 값이 1이상인 행들을 Species로 그룹화한 뒤,\n",
    "# Sepal.Length와 Sepal.Width의 평균을 각각 mean.SL과 mean.SW를 변수명으로 하여 출력\n",
    "iris_dt[Petal.Length>=1, .(mean.SL=mean(Sepal.Length), mean.SW=mean(Sepal.Width)), by=Species]"
   ]
  },
  {
   "cell_type": "code",
   "execution_count": null,
   "id": "7c36896d-529e-4db4-94e6-6ba42946b758",
   "metadata": {},
   "outputs": [],
   "source": []
  },
  {
   "cell_type": "code",
   "execution_count": null,
   "id": "94638082-3f26-4cab-a4a2-5f608f6817e7",
   "metadata": {},
   "outputs": [],
   "source": [
    "##### 4. 새로운 변수 생성\n",
    "\n",
    "## Q) R의 airquality는 데이터프레임 형식이다. airquality 데이터를 데이터테이블로 형식으로 변환하여 \n",
    "## air 변수에 저장한 뒤, ‘Wind’ 변수 값이 Wind의 평균 이상일 경우 “U’ 그렇지 않을 경우 ”D“의 값을 가지는 \n",
    "## 새로운 변수(Wind_class)를 생성해보자.\n",
    "\n",
    "##===== A)\n",
    "# airquality를 데이터테이블로 변환\n",
    "air<-as.data.table(airquality)\n",
    "str(air)\n",
    "\n",
    "# Wind_class 변수 생성\n",
    "# := 기호 사용 : air 데이터에 Wind_class 변수가 추가됨\n",
    "air[,Wind_class:=ifelse(Wind>=mean(Wind),\"U\",\"D\")]\n",
    "\n",
    "# air 데이터 출력 : Wind_class 변수가 추가된 것을 확인할 수 있음\n",
    "air"
   ]
  },
  {
   "cell_type": "code",
   "execution_count": null,
   "id": "83342a5d-db6e-4390-8046-eb2bbe2f4876",
   "metadata": {},
   "outputs": [],
   "source": []
  },
  {
   "cell_type": "code",
   "execution_count": null,
   "id": "7a7cdf6d-187c-414c-9db1-940887331de5",
   "metadata": {},
   "outputs": [],
   "source": [
    "##### 5. 데이터 정렬\n",
    "\n",
    "## Q) 위 예제에서 생성한 air 데이터에서 Month 값이 12,1,2인 경우 “winter”, \n",
    "## Month 값이 3,4,5인경우 “spring”, Month 값이 6,7,8인 경우 “summer”, \n",
    "## 그 외 나머지 값을 갖는 경우는 “fall”의 값을 갖는 새로운 변수 season을 생성해보자.\n",
    "## 그리고 season별 Ozone의 평균을 Ozone_mean변수로 나타내고 \n",
    "## season별 Solar.R의 평균은 Solar.R_mean 변수에 나타낸 뒤, \n",
    "## Ozone_mean을 기준으로 데이터를 내림차순 정렬하여 출력해보자.\n",
    "\n",
    "##===== A)\n",
    "# season 변수 생성\n",
    "air[, season:=ifelse(Month %in% c(12,1,2), \"winter\", \n",
    "                     ifelse(Month %in% c(3:5), \"spring\", \n",
    "                            ifelse(Month %in% c(6:8), \"summer\", \"fall\")))]\n",
    "\n",
    "# air 데이터 1~5행 확인\n",
    "air[1:5]\n",
    "\n",
    "# season별 Ozone과 Solar.R 변수들의 평균 산출 및 정렬\n",
    "air[, .(Ozone_mean=mean(Ozone, na.rm=T), Solar.R_mean=mean(Solar.R, na.rm=T)), \n",
    "    by=.(season)][order(Ozone_mean, decreasing = T)]"
   ]
  },
  {
   "cell_type": "code",
   "execution_count": null,
   "id": "bab96dfc-d719-4aa9-a007-41059b8fe2fc",
   "metadata": {},
   "outputs": [],
   "source": []
  },
  {
   "cell_type": "code",
   "execution_count": null,
   "id": "e34fb580-fbfd-4e7b-b33e-a784b14fba3b",
   "metadata": {},
   "outputs": [],
   "source": [
    "##### 6. key를 활용하여 데이터 다루기\n",
    "\n",
    "## Q) R의 내장 데이터 baseball을 데이터 테이블 형태로 변환한 뒤, year변수를 key로 지정해보자.\n",
    "## 그 후, 데이터테이블[J(제약조건),열,by= ] 코드를 활용하여 year변수가 1960년에 해당하는 데이터를 조회하고,\n",
    "## 1960년대 데이터들의 팀(team변수)별 경기 출전횟수(g변수)의 평균을 구해보자.\n",
    "\n",
    "##===== A)\n",
    "# baseball 데이터를 데이터 테이블로 변환\n",
    "library(plyr)  # baseball데이터가 들어있는 plyr패키지 로드\n",
    "baseball<-as.data.table(baseball)\n",
    "\n",
    "# year변수를 key로 지정\n",
    "setkey(baseball, year)\n",
    "\n",
    "# 1960년대 데이터 조회\n",
    "baseball[J(1960)]\n",
    "\n",
    "\n",
    "# 1960년대 경기 정보 중 팀별 출전횟수의 평균 산출\n",
    "# 팀별 출전횟수의 평균을 저장할 변수 이름을 지정할 경우에는 ‘list(변수명=값)’코드 활용\n",
    "\n",
    "# 변수명을 gmean으로 지정\n",
    "baseball[J(1960), list(gmean=mean(g)), by=team]\n",
    "\n",
    "# 변수명을 지정하지 않음 → V1가 변수명으로 사용됨\n",
    "baseball[J(1960), mean(g), by=team]"
   ]
  },
  {
   "cell_type": "code",
   "execution_count": null,
   "id": "704c6d3d-81b6-4c78-bb91-bb820ff05e00",
   "metadata": {},
   "outputs": [],
   "source": []
  },
  {
   "cell_type": "code",
   "execution_count": null,
   "id": "345eb2ee-2adb-4953-9645-98e8dafffcdf",
   "metadata": {},
   "outputs": [],
   "source": [
    "##### 7. key를 활용한 데이터 병합\n",
    "\n",
    "##### 도표 내 R 코드\n",
    "DT1<-data.table(x1=c(\"가\",\"나\",\"다\"), x2=c(\"A\",\"B\",\"C\"))\n",
    "DT2<-data.table(x1=c(\"가\",\"나\",\"라\"), x3=c(1:3))\n",
    "\n",
    "# 데이터 병합의 기준이 되는 변수(x1)를 key로 지정\n",
    "setkey(DT1, x1)\n",
    "setkey(DT2, x1)\n",
    "\n",
    "# 왼쪽 외부 조인\n",
    "DT2[DT1]\n",
    "\n",
    "# 오른쪽 외부 조인\n",
    "DT1[DT2]\n",
    "\n",
    "# 내부 조인\n",
    "DT1[DT2, nomatch=0]"
   ]
  },
  {
   "cell_type": "code",
   "execution_count": null,
   "id": "4e768196-1275-4f84-84c9-78006d4c6631",
   "metadata": {},
   "outputs": [],
   "source": []
  },
  {
   "cell_type": "code",
   "execution_count": null,
   "id": "7d16fdc8-3218-4d48-b037-c5c3135cdb1c",
   "metadata": {},
   "outputs": [],
   "source": []
  },
  {
   "cell_type": "markdown",
   "id": "0e8be38b-cd09-44c4-9aef-009eb1488142",
   "metadata": {},
   "source": [
    "## 5장. 결측치"
   ]
  },
  {
   "cell_type": "markdown",
   "id": "8215d7da-da0d-49f5-8c0f-3065d3f3f6ba",
   "metadata": {},
   "source": [
    "### 1절. 결측치 인식"
   ]
  },
  {
   "cell_type": "code",
   "execution_count": null,
   "id": "6eec8f37-5a30-49ad-89e0-e0a31d8e824d",
   "metadata": {},
   "outputs": [],
   "source": []
  },
  {
   "cell_type": "code",
   "execution_count": null,
   "id": "891cfb65-d6b7-4d33-ac78-b7d192a17f5d",
   "metadata": {},
   "outputs": [],
   "source": [
    "##### 1. is.na\n",
    "##### 2. complete.cases\n",
    "\n",
    "## Q) R의 내장데이터 airquality는 6개의 변수를 가지고 있으며,\n",
    "## 6개의 변수 중 2개의 변수는 결측치(na값)를 가지고 있다.\n",
    "## is.na와 complete.cases 함수를 이용하여 다양한 방법으로\n",
    "## airquallity 데이터에서 결측치를 인식하는 연습을 수행해보자.\n",
    "\n",
    "\n",
    "## 1) airquality 데이터의 Ozone 변수에 대한 na 값 존재 여부를 파악하고, \n",
    "## 만약 na가 존재한다면 결측치의 개수를 확인해보자.\n",
    "\n",
    "##===== A)\n",
    "# is.na 함수 활용\n",
    "is.na(airquality$Ozone)\n",
    "\n",
    "# Ozone 변수에 존재하는 na의 개수 산출\n",
    "sum(is.na(airquality$Ozone))\n",
    "\n",
    "# Ozone 변수에서 na가 아닌 값과 na값의 개수 비교\n",
    "# table() : 범주별 도수를 구해주는 함수\n",
    "# FALSE : 해당 데이터가 na가 아닌 경우, TRUE : 해당 데이터가 na인 경우\n",
    "table(is.na(airquality$Ozone)) \n",
    "\n",
    "# Ozone 변수에 존재하는 na값의 개수 산출\n",
    "# is.na함수의 결과는 논리값이기 때문에 산술계산이 가능하다. \n",
    "## na가 존재하는 경우 결과값이 TRUE이므로\n",
    "# 이 값을 다 더해 결측치의 개수를 쉽게 파악할 수 있다.\n",
    "\n",
    "\n",
    "\n",
    "## 2) apply 함수는 행 혹은 열별로 함수를 적용하여 한번에 결과를 산출해주는 함수이다. \n",
    "## apply 함수와 사용자 정의 함수를 활용하여 airquality 데이터의 모든 변수에 대해 \n",
    "## 각각 결측치(na값)가 몇 개씩 존재하는지 확인해보자.\n",
    "\n",
    "##===== A)\n",
    "# airquality 의 변수(열)별로 결측치의 개수를 구하는 사용자 정의 함수를 적용\n",
    "# sum(is.na(x)) : x 데이터에 존재하는 na값 개수의 합계를 구함\n",
    "apply(airquality,2,function(x) sum(is.na(x)))\n",
    "\n",
    "\n",
    "\n",
    "## 3) complete.case함수를 이용하여 airquality 데이터에서 na값이 하나라도 존재하는\n",
    "## 행들을 air_na 함수에 저장하고, na값을 하나도 가지지 않는 행들을 air_com 변수에 저장하여라.\n",
    "\n",
    "##===== A)\n",
    "# na 값이 하나라도 존재하는 행들은 air_na 변수에 저장\n",
    "# complete.cases함수를 적용했을 때 FALSE를 반환하는 행들만 저장하면 됨\n",
    "air_na <- airquality[!complete.cases(airquality),]\n",
    "head(air_na)\n",
    "\n",
    "# na 값을 하나도 가지고 있지 않은 행들은 air_com 변수에 저장\n",
    "# complete.cases함수를 적용했을 때 TRUE를 반환하는 행들만 저장하면 됨\n",
    "air_com <- airquality[complete.cases(airquality),]\n",
    "head(air_com)"
   ]
  },
  {
   "cell_type": "code",
   "execution_count": null,
   "id": "b57fc83e-4305-455a-8e91-015afb9e250b",
   "metadata": {},
   "outputs": [],
   "source": []
  },
  {
   "cell_type": "code",
   "execution_count": null,
   "id": "eb36fe27-da55-4183-93e8-3f44b4b1c129",
   "metadata": {},
   "outputs": [],
   "source": []
  },
  {
   "cell_type": "code",
   "execution_count": null,
   "id": "8c7b3141-4f41-481f-aeac-aa6b14c1ec24",
   "metadata": {},
   "outputs": [],
   "source": []
  },
  {
   "cell_type": "code",
   "execution_count": null,
   "id": "ad9093b1-1357-4c69-b360-cc084a306438",
   "metadata": {},
   "outputs": [],
   "source": []
  },
  {
   "cell_type": "code",
   "execution_count": null,
   "id": "0ead7846-e2a7-410f-b45d-d8936c9631e9",
   "metadata": {},
   "outputs": [],
   "source": []
  },
  {
   "cell_type": "code",
   "execution_count": null,
   "id": "bece0d85-3b4f-4e4f-8566-42c7affd8860",
   "metadata": {},
   "outputs": [],
   "source": []
  },
  {
   "cell_type": "code",
   "execution_count": null,
   "id": "2a100205-77b8-4785-a8d1-99275c92e449",
   "metadata": {},
   "outputs": [],
   "source": []
  },
  {
   "cell_type": "code",
   "execution_count": null,
   "id": "be3f7821-e039-4b26-b538-5707f8d91aef",
   "metadata": {},
   "outputs": [],
   "source": []
  },
  {
   "cell_type": "markdown",
   "id": "6b2c36c2-56a2-4b7a-a78b-9d719436d164",
   "metadata": {},
   "source": [
    "### 2절. 결측치 처리"
   ]
  },
  {
   "cell_type": "code",
   "execution_count": null,
   "id": "b67e3d1b-8563-4620-bc60-c5955be117ee",
   "metadata": {},
   "outputs": [],
   "source": []
  },
  {
   "cell_type": "code",
   "execution_count": null,
   "id": "320307dc-b5d1-4655-8dd1-208f122fb05b",
   "metadata": {},
   "outputs": [],
   "source": [
    "##### 1. 결측치 대치법\n",
    "##### 2. 결측치 제거\n",
    "\n",
    "##### 3. 평균 대치법\n",
    "## Q) R의 내장데이터 airquality의 Ozone 변수값이 존재하지 않는 경우, \n",
    "## Ozone 변수 값들의 평균으로 대치해보자.\n",
    "\n",
    "##===== A)\n",
    "# 방법1\n",
    "# 데이터에 NA가 존재할 경우 평균을 산출할 수 없다. \n",
    "## 따라서 mean함수 내부의 na.rm인자 값을 T로 지정해야하며, \n",
    "## 이렇게할 경우 NA값을 제거하고 나머지 값들에 대한 평균을 산출한다.\n",
    "\n",
    "# ifelse 함수를 이용해 Ozone변수값이 na이면 평균으로 대체하고 na가 아니면 기존값을 그대로 가지게 함\n",
    "airquality$Ozone <- ifelse(is.na(airquality$Ozone), mean(airquality$Ozone, na.rm=T), airquality$Ozone)\n",
    "table(is.na(airquality$Ozone))\n",
    "\n",
    "\n",
    "# 방법2\n",
    "airquality[is.na(airquality$Ozone),\"Ozone\"] <-mean(airquality$Ozone, na.rm=T)\n",
    "table(is.na(airquality$Ozone))"
   ]
  },
  {
   "cell_type": "code",
   "execution_count": null,
   "id": "d23811ae-3881-485a-80c1-a43a36bdcbf0",
   "metadata": {},
   "outputs": [],
   "source": []
  },
  {
   "cell_type": "code",
   "execution_count": null,
   "id": "e088e6d9-f741-485b-ac72-902ab0fc1c03",
   "metadata": {},
   "outputs": [],
   "source": [
    "##### 4. 패키지 활용\n",
    "## Q) DMwR의 함수들을 이용하여 NA값을 해당 변수의 중위수로 대치하는 전처리를 수행해보자. \n",
    "## NA값이 대치되는 과정을 확인하기 위해 airquality 데이터에서 \n",
    "## NA값을 하나라도 가지고 있는 행 번호들을 미리 뽑아놓고, \n",
    "## 전처리 전의 원본 데이터(air_before변수에 저장)와 \n",
    "## 전처리 후의 데이터(air_before변수에 저장)를 비교하여 \n",
    "## 전처리가 잘 진행되었는지 확인해보자.\n",
    "\n",
    "##===== A)\n",
    "# 패키지 다운 및 로드\n",
    "install.packages(\"DMwR\")\n",
    "library(DMwR)\n",
    "\n",
    "# airquality에서 na값을 가진 행들의 번호 추출\n",
    "na_idx<-which(!complete.cases(airquality))\n",
    "\n",
    "# na값을 제거하기 전의 원본 데이터를 air_before에 저장\n",
    "air_before<-airquality\n",
    "\n",
    "# na값을 제거한 데이터를 air_after에 저장\n",
    "air_after<-centralImputation(airquality)\n",
    "\n",
    "# 두 데이터에서 na_idx에 저장된 행번호에 해당하는 데이터들을 추출하여 na값이 잘 대체되었는지 비교\n",
    "# head 함수를 사용하여 처음 6행만 비교\n",
    "head(air_before[na_idx,])\n",
    "head(air_after[na_idx,])\n",
    "\n",
    "## 아래 코드의 실행결과 Ozone변수의 중위수는 31.5, Solar.R변수의 중위수는 205이며\n",
    "## air_before에 존재하던 NA값들이 각 변수의 중위수들로 잘 대체된 것을 확인할 수 있다.\n",
    "median(airquality$Ozone, na.rm=T)\n",
    "median(airquality$Solar.R, na.rm=T)"
   ]
  },
  {
   "cell_type": "code",
   "execution_count": null,
   "id": "785a8ebd-08f5-4aea-8eac-44699e26352b",
   "metadata": {},
   "outputs": [],
   "source": []
  },
  {
   "cell_type": "code",
   "execution_count": null,
   "id": "7ee41422-4819-481b-95b1-65ea7be41ae2",
   "metadata": {},
   "outputs": [],
   "source": []
  },
  {
   "cell_type": "code",
   "execution_count": null,
   "id": "d37430f2-53e1-4674-ac9c-64891aabb28e",
   "metadata": {},
   "outputs": [],
   "source": []
  },
  {
   "cell_type": "code",
   "execution_count": null,
   "id": "e6c62c2c-5e9e-46b7-9cf0-55b4b524288e",
   "metadata": {},
   "outputs": [],
   "source": []
  },
  {
   "cell_type": "code",
   "execution_count": null,
   "id": "2c73e58e-0791-4d2b-9eb4-1c8b674ad41e",
   "metadata": {},
   "outputs": [],
   "source": []
  },
  {
   "cell_type": "code",
   "execution_count": null,
   "id": "84d438a3-e61b-4e64-ad6f-69f9adb05260",
   "metadata": {},
   "outputs": [],
   "source": []
  },
  {
   "cell_type": "markdown",
   "id": "f9ffc8ab-3f2e-4dd6-a84f-9e18db8e0e8e",
   "metadata": {},
   "source": [
    "### 3절. 이상치 인식"
   ]
  },
  {
   "cell_type": "code",
   "execution_count": null,
   "id": "7a4dc758-2f2e-4962-8412-20c300f3345e",
   "metadata": {},
   "outputs": [],
   "source": []
  },
  {
   "cell_type": "code",
   "execution_count": null,
   "id": "24d4a205-ddf5-4d88-be96-28df99130475",
   "metadata": {},
   "outputs": [],
   "source": [
    "##### 1. 이상치란?\n",
    "##### 2. 사분위수\n",
    "quantile(x, prob=seq(0, 1, 0.25), na.rm=FALSE, ...)"
   ]
  },
  {
   "cell_type": "code",
   "execution_count": null,
   "id": "8f688c8e-8672-48cb-a022-72584055b3f4",
   "metadata": {},
   "outputs": [],
   "source": []
  },
  {
   "cell_type": "code",
   "execution_count": null,
   "id": "f324647a-edf5-44ce-8bf0-abc0dbfd8399",
   "metadata": {},
   "outputs": [],
   "source": [
    "##### 3. boxplot을 활용한 이상치 판별\n",
    "## Q1) 내장데이터 airquality의 Ozone변수에 대한 boxplot을 그려보자. \n",
    "## 또한 이를 OzoneBP 이라는 변수에 저장하여 lower whisker와 upper whisker 밖에 있는\n",
    "## 이상치가 존재하는지를 확인해보자.\n",
    "\n",
    "##===== A)\n",
    "# airquaity의 Ozone 변수에 대한 boxplot\n",
    "boxplot(airquality$Ozone)\n",
    "\n",
    "# boxplot의 반환값 확인\n",
    "OzoneBP<-boxplot(airquality$Ozone)\n",
    "OzoneBP   # 135, 168라는 이상치가 존재함을 확인할 수 있음\n",
    "\n",
    "\n",
    "## Q2) lower whisker(Q1-1.5×IQR) 보다 작거나 upper whisker(Q3+1.5×IQR) 보다 \n",
    "## 큰 값들을 이상치로 간주하고, 해당 값들이 저장된 행번호를 각각 \n",
    "## upperOutlier, lowerOutlier변수에 저장하자.\n",
    "## 그리고 해당 행을 출력하여 데이터를 확인해보자.\n",
    "\n",
    "##===== A)\n",
    "# Ozone의 1사분위수를 LowerQ에 저장\n",
    "LowerQ<-fivenum(airquality$Ozone)[2]\n",
    "\n",
    "# Ozone의 3사분위수를 UpperQ에 저장\n",
    "UpperQ<-fivenum(airquality$Ozone)[4]\n",
    "\n",
    "# Ozone 변수의 IQR을 구하여 IQR변수에 저장\n",
    "IQR<-IQR(airquality$Ozone, na.rm=T)\n",
    "\n",
    "# Ozone 값이 UpperQ+IQR*1.5 보다 큰 행번호를 upperOutlier에 저장\n",
    "# which(조건) : 조건을 만족하는 행번호 추출\n",
    "upperOutlier<-which(airquality$Ozone>UpperQ+IQR*1.5)\n",
    "\n",
    "# Ozone 값이 LowerQ-IQR*1.5 보다 작은 행번호를 lowerOutlier에 저장\n",
    "lowerOutlier<-which(airquality$Ozone<LowerQ-IQR*1.5)\n",
    "\n",
    "# upperOutlier와 lowerOutlier에 해당하는 Ozone 변수의 값 출력\n",
    "airquality[upperOutlier, \"Ozone\"]\n",
    "airquality[lowerOutlier, \"Ozone\"]\n",
    "# upper whisker(Q3+1.5×IQR)보다 큰 값으로는 135, 168이 있으며,\n",
    "# lower whisker(Q1-1.5×IQR) 보다 작은 값은 존재하지 않음을 알 수 있음."
   ]
  },
  {
   "cell_type": "code",
   "execution_count": null,
   "id": "97cbc4e1-80a9-48bd-bbb0-2b07625eca1c",
   "metadata": {},
   "outputs": [],
   "source": []
  },
  {
   "cell_type": "code",
   "execution_count": null,
   "id": "152c27ab-dc30-46a6-af2a-f3807a993251",
   "metadata": {},
   "outputs": [],
   "source": []
  },
  {
   "cell_type": "code",
   "execution_count": null,
   "id": "527188de-c185-4e8d-93ab-b63119b847d5",
   "metadata": {},
   "outputs": [],
   "source": []
  },
  {
   "cell_type": "code",
   "execution_count": null,
   "id": "86d1121e-c357-4e17-a7b6-e4949023cddb",
   "metadata": {},
   "outputs": [],
   "source": []
  },
  {
   "cell_type": "code",
   "execution_count": null,
   "id": "e486556d-3bee-4dff-a2d1-52e9f3cce779",
   "metadata": {},
   "outputs": [],
   "source": []
  },
  {
   "cell_type": "code",
   "execution_count": null,
   "id": "f027f20f-1821-4aa8-a389-1285385b9e3d",
   "metadata": {},
   "outputs": [],
   "source": []
  },
  {
   "cell_type": "markdown",
   "id": "71c909f8-dbec-4d56-8e8d-fe50a03513bd",
   "metadata": {},
   "source": [
    "## 6장. 날짜 데이터 전처리"
   ]
  },
  {
   "cell_type": "markdown",
   "id": "ef2aa8af-d069-4499-a41a-e9e8eb9342a1",
   "metadata": {},
   "source": [
    "### 1절. 날짜 데이터 다루기"
   ]
  },
  {
   "cell_type": "code",
   "execution_count": null,
   "id": "62fc4ad5-a42a-423c-bf51-7f8482454222",
   "metadata": {},
   "outputs": [],
   "source": []
  },
  {
   "cell_type": "code",
   "execution_count": null,
   "id": "8aa1a0d0-e1fd-498e-b45b-8da50f4a906d",
   "metadata": {},
   "outputs": [],
   "source": [
    "##### 1. R의 날짜 데이터 형식\n",
    "\n",
    "\n",
    "## Q1) Sys.Date함수와 Sys.time함수를 이용해 현재 날짜와 시간을 확인하고 \n",
    "## 각각 다른 변수에 저장하여 데이터 형식을 확인해보자.\n",
    "\n",
    "##===== A)\n",
    "# 현재 날짜를 today변수에 저장\n",
    "today<-Sys.Date()\n",
    "today\n",
    "\n",
    "# today의 클래스 확인\n",
    "class(today)\n",
    "\n",
    "# 현재 날짜와 시간을 time변수에 저장\n",
    "time<-Sys.time()\n",
    "time\n",
    "\n",
    "# time의 클래스 확인\n",
    "class(time)\n",
    "\n",
    "\n",
    "\n",
    "## Q2) unclass( )는 데이터의 클래스 속성을 제거해주는 기능을 가진다. \n",
    "## unclass함수를 today와 time변수에 각각 적용하여 내부적으로 저장하고 있는 값을 확인해보자. \n",
    "## 또한 unclass를 적용한 time변수값을 다시 원래의 데이터 형식 POSIXct로 변환해보자.\n",
    "\n",
    "##===== A)\n",
    "# today 내부의 값 확인 : 1970년 1월 1일 이후로 경과한 일 수를 의미함\n",
    "unclass(today)\n",
    "\n",
    "# time 내부의 값 확인 : 1970년 1월 1일 00:00:00 이후로 경과한 초 수를 의미함\n",
    "unclass(time)\n",
    "\n",
    "# unclass를 적용한 time 값을 다시 원래 날짜 형식으로 변환하기\n",
    "as.POSIXct(unclass(time), origin=\"1970-01-01\")\n",
    "# unclass(time)은 1970년1월1일 이후로 경과한 초 수를 의미하므로, \n",
    "# origin 인자값으로 \"1970-01-01\"을 지정\n",
    "\n",
    "\n",
    "\n",
    "## Q3) Sys.time 함수를 이용하여 현재 시간을 구하고 이를 time 변수에 저장하여라. \n",
    "## time을 POSIXlt형식으로 변환한 뒤, 연/월/시간/일/요일 등의 정보를 추출해보자.\n",
    "\n",
    "##===== A)\n",
    "# 현재 시간을 구한 뒤 POSIXlt 형식으로 변환하여 time 변수에 저장\n",
    "time<-as.POSIXlt(Sys.time())\n",
    "\n",
    "# 연(year) 추출 \n",
    "# time$year에는 1900년 이후의 경과 년도수가 저장되어 있으므로 현재 년도를 구하기 위해서는 1900을 더해야함\n",
    "time$year+1900\n",
    "\n",
    "# 월(mon) 추출 : 월 정보는 0-11값으로 저장되어 있기 때문에 1을 더함\n",
    "time$mon+1\n",
    "\n",
    "# 일(mday) 추출\n",
    "time$mday\n",
    "\n",
    "# 요일(wday) 추출\n",
    "time$wday"
   ]
  },
  {
   "cell_type": "code",
   "execution_count": null,
   "id": "87ee5e1e-a690-4ecc-a2b5-4ce3b7b00f59",
   "metadata": {},
   "outputs": [],
   "source": []
  },
  {
   "cell_type": "code",
   "execution_count": null,
   "id": "8ba2459e-c3c9-490f-8f43-66c3c8acbb7a",
   "metadata": {},
   "outputs": [],
   "source": [
    "##### 2. 날짜 표시형식 변경\n",
    "\n",
    "## Q1) Sys.time 함수를 이용해 현재 날짜와 시간을 now 변수에 저장한 후, \n",
    "## 이를 “네자리 연도수-두자리 월-일 시:분:초”의 형태를 가진 문자형 데이터로 변환해보자.\n",
    "\n",
    "##===== A)\n",
    "# 현재 날짜와 시간을 now에 저장\n",
    "now<-Sys.time()\n",
    "\n",
    "# now 데이터의 class 확인\n",
    "class(now)\n",
    "\n",
    "# now 데이터를 문자형으로 변환\n",
    "format(now, \"%y-%m-%d %H:%M:%S\")\n",
    "\n",
    "# 문자형으로 변환한 데이터의 class 확인 \n",
    "class(format(now, \"%y-%m-%d %H:%M:%S\"))\n",
    "\n",
    "\n",
    "\n",
    "## Q2)  “20200101”이라는 문자열을 Date 형식으로 변환한 후, \n",
    "## date 변수에 저장하여 class를 확인해보자.\n",
    "\n",
    "##===== A)\n",
    "date<-as.Date(\"20200101\", format=\"%Y%m%d\")\n",
    "date\n",
    "\n",
    "# date의 class 확인 : Date 형식으로 변환된 것을 확인할 수 있음\n",
    "class(date)"
   ]
  },
  {
   "cell_type": "code",
   "execution_count": null,
   "id": "9e6e55e3-9d04-4c14-a9f0-441b49204bc7",
   "metadata": {},
   "outputs": [],
   "source": []
  },
  {
   "cell_type": "code",
   "execution_count": null,
   "id": "af04d3a0-9ab6-4b3f-b898-5d7d541d0703",
   "metadata": {},
   "outputs": [],
   "source": [
    "##### 3. 날짜 데이터의 연산\n",
    "\n",
    "# 현재 날짜로부터 100일 후의 날짜 구하기\n",
    "Sys.Date() + 100\n",
    "\n",
    "# \"2020-01-01\"로 표현된 데이터로부터 365일 후의 날짜 구하기\n",
    "as.Date(\"2020-01-01\", format=\"%Y-%m-%d\") + 365\n",
    "\n",
    "# \"1990-01-01\" 과 \"2025-01-01\" 사이의 일 수 구하기\n",
    "as.Date(\"1990-01-01\") - as.Date(\"2025-01-01\")\n",
    "\n",
    "# 두 날짜 사이의 일 수만을 구하고 싶다면 날짜끼리 뺄셈을 한 후 \n",
    "# 해당 값을 숫자형으로 변경하면 된다.\n",
    "days <- as.Date(\"1990-01-01\") - as.Date(\"2025-01-01\")\n",
    "as.numeric(days)\n",
    "\n",
    "\n",
    "\n",
    "\n",
    "# 오늘 날짜와 \"1990-01-01\" 사이의 일 수 구하기\n",
    "difftime(\"1990-01-01\", Sys.Date())\n",
    "\n",
    "# \"09:40:00\"시간과 \"18:30:00\"시간 사이의 차이 구하기\n",
    "as.difftime(\"09:40:00\")-as.difftime(\"18:30:00\")\n"
   ]
  },
  {
   "cell_type": "code",
   "execution_count": null,
   "id": "97b3542f-74cd-47e1-bb39-c5ce3b87c2d7",
   "metadata": {},
   "outputs": [],
   "source": []
  },
  {
   "cell_type": "code",
   "execution_count": null,
   "id": "a3b26aba-9c29-4db5-9bfe-0c53ff39c9a5",
   "metadata": {},
   "outputs": [],
   "source": []
  },
  {
   "cell_type": "code",
   "execution_count": null,
   "id": "b08b7482-17d5-4e27-9130-e1a88767d746",
   "metadata": {},
   "outputs": [],
   "source": []
  },
  {
   "cell_type": "code",
   "execution_count": null,
   "id": "d2b7f581-50c5-49e3-be56-33ffefa431eb",
   "metadata": {},
   "outputs": [],
   "source": []
  },
  {
   "cell_type": "code",
   "execution_count": null,
   "id": "6e840e02-6cf8-4c26-be35-b3de3e7509aa",
   "metadata": {},
   "outputs": [],
   "source": []
  }
 ],
 "metadata": {
  "kernelspec": {
   "display_name": "R",
   "language": "R",
   "name": "ir"
  },
  "language_info": {
   "codemirror_mode": "r",
   "file_extension": ".r",
   "mimetype": "text/x-r-source",
   "name": "R",
   "pygments_lexer": "r",
   "version": "3.6.1"
  }
 },
 "nbformat": 4,
 "nbformat_minor": 5
}
