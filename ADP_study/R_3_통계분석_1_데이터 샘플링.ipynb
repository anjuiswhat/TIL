{
 "cells": [
  {
   "cell_type": "markdown",
   "id": "5ccf3301-b41c-4cd3-a7ef-2052b687190d",
   "metadata": {
    "tags": []
   },
   "source": [
    "# [ PART 03. 통계분석 ] - 1장. 데이터 샘플링"
   ]
  },
  {
   "cell_type": "markdown",
   "id": "1f41485d-2692-45e5-a156-8c4e542d07a2",
   "metadata": {},
   "source": [
    "## 표본 추출"
   ]
  },
  {
   "cell_type": "markdown",
   "id": "acb10196-b4fa-4b49-b032-fa8c29fddd9a",
   "metadata": {
    "tags": []
   },
   "source": [
    "### 1. 단순 임의 추출"
   ]
  },
  {
   "cell_type": "raw",
   "id": "4b811b0e-dab8-4f2f-9b5d-d2e49d1c2ed9",
   "metadata": {},
   "source": [
    "[Problem]\n",
    "- iris 데이터로 분석을 진행하기 위해 전체 데이터의 7:3의 비율로 training data와 test data를 추출한 뒤 새로운 변수에 저장하라.\n",
    "- 데이터 추출 방법은 단순 임의 비복원 추출을 이용한다."
   ]
  },
  {
   "cell_type": "code",
   "execution_count": 1,
   "id": "4bdb8b60-6e69-46e4-9d0a-7ef5957785b4",
   "metadata": {},
   "outputs": [],
   "source": [
    "# iris 데이터 행의 개수에서 70%에 해당하는 행번호를 랜덤으로 추출\n",
    "# nrow() : 데이터의 행 개수를 산출해주는 함수\n",
    "idx <- sample(1:nrow(iris), nrow(iris)*0.7, replace=FALSE)"
   ]
  },
  {
   "cell_type": "code",
   "execution_count": 2,
   "id": "3b3f9d94-aa68-43aa-856c-0bb1148ee4e8",
   "metadata": {},
   "outputs": [],
   "source": [
    "# 추출한 행번호를 이용하여 training 데이터와 test 데이터 생성\n",
    "training<-iris[idx,]\n",
    "test<-iris[-idx,]"
   ]
  },
  {
   "cell_type": "code",
   "execution_count": 3,
   "id": "78be2923-db25-4406-a41d-11b3b99836a1",
   "metadata": {},
   "outputs": [
    {
     "data": {
      "text/html": [
       "<ol class=list-inline>\n",
       "\t<li>150</li>\n",
       "\t<li>5</li>\n",
       "</ol>\n"
      ],
      "text/latex": [
       "\\begin{enumerate*}\n",
       "\\item 150\n",
       "\\item 5\n",
       "\\end{enumerate*}\n"
      ],
      "text/markdown": [
       "1. 150\n",
       "2. 5\n",
       "\n",
       "\n"
      ],
      "text/plain": [
       "[1] 150   5"
      ]
     },
     "metadata": {},
     "output_type": "display_data"
    },
    {
     "data": {
      "text/html": [
       "<ol class=list-inline>\n",
       "\t<li>105</li>\n",
       "\t<li>5</li>\n",
       "</ol>\n"
      ],
      "text/latex": [
       "\\begin{enumerate*}\n",
       "\\item 105\n",
       "\\item 5\n",
       "\\end{enumerate*}\n"
      ],
      "text/markdown": [
       "1. 105\n",
       "2. 5\n",
       "\n",
       "\n"
      ],
      "text/plain": [
       "[1] 105   5"
      ]
     },
     "metadata": {},
     "output_type": "display_data"
    },
    {
     "data": {
      "text/html": [
       "<ol class=list-inline>\n",
       "\t<li>45</li>\n",
       "\t<li>5</li>\n",
       "</ol>\n"
      ],
      "text/latex": [
       "\\begin{enumerate*}\n",
       "\\item 45\n",
       "\\item 5\n",
       "\\end{enumerate*}\n"
      ],
      "text/markdown": [
       "1. 45\n",
       "2. 5\n",
       "\n",
       "\n"
      ],
      "text/plain": [
       "[1] 45  5"
      ]
     },
     "metadata": {},
     "output_type": "display_data"
    }
   ],
   "source": [
    "# 데이터의 개수 확인\n",
    "dim(iris)      # 행의 개수 : 150개\n",
    "dim(training)  # 행의 개수 : iris의 행 개수의 70%에 해당하는 105개\n",
    "dim(test)      # 행의 개수 : iris의 행 개수의 30%에 해당하는 45개"
   ]
  },
  {
   "cell_type": "markdown",
   "id": "9324fc28-d430-4e61-8a50-a4ebef8f9ff2",
   "metadata": {},
   "source": [
    "### 2. 층화 임의 추출"
   ]
  },
  {
   "cell_type": "raw",
   "id": "8b6978a3-f3d6-4650-b733-06d41a44c9a2",
   "metadata": {},
   "source": [
    "[Problem]\n",
    "- iris 데이터에서 Species가 setosa인 데이터를 20개, versicolor인 데이터를 15개, versinica인 데이터를 15개씩 단순 임의 추출을 사용해 추출하라."
   ]
  },
  {
   "cell_type": "code",
   "execution_count": 4,
   "id": "344bd480-6b9f-40d9-81c3-31bc76b16d4a",
   "metadata": {},
   "outputs": [
    {
     "name": "stdout",
     "output_type": "stream",
     "text": [
      "package 'sampling' successfully unpacked and MD5 sums checked\n",
      "\n",
      "The downloaded binary packages are in\n",
      "\tC:\\Users\\Administrator\\AppData\\Local\\Temp\\Rtmpq0VvM2\\downloaded_packages\n"
     ]
    },
    {
     "name": "stderr",
     "output_type": "stream",
     "text": [
      "Warning message:\n",
      "\"package 'sampling' was built under R version 3.6.3\""
     ]
    }
   ],
   "source": [
    "# sampling 패키지 설치 및 로드\n",
    "install.packages(\"sampling\")\n",
    "library(sampling)"
   ]
  },
  {
   "cell_type": "code",
   "execution_count": 5,
   "id": "fe84669c-621f-4aa0-907f-4f1e71dd5ec7",
   "metadata": {},
   "outputs": [
    {
     "data": {
      "text/html": [
       "<table>\n",
       "<thead><tr><th></th><th scope=col>Species</th><th scope=col>ID_unit</th><th scope=col>Prob</th><th scope=col>Stratum</th></tr></thead>\n",
       "<tbody>\n",
       "\t<tr><th scope=row>1</th><td>setosa</td><td> 1    </td><td>0.4   </td><td>1     </td></tr>\n",
       "\t<tr><th scope=row>2</th><td>setosa</td><td> 2    </td><td>0.4   </td><td>1     </td></tr>\n",
       "\t<tr><th scope=row>3</th><td>setosa</td><td> 3    </td><td>0.4   </td><td>1     </td></tr>\n",
       "\t<tr><th scope=row>6</th><td>setosa</td><td> 6    </td><td>0.4   </td><td>1     </td></tr>\n",
       "\t<tr><th scope=row>7</th><td>setosa</td><td> 7    </td><td>0.4   </td><td>1     </td></tr>\n",
       "\t<tr><th scope=row>11</th><td>setosa</td><td>11    </td><td>0.4   </td><td>1     </td></tr>\n",
       "</tbody>\n",
       "</table>\n"
      ],
      "text/latex": [
       "\\begin{tabular}{r|llll}\n",
       "  & Species & ID\\_unit & Prob & Stratum\\\\\n",
       "\\hline\n",
       "\t1 & setosa &  1     & 0.4    & 1     \\\\\n",
       "\t2 & setosa &  2     & 0.4    & 1     \\\\\n",
       "\t3 & setosa &  3     & 0.4    & 1     \\\\\n",
       "\t6 & setosa &  6     & 0.4    & 1     \\\\\n",
       "\t7 & setosa &  7     & 0.4    & 1     \\\\\n",
       "\t11 & setosa & 11     & 0.4    & 1     \\\\\n",
       "\\end{tabular}\n"
      ],
      "text/markdown": [
       "\n",
       "| <!--/--> | Species | ID_unit | Prob | Stratum |\n",
       "|---|---|---|---|---|\n",
       "| 1 | setosa |  1     | 0.4    | 1      |\n",
       "| 2 | setosa |  2     | 0.4    | 1      |\n",
       "| 3 | setosa |  3     | 0.4    | 1      |\n",
       "| 6 | setosa |  6     | 0.4    | 1      |\n",
       "| 7 | setosa |  7     | 0.4    | 1      |\n",
       "| 11 | setosa | 11     | 0.4    | 1      |\n",
       "\n"
      ],
      "text/plain": [
       "   Species ID_unit Prob Stratum\n",
       "1  setosa   1      0.4  1      \n",
       "2  setosa   2      0.4  1      \n",
       "3  setosa   3      0.4  1      \n",
       "6  setosa   6      0.4  1      \n",
       "7  setosa   7      0.4  1      \n",
       "11 setosa  11      0.4  1      "
      ]
     },
     "metadata": {},
     "output_type": "display_data"
    }
   ],
   "source": [
    "# 층화임의추출을 수행한 뒤 sample 변수에 저장\n",
    "sample<-strata(c(\"Species\"), size=c(20,15,15), method=\"srswor\", data=iris)\n",
    "\n",
    "# sample의 상위 6개 행만 추출\n",
    "head(sample)"
   ]
  },
  {
   "cell_type": "code",
   "execution_count": 6,
   "id": "9ad90b81-4831-4ecd-bc88-5572e6231f50",
   "metadata": {},
   "outputs": [
    {
     "data": {
      "text/html": [
       "<table>\n",
       "<thead><tr><th></th><th scope=col>Sepal.Length</th><th scope=col>Sepal.Width</th><th scope=col>Petal.Length</th><th scope=col>Petal.Width</th><th scope=col>Species</th><th scope=col>ID_unit</th><th scope=col>Prob</th><th scope=col>Stratum</th></tr></thead>\n",
       "<tbody>\n",
       "\t<tr><th scope=row>1</th><td>5.1   </td><td>3.5   </td><td>1.4   </td><td>0.2   </td><td>setosa</td><td> 1    </td><td>0.4   </td><td>1     </td></tr>\n",
       "\t<tr><th scope=row>2</th><td>4.9   </td><td>3.0   </td><td>1.4   </td><td>0.2   </td><td>setosa</td><td> 2    </td><td>0.4   </td><td>1     </td></tr>\n",
       "\t<tr><th scope=row>3</th><td>4.7   </td><td>3.2   </td><td>1.3   </td><td>0.2   </td><td>setosa</td><td> 3    </td><td>0.4   </td><td>1     </td></tr>\n",
       "\t<tr><th scope=row>6</th><td>5.4   </td><td>3.9   </td><td>1.7   </td><td>0.4   </td><td>setosa</td><td> 6    </td><td>0.4   </td><td>1     </td></tr>\n",
       "\t<tr><th scope=row>7</th><td>4.6   </td><td>3.4   </td><td>1.4   </td><td>0.3   </td><td>setosa</td><td> 7    </td><td>0.4   </td><td>1     </td></tr>\n",
       "\t<tr><th scope=row>11</th><td>5.4   </td><td>3.7   </td><td>1.5   </td><td>0.2   </td><td>setosa</td><td>11    </td><td>0.4   </td><td>1     </td></tr>\n",
       "</tbody>\n",
       "</table>\n"
      ],
      "text/latex": [
       "\\begin{tabular}{r|llllllll}\n",
       "  & Sepal.Length & Sepal.Width & Petal.Length & Petal.Width & Species & ID\\_unit & Prob & Stratum\\\\\n",
       "\\hline\n",
       "\t1 & 5.1    & 3.5    & 1.4    & 0.2    & setosa &  1     & 0.4    & 1     \\\\\n",
       "\t2 & 4.9    & 3.0    & 1.4    & 0.2    & setosa &  2     & 0.4    & 1     \\\\\n",
       "\t3 & 4.7    & 3.2    & 1.3    & 0.2    & setosa &  3     & 0.4    & 1     \\\\\n",
       "\t6 & 5.4    & 3.9    & 1.7    & 0.4    & setosa &  6     & 0.4    & 1     \\\\\n",
       "\t7 & 4.6    & 3.4    & 1.4    & 0.3    & setosa &  7     & 0.4    & 1     \\\\\n",
       "\t11 & 5.4    & 3.7    & 1.5    & 0.2    & setosa & 11     & 0.4    & 1     \\\\\n",
       "\\end{tabular}\n"
      ],
      "text/markdown": [
       "\n",
       "| <!--/--> | Sepal.Length | Sepal.Width | Petal.Length | Petal.Width | Species | ID_unit | Prob | Stratum |\n",
       "|---|---|---|---|---|---|---|---|---|\n",
       "| 1 | 5.1    | 3.5    | 1.4    | 0.2    | setosa |  1     | 0.4    | 1      |\n",
       "| 2 | 4.9    | 3.0    | 1.4    | 0.2    | setosa |  2     | 0.4    | 1      |\n",
       "| 3 | 4.7    | 3.2    | 1.3    | 0.2    | setosa |  3     | 0.4    | 1      |\n",
       "| 6 | 5.4    | 3.9    | 1.7    | 0.4    | setosa |  6     | 0.4    | 1      |\n",
       "| 7 | 4.6    | 3.4    | 1.4    | 0.3    | setosa |  7     | 0.4    | 1      |\n",
       "| 11 | 5.4    | 3.7    | 1.5    | 0.2    | setosa | 11     | 0.4    | 1      |\n",
       "\n"
      ],
      "text/plain": [
       "   Sepal.Length Sepal.Width Petal.Length Petal.Width Species ID_unit Prob\n",
       "1  5.1          3.5         1.4          0.2         setosa   1      0.4 \n",
       "2  4.9          3.0         1.4          0.2         setosa   2      0.4 \n",
       "3  4.7          3.2         1.3          0.2         setosa   3      0.4 \n",
       "6  5.4          3.9         1.7          0.4         setosa   6      0.4 \n",
       "7  4.6          3.4         1.4          0.3         setosa   7      0.4 \n",
       "11 5.4          3.7         1.5          0.2         setosa  11      0.4 \n",
       "   Stratum\n",
       "1  1      \n",
       "2  1      \n",
       "3  1      \n",
       "6  1      \n",
       "7  1      \n",
       "11 1      "
      ]
     },
     "metadata": {},
     "output_type": "display_data"
    }
   ],
   "source": [
    "# 추출된 데이터를 iris_sample 변수에 저장\n",
    "iris_sample<-getdata(iris, sample)\n",
    "\n",
    "# iris_sample의 상위 6개 행만 추출\n",
    "# ★ 랜덤추출이기 때문에 실행할 때마다 다른 데이터가 추출되어 나올 수 있으며,\n",
    "# ★ 교재 내 R코드 실행결과와도 다른 행들이 추출될 수 있습니다.\n",
    "head(iris_sample)"
   ]
  },
  {
   "cell_type": "code",
   "execution_count": 7,
   "id": "2a3490ac-f7a6-4971-bbf6-15cc8b2b7a5d",
   "metadata": {},
   "outputs": [
    {
     "data": {
      "text/plain": [
       "\n",
       "    setosa versicolor  virginica \n",
       "        20         15         15 "
      ]
     },
     "metadata": {},
     "output_type": "display_data"
    }
   ],
   "source": [
    "# 표본 데이터의 Species 변수에 대한 도수분포표 생성\n",
    "table(iris_sample$Species)"
   ]
  },
  {
   "cell_type": "code",
   "execution_count": null,
   "id": "ec3527f8-5185-4e60-80a7-38219f985fb8",
   "metadata": {},
   "outputs": [],
   "source": []
  },
  {
   "cell_type": "code",
   "execution_count": null,
   "id": "1a879a66-202a-4521-a54e-2e58e89dd8d2",
   "metadata": {},
   "outputs": [],
   "source": []
  },
  {
   "cell_type": "code",
   "execution_count": null,
   "id": "eb2ea037-6c3d-41aa-9b80-772e7835f001",
   "metadata": {},
   "outputs": [],
   "source": []
  },
  {
   "cell_type": "code",
   "execution_count": null,
   "id": "fc80143e-50dd-48d0-902f-ece9628ac80b",
   "metadata": {},
   "outputs": [],
   "source": []
  },
  {
   "cell_type": "code",
   "execution_count": null,
   "id": "dcce89aa-f39b-4592-b69b-b20c5bd40e60",
   "metadata": {},
   "outputs": [],
   "source": []
  },
  {
   "cell_type": "code",
   "execution_count": null,
   "id": "26c3b97c-9de8-4ff7-b428-39ee014d31a0",
   "metadata": {},
   "outputs": [],
   "source": []
  },
  {
   "cell_type": "code",
   "execution_count": null,
   "id": "c921cd64-5be0-4f51-a527-c68016c18527",
   "metadata": {},
   "outputs": [],
   "source": []
  },
  {
   "cell_type": "code",
   "execution_count": null,
   "id": "9a2e1923-d5b6-4385-8b90-ec23beb013d5",
   "metadata": {},
   "outputs": [],
   "source": []
  },
  {
   "cell_type": "code",
   "execution_count": null,
   "id": "183e554b-fa76-4a9d-a6c0-ff3875628396",
   "metadata": {},
   "outputs": [],
   "source": []
  },
  {
   "cell_type": "code",
   "execution_count": null,
   "id": "cde80f3c-804c-46e7-ad84-6e9c8f9fd70d",
   "metadata": {},
   "outputs": [],
   "source": []
  },
  {
   "cell_type": "code",
   "execution_count": null,
   "id": "64bdd7e9-cb12-4838-854a-0f2340ab7a01",
   "metadata": {},
   "outputs": [],
   "source": []
  }
 ],
 "metadata": {
  "kernelspec": {
   "display_name": "R",
   "language": "R",
   "name": "ir"
  },
  "language_info": {
   "codemirror_mode": "r",
   "file_extension": ".r",
   "mimetype": "text/x-r-source",
   "name": "R",
   "pygments_lexer": "r",
   "version": "3.6.1"
  }
 },
 "nbformat": 4,
 "nbformat_minor": 5
}
