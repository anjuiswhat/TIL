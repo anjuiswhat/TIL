{
 "cells": [
  {
   "cell_type": "markdown",
   "id": "89931e24-28cb-4f34-b711-50d2eeb8c25c",
   "metadata": {
    "tags": []
   },
   "source": [
    "## - 불러올 패키지 목록"
   ]
  },
  {
   "cell_type": "code",
   "execution_count": 1,
   "id": "86f9fcd2-3c10-416e-a0c0-e061f8bcf26a",
   "metadata": {},
   "outputs": [],
   "source": [
    "# 수학 함수 패키지\n",
    "import math\n",
    "\n",
    "# 데이터 핸들링을 위한 패키지\n",
    "import numpy as np\n",
    "import pandas as pd\n",
    "\n",
    "# 사이킷런 패키지\n",
    "from sklearn.preprocessing import *  # 데이터 전처리를 위한 패키지\n",
    "from sklearn.model_selection import *  # 데이터 분리, 검증 및 파라미터 튜닝을 위한 패키지\n",
    "from sklearn.metrics import *  # 모델에 대한 다양한 성능 평가를 위한 패키지\n",
    "from sklearn.linear_model import *    # 선형 회귀 분석을 위한 패키지 (로지스틱 회귀 포함)\n",
    "from sklearn.cluster import *  # 비지도 군집화 알고리즘 제공\n",
    "from sklearn.tree import *  # 의사결정나무 알고리즘 제공\n",
    "from sklearn.ensemble import *  # 앙상블 알고리즘 제공\n",
    "from sklearn.neighbors import *  # kNN 알고리즘 제공\n",
    "from sklearn.svm import *  # 서포트 벡터 머신 알고리즘 제공\n",
    "from sklearn.mixture import *  # 혼합분포군집(GMM 등) 알고리즘 제공\n",
    "from sklearn.decomposition import *  # 차원축소 알고리즘 제공\n",
    "\n",
    "# 사이파이 패키지\n",
    "from scipy.stats import *  # 통계 분석을 위한 패키지\n",
    "from scipy.cluster.hierarchy import *  # 계층적 군집 분석을 위한 패키지\n",
    "\n",
    "# statsmodels 패키지\n",
    "import statsmodels.api as sm\n",
    "from statsmodels.formula.api import ols\n",
    "\n",
    "# mlxtend 패키지\n",
    "from mlxtend.preprocessing import *  # 연관분석에 필요한 트랜잭션 전처리 알고리즘 포함\n",
    "from mlxtend.frequent_patterns import *  # 연관분석에 사용되는 알고리즘 포함 \n",
    "from mlxtend.plotting import plot_decision_regions\n",
    "\n",
    "# missingno 패키지 (데이터 전처리 전 결측치 확인)\n",
    "import missingno as msno\n",
    "\n",
    "# label별 데이터 카운트를 위한 모듈\n",
    "from collections import Counter  # https://docs.python.org/3/library/collections.html\n",
    "\n",
    "# 시각화를 위한 패키지\n",
    "import seaborn as sb\n",
    "import matplotlib.pyplot as plt\n",
    "import matplotlib.cm as cm  # 내장 colormap, colormap 처리 유틸리티\n",
    "from matplotlib.colors import ListedColormap  # colors and colormaps\n",
    "from mlxtend.plotting import plot_decision_regions\n",
    "%matplotlib inline\n",
    "# %matplotlib inline 의 목적은 plt.show()함수가 호출되지 않은 경우에도 matplotlib 다이어그램을 렌더링하는 것이다.\n",
    "# 그러나 현재 업데이트된 버전의 주피터 노트북 버전에서는 %matplotlib inline 를 사용하지 않더라도 Matplotlib 다이어그램을 개체로 표현한다.\n",
    "# 따라서 굳이 필요하지는 않다. 그러나 코드를 깨끗하게 유지하고 자신이 만든 플롯을 호출하기 위해 여전히 관례적으로 권장된다.\n",
    "\n",
    "# 경고 메시지 무시\n",
    "import warnings\n",
    "warnings.filterwarnings('ignore')\n",
    "\n",
    "# 그래프 스타일 서식 지정\n",
    "plt.style.use('default')\n",
    "\n",
    "# 한글 폰트 설정\n",
    "plt.rc('font', family='Malgun Gothic')\n",
    "\n",
    "# 그래프 축의 음수 표현 오류 방지\n",
    "plt.rcParams['axes.unicode_minus'] = False"
   ]
  },
  {
   "cell_type": "markdown",
   "id": "d14255ae-06e7-44d0-9ed4-c2f76c2f7cfa",
   "metadata": {},
   "source": [
    "# 데이터 확인 및 전처리"
   ]
  },
  {
   "cell_type": "markdown",
   "id": "0cb5d24e-5af5-41fd-b305-dde4ce572bc0",
   "metadata": {
    "tags": []
   },
   "source": [
    "## Dataset 불러오기 및 data 정보 확인"
   ]
  },
  {
   "cell_type": "markdown",
   "id": "be0b779b-1b44-48ea-a62a-143c9591c31d",
   "metadata": {},
   "source": [
    "### 데이터 불러오기"
   ]
  },
  {
   "cell_type": "code",
   "execution_count": 2,
   "id": "7f3ed3be-b604-43d2-979e-2ed83e343a5a",
   "metadata": {},
   "outputs": [
    {
     "data": {
      "text/html": [
       "<div>\n",
       "<style scoped>\n",
       "    .dataframe tbody tr th:only-of-type {\n",
       "        vertical-align: middle;\n",
       "    }\n",
       "\n",
       "    .dataframe tbody tr th {\n",
       "        vertical-align: top;\n",
       "    }\n",
       "\n",
       "    .dataframe thead th {\n",
       "        text-align: right;\n",
       "    }\n",
       "</style>\n",
       "<table border=\"1\" class=\"dataframe\">\n",
       "  <thead>\n",
       "    <tr style=\"text-align: right;\">\n",
       "      <th></th>\n",
       "      <th>Sepal.Length</th>\n",
       "      <th>Sepal.Width</th>\n",
       "      <th>Petal.Length</th>\n",
       "      <th>Petal.Width</th>\n",
       "      <th>Species</th>\n",
       "    </tr>\n",
       "  </thead>\n",
       "  <tbody>\n",
       "    <tr>\n",
       "      <th>1</th>\n",
       "      <td>5.1</td>\n",
       "      <td>3.5</td>\n",
       "      <td>1.4</td>\n",
       "      <td>0.2</td>\n",
       "      <td>setosa</td>\n",
       "    </tr>\n",
       "    <tr>\n",
       "      <th>2</th>\n",
       "      <td>4.9</td>\n",
       "      <td>3.0</td>\n",
       "      <td>1.4</td>\n",
       "      <td>0.2</td>\n",
       "      <td>setosa</td>\n",
       "    </tr>\n",
       "    <tr>\n",
       "      <th>3</th>\n",
       "      <td>4.7</td>\n",
       "      <td>3.2</td>\n",
       "      <td>1.3</td>\n",
       "      <td>0.2</td>\n",
       "      <td>setosa</td>\n",
       "    </tr>\n",
       "    <tr>\n",
       "      <th>4</th>\n",
       "      <td>4.6</td>\n",
       "      <td>3.1</td>\n",
       "      <td>1.5</td>\n",
       "      <td>0.2</td>\n",
       "      <td>setosa</td>\n",
       "    </tr>\n",
       "    <tr>\n",
       "      <th>5</th>\n",
       "      <td>5.0</td>\n",
       "      <td>3.6</td>\n",
       "      <td>1.4</td>\n",
       "      <td>0.2</td>\n",
       "      <td>setosa</td>\n",
       "    </tr>\n",
       "    <tr>\n",
       "      <th>...</th>\n",
       "      <td>...</td>\n",
       "      <td>...</td>\n",
       "      <td>...</td>\n",
       "      <td>...</td>\n",
       "      <td>...</td>\n",
       "    </tr>\n",
       "    <tr>\n",
       "      <th>146</th>\n",
       "      <td>6.7</td>\n",
       "      <td>3.0</td>\n",
       "      <td>5.2</td>\n",
       "      <td>2.3</td>\n",
       "      <td>virginica</td>\n",
       "    </tr>\n",
       "    <tr>\n",
       "      <th>147</th>\n",
       "      <td>6.3</td>\n",
       "      <td>2.5</td>\n",
       "      <td>5.0</td>\n",
       "      <td>1.9</td>\n",
       "      <td>virginica</td>\n",
       "    </tr>\n",
       "    <tr>\n",
       "      <th>148</th>\n",
       "      <td>6.5</td>\n",
       "      <td>3.0</td>\n",
       "      <td>5.2</td>\n",
       "      <td>2.0</td>\n",
       "      <td>virginica</td>\n",
       "    </tr>\n",
       "    <tr>\n",
       "      <th>149</th>\n",
       "      <td>6.2</td>\n",
       "      <td>3.4</td>\n",
       "      <td>5.4</td>\n",
       "      <td>2.3</td>\n",
       "      <td>virginica</td>\n",
       "    </tr>\n",
       "    <tr>\n",
       "      <th>150</th>\n",
       "      <td>5.9</td>\n",
       "      <td>3.0</td>\n",
       "      <td>5.1</td>\n",
       "      <td>1.8</td>\n",
       "      <td>virginica</td>\n",
       "    </tr>\n",
       "  </tbody>\n",
       "</table>\n",
       "<p>150 rows × 5 columns</p>\n",
       "</div>"
      ],
      "text/plain": [
       "     Sepal.Length  Sepal.Width  Petal.Length  Petal.Width    Species\n",
       "1             5.1          3.5           1.4          0.2     setosa\n",
       "2             4.9          3.0           1.4          0.2     setosa\n",
       "3             4.7          3.2           1.3          0.2     setosa\n",
       "4             4.6          3.1           1.5          0.2     setosa\n",
       "5             5.0          3.6           1.4          0.2     setosa\n",
       "..            ...          ...           ...          ...        ...\n",
       "146           6.7          3.0           5.2          2.3  virginica\n",
       "147           6.3          2.5           5.0          1.9  virginica\n",
       "148           6.5          3.0           5.2          2.0  virginica\n",
       "149           6.2          3.4           5.4          2.3  virginica\n",
       "150           5.9          3.0           5.1          1.8  virginica\n",
       "\n",
       "[150 rows x 5 columns]"
      ]
     },
     "execution_count": 2,
     "metadata": {},
     "output_type": "execute_result"
    }
   ],
   "source": [
    "# 분석할 데이터 불러오기 / 데이터프레임 생성\n",
    "df_iris = pd.read_csv(r'C:\\Users\\Boanerges\\GitHub\\TIL\\rawdata\\iris.csv',\n",
    "                      index_col = 'Unnamed: 0')\n",
    "df_iris"
   ]
  },
  {
   "cell_type": "markdown",
   "id": "7c2a08a1-3c2a-49e1-ad4e-6daf859389e1",
   "metadata": {
    "tags": []
   },
   "source": [
    "### data 정보 확인"
   ]
  },
  {
   "cell_type": "code",
   "execution_count": 3,
   "id": "09cfe7ec-113e-45ec-bddb-a505003afdbe",
   "metadata": {},
   "outputs": [
    {
     "name": "stdout",
     "output_type": "stream",
     "text": [
      "<class 'pandas.core.frame.DataFrame'>\n",
      "Int64Index: 150 entries, 1 to 150\n",
      "Data columns (total 5 columns):\n",
      " #   Column        Non-Null Count  Dtype  \n",
      "---  ------        --------------  -----  \n",
      " 0   Sepal.Length  150 non-null    float64\n",
      " 1   Sepal.Width   150 non-null    float64\n",
      " 2   Petal.Length  150 non-null    float64\n",
      " 3   Petal.Width   150 non-null    float64\n",
      " 4   Species       150 non-null    object \n",
      "dtypes: float64(4), object(1)\n",
      "memory usage: 7.0+ KB\n"
     ]
    }
   ],
   "source": [
    "df_iris.info()"
   ]
  },
  {
   "cell_type": "markdown",
   "id": "0f142309-25a0-40fd-a779-b425cbd87196",
   "metadata": {
    "tags": []
   },
   "source": [
    "## x값(예측변수), y값(목표변수) 설정\n",
    "- svm 시각화를 위해 x변수는 2개만 지정"
   ]
  },
  {
   "cell_type": "code",
   "execution_count": 4,
   "id": "acbf388b-d44b-44b9-a8a1-b1ec0afebdfc",
   "metadata": {},
   "outputs": [],
   "source": [
    "# 목표변수와 나머지 변수들을 따로 저장\n",
    "x = df_iris.iloc[: , [2,3] ]\n",
    "y = df_iris.iloc[:, 4 ]"
   ]
  },
  {
   "cell_type": "code",
   "execution_count": 5,
   "id": "6cd38e1f-6d41-475e-9bda-81a172ba6faf",
   "metadata": {},
   "outputs": [
    {
     "data": {
      "text/html": [
       "<div>\n",
       "<style scoped>\n",
       "    .dataframe tbody tr th:only-of-type {\n",
       "        vertical-align: middle;\n",
       "    }\n",
       "\n",
       "    .dataframe tbody tr th {\n",
       "        vertical-align: top;\n",
       "    }\n",
       "\n",
       "    .dataframe thead th {\n",
       "        text-align: right;\n",
       "    }\n",
       "</style>\n",
       "<table border=\"1\" class=\"dataframe\">\n",
       "  <thead>\n",
       "    <tr style=\"text-align: right;\">\n",
       "      <th></th>\n",
       "      <th>Petal.Length</th>\n",
       "      <th>Petal.Width</th>\n",
       "    </tr>\n",
       "  </thead>\n",
       "  <tbody>\n",
       "    <tr>\n",
       "      <th>1</th>\n",
       "      <td>1.4</td>\n",
       "      <td>0.2</td>\n",
       "    </tr>\n",
       "    <tr>\n",
       "      <th>2</th>\n",
       "      <td>1.4</td>\n",
       "      <td>0.2</td>\n",
       "    </tr>\n",
       "    <tr>\n",
       "      <th>3</th>\n",
       "      <td>1.3</td>\n",
       "      <td>0.2</td>\n",
       "    </tr>\n",
       "    <tr>\n",
       "      <th>4</th>\n",
       "      <td>1.5</td>\n",
       "      <td>0.2</td>\n",
       "    </tr>\n",
       "    <tr>\n",
       "      <th>5</th>\n",
       "      <td>1.4</td>\n",
       "      <td>0.2</td>\n",
       "    </tr>\n",
       "    <tr>\n",
       "      <th>...</th>\n",
       "      <td>...</td>\n",
       "      <td>...</td>\n",
       "    </tr>\n",
       "    <tr>\n",
       "      <th>146</th>\n",
       "      <td>5.2</td>\n",
       "      <td>2.3</td>\n",
       "    </tr>\n",
       "    <tr>\n",
       "      <th>147</th>\n",
       "      <td>5.0</td>\n",
       "      <td>1.9</td>\n",
       "    </tr>\n",
       "    <tr>\n",
       "      <th>148</th>\n",
       "      <td>5.2</td>\n",
       "      <td>2.0</td>\n",
       "    </tr>\n",
       "    <tr>\n",
       "      <th>149</th>\n",
       "      <td>5.4</td>\n",
       "      <td>2.3</td>\n",
       "    </tr>\n",
       "    <tr>\n",
       "      <th>150</th>\n",
       "      <td>5.1</td>\n",
       "      <td>1.8</td>\n",
       "    </tr>\n",
       "  </tbody>\n",
       "</table>\n",
       "<p>150 rows × 2 columns</p>\n",
       "</div>"
      ],
      "text/plain": [
       "     Petal.Length  Petal.Width\n",
       "1             1.4          0.2\n",
       "2             1.4          0.2\n",
       "3             1.3          0.2\n",
       "4             1.5          0.2\n",
       "5             1.4          0.2\n",
       "..            ...          ...\n",
       "146           5.2          2.3\n",
       "147           5.0          1.9\n",
       "148           5.2          2.0\n",
       "149           5.4          2.3\n",
       "150           5.1          1.8\n",
       "\n",
       "[150 rows x 2 columns]"
      ]
     },
     "execution_count": 5,
     "metadata": {},
     "output_type": "execute_result"
    }
   ],
   "source": [
    "x"
   ]
  },
  {
   "cell_type": "code",
   "execution_count": 6,
   "id": "41be2f99-16e0-48e3-94cc-3d08f4e819b6",
   "metadata": {},
   "outputs": [
    {
     "data": {
      "text/plain": [
       "array(['setosa', 'setosa', 'setosa', 'setosa', 'setosa', 'setosa',\n",
       "       'setosa', 'setosa', 'setosa', 'setosa', 'setosa', 'setosa',\n",
       "       'setosa', 'setosa', 'setosa', 'setosa', 'setosa', 'setosa',\n",
       "       'setosa', 'setosa', 'setosa', 'setosa', 'setosa', 'setosa',\n",
       "       'setosa', 'setosa', 'setosa', 'setosa', 'setosa', 'setosa',\n",
       "       'setosa', 'setosa', 'setosa', 'setosa', 'setosa', 'setosa',\n",
       "       'setosa', 'setosa', 'setosa', 'setosa', 'setosa', 'setosa',\n",
       "       'setosa', 'setosa', 'setosa', 'setosa', 'setosa', 'setosa',\n",
       "       'setosa', 'setosa', 'versicolor', 'versicolor', 'versicolor',\n",
       "       'versicolor', 'versicolor', 'versicolor', 'versicolor',\n",
       "       'versicolor', 'versicolor', 'versicolor', 'versicolor',\n",
       "       'versicolor', 'versicolor', 'versicolor', 'versicolor',\n",
       "       'versicolor', 'versicolor', 'versicolor', 'versicolor',\n",
       "       'versicolor', 'versicolor', 'versicolor', 'versicolor',\n",
       "       'versicolor', 'versicolor', 'versicolor', 'versicolor',\n",
       "       'versicolor', 'versicolor', 'versicolor', 'versicolor',\n",
       "       'versicolor', 'versicolor', 'versicolor', 'versicolor',\n",
       "       'versicolor', 'versicolor', 'versicolor', 'versicolor',\n",
       "       'versicolor', 'versicolor', 'versicolor', 'versicolor',\n",
       "       'versicolor', 'versicolor', 'versicolor', 'versicolor',\n",
       "       'versicolor', 'versicolor', 'versicolor', 'virginica', 'virginica',\n",
       "       'virginica', 'virginica', 'virginica', 'virginica', 'virginica',\n",
       "       'virginica', 'virginica', 'virginica', 'virginica', 'virginica',\n",
       "       'virginica', 'virginica', 'virginica', 'virginica', 'virginica',\n",
       "       'virginica', 'virginica', 'virginica', 'virginica', 'virginica',\n",
       "       'virginica', 'virginica', 'virginica', 'virginica', 'virginica',\n",
       "       'virginica', 'virginica', 'virginica', 'virginica', 'virginica',\n",
       "       'virginica', 'virginica', 'virginica', 'virginica', 'virginica',\n",
       "       'virginica', 'virginica', 'virginica', 'virginica', 'virginica',\n",
       "       'virginica', 'virginica', 'virginica', 'virginica', 'virginica',\n",
       "       'virginica', 'virginica', 'virginica'], dtype=object)"
      ]
     },
     "execution_count": 6,
     "metadata": {},
     "output_type": "execute_result"
    }
   ],
   "source": [
    "y.values"
   ]
  },
  {
   "cell_type": "code",
   "execution_count": 7,
   "id": "4045baee-3d42-4ae5-8c84-16bb5cb678ee",
   "metadata": {},
   "outputs": [],
   "source": [
    "# df_iris.data = df_iris.loc[ : , 'Sepal.Length':'Petal.Width' ] .values\n",
    "# df_iris.feature_names = list( df_iris.drop('Species', axis=1) )\n",
    "\n",
    "# df_iris.target = df_iris['Species']\n",
    "# df_iris.target_names = list( df_iris['Species'].unique() )"
   ]
  },
  {
   "cell_type": "markdown",
   "id": "04620384-5861-4c22-a60e-bbfa13f8801f",
   "metadata": {
    "tags": []
   },
   "source": [
    "## y값에 대한 Label Encoding 실행\n",
    "- SVM 수행을 위해서는 y값을 숫자로 변환 필요\n",
    "\n",
    "- `sklearn.preprocessing.LabelEncoder()`  https://scikit-learn.org/stable/modules/generated/sklearn.preprocessing.LabelEncoder.html\n",
    "\n",
    "- Methods : `.fit()`  https://scikit-learn.org/stable/modules/generated/sklearn.preprocessing.LabelEncoder.html#sklearn.preprocessing.LabelEncoder.fit\n",
    "- Methods : `.transform()`  https://scikit-learn.org/stable/modules/generated/sklearn.preprocessing.LabelEncoder.html#sklearn.preprocessing.LabelEncoder.transform"
   ]
  },
  {
   "cell_type": "code",
   "execution_count": 8,
   "id": "15163619-787a-4805-bda8-b078df200189",
   "metadata": {},
   "outputs": [
    {
     "data": {
      "text/plain": [
       "array([0, 0, 0, 0, 0, 0, 0, 0, 0, 0, 0, 0, 0, 0, 0, 0, 0, 0, 0, 0, 0, 0,\n",
       "       0, 0, 0, 0, 0, 0, 0, 0, 0, 0, 0, 0, 0, 0, 0, 0, 0, 0, 0, 0, 0, 0,\n",
       "       0, 0, 0, 0, 0, 0, 1, 1, 1, 1, 1, 1, 1, 1, 1, 1, 1, 1, 1, 1, 1, 1,\n",
       "       1, 1, 1, 1, 1, 1, 1, 1, 1, 1, 1, 1, 1, 1, 1, 1, 1, 1, 1, 1, 1, 1,\n",
       "       1, 1, 1, 1, 1, 1, 1, 1, 1, 1, 1, 1, 2, 2, 2, 2, 2, 2, 2, 2, 2, 2,\n",
       "       2, 2, 2, 2, 2, 2, 2, 2, 2, 2, 2, 2, 2, 2, 2, 2, 2, 2, 2, 2, 2, 2,\n",
       "       2, 2, 2, 2, 2, 2, 2, 2, 2, 2, 2, 2, 2, 2, 2, 2, 2, 2])"
      ]
     },
     "execution_count": 8,
     "metadata": {},
     "output_type": "execute_result"
    }
   ],
   "source": [
    "# 문자로 된 범주형 데이터를 숫자로 변환\n",
    "encoder = LabelEncoder()\n",
    "encoder.fit(y)\n",
    "\n",
    "y2 = encoder.transform(y)\n",
    "\n",
    "y2"
   ]
  },
  {
   "cell_type": "code",
   "execution_count": 9,
   "id": "c72f9465-0fbc-48b0-8096-2cda21de63cc",
   "metadata": {},
   "outputs": [
    {
     "data": {
      "text/html": [
       "<div>\n",
       "<style scoped>\n",
       "    .dataframe tbody tr th:only-of-type {\n",
       "        vertical-align: middle;\n",
       "    }\n",
       "\n",
       "    .dataframe tbody tr th {\n",
       "        vertical-align: top;\n",
       "    }\n",
       "\n",
       "    .dataframe thead th {\n",
       "        text-align: right;\n",
       "    }\n",
       "</style>\n",
       "<table border=\"1\" class=\"dataframe\">\n",
       "  <thead>\n",
       "    <tr style=\"text-align: right;\">\n",
       "      <th></th>\n",
       "      <th>y</th>\n",
       "      <th>y_encoding</th>\n",
       "    </tr>\n",
       "  </thead>\n",
       "  <tbody>\n",
       "    <tr>\n",
       "      <th>0</th>\n",
       "      <td>setosa</td>\n",
       "      <td>0</td>\n",
       "    </tr>\n",
       "    <tr>\n",
       "      <th>1</th>\n",
       "      <td>versicolor</td>\n",
       "      <td>1</td>\n",
       "    </tr>\n",
       "    <tr>\n",
       "      <th>2</th>\n",
       "      <td>virginica</td>\n",
       "      <td>2</td>\n",
       "    </tr>\n",
       "  </tbody>\n",
       "</table>\n",
       "</div>"
      ],
      "text/plain": [
       "            y  y_encoding\n",
       "0      setosa           0\n",
       "1  versicolor           1\n",
       "2   virginica           2"
      ]
     },
     "execution_count": 9,
     "metadata": {},
     "output_type": "execute_result"
    }
   ],
   "source": [
    "pd.DataFrame( { 'y' : y.unique(),\n",
    "                'y_encoding': np.unique(y2) } )"
   ]
  },
  {
   "cell_type": "markdown",
   "id": "3a18be09-4888-4bd2-9a07-a6f26d348fb2",
   "metadata": {},
   "source": [
    "# 학습/테스트용 데이터셋 분리\n",
    "- `sklearn.model_selection.train_test_split()`  https://scikit-learn.org/stable/modules/generated/sklearn.model_selection.train_test_split.html"
   ]
  },
  {
   "cell_type": "code",
   "execution_count": 10,
   "id": "e18470b6-e4c4-45af-bbc9-a01005863fd4",
   "metadata": {},
   "outputs": [
    {
     "name": "stdout",
     "output_type": "stream",
     "text": [
      "Counter({2: 39, 0: 34, 1: 32})\n",
      "\n",
      "Counter({1: 18, 0: 16, 2: 11})\n"
     ]
    }
   ],
   "source": [
    "# 데이터셋 나누고 라벨 분포 확인\n",
    "x_train, x_test, y_train, y_test  = train_test_split( x, y2,\n",
    "                                                      test_size = 0.3,\n",
    "                                                      random_state = 0 )\n",
    "\n",
    "# 라벨별 데이터 분포 확인\n",
    "print( Counter(y_train) )\n",
    "print()\n",
    "print( Counter(y_test) )"
   ]
  },
  {
   "cell_type": "markdown",
   "id": "dc9b3f93-9026-423b-a7a3-416b4aaebc50",
   "metadata": {
    "tags": []
   },
   "source": [
    "# SVM 모델 생성 및 학습\n",
    "- `sklearn.svm: Support Vector Machines`  https://scikit-learn.org/stable/modules/classes.html#module-sklearn.svm\n",
    "- \n",
    "- `sklearn.svm.SVC()` https://scikit-learn.org/stable/modules/generated/sklearn.svm.SVC.html\n",
    "\n",
    "- Attributes : `.classes_`\n",
    "\n",
    "- Methods : `.fit()`  https://scikit-learn.org/stable/modules/generated/sklearn.svm.SVC.html#sklearn.svm.SVC.fit\n",
    "- Methods : `.predict()` https://scikit-learn.org/stable/modules/generated/sklearn.svm.SVC.html#sklearn.svm.SVC.predict\n",
    "- Methods : `.score()`  https://scikit-learn.org/stable/modules/generated/sklearn.svm.SVC.html#sklearn.svm.SVC.score\n",
    "- \n",
    "- [참고] `svm.svc`와 `svm.linearsvc`의 차이???  https://stackoverflow.com/questions/33843981/under-what-parameters-are-svc-and-linearsvc-in-scikit-learn-equivalent/33844092#33844092"
   ]
  },
  {
   "cell_type": "markdown",
   "id": "481c7416-1d1d-4324-89d1-e1b7fba6c96c",
   "metadata": {},
   "source": [
    "## LinearSVC 모델 생성 및 train 데이터로 학습"
   ]
  },
  {
   "cell_type": "code",
   "execution_count": 11,
   "id": "d94806cf-846b-4f59-8ced-f03212db7791",
   "metadata": {},
   "outputs": [
    {
     "data": {
      "text/plain": [
       "SVC(C=0.01, gamma=0.01, kernel='linear')"
      ]
     },
     "execution_count": 11,
     "metadata": {},
     "output_type": "execute_result"
    }
   ],
   "source": [
    "# svm 모델 생성\n",
    "model_svm = SVC( C = 0.01,\n",
    "                 kernel = 'linear',\n",
    "                 gamma = 0.01 )\n",
    "\n",
    "# 모델 학습\n",
    "model_svm.fit( x_train, y_train )"
   ]
  },
  {
   "cell_type": "raw",
   "id": "2dba213f-2525-4c03-a82a-2f103111c19f",
   "metadata": {},
   "source": [
    "# svm 모델 생성\n",
    "model_svm = SVC()\n",
    "\n",
    "# 모델 학습\n",
    "model_svm.fit( x_train, y_train )"
   ]
  },
  {
   "cell_type": "code",
   "execution_count": 12,
   "id": "29ec24fe-f98b-4b9c-a1d5-c7548195a911",
   "metadata": {
    "tags": []
   },
   "outputs": [
    {
     "data": {
      "text/plain": [
       "array([0, 1, 2])"
      ]
     },
     "execution_count": 12,
     "metadata": {},
     "output_type": "execute_result"
    }
   ],
   "source": [
    "# 모델이 분류한 카테고리 확인\n",
    "model_svm.classes_"
   ]
  },
  {
   "cell_type": "markdown",
   "id": "2d19c2a7-7501-4aee-a2e9-340419e21e0e",
   "metadata": {},
   "source": [
    "# SVM 시각화"
   ]
  },
  {
   "cell_type": "markdown",
   "id": "c09190c4-edcb-4d0e-a797-10e5dbaf16cd",
   "metadata": {},
   "source": [
    "- `mlxtend.plotting.plot_decision_regions()`  http://rasbt.github.io/mlxtend/user_guide/plotting/plot_decision_regions/"
   ]
  },
  {
   "cell_type": "code",
   "execution_count": 13,
   "id": "526e257a-df52-4875-a9d0-4e2c40f8cbdc",
   "metadata": {
    "tags": []
   },
   "outputs": [
    {
     "data": {
      "image/png": "[encoded data removed]",
      "text/plain": [
       "<Figure size 640x480 with 1 Axes>"
      ]
     },
     "metadata": {},
     "output_type": "display_data"
    }
   ],
   "source": [
    "# Plotting decision regions\n",
    "plot_decision_regions( x_train.values, y_train,  # x, y 모두 NumPy array 형식이어야 함.\n",
    "                       clf = model_svm )\n",
    "\n",
    "# Adding axes annotations\n",
    "plt.xlabel('sepal length [cm]')\n",
    "plt.ylabel('petal length [cm]')\n",
    "plt.title('SVM on Iris')\n",
    "\n",
    "L = plt.legend()\n",
    "L.get_texts()[0].set_text('Setosa')\n",
    "L.get_texts()[1].set_text('versicolor')\n",
    "L.get_texts()[2].set_text('virginica')\n",
    "\n",
    "plt.show()"
   ]
  },
  {
   "cell_type": "markdown",
   "id": "091b0528-d538-4146-b470-6a76a78c80c9",
   "metadata": {},
   "source": [
    "## [미해결] 마진을 표현하는 선 추가"
   ]
  },
  {
   "cell_type": "code",
   "execution_count": 14,
   "id": "fb08aa7b-3f70-4c6f-b174-904f967e1cee",
   "metadata": {
    "tags": []
   },
   "outputs": [],
   "source": [
    "# 마진을 표현하는 선 추가 ( 종속변수가 3개 이상일때의 적용은 미해결)\n",
    "\n",
    "# 결정 함수 플로팅\n",
    "#ax = plt.gca()\n",
    "#xlim = ax.get_xlim()\n",
    "#ylim = ax.get_ylim()\n",
    "\n",
    "# 모델 평가를위한 그리드 생성\n",
    "#xx = np.linspace(xlim[0], xlim[1], 30)  # 0에서 1까지의 구간을 30개 간격으로 나눈 배열 생성 \n",
    "#yy = np.linspace(ylim[0], ylim[1], 30)\n",
    "#YY, XX = np.meshgrid(yy, xx)\n",
    "#xy = np.vstack([XX.ravel(), YY.ravel()]).T\n",
    "\n",
    "#Z = model_svm.decision_function(xy).reshape(XX.shape)\n",
    "\n",
    "# 결정 경계와 마진\n",
    "#ax.contour(XX, YY, Z, colors='k', levels=[-1, 0, 1], alpha=0.5,\n",
    "#           linestyles=['--', '-', '--'])\n",
    "\n",
    "#plt.show()"
   ]
  },
  {
   "cell_type": "raw",
   "id": "ecdd4b4e-b08b-4115-b593-fdc4819c09d3",
   "metadata": {},
   "source": [
    "\n"
   ]
  },
  {
   "cell_type": "markdown",
   "id": "abeabf04-3c4f-4a1e-96cd-cf1c0086ceee",
   "metadata": {
    "tags": []
   },
   "source": [
    "# 예측 및 평가"
   ]
  },
  {
   "cell_type": "markdown",
   "id": "f56b1b4e-6292-47aa-bd10-68935cb8d72c",
   "metadata": {
    "tags": []
   },
   "source": [
    "## 학습된 모델로 예측 수행"
   ]
  },
  {
   "cell_type": "code",
   "execution_count": 15,
   "id": "831335d4-1efc-4d30-bcfe-8b59752e938d",
   "metadata": {
    "tags": []
   },
   "outputs": [
    {
     "name": "stdout",
     "output_type": "stream",
     "text": [
      "Accuracy: 0.6888888888888889\n",
      "\n"
     ]
    },
    {
     "data": {
      "text/html": [
       "<div>\n",
       "<style scoped>\n",
       "    .dataframe tbody tr th:only-of-type {\n",
       "        vertical-align: middle;\n",
       "    }\n",
       "\n",
       "    .dataframe tbody tr th {\n",
       "        vertical-align: top;\n",
       "    }\n",
       "\n",
       "    .dataframe thead th {\n",
       "        text-align: right;\n",
       "    }\n",
       "</style>\n",
       "<table border=\"1\" class=\"dataframe\">\n",
       "  <thead>\n",
       "    <tr style=\"text-align: right;\">\n",
       "      <th></th>\n",
       "      <th>y_True</th>\n",
       "      <th>y_Predict</th>\n",
       "      <th>Pred_Result</th>\n",
       "    </tr>\n",
       "  </thead>\n",
       "  <tbody>\n",
       "    <tr>\n",
       "      <th>0</th>\n",
       "      <td>2</td>\n",
       "      <td>2</td>\n",
       "      <td>True</td>\n",
       "    </tr>\n",
       "    <tr>\n",
       "      <th>1</th>\n",
       "      <td>1</td>\n",
       "      <td>1</td>\n",
       "      <td>True</td>\n",
       "    </tr>\n",
       "    <tr>\n",
       "      <th>2</th>\n",
       "      <td>0</td>\n",
       "      <td>0</td>\n",
       "      <td>True</td>\n",
       "    </tr>\n",
       "    <tr>\n",
       "      <th>3</th>\n",
       "      <td>2</td>\n",
       "      <td>2</td>\n",
       "      <td>True</td>\n",
       "    </tr>\n",
       "    <tr>\n",
       "      <th>4</th>\n",
       "      <td>0</td>\n",
       "      <td>0</td>\n",
       "      <td>True</td>\n",
       "    </tr>\n",
       "    <tr>\n",
       "      <th>5</th>\n",
       "      <td>2</td>\n",
       "      <td>2</td>\n",
       "      <td>True</td>\n",
       "    </tr>\n",
       "    <tr>\n",
       "      <th>6</th>\n",
       "      <td>0</td>\n",
       "      <td>0</td>\n",
       "      <td>True</td>\n",
       "    </tr>\n",
       "    <tr>\n",
       "      <th>7</th>\n",
       "      <td>1</td>\n",
       "      <td>2</td>\n",
       "      <td>False</td>\n",
       "    </tr>\n",
       "    <tr>\n",
       "      <th>8</th>\n",
       "      <td>1</td>\n",
       "      <td>2</td>\n",
       "      <td>False</td>\n",
       "    </tr>\n",
       "    <tr>\n",
       "      <th>9</th>\n",
       "      <td>1</td>\n",
       "      <td>2</td>\n",
       "      <td>False</td>\n",
       "    </tr>\n",
       "  </tbody>\n",
       "</table>\n",
       "</div>"
      ],
      "text/plain": [
       "   y_True  y_Predict  Pred_Result\n",
       "0       2          2         True\n",
       "1       1          1         True\n",
       "2       0          0         True\n",
       "3       2          2         True\n",
       "4       0          0         True\n",
       "5       2          2         True\n",
       "6       0          0         True\n",
       "7       1          2        False\n",
       "8       1          2        False\n",
       "9       1          2        False"
      ]
     },
     "execution_count": 15,
     "metadata": {},
     "output_type": "execute_result"
    }
   ],
   "source": [
    "# test 데이터로 라벨 예측\n",
    "y_pred = model_svm.predict( x_test )\n",
    "\n",
    "print( 'Accuracy:', model_svm.score( x_test, y_test ) )\n",
    "print()\n",
    "\n",
    "pd.DataFrame( {'y_True' : y_test,\n",
    "               'y_Predict' : y_pred,\n",
    "               'Pred_Result' : y_test == y_pred} ).head(10)"
   ]
  },
  {
   "cell_type": "markdown",
   "id": "4495d9f0-0f7b-4a89-9bf5-40416ba149d1",
   "metadata": {},
   "source": [
    "## 평가"
   ]
  },
  {
   "cell_type": "markdown",
   "id": "0bd8987d-c66c-4d3b-b483-051f3a7fdd97",
   "metadata": {},
   "source": [
    "### Confusion Matrix\n",
    "- `pandas.crosstab()`  https://pandas.pydata.org/docs/reference/api/pandas.crosstab.html\n",
    "- \n",
    "- `sklearn.metrics.confusion_matrix()`  https://scikit-learn.org/stable/modules/generated/sklearn.metrics.confusion_matrix.html\n",
    "- \n",
    "- `sklearn.metrics.multilabel_confusion_matrix()`  https://scikit-learn.org/stable/modules/generated/sklearn.metrics.multilabel_confusion_matrix.html\n",
    "- \n",
    "- `sklearn.metrics.ConfusionMatrixDisplay()`  https://scikit-learn.org/stable/modules/generated/sklearn.metrics.ConfusionMatrixDisplay.html"
   ]
  },
  {
   "cell_type": "code",
   "execution_count": 16,
   "id": "5542fd7a-db9c-4e43-b745-8274bb2cc906",
   "metadata": {},
   "outputs": [
    {
     "data": {
      "text/html": [
       "<div>\n",
       "<style scoped>\n",
       "    .dataframe tbody tr th:only-of-type {\n",
       "        vertical-align: middle;\n",
       "    }\n",
       "\n",
       "    .dataframe tbody tr th {\n",
       "        vertical-align: top;\n",
       "    }\n",
       "\n",
       "    .dataframe thead th {\n",
       "        text-align: right;\n",
       "    }\n",
       "</style>\n",
       "<table border=\"1\" class=\"dataframe\">\n",
       "  <thead>\n",
       "    <tr style=\"text-align: right;\">\n",
       "      <th>real</th>\n",
       "      <th>0</th>\n",
       "      <th>1</th>\n",
       "      <th>2</th>\n",
       "    </tr>\n",
       "    <tr>\n",
       "      <th>pred</th>\n",
       "      <th></th>\n",
       "      <th></th>\n",
       "      <th></th>\n",
       "    </tr>\n",
       "  </thead>\n",
       "  <tbody>\n",
       "    <tr>\n",
       "      <th>0</th>\n",
       "      <td>16</td>\n",
       "      <td>0</td>\n",
       "      <td>0</td>\n",
       "    </tr>\n",
       "    <tr>\n",
       "      <th>1</th>\n",
       "      <td>0</td>\n",
       "      <td>4</td>\n",
       "      <td>14</td>\n",
       "    </tr>\n",
       "    <tr>\n",
       "      <th>2</th>\n",
       "      <td>0</td>\n",
       "      <td>0</td>\n",
       "      <td>11</td>\n",
       "    </tr>\n",
       "  </tbody>\n",
       "</table>\n",
       "</div>"
      ],
      "text/plain": [
       "real   0  1   2\n",
       "pred           \n",
       "0     16  0   0\n",
       "1      0  4  14\n",
       "2      0  0  11"
      ]
     },
     "execution_count": 16,
     "metadata": {},
     "output_type": "execute_result"
    }
   ],
   "source": [
    "conf_mat = pd.crosstab( y_test, y_pred, rownames=['pred'], colnames=['real'] )\n",
    "conf_mat"
   ]
  },
  {
   "cell_type": "code",
   "execution_count": 17,
   "id": "bdf3f682-55d4-40d0-81ca-1af3c66bf337",
   "metadata": {},
   "outputs": [
    {
     "data": {
      "text/plain": [
       "array([[16,  0,  0],\n",
       "       [ 0,  4, 14],\n",
       "       [ 0,  0, 11]], dtype=int64)"
      ]
     },
     "execution_count": 17,
     "metadata": {},
     "output_type": "execute_result"
    }
   ],
   "source": [
    "cm = confusion_matrix(y_test, y_pred)\n",
    "cm"
   ]
  },
  {
   "cell_type": "code",
   "execution_count": 18,
   "id": "fb0d961b-862f-4966-ba8b-1889790e9f60",
   "metadata": {},
   "outputs": [
    {
     "data": {
      "text/plain": [
       "array([[[29,  0],\n",
       "        [ 0, 16]],\n",
       "\n",
       "       [[27,  0],\n",
       "        [14,  4]],\n",
       "\n",
       "       [[20, 14],\n",
       "        [ 0, 11]]], dtype=int64)"
      ]
     },
     "execution_count": 18,
     "metadata": {},
     "output_type": "execute_result"
    }
   ],
   "source": [
    "cm_multi = multilabel_confusion_matrix(y_test, y_pred)\n",
    "cm_multi"
   ]
  },
  {
   "cell_type": "code",
   "execution_count": 19,
   "id": "cece52ad-6643-4798-9bd8-3a88576c7a26",
   "metadata": {},
   "outputs": [
    {
     "data": {
      "text/plain": [
       "<sklearn.metrics._plot.confusion_matrix.ConfusionMatrixDisplay at 0x1ffe32abdc0>"
      ]
     },
     "execution_count": 19,
     "metadata": {},
     "output_type": "execute_result"
    },
    {
     "data": {
      "image/png": "[encoded data removed]",
      "text/plain": [
       "<Figure size 640x480 with 2 Axes>"
      ]
     },
     "metadata": {},
     "output_type": "display_data"
    }
   ],
   "source": [
    "ConfusionMatrixDisplay( cm ).plot()"
   ]
  },
  {
   "cell_type": "code",
   "execution_count": 20,
   "id": "9f8b20a3-d5b0-4c39-97db-8b81a6d33138",
   "metadata": {},
   "outputs": [
    {
     "data": {
      "text/plain": [
       "<sklearn.metrics._plot.confusion_matrix.ConfusionMatrixDisplay at 0x1ffe3456040>"
      ]
     },
     "execution_count": 20,
     "metadata": {},
     "output_type": "execute_result"
    },
    {
     "data": {
      "image/png": "[encoded data removed]",
      "text/plain": [
       "<Figure size 500x1500 with 6 Axes>"
      ]
     },
     "metadata": {},
     "output_type": "display_data"
    }
   ],
   "source": [
    "cm_0 = cm_multi[0]\n",
    "cm_1 = cm_multi[1]\n",
    "cm_2 = cm_multi[2]\n",
    "\n",
    "fig = plt.figure( figsize = (5, 15) )\n",
    "\n",
    "ax0 = fig.add_subplot(3, 1, 1)\n",
    "ax0.set_title( y.unique()[0], size = 15 )\n",
    "\n",
    "ax1 = fig.add_subplot(3, 1, 2)\n",
    "ax1.set_title( y.unique()[1], size = 15 )\n",
    "\n",
    "ax2 = fig.add_subplot(3, 1, 3)\n",
    "ax2.set_title( y.unique()[2], size = 15 )\n",
    "\n",
    "ConfusionMatrixDisplay(cm_0).plot(ax=ax0)\n",
    "ConfusionMatrixDisplay(cm_1).plot(ax=ax1)\n",
    "ConfusionMatrixDisplay(cm_2).plot(ax=ax2)"
   ]
  },
  {
   "cell_type": "markdown",
   "id": "54c75474-88f1-4a41-b2d8-1236877d8d8d",
   "metadata": {},
   "source": [
    "### 분석 지표\n",
    "- `sklearn.metrics.accuracy_score()`  https://scikit-learn.org/stable/modules/generated/sklearn.metrics.accuracy_score.html\n",
    "\n",
    "- `sklearn.metrics.classification_report()`  https://scikit-learn.org/stable/modules/generated/sklearn.metrics.classification_report.html"
   ]
  },
  {
   "cell_type": "code",
   "execution_count": 21,
   "id": "ca8f4b51-54d2-4ee2-9cb4-713c67391dc2",
   "metadata": {},
   "outputs": [
    {
     "name": "stdout",
     "output_type": "stream",
     "text": [
      "Accuracy:  0.6888888888888889\n",
      "\n",
      "              precision    recall  f1-score   support\n",
      "\n",
      "           0      1.000     1.000     1.000        16\n",
      "           1      1.000     0.222     0.364        18\n",
      "           2      0.440     1.000     0.611        11\n",
      "\n",
      "    accuracy                          0.689        45\n",
      "   macro avg      0.813     0.741     0.658        45\n",
      "weighted avg      0.863     0.689     0.650        45\n",
      "\n",
      "\n"
     ]
    }
   ],
   "source": [
    "print( 'Accuracy: ', accuracy_score(y_test, y_pred) )\n",
    "print()\n",
    "\n",
    "print( classification_report(y_test, y_pred, digits = 3) )\n",
    "print()"
   ]
  },
  {
   "cell_type": "raw",
   "id": "84605f72-ddf0-4c8d-9f46-797a0f3e1221",
   "metadata": {},
   "source": [
    "[ Question ]  Label이 여러개 일때, 각각의 accuracy 값이 존재함에도 불구하고 `classification_report()`에서 하나의 값만 출력하는 이유/기준은????"
   ]
  },
  {
   "cell_type": "markdown",
   "id": "f73e412c-1018-4a7e-9b34-293a78be1395",
   "metadata": {
    "jp-MarkdownHeadingCollapsed": true,
    "tags": []
   },
   "source": [
    "### ROC curve / AUC\n",
    "- `sklearn.metrics.roc_curve()`  https://scikit-learn.org/stable/modules/generated/sklearn.metrics.roc_curve.html\n",
    "\n",
    "- `sklearn.metrics.RocCurveDisplay()`  https://scikit-learn.org/stable/modules/generated/sklearn.metrics.RocCurveDisplay.html\n",
    "\n",
    "- `sklearn.metrics.roc_auc_score()`  https://scikit-learn.org/stable/modules/generated/sklearn.metrics.roc_auc_score.html\n",
    "- \n",
    "- [참고] https://scikit-learn.org/stable/auto_examples/model_selection/plot_roc.html"
   ]
  },
  {
   "cell_type": "code",
   "execution_count": 22,
   "id": "c5af8a26-595f-4a9e-88c3-166dab93f520",
   "metadata": {},
   "outputs": [
    {
     "name": "stdout",
     "output_type": "stream",
     "text": [
      "Accuracy:  1.0\n",
      "AUC:  1.0\n",
      "\n"
     ]
    },
    {
     "data": {
      "image/png": "[encoded data removed]",
      "text/plain": [
       "<Figure size 640x480 with 1 Axes>"
      ]
     },
     "metadata": {},
     "output_type": "display_data"
    }
   ],
   "source": [
    "# 'setosa' 에 대한 AUC 계산을 위해 y_test 의 범주형 리스트를 0과 1로 이원화\n",
    "\n",
    "y_test_1 = np.where( y_test == 0, 1, 0 )\n",
    "y_pred_1 = np.where( y_pred == 0, 1, 0 )\n",
    "\n",
    "# Accuracy\n",
    "acc = accuracy_score(y_test_1, y_pred_1)\n",
    "print('Accuracy: ', acc )\n",
    "\n",
    "# AUC 계산\n",
    "auc = roc_auc_score( y_test_1, y_pred_1 )\n",
    "print('AUC: ', auc )\n",
    "print()\n",
    "\n",
    "# ROC curve 출력\n",
    "fpr, tpr, thresholds = roc_curve( y_test_1, y_pred_1,\n",
    "                                  pos_label = 1)\n",
    "\n",
    "RocCurveDisplay( fpr, tpr).plot()\n",
    "plt.legend( labels = ['AUC = %.2f' % auc],\n",
    "            loc = 'lower right')\n",
    "\n",
    "plt.plot( [0,1], [0,1] )\n",
    "\n",
    "plt.show()"
   ]
  },
  {
   "cell_type": "code",
   "execution_count": 23,
   "id": "ef1ce193-d9b2-4c88-b475-660badc2b1cb",
   "metadata": {},
   "outputs": [
    {
     "name": "stdout",
     "output_type": "stream",
     "text": [
      "Accuracy:  0.6888888888888889\n",
      "AUC:  0.6111111111111112\n",
      "\n"
     ]
    },
    {
     "data": {
      "image/png": "[encoded data removed]",
      "text/plain": [
       "<Figure size 640x480 with 1 Axes>"
      ]
     },
     "metadata": {},
     "output_type": "display_data"
    }
   ],
   "source": [
    "# 'versicolor' 에 대한 AUC 계산을 위해 y_test 의 범주형 리스트를 0과 1로 이원화\n",
    "\n",
    "y_test_2 = np.where( y_test == 1, 1, 0 )\n",
    "y_pred_2 = np.where( y_pred == 1, 1, 0 )\n",
    "\n",
    "# Accuracy\n",
    "acc = accuracy_score(y_test_2, y_pred_2)\n",
    "print('Accuracy: ', acc )\n",
    "\n",
    "# AUC 계산\n",
    "auc = roc_auc_score( y_test_2, y_pred_2 )\n",
    "print('AUC: ', auc )\n",
    "print()\n",
    "\n",
    "# ROC curve 출력\n",
    "fpr, tpr, thresholds = roc_curve( y_test_2, y_pred_2,\n",
    "                                  pos_label = 1)\n",
    "\n",
    "RocCurveDisplay( fpr, tpr).plot()\n",
    "plt.legend( labels = ['AUC = %.2f' % auc],\n",
    "            loc = 'lower right')\n",
    "\n",
    "plt.plot( [0,1], [0,1] )\n",
    "\n",
    "plt.show()"
   ]
  },
  {
   "cell_type": "code",
   "execution_count": 24,
   "id": "69e4208a-a940-43e4-9ec8-a672cc4bcc11",
   "metadata": {},
   "outputs": [
    {
     "name": "stdout",
     "output_type": "stream",
     "text": [
      "Accuracy:  0.6888888888888889\n",
      "AUC:  0.7941176470588236\n",
      "\n"
     ]
    },
    {
     "data": {
      "image/png": "[encoded data removed]",
      "text/plain": [
       "<Figure size 640x480 with 1 Axes>"
      ]
     },
     "metadata": {},
     "output_type": "display_data"
    }
   ],
   "source": [
    "# 'virginica' 에 대한 AUC 계산을 위해 y_test 의 범주형 리스트를 0과 1로 이원화\n",
    "y_test_3 = np.where( y_test == 2, 1, 0 )\n",
    "y_pred_3 = np.where( y_pred == 2, 1, 0 )\n",
    "\n",
    "# Accuracy\n",
    "acc = accuracy_score(y_test_3, y_pred_3)\n",
    "print('Accuracy: ', acc )\n",
    "\n",
    "# AUC 계산\n",
    "auc = roc_auc_score( y_test_3, y_pred_3 )\n",
    "print('AUC: ', auc )\n",
    "print()\n",
    "\n",
    "# ROC curve 출력\n",
    "fpr, tpr, thresholds = roc_curve( y_test_3, y_pred_3,\n",
    "                                  pos_label = 1)\n",
    "\n",
    "RocCurveDisplay( fpr, tpr).plot()\n",
    "plt.legend( labels = ['AUC = %.2f' % auc],\n",
    "            loc = 'lower right')\n",
    "\n",
    "plt.plot( [0,1], [0,1] )\n",
    "\n",
    "plt.show()"
   ]
  },
  {
   "cell_type": "raw",
   "id": "f76d8936-d702-4cd1-910d-d16c6aa97658",
   "metadata": {},
   "source": [
    "\n"
   ]
  },
  {
   "cell_type": "markdown",
   "id": "289b6250-5cc9-4f5b-af24-95070609714a",
   "metadata": {
    "tags": []
   },
   "source": [
    "# 모델 최적화"
   ]
  },
  {
   "cell_type": "markdown",
   "id": "4f421b95-f54c-445a-bd4b-7de660c0e83e",
   "metadata": {
    "tags": []
   },
   "source": [
    "## Hyper parameter 최적화: `GridSearchCV`\n",
    "- 교차 검증과 Hyper Parameter 튜닝을 한 번에 수행함.\n",
    "\n",
    "- `sklearn.model_selection.GridSearchCV()`  https://scikit-learn.org/stable/modules/generated/sklearn.model_selection.GridSearchCV.html\n",
    "\n",
    "- Attributes: `cv_results_`, `best_score_`, `best_params_`, `best_estimator_`\n",
    "\n",
    "- Methods: `get_params()`  https://scikit-learn.org/stable/modules/generated/sklearn.model_selection.GridSearchCV.html#sklearn.model_selection.GridSearchCV.get_params"
   ]
  },
  {
   "cell_type": "markdown",
   "id": "8810548f-a822-44c8-9c59-f05a8cdc07b3",
   "metadata": {
    "tags": []
   },
   "source": [
    "### 파라미터 확인 및 평가 조건 설정"
   ]
  },
  {
   "cell_type": "code",
   "execution_count": 25,
   "id": "d118cebd-ed32-426e-b77a-0d66869fbb0e",
   "metadata": {},
   "outputs": [
    {
     "data": {
      "text/plain": [
       "['C',\n",
       " 'break_ties',\n",
       " 'cache_size',\n",
       " 'class_weight',\n",
       " 'coef0',\n",
       " 'decision_function_shape',\n",
       " 'degree',\n",
       " 'gamma',\n",
       " 'kernel',\n",
       " 'max_iter',\n",
       " 'probability',\n",
       " 'random_state',\n",
       " 'shrinking',\n",
       " 'tol',\n",
       " 'verbose']"
      ]
     },
     "execution_count": 25,
     "metadata": {},
     "output_type": "execute_result"
    }
   ],
   "source": [
    "# 파라미터 목록 확인\n",
    "list( model_svm.get_params() )"
   ]
  },
  {
   "cell_type": "code",
   "execution_count": 26,
   "id": "f10ecb32-3eed-4135-ae6d-1ed79fea056d",
   "metadata": {},
   "outputs": [
    {
     "ename": "NameError",
     "evalue": "name 'c' is not defined",
     "output_type": "error",
     "traceback": [
      "\u001b[1;31m---------------------------------------------------------------------------\u001b[0m",
      "\u001b[1;31mNameError\u001b[0m                                 Traceback (most recent call last)",
      "\u001b[1;32m<ipython-input-26-1dd5973cae19>\u001b[0m in \u001b[0;36m<module>\u001b[1;34m\u001b[0m\n\u001b[1;32m----> 1\u001b[1;33m \u001b[0mprint\u001b[0m\u001b[1;33m(\u001b[0m\u001b[0mc\u001b[0m\u001b[1;33m)\u001b[0m\u001b[1;33m\u001b[0m\u001b[1;33m\u001b[0m\u001b[0m\n\u001b[0m",
      "\u001b[1;31mNameError\u001b[0m: name 'c' is not defined"
     ]
    }
   ],
   "source": [
    "print(c)"
   ]
  },
  {
   "cell_type": "raw",
   "id": "9d1a609b-6c9c-457e-9b95-355077bbba4d",
   "metadata": {
    "tags": []
   },
   "source": [
    "# 평가할 파라미터 split 조건 설정\n",
    "# C: Cost(비용), 마진 너비 조절 변수 값이 클수록 마진 너비가 좁아진다\n",
    "# gamma: 감마, 작을 데이터 포인트의 영향이 커 경계가 완만해진다.\n",
    "\n",
    "params = { 'C': [0.1, 1, 10, 100, 1000],  \n",
    "           'gamma': [1, 0.1, 0.01, 0.001, 0.0001],\n",
    "           'kernel' : [ 'linear', 'poly', 'rbf', 'sigmoid' ] }  # 'precomputed' 옵션도 있으나 x가 정사각 행렬일때만 가능하다.\n",
    "\n",
    "grid = GridSearchCV( model_svm,\n",
    "                     param_grid = params,\n",
    "                     cv = 10,\n",
    "                     scoring = 'accuracy',\n",
    "                     refit = True,\n",
    "                     n_jobs = -1 )\n",
    "\n",
    "# split 조건별로 하이퍼 파라미터 학습/평가\n",
    "grid.fit( x, y )"
   ]
  },
  {
   "cell_type": "raw",
   "id": "9b412cd0-68a4-41c9-afda-35a454440f73",
   "metadata": {},
   "source": [
    "[ Question ] split 조건을 어떻게 지정하느냐에 따라 최적화 결과를 도출해도 분류를 못하는 경우가 생김~!!!! 이유는???"
   ]
  },
  {
   "cell_type": "raw",
   "id": "b23184b0-039f-427d-bdff-ca7e36a92121",
   "metadata": {},
   "source": [
    "[ Question ] split 조건 지정 시, gamma split 조건을 범위로 지정하는 방법은???"
   ]
  },
  {
   "cell_type": "code",
   "execution_count": 38,
   "id": "d2819d93-dfac-416a-be12-4933566710a7",
   "metadata": {},
   "outputs": [
    {
     "data": {
      "text/plain": [
       "GridSearchCV(cv=10, estimator=SVC(C=0.01, gamma=0.01, kernel='linear'),\n",
       "             n_jobs=-1,\n",
       "             param_grid={'C': [0.01, 0.1],\n",
       "                         'gamma': ['scale', 'auto', 1e-06, 1e-05, 0.0001, 0.001,\n",
       "                                   0.01, 0.1],\n",
       "                         'kernel': ['linear', 'poly', 'rbf', 'sigmoid']},\n",
       "             scoring='accuracy')"
      ]
     },
     "execution_count": 38,
     "metadata": {},
     "output_type": "execute_result"
    }
   ],
   "source": [
    "# 평가할 파라미터 split 조건 설정\n",
    "\n",
    "params = { 'C' : [ 10**-2, 10**-1 ],\n",
    "           'kernel' : [ 'linear', 'poly', 'rbf', 'sigmoid' ],\n",
    "           'gamma' : [ 'scale', 'auto', 10**-6, 10**-5, 10**-4, 10**-3, 10**-2, 10**-1 ] }\n",
    "\n",
    "grid = GridSearchCV( model_svm,\n",
    "                     param_grid = params,\n",
    "                     cv = 10,\n",
    "                     scoring = 'accuracy',\n",
    "                     refit = True,\n",
    "                     n_jobs = -1)\n",
    "\n",
    "# split 조건별로 하이퍼 파라미터 학습/평가\n",
    "grid.fit( x, y )"
   ]
  },
  {
   "cell_type": "markdown",
   "id": "c8365e5f-9b0f-44bc-a2c7-0e4b42ec9461",
   "metadata": {},
   "source": [
    "### 최적의 파라미터 결과 확인"
   ]
  },
  {
   "cell_type": "code",
   "execution_count": 39,
   "id": "d02a0d72-a3a5-42b7-a9cd-53519dca9fc8",
   "metadata": {},
   "outputs": [
    {
     "name": "stdout",
     "output_type": "stream",
     "text": [
      "<class 'pandas.core.frame.DataFrame'>\n",
      "RangeIndex: 64 entries, 0 to 63\n",
      "Data columns (total 21 columns):\n",
      " #   Column             Non-Null Count  Dtype  \n",
      "---  ------             --------------  -----  \n",
      " 0   mean_fit_time      64 non-null     float64\n",
      " 1   std_fit_time       64 non-null     float64\n",
      " 2   mean_score_time    64 non-null     float64\n",
      " 3   std_score_time     64 non-null     float64\n",
      " 4   param_C            64 non-null     object \n",
      " 5   param_gamma        64 non-null     object \n",
      " 6   param_kernel       64 non-null     object \n",
      " 7   params             64 non-null     object \n",
      " 8   split0_test_score  64 non-null     float64\n",
      " 9   split1_test_score  64 non-null     float64\n",
      " 10  split2_test_score  64 non-null     float64\n",
      " 11  split3_test_score  64 non-null     float64\n",
      " 12  split4_test_score  64 non-null     float64\n",
      " 13  split5_test_score  64 non-null     float64\n",
      " 14  split6_test_score  64 non-null     float64\n",
      " 15  split7_test_score  64 non-null     float64\n",
      " 16  split8_test_score  64 non-null     float64\n",
      " 17  split9_test_score  64 non-null     float64\n",
      " 18  mean_test_score    64 non-null     float64\n",
      " 19  std_test_score     64 non-null     float64\n",
      " 20  rank_test_score    64 non-null     int32  \n",
      "dtypes: float64(16), int32(1), object(4)\n",
      "memory usage: 10.4+ KB\n"
     ]
    }
   ],
   "source": [
    "df_grid = pd.DataFrame( grid.cv_results_ )\n",
    "\n",
    "df_grid.info()"
   ]
  },
  {
   "cell_type": "code",
   "execution_count": 40,
   "id": "48fecb1e-6c01-4efa-9967-e178ad239803",
   "metadata": {},
   "outputs": [
    {
     "data": {
      "text/html": [
       "<div>\n",
       "<style scoped>\n",
       "    .dataframe tbody tr th:only-of-type {\n",
       "        vertical-align: middle;\n",
       "    }\n",
       "\n",
       "    .dataframe tbody tr th {\n",
       "        vertical-align: top;\n",
       "    }\n",
       "\n",
       "    .dataframe thead th {\n",
       "        text-align: right;\n",
       "    }\n",
       "</style>\n",
       "<table border=\"1\" class=\"dataframe\">\n",
       "  <thead>\n",
       "    <tr style=\"text-align: right;\">\n",
       "      <th></th>\n",
       "      <th>params</th>\n",
       "      <th>mean_test_score</th>\n",
       "      <th>std_test_score</th>\n",
       "      <th>rank_test_score</th>\n",
       "    </tr>\n",
       "  </thead>\n",
       "  <tbody>\n",
       "    <tr>\n",
       "      <th>0</th>\n",
       "      <td>{'C': 0.01, 'gamma': 'scale', 'kernel': 'linear'}</td>\n",
       "      <td>0.966667</td>\n",
       "      <td>0.044721</td>\n",
       "      <td>1</td>\n",
       "    </tr>\n",
       "    <tr>\n",
       "      <th>20</th>\n",
       "      <td>{'C': 0.01, 'gamma': 0.001, 'kernel': 'linear'}</td>\n",
       "      <td>0.966667</td>\n",
       "      <td>0.044721</td>\n",
       "      <td>1</td>\n",
       "    </tr>\n",
       "    <tr>\n",
       "      <th>22</th>\n",
       "      <td>{'C': 0.01, 'gamma': 0.001, 'kernel': 'rbf'}</td>\n",
       "      <td>0.966667</td>\n",
       "      <td>0.044721</td>\n",
       "      <td>1</td>\n",
       "    </tr>\n",
       "    <tr>\n",
       "      <th>23</th>\n",
       "      <td>{'C': 0.01, 'gamma': 0.001, 'kernel': 'sigmoid'}</td>\n",
       "      <td>0.966667</td>\n",
       "      <td>0.044721</td>\n",
       "      <td>1</td>\n",
       "    </tr>\n",
       "    <tr>\n",
       "      <th>24</th>\n",
       "      <td>{'C': 0.01, 'gamma': 0.01, 'kernel': 'linear'}</td>\n",
       "      <td>0.966667</td>\n",
       "      <td>0.044721</td>\n",
       "      <td>1</td>\n",
       "    </tr>\n",
       "    <tr>\n",
       "      <th>26</th>\n",
       "      <td>{'C': 0.01, 'gamma': 0.01, 'kernel': 'rbf'}</td>\n",
       "      <td>0.966667</td>\n",
       "      <td>0.044721</td>\n",
       "      <td>1</td>\n",
       "    </tr>\n",
       "    <tr>\n",
       "      <th>30</th>\n",
       "      <td>{'C': 0.01, 'gamma': 0.1, 'kernel': 'rbf'}</td>\n",
       "      <td>0.966667</td>\n",
       "      <td>0.044721</td>\n",
       "      <td>1</td>\n",
       "    </tr>\n",
       "    <tr>\n",
       "      <th>58</th>\n",
       "      <td>{'C': 0.1, 'gamma': 0.01, 'kernel': 'rbf'}</td>\n",
       "      <td>0.966667</td>\n",
       "      <td>0.044721</td>\n",
       "      <td>1</td>\n",
       "    </tr>\n",
       "    <tr>\n",
       "      <th>42</th>\n",
       "      <td>{'C': 0.1, 'gamma': 1e-06, 'kernel': 'rbf'}</td>\n",
       "      <td>0.966667</td>\n",
       "      <td>0.044721</td>\n",
       "      <td>1</td>\n",
       "    </tr>\n",
       "    <tr>\n",
       "      <th>43</th>\n",
       "      <td>{'C': 0.1, 'gamma': 1e-06, 'kernel': 'sigmoid'}</td>\n",
       "      <td>0.966667</td>\n",
       "      <td>0.044721</td>\n",
       "      <td>1</td>\n",
       "    </tr>\n",
       "    <tr>\n",
       "      <th>46</th>\n",
       "      <td>{'C': 0.1, 'gamma': 1e-05, 'kernel': 'rbf'}</td>\n",
       "      <td>0.966667</td>\n",
       "      <td>0.044721</td>\n",
       "      <td>1</td>\n",
       "    </tr>\n",
       "    <tr>\n",
       "      <th>47</th>\n",
       "      <td>{'C': 0.1, 'gamma': 1e-05, 'kernel': 'sigmoid'}</td>\n",
       "      <td>0.966667</td>\n",
       "      <td>0.044721</td>\n",
       "      <td>1</td>\n",
       "    </tr>\n",
       "    <tr>\n",
       "      <th>50</th>\n",
       "      <td>{'C': 0.1, 'gamma': 0.0001, 'kernel': 'rbf'}</td>\n",
       "      <td>0.966667</td>\n",
       "      <td>0.044721</td>\n",
       "      <td>1</td>\n",
       "    </tr>\n",
       "    <tr>\n",
       "      <th>51</th>\n",
       "      <td>{'C': 0.1, 'gamma': 0.0001, 'kernel': 'sigmoid'}</td>\n",
       "      <td>0.966667</td>\n",
       "      <td>0.044721</td>\n",
       "      <td>1</td>\n",
       "    </tr>\n",
       "    <tr>\n",
       "      <th>54</th>\n",
       "      <td>{'C': 0.1, 'gamma': 0.001, 'kernel': 'rbf'}</td>\n",
       "      <td>0.966667</td>\n",
       "      <td>0.044721</td>\n",
       "      <td>1</td>\n",
       "    </tr>\n",
       "    <tr>\n",
       "      <th>55</th>\n",
       "      <td>{'C': 0.1, 'gamma': 0.001, 'kernel': 'sigmoid'}</td>\n",
       "      <td>0.966667</td>\n",
       "      <td>0.044721</td>\n",
       "      <td>1</td>\n",
       "    </tr>\n",
       "    <tr>\n",
       "      <th>19</th>\n",
       "      <td>{'C': 0.01, 'gamma': 0.0001, 'kernel': 'sigmoid'}</td>\n",
       "      <td>0.966667</td>\n",
       "      <td>0.044721</td>\n",
       "      <td>1</td>\n",
       "    </tr>\n",
       "    <tr>\n",
       "      <th>18</th>\n",
       "      <td>{'C': 0.01, 'gamma': 0.0001, 'kernel': 'rbf'}</td>\n",
       "      <td>0.966667</td>\n",
       "      <td>0.044721</td>\n",
       "      <td>1</td>\n",
       "    </tr>\n",
       "    <tr>\n",
       "      <th>28</th>\n",
       "      <td>{'C': 0.01, 'gamma': 0.1, 'kernel': 'linear'}</td>\n",
       "      <td>0.966667</td>\n",
       "      <td>0.044721</td>\n",
       "      <td>1</td>\n",
       "    </tr>\n",
       "    <tr>\n",
       "      <th>16</th>\n",
       "      <td>{'C': 0.01, 'gamma': 0.0001, 'kernel': 'linear'}</td>\n",
       "      <td>0.966667</td>\n",
       "      <td>0.044721</td>\n",
       "      <td>1</td>\n",
       "    </tr>\n",
       "    <tr>\n",
       "      <th>15</th>\n",
       "      <td>{'C': 0.01, 'gamma': 1e-05, 'kernel': 'sigmoid'}</td>\n",
       "      <td>0.966667</td>\n",
       "      <td>0.044721</td>\n",
       "      <td>1</td>\n",
       "    </tr>\n",
       "    <tr>\n",
       "      <th>2</th>\n",
       "      <td>{'C': 0.01, 'gamma': 'scale', 'kernel': 'rbf'}</td>\n",
       "      <td>0.966667</td>\n",
       "      <td>0.044721</td>\n",
       "      <td>1</td>\n",
       "    </tr>\n",
       "    <tr>\n",
       "      <th>14</th>\n",
       "      <td>{'C': 0.01, 'gamma': 1e-05, 'kernel': 'rbf'}</td>\n",
       "      <td>0.966667</td>\n",
       "      <td>0.044721</td>\n",
       "      <td>1</td>\n",
       "    </tr>\n",
       "    <tr>\n",
       "      <th>8</th>\n",
       "      <td>{'C': 0.01, 'gamma': 1e-06, 'kernel': 'linear'}</td>\n",
       "      <td>0.966667</td>\n",
       "      <td>0.044721</td>\n",
       "      <td>1</td>\n",
       "    </tr>\n",
       "    <tr>\n",
       "      <th>12</th>\n",
       "      <td>{'C': 0.01, 'gamma': 1e-05, 'kernel': 'linear'}</td>\n",
       "      <td>0.966667</td>\n",
       "      <td>0.044721</td>\n",
       "      <td>1</td>\n",
       "    </tr>\n",
       "    <tr>\n",
       "      <th>4</th>\n",
       "      <td>{'C': 0.01, 'gamma': 'auto', 'kernel': 'linear'}</td>\n",
       "      <td>0.966667</td>\n",
       "      <td>0.044721</td>\n",
       "      <td>1</td>\n",
       "    </tr>\n",
       "    <tr>\n",
       "      <th>11</th>\n",
       "      <td>{'C': 0.01, 'gamma': 1e-06, 'kernel': 'sigmoid'}</td>\n",
       "      <td>0.966667</td>\n",
       "      <td>0.044721</td>\n",
       "      <td>1</td>\n",
       "    </tr>\n",
       "    <tr>\n",
       "      <th>10</th>\n",
       "      <td>{'C': 0.01, 'gamma': 1e-06, 'kernel': 'rbf'}</td>\n",
       "      <td>0.966667</td>\n",
       "      <td>0.044721</td>\n",
       "      <td>1</td>\n",
       "    </tr>\n",
       "    <tr>\n",
       "      <th>33</th>\n",
       "      <td>{'C': 0.1, 'gamma': 'scale', 'kernel': 'poly'}</td>\n",
       "      <td>0.966667</td>\n",
       "      <td>0.033333</td>\n",
       "      <td>29</td>\n",
       "    </tr>\n",
       "    <tr>\n",
       "      <th>60</th>\n",
       "      <td>{'C': 0.1, 'gamma': 0.1, 'kernel': 'linear'}</td>\n",
       "      <td>0.960000</td>\n",
       "      <td>0.032660</td>\n",
       "      <td>30</td>\n",
       "    </tr>\n",
       "  </tbody>\n",
       "</table>\n",
       "</div>"
      ],
      "text/plain": [
       "                                               params  mean_test_score  \\\n",
       "0   {'C': 0.01, 'gamma': 'scale', 'kernel': 'linear'}         0.966667   \n",
       "20    {'C': 0.01, 'gamma': 0.001, 'kernel': 'linear'}         0.966667   \n",
       "22       {'C': 0.01, 'gamma': 0.001, 'kernel': 'rbf'}         0.966667   \n",
       "23   {'C': 0.01, 'gamma': 0.001, 'kernel': 'sigmoid'}         0.966667   \n",
       "24     {'C': 0.01, 'gamma': 0.01, 'kernel': 'linear'}         0.966667   \n",
       "26        {'C': 0.01, 'gamma': 0.01, 'kernel': 'rbf'}         0.966667   \n",
       "30         {'C': 0.01, 'gamma': 0.1, 'kernel': 'rbf'}         0.966667   \n",
       "58         {'C': 0.1, 'gamma': 0.01, 'kernel': 'rbf'}         0.966667   \n",
       "42        {'C': 0.1, 'gamma': 1e-06, 'kernel': 'rbf'}         0.966667   \n",
       "43    {'C': 0.1, 'gamma': 1e-06, 'kernel': 'sigmoid'}         0.966667   \n",
       "46        {'C': 0.1, 'gamma': 1e-05, 'kernel': 'rbf'}         0.966667   \n",
       "47    {'C': 0.1, 'gamma': 1e-05, 'kernel': 'sigmoid'}         0.966667   \n",
       "50       {'C': 0.1, 'gamma': 0.0001, 'kernel': 'rbf'}         0.966667   \n",
       "51   {'C': 0.1, 'gamma': 0.0001, 'kernel': 'sigmoid'}         0.966667   \n",
       "54        {'C': 0.1, 'gamma': 0.001, 'kernel': 'rbf'}         0.966667   \n",
       "55    {'C': 0.1, 'gamma': 0.001, 'kernel': 'sigmoid'}         0.966667   \n",
       "19  {'C': 0.01, 'gamma': 0.0001, 'kernel': 'sigmoid'}         0.966667   \n",
       "18      {'C': 0.01, 'gamma': 0.0001, 'kernel': 'rbf'}         0.966667   \n",
       "28      {'C': 0.01, 'gamma': 0.1, 'kernel': 'linear'}         0.966667   \n",
       "16   {'C': 0.01, 'gamma': 0.0001, 'kernel': 'linear'}         0.966667   \n",
       "15   {'C': 0.01, 'gamma': 1e-05, 'kernel': 'sigmoid'}         0.966667   \n",
       "2      {'C': 0.01, 'gamma': 'scale', 'kernel': 'rbf'}         0.966667   \n",
       "14       {'C': 0.01, 'gamma': 1e-05, 'kernel': 'rbf'}         0.966667   \n",
       "8     {'C': 0.01, 'gamma': 1e-06, 'kernel': 'linear'}         0.966667   \n",
       "12    {'C': 0.01, 'gamma': 1e-05, 'kernel': 'linear'}         0.966667   \n",
       "4    {'C': 0.01, 'gamma': 'auto', 'kernel': 'linear'}         0.966667   \n",
       "11   {'C': 0.01, 'gamma': 1e-06, 'kernel': 'sigmoid'}         0.966667   \n",
       "10       {'C': 0.01, 'gamma': 1e-06, 'kernel': 'rbf'}         0.966667   \n",
       "33     {'C': 0.1, 'gamma': 'scale', 'kernel': 'poly'}         0.966667   \n",
       "60       {'C': 0.1, 'gamma': 0.1, 'kernel': 'linear'}         0.960000   \n",
       "\n",
       "    std_test_score  rank_test_score  \n",
       "0         0.044721                1  \n",
       "20        0.044721                1  \n",
       "22        0.044721                1  \n",
       "23        0.044721                1  \n",
       "24        0.044721                1  \n",
       "26        0.044721                1  \n",
       "30        0.044721                1  \n",
       "58        0.044721                1  \n",
       "42        0.044721                1  \n",
       "43        0.044721                1  \n",
       "46        0.044721                1  \n",
       "47        0.044721                1  \n",
       "50        0.044721                1  \n",
       "51        0.044721                1  \n",
       "54        0.044721                1  \n",
       "55        0.044721                1  \n",
       "19        0.044721                1  \n",
       "18        0.044721                1  \n",
       "28        0.044721                1  \n",
       "16        0.044721                1  \n",
       "15        0.044721                1  \n",
       "2         0.044721                1  \n",
       "14        0.044721                1  \n",
       "8         0.044721                1  \n",
       "12        0.044721                1  \n",
       "4         0.044721                1  \n",
       "11        0.044721                1  \n",
       "10        0.044721                1  \n",
       "33        0.033333               29  \n",
       "60        0.032660               30  "
      ]
     },
     "execution_count": 40,
     "metadata": {},
     "output_type": "execute_result"
    }
   ],
   "source": [
    "# pd.set_option('display.max_colwidth', None)  # 데이터프레임의 셀 폭 설정 (한 셀의 너비에 내용이 다 안들어갈 경우)\n",
    "# pd.set_option('display.max_row', 80)  # 데이터프레임의 출력 행 개수 설정 (한 셀에 모든 행 표시가 안될 경우)\n",
    "\n",
    "df_grid[ ['params','mean_test_score','std_test_score', 'rank_test_score'] ].sort_values(['rank_test_score']).head(30)"
   ]
  },
  {
   "cell_type": "raw",
   "id": "f6c1e9df-8a1f-41fe-9dd9-e9f89cc9c728",
   "metadata": {
    "tags": []
   },
   "source": [
    "[ Question ] 'std_test_score'의 의미는??\n",
    "'mean_test_score'가 높아도 'std_test_score'값에 따라 중요도가 달라지는가???"
   ]
  },
  {
   "cell_type": "markdown",
   "id": "cc11d26e-94a8-4918-a3ce-508e02d58f69",
   "metadata": {},
   "source": [
    "### 최적의 파라미터 추출"
   ]
  },
  {
   "cell_type": "code",
   "execution_count": 41,
   "id": "a01c15e7-7730-44d9-951c-6c741ac12f90",
   "metadata": {},
   "outputs": [
    {
     "name": "stdout",
     "output_type": "stream",
     "text": [
      "최고 Score:  0.9667\n",
      "최적 Parameters:  {'C': 0.01, 'gamma': 'scale', 'kernel': 'linear'}\n",
      "최적 Estimators:  SVC(C=0.01, kernel='linear')\n"
     ]
    }
   ],
   "source": [
    "print(\"최고 Score: \", str(np.round(grid.best_score_, 4)))\n",
    "print(\"최적 Parameters: \",str(grid.best_params_))\n",
    "print(\"최적 Estimators: \",str(grid.best_estimator_))"
   ]
  },
  {
   "cell_type": "markdown",
   "id": "6e32aba1-3eef-43a3-abfa-bb85c5573e6b",
   "metadata": {
    "tags": []
   },
   "source": [
    "## 최적 Parameter 조건으로 모델 생성 및 학습"
   ]
  },
  {
   "cell_type": "raw",
   "id": "ac7db9f6-ea09-4fc9-bc4c-f92ebb8f4f52",
   "metadata": {},
   "source": [
    "# SVM 모델 생성\n",
    "tune_svm = SVC(C=0.1, gamma=1)\n",
    "\n",
    "# 모델 학습\n",
    "tune_svm.fit( x_train, y_train )"
   ]
  },
  {
   "cell_type": "code",
   "execution_count": 44,
   "id": "1e99beab-0f1c-46fe-b648-51199248d21a",
   "metadata": {},
   "outputs": [
    {
     "data": {
      "text/plain": [
       "SVC(C=0.01, kernel='linear')"
      ]
     },
     "execution_count": 44,
     "metadata": {},
     "output_type": "execute_result"
    }
   ],
   "source": [
    "# SVM 모델 생성\n",
    "tune_svm = SVC(C=0.01, kernel='linear')\n",
    "\n",
    "# 모델 학습\n",
    "tune_svm.fit( x_train, y_train )"
   ]
  },
  {
   "cell_type": "markdown",
   "id": "6290433b-a718-49d4-91e4-e98dc804640d",
   "metadata": {},
   "source": [
    "## 최적화된 모델로 시각화"
   ]
  },
  {
   "cell_type": "code",
   "execution_count": 45,
   "id": "77bb9c39-084d-4353-9ee3-7329d8f8bdb9",
   "metadata": {
    "tags": []
   },
   "outputs": [
    {
     "data": {
      "image/png": "[encoded data removed]",
      "text/plain": [
       "<Figure size 640x480 with 1 Axes>"
      ]
     },
     "metadata": {},
     "output_type": "display_data"
    }
   ],
   "source": [
    "# Plotting decision regions\n",
    "plot_decision_regions( x_train.values, y_train,\n",
    "                       clf = tune_svm )\n",
    "\n",
    "# Adding axes annotations\n",
    "plt.xlabel('sepal length [cm]')\n",
    "plt.ylabel('petal length [cm]')\n",
    "plt.title('SVM on Iris')\n",
    "\n",
    "L = plt.legend()\n",
    "L.get_texts()[0].set_text('Setosa')\n",
    "L.get_texts()[1].set_text('versicolor')\n",
    "L.get_texts()[2].set_text('virginica')\n",
    "\n",
    "plt.show()"
   ]
  },
  {
   "cell_type": "raw",
   "id": "7f82a35e-a999-4d1c-b687-fa3784e2c9f4",
   "metadata": {},
   "source": [
    "\n"
   ]
  },
  {
   "cell_type": "markdown",
   "id": "0b04a4a7-5eba-4764-a298-9ad7c35f51df",
   "metadata": {
    "tags": []
   },
   "source": [
    "## 최적화 모델 평가"
   ]
  },
  {
   "cell_type": "markdown",
   "id": "0a81e774-90c9-4e85-90d1-b697a7cc906b",
   "metadata": {},
   "source": [
    "### 학습된 모델로 예측 수행"
   ]
  },
  {
   "cell_type": "code",
   "execution_count": 37,
   "id": "d6f835b9-278d-47de-a59b-e13e5dfdc33b",
   "metadata": {
    "tags": []
   },
   "outputs": [
    {
     "name": "stdout",
     "output_type": "stream",
     "text": [
      "Accuracy: 0.24444444444444444\n",
      "\n"
     ]
    },
    {
     "data": {
      "text/html": [
       "<div>\n",
       "<style scoped>\n",
       "    .dataframe tbody tr th:only-of-type {\n",
       "        vertical-align: middle;\n",
       "    }\n",
       "\n",
       "    .dataframe tbody tr th {\n",
       "        vertical-align: top;\n",
       "    }\n",
       "\n",
       "    .dataframe thead th {\n",
       "        text-align: right;\n",
       "    }\n",
       "</style>\n",
       "<table border=\"1\" class=\"dataframe\">\n",
       "  <thead>\n",
       "    <tr style=\"text-align: right;\">\n",
       "      <th></th>\n",
       "      <th>y_True</th>\n",
       "      <th>y_Predict</th>\n",
       "      <th>Pred_Result</th>\n",
       "    </tr>\n",
       "  </thead>\n",
       "  <tbody>\n",
       "    <tr>\n",
       "      <th>0</th>\n",
       "      <td>2</td>\n",
       "      <td>2</td>\n",
       "      <td>True</td>\n",
       "    </tr>\n",
       "    <tr>\n",
       "      <th>1</th>\n",
       "      <td>1</td>\n",
       "      <td>2</td>\n",
       "      <td>False</td>\n",
       "    </tr>\n",
       "    <tr>\n",
       "      <th>2</th>\n",
       "      <td>0</td>\n",
       "      <td>2</td>\n",
       "      <td>False</td>\n",
       "    </tr>\n",
       "    <tr>\n",
       "      <th>3</th>\n",
       "      <td>2</td>\n",
       "      <td>2</td>\n",
       "      <td>True</td>\n",
       "    </tr>\n",
       "    <tr>\n",
       "      <th>4</th>\n",
       "      <td>0</td>\n",
       "      <td>2</td>\n",
       "      <td>False</td>\n",
       "    </tr>\n",
       "    <tr>\n",
       "      <th>5</th>\n",
       "      <td>2</td>\n",
       "      <td>2</td>\n",
       "      <td>True</td>\n",
       "    </tr>\n",
       "    <tr>\n",
       "      <th>6</th>\n",
       "      <td>0</td>\n",
       "      <td>2</td>\n",
       "      <td>False</td>\n",
       "    </tr>\n",
       "    <tr>\n",
       "      <th>7</th>\n",
       "      <td>1</td>\n",
       "      <td>2</td>\n",
       "      <td>False</td>\n",
       "    </tr>\n",
       "    <tr>\n",
       "      <th>8</th>\n",
       "      <td>1</td>\n",
       "      <td>2</td>\n",
       "      <td>False</td>\n",
       "    </tr>\n",
       "    <tr>\n",
       "      <th>9</th>\n",
       "      <td>1</td>\n",
       "      <td>2</td>\n",
       "      <td>False</td>\n",
       "    </tr>\n",
       "  </tbody>\n",
       "</table>\n",
       "</div>"
      ],
      "text/plain": [
       "   y_True  y_Predict  Pred_Result\n",
       "0       2          2         True\n",
       "1       1          2        False\n",
       "2       0          2        False\n",
       "3       2          2         True\n",
       "4       0          2        False\n",
       "5       2          2         True\n",
       "6       0          2        False\n",
       "7       1          2        False\n",
       "8       1          2        False\n",
       "9       1          2        False"
      ]
     },
     "execution_count": 37,
     "metadata": {},
     "output_type": "execute_result"
    }
   ],
   "source": [
    "# test 데이터로 라벨 예측\n",
    "y_pred = tune_svm.predict( x_test )\n",
    "\n",
    "print( 'Accuracy:', tune_svm.score( x_test, y_test ) )\n",
    "print()\n",
    "\n",
    "pd.DataFrame( {'y_True' : y_test,\n",
    "               'y_Predict' : y_pred,\n",
    "               'Pred_Result' : y_test == y_pred} ).head(10)"
   ]
  },
  {
   "cell_type": "markdown",
   "id": "b6a522ab-cb1f-4a6f-9084-6652b727fdce",
   "metadata": {},
   "source": [
    "### 평가"
   ]
  },
  {
   "cell_type": "markdown",
   "id": "cc17a67a-2087-4331-a05c-211e59f72a35",
   "metadata": {},
   "source": [
    "#### Confusion Metrix"
   ]
  },
  {
   "cell_type": "code",
   "execution_count": null,
   "id": "8ab57c04-7582-44f7-97a3-5a920f90415b",
   "metadata": {},
   "outputs": [],
   "source": [
    "cm = confusion_matrix(y_test, y_pred)\n",
    "\n",
    "ConfusionMatrixDisplay( cm ).plot()"
   ]
  },
  {
   "cell_type": "code",
   "execution_count": null,
   "id": "58e50522-afe2-4b36-8dc0-d931b6f4696a",
   "metadata": {},
   "outputs": [],
   "source": [
    "cm_multi = multilabel_confusion_matrix(y_test, y_pred)\n",
    "\n",
    "fig = plt.figure( figsize = (5, 15) )\n",
    "\n",
    "ax0 = fig.add_subplot(3, 1, 1)\n",
    "ax0.set_title( y.unique()[0], size = 15 )\n",
    "\n",
    "ax1 = fig.add_subplot(3, 1, 2)\n",
    "ax1.set_title( y.unique()[1], size = 15 )\n",
    "\n",
    "ax2 = fig.add_subplot(3, 1, 3)\n",
    "ax2.set_title( y.unique()[2], size = 15 )\n",
    "\n",
    "ConfusionMatrixDisplay( cm_multi[0] ).plot(ax=ax0)\n",
    "ConfusionMatrixDisplay( cm_multi[1] ).plot(ax=ax1)\n",
    "ConfusionMatrixDisplay( cm_multi[2] ).plot(ax=ax2)"
   ]
  },
  {
   "cell_type": "markdown",
   "id": "32a63643-d3bc-4e91-bb4f-2dd20da84d96",
   "metadata": {
    "tags": []
   },
   "source": [
    "#### 분석 지표"
   ]
  },
  {
   "cell_type": "code",
   "execution_count": null,
   "id": "4afab625-9d9c-49fa-82dc-1e54b1ae1e4f",
   "metadata": {},
   "outputs": [],
   "source": [
    "print( 'Accuracy: ', accuracy_score(y_test, y_pred) )\n",
    "print()\n",
    "\n",
    "print( classification_report(y_test, y_pred, digits = 3) )\n",
    "print()"
   ]
  },
  {
   "cell_type": "markdown",
   "id": "7f0a38bc-813f-44f9-b46b-fbb8f30125d7",
   "metadata": {},
   "source": [
    "#### ROC curve / AUC"
   ]
  },
  {
   "cell_type": "code",
   "execution_count": null,
   "id": "1d7c72bb-a9a3-4443-be21-a19bbe64617c",
   "metadata": {},
   "outputs": [],
   "source": [
    "# 'setosa' 에 대한 AUC 계산을 위해 y_test 의 범주형 리스트를 0과 1로 이원화\n",
    "\n",
    "y_test_1 = np.where( y_test == 0, 1, 0 )\n",
    "y_pred_1 = np.where( y_pred == 0, 1, 0 )\n",
    "\n",
    "# Accuracy\n",
    "acc = accuracy_score(y_test_1, y_pred_1)\n",
    "print('Accuracy: ', acc )\n",
    "\n",
    "# AUC 계산\n",
    "auc = roc_auc_score( y_test_1, y_pred_1 )\n",
    "print('AUC: ', auc )\n",
    "print()\n",
    "\n",
    "# ROC curve 출력\n",
    "fpr, tpr, thresholds = roc_curve( y_test_1, y_pred_1,\n",
    "                                  pos_label = 1)\n",
    "\n",
    "RocCurveDisplay( fpr, tpr).plot()\n",
    "plt.legend( labels = ['AUC = %.2f' % auc],\n",
    "            loc = 'lower right')\n",
    "\n",
    "plt.plot( [0,1], [0,1] )\n",
    "\n",
    "plt.show()"
   ]
  },
  {
   "cell_type": "code",
   "execution_count": null,
   "id": "a623a3df-535f-448c-8374-4ac9d6b8db1b",
   "metadata": {},
   "outputs": [],
   "source": [
    "# 'versicolor' 에 대한 AUC 계산을 위해 y_test 의 범주형 리스트를 0과 1로 이원화\n",
    "\n",
    "y_test_2 = np.where( y_test == 1, 1, 0 )\n",
    "y_pred_2 = np.where( y_pred == 1, 1, 0 )\n",
    "\n",
    "# Accuracy\n",
    "acc = accuracy_score(y_test_2, y_pred_2)\n",
    "print('Accuracy: ', acc )\n",
    "\n",
    "# AUC 계산\n",
    "auc = roc_auc_score( y_test_2, y_pred_2 )\n",
    "print('AUC: ', auc )\n",
    "print()\n",
    "\n",
    "# ROC curve 출력\n",
    "fpr, tpr, thresholds = roc_curve( y_test_2, y_pred_2,\n",
    "                                  pos_label = 1)\n",
    "\n",
    "RocCurveDisplay( fpr, tpr).plot()\n",
    "plt.legend( labels = ['AUC = %.2f' % auc],\n",
    "            loc = 'lower right')\n",
    "\n",
    "plt.plot( [0,1], [0,1] )\n",
    "\n",
    "plt.show()"
   ]
  },
  {
   "cell_type": "code",
   "execution_count": null,
   "id": "70b55905-a6dd-4ae8-af5c-6dccd78c6c66",
   "metadata": {
    "tags": []
   },
   "outputs": [],
   "source": [
    "# 'virginica' 에 대한 AUC 계산을 위해 y_test 의 범주형 리스트를 0과 1로 이원화\n",
    "y_test_3 = np.where( y_test == 2, 1, 0 )\n",
    "y_pred_3 = np.where( y_pred == 2, 1, 0 )\n",
    "\n",
    "# Accuracy\n",
    "acc = accuracy_score(y_test_3, y_pred_3)\n",
    "print('Accuracy: ', acc )\n",
    "\n",
    "# AUC 계산\n",
    "auc = roc_auc_score( y_test_3, y_pred_3 )\n",
    "print('AUC: ', auc )\n",
    "print()\n",
    "\n",
    "# ROC curve 출력\n",
    "fpr, tpr, thresholds = roc_curve( y_test_3, y_pred_3,\n",
    "                                  pos_label = 1)\n",
    "\n",
    "RocCurveDisplay( fpr, tpr).plot()\n",
    "plt.legend( labels = ['AUC = %.2f' % auc],\n",
    "            loc = 'lower right')\n",
    "\n",
    "plt.plot( [0,1], [0,1] )\n",
    "\n",
    "plt.show()"
   ]
  },
  {
   "cell_type": "code",
   "execution_count": null,
   "id": "f5c673f9-0b82-4718-97ac-47fcfaaa3623",
   "metadata": {},
   "outputs": [],
   "source": []
  }
 ],
 "metadata": {
  "kernelspec": {
   "display_name": "Python 3 (ipykernel)",
   "language": "python",
   "name": "python3"
  },
  "language_info": {
   "codemirror_mode": {
    "name": "ipython",
    "version": 3
   },
   "file_extension": ".py",
   "mimetype": "text/x-python",
   "name": "python",
   "nbconvert_exporter": "python",
   "pygments_lexer": "ipython3",
   "version": "3.8.11"
  },
  "toc-autonumbering": true
 },
 "nbformat": 4,
 "nbformat_minor": 5
}
