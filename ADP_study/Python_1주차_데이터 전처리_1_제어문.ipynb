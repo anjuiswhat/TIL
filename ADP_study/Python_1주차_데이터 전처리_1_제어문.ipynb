{
 "cells": [
  {
   "cell_type": "markdown",
   "id": "93a88c79-15c2-4312-a8cb-3af8d6f60a29",
   "metadata": {},
   "source": [
    "# PART 02. 데이터 전처리"
   ]
  },
  {
   "cell_type": "markdown",
   "id": "a3ab937f-b8e8-4b17-8fad-71c0fec93f6b",
   "metadata": {},
   "source": [
    "## 1장. 제어문"
   ]
  },
  {
   "cell_type": "raw",
   "id": "a143d03f-5e05-4100-92d3-21f3f2e13881",
   "metadata": {},
   "source": []
  },
  {
   "cell_type": "markdown",
   "id": "3d326f5b-2240-46e5-968a-5e5e04d3ca2d",
   "metadata": {},
   "source": [
    "### 1절. 조건문 ( if / else , ifelse() )"
   ]
  },
  {
   "cell_type": "markdown",
   "id": "86d00f79-3b68-4939-aa85-ae079571e2b3",
   "metadata": {},
   "source": [
    "#### [Problem]  if, else\n",
    "- 정수를 입력받아 해당 숫자가 짝수인지 홀수인지 판단하고, 만약 입력받은 숫자가 정수가 아닐 경우 “정수를 입력해주세요.”라는 문구를 출력하는 if문을 작성하라"
   ]
  },
  {
   "cell_type": "code",
   "execution_count": 2,
   "id": "4e0c0b1d-b115-40c3-a178-efec5cd21a24",
   "metadata": {
    "tags": []
   },
   "outputs": [
    {
     "name": "stdin",
     "output_type": "stream",
     "text": [
      "짝/홀수를 판별합니다. 정수를 입력하세요. > -4\n"
     ]
    },
    {
     "name": "stdout",
     "output_type": "stream",
     "text": [
      "-4 : 짝수입니다.\n"
     ]
    }
   ],
   "source": [
    "n = input('짝/홀수를 판별합니다. 정수를 입력하세요. >')\n",
    "\n",
    "try:\n",
    "    if int(n)%2 == 0:\n",
    "        print(n,': 짝수입니다.')\n",
    "    else:\n",
    "        print(n,': 홀수입니다.')\n",
    "        \n",
    "except:\n",
    "      print('입력한 데이터는 정수가 아닙니다.')\n",
    "\n",
    "# def is_int(str):\n",
    "#    try:\n",
    "#        n = int(str)\n",
    "#        return True\n",
    "#    except ValueError:\n",
    "#        return False"
   ]
  },
  {
   "cell_type": "raw",
   "id": "50095245-8fa6-44a8-9ff3-1e797820a24e",
   "metadata": {},
   "source": []
  },
  {
   "cell_type": "markdown",
   "id": "756f202d-973a-4a91-93dc-7c0a66169f85",
   "metadata": {},
   "source": [
    "#### [Problem]  ifelse\n",
    "- 정수를 입력받아 짝수이면 “짝수입니다.”, 홀수이면 “홀수입니다.”를 출력하고, 정수가 아닐 경우 “정수가 아닙니다.”를 출력하는 ifelse문을 작성하라"
   ]
  },
  {
   "cell_type": "code",
   "execution_count": 8,
   "id": "38dbc76f-0b1c-4402-9fe5-d5b99deb9182",
   "metadata": {},
   "outputs": [
    {
     "name": "stdin",
     "output_type": "stream",
     "text": [
      "짝/홀수를 판별합니다. 정수를 입력하세요. > 5.5\n"
     ]
    },
    {
     "name": "stdout",
     "output_type": "stream",
     "text": [
      "입력한 데이터는 정수가 아닙니다.\n"
     ]
    }
   ],
   "source": [
    "n = input('짝/홀수를 판별합니다. 정수를 입력하세요. >')\n",
    "\n",
    "try:\n",
    "    if int(n)%2 == 0 :\n",
    "        print(n,': 짝수입니다.')\n",
    "    elif int(n)%2 == 1:\n",
    "        print(n,': 홀수입니다.')\n",
    "except:\n",
    "    print('입력한 데이터는 정수가 아닙니다.')"
   ]
  },
  {
   "cell_type": "raw",
   "id": "ad80e897-292f-480a-8562-15a88ae0ba2f",
   "metadata": {},
   "source": []
  },
  {
   "cell_type": "markdown",
   "id": "3ac5c92a-4485-46c8-adae-db69708baa5f",
   "metadata": {},
   "source": [
    "### 2절. 반복문 ( for, while, repeat )"
   ]
  },
  {
   "cell_type": "markdown",
   "id": "ef00030f-a58a-4bb0-a77d-f831e9d94f99",
   "metadata": {},
   "source": [
    "#### [Problem]  for\n",
    "- 반복문을 사용하지 않은 경우 : print 함수를 4번 실행\n",
    "- 반복문을 사용한 경우 : for문을 1번 실행"
   ]
  },
  {
   "cell_type": "code",
   "execution_count": 9,
   "id": "6513d058-bef9-4776-a6f8-494820147e37",
   "metadata": {},
   "outputs": [
    {
     "name": "stdout",
     "output_type": "stream",
     "text": [
      "The year is 2015\n",
      "The year is 2016\n",
      "The year is 2017\n",
      "The year is 2018\n"
     ]
    }
   ],
   "source": [
    "print(\"The year is\", 2015)\n",
    "print(\"The year is\", 2016)\n",
    "print(\"The year is\", 2017)\n",
    "print(\"The year is\", 2018)"
   ]
  },
  {
   "cell_type": "code",
   "execution_count": 10,
   "id": "c044dd27-b924-4efe-9eb3-8ba623afe49a",
   "metadata": {},
   "outputs": [
    {
     "name": "stdout",
     "output_type": "stream",
     "text": [
      "\"The year is 2015 \"\n",
      "\"The year is 2016 \"\n",
      "\"The year is 2017 \"\n",
      "\"The year is 2018 \"\n"
     ]
    }
   ],
   "source": [
    "# 방법 1\n",
    "\n",
    "year = list(range(2015,2019))    # 2015년~2018년 까지의 연도 리스트 생성\n",
    "\n",
    "for x in year:\n",
    "    print('\"The year is', x, '\"')"
   ]
  },
  {
   "cell_type": "code",
   "execution_count": 11,
   "id": "5710340b-74de-467b-82d2-351cee7a60f1",
   "metadata": {},
   "outputs": [
    {
     "name": "stdout",
     "output_type": "stream",
     "text": [
      "\"The year is 2015\"\n",
      "\"The year is 2016\"\n",
      "\"The year is 2017\"\n",
      "\"The year is 2018\"\n"
     ]
    }
   ],
   "source": [
    "# 방법 2\n",
    "# {}.format() : format 함수 괄호 안의 숫자를 문자열로 변환하여 순차적으로 {}에 넣는다. \n",
    "\n",
    "year = list(range(2015,2019))    # 2015년~2018년 까지의 연도 리스트 생성\n",
    "\n",
    "i = 0\n",
    "        \n",
    "for x in year:\n",
    "    print('\"The year is {}\"'.format(x))\n",
    "    i += 1      # += 숫자 덧셈 후 대입 (또는 문자열 연결 후 대입)"
   ]
  },
  {
   "cell_type": "raw",
   "id": "5aedd537-b22e-4cbc-8cf4-596612f16c67",
   "metadata": {},
   "source": []
  },
  {
   "cell_type": "markdown",
   "id": "a43d3390-c7bb-45cc-93c3-fcec2f02d40e",
   "metadata": {},
   "source": [
    "#### [Problem]  while\n",
    "\n",
    "- for문을 사용하여 해결했던 예제에 대해 while문을 이용해서 똑같은 결과값을 출력하는 코드를 작성하라"
   ]
  },
  {
   "cell_type": "code",
   "execution_count": 12,
   "id": "8ebc860e-431d-453a-8122-075091df6d1a",
   "metadata": {},
   "outputs": [
    {
     "name": "stdout",
     "output_type": "stream",
     "text": [
      "\"The year is 2015\"\n",
      "\"The year is 2016\"\n",
      "\"The year is 2017\"\n",
      "\"The year is 2018\"\n"
     ]
    }
   ],
   "source": [
    "i = 2015\n",
    "\n",
    "while i < 2019:\n",
    "    print('\"The year is {}\"'.format(i))\n",
    "    i += 1"
   ]
  },
  {
   "cell_type": "raw",
   "id": "cc0db1c3-297d-4d77-8aaf-efffaca541ca",
   "metadata": {},
   "source": []
  },
  {
   "cell_type": "markdown",
   "id": "03839710-6fb3-4300-a167-fe9313262332",
   "metadata": {},
   "source": [
    "#### [Problem]  break\n",
    "- break 를 사용하여 1~10 까지의 숫자 중 짝수만 출력하라"
   ]
  },
  {
   "cell_type": "code",
   "execution_count": 13,
   "id": "7d34162b-0c4b-466a-b36c-144a352610ff",
   "metadata": {},
   "outputs": [
    {
     "name": "stdout",
     "output_type": "stream",
     "text": [
      "2\n",
      "4\n",
      "6\n",
      "8\n",
      "10\n"
     ]
    }
   ],
   "source": [
    "for i in (list(range(1,11))):\n",
    "    if i%2 == 0:\n",
    "        print(i)\n",
    "    if i >= 11:\n",
    "        break    # i가 10이상이면 반복문 종료"
   ]
  },
  {
   "cell_type": "code",
   "execution_count": 14,
   "id": "bcaf5adb-f106-4810-8524-847b905f2708",
   "metadata": {},
   "outputs": [
    {
     "name": "stdout",
     "output_type": "stream",
     "text": [
      "0\n",
      "2\n",
      "4\n",
      "6\n",
      "8\n",
      "10\n"
     ]
    }
   ],
   "source": [
    "i = 0\n",
    "\n",
    "while True:\n",
    "    print(i)\n",
    "    i += 2\n",
    "    if i >= 11:\n",
    "        break    # i가 10이상이면 반복문 종료"
   ]
  },
  {
   "cell_type": "raw",
   "id": "0542795a-0a79-486f-b08e-c0284d613378",
   "metadata": {},
   "source": []
  },
  {
   "cell_type": "markdown",
   "id": "111c4b67-53be-494a-9b4b-11dee2326e1e",
   "metadata": {},
   "source": [
    "#### [Problem]  continue\n",
    "- continue 를 사용하여 1~10 까지의 숫자 중 홀수만 출력하라"
   ]
  },
  {
   "cell_type": "code",
   "execution_count": 15,
   "id": "dd18fb39-02af-42a6-a8de-8363da825900",
   "metadata": {},
   "outputs": [
    {
     "name": "stdout",
     "output_type": "stream",
     "text": [
      "1\n",
      "3\n",
      "5\n",
      "7\n",
      "9\n"
     ]
    }
   ],
   "source": [
    "# 반복문 내의 next를 만나면 print(i)를 실행하지 않고 for문의 맨 처음으로 이동\n",
    "\n",
    "for i in (list(range(1,11))):\n",
    "    if i%2 == 0:\n",
    "        continue\n",
    "    print(i)"
   ]
  },
  {
   "cell_type": "code",
   "execution_count": 16,
   "id": "ef937383-fa80-48ef-b41c-200f97c9a518",
   "metadata": {},
   "outputs": [
    {
     "name": "stdout",
     "output_type": "stream",
     "text": [
      "1\n",
      "3\n",
      "5\n",
      "7\n",
      "9\n",
      "11\n"
     ]
    }
   ],
   "source": [
    "i = 0\n",
    "while i < 11:        # i가 100보다 작을 때 반복. 0부터 99까지 증가하면서 100번 반복\n",
    "    i += 1            # i를 1씩 증가시킴\n",
    "    if i % 2 == 0:    # i를 2로 나누었을 때 나머지가 0이면 짝수\n",
    "        continue      # 아래 코드를 실행하지 않고 건너뜀\n",
    "    print(i)"
   ]
  }
 ],
 "metadata": {
  "kernelspec": {
   "display_name": "Python 3",
   "language": "python",
   "name": "python3"
  },
  "language_info": {
   "codemirror_mode": {
    "name": "ipython",
    "version": 3
   },
   "file_extension": ".py",
   "mimetype": "text/x-python",
   "name": "python",
   "nbconvert_exporter": "python",
   "pygments_lexer": "ipython3",
   "version": "3.8.8"
  }
 },
 "nbformat": 4,
 "nbformat_minor": 5
}
