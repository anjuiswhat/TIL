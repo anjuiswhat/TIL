{
 "cells": [
  {
   "cell_type": "markdown",
   "id": "bee2807c-96dd-4b51-9c8b-62241634d162",
   "metadata": {},
   "source": [
    "# 1장. 제어문"
   ]
  },
  {
   "cell_type": "markdown",
   "id": "871c418c-601a-49b9-a111-425b500e0f68",
   "metadata": {},
   "source": [
    "## 1절 | 조건문(if/else, ifelse())"
   ]
  },
  {
   "cell_type": "markdown",
   "id": "c92faee8-6078-46fc-87dc-648e985ad163",
   "metadata": {},
   "source": [
    "### 1. if/else\n",
    "Q) 정수를 입력받아 해당 숫자가 짝수인지 홀수인지 판단하고, 만약 입력받은 숫자가 정수가 아닐 경우 “정수를 입력해주세요.”라는 문구를 출력하는 if문을 작성."
   ]
  },
  {
   "cell_type": "code",
   "execution_count": 12,
   "id": "049a8da0-8970-4503-bb38-a8efc7201538",
   "metadata": {},
   "outputs": [
    {
     "name": "stdin",
     "output_type": "stream",
     "text": [
      "짝/홀수를 판별합니다. 정수를 입력하세요. > -6\n"
     ]
    },
    {
     "name": "stdout",
     "output_type": "stream",
     "text": [
      "-6 : 짝수입니다.\n"
     ]
    }
   ],
   "source": [
    "def is_int(str):\n",
    "    try:\n",
    "        n = int(str)\n",
    "        return True\n",
    "    except ValueError:\n",
    "        return False\n",
    "\n",
    "\n",
    "n = input('짝/홀수를 판별합니다. 정수를 입력하세요. >')\n",
    "\n",
    "\n",
    "try:\n",
    "    if int(n)%2 == 0:\n",
    "        print(n,': 짝수입니다.')\n",
    "    else:\n",
    "        print(n,': 홀수입니다.')\n",
    "        \n",
    "except:\n",
    "      print('입력한 데이터는 정수가 아닙니다.')"
   ]
  },
  {
   "cell_type": "markdown",
   "id": "aa945cc2-c637-4f24-b9cb-889c0920aabf",
   "metadata": {},
   "source": [
    "### 2. ifelse\n",
    "Q) 정수를 입력받아 짝수이면 “짝수입니다.”, 홀수이면 “홀수입니다.”를 출력하고, \n",
    "정수가 아닐 경우 “정수가 아닙니다.”를 출력하는 ifelse문을 작성. \n"
   ]
  },
  {
   "cell_type": "code",
   "execution_count": null,
   "id": "5e8faf97-53a9-4896-91df-d02c93a00d93",
   "metadata": {},
   "outputs": [],
   "source": []
  },
  {
   "cell_type": "code",
   "execution_count": null,
   "id": "b7cfff7f-408e-4afc-b7f4-f5d63114b949",
   "metadata": {},
   "outputs": [],
   "source": []
  },
  {
   "cell_type": "markdown",
   "id": "dfcb3679-d81f-418a-857a-e500409b74b2",
   "metadata": {},
   "source": [
    "## 2절 | 반복문(for, while, repeat)"
   ]
  },
  {
   "cell_type": "markdown",
   "id": "2ea26705-7677-4989-987c-e09e52218eed",
   "metadata": {},
   "source": [
    "### 1. for"
   ]
  },
  {
   "cell_type": "markdown",
   "id": "dbfb64c8-b830-4857-9e20-40220c0bb6e4",
   "metadata": {},
   "source": [
    "Q) 반복문을 사용하지 않은 경우 : print 함수를 4번 실행"
   ]
  },
  {
   "cell_type": "code",
   "execution_count": 2,
   "id": "2b13a992-9360-4e4f-ab6b-9661b38da42a",
   "metadata": {},
   "outputs": [
    {
     "name": "stdout",
     "output_type": "stream",
     "text": [
      "\"The year is 2015\"\n",
      "\"The year is 2016\"\n",
      "\"The year is 2017\"\n",
      "\"The year is 2018\"\n"
     ]
    }
   ],
   "source": [
    "print('\"The year is 2015\"')\n",
    "print('\"The year is 2016\"')\n",
    "print('\"The year is 2017\"')\n",
    "print('\"The year is 2018\"')"
   ]
  },
  {
   "cell_type": "markdown",
   "id": "1e27c1e4-1666-464f-9a9d-992cf702e77e",
   "metadata": {},
   "source": [
    "Q) 반복문을 사용한 경우 : for문을 1번 실행"
   ]
  },
  {
   "cell_type": "code",
   "execution_count": 13,
   "id": "4ad9a0e0-cfcb-401f-b3b7-ad42a2865090",
   "metadata": {},
   "outputs": [],
   "source": [
    "year = list(range(2015,2019))    # 2015년~2018년 까지의 연도 리스트 생성  \n"
   ]
  },
  {
   "cell_type": "code",
   "execution_count": 14,
   "id": "9995a478-de90-4f34-90d1-4bd50b1c4cc5",
   "metadata": {},
   "outputs": [
    {
     "name": "stdout",
     "output_type": "stream",
     "text": [
      "\"The year is 2015 \"\n",
      "\"The year is 2016 \"\n",
      "\"The year is 2017 \"\n",
      "\"The year is 2018 \"\n"
     ]
    }
   ],
   "source": [
    "# 방법 1\n",
    "\n",
    "for x in year:\n",
    "    print('\"The year is', x, '\"')"
   ]
  },
  {
   "cell_type": "code",
   "execution_count": 28,
   "id": "069104d9-4ab8-43ca-9dfa-88be2fccd21b",
   "metadata": {},
   "outputs": [
    {
     "name": "stdout",
     "output_type": "stream",
     "text": [
      "\"The year is 2015\"\n",
      "\"The year is 2016\"\n",
      "\"The year is 2017\"\n",
      "\"The year is 2018\"\n"
     ]
    }
   ],
   "source": [
    "# 방법 2\n",
    "# {}.format() : format 함수 괄호 안의 [숫자를 문자열로 변환!!]하여 순차적으로 {}에 넣는다. \n",
    "\n",
    "i = 0   # i 값 초기화\n",
    "        # clear kernel 상태에서 i=0 을 빼고 실행하면 Error 발생\n",
    "        # i=0 을 넣고 실행한 후, i=0 을 삭제하고 코드 실행을 반복해보면 i 가 이전 출력에 이어서 계속 증가\n",
    "        \n",
    "for x in year:\n",
    "    print('\"The year is {}\"'.format(x))\n",
    "    i += 1      # += 숫자 덧셈 후 대입 (또는 문자열 연결 후 대입)\n"
   ]
  },
  {
   "cell_type": "markdown",
   "id": "74b163c7-4e40-4bb7-9b41-c97a54c5ee88",
   "metadata": {},
   "source": [
    "### 2. while"
   ]
  },
  {
   "cell_type": "markdown",
   "id": "2bd030c4-7818-4351-8607-e66079aaa15a",
   "metadata": {},
   "source": [
    "Q) for문을 사용하여 해결했던 예제에 대해 while문을 이용해서 똑같은 결과값을 출력"
   ]
  },
  {
   "cell_type": "code",
   "execution_count": 6,
   "id": "b63dfc97-1748-4359-b7f1-481623a433af",
   "metadata": {},
   "outputs": [
    {
     "name": "stdout",
     "output_type": "stream",
     "text": [
      "\"The year is 2015\"\n",
      "\"The year is 2016\"\n",
      "\"The year is 2017\"\n",
      "\"The year is 2018\"\n"
     ]
    }
   ],
   "source": [
    "i = 2015\n",
    "\n",
    "while i < 2019:\n",
    "    print('\"The year is {}\"'.format(i))\n",
    "    i += 1"
   ]
  },
  {
   "cell_type": "markdown",
   "id": "61d696b1-0ac8-46e8-b69c-bd58a00548a5",
   "metadata": {},
   "source": [
    "### 3. repeat"
   ]
  },
  {
   "cell_type": "markdown",
   "id": "e0287a9a-1552-4074-a293-70ffa12b3897",
   "metadata": {},
   "source": [
    "#### break : 지정한 조건을 만족하면 반복문 종료"
   ]
  },
  {
   "cell_type": "code",
   "execution_count": 36,
   "id": "83fc7ee2-ad0f-43ac-b1f5-d61ae1d1922b",
   "metadata": {},
   "outputs": [
    {
     "name": "stdout",
     "output_type": "stream",
     "text": [
      "1\n",
      "2\n",
      "3\n",
      "4\n",
      "5\n",
      "6\n",
      "7\n",
      "8\n",
      "9\n"
     ]
    }
   ],
   "source": [
    "for i in range(1,100):\n",
    "    print(i)\n",
    "    i += 1\n",
    "    if i == 10:\n",
    "        break"
   ]
  },
  {
   "cell_type": "code",
   "execution_count": null,
   "id": "b8063fc1-912d-4c5c-99e1-105a1467f0c7",
   "metadata": {},
   "outputs": [],
   "source": []
  },
  {
   "cell_type": "markdown",
   "id": "392e6d56-906e-47b7-adc8-3798e88068da",
   "metadata": {},
   "source": [
    "#### continue : 현재 수행중인 반복문을 계속 실행. (continue 이후의 명령은 수행하지 않는다.)"
   ]
  },
  {
   "cell_type": "code",
   "execution_count": null,
   "id": "24a561a4-af81-4b1a-b11b-3bda74f4ab54",
   "metadata": {},
   "outputs": [],
   "source": []
  },
  {
   "cell_type": "code",
   "execution_count": null,
   "id": "8d6f3bb6-6ae7-46f6-8e4c-74956198cc2a",
   "metadata": {},
   "outputs": [],
   "source": []
  }
 ],
 "metadata": {
  "kernelspec": {
   "display_name": "Python 3",
   "language": "python",
   "name": "python3"
  },
  "language_info": {
   "codemirror_mode": {
    "name": "ipython",
    "version": 3
   },
   "file_extension": ".py",
   "mimetype": "text/x-python",
   "name": "python",
   "nbconvert_exporter": "python",
   "pygments_lexer": "ipython3",
   "version": "3.8.8"
  }
 },
 "nbformat": 4,
 "nbformat_minor": 5
}
