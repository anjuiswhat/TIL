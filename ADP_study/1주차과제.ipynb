{
 "cells": [
  {
   "cell_type": "markdown",
   "id": "bee2807c-96dd-4b51-9c8b-62241634d162",
   "metadata": {},
   "source": [
    "# 1장. 제어문"
   ]
  },
  {
   "cell_type": "markdown",
   "id": "871c418c-601a-49b9-a111-425b500e0f68",
   "metadata": {},
   "source": [
    "## 1절 | 조건문(if/else, ifelse())"
   ]
  },
  {
   "cell_type": "markdown",
   "id": "c92faee8-6078-46fc-87dc-648e985ad163",
   "metadata": {},
   "source": [
    "### 1. if/else\n",
    "Q) 정수를 입력받아 해당 숫자가 짝수인지 홀수인지 판단하고, 만약 입력받은 숫자가 정수가 아닐 경우 “정수를 입력해주세요.”라는 문구를 출력하는 if문을 작성."
   ]
  },
  {
   "cell_type": "code",
   "execution_count": null,
   "id": "049a8da0-8970-4503-bb38-a8efc7201538",
   "metadata": {},
   "outputs": [],
   "source": [
    "def is_int(str):\n",
    "    try:\n",
    "        n = int(str)\n",
    "        return True\n",
    "    except ValueError:\n",
    "        return False\n",
    "\n",
    "\n",
    "n = input('짝/홀수를 판별합니다. 정수를 입력하세요. >')\n",
    "\n",
    "\n",
    "try:\n",
    "    if int(n)%2 == 0:\n",
    "        print(n,': 짝수입니다.')\n",
    "    else:\n",
    "        print(n,': 홀수입니다.')\n",
    "        \n",
    "except:\n",
    "      print('입력한 데이터는 정수가 아닙니다.')"
   ]
  },
  {
   "cell_type": "markdown",
   "id": "aa945cc2-c637-4f24-b9cb-889c0920aabf",
   "metadata": {},
   "source": [
    "### 2. ifelse\n",
    "Q) 정수를 입력받아 짝수이면 “짝수입니다.”, 홀수이면 “홀수입니다.”를 출력하고, \n",
    "정수가 아닐 경우 “정수가 아닙니다.”를 출력하는 ifelse문을 작성. \n"
   ]
  },
  {
   "cell_type": "code",
   "execution_count": null,
   "id": "5e8faf97-53a9-4896-91df-d02c93a00d93",
   "metadata": {},
   "outputs": [],
   "source": []
  },
  {
   "cell_type": "code",
   "execution_count": null,
   "id": "b7cfff7f-408e-4afc-b7f4-f5d63114b949",
   "metadata": {},
   "outputs": [],
   "source": []
  },
  {
   "cell_type": "markdown",
   "id": "dfcb3679-d81f-418a-857a-e500409b74b2",
   "metadata": {},
   "source": [
    "## 2절 | 반복문(for, while, repeat)"
   ]
  },
  {
   "cell_type": "markdown",
   "id": "2ea26705-7677-4989-987c-e09e52218eed",
   "metadata": {},
   "source": [
    "### 1. for"
   ]
  },
  {
   "cell_type": "markdown",
   "id": "dbfb64c8-b830-4857-9e20-40220c0bb6e4",
   "metadata": {},
   "source": [
    "Q) 반복문을 사용하지 않은 경우 : print 함수를 4번 실행"
   ]
  },
  {
   "cell_type": "code",
   "execution_count": null,
   "id": "2b13a992-9360-4e4f-ab6b-9661b38da42a",
   "metadata": {},
   "outputs": [],
   "source": [
    "print('\"The year is 2015\"')\n",
    "print('\"The year is 2016\"')\n",
    "print('\"The year is 2017\"')\n",
    "print('\"The year is 2018\"')"
   ]
  },
  {
   "cell_type": "markdown",
   "id": "1e27c1e4-1666-464f-9a9d-992cf702e77e",
   "metadata": {},
   "source": [
    "Q) 반복문을 사용한 경우 : for문을 1번 실행"
   ]
  },
  {
   "cell_type": "code",
   "execution_count": null,
   "id": "4ad9a0e0-cfcb-401f-b3b7-ad42a2865090",
   "metadata": {},
   "outputs": [],
   "source": [
    "year = list(range(2015,2019))    # 2015년~2018년 까지의 연도 리스트 생성  \n"
   ]
  },
  {
   "cell_type": "code",
   "execution_count": null,
   "id": "9995a478-de90-4f34-90d1-4bd50b1c4cc5",
   "metadata": {},
   "outputs": [],
   "source": [
    "# 방법 1\n",
    "\n",
    "for x in year:\n",
    "    print('\"The year is', x, '\"')"
   ]
  },
  {
   "cell_type": "code",
   "execution_count": null,
   "id": "069104d9-4ab8-43ca-9dfa-88be2fccd21b",
   "metadata": {},
   "outputs": [],
   "source": [
    "# 방법 2\n",
    "# {}.format() : format 함수 괄호 안의 [숫자를 문자열로 변환!!]하여 순차적으로 {}에 넣는다. \n",
    "\n",
    "i = 0   # i 값 초기화\n",
    "        # clear kernel 상태에서 i=0 을 빼고 실행하면 Error 발생\n",
    "        # i=0 을 넣고 실행한 후, i=0 을 삭제하고 코드 실행을 반복해보면 i 가 이전 출력에 이어서 계속 증가\n",
    "        \n",
    "for x in year:\n",
    "    print('\"The year is {}\"'.format(x))\n",
    "    i += 1      # += 숫자 덧셈 후 대입 (또는 문자열 연결 후 대입)\n"
   ]
  },
  {
   "cell_type": "markdown",
   "id": "74b163c7-4e40-4bb7-9b41-c97a54c5ee88",
   "metadata": {},
   "source": [
    "### 2. while"
   ]
  },
  {
   "cell_type": "markdown",
   "id": "2bd030c4-7818-4351-8607-e66079aaa15a",
   "metadata": {},
   "source": [
    "Q) for문을 사용하여 해결했던 예제에 대해 while문을 이용해서 똑같은 결과값을 출력"
   ]
  },
  {
   "cell_type": "code",
   "execution_count": null,
   "id": "b63dfc97-1748-4359-b7f1-481623a433af",
   "metadata": {},
   "outputs": [],
   "source": [
    "i = 2015\n",
    "\n",
    "while i < 2019:\n",
    "    print('\"The year is {}\"'.format(i))\n",
    "    i += 1"
   ]
  },
  {
   "cell_type": "markdown",
   "id": "61d696b1-0ac8-46e8-b69c-bd58a00548a5",
   "metadata": {},
   "source": [
    "### 3. repeat"
   ]
  },
  {
   "cell_type": "markdown",
   "id": "e0287a9a-1552-4074-a293-70ffa12b3897",
   "metadata": {},
   "source": [
    "#### break : 지정한 조건을 만족하면 반복문 종료"
   ]
  },
  {
   "cell_type": "markdown",
   "id": "d46d54f7-fcf6-4c53-a316-49151f67179a",
   "metadata": {},
   "source": [
    "1~10 까지의 숫자 중 짝수만 출력하기"
   ]
  },
  {
   "cell_type": "code",
   "execution_count": null,
   "id": "83fc7ee2-ad0f-43ac-b1f5-d61ae1d1922b",
   "metadata": {},
   "outputs": [],
   "source": [
    "for i in range(1,100):\n",
    "    print(i)\n",
    "    i += 1\n",
    "    if i == 10:\n",
    "        break"
   ]
  },
  {
   "cell_type": "code",
   "execution_count": null,
   "id": "b8063fc1-912d-4c5c-99e1-105a1467f0c7",
   "metadata": {},
   "outputs": [],
   "source": []
  },
  {
   "cell_type": "markdown",
   "id": "392e6d56-906e-47b7-adc8-3798e88068da",
   "metadata": {},
   "source": [
    "#### continue : 현재 수행중인 반복문을 계속 실행. (continue 이후의 명령은 수행하지 않는다.)"
   ]
  },
  {
   "cell_type": "markdown",
   "id": "eea10859-8386-436b-a666-6251dbb947cf",
   "metadata": {},
   "source": [
    "1~10 까지의 숫자 중 홀수만 출력하기\n",
    "반복문 내의 next를 만나면 print(i)를 실행하지 않고 for문의 맨 처음으로 이동"
   ]
  },
  {
   "cell_type": "code",
   "execution_count": null,
   "id": "8d6f3bb6-6ae7-46f6-8e4c-74956198cc2a",
   "metadata": {},
   "outputs": [],
   "source": []
  },
  {
   "cell_type": "markdown",
   "id": "526e8662-17bf-4d08-82a1-8fac6c3c8266",
   "metadata": {},
   "source": [
    "# 2장. 데이터 변환"
   ]
  },
  {
   "cell_type": "markdown",
   "id": "59bb8e97-acb0-43f3-bb46-552291b7e6ee",
   "metadata": {},
   "source": [
    "## 1절 | 파생변수 생성"
   ]
  },
  {
   "cell_type": "markdown",
   "id": "bc448b93-be78-4ff9-983d-316b027e2926",
   "metadata": {},
   "source": [
    "### 1. data.frame에서의 변수추가"
   ]
  },
  {
   "cell_type": "code",
   "execution_count": null,
   "id": "351c2a03-aef3-471b-b51a-a4bc89c0de2d",
   "metadata": {},
   "outputs": [],
   "source": [
    "Q) R의 내장 데이터 iris에 행번호를 담고 있는 ‘ID’ 라는 변수를 새로 생성"
   ]
  },
  {
   "cell_type": "code",
   "execution_count": null,
   "id": "3f4b8e3b-d834-4509-83a6-1b49926595d8",
   "metadata": {},
   "outputs": [],
   "source": [
    "import numpy as np\n",
    "import pandas as pd\n",
    "import sklearn\n",
    "\n",
    "from sklearn.datasets import load_iris"
   ]
  },
  {
   "cell_type": "code",
   "execution_count": null,
   "id": "23c68da4-9b8b-497b-ae31-33e0424b6489",
   "metadata": {},
   "outputs": [],
   "source": []
  },
  {
   "cell_type": "code",
   "execution_count": null,
   "id": "9183ab73-d36a-41f4-a855-723092ae733f",
   "metadata": {},
   "outputs": [],
   "source": [
    "iris = load_iris()"
   ]
  },
  {
   "cell_type": "code",
   "execution_count": null,
   "id": "e833a758-a811-4c13-b309-83b4cb217c38",
   "metadata": {},
   "outputs": [],
   "source": [
    "iris_data = iris.data"
   ]
  },
  {
   "cell_type": "code",
   "execution_count": null,
   "id": "776447d5-2ddd-47e7-8ae9-9b6f0a59f9c0",
   "metadata": {},
   "outputs": [],
   "source": [
    "iris_df = pd.DataFrame(data=iris.data, columns=iris.feature_names)\n",
    "iris_df['lable'] = iris.target\n",
    "iris_df"
   ]
  },
  {
   "cell_type": "code",
   "execution_count": null,
   "id": "42c05957-96e3-429d-91db-ab39af75a8e1",
   "metadata": {},
   "outputs": [],
   "source": [
    "iris_df['ID'] = list(range(1,151))"
   ]
  },
  {
   "cell_type": "code",
   "execution_count": null,
   "id": "d0770e6a-36ab-4057-8814-c720d4d140f6",
   "metadata": {
    "tags": []
   },
   "outputs": [],
   "source": [
    "iris_df"
   ]
  },
  {
   "cell_type": "markdown",
   "id": "cc644d8d-7a51-4042-b43e-b929b6dd142b",
   "metadata": {},
   "source": [
    "Q) 생성했던 ID 변수의 값이 짝수이면 A, 홀수이면 B로 분류하는 새로운 변수(변수명 : Group)를 생성"
   ]
  },
  {
   "cell_type": "code",
   "execution_count": null,
   "id": "1375d9ee-776c-43f9-9dd2-cd78a4cc2268",
   "metadata": {},
   "outputs": [],
   "source": []
  },
  {
   "cell_type": "code",
   "execution_count": null,
   "id": "10339517-6555-470e-ae90-c710a3463afa",
   "metadata": {},
   "outputs": [],
   "source": []
  },
  {
   "cell_type": "code",
   "execution_count": null,
   "id": "9770aa6e-b037-4a9c-856b-a73ad9026910",
   "metadata": {},
   "outputs": [],
   "source": []
  },
  {
   "cell_type": "markdown",
   "id": "f08c31ff-0ed0-44ed-82af-a74140c14beb",
   "metadata": {},
   "source": [
    "딕셔너리 사용"
   ]
  },
  {
   "cell_type": "code",
   "execution_count": null,
   "id": "5053b616-1ff2-4330-8a53-79ebd9018f87",
   "metadata": {},
   "outputs": [],
   "source": []
  },
  {
   "cell_type": "markdown",
   "id": "08c9f89a-a670-465e-8a01-c3d2cc8bdc15",
   "metadata": {},
   "source": [
    "np.where 사용"
   ]
  },
  {
   "cell_type": "code",
   "execution_count": null,
   "id": "7233cdc0-1440-4144-84d7-e3173a441657",
   "metadata": {},
   "outputs": [],
   "source": [
    "iris['Group'] = np.where( iris_df['ID'].values % 2 == 0), 'Even', 'Odd'"
   ]
  },
  {
   "cell_type": "markdown",
   "id": "3cff734c-fd2b-4517-82d9-f0da6ef4bf01",
   "metadata": {},
   "source": [
    "apply 사용"
   ]
  },
  {
   "cell_type": "code",
   "execution_count": null,
   "id": "38ce85c0-eeff-4dca-b18e-2602d47869c9",
   "metadata": {},
   "outputs": [],
   "source": [
    "def odd(x):\n",
    "    try:\n",
    "        if int(x)%2 == 0:\n",
    "            return 'even'\n",
    "        else:\n",
    "            return 'Odd'\n",
    "        \n",
    "    except:\n",
    "        print('Error')   "
   ]
  },
  {
   "cell_type": "code",
   "execution_count": null,
   "id": "f514e42a-b70f-406c-b95c-dcd6ff46ac3d",
   "metadata": {},
   "outputs": [],
   "source": [
    "iris_df['Group'] = iris_df['ID'].apply(lambda x : odd(x))"
   ]
  },
  {
   "cell_type": "code",
   "execution_count": null,
   "id": "59321646-0058-45da-83be-e1fa432bd215",
   "metadata": {},
   "outputs": [],
   "source": [
    "iris_df"
   ]
  },
  {
   "cell_type": "markdown",
   "id": "e4297ba7-efc8-4716-8b95-5fda1385f238",
   "metadata": {},
   "source": [
    "Q) iris 데이터에서 Sepal.Length 변수와 Petal.Length 변수의 값을 더하여 ‘Sum.Length’ 라는 새로운 변수를 생성해보자."
   ]
  },
  {
   "cell_type": "code",
   "execution_count": null,
   "id": "5cff9992-f9a9-46fc-9e30-e88c8f3eab07",
   "metadata": {},
   "outputs": [],
   "source": [
    "iris_df['Sum.Length'] = iris_df['sepal length (cm)'] + iris_df['petal length (cm)']"
   ]
  },
  {
   "cell_type": "code",
   "execution_count": null,
   "id": "6872f250-eda0-4968-a08b-29bc527f76c9",
   "metadata": {},
   "outputs": [],
   "source": [
    "iris_df"
   ]
  },
  {
   "cell_type": "markdown",
   "id": "dd3578ba-0fb4-4f24-82ee-a4b52d39eb47",
   "metadata": {},
   "source": [
    "### [ Question ]\n",
    "- 학생의 id(s1, s2, s3, s4, s5, s6)를 담은 student_id 변수와 시험점수(55, 90, 85, 71, 63, 99)를 담은 score 변수로 구성된 데이터프레임을 생성\n",
    "\n",
    "- 그 후 시험점수가 90점 이상이면 수, 80점 이상 90점 미만이면 우, 70점 이상 80점 미만이면 미, 60점 이상 70점 미만이면 양, 60점 이하이면 가로 분류하는 ‘grade’ 라는 변수를 새롭게 생성"
   ]
  },
  {
   "cell_type": "code",
   "execution_count": 1,
   "id": "18c0c403-f355-4a9d-b315-41bb3e911bf1",
   "metadata": {},
   "outputs": [
    {
     "data": {
      "text/html": [
       "<div>\n",
       "<style scoped>\n",
       "    .dataframe tbody tr th:only-of-type {\n",
       "        vertical-align: middle;\n",
       "    }\n",
       "\n",
       "    .dataframe tbody tr th {\n",
       "        vertical-align: top;\n",
       "    }\n",
       "\n",
       "    .dataframe thead th {\n",
       "        text-align: right;\n",
       "    }\n",
       "</style>\n",
       "<table border=\"1\" class=\"dataframe\">\n",
       "  <thead>\n",
       "    <tr style=\"text-align: right;\">\n",
       "      <th></th>\n",
       "      <th>ID</th>\n",
       "      <th>Score</th>\n",
       "    </tr>\n",
       "  </thead>\n",
       "  <tbody>\n",
       "    <tr>\n",
       "      <th>0</th>\n",
       "      <td>s1</td>\n",
       "      <td>55</td>\n",
       "    </tr>\n",
       "    <tr>\n",
       "      <th>1</th>\n",
       "      <td>s2</td>\n",
       "      <td>90</td>\n",
       "    </tr>\n",
       "    <tr>\n",
       "      <th>2</th>\n",
       "      <td>s3</td>\n",
       "      <td>85</td>\n",
       "    </tr>\n",
       "    <tr>\n",
       "      <th>3</th>\n",
       "      <td>s4</td>\n",
       "      <td>71</td>\n",
       "    </tr>\n",
       "    <tr>\n",
       "      <th>4</th>\n",
       "      <td>s5</td>\n",
       "      <td>63</td>\n",
       "    </tr>\n",
       "    <tr>\n",
       "      <th>5</th>\n",
       "      <td>s6</td>\n",
       "      <td>99</td>\n",
       "    </tr>\n",
       "  </tbody>\n",
       "</table>\n",
       "</div>"
      ],
      "text/plain": [
       "   ID  Score\n",
       "0  s1     55\n",
       "1  s2     90\n",
       "2  s3     85\n",
       "3  s4     71\n",
       "4  s5     63\n",
       "5  s6     99"
      ]
     },
     "execution_count": 1,
     "metadata": {},
     "output_type": "execute_result"
    }
   ],
   "source": [
    "import numpy as np\n",
    "import pandas as pd\n",
    "import sklearn\n",
    "\n",
    "# 데이터 프레임 생성 - 개별 생성\n",
    "df_student = pd.DataFrame()\n",
    "\n",
    "df_student['ID'] = ['s1', 's2', 's3', 's4', 's5', 's6']\n",
    "df_student['Score'] = [55, 90, 85, 71, 63, 99]\n",
    "\n",
    "df_student"
   ]
  },
  {
   "cell_type": "code",
   "execution_count": 2,
   "id": "8cf3cb1a-98c8-4792-a9c0-8c34b1afd38e",
   "metadata": {},
   "outputs": [],
   "source": [
    "def grade(x):\n",
    "    if x >= 90:\n",
    "        return '수'\n",
    "    elif x >=80:\n",
    "        return '우'\n",
    "    elif x >=70:\n",
    "        return '미'\n",
    "    elif x >=60:\n",
    "        return '양'\n",
    "    else:\n",
    "        return '가'\n",
    "\n",
    "\n",
    "df_student['Grade'] = df_student['Score'].apply(lambda x : grade(x))"
   ]
  },
  {
   "cell_type": "code",
   "execution_count": 3,
   "id": "e980126a-2a39-4ebe-b7f4-74b9cfd82e27",
   "metadata": {},
   "outputs": [
    {
     "data": {
      "text/html": [
       "<div>\n",
       "<style scoped>\n",
       "    .dataframe tbody tr th:only-of-type {\n",
       "        vertical-align: middle;\n",
       "    }\n",
       "\n",
       "    .dataframe tbody tr th {\n",
       "        vertical-align: top;\n",
       "    }\n",
       "\n",
       "    .dataframe thead th {\n",
       "        text-align: right;\n",
       "    }\n",
       "</style>\n",
       "<table border=\"1\" class=\"dataframe\">\n",
       "  <thead>\n",
       "    <tr style=\"text-align: right;\">\n",
       "      <th></th>\n",
       "      <th>ID</th>\n",
       "      <th>Score</th>\n",
       "      <th>Grade</th>\n",
       "    </tr>\n",
       "  </thead>\n",
       "  <tbody>\n",
       "    <tr>\n",
       "      <th>0</th>\n",
       "      <td>s1</td>\n",
       "      <td>55</td>\n",
       "      <td>가</td>\n",
       "    </tr>\n",
       "    <tr>\n",
       "      <th>1</th>\n",
       "      <td>s2</td>\n",
       "      <td>90</td>\n",
       "      <td>수</td>\n",
       "    </tr>\n",
       "    <tr>\n",
       "      <th>2</th>\n",
       "      <td>s3</td>\n",
       "      <td>85</td>\n",
       "      <td>우</td>\n",
       "    </tr>\n",
       "    <tr>\n",
       "      <th>3</th>\n",
       "      <td>s4</td>\n",
       "      <td>71</td>\n",
       "      <td>미</td>\n",
       "    </tr>\n",
       "    <tr>\n",
       "      <th>4</th>\n",
       "      <td>s5</td>\n",
       "      <td>63</td>\n",
       "      <td>양</td>\n",
       "    </tr>\n",
       "    <tr>\n",
       "      <th>5</th>\n",
       "      <td>s6</td>\n",
       "      <td>99</td>\n",
       "      <td>수</td>\n",
       "    </tr>\n",
       "  </tbody>\n",
       "</table>\n",
       "</div>"
      ],
      "text/plain": [
       "   ID  Score Grade\n",
       "0  s1     55     가\n",
       "1  s2     90     수\n",
       "2  s3     85     우\n",
       "3  s4     71     미\n",
       "4  s5     63     양\n",
       "5  s6     99     수"
      ]
     },
     "execution_count": 3,
     "metadata": {},
     "output_type": "execute_result"
    }
   ],
   "source": [
    "df_student"
   ]
  },
  {
   "cell_type": "code",
   "execution_count": null,
   "id": "9a1128b7-4d51-4a8a-a282-051055eea656",
   "metadata": {},
   "outputs": [],
   "source": []
  },
  {
   "cell_type": "markdown",
   "id": "c8efc755-c180-462c-8041-03e90e49b15b",
   "metadata": {},
   "source": [
    "## 2절 | 변수 축소"
   ]
  },
  {
   "cell_type": "markdown",
   "id": "ad07e772-83a3-43e2-b93d-6457a9fec828",
   "metadata": {},
   "source": [
    "### 1. 주성분분석"
   ]
  },
  {
   "cell_type": "markdown",
   "id": "2131d862-6943-497c-84d6-aff5e7328f67",
   "metadata": {},
   "source": [
    "#### [ Question ]\n",
    "- R에 내장된 USArrests 데이터는 1973년 미국 50개주 100,000명의 인구 당 체포된 세 가지 강력범죄수(assault, murder, rape)와 각 주마다 도시에 거주하는 인구의 비율(%)로 구성되어있다.\n",
    "- 주성분 분석을 수행하여 해당 데이터의 변수들을 가장 잘 요약하는 주성분을 구하고 해석하라."
   ]
  },
  {
   "cell_type": "code",
   "execution_count": 22,
   "id": "a5141eb4-3699-458a-a06f-d80ef631e077",
   "metadata": {},
   "outputs": [],
   "source": [
    "import numpy as np\n",
    "import pandas as pd\n",
    "\n",
    "# 차원축소를 위한 패키지\n",
    "from sklearn.decomposition import PCA\n",
    "\n",
    "import seaborn as sb\n",
    "import matplotlib.pyplot as plt"
   ]
  },
  {
   "cell_type": "code",
   "execution_count": null,
   "id": "ffa6b98a-13fa-4f9f-ae80-7b3c78890cfb",
   "metadata": {},
   "outputs": [],
   "source": []
  },
  {
   "cell_type": "code",
   "execution_count": null,
   "id": "8a4e9548-68b7-4974-9e36-8922c4f3bc0d",
   "metadata": {},
   "outputs": [],
   "source": []
  },
  {
   "cell_type": "code",
   "execution_count": null,
   "id": "5ef0e03c-1493-42f6-9008-dcbf3ed0f41d",
   "metadata": {},
   "outputs": [],
   "source": []
  },
  {
   "cell_type": "code",
   "execution_count": 13,
   "id": "89ecdaa0-7e79-4e8f-91f3-fac9dca8c2cf",
   "metadata": {},
   "outputs": [],
   "source": [
    "df_arrests = pd.read_csv( \"C:/Users/Administrator/GitHub/TIL/ADP_study/USArrests.csv\" )"
   ]
  },
  {
   "cell_type": "code",
   "execution_count": 42,
   "id": "c6dd6874-3878-4a09-b45e-7060a5658cc7",
   "metadata": {
    "tags": []
   },
   "outputs": [
    {
     "data": {
      "text/html": [
       "<div>\n",
       "<style scoped>\n",
       "    .dataframe tbody tr th:only-of-type {\n",
       "        vertical-align: middle;\n",
       "    }\n",
       "\n",
       "    .dataframe tbody tr th {\n",
       "        vertical-align: top;\n",
       "    }\n",
       "\n",
       "    .dataframe thead th {\n",
       "        text-align: right;\n",
       "    }\n",
       "</style>\n",
       "<table border=\"1\" class=\"dataframe\">\n",
       "  <thead>\n",
       "    <tr style=\"text-align: right;\">\n",
       "      <th></th>\n",
       "      <th>Unnamed: 0</th>\n",
       "      <th>Murder</th>\n",
       "      <th>Assault</th>\n",
       "      <th>UrbanPop</th>\n",
       "      <th>Rape</th>\n",
       "    </tr>\n",
       "  </thead>\n",
       "  <tbody>\n",
       "    <tr>\n",
       "      <th>0</th>\n",
       "      <td>Alabama</td>\n",
       "      <td>13.2</td>\n",
       "      <td>236</td>\n",
       "      <td>58</td>\n",
       "      <td>21.2</td>\n",
       "    </tr>\n",
       "    <tr>\n",
       "      <th>1</th>\n",
       "      <td>Alaska</td>\n",
       "      <td>10.0</td>\n",
       "      <td>263</td>\n",
       "      <td>48</td>\n",
       "      <td>44.5</td>\n",
       "    </tr>\n",
       "    <tr>\n",
       "      <th>2</th>\n",
       "      <td>Arizona</td>\n",
       "      <td>8.1</td>\n",
       "      <td>294</td>\n",
       "      <td>80</td>\n",
       "      <td>31.0</td>\n",
       "    </tr>\n",
       "    <tr>\n",
       "      <th>3</th>\n",
       "      <td>Arkansas</td>\n",
       "      <td>8.8</td>\n",
       "      <td>190</td>\n",
       "      <td>50</td>\n",
       "      <td>19.5</td>\n",
       "    </tr>\n",
       "    <tr>\n",
       "      <th>4</th>\n",
       "      <td>California</td>\n",
       "      <td>9.0</td>\n",
       "      <td>276</td>\n",
       "      <td>91</td>\n",
       "      <td>40.6</td>\n",
       "    </tr>\n",
       "  </tbody>\n",
       "</table>\n",
       "</div>"
      ],
      "text/plain": [
       "   Unnamed: 0  Murder  Assault  UrbanPop  Rape\n",
       "0     Alabama    13.2      236        58  21.2\n",
       "1      Alaska    10.0      263        48  44.5\n",
       "2     Arizona     8.1      294        80  31.0\n",
       "3    Arkansas     8.8      190        50  19.5\n",
       "4  California     9.0      276        91  40.6"
      ]
     },
     "metadata": {},
     "output_type": "display_data"
    },
    {
     "data": {
      "text/html": [
       "<div>\n",
       "<style scoped>\n",
       "    .dataframe tbody tr th:only-of-type {\n",
       "        vertical-align: middle;\n",
       "    }\n",
       "\n",
       "    .dataframe tbody tr th {\n",
       "        vertical-align: top;\n",
       "    }\n",
       "\n",
       "    .dataframe thead th {\n",
       "        text-align: right;\n",
       "    }\n",
       "</style>\n",
       "<table border=\"1\" class=\"dataframe\">\n",
       "  <thead>\n",
       "    <tr style=\"text-align: right;\">\n",
       "      <th></th>\n",
       "      <th>Murder</th>\n",
       "      <th>Assault</th>\n",
       "      <th>UrbanPop</th>\n",
       "      <th>Rape</th>\n",
       "    </tr>\n",
       "  </thead>\n",
       "  <tbody>\n",
       "    <tr>\n",
       "      <th>count</th>\n",
       "      <td>50.00000</td>\n",
       "      <td>50.000000</td>\n",
       "      <td>50.000000</td>\n",
       "      <td>50.000000</td>\n",
       "    </tr>\n",
       "    <tr>\n",
       "      <th>mean</th>\n",
       "      <td>7.78800</td>\n",
       "      <td>170.760000</td>\n",
       "      <td>65.540000</td>\n",
       "      <td>21.232000</td>\n",
       "    </tr>\n",
       "    <tr>\n",
       "      <th>std</th>\n",
       "      <td>4.35551</td>\n",
       "      <td>83.337661</td>\n",
       "      <td>14.474763</td>\n",
       "      <td>9.366385</td>\n",
       "    </tr>\n",
       "    <tr>\n",
       "      <th>min</th>\n",
       "      <td>0.80000</td>\n",
       "      <td>45.000000</td>\n",
       "      <td>32.000000</td>\n",
       "      <td>7.300000</td>\n",
       "    </tr>\n",
       "    <tr>\n",
       "      <th>25%</th>\n",
       "      <td>4.07500</td>\n",
       "      <td>109.000000</td>\n",
       "      <td>54.500000</td>\n",
       "      <td>15.075000</td>\n",
       "    </tr>\n",
       "    <tr>\n",
       "      <th>50%</th>\n",
       "      <td>7.25000</td>\n",
       "      <td>159.000000</td>\n",
       "      <td>66.000000</td>\n",
       "      <td>20.100000</td>\n",
       "    </tr>\n",
       "    <tr>\n",
       "      <th>75%</th>\n",
       "      <td>11.25000</td>\n",
       "      <td>249.000000</td>\n",
       "      <td>77.750000</td>\n",
       "      <td>26.175000</td>\n",
       "    </tr>\n",
       "    <tr>\n",
       "      <th>max</th>\n",
       "      <td>17.40000</td>\n",
       "      <td>337.000000</td>\n",
       "      <td>91.000000</td>\n",
       "      <td>46.000000</td>\n",
       "    </tr>\n",
       "  </tbody>\n",
       "</table>\n",
       "</div>"
      ],
      "text/plain": [
       "         Murder     Assault   UrbanPop       Rape\n",
       "count  50.00000   50.000000  50.000000  50.000000\n",
       "mean    7.78800  170.760000  65.540000  21.232000\n",
       "std     4.35551   83.337661  14.474763   9.366385\n",
       "min     0.80000   45.000000  32.000000   7.300000\n",
       "25%     4.07500  109.000000  54.500000  15.075000\n",
       "50%     7.25000  159.000000  66.000000  20.100000\n",
       "75%    11.25000  249.000000  77.750000  26.175000\n",
       "max    17.40000  337.000000  91.000000  46.000000"
      ]
     },
     "metadata": {},
     "output_type": "display_data"
    },
    {
     "name": "stdout",
     "output_type": "stream",
     "text": [
      "<class 'pandas.core.frame.DataFrame'>\n",
      "RangeIndex: 50 entries, 0 to 49\n",
      "Data columns (total 5 columns):\n",
      " #   Column      Non-Null Count  Dtype  \n",
      "---  ------      --------------  -----  \n",
      " 0   Unnamed: 0  50 non-null     object \n",
      " 1   Murder      50 non-null     float64\n",
      " 2   Assault     50 non-null     int64  \n",
      " 3   UrbanPop    50 non-null     int64  \n",
      " 4   Rape        50 non-null     float64\n",
      "dtypes: float64(2), int64(2), object(1)\n",
      "memory usage: 2.1+ KB\n"
     ]
    },
    {
     "data": {
      "text/plain": [
       "None"
      ]
     },
     "metadata": {},
     "output_type": "display_data"
    }
   ],
   "source": [
    "display(df_arrests.head())\n",
    "display(df_arrests.describe())\n",
    "display(df_arrests.info())"
   ]
  },
  {
   "cell_type": "code",
   "execution_count": 45,
   "id": "19c03383-ef81-4cfa-b2b7-46ae30692230",
   "metadata": {},
   "outputs": [
    {
     "data": {
      "image/png": "[encoded data removed]",
      "text/plain": [
       "<Figure size 720x720 with 20 Axes>"
      ]
     },
     "metadata": {
      "needs_background": "light"
     },
     "output_type": "display_data"
    }
   ],
   "source": [
    "sb.pairplot(df_arrests, diag_kind='hist')\n",
    "plt.show()"
   ]
  },
  {
   "cell_type": "code",
   "execution_count": null,
   "id": "237b1b52-47e2-4a9b-81ed-3243967af0e2",
   "metadata": {},
   "outputs": [],
   "source": []
  },
  {
   "cell_type": "code",
   "execution_count": null,
   "id": "fb5a5e3b-a251-471c-b298-20d727da63a5",
   "metadata": {},
   "outputs": [],
   "source": []
  },
  {
   "cell_type": "code",
   "execution_count": null,
   "id": "991c4cfb-c526-4a72-ace8-3c2a2d97548e",
   "metadata": {},
   "outputs": [],
   "source": []
  },
  {
   "cell_type": "code",
   "execution_count": null,
   "id": "dcdff703-7a19-4b09-b8ec-e2074436c3c5",
   "metadata": {},
   "outputs": [],
   "source": []
  },
  {
   "cell_type": "code",
   "execution_count": null,
   "id": "12c25e36-1b21-4007-8548-338b44203a98",
   "metadata": {},
   "outputs": [],
   "source": []
  },
  {
   "cell_type": "code",
   "execution_count": null,
   "id": "480333ed-a83b-46e8-b0e4-2d3815e966d4",
   "metadata": {},
   "outputs": [],
   "source": []
  },
  {
   "cell_type": "code",
   "execution_count": null,
   "id": "5d945783-6b5f-46c4-8b25-248e36f6fd38",
   "metadata": {},
   "outputs": [],
   "source": []
  },
  {
   "cell_type": "code",
   "execution_count": null,
   "id": "ead9d71b-ce76-4d3e-ac99-f72c0ac2b8e6",
   "metadata": {},
   "outputs": [],
   "source": []
  },
  {
   "cell_type": "code",
   "execution_count": null,
   "id": "3e43717b-3f0c-4f0c-ae70-1e1b71a18273",
   "metadata": {},
   "outputs": [],
   "source": []
  },
  {
   "cell_type": "code",
   "execution_count": null,
   "id": "22ce84e2-ce09-49c1-80e3-4460f9ad0ef4",
   "metadata": {},
   "outputs": [],
   "source": []
  },
  {
   "cell_type": "code",
   "execution_count": null,
   "id": "82b7f392-d7c5-4093-9daf-fd613c76fe63",
   "metadata": {},
   "outputs": [],
   "source": []
  },
  {
   "cell_type": "code",
   "execution_count": null,
   "id": "58a4cc22-61a5-4d07-bf25-c6295d64f43f",
   "metadata": {},
   "outputs": [],
   "source": []
  },
  {
   "cell_type": "code",
   "execution_count": null,
   "id": "71db041f-daac-42bf-81fe-5be48ede7d5b",
   "metadata": {},
   "outputs": [],
   "source": []
  },
  {
   "cell_type": "code",
   "execution_count": null,
   "id": "888cd6d9-3e97-48f5-b354-acef3a5e6640",
   "metadata": {},
   "outputs": [],
   "source": []
  },
  {
   "cell_type": "code",
   "execution_count": null,
   "id": "c9c58e52-edf3-47f6-aeb7-f5d76eac4da9",
   "metadata": {},
   "outputs": [],
   "source": []
  },
  {
   "cell_type": "code",
   "execution_count": null,
   "id": "42e67166-2201-4138-be7e-785dcff8e3dc",
   "metadata": {},
   "outputs": [],
   "source": []
  },
  {
   "cell_type": "code",
   "execution_count": null,
   "id": "bc78099c-caa5-4956-9ee8-74af20ce8377",
   "metadata": {},
   "outputs": [],
   "source": []
  },
  {
   "cell_type": "code",
   "execution_count": null,
   "id": "cedc5f03-1c76-42b1-bb32-b2a3ed2a7d2e",
   "metadata": {},
   "outputs": [],
   "source": []
  },
  {
   "cell_type": "code",
   "execution_count": null,
   "id": "d3c4dd12-f6a1-4adb-9894-ab8665f2787d",
   "metadata": {},
   "outputs": [],
   "source": []
  },
  {
   "cell_type": "code",
   "execution_count": null,
   "id": "a637fb8a-c39b-44e6-9868-9409dfe97469",
   "metadata": {},
   "outputs": [],
   "source": []
  },
  {
   "cell_type": "code",
   "execution_count": null,
   "id": "5b86e917-a7b7-4c23-9c7a-2e2e9319752d",
   "metadata": {},
   "outputs": [],
   "source": []
  },
  {
   "cell_type": "code",
   "execution_count": null,
   "id": "4ca4cc9b-beb8-48f3-b155-1450e11f2977",
   "metadata": {},
   "outputs": [],
   "source": []
  },
  {
   "cell_type": "code",
   "execution_count": null,
   "id": "9911379f-43c7-4499-b43d-93acd6900631",
   "metadata": {},
   "outputs": [],
   "source": []
  },
  {
   "cell_type": "code",
   "execution_count": null,
   "id": "0068ffe0-ebdf-4597-8d96-287e21822aa2",
   "metadata": {},
   "outputs": [],
   "source": []
  },
  {
   "cell_type": "code",
   "execution_count": null,
   "id": "4204288c-f6ab-4c51-96aa-9b78a01f1ccd",
   "metadata": {},
   "outputs": [],
   "source": []
  },
  {
   "cell_type": "code",
   "execution_count": null,
   "id": "4191f1fb-1b17-4cd3-825b-b15809ff0aae",
   "metadata": {},
   "outputs": [],
   "source": []
  },
  {
   "cell_type": "code",
   "execution_count": null,
   "id": "4257a9e2-2f55-4a43-a34f-869b7d0f2e62",
   "metadata": {},
   "outputs": [],
   "source": []
  }
 ],
 "metadata": {
  "jupytext": {
   "formats": "ipynb,auto:light"
  },
  "kernelspec": {
   "display_name": "Python 3",
   "language": "python",
   "name": "python3"
  },
  "language_info": {
   "codemirror_mode": {
    "name": "ipython",
    "version": 3
   },
   "file_extension": ".py",
   "mimetype": "text/x-python",
   "name": "python",
   "nbconvert_exporter": "python",
   "pygments_lexer": "ipython3",
   "version": "3.8.8"
  }
 },
 "nbformat": 4,
 "nbformat_minor": 5
}
