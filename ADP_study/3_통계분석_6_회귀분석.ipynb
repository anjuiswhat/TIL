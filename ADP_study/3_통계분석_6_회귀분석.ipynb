{
 "cells": [
  {
   "cell_type": "markdown",
   "id": "93a88c79-15c2-4312-a8cb-3af8d6f60a29",
   "metadata": {},
   "source": [
    "# PART 03. 통계분석"
   ]
  },
  {
   "cell_type": "markdown",
   "id": "0e8be38b-cd09-44c4-9aef-009eb1488142",
   "metadata": {},
   "source": [
    "## 6장. 회귀분석"
   ]
  },
  {
   "cell_type": "code",
   "execution_count": 58,
   "id": "fb3e165d-d78a-4d4f-be08-6efed91b0a73",
   "metadata": {},
   "outputs": [],
   "source": [
    "# 데이터 핸들링을 위한 패키지\n",
    "import numpy as np\n",
    "import pandas as pd\n",
    "\n",
    "# 통계 학습을 위한 패키지\n",
    "import scipy as sp\n",
    "from scipy import stats\n",
    "import statsmodels.api as sm\n",
    "from statsmodels.formula.api import ols\n",
    "\n",
    "# 기계 학습을 위한 패키지\n",
    "import sklearn.linear_model\n",
    "from sklearn.model_selection import train_test_split\n",
    "from sklearn.metrics import mean_squared_error, r2_score, mean_absolute_error\n",
    "\n",
    "# 시각화를 위한 패키지\n",
    "import seaborn as sb\n",
    "import matplotlib.pyplot as plt\n",
    "import matplotlib.font_manager as fm\n",
    "\n",
    "# %matplotlib inline 의 목적은 plt.show()함수가 호출되지 않은 경우에도 matplotlib 다이어그램을 렌더링하는 것이다.\n",
    "# 그러나 현재 업데이트된 버전의 주피터 노트북 버전에서는 %matplotlib inline 를 사용하지 않더라도 Matplotlib 다이어그램을 개체로 표현한다.\n",
    "# 따라서 굳이 필요하지는 않다. 그러나 코드를 깨끗하게 유지하고 자신이 만든 플롯을 호출하기 위해 여전히 관례적으로 권장된다.\n",
    "%matplotlib inline\n",
    "\n",
    "# 경고 메시지 무시\n",
    "import warnings\n",
    "warnings.filterwarnings('ignore')\n",
    "\n",
    "# 한글 폰트 설정\n",
    "plt.rc('font', family='Malgun Gothic')"
   ]
  },
  {
   "cell_type": "markdown",
   "id": "1ba347fe-c3bf-4846-afb4-fa122333d150",
   "metadata": {},
   "source": [
    "### 단순선형회귀분석"
   ]
  },
  {
   "cell_type": "raw",
   "id": "e6f97a96-32a4-4ff6-b19b-b58e85b49c54",
   "metadata": {},
   "source": [
    "[Problem]\n",
    "- Cars93 데이터의 엔진크기(EngineSize)를 독립변수, 가격(Price)를 종속변수로 설정하여 단순 선형 회귀분석을 실시한 후 추정된 회귀모형에 대해 해석하라."
   ]
  },
  {
   "cell_type": "markdown",
   "id": "472472d2-13e3-4f19-9650-efc9b7197715",
   "metadata": {},
   "source": [
    "#### 1. 데이터 파악"
   ]
  },
  {
   "cell_type": "code",
   "execution_count": 31,
   "id": "4e246b6c-c0e1-4059-948e-af76d29c478c",
   "metadata": {
    "tags": []
   },
   "outputs": [],
   "source": [
    "# 데이터프레임 생성\n",
    "\n",
    "df_cars93 = pd.read_csv( 'C:/Users/Administrator/GitHub/TIL/ADP_study/rawdata/Cars93.csv',\n",
    "                         index_col = 'Unnamed: 0' ) "
   ]
  },
  {
   "cell_type": "code",
   "execution_count": 33,
   "id": "cd51caf6-feb0-4f40-833a-b897cd92aeef",
   "metadata": {},
   "outputs": [
    {
     "data": {
      "text/html": [
       "<div>\n",
       "<style scoped>\n",
       "    .dataframe tbody tr th:only-of-type {\n",
       "        vertical-align: middle;\n",
       "    }\n",
       "\n",
       "    .dataframe tbody tr th {\n",
       "        vertical-align: top;\n",
       "    }\n",
       "\n",
       "    .dataframe thead th {\n",
       "        text-align: right;\n",
       "    }\n",
       "</style>\n",
       "<table border=\"1\" class=\"dataframe\">\n",
       "  <thead>\n",
       "    <tr style=\"text-align: right;\">\n",
       "      <th></th>\n",
       "      <th>EngineSize</th>\n",
       "    </tr>\n",
       "  </thead>\n",
       "  <tbody>\n",
       "    <tr>\n",
       "      <th>1</th>\n",
       "      <td>1.8</td>\n",
       "    </tr>\n",
       "    <tr>\n",
       "      <th>2</th>\n",
       "      <td>3.2</td>\n",
       "    </tr>\n",
       "    <tr>\n",
       "      <th>3</th>\n",
       "      <td>2.8</td>\n",
       "    </tr>\n",
       "    <tr>\n",
       "      <th>4</th>\n",
       "      <td>2.8</td>\n",
       "    </tr>\n",
       "    <tr>\n",
       "      <th>5</th>\n",
       "      <td>3.5</td>\n",
       "    </tr>\n",
       "    <tr>\n",
       "      <th>...</th>\n",
       "      <td>...</td>\n",
       "    </tr>\n",
       "    <tr>\n",
       "      <th>89</th>\n",
       "      <td>2.5</td>\n",
       "    </tr>\n",
       "    <tr>\n",
       "      <th>90</th>\n",
       "      <td>2.0</td>\n",
       "    </tr>\n",
       "    <tr>\n",
       "      <th>91</th>\n",
       "      <td>2.8</td>\n",
       "    </tr>\n",
       "    <tr>\n",
       "      <th>92</th>\n",
       "      <td>2.3</td>\n",
       "    </tr>\n",
       "    <tr>\n",
       "      <th>93</th>\n",
       "      <td>2.4</td>\n",
       "    </tr>\n",
       "  </tbody>\n",
       "</table>\n",
       "<p>93 rows × 1 columns</p>\n",
       "</div>"
      ],
      "text/plain": [
       "    EngineSize\n",
       "1          1.8\n",
       "2          3.2\n",
       "3          2.8\n",
       "4          2.8\n",
       "5          3.5\n",
       "..         ...\n",
       "89         2.5\n",
       "90         2.0\n",
       "91         2.8\n",
       "92         2.3\n",
       "93         2.4\n",
       "\n",
       "[93 rows x 1 columns]"
      ]
     },
     "metadata": {},
     "output_type": "display_data"
    },
    {
     "data": {
      "text/html": [
       "<div>\n",
       "<style scoped>\n",
       "    .dataframe tbody tr th:only-of-type {\n",
       "        vertical-align: middle;\n",
       "    }\n",
       "\n",
       "    .dataframe tbody tr th {\n",
       "        vertical-align: top;\n",
       "    }\n",
       "\n",
       "    .dataframe thead th {\n",
       "        text-align: right;\n",
       "    }\n",
       "</style>\n",
       "<table border=\"1\" class=\"dataframe\">\n",
       "  <thead>\n",
       "    <tr style=\"text-align: right;\">\n",
       "      <th></th>\n",
       "      <th>Price</th>\n",
       "    </tr>\n",
       "  </thead>\n",
       "  <tbody>\n",
       "    <tr>\n",
       "      <th>1</th>\n",
       "      <td>15.9</td>\n",
       "    </tr>\n",
       "    <tr>\n",
       "      <th>2</th>\n",
       "      <td>33.9</td>\n",
       "    </tr>\n",
       "    <tr>\n",
       "      <th>3</th>\n",
       "      <td>29.1</td>\n",
       "    </tr>\n",
       "    <tr>\n",
       "      <th>4</th>\n",
       "      <td>37.7</td>\n",
       "    </tr>\n",
       "    <tr>\n",
       "      <th>5</th>\n",
       "      <td>30.0</td>\n",
       "    </tr>\n",
       "    <tr>\n",
       "      <th>...</th>\n",
       "      <td>...</td>\n",
       "    </tr>\n",
       "    <tr>\n",
       "      <th>89</th>\n",
       "      <td>19.7</td>\n",
       "    </tr>\n",
       "    <tr>\n",
       "      <th>90</th>\n",
       "      <td>20.0</td>\n",
       "    </tr>\n",
       "    <tr>\n",
       "      <th>91</th>\n",
       "      <td>23.3</td>\n",
       "    </tr>\n",
       "    <tr>\n",
       "      <th>92</th>\n",
       "      <td>22.7</td>\n",
       "    </tr>\n",
       "    <tr>\n",
       "      <th>93</th>\n",
       "      <td>26.7</td>\n",
       "    </tr>\n",
       "  </tbody>\n",
       "</table>\n",
       "<p>93 rows × 1 columns</p>\n",
       "</div>"
      ],
      "text/plain": [
       "    Price\n",
       "1    15.9\n",
       "2    33.9\n",
       "3    29.1\n",
       "4    37.7\n",
       "5    30.0\n",
       "..    ...\n",
       "89   19.7\n",
       "90   20.0\n",
       "91   23.3\n",
       "92   22.7\n",
       "93   26.7\n",
       "\n",
       "[93 rows x 1 columns]"
      ]
     },
     "metadata": {},
     "output_type": "display_data"
    }
   ],
   "source": [
    "# x = df_cars93.drop('Price', axis = 1)\n",
    "x = pd.DataFrame( df_cars93['EngineSize'] )\n",
    "y = pd.DataFrame( df_cars93['Price'] )\n",
    "display(x, y)"
   ]
  },
  {
   "cell_type": "markdown",
   "id": "35f6b2a1-7846-4f8f-aaf0-ac90fbc35f67",
   "metadata": {},
   "source": [
    "#### 2. Train set / Test set 나누기"
   ]
  },
  {
   "cell_type": "code",
   "execution_count": 47,
   "id": "3544ee6c-251c-4f34-b2e6-0acb1941c0d9",
   "metadata": {},
   "outputs": [],
   "source": [
    "x_train, x_test, y_train, y_test = train_test_split( x, y,\n",
    "                                                     test_size = 0.3,\n",
    "                                                     random_state = 2000 )"
   ]
  },
  {
   "cell_type": "raw",
   "id": "5490e2a6-8b2e-4de0-b803-33cd06aebcf0",
   "metadata": {},
   "source": []
  },
  {
   "cell_type": "markdown",
   "id": "6bdd5dca-ccf7-482f-ba59-4f3fcdfb5b32",
   "metadata": {},
   "source": [
    "#### 3. 선형회귀 모델 구축\n",
    "- statsmodels 의 OLS를 사용하여 선형회귀분석 시행 ( OLS : Ordinary Least Squares )\n",
    "- OLS: 가장 기본적인 결정론적 선형 회귀 방법으로 잔차제곱합(RSS: Residual Sum of Squares)를 최소화하는 가중치(β1, β2, ...)를 구하는 방법\n",
    "- 모델 선언: model = sm.OLS( y데이터, x데이터 )\n",
    "- 모델 학습: model_trained = model.fit()"
   ]
  },
  {
   "cell_type": "raw",
   "id": "49c96bcf-7d08-4e80-8aae-39d706a266e3",
   "metadata": {},
   "source": []
  },
  {
   "cell_type": "markdown",
   "id": "887ea04f-fee0-4a29-a1e5-6c0fe8f894e3",
   "metadata": {},
   "source": [
    "##### 3.1. 선형회귀 모델의 가정 확인"
   ]
  },
  {
   "cell_type": "code",
   "execution_count": 48,
   "id": "0e11d401-9415-4000-9c6c-28d1a4a05383",
   "metadata": {},
   "outputs": [],
   "source": [
    "x_train = sm.add_constant(x_train)\n",
    "model = sm.OLS( y_train, x_train, axis = 1 )\n",
    "model_trained = model.fit()"
   ]
  },
  {
   "cell_type": "raw",
   "id": "dd479174-90a2-4001-96f9-99f539d2df20",
   "metadata": {},
   "source": []
  },
  {
   "cell_type": "markdown",
   "id": "d697c53b-a8b3-4c39-80cf-1dd8107ebf08",
   "metadata": {},
   "source": [
    "##### 3.1.1. 확률오차의 정규성 확인"
   ]
  },
  {
   "cell_type": "code",
   "execution_count": 40,
   "id": "59c88b3b-37fc-4e1a-821b-c67255bf1c93",
   "metadata": {},
   "outputs": [
    {
     "data": {
      "image/png": "[encoded data removed]",
      "text/plain": [
       "<Figure size 864x576 with 1 Axes>"
      ]
     },
     "metadata": {
      "needs_background": "light"
     },
     "output_type": "display_data"
    }
   ],
   "source": [
    "model_residuals = model_trained.resid\n",
    "\n",
    "plt.rcParams[ 'axes.unicode_minus' ] = False   # 음수 폰트 깨짐을 방지\n",
    "fig, ax = plt.subplots(1, 1)\n",
    "fig.set_figheight(8)\n",
    "fig.set_figwidth(12)\n",
    "\n",
    "sm.ProbPlot(model_residuals).qqplot(line = 's', color = 'blue', ax = ax)\n",
    "ax.title.set_text('Q-Q plot')"
   ]
  },
  {
   "cell_type": "raw",
   "id": "5ff9427d-280a-46f1-addb-dd46713799ad",
   "metadata": {},
   "source": []
  },
  {
   "cell_type": "markdown",
   "id": "6df562de-61e7-4fa6-9f8d-4e6c21a4ed3f",
   "metadata": {},
   "source": [
    "#####  3.1.2. 확률오차의 등분산성 확인"
   ]
  },
  {
   "cell_type": "code",
   "execution_count": 43,
   "id": "6a4a54dd-7c87-4f2e-a7c8-e12466f648c7",
   "metadata": {},
   "outputs": [
    {
     "data": {
      "text/plain": [
       "[Text(0.5, 0, 'Fitted values'), Text(0, 0.5, 'Residuals')]"
      ]
     },
     "execution_count": 43,
     "metadata": {},
     "output_type": "execute_result"
    },
    {
     "data": {
      "image/png": "[encoded data removed]",
      "text/plain": [
       "<Figure size 864x576 with 1 Axes>"
      ]
     },
     "metadata": {
      "needs_background": "light"
     },
     "output_type": "display_data"
    }
   ],
   "source": [
    "model_fitted_y = model_trained.fittedvalues\n",
    "\n",
    "fig, ax = plt.subplots(1, 1)\n",
    "fig.set_figheight(8)\n",
    "fig.set_figwidth(12)\n",
    "\n",
    "sb.residplot( model_fitted_y, y_train,\n",
    "              data = x_train,\n",
    "              lowess = True,\n",
    "              scatter_kws = {'alpha':0.5},\n",
    "              line_kws = {'color':'red'},\n",
    "              ax = ax )\n",
    "\n",
    "ax.title.set_text('Redisuals vs Fitted')\n",
    "ax.set(xlabel = 'Fitted values', ylabel = 'Residuals')"
   ]
  },
  {
   "cell_type": "raw",
   "id": "5e913855-93a4-4582-99c5-10ec7080b036",
   "metadata": {},
   "source": []
  },
  {
   "cell_type": "markdown",
   "id": "12838158-970b-479f-8340-7279c48e08c4",
   "metadata": {},
   "source": [
    "##### 3.2. 설명 : 통계적으로 해석\n",
    "- 모형의 성능 : R-squared (결정계수; coefficient of determination) \n",
    "- coef(회귀계수): x가 한 단위 증가할 때 y의 변화량\n",
    "- P>[t] (p-value): 유의수준 0.05 이하일 때 변수가 유의미"
   ]
  },
  {
   "cell_type": "code",
   "execution_count": 46,
   "id": "1643be0f-d448-4c10-8c91-615776319c08",
   "metadata": {},
   "outputs": [
    {
     "name": "stdout",
     "output_type": "stream",
     "text": [
      "                            OLS Regression Results                            \n",
      "==============================================================================\n",
      "Dep. Variable:                  Price   R-squared:                       0.301\n",
      "Model:                            OLS   Adj. R-squared:                  0.290\n",
      "Method:                 Least Squares   F-statistic:                     27.14\n",
      "Date:                Thu, 15 Jul 2021   Prob (F-statistic):           2.22e-06\n",
      "Time:                        23:12:05   Log-Likelihood:                -223.19\n",
      "No. Observations:                  65   AIC:                             450.4\n",
      "Df Residuals:                      63   BIC:                             454.7\n",
      "Df Model:                           1                                         \n",
      "Covariance Type:            nonrobust                                         \n",
      "==============================================================================\n",
      "                 coef    std err          t      P>|t|      [0.025      0.975]\n",
      "------------------------------------------------------------------------------\n",
      "const          5.1391      2.741      1.875      0.065      -0.339      10.617\n",
      "EngineSize     5.1749      0.993      5.210      0.000       3.190       7.160\n",
      "==============================================================================\n",
      "Omnibus:                       58.409   Durbin-Watson:                   2.287\n",
      "Prob(Omnibus):                  0.000   Jarque-Bera (JB):              375.478\n",
      "Skew:                           2.489   Prob(JB):                     2.92e-82\n",
      "Kurtosis:                      13.670   Cond. No.                         8.95\n",
      "==============================================================================\n",
      "\n",
      "Notes:\n",
      "[1] Standard Errors assume that the covariance matrix of the errors is correctly specified.\n"
     ]
    }
   ],
   "source": [
    "print(model_trained.summary())"
   ]
  },
  {
   "cell_type": "raw",
   "id": "a48d6e3c-7a04-43b6-84e5-0b7c22ebeb1a",
   "metadata": {},
   "source": []
  },
  {
   "cell_type": "markdown",
   "id": "331ed589-fdea-42aa-8017-77aa17468ed2",
   "metadata": {},
   "source": [
    "##### 예측: 미래의 반응변수 값 예측"
   ]
  },
  {
   "cell_type": "code",
   "execution_count": 65,
   "id": "ec273511-f960-46bf-a1eb-78aeaf94662a",
   "metadata": {},
   "outputs": [
    {
     "data": {
      "image/png": "[encoded data removed]",
      "text/plain": [
       "<Figure size 720x720 with 1 Axes>"
      ]
     },
     "metadata": {
      "needs_background": "light"
     },
     "output_type": "display_data"
    }
   ],
   "source": [
    "y_train_pred = model_trained.fittedvalues\n",
    "\n",
    "plt.figure(figsize = (10,10))\n",
    "plt.title('실제값 vs. 모델 예측값', size = 18)\n",
    "plt.scatter(y_train, y_train_pred)\n",
    "plt.plot( [-5,55], [-5,55], ls='--', c='red')\n",
    "plt.xlabel('실제값', size=16)\n",
    "plt.ylabel('모델 예측값', size = 16)\n",
    "plt.xlim(-5,55)\n",
    "plt.ylim(-5,55)\n",
    "\n",
    "plt.show()"
   ]
  },
  {
   "cell_type": "code",
   "execution_count": 87,
   "id": "f9f3a759-b5c3-42eb-b920-f0eb23db31cd",
   "metadata": {},
   "outputs": [
    {
     "data": {
      "text/html": [
       "<div>\n",
       "<style scoped>\n",
       "    .dataframe tbody tr th:only-of-type {\n",
       "        vertical-align: middle;\n",
       "    }\n",
       "\n",
       "    .dataframe tbody tr th {\n",
       "        vertical-align: top;\n",
       "    }\n",
       "\n",
       "    .dataframe thead th {\n",
       "        text-align: right;\n",
       "    }\n",
       "</style>\n",
       "<table border=\"1\" class=\"dataframe\">\n",
       "  <thead>\n",
       "    <tr style=\"text-align: right;\">\n",
       "      <th></th>\n",
       "      <th>const</th>\n",
       "      <th>EngineSize</th>\n",
       "      <th>Price_Pred</th>\n",
       "    </tr>\n",
       "  </thead>\n",
       "  <tbody>\n",
       "    <tr>\n",
       "      <th>3</th>\n",
       "      <td>1.0</td>\n",
       "      <td>2.8</td>\n",
       "      <td>19.628910</td>\n",
       "    </tr>\n",
       "    <tr>\n",
       "      <th>34</th>\n",
       "      <td>1.0</td>\n",
       "      <td>2.3</td>\n",
       "      <td>17.041441</td>\n",
       "    </tr>\n",
       "    <tr>\n",
       "      <th>28</th>\n",
       "      <td>1.0</td>\n",
       "      <td>3.0</td>\n",
       "      <td>20.663898</td>\n",
       "    </tr>\n",
       "    <tr>\n",
       "      <th>18</th>\n",
       "      <td>1.0</td>\n",
       "      <td>5.0</td>\n",
       "      <td>31.013774</td>\n",
       "    </tr>\n",
       "    <tr>\n",
       "      <th>53</th>\n",
       "      <td>1.0</td>\n",
       "      <td>1.6</td>\n",
       "      <td>13.418985</td>\n",
       "    </tr>\n",
       "  </tbody>\n",
       "</table>\n",
       "</div>"
      ],
      "text/plain": [
       "    const  EngineSize  Price_Pred\n",
       "3     1.0         2.8   19.628910\n",
       "34    1.0         2.3   17.041441\n",
       "28    1.0         3.0   20.663898\n",
       "18    1.0         5.0   31.013774\n",
       "53    1.0         1.6   13.418985"
      ]
     },
     "execution_count": 87,
     "metadata": {},
     "output_type": "execute_result"
    }
   ],
   "source": [
    "x_train, x_test, y_train, y_test = train_test_split( x, y,\n",
    "                                                     test_size = 5 )\n",
    "\n",
    "x_test = sm.add_constant(x_test)\n",
    "y_test_pred = model_trained.predict(x_test)\n",
    "\n",
    "x_test['Price_Pred'] = y_test_pred\n",
    "\n",
    "x_test"
   ]
  },
  {
   "cell_type": "code",
   "execution_count": null,
   "id": "c238d4ec-0b84-40ae-97fa-df70626fefc5",
   "metadata": {},
   "outputs": [],
   "source": []
  },
  {
   "cell_type": "code",
   "execution_count": null,
   "id": "3c569f74-0b72-4c32-9cc0-7f4c72c3900d",
   "metadata": {},
   "outputs": [],
   "source": []
  },
  {
   "cell_type": "code",
   "execution_count": null,
   "id": "68c8dfa2-7a50-4a31-bb18-cc9ce2bac6f8",
   "metadata": {},
   "outputs": [],
   "source": []
  },
  {
   "cell_type": "code",
   "execution_count": null,
   "id": "0c8589ed-1b90-46f4-9bdf-ae577f686b25",
   "metadata": {},
   "outputs": [],
   "source": []
  },
  {
   "cell_type": "code",
   "execution_count": null,
   "id": "61d0e37a-074e-4af3-8f71-4b02bfd121cd",
   "metadata": {},
   "outputs": [],
   "source": []
  },
  {
   "cell_type": "code",
   "execution_count": null,
   "id": "6d7484b1-06a4-46eb-99e4-94d4e65dea36",
   "metadata": {},
   "outputs": [],
   "source": []
  },
  {
   "cell_type": "code",
   "execution_count": null,
   "id": "cce0c9f2-3680-48f1-b7e7-0e4a3cea71c3",
   "metadata": {},
   "outputs": [],
   "source": []
  },
  {
   "cell_type": "code",
   "execution_count": null,
   "id": "aeb745b8-ea0d-4eaf-a33d-f9c77aed3f0f",
   "metadata": {},
   "outputs": [],
   "source": []
  },
  {
   "cell_type": "code",
   "execution_count": null,
   "id": "da987cad-c7d6-42ba-bd1f-c77be09002a6",
   "metadata": {},
   "outputs": [],
   "source": []
  },
  {
   "cell_type": "code",
   "execution_count": null,
   "id": "b95544e0-0036-4e79-8a5c-f4b252572b14",
   "metadata": {},
   "outputs": [],
   "source": []
  },
  {
   "cell_type": "code",
   "execution_count": null,
   "id": "5541e2a7-493b-4b1b-a34e-cc14387e4445",
   "metadata": {},
   "outputs": [],
   "source": []
  },
  {
   "cell_type": "code",
   "execution_count": null,
   "id": "8e7bd0b2-b126-4ac6-a40a-0095fc021d3d",
   "metadata": {},
   "outputs": [],
   "source": []
  },
  {
   "cell_type": "code",
   "execution_count": null,
   "id": "ad0d6af9-a52e-424c-8c5d-a4fdafb29bce",
   "metadata": {},
   "outputs": [],
   "source": []
  },
  {
   "cell_type": "code",
   "execution_count": null,
   "id": "5029bf5b-f953-49f8-8169-3e59d089307a",
   "metadata": {},
   "outputs": [],
   "source": []
  },
  {
   "cell_type": "code",
   "execution_count": null,
   "id": "55893ba6-d7e8-41da-85fa-02e1da14cfc5",
   "metadata": {},
   "outputs": [],
   "source": []
  },
  {
   "cell_type": "markdown",
   "id": "423531a7-9822-4923-b97f-3358373299ac",
   "metadata": {},
   "source": [
    "##### 결측치 확인"
   ]
  },
  {
   "cell_type": "code",
   "execution_count": 3,
   "id": "8a9381be-b3e2-4ab0-9110-2b4e8151719e",
   "metadata": {},
   "outputs": [
    {
     "data": {
      "text/plain": [
       "Manufacturer           0\n",
       "Model                  0\n",
       "Type                   0\n",
       "Min.Price              0\n",
       "Price                  0\n",
       "Max.Price              0\n",
       "MPG.city               0\n",
       "MPG.highway            0\n",
       "AirBags                0\n",
       "DriveTrain             0\n",
       "Cylinders              0\n",
       "EngineSize             0\n",
       "Horsepower             0\n",
       "RPM                    0\n",
       "Rev.per.mile           0\n",
       "Man.trans.avail        0\n",
       "Fuel.tank.capacity     0\n",
       "Passengers             0\n",
       "Length                 0\n",
       "Wheelbase              0\n",
       "Width                  0\n",
       "Turn.circle            0\n",
       "Rear.seat.room         2\n",
       "Luggage.room          11\n",
       "Weight                 0\n",
       "Origin                 0\n",
       "Make                   0\n",
       "dtype: int64"
      ]
     },
     "execution_count": 3,
     "metadata": {},
     "output_type": "execute_result"
    }
   ],
   "source": [
    "df_cars93.isnull().sum()"
   ]
  },
  {
   "cell_type": "markdown",
   "id": "cd052262-f4c5-48a5-b9f8-28ea605701c8",
   "metadata": {},
   "source": [
    "##### 탐색적 데이터 분석 (EDA; Exploratory Data Analysis)"
   ]
  },
  {
   "cell_type": "code",
   "execution_count": 4,
   "id": "f0338019-2214-441e-8c8d-7ce1ebb6b9b8",
   "metadata": {},
   "outputs": [
    {
     "name": "stdout",
     "output_type": "stream",
     "text": [
      "<class 'pandas.core.frame.DataFrame'>\n",
      "Int64Index: 93 entries, 1 to 93\n",
      "Data columns (total 27 columns):\n",
      " #   Column              Non-Null Count  Dtype  \n",
      "---  ------              --------------  -----  \n",
      " 0   Manufacturer        93 non-null     object \n",
      " 1   Model               93 non-null     object \n",
      " 2   Type                93 non-null     object \n",
      " 3   Min.Price           93 non-null     float64\n",
      " 4   Price               93 non-null     float64\n",
      " 5   Max.Price           93 non-null     float64\n",
      " 6   MPG.city            93 non-null     int64  \n",
      " 7   MPG.highway         93 non-null     int64  \n",
      " 8   AirBags             93 non-null     object \n",
      " 9   DriveTrain          93 non-null     object \n",
      " 10  Cylinders           93 non-null     object \n",
      " 11  EngineSize          93 non-null     float64\n",
      " 12  Horsepower          93 non-null     int64  \n",
      " 13  RPM                 93 non-null     int64  \n",
      " 14  Rev.per.mile        93 non-null     int64  \n",
      " 15  Man.trans.avail     93 non-null     object \n",
      " 16  Fuel.tank.capacity  93 non-null     float64\n",
      " 17  Passengers          93 non-null     int64  \n",
      " 18  Length              93 non-null     int64  \n",
      " 19  Wheelbase           93 non-null     int64  \n",
      " 20  Width               93 non-null     int64  \n",
      " 21  Turn.circle         93 non-null     int64  \n",
      " 22  Rear.seat.room      91 non-null     float64\n",
      " 23  Luggage.room        82 non-null     float64\n",
      " 24  Weight              93 non-null     int64  \n",
      " 25  Origin              93 non-null     object \n",
      " 26  Make                93 non-null     object \n",
      "dtypes: float64(7), int64(11), object(9)\n",
      "memory usage: 20.3+ KB\n"
     ]
    }
   ],
   "source": [
    "df_cars93.info()"
   ]
  },
  {
   "cell_type": "markdown",
   "id": "3fb3b552-966a-4daf-b130-000bdc00b54e",
   "metadata": {},
   "source": [
    "##### 기술통계 살펴보기"
   ]
  },
  {
   "cell_type": "code",
   "execution_count": 5,
   "id": "24144877-dc8a-43f5-b1ad-69a5cadb893f",
   "metadata": {},
   "outputs": [
    {
     "data": {
      "text/html": [
       "<div>\n",
       "<style scoped>\n",
       "    .dataframe tbody tr th:only-of-type {\n",
       "        vertical-align: middle;\n",
       "    }\n",
       "\n",
       "    .dataframe tbody tr th {\n",
       "        vertical-align: top;\n",
       "    }\n",
       "\n",
       "    .dataframe thead th {\n",
       "        text-align: right;\n",
       "    }\n",
       "</style>\n",
       "<table border=\"1\" class=\"dataframe\">\n",
       "  <thead>\n",
       "    <tr style=\"text-align: right;\">\n",
       "      <th></th>\n",
       "      <th>count</th>\n",
       "      <th>mean</th>\n",
       "      <th>std</th>\n",
       "      <th>min</th>\n",
       "      <th>25%</th>\n",
       "      <th>50%</th>\n",
       "      <th>75%</th>\n",
       "      <th>max</th>\n",
       "      <th>median</th>\n",
       "      <th>missing</th>\n",
       "      <th>skewness</th>\n",
       "      <th>kurtosis</th>\n",
       "    </tr>\n",
       "  </thead>\n",
       "  <tbody>\n",
       "    <tr>\n",
       "      <th>Min.Price</th>\n",
       "      <td>93.0</td>\n",
       "      <td>17.125806</td>\n",
       "      <td>8.746029</td>\n",
       "      <td>6.7</td>\n",
       "      <td>10.8</td>\n",
       "      <td>14.7</td>\n",
       "      <td>20.3</td>\n",
       "      <td>45.4</td>\n",
       "      <td>14.7</td>\n",
       "      <td>0</td>\n",
       "      <td>1.182989</td>\n",
       "      <td>1.019419</td>\n",
       "    </tr>\n",
       "    <tr>\n",
       "      <th>Price</th>\n",
       "      <td>93.0</td>\n",
       "      <td>19.509677</td>\n",
       "      <td>9.659430</td>\n",
       "      <td>7.4</td>\n",
       "      <td>12.2</td>\n",
       "      <td>17.7</td>\n",
       "      <td>23.3</td>\n",
       "      <td>61.9</td>\n",
       "      <td>17.7</td>\n",
       "      <td>0</td>\n",
       "      <td>1.533082</td>\n",
       "      <td>3.429123</td>\n",
       "    </tr>\n",
       "    <tr>\n",
       "      <th>Max.Price</th>\n",
       "      <td>93.0</td>\n",
       "      <td>21.898925</td>\n",
       "      <td>11.030457</td>\n",
       "      <td>7.9</td>\n",
       "      <td>14.7</td>\n",
       "      <td>19.6</td>\n",
       "      <td>25.3</td>\n",
       "      <td>80.0</td>\n",
       "      <td>19.6</td>\n",
       "      <td>0</td>\n",
       "      <td>2.033859</td>\n",
       "      <td>7.439426</td>\n",
       "    </tr>\n",
       "    <tr>\n",
       "      <th>MPG.city</th>\n",
       "      <td>93.0</td>\n",
       "      <td>22.365591</td>\n",
       "      <td>5.619812</td>\n",
       "      <td>15.0</td>\n",
       "      <td>18.0</td>\n",
       "      <td>21.0</td>\n",
       "      <td>25.0</td>\n",
       "      <td>46.0</td>\n",
       "      <td>21.0</td>\n",
       "      <td>0</td>\n",
       "      <td>1.704430</td>\n",
       "      <td>4.004306</td>\n",
       "    </tr>\n",
       "    <tr>\n",
       "      <th>MPG.highway</th>\n",
       "      <td>93.0</td>\n",
       "      <td>29.086022</td>\n",
       "      <td>5.331726</td>\n",
       "      <td>20.0</td>\n",
       "      <td>26.0</td>\n",
       "      <td>28.0</td>\n",
       "      <td>31.0</td>\n",
       "      <td>50.0</td>\n",
       "      <td>28.0</td>\n",
       "      <td>0</td>\n",
       "      <td>1.229897</td>\n",
       "      <td>2.614201</td>\n",
       "    </tr>\n",
       "    <tr>\n",
       "      <th>EngineSize</th>\n",
       "      <td>93.0</td>\n",
       "      <td>2.667742</td>\n",
       "      <td>1.037363</td>\n",
       "      <td>1.0</td>\n",
       "      <td>1.8</td>\n",
       "      <td>2.4</td>\n",
       "      <td>3.3</td>\n",
       "      <td>5.7</td>\n",
       "      <td>2.4</td>\n",
       "      <td>0</td>\n",
       "      <td>0.859418</td>\n",
       "      <td>0.381025</td>\n",
       "    </tr>\n",
       "    <tr>\n",
       "      <th>Horsepower</th>\n",
       "      <td>93.0</td>\n",
       "      <td>143.827957</td>\n",
       "      <td>52.374410</td>\n",
       "      <td>55.0</td>\n",
       "      <td>103.0</td>\n",
       "      <td>140.0</td>\n",
       "      <td>170.0</td>\n",
       "      <td>300.0</td>\n",
       "      <td>140.0</td>\n",
       "      <td>0</td>\n",
       "      <td>0.951728</td>\n",
       "      <td>1.110883</td>\n",
       "    </tr>\n",
       "    <tr>\n",
       "      <th>RPM</th>\n",
       "      <td>93.0</td>\n",
       "      <td>5280.645161</td>\n",
       "      <td>596.731690</td>\n",
       "      <td>3800.0</td>\n",
       "      <td>4800.0</td>\n",
       "      <td>5200.0</td>\n",
       "      <td>5750.0</td>\n",
       "      <td>6500.0</td>\n",
       "      <td>5200.0</td>\n",
       "      <td>0</td>\n",
       "      <td>-0.258533</td>\n",
       "      <td>-0.409479</td>\n",
       "    </tr>\n",
       "    <tr>\n",
       "      <th>Rev.per.mile</th>\n",
       "      <td>93.0</td>\n",
       "      <td>2332.204301</td>\n",
       "      <td>496.506525</td>\n",
       "      <td>1320.0</td>\n",
       "      <td>1985.0</td>\n",
       "      <td>2340.0</td>\n",
       "      <td>2565.0</td>\n",
       "      <td>3755.0</td>\n",
       "      <td>2340.0</td>\n",
       "      <td>0</td>\n",
       "      <td>0.281546</td>\n",
       "      <td>0.220544</td>\n",
       "    </tr>\n",
       "    <tr>\n",
       "      <th>Fuel.tank.capacity</th>\n",
       "      <td>93.0</td>\n",
       "      <td>16.664516</td>\n",
       "      <td>3.279370</td>\n",
       "      <td>9.2</td>\n",
       "      <td>14.5</td>\n",
       "      <td>16.4</td>\n",
       "      <td>18.8</td>\n",
       "      <td>27.0</td>\n",
       "      <td>16.4</td>\n",
       "      <td>0</td>\n",
       "      <td>0.108146</td>\n",
       "      <td>0.127206</td>\n",
       "    </tr>\n",
       "    <tr>\n",
       "      <th>Passengers</th>\n",
       "      <td>93.0</td>\n",
       "      <td>5.086022</td>\n",
       "      <td>1.038979</td>\n",
       "      <td>2.0</td>\n",
       "      <td>4.0</td>\n",
       "      <td>5.0</td>\n",
       "      <td>6.0</td>\n",
       "      <td>8.0</td>\n",
       "      <td>5.0</td>\n",
       "      <td>0</td>\n",
       "      <td>0.062517</td>\n",
       "      <td>0.936193</td>\n",
       "    </tr>\n",
       "    <tr>\n",
       "      <th>Length</th>\n",
       "      <td>93.0</td>\n",
       "      <td>183.204301</td>\n",
       "      <td>14.602382</td>\n",
       "      <td>141.0</td>\n",
       "      <td>174.0</td>\n",
       "      <td>183.0</td>\n",
       "      <td>192.0</td>\n",
       "      <td>219.0</td>\n",
       "      <td>183.0</td>\n",
       "      <td>0</td>\n",
       "      <td>-0.090095</td>\n",
       "      <td>0.449250</td>\n",
       "    </tr>\n",
       "    <tr>\n",
       "      <th>Wheelbase</th>\n",
       "      <td>93.0</td>\n",
       "      <td>103.946237</td>\n",
       "      <td>6.819674</td>\n",
       "      <td>90.0</td>\n",
       "      <td>98.0</td>\n",
       "      <td>103.0</td>\n",
       "      <td>110.0</td>\n",
       "      <td>119.0</td>\n",
       "      <td>103.0</td>\n",
       "      <td>0</td>\n",
       "      <td>0.113727</td>\n",
       "      <td>-0.797456</td>\n",
       "    </tr>\n",
       "    <tr>\n",
       "      <th>Width</th>\n",
       "      <td>93.0</td>\n",
       "      <td>69.376344</td>\n",
       "      <td>3.778986</td>\n",
       "      <td>60.0</td>\n",
       "      <td>67.0</td>\n",
       "      <td>69.0</td>\n",
       "      <td>72.0</td>\n",
       "      <td>78.0</td>\n",
       "      <td>69.0</td>\n",
       "      <td>0</td>\n",
       "      <td>0.264027</td>\n",
       "      <td>-0.246428</td>\n",
       "    </tr>\n",
       "    <tr>\n",
       "      <th>Turn.circle</th>\n",
       "      <td>93.0</td>\n",
       "      <td>38.956989</td>\n",
       "      <td>3.223265</td>\n",
       "      <td>32.0</td>\n",
       "      <td>37.0</td>\n",
       "      <td>39.0</td>\n",
       "      <td>41.0</td>\n",
       "      <td>45.0</td>\n",
       "      <td>39.0</td>\n",
       "      <td>0</td>\n",
       "      <td>-0.133569</td>\n",
       "      <td>-0.732204</td>\n",
       "    </tr>\n",
       "    <tr>\n",
       "      <th>Rear.seat.room</th>\n",
       "      <td>91.0</td>\n",
       "      <td>27.829670</td>\n",
       "      <td>2.989072</td>\n",
       "      <td>19.0</td>\n",
       "      <td>26.0</td>\n",
       "      <td>27.5</td>\n",
       "      <td>30.0</td>\n",
       "      <td>36.0</td>\n",
       "      <td>27.5</td>\n",
       "      <td>2</td>\n",
       "      <td>0.078260</td>\n",
       "      <td>0.894682</td>\n",
       "    </tr>\n",
       "    <tr>\n",
       "      <th>Luggage.room</th>\n",
       "      <td>82.0</td>\n",
       "      <td>13.890244</td>\n",
       "      <td>2.997967</td>\n",
       "      <td>6.0</td>\n",
       "      <td>12.0</td>\n",
       "      <td>14.0</td>\n",
       "      <td>15.0</td>\n",
       "      <td>22.0</td>\n",
       "      <td>14.0</td>\n",
       "      <td>11</td>\n",
       "      <td>0.229566</td>\n",
       "      <td>0.549688</td>\n",
       "    </tr>\n",
       "    <tr>\n",
       "      <th>Weight</th>\n",
       "      <td>93.0</td>\n",
       "      <td>3072.903226</td>\n",
       "      <td>589.896510</td>\n",
       "      <td>1695.0</td>\n",
       "      <td>2620.0</td>\n",
       "      <td>3040.0</td>\n",
       "      <td>3525.0</td>\n",
       "      <td>4105.0</td>\n",
       "      <td>3040.0</td>\n",
       "      <td>0</td>\n",
       "      <td>-0.143669</td>\n",
       "      <td>-0.855116</td>\n",
       "    </tr>\n",
       "  </tbody>\n",
       "</table>\n",
       "</div>"
      ],
      "text/plain": [
       "                    count         mean         std     min     25%     50%  \\\n",
       "Min.Price            93.0    17.125806    8.746029     6.7    10.8    14.7   \n",
       "Price                93.0    19.509677    9.659430     7.4    12.2    17.7   \n",
       "Max.Price            93.0    21.898925   11.030457     7.9    14.7    19.6   \n",
       "MPG.city             93.0    22.365591    5.619812    15.0    18.0    21.0   \n",
       "MPG.highway          93.0    29.086022    5.331726    20.0    26.0    28.0   \n",
       "EngineSize           93.0     2.667742    1.037363     1.0     1.8     2.4   \n",
       "Horsepower           93.0   143.827957   52.374410    55.0   103.0   140.0   \n",
       "RPM                  93.0  5280.645161  596.731690  3800.0  4800.0  5200.0   \n",
       "Rev.per.mile         93.0  2332.204301  496.506525  1320.0  1985.0  2340.0   \n",
       "Fuel.tank.capacity   93.0    16.664516    3.279370     9.2    14.5    16.4   \n",
       "Passengers           93.0     5.086022    1.038979     2.0     4.0     5.0   \n",
       "Length               93.0   183.204301   14.602382   141.0   174.0   183.0   \n",
       "Wheelbase            93.0   103.946237    6.819674    90.0    98.0   103.0   \n",
       "Width                93.0    69.376344    3.778986    60.0    67.0    69.0   \n",
       "Turn.circle          93.0    38.956989    3.223265    32.0    37.0    39.0   \n",
       "Rear.seat.room       91.0    27.829670    2.989072    19.0    26.0    27.5   \n",
       "Luggage.room         82.0    13.890244    2.997967     6.0    12.0    14.0   \n",
       "Weight               93.0  3072.903226  589.896510  1695.0  2620.0  3040.0   \n",
       "\n",
       "                       75%     max  median  missing  skewness  kurtosis  \n",
       "Min.Price             20.3    45.4    14.7        0  1.182989  1.019419  \n",
       "Price                 23.3    61.9    17.7        0  1.533082  3.429123  \n",
       "Max.Price             25.3    80.0    19.6        0  2.033859  7.439426  \n",
       "MPG.city              25.0    46.0    21.0        0  1.704430  4.004306  \n",
       "MPG.highway           31.0    50.0    28.0        0  1.229897  2.614201  \n",
       "EngineSize             3.3     5.7     2.4        0  0.859418  0.381025  \n",
       "Horsepower           170.0   300.0   140.0        0  0.951728  1.110883  \n",
       "RPM                 5750.0  6500.0  5200.0        0 -0.258533 -0.409479  \n",
       "Rev.per.mile        2565.0  3755.0  2340.0        0  0.281546  0.220544  \n",
       "Fuel.tank.capacity    18.8    27.0    16.4        0  0.108146  0.127206  \n",
       "Passengers             6.0     8.0     5.0        0  0.062517  0.936193  \n",
       "Length               192.0   219.0   183.0        0 -0.090095  0.449250  \n",
       "Wheelbase            110.0   119.0   103.0        0  0.113727 -0.797456  \n",
       "Width                 72.0    78.0    69.0        0  0.264027 -0.246428  \n",
       "Turn.circle           41.0    45.0    39.0        0 -0.133569 -0.732204  \n",
       "Rear.seat.room        30.0    36.0    27.5        2  0.078260  0.894682  \n",
       "Luggage.room          15.0    22.0    14.0       11  0.229566  0.549688  \n",
       "Weight              3525.0  4105.0  3040.0        0 -0.143669 -0.855116  "
      ]
     },
     "execution_count": 5,
     "metadata": {},
     "output_type": "execute_result"
    }
   ],
   "source": [
    "# 중간값, 결측치, 왜도, 첨도 표시\n",
    "\n",
    "df_stats = df_cars93.describe().T\n",
    "df_stats\n",
    "\n",
    "skew_results = []\n",
    "kurtosis_results = []\n",
    "null_results = []\n",
    "median_results = []\n",
    "\n",
    "# enumerate() 함수를 사용하여 인덱스와 데이터값을 쌍으로 사용하여 반복문 실행\n",
    "for idx, val in enumerate( df_stats.index ):\n",
    "    median_results.append( df_cars93[val].median() )\n",
    "    skew_results.append( df_cars93[val].skew() )\n",
    "    kurtosis_results.append( df_cars93[val].kurtosis() )\n",
    "    null_results.append( df_cars93[val].isnull().sum() )  \n",
    "\n",
    "df_stats['median'] = median_results\n",
    "df_stats['missing'] = null_results\n",
    "df_stats['skewness'] = skew_results\n",
    "df_stats['kurtosis'] = kurtosis_results\n",
    "df_stats"
   ]
  },
  {
   "cell_type": "markdown",
   "id": "41312e71-25fd-4cf7-9a17-8173ec079fe5",
   "metadata": {},
   "source": [
    "##### 종속변수(price)의 데이터 분포도 확인"
   ]
  },
  {
   "cell_type": "code",
   "execution_count": 6,
   "id": "9c9da646-6bc6-4dbf-8ff1-130f5200ac8b",
   "metadata": {},
   "outputs": [
    {
     "data": {
      "text/plain": [
       "<AxesSubplot:>"
      ]
     },
     "execution_count": 6,
     "metadata": {},
     "output_type": "execute_result"
    },
    {
     "data": {
      "image/png": "[encoded data removed]",
      "text/plain": [
       "<Figure size 432x288 with 1 Axes>"
      ]
     },
     "metadata": {
      "needs_background": "light"
     },
     "output_type": "display_data"
    }
   ],
   "source": [
    "df_cars93['Price'].hist()"
   ]
  },
  {
   "cell_type": "code",
   "execution_count": 7,
   "id": "9d0be032-767a-4b1f-b4ea-680632779dec",
   "metadata": {},
   "outputs": [
    {
     "data": {
      "text/plain": [
       "<AxesSubplot:>"
      ]
     },
     "execution_count": 7,
     "metadata": {},
     "output_type": "execute_result"
    },
    {
     "data": {
      "image/png": "[encoded data removed]",
      "text/plain": [
       "<Figure size 432x288 with 1 Axes>"
      ]
     },
     "metadata": {
      "needs_background": "light"
     },
     "output_type": "display_data"
    }
   ],
   "source": [
    "# 자연로그를 취해서 종속변수(Price)의 분포가 정규분포 형태를 띄는지 확인 --> 선형 회귀분석 시 자연로그 적용\n",
    "np.log(df_cars93['Price']).hist()"
   ]
  },
  {
   "cell_type": "code",
   "execution_count": 8,
   "id": "85293a3c-fec2-4495-a3c9-d499ca7ef20c",
   "metadata": {},
   "outputs": [
    {
     "data": {
      "text/plain": [
       "0.2613736711371087"
      ]
     },
     "execution_count": 8,
     "metadata": {},
     "output_type": "execute_result"
    }
   ],
   "source": [
    "np.log(df_cars93['Price']).skew()"
   ]
  },
  {
   "cell_type": "markdown",
   "id": "8870b7b8-ee66-4698-8ce8-7375ba168d35",
   "metadata": {},
   "source": [
    "##### 데이터 타입 분류 - 데이터 전처리 필요 여부 확인"
   ]
  },
  {
   "cell_type": "code",
   "execution_count": 9,
   "id": "a3ac7909-4779-4c63-b5a4-daa6c8eab395",
   "metadata": {},
   "outputs": [],
   "source": [
    "def separate_dtype(df):\n",
    "    df_obj = df_cars93.select_dtypes(include=['object'])\n",
    "    df_numr = df_cars93.select_dtypes(include=['int64', 'float64'])\n",
    "    return [df_obj, df_numr]\n",
    "\n",
    "(df_obj, df_numr) = separate_dtype(df_cars93)"
   ]
  },
  {
   "cell_type": "code",
   "execution_count": null,
   "id": "76bbba2c-aab4-45a6-bafa-93dca645f28e",
   "metadata": {
    "tags": []
   },
   "outputs": [],
   "source": [
    "df_numr.head()"
   ]
  },
  {
   "cell_type": "code",
   "execution_count": null,
   "id": "5cc251ff-6361-4661-a964-dc41956c6e30",
   "metadata": {},
   "outputs": [],
   "source": [
    "df_obj.head()"
   ]
  },
  {
   "cell_type": "markdown",
   "id": "c0218436-f8a5-43ec-8802-edb55762ff43",
   "metadata": {},
   "source": [
    "#### 시각화"
   ]
  },
  {
   "cell_type": "markdown",
   "id": "ec8eb62e-1805-4d0f-bc9b-aceac2c55036",
   "metadata": {},
   "source": [
    "##### 히스토그램(Histogram)\n",
    "- 각각의 독립변수 데이터의 분포를 확인"
   ]
  },
  {
   "cell_type": "code",
   "execution_count": null,
   "id": "d20e3078-e89f-4bd3-8376-0f90a3fc29d3",
   "metadata": {},
   "outputs": [],
   "source": [
    "df_cars93.hist(figsize=(22,18), density=True)\n",
    "plt.show()"
   ]
  },
  {
   "cell_type": "markdown",
   "id": "6a8b6358-1641-4878-8b7b-6a61700c0d79",
   "metadata": {},
   "source": [
    "##### 산점도(Scatter plot)\n",
    "- 종속변수(price)와 선형관계가 있을 것 같은 독립변수들을 몇개 추려서 산점도 그래프를 출력"
   ]
  },
  {
   "cell_type": "code",
   "execution_count": null,
   "id": "eca93e52-1068-49a6-8746-e2482ec8195f",
   "metadata": {},
   "outputs": [],
   "source": [
    "df_pairplot = df_cars93[['Price', 'EngineSize', 'Horsepower', 'Rev.per.mile', 'Passengers', 'Length', 'Wheelbase', 'Width', 'Rear.seat.room', 'Luggage.room', 'Weight']]\n",
    "\n",
    "sb.pairplot(df_pairplot)\n",
    "plt.show()"
   ]
  },
  {
   "cell_type": "code",
   "execution_count": null,
   "id": "a1567868-3b41-4e71-8e21-73b920ca0f4a",
   "metadata": {},
   "outputs": [],
   "source": [
    "df_pairplot = df_cars93[['Price', 'EngineSize']]\n",
    "\n",
    "sb.pairplot(df_pairplot)\n",
    "plt.show()"
   ]
  },
  {
   "cell_type": "markdown",
   "id": "4951d0d8-b4d6-4814-8e63-10ec1055b02f",
   "metadata": {},
   "source": [
    "##### 히트맵(Heatmap) - 상관관계 분석"
   ]
  },
  {
   "cell_type": "code",
   "execution_count": null,
   "id": "935e3d0c-1274-427c-87a8-fc34f6eb35ec",
   "metadata": {},
   "outputs": [],
   "source": [
    "# 반대쪽 삼각형은 안보이게 설정\n",
    "# fmt = 실제 값 표시 .2f 소수점 2째 자리\n",
    "\n",
    "df_corr = df_cars93.corr()\n",
    "cmap = sb.diverging_palette(240, 10, n=9, as_cmap=True)\n",
    "\n",
    "mask = np.zeros_like(df_corr, dtype=np.bool)\n",
    "mask[np.triu_indices_from(mask)] = True\n",
    "\n",
    "plt.figure(figsize=(16,12))\n",
    "\n",
    "sb.heatmap(df_cars93.corr(), annot=True, mask=mask, cmap=cmap, linewidths=.5, fmt = '.2f', annot_kws={\"size\":10})"
   ]
  },
  {
   "cell_type": "code",
   "execution_count": null,
   "id": "0998764b-f815-4e96-8eb0-cf71466aaa49",
   "metadata": {},
   "outputs": [],
   "source": [
    "# price와 상관관계가 높은 독립변수 선택\n",
    "\n",
    "df_corr.sort_values(by='Price', ascending=False)[['Price']]"
   ]
  },
  {
   "cell_type": "code",
   "execution_count": null,
   "id": "7171e44a-2653-4d5c-9710-58782941c457",
   "metadata": {},
   "outputs": [],
   "source": [
    "plt.figure(figsize=(12,6))\n",
    "ax1 = sb.distplot(df_cars93['Horsepower'], hist=True, norm_hist=False, kde=False, label=\"Horsepower\", color = 'blue')"
   ]
  },
  {
   "cell_type": "code",
   "execution_count": null,
   "id": "04e82667-8231-449b-a798-8afa6c54123f",
   "metadata": {},
   "outputs": [],
   "source": [
    "plt.figure(figsize=(12,6))\n",
    "ax2 = sb.distplot(df_cars93['Weight'], hist=True, norm_hist=False, kde=False, label=\"Weight\", color = 'green')"
   ]
  },
  {
   "cell_type": "code",
   "execution_count": null,
   "id": "ea7b09bd-629a-4469-951e-ec19cf1f670e",
   "metadata": {},
   "outputs": [],
   "source": [
    "plt.figure(figsize=(12,6))\n",
    "ax3 = sb.distplot(df_cars93['EngineSize'], hist=True, norm_hist=False, kde=False, label=\"EngineSize\", color = 'red')"
   ]
  },
  {
   "cell_type": "code",
   "execution_count": null,
   "id": "2ea65efb-dd2c-4d68-9bac-d13d484fa2c8",
   "metadata": {},
   "outputs": [],
   "source": []
  },
  {
   "cell_type": "markdown",
   "id": "cff89d96-0099-4a3c-b0d9-ad2ed9c26b36",
   "metadata": {},
   "source": [
    "#### Regression 실시\n",
    "- 독립변수(X): EngineSize\n",
    "- 종속변수(y): Price"
   ]
  },
  {
   "cell_type": "markdown",
   "id": "50c4d686-eb3f-43a8-99c5-f70238860e16",
   "metadata": {},
   "source": [
    "##### 시각화"
   ]
  },
  {
   "cell_type": "code",
   "execution_count": null,
   "id": "9a2a2664-1567-4567-9415-f1a4446535cd",
   "metadata": {},
   "outputs": [],
   "source": [
    "sb.jointplot(x='EngineSize', y='Price', data=df_cars93, kind='reg')\n",
    "plt.show()"
   ]
  },
  {
   "cell_type": "markdown",
   "id": "4f35a0d0-1cdc-42fc-8243-dad03e940e2d",
   "metadata": {
    "toc-hr-collapsed": true
   },
   "source": [
    "##### OLS model fit"
   ]
  },
  {
   "cell_type": "code",
   "execution_count": null,
   "id": "3912a644-c16f-4feb-8015-5edc612d5aa0",
   "metadata": {},
   "outputs": [],
   "source": [
    "X = df_cars93[['EngineSize']]\n",
    "y = df_cars93[['Price']]\n",
    "\n",
    "# 상수항 추가하기 \n",
    "X = sm.add_constant(X, has_constant=\"add\")\n",
    "X.head()"
   ]
  },
  {
   "cell_type": "code",
   "execution_count": null,
   "id": "50e93d48-2a3c-4c1d-9853-6715518dff73",
   "metadata": {
    "tags": []
   },
   "outputs": [],
   "source": [
    "# 모델 fit\n",
    "model = sm.OLS(y, X)\n",
    "\n",
    "result_model = model.fit()\n",
    "result_model.summary()"
   ]
  },
  {
   "cell_type": "code",
   "execution_count": null,
   "id": "57854a62-c77a-4186-b11a-6c77336dc4e1",
   "metadata": {},
   "outputs": [],
   "source": [
    "model"
   ]
  },
  {
   "cell_type": "markdown",
   "id": "49751b19-ec76-4840-b538-9df373944999",
   "metadata": {
    "tags": []
   },
   "source": [
    "##### 잔차 확인\n",
    "- 잔차(residual): 실제 타겟값과 모델을 통해 추정한 값의 차이"
   ]
  },
  {
   "cell_type": "code",
   "execution_count": null,
   "id": "85e666ff-a102-42dc-9700-749321760330",
   "metadata": {},
   "outputs": [],
   "source": [
    "# 잔차 확인\n",
    "result_model.resid.plot()\n",
    "plt.show()"
   ]
  },
  {
   "cell_type": "code",
   "execution_count": null,
   "id": "827de2f5-3714-428f-a391-8c34ca2d771e",
   "metadata": {},
   "outputs": [],
   "source": []
  }
 ],
 "metadata": {
  "kernelspec": {
   "display_name": "Python 3",
   "language": "python",
   "name": "python3"
  },
  "language_info": {
   "codemirror_mode": {
    "name": "ipython",
    "version": 3
   },
   "file_extension": ".py",
   "mimetype": "text/x-python",
   "name": "python",
   "nbconvert_exporter": "python",
   "pygments_lexer": "ipython3",
   "version": "3.8.8"
  }
 },
 "nbformat": 4,
 "nbformat_minor": 5
}
