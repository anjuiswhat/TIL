{
 "cells": [
  {
   "cell_type": "markdown",
   "id": "93a88c79-15c2-4312-a8cb-3af8d6f60a29",
   "metadata": {},
   "source": [
    "# [ PART 03. 통계분석 ] - 4장. 분산분석 (ANOVA)"
   ]
  },
  {
   "cell_type": "markdown",
   "id": "19894a91-6411-48d6-8421-18e573680624",
   "metadata": {},
   "source": [
    "## - 불러올 패키지 목록"
   ]
  },
  {
   "cell_type": "code",
   "execution_count": 1,
   "id": "fb3e165d-d78a-4d4f-be08-6efed91b0a73",
   "metadata": {},
   "outputs": [],
   "source": [
    "# 데이터 핸들링을 위한 패키지\n",
    "import numpy as np\n",
    "import pandas as pd\n",
    "\n",
    "# 통계분석을 위해 사용하는 패키지\n",
    "import scipy.stats\n",
    "from scipy import stats\n",
    "import statsmodels.api as sm\n",
    "from statsmodels.formula.api import ols\n",
    "from statsmodels.stats.multicomp import pairwise_tukeyhsd    # 사후검정 시 사용\n",
    "from statsmodels.sandbox.stats.multicomp import MultiComparison    # MultiComparison을 활용한 사후검정 시 사용\n",
    "from statsmodels.graphics.factorplots import interaction_plot    # 상호작용효과 그래프 출력 시 사용\n",
    "import pingouin as pg    # 분산분석 시 사용, 패키지 설치는 pip install pingouin 실행\n",
    "import scikit_posthocs as sp    # 사후검정 시 사용, 패키지 설치는 pip install scikit-posthocs\n",
    "\n",
    "\n",
    "# 시각화를 위한 패키지\n",
    "from matplotlib import pyplot as plt\n",
    "import seaborn as sns\n",
    "\n",
    "# %matplotlib inline 의 목적은 plt.show()함수가 호출되지 않은 경우에도 matplotlib 다이어그램을 렌더링하는 것이다.\n",
    "# 그러나 현재 업데이트된 버전의 주피터 노트북 버전에서는 %matplotlib inline 를 사용하지 않더라도 Matplotlib 다이어그램을 개체로 표현한다.\n",
    "# 따라서 굳이 필요하지는 않다. 그러나 코드를 깨끗하게 유지하고 자신이 만든 플롯을 호출하기 위해 여전히 관례적으로 권장된다.\n",
    "%matplotlib inline\n",
    "\n",
    "# 경고 메시지 무시\n",
    "import warnings\n",
    "warnings.filterwarnings('ignore')"
   ]
  },
  {
   "cell_type": "markdown",
   "id": "8215d7da-da0d-49f5-8c0f-3065d3f3f6ba",
   "metadata": {},
   "source": [
    "## 1. 일원배치 분산분석"
   ]
  },
  {
   "cell_type": "raw",
   "id": "f20f8397-9724-4255-94f4-e548d6f400fc",
   "metadata": {},
   "source": [
    "[Problem]\n",
    "- iris 데이터를 이용하여 종(Species)별로 꽃받침의 폭(Sepal.Width)의 평균이 같은지 혹은 차이가 있는지를 확인하기 위해 일원배치 분산분석 및 사후분석을 수행하라."
   ]
  },
  {
   "cell_type": "code",
   "execution_count": 2,
   "id": "55f57369-2abc-42ef-92c2-f680f142e143",
   "metadata": {},
   "outputs": [],
   "source": [
    "df_iris = pd.read_csv( 'C:/Users/Administrator/GitHub/TIL/ADP_study/rawdata/iris.csv',\n",
    "                         index_col = 'Unnamed: 0' )"
   ]
  },
  {
   "cell_type": "code",
   "execution_count": 3,
   "id": "13103409-137c-4e03-a605-d3425b8024e2",
   "metadata": {},
   "outputs": [
    {
     "data": {
      "text/html": [
       "<div>\n",
       "<style scoped>\n",
       "    .dataframe tbody tr th:only-of-type {\n",
       "        vertical-align: middle;\n",
       "    }\n",
       "\n",
       "    .dataframe tbody tr th {\n",
       "        vertical-align: top;\n",
       "    }\n",
       "\n",
       "    .dataframe thead th {\n",
       "        text-align: right;\n",
       "    }\n",
       "</style>\n",
       "<table border=\"1\" class=\"dataframe\">\n",
       "  <thead>\n",
       "    <tr style=\"text-align: right;\">\n",
       "      <th></th>\n",
       "      <th>Sepal_Length</th>\n",
       "      <th>Sepal_Width</th>\n",
       "      <th>Petal_Length</th>\n",
       "      <th>Petal_Width</th>\n",
       "      <th>Species</th>\n",
       "    </tr>\n",
       "  </thead>\n",
       "  <tbody>\n",
       "    <tr>\n",
       "      <th>1</th>\n",
       "      <td>5.1</td>\n",
       "      <td>3.5</td>\n",
       "      <td>1.4</td>\n",
       "      <td>0.2</td>\n",
       "      <td>setosa</td>\n",
       "    </tr>\n",
       "    <tr>\n",
       "      <th>2</th>\n",
       "      <td>4.9</td>\n",
       "      <td>3.0</td>\n",
       "      <td>1.4</td>\n",
       "      <td>0.2</td>\n",
       "      <td>setosa</td>\n",
       "    </tr>\n",
       "    <tr>\n",
       "      <th>3</th>\n",
       "      <td>4.7</td>\n",
       "      <td>3.2</td>\n",
       "      <td>1.3</td>\n",
       "      <td>0.2</td>\n",
       "      <td>setosa</td>\n",
       "    </tr>\n",
       "    <tr>\n",
       "      <th>4</th>\n",
       "      <td>4.6</td>\n",
       "      <td>3.1</td>\n",
       "      <td>1.5</td>\n",
       "      <td>0.2</td>\n",
       "      <td>setosa</td>\n",
       "    </tr>\n",
       "    <tr>\n",
       "      <th>5</th>\n",
       "      <td>5.0</td>\n",
       "      <td>3.6</td>\n",
       "      <td>1.4</td>\n",
       "      <td>0.2</td>\n",
       "      <td>setosa</td>\n",
       "    </tr>\n",
       "    <tr>\n",
       "      <th>...</th>\n",
       "      <td>...</td>\n",
       "      <td>...</td>\n",
       "      <td>...</td>\n",
       "      <td>...</td>\n",
       "      <td>...</td>\n",
       "    </tr>\n",
       "    <tr>\n",
       "      <th>146</th>\n",
       "      <td>6.7</td>\n",
       "      <td>3.0</td>\n",
       "      <td>5.2</td>\n",
       "      <td>2.3</td>\n",
       "      <td>virginica</td>\n",
       "    </tr>\n",
       "    <tr>\n",
       "      <th>147</th>\n",
       "      <td>6.3</td>\n",
       "      <td>2.5</td>\n",
       "      <td>5.0</td>\n",
       "      <td>1.9</td>\n",
       "      <td>virginica</td>\n",
       "    </tr>\n",
       "    <tr>\n",
       "      <th>148</th>\n",
       "      <td>6.5</td>\n",
       "      <td>3.0</td>\n",
       "      <td>5.2</td>\n",
       "      <td>2.0</td>\n",
       "      <td>virginica</td>\n",
       "    </tr>\n",
       "    <tr>\n",
       "      <th>149</th>\n",
       "      <td>6.2</td>\n",
       "      <td>3.4</td>\n",
       "      <td>5.4</td>\n",
       "      <td>2.3</td>\n",
       "      <td>virginica</td>\n",
       "    </tr>\n",
       "    <tr>\n",
       "      <th>150</th>\n",
       "      <td>5.9</td>\n",
       "      <td>3.0</td>\n",
       "      <td>5.1</td>\n",
       "      <td>1.8</td>\n",
       "      <td>virginica</td>\n",
       "    </tr>\n",
       "  </tbody>\n",
       "</table>\n",
       "<p>150 rows × 5 columns</p>\n",
       "</div>"
      ],
      "text/plain": [
       "     Sepal_Length  Sepal_Width  Petal_Length  Petal_Width    Species\n",
       "1             5.1          3.5           1.4          0.2     setosa\n",
       "2             4.9          3.0           1.4          0.2     setosa\n",
       "3             4.7          3.2           1.3          0.2     setosa\n",
       "4             4.6          3.1           1.5          0.2     setosa\n",
       "5             5.0          3.6           1.4          0.2     setosa\n",
       "..            ...          ...           ...          ...        ...\n",
       "146           6.7          3.0           5.2          2.3  virginica\n",
       "147           6.3          2.5           5.0          1.9  virginica\n",
       "148           6.5          3.0           5.2          2.0  virginica\n",
       "149           6.2          3.4           5.4          2.3  virginica\n",
       "150           5.9          3.0           5.1          1.8  virginica\n",
       "\n",
       "[150 rows x 5 columns]"
      ]
     },
     "execution_count": 3,
     "metadata": {},
     "output_type": "execute_result"
    }
   ],
   "source": [
    "# 컬럼이름에 섞여있는 '.' 을 '_' 로 변경\n",
    "# statsmodels 패키지를 사용하여 일원분산 분석 실시할 때 오류 발생 방지\n",
    "\n",
    "df_iris.rename( columns = {'Sepal.Length':'Sepal_Length',\n",
    "                           'Sepal.Width':'Sepal_Width',\n",
    "                           'Petal.Length':'Petal_Length',\n",
    "                           'Petal.Width':'Petal_Width'},\n",
    "                inplace = True )\n",
    "\n",
    "df_iris"
   ]
  },
  {
   "cell_type": "markdown",
   "id": "f7c798b3-d21e-4669-a34d-fe8c8c058e65",
   "metadata": {},
   "source": [
    "### 1.1. 등분산 검정\n",
    "\n",
    "< 가설 설정 - 등분산성 검정 >\n",
    "- 귀무가설(H0) : 두 집단의 분산이 동일하다.\n",
    "- 대립가설(H1) : 두 집단의 분산이 동일하지 않다.\n",
    "\n",
    "< 유의수준은 0.05 로 설정 >"
   ]
  },
  {
   "cell_type": "code",
   "execution_count": 4,
   "id": "b3658e86-468d-4c23-a282-c7f06680eefe",
   "metadata": {},
   "outputs": [],
   "source": [
    "df_one_anova = pd.DataFrame( df_iris,\n",
    "                             columns = ['Sepal_Width', 'Species'] )\n",
    "\n",
    "type1 = df_one_anova[ df_iris['Species'] == 'setosa' ]['Sepal_Width']\n",
    "type2 = df_one_anova[ df_iris['Species'] == 'versicolor' ]['Sepal_Width']\n",
    "type3 = df_one_anova[ df_iris['Species'] == 'virginica' ]['Sepal_Width']"
   ]
  },
  {
   "cell_type": "raw",
   "id": "96d18d24-bff3-4cd8-b2b6-27be7e2825ef",
   "metadata": {},
   "source": [
    "※ 정규성을 가정할 수 없을 때에는 Levene 검정을 사용하는 것이 좋지만, 정규성이 확실하다면 Bartlett 검정을 사용하는 것이 정확하다."
   ]
  },
  {
   "cell_type": "markdown",
   "id": "c8ae2999-a2e4-4f55-866c-36d1ded17cf7",
   "metadata": {},
   "source": [
    "#### 1.1.1. Bartlett's test"
   ]
  },
  {
   "cell_type": "code",
   "execution_count": 5,
   "id": "5ec413e8-9865-4425-8e8e-387c5c5268fc",
   "metadata": {
    "tags": []
   },
   "outputs": [
    {
     "name": "stdout",
     "output_type": "stream",
     "text": [
      " Statistic(Bartlett's test): 2.091 \n",
      " P-value: 0.351502800416 \n",
      " p-value > 0.05 이므로 귀무가설 채택. 등분산성을 만족한다.\n",
      "\n"
     ]
    }
   ],
   "source": [
    "bartlett_test = stats.bartlett( type1, type2, type3 )\n",
    "\n",
    "print( f\" Statistic(Bartlett's test): {bartlett_test[0]:.3f} \\n P-value: {bartlett_test[1]:.12f} \" )\n",
    "\n",
    "if bartlett_test[1] < 0.05:\n",
    "    print(\" p-value < 0.05 이므로 귀무가설 기각. 등분산성을 만족하지 않는다.\")\n",
    "if bartlett_test[1] > 0.05:\n",
    "    print(\" p-value > 0.05 이므로 귀무가설 채택. 등분산성을 만족한다.\")\n",
    "print()"
   ]
  },
  {
   "cell_type": "markdown",
   "id": "67981fac-8e35-470d-9568-27b145868b52",
   "metadata": {},
   "source": [
    "#### 1.1.2. Levene's test"
   ]
  },
  {
   "cell_type": "code",
   "execution_count": 6,
   "id": "32b394a0-98b2-4465-b49c-352599c6d71c",
   "metadata": {},
   "outputs": [
    {
     "name": "stdout",
     "output_type": "stream",
     "text": [
      " Statistic(Levene's Test): 0.590 \n",
      " P-value: 0.555517898474 \n",
      " p-value > 0.05 이므로 귀무가설 채택. 등분산성을 만족한다.\n",
      "\n"
     ]
    }
   ],
   "source": [
    "levene_test = stats.levene( type1, type2, type3 )\n",
    "\n",
    "print( f\" Statistic(Levene's Test): {levene_test[0]:.3f} \\n P-value: {levene_test[1]:.12f} \" )\n",
    "\n",
    "if levene_test[1] < 0.05:\n",
    "    print(\" p-value < 0.05 이므로 귀무가설 기각. 등분산성을 만족하지 않는다.\")\n",
    "if levene_test[1] > 0.05:\n",
    "    print(\" p-value > 0.05 이므로 귀무가설 채택. 등분산성을 만족한다.\")\n",
    "print()"
   ]
  },
  {
   "cell_type": "code",
   "execution_count": 7,
   "id": "fb747598-4788-4e79-8580-b5ca6a2800f4",
   "metadata": {},
   "outputs": [
    {
     "name": "stdout",
     "output_type": "stream",
     "text": [
      " Statistic(Levene's Test): 0.590 \n",
      " P-value: 0.555517898474 \n",
      " p-value > 0.05 이므로 귀무가설 채택. 등분산성을 만족한다.\n",
      "\n"
     ]
    }
   ],
   "source": [
    "# 분산의 동질성 검정 기준을 기본값 'median'이 아닌 'mean' 으로 변경할 경우\n",
    "\n",
    "levene_test2 = stats.levene( type1, type2, type3,\n",
    "                            center = 'mean' )\n",
    "\n",
    "print( f\" Statistic(Levene's Test): {levene_test[0]:.3f} \\n P-value: {levene_test[1]:.12f} \" )\n",
    "\n",
    "if levene_test2[1] < 0.05:\n",
    "    print(\" p-value < 0.05 이므로 귀무가설 기각. 등분산성을 만족하지 않는다.\")\n",
    "if levene_test2[1] > 0.05:\n",
    "    print(\" p-value > 0.05 이므로 귀무가설 채택. 등분산성을 만족한다.\")\n",
    "print()"
   ]
  },
  {
   "cell_type": "markdown",
   "id": "0ef39a98-c895-428b-8967-caffa6444d5b",
   "metadata": {},
   "source": [
    "#### 1.1.3. Fligner’s test"
   ]
  },
  {
   "cell_type": "code",
   "execution_count": 8,
   "id": "46450ac1-5faf-4e87-836f-a34a39a6b610",
   "metadata": {},
   "outputs": [
    {
     "name": "stdout",
     "output_type": "stream",
     "text": [
      " Statistic(Fligner’s Test): 0.912 \n",
      " P-value: 0.633750652353 \n",
      " p-value > 0.05 이므로 귀무가설 채택. 등분산성을 만족한다.\n",
      "\n"
     ]
    }
   ],
   "source": [
    "fligner_test = stats.fligner( type1, type2, type3 )\n",
    "\n",
    "print( f\" Statistic(Fligner’s Test): {fligner_test[0]:.3f} \\n P-value: {fligner_test[1]:.12f} \" )\n",
    "\n",
    "if fligner_test[1] < 0.05:\n",
    "    print(\" p-value < 0.05 이므로 귀무가설 기각. 등분산성을 만족하지 않는다.\")\n",
    "if fligner_test[1] > 0.05:\n",
    "    print(\" p-value > 0.05 이므로 귀무가설 채택. 등분산성을 만족한다.\")\n",
    "print()"
   ]
  },
  {
   "cell_type": "markdown",
   "id": "442f9d6a-82f1-44fc-b860-c0fd55542918",
   "metadata": {
    "tags": []
   },
   "source": [
    "### 1.2. one-way ANOVA\n",
    "< 가설 설정 - ANOVA >\n",
    "- 귀무가설(H0) : 세 가지 종의 Sepal.Width의 평균은 같다.\n",
    "- 대립가설(H1) : 적어도 하나 이상의 종에 대한 Sepal.Width의 평균값에는 차이가 있다.\n",
    "\n",
    "< 유의수준은 0.05 로 설정 >"
   ]
  },
  {
   "cell_type": "markdown",
   "id": "899c45bb-0156-4b22-a5ae-59a922541b11",
   "metadata": {},
   "source": [
    "#### 1.2.1. pingouin 패키지 사용"
   ]
  },
  {
   "cell_type": "code",
   "execution_count": 9,
   "id": "59f3f790-5ace-466d-9718-2222f12327d5",
   "metadata": {},
   "outputs": [
    {
     "name": "stdout",
     "output_type": "stream",
     "text": [
      "    Source         SS   DF        MS         F         p-unc       np2\n",
      "0  Species  11.344933    2  5.672467  49.16004  4.492017e-17  0.400783\n",
      "1   Within  16.962000  147  0.115388       NaN           NaN       NaN\n"
     ]
    }
   ],
   "source": [
    "results = pg.anova( data = df_iris,\n",
    "                    dv = 'Sepal_Width', between = 'Species',\n",
    "                    detailed = True )\n",
    "\n",
    "print(results)\n",
    "print()"
   ]
  },
  {
   "cell_type": "markdown",
   "id": "5a6b09c1-41aa-494e-937a-6d68853a202f",
   "metadata": {},
   "source": [
    "#### 1.2.2. statsmodels 패키지 사용"
   ]
  },
  {
   "cell_type": "code",
   "execution_count": 10,
   "id": "c515c422-efa4-4c20-8208-16a879f04915",
   "metadata": {},
   "outputs": [
    {
     "name": "stdout",
     "output_type": "stream",
     "text": [
      "                            OLS Regression Results                            \n",
      "==============================================================================\n",
      "Dep. Variable:            Sepal_Width   R-squared:                       0.401\n",
      "Model:                            OLS   Adj. R-squared:                  0.393\n",
      "Method:                 Least Squares   F-statistic:                     49.16\n",
      "Date:                Fri, 16 Jul 2021   Prob (F-statistic):           4.49e-17\n",
      "Time:                        22:10:31   Log-Likelihood:                -49.366\n",
      "No. Observations:                 150   AIC:                             104.7\n",
      "Df Residuals:                     147   BIC:                             113.8\n",
      "Df Model:                           2                                         \n",
      "Covariance Type:            nonrobust                                         \n",
      "============================================================================================\n",
      "                               coef    std err          t      P>|t|      [0.025      0.975]\n",
      "--------------------------------------------------------------------------------------------\n",
      "Intercept                    3.4280      0.048     71.359      0.000       3.333       3.523\n",
      "C(Species)[T.versicolor]    -0.6580      0.068     -9.685      0.000      -0.792      -0.524\n",
      "C(Species)[T.virginica]     -0.4540      0.068     -6.683      0.000      -0.588      -0.320\n",
      "==============================================================================\n",
      "Omnibus:                        1.920   Durbin-Watson:                   1.879\n",
      "Prob(Omnibus):                  0.383   Jarque-Bera (JB):                1.632\n",
      "Skew:                           0.027   Prob(JB):                        0.442\n",
      "Kurtosis:                       3.508   Cond. No.                         3.73\n",
      "==============================================================================\n",
      "\n",
      "Notes:\n",
      "[1] Standard Errors assume that the covariance matrix of the errors is correctly specified.\n",
      "\n"
     ]
    }
   ],
   "source": [
    "df_one_anova = pd.DataFrame( df_iris,\n",
    "                             columns = ['Sepal_Width', 'Species'] )\n",
    "\n",
    "results = ols( 'Sepal_Width ~ C(Species)', data = df_one_anova ).fit()\n",
    "\n",
    "print(results.summary())\n",
    "print()"
   ]
  },
  {
   "cell_type": "markdown",
   "id": "d80f06f8-da73-4455-92eb-edf6faab4136",
   "metadata": {},
   "source": [
    "#### 1.2.3. scipy.stats 패키지 사용"
   ]
  },
  {
   "cell_type": "code",
   "execution_count": 11,
   "id": "08d097ea-040b-4f81-b777-a523f31dd89e",
   "metadata": {},
   "outputs": [
    {
     "name": "stdout",
     "output_type": "stream",
     "text": [
      " F-Value: 49.1600    P-value: 0.0000000000000000449201713331\n",
      " p-value < 0.05 이므로 귀무가설을 기각. \n",
      " 적어도 하나 이상의 종에 대한 Sepal.Width의 평균값에는 차이가 있다.\n",
      "\n"
     ]
    }
   ],
   "source": [
    "one_anova_result = stats.f_oneway(type1, type2, type3)\n",
    "\n",
    "print( f' F-Value: {one_anova_result[0]:.4f}    P-value: {one_anova_result[1]:.28f}' )\n",
    "\n",
    "if one_anova_result[1] > 0.05:\n",
    "    print(\" p-value > 0.05 이므로 귀무가설을 채택. \\n 세 가지 종의 Sepal.Width의 평균은 같다.\")\n",
    "if one_anova_result[1] < 0.05:\n",
    "    print(\" p-value < 0.05 이므로 귀무가설을 기각. \\n 적어도 하나 이상의 종에 대한 Sepal.Width의 평균값에는 차이가 있다.\")\n",
    "print()"
   ]
  },
  {
   "cell_type": "raw",
   "id": "ef67c198-0909-4ee3-846c-74fa454b01bd",
   "metadata": {},
   "source": []
  },
  {
   "cell_type": "markdown",
   "id": "b5db7c44-6098-4ebf-a7e3-3ad06bfb0e60",
   "metadata": {},
   "source": [
    "### 1.3. 사후 검정"
   ]
  },
  {
   "cell_type": "markdown",
   "id": "7b6da720-aecc-4e16-8d5f-af5b5856157f",
   "metadata": {},
   "source": [
    "#### 1.3.1. Tukey's HSD (Honest Significant Difference) test"
   ]
  },
  {
   "cell_type": "markdown",
   "id": "eae9d993-8198-45be-98dc-17d8fb1cb83d",
   "metadata": {},
   "source": [
    "##### 1.3.1.1. statsmodels 패키지의 pairwise_tukeyhsd() 패키지 활용"
   ]
  },
  {
   "cell_type": "code",
   "execution_count": 12,
   "id": "91075e3e-9939-455d-bec9-034ffc414819",
   "metadata": {
    "tags": []
   },
   "outputs": [
    {
     "name": "stdout",
     "output_type": "stream",
     "text": [
      "    Multiple Comparison of Means - Tukey HSD, FWER=0.05     \n",
      "============================================================\n",
      "  group1     group2   meandiff p-adj   lower   upper  reject\n",
      "------------------------------------------------------------\n",
      "    setosa versicolor   -0.658  0.001 -0.8189 -0.4971   True\n",
      "    setosa  virginica   -0.454  0.001 -0.6149 -0.2931   True\n",
      "versicolor  virginica    0.204 0.0088  0.0431  0.3649   True\n",
      "------------------------------------------------------------\n",
      "\n"
     ]
    },
    {
     "data": {
      "image/png": "[encoded data removed]",
      "text/plain": [
       "<Figure size 720x432 with 1 Axes>"
      ]
     },
     "metadata": {
      "needs_background": "light"
     },
     "output_type": "display_data"
    }
   ],
   "source": [
    "posthoc = pairwise_tukeyhsd( df_iris['Sepal_Width'], df_iris['Species'],\n",
    "                             alpha=0.05)\n",
    "print(posthoc)\n",
    "print()\n",
    "fig = posthoc.plot_simultaneous()"
   ]
  },
  {
   "cell_type": "raw",
   "id": "911ed966-696e-458c-82d8-1c20e4d77c79",
   "metadata": {},
   "source": []
  },
  {
   "cell_type": "markdown",
   "id": "348118e7-170c-4e82-bafc-5a04e7bfd4d7",
   "metadata": {},
   "source": [
    "##### 1.3.1.2. scikit_posthocs 패키지의 posthoc_tukey_hsd() 활용"
   ]
  },
  {
   "cell_type": "code",
   "execution_count": 13,
   "id": "e2178a79-e1c9-452e-9aea-a6d239294582",
   "metadata": {},
   "outputs": [
    {
     "name": "stdout",
     "output_type": "stream",
     "text": [
      "            setosa  versicolor  virginica\n",
      "setosa           1           1          1\n",
      "versicolor       1           1          1\n",
      "virginica        1           1          1\n",
      "\n"
     ]
    }
   ],
   "source": [
    "posthoc = sp.posthoc_tukey_hsd( df_iris['Sepal_Width'],\n",
    "                                df_iris['Species'],\n",
    "                                alpha = 0.05)\n",
    "print(posthoc)\n",
    "print()"
   ]
  },
  {
   "cell_type": "code",
   "execution_count": 14,
   "id": "f4ce5607-5e0f-4bc2-942e-a2fc0b0457e3",
   "metadata": {},
   "outputs": [
    {
     "name": "stdout",
     "output_type": "stream",
     "text": [
      "            setosa  versicolor  virginica\n",
      "setosa       1.000    0.001000   0.001000\n",
      "versicolor   0.001    1.000000   0.008779\n",
      "virginica    0.001    0.008779   1.000000\n",
      "\n"
     ]
    }
   ],
   "source": [
    "posthoc = sp.posthoc_tukey(  df_iris,\n",
    "                             val_col = 'Sepal_Width',\n",
    "                             group_col = 'Species',\n",
    "                             sort = False )\n",
    "print(posthoc)\n",
    "print()"
   ]
  },
  {
   "cell_type": "raw",
   "id": "bdeaea8c-2645-41ce-828b-7d1fd069506c",
   "metadata": {},
   "source": []
  },
  {
   "cell_type": "markdown",
   "id": "c5b2d963-b4dd-4e14-83c4-0d1c825f2d14",
   "metadata": {},
   "source": [
    "#### 1.3.2. Scheffé’s Method"
   ]
  },
  {
   "cell_type": "markdown",
   "id": "f8738995-13da-4cb1-a48f-a51da31ebc61",
   "metadata": {},
   "source": [
    "##### 1.3.2.1. scikit_posthocs 패키지의 posthoc_scheffe() 활용"
   ]
  },
  {
   "cell_type": "code",
   "execution_count": 15,
   "id": "84da8611-d445-4e01-bfcb-cbdaa46c71df",
   "metadata": {
    "tags": []
   },
   "outputs": [
    {
     "data": {
      "text/html": [
       "<div>\n",
       "<style scoped>\n",
       "    .dataframe tbody tr th:only-of-type {\n",
       "        vertical-align: middle;\n",
       "    }\n",
       "\n",
       "    .dataframe tbody tr th {\n",
       "        vertical-align: top;\n",
       "    }\n",
       "\n",
       "    .dataframe thead th {\n",
       "        text-align: right;\n",
       "    }\n",
       "</style>\n",
       "<table border=\"1\" class=\"dataframe\">\n",
       "  <thead>\n",
       "    <tr style=\"text-align: right;\">\n",
       "      <th></th>\n",
       "      <th>setosa</th>\n",
       "      <th>versicolor</th>\n",
       "      <th>virginica</th>\n",
       "    </tr>\n",
       "  </thead>\n",
       "  <tbody>\n",
       "    <tr>\n",
       "      <th>setosa</th>\n",
       "      <td>1.000000e+00</td>\n",
       "      <td>1.758878e-16</td>\n",
       "      <td>3.405790e-09</td>\n",
       "    </tr>\n",
       "    <tr>\n",
       "      <th>versicolor</th>\n",
       "      <td>1.758878e-16</td>\n",
       "      <td>1.000000e+00</td>\n",
       "      <td>1.258285e-02</td>\n",
       "    </tr>\n",
       "    <tr>\n",
       "      <th>virginica</th>\n",
       "      <td>3.405790e-09</td>\n",
       "      <td>1.258285e-02</td>\n",
       "      <td>1.000000e+00</td>\n",
       "    </tr>\n",
       "  </tbody>\n",
       "</table>\n",
       "</div>"
      ],
      "text/plain": [
       "                  setosa    versicolor     virginica\n",
       "setosa      1.000000e+00  1.758878e-16  3.405790e-09\n",
       "versicolor  1.758878e-16  1.000000e+00  1.258285e-02\n",
       "virginica   3.405790e-09  1.258285e-02  1.000000e+00"
      ]
     },
     "execution_count": 15,
     "metadata": {},
     "output_type": "execute_result"
    }
   ],
   "source": [
    "sp.posthoc_scheffe( df_iris,\n",
    "                    val_col = 'Sepal_Width',\n",
    "                    group_col = 'Species',\n",
    "                    sort = False )"
   ]
  },
  {
   "cell_type": "raw",
   "id": "575402e3-8be9-4b8a-803b-a2c5c17d6bdf",
   "metadata": {},
   "source": []
  },
  {
   "cell_type": "markdown",
   "id": "a18459df-5011-44e9-9043-a929b16f95d5",
   "metadata": {},
   "source": [
    "#### 1.3.3. Pairwise T-test"
   ]
  },
  {
   "cell_type": "markdown",
   "id": "7fa55ea7-157b-4e28-9fbe-f984269abd8a",
   "metadata": {},
   "source": [
    "##### 1.3.3.1. scikit_posthocs 패키지의 posthoc_ttest() 활용"
   ]
  },
  {
   "cell_type": "code",
   "execution_count": 16,
   "id": "b2a2f40a-8a25-4bb5-a113-e2f0275c3d5f",
   "metadata": {
    "tags": []
   },
   "outputs": [
    {
     "data": {
      "text/html": [
       "<div>\n",
       "<style scoped>\n",
       "    .dataframe tbody tr th:only-of-type {\n",
       "        vertical-align: middle;\n",
       "    }\n",
       "\n",
       "    .dataframe tbody tr th {\n",
       "        vertical-align: top;\n",
       "    }\n",
       "\n",
       "    .dataframe thead th {\n",
       "        text-align: right;\n",
       "    }\n",
       "</style>\n",
       "<table border=\"1\" class=\"dataframe\">\n",
       "  <thead>\n",
       "    <tr style=\"text-align: right;\">\n",
       "      <th></th>\n",
       "      <th>setosa</th>\n",
       "      <th>versicolor</th>\n",
       "      <th>virginica</th>\n",
       "    </tr>\n",
       "  </thead>\n",
       "  <tbody>\n",
       "    <tr>\n",
       "      <th>setosa</th>\n",
       "      <td>1.000000e+00</td>\n",
       "      <td>1.845260e-15</td>\n",
       "      <td>4.246355e-09</td>\n",
       "    </tr>\n",
       "    <tr>\n",
       "      <th>versicolor</th>\n",
       "      <td>1.845260e-15</td>\n",
       "      <td>1.000000e+00</td>\n",
       "      <td>1.819100e-03</td>\n",
       "    </tr>\n",
       "    <tr>\n",
       "      <th>virginica</th>\n",
       "      <td>4.246355e-09</td>\n",
       "      <td>1.819100e-03</td>\n",
       "      <td>1.000000e+00</td>\n",
       "    </tr>\n",
       "  </tbody>\n",
       "</table>\n",
       "</div>"
      ],
      "text/plain": [
       "                  setosa    versicolor     virginica\n",
       "setosa      1.000000e+00  1.845260e-15  4.246355e-09\n",
       "versicolor  1.845260e-15  1.000000e+00  1.819100e-03\n",
       "virginica   4.246355e-09  1.819100e-03  1.000000e+00"
      ]
     },
     "execution_count": 16,
     "metadata": {},
     "output_type": "execute_result"
    }
   ],
   "source": [
    "sp.posthoc_ttest( df_iris,\n",
    "                    val_col = 'Sepal_Width',\n",
    "                    group_col = 'Species',\n",
    "                    sort = False )"
   ]
  },
  {
   "cell_type": "raw",
   "id": "245140ac-9d99-4768-965c-78fc85855487",
   "metadata": {},
   "source": []
  },
  {
   "cell_type": "markdown",
   "id": "7de6892e-63e3-405c-a4f4-92bfdf4074cd",
   "metadata": {},
   "source": [
    "##### 1.3.3.2. statsmodels의 MultiComparison 패키지 및 allpairtest() 활용"
   ]
  },
  {
   "cell_type": "code",
   "execution_count": 17,
   "id": "6ea7362d-c121-497d-afb6-43c4e2bf598f",
   "metadata": {},
   "outputs": [
    {
     "data": {
      "text/html": [
       "<table class=\"simpletable\">\n",
       "<caption>Test Multiple Comparison ttest_ind \n",
       "FWER=0.05 method=bonf\n",
       "alphacSidak=0.02, alphacBonf=0.017</caption>\n",
       "<tr>\n",
       "    <th>group1</th>     <th>group2</th>    <th>stat</th>    <th>pval</th>  <th>pval_corr</th> <th>reject</th>\n",
       "</tr>\n",
       "<tr>\n",
       "    <td>setosa</td>   <td>versicolor</td>  <td>9.455</td>    <td>0.0</td>     <td>0.0</td>     <td>True</td> \n",
       "</tr>\n",
       "<tr>\n",
       "    <td>setosa</td>    <td>virginica</td> <td>6.4503</td>    <td>0.0</td>     <td>0.0</td>     <td>True</td> \n",
       "</tr>\n",
       "<tr>\n",
       "  <td>versicolor</td>  <td>virginica</td> <td>-3.2058</td> <td>0.0018</td>  <td>0.0055</td>    <td>True</td> \n",
       "</tr>\n",
       "</table>"
      ],
      "text/plain": [
       "<class 'statsmodels.iolib.table.SimpleTable'>"
      ]
     },
     "execution_count": 17,
     "metadata": {},
     "output_type": "execute_result"
    }
   ],
   "source": [
    "comp = MultiComparison( df_one_anova['Sepal_Width'], df_one_anova['Species'] )\n",
    "\n",
    "# Bonferroni 방법을 통해 모든 그룹간 ttest를 진행\n",
    "result = comp.allpairtest(scipy.stats.ttest_ind, method='bonf')\n",
    "result[0]"
   ]
  },
  {
   "cell_type": "raw",
   "id": "8b31ebb8-f102-406f-a966-ce5d949e6e39",
   "metadata": {},
   "source": []
  },
  {
   "cell_type": "markdown",
   "id": "f4312194-114f-4b2d-8e6b-818875d3025b",
   "metadata": {},
   "source": [
    "## 2. 이원배치 분산분석"
   ]
  },
  {
   "cell_type": "raw",
   "id": "c8a04afb-e49c-4d07-ab5e-d61ca53b4aab",
   "metadata": {},
   "source": [
    "[Problem]\n",
    "- mtcars 데이터는 32개의 차종에 대한 다양한 특성과 단위 연료당 주행거리를 담고 있다. \n",
    "- am 변수는 변속기 종류, cyl 변수는 실린더의 개수, mpg 변수는 주행거리를 의미한다. \n",
    "- 데이터를 분석에 적절한 형태로 전처리한 후, 변속기 종류(am변수)와 실린더의 개수(cyl변수)에 따라 주행거리(mpg변수) 평균에 유의미한 차이가 존재하는지 이원 분산분석을 수행하고, 그 결과를 해석하라."
   ]
  },
  {
   "cell_type": "code",
   "execution_count": 18,
   "id": "3cd6b7e0-07de-4346-99b2-9b5e1763ff80",
   "metadata": {},
   "outputs": [
    {
     "data": {
      "text/html": [
       "<div>\n",
       "<style scoped>\n",
       "    .dataframe tbody tr th:only-of-type {\n",
       "        vertical-align: middle;\n",
       "    }\n",
       "\n",
       "    .dataframe tbody tr th {\n",
       "        vertical-align: top;\n",
       "    }\n",
       "\n",
       "    .dataframe thead th {\n",
       "        text-align: right;\n",
       "    }\n",
       "</style>\n",
       "<table border=\"1\" class=\"dataframe\">\n",
       "  <thead>\n",
       "    <tr style=\"text-align: right;\">\n",
       "      <th></th>\n",
       "      <th>model</th>\n",
       "      <th>mpg</th>\n",
       "      <th>cyl</th>\n",
       "      <th>disp</th>\n",
       "      <th>hp</th>\n",
       "      <th>drat</th>\n",
       "      <th>wt</th>\n",
       "      <th>qsec</th>\n",
       "      <th>vs</th>\n",
       "      <th>am</th>\n",
       "      <th>gear</th>\n",
       "      <th>carb</th>\n",
       "    </tr>\n",
       "  </thead>\n",
       "  <tbody>\n",
       "    <tr>\n",
       "      <th>0</th>\n",
       "      <td>Mazda RX4</td>\n",
       "      <td>21.0</td>\n",
       "      <td>6</td>\n",
       "      <td>160.0</td>\n",
       "      <td>110</td>\n",
       "      <td>3.90</td>\n",
       "      <td>2.620</td>\n",
       "      <td>16.46</td>\n",
       "      <td>0</td>\n",
       "      <td>1</td>\n",
       "      <td>4</td>\n",
       "      <td>4</td>\n",
       "    </tr>\n",
       "    <tr>\n",
       "      <th>1</th>\n",
       "      <td>Mazda RX4 Wag</td>\n",
       "      <td>21.0</td>\n",
       "      <td>6</td>\n",
       "      <td>160.0</td>\n",
       "      <td>110</td>\n",
       "      <td>3.90</td>\n",
       "      <td>2.875</td>\n",
       "      <td>17.02</td>\n",
       "      <td>0</td>\n",
       "      <td>1</td>\n",
       "      <td>4</td>\n",
       "      <td>4</td>\n",
       "    </tr>\n",
       "    <tr>\n",
       "      <th>2</th>\n",
       "      <td>Datsun 710</td>\n",
       "      <td>22.8</td>\n",
       "      <td>4</td>\n",
       "      <td>108.0</td>\n",
       "      <td>93</td>\n",
       "      <td>3.85</td>\n",
       "      <td>2.320</td>\n",
       "      <td>18.61</td>\n",
       "      <td>1</td>\n",
       "      <td>1</td>\n",
       "      <td>4</td>\n",
       "      <td>1</td>\n",
       "    </tr>\n",
       "    <tr>\n",
       "      <th>3</th>\n",
       "      <td>Hornet 4 Drive</td>\n",
       "      <td>21.4</td>\n",
       "      <td>6</td>\n",
       "      <td>258.0</td>\n",
       "      <td>110</td>\n",
       "      <td>3.08</td>\n",
       "      <td>3.215</td>\n",
       "      <td>19.44</td>\n",
       "      <td>1</td>\n",
       "      <td>0</td>\n",
       "      <td>3</td>\n",
       "      <td>1</td>\n",
       "    </tr>\n",
       "    <tr>\n",
       "      <th>4</th>\n",
       "      <td>Hornet Sportabout</td>\n",
       "      <td>18.7</td>\n",
       "      <td>8</td>\n",
       "      <td>360.0</td>\n",
       "      <td>175</td>\n",
       "      <td>3.15</td>\n",
       "      <td>3.440</td>\n",
       "      <td>17.02</td>\n",
       "      <td>0</td>\n",
       "      <td>0</td>\n",
       "      <td>3</td>\n",
       "      <td>2</td>\n",
       "    </tr>\n",
       "  </tbody>\n",
       "</table>\n",
       "</div>"
      ],
      "text/plain": [
       "               model   mpg  cyl   disp   hp  drat     wt   qsec  vs  am  gear  \\\n",
       "0          Mazda RX4  21.0    6  160.0  110  3.90  2.620  16.46   0   1     4   \n",
       "1      Mazda RX4 Wag  21.0    6  160.0  110  3.90  2.875  17.02   0   1     4   \n",
       "2         Datsun 710  22.8    4  108.0   93  3.85  2.320  18.61   1   1     4   \n",
       "3     Hornet 4 Drive  21.4    6  258.0  110  3.08  3.215  19.44   1   0     3   \n",
       "4  Hornet Sportabout  18.7    8  360.0  175  3.15  3.440  17.02   0   0     3   \n",
       "\n",
       "   carb  \n",
       "0     4  \n",
       "1     4  \n",
       "2     1  \n",
       "3     1  \n",
       "4     2  "
      ]
     },
     "execution_count": 18,
     "metadata": {},
     "output_type": "execute_result"
    }
   ],
   "source": [
    "# 데이터프레임 생성\n",
    "\n",
    "df_mtcars = pd.read_csv('C:/Users/Administrator/GitHub/TIL/ADP_study/rawdata/mtcars.csv')\n",
    "df_mtcars.head()"
   ]
  },
  {
   "cell_type": "markdown",
   "id": "9fa63bbe-19dc-41e1-8dd2-f6f8ab90937f",
   "metadata": {},
   "source": [
    "### 2.1. 등분산 검정\n",
    "< 가설 설정 - 등분산성 검정 >\n",
    "- 귀무가설(H0) : 세 집단의 분산이 동일하다.\n",
    "- 대립가설(H1) : 적어도 한 집단의 분산이 동일하지 않다.\n",
    "\n",
    "< 유의수준은 0.05 로 설정 >"
   ]
  },
  {
   "cell_type": "markdown",
   "id": "74881ab0-cf20-4092-a8b0-2644897d6f6a",
   "metadata": {},
   "source": [
    "#### 1.1.1. Bartlett's test"
   ]
  },
  {
   "cell_type": "code",
   "execution_count": 19,
   "id": "7ed760c3-24c6-4898-a378-26571e0979fe",
   "metadata": {
    "tags": []
   },
   "outputs": [
    {
     "name": "stdout",
     "output_type": "stream",
     "text": [
      " Statistic(Bartlett's test): 134.195 \n",
      " P-value: 0.000000000000 \n",
      " p-value < 0.05 이므로 귀무가설 기각. 등분산성을 만족하지 않는다.\n",
      "\n"
     ]
    }
   ],
   "source": [
    "bartlett_test = stats.bartlett( df_mtcars['am'], df_mtcars['cyl'], df_mtcars['mpg'] )\n",
    "\n",
    "print( f\" Statistic(Bartlett's test): {bartlett_test[0]:.3f} \\n P-value: {bartlett_test[1]:.12f} \" )\n",
    "\n",
    "if bartlett_test[1] < 0.05:\n",
    "    print(\" p-value < 0.05 이므로 귀무가설 기각. 등분산성을 만족하지 않는다.\")\n",
    "if bartlett_test[1] > 0.05:\n",
    "    print(\" p-value > 0.05 이므로 귀무가설 채택. 등분산성을 만족한다.\")\n",
    "print()"
   ]
  },
  {
   "cell_type": "markdown",
   "id": "ecefef63-6c86-484b-b612-ac0c98b437d6",
   "metadata": {
    "tags": []
   },
   "source": [
    "### 2.2. two-way ANOVA\n",
    "\n",
    "< 가설 설정 - ANOVA >\n",
    "\n",
    "1. 주효과 검정에 대한 가설  \n",
    "a. 귀무가설(H0) : 실린더 개수에 따른 주행거리 차이는 존재하지 않는다.  \n",
    "a. 대립가설(H1) : 실린더 개수에 따른 주행거리 차이가 존재한다.  \n",
    "b. 귀무가설(H0) : 변속기 종류에 따른 주행거리 차이는 존재하지 않는다.  \n",
    "b. 대립가설(H1) : 변속기 종류에 따른 주행거리 차이가 존재한다.\n",
    "\n",
    "2) 상호작용효과 검정에 대한 가설\n",
    "- 귀무가설(H0) : 변속기 종류와 실린더 개수 간에는 상호작용 효과가 없다.\n",
    "- 대립가설(H1) : 변속기 종류와 실린더 개수 간에는 상호작용 효과가 있다.\n",
    "\n",
    "< 유의수준은 0.05 로 설정 >"
   ]
  },
  {
   "cell_type": "markdown",
   "id": "fb9b9de6-ff06-4e33-8fc1-bb30f412b871",
   "metadata": {},
   "source": [
    "#### 2.2.1. pingouin 패키지 사용"
   ]
  },
  {
   "cell_type": "code",
   "execution_count": 20,
   "id": "7e5b63cd-24b6-4e67-b83d-336a5d4af536",
   "metadata": {},
   "outputs": [
    {
     "name": "stdout",
     "output_type": "stream",
     "text": [
      "     Source          SS    DF          MS          F         p-unc       np2\n",
      "0        am   36.766919   1.0   36.766919   3.998759  5.608373e-02  0.133297\n",
      "1       cyl  456.400921   2.0  228.200461  24.819011  9.354735e-07  0.656258\n",
      "2  am * cyl   25.436511   2.0   12.718256   1.383233  2.686140e-01  0.096170\n",
      "3  Residual  239.059167  26.0    9.194583        NaN           NaN       NaN\n"
     ]
    }
   ],
   "source": [
    "results = pg.anova( data = df_mtcars,\n",
    "                    dv = 'mpg', between = ['am','cyl'] )\n",
    "\n",
    "print(results)"
   ]
  },
  {
   "cell_type": "markdown",
   "id": "2f4fd899-0962-4670-a58c-4ba23df21ba4",
   "metadata": {},
   "source": [
    "#### 2.2.2. statsmodels 패키지 사용"
   ]
  },
  {
   "cell_type": "code",
   "execution_count": 21,
   "id": "36a11e4e-b21b-46c8-b5f1-a130272ea123",
   "metadata": {},
   "outputs": [
    {
     "name": "stdout",
     "output_type": "stream",
     "text": [
      "                            OLS Regression Results                            \n",
      "==============================================================================\n",
      "Dep. Variable:                    mpg   R-squared:                       0.788\n",
      "Model:                            OLS   Adj. R-squared:                  0.747\n",
      "Method:                 Least Squares   F-statistic:                     19.29\n",
      "Date:                Fri, 16 Jul 2021   Prob (F-statistic):           5.18e-08\n",
      "Time:                        22:10:32   Log-Likelihood:                -77.582\n",
      "No. Observations:                  32   AIC:                             167.2\n",
      "Df Residuals:                      26   BIC:                             176.0\n",
      "Df Model:                           5                                         \n",
      "Covariance Type:            nonrobust                                         \n",
      "==========================================================================================\n",
      "                             coef    std err          t      P>|t|      [0.025      0.975]\n",
      "------------------------------------------------------------------------------------------\n",
      "Intercept                 22.9000      1.751     13.081      0.000      19.301      26.499\n",
      "C(am)[T.1]                 5.1750      2.053      2.521      0.018       0.955       9.395\n",
      "C(cyl)[T.6]               -3.7750      2.316     -1.630      0.115      -8.535       0.985\n",
      "C(cyl)[T.8]               -7.8500      1.957     -4.011      0.000     -11.873      -3.827\n",
      "C(am)[T.1]:C(cyl)[T.6]    -3.7333      3.095     -1.206      0.239     -10.095       2.628\n",
      "C(am)[T.1]:C(cyl)[T.8]    -4.8250      3.095     -1.559      0.131     -11.186       1.536\n",
      "==============================================================================\n",
      "Omnibus:                        1.456   Durbin-Watson:                   1.671\n",
      "Prob(Omnibus):                  0.483   Jarque-Bera (JB):                0.665\n",
      "Skew:                          -0.328   Prob(JB):                        0.717\n",
      "Kurtosis:                       3.262   Cond. No.                         11.1\n",
      "==============================================================================\n",
      "\n",
      "Notes:\n",
      "[1] Standard Errors assume that the covariance matrix of the errors is correctly specified.\n"
     ]
    }
   ],
   "source": [
    "df_anova = pd.DataFrame(df_mtcars)\n",
    "\n",
    "results = ols( 'mpg ~ C(am)*C(cyl)', data = df_anova ).fit()\n",
    "\n",
    "print(results.summary())"
   ]
  },
  {
   "cell_type": "code",
   "execution_count": null,
   "id": "2defd755-c29f-42fc-97ef-dab559dfcd1b",
   "metadata": {},
   "outputs": [],
   "source": []
  },
  {
   "cell_type": "markdown",
   "id": "4644d0f3-b968-46db-96b2-627f25e7b28e",
   "metadata": {},
   "source": [
    "### 2.3. 사후 검정"
   ]
  },
  {
   "cell_type": "markdown",
   "id": "746de71b-64f2-4be4-8869-3c9be66b3009",
   "metadata": {},
   "source": [
    "#### 2.3.2. Scheffé’s Method"
   ]
  },
  {
   "cell_type": "code",
   "execution_count": 22,
   "id": "e8493c07-8468-4ed4-ab29-32307a5d3957",
   "metadata": {
    "tags": []
   },
   "outputs": [
    {
     "name": "stdout",
     "output_type": "stream",
     "text": [
      "mpg - am\n",
      "          1         0\n",
      "1  1.000000  0.000285\n",
      "0  0.000285  1.000000\n",
      "\n",
      "mpg - cyl\n",
      "          6             4             8\n",
      "6  1.000000  5.402324e-04  1.533399e-02\n",
      "4  0.000540  1.000000e+00  5.048916e-09\n",
      "8  0.015334  5.048916e-09  1.000000e+00\n",
      "\n",
      "am - cyl\n",
      "          6         4         8\n",
      "6  1.000000  0.385071  0.385744\n",
      "4  0.385071  1.000000  0.009877\n",
      "8  0.385744  0.009877  1.000000\n"
     ]
    }
   ],
   "source": [
    "print( 'mpg - am')\n",
    "result1 = sp.posthoc_scheffe( df_mtcars,\n",
    "                              val_col = 'mpg',\n",
    "                              group_col = 'am',\n",
    "                              sort = False )\n",
    "print(result1)\n",
    "print()\n",
    "\n",
    "print( 'mpg - cyl')\n",
    "result2 = sp.posthoc_scheffe( df_mtcars,\n",
    "                              val_col = 'mpg',\n",
    "                              group_col = 'cyl',\n",
    "                              sort = False )\n",
    "print(result2)\n",
    "print()\n",
    "\n",
    "print( 'am - cyl')\n",
    "result3 = sp.posthoc_scheffe( df_mtcars,\n",
    "                              val_col = 'am',\n",
    "                              group_col = 'cyl',\n",
    "                              sort = False )\n",
    "print(result3)"
   ]
  },
  {
   "cell_type": "raw",
   "id": "b89a803c-fac2-4db5-9523-e858fecff713",
   "metadata": {},
   "source": []
  },
  {
   "cell_type": "markdown",
   "id": "6e2f60da-318a-4878-9912-8dc74d4e31e7",
   "metadata": {},
   "source": [
    "#### 2.3.3. 상호작용효과 그래프"
   ]
  },
  {
   "cell_type": "code",
   "execution_count": 23,
   "id": "f52adaa0-1b37-4f7d-bae3-241133ba6682",
   "metadata": {},
   "outputs": [
    {
     "data": {
      "image/png": "[encoded data removed]",
      "text/plain": [
       "<Figure size 432x288 with 1 Axes>"
      ]
     },
     "metadata": {
      "needs_background": "light"
     },
     "output_type": "display_data"
    }
   ],
   "source": [
    "fig = interaction_plot( x = df_mtcars['cyl'],\n",
    "                        trace = df_mtcars['am'],\n",
    "                        response = df_mtcars['mpg'] )"
   ]
  },
  {
   "cell_type": "code",
   "execution_count": 24,
   "id": "18bbb723-8966-4878-a87e-f33d96a7a09a",
   "metadata": {},
   "outputs": [
    {
     "data": {
      "image/png": "[encoded data removed]",
      "text/plain": [
       "<Figure size 432x288 with 1 Axes>"
      ]
     },
     "metadata": {
      "needs_background": "light"
     },
     "output_type": "display_data"
    }
   ],
   "source": [
    "fig = interaction_plot( x = df_mtcars['am'],\n",
    "                        trace = df_mtcars['cyl'],\n",
    "                        response = df_mtcars['mpg'] )"
   ]
  }
 ],
 "metadata": {
  "kernelspec": {
   "display_name": "Python 3",
   "language": "python",
   "name": "python3"
  },
  "language_info": {
   "codemirror_mode": {
    "name": "ipython",
    "version": 3
   },
   "file_extension": ".py",
   "mimetype": "text/x-python",
   "name": "python",
   "nbconvert_exporter": "python",
   "pygments_lexer": "ipython3",
   "version": "3.8.8"
  }
 },
 "nbformat": 4,
 "nbformat_minor": 5
}
