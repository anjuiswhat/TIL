{
 "cells": [
  {
   "cell_type": "markdown",
   "id": "c9cff870-1029-4a7f-929e-98f89146efd7",
   "metadata": {},
   "source": [
    "# 선 그래프"
   ]
  },
  {
   "cell_type": "markdown",
   "id": "90ba9217-fbac-4bb1-8fa8-d3a8d4c81c84",
   "metadata": {},
   "source": [
    "## - 불러올 패키지 목록"
   ]
  },
  {
   "cell_type": "code",
   "execution_count": null,
   "id": "370ec3be-c82d-46cf-93f4-33fbe5979366",
   "metadata": {},
   "outputs": [],
   "source": [
    "# 데이터 핸들링을 위한 패키지\n",
    "import numpy as np\n",
    "import pandas as pd\n",
    "\n",
    "# 시각화를 위한 패키지\n",
    "import seaborn as sb\n",
    "import matplotlib.pyplot as plt\n",
    "\n",
    "# %matplotlib inline 의 목적은 plt.show()함수가 호출되지 않은 경우에도 matplotlib 다이어그램을 렌더링하는 것이다.\n",
    "# 그러나 현재 업데이트된 버전의 주피터 노트북 버전에서는 %matplotlib inline 를 사용하지 않더라도 Matplotlib 다이어그램을 개체로 표현한다.\n",
    "# 따라서 굳이 필요하지는 않다. 그러나 코드를 깨끗하게 유지하고 자신이 만든 플롯을 호출하기 위해 여전히 관례적으로 권장된다.\n",
    "%matplotlib inline\n",
    "\n",
    "# 한글 폰트 설정\n",
    "plt.rc('font', family='Malgun Gothic')"
   ]
  },
  {
   "cell_type": "raw",
   "id": "340bab29-6de8-4b08-8b22-90ca0b6dfa8b",
   "metadata": {},
   "source": [
    "\n",
    "\n",
    "\n",
    "\n",
    "\n"
   ]
  },
  {
   "cell_type": "markdown",
   "id": "f1927fc1-b501-405c-94e3-c51b229fc8f2",
   "metadata": {},
   "source": [
    "## 1. 데이터 전처리"
   ]
  },
  {
   "cell_type": "code",
   "execution_count": null,
   "id": "c79626c0-60e8-436f-aea8-9ada0c442303",
   "metadata": {},
   "outputs": [],
   "source": [
    "# Excel 데이터를 데이터프레임 변환 \n",
    "df = pd.read_excel( 'C:\\\\Users\\\\Administrator\\\\GitHub\\\\TIL\\\\Python\\\\source_판다스 데이터 분석\\\\part4\\\\시도별 전출입 인구수.xlsx',\n",
    "                    engine = 'openpyxl' )\n",
    "df"
   ]
  },
  {
   "cell_type": "code",
   "execution_count": null,
   "id": "4f08b38f-6384-4d15-8acb-5ba8fa8e066f",
   "metadata": {},
   "outputs": [],
   "source": [
    "# 결측치 확인\n",
    "df.isnull().sum()"
   ]
  },
  {
   "cell_type": "code",
   "execution_count": null,
   "id": "2817c4d1-9fbf-4e0c-938d-cc3061e2bc10",
   "metadata": {},
   "outputs": [],
   "source": [
    "# '전출지별' 컬럼에 NaN 값 존재 (엑셀 양식에서 셀이 병합된 부분)\n",
    "# 누락값(NaN)을 앞 데이터로 채움 \n",
    "\n",
    "df = df.fillna(method='ffill')\n",
    "df"
   ]
  },
  {
   "cell_type": "code",
   "execution_count": null,
   "id": "a7954ad1-4728-4b3c-b953-918e6cdcca1a",
   "metadata": {},
   "outputs": [],
   "source": [
    "# 서울에서 다른 지역으로 이동한 데이터만 추출하여 정리하기 위해 데이터프레임 재구성\n",
    "\n",
    "# 전출지가 서울이고, 전입지는 서울이 아닌 지역인 데이터만 추출\n",
    "filtering = ( df['전출지별'] == '서울특별시' ) & ( df['전입지별'] != '서울특별시' ) \n",
    "df_seoul = df[ filtering ]\n",
    "\n",
    "# '전출지별' 컬럼은 필요 없으므로 삭제\n",
    "df_seoul = df_seoul.drop( '전출지별', axis = 1)\n",
    "\n",
    "# '전입지별' 컬럼이름을 '전입지'로 변경\n",
    "df_seoul.rename({'전입지별':'전입지'}, axis=1, inplace=True)\n",
    "\n",
    "# 전입지를 기준으로 행 데이터를 선택할수 있도록 인덱스 지정\n",
    "df_seoul.set_index('전입지', inplace=True)\n",
    "\n",
    "df_seoul"
   ]
  },
  {
   "cell_type": "raw",
   "id": "f46b7bb6-b0a7-4894-867b-951803f2da08",
   "metadata": {},
   "source": [
    "\n"
   ]
  },
  {
   "cell_type": "markdown",
   "id": "30eda8b8-0b31-4d10-aaea-cc667404fa6b",
   "metadata": {},
   "source": [
    "## 2. 시각화"
   ]
  },
  {
   "cell_type": "code",
   "execution_count": null,
   "id": "2e8160bd-6c13-4cba-825d-ff5ed9bc2f44",
   "metadata": {},
   "outputs": [],
   "source": [
    "# 연도별로 정리하기 쉽도록 행렬 전치 수행\n",
    "df_seoul_T = df_seoul.T\n",
    "display(df_seoul_T)\n",
    "\n",
    "# 서울에서 '경기도'로 이동한 인구 데이터 값만 선택\n",
    "sr_one = df_seoul_T['경기도']"
   ]
  },
  {
   "cell_type": "markdown",
   "id": "b9eebaef-bb09-4ffd-9abf-e944be984b80",
   "metadata": {},
   "source": [
    "### 선 그래프 그리기 - 기본"
   ]
  },
  {
   "cell_type": "code",
   "execution_count": null,
   "id": "d3d3de2e-896f-4e92-add0-464a8db7012e",
   "metadata": {},
   "outputs": [],
   "source": [
    "# x, y축 데이터를 plot 함수에 입력하여 그리기\n",
    "plt.plot(sr_one.index, sr_one.values)"
   ]
  },
  {
   "cell_type": "code",
   "execution_count": null,
   "id": "9b4f38a4-5cb3-43e2-9be5-8d1aa39a13eb",
   "metadata": {},
   "outputs": [],
   "source": [
    "# 판다스 객체를 plot 함수에 입력하여 그리기\n",
    "plt.plot(sr_one)"
   ]
  },
  {
   "cell_type": "markdown",
   "id": "e32e35a5-c284-447f-8cab-0e02dfbfe9e7",
   "metadata": {},
   "source": [
    "### 그래프 꾸미기"
   ]
  },
  {
   "cell_type": "markdown",
   "id": "166227f7-f27f-4e9c-bd27-cac9f0c435e1",
   "metadata": {},
   "source": [
    "#### 그래프 크기, 차트 제목, 축 이름, 범례 등을 설정"
   ]
  },
  {
   "cell_type": "code",
   "execution_count": null,
   "id": "0a5899e3-2212-4128-83e0-843dca64c5f7",
   "metadata": {
    "tags": []
   },
   "outputs": [],
   "source": [
    "# 적용 순서에 따라 결과가 달라짐!!!!!!!!!!\n",
    "# 왜그런지 확인해 볼 것!!!!!!!!\n",
    "\n",
    "\n",
    "# 그림 사이즈 지정(가로 14인치, 세로 5인치)\n",
    "# 사이즈 지정을 가장 먼저 하지 않으면 그래프가 이상하게 출력됨.\n",
    "plt.figure(figsize=(14, 5))\n",
    "\n",
    "# 판다스 객체를 plot 함수에 입력\n",
    "# 마커 표시 옵션 추가\n",
    "plt.plot( sr_one,\n",
    "          marker='o',  # 마커 종류\n",
    "          markersize=10 )  # 마커 크기 \n",
    "\n",
    "# 차트 제목 추가\n",
    "plt.title('서울 -> 경기 인구 이동')\n",
    "\n",
    "# 축이름 추가\n",
    "plt.xlabel('기간')\n",
    "plt.ylabel('이동 인구수')\n",
    "\n",
    "# x축 눈금 라벨 회전하기\n",
    "plt.xticks( size=10,  # 폰트 크기\n",
    "            rotation='vertical')\n",
    "\n",
    "# 범례 표시. 가장 마지막에 하지 않으면 적용 안됨.\n",
    "plt.legend( labels = ['서울 -> 경기'], loc = 'best') \n",
    "\n",
    "plt.show()  # 변경사항 저장하고 그래프 출력"
   ]
  },
  {
   "cell_type": "markdown",
   "id": "c235a073-2f2c-42cc-97da-ada3bb2ea679",
   "metadata": {},
   "source": [
    "#### 스타일 서식 지정"
   ]
  },
  {
   "cell_type": "code",
   "execution_count": null,
   "id": "092fd06d-7511-4dc2-93dd-dc2ed3e23ff0",
   "metadata": {},
   "outputs": [],
   "source": [
    "# 적용 가능한 스타일을 알고 싶을 때는 스타일 리스트 출력\n",
    "plt.style.available"
   ]
  },
  {
   "cell_type": "code",
   "execution_count": null,
   "id": "24bb5ed9-09b3-4560-9054-b92c0891d8de",
   "metadata": {},
   "outputs": [],
   "source": [
    "# 스타일 서식 지정\n",
    "plt.style.use('ggplot') \n",
    "\n",
    "\n",
    "# 그림 사이즈 지정(가로 14인치, 세로 5인치)\n",
    "# 사이즈 지정을 가장 먼저 하지 않으면 그래프가 이상하게 출력됨.\n",
    "plt.figure(figsize=(14, 5))\n",
    "\n",
    "# 판다스 객체를 plot 함수에 입력\n",
    "# 마커 표시 옵션 추가\n",
    "plt.plot( sr_one,\n",
    "          marker='o',  # 마커 종류\n",
    "          markersize=10 )  # 마커 크기 \n",
    "\n",
    "# 차트 제목 추가\n",
    "plt.title('서울 -> 경기 인구 이동')\n",
    "\n",
    "# 축이름 추가\n",
    "plt.xlabel('기간')\n",
    "plt.ylabel('이동 인구수')\n",
    "\n",
    "# x축 눈금 라벨 회전하기\n",
    "plt.xticks( size=10,  # 폰트 크기\n",
    "            rotation='vertical')\n",
    "\n",
    "# 범례 표시. 가장 마지막에 하지 않으면 적용 안됨.\n",
    "plt.legend( labels = ['서울 -> 경기'], loc = 'best') \n",
    "\n",
    "plt.show()  # 변경사항 저장하고 그래프 출력"
   ]
  },
  {
   "cell_type": "markdown",
   "id": "dcff82e5-c0ff-4719-b1ee-b9aae728d042",
   "metadata": {},
   "source": [
    "#### 그래프에 대한 설명(주석) 추가"
   ]
  },
  {
   "cell_type": "code",
   "execution_count": null,
   "id": "ede1b87a-5a12-428c-9f9a-7e05d165153d",
   "metadata": {},
   "outputs": [],
   "source": [
    "# 스타일 서식 지정\n",
    "plt.style.use('ggplot') \n",
    "\n",
    "# 그림 사이즈 지정(가로 14인치, 세로 5인치)\n",
    "# 사이즈 지정을 가장 먼저 하지 않으면 그래프가 이상하게 출력됨.\n",
    "plt.figure(figsize=(14, 5))\n",
    "\n",
    "# 판다스 객체를 plot 함수에 입력\n",
    "# 마커 표시 옵션 추가\n",
    "plt.plot( sr_one,\n",
    "          marker='o',  # 마커 종류\n",
    "          markersize=10 )  # 마커 크기 \n",
    "\n",
    "# 차트 제목 추가\n",
    "plt.title('서울 -> 경기 인구 이동')\n",
    "\n",
    "# 축이름 추가\n",
    "plt.xlabel('기간')\n",
    "plt.ylabel('이동 인구수')\n",
    "\n",
    "# x축 눈금 라벨 회전하기\n",
    "plt.xticks( size=10,  # 폰트 크기\n",
    "            rotation='vertical')\n",
    "\n",
    "# 범례 표시. 가장 마지막에 하지 않으면 적용 안됨.\n",
    "plt.legend( labels = ['서울 -> 경기'], loc = 'best')\n",
    "\n",
    "\n",
    "\n",
    "\n",
    "# y축 범위 지정 (최소값, 최대값)\n",
    "plt.ylim(50000, 800000)\n",
    "\n",
    "# 주석 표시 - 화살표\n",
    "plt.annotate('',\n",
    "             xy=(20, 620000),       #화살표의 머리 부분(끝점)\n",
    "             xytext=(2, 290000),    #화살표의 꼬리 부분(시작점)\n",
    "             xycoords='data',       #좌표체계\n",
    "             arrowprops=dict(arrowstyle='->', color='skyblue', lw=5), #화살표 서식\n",
    "             )\n",
    "\n",
    "plt.annotate('',\n",
    "             xy=(47, 450000),       #화살표의 머리 부분(끝점)\n",
    "             xytext=(30, 580000),   #화살표의 꼬리 부분(시작점)\n",
    "             xycoords='data',       #좌표체계\n",
    "             arrowprops=dict(arrowstyle='->', color='olive', lw=5),  #화살표 서식\n",
    "             )\n",
    "\n",
    "# 주석 표시 - 텍스트\n",
    "plt.annotate('인구이동 증가(1970-1995)',  #텍스트 입력\n",
    "             xy=(10, 550000),            #텍스트 위치 기준점\n",
    "             rotation=25,                #텍스트 회전각도\n",
    "             va='baseline',              #텍스트 상하 정렬\n",
    "             ha='center',                #텍스트 좌우 정렬\n",
    "             fontsize=15,                #텍스트 크기\n",
    "             )\n",
    "\n",
    "plt.annotate('인구이동 감소(1995-2017)',  #텍스트 입력\n",
    "             xy=(40, 560000),            #텍스트 위치 기준점\n",
    "             rotation=-11,               #텍스트 회전각도\n",
    "             va='baseline',              #텍스트 상하 정렬\n",
    "             ha='center',                #텍스트 좌우 정렬\n",
    "             fontsize=15,                #텍스트 크기\n",
    "             )\n",
    "\n",
    "plt.show()  # 변경사항 저장하고 그래프 출력"
   ]
  },
  {
   "cell_type": "markdown",
   "id": "9f5c1e5e-ceb2-4b54-b3d3-eae9f6a21bd7",
   "metadata": {},
   "source": [
    "### axe 객체 활용"
   ]
  },
  {
   "cell_type": "markdown",
   "id": "65184c87-8b6d-468c-9889-f640dd17d663",
   "metadata": {},
   "source": [
    "#### 화면 분할하여 그래프 여러 개 그리기"
   ]
  },
  {
   "cell_type": "code",
   "execution_count": null,
   "id": "a5f1ba19-bb85-46a3-9412-1609f3d8f9d5",
   "metadata": {},
   "outputs": [],
   "source": [
    "# 스타일 서식 지정\n",
    "plt.style.use('ggplot') \n",
    "\n",
    "# 그래프 객체 생성 (figure에 2개의 서브 플롯을 생성)\n",
    "fig = plt.figure( figsize = (10, 10) )   \n",
    "ax1 = fig.add_subplot(2, 1, 1)\n",
    "ax2 = fig.add_subplot(2, 1, 2)\n",
    "\n",
    "# axe 객체에 plot 함수로 그래프 출력\n",
    "ax1.plot( sr_one,\n",
    "          'o',\n",
    "          markersize = 10)\n",
    "\n",
    "ax2.plot( sr_one,\n",
    "          marker = 'o',\n",
    "          markerfacecolor = 'green',\n",
    "          markersize = 10,\n",
    "          color = 'olive',\n",
    "          linewidth = 2,\n",
    "          label = '서울 -> 경기' )\n",
    "\n",
    "ax2.legend( loc = 'best' )\n",
    "\n",
    "#y축 범위 지정 (최소값, 최대값)\n",
    "ax1.set_ylim(50000, 800000)\n",
    "ax2.set_ylim(50000, 800000)\n",
    "\n",
    "# 축 눈금 라벨 지정 및 75도 회전\n",
    "# (에러 메시지의 원인)\n",
    "ax1.set_xticklabels( sr_one.index,\n",
    "                     rotation = 75 )\n",
    "ax2.set_xticklabels( sr_one.index,\n",
    "                     rotation = 75 )\n",
    "\n",
    "plt.show()  # 변경사항 저장하고 그래프 출력"
   ]
  },
  {
   "cell_type": "markdown",
   "id": "1c9526c3-a7b4-4033-94c1-7936d7376938",
   "metadata": {},
   "source": [
    "#### 그래프 꾸미기"
   ]
  },
  {
   "cell_type": "code",
   "execution_count": null,
   "id": "9ecba28a-fd17-4961-b2b1-f110f4ac4373",
   "metadata": {},
   "outputs": [],
   "source": [
    "# 스타일 서식 지정\n",
    "plt.style.use('ggplot') \n",
    "\n",
    "# 그래프 객체 생성 (figure에 1개의 서브 플롯을 생성)\n",
    "fig = plt.figure(figsize=(20, 5))   \n",
    "ax = fig.add_subplot(1, 1, 1)\n",
    "\n",
    "# axe 객체에 plot 함수로 그래프 출력\n",
    "ax.plot( sr_one,\n",
    "         marker='o', markerfacecolor='orange', markersize=10, \n",
    "         color='olive',\n",
    "         linewidth=2,\n",
    "         label='서울 -> 경기' )\n",
    "\n",
    "ax.legend(loc='best')\n",
    "\n",
    "#y축 범위 지정 (최소값, 최대값)\n",
    "ax.set_ylim(50000, 800000)\n",
    "\n",
    "# 차트 제목 추가\n",
    "ax.set_title('서울 -> 경기 인구 이동', size=20)\n",
    "\n",
    "# 축이름 추가\n",
    "ax.set_xlabel('기간', size=12)\n",
    "ax.set_ylabel('이동 인구수', size = 12)\n",
    "\n",
    "# 축 눈금 라벨 지정 및 75도 회전\n",
    "ax.set_xticklabels(sr_one.index, rotation=75)\n",
    "\n",
    "# 축 눈금 라벨 크기\n",
    "ax.tick_params(axis=\"x\", labelsize=10)\n",
    "ax.tick_params(axis=\"y\", labelsize=10)\n",
    "\n",
    "plt.show()  # 변경사항 저장하고 그래프 출력"
   ]
  },
  {
   "cell_type": "raw",
   "id": "65b3230a-2a38-458c-a63f-f65c4d90d5e0",
   "metadata": {},
   "source": [
    "\n",
    "\n",
    "\n",
    "\n",
    "\n",
    "\n"
   ]
  },
  {
   "cell_type": "markdown",
   "id": "0ea470da-acda-4b22-85fa-984918307cea",
   "metadata": {},
   "source": [
    "#### 동일한 axe 객체에 여러 개의 그래프 추가"
   ]
  },
  {
   "cell_type": "code",
   "execution_count": null,
   "id": "5ef05e72-0c33-4ea4-bf37-eae18bcbdee0",
   "metadata": {},
   "outputs": [],
   "source": [
    "# 서울에서 '충청남도','경상북도', '강원도'로 이동한 인구 데이터 값만 선택\n",
    "col_years = list(map(str, range(1970, 2018)))\n",
    "df_3 = df_seoul.loc[['충청남도','경상북도', '강원도'], col_years]\n",
    "\n",
    "# 스타일 서식 지정\n",
    "plt.style.use('ggplot') \n",
    "\n",
    "# 그래프 객체 생성 (figure에 1개의 서브 플롯을 생성)\n",
    "fig = plt.figure(figsize=(20, 5))   \n",
    "ax = fig.add_subplot(1, 1, 1)\n",
    "\n",
    "# axe 객체에 plot 함수로 그래프 출력\n",
    "ax.plot(col_years, df_3.loc['충청남도',:], marker='o', markerfacecolor='green', \n",
    "        markersize=10, color='olive', linewidth=2, label='서울 -> 충남')\n",
    "ax.plot(col_years, df_3.loc['경상북도',:], marker='o', markerfacecolor='blue', \n",
    "        markersize=10, color='skyblue', linewidth=2, label='서울 -> 경북')\n",
    "ax.plot(col_years, df_3.loc['강원도',:], marker='o', markerfacecolor='red', \n",
    "        markersize=10, color='magenta', linewidth=2, label='서울 -> 강원')\n",
    "\n",
    "# 범례 표시\n",
    "ax.legend(loc='best')\n",
    "\n",
    "# 차트 제목 추가\n",
    "ax.set_title('서울 -> 충남, 경북, 강원 인구 이동', size=20)\n",
    "\n",
    "# 축이름 추가\n",
    "ax.set_xlabel('기간', size=12)\n",
    "ax.set_ylabel('이동 인구수', size = 12)\n",
    "\n",
    "# 축 눈금 라벨 지정 및 90도 회전\n",
    "ax.set_xticklabels(col_years, rotation=90)\n",
    "\n",
    "# 축 눈금 라벨 크기\n",
    "ax.tick_params(axis=\"x\", labelsize=10)\n",
    "ax.tick_params(axis=\"y\", labelsize=10)\n",
    "\n",
    "plt.show()  # 변경사항 저장하고 그래프 출력"
   ]
  },
  {
   "cell_type": "markdown",
   "id": "b38e375d-7450-4fb7-a968-f118f7cb6585",
   "metadata": {},
   "source": [
    "#### 여러 개의 axe 객체를 사용하여 그래프 출력"
   ]
  },
  {
   "cell_type": "code",
   "execution_count": null,
   "id": "b06aedc9-8ec2-4f20-bfcc-05d43b028427",
   "metadata": {},
   "outputs": [],
   "source": [
    "# 서울에서 '충청남도','경상북도', '강원도', '전라남도'로 이동한 인구 데이터 값만 선택\n",
    "col_years = list(map(str, range(1970, 2018)))\n",
    "df_4 = df_seoul.loc[['충청남도','경상북도', '강원도', '전라남도'], col_years]\n",
    "\n",
    "# 스타일 서식 지정\n",
    "plt.style.use('ggplot') \n",
    "\n",
    "# 그래프 객체 생성 (figure에 1개의 서브 플롯을 생성)\n",
    "fig = plt.figure(figsize=(20, 10))   \n",
    "ax1 = fig.add_subplot(2, 2, 1)\n",
    "ax2 = fig.add_subplot(2, 2, 2)\n",
    "ax3 = fig.add_subplot(2, 2, 3)\n",
    "ax4 = fig.add_subplot(2, 2, 4)\n",
    "\n",
    "# axe 객체에 plot 함수로 그래프 출력\n",
    "ax1.plot(col_years, df_4.loc['충청남도',:], marker='o', markerfacecolor='green', \n",
    "        markersize=10, color='olive', linewidth=2, label='서울 -> 충남')\n",
    "ax2.plot(col_years, df_4.loc['경상북도',:], marker='o', markerfacecolor='blue', \n",
    "        markersize=10, color='skyblue', linewidth=2, label='서울 -> 경북')\n",
    "ax3.plot(col_years, df_4.loc['강원도',:], marker='o', markerfacecolor='red', \n",
    "        markersize=10, color='magenta', linewidth=2, label='서울 -> 강원')\n",
    "ax4.plot(col_years, df_4.loc['전라남도',:], marker='o', markerfacecolor='orange', \n",
    "        markersize=10, color='yellow', linewidth=2, label='서울 -> 전남')\n",
    "\n",
    "# 범례 표시\n",
    "ax1.legend(loc='best')\n",
    "ax2.legend(loc='best')\n",
    "ax3.legend(loc='best')\n",
    "ax4.legend(loc='best')\n",
    "\n",
    "# 차트 제목 추가\n",
    "ax1.set_title('서울 -> 충남 인구 이동', size=15)\n",
    "ax2.set_title('서울 -> 경북 인구 이동', size=15)\n",
    "ax3.set_title('서울 -> 강원 인구 이동', size=15)\n",
    "ax4.set_title('서울 -> 전남 인구 이동', size=15)\n",
    "\n",
    "# 축 눈금 라벨 지정 및 90도 회전\n",
    "ax1.set_xticklabels(col_years, rotation=90)\n",
    "ax2.set_xticklabels(col_years, rotation=90)\n",
    "ax3.set_xticklabels(col_years, rotation=90)\n",
    "ax4.set_xticklabels(col_years, rotation=90)\n",
    "\n",
    "plt.show()  # 변경사항 저장하고 그래프 출력"
   ]
  },
  {
   "cell_type": "code",
   "execution_count": null,
   "id": "b6209db4-0c1d-46e7-a2a8-8176747dcab8",
   "metadata": {},
   "outputs": [],
   "source": [
    "# 라이브러리 불러오기\n",
    "import matplotlib\n",
    "\n",
    "# 컬러 정보를 담을 빈 딕셔너리 생성\n",
    "colors={}\n",
    "\n",
    "# 컬러 이름과 헥사코드 확인하여 딕셔서리에 입력\n",
    "for name, hex in matplotlib.colors.cnames.items():\n",
    "\tcolors[name] = hex\n",
    "\n",
    "# 딕셔너리 출력    \n",
    "colors"
   ]
  }
 ],
 "metadata": {
  "kernelspec": {
   "display_name": "Python 3",
   "language": "python",
   "name": "python3"
  },
  "language_info": {
   "codemirror_mode": {
    "name": "ipython",
    "version": 3
   },
   "file_extension": ".py",
   "mimetype": "text/x-python",
   "name": "python",
   "nbconvert_exporter": "python",
   "pygments_lexer": "ipython3",
   "version": "3.8.8"
  }
 },
 "nbformat": 4,
 "nbformat_minor": 5
}
