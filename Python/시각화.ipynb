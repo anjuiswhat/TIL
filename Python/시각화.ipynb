{
 "cells": [
  {
   "cell_type": "markdown",
   "id": "4cb0a659-09f0-44e4-a00f-4947dc266de2",
   "metadata": {},
   "source": [
    "# 시각화"
   ]
  },
  {
   "cell_type": "raw",
   "id": "0156005e-1d81-4312-9d8f-4f23a9085b4e",
   "metadata": {},
   "source": [
    "\n"
   ]
  },
  {
   "cell_type": "raw",
   "id": "e7ac2f12-fe3e-481a-a638-786e01fa370e",
   "metadata": {},
   "source": [
    "## - 불러올 패키지 목록"
   ]
  },
  {
   "cell_type": "raw",
   "id": "e26deb91-9fe2-416a-a795-a78161d16542",
   "metadata": {},
   "source": [
    "# 데이터 핸들링을 위한 패키지\n",
    "import numpy as np\n",
    "import pandas as pd\n",
    "\n",
    "# 시각화를 위한 패키지\n",
    "import seaborn as sb\n",
    "import matplotlib.pyplot as plt\n",
    "\n",
    "# %matplotlib inline 의 목적은 plt.show()함수가 호출되지 않은 경우에도 matplotlib 다이어그램을 렌더링하는 것이다.\n",
    "# 그러나 현재 업데이트된 버전의 주피터 노트북 버전에서는 %matplotlib inline 를 사용하지 않더라도 Matplotlib 다이어그램을 개체로 표현한다.\n",
    "# 따라서 굳이 필요하지는 않다. 그러나 코드를 깨끗하게 유지하고 자신이 만든 플롯을 호출하기 위해 여전히 관례적으로 권장된다.\n",
    "%matplotlib inline\n",
    "\n",
    "# 그래프 스타일 서식 지정\n",
    "plt.style.use('default')\n",
    "\n",
    "# 한글 폰트 설정\n",
    "plt.rc('font', family='Malgun Gothic')\n",
    "\n",
    "# 그래프 축의 음수 표현 오류 방지\n",
    "plt.rcParams['axes.unicode_minus'] = False"
   ]
  },
  {
   "cell_type": "raw",
   "id": "dccef689-a052-48d8-819a-0b6fcc952605",
   "metadata": {},
   "source": [
    "\n"
   ]
  },
  {
   "cell_type": "markdown",
   "id": "0588c421-931f-4622-b431-965909646b5e",
   "metadata": {},
   "source": [
    "## 선 그래프"
   ]
  },
  {
   "cell_type": "raw",
   "id": "af8a3d96-c2ad-44ef-87da-687f4e6c8bbb",
   "metadata": {},
   "source": []
  },
  {
   "cell_type": "markdown",
   "id": "e2d0dad2-8f59-41d5-b13f-1260e37d8dd2",
   "metadata": {},
   "source": [
    "### Pandas: `plot()`"
   ]
  },
  {
   "cell_type": "code",
   "execution_count": null,
   "id": "6eec2d85-3b9a-4020-b449-d60a72dc3b0c",
   "metadata": {},
   "outputs": [],
   "source": [
    "import pandas as pd\n",
    "\n",
    "df = pd.read_excel('C:\\\\Users\\\\Administrator\\\\GitHub\\\\TIL\\\\Python\\\\source_판다스 데이터 분석\\\\part3\\\\남북한발전전력량.xlsx', engine='openpyxl')  # 데이터프레임 변환 \n",
    "\n",
    "df_ns = df.iloc[[0, 5], 3:]            # 남한, 북한 발전량 합계 데이터만 추출\n",
    "df_ns.index = ['South','North']        # 행 인덱스 변경\n",
    "df_ns.columns = df_ns.columns.map(int) # 열 이름의 자료형을 정수형으로 변경\n",
    "\n",
    "df_ns.head()"
   ]
  },
  {
   "cell_type": "code",
   "execution_count": null,
   "id": "bff2ac05-03ac-4c03-b1d3-b8415b6f3bf9",
   "metadata": {},
   "outputs": [],
   "source": [
    "# 연도별 변화를 확인하기 위해 연도를 x 축으로 표현하는 것이 좋음.\n",
    "# 행, 열 전치 수행\n",
    "\n",
    "tdf_ns = df_ns.T\n",
    "tdf_ns.head()"
   ]
  },
  {
   "cell_type": "code",
   "execution_count": null,
   "id": "d191e8aa-c78c-4422-b2a7-2243ba40224c",
   "metadata": {
    "tags": []
   },
   "outputs": [],
   "source": [
    "# 선 그래프 그리기\n",
    "\n",
    "tdf_ns.plot()"
   ]
  },
  {
   "cell_type": "raw",
   "id": "2403374b-7c4c-455d-97d2-5cdbb8d35b1e",
   "metadata": {},
   "source": []
  },
  {
   "cell_type": "raw",
   "id": "2f0ffdf4-e1b0-4a14-96d1-ba21d78eefe6",
   "metadata": {},
   "source": []
  },
  {
   "cell_type": "raw",
   "id": "b16ddfc3-60d1-48ba-af42-8f845f2190ac",
   "metadata": {},
   "source": []
  },
  {
   "cell_type": "raw",
   "id": "5b233476-3bc6-4c0b-97cc-22e21f7f4200",
   "metadata": {},
   "source": []
  },
  {
   "cell_type": "raw",
   "id": "09837041-9c3c-4db3-b00d-67d00193e62b",
   "metadata": {},
   "source": []
  },
  {
   "cell_type": "markdown",
   "id": "95a5be49-cc86-4136-a6d7-0cd6469b303f",
   "metadata": {},
   "source": [
    "### matplotlib: `plot()`"
   ]
  },
  {
   "cell_type": "code",
   "execution_count": null,
   "id": "8dd0f7ab-747e-4b01-ace9-5d1460a941ca",
   "metadata": {
    "tags": []
   },
   "outputs": [],
   "source": [
    "# 라이브러리 불러오기\n",
    "import pandas as pd\n",
    "import matplotlib.pyplot as plt\n",
    "\n",
    "# Excel 데이터를 데이터프레임 변환 \n",
    "df = pd.read_excel( 'C:\\\\Users\\\\Administrator\\\\GitHub\\\\TIL\\\\Python\\\\source_판다스 데이터 분석\\\\part4\\\\시도별 전출입 인구수.xlsx',\n",
    "                    engine='openpyxl',\n",
    "                    header=0 )\n",
    "\n",
    "# 누락값(NaN)을 앞 데이터로 채움 (엑셀 양식 병합 부분)\n",
    "df = df.fillna(method='ffill')\n",
    "\n",
    "# 서울에서 다른 지역으로 이동한 데이터만 추출하여 정리\n",
    "mask = (df['전출지별'] == '서울특별시') & (df['전입지별'] != '서울특별시') \n",
    "\n",
    "df[mask]"
   ]
  },
  {
   "cell_type": "code",
   "execution_count": null,
   "id": "e90a15d2-5dc6-4696-83a1-c993636186b2",
   "metadata": {},
   "outputs": [],
   "source": [
    "df_seoul = df[mask]\n",
    "df_seoul = df_seoul.drop(['전출지별'], axis=1)\n",
    "df_seoul.rename({'전입지별':'전입지'}, axis=1, inplace=True)\n",
    "df_seoul.set_index('전입지', inplace=True)\n",
    "\n",
    "# 서울에서 경기도로 이동한 인구 데이터 값만 선택 \n",
    "sr_one = df_seoul.loc['경기도']"
   ]
  },
  {
   "cell_type": "markdown",
   "id": "2e131bc3-e0a1-4a30-9ef8-7f92e7677670",
   "metadata": {},
   "source": [
    "#### x, y축 데이터를 `plot()` 함수에 입력"
   ]
  },
  {
   "cell_type": "code",
   "execution_count": null,
   "id": "b0568270-547b-4abb-8ed1-1387d0827c7f",
   "metadata": {
    "tags": []
   },
   "outputs": [],
   "source": [
    "# x, y축 데이터를 plot 함수에 입력\n",
    "plt.plot(sr_one.index, sr_one.values)"
   ]
  },
  {
   "cell_type": "markdown",
   "id": "523d193b-7a16-4479-b3ad-ca384a165473",
   "metadata": {},
   "source": [
    "#### 판다스 객체를 `plot()` 함수에 입력"
   ]
  },
  {
   "cell_type": "code",
   "execution_count": null,
   "id": "efa41639-b938-4fcd-9697-758cfcff9f66",
   "metadata": {
    "tags": []
   },
   "outputs": [],
   "source": [
    "# 판다스 객체를 plot 함수에 입력\n",
    "plt.plot(sr_one)"
   ]
  },
  {
   "cell_type": "code",
   "execution_count": null,
   "id": "0fab10ce-3b0f-4f52-815c-a40777b17032",
   "metadata": {},
   "outputs": [],
   "source": [
    "# 한글 폰트 설정\n",
    "plt.rc('font', family='Malgun Gothic')"
   ]
  },
  {
   "cell_type": "code",
   "execution_count": null,
   "id": "b286c6d4-1f92-4f00-8cc4-8c2b771e074a",
   "metadata": {},
   "outputs": [],
   "source": [
    "plt.plot(sr_one)\n",
    "\n",
    "# 차트 제목 추가\n",
    "plt.title('서울 -> 경기 인구 이동')\n",
    "\n",
    "# 축이름 추가\n",
    "plt.xlabel('기간')\n",
    "plt.ylabel('이동 인구수')\n",
    "\n",
    "plt.show()  # 변경사항 저장하고 그래프 출력"
   ]
  },
  {
   "cell_type": "code",
   "execution_count": null,
   "id": "da584399-a1ae-4eac-b7ea-f1ef0af0753e",
   "metadata": {},
   "outputs": [],
   "source": [
    "# 라이브러리 불러오기\n",
    "import pandas as pd\n",
    "import matplotlib.pyplot as plt\n",
    "\n",
    "# 한글 폰트 설정\n",
    "plt.rc('font', family='Malgun Gothic')\n",
    "\n",
    "# Excel 데이터를 데이터프레임 변환 \n",
    "df = pd.read_excel( 'C:\\\\Users\\\\Administrator\\\\GitHub\\\\TIL\\\\Python\\\\source_판다스 데이터 분석\\\\part4\\\\시도별 전출입 인구수.xlsx',\n",
    "                    engine='openpyxl',\n",
    "                    header=0 )\n",
    "\n",
    "# 전출지별에서 누락값(NaN)을 앞 데이터로 채움 (엑셀 양식 병합 부분)\n",
    "df = df.fillna(method='ffill')\n",
    "\n",
    "# 서울에서 다른 지역으로 이동한 데이터만 추출하여 정리\n",
    "mask = (df['전출지별'] == '서울특별시') & (df['전입지별'] != '서울특별시') \n",
    "df_seoul = df[mask]\n",
    "df_seoul = df_seoul.drop(['전출지별'], axis=1)\n",
    "df_seoul.rename({'전입지별':'전입지'}, axis=1, inplace=True)\n",
    "df_seoul.set_index('전입지', inplace=True)\n",
    "\n",
    "# 서울에서 경기도로 이동한 인구 데이터 값만 선택\n",
    "sr_one = df_seoul.loc['경기도']\n",
    "\n",
    "# 그림 사이즈 지정(가로 14인치, 세로 5인치)\n",
    "plt.figure(figsize=(14, 5))\n",
    "\n",
    "# x축 눈금 라벨 회전하기\n",
    "plt.xticks(rotation='vertical')\n",
    "\n",
    "# x, y축 데이터를 plot 함수에 입력 \n",
    "plt.plot(sr_one.index, sr_one.values)\n",
    "\n",
    "plt.title('서울 -> 경기 인구 이동')  #차트 제목\n",
    "plt.xlabel('기간')                  #x축 이름\n",
    "plt.ylabel('이동 인구수')           #y축 이름\n",
    "\n",
    "plt.legend(labels=['서울 -> 경기'], loc='best')     #범례 표시\n",
    "\n",
    "plt.show()  # 변경사항 저장하고 그래프 출력"
   ]
  },
  {
   "cell_type": "raw",
   "id": "47be0292-125a-4317-a268-0e4fbce0ace0",
   "metadata": {},
   "source": []
  },
  {
   "cell_type": "raw",
   "id": "833cf1e6-cf46-469e-9fbd-b816d7273a56",
   "metadata": {},
   "source": []
  },
  {
   "cell_type": "raw",
   "id": "3df7b993-e6dc-452a-8ab7-898347d3eb86",
   "metadata": {},
   "source": []
  },
  {
   "cell_type": "raw",
   "id": "2c499d4f-ea01-4234-94ca-e26e634e86c8",
   "metadata": {},
   "source": []
  },
  {
   "cell_type": "raw",
   "id": "c4ed469e-e496-4c11-b8aa-f397a5d94736",
   "metadata": {},
   "source": []
  },
  {
   "cell_type": "markdown",
   "id": "e4568d21-f387-4f49-97f8-91ae9ff84c43",
   "metadata": {},
   "source": [
    "## 산점도"
   ]
  },
  {
   "cell_type": "raw",
   "id": "3645bae1-038f-4e18-8182-0f146cc36abb",
   "metadata": {},
   "source": []
  },
  {
   "cell_type": "markdown",
   "id": "1daf2cf2-e7ca-4088-88f1-7fad5eb48fbf",
   "metadata": {},
   "source": [
    "### Seaborn"
   ]
  },
  {
   "cell_type": "markdown",
   "id": "c9f07677-f8a5-47f3-8f9f-0e20e3ad0cf4",
   "metadata": {},
   "source": [
    "#### 회귀선이 있는 산점도: `regplot()`"
   ]
  },
  {
   "cell_type": "code",
   "execution_count": 12,
   "id": "e1b12f37-78fe-45c1-a7f2-71b2cc2f3088",
   "metadata": {
    "tags": []
   },
   "outputs": [
    {
     "data": {
      "image/png": "[encoded data removed]",
      "text/plain": [
       "<Figure size 1080x360 with 2 Axes>"
      ]
     },
     "metadata": {},
     "output_type": "display_data"
    }
   ],
   "source": [
    "# 라이브러리 불러오기\n",
    "import matplotlib.pyplot as plt\n",
    "import seaborn as sb\n",
    "%matplotlib inline\n",
    " \n",
    "# Seaborn 제공 데이터셋 가져오기\n",
    "titanic = sb.load_dataset('titanic')\n",
    " \n",
    "# 스타일 테마 설정 (5가지: darkgrid, whitegrid, dark, white, ticks)\n",
    "sb.set_style('darkgrid')\n",
    "\n"
   ]
  },
  {
   "cell_type": "code",
   "execution_count": 14,
   "id": "7d2b9f42-5759-48b3-9248-8713a0b574d5",
   "metadata": {},
   "outputs": [
    {
     "data": {
      "image/png": "[encoded data removed]",
      "text/plain": [
       "<Figure size 1080x360 with 2 Axes>"
      ]
     },
     "metadata": {},
     "output_type": "display_data"
    }
   ],
   "source": [
    "# 그래프 객체 생성 (figure에 2개의 서브 플롯을 생성)\n",
    "fig = plt.figure( figsize=(15, 5) )   \n",
    "ax1 = fig.add_subplot(1, 2, 1)\n",
    "ax2 = fig.add_subplot(1, 2, 2)\n",
    "\n",
    "# 그래프 그리기 - 선형회귀선 표시(fit_reg=True)\n",
    "sb.regplot( x='age',        #x축 변수\n",
    "            y='fare',       #y축 변수\n",
    "            data=titanic,   #데이터\n",
    "            ax=ax1)         #axe 객체 - 1번째 그래프\n",
    "\n",
    "# 그래프 그리기 - 선형회귀선 미표시(fit_reg=False)\n",
    "sb.regplot( x='age',        #x축 변수\n",
    "            y='fare',       #y축 변수\n",
    "            data=titanic,   #데이터\n",
    "            ax=ax2,         #axe 객체 - 2번째 그래프        \n",
    "            fit_reg=False)  #회귀선 미표시\n",
    "\n",
    "plt.show()"
   ]
  },
  {
   "cell_type": "code",
   "execution_count": null,
   "id": "ff3a382e-c9fc-45c0-8bac-0b931ed2737e",
   "metadata": {},
   "outputs": [],
   "source": []
  },
  {
   "cell_type": "raw",
   "id": "e2e504b0-f69f-4891-a5d8-0ebecd4ec76c",
   "metadata": {},
   "source": []
  },
  {
   "cell_type": "raw",
   "id": "7ceecbb7-24dc-4102-99f0-110fad198bc3",
   "metadata": {},
   "source": []
  },
  {
   "cell_type": "markdown",
   "id": "c91917a6-30bd-443d-ac05-713700d50c41",
   "metadata": {},
   "source": [
    "#### 범주형 데이터의 산점도: `displot()`, `kdeplot()`, `hisplot()`"
   ]
  },
  {
   "cell_type": "code",
   "execution_count": null,
   "id": "75f6cd84-f77b-4566-a32f-d1989cb27f4d",
   "metadata": {
    "tags": []
   },
   "outputs": [],
   "source": [
    "# 라이브러리 불러오기\n",
    "import matplotlib.pyplot as plt\n",
    "import seaborn as sns\n",
    " \n",
    "# Seaborn 제공 데이터셋 가져오기\n",
    "titanic = sns.load_dataset('titanic')\n",
    " \n",
    "# 스타일 테마 설정 (5가지: darkgrid, whitegrid, dark, white, ticks)\n",
    "sns.set_style('darkgrid')\n",
    "\n",
    "facet =  sns.FacetGrid(titanic, col = 'sex')\n",
    "facet = facet.map(plt.hist)\n"
   ]
  },
  {
   "cell_type": "code",
   "execution_count": null,
   "id": "7d4de561-b911-4bb6-9354-5119474607db",
   "metadata": {
    "tags": []
   },
   "outputs": [],
   "source": [
    "# 라이브러리 불러오기\n",
    "import matplotlib.pyplot as plt\n",
    "import seaborn as sns\n",
    " \n",
    "# Seaborn 제공 데이터셋 가져오기\n",
    "titanic = sns.load_dataset('titanic')\n",
    " \n",
    "# 스타일 테마 설정 (5가지: darkgrid, whitegrid, dark, white, ticks)\n",
    "sns.set_style('darkgrid')\n",
    "\n",
    "# 그래프 객체 생성 (figure에 3개의 서브 플롯을 생성)\n",
    "fig = plt.figure(figsize=(15, 5))   \n",
    "\n",
    " \n",
    "# distplot\n",
    "dist = sns.distplot(titanic['fare'])\n",
    "\n",
    "# displot\n",
    "dis = sns.displot(titanic['fare'], kde = True) \n",
    "\n",
    "# kdeplot\n",
    "kde = sns.kdeplot(x='fare', data=titanic) \n",
    "\n",
    "# histplot\n",
    "hist = sns.histplot(x='fare', data=titanic, kde = True)        \n",
    "\n",
    "# 차트 제목 표시\n",
    "dis.set_title('titanic fare - distplot')\n",
    "kde.set_title('titanic fare - kedplot')\n",
    "hist.set_title('titanic fare - histplot')\n",
    "\n",
    "plt.show()"
   ]
  },
  {
   "cell_type": "code",
   "execution_count": null,
   "id": "4e00a813-18b8-46cb-8088-5e3fe5f0f56d",
   "metadata": {
    "tags": []
   },
   "outputs": [],
   "source": [
    "sns.distplot(titanic['fare'], kde = True) "
   ]
  },
  {
   "cell_type": "code",
   "execution_count": null,
   "id": "716db8a9-6bf1-461c-81f2-687c7a3cdefa",
   "metadata": {},
   "outputs": [],
   "source": []
  },
  {
   "cell_type": "code",
   "execution_count": null,
   "id": "1e7dc8cb-2989-4a21-aefc-c258e8df10c8",
   "metadata": {},
   "outputs": [],
   "source": []
  },
  {
   "cell_type": "code",
   "execution_count": null,
   "id": "b88a9dc9-7b5d-4901-88da-ff4ba13e1653",
   "metadata": {},
   "outputs": [],
   "source": []
  },
  {
   "cell_type": "code",
   "execution_count": null,
   "id": "5d9ac168-3372-49ec-9cfc-12f44ec554e8",
   "metadata": {},
   "outputs": [],
   "source": []
  },
  {
   "cell_type": "code",
   "execution_count": null,
   "id": "f466e6e4-8dce-424f-8b8b-26f2910068b2",
   "metadata": {},
   "outputs": [],
   "source": []
  },
  {
   "cell_type": "code",
   "execution_count": null,
   "id": "dfdc4b46-3adf-46f6-ae33-af6dfc9b021c",
   "metadata": {},
   "outputs": [],
   "source": []
  },
  {
   "cell_type": "code",
   "execution_count": null,
   "id": "125086d8-6a34-4848-aa4f-d724d01bd92d",
   "metadata": {},
   "outputs": [],
   "source": []
  },
  {
   "cell_type": "raw",
   "id": "1589256c-a5b2-4e7b-ad45-9c896d395040",
   "metadata": {},
   "source": [
    "\n"
   ]
  },
  {
   "cell_type": "markdown",
   "id": "8cbd64b5-11de-4f4b-a0c2-a4b8ac2bea36",
   "metadata": {},
   "source": [
    "## 히스토그램"
   ]
  },
  {
   "cell_type": "markdown",
   "id": "fbd7ec48-126d-45d5-9d9a-195a752c0b1f",
   "metadata": {},
   "source": [
    "### `.plot(kind='hist')`"
   ]
  },
  {
   "cell_type": "code",
   "execution_count": 16,
   "id": "bbb8d674-0a51-42b4-828a-dfeac106baf6",
   "metadata": {},
   "outputs": [],
   "source": [
    "df_iris = pd.read_csv( 'C:\\\\Users\\\\Administrator\\\\GitHub\\\\TIL\\\\ADP_study\\\\rawdata\\\\iris.csv',\n",
    "                         index_col = 'Unnamed: 0' )"
   ]
  },
  {
   "cell_type": "code",
   "execution_count": 25,
   "id": "1badf385-6a18-4d63-a817-16ce82ede137",
   "metadata": {},
   "outputs": [
    {
     "data": {
      "image/png": "[encoded data removed]",
      "text/plain": [
       "<Figure size 640x480 with 1 Axes>"
      ]
     },
     "metadata": {},
     "output_type": "display_data"
    }
   ],
   "source": [
    "df_iris['Petal.Length'].plot( kind = 'hist' )\n",
    "\n",
    "plt.title('Histogram')\n",
    "plt.xlabel('Petal.Length')\n",
    "plt.show()"
   ]
  },
  {
   "cell_type": "code",
   "execution_count": 26,
   "id": "ea82c22e-df50-4c21-805c-2a372c544e49",
   "metadata": {},
   "outputs": [
    {
     "data": {
      "image/png": "[encoded data removed]",
      "text/plain": [
       "<Figure size 640x480 with 1 Axes>"
      ]
     },
     "metadata": {},
     "output_type": "display_data"
    }
   ],
   "source": [
    "df_iris['Petal.Length'].plot( kind = 'hist',\n",
    "                              bins = 5 )  # 구간의 개수 지정\n",
    "\n",
    "plt.title('Histogram')\n",
    "plt.xlabel('Petal.Length')\n",
    "plt.show()"
   ]
  },
  {
   "cell_type": "code",
   "execution_count": 24,
   "id": "c18d0e6f-a873-4848-913f-65cb939e651b",
   "metadata": {},
   "outputs": [
    {
     "ename": "TypeError",
     "evalue": "_set_ticklabels() missing 1 required positional argument: 'labels'",
     "output_type": "error",
     "traceback": [
      "\u001b[1;31m---------------------------------------------------------------------------\u001b[0m",
      "\u001b[1;31mTypeError\u001b[0m                                 Traceback (most recent call last)",
      "\u001b[1;32m<ipython-input-24-dbc4177f5473>\u001b[0m in \u001b[0;36m<module>\u001b[1;34m\u001b[0m\n\u001b[0;32m     12\u001b[0m \u001b[0max1\u001b[0m\u001b[1;33m.\u001b[0m\u001b[0mset_title\u001b[0m\u001b[1;33m(\u001b[0m \u001b[1;34m'Histogram'\u001b[0m\u001b[1;33m,\u001b[0m \u001b[0msize\u001b[0m \u001b[1;33m=\u001b[0m \u001b[1;36m20\u001b[0m \u001b[1;33m)\u001b[0m\u001b[1;33m\u001b[0m\u001b[1;33m\u001b[0m\u001b[0m\n\u001b[0;32m     13\u001b[0m \u001b[0max1\u001b[0m\u001b[1;33m.\u001b[0m\u001b[0mset_xlabel\u001b[0m\u001b[1;33m(\u001b[0m \u001b[1;34m'Petal Length'\u001b[0m\u001b[1;33m,\u001b[0m \u001b[0msize\u001b[0m\u001b[1;33m=\u001b[0m\u001b[1;36m20\u001b[0m \u001b[1;33m)\u001b[0m\u001b[1;33m\u001b[0m\u001b[1;33m\u001b[0m\u001b[0m\n\u001b[1;32m---> 14\u001b[1;33m \u001b[0max1\u001b[0m\u001b[1;33m.\u001b[0m\u001b[0mset_yticklabels\u001b[0m\u001b[1;33m(\u001b[0m \u001b[0mfontsize\u001b[0m\u001b[1;33m=\u001b[0m\u001b[1;36m15\u001b[0m \u001b[1;33m)\u001b[0m\u001b[1;33m\u001b[0m\u001b[1;33m\u001b[0m\u001b[0m\n\u001b[0m\u001b[0;32m     15\u001b[0m \u001b[1;33m\u001b[0m\u001b[0m\n\u001b[0;32m     16\u001b[0m \u001b[1;33m\u001b[0m\u001b[0m\n",
      "\u001b[1;32mC:\\Anaconda3\\lib\\site-packages\\matplotlib\\axes\\_base.py\u001b[0m in \u001b[0;36mwrapper\u001b[1;34m(self, *args, **kwargs)\u001b[0m\n\u001b[0;32m     61\u001b[0m \u001b[1;33m\u001b[0m\u001b[0m\n\u001b[0;32m     62\u001b[0m         \u001b[1;32mdef\u001b[0m \u001b[0mwrapper\u001b[0m\u001b[1;33m(\u001b[0m\u001b[0mself\u001b[0m\u001b[1;33m,\u001b[0m \u001b[1;33m*\u001b[0m\u001b[0margs\u001b[0m\u001b[1;33m,\u001b[0m \u001b[1;33m**\u001b[0m\u001b[0mkwargs\u001b[0m\u001b[1;33m)\u001b[0m\u001b[1;33m:\u001b[0m\u001b[1;33m\u001b[0m\u001b[1;33m\u001b[0m\u001b[0m\n\u001b[1;32m---> 63\u001b[1;33m             \u001b[1;32mreturn\u001b[0m \u001b[0mget_method\u001b[0m\u001b[1;33m(\u001b[0m\u001b[0mself\u001b[0m\u001b[1;33m)\u001b[0m\u001b[1;33m(\u001b[0m\u001b[1;33m*\u001b[0m\u001b[0margs\u001b[0m\u001b[1;33m,\u001b[0m \u001b[1;33m**\u001b[0m\u001b[0mkwargs\u001b[0m\u001b[1;33m)\u001b[0m\u001b[1;33m\u001b[0m\u001b[1;33m\u001b[0m\u001b[0m\n\u001b[0m\u001b[0;32m     64\u001b[0m \u001b[1;33m\u001b[0m\u001b[0m\n\u001b[0;32m     65\u001b[0m         \u001b[0mwrapper\u001b[0m\u001b[1;33m.\u001b[0m\u001b[0m__module__\u001b[0m \u001b[1;33m=\u001b[0m \u001b[0mowner\u001b[0m\u001b[1;33m.\u001b[0m\u001b[0m__module__\u001b[0m\u001b[1;33m\u001b[0m\u001b[1;33m\u001b[0m\u001b[0m\n",
      "\u001b[1;32mC:\\Anaconda3\\lib\\site-packages\\matplotlib\\cbook\\deprecation.py\u001b[0m in \u001b[0;36mwrapper\u001b[1;34m(*args, **kwargs)\u001b[0m\n\u001b[0;32m    449\u001b[0m                 \u001b[1;34m\"parameter will become keyword-only %(removal)s.\"\u001b[0m\u001b[1;33m,\u001b[0m\u001b[1;33m\u001b[0m\u001b[1;33m\u001b[0m\u001b[0m\n\u001b[0;32m    450\u001b[0m                 name=name, obj_type=f\"parameter of {func.__name__}()\")\n\u001b[1;32m--> 451\u001b[1;33m         \u001b[1;32mreturn\u001b[0m \u001b[0mfunc\u001b[0m\u001b[1;33m(\u001b[0m\u001b[1;33m*\u001b[0m\u001b[0margs\u001b[0m\u001b[1;33m,\u001b[0m \u001b[1;33m**\u001b[0m\u001b[0mkwargs\u001b[0m\u001b[1;33m)\u001b[0m\u001b[1;33m\u001b[0m\u001b[1;33m\u001b[0m\u001b[0m\n\u001b[0m\u001b[0;32m    452\u001b[0m \u001b[1;33m\u001b[0m\u001b[0m\n\u001b[0;32m    453\u001b[0m     \u001b[1;32mreturn\u001b[0m \u001b[0mwrapper\u001b[0m\u001b[1;33m\u001b[0m\u001b[1;33m\u001b[0m\u001b[0m\n",
      "\u001b[1;31mTypeError\u001b[0m: _set_ticklabels() missing 1 required positional argument: 'labels'"
     ]
    },
    {
     "data": {
      "image/png": "[encoded data removed]",
      "text/plain": [
       "<Figure size 2500x1000 with 2 Axes>"
      ]
     },
     "metadata": {},
     "output_type": "display_data"
    }
   ],
   "source": [
    "fig = plt.figure( figsize = (25, 10) )\n",
    "ax1 = fig.add_subplot(1, 2, 1)\n",
    "ax2 = fig.add_subplot(1, 2, 2)\n",
    "\n",
    "df_iris['Petal.Length'].plot( kind = 'hist',\n",
    "                              ax = ax1 )\n",
    "\n",
    "df_iris['Petal.Length'].plot( kind = 'hist',\n",
    "                              bins = 5,\n",
    "                              ax = ax2 )  # 구간의 개수 지정\n",
    "\n",
    "ax1.set_title( 'Histogram', size = 20 )\n",
    "ax1.set_xlabel( 'Petal Length', size=20 )\n",
    "ax1.set_yticklabels( fontsize=15 )\n",
    "\n",
    "\n",
    "\n",
    "plt.show()"
   ]
  },
  {
   "cell_type": "markdown",
   "id": "293d3570-20b0-47e9-b5d6-cb733a7fc945",
   "metadata": {},
   "source": [
    "### `seaborn.histplot()`"
   ]
  },
  {
   "cell_type": "code",
   "execution_count": null,
   "id": "dcf3f763-803d-4b43-9539-9a47e39d848d",
   "metadata": {},
   "outputs": [],
   "source": []
  },
  {
   "cell_type": "code",
   "execution_count": null,
   "id": "a654c972-5ef6-4cc3-aaf0-626355ee7113",
   "metadata": {},
   "outputs": [],
   "source": []
  },
  {
   "cell_type": "code",
   "execution_count": null,
   "id": "8eaa0cbd-7392-4cb7-b799-9e299a4933a0",
   "metadata": {},
   "outputs": [],
   "source": []
  },
  {
   "cell_type": "code",
   "execution_count": null,
   "id": "dec89c16-2dc2-4f9d-97c8-6ad1167447b8",
   "metadata": {},
   "outputs": [],
   "source": []
  },
  {
   "cell_type": "code",
   "execution_count": null,
   "id": "c146a8fb-553d-4633-96c2-f36e40491c6d",
   "metadata": {},
   "outputs": [],
   "source": []
  },
  {
   "cell_type": "code",
   "execution_count": null,
   "id": "a4866e90-f521-44ed-84ea-874fe8042ad2",
   "metadata": {},
   "outputs": [],
   "source": []
  },
  {
   "cell_type": "code",
   "execution_count": null,
   "id": "f359b5e7-6b9a-49ef-aea5-44bfafffeea4",
   "metadata": {},
   "outputs": [],
   "source": []
  },
  {
   "cell_type": "code",
   "execution_count": null,
   "id": "1ea932a8-2ed6-4a9b-879b-69fa53d09f7c",
   "metadata": {},
   "outputs": [],
   "source": []
  },
  {
   "cell_type": "code",
   "execution_count": null,
   "id": "38d13e43-2e21-40a7-804f-e9f279c29802",
   "metadata": {},
   "outputs": [],
   "source": []
  },
  {
   "cell_type": "code",
   "execution_count": null,
   "id": "4f32eb2a-fe45-4ee9-a228-06f2538f6e0b",
   "metadata": {},
   "outputs": [],
   "source": []
  },
  {
   "cell_type": "code",
   "execution_count": null,
   "id": "9f138dbd-a26b-44b1-830a-0e7203ebaef1",
   "metadata": {},
   "outputs": [],
   "source": []
  },
  {
   "cell_type": "code",
   "execution_count": null,
   "id": "ae240079-f0e4-4999-a4ba-9f3db5eed29d",
   "metadata": {},
   "outputs": [],
   "source": []
  },
  {
   "cell_type": "code",
   "execution_count": null,
   "id": "771d54e5-c75e-4586-bf40-e5b00b6bbdd9",
   "metadata": {},
   "outputs": [],
   "source": []
  },
  {
   "cell_type": "code",
   "execution_count": null,
   "id": "a441d9a2-3e3e-4b63-b168-bdb7721d47cf",
   "metadata": {},
   "outputs": [],
   "source": []
  },
  {
   "cell_type": "markdown",
   "id": "55c06e50-b3e3-4cce-b344-c87767f2663c",
   "metadata": {},
   "source": [
    "## 막대 그래프"
   ]
  },
  {
   "cell_type": "markdown",
   "id": "2d1779e9-8dc0-4f26-9d78-a9b7e9530feb",
   "metadata": {},
   "source": [
    "### Pandas: `plot( kind = 'bar' )`"
   ]
  },
  {
   "cell_type": "code",
   "execution_count": null,
   "id": "175a051d-b4bc-4fec-a5c1-7fdcbefaae1f",
   "metadata": {},
   "outputs": [],
   "source": [
    "import pandas as pd\n",
    "\n",
    "df = pd.read_excel('C:\\\\Users\\\\Administrator\\\\GitHub\\\\TIL\\\\Python\\\\source_판다스 데이터 분석\\\\part3\\\\남북한발전전력량.xlsx', engine='openpyxl')  # 데이터프레임 변환 \n",
    "\n",
    "df_ns = df.iloc[[0, 5], 3:]            # 남한, 북한 발전량 합계 데이터만 추출\n",
    "df_ns.index = ['South','North']        # 행 인덱스 변경\n",
    "df_ns.columns = df_ns.columns.map(int) # 열 이름의 자료형을 정수형으로 변경\n",
    "\n",
    "# 연도별 변화를 확인하기 위해 연도를 x 축으로 표현하는 것이 좋음.\n",
    "# 행, 열 전치 수행\n",
    "tdf_ns = df_ns.T\n",
    "\n",
    "display( tdf_ns.head() )"
   ]
  },
  {
   "cell_type": "code",
   "execution_count": null,
   "id": "608d7179-c650-47ae-868b-d601921c53eb",
   "metadata": {},
   "outputs": [],
   "source": [
    "# 막대 그래프 그리기\n",
    "\n",
    "tdf_ns.plot(kind='bar')"
   ]
  },
  {
   "cell_type": "raw",
   "id": "93cce526-98d6-4bb8-ae77-1fb472ba8fa0",
   "metadata": {},
   "source": []
  },
  {
   "cell_type": "raw",
   "id": "eab21cd3-541d-4efa-b8a8-f57d8f506e97",
   "metadata": {},
   "source": []
  },
  {
   "cell_type": "raw",
   "id": "715f8bde-7e27-41d4-9ae8-123085a673e3",
   "metadata": {},
   "source": []
  },
  {
   "cell_type": "raw",
   "id": "d07d6802-73fc-4e1a-b7b2-410cb4f1d253",
   "metadata": {},
   "source": []
  },
  {
   "cell_type": "markdown",
   "id": "07aef8b8-b45f-4016-9582-70f2ab00a67d",
   "metadata": {},
   "source": [
    "## 박스플롯"
   ]
  },
  {
   "cell_type": "raw",
   "id": "99192e19-bac4-4c3e-8df3-b0311081b056",
   "metadata": {},
   "source": []
  },
  {
   "cell_type": "raw",
   "id": "2eff9267-ec9e-4fcf-a296-439c71fcfae7",
   "metadata": {},
   "source": []
  },
  {
   "cell_type": "raw",
   "id": "33318ddb-49f6-467d-9b92-6e661a96fbba",
   "metadata": {},
   "source": []
  },
  {
   "cell_type": "raw",
   "id": "fb2620da-7bb6-401b-be4b-e44eff077eb6",
   "metadata": {},
   "source": []
  },
  {
   "cell_type": "markdown",
   "id": "d782d2b1-40cd-4708-9148-7b7f70e663db",
   "metadata": {},
   "source": [
    "## 면적 그래프"
   ]
  },
  {
   "cell_type": "raw",
   "id": "07ac87aa-8362-4326-be94-e62ad1d2d460",
   "metadata": {},
   "source": []
  },
  {
   "cell_type": "raw",
   "id": "0cac0907-251d-4441-88f9-6c05044e8e3c",
   "metadata": {},
   "source": []
  },
  {
   "cell_type": "raw",
   "id": "c8984cbc-198c-433e-a2fe-c51cae46c971",
   "metadata": {},
   "source": []
  },
  {
   "cell_type": "raw",
   "id": "17d571fa-bc51-41ba-9a27-f5a9d577edc0",
   "metadata": {},
   "source": []
  },
  {
   "cell_type": "markdown",
   "id": "ce965505-6000-4fd4-8f40-de6b0f0d5898",
   "metadata": {},
   "source": [
    "## 파이차트"
   ]
  },
  {
   "cell_type": "raw",
   "id": "1bda56b1-a672-4144-8cf2-7448be20289a",
   "metadata": {},
   "source": []
  },
  {
   "cell_type": "raw",
   "id": "b58e50d9-f1ca-49d4-8698-1f800ced877a",
   "metadata": {},
   "source": []
  },
  {
   "cell_type": "raw",
   "id": "881898f7-9939-4dae-a691-3ece1fe9533e",
   "metadata": {},
   "source": []
  },
  {
   "cell_type": "raw",
   "id": "a0b1f9a9-0144-4cbe-aacf-853a9a09fdc3",
   "metadata": {},
   "source": []
  },
  {
   "cell_type": "markdown",
   "id": "8f12d81c-66c4-4d76-8114-17485c4bf684",
   "metadata": {},
   "source": [
    "## 히트맵"
   ]
  },
  {
   "cell_type": "raw",
   "id": "f1ade96a-da1b-4d1b-965e-286840b7ab8d",
   "metadata": {},
   "source": []
  },
  {
   "cell_type": "raw",
   "id": "068467aa-0306-46df-807e-040c977e936b",
   "metadata": {},
   "source": []
  },
  {
   "cell_type": "raw",
   "id": "245ca055-99a8-474b-92d4-0f68cd16d9fb",
   "metadata": {},
   "source": []
  },
  {
   "cell_type": "raw",
   "id": "a6196da7-64a9-4296-9aed-7d89f4ad466b",
   "metadata": {},
   "source": []
  },
  {
   "cell_type": "markdown",
   "id": "6c278e76-1a35-4b06-a97e-305cab1ddd6d",
   "metadata": {},
   "source": [
    "## 이변수 데이터의 분포 표현"
   ]
  },
  {
   "cell_type": "markdown",
   "id": "deeb7cab-0eff-419e-9feb-0b8766a0d439",
   "metadata": {},
   "source": []
  },
  {
   "cell_type": "raw",
   "id": "e58679aa-be3a-4dd8-8b0c-9919faccc58c",
   "metadata": {},
   "source": []
  },
  {
   "cell_type": "raw",
   "id": "af8ec648-a6d0-486f-a3e9-85cf8ac52b62",
   "metadata": {},
   "source": []
  },
  {
   "cell_type": "raw",
   "id": "7bf332c9-f323-4c84-86d5-6fab1ee34629",
   "metadata": {},
   "source": []
  },
  {
   "cell_type": "raw",
   "id": "21e60d2a-a8f6-4980-83c4-cbf371d35004",
   "metadata": {},
   "source": []
  },
  {
   "cell_type": "code",
   "execution_count": null,
   "id": "32a13cc3-1efe-42be-a2d0-6197178dd4a8",
   "metadata": {},
   "outputs": [],
   "source": []
  },
  {
   "cell_type": "code",
   "execution_count": null,
   "id": "2c59433e-a5f0-479c-99b1-75cc8cd566ec",
   "metadata": {},
   "outputs": [],
   "source": []
  },
  {
   "cell_type": "code",
   "execution_count": null,
   "id": "07ec0550-b378-4dc7-9758-5c272f2ef972",
   "metadata": {},
   "outputs": [],
   "source": []
  },
  {
   "cell_type": "code",
   "execution_count": null,
   "id": "140f66f2-d2fa-43a1-ae0f-b263c582bb48",
   "metadata": {},
   "outputs": [],
   "source": []
  }
 ],
 "metadata": {
  "kernelspec": {
   "display_name": "Python 3",
   "language": "python",
   "name": "python3"
  },
  "language_info": {
   "codemirror_mode": {
    "name": "ipython",
    "version": 3
   },
   "file_extension": ".py",
   "mimetype": "text/x-python",
   "name": "python",
   "nbconvert_exporter": "python",
   "pygments_lexer": "ipython3",
   "version": "3.8.8"
  }
 },
 "nbformat": 4,
 "nbformat_minor": 5
}
