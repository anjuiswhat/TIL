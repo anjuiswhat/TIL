{
 "cells": [
  {
   "cell_type": "markdown",
   "metadata": {},
   "source": [
    "# 04-1. 리스트와 반복문\n",
    "리스트, 요소, 인덱스, for 반복문"
   ]
  },
  {
   "cell_type": "code",
   "execution_count": null,
   "metadata": {},
   "outputs": [],
   "source": [
    "# 리스트: 인덱스를 기반으로 값을 저장하는 것\n",
    "\n",
    "# 리스트 생성은 대괄호 [] 안에 자료(요소; element)를 쉼표로 구분하여 입력\n",
    "\n",
    "array = [273, 32, 103, \"ABC\", True, False]\n",
    "print(array)\n",
    "print()\n",
    "\n",
    "A = [\"안\",\"녕\",\"하\",\"세\",\"요\"]\n",
    "print(A)"
   ]
  },
  {
   "cell_type": "code",
   "execution_count": null,
   "metadata": {},
   "outputs": [],
   "source": [
    "# [] 안 요소의 위치를 나타내는 숫자를 idex 라고 하며, 0 부터 count 한다.\n",
    "\n",
    "list_a = [273, 32, 103, \"ABC\", True, False]\n",
    "print(list_a[0])\n",
    "print(list_a[3])\n",
    "print(list_a[0:5])\n",
    "print(list_a[:2])\n",
    "print(list_a[3:])"
   ]
  },
  {
   "cell_type": "code",
   "execution_count": null,
   "metadata": {},
   "outputs": [],
   "source": [
    "# 리스트의 특정 요소 변경하기\n",
    "\n",
    "list_a = [273, 32, 103, \"ABC\", True, False]\n",
    "list_a[3] = \"변경\"\n",
    "list_a"
   ]
  },
  {
   "cell_type": "code",
   "execution_count": null,
   "metadata": {},
   "outputs": [],
   "source": [
    "# [] 안에 음수를 넣어 뒤에서부터 요소 선택\n",
    "list_a = [273, 32, 103, \"ABC\", True, False]\n",
    "list_a[-4]"
   ]
  },
  {
   "cell_type": "code",
   "execution_count": null,
   "metadata": {},
   "outputs": [],
   "source": [
    "# 리스트 접근 연산자를 이중으로 사용 가능\n",
    "\n",
    "array = [273, 32, 103, \"ABC\", True, False]\n",
    "# 리스트에서 [3]번째에 있는 \"문자열\"을 꺼내오고, 거기서 [0]번째에 있는 \"A\" 출력 \n",
    "print(array[3][0])\n",
    "\n",
    "# 단, 꺼내오는 요소가 \"문자열\"이 아니면 오류 발생\n",
    "print(array[2][0]) # [2] 번째 요소는 숫자형 요소임."
   ]
  },
  {
   "cell_type": "code",
   "execution_count": null,
   "metadata": {},
   "outputs": [],
   "source": [
    "# 리스트 안에 리스트를 사용하는 것이 가능\n",
    "\n",
    "list_a = [[1,2,3],['a','b','c'],[7,8,9]]\n",
    "print(list_a[1])\n",
    "print(list_a[0][2])"
   ]
  },
  {
   "cell_type": "code",
   "execution_count": null,
   "metadata": {},
   "outputs": [],
   "source": [
    "# 리스트에서의 IdexError 예외 : 리스트의 길이를 넘는 인덱스로 요소에 접근할 때 발생\n",
    "\n",
    "array = [273, 32, 103, \"ABC\", True, False]\n",
    "array[10]"
   ]
  },
  {
   "cell_type": "code",
   "execution_count": null,
   "metadata": {},
   "outputs": [],
   "source": [
    "# 리스트 연산자: +, *, len()\n",
    "\n",
    "list_a = [1, 2, 3]\n",
    "list_b = [4, 5, 6]\n",
    "\n",
    "print(\"# 리스트\")\n",
    "print(\"list_a = \", list_a)\n",
    "print(\"list_b = \", list_b)\n",
    "print()\n",
    "\n",
    "# 기본 연산자 +, *\n",
    "print(\"# 리스트 기본 연산자\")\n",
    "print(\"list_a + list_b =\", list_a + list_b)\n",
    "print(\"list_a * 3 =\", list_a * 3)\n",
    "print()\n",
    "\n",
    "# 문자열에서 len() 은 문자의 개수를 count 하지만,\n",
    "# 리스트에서 len() 은 요소의 개수를 count 함.\n",
    "print(\"# 길이 구하기\")\n",
    "print(\"len(list_a) = \", len(list_a))"
   ]
  },
  {
   "cell_type": "code",
   "execution_count": null,
   "metadata": {},
   "outputs": [],
   "source": [
    "# 리스트에 요소 추가하기: append(), extend(), insert()\n",
    "\n",
    "list_a = [1, 2, 3]\n",
    "list_b = [\"하마\", \"기린\"]\n",
    "\n",
    "# 리스트명.append(요소) = 리스트 맨 뒤에 요소 추가\n",
    "list_a.append(100)\n",
    "print(list_a)\n",
    "print()\n",
    "\n",
    "# 리스트명.extend([요소,요소,요소,....]) = 리스트 맨 뒤에 여러 요소 한꺼번에 추가\n",
    "list_a.extend([200,300,400])\n",
    "print(list_a)\n",
    "print()\n",
    "\n",
    "# 리스트명.insert(위치,요소) = 리스트의 특정 위치에 요소 추가\n",
    "list_b.insert(1,\"하린이\")\n",
    "print(list_b)"
   ]
  },
  {
   "cell_type": "code",
   "execution_count": null,
   "metadata": {},
   "outputs": [],
   "source": [
    "# 리스트의 요소 제거(1): 인덱스로 제거\n",
    "# del 키워드 또는 pop() 함수 사용\n",
    "\n",
    "list_a = [\"a\",\"b\",\"c\",\"d\",\"e\",\"f\"]\n",
    "list_b = [\"a\",\"b\",\"c\",\"d\",\"e\",\"f\"]\n",
    "list_c = [\"a\",\"b\",\"c\",\"d\",\"e\",\"f\"]\n",
    "list_d = [\"a\",\"b\",\"c\",\"d\",\"e\",\"f\"]\n",
    "list_e = [\"a\",\"b\",\"c\",\"d\",\"e\",\"f\"]\n",
    "list_f = [\"a\",\"b\",\"c\",\"d\",\"e\",\"f\"]\n",
    "\n",
    "# del 리스트명[인덱스]\n",
    "del list_a[3]\n",
    "print(\"del list_a[2] → 3번째 요소 제거\", list_a)\n",
    "print()\n",
    "\n",
    "del list_b[2:4]\n",
    "print(\"del list_b[2:4] → 3번째부터 5번째까지의 요소 제거\", list_b)\n",
    "print()\n",
    "\n",
    "del list_c[:2]\n",
    "print(\"del list_c[:2] → 3번째를 기준(3번째 불포함)으로 왼쪽 요소 모두 제거\", list_c)\n",
    "print()\n",
    "\n",
    "del list_d[2:]\n",
    "print(\"del list_d[2:] → 3번째를 기준(3번째 불포함)으로 오른쪽 요소 모두 제거\", list_d)\n",
    "print()\n",
    "\n",
    "\n",
    "# 리스트명.pop(인덱스)\n",
    "list_e.pop(2)\n",
    "print(\"list_e.pop(2) → 3번째 요소 제거\", list_e)\n",
    "print()\n",
    "\n",
    "# pop() 함수의 매개변수에 아무 것도 입력하지 않으면 자동으로 -1 로 취급하여 마지막 요소를 제거함\n",
    "list_f.pop()\n",
    "print(\"list_e.pop() → 맨 마지막 요소 제거\",list_f)\n"
   ]
  },
  {
   "cell_type": "code",
   "execution_count": null,
   "metadata": {},
   "outputs": [],
   "source": [
    "# 리스트의 요소 제거(2): 값을 입력하여 제거, 모든 요소 제거\n",
    "# remove() 함수, clear() 함수 사용\n",
    "\n",
    "list_a = [\"a\",\"b\",\"c\",\"d\",\"e\",\"f\"]\n",
    "list_b = [\"a\",\"b\",\"c\",\"d\",\"e\",\"f\"]\n",
    "\n",
    "# 리스트명.remove(값)\n",
    "list_a.remove(\"c\")\n",
    "print('list_a.remove(\"c\") → \"c\" 요소 제거', list_a)\n",
    "print()\n",
    "\n",
    "# 리스트명.clear()\n",
    "list_b.clear()\n",
    "print(\"list_b.clear() → 모든 요소 제거\", list_b)\n",
    "print()"
   ]
  },
  {
   "cell_type": "code",
   "execution_count": null,
   "metadata": {},
   "outputs": [],
   "source": [
    "# 리스트 내부에 해당 요소가 있는지 확인\n",
    "# in, not in 연산자 사용\n",
    "\n",
    "array = [273, 32, 103, 57, 52]\n",
    "\n",
    "# 값 in 리스트\n",
    "print(273 in array)\n",
    "print(3 in array)\n",
    "print()\n",
    "\n",
    "# 값 not in 리스트\n",
    "print(273 not in array)\n",
    "print(3 not in array)"
   ]
  },
  {
   "cell_type": "code",
   "execution_count": null,
   "metadata": {},
   "outputs": [],
   "source": []
  },
  {
   "cell_type": "code",
   "execution_count": null,
   "metadata": {},
   "outputs": [],
   "source": []
  },
  {
   "cell_type": "code",
   "execution_count": null,
   "metadata": {},
   "outputs": [],
   "source": []
  },
  {
   "cell_type": "code",
   "execution_count": null,
   "metadata": {},
   "outputs": [],
   "source": []
  },
  {
   "cell_type": "code",
   "execution_count": null,
   "metadata": {},
   "outputs": [],
   "source": []
  },
  {
   "cell_type": "code",
   "execution_count": null,
   "metadata": {},
   "outputs": [],
   "source": []
  },
  {
   "cell_type": "code",
   "execution_count": null,
   "metadata": {},
   "outputs": [],
   "source": []
  },
  {
   "cell_type": "markdown",
   "metadata": {},
   "source": [
    "# 04-2. 딕셔너리와 반복문\n",
    "딕셔너리, 키, 값"
   ]
  },
  {
   "cell_type": "code",
   "execution_count": null,
   "metadata": {},
   "outputs": [],
   "source": [
    "# 리스트: 인덱스를 기반으로 값을 저장하는 것\n",
    "# 딕셔너리: 키를 기반으로 값을 저장하는 것\n",
    "\n",
    "변수 = {\n",
    "    키:값,\n",
    "    키:값,\n",
    "    ...\n",
    "    키:값\n",
    "}"
   ]
  },
  {
   "cell_type": "code",
   "execution_count": null,
   "metadata": {},
   "outputs": [],
   "source": [
    "dict_a = {\n",
    "    \"과일\" : \"사과\",\n",
    "    \"채소\" : \"배추\"\n",
    "    }\n",
    "\n",
    "dict_a"
   ]
  },
  {
   "cell_type": "code",
   "execution_count": null,
   "metadata": {},
   "outputs": [],
   "source": [
    "# 특정 키 값만 따로 출력: 딕셔너리 뒤에 대괄호[] 입력하고 내부에 키 입력\n",
    "dict_a = {\n",
    "    \"과일\" : \"사과\",\n",
    "    \"채소\" : \"배추\"\n",
    "    }\n",
    "\n",
    "dict_a[\"과일\"]"
   ]
  },
  {
   "cell_type": "code",
   "execution_count": null,
   "metadata": {},
   "outputs": [],
   "source": [
    "# 딕셔너리 내부의 값에 문자여, 숫자, 불 등 다양한 자료를 넣을 수 있음\n",
    "# 리스트와 딕셔너리도 하나의 자료이므로, 리스트와 딕셔너리 또한 값으로 넣을 수 있음.\n",
    "\n",
    "dict_b = {\n",
    "    \"alphabet\" : [\"a\", \"b\", \"c\", \"d\", \"e\"],\n",
    "    \"integer\" : [1, 2, 3, 4, 5]\n",
    "    }\n",
    "\n",
    "print(dict_b)\n",
    "print()\n",
    "print(dict_b[\"alphabet\"])\n",
    "print()\n",
    "\n",
    "# 딕셔너리의 키 또한 여러개의 자료를 가지고 있는 리스트의 일종이라고 볼 수 있으므로\n",
    "# 인덱스를 지정하여 특정값을 출력할 수 있음\n",
    "print(dict_b[\"alphabet\"][2])"
   ]
  },
  {
   "cell_type": "code",
   "execution_count": null,
   "metadata": {},
   "outputs": [],
   "source": [
    "# 키를 문자열로 사용하지 않으면 NameError 발생\n",
    "dict_b = {\n",
    "    alphabet : [\"a\", \"b\", \"c\", \"d\", \"e\"],\n",
    "    integer : [1, 2, 3, 4, 5]\n",
    "    }\n",
    "\n",
    "dict_b"
   ]
  },
  {
   "cell_type": "code",
   "execution_count": null,
   "metadata": {},
   "outputs": [],
   "source": [
    "# 키를 문자열 대신 변수로 지정할 경우\n",
    "\n",
    "alphabet = \"알파벳\"\n",
    "integer = \"정수\"\n",
    "\n",
    "dict_b = {\n",
    "    alphabet : [\"a\", \"b\", \"c\", \"d\", \"e\"],\n",
    "    integer : [1, 2, 3, 4, 5]\n",
    "    }\n",
    "dict_b"
   ]
  },
  {
   "cell_type": "code",
   "execution_count": null,
   "metadata": {},
   "outputs": [],
   "source": [
    "# 딕셔너리에 새로운 키/값 추가/제거\n",
    "\n",
    "dict_b = {\n",
    "    \"alphabet\" : [\"a\", \"b\", \"c\", \"d\", \"e\"],\n",
    "    \"integer\" : [1, 2, 3, 4, 5],\n",
    "    \"study\" : [\"math\", \"physics\"],\n",
    "    \"english\" : [\"TEPS\", \"TOEIC\", \"OPIc\"]\n",
    "    }\n",
    "\n",
    "# 새로운 키/값 추가:  딕셔너리[새로운 키] = 새로운 값\n",
    "dict_b[\"한글\"] = [\"ㄱ\", \"ㄴ\", \"ㄷ\", \"ㄹ\", \"ㅁ\"]\n",
    "\n",
    "# 기존 키의 값을 새로운 값으로 대체:  딕셔너리[기존 키] = 새로운 값\n",
    "dict_b[\"alphabet\"] = [\"f\", \"g\", \"h\", \"i\", \"j\"]\n",
    "\n",
    "# 딕셔너리의 키 제거: del 키워드 사용\n",
    "del dict_b[\"integer\"]\n",
    "\n",
    "# 딕셔너리의 특정 키의 특정 값 제거: del 키워드 사용\n",
    "del dict_b[\"english\"][2]\n",
    "\n",
    "dict_b"
   ]
  },
  {
   "cell_type": "code",
   "execution_count": null,
   "metadata": {},
   "outputs": [],
   "source": [
    "# 존재하지 않는 키에 접근할 때 KeyError 발생\n",
    "dict_b = {\n",
    "    \"alphabet\" : [\"a\", \"b\", \"c\", \"d\", \"e\"],\n",
    "    \"integer\" : [1, 2, 3, 4, 5],\n",
    "    \"study\" : [\"math\", \"physics\"],\n",
    "    \"english\" : [\"TEPS\", \"TOEIC\", \"OPIc\"]\n",
    "    }\n",
    "\n",
    "dict_b[\"한글\"]"
   ]
  },
  {
   "cell_type": "code",
   "execution_count": null,
   "metadata": {},
   "outputs": [],
   "source": [
    "# 키가 존재하는지 확인할때(1): in 키워드 사용\n",
    "\n",
    "dict_b = {\n",
    "    \"alphabet\" : [\"a\", \"b\", \"c\", \"d\", \"e\"],\n",
    "    \"integer\" : [1, 2, 3, 4, 5],\n",
    "    \"study\" : [\"math\", \"physics\"],\n",
    "    \"english\" : [\"TEPS\", \"TOEIC\", \"OPIc\"]\n",
    "    }\n",
    "print(\"alphabet\" in dict_b)\n",
    "print()\n",
    "print(\"한글\" in dict_b)"
   ]
  },
  {
   "cell_type": "code",
   "execution_count": null,
   "metadata": {},
   "outputs": [],
   "source": [
    "# 키가 존재하는지 확인하고 접근할 경우\n",
    "\n",
    "dict_b = {\n",
    "    \"alphabet\" : [\"a\", \"b\", \"c\", \"d\", \"e\"],\n",
    "    \"integer\" : [1, 2, 3, 4, 5],\n",
    "    \"study\" : [\"math\", \"physics\"],\n",
    "    \"english\" : [\"TEPS\", \"TOEIC\", \"OPIc\"]\n",
    "    }\n",
    "\n",
    "key = input(\"확인할 키 입력\")\n",
    "\n",
    "if key in dict_b:\n",
    "    print(dict_b[key])\n",
    "else:\n",
    "    print(\"입력한 키가 딕셔너리에 없습니다.\")"
   ]
  },
  {
   "cell_type": "code",
   "execution_count": null,
   "metadata": {},
   "outputs": [],
   "source": [
    "# 키가 존재하는지 확인할때(2): get() 함수 사용\n",
    "# 딕셔너리.get(키)\n",
    "# 존재하는 키이면 값을 출력, 존재하지 않는 키일 경우 None 출력\n",
    "\n",
    "dict_b = {\n",
    "    \"alphabet\" : [\"a\", \"b\", \"c\", \"d\", \"e\"],\n",
    "    \"integer\" : [1, 2, 3, 4, 5],\n",
    "    \"study\" : [\"math\", \"physics\"],\n",
    "    \"english\" : [\"TEPS\", \"TOEIC\", \"OPIc\"]\n",
    "    }\n",
    "\n",
    "print(dict_b.get(\"a\"))\n",
    "print()\n",
    "print(dict_b.get(\"study\"))"
   ]
  },
  {
   "cell_type": "code",
   "execution_count": null,
   "metadata": {},
   "outputs": [],
   "source": [
    "dict_b = {\n",
    "    \"alphabet\" : [\"a\", \"b\", \"c\", \"d\", \"e\"],\n",
    "    \"integer\" : [1, 2, 3, 4, 5],\n",
    "    \"study\" : [\"math\", \"physics\"],\n",
    "    \"english\" : [\"TEPS\", \"TOEIC\", \"OPIc\"]\n",
    "    }\n",
    "\n",
    "I = input(\"확인할 키 입력\")\n",
    "k = dict_b.get(I)\n",
    "\n",
    "\n",
    "if k == None:\n",
    "    print(\"존재하지 않는 키 입니다.\")\n",
    "else:\n",
    "    print(I)"
   ]
  },
  {
   "cell_type": "code",
   "execution_count": null,
   "metadata": {},
   "outputs": [],
   "source": []
  },
  {
   "cell_type": "code",
   "execution_count": null,
   "metadata": {},
   "outputs": [],
   "source": []
  },
  {
   "cell_type": "markdown",
   "metadata": {},
   "source": [
    "# 04-3. 반복문과 while 반복문\n",
    "범위, while 반복문, break 키워드, continue 키워드"
   ]
  },
  {
   "cell_type": "code",
   "execution_count": null,
   "metadata": {},
   "outputs": [],
   "source": []
  },
  {
   "cell_type": "markdown",
   "metadata": {},
   "source": [
    "### for 반복문\n",
    "\n",
    "for 반복자 in 반복할 수 있는 것:\n",
    "    코드(반복할 행위)\n",
    "\n",
    "\"반복할 수 있는 것\" → 문자열, 리스트, 딕셔너리, 범위 등"
   ]
  },
  {
   "cell_type": "code",
   "execution_count": 3,
   "metadata": {},
   "outputs": [
    {
     "name": "stdout",
     "output_type": "stream",
     "text": [
      "- 273\n",
      "- 32\n",
      "- 103\n",
      "- 57\n",
      "- 52\n"
     ]
    }
   ],
   "source": [
    "# for 반복문: 리스트에 적용할 때 (1)\n",
    "\n",
    "# 리스트를 선언\n",
    "A = [273, 32, 103, 57, 52]\n",
    "\n",
    "# 리스트에 반복문을 적용\n",
    "for x in A:\n",
    "    print(\"-\", x)"
   ]
  },
  {
   "cell_type": "code",
   "execution_count": 4,
   "metadata": {},
   "outputs": [
    {
     "name": "stdout",
     "output_type": "stream",
     "text": [
      "- [273, 32, 103, 57, 52]\n",
      "- [273, 32, 103, 57, 52]\n",
      "- [273, 32, 103, 57, 52]\n",
      "- [273, 32, 103, 57, 52]\n",
      "- [273, 32, 103, 57, 52]\n"
     ]
    }
   ],
   "source": [
    "# for 반복문: 리스트에 적용할 때 (2)\n",
    "\n",
    "# 리스트를 선언\n",
    "A = [273, 32, 103, 57, 52]\n",
    "\n",
    "# 리스트에 반복문을 적용\n",
    "for x in A:\n",
    "    print(\"-\", A)"
   ]
  },
  {
   "cell_type": "code",
   "execution_count": null,
   "metadata": {},
   "outputs": [],
   "source": [
    "# for 반복문: 딕셔너리에 적용할 때\n",
    "\n",
    "# 딕셔너리를 선언\n",
    "dict_b = {\n",
    "    \"alphabet\" : [\"a\", \"b\", \"c\", \"d\", \"e\"],\n",
    "    \"integer\" : [1, 2, 3, 4, 5],\n",
    "    \"study\" : [\"math\", \"physics\"],\n",
    "    \"english\" : [\"TEPS\", \"TOEIC\", \"OPIc\"]\n",
    "    }\n",
    "\n",
    "# 딕셔너리에 반복문을 적용\n",
    "for x in dict_b:\n",
    "    print(x,\": \", dict_b[x])"
   ]
  },
  {
   "cell_type": "code",
   "execution_count": null,
   "metadata": {},
   "outputs": [],
   "source": [
    "# for 반복문: 범위에 적용할 때,\n",
    "\n",
    "for i in range(5):\n",
    "    print(\"출력\")"
   ]
  },
  {
   "cell_type": "code",
   "execution_count": 2,
   "metadata": {},
   "outputs": [
    {
     "data": {
      "text/plain": [
       "[0, 1, 2, 3, 4]"
      ]
     },
     "execution_count": 2,
     "metadata": {},
     "output_type": "execute_result"
    }
   ],
   "source": [
    "# range(x) → 0부터 (x-1)까지의 정수로 범위 생성\n",
    "\n",
    "a = range(5)\n",
    "list(a)"
   ]
  },
  {
   "cell_type": "code",
   "execution_count": 3,
   "metadata": {},
   "outputs": [
    {
     "name": "stdout",
     "output_type": "stream",
     "text": [
      "[3, 4, 5, 6, 7, 8, 9, 10, 11, 12, 13, 14, 15, 16]\n",
      "\n",
      "[3, 4, 5, 6, 7, 8, 9, 10, 11]\n"
     ]
    }
   ],
   "source": [
    "# range(x,y) → x부터 (y-1)까지의 정수로 범위 생성\n",
    "b = range(3,17)\n",
    "print(list(b))\n",
    "print()\n",
    "\n",
    "# range(x,y+1) → 0부터 y까지의 범위를 생성할 때,\n",
    "# y를 반드시 포함해야 한다는 것을 코드 상에서 강조\n",
    "c = range(3,11+1) \n",
    "print(list(c))"
   ]
  },
  {
   "cell_type": "code",
   "execution_count": null,
   "metadata": {},
   "outputs": [],
   "source": [
    "# range(x,y,z) → x부터 (y-1)까지의 정수로 범위를 생성하되 z씩 증가시킴\n",
    "\n",
    "d = range(2,17,3)\n",
    "print(list(d))\n",
    "print()\n",
    "\n",
    "# 범위 지정 시, 앞뒤 숫자 크기를 반대로 지정하면 높은 범위부터 거꾸로 반복\n",
    "e = range(10,1,-1)\n",
    "print(list(e))"
   ]
  },
  {
   "cell_type": "code",
   "execution_count": null,
   "metadata": {},
   "outputs": [],
   "source": [
    "# range() 함수의 매개변수는 반드시 정수를 입력해야 함\n",
    "\n",
    "x = 10\n",
    "r = range(1,x/2)\n",
    "list(r)"
   ]
  },
  {
   "cell_type": "code",
   "execution_count": null,
   "metadata": {},
   "outputs": [],
   "source": [
    "# int() 또는 정수 나누기 연산자 // 사용\n",
    "\n",
    "x = 10\n",
    "r = range(1,int(x/2))\n",
    "print(list(r))\n",
    "print()\n",
    "\n",
    "x = 10\n",
    "r = range(1,x//2)\n",
    "print(list(r))"
   ]
  },
  {
   "cell_type": "code",
   "execution_count": 1,
   "metadata": {},
   "outputs": [
    {
     "name": "stdout",
     "output_type": "stream",
     "text": [
      "0  = 반복변수\n",
      "0  = 반복변수\n",
      "1  = 반복변수\n",
      "1  = 반복변수\n",
      "2  = 반복변수\n",
      "2  = 반복변수\n",
      "3  = 반복변수\n",
      "3  = 반복변수\n",
      "4  = 반복변수\n",
      "4  = 반복변수\n",
      "5  = 반복변수\n",
      "\n",
      "5.5 = 반복변수\n",
      "6.0 = 반복변수\n",
      "6.5 = 반복변수\n",
      "7.0 = 반복변수\n",
      "7.5 = 반복변수\n",
      "8.0 = 반복변수\n",
      "8.5 = 반복변수\n",
      "9.0 = 반복변수\n",
      "9.5 = 반복변수\n",
      "10.0 = 반복변수\n",
      "\n",
      "10.5  = 반복변수\n",
      "12.0  = 반복변수\n",
      "13.5  = 반복변수\n",
      "15.0  = 반복변수\n",
      "\n"
     ]
    }
   ],
   "source": [
    "# for 반복문: 범위와 함께 사용\n",
    "# for 숫자변수 in 범위:\n",
    "#     코드\n",
    "\n",
    "for x in range(11):\n",
    "    print(int(x/2), \" = 반복변수\")\n",
    "print()\n",
    "\n",
    "for x in range(11,21):\n",
    "    print(str(x/2) + \" = 반복변수\")\n",
    "print()\n",
    "\n",
    "for x in range(21,31,3):\n",
    "    print(str(x/2), \" = 반복변수\")\n",
    "print()"
   ]
  },
  {
   "cell_type": "code",
   "execution_count": 5,
   "metadata": {},
   "outputs": [
    {
     "name": "stdout",
     "output_type": "stream",
     "text": [
      "리스트의 0번째 요소: 273\n",
      "리스트의 1번째 요소: 32\n",
      "리스트의 2번째 요소: 103\n",
      "리스트의 3번째 요소: 57\n",
      "리스트의 4번째 요소: 52\n"
     ]
    }
   ],
   "source": [
    "# for 반복문: 리스트와 범위 조합 (1)\n",
    "\n",
    "list_A = [273, 32, 103, 57, 52]\n",
    "\n",
    "i = 0   # i=0 을 넣는 이유는?\n",
    "        # clear kernel 상태에서 i=0 을 빼고 실행해 볼 것! → Error 발생\n",
    "        # i=0 을 넣고 실행한 후, i=0 을 삭제하고 코드 실행을 반복해 볼 것! → i 가 이전 출력에 이어서 계속 증가\n",
    "for x in list_A:\n",
    "    print(\"리스트의 {}번째 요소: {}\".format(i,x))\n",
    "    i += 1      # += 숫자 덧셈 후 대입 (또는 문자열 연결 후 대입)"
   ]
  },
  {
   "cell_type": "code",
   "execution_count": 4,
   "metadata": {},
   "outputs": [
    {
     "name": "stdout",
     "output_type": "stream",
     "text": [
      "리스트의 0번째 요소: 273\n",
      "리스트의 1번째 요소: 32\n",
      "리스트의 2번째 요소: 103\n",
      "리스트의 3번째 요소: 57\n",
      "리스트의 4번째 요소: 52\n"
     ]
    }
   ],
   "source": [
    "# for 반복문: 리스트와 범위 조합 (2)\n",
    "\n",
    "list_B = [273, 32, 103, 57, 52]\n",
    "\n",
    "for x in range(len(list_B)):\n",
    "    print(\"리스트의 {}번째 요소: {}\".format(x,list_B[x]))  # list_B[x] → list_b 안의 x 번째 요소 출력"
   ]
  },
  {
   "cell_type": "code",
   "execution_count": null,
   "metadata": {},
   "outputs": [],
   "source": [
    "# for 반복문: 반대로 반복하기 (1)\n",
    "# 범위 지정 시, 앞뒤 숫자 크기를 반대로 지정하면 높은 범위부터 거꾸로 반복\n",
    "\n",
    "for x in range(10, 1, -1):\n",
    "    print(\"현재 반복 변수: {}\".format(x))"
   ]
  },
  {
   "cell_type": "code",
   "execution_count": null,
   "metadata": {},
   "outputs": [],
   "source": [
    "# for 반복문: 반대로 반복하기 (2) : reversed() 함수 사용\n",
    "\n",
    "# range 의 범위를 따른 후 뒤집는 방식이므로 범위를 처음부터 역으로 지정하는 방식과는 다르게 출력되는 경우가 있다!\n",
    "for x in reversed(range(1, 11, 2)):\n",
    "    print(\"현재 반복 변수: {}\".format(x))\n",
    "print()\n",
    "\n",
    "# 범위지정 자체는 같으나, 어떤 방식으로 역반복 하느야에 따라 다른 결과 출력!!\n",
    "for x in range(11, 1, -2):\n",
    "    print(\"현재 반복 변수: {}\".format(x))"
   ]
  },
  {
   "cell_type": "markdown",
   "metadata": {},
   "source": [
    "### while 반복문"
   ]
  },
  {
   "cell_type": "markdown",
   "metadata": {},
   "source": [
    "while 불 표현식:\n",
    "    문장"
   ]
  },
  {
   "cell_type": "code",
   "execution_count": null,
   "metadata": {},
   "outputs": [],
   "source": [
    "# while 반복문을 사용한 무한반복\n",
    "\n",
    "while True:\n",
    "    # \".\"을 출력합니다.\n",
    "    # 기본적으로 end가 \"\\n\"이라 줄바꿈이 일어나는데\n",
    "    # 빈 문자열 \"\"로 바꿔서 줄바꿈이 일어나지 않게 합니다.\n",
    "    print(\".\", end=\"\")"
   ]
  },
  {
   "cell_type": "code",
   "execution_count": null,
   "metadata": {},
   "outputs": [],
   "source": [
    "# while 반복문: for 반복문처럼 사용하기\n",
    "# 반복 변수를 기반으로 반복\n",
    "\n",
    "i = 0\n",
    "while i < 10:\n",
    "    print(\"{}번째 반복입니다.\".format(i))\n",
    "    i += 1"
   ]
  },
  {
   "cell_type": "code",
   "execution_count": null,
   "metadata": {},
   "outputs": [],
   "source": [
    "# while 반복문: 상태를 기반으로 반복하기\n",
    "# 반복 변수를 기반으로 반복\n",
    "\n",
    "list_test = [0,1,2,0,1,2,0,1,2]\n",
    "two = 2\n",
    "\n",
    "while two in list_test:\n",
    "    list_test.remove(two)\n",
    "    \n",
    "print(list_test)"
   ]
  },
  {
   "cell_type": "code",
   "execution_count": null,
   "metadata": {},
   "outputs": [],
   "source": [
    "# while 반복문: 시간을 기반으로 반복하기\n",
    "# 반복 변수를 기반으로 반복\n",
    "\n",
    "import time  # 시간과 관련된 기능 불러오기\n",
    "time.time()  # 유닉스 타임 구하기\n",
    "\n",
    "# while 반복문으로 특정 시간 동안 프로그램 정지\n",
    "# 통신할 때 자주 사용하는 코드로, 원하는 시간동안 다른 사용자의 응답을 기다릴 수 있음\n",
    "\n",
    "# 변수를 선언합니다.\n",
    "n = 0\n",
    "\n",
    "# 5초 동안 반복합니다.\n",
    "target_tick = time.time() + 5\n",
    "while time.time() < target_tick:\n",
    "    n += 1\n",
    "\n",
    "# 출력합니다.\n",
    "print(\"5초 동안 {}번 반복했습니다.\".format(n)) "
   ]
  },
  {
   "cell_type": "code",
   "execution_count": null,
   "metadata": {},
   "outputs": [],
   "source": [
    "# while 반복문: break 키워드\n",
    "# break 키워드: 반복문을 벗어날 때 사용 (예: 무한반복문을 만들고 내부의 반복문을 벗어날 때)\n",
    "\n",
    "i = 1\n",
    "while True:\n",
    "    print(\"{}번째 반복입니다.\".format(i))\n",
    "    i += 1\n",
    "    print()\n",
    "    \n",
    "    input_text = input(\"반복을 종료할까요?\")\n",
    "    \n",
    "    if input_text in [\"y\", \"Y\"]:\n",
    "        print(\"반복을 종료합니다.\")\n",
    "        break\n",
    "        print()\n",
    "    elif input_text not in [\"y\" , \"Y\" , \"n\" , \"N\"]:\n",
    "        print(\"y 또는 n 을 입력하세요\")\n",
    "        i = i - 1\n",
    "        print()"
   ]
  },
  {
   "cell_type": "code",
   "execution_count": null,
   "metadata": {},
   "outputs": [],
   "source": [
    "# while 반복문: continue 키워드 사용\n",
    "\n",
    "A = [ 1,3,5,7,9,11,13,15,17,19,21]\n",
    "\n",
    "i=0\n",
    "while i < 5:\n",
    "    print(A[i])\n",
    "    i += 1\n",
    "    if i < 10:\n",
    "        continue\n",
    "        print(A)"
   ]
  },
  {
   "cell_type": "code",
   "execution_count": null,
   "metadata": {},
   "outputs": [],
   "source": [
    "# while 반복문: continue 키워드를 사용하지 않는 경우\n",
    "\n",
    "A = [ 1,3,5,7,9,11,13,15,17,19,21]\n",
    "\n",
    "i=0\n",
    "while i < 5:\n",
    "    print(A[i])\n",
    "    i += 1\n",
    "    if i >= 10:\n",
    "        print(A)"
   ]
  },
  {
   "cell_type": "code",
   "execution_count": null,
   "metadata": {},
   "outputs": [],
   "source": [
    "# for 반복문: continue 키워드 사용\n",
    "\n",
    "# 변수를 선언합니다.\n",
    "numbers = [5, 15, 6, 20, 7, 25]\n",
    "\n",
    "# 반복을 돌립니다.\n",
    "for x in numbers:\n",
    "    # number가 10보다 작으면 다음 반복으로 넘어갑니다.\n",
    "    if x < 10:\n",
    "        continue\n",
    "    # 출력합니다.\n",
    "    print(x)"
   ]
  },
  {
   "cell_type": "markdown",
   "metadata": {},
   "source": [
    "# 04-4. 문자열, 리스트, 딕셔너리와 관련된 기본 함수\n",
    "enumerate(), items(), 리스트 내포"
   ]
  },
  {
   "cell_type": "code",
   "execution_count": null,
   "metadata": {},
   "outputs": [],
   "source": []
  },
  {
   "cell_type": "code",
   "execution_count": null,
   "metadata": {},
   "outputs": [],
   "source": []
  },
  {
   "cell_type": "code",
   "execution_count": null,
   "metadata": {},
   "outputs": [],
   "source": []
  },
  {
   "cell_type": "code",
   "execution_count": null,
   "metadata": {},
   "outputs": [],
   "source": []
  },
  {
   "cell_type": "code",
   "execution_count": null,
   "metadata": {},
   "outputs": [],
   "source": []
  },
  {
   "cell_type": "code",
   "execution_count": null,
   "metadata": {},
   "outputs": [],
   "source": []
  },
  {
   "cell_type": "code",
   "execution_count": null,
   "metadata": {},
   "outputs": [],
   "source": []
  },
  {
   "cell_type": "code",
   "execution_count": null,
   "metadata": {},
   "outputs": [],
   "source": []
  },
  {
   "cell_type": "code",
   "execution_count": null,
   "metadata": {},
   "outputs": [],
   "source": []
  },
  {
   "cell_type": "code",
   "execution_count": null,
   "metadata": {},
   "outputs": [],
   "source": []
  }
 ],
 "metadata": {
  "kernelspec": {
   "display_name": "Python 3",
   "language": "python",
   "name": "python3"
  },
  "language_info": {
   "codemirror_mode": {
    "name": "ipython",
    "version": 3
   },
   "file_extension": ".py",
   "mimetype": "text/x-python",
   "name": "python",
   "nbconvert_exporter": "python",
   "pygments_lexer": "ipython3",
   "version": "3.7.10"
  }
 },
 "nbformat": 4,
 "nbformat_minor": 4
}
