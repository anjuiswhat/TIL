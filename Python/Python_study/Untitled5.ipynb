{
 "cells": [
  {
   "cell_type": "code",
   "execution_count": 3,
   "metadata": {},
   "outputs": [
    {
     "data": {
      "text/html": [
       "<ol class=list-inline>\n",
       "\t<li>남</li>\n",
       "\t<li>남</li>\n",
       "\t<li>여</li>\n",
       "\t<li>여</li>\n",
       "\t<li>여</li>\n",
       "\t<li>여</li>\n",
       "</ol>\n",
       "\n",
       "<details>\n",
       "\t<summary style=display:list-item;cursor:pointer>\n",
       "\t\t<strong>Levels</strong>:\n",
       "\t</summary>\n",
       "\t<ol class=list-inline>\n",
       "\t\t<li>'여'</li>\n",
       "\t\t<li>'남'</li>\n",
       "\t</ol>\n",
       "</details>"
      ],
      "text/latex": [
       "\\begin{enumerate*}\n",
       "\\item 남\n",
       "\\item 남\n",
       "\\item 여\n",
       "\\item 여\n",
       "\\item 여\n",
       "\\item 여\n",
       "\\end{enumerate*}\n",
       "\n",
       "\\emph{Levels}: \\begin{enumerate*}\n",
       "\\item '여'\n",
       "\\item '남'\n",
       "\\end{enumerate*}\n"
      ],
      "text/markdown": [
       "1. 남\n",
       "2. 남\n",
       "3. 여\n",
       "4. 여\n",
       "5. 여\n",
       "6. 여\n",
       "\n",
       "\n",
       "\n",
       "**Levels**: 1. '여'\n",
       "2. '남'\n",
       "\n",
       "\n"
      ],
      "text/plain": [
       "[1] 남 남 여 여 여 여\n",
       "Levels: 여 남"
      ]
     },
     "metadata": {},
     "output_type": "display_data"
    }
   ],
   "source": [
    "factor(c(\"m\",\"m\",\"f\",\"f\",\"f\",\"f\"), levels=c(\"f\",\"m\"), labels=c(\"여\",\"남\"), ordered=F)"
   ]
  },
  {
   "cell_type": "code",
   "execution_count": 4,
   "metadata": {},
   "outputs": [
    {
     "data": {
      "text/html": [
       "<ol class=list-inline>\n",
       "\t<li>남</li>\n",
       "\t<li>남</li>\n",
       "\t<li>여</li>\n",
       "\t<li>여</li>\n",
       "\t<li>여</li>\n",
       "</ol>\n",
       "\n",
       "<details>\n",
       "\t<summary style=display:list-item;cursor:pointer>\n",
       "\t\t<strong>Levels</strong>:\n",
       "\t</summary>\n",
       "\t<ol class=list-inline>\n",
       "\t\t<li>'여'</li>\n",
       "\t\t<li>'남'</li>\n",
       "\t</ol>\n",
       "</details>"
      ],
      "text/latex": [
       "\\begin{enumerate*}\n",
       "\\item 남\n",
       "\\item 남\n",
       "\\item 여\n",
       "\\item 여\n",
       "\\item 여\n",
       "\\end{enumerate*}\n",
       "\n",
       "\\emph{Levels}: \\begin{enumerate*}\n",
       "\\item '여'\n",
       "\\item '남'\n",
       "\\end{enumerate*}\n"
      ],
      "text/markdown": [
       "1. 남\n",
       "2. 남\n",
       "3. 여\n",
       "4. 여\n",
       "5. 여\n",
       "\n",
       "\n",
       "\n",
       "**Levels**: 1. '여'\n",
       "2. '남'\n",
       "\n",
       "\n"
      ],
      "text/plain": [
       "[1] 남 남 여 여 여\n",
       "Levels: 여 남"
      ]
     },
     "metadata": {},
     "output_type": "display_data"
    }
   ],
   "source": [
    "factor(c(\"m\",\"m\",\"f\",\"f\",\"f\"), levels=c(\"f\",\"m\"), labels=c(\"여\",\"남\"), ordered=F)"
   ]
  }
 ],
 "metadata": {
  "kernelspec": {
   "display_name": "R",
   "language": "R",
   "name": "ir"
  },
  "language_info": {
   "codemirror_mode": "r",
   "file_extension": ".r",
   "mimetype": "text/x-r-source",
   "name": "R",
   "pygments_lexer": "r",
   "version": "3.6.1"
  }
 },
 "nbformat": 4,
 "nbformat_minor": 4
}
