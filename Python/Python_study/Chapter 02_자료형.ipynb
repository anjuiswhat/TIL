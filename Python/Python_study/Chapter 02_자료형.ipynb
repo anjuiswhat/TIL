{
 "cells": [
  {
   "cell_type": "markdown",
   "metadata": {},
   "source": [
    "# 02-1. 자료형과 문자열\n",
    "자료형,  문자열,  escape 문자,  문자열 연산자,  type(),  len()"
   ]
  },
  {
   "cell_type": "code",
   "execution_count": null,
   "metadata": {
    "cell_style": "split"
   },
   "outputs": [],
   "source": [
    "# 기본 자료형\n",
    "# 문자열 (string) : \"안녕하세요\", \"Hello world\" 등등\n",
    "# 숫자 (number) : 52, 12.3, 103.2\n",
    "# 불 (boolean) : True, False\n",
    "\n",
    "#자료형 확인시 type() 함수 사용\n",
    "# str 은 문자열(string), int 는 정수(integer)\n",
    "print(type(\"안녕하세요\"))\n",
    "print()\n",
    "print(type(153.1))"
   ]
  },
  {
   "cell_type": "code",
   "execution_count": null,
   "metadata": {
    "cell_style": "split"
   },
   "outputs": [],
   "source": [
    "a = set(\"ABCDE\")\n",
    "print(a)"
   ]
  },
  {
   "cell_type": "code",
   "execution_count": null,
   "metadata": {
    "cell_style": "split"
   },
   "outputs": [],
   "source": [
    "def add(a=1,b=10):\n",
    "    print(a+b)\n",
    "\n",
    "add()"
   ]
  },
  {
   "cell_type": "code",
   "execution_count": 25,
   "metadata": {},
   "outputs": [
    {
     "name": "stdout",
     "output_type": "stream",
     "text": [
      "[0, 1, 4, 9, 16]\n"
     ]
    }
   ],
   "source": [
    "print(\n",
    "    list(\n",
    "        map((lambda a: a**2),range(5))))\n"
   ]
  },
  {
   "cell_type": "code",
   "execution_count": null,
   "metadata": {},
   "outputs": [],
   "source": [
    "# 문자열 만들때 \" 와 ' 둘 다 지원하는 이유\n",
    "# \" 또는 ' 중복사용시 syntax error 발생하는 경우가 생김\n",
    "\n",
    "print(\"\"안녕하세요\"라고 말했습니다.\"\")"
   ]
  },
  {
   "cell_type": "code",
   "execution_count": null,
   "metadata": {},
   "outputs": [],
   "source": [
    "# 문자열 내부에 따옴표 넣을 경우\n",
    "\n",
    "print('\"안녕하세요\"라고 말했습니다.')\n",
    "print()\n",
    "print(\"'안녕하세요'라고 말했습니다.\")"
   ]
  },
  {
   "cell_type": "code",
   "execution_count": null,
   "metadata": {},
   "outputs": [],
   "source": [
    "# \"와 ' 둘 중 한가지만 계속 쓰고 싶을때 / 사용\n",
    "#  \\\" = \" ,  \\' = '\n",
    "\n",
    "print(\"\\\"안녕하세요\\\"라고 말했습니다.\")\n",
    "print()\n",
    "print('\\'안녕하세요\\'라고 말했습니다.')"
   ]
  },
  {
   "cell_type": "code",
   "execution_count": null,
   "metadata": {},
   "outputs": [],
   "source": [
    "# \\n 은 줄바꿈\n",
    "print(\"hello\\nhello\")"
   ]
  },
  {
   "cell_type": "code",
   "execution_count": null,
   "metadata": {},
   "outputs": [],
   "source": [
    "# \\t 는 탭 \n",
    "print('hello\\thello')"
   ]
  },
  {
   "cell_type": "code",
   "execution_count": null,
   "metadata": {},
   "outputs": [],
   "source": [
    "# \\\\ 는 \\\n",
    "print(\"\\\\\")\n",
    "print(\"\\\\\\\\\\\\\")\n",
    "print(\"\\\\ \\\\ \\\\\")"
   ]
  },
  {
   "cell_type": "code",
   "execution_count": null,
   "metadata": {},
   "outputs": [],
   "source": [
    "# \"\"\" 입력 후 문자열 입력 : Enter 입력한 행마다 줄바꿈 발생 (1)\n",
    "print(\"-----------------\")\n",
    "print(\"\"\"AAAAAAA\n",
    "BBBBBBB\n",
    "CCCCCCC\"\"\")\n",
    "print(\"-----------------\")"
   ]
  },
  {
   "cell_type": "code",
   "execution_count": 1,
   "metadata": {},
   "outputs": [
    {
     "name": "stdout",
     "output_type": "stream",
     "text": [
      "-----------------\n",
      "\n",
      "AAAAAAA\n",
      "BBBBBBB\n",
      "CCCCCCC\n",
      "\n",
      "-----------------\n"
     ]
    }
   ],
   "source": [
    "# \"\"\" 입력 후 문자열 입력 : Enter 입력한 행마다 줄바꿈 발생 (2)\n",
    "# 의도하지 않은 줄바꿈이 생기는 경우\n",
    "print(\"-----------------\")\n",
    "print(\"\"\"\n",
    "AAAAAAA\n",
    "BBBBBBB\n",
    "CCCCCCC\n",
    "\"\"\")\n",
    "print(\"-----------------\")"
   ]
  },
  {
   "cell_type": "code",
   "execution_count": 2,
   "metadata": {},
   "outputs": [
    {
     "name": "stdout",
     "output_type": "stream",
     "text": [
      "-----------------\n",
      "AAAAAAA\n",
      "BBBBBBB\n",
      "CCCCCCC\n",
      "-----------------\n"
     ]
    }
   ],
   "source": [
    "# 의도하지 않은 줄바꿈을 막으려면 \\ 입력\n",
    "# (코드를 쉽게 보려고 줄바꿈 한것이지, 실제로 줄바꿈을 하는 것이 아니라는 것을 나타낼 때)\n",
    "print(\"-----------------\")\n",
    "print(\"\"\"\\\n",
    "AAAAAAA\n",
    "BBBBBBB\n",
    "CCCCCCC\\\n",
    "\"\"\")\n",
    "print(\"-----------------\")"
   ]
  },
  {
   "cell_type": "code",
   "execution_count": null,
   "metadata": {},
   "outputs": [],
   "source": [
    "# 문자열 연결 연산자 +\n",
    "print(\"안녕\"+\"하세요\")\n",
    "print()\n",
    "print(\"안녕하세요\"+\"!\")"
   ]
  },
  {
   "cell_type": "code",
   "execution_count": null,
   "metadata": {},
   "outputs": [],
   "source": [
    "# TypeError : 서로 다른 자료형을 연산할 때 발생 (ex> 문자열 + 숫자형 )\n",
    "string = \"ABC\"\n",
    "number = 153\n",
    "string + number\n",
    "\n",
    "print(\"안녕하세요\"+1)"
   ]
  },
  {
   "cell_type": "code",
   "execution_count": null,
   "metadata": {},
   "outputs": [],
   "source": [
    "# 숫자라고 하더라도 문자열화 함께 + 연산자로 연결하려면 \" 를 사용하여 연결\n",
    "\n",
    "print(\"안녕하세요\"+\"1\")"
   ]
  },
  {
   "cell_type": "code",
   "execution_count": null,
   "metadata": {},
   "outputs": [],
   "source": [
    "# 문자열 반복 연산자 *\n",
    "print(\"안녕하세요\"*3)\n",
    "print()\n",
    "print(3*\"안녕하세요\")"
   ]
  },
  {
   "cell_type": "code",
   "execution_count": null,
   "metadata": {},
   "outputs": [],
   "source": [
    "# indexing 연산자 [] (문자열의 특정 위치에 있는 문자를 참조)\n",
    "# zero indes: 숫자를 0부터 셈, one index: 숫자를 1부터 셈\n",
    "# 파이썬은 zero index를 사용함\n",
    "# [] 안의 숫자를 음수로 입력하면 뒤에서 부터 선택\n",
    "\n",
    "print(\"안녕하세요\"[0])\n",
    "print()\n",
    "print(\"안녕하세요\"[1])\n",
    "print()\n",
    "print(\"안녕하세요\"[-2])"
   ]
  },
  {
   "cell_type": "code",
   "execution_count": null,
   "metadata": {},
   "outputs": [],
   "source": [
    "# slicing 연산자 [:] (문자열의 일부를 추출)\n",
    "# 프로그래밍 언어에 따라 범위 지정 시 마지막 숫자를 포함하는 언어와 포함하지 않는 언어가 있음 \n",
    "# 파이썬은 마지막 숫자를 포함하지 않음!!!!\n",
    "# 즉, [1:4] 면 [1]~[3] 까지를 포함함.\n",
    "\n",
    "print(\"ABCDEFGHIJK\"[1:4])\n",
    "print()\n",
    "hello = \"안녕하세요\"\n",
    "print(hello)\n",
    "print()\n",
    "print(hello[1:4])\n",
    "print()\n",
    "print(hello[2:])\n",
    "print()\n",
    "print(hello[:3])"
   ]
  },
  {
   "cell_type": "code",
   "execution_count": null,
   "metadata": {},
   "outputs": [],
   "source": [
    "# IndexError : 문자열/리스트의 수를 넘는 글자/요소를 선택할 때 발생\n",
    "print(\"안녕하세요\"[8])"
   ]
  },
  {
   "cell_type": "code",
   "execution_count": null,
   "metadata": {},
   "outputs": [],
   "source": [
    "# 문자열의 길이를 구하는 함수는 len()\n",
    "print(len(\"안녕하세요\"))"
   ]
  },
  {
   "cell_type": "markdown",
   "metadata": {},
   "source": [
    "# 02-2. 숫자\n",
    "숫자 자료형,  숫자 연산자,  연산자,  연산 우선순위"
   ]
  },
  {
   "cell_type": "code",
   "execution_count": null,
   "metadata": {},
   "outputs": [],
   "source": [
    "print(273)\n",
    "print()\n",
    "print(53.273)"
   ]
  },
  {
   "cell_type": "code",
   "execution_count": null,
   "metadata": {},
   "outputs": [],
   "source": [
    "# 정수형(interger), 실수형(floating point, 부동소수점)\n",
    "print(type(273))\n",
    "print()\n",
    "print(type(53.273))"
   ]
  },
  {
   "cell_type": "code",
   "execution_count": null,
   "metadata": {},
   "outputs": [],
   "source": [
    "# 파이썬에서의 지수 표현\n",
    "print(0.52273e2)\n",
    "print(0.52273e-2)"
   ]
  },
  {
   "cell_type": "code",
   "execution_count": null,
   "metadata": {},
   "outputs": [],
   "source": [
    "# 사칙 연산자 + - * /\n",
    "print(5+2)\n",
    "print(5-2)\n",
    "print(5*2)\n",
    "print(5/2)"
   ]
  },
  {
   "cell_type": "code",
   "execution_count": null,
   "metadata": {},
   "outputs": [],
   "source": [
    "# 정수 나누기 연산자 //\n",
    "# 숫자를 나누고 소수점 이하 자릿수를 떼어 버린 후, 정수 부분만 남김\n",
    "print(5//2)\n",
    "\n",
    "# 나머지 연산자 %\n",
    "print(5%2)"
   ]
  },
  {
   "cell_type": "code",
   "execution_count": null,
   "metadata": {},
   "outputs": [],
   "source": [
    "# 제곱 연산자 **\n",
    "print(2**1)\n",
    "print(2**2)\n",
    "print(2**3)\n",
    "print(2**4)"
   ]
  },
  {
   "cell_type": "code",
   "execution_count": null,
   "metadata": {},
   "outputs": [],
   "source": [
    "# 연산자 우선순위 :숫자, 문자열 둘다 사칙연산시 *,/ 가 +,- 보다 우선한다.\n",
    "print(1+2-3*4/5*6)\n",
    "print(1+(2-3)*4/5*6)\n",
    "print(2+2-2/2*2+2)\n",
    "print()\n",
    "print(\"안녕\"+\"하세요!\"*3)\n",
    "print((\"안녕\"+\"하세요!\")*3)"
   ]
  },
  {
   "cell_type": "markdown",
   "metadata": {},
   "source": [
    "# 02-3. 변수와 입력\n",
    "변수선언,  변수할당,  변수 참조,  input(),  int(),  float(),  str()"
   ]
  },
  {
   "cell_type": "code",
   "execution_count": null,
   "metadata": {},
   "outputs": [],
   "source": [
    "c = 299792458 # m/s\n",
    "h = 4.135667662*10e-9 # MeV*s\n",
    "pi = 3.14159265\n",
    "\n",
    "h/(2*pi)*c"
   ]
  },
  {
   "cell_type": "code",
   "execution_count": null,
   "metadata": {},
   "outputs": [],
   "source": [
    "#변수에 숫자 입력 시, 문자열과의 연산 불가\n",
    "c = 299792458\n",
    "c + \"ABC\""
   ]
  },
  {
   "cell_type": "code",
   "execution_count": null,
   "metadata": {},
   "outputs": [],
   "source": [
    "# 복합 대입 연산자\n",
    "# += 숫자 덧셈 후 대입 (또는 문자열 연결 후 대입)\n",
    "# -= 숫자 뺄셈 후 대입\n",
    "# *= 숫자 곱셈 후 대입 (또는 문자열 반복 후 대입)\n",
    "# /= 숫자 나눗셈 후 대입\n",
    "# %= 숫자의 나머지를 구한 후 대입\n",
    "# **= 숫자 제곱 후 대입\n",
    "\n",
    "a = 100\n",
    "a += 10\n",
    "a -= 50\n",
    "\n",
    "b = 100\n",
    "b -= 10\n",
    "\n",
    "c = 100\n",
    "c *= 10\n",
    "\n",
    "d = 100\n",
    "d /= 10\n",
    "\n",
    "e = 100\n",
    "e %= 10\n",
    "\n",
    "f = 100\n",
    "f **= 10\n",
    "\n",
    "print(a,\", \",b,\", \",c,\", \",d,\", \",e,\", \",f)\n",
    "print()\n",
    "\n",
    "string = \"안녕하세요\"\n",
    "string += \"!\"\n",
    "string *= 3\n",
    "print(string)"
   ]
  },
  {
   "cell_type": "code",
   "execution_count": null,
   "metadata": {},
   "outputs": [],
   "source": [
    "# input() 함수 : 사용자로부터 데이터를 입력 받기 위해 프로그램 실행 도중 일시정지(block) 후 다음 코드 입력\n",
    "# input 함수의 괄호 안 데이터를 \"프롬프트 문자열\" 이라고 함.\n",
    "input(\"아무거나 입력하세요> \")"
   ]
  },
  {
   "cell_type": "code",
   "execution_count": null,
   "metadata": {},
   "outputs": [],
   "source": [
    "# input 함수는 어떤 자료를 입력해도 결과는 무조건 문자열 자료형이다. (숫자 입력해도 문자열 결과 출력)\n",
    "inbox = input(\"입력> \") #입력을 받는다\n",
    "print()\n",
    "print(\"자료:\",inbox) #출력\n",
    "print()\n",
    "print(\"자료형:\",type(inbox)) #출력값 유형 확인"
   ]
  },
  {
   "cell_type": "code",
   "execution_count": null,
   "metadata": {},
   "outputs": [],
   "source": [
    "# 따라서 input 함수로 출력된 자료는 숫자와 함게 연산이 불가하다.\n",
    "inbox = input(\"입력> \") #입력을 받는다\n",
    "print()\n",
    "print(\"입력값+100\",inbox+100) #출력"
   ]
  },
  {
   "cell_type": "code",
   "execution_count": null,
   "metadata": {},
   "outputs": [],
   "source": [
    "# 문자열을 숫자로 변환 (캐스트:cast)\n",
    "# int() : 문자열을 정수형으로 변환\n",
    "# float() : 문자열을 실수형으로 변환\n",
    "\n",
    "inbox_A = input(\"입력_A> \")\n",
    "A = int(inbox_A)\n",
    "\n",
    "inbox_B = input(\"입력_B> \")\n",
    "B = float(inbox_B)\n",
    "\n",
    "print(type(A),type(B))\n",
    "\n",
    "print(\"문자열 자료의 합: \", inbox_A+inbox_B)\n",
    "print(\"숫자 자료의 합: \",A+B)"
   ]
  },
  {
   "cell_type": "code",
   "execution_count": null,
   "metadata": {},
   "outputs": [],
   "source": [
    "# 숫자 두개를 입력 받아 사칙연산하는 프로그램 (1)\n",
    "x = int(input(\"x = \"))\n",
    "y = int(input(\"y = \"))\n",
    "\n",
    "print(\"x + y = \", x+y)\n",
    "print(\"x - y = \", x-y)\n",
    "print(\"x * y = \", x*y)\n",
    "print(\"x / y = \", x/y)"
   ]
  },
  {
   "cell_type": "code",
   "execution_count": null,
   "metadata": {},
   "outputs": [],
   "source": [
    "# 숫자 두개를 입력 받아 사칙연산하는 프로그램 (2) : (1)번 방식이 더 편함\n",
    "x = input(\"x = \")\n",
    "y = input(\"y = \")\n",
    "\n",
    "print(\"x + y = \", int(x)+int(y))\n",
    "print(\"x - y = \", int(x)-int(y))\n",
    "print(\"x * y = \", int(x)*int(y))\n",
    "print(\"x / y = \", int(x)/int(y))"
   ]
  },
  {
   "cell_type": "code",
   "execution_count": null,
   "metadata": {},
   "outputs": [],
   "source": [
    "# 원의 둘레, 면적 계산\n",
    "pi = 3.14159265\n",
    "r =  float(input(\"원의 반지름 = \"))\n",
    "print(\"반지름 = \", r)\n",
    "print(\"둘레 = \", 2*pi*r)\n",
    "print(\"면적 = \", pi*r**2)"
   ]
  },
  {
   "cell_type": "code",
   "execution_count": null,
   "metadata": {},
   "outputs": [],
   "source": [
    "# ValueError : 자료형을 변환할 때 '변환할 수 없는 것'을 변환하려고 하면 발생 (1)\n",
    "#문자형을 정수형으로 변환 시\n",
    "int(\"안녕하세요\")"
   ]
  },
  {
   "cell_type": "code",
   "execution_count": null,
   "metadata": {},
   "outputs": [],
   "source": [
    "# ValueError : 자료형을 변환할 때 '변환할 수 없는 것'을 변환하려고 하면 발생 (2)\n",
    "#문자형을 실수형으로 변환 시\n",
    "float(\"ABC\")"
   ]
  },
  {
   "cell_type": "code",
   "execution_count": null,
   "metadata": {},
   "outputs": [],
   "source": [
    "# ValueError : 자료형을 변환할 때 '변환할 수 없는 것'을 변환하려고 하면 발생 (3)\n",
    "# 소수점이 있는 숫자 형식의 문자열을 int() 함수로 변환 시\n",
    "int(\"52.273\")"
   ]
  },
  {
   "cell_type": "code",
   "execution_count": null,
   "metadata": {},
   "outputs": [],
   "source": [
    "# 숫자를 문자열로 변환하는 법 (1): str()\n",
    "A = str(123)\n",
    "B = str(2.23)\n",
    "\n",
    "print(type(A), A)\n",
    "print(type(B), B)"
   ]
  },
  {
   "cell_type": "code",
   "execution_count": null,
   "metadata": {},
   "outputs": [],
   "source": [
    "# 변수 교체 (swap)\n",
    "a = input(\"입력a> \")\n",
    "b = input(\"입력b> \")\n",
    "print(a,b)\n",
    "print()\n",
    "    \n",
    "c=a\n",
    "a=b\n",
    "b=c\n",
    "print(a,b)"
   ]
  },
  {
   "cell_type": "markdown",
   "metadata": {},
   "source": [
    "# 02-4. 숫자와 문자열의 다양한 기능\n",
    "format(),  upper(),  lower(),  strip(),  find(),  in 연산자,  split()"
   ]
  },
  {
   "cell_type": "code",
   "execution_count": 2,
   "metadata": {},
   "outputs": [
    {
     "name": "stdout",
     "output_type": "stream",
     "text": [
      "10 <class 'int'>\n",
      "\n",
      "10\n",
      "\n",
      "10 <class 'str'>\n",
      "\n",
      "2 9 9 7 9 <class 'str'>\n",
      "\n",
      "299 <class 'str'>\n",
      "\n",
      "2,9,9,7 <class 'str'>\n",
      "\n"
     ]
    }
   ],
   "source": [
    "# {}.format() : format 함수 괄호 안의 [숫자를 문자열로 변환!!]하여 순차적으로 {}에 넣는다. \n",
    "a = 10\n",
    "print(a, type(a))\n",
    "print()\n",
    "\n",
    "A = \"{}\".format(a)\n",
    "print(A)\n",
    "print()\n",
    "\n",
    "b = \"{}\".format(10)\n",
    "print(b, type(b))\n",
    "print()\n",
    "\n",
    "# {} 여러개 사용 가능, format 함수의 매개변수를 순차적으로 넣는다.\n",
    "# {} 개수 보다 format 함수의 매개변수가 더 많아도 무관함. {}들을 가능한만큼만 순차적으로 채워넣은 후 종료됨.\n",
    "c = \"{} {} {} {} {}\".format(2,9,9,7,9,2,4,5,8)\n",
    "print(c, type(c))\n",
    "print()\n",
    "\n",
    "d = \"{}{}{}\".format(2,9,9,7,9,2,4,5,8)\n",
    "print(d, type(d))\n",
    "print()\n",
    "\n",
    "e = \"{},{},{},{}\".format(2,9,9,7,9,2,4,5,8)\n",
    "print(e, type(e))\n",
    "print()"
   ]
  },
  {
   "cell_type": "code",
   "execution_count": null,
   "metadata": {},
   "outputs": [],
   "source": [
    "# format() 함수로 숫자를 문자열로 변환하기\n",
    "format_a=\"{}만 원\".format(5000)\n",
    "format_b=\"파이썬 열공하여 첫 연봉 {}만 원 만들기 \".format(5000)\n",
    "format_c=\"{} {} {}\".format(3000, 4000, 5000)\n",
    "print(format_a)\n",
    "print(format_b)\n",
    "print(format_c)\n",
    "print()\n",
    "#format 함수는 숫자형 이외의 자료형에도 적용 가능\n",
    "format_d=\"{} {} {}\".format(1, \"문자열\", True) \n",
    "print(format_d)"
   ]
  },
  {
   "cell_type": "code",
   "execution_count": null,
   "metadata": {},
   "outputs": [],
   "source": [
    "# indexError: {}개수가 format() 함수의 매개변수의 개수보다 많을 때 발생.\n",
    "a = \"{} {}\".format(1,9,7,3)\n",
    "print(a, type(a))\n",
    "\n",
    "a = \"{} {} {} {} {} {} {} {} {} {}\".format(1,9,7,3)\n",
    "print(a, type(a))\n",
    "print()"
   ]
  },
  {
   "cell_type": "code",
   "execution_count": null,
   "metadata": {},
   "outputs": [],
   "source": [
    "# integer 자료형 출력 지정 {:d}\n",
    "a=\"{:d}\".format(52)\n",
    "print(\"# {:d} → 정수 출력\")\n",
    "print(a)\n",
    "print()\n",
    "\n",
    "# 특정 칸에 출력하기\n",
    "b=\"{:5d}\".format(52)\n",
    "c=\"{:10d}\".format(52)\n",
    "print(\"# {:5d} → 5칸을 출력 칸으로 잡고 뒷쪽 칸으로 몰아서 출력\")\n",
    "print(b)\n",
    "print(\"# {:10d} → 10칸을 출력 칸으로 잡고 뒷쪽 칸으로 몰아서 출력\")\n",
    "print(c)\n",
    "print()\n",
    "\n",
    "# 빈칸을 0으로 채우기\n",
    "d=\"{:05d}\".format(52)\n",
    "e=\"{:05d}\".format(-52)\n",
    "print(\"# {:05d} → 5칸을 출력 칸으로 잡고, 빈 칸을 0으로 채우고, 뒷쪽 칸으로 몰아서 출력\")\n",
    "print(d)\n",
    "print(e)\n",
    "print()\n",
    "\n",
    "# 양수/음수 기호와 함께 출력하기\n",
    "f=\"{:+d}\".format(52)\n",
    "g=\"{:+d}\".format(-52)\n",
    "print(\"# {:+d} → 출력하는 정수 앞에 양수/음수 기호가 붙음\")\n",
    "print(f)\n",
    "print(g)\n",
    "print()\n",
    "\n",
    "# 양수 기호 부분은 공백, 음수 기호 출력\n",
    "h=\"{: d}\".format(52)\n",
    "i=\"{: d}\".format(-52)\n",
    "print(\"# {: d} → 양수 기호 부분은 공백, 음수는 음수 기호와 함께 출력\")\n",
    "print(h)\n",
    "print(i)"
   ]
  },
  {
   "cell_type": "code",
   "execution_count": null,
   "metadata": {},
   "outputs": [],
   "source": [
    "# 조합하기\n",
    "j=\"{:+5d}\".format(52)\n",
    "k=\"{:+5d}\".format(-52)\n",
    "print(\"# {:+5d} = {:+d} + {:5d}\")\n",
    "print(\"# 앞에 양/음수 기호 붙이고, 5칸을 출력 칸으로 잡고 뒷쪽 칸으로 몰아서 출력\")\n",
    "print(j)\n",
    "print(k)\n",
    "print()\n",
    "\n",
    "l=\"{:+05d}\".format(52)\n",
    "m=\"{:+05d}\".format(-52)\n",
    "print(\"# {:+05d} = {:+d} + {:05d}\")\n",
    "print(\"# 앞에 양/음수 기호 붙이고, 빈 칸을 0으로 채우고, 5칸을 출력 칸으로 잡고 뒷쪽 칸으로 몰아서 출력\")\n",
    "print(l)\n",
    "print(m)\n",
    "print()\n",
    "\n",
    "# 기호와 공백을 조합할 때는 = 사용\n",
    "# n칸의 공간을 잡았을 때, 기호를 빈칸 앞에 붙일지 숫자 뒤에 붙일지 결정\n",
    "n=\"{:=+5d}\".format(52)\n",
    "o=\"{:=+5d}\".format(-52)\n",
    "print(\"# {:=+5d}\" )\n",
    "print(\"양/음수 기호를 빈칸 앞에 출력, 양/음수 기호 붙이고, 5칸을 출력 칸으로 잡고 뒷쪽 칸으로 몰아서 출력\")\n",
    "print(n)\n",
    "print(o)"
   ]
  },
  {
   "cell_type": "code",
   "execution_count": null,
   "metadata": {},
   "outputs": [],
   "source": [
    "# 조합 순서가 잘못되면 Error 발생\n",
    "p=\"{:=0+5d}\".format(52) \n",
    "print(r)"
   ]
  },
  {
   "cell_type": "code",
   "execution_count": null,
   "metadata": {},
   "outputs": [],
   "source": [
    "# float 자료형 출력 지정 {:f}\n",
    "A=\"{:f}\".format(52.273)     \n",
    "B=\"{:15f}\".format(52.273)    # 15칸 만들기\n",
    "C=\"{:+15f}\".format(52.273)   # 15칸에 부호 추가하기\n",
    "D=\"{:+015f}\".format(52.273)  # 15칸에 부호 추가하고 0으로 채우기\n",
    "E=\"{:=+15f}\".format(52.273)  # 15칸에 부호 추가하고 0으로 채우기\n",
    "\n",
    "print(A)\n",
    "print(B)\n",
    "print(C)\n",
    "print(D)\n",
    "print(E)"
   ]
  },
  {
   "cell_type": "code",
   "execution_count": null,
   "metadata": {},
   "outputs": [],
   "source": [
    "# 소수점 아래 자릿수 지정\n",
    "F=\"{:15.3f}\".format(52.273)     \n",
    "G=\"{:15.2f}\".format(52.273)    \n",
    "H=\"{:15.1f}\".format(52.273)   \n",
    "\n",
    "print(F)\n",
    "print(G)\n",
    "print(H)"
   ]
  },
  {
   "cell_type": "code",
   "execution_count": null,
   "metadata": {},
   "outputs": [],
   "source": [
    "# 의미없는 소수점 제거 (맨 아래 자릿수 0 제거)\n",
    "I = 2.10000000\n",
    "J = \"{:g}\".format(I)\n",
    "print(I)\n",
    "print(J)\n",
    "print()\n",
    "\n",
    "K = 2.00000000\n",
    "L = \"{:g}\".format(K)\n",
    "print(K)\n",
    "print(L)\n",
    "print()\n",
    "\n",
    "M = 2.99792459123123123\n",
    "N = \"{:g}\".format(M)\n",
    "print(M)\n",
    "print(N)"
   ]
  },
  {
   "cell_type": "code",
   "execution_count": null,
   "metadata": {},
   "outputs": [],
   "source": [
    "# upper() : 문자열의 알파벳을 모두 대문자로\n",
    "# lower() : 문자열의 알파벳을 모두 소문자로\n",
    "# 비파괴적 함수: 출력값만 바꿀 뿐, 원본 데이터가 바뀌는 것은 아니다.\n",
    "O = \"Hello Python Programming...!\"\n",
    "P = O.upper()\n",
    "Q = O.lower() \n",
    "print(P)\n",
    "print(Q)"
   ]
  },
  {
   "cell_type": "code",
   "execution_count": null,
   "metadata": {},
   "outputs": [],
   "source": [
    "a = \"    asdf    \"\n",
    "print(\"양쪽 공백 존재\")\n",
    "print(a)\n",
    "print()\n",
    "\n",
    "# strip(): 문자열 양옆의 공백을 제거\n",
    "b = a.strip()\n",
    "print(\"# 문자열 양쪽 공백 제거\")\n",
    "print(b)\n",
    "print()\n",
    "\n",
    "# lstrip(): 문자열 왼쪽의 공백을 제거\n",
    "c = a.lstrip()\n",
    "print(\"# 문자열 왼쪽 공백 제거\")\n",
    "print(c)\n",
    "print()\n",
    "\n",
    "# rstrip(): 문자열 오른쪽의 공백을 제거\n",
    "d = a.rstrip()\n",
    "print(\"# 문자열 오른쪽 공백 제거\")\n",
    "print(d)"
   ]
  },
  {
   "cell_type": "code",
   "execution_count": null,
   "metadata": {},
   "outputs": [],
   "source": [
    "# 의도하지 않은 줄바꿈 및 양옆의 공백 또한 strip() 함수로 제거 가능\n",
    "a = \"\"\"\n",
    "               안녕하세요.\n",
    "오늘은 월요일 입니다.\n",
    "\"\"\"\n",
    "print(\"------------------\")\n",
    "print(a)\n",
    "print(\"------------------\")\n",
    "print(a.strip())\n",
    "print(\"------------------\")"
   ]
  },
  {
   "cell_type": "code",
   "execution_count": 1,
   "metadata": {},
   "outputs": [
    {
     "name": "stdout",
     "output_type": "stream",
     "text": [
      "False\n",
      "True\n",
      "True\n",
      "False\n",
      "False\n",
      "True\n",
      "False\n",
      "False\n"
     ]
    }
   ],
   "source": [
    "# 문자열의 구성 파악 isXXXX() → True 또는 False 출력\n",
    "\n",
    "# isalpha(): 문자열이 알파벳으로만 구성되어 있는지 확인\n",
    "print(\"TrainA10\".isalpha())\n",
    "\n",
    "# isalnum(): 문자열이 알파벳 또는 숫자로만 구성되어 있는지 확인\n",
    "print(\"TrainA10\".isalnum())\n",
    "\n",
    "# isidentifier(): 문자열이 식별자로 사용할 수 있는 것인지 확인\n",
    "print(\"TrainA10\".isidentifier())\n",
    "\n",
    "# isdecimal(): 문자열이 정수 형태인지 확인\n",
    "print(\"TrainA10\".isdecimal())\n",
    "\n",
    "# isdigit(): 문자열이 숫자로 인식될 수 있는 것인지 확인\n",
    "print(\"TrainA10\".isdigit())\n",
    "\n",
    "# isspace(): 문자열이 공백으로만 구성되어 있는지 확인\n",
    "print(\"  \".isspace())\n",
    "\n",
    "# isupper(): 문자열이 대문자로만 구성되어 있는지 확인\n",
    "print(\"TrainA10\".isupper())\n",
    "\n",
    "# islower(): 문자열이 소문자로만 구성되어 있는지 확인 \n",
    "print(\"TrainA10\".islower())"
   ]
  },
  {
   "cell_type": "code",
   "execution_count": null,
   "metadata": {},
   "outputs": [],
   "source": [
    "# 문자열 찾기: find(), rfind()\n",
    "# find() : 왼쪽부터 검색하여 처음 등장하는 위치 찾음\n",
    "A = \"ABCABCDEFGHIJK\".find(\"B\")\n",
    "print(A)\n",
    "# rfind() : 오른쪽부터 검색하여 처음 등장하는 위치 찾음\n",
    "B = \"ABCABCDEFGHIJK\".rfind(\"B\")\n",
    "print(B)"
   ]
  },
  {
   "cell_type": "code",
   "execution_count": null,
   "metadata": {},
   "outputs": [],
   "source": [
    "# 문자열 내부에 특정 문자열이 있는지 확인할 때 in 연산자 사용\n",
    "# 문자열 내부에 특정 문자열이 있으면 True, 없으면 False 출력\n",
    "print(\"안녕\" in \"안녕하세요\")\n",
    "print(\"강녕\" in \"안녕하세요\")"
   ]
  },
  {
   "cell_type": "code",
   "execution_count": null,
   "metadata": {},
   "outputs": [],
   "source": [
    "# 문자열 자르기: split()\n",
    "\n",
    "# 문자열을 띄어쓰기를 기준으로 자르기\n",
    "A = \"a 1 b 2 c 3\".split(\" \")\n",
    "print(A)\n",
    "print()\n",
    "\n",
    "# 문자열을 띄어쓰기를 ',' 기준으로 자르기\n",
    "B = \"1,2,3,4,5\".split(\",\")\n",
    "print(B)"
   ]
  },
  {
   "cell_type": "code",
   "execution_count": null,
   "metadata": {},
   "outputs": [],
   "source": [
    "a = input(\"첫번째 숫자> \")\n",
    "b = input(\"두번때 숫자> \")\n",
    "print()\n",
    "\n",
    "print(\"{} + {} = {}\".format(a,b,int(a)+int(b)))"
   ]
  },
  {
   "cell_type": "code",
   "execution_count": null,
   "metadata": {},
   "outputs": [],
   "source": []
  }
 ],
 "metadata": {
  "kernelspec": {
   "display_name": "Python 3",
   "language": "python",
   "name": "python3"
  },
  "language_info": {
   "codemirror_mode": {
    "name": "ipython",
    "version": 3
   },
   "file_extension": ".py",
   "mimetype": "text/x-python",
   "name": "python",
   "nbconvert_exporter": "python",
   "pygments_lexer": "ipython3",
   "version": "3.7.10"
  }
 },
 "nbformat": 4,
 "nbformat_minor": 4
}
