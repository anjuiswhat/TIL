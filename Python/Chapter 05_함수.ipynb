{
 "cells": [
  {
   "cell_type": "markdown",
   "metadata": {},
   "source": [
    "# 05-1. 함수 만들기\n",
    "호출, 매개변수, 리턴값, 가변 매개변수, 기본 매개변수"
   ]
  },
  {
   "cell_type": "markdown",
   "metadata": {},
   "source": [
    "### 함수의 기본\n",
    "\n",
    "def 함수이름():\n",
    "    문장"
   ]
  },
  {
   "cell_type": "code",
   "execution_count": null,
   "metadata": {},
   "outputs": [],
   "source": [
    "def output_3_times():\n",
    "    print(\"output\")\n",
    "    print(\"output\")\n",
    "    print(\"output\")\n",
    "\n",
    "output_3_times()"
   ]
  },
  {
   "cell_type": "code",
   "execution_count": null,
   "metadata": {},
   "outputs": [],
   "source": [
    "# 매개변수를 여러개 지정할 수 있음\n",
    "\n",
    "def output_n_times(x,n):\n",
    "    for i in range(n):\n",
    "        print(x)\n",
    "        \n",
    "output_n_times(\"aaa\",3)"
   ]
  },
  {
   "cell_type": "code",
   "execution_count": null,
   "metadata": {},
   "outputs": [],
   "source": []
  },
  {
   "cell_type": "code",
   "execution_count": null,
   "metadata": {},
   "outputs": [],
   "source": [
    "def print_n_times():\n",
    "    a = input(\"출력할 단어 입력> \")\n",
    "    b = input(\"출력할 횟수 입력> \")\n",
    "    if not b.isdecimal():\n",
    "        print(\"입력된 횟수가 정수가 아닙니다!!!\")\n",
    "    elif b.isdecimal():\n",
    "        print(\"입력한 {} 를 {}회 출력합니다.\".format(a,b))\n",
    "        print()\n",
    "        for i in range(int(b)):        \n",
    "            print(a)\n",
    "        \n",
    "print_n_times()"
   ]
  },
  {
   "cell_type": "code",
   "execution_count": null,
   "metadata": {},
   "outputs": [],
   "source": [
    "# 지정한 매개변수의 개수보다 적게 넣을 경우\n",
    "\n",
    "def print_n_times(value, n):\n",
    "    for i in range(n):\n",
    "        print(value)\n",
    "        \n",
    "print_n_times(\"안녕하세요\")    # 매개변수를 2개 지정했는데 1개만 넣음."
   ]
  },
  {
   "cell_type": "code",
   "execution_count": null,
   "metadata": {},
   "outputs": [],
   "source": [
    "# 지정한 매개변수의 개수보다 많이 넣을 경우\n",
    "\n",
    "def print_n_times(value, n):\n",
    "    for i in range(n):\n",
    "        print(value)\n",
    "        \n",
    "print_n_times(\"안녕하세요\", 5, 20)    # 매개변수를 2개 지정했는데 3개를 넣음."
   ]
  },
  {
   "cell_type": "markdown",
   "metadata": {},
   "source": [
    "### 가변 매개변수\n",
    "\n",
    "def 함수이름(일반매개변수1, 일반매개변수2, ... , *가변매개변수 ):\n",
    "    문장\n",
    "\n",
    "// 함수호출 시, //\n",
    "함수이름(일반매개변수1, 일반매개변수2, ... , 가변매개변수1, 가변매개변수2, ...):\n",
    "\n",
    "- 가변 매개변수 뒤에는 일반 매개변수가 올 수 없음\n",
    "- 가변 매개변수는 하나만 사용할 수 있음"
   ]
  },
  {
   "cell_type": "code",
   "execution_count": null,
   "metadata": {},
   "outputs": [],
   "source": [
    "def print_n_times(n, *x):\n",
    "    for i in range(n):\n",
    "        print(x)\n",
    "        print()\n",
    "\n",
    "print_n_times(3, \"안녕하세요\", \"즐거운\", \"파이썬 프로그래밍\")"
   ]
  },
  {
   "cell_type": "code",
   "execution_count": null,
   "metadata": {},
   "outputs": [],
   "source": [
    "def print_n_times(n, *x):\n",
    "    for i in range(n):\n",
    "        \n",
    "        for y in x:      # x를 리스트처럼 활용합니다.\n",
    "            print(y)\n",
    "            \n",
    "        print()\n",
    "\n",
    "# 함수를 호출합니다.\n",
    "print_n_times(3, \"안녕하세요\", \"즐거운\", \"파이썬 프로그래밍\")\n"
   ]
  },
  {
   "cell_type": "code",
   "execution_count": null,
   "metadata": {},
   "outputs": [],
   "source": [
    "A = [1,2,3]\n",
    "\n",
    "for i in A:\n",
    "    print(A)"
   ]
  },
  {
   "cell_type": "markdown",
   "metadata": {},
   "source": [
    "### 기본 매개변수\n",
    "\n",
    "매개변수를 입력하지 않았을 경우에 매개변수에 들어가는 기본값\n",
    "\n",
    "예) print(value, ..., seq='', end='/n', file=sys.stdout, flush=False)\n",
    "- print 함수의 기본 매개변수: seq, end, file, flush\n",
    "\n",
    "- 기본 매개변수 뒤에는 일반 매개변수가 올 수 없음"
   ]
  },
  {
   "cell_type": "code",
   "execution_count": null,
   "metadata": {
    "scrolled": true
   },
   "outputs": [],
   "source": [
    "def output_n_times(x,n=2):\n",
    "    for i in range(n):\n",
    "        print(x)\n",
    "        \n",
    "# 매개변수를 x, n 2개 입력해야 하지만 첫줄에서 n을 기본값이 2 인 기본 매개변수로 지정\n",
    "# 따라서 n 매개변수를 입력하지 않으면 기본값 2 로 입력됨\n",
    "\n",
    "output_n_times(\"aaa\")  "
   ]
  },
  {
   "cell_type": "markdown",
   "metadata": {},
   "source": [
    "#### 기본 매개변수 뒤에 일반 매개변수가 오지 못하도록 한 이유\n",
    "입력한 data 가 몇번째 매개변수로 할당되어야 하는지 확실하게 알 수 없으므로\n",
    "파이썬 프로그래밍 언어 내부적으로 기본 매개변수가 앞에 오도록 함\n",
    "→ 앞에 있는 매개변수부터 data 할당"
   ]
  },
  {
   "cell_type": "code",
   "execution_count": null,
   "metadata": {},
   "outputs": [],
   "source": [
    "# 기본 매개변수 뒤에 일반 매개변수가 올 경우 Error\n",
    "\n",
    "def output_n_times(n=2,x):\n",
    "    for i in range(n):\n",
    "        print(x)\n",
    "\n",
    "output_n_times(\"aaa\")  "
   ]
  },
  {
   "cell_type": "markdown",
   "metadata": {},
   "source": [
    "### 키워드 매개변수\n",
    "\n"
   ]
  },
  {
   "cell_type": "markdown",
   "metadata": {},
   "source": [
    "### 리턴\n"
   ]
  },
  {
   "cell_type": "code",
   "execution_count": null,
   "metadata": {},
   "outputs": [],
   "source": [
    "# 자료없이 리턴할 경우\n",
    "def return_test():\n",
    "    print(\"A 위치입니다.\")\n",
    "    return   # 코드 중간에 자료없이 리턴\n",
    "    print(\"B 위치입니다.\")\n",
    "\n",
    "return_test()"
   ]
  },
  {
   "cell_type": "code",
   "execution_count": null,
   "metadata": {},
   "outputs": [],
   "source": [
    "# 자료를 리턴할 경우\n",
    "\n",
    "def return_test():\n",
    "    print(\"A 위치입니다.\")\n",
    "    return 100  # 코드 중간에 100을 리턴\n",
    "    print(\"B 위치입니다.\")\n",
    "\n",
    "print(return_test())"
   ]
  },
  {
   "cell_type": "code",
   "execution_count": null,
   "metadata": {},
   "outputs": [],
   "source": [
    "# 아무것도 리턴하지 않을 경우\n",
    "\n",
    "def return_test():\n",
    "    return\n",
    "\n",
    "print(return_test())"
   ]
  },
  {
   "cell_type": "markdown",
   "metadata": {},
   "source": [
    "### 기본적인 함수의 활용\n",
    "\n",
    "def 함수(매개변수):\n",
    "    변수 = 초기값\n",
    "    # 여러가지 처리\n",
    "    # 여러가지 처리\n",
    "    ......\n",
    "    return 변수\n"
   ]
  },
  {
   "cell_type": "code",
   "execution_count": null,
   "metadata": {},
   "outputs": [],
   "source": [
    "# 범위 내의 정수를 모두 더하는 함수 (1)\n",
    "\n",
    "def sum_all(start, end, step):\n",
    "    \n",
    "    # 변수를 선언합니다.\n",
    "    output = 0\n",
    "    \n",
    "    # 반복문을 돌려 숫자를 더합니다.\n",
    "    for i in range(start, end + 1, step):\n",
    "        output += i\n",
    "    \n",
    "    # 리턴합니다.\n",
    "    return output\n",
    "\n",
    "# 함수를 호출합니다.\n",
    "print(\"A.\", sum_all(0, 100, 1))\n",
    "print()\n",
    "print(\"B.\", sum_all(0, 1000, 1))\n",
    "print()\n",
    "print(\"C.\", sum_all(50, 100, 1))\n",
    "print()\n",
    "print(\"D.\", sum_all(500, 1000, 1))"
   ]
  },
  {
   "cell_type": "code",
   "execution_count": null,
   "metadata": {},
   "outputs": [],
   "source": [
    "# 범위 내의 정수를 모두 더하는 함수 (2): 기본 매개변수와 키워드 매개변수 활용\n",
    "\n",
    "def sum_all(start=0, end=100, step=1):\n",
    "    \n",
    "    # 변수를 선언합니다.\n",
    "    output = 0\n",
    "    \n",
    "    # 반복문을 돌려 숫자를 더합니다.\n",
    "    for i in range(start, end + 1, step):\n",
    "        output += i\n",
    "        \n",
    "    # 리턴합니다.\n",
    "    return output\n",
    "\n",
    "# 함수를 호출합니다.\n",
    "print(\"A.\", sum_all())\n",
    "print()\n",
    "print(\"B.\", sum_all(end=1000))\n",
    "print()\n",
    "print(\"C.\", sum_all(start=50))\n",
    "print()\n",
    "print(\"D.\", sum_all(start=500, end=1000))"
   ]
  },
  {
   "cell_type": "code",
   "execution_count": null,
   "metadata": {},
   "outputs": [],
   "source": []
  },
  {
   "cell_type": "markdown",
   "metadata": {},
   "source": [
    "# 05-2. 함수의 활용\n",
    "재귀함수, 메모화 조기 리턴"
   ]
  },
  {
   "cell_type": "code",
   "execution_count": null,
   "metadata": {},
   "outputs": [],
   "source": []
  },
  {
   "cell_type": "code",
   "execution_count": null,
   "metadata": {},
   "outputs": [],
   "source": [
    " "
   ]
  },
  {
   "cell_type": "code",
   "execution_count": null,
   "metadata": {},
   "outputs": [],
   "source": [
    "# 팩토리얼 구하기: 반복문 사용\n",
    "\n",
    "def factorial(n):\n",
    "    x=1\n",
    "    for i in range(n, n+1):  # i = 1,2,3,...,n\n",
    "       x *= i               # 1(x초기값) * 1(i1) * 2(i2) * 3 * 4 * ...*n\n",
    "    return x\n",
    "\n",
    "factorial(3)"
   ]
  },
  {
   "cell_type": "code",
   "execution_count": null,
   "metadata": {},
   "outputs": [],
   "source": [
    "# 팩토리얼 구하기: 재귀함수 사용\n",
    "\n",
    "def factorial(n):\n",
    "    if n == 1:\n",
    "        return 1\n",
    "    else:\n",
    "        return n*factorial(n-1)\n",
    "    \n",
    "factorial(3)\n",
    "        \n",
    "        "
   ]
  },
  {
   "cell_type": "code",
   "execution_count": null,
   "metadata": {},
   "outputs": [],
   "source": [
    "# 피보나치 수열: 재귀함수 사용\n",
    "\n",
    "def fibonacci(n):\n",
    "    if n == 1:\n",
    "        return 1\n",
    "    if n == 2:\n",
    "        return 1\n",
    "    else:\n",
    "        return fibonacci(n-1) + fibonacci(n-2)\n",
    "    \n",
    "fibonacci(40)"
   ]
  },
  {
   "cell_type": "code",
   "execution_count": null,
   "metadata": {},
   "outputs": [],
   "source": [
    "# 변수를 선언합니다.\n",
    "counter = 0\n",
    "\n",
    "# 함수를 선언합니다.\n",
    "def fibonacci(n):\n",
    "    # 어떤 피보나치 수를 구하는지 출력합니다.\n",
    "    print(\"fibonacci({})를 구합니다.\".format(n))\n",
    "    global counter\n",
    "    counter += 1\n",
    "    # 피보나치 수를 구합니다.\n",
    "    if n == 1:\n",
    "        return 1\n",
    "    if n == 2:\n",
    "        return 1\n",
    "    else:\n",
    "        return fibonacci(n - 1) + fibonacci(n - 2)\n",
    "\n",
    "# 함수를 호출합니다.\n",
    "fibonacci(35)\n",
    "print(\"---\")\n",
    "print(\"fibonacci(10) 계산에 활용된 덧셈 횟수는 {}번입니다.\".format(counter))\n"
   ]
  },
  {
   "cell_type": "code",
   "execution_count": null,
   "metadata": {},
   "outputs": [],
   "source": [
    "def fibo(n):\n",
    "    return fibo(n-1) + fibo(n-2) if n >= 2 else n\n",
    "\n",
    "for n in range(1, 35):\n",
    "    print(n, fibo(n))"
   ]
  },
  {
   "cell_type": "code",
   "execution_count": null,
   "metadata": {},
   "outputs": [],
   "source": []
  },
  {
   "cell_type": "code",
   "execution_count": null,
   "metadata": {},
   "outputs": [],
   "source": []
  },
  {
   "cell_type": "code",
   "execution_count": null,
   "metadata": {},
   "outputs": [],
   "source": []
  },
  {
   "cell_type": "code",
   "execution_count": null,
   "metadata": {},
   "outputs": [],
   "source": []
  },
  {
   "cell_type": "code",
   "execution_count": null,
   "metadata": {},
   "outputs": [],
   "source": []
  },
  {
   "cell_type": "code",
   "execution_count": null,
   "metadata": {},
   "outputs": [],
   "source": []
  },
  {
   "cell_type": "code",
   "execution_count": null,
   "metadata": {},
   "outputs": [],
   "source": []
  },
  {
   "cell_type": "code",
   "execution_count": null,
   "metadata": {},
   "outputs": [],
   "source": []
  },
  {
   "cell_type": "code",
   "execution_count": null,
   "metadata": {},
   "outputs": [],
   "source": []
  },
  {
   "cell_type": "code",
   "execution_count": null,
   "metadata": {},
   "outputs": [],
   "source": []
  },
  {
   "cell_type": "code",
   "execution_count": null,
   "metadata": {},
   "outputs": [],
   "source": []
  },
  {
   "cell_type": "code",
   "execution_count": null,
   "metadata": {},
   "outputs": [],
   "source": []
  },
  {
   "cell_type": "code",
   "execution_count": null,
   "metadata": {},
   "outputs": [],
   "source": []
  },
  {
   "cell_type": "code",
   "execution_count": null,
   "metadata": {},
   "outputs": [],
   "source": []
  },
  {
   "cell_type": "code",
   "execution_count": null,
   "metadata": {},
   "outputs": [],
   "source": []
  }
 ],
 "metadata": {
  "kernelspec": {
   "display_name": "Python 3",
   "language": "python",
   "name": "python3"
  },
  "language_info": {
   "codemirror_mode": {
    "name": "ipython",
    "version": 3
   },
   "file_extension": ".py",
   "mimetype": "text/x-python",
   "name": "python",
   "nbconvert_exporter": "python",
   "pygments_lexer": "ipython3",
   "version": "3.7.10"
  }
 },
 "nbformat": 4,
 "nbformat_minor": 4
}
