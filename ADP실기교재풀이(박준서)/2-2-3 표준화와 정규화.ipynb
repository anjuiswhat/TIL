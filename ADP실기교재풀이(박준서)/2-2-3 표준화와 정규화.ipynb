{
 "cells": [
  {
   "cell_type": "markdown",
   "id": "674f54b6",
   "metadata": {},
   "source": [
    "## 1. import dataframe "
   ]
  },
  {
   "cell_type": "markdown",
   "id": "6e99f051",
   "metadata": {},
   "source": [
    "### 1. import libraries"
   ]
  },
  {
   "cell_type": "code",
   "execution_count": null,
   "id": "4e4f24e2",
   "metadata": {},
   "outputs": [],
   "source": [
    "import pandas as pd\n",
    "import numpy as np\n",
    "import sklearn\n",
    "from sklearn.preprocessing import minmax_scale\n",
    "import scipy.stats as ss"
   ]
  },
  {
   "cell_type": "markdown",
   "id": "3aa9d7ab",
   "metadata": {},
   "source": [
    "## 2. import mtcars data"
   ]
  },
  {
   "cell_type": "code",
   "execution_count": null,
   "id": "027f46a8",
   "metadata": {},
   "outputs": [],
   "source": [
    "data = pd.read_csv('https://gist.githubusercontent.com/ZeccaLehn/4e06d2575eb9589dbe8c365d61cb056c/raw/64f1660f38ef523b2a1a13be77b002b98665cdfe/mtcars.csv')\n",
    "data.rename(columns={'Unnamed: 0':'brand'}, inplace=True)"
   ]
  },
  {
   "cell_type": "code",
   "execution_count": null,
   "id": "becde026",
   "metadata": {},
   "outputs": [],
   "source": [
    "sample_data = data"
   ]
  },
  {
   "cell_type": "markdown",
   "id": "ab792dcb",
   "metadata": {},
   "source": [
    "## 3. Data Scaling / Normalization"
   ]
  },
  {
   "cell_type": "code",
   "execution_count": null,
   "id": "27b984bf",
   "metadata": {},
   "outputs": [],
   "source": [
    "# Data Scaling\n",
    "sample_data_6 = sample_data\n",
    "sample_data_6[['mpg','hp']] = minmax_scale(sample_data_6[['mpg','hp']])"
   ]
  },
  {
   "cell_type": "code",
   "execution_count": null,
   "id": "3b4489a6",
   "metadata": {},
   "outputs": [],
   "source": [
    "#Data normalization\n",
    "sample_data_7 = sample_data\n",
    "sample_data_7[['mpg','hp']] = ss.zscore(sample_data_7[['mpg','hp']])"
   ]
  }
 ],
 "metadata": {
  "kernelspec": {
   "display_name": "Python 3 (ipykernel)",
   "language": "python",
   "name": "python3"
  },
  "language_info": {
   "codemirror_mode": {
    "name": "ipython",
    "version": 3
   },
   "file_extension": ".py",
   "mimetype": "text/x-python",
   "name": "python",
   "nbconvert_exporter": "python",
   "pygments_lexer": "ipython3",
   "version": "3.8.12"
  }
 },
 "nbformat": 4,
 "nbformat_minor": 5
}
