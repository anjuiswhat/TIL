{
 "cells": [
  {
   "cell_type": "markdown",
   "id": "674f54b6",
   "metadata": {},
   "source": [
    "## 1. import dataframe "
   ]
  },
  {
   "cell_type": "markdown",
   "id": "6e99f051",
   "metadata": {},
   "source": [
    "### 1. import libraries"
   ]
  },
  {
   "cell_type": "code",
   "execution_count": 6,
   "id": "4e4f24e2",
   "metadata": {},
   "outputs": [],
   "source": [
    "import pandas as pd\n",
    "import numpy as np\n",
    "import scipy.stats as stats\n",
    "from scipy.stats import ttest_rel"
   ]
  },
  {
   "cell_type": "markdown",
   "id": "3aa9d7ab",
   "metadata": {},
   "source": [
    "## 2. import time series data"
   ]
  },
  {
   "cell_type": "code",
   "execution_count": 2,
   "id": "027f46a8",
   "metadata": {},
   "outputs": [],
   "source": [
    "df = pd.read_csv('https://raw.githubusercontent.com/selva86/datasets/master/a10.csv', parse_dates=['date'])\n",
    "sample_df = df"
   ]
  },
  {
   "cell_type": "code",
   "execution_count": 3,
   "id": "1d31fcff",
   "metadata": {},
   "outputs": [
    {
     "name": "stdout",
     "output_type": "stream",
     "text": [
      "T-value = 1.665, p-value = 0.097\n"
     ]
    }
   ],
   "source": [
    "# 정규성 검정 (n<5000 - Shapiro-Wilk test) \n",
    "# 1표본 t-test stats.ttest_1samp()함수\n",
    "t_test_1 = stats.ttest_1samp(sample_df['value'],10)\n",
    "print(\"T-value = %.3f, p-value = %.3f\" %t_test_1)"
   ]
  },
  {
   "cell_type": "code",
   "execution_count": 4,
   "id": "a49a462c",
   "metadata": {
    "scrolled": true
   },
   "outputs": [
    {
     "name": "stdout",
     "output_type": "stream",
     "text": [
      "LeveneResult(statistic = 0.438, pvalue = 0.509\n",
      "t-value = 0.704, pvalue = 0.482\n"
     ]
    }
   ],
   "source": [
    "# 2 sample t-test\n",
    "a = np.array([0,1])\n",
    "sample_df['grp'] = np.resize(a, len(sample_df))\n",
    "\n",
    "# Levene 검정 : 두 그룹의 분산 동일성 검정\n",
    "grp0 = sample_df.loc[sample_df.grp == 0, 'value']\n",
    "grp1 = sample_df.loc[sample_df.grp == 1, 'value']\n",
    "\n",
    "levene = stats.levene(grp0, grp1)\n",
    "print(\"LeveneResult(statistic = %.3f, pvalue = %.3f\" %levene)\n",
    "# Same s.d -> equal_var = True in t-test\n",
    "# 2-sample t-test\n",
    "t_test_2 = stats.ttest_ind(grp0, grp1, equal_var=True)\n",
    "print(\"t-value = %.3f, pvalue = %.3f\" %t_test_2)\n"
   ]
  },
  {
   "cell_type": "code",
   "execution_count": 5,
   "id": "2d4292b3",
   "metadata": {},
   "outputs": [],
   "source": [
    "# paired t-test (약복용 전과 후)"
   ]
  },
  {
   "cell_type": "code",
   "execution_count": 8,
   "id": "e3b0cdd6",
   "metadata": {},
   "outputs": [],
   "source": [
    "x1 = [.430,.266,.567,.531,.707,.716,.651,.589,.469,.723]\n",
    "x2 = [.415,.238,.390,.410,.605,.609,.632,.523,.411,.612]"
   ]
  },
  {
   "cell_type": "code",
   "execution_count": 9,
   "id": "5d763cd8",
   "metadata": {},
   "outputs": [
    {
     "data": {
      "text/plain": [
       "Ttest_relResult(statistic=4.863812745135183, pvalue=0.0008911154578225479)"
      ]
     },
     "execution_count": 9,
     "metadata": {},
     "output_type": "execute_result"
    }
   ],
   "source": [
    "ttest_rel(x1,x2)"
   ]
  }
 ],
 "metadata": {
  "kernelspec": {
   "display_name": "Python 3 (ipykernel)",
   "language": "python",
   "name": "python3"
  },
  "language_info": {
   "codemirror_mode": {
    "name": "ipython",
    "version": 3
   },
   "file_extension": ".py",
   "mimetype": "text/x-python",
   "name": "python",
   "nbconvert_exporter": "python",
   "pygments_lexer": "ipython3",
   "version": "3.8.12"
  }
 },
 "nbformat": 4,
 "nbformat_minor": 5
}
