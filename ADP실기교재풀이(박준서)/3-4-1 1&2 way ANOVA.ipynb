{
 "cells": [
  {
   "cell_type": "markdown",
   "id": "674f54b6",
   "metadata": {},
   "source": [
    "## 1. import dataframe "
   ]
  },
  {
   "cell_type": "markdown",
   "id": "6e99f051",
   "metadata": {},
   "source": [
    "### 1. import libraries"
   ]
  },
  {
   "cell_type": "code",
   "execution_count": 14,
   "id": "4e4f24e2",
   "metadata": {},
   "outputs": [],
   "source": [
    "import pandas as pd\n",
    "import urllib\n",
    "import matplotlib.pyplot as plt\n",
    "import numpy as np\n",
    "import scipy.stats as stats"
   ]
  },
  {
   "cell_type": "markdown",
   "id": "3aa9d7ab",
   "metadata": {},
   "source": [
    "## 2. import data"
   ]
  },
  {
   "cell_type": "code",
   "execution_count": 9,
   "id": "c38dc79f",
   "metadata": {},
   "outputs": [],
   "source": [
    "lst = [[1,2,3,4,5,6,7],\n",
    "          [10,13,15,2,23,11,16],\n",
    "          [9,3,5,12,1,2,7],\n",
    "          [0,0,5,5,3,3,2],\n",
    "          [2,4,6,8,10,13,15]]\n",
    "df_lst = pd.DataFrame(lst).T"
   ]
  },
  {
   "cell_type": "code",
   "execution_count": 13,
   "id": "ee086e75",
   "metadata": {},
   "outputs": [
    {
     "name": "stdout",
     "output_type": "stream",
     "text": [
      "          0         1         2         3         4\n",
      "0  1.000000  0.264619 -0.231800  0.372678  0.997990\n",
      "1  0.264619  1.000000 -0.757440 -0.155995  0.249525\n",
      "2 -0.231800 -0.757440  1.000000  0.155496 -0.231334\n",
      "3  0.372678 -0.155995  0.155496  1.000000  0.339004\n",
      "4  0.997990  0.249525 -0.231334  0.339004  1.000000\n",
      "          0         1         2         3         4\n",
      "0  1.000000  0.428571 -0.285714  0.312045  1.000000\n",
      "1  0.428571  1.000000 -0.642857 -0.036711  0.428571\n",
      "2 -0.285714 -0.642857  1.000000  0.055067 -0.285714\n",
      "3  0.312045 -0.036711  0.055067  1.000000  0.312045\n",
      "4  1.000000  0.428571 -0.285714  0.312045  1.000000\n"
     ]
    }
   ],
   "source": [
    "df_lst\n",
    "corr = df_lst.corr(method = 'pearson')\n",
    "corr1 = df_lst.corr(method = 'spearman') # kendall 도 가능\n",
    "print(corr)\n",
    "print(corr1)"
   ]
  },
  {
   "cell_type": "code",
   "execution_count": 17,
   "id": "5bc5a55f",
   "metadata": {},
   "outputs": [
    {
     "data": {
      "text/plain": [
       "(0.2646188733785785, 0.566330723244535)"
      ]
     },
     "execution_count": 17,
     "metadata": {},
     "output_type": "execute_result"
    }
   ],
   "source": [
    "## 상관계수 검정 ##\n",
    "stats.pearsonr(df_lst[0],df_lst[1])\n",
    "# 앞의 값이 상관관계, 뒤의 값이 p-value\n",
    "# -> 둘이 상관관계가 없다"
   ]
  }
 ],
 "metadata": {
  "kernelspec": {
   "display_name": "Python 3",
   "language": "python",
   "name": "python3"
  },
  "language_info": {
   "codemirror_mode": {
    "name": "ipython",
    "version": 3
   },
   "file_extension": ".py",
   "mimetype": "text/x-python",
   "name": "python",
   "nbconvert_exporter": "python",
   "pygments_lexer": "ipython3",
   "version": "3.8.8"
  }
 },
 "nbformat": 4,
 "nbformat_minor": 5
}
