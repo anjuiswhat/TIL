{
 "cells": [
  {
   "cell_type": "markdown",
   "id": "e3096c02-ef5f-4e9d-bd67-bfb986c896a6",
   "metadata": {
    "tags": []
   },
   "source": [
    "## - 불러올 패키지 목록"
   ]
  },
  {
   "cell_type": "code",
   "execution_count": 1,
   "id": "a8d24a93-f711-4d08-beb7-4f735cd006d1",
   "metadata": {},
   "outputs": [],
   "source": [
    "# 파이썬 기본 패키지\n",
    "import math  # 수학 함수 패키지\n",
    "import itertools  # Functions creating iterators for efficient looping\n",
    "\n",
    "# 데이터 핸들링을 위한 패키지\n",
    "import numpy as np\n",
    "import pandas as pd\n",
    "\n",
    "# statsmodels 패키지\n",
    "from statsmodels.api import *\n",
    "from statsmodels.formula.api import *\n",
    "from statsmodels.stats.api import *\n",
    "from statsmodels.stats.proportion import *\n",
    "from statsmodels.stats.diagnostic import *\n",
    "from statsmodels.stats.weightstats import *\n",
    "from statsmodels.stats.outliers_influence import *  # 다중공선성 확인 관련 패키지\n",
    "from statsmodels.multivariate.pca import PCA as pca  # 대문자로 사용할 경우 sklearn 의 PCA와 겹침\n",
    "\n",
    "# 분산분석 관련 패키지\n",
    "import scikit_posthocs as sp  # 사후검정\n",
    "from statsmodels.stats.multicomp import pairwise_tukeyhsd    # 사후검정\n",
    "from statsmodels.sandbox.stats.multicomp import MultiComparison    # MultiComparison을 활용한 사후검정 시 사용\n",
    "from statsmodels.graphics.factorplots import interaction_plot    # 상호작용효과 그래프 출력 시 사용\n",
    "\n",
    "# 요인분석을 위한 패키지\n",
    "from factor_analyzer import FactorAnalyzer\n",
    "\n",
    "# 시계열 관련 statsmodels 패키지\n",
    "from statsmodels.tsa.api import *\n",
    "from statsmodels.tsa.ar_model import *\n",
    "from statsmodels.tsa.arima.model import *\n",
    "from statsmodels.tsa.arima_process import *\n",
    "from statsmodels.tsa.statespace import *\n",
    "from statsmodels.graphics.api import *\n",
    "from statsmodels.graphics.tsaplots import * \n",
    "\n",
    "# SciPy 패키지\n",
    "import scipy\n",
    "import scipy.stats as stats  # 통계 분석을 위한 패키지\n",
    "from scipy.cluster.hierarchy import *  # 계층적 군집 분석을 위한 패키지\n",
    "\n",
    "# pingouin 패키지\n",
    "import pingouin as pg\n",
    "\n",
    "# scikit-learn 패키지\n",
    "from sklearn.preprocessing import *  # 데이터 전처리를 위한 패키지\n",
    "from sklearn.feature_selection import *  # 알고리즘에 큰 영향을 미치는 feature를 우선순위대로 선택하는 기능 제공\n",
    "from sklearn.model_selection import *  # 데이터 분리, 검증 및 파라미터 튜닝을 위한 패키지\n",
    "from sklearn.metrics import *  # 모델에 대한 다양한 성능 평가를 위한 패키지\n",
    "from sklearn.linear_model import *    # 선형 회귀 분석을 위한 패키지 (로지스틱 회귀 포함)\n",
    "from sklearn.cluster import *  # 비지도 군집화 알고리즘 제공\n",
    "from sklearn.tree import *  # 의사결정나무 알고리즘 제공\n",
    "from sklearn.ensemble import *  # 앙상블 알고리즘 제공\n",
    "from sklearn.neighbors import *  # kNN 알고리즘 제공\n",
    "from sklearn.svm import *  # 서포트 벡터 머신 알고리즘 제공\n",
    "from sklearn.mixture import *  # 혼합분포군집(GMM 등) 알고리즘 제공\n",
    "from sklearn.decomposition import *  # 차원축소 알고리즘 제공\n",
    "from sklearn.multiclass import OneVsRestClassifier  # multiclass 분류기 알고리즘 제공\n",
    "from sklearn.pipeline import *\n",
    "\n",
    "# mlxtend 패키지\n",
    "from mlxtend.preprocessing import *  # 연관분석에 필요한 트랜잭션 전처리 알고리즘 포함\n",
    "from mlxtend.frequent_patterns import *  # 연관분석에 사용되는 알고리즘 포함 \n",
    "from mlxtend.plotting import plot_decision_regions\n",
    "from mlxtend.feature_selection import SequentialFeatureSelector as SFS  # 변수선택 알고리즘 포함\n",
    "from mlxtend.plotting import plot_sequential_feature_selection as plot_sfs\n",
    "\n",
    "# missingno 패키지 (데이터 전처리 전 결측치 확인)\n",
    "import missingno as msno\n",
    "\n",
    "# label별 데이터 카운트를 위한 모듈\n",
    "from collections import Counter  # https://docs.python.org/3/library/collections.html\n",
    "\n",
    "# 시각화를 위한 패키지\n",
    "import seaborn as sb\n",
    "import matplotlib.pyplot as plt\n",
    "import matplotlib.cm as cm  # 내장 colormap, colormap 처리 유틸리티\n",
    "from matplotlib.colors import ListedColormap  # colors and colormaps\n",
    "from mlxtend.plotting import plot_decision_regions\n",
    "%matplotlib inline\n",
    "# %matplotlib inline 의 목적은 plt.show()함수가 호출되지 않은 경우에도 matplotlib 다이어그램을 렌더링하는 것이다.\n",
    "# 그러나 현재 업데이트된 버전의 주피터 노트북 버전에서는 %matplotlib inline 를 사용하지 않더라도 Matplotlib 다이어그램을 개체로 표현한다.\n",
    "# 따라서 굳이 필요하지는 않다. 그러나 코드를 깨끗하게 유지하고 자신이 만든 플롯을 호출하기 위해 여전히 관례적으로 권장된다.\n",
    "\n",
    "# 경고 메시지 무시\n",
    "import warnings\n",
    "warnings.filterwarnings('ignore')\n",
    "\n",
    "# 그래프 스타일 서식 지정\n",
    "plt.style.use('default')\n",
    "\n",
    "# 한글 폰트 설정\n",
    "plt.rc('font', family='Malgun Gothic')\n",
    "\n",
    "# 그래프 축의 음수 표현 오류 방지\n",
    "plt.rcParams['axes.unicode_minus'] = False\n",
    "#\n",
    "#"
   ]
  },
  {
   "cell_type": "markdown",
   "id": "e1f6c0d5-b32d-494d-8137-6c8dd6c65a49",
   "metadata": {},
   "source": [
    "# 일원 분산분석 (one-way ANOVA)"
   ]
  },
  {
   "cell_type": "raw",
   "id": "df90b9a4-3100-4868-b57a-1a9b3a0a484f",
   "metadata": {},
   "source": [
    "[ 문제 ]\n",
    "Harvest.csv 파일은 네 종류(F1, F2, F3, F4)의 비료에 따른 농작물의 평균 수확량에 차이가 있는지를 알아보기 위해, 동일한 면적을 가진 16개의 경작지로부터 얻은 데이터이다.\n",
    "비료에 따른 수확량의 차이가 있는지 분산분석을 수행하라."
   ]
  },
  {
   "cell_type": "code",
   "execution_count": 2,
   "id": "724fba0d-79e5-48cb-aed3-e449be4a503c",
   "metadata": {},
   "outputs": [
    {
     "data": {
      "text/html": [
       "<div>\n",
       "<style scoped>\n",
       "    .dataframe tbody tr th:only-of-type {\n",
       "        vertical-align: middle;\n",
       "    }\n",
       "\n",
       "    .dataframe tbody tr th {\n",
       "        vertical-align: top;\n",
       "    }\n",
       "\n",
       "    .dataframe thead th {\n",
       "        text-align: right;\n",
       "    }\n",
       "</style>\n",
       "<table border=\"1\" class=\"dataframe\">\n",
       "  <thead>\n",
       "    <tr style=\"text-align: right;\">\n",
       "      <th></th>\n",
       "      <th>Fertil</th>\n",
       "      <th>Yield</th>\n",
       "    </tr>\n",
       "  </thead>\n",
       "  <tbody>\n",
       "    <tr>\n",
       "      <th>0</th>\n",
       "      <td>F1</td>\n",
       "      <td>148</td>\n",
       "    </tr>\n",
       "    <tr>\n",
       "      <th>1</th>\n",
       "      <td>F1</td>\n",
       "      <td>76</td>\n",
       "    </tr>\n",
       "    <tr>\n",
       "      <th>2</th>\n",
       "      <td>F1</td>\n",
       "      <td>134</td>\n",
       "    </tr>\n",
       "    <tr>\n",
       "      <th>3</th>\n",
       "      <td>F1</td>\n",
       "      <td>98</td>\n",
       "    </tr>\n",
       "    <tr>\n",
       "      <th>4</th>\n",
       "      <td>F2</td>\n",
       "      <td>166</td>\n",
       "    </tr>\n",
       "    <tr>\n",
       "      <th>5</th>\n",
       "      <td>F2</td>\n",
       "      <td>153</td>\n",
       "    </tr>\n",
       "    <tr>\n",
       "      <th>6</th>\n",
       "      <td>F2</td>\n",
       "      <td>255</td>\n",
       "    </tr>\n",
       "    <tr>\n",
       "      <th>7</th>\n",
       "      <td>F3</td>\n",
       "      <td>264</td>\n",
       "    </tr>\n",
       "    <tr>\n",
       "      <th>8</th>\n",
       "      <td>F3</td>\n",
       "      <td>214</td>\n",
       "    </tr>\n",
       "    <tr>\n",
       "      <th>9</th>\n",
       "      <td>F3</td>\n",
       "      <td>327</td>\n",
       "    </tr>\n",
       "    <tr>\n",
       "      <th>10</th>\n",
       "      <td>F3</td>\n",
       "      <td>304</td>\n",
       "    </tr>\n",
       "    <tr>\n",
       "      <th>11</th>\n",
       "      <td>F4</td>\n",
       "      <td>335</td>\n",
       "    </tr>\n",
       "    <tr>\n",
       "      <th>12</th>\n",
       "      <td>F4</td>\n",
       "      <td>436</td>\n",
       "    </tr>\n",
       "    <tr>\n",
       "      <th>13</th>\n",
       "      <td>F4</td>\n",
       "      <td>423</td>\n",
       "    </tr>\n",
       "    <tr>\n",
       "      <th>14</th>\n",
       "      <td>F4</td>\n",
       "      <td>380</td>\n",
       "    </tr>\n",
       "    <tr>\n",
       "      <th>15</th>\n",
       "      <td>F4</td>\n",
       "      <td>465</td>\n",
       "    </tr>\n",
       "  </tbody>\n",
       "</table>\n",
       "</div>"
      ],
      "text/plain": [
       "   Fertil  Yield\n",
       "0      F1    148\n",
       "1      F1     76\n",
       "2      F1    134\n",
       "3      F1     98\n",
       "4      F2    166\n",
       "5      F2    153\n",
       "6      F2    255\n",
       "7      F3    264\n",
       "8      F3    214\n",
       "9      F3    327\n",
       "10     F3    304\n",
       "11     F4    335\n",
       "12     F4    436\n",
       "13     F4    423\n",
       "14     F4    380\n",
       "15     F4    465"
      ]
     },
     "execution_count": 2,
     "metadata": {},
     "output_type": "execute_result"
    }
   ],
   "source": [
    "df = pd.read_csv(r'C:\\Users\\Boanerges\\GitHub\\rawdata\\Harvest.csv')\n",
    "\n",
    "df = df.drop('ID', axis = 1)\n",
    "df"
   ]
  },
  {
   "cell_type": "code",
   "execution_count": 3,
   "id": "7896efd6-4744-46d3-a932-e51997f4ba3c",
   "metadata": {},
   "outputs": [
    {
     "data": {
      "image/png": "[encoded data removed]",
      "text/plain": [
       "<Figure size 640x480 with 1 Axes>"
      ]
     },
     "metadata": {},
     "output_type": "display_data"
    }
   ],
   "source": [
    "df.boxplot('Yield', by='Fertil')\n",
    "plt.show()"
   ]
  },
  {
   "cell_type": "markdown",
   "id": "aeaa3ad2-45b8-4461-865a-d5d0abb40751",
   "metadata": {},
   "source": [
    "## 일원분류 분산분석의 가정 확인\n",
    "\n",
    "1. 독립 표본 가정 : 각 집단 간의 자료는 독립이다.\n",
    "2. 정규성 : 각 집단의 자료는 정규분포를 따른다.\n",
    "3. 등분산성 : 각 집단의 모분산은 동일하다.\n",
    "\n",
    "- 위의 가정을 만족하지 않는 경우 비모수 검정을 선택하는 것이 타당하다."
   ]
  },
  {
   "cell_type": "markdown",
   "id": "b7a0b9d4-bb05-4739-b251-b30b41e52f36",
   "metadata": {},
   "source": [
    "### 정규성 검정"
   ]
  },
  {
   "cell_type": "code",
   "execution_count": 4,
   "id": "5e2b4e58-f719-4082-8016-04513213a314",
   "metadata": {},
   "outputs": [
    {
     "name": "stdout",
     "output_type": "stream",
     "text": [
      "0 F1\n",
      "1 F2\n",
      "2 F3\n",
      "3 F4\n"
     ]
    }
   ],
   "source": [
    "a = ['F1', 'F2', 'F3', 'F4']\n",
    "\n",
    "for i, j in enumerate(a):\n",
    "    print(i, j)"
   ]
  },
  {
   "cell_type": "code",
   "execution_count": 5,
   "id": "d7104fb6-46cc-4ab4-873b-45dd1a73a3fa",
   "metadata": {},
   "outputs": [
    {
     "data": {
      "image/png": "[encoded data removed]",
      "text/plain": [
       "<Figure size 1500x1000 with 4 Axes>"
      ]
     },
     "metadata": {},
     "output_type": "display_data"
    }
   ],
   "source": [
    "# 데이터 분포 확인 (distplot())\n",
    "\n",
    "plt.figure(figsize=(15,10))\n",
    "\n",
    "a = ['F1', 'F2', 'F3', 'F4']\n",
    "\n",
    "for i, j in enumerate(a):\n",
    "    plt.subplot( 2, 2, 1+i )\n",
    "    plt.title(j)\n",
    "    sb.distplot( df[ df['Fertil']==j]['Yield'], kde = True )    "
   ]
  },
  {
   "cell_type": "markdown",
   "id": "bf8fca81-f620-4bfe-bcd0-94cc607c5344",
   "metadata": {},
   "source": [
    "#### Shapiro-Wilk normality test"
   ]
  },
  {
   "cell_type": "code",
   "execution_count": 6,
   "id": "c832bde1-2281-4175-ac22-091128857754",
   "metadata": {},
   "outputs": [
    {
     "name": "stdout",
     "output_type": "stream",
     "text": [
      "F1 ShapiroResult(statistic=0.9626894593238831, pvalue=0.8265766501426697)\n",
      "F2 ShapiroResult(statistic=0.9626894593238831, pvalue=0.8265766501426697)\n",
      "F3 ShapiroResult(statistic=0.9626894593238831, pvalue=0.8265766501426697)\n",
      "F4 ShapiroResult(statistic=0.9626894593238831, pvalue=0.8265766501426697)\n"
     ]
    }
   ],
   "source": [
    "# shapiro test\n",
    "a = ['F1', 'F2', 'F3', 'F4']\n",
    "\n",
    "for i in a:\n",
    "    print(i, stats.shapiro( df[ df['Fertil']==j]['Yield']) )"
   ]
  },
  {
   "cell_type": "markdown",
   "id": "43da3b2e-2542-4ddc-968b-eca0b5fbd270",
   "metadata": {},
   "source": [
    "### 등분산 검정\n",
    "\n",
    "< 가설 설정 - 등분산성 검정 >\n",
    "- 귀무가설(H0) : 세 집단의 분산이 동일하다.\n",
    "- 대립가설(H1) : 적어도 한 집단의 분산이 동일하지 않다.\n",
    "\n",
    "※ 정규성을 가정할 수 없을 때에는 Levene 검정을 사용하는 것이 좋지만,  \n",
    "정규성이 확실하다면 Bartlett 검정을 사용하는 것이 정확하다."
   ]
  },
  {
   "cell_type": "code",
   "execution_count": 7,
   "id": "4e679e6b-13f1-4695-99c9-f82c194a0346",
   "metadata": {},
   "outputs": [],
   "source": [
    "f1 = df[ df.Fertil == 'F1'].Yield\n",
    "f2 = df[ df.Fertil == 'F2'].Yield\n",
    "f3 = df[ df.Fertil == 'F3'].Yield\n",
    "f4 = df[ df.Fertil == 'F4'].Yield"
   ]
  },
  {
   "cell_type": "markdown",
   "id": "60f99d39-ee44-4648-b131-fc43c6de6c09",
   "metadata": {},
   "source": [
    "#### Bartlett's Test"
   ]
  },
  {
   "cell_type": "code",
   "execution_count": 8,
   "id": "e5a16e6d-8057-44ab-b44b-8afa479ca4ae",
   "metadata": {
    "tags": []
   },
   "outputs": [
    {
     "name": "stdout",
     "output_type": "stream",
     "text": [
      " Statistic(Bartlett's test): 0.695 \n",
      " P-value: 0.874300488751 \n",
      " p-value > 0.05 이므로 귀무가설 채택. 등분산성을 만족한다.\n",
      "\n"
     ]
    }
   ],
   "source": [
    "# scipy.stats.bartlett( sample1, sample2,… )\n",
    "\n",
    "bartlett_test = stats.bartlett( f1, f2, f3, f4 )\n",
    "print( f\" Statistic(Bartlett's test): {bartlett_test[0]:.3f} \\n P-value: {bartlett_test[1]:.12f} \" )\n",
    "\n",
    "if bartlett_test[1] < 0.05:\n",
    "    print(\" p-value < 0.05 이므로 귀무가설 기각. 등분산성을 만족하지 않는다.\")\n",
    "if bartlett_test[1] > 0.05:\n",
    "    print(\" p-value > 0.05 이므로 귀무가설 채택. 등분산성을 만족한다.\")\n",
    "print()"
   ]
  },
  {
   "cell_type": "markdown",
   "id": "138cb414-8c06-4ee1-abf7-d36b253c778f",
   "metadata": {
    "tags": []
   },
   "source": [
    "## 일원 분산분석\n",
    "\n",
    "< 가설 설정 - ANOVA >\n",
    "- 귀무가설(H0) : 네 가지 비료의 수확량의 평균은 같다.\n",
    "- 대립가설(H1) : 적어도 하나 이상의 비료에 대한 수확량 평균값에는 차이가 있다."
   ]
  },
  {
   "cell_type": "code",
   "execution_count": 9,
   "id": "89351c44-c492-44f3-b115-47230961085c",
   "metadata": {},
   "outputs": [
    {
     "data": {
      "text/html": [
       "<div>\n",
       "<style scoped>\n",
       "    .dataframe tbody tr th:only-of-type {\n",
       "        vertical-align: middle;\n",
       "    }\n",
       "\n",
       "    .dataframe tbody tr th {\n",
       "        vertical-align: top;\n",
       "    }\n",
       "\n",
       "    .dataframe thead tr th {\n",
       "        text-align: left;\n",
       "    }\n",
       "\n",
       "    .dataframe thead tr:last-of-type th {\n",
       "        text-align: right;\n",
       "    }\n",
       "</style>\n",
       "<table border=\"1\" class=\"dataframe\">\n",
       "  <thead>\n",
       "    <tr>\n",
       "      <th></th>\n",
       "      <th colspan=\"4\" halign=\"left\">Yield</th>\n",
       "    </tr>\n",
       "    <tr>\n",
       "      <th></th>\n",
       "      <th>mean</th>\n",
       "      <th>std</th>\n",
       "      <th>min</th>\n",
       "      <th>max</th>\n",
       "    </tr>\n",
       "    <tr>\n",
       "      <th>Fertil</th>\n",
       "      <th></th>\n",
       "      <th></th>\n",
       "      <th></th>\n",
       "      <th></th>\n",
       "    </tr>\n",
       "  </thead>\n",
       "  <tbody>\n",
       "    <tr>\n",
       "      <th>F1</th>\n",
       "      <td>114.000</td>\n",
       "      <td>32.944</td>\n",
       "      <td>76</td>\n",
       "      <td>148</td>\n",
       "    </tr>\n",
       "    <tr>\n",
       "      <th>F2</th>\n",
       "      <td>191.333</td>\n",
       "      <td>55.519</td>\n",
       "      <td>153</td>\n",
       "      <td>255</td>\n",
       "    </tr>\n",
       "    <tr>\n",
       "      <th>F3</th>\n",
       "      <td>277.250</td>\n",
       "      <td>49.554</td>\n",
       "      <td>214</td>\n",
       "      <td>327</td>\n",
       "    </tr>\n",
       "    <tr>\n",
       "      <th>F4</th>\n",
       "      <td>407.800</td>\n",
       "      <td>50.919</td>\n",
       "      <td>335</td>\n",
       "      <td>465</td>\n",
       "    </tr>\n",
       "  </tbody>\n",
       "</table>\n",
       "</div>"
      ],
      "text/plain": [
       "          Yield                  \n",
       "           mean     std  min  max\n",
       "Fertil                           \n",
       "F1      114.000  32.944   76  148\n",
       "F2      191.333  55.519  153  255\n",
       "F3      277.250  49.554  214  327\n",
       "F4      407.800  50.919  335  465"
      ]
     },
     "execution_count": 9,
     "metadata": {},
     "output_type": "execute_result"
    }
   ],
   "source": [
    "df.groupby('Fertil').agg({'Yield':['mean', 'std', 'min', 'max']}).round(3)"
   ]
  },
  {
   "cell_type": "markdown",
   "id": "e2d95c53-bf62-495a-b1f3-f8e19f0ed977",
   "metadata": {},
   "source": [
    "### `anova()` - pingouin\n",
    "\n",
    "- `pingouin.anova( data=None, dv=None, between=None, ss_type=2, detailed=False, effsize='np2' )`\n",
    "  - https://pingouin-stats.org/generated/pingouin.anova.html\n",
    "  - Parameters :\n",
    "    - data : 데이터프레임\n",
    "    - dv : 종속 변수를 포함하는 데이터의 열 이름\n",
    "    - between : 개체 간 요인을 포함하는 데이터의 열 이름\n",
    "      - 단일 문자열이면 one-way ANOVA 수행.\n",
    "      - 두 개 이상의 요소를 포함하는 목록이면 N-way ANOVA 수행\n",
    "    - ss_type : 요인이 2개 이상인 불균형 설계에 대해 제곱합을 계산하는 방법을 지정\n",
    "    - detailed :\n",
    "      - True인 경우 자세한 ANOVA 테이블을 반환\n",
    "      - 기본값 False 이면 one-way ANOVA, True 이면 N-way ANOVA. \n",
    "    - effsize :\n",
    "      - 효과 크기. 'np2'는 부분 에타 제곱, 'n2'는 에타 제곱.\n",
    "      - 일원 분산 분석의 경우 부분 에타 제곱은 에타 제곱과 동일"
   ]
  },
  {
   "cell_type": "code",
   "execution_count": 10,
   "id": "a2166299-ca76-4e0a-bb47-d8d697a7be89",
   "metadata": {},
   "outputs": [
    {
     "data": {
      "text/html": [
       "<div>\n",
       "<style scoped>\n",
       "    .dataframe tbody tr th:only-of-type {\n",
       "        vertical-align: middle;\n",
       "    }\n",
       "\n",
       "    .dataframe tbody tr th {\n",
       "        vertical-align: top;\n",
       "    }\n",
       "\n",
       "    .dataframe thead th {\n",
       "        text-align: right;\n",
       "    }\n",
       "</style>\n",
       "<table border=\"1\" class=\"dataframe\">\n",
       "  <thead>\n",
       "    <tr style=\"text-align: right;\">\n",
       "      <th></th>\n",
       "      <th>Source</th>\n",
       "      <th>SS</th>\n",
       "      <th>DF</th>\n",
       "      <th>MS</th>\n",
       "      <th>F</th>\n",
       "      <th>p-unc</th>\n",
       "      <th>np2</th>\n",
       "    </tr>\n",
       "  </thead>\n",
       "  <tbody>\n",
       "    <tr>\n",
       "      <th>0</th>\n",
       "      <td>Fertil</td>\n",
       "      <td>209803.533333</td>\n",
       "      <td>3</td>\n",
       "      <td>69934.511111</td>\n",
       "      <td>30.900929</td>\n",
       "      <td>0.000006</td>\n",
       "      <td>0.88539</td>\n",
       "    </tr>\n",
       "    <tr>\n",
       "      <th>1</th>\n",
       "      <td>Within</td>\n",
       "      <td>27158.216667</td>\n",
       "      <td>12</td>\n",
       "      <td>2263.184722</td>\n",
       "      <td>NaN</td>\n",
       "      <td>NaN</td>\n",
       "      <td>NaN</td>\n",
       "    </tr>\n",
       "  </tbody>\n",
       "</table>\n",
       "</div>"
      ],
      "text/plain": [
       "   Source             SS  DF            MS          F     p-unc      np2\n",
       "0  Fertil  209803.533333   3  69934.511111  30.900929  0.000006  0.88539\n",
       "1  Within   27158.216667  12   2263.184722        NaN       NaN      NaN"
      ]
     },
     "execution_count": 10,
     "metadata": {},
     "output_type": "execute_result"
    }
   ],
   "source": [
    "pg.anova( data = df,\n",
    "          dv = 'Yield', between = 'Fertil',\n",
    "          detailed = True )"
   ]
  },
  {
   "cell_type": "code",
   "execution_count": 11,
   "id": "a9a7e8e4-e6f5-490a-a5f2-6e3f49d1e252",
   "metadata": {},
   "outputs": [
    {
     "data": {
      "text/html": [
       "<div>\n",
       "<style scoped>\n",
       "    .dataframe tbody tr th:only-of-type {\n",
       "        vertical-align: middle;\n",
       "    }\n",
       "\n",
       "    .dataframe tbody tr th {\n",
       "        vertical-align: top;\n",
       "    }\n",
       "\n",
       "    .dataframe thead th {\n",
       "        text-align: right;\n",
       "    }\n",
       "</style>\n",
       "<table border=\"1\" class=\"dataframe\">\n",
       "  <thead>\n",
       "    <tr style=\"text-align: right;\">\n",
       "      <th></th>\n",
       "      <th>Source</th>\n",
       "      <th>ddof1</th>\n",
       "      <th>ddof2</th>\n",
       "      <th>F</th>\n",
       "      <th>p-unc</th>\n",
       "      <th>np2</th>\n",
       "    </tr>\n",
       "  </thead>\n",
       "  <tbody>\n",
       "    <tr>\n",
       "      <th>0</th>\n",
       "      <td>Fertil</td>\n",
       "      <td>3</td>\n",
       "      <td>12</td>\n",
       "      <td>30.900929</td>\n",
       "      <td>0.000006</td>\n",
       "      <td>0.88539</td>\n",
       "    </tr>\n",
       "  </tbody>\n",
       "</table>\n",
       "</div>"
      ],
      "text/plain": [
       "   Source  ddof1  ddof2          F     p-unc      np2\n",
       "0  Fertil      3     12  30.900929  0.000006  0.88539"
      ]
     },
     "execution_count": 11,
     "metadata": {},
     "output_type": "execute_result"
    }
   ],
   "source": [
    "pg.anova( data = df,\n",
    "          dv = 'Yield', between = 'Fertil' )"
   ]
  },
  {
   "cell_type": "code",
   "execution_count": null,
   "id": "63b2d622-f0ef-4d75-a9a3-72b72d29e7d3",
   "metadata": {},
   "outputs": [],
   "source": []
  },
  {
   "cell_type": "markdown",
   "id": "e140dcd3-beef-4170-860a-41cfcab7893f",
   "metadata": {},
   "source": [
    "### `ols()`, `anova_lm()` - statsmodels\n",
    "\n",
    "- [ 중요!! ] 적합된 선형회귀모델의 결과를 이용해야 함\n",
    "\n",
    "- `statsmodels.stats.anova.anova_lm( *args, scale=None, test='F', typ=1, robust=None)`\n",
    "  - 이원 분산분석에서는 typ 옵션 값에 따라서 출력되는 결과도 달라질 수 있음. \n",
    "  - typ=1 : sequential SS. 모형에 삽입된 요인 순서대로 제곱합 출력 ( SS(A) - SS(B|A) - SS(AB|A,B) )\n",
    "  - typ=2 : 상호작용 없이 주효과만을 검정 ( SS(A|B), SS(B|A) )\n",
    "  - typ=3 : partial SS. 비균형설계자료(집단별 표본수가 동일하지 않음)인 경우에 사용. ( SS(A|B,AB), SS(B|A,AB), SS(AB,A|B) )   \n",
    "  - 균형설계자료(집단별 표본수가 동일)인 경우 또는 일원 분산분석에서는 typ=1,2,3 모두 동일한 F통계량 및 p값을 산출한다.  \n",
    "  - https://www.statsmodels.org/stable/generated/statsmodels.stats.anova.anova_lm.html"
   ]
  },
  {
   "cell_type": "raw",
   "id": "4a9291f9-c728-4413-b572-6674a2781781",
   "metadata": {},
   "source": [
    "\"SS(A|B)\"는 B에 대해 알려진 내용이 주어지면 A를 테스트하는 것을 의미함.\n",
    "\"SS(B|A)\"는 A에 대해 알려진 내용이 주어지면 B를 테스트하는 것을 의미함.\n",
    "\"SS(AB|A, B)\"는 A와 B에 대해 개별적으로 알려진 것이 주어졌을 때 AB 상호작용을 테스트하는 것을 의미함."
   ]
  },
  {
   "cell_type": "code",
   "execution_count": 12,
   "id": "ef490f8b-7798-4002-97c4-15a60e91d1d1",
   "metadata": {},
   "outputs": [
    {
     "data": {
      "text/html": [
       "<div>\n",
       "<style scoped>\n",
       "    .dataframe tbody tr th:only-of-type {\n",
       "        vertical-align: middle;\n",
       "    }\n",
       "\n",
       "    .dataframe tbody tr th {\n",
       "        vertical-align: top;\n",
       "    }\n",
       "\n",
       "    .dataframe thead th {\n",
       "        text-align: right;\n",
       "    }\n",
       "</style>\n",
       "<table border=\"1\" class=\"dataframe\">\n",
       "  <thead>\n",
       "    <tr style=\"text-align: right;\">\n",
       "      <th></th>\n",
       "      <th>df</th>\n",
       "      <th>sum_sq</th>\n",
       "      <th>mean_sq</th>\n",
       "      <th>F</th>\n",
       "      <th>PR(&gt;F)</th>\n",
       "    </tr>\n",
       "  </thead>\n",
       "  <tbody>\n",
       "    <tr>\n",
       "      <th>Fertil</th>\n",
       "      <td>3.0</td>\n",
       "      <td>209803.533333</td>\n",
       "      <td>69934.511111</td>\n",
       "      <td>30.900929</td>\n",
       "      <td>0.000006</td>\n",
       "    </tr>\n",
       "    <tr>\n",
       "      <th>Residual</th>\n",
       "      <td>12.0</td>\n",
       "      <td>27158.216667</td>\n",
       "      <td>2263.184722</td>\n",
       "      <td>NaN</td>\n",
       "      <td>NaN</td>\n",
       "    </tr>\n",
       "  </tbody>\n",
       "</table>\n",
       "</div>"
      ],
      "text/plain": [
       "            df         sum_sq       mean_sq          F    PR(>F)\n",
       "Fertil     3.0  209803.533333  69934.511111  30.900929  0.000006\n",
       "Residual  12.0   27158.216667   2263.184722        NaN       NaN"
      ]
     },
     "metadata": {},
     "output_type": "display_data"
    },
    {
     "name": "stdout",
     "output_type": "stream",
     "text": [
      "\n",
      "                            OLS Regression Results                            \n",
      "==============================================================================\n",
      "Dep. Variable:                  Yield   R-squared:                       0.885\n",
      "Model:                            OLS   Adj. R-squared:                  0.857\n",
      "Method:                 Least Squares   F-statistic:                     30.90\n",
      "Date:                Fri, 12 Nov 2021   Prob (F-statistic):           6.31e-06\n",
      "Time:                        03:21:02   Log-Likelihood:                -82.198\n",
      "No. Observations:                  16   AIC:                             172.4\n",
      "Df Residuals:                      12   BIC:                             175.5\n",
      "Df Model:                           3                                         \n",
      "Covariance Type:            nonrobust                                         \n",
      "================================================================================\n",
      "                   coef    std err          t      P>|t|      [0.025      0.975]\n",
      "--------------------------------------------------------------------------------\n",
      "Intercept      114.0000     23.786      4.793      0.000      62.174     165.826\n",
      "Fertil[T.F2]    77.3333     36.334      2.128      0.055      -1.833     156.499\n",
      "Fertil[T.F3]   163.2500     33.639      4.853      0.000      89.957     236.543\n",
      "Fertil[T.F4]   293.8000     31.913      9.206      0.000     224.268     363.332\n",
      "==============================================================================\n",
      "Omnibus:                        1.673   Durbin-Watson:                   2.635\n",
      "Prob(Omnibus):                  0.433   Jarque-Bera (JB):                0.916\n",
      "Skew:                          -0.119   Prob(JB):                        0.633\n",
      "Kurtosis:                       1.853   Cond. No.                         4.84\n",
      "==============================================================================\n",
      "\n",
      "Notes:\n",
      "[1] Standard Errors assume that the covariance matrix of the errors is correctly specified.\n",
      "\n"
     ]
    }
   ],
   "source": [
    "# statsmodels 패키지를 사용하여 일원분산 분석 실시\n",
    "\n",
    "# 회귀모델 생성 및 적합\n",
    "fit_model = ols( 'Yield ~ Fertil', data = df ).fit()\n",
    "# Fertil 의 데이터가 숫자형이라면 ols 함수 사용 시,\n",
    "# C() 연산자를 사용하여 범주형 변수로 지정해주는 작업( 'Yield ~ C('Fertil')' )이 필요하지만\n",
    "# 주어진 데이터 상에서 범주형 데이터로 주어졌기 때문에 C() 연산자를 적용할 필요는 없다.\n",
    "\n",
    "# 분산분석 수행\n",
    "display( anova_lm(fit_model, typ=1) )\n",
    "print()\n",
    "\n",
    "# 통계량 summary를 통해 R-squared 확인\n",
    "print( fit_model.summary() )\n",
    "print()"
   ]
  },
  {
   "cell_type": "markdown",
   "id": "5385031e-2f13-458d-830e-629a7080c09c",
   "metadata": {},
   "source": [
    "### `f_oneway()` - scipy\n",
    "\n",
    "- `scipy.stats.f_oneway( sample1, sample2, …, axis=0 )`  \n",
    "  - axis : 테스트가 적용되는 입력 배열의 축. 기본값은 0.\n",
    "  - Returns : `.statistic`, `.pvalue`\n",
    "  - https://docs.scipy.org/doc/scipy/reference/generated/scipy.stats.f_oneway.html"
   ]
  },
  {
   "cell_type": "code",
   "execution_count": 13,
   "id": "c15aa635-5945-41a3-9f41-3623e42b71c4",
   "metadata": {},
   "outputs": [
    {
     "name": "stdout",
     "output_type": "stream",
     "text": [
      "F-Value: 30.9009\n",
      "P-value: 0.000006311408\n",
      "\n",
      "\n"
     ]
    }
   ],
   "source": [
    "one_anova_result = stats.f_oneway(f1, f2, f3, f4)\n",
    "\n",
    "print( f'F-Value: {one_anova_result[0]:.4f}\\nP-value: {one_anova_result[1]:.12f}' )\n",
    "print()\n",
    "print()"
   ]
  },
  {
   "cell_type": "markdown",
   "id": "49f2d46e-e56b-4de5-8bcf-3d8873a49511",
   "metadata": {
    "tags": []
   },
   "source": [
    "## 사후 검정"
   ]
  },
  {
   "cell_type": "markdown",
   "id": "a204be32-63b6-40d1-a8d7-318ba84bef48",
   "metadata": {},
   "source": [
    "### Tukey's HSD (Honest Significant Difference) test"
   ]
  },
  {
   "cell_type": "markdown",
   "id": "0ce90172-06ba-471c-a082-dcf585d8a49d",
   "metadata": {},
   "source": [
    "#### `pairwise_tukeyhsd()` - statsmodels\n",
    "\n",
    "- `statsmodels.stats.multicomp.pairwise_tukeyhsd( endog, groups, alpha=0.05 )`  \n",
    "  - endog : 응답 변수. 1차원 배열.\n",
    "  - group : 그룹. 1차원 배열.\n",
    "  - https://www.statsmodels.org/stable/generated/statsmodels.stats.multicomp.pairwise_tukeyhsd.html\n",
    "  - Methods : `.summary()`, `.plot_simultaneous`"
   ]
  },
  {
   "cell_type": "code",
   "execution_count": 14,
   "id": "9626c71e-5a7f-4dd4-b76d-4e8ef33508fa",
   "metadata": {
    "tags": []
   },
   "outputs": [
    {
     "data": {
      "text/html": [
       "<table class=\"simpletable\">\n",
       "<caption>Multiple Comparison of Means - Tukey HSD, FWER=0.05</caption>\n",
       "<tr>\n",
       "  <th>group1</th> <th>group2</th> <th>meandiff</th>  <th>p-adj</th>   <th>lower</th>    <th>upper</th>  <th>reject</th>\n",
       "</tr>\n",
       "<tr>\n",
       "    <td>F1</td>     <td>F2</td>    <td>77.3333</td> <td>0.1992</td> <td>-30.5527</td> <td>185.2194</td>  <td>False</td>\n",
       "</tr>\n",
       "<tr>\n",
       "    <td>F1</td>     <td>F3</td>    <td>163.25</td>  <td>0.0019</td>  <td>63.367</td>   <td>263.133</td>  <td>True</td> \n",
       "</tr>\n",
       "<tr>\n",
       "    <td>F1</td>     <td>F4</td>     <td>293.8</td>   <td>0.001</td> <td>199.0426</td> <td>388.5574</td>  <td>True</td> \n",
       "</tr>\n",
       "<tr>\n",
       "    <td>F2</td>     <td>F3</td>    <td>85.9167</td> <td>0.1376</td> <td>-21.9694</td> <td>193.8027</td>  <td>False</td>\n",
       "</tr>\n",
       "<tr>\n",
       "    <td>F2</td>     <td>F4</td>   <td>216.4667</td>  <td>0.001</td> <td>113.3079</td> <td>319.6254</td>  <td>True</td> \n",
       "</tr>\n",
       "<tr>\n",
       "    <td>F3</td>     <td>F4</td>    <td>130.55</td>  <td>0.0071</td>  <td>35.7926</td> <td>225.3074</td>  <td>True</td> \n",
       "</tr>\n",
       "</table>"
      ],
      "text/plain": [
       "<class 'statsmodels.iolib.table.SimpleTable'>"
      ]
     },
     "metadata": {},
     "output_type": "display_data"
    },
    {
     "name": "stdout",
     "output_type": "stream",
     "text": [
      "\n"
     ]
    },
    {
     "data": {
      "image/png": "[encoded data removed]",
      "text/plain": [
       "<Figure size 1000x600 with 1 Axes>"
      ]
     },
     "metadata": {},
     "output_type": "display_data"
    }
   ],
   "source": [
    "posthoc = pairwise_tukeyhsd( df.Yield, df.Fertil,\n",
    "                             alpha=0.05)\n",
    "\n",
    "display( posthoc.summary() )\n",
    "print()\n",
    "posthoc.plot_simultaneous();"
   ]
  },
  {
   "cell_type": "markdown",
   "id": "c770c699-f608-4c26-89da-1f046830b104",
   "metadata": {
    "tags": []
   },
   "source": [
    "#### `MultiComparison()`, `tukeyhsd()` - statsmodels\n",
    "\n",
    "- `statsmodels.sandbox.stats.multicomp.MultiComparison( data, groups, group_order=None )`\n",
    "  - https://www.statsmodels.org/stable/generated/statsmodels.sandbox.stats.multicomp.MultiComparison.html\n",
    "  - Methods\n",
    "    - `.getranks()` : convert data to rankdata and attach\n",
    "    - `.kruskal( pairs=None, multimethod='T' )` : pairwise comparison for kruskal-wallis test\n",
    "    - `.tukeyhsd(alpha=0.05)` : Tukey's range test to compare means of all pairs of groups\n",
    "    - `.allpairtest( testfunc, alpha=0.05, method='bonf', pvalidx=1 )` : run a pairwise test on all pairs with multiple test correction\n",
    "      - https://www.statsmodels.org/stable/generated/statsmodels.sandbox.stats.multicomp.MultiComparison.allpairtest.html\n",
    "      - method\n",
    "        - 'bonferroni' : one-step correction\n",
    "        - 'sidak' : one-step correction\n",
    "        - 'holm' : step-down method using Bonferroni adjustments\n",
    "        - 'holm-sidak' : step-down method using Sidak adjustments\n",
    "        - 'simes-hochberg' : stepup method (independent)\n",
    "        - 'hommel' : closed method based on Simes tests (non-negative)\n",
    "        - 'fdr_bh' : Benjamini/Hochberg (non-negative)\n",
    "        - 'fdr_by' : Benjamini/Yekutieli (negative)\n",
    "        - 'fdr_tsbh' : two stage fdr correction (non-negative)\n",
    "        - 'fdr_tsbky' : two stage fdr correction (non-negative)\n",
    "        - https://www.statsmodels.org/stable/generated/statsmodels.stats.multitest.multipletests.html  \n",
    "\n",
    "\n",
    "- `statsmodels.sandbox.stats.multicomp.MultiComparison.tukeyhsd( alpha=0.05 )`\n",
    "  - Methods : `.summary()`, `.plot_simultaneous`"
   ]
  },
  {
   "cell_type": "code",
   "execution_count": 15,
   "id": "781ea4c6-c2dd-4243-9033-25de242b9fe4",
   "metadata": {},
   "outputs": [
    {
     "data": {
      "text/html": [
       "<table class=\"simpletable\">\n",
       "<caption>Multiple Comparison of Means - Tukey HSD, FWER=0.05</caption>\n",
       "<tr>\n",
       "  <th>group1</th> <th>group2</th> <th>meandiff</th>  <th>p-adj</th>   <th>lower</th>    <th>upper</th>  <th>reject</th>\n",
       "</tr>\n",
       "<tr>\n",
       "    <td>F1</td>     <td>F2</td>    <td>77.3333</td> <td>0.1992</td> <td>-30.5527</td> <td>185.2194</td>  <td>False</td>\n",
       "</tr>\n",
       "<tr>\n",
       "    <td>F1</td>     <td>F3</td>    <td>163.25</td>  <td>0.0019</td>  <td>63.367</td>   <td>263.133</td>  <td>True</td> \n",
       "</tr>\n",
       "<tr>\n",
       "    <td>F1</td>     <td>F4</td>     <td>293.8</td>   <td>0.001</td> <td>199.0426</td> <td>388.5574</td>  <td>True</td> \n",
       "</tr>\n",
       "<tr>\n",
       "    <td>F2</td>     <td>F3</td>    <td>85.9167</td> <td>0.1376</td> <td>-21.9694</td> <td>193.8027</td>  <td>False</td>\n",
       "</tr>\n",
       "<tr>\n",
       "    <td>F2</td>     <td>F4</td>   <td>216.4667</td>  <td>0.001</td> <td>113.3079</td> <td>319.6254</td>  <td>True</td> \n",
       "</tr>\n",
       "<tr>\n",
       "    <td>F3</td>     <td>F4</td>    <td>130.55</td>  <td>0.0071</td>  <td>35.7926</td> <td>225.3074</td>  <td>True</td> \n",
       "</tr>\n",
       "</table>"
      ],
      "text/plain": [
       "<class 'statsmodels.iolib.table.SimpleTable'>"
      ]
     },
     "metadata": {},
     "output_type": "display_data"
    },
    {
     "name": "stdout",
     "output_type": "stream",
     "text": [
      "\n"
     ]
    },
    {
     "data": {
      "image/png": "[encoded data removed]",
      "text/plain": [
       "<Figure size 1000x600 with 1 Axes>"
      ]
     },
     "metadata": {},
     "output_type": "display_data"
    }
   ],
   "source": [
    "# 다중비교\n",
    "comp = MultiComparison( df.Yield,\n",
    "                        groups = df.Fertil )\n",
    "\n",
    "# tukeyhsd 방법을 통해 다중비교 결과를 출력\n",
    "result = comp.tukeyhsd()\n",
    "\n",
    "display( result.summary() )\n",
    "print()\n",
    "result.plot_simultaneous();"
   ]
  },
  {
   "cell_type": "markdown",
   "id": "f4e83ec1-b2b3-419d-bab1-aa201539d71e",
   "metadata": {},
   "source": [
    "#### `posthoc_tukey()` - scikit_posthocs\n",
    "\n",
    "- `scikit_posthocs.posthoc_tukey( a, val_col=None, group_col=None, sort=False )`\n",
    "  - a : array_like 또는 pandas DataFrame 객체\n",
    "  - val_col : 종속 변수 값(테스트 또는 응답 변수)을 포함하는 DataFrame 열의 이름. 값은 비명목 척도를 가져야 한다.\n",
    "  - group_col : 독립 변수 값(그룹화 또는 예측 변수)을 포함하는 DataFrame 열의 이름. 값은 범주형이어야 한다.\n",
    "  - sort : True 로 지정할 경우 블록별로 데이터를 정렬하고 열을 그룹화한다.\n",
    "  - https://scikit-posthocs.readthedocs.io/en/latest/generated/scikit_posthocs.posthoc_tukey/"
   ]
  },
  {
   "cell_type": "code",
   "execution_count": 16,
   "id": "58f4647b-db5c-4665-8d6a-19e56099ed30",
   "metadata": {},
   "outputs": [
    {
     "data": {
      "text/html": [
       "<div>\n",
       "<style scoped>\n",
       "    .dataframe tbody tr th:only-of-type {\n",
       "        vertical-align: middle;\n",
       "    }\n",
       "\n",
       "    .dataframe tbody tr th {\n",
       "        vertical-align: top;\n",
       "    }\n",
       "\n",
       "    .dataframe thead th {\n",
       "        text-align: right;\n",
       "    }\n",
       "</style>\n",
       "<table border=\"1\" class=\"dataframe\">\n",
       "  <thead>\n",
       "    <tr style=\"text-align: right;\">\n",
       "      <th></th>\n",
       "      <th>F1</th>\n",
       "      <th>F2</th>\n",
       "      <th>F3</th>\n",
       "      <th>F4</th>\n",
       "    </tr>\n",
       "  </thead>\n",
       "  <tbody>\n",
       "    <tr>\n",
       "      <th>F1</th>\n",
       "      <td>1.000000</td>\n",
       "      <td>0.199165</td>\n",
       "      <td>0.001940</td>\n",
       "      <td>0.001000</td>\n",
       "    </tr>\n",
       "    <tr>\n",
       "      <th>F2</th>\n",
       "      <td>0.199165</td>\n",
       "      <td>1.000000</td>\n",
       "      <td>0.137574</td>\n",
       "      <td>0.001000</td>\n",
       "    </tr>\n",
       "    <tr>\n",
       "      <th>F3</th>\n",
       "      <td>0.001940</td>\n",
       "      <td>0.137574</td>\n",
       "      <td>1.000000</td>\n",
       "      <td>0.007057</td>\n",
       "    </tr>\n",
       "    <tr>\n",
       "      <th>F4</th>\n",
       "      <td>0.001000</td>\n",
       "      <td>0.001000</td>\n",
       "      <td>0.007057</td>\n",
       "      <td>1.000000</td>\n",
       "    </tr>\n",
       "  </tbody>\n",
       "</table>\n",
       "</div>"
      ],
      "text/plain": [
       "          F1        F2        F3        F4\n",
       "F1  1.000000  0.199165  0.001940  0.001000\n",
       "F2  0.199165  1.000000  0.137574  0.001000\n",
       "F3  0.001940  0.137574  1.000000  0.007057\n",
       "F4  0.001000  0.001000  0.007057  1.000000"
      ]
     },
     "execution_count": 16,
     "metadata": {},
     "output_type": "execute_result"
    }
   ],
   "source": [
    "sp.posthoc_tukey( df,\n",
    "                  val_col = 'Yield',\n",
    "                  group_col = 'Fertil',\n",
    "                  sort = False )"
   ]
  },
  {
   "cell_type": "markdown",
   "id": "ef8af1d8-8aa6-4d85-9051-5811838326a9",
   "metadata": {},
   "source": [
    "#### `posthoc_tukey_hsd()` - scikit_posthocs\n",
    "\n",
    "- `scikit_posthocs.posthoc_tukey_hsd( x, g, alpha=0.05)`\n",
    "  - x : 종속 변수 값(테스트 또는 응답 변수)을 포함하는 DataFrame 열의 이름. 값은 비명목 척도를 가져야 한다.\n",
    "  - g : 독립 변수 값(그룹화 또는 예측 변수)을 포함하는 DataFrame 열의 이름. 값은 범주형이어야 한다.\n",
    "  - https://scikit-posthocs.readthedocs.io/en/latest/generated/scikit_posthocs.posthoc_tukey_hsd/"
   ]
  },
  {
   "cell_type": "code",
   "execution_count": 17,
   "id": "1b67c7e6-42c3-4b3c-bdee-e79249f3c84c",
   "metadata": {},
   "outputs": [
    {
     "data": {
      "text/html": [
       "<div>\n",
       "<style scoped>\n",
       "    .dataframe tbody tr th:only-of-type {\n",
       "        vertical-align: middle;\n",
       "    }\n",
       "\n",
       "    .dataframe tbody tr th {\n",
       "        vertical-align: top;\n",
       "    }\n",
       "\n",
       "    .dataframe thead th {\n",
       "        text-align: right;\n",
       "    }\n",
       "</style>\n",
       "<table border=\"1\" class=\"dataframe\">\n",
       "  <thead>\n",
       "    <tr style=\"text-align: right;\">\n",
       "      <th></th>\n",
       "      <th>F1</th>\n",
       "      <th>F2</th>\n",
       "      <th>F3</th>\n",
       "      <th>F4</th>\n",
       "    </tr>\n",
       "  </thead>\n",
       "  <tbody>\n",
       "    <tr>\n",
       "      <th>F1</th>\n",
       "      <td>1</td>\n",
       "      <td>0</td>\n",
       "      <td>1</td>\n",
       "      <td>1</td>\n",
       "    </tr>\n",
       "    <tr>\n",
       "      <th>F2</th>\n",
       "      <td>0</td>\n",
       "      <td>1</td>\n",
       "      <td>0</td>\n",
       "      <td>1</td>\n",
       "    </tr>\n",
       "    <tr>\n",
       "      <th>F3</th>\n",
       "      <td>1</td>\n",
       "      <td>0</td>\n",
       "      <td>1</td>\n",
       "      <td>1</td>\n",
       "    </tr>\n",
       "    <tr>\n",
       "      <th>F4</th>\n",
       "      <td>1</td>\n",
       "      <td>1</td>\n",
       "      <td>1</td>\n",
       "      <td>1</td>\n",
       "    </tr>\n",
       "  </tbody>\n",
       "</table>\n",
       "</div>"
      ],
      "text/plain": [
       "    F1  F2  F3  F4\n",
       "F1   1   0   1   1\n",
       "F2   0   1   0   1\n",
       "F3   1   0   1   1\n",
       "F4   1   1   1   1"
      ]
     },
     "execution_count": 17,
     "metadata": {},
     "output_type": "execute_result"
    }
   ],
   "source": [
    "sp.posthoc_tukey_hsd( df.Yield,\n",
    "                      df.Fertil,\n",
    "                      alpha = 0.05)"
   ]
  },
  {
   "cell_type": "markdown",
   "id": "feeef4ae-abfa-4986-8899-7e78846684b0",
   "metadata": {},
   "source": [
    "### Scheffé’s Method"
   ]
  },
  {
   "cell_type": "markdown",
   "id": "d8c9ce3c-20d4-4741-b1e5-ea9ba711a6a8",
   "metadata": {},
   "source": [
    "#### `posthoc_scheffe()` - scikit_posthocs\n",
    "\n",
    "- `scikit_posthocs.posthoc_scheffe( a, val_col=None, group_col=None, sort=False, p_adjust=None)`  \n",
    "  - https://scikit-posthocs.readthedocs.io/en/latest/generated/scikit_posthocs.posthoc_scheffe/\n",
    "  - a : array_like 또는 pandas DataFrame 객체\n",
    "  - val_col : 종속 변수 값(테스트 또는 응답 변수)을 포함하는 DataFrame 열의 이름. 값은 비명목 척도를 가져야 한다.\n",
    "  - group_col : 독립 변수 값(그룹화 또는 예측 변수)을 포함하는 DataFrame 열의 이름. 값은 범주형이어야 한다.\n",
    "  - sort : True 로 지정할 경우 블록별로 데이터를 정렬하고 열을 그룹화한다.\n",
    "  - p_adjust : p 값을 조정하는 방법.\n",
    "    - 'bonferroni' : one-step correction\n",
    "    - 'sidak' : one-step correction\n",
    "    - 'holm' : step-down method using Bonferroni adjustments\n",
    "    - 'holm-sidak' : step-down method using Sidak adjustments\n",
    "    - 'simes-hochberg' : stepup method (independent)\n",
    "    - 'hommel' : closed method based on Simes tests (non-negative)\n",
    "    - 'fdr_bh' : Benjamini/Hochberg (non-negative)\n",
    "    - 'fdr_by' : Benjamini/Yekutieli (negative)\n",
    "    - 'fdr_tsbh' : two stage fdr correction (non-negative)\n",
    "    - 'fdr_tsbky' : two stage fdr correction (non-negative)  \n",
    "    - https://www.statsmodels.org/stable/generated/statsmodels.stats.multitest.multipletests.html"
   ]
  },
  {
   "cell_type": "code",
   "execution_count": 18,
   "id": "1a67592e-ed3d-4c30-a87f-409cb8295f81",
   "metadata": {
    "tags": []
   },
   "outputs": [
    {
     "data": {
      "text/html": [
       "<div>\n",
       "<style scoped>\n",
       "    .dataframe tbody tr th:only-of-type {\n",
       "        vertical-align: middle;\n",
       "    }\n",
       "\n",
       "    .dataframe tbody tr th {\n",
       "        vertical-align: top;\n",
       "    }\n",
       "\n",
       "    .dataframe thead th {\n",
       "        text-align: right;\n",
       "    }\n",
       "</style>\n",
       "<table border=\"1\" class=\"dataframe\">\n",
       "  <thead>\n",
       "    <tr style=\"text-align: right;\">\n",
       "      <th></th>\n",
       "      <th>F1</th>\n",
       "      <th>F2</th>\n",
       "      <th>F3</th>\n",
       "      <th>F4</th>\n",
       "    </tr>\n",
       "  </thead>\n",
       "  <tbody>\n",
       "    <tr>\n",
       "      <th>F1</th>\n",
       "      <td>1.000000</td>\n",
       "      <td>0.262137</td>\n",
       "      <td>0.003655</td>\n",
       "      <td>0.000010</td>\n",
       "    </tr>\n",
       "    <tr>\n",
       "      <th>F2</th>\n",
       "      <td>0.262137</td>\n",
       "      <td>1.000000</td>\n",
       "      <td>0.189528</td>\n",
       "      <td>0.000454</td>\n",
       "    </tr>\n",
       "    <tr>\n",
       "      <th>F3</th>\n",
       "      <td>0.003655</td>\n",
       "      <td>0.189528</td>\n",
       "      <td>1.000000</td>\n",
       "      <td>0.012455</td>\n",
       "    </tr>\n",
       "    <tr>\n",
       "      <th>F4</th>\n",
       "      <td>0.000010</td>\n",
       "      <td>0.000454</td>\n",
       "      <td>0.012455</td>\n",
       "      <td>1.000000</td>\n",
       "    </tr>\n",
       "  </tbody>\n",
       "</table>\n",
       "</div>"
      ],
      "text/plain": [
       "          F1        F2        F3        F4\n",
       "F1  1.000000  0.262137  0.003655  0.000010\n",
       "F2  0.262137  1.000000  0.189528  0.000454\n",
       "F3  0.003655  0.189528  1.000000  0.012455\n",
       "F4  0.000010  0.000454  0.012455  1.000000"
      ]
     },
     "execution_count": 18,
     "metadata": {},
     "output_type": "execute_result"
    }
   ],
   "source": [
    "sp.posthoc_scheffe( df,\n",
    "                    val_col = 'Yield',\n",
    "                    group_col = 'Fertil',\n",
    "                    sort = False )"
   ]
  },
  {
   "cell_type": "markdown",
   "id": "fc622bb5-1eba-41ce-870b-8ae58c256834",
   "metadata": {},
   "source": [
    "### Pairwise T-test"
   ]
  },
  {
   "cell_type": "markdown",
   "id": "e15803ca-54e8-494f-8dc4-a0d98cfa9edf",
   "metadata": {
    "tags": []
   },
   "source": [
    "#### `MultiComparison()` - statsmodels\n",
    "\n",
    "- `statsmodels.sandbox.stats.multicomp.MultiComparison( data, groups, group_order=None )`\n",
    "  - https://www.statsmodels.org/stable/generated/statsmodels.sandbox.stats.multicomp.MultiComparison.html\n",
    "  - Methods\n",
    "    - `.getranks()` : convert data to rankdata and attach\n",
    "    - `.kruskal( pairs=None, multimethod='T' )` : pairwise comparison for kruskal-wallis test\n",
    "    - `.tukeyhsd(alpha=0.05)` : Tukey's range test to compare means of all pairs of groups\n",
    "    - `.allpairtest( testfunc, alpha=0.05, method='bonf', pvalidx=1 )` : run a pairwise test on all pairs with multiple test correction\n",
    "      - https://www.statsmodels.org/stable/generated/statsmodels.sandbox.stats.multicomp.MultiComparison.allpairtest.html\n",
    "      - method\n",
    "        - 'bonferroni' : one-step correction\n",
    "        - 'sidak' : one-step correction\n",
    "        - 'holm' : step-down method using Bonferroni adjustments\n",
    "        - 'holm-sidak' : step-down method using Sidak adjustments\n",
    "        - 'simes-hochberg' : stepup method (independent)\n",
    "        - 'hommel' : closed method based on Simes tests (non-negative)\n",
    "        - 'fdr_bh' : Benjamini/Hochberg (non-negative)\n",
    "        - 'fdr_by' : Benjamini/Yekutieli (negative)\n",
    "        - 'fdr_tsbh' : two stage fdr correction (non-negative)\n",
    "        - 'fdr_tsbky' : two stage fdr correction (non-negative)\n",
    "        - https://www.statsmodels.org/stable/generated/statsmodels.stats.multitest.multipletests.html"
   ]
  },
  {
   "cell_type": "code",
   "execution_count": 19,
   "id": "ada38a3b-21a7-4754-bad5-c5795d1da2fa",
   "metadata": {},
   "outputs": [
    {
     "data": {
      "text/html": [
       "<table class=\"simpletable\">\n",
       "<caption>Test Multiple Comparison ttest_ind \n",
       "FWER=0.05 method=bonf\n",
       "alphacSidak=0.01, alphacBonf=0.008</caption>\n",
       "<tr>\n",
       "  <th>group1</th> <th>group2</th>  <th>stat</th>    <th>pval</th>  <th>pval_corr</th> <th>reject</th>\n",
       "</tr>\n",
       "<tr>\n",
       "    <td>F1</td>     <td>F2</td>   <td>-2.3327</td>  <td>0.067</td>  <td>0.4019</td>    <td>False</td>\n",
       "</tr>\n",
       "<tr>\n",
       "    <td>F1</td>     <td>F3</td>   <td>-5.4869</td> <td>0.0015</td>  <td>0.0092</td>    <td>True</td> \n",
       "</tr>\n",
       "<tr>\n",
       "    <td>F1</td>     <td>F4</td>   <td>-9.9265</td>   <td>0.0</td>   <td>0.0001</td>    <td>True</td> \n",
       "</tr>\n",
       "<tr>\n",
       "    <td>F2</td>     <td>F3</td>   <td>-2.1624</td> <td>0.0829</td>  <td>0.4976</td>    <td>False</td>\n",
       "</tr>\n",
       "<tr>\n",
       "    <td>F2</td>     <td>F4</td>   <td>-5.6462</td> <td>0.0013</td>  <td>0.0079</td>    <td>True</td> \n",
       "</tr>\n",
       "<tr>\n",
       "    <td>F3</td>     <td>F4</td>   <td>-3.8661</td> <td>0.0062</td>   <td>0.037</td>    <td>True</td> \n",
       "</tr>\n",
       "</table>"
      ],
      "text/plain": [
       "<class 'statsmodels.iolib.table.SimpleTable'>"
      ]
     },
     "execution_count": 19,
     "metadata": {},
     "output_type": "execute_result"
    }
   ],
   "source": [
    "# 다중비교\n",
    "comp = MultiComparison( df.Yield,\n",
    "                        groups = df.Fertil )\n",
    "\n",
    "# Bonferroni 방법을 통해 모든 그룹간 ttest를 진행\n",
    "result = comp.allpairtest(stats.ttest_ind, method='bonf')\n",
    "\n",
    "result[0]  # [0] 을 붙여야 데이터프레임 형식으로 출력됨. (이유는 모름.)"
   ]
  },
  {
   "cell_type": "markdown",
   "id": "8fd77037-3d9c-4619-ba3a-f4686c46551d",
   "metadata": {},
   "source": [
    "#### `posthoc_ttest()` - scikit_posthocs\n",
    "\n",
    "- `scikit_posthocs.posthoc_ttest( a, val_col=None, group_col=None, pool_sd=False, equal_var=True, p_adjust=None, sort=False )`  \n",
    "  - https://scikit-posthocs.readthedocs.io/en/latest/generated/scikit_posthocs.posthoc_ttest/\n",
    "  - a : array_like 또는 pandas DataFrame 객체\n",
    "  - val_col : 종속 변수 값(테스트 또는 응답 변수)을 포함하는 DataFrame 열의 이름. 값은 비명목 척도를 가져야 한다.\n",
    "  - group_col : 독립 변수 값(그룹화 또는 예측 변수)을 포함하는 DataFrame 열의 이름. 값은 범주형이어야 한다.\n",
    "  - pool_sd : 기본값은 False. 모든 그룹에 대한 공통 SD를 계산하여 모든 비교에 사용(일부 그룹이 작은 경우 유용할 수 있음).\n",
    "  - equal_var : True(기본값)인 경우에는 동일한 모집단 분산1을 가정하는 표준 독립 검정을 수행. False인 경우에는 동일한 모집단 분산을 가정하지 않는 Welch의 t-검정을 수행\n",
    "  - sort : True 로 지정할 경우 블록별로 데이터를 정렬하고 열을 그룹화한다.\n",
    "  - p_adjust : p 값을 조정하는 방법.\n",
    "    - 'bonferroni' : one-step correction\n",
    "    - 'sidak' : one-step correction\n",
    "    - 'holm' : step-down method using Bonferroni adjustments\n",
    "    - 'holm-sidak' : step-down method using Sidak adjustments\n",
    "    - 'simes-hochberg' : stepup method (independent)\n",
    "    - 'hommel' : closed method based on Simes tests (non-negative)\n",
    "    - 'fdr_bh' : Benjamini/Hochberg (non-negative)\n",
    "    - 'fdr_by' : Benjamini/Yekutieli (negative)\n",
    "    - 'fdr_tsbh' : two stage fdr correction (non-negative)\n",
    "    - 'fdr_tsbky' : two stage fdr correction (non-negative)\n",
    "    - https://www.statsmodels.org/stable/generated/statsmodels.stats.multitest.multipletests.html"
   ]
  },
  {
   "cell_type": "code",
   "execution_count": 20,
   "id": "ec0cc261-4ced-4a70-9815-219aa47f1b0d",
   "metadata": {
    "tags": []
   },
   "outputs": [
    {
     "data": {
      "text/html": [
       "<div>\n",
       "<style scoped>\n",
       "    .dataframe tbody tr th:only-of-type {\n",
       "        vertical-align: middle;\n",
       "    }\n",
       "\n",
       "    .dataframe tbody tr th {\n",
       "        vertical-align: top;\n",
       "    }\n",
       "\n",
       "    .dataframe thead th {\n",
       "        text-align: right;\n",
       "    }\n",
       "</style>\n",
       "<table border=\"1\" class=\"dataframe\">\n",
       "  <thead>\n",
       "    <tr style=\"text-align: right;\">\n",
       "      <th></th>\n",
       "      <th>F1</th>\n",
       "      <th>F2</th>\n",
       "      <th>F3</th>\n",
       "      <th>F4</th>\n",
       "    </tr>\n",
       "  </thead>\n",
       "  <tbody>\n",
       "    <tr>\n",
       "      <th>F1</th>\n",
       "      <td>1.000000</td>\n",
       "      <td>0.066989</td>\n",
       "      <td>0.001534</td>\n",
       "      <td>0.000022</td>\n",
       "    </tr>\n",
       "    <tr>\n",
       "      <th>F2</th>\n",
       "      <td>0.066989</td>\n",
       "      <td>1.000000</td>\n",
       "      <td>0.082937</td>\n",
       "      <td>0.001324</td>\n",
       "    </tr>\n",
       "    <tr>\n",
       "      <th>F3</th>\n",
       "      <td>0.001534</td>\n",
       "      <td>0.082937</td>\n",
       "      <td>1.000000</td>\n",
       "      <td>0.006163</td>\n",
       "    </tr>\n",
       "    <tr>\n",
       "      <th>F4</th>\n",
       "      <td>0.000022</td>\n",
       "      <td>0.001324</td>\n",
       "      <td>0.006163</td>\n",
       "      <td>1.000000</td>\n",
       "    </tr>\n",
       "  </tbody>\n",
       "</table>\n",
       "</div>"
      ],
      "text/plain": [
       "          F1        F2        F3        F4\n",
       "F1  1.000000  0.066989  0.001534  0.000022\n",
       "F2  0.066989  1.000000  0.082937  0.001324\n",
       "F3  0.001534  0.082937  1.000000  0.006163\n",
       "F4  0.000022  0.001324  0.006163  1.000000"
      ]
     },
     "execution_count": 20,
     "metadata": {},
     "output_type": "execute_result"
    }
   ],
   "source": [
    "sp.posthoc_ttest( df,\n",
    "                  val_col = 'Yield',\n",
    "                  group_col = 'Fertil',\n",
    "                  sort = False )"
   ]
  },
  {
   "cell_type": "markdown",
   "id": "85da346b-8cd2-4cee-a70d-c4e64cd48e68",
   "metadata": {},
   "source": [
    "# ================================="
   ]
  },
  {
   "cell_type": "markdown",
   "id": "d7c95a2b-2c51-44f3-84b2-9c13a185c462",
   "metadata": {},
   "source": [
    "# 이원 분산분석 (two-way ANOVA)"
   ]
  },
  {
   "cell_type": "markdown",
   "id": "620128ea-7172-4d01-a232-6d9fca74d401",
   "metadata": {},
   "source": [
    "## 반복이 없는 경우 (상호작용 없음)\n",
    "\n",
    "- 인자(factor) 간의 상호작용(교호작용)이 없다고 생각되는 경우, 즉 A와 B가 독립인 경우에는 반복이 없는 실험을 한다.\n",
    "\n",
    "- 인자(factor) 간의 상호작용(교호작용)이 있다고 판단 될 때에는 반복이 있는 실험을 한다.\n",
    "\n",
    "- 상호작용(interaction)은 독립변수 사이에 상호 작용을 하여 서로의 작용에 영향을 주는 것을 말한다."
   ]
  },
  {
   "cell_type": "raw",
   "id": "56e85296-67f1-4dde-9b85-5a62b25c4aad",
   "metadata": {},
   "source": [
    "[ 문제 ]\n",
    "Usage.csv 파일은 5명의 소비자에게 4개의 제품(A1, A2, A3, A4)을 모두 사용해 보도록 한 다음 선호도를 10점 만점으로 측정한 것이다.\n",
    "단, 각 반응값은 독립적인 20명의 소비자들로부터 얻어진 것이 아니다.\n",
    "이원분류 분산분석을 수행하라."
   ]
  },
  {
   "cell_type": "code",
   "execution_count": 21,
   "id": "b4176453-5d8f-462a-a018-33c498efe2cd",
   "metadata": {},
   "outputs": [
    {
     "data": {
      "text/html": [
       "<div>\n",
       "<style scoped>\n",
       "    .dataframe tbody tr th:only-of-type {\n",
       "        vertical-align: middle;\n",
       "    }\n",
       "\n",
       "    .dataframe tbody tr th {\n",
       "        vertical-align: top;\n",
       "    }\n",
       "\n",
       "    .dataframe thead th {\n",
       "        text-align: right;\n",
       "    }\n",
       "</style>\n",
       "<table border=\"1\" class=\"dataframe\">\n",
       "  <thead>\n",
       "    <tr style=\"text-align: right;\">\n",
       "      <th></th>\n",
       "      <th>Customer</th>\n",
       "      <th>Product</th>\n",
       "      <th>Prefer</th>\n",
       "    </tr>\n",
       "  </thead>\n",
       "  <tbody>\n",
       "    <tr>\n",
       "      <th>0</th>\n",
       "      <td>1</td>\n",
       "      <td>A1</td>\n",
       "      <td>5</td>\n",
       "    </tr>\n",
       "    <tr>\n",
       "      <th>1</th>\n",
       "      <td>1</td>\n",
       "      <td>A2</td>\n",
       "      <td>2</td>\n",
       "    </tr>\n",
       "    <tr>\n",
       "      <th>2</th>\n",
       "      <td>1</td>\n",
       "      <td>A3</td>\n",
       "      <td>4</td>\n",
       "    </tr>\n",
       "    <tr>\n",
       "      <th>3</th>\n",
       "      <td>1</td>\n",
       "      <td>A4</td>\n",
       "      <td>6</td>\n",
       "    </tr>\n",
       "    <tr>\n",
       "      <th>4</th>\n",
       "      <td>2</td>\n",
       "      <td>A1</td>\n",
       "      <td>7</td>\n",
       "    </tr>\n",
       "    <tr>\n",
       "      <th>5</th>\n",
       "      <td>2</td>\n",
       "      <td>A2</td>\n",
       "      <td>3</td>\n",
       "    </tr>\n",
       "    <tr>\n",
       "      <th>6</th>\n",
       "      <td>2</td>\n",
       "      <td>A3</td>\n",
       "      <td>7</td>\n",
       "    </tr>\n",
       "    <tr>\n",
       "      <th>7</th>\n",
       "      <td>2</td>\n",
       "      <td>A4</td>\n",
       "      <td>4</td>\n",
       "    </tr>\n",
       "    <tr>\n",
       "      <th>8</th>\n",
       "      <td>3</td>\n",
       "      <td>A1</td>\n",
       "      <td>9</td>\n",
       "    </tr>\n",
       "    <tr>\n",
       "      <th>9</th>\n",
       "      <td>3</td>\n",
       "      <td>A2</td>\n",
       "      <td>4</td>\n",
       "    </tr>\n",
       "    <tr>\n",
       "      <th>10</th>\n",
       "      <td>3</td>\n",
       "      <td>A3</td>\n",
       "      <td>6</td>\n",
       "    </tr>\n",
       "    <tr>\n",
       "      <th>11</th>\n",
       "      <td>3</td>\n",
       "      <td>A4</td>\n",
       "      <td>2</td>\n",
       "    </tr>\n",
       "    <tr>\n",
       "      <th>12</th>\n",
       "      <td>4</td>\n",
       "      <td>A1</td>\n",
       "      <td>10</td>\n",
       "    </tr>\n",
       "    <tr>\n",
       "      <th>13</th>\n",
       "      <td>4</td>\n",
       "      <td>A2</td>\n",
       "      <td>5</td>\n",
       "    </tr>\n",
       "    <tr>\n",
       "      <th>14</th>\n",
       "      <td>4</td>\n",
       "      <td>A3</td>\n",
       "      <td>5</td>\n",
       "    </tr>\n",
       "    <tr>\n",
       "      <th>15</th>\n",
       "      <td>4</td>\n",
       "      <td>A4</td>\n",
       "      <td>2</td>\n",
       "    </tr>\n",
       "    <tr>\n",
       "      <th>16</th>\n",
       "      <td>5</td>\n",
       "      <td>A1</td>\n",
       "      <td>8</td>\n",
       "    </tr>\n",
       "    <tr>\n",
       "      <th>17</th>\n",
       "      <td>5</td>\n",
       "      <td>A2</td>\n",
       "      <td>2</td>\n",
       "    </tr>\n",
       "    <tr>\n",
       "      <th>18</th>\n",
       "      <td>5</td>\n",
       "      <td>A3</td>\n",
       "      <td>7</td>\n",
       "    </tr>\n",
       "    <tr>\n",
       "      <th>19</th>\n",
       "      <td>5</td>\n",
       "      <td>A4</td>\n",
       "      <td>1</td>\n",
       "    </tr>\n",
       "  </tbody>\n",
       "</table>\n",
       "</div>"
      ],
      "text/plain": [
       "    Customer Product  Prefer\n",
       "0          1      A1       5\n",
       "1          1      A2       2\n",
       "2          1      A3       4\n",
       "3          1      A4       6\n",
       "4          2      A1       7\n",
       "5          2      A2       3\n",
       "6          2      A3       7\n",
       "7          2      A4       4\n",
       "8          3      A1       9\n",
       "9          3      A2       4\n",
       "10         3      A3       6\n",
       "11         3      A4       2\n",
       "12         4      A1      10\n",
       "13         4      A2       5\n",
       "14         4      A3       5\n",
       "15         4      A4       2\n",
       "16         5      A1       8\n",
       "17         5      A2       2\n",
       "18         5      A3       7\n",
       "19         5      A4       1"
      ]
     },
     "execution_count": 21,
     "metadata": {},
     "output_type": "execute_result"
    }
   ],
   "source": [
    "df = pd.read_csv(r'C:\\Users\\Boanerges\\GitHub\\rawdata\\usage.csv')\n",
    "df"
   ]
  },
  {
   "cell_type": "code",
   "execution_count": 22,
   "id": "c6776723-cff1-4077-9370-1e23b8129b19",
   "metadata": {},
   "outputs": [
    {
     "data": {
      "text/html": [
       "<div>\n",
       "<style scoped>\n",
       "    .dataframe tbody tr th:only-of-type {\n",
       "        vertical-align: middle;\n",
       "    }\n",
       "\n",
       "    .dataframe tbody tr th {\n",
       "        vertical-align: top;\n",
       "    }\n",
       "\n",
       "    .dataframe thead tr th {\n",
       "        text-align: left;\n",
       "    }\n",
       "\n",
       "    .dataframe thead tr:last-of-type th {\n",
       "        text-align: right;\n",
       "    }\n",
       "</style>\n",
       "<table border=\"1\" class=\"dataframe\">\n",
       "  <thead>\n",
       "    <tr>\n",
       "      <th></th>\n",
       "      <th colspan=\"4\" halign=\"left\">Prefer</th>\n",
       "    </tr>\n",
       "    <tr>\n",
       "      <th></th>\n",
       "      <th>mean</th>\n",
       "      <th>std</th>\n",
       "      <th>min</th>\n",
       "      <th>max</th>\n",
       "    </tr>\n",
       "    <tr>\n",
       "      <th>Customer</th>\n",
       "      <th></th>\n",
       "      <th></th>\n",
       "      <th></th>\n",
       "      <th></th>\n",
       "    </tr>\n",
       "  </thead>\n",
       "  <tbody>\n",
       "    <tr>\n",
       "      <th>1</th>\n",
       "      <td>4.25</td>\n",
       "      <td>1.707825</td>\n",
       "      <td>2</td>\n",
       "      <td>6</td>\n",
       "    </tr>\n",
       "    <tr>\n",
       "      <th>2</th>\n",
       "      <td>5.25</td>\n",
       "      <td>2.061553</td>\n",
       "      <td>3</td>\n",
       "      <td>7</td>\n",
       "    </tr>\n",
       "    <tr>\n",
       "      <th>3</th>\n",
       "      <td>5.25</td>\n",
       "      <td>2.986079</td>\n",
       "      <td>2</td>\n",
       "      <td>9</td>\n",
       "    </tr>\n",
       "    <tr>\n",
       "      <th>4</th>\n",
       "      <td>5.50</td>\n",
       "      <td>3.316625</td>\n",
       "      <td>2</td>\n",
       "      <td>10</td>\n",
       "    </tr>\n",
       "    <tr>\n",
       "      <th>5</th>\n",
       "      <td>4.50</td>\n",
       "      <td>3.511885</td>\n",
       "      <td>1</td>\n",
       "      <td>8</td>\n",
       "    </tr>\n",
       "  </tbody>\n",
       "</table>\n",
       "</div>"
      ],
      "text/plain": [
       "         Prefer                  \n",
       "           mean       std min max\n",
       "Customer                         \n",
       "1          4.25  1.707825   2   6\n",
       "2          5.25  2.061553   3   7\n",
       "3          5.25  2.986079   2   9\n",
       "4          5.50  3.316625   2  10\n",
       "5          4.50  3.511885   1   8"
      ]
     },
     "execution_count": 22,
     "metadata": {},
     "output_type": "execute_result"
    }
   ],
   "source": [
    "df.groupby('Customer').agg( {'Prefer' : [ 'mean', 'std', 'min', 'max' ] } )"
   ]
  },
  {
   "cell_type": "code",
   "execution_count": 23,
   "id": "90f6cb4b-51db-4c57-876c-454b2fd616a0",
   "metadata": {},
   "outputs": [
    {
     "data": {
      "text/html": [
       "<div>\n",
       "<style scoped>\n",
       "    .dataframe tbody tr th:only-of-type {\n",
       "        vertical-align: middle;\n",
       "    }\n",
       "\n",
       "    .dataframe tbody tr th {\n",
       "        vertical-align: top;\n",
       "    }\n",
       "\n",
       "    .dataframe thead tr th {\n",
       "        text-align: left;\n",
       "    }\n",
       "\n",
       "    .dataframe thead tr:last-of-type th {\n",
       "        text-align: right;\n",
       "    }\n",
       "</style>\n",
       "<table border=\"1\" class=\"dataframe\">\n",
       "  <thead>\n",
       "    <tr>\n",
       "      <th></th>\n",
       "      <th colspan=\"4\" halign=\"left\">Prefer</th>\n",
       "    </tr>\n",
       "    <tr>\n",
       "      <th></th>\n",
       "      <th>mean</th>\n",
       "      <th>std</th>\n",
       "      <th>min</th>\n",
       "      <th>max</th>\n",
       "    </tr>\n",
       "    <tr>\n",
       "      <th>Product</th>\n",
       "      <th></th>\n",
       "      <th></th>\n",
       "      <th></th>\n",
       "      <th></th>\n",
       "    </tr>\n",
       "  </thead>\n",
       "  <tbody>\n",
       "    <tr>\n",
       "      <th>A1</th>\n",
       "      <td>7.8</td>\n",
       "      <td>1.923538</td>\n",
       "      <td>5</td>\n",
       "      <td>10</td>\n",
       "    </tr>\n",
       "    <tr>\n",
       "      <th>A2</th>\n",
       "      <td>3.2</td>\n",
       "      <td>1.303840</td>\n",
       "      <td>2</td>\n",
       "      <td>5</td>\n",
       "    </tr>\n",
       "    <tr>\n",
       "      <th>A3</th>\n",
       "      <td>5.8</td>\n",
       "      <td>1.303840</td>\n",
       "      <td>4</td>\n",
       "      <td>7</td>\n",
       "    </tr>\n",
       "    <tr>\n",
       "      <th>A4</th>\n",
       "      <td>3.0</td>\n",
       "      <td>2.000000</td>\n",
       "      <td>1</td>\n",
       "      <td>6</td>\n",
       "    </tr>\n",
       "  </tbody>\n",
       "</table>\n",
       "</div>"
      ],
      "text/plain": [
       "        Prefer                  \n",
       "          mean       std min max\n",
       "Product                         \n",
       "A1         7.8  1.923538   5  10\n",
       "A2         3.2  1.303840   2   5\n",
       "A3         5.8  1.303840   4   7\n",
       "A4         3.0  2.000000   1   6"
      ]
     },
     "execution_count": 23,
     "metadata": {},
     "output_type": "execute_result"
    }
   ],
   "source": [
    "df.groupby('Product').agg( {'Prefer' : [ 'mean', 'std', 'min', 'max' ] } )"
   ]
  },
  {
   "cell_type": "code",
   "execution_count": 24,
   "id": "0d59e61a-e535-4858-a65b-7c71016b009e",
   "metadata": {},
   "outputs": [
    {
     "data": {
      "image/png": "[encoded data removed]",
      "text/plain": [
       "<Figure size 640x480 with 1 Axes>"
      ]
     },
     "metadata": {},
     "output_type": "display_data"
    },
    {
     "data": {
      "image/png": "[encoded data removed]",
      "text/plain": [
       "<Figure size 640x480 with 1 Axes>"
      ]
     },
     "metadata": {},
     "output_type": "display_data"
    }
   ],
   "source": [
    "df.boxplot('Prefer', by='Customer')\n",
    "df.boxplot('Prefer', by='Product')\n",
    "plt.show()"
   ]
  },
  {
   "cell_type": "code",
   "execution_count": 25,
   "id": "90c62ecf-b0c8-4427-b348-ee9a74d4e18c",
   "metadata": {},
   "outputs": [
    {
     "name": "stdout",
     "output_type": "stream",
     "text": [
      "<class 'pandas.core.frame.DataFrame'>\n",
      "RangeIndex: 20 entries, 0 to 19\n",
      "Data columns (total 3 columns):\n",
      " #   Column    Non-Null Count  Dtype \n",
      "---  ------    --------------  ----- \n",
      " 0   Customer  20 non-null     int64 \n",
      " 1   Product   20 non-null     object\n",
      " 2   Prefer    20 non-null     int64 \n",
      "dtypes: int64(2), object(1)\n",
      "memory usage: 608.0+ bytes\n"
     ]
    }
   ],
   "source": [
    "df.info()"
   ]
  },
  {
   "cell_type": "code",
   "execution_count": 26,
   "id": "ea28d261-b715-4887-ab10-edbc046c5aa9",
   "metadata": {},
   "outputs": [
    {
     "name": "stdout",
     "output_type": "stream",
     "text": [
      "<class 'pandas.core.frame.DataFrame'>\n",
      "RangeIndex: 20 entries, 0 to 19\n",
      "Data columns (total 3 columns):\n",
      " #   Column    Non-Null Count  Dtype \n",
      "---  ------    --------------  ----- \n",
      " 0   Customer  20 non-null     object\n",
      " 1   Product   20 non-null     object\n",
      " 2   Prefer    20 non-null     int64 \n",
      "dtypes: int64(1), object(2)\n",
      "memory usage: 608.0+ bytes\n"
     ]
    }
   ],
   "source": [
    "# Customer 는 범주형 변수이므로 데이터 타입을 문자형으로 바꾼다.\n",
    "\n",
    "df.Customer = df.Customer.astype('str')\n",
    "\n",
    "df.info()"
   ]
  },
  {
   "cell_type": "markdown",
   "id": "759e36f0-f2dd-47b2-9f2b-d04840661ee3",
   "metadata": {},
   "source": [
    "### 이원분류 분산분석의 가정 확인\n",
    "\n",
    "1. 정규성 : 각 집단의 자료는 정규분포를 따른다.\n",
    "2. 등분산성 : 각 집단의 모분산은 동일하다.\n",
    "\n",
    "- 위의 가정을 만족하지 않는 경우 비모수 검정을 선택하는 것이 타당하다."
   ]
  },
  {
   "cell_type": "code",
   "execution_count": null,
   "id": "4ac963e4-8542-49ca-8103-7e26bc482c65",
   "metadata": {},
   "outputs": [],
   "source": []
  },
  {
   "cell_type": "code",
   "execution_count": null,
   "id": "ccfd04a4-c61a-4898-848e-7f06fd893e21",
   "metadata": {},
   "outputs": [],
   "source": []
  },
  {
   "cell_type": "markdown",
   "id": "afc7cf30-f7d4-42b3-9af1-dcee555e0640",
   "metadata": {},
   "source": [
    "### 상호작용이 없는 이원 분산분석"
   ]
  },
  {
   "cell_type": "markdown",
   "id": "c7c839e5-a554-4a40-8d9c-5e1356e8f64e",
   "metadata": {},
   "source": [
    "#### `anova()` - pingouin\n",
    "\n",
    "- `pingouin.anova( data=None, dv=None, between=None, ss_type=2, detailed=False, effsize='np2' )`    \n",
    "  - data    : 데이터프레임\n",
    "  - dv      : 종속 변수를 포함하는 데이터의 열 이름\n",
    "  - between : 개체 간 요인을 포함하는 데이터의 열 이름\n",
    "                단일 문자열이면 one-way ANOVA 수행.\n",
    "                두 개 이상의 요소를 포함하는 목록이면 N-way ANOVA 수행\n",
    "  - ss_type  : 요인이 2개 이상인 불균형 설계에 대해 제곱합을 계산하는 방법을 지정\n",
    "  - detailed : True인 경우 자세한 ANOVA 테이블을 반환\n",
    "               기본값 False 이면 one-way ANOVA, True 이면 N-way ANOVA. \n",
    "  - effsize  : 효과 크기. 'np2'는 부분 에타 제곱, 'n2'는 에타 제곱.\n",
    "              일원 분산 분석의 경우 부분 에타 제곱은 에타 제곱과 동일\n",
    "  - https://pingouin-stats.org/generated/pingouin.anova.html"
   ]
  },
  {
   "cell_type": "code",
   "execution_count": 27,
   "id": "ed27c249-a8d9-4ff0-a318-5555f6050488",
   "metadata": {},
   "outputs": [
    {
     "data": {
      "text/html": [
       "<div>\n",
       "<style scoped>\n",
       "    .dataframe tbody tr th:only-of-type {\n",
       "        vertical-align: middle;\n",
       "    }\n",
       "\n",
       "    .dataframe tbody tr th {\n",
       "        vertical-align: top;\n",
       "    }\n",
       "\n",
       "    .dataframe thead th {\n",
       "        text-align: right;\n",
       "    }\n",
       "</style>\n",
       "<table border=\"1\" class=\"dataframe\">\n",
       "  <thead>\n",
       "    <tr style=\"text-align: right;\">\n",
       "      <th></th>\n",
       "      <th>Source</th>\n",
       "      <th>SS</th>\n",
       "      <th>DF</th>\n",
       "      <th>MS</th>\n",
       "      <th>np2</th>\n",
       "    </tr>\n",
       "  </thead>\n",
       "  <tbody>\n",
       "    <tr>\n",
       "      <th>0</th>\n",
       "      <td>Product</td>\n",
       "      <td>78.55</td>\n",
       "      <td>3</td>\n",
       "      <td>26.183333</td>\n",
       "      <td>1.0</td>\n",
       "    </tr>\n",
       "    <tr>\n",
       "      <th>1</th>\n",
       "      <td>Customer</td>\n",
       "      <td>4.70</td>\n",
       "      <td>4</td>\n",
       "      <td>1.175000</td>\n",
       "      <td>1.0</td>\n",
       "    </tr>\n",
       "    <tr>\n",
       "      <th>2</th>\n",
       "      <td>Product * Customer</td>\n",
       "      <td>39.70</td>\n",
       "      <td>12</td>\n",
       "      <td>3.308333</td>\n",
       "      <td>1.0</td>\n",
       "    </tr>\n",
       "    <tr>\n",
       "      <th>3</th>\n",
       "      <td>Residual</td>\n",
       "      <td>0.00</td>\n",
       "      <td>0</td>\n",
       "      <td>NaN</td>\n",
       "      <td>NaN</td>\n",
       "    </tr>\n",
       "  </tbody>\n",
       "</table>\n",
       "</div>"
      ],
      "text/plain": [
       "               Source     SS  DF         MS  np2\n",
       "0             Product  78.55   3  26.183333  1.0\n",
       "1            Customer   4.70   4   1.175000  1.0\n",
       "2  Product * Customer  39.70  12   3.308333  1.0\n",
       "3            Residual   0.00   0        NaN  NaN"
      ]
     },
     "execution_count": 27,
     "metadata": {},
     "output_type": "execute_result"
    }
   ],
   "source": [
    "# 미해결!! : pingouin 에서 반복이 없는(상호작용이 없는) 이원 분산분석 경우에는 F통계량 및 p값이 출력되지 않는다.\n",
    "\n",
    "pg.anova( data = df,\n",
    "          dv = 'Prefer',\n",
    "          between = ['Product', 'Customer'],\n",
    "          detailed = True )"
   ]
  },
  {
   "cell_type": "markdown",
   "id": "323a7cc0-d25e-4ea8-9f12-61994e0baaa9",
   "metadata": {},
   "source": [
    "#### `ols()`, `anova_lm()` - statsmodels\n",
    "\n",
    "- [ 중요!! ] 적합된 선형회귀모델의 결과를 이용해야 함\n",
    "\n",
    "- `statsmodels.stats.anova.anova_lm( *args, scale=None, test='F', typ=1, robust=None)`\n",
    "  - 이원 분산분석에서는 typ 옵션 값에 따라서 출력되는 결과도 달라질 수 있음. \n",
    "  - typ=1 : sequential SS. 모형에 삽입된 요인 순서대로 제곱합 출력 ( SS(A) - SS(B|A) - SS(AB|A,B) )\n",
    "  - typ=2 : 상호작용 없이 주효과만을 검정 ( SS(A|B), SS(B|A) )\n",
    "  - typ=3 : partial SS. 비균형설계자료(집단별 표본수가 동일하지 않음)인 경우에 사용. ( SS(A|B,AB), SS(B|A,AB), SS(AB,A|B) )   \n",
    "  - 균형설계자료(집단별 표본수가 동일)인 경우 또는 일원 분산분석에서는 typ=1,2,3 모두 동일한 F통계량 및 p값을 산출한다.  \n",
    "  - https://www.statsmodels.org/stable/generated/statsmodels.stats.anova.anova_lm.html"
   ]
  },
  {
   "cell_type": "code",
   "execution_count": 28,
   "id": "1839696a-5c54-46fe-9d95-91e122bf9cc1",
   "metadata": {},
   "outputs": [
    {
     "data": {
      "text/html": [
       "<div>\n",
       "<style scoped>\n",
       "    .dataframe tbody tr th:only-of-type {\n",
       "        vertical-align: middle;\n",
       "    }\n",
       "\n",
       "    .dataframe tbody tr th {\n",
       "        vertical-align: top;\n",
       "    }\n",
       "\n",
       "    .dataframe thead th {\n",
       "        text-align: right;\n",
       "    }\n",
       "</style>\n",
       "<table border=\"1\" class=\"dataframe\">\n",
       "  <thead>\n",
       "    <tr style=\"text-align: right;\">\n",
       "      <th></th>\n",
       "      <th>df</th>\n",
       "      <th>sum_sq</th>\n",
       "      <th>mean_sq</th>\n",
       "      <th>F</th>\n",
       "      <th>PR(&gt;F)</th>\n",
       "    </tr>\n",
       "  </thead>\n",
       "  <tbody>\n",
       "    <tr>\n",
       "      <th>Customer</th>\n",
       "      <td>4.0</td>\n",
       "      <td>4.70</td>\n",
       "      <td>1.175000</td>\n",
       "      <td>0.355164</td>\n",
       "      <td>0.835601</td>\n",
       "    </tr>\n",
       "    <tr>\n",
       "      <th>Product</th>\n",
       "      <td>3.0</td>\n",
       "      <td>78.55</td>\n",
       "      <td>26.183333</td>\n",
       "      <td>7.914358</td>\n",
       "      <td>0.003543</td>\n",
       "    </tr>\n",
       "    <tr>\n",
       "      <th>Residual</th>\n",
       "      <td>12.0</td>\n",
       "      <td>39.70</td>\n",
       "      <td>3.308333</td>\n",
       "      <td>NaN</td>\n",
       "      <td>NaN</td>\n",
       "    </tr>\n",
       "  </tbody>\n",
       "</table>\n",
       "</div>"
      ],
      "text/plain": [
       "            df  sum_sq    mean_sq         F    PR(>F)\n",
       "Customer   4.0    4.70   1.175000  0.355164  0.835601\n",
       "Product    3.0   78.55  26.183333  7.914358  0.003543\n",
       "Residual  12.0   39.70   3.308333       NaN       NaN"
      ]
     },
     "metadata": {},
     "output_type": "display_data"
    },
    {
     "name": "stdout",
     "output_type": "stream",
     "text": [
      "\n",
      "                            OLS Regression Results                            \n",
      "==============================================================================\n",
      "Dep. Variable:                 Prefer   R-squared:                       0.677\n",
      "Model:                            OLS   Adj. R-squared:                  0.489\n",
      "Method:                 Least Squares   F-statistic:                     3.595\n",
      "Date:                Fri, 12 Nov 2021   Prob (F-statistic):             0.0253\n",
      "Time:                        03:21:03   Log-Likelihood:                -35.235\n",
      "No. Observations:                  20   AIC:                             86.47\n",
      "Df Residuals:                      12   BIC:                             94.44\n",
      "Df Model:                           7                                         \n",
      "Covariance Type:            nonrobust                                         \n",
      "=================================================================================\n",
      "                    coef    std err          t      P>|t|      [0.025      0.975]\n",
      "---------------------------------------------------------------------------------\n",
      "Intercept         7.1000      1.150      6.172      0.000       4.594       9.606\n",
      "Customer[T.2]     1.0000      1.286      0.778      0.452      -1.802       3.802\n",
      "Customer[T.3]     1.0000      1.286      0.778      0.452      -1.802       3.802\n",
      "Customer[T.4]     1.2500      1.286      0.972      0.350      -1.552       4.052\n",
      "Customer[T.5]     0.2500      1.286      0.194      0.849      -2.552       3.052\n",
      "Product[T.A2]    -4.6000      1.150     -3.999      0.002      -7.106      -2.094\n",
      "Product[T.A3]    -2.0000      1.150     -1.739      0.108      -4.506       0.506\n",
      "Product[T.A4]    -4.8000      1.150     -4.173      0.001      -7.306      -2.294\n",
      "==============================================================================\n",
      "Omnibus:                        2.839   Durbin-Watson:                   2.313\n",
      "Prob(Omnibus):                  0.242   Jarque-Bera (JB):                1.643\n",
      "Skew:                           0.699   Prob(JB):                        0.440\n",
      "Kurtosis:                       3.135   Cond. No.                         6.42\n",
      "==============================================================================\n",
      "\n",
      "Notes:\n",
      "[1] Standard Errors assume that the covariance matrix of the errors is correctly specified.\n",
      "\n"
     ]
    }
   ],
   "source": [
    "# statsmodels 패키지를 사용하여 일원분산 분석 실시\n",
    "\n",
    "# 회귀모델 생성 및 적합\n",
    "fit_model = ols( 'Prefer ~ Customer+Product', data = df ).fit()\n",
    "# Fertil 의 데이터가 숫자형이라면 ols 함수 사용 시,\n",
    "# C() 연산자를 사용하여 범주형 변수로 지정해주는 작업( 'Yield ~ C('Fertil')' )이 필요하다.\n",
    "# 이 과정을 생략하고 싶다면 처음부터 데이터 타입을 문자형으로 변경하고 나서 분석을 시작하면 된다.\n",
    "\n",
    "\n",
    "# 분산분석 수행\n",
    "display( anova_lm(fit_model, typ=1) )\n",
    "print()\n",
    "\n",
    "# 통계량 summary를 통해 R-squared 확인\n",
    "print( fit_model.summary() )\n",
    "print()"
   ]
  },
  {
   "cell_type": "markdown",
   "id": "5e5969ff-9f39-4192-878a-415264fd4e10",
   "metadata": {},
   "source": [
    "### 사후 검정"
   ]
  },
  {
   "cell_type": "markdown",
   "id": "2e75ae88-916c-46fe-83d4-5de63efcf2e3",
   "metadata": {},
   "source": [
    "#### `pairwise_tukeyhsd()` - statsmodels"
   ]
  },
  {
   "cell_type": "code",
   "execution_count": 29,
   "id": "6eb925b7-9d4c-44ed-9efe-e40e972402e4",
   "metadata": {
    "tags": []
   },
   "outputs": [
    {
     "data": {
      "text/html": [
       "<table class=\"simpletable\">\n",
       "<caption>Multiple Comparison of Means - Tukey HSD, FWER=0.05</caption>\n",
       "<tr>\n",
       "  <th>group1</th> <th>group2</th> <th>meandiff</th>  <th>p-adj</th>  <th>lower</th>   <th>upper</th>  <th>reject</th>\n",
       "</tr>\n",
       "<tr>\n",
       "    <td>A1</td>     <td>A2</td>     <td>-4.6</td>   <td>0.0024</td> <td>-7.6145</td> <td>-1.5855</td>  <td>True</td> \n",
       "</tr>\n",
       "<tr>\n",
       "    <td>A1</td>     <td>A3</td>     <td>-2.0</td>   <td>0.2676</td> <td>-5.0145</td> <td>1.0145</td>   <td>False</td>\n",
       "</tr>\n",
       "<tr>\n",
       "    <td>A1</td>     <td>A4</td>     <td>-4.8</td>   <td>0.0017</td> <td>-7.8145</td> <td>-1.7855</td>  <td>True</td> \n",
       "</tr>\n",
       "<tr>\n",
       "    <td>A2</td>     <td>A3</td>      <td>2.6</td>   <td>0.1039</td> <td>-0.4145</td> <td>5.6145</td>   <td>False</td>\n",
       "</tr>\n",
       "<tr>\n",
       "    <td>A2</td>     <td>A4</td>     <td>-0.2</td>     <td>0.9</td>  <td>-3.2145</td> <td>2.8145</td>   <td>False</td>\n",
       "</tr>\n",
       "<tr>\n",
       "    <td>A3</td>     <td>A4</td>     <td>-2.8</td>   <td>0.0735</td> <td>-5.8145</td> <td>0.2145</td>   <td>False</td>\n",
       "</tr>\n",
       "</table>"
      ],
      "text/plain": [
       "<class 'statsmodels.iolib.table.SimpleTable'>"
      ]
     },
     "metadata": {},
     "output_type": "display_data"
    },
    {
     "name": "stdout",
     "output_type": "stream",
     "text": [
      "\n"
     ]
    },
    {
     "data": {
      "image/png": "[encoded data removed]",
      "text/plain": [
       "<Figure size 1000x600 with 1 Axes>"
      ]
     },
     "metadata": {},
     "output_type": "display_data"
    }
   ],
   "source": [
    "posthoc = pairwise_tukeyhsd( df.Prefer,\n",
    "                             groups = df.Product,\n",
    "                             alpha=0.05)\n",
    "display( posthoc.summary() )\n",
    "print()\n",
    "posthoc.plot_simultaneous();"
   ]
  },
  {
   "cell_type": "code",
   "execution_count": null,
   "id": "e5237e87-17ee-4829-a939-d96e9ba65e62",
   "metadata": {},
   "outputs": [],
   "source": [
    "\n"
   ]
  },
  {
   "cell_type": "markdown",
   "id": "7469e8a5-9569-48ad-97b8-46eff60a7996",
   "metadata": {},
   "source": [
    "## 반복이 있는 경우 (상호작용 있음)\n",
    "\n",
    "- 인자(factor) 간의 상호작용(교호작용)이 없다고 생각되는 경우, 즉 A와 B가 독립인 경우에는 반복이 없는 실험을 한다.\n",
    "\n",
    "- 인자(factor) 간의 상호작용(교호작용)이 있다고 판단 될 때에는 반복이 있는 실험을 한다.\n",
    "\n",
    "- 상호작용(interaction)은 독립변수 사이에 상호 작용을 하여 서로의 작용에 영향을 주는 것을 말한다."
   ]
  },
  {
   "cell_type": "raw",
   "id": "b37a207e-e6ab-446f-82b6-7ecfc5a5463a",
   "metadata": {},
   "source": [
    "[ 문제 ]\n",
    "Market.csv 파일은 지역을 대/중/소도시로 구분하여 각각 9개씩(통 27개)의 매장을 선정하고, 새로운 제품을 시범적으로 판매하여 얻은 데이터이다.\n",
    "여기서 도시구분(City)과 디자인(Design)은 두 개의 요인이고 각 수준의 조합에서의 반복횟수는 3 이다.\n",
    "이원분류 분산분석을 수행하라."
   ]
  },
  {
   "cell_type": "code",
   "execution_count": 30,
   "id": "997c5ab9-b559-4f20-9052-31027c188284",
   "metadata": {},
   "outputs": [
    {
     "data": {
      "text/html": [
       "<div>\n",
       "<style scoped>\n",
       "    .dataframe tbody tr th:only-of-type {\n",
       "        vertical-align: middle;\n",
       "    }\n",
       "\n",
       "    .dataframe tbody tr th {\n",
       "        vertical-align: top;\n",
       "    }\n",
       "\n",
       "    .dataframe thead th {\n",
       "        text-align: right;\n",
       "    }\n",
       "</style>\n",
       "<table border=\"1\" class=\"dataframe\">\n",
       "  <thead>\n",
       "    <tr style=\"text-align: right;\">\n",
       "      <th></th>\n",
       "      <th>ID</th>\n",
       "      <th>City</th>\n",
       "      <th>Design</th>\n",
       "      <th>Sales</th>\n",
       "    </tr>\n",
       "  </thead>\n",
       "  <tbody>\n",
       "    <tr>\n",
       "      <th>0</th>\n",
       "      <td>1</td>\n",
       "      <td>Large</td>\n",
       "      <td>A</td>\n",
       "      <td>23</td>\n",
       "    </tr>\n",
       "    <tr>\n",
       "      <th>1</th>\n",
       "      <td>2</td>\n",
       "      <td>Large</td>\n",
       "      <td>A</td>\n",
       "      <td>20</td>\n",
       "    </tr>\n",
       "    <tr>\n",
       "      <th>2</th>\n",
       "      <td>3</td>\n",
       "      <td>Large</td>\n",
       "      <td>A</td>\n",
       "      <td>21</td>\n",
       "    </tr>\n",
       "    <tr>\n",
       "      <th>3</th>\n",
       "      <td>4</td>\n",
       "      <td>Large</td>\n",
       "      <td>B</td>\n",
       "      <td>22</td>\n",
       "    </tr>\n",
       "    <tr>\n",
       "      <th>4</th>\n",
       "      <td>5</td>\n",
       "      <td>Large</td>\n",
       "      <td>B</td>\n",
       "      <td>19</td>\n",
       "    </tr>\n",
       "    <tr>\n",
       "      <th>5</th>\n",
       "      <td>6</td>\n",
       "      <td>Large</td>\n",
       "      <td>B</td>\n",
       "      <td>20</td>\n",
       "    </tr>\n",
       "    <tr>\n",
       "      <th>6</th>\n",
       "      <td>7</td>\n",
       "      <td>Large</td>\n",
       "      <td>C</td>\n",
       "      <td>19</td>\n",
       "    </tr>\n",
       "    <tr>\n",
       "      <th>7</th>\n",
       "      <td>8</td>\n",
       "      <td>Large</td>\n",
       "      <td>C</td>\n",
       "      <td>18</td>\n",
       "    </tr>\n",
       "    <tr>\n",
       "      <th>8</th>\n",
       "      <td>9</td>\n",
       "      <td>Large</td>\n",
       "      <td>C</td>\n",
       "      <td>21</td>\n",
       "    </tr>\n",
       "    <tr>\n",
       "      <th>9</th>\n",
       "      <td>10</td>\n",
       "      <td>Middle</td>\n",
       "      <td>A</td>\n",
       "      <td>22</td>\n",
       "    </tr>\n",
       "    <tr>\n",
       "      <th>10</th>\n",
       "      <td>11</td>\n",
       "      <td>Middle</td>\n",
       "      <td>A</td>\n",
       "      <td>20</td>\n",
       "    </tr>\n",
       "    <tr>\n",
       "      <th>11</th>\n",
       "      <td>12</td>\n",
       "      <td>Middle</td>\n",
       "      <td>A</td>\n",
       "      <td>19</td>\n",
       "    </tr>\n",
       "    <tr>\n",
       "      <th>12</th>\n",
       "      <td>13</td>\n",
       "      <td>Middle</td>\n",
       "      <td>B</td>\n",
       "      <td>24</td>\n",
       "    </tr>\n",
       "    <tr>\n",
       "      <th>13</th>\n",
       "      <td>14</td>\n",
       "      <td>Middle</td>\n",
       "      <td>B</td>\n",
       "      <td>25</td>\n",
       "    </tr>\n",
       "    <tr>\n",
       "      <th>14</th>\n",
       "      <td>15</td>\n",
       "      <td>Middle</td>\n",
       "      <td>B</td>\n",
       "      <td>22</td>\n",
       "    </tr>\n",
       "    <tr>\n",
       "      <th>15</th>\n",
       "      <td>16</td>\n",
       "      <td>Middle</td>\n",
       "      <td>C</td>\n",
       "      <td>20</td>\n",
       "    </tr>\n",
       "    <tr>\n",
       "      <th>16</th>\n",
       "      <td>17</td>\n",
       "      <td>Middle</td>\n",
       "      <td>C</td>\n",
       "      <td>19</td>\n",
       "    </tr>\n",
       "    <tr>\n",
       "      <th>17</th>\n",
       "      <td>18</td>\n",
       "      <td>Middle</td>\n",
       "      <td>C</td>\n",
       "      <td>22</td>\n",
       "    </tr>\n",
       "    <tr>\n",
       "      <th>18</th>\n",
       "      <td>19</td>\n",
       "      <td>Small</td>\n",
       "      <td>A</td>\n",
       "      <td>18</td>\n",
       "    </tr>\n",
       "    <tr>\n",
       "      <th>19</th>\n",
       "      <td>20</td>\n",
       "      <td>Small</td>\n",
       "      <td>A</td>\n",
       "      <td>18</td>\n",
       "    </tr>\n",
       "    <tr>\n",
       "      <th>20</th>\n",
       "      <td>21</td>\n",
       "      <td>Small</td>\n",
       "      <td>A</td>\n",
       "      <td>16</td>\n",
       "    </tr>\n",
       "    <tr>\n",
       "      <th>21</th>\n",
       "      <td>22</td>\n",
       "      <td>Small</td>\n",
       "      <td>B</td>\n",
       "      <td>21</td>\n",
       "    </tr>\n",
       "    <tr>\n",
       "      <th>22</th>\n",
       "      <td>23</td>\n",
       "      <td>Small</td>\n",
       "      <td>B</td>\n",
       "      <td>23</td>\n",
       "    </tr>\n",
       "    <tr>\n",
       "      <th>23</th>\n",
       "      <td>24</td>\n",
       "      <td>Small</td>\n",
       "      <td>B</td>\n",
       "      <td>20</td>\n",
       "    </tr>\n",
       "    <tr>\n",
       "      <th>24</th>\n",
       "      <td>25</td>\n",
       "      <td>Small</td>\n",
       "      <td>C</td>\n",
       "      <td>20</td>\n",
       "    </tr>\n",
       "    <tr>\n",
       "      <th>25</th>\n",
       "      <td>26</td>\n",
       "      <td>Small</td>\n",
       "      <td>C</td>\n",
       "      <td>22</td>\n",
       "    </tr>\n",
       "    <tr>\n",
       "      <th>26</th>\n",
       "      <td>27</td>\n",
       "      <td>Small</td>\n",
       "      <td>C</td>\n",
       "      <td>24</td>\n",
       "    </tr>\n",
       "  </tbody>\n",
       "</table>\n",
       "</div>"
      ],
      "text/plain": [
       "    ID    City Design  Sales\n",
       "0    1   Large      A     23\n",
       "1    2   Large      A     20\n",
       "2    3   Large      A     21\n",
       "3    4   Large      B     22\n",
       "4    5   Large      B     19\n",
       "5    6   Large      B     20\n",
       "6    7   Large      C     19\n",
       "7    8   Large      C     18\n",
       "8    9   Large      C     21\n",
       "9   10  Middle      A     22\n",
       "10  11  Middle      A     20\n",
       "11  12  Middle      A     19\n",
       "12  13  Middle      B     24\n",
       "13  14  Middle      B     25\n",
       "14  15  Middle      B     22\n",
       "15  16  Middle      C     20\n",
       "16  17  Middle      C     19\n",
       "17  18  Middle      C     22\n",
       "18  19   Small      A     18\n",
       "19  20   Small      A     18\n",
       "20  21   Small      A     16\n",
       "21  22   Small      B     21\n",
       "22  23   Small      B     23\n",
       "23  24   Small      B     20\n",
       "24  25   Small      C     20\n",
       "25  26   Small      C     22\n",
       "26  27   Small      C     24"
      ]
     },
     "execution_count": 30,
     "metadata": {},
     "output_type": "execute_result"
    }
   ],
   "source": [
    "df = pd.read_csv(r'C:\\Users\\Boanerges\\GitHub\\rawdata\\market.csv')\n",
    "df"
   ]
  },
  {
   "cell_type": "code",
   "execution_count": 31,
   "id": "02ea89d2-285d-4d2e-a4ca-97a378de869f",
   "metadata": {},
   "outputs": [
    {
     "data": {
      "text/html": [
       "<div>\n",
       "<style scoped>\n",
       "    .dataframe tbody tr th:only-of-type {\n",
       "        vertical-align: middle;\n",
       "    }\n",
       "\n",
       "    .dataframe tbody tr th {\n",
       "        vertical-align: top;\n",
       "    }\n",
       "\n",
       "    .dataframe thead tr th {\n",
       "        text-align: left;\n",
       "    }\n",
       "\n",
       "    .dataframe thead tr:last-of-type th {\n",
       "        text-align: right;\n",
       "    }\n",
       "</style>\n",
       "<table border=\"1\" class=\"dataframe\">\n",
       "  <thead>\n",
       "    <tr>\n",
       "      <th></th>\n",
       "      <th colspan=\"4\" halign=\"left\">Sales</th>\n",
       "    </tr>\n",
       "    <tr>\n",
       "      <th></th>\n",
       "      <th>mean</th>\n",
       "      <th>std</th>\n",
       "      <th>min</th>\n",
       "      <th>max</th>\n",
       "    </tr>\n",
       "    <tr>\n",
       "      <th>City</th>\n",
       "      <th></th>\n",
       "      <th></th>\n",
       "      <th></th>\n",
       "      <th></th>\n",
       "    </tr>\n",
       "  </thead>\n",
       "  <tbody>\n",
       "    <tr>\n",
       "      <th>Large</th>\n",
       "      <td>20.333333</td>\n",
       "      <td>1.581139</td>\n",
       "      <td>18</td>\n",
       "      <td>23</td>\n",
       "    </tr>\n",
       "    <tr>\n",
       "      <th>Middle</th>\n",
       "      <td>21.444444</td>\n",
       "      <td>2.127858</td>\n",
       "      <td>19</td>\n",
       "      <td>25</td>\n",
       "    </tr>\n",
       "    <tr>\n",
       "      <th>Small</th>\n",
       "      <td>20.222222</td>\n",
       "      <td>2.587362</td>\n",
       "      <td>16</td>\n",
       "      <td>24</td>\n",
       "    </tr>\n",
       "  </tbody>\n",
       "</table>\n",
       "</div>"
      ],
      "text/plain": [
       "            Sales                  \n",
       "             mean       std min max\n",
       "City                               \n",
       "Large   20.333333  1.581139  18  23\n",
       "Middle  21.444444  2.127858  19  25\n",
       "Small   20.222222  2.587362  16  24"
      ]
     },
     "execution_count": 31,
     "metadata": {},
     "output_type": "execute_result"
    }
   ],
   "source": [
    "df.groupby('City').agg( {'Sales' : [ 'mean', 'std', 'min', 'max' ] } )"
   ]
  },
  {
   "cell_type": "code",
   "execution_count": 32,
   "id": "8a8e2a7a-c0ad-49ac-8033-fe0915809bfe",
   "metadata": {},
   "outputs": [
    {
     "data": {
      "text/html": [
       "<div>\n",
       "<style scoped>\n",
       "    .dataframe tbody tr th:only-of-type {\n",
       "        vertical-align: middle;\n",
       "    }\n",
       "\n",
       "    .dataframe tbody tr th {\n",
       "        vertical-align: top;\n",
       "    }\n",
       "\n",
       "    .dataframe thead tr th {\n",
       "        text-align: left;\n",
       "    }\n",
       "\n",
       "    .dataframe thead tr:last-of-type th {\n",
       "        text-align: right;\n",
       "    }\n",
       "</style>\n",
       "<table border=\"1\" class=\"dataframe\">\n",
       "  <thead>\n",
       "    <tr>\n",
       "      <th></th>\n",
       "      <th colspan=\"4\" halign=\"left\">Sales</th>\n",
       "    </tr>\n",
       "    <tr>\n",
       "      <th></th>\n",
       "      <th>mean</th>\n",
       "      <th>std</th>\n",
       "      <th>min</th>\n",
       "      <th>max</th>\n",
       "    </tr>\n",
       "    <tr>\n",
       "      <th>Design</th>\n",
       "      <th></th>\n",
       "      <th></th>\n",
       "      <th></th>\n",
       "      <th></th>\n",
       "    </tr>\n",
       "  </thead>\n",
       "  <tbody>\n",
       "    <tr>\n",
       "      <th>A</th>\n",
       "      <td>19.666667</td>\n",
       "      <td>2.179449</td>\n",
       "      <td>16</td>\n",
       "      <td>23</td>\n",
       "    </tr>\n",
       "    <tr>\n",
       "      <th>B</th>\n",
       "      <td>21.777778</td>\n",
       "      <td>1.986063</td>\n",
       "      <td>19</td>\n",
       "      <td>25</td>\n",
       "    </tr>\n",
       "    <tr>\n",
       "      <th>C</th>\n",
       "      <td>20.555556</td>\n",
       "      <td>1.878238</td>\n",
       "      <td>18</td>\n",
       "      <td>24</td>\n",
       "    </tr>\n",
       "  </tbody>\n",
       "</table>\n",
       "</div>"
      ],
      "text/plain": [
       "            Sales                  \n",
       "             mean       std min max\n",
       "Design                             \n",
       "A       19.666667  2.179449  16  23\n",
       "B       21.777778  1.986063  19  25\n",
       "C       20.555556  1.878238  18  24"
      ]
     },
     "execution_count": 32,
     "metadata": {},
     "output_type": "execute_result"
    }
   ],
   "source": [
    "df.groupby('Design').agg( {'Sales' : [ 'mean', 'std', 'min', 'max' ] } )"
   ]
  },
  {
   "cell_type": "code",
   "execution_count": 33,
   "id": "9ecffa9c-d568-480c-887e-af26feb39c31",
   "metadata": {},
   "outputs": [
    {
     "data": {
      "image/png": "[encoded data removed]",
      "text/plain": [
       "<Figure size 640x480 with 1 Axes>"
      ]
     },
     "metadata": {},
     "output_type": "display_data"
    },
    {
     "data": {
      "image/png": "[encoded data removed]",
      "text/plain": [
       "<Figure size 640x480 with 1 Axes>"
      ]
     },
     "metadata": {},
     "output_type": "display_data"
    }
   ],
   "source": [
    "df.boxplot('Sales', by='City')\n",
    "df.boxplot('Sales', by='Design')\n",
    "plt.show()"
   ]
  },
  {
   "cell_type": "code",
   "execution_count": 34,
   "id": "3e15fc2c-b326-45e8-bcb7-8eace36e2554",
   "metadata": {},
   "outputs": [
    {
     "data": {
      "image/png": "[encoded data removed]",
      "text/plain": [
       "<Figure size 1000x500 with 1 Axes>"
      ]
     },
     "metadata": {},
     "output_type": "display_data"
    }
   ],
   "source": [
    "df.boxplot('Sales', by=['City', 'Design'],\n",
    "           figsize=(10, 5) )\n",
    "plt.show()"
   ]
  },
  {
   "cell_type": "code",
   "execution_count": null,
   "id": "582e5344-fcfa-4715-9d8d-69fc3b97f7c1",
   "metadata": {},
   "outputs": [],
   "source": []
  },
  {
   "cell_type": "markdown",
   "id": "de1ee27c-59a0-42e1-b9da-55da526cb52b",
   "metadata": {},
   "source": [
    "### 이원분류 분산분석의 가정 확인\n",
    "\n",
    "1. 정규성 : 각 집단의 자료는 정규분포를 따른다.\n",
    "2. 등분산성 : 각 집단의 모분산은 동일하다.\n",
    "\n",
    "- 위의 가정을 만족하지 않는 경우 비모수 검정을 선택하는 것이 타당하다."
   ]
  },
  {
   "cell_type": "code",
   "execution_count": null,
   "id": "3911bcb0-f088-46a1-8006-581361a8f970",
   "metadata": {},
   "outputs": [],
   "source": []
  },
  {
   "cell_type": "code",
   "execution_count": null,
   "id": "986597be-f179-4525-b5e6-e55bce51b7e3",
   "metadata": {},
   "outputs": [],
   "source": []
  },
  {
   "cell_type": "markdown",
   "id": "fa38aea8-0527-4840-b7cd-22febc24ba49",
   "metadata": {},
   "source": [
    "### 상호작용이 있는 이원 분산분석"
   ]
  },
  {
   "cell_type": "markdown",
   "id": "e087bd16-5418-48fb-a612-4242c93155ce",
   "metadata": {},
   "source": [
    "#### `anova()` - pingouin\n",
    "\n",
    "- `pingouin.anova( data=None, dv=None, between=None, ss_type=2, detailed=False, effsize='np2' )`    \n",
    "  - data    : 데이터프레임\n",
    "  - dv      : 종속 변수를 포함하는 데이터의 열 이름\n",
    "  - between : 개체 간 요인을 포함하는 데이터의 열 이름\n",
    "                단일 문자열이면 one-way ANOVA 수행.\n",
    "                두 개 이상의 요소를 포함하는 목록이면 N-way ANOVA 수행\n",
    "  - ss_type  : 요인이 2개 이상인 불균형 설계에 대해 제곱합을 계산하는 방법을 지정\n",
    "  - detailed : True인 경우 자세한 ANOVA 테이블을 반환\n",
    "               기본값 False 이면 one-way ANOVA, True 이면 N-way ANOVA. \n",
    "  - effsize  : 효과 크기. 'np2'는 부분 에타 제곱, 'n2'는 에타 제곱.\n",
    "              일원 분산 분석의 경우 부분 에타 제곱은 에타 제곱과 동일\n",
    "  - https://pingouin-stats.org/generated/pingouin.anova.html"
   ]
  },
  {
   "cell_type": "code",
   "execution_count": 35,
   "id": "7e84a3b0-23f1-47b1-af4c-761ae52b3f98",
   "metadata": {},
   "outputs": [
    {
     "data": {
      "text/html": [
       "<div>\n",
       "<style scoped>\n",
       "    .dataframe tbody tr th:only-of-type {\n",
       "        vertical-align: middle;\n",
       "    }\n",
       "\n",
       "    .dataframe tbody tr th {\n",
       "        vertical-align: top;\n",
       "    }\n",
       "\n",
       "    .dataframe thead th {\n",
       "        text-align: right;\n",
       "    }\n",
       "</style>\n",
       "<table border=\"1\" class=\"dataframe\">\n",
       "  <thead>\n",
       "    <tr style=\"text-align: right;\">\n",
       "      <th></th>\n",
       "      <th>Source</th>\n",
       "      <th>SS</th>\n",
       "      <th>DF</th>\n",
       "      <th>MS</th>\n",
       "      <th>F</th>\n",
       "      <th>p-unc</th>\n",
       "      <th>np2</th>\n",
       "    </tr>\n",
       "  </thead>\n",
       "  <tbody>\n",
       "    <tr>\n",
       "      <th>0</th>\n",
       "      <td>City</td>\n",
       "      <td>8.222222</td>\n",
       "      <td>2</td>\n",
       "      <td>4.111111</td>\n",
       "      <td>1.707692</td>\n",
       "      <td>0.209372</td>\n",
       "      <td>0.159483</td>\n",
       "    </tr>\n",
       "    <tr>\n",
       "      <th>1</th>\n",
       "      <td>Design</td>\n",
       "      <td>20.222222</td>\n",
       "      <td>2</td>\n",
       "      <td>10.111111</td>\n",
       "      <td>4.200000</td>\n",
       "      <td>0.031843</td>\n",
       "      <td>0.318182</td>\n",
       "    </tr>\n",
       "    <tr>\n",
       "      <th>2</th>\n",
       "      <td>City * Design</td>\n",
       "      <td>46.222222</td>\n",
       "      <td>4</td>\n",
       "      <td>11.555556</td>\n",
       "      <td>4.800000</td>\n",
       "      <td>0.008208</td>\n",
       "      <td>0.516129</td>\n",
       "    </tr>\n",
       "    <tr>\n",
       "      <th>3</th>\n",
       "      <td>Residual</td>\n",
       "      <td>43.333333</td>\n",
       "      <td>18</td>\n",
       "      <td>2.407407</td>\n",
       "      <td>NaN</td>\n",
       "      <td>NaN</td>\n",
       "      <td>NaN</td>\n",
       "    </tr>\n",
       "  </tbody>\n",
       "</table>\n",
       "</div>"
      ],
      "text/plain": [
       "          Source         SS  DF         MS         F     p-unc       np2\n",
       "0           City   8.222222   2   4.111111  1.707692  0.209372  0.159483\n",
       "1         Design  20.222222   2  10.111111  4.200000  0.031843  0.318182\n",
       "2  City * Design  46.222222   4  11.555556  4.800000  0.008208  0.516129\n",
       "3       Residual  43.333333  18   2.407407       NaN       NaN       NaN"
      ]
     },
     "execution_count": 35,
     "metadata": {},
     "output_type": "execute_result"
    }
   ],
   "source": [
    "pg.anova( data = df,\n",
    "          dv = 'Sales',\n",
    "          between = ['City', 'Design'] )  # N-way ANOVA의 경우 detailed 옵션의 기본값은 True."
   ]
  },
  {
   "cell_type": "markdown",
   "id": "cecdd0d4-fb07-47bd-bcd5-a5c2c8a26880",
   "metadata": {},
   "source": [
    "#### `ols()`, `anova_lm()` - statsmodels\n",
    "\n",
    "- [ 중요!! ] 적합된 선형회귀모델의 결과를 이용해야 함\n",
    "\n",
    "- `statsmodels.stats.anova.anova_lm( *args, scale=None, test='F', typ=1, robust=None)`\n",
    "  - 이원 분산분석에서는 typ 옵션 값에 따라서 출력되는 결과도 달라질 수 있음. \n",
    "  - typ=1 : sequential SS. 모형에 삽입된 요인 순서대로 제곱합 출력 ( SS(A) - SS(B|A) - SS(AB|A,B) )\n",
    "  - typ=2 : 상호작용 없이 주효과만을 검정 ( SS(A|B), SS(B|A) )\n",
    "  - typ=3 : partial SS. 비균형설계자료(집단별 표본수가 동일하지 않음)인 경우에 사용. ( SS(A|B,AB), SS(B|A,AB), SS(AB,A|B) )   \n",
    "  - 균형설계자료(집단별 표본수가 동일)인 경우 또는 일원 분산분석에서는 typ=1,2,3 모두 동일한 F통계량 및 p값을 산출한다.  \n",
    "  - https://www.statsmodels.org/stable/generated/statsmodels.stats.anova.anova_lm.html"
   ]
  },
  {
   "cell_type": "code",
   "execution_count": 36,
   "id": "3b99d096-117e-4389-bf61-778f08af5394",
   "metadata": {},
   "outputs": [
    {
     "data": {
      "text/html": [
       "<div>\n",
       "<style scoped>\n",
       "    .dataframe tbody tr th:only-of-type {\n",
       "        vertical-align: middle;\n",
       "    }\n",
       "\n",
       "    .dataframe tbody tr th {\n",
       "        vertical-align: top;\n",
       "    }\n",
       "\n",
       "    .dataframe thead th {\n",
       "        text-align: right;\n",
       "    }\n",
       "</style>\n",
       "<table border=\"1\" class=\"dataframe\">\n",
       "  <thead>\n",
       "    <tr style=\"text-align: right;\">\n",
       "      <th></th>\n",
       "      <th>df</th>\n",
       "      <th>sum_sq</th>\n",
       "      <th>mean_sq</th>\n",
       "      <th>F</th>\n",
       "      <th>PR(&gt;F)</th>\n",
       "    </tr>\n",
       "  </thead>\n",
       "  <tbody>\n",
       "    <tr>\n",
       "      <th>City</th>\n",
       "      <td>2.0</td>\n",
       "      <td>8.222222</td>\n",
       "      <td>4.111111</td>\n",
       "      <td>1.707692</td>\n",
       "      <td>0.209372</td>\n",
       "    </tr>\n",
       "    <tr>\n",
       "      <th>Design</th>\n",
       "      <td>2.0</td>\n",
       "      <td>20.222222</td>\n",
       "      <td>10.111111</td>\n",
       "      <td>4.200000</td>\n",
       "      <td>0.031843</td>\n",
       "    </tr>\n",
       "    <tr>\n",
       "      <th>City:Design</th>\n",
       "      <td>4.0</td>\n",
       "      <td>46.222222</td>\n",
       "      <td>11.555556</td>\n",
       "      <td>4.800000</td>\n",
       "      <td>0.008208</td>\n",
       "    </tr>\n",
       "    <tr>\n",
       "      <th>Residual</th>\n",
       "      <td>18.0</td>\n",
       "      <td>43.333333</td>\n",
       "      <td>2.407407</td>\n",
       "      <td>NaN</td>\n",
       "      <td>NaN</td>\n",
       "    </tr>\n",
       "  </tbody>\n",
       "</table>\n",
       "</div>"
      ],
      "text/plain": [
       "               df     sum_sq    mean_sq         F    PR(>F)\n",
       "City          2.0   8.222222   4.111111  1.707692  0.209372\n",
       "Design        2.0  20.222222  10.111111  4.200000  0.031843\n",
       "City:Design   4.0  46.222222  11.555556  4.800000  0.008208\n",
       "Residual     18.0  43.333333   2.407407       NaN       NaN"
      ]
     },
     "metadata": {},
     "output_type": "display_data"
    },
    {
     "name": "stdout",
     "output_type": "stream",
     "text": [
      "\n",
      "                            OLS Regression Results                            \n",
      "==============================================================================\n",
      "Dep. Variable:                  Sales   R-squared:                       0.633\n",
      "Model:                            OLS   Adj. R-squared:                  0.470\n",
      "Method:                 Least Squares   F-statistic:                     3.877\n",
      "Date:                Fri, 12 Nov 2021   Prob (F-statistic):            0.00808\n",
      "Time:                        03:21:04   Log-Likelihood:                -44.698\n",
      "No. Observations:                  27   AIC:                             107.4\n",
      "Df Residuals:                      18   BIC:                             119.1\n",
      "Df Model:                           8                                         \n",
      "Covariance Type:            nonrobust                                         \n",
      "==============================================================================================\n",
      "                                 coef    std err          t      P>|t|      [0.025      0.975]\n",
      "----------------------------------------------------------------------------------------------\n",
      "Intercept                     21.3333      0.896     23.815      0.000      19.451      23.215\n",
      "City[T.Middle]                -1.0000      1.267     -0.789      0.440      -3.662       1.662\n",
      "City[T.Small]                 -4.0000      1.267     -3.157      0.005      -6.662      -1.338\n",
      "Design[T.B]                   -1.0000      1.267     -0.789      0.440      -3.662       1.662\n",
      "Design[T.C]                   -2.0000      1.267     -1.579      0.132      -4.662       0.662\n",
      "City[T.Middle]:Design[T.B]     4.3333      1.792      2.419      0.026       0.569       8.097\n",
      "City[T.Small]:Design[T.B]      5.0000      1.792      2.791      0.012       1.236       8.764\n",
      "City[T.Middle]:Design[T.C]     2.0000      1.792      1.116      0.279      -1.764       5.764\n",
      "City[T.Small]:Design[T.C]      6.6667      1.792      3.721      0.002       2.903      10.431\n",
      "==============================================================================\n",
      "Omnibus:                        9.322   Durbin-Watson:                   2.100\n",
      "Prob(Omnibus):                  0.009   Jarque-Bera (JB):                2.312\n",
      "Skew:                           0.170   Prob(JB):                        0.315\n",
      "Kurtosis:                       1.607   Cond. No.                         13.9\n",
      "==============================================================================\n",
      "\n",
      "Notes:\n",
      "[1] Standard Errors assume that the covariance matrix of the errors is correctly specified.\n",
      "\n"
     ]
    }
   ],
   "source": [
    "# statsmodels 패키지를 사용하여 일원분산 분석 실시\n",
    "\n",
    "# 회귀모델 생성 및 적합\n",
    "fit_model = ols( 'Sales ~ City + Design + City:Design', data = df ).fit()\n",
    "# Fertil 의 데이터가 숫자형이라면 ols 함수 사용 시,\n",
    "# C() 연산자를 사용하여 범주형 변수로 지정해주는 작업이 필요하다.\n",
    "# 이 과정을 생략하고 싶다면 처음부터 데이터 타입을 문자형으로 변경하고 나서 분석을 시작하면 된다.\n",
    "\n",
    "\n",
    "# 분산분석 수행\n",
    "display( anova_lm(fit_model, typ=1) )\n",
    "print()\n",
    "\n",
    "# 통계량 summary를 통해 R-squared 확인\n",
    "print( fit_model.summary() )\n",
    "print()"
   ]
  },
  {
   "cell_type": "markdown",
   "id": "256ba1e1-1b88-4649-9fae-97b6daf878e0",
   "metadata": {},
   "source": [
    "### 사후 검정"
   ]
  },
  {
   "cell_type": "markdown",
   "id": "bfae9b5b-7ff4-40ee-a700-48abeabf363e",
   "metadata": {},
   "source": [
    "#### `pairwise_tukeyhsd()` - statsmodels"
   ]
  },
  {
   "cell_type": "code",
   "execution_count": 37,
   "id": "09742555-d864-4610-971e-8ba81fbc2e44",
   "metadata": {
    "tags": []
   },
   "outputs": [
    {
     "data": {
      "text/html": [
       "<table class=\"simpletable\">\n",
       "<caption>Multiple Comparison of Means - Tukey HSD, FWER=0.05</caption>\n",
       "<tr>\n",
       "  <th>group1</th> <th>group2</th> <th>meandiff</th>  <th>p-adj</th>  <th>lower</th>   <th>upper</th> <th>reject</th>\n",
       "</tr>\n",
       "<tr>\n",
       "     <td>A</td>      <td>B</td>    <td>2.1111</td>  <td>0.0881</td> <td>-0.2646</td> <td>4.4868</td>  <td>False</td>\n",
       "</tr>\n",
       "<tr>\n",
       "     <td>A</td>      <td>C</td>    <td>0.8889</td>  <td>0.6181</td> <td>-1.4868</td> <td>3.2646</td>  <td>False</td>\n",
       "</tr>\n",
       "<tr>\n",
       "     <td>B</td>      <td>C</td>    <td>-1.2222</td> <td>0.4188</td> <td>-3.5979</td> <td>1.1535</td>  <td>False</td>\n",
       "</tr>\n",
       "</table>"
      ],
      "text/plain": [
       "<class 'statsmodels.iolib.table.SimpleTable'>"
      ]
     },
     "metadata": {},
     "output_type": "display_data"
    },
    {
     "name": "stdout",
     "output_type": "stream",
     "text": [
      "\n"
     ]
    },
    {
     "data": {
      "image/png": "[encoded data removed]",
      "text/plain": [
       "<Figure size 1000x600 with 1 Axes>"
      ]
     },
     "metadata": {},
     "output_type": "display_data"
    }
   ],
   "source": [
    "posthoc = pairwise_tukeyhsd( df.Sales,\n",
    "                             groups = df.Design,\n",
    "                             alpha=0.05)\n",
    "display( posthoc.summary() )\n",
    "print()\n",
    "posthoc.plot_simultaneous();"
   ]
  },
  {
   "cell_type": "markdown",
   "id": "1f95e249-cbf2-41be-9e36-f85e804aaf91",
   "metadata": {},
   "source": [
    "### 상호작용 확인"
   ]
  },
  {
   "cell_type": "markdown",
   "id": "f28d36b0-40ff-44f5-a666-2a16f00d0366",
   "metadata": {},
   "source": [
    "#### `interaction_plot()` - statsmodels\n",
    "\n",
    "- `statsmodels.graphics.factorplots.interaction_plot( x, trace, response, func, ax=None, plottype='b', xlabel=None, ylabel=None, colors=None, markers=None, linestyles=None, legendloc='best', legendtitle=None, **kwargs )`\n",
    "  - https://www.statsmodels.org/stable/generated/statsmodels.graphics.factorplots.interaction_plot.html"
   ]
  },
  {
   "cell_type": "code",
   "execution_count": 38,
   "id": "c47f9505-7112-4774-a58a-3fe80aad1356",
   "metadata": {},
   "outputs": [
    {
     "data": {
      "image/png": "[encoded data removed]",
      "text/plain": [
       "<Figure size 640x480 with 1 Axes>"
      ]
     },
     "metadata": {},
     "output_type": "display_data"
    }
   ],
   "source": [
    "fig = interaction_plot( x = df.City,\n",
    "                        trace = df.Design,\n",
    "                        response = df.Sales )"
   ]
  },
  {
   "cell_type": "code",
   "execution_count": 39,
   "id": "570b04ac-975c-4b89-9e7e-d0c9795b7a66",
   "metadata": {},
   "outputs": [
    {
     "data": {
      "image/png": "[encoded data removed]",
      "text/plain": [
       "<Figure size 640x480 with 1 Axes>"
      ]
     },
     "metadata": {},
     "output_type": "display_data"
    }
   ],
   "source": [
    "fig = interaction_plot( x = df.Design,\n",
    "                        trace = df.City,\n",
    "                        response = df.Sales )"
   ]
  },
  {
   "cell_type": "markdown",
   "id": "fdbb7830-77b0-4083-ba39-427bece5493d",
   "metadata": {},
   "source": [
    "#### `pointplot()` - seaborn\n",
    "\n",
    "- `seaborn.pointplot( *, x=None, y=None, hue=None, data=None, order=None, hue_order=None, estimator, ci=95, n_boot=1000, units=None, seed=None, markers='o', linestyles='-', dodge=False, join=True, scale=1, orient=None, color=None, palette=None, errwidth=None, capsize=None, ax=None, **kwargs )`\n",
    "  - https://seaborn.pydata.org/generated/seaborn.pointplot.html"
   ]
  },
  {
   "cell_type": "code",
   "execution_count": 40,
   "id": "b4544250-586a-4086-8b5c-8ed5a54c1d4f",
   "metadata": {},
   "outputs": [
    {
     "data": {
      "image/png": "[encoded data removed]",
      "text/plain": [
       "<Figure size 640x480 with 1 Axes>"
      ]
     },
     "metadata": {},
     "output_type": "display_data"
    }
   ],
   "source": [
    "sb.pointplot( data = df,\n",
    "              x = df.City, y = df.Sales,\n",
    "              hue = df.Design,\n",
    "              ci = 0, markers=['o','*','s'], linestyles=['-','--',':'])\n",
    "plt.show()"
   ]
  },
  {
   "cell_type": "code",
   "execution_count": 41,
   "id": "aa295993-7853-4cc1-bb80-3afbae9a87bc",
   "metadata": {},
   "outputs": [
    {
     "data": {
      "image/png": "[encoded data removed]",
      "text/plain": [
       "<Figure size 640x480 with 1 Axes>"
      ]
     },
     "metadata": {},
     "output_type": "display_data"
    }
   ],
   "source": [
    "sb.pointplot( data = df,\n",
    "              x = df.Design, y = df.Sales,\n",
    "              hue = df.City,\n",
    "              ci = 0, markers=['o','*','s'], linestyles=['-','--',':'])\n",
    "plt.show()"
   ]
  },
  {
   "cell_type": "markdown",
   "id": "3c26a3ee-7d73-466b-bf5a-b29a3462c15a",
   "metadata": {},
   "source": [
    "# ================================="
   ]
  },
  {
   "cell_type": "markdown",
   "id": "bb02dea1-457f-4346-a167-c8ebbb118b52",
   "metadata": {},
   "source": [
    "# 공분산 분석"
   ]
  },
  {
   "cell_type": "raw",
   "id": "d75a0304-bd33-4322-9386-d27a2187d893",
   "metadata": {},
   "source": [
    "[ 문제 ] \n",
    "Ancova.csv 파일은 20명의 사람을 10명씩 두 개의 집단으로 나눈 다음,\n",
    "집단 A(비교집단)에는 기존의 방법으로 교육을 실시하고,\n",
    "집단 B(실험집단)에는 새로운 방법으로 교육을 실시한 후 특별한 심리검사를 통해 점수를 얻은 데이터이다."
   ]
  },
  {
   "cell_type": "code",
   "execution_count": 42,
   "id": "c6f2aefd-a25e-46ea-bd51-6869350e21ab",
   "metadata": {},
   "outputs": [
    {
     "data": {
      "text/html": [
       "<div>\n",
       "<style scoped>\n",
       "    .dataframe tbody tr th:only-of-type {\n",
       "        vertical-align: middle;\n",
       "    }\n",
       "\n",
       "    .dataframe tbody tr th {\n",
       "        vertical-align: top;\n",
       "    }\n",
       "\n",
       "    .dataframe thead th {\n",
       "        text-align: right;\n",
       "    }\n",
       "</style>\n",
       "<table border=\"1\" class=\"dataframe\">\n",
       "  <thead>\n",
       "    <tr style=\"text-align: right;\">\n",
       "      <th></th>\n",
       "      <th>Group</th>\n",
       "      <th>Age</th>\n",
       "      <th>Score</th>\n",
       "    </tr>\n",
       "    <tr>\n",
       "      <th>ID</th>\n",
       "      <th></th>\n",
       "      <th></th>\n",
       "      <th></th>\n",
       "    </tr>\n",
       "  </thead>\n",
       "  <tbody>\n",
       "    <tr>\n",
       "      <th>1</th>\n",
       "      <td>1</td>\n",
       "      <td>31</td>\n",
       "      <td>30</td>\n",
       "    </tr>\n",
       "    <tr>\n",
       "      <th>2</th>\n",
       "      <td>1</td>\n",
       "      <td>28</td>\n",
       "      <td>0</td>\n",
       "    </tr>\n",
       "    <tr>\n",
       "      <th>3</th>\n",
       "      <td>1</td>\n",
       "      <td>25</td>\n",
       "      <td>10</td>\n",
       "    </tr>\n",
       "    <tr>\n",
       "      <th>4</th>\n",
       "      <td>1</td>\n",
       "      <td>34</td>\n",
       "      <td>40</td>\n",
       "    </tr>\n",
       "    <tr>\n",
       "      <th>5</th>\n",
       "      <td>1</td>\n",
       "      <td>39</td>\n",
       "      <td>55</td>\n",
       "    </tr>\n",
       "    <tr>\n",
       "      <th>6</th>\n",
       "      <td>1</td>\n",
       "      <td>26</td>\n",
       "      <td>20</td>\n",
       "    </tr>\n",
       "    <tr>\n",
       "      <th>7</th>\n",
       "      <td>1</td>\n",
       "      <td>30</td>\n",
       "      <td>65</td>\n",
       "    </tr>\n",
       "    <tr>\n",
       "      <th>8</th>\n",
       "      <td>1</td>\n",
       "      <td>26</td>\n",
       "      <td>5</td>\n",
       "    </tr>\n",
       "    <tr>\n",
       "      <th>9</th>\n",
       "      <td>1</td>\n",
       "      <td>31</td>\n",
       "      <td>40</td>\n",
       "    </tr>\n",
       "    <tr>\n",
       "      <th>10</th>\n",
       "      <td>1</td>\n",
       "      <td>23</td>\n",
       "      <td>0</td>\n",
       "    </tr>\n",
       "    <tr>\n",
       "      <th>11</th>\n",
       "      <td>2</td>\n",
       "      <td>36</td>\n",
       "      <td>65</td>\n",
       "    </tr>\n",
       "    <tr>\n",
       "      <th>12</th>\n",
       "      <td>2</td>\n",
       "      <td>33</td>\n",
       "      <td>50</td>\n",
       "    </tr>\n",
       "    <tr>\n",
       "      <th>13</th>\n",
       "      <td>2</td>\n",
       "      <td>31</td>\n",
       "      <td>90</td>\n",
       "    </tr>\n",
       "    <tr>\n",
       "      <th>14</th>\n",
       "      <td>2</td>\n",
       "      <td>29</td>\n",
       "      <td>25</td>\n",
       "    </tr>\n",
       "    <tr>\n",
       "      <th>15</th>\n",
       "      <td>2</td>\n",
       "      <td>41</td>\n",
       "      <td>99</td>\n",
       "    </tr>\n",
       "    <tr>\n",
       "      <th>16</th>\n",
       "      <td>2</td>\n",
       "      <td>36</td>\n",
       "      <td>60</td>\n",
       "    </tr>\n",
       "    <tr>\n",
       "      <th>17</th>\n",
       "      <td>2</td>\n",
       "      <td>32</td>\n",
       "      <td>25</td>\n",
       "    </tr>\n",
       "    <tr>\n",
       "      <th>18</th>\n",
       "      <td>2</td>\n",
       "      <td>32</td>\n",
       "      <td>80</td>\n",
       "    </tr>\n",
       "    <tr>\n",
       "      <th>19</th>\n",
       "      <td>2</td>\n",
       "      <td>27</td>\n",
       "      <td>5</td>\n",
       "    </tr>\n",
       "    <tr>\n",
       "      <th>20</th>\n",
       "      <td>2</td>\n",
       "      <td>32</td>\n",
       "      <td>99</td>\n",
       "    </tr>\n",
       "  </tbody>\n",
       "</table>\n",
       "</div>"
      ],
      "text/plain": [
       "    Group  Age  Score\n",
       "ID                   \n",
       "1       1   31     30\n",
       "2       1   28      0\n",
       "3       1   25     10\n",
       "4       1   34     40\n",
       "5       1   39     55\n",
       "6       1   26     20\n",
       "7       1   30     65\n",
       "8       1   26      5\n",
       "9       1   31     40\n",
       "10      1   23      0\n",
       "11      2   36     65\n",
       "12      2   33     50\n",
       "13      2   31     90\n",
       "14      2   29     25\n",
       "15      2   41     99\n",
       "16      2   36     60\n",
       "17      2   32     25\n",
       "18      2   32     80\n",
       "19      2   27      5\n",
       "20      2   32     99"
      ]
     },
     "execution_count": 42,
     "metadata": {},
     "output_type": "execute_result"
    }
   ],
   "source": [
    "df =  pd.read_csv(r'C:\\Users\\Boanerges\\GitHub\\rawdata\\ancova.csv',\n",
    "                  index_col = 'ID')\n",
    "df"
   ]
  },
  {
   "cell_type": "code",
   "execution_count": 43,
   "id": "2d5fe15c-470a-4759-b841-499f393c8178",
   "metadata": {},
   "outputs": [
    {
     "data": {
      "text/html": [
       "<div>\n",
       "<style scoped>\n",
       "    .dataframe tbody tr th:only-of-type {\n",
       "        vertical-align: middle;\n",
       "    }\n",
       "\n",
       "    .dataframe tbody tr th {\n",
       "        vertical-align: top;\n",
       "    }\n",
       "\n",
       "    .dataframe thead tr th {\n",
       "        text-align: left;\n",
       "    }\n",
       "\n",
       "    .dataframe thead tr:last-of-type th {\n",
       "        text-align: right;\n",
       "    }\n",
       "</style>\n",
       "<table border=\"1\" class=\"dataframe\">\n",
       "  <thead>\n",
       "    <tr>\n",
       "      <th></th>\n",
       "      <th colspan=\"4\" halign=\"left\">Score</th>\n",
       "    </tr>\n",
       "    <tr>\n",
       "      <th></th>\n",
       "      <th>mean</th>\n",
       "      <th>std</th>\n",
       "      <th>min</th>\n",
       "      <th>max</th>\n",
       "    </tr>\n",
       "    <tr>\n",
       "      <th>Group</th>\n",
       "      <th></th>\n",
       "      <th></th>\n",
       "      <th></th>\n",
       "      <th></th>\n",
       "    </tr>\n",
       "  </thead>\n",
       "  <tbody>\n",
       "    <tr>\n",
       "      <th>1</th>\n",
       "      <td>26.5</td>\n",
       "      <td>23.219963</td>\n",
       "      <td>0</td>\n",
       "      <td>65</td>\n",
       "    </tr>\n",
       "    <tr>\n",
       "      <th>2</th>\n",
       "      <td>59.8</td>\n",
       "      <td>33.235857</td>\n",
       "      <td>5</td>\n",
       "      <td>99</td>\n",
       "    </tr>\n",
       "  </tbody>\n",
       "</table>\n",
       "</div>"
      ],
      "text/plain": [
       "      Score                   \n",
       "       mean        std min max\n",
       "Group                         \n",
       "1      26.5  23.219963   0  65\n",
       "2      59.8  33.235857   5  99"
      ]
     },
     "execution_count": 43,
     "metadata": {},
     "output_type": "execute_result"
    }
   ],
   "source": [
    "df.groupby('Group').agg( {'Score' : [ 'mean', 'std', 'min', 'max' ] } )"
   ]
  },
  {
   "cell_type": "code",
   "execution_count": 44,
   "id": "6c8b867f-0b25-4aad-a731-ac00861b7d6e",
   "metadata": {},
   "outputs": [
    {
     "data": {
      "text/html": [
       "<div>\n",
       "<style scoped>\n",
       "    .dataframe tbody tr th:only-of-type {\n",
       "        vertical-align: middle;\n",
       "    }\n",
       "\n",
       "    .dataframe tbody tr th {\n",
       "        vertical-align: top;\n",
       "    }\n",
       "\n",
       "    .dataframe thead tr th {\n",
       "        text-align: left;\n",
       "    }\n",
       "\n",
       "    .dataframe thead tr:last-of-type th {\n",
       "        text-align: right;\n",
       "    }\n",
       "</style>\n",
       "<table border=\"1\" class=\"dataframe\">\n",
       "  <thead>\n",
       "    <tr>\n",
       "      <th></th>\n",
       "      <th colspan=\"4\" halign=\"left\">Score</th>\n",
       "    </tr>\n",
       "    <tr>\n",
       "      <th></th>\n",
       "      <th>mean</th>\n",
       "      <th>std</th>\n",
       "      <th>min</th>\n",
       "      <th>max</th>\n",
       "    </tr>\n",
       "    <tr>\n",
       "      <th>Age</th>\n",
       "      <th></th>\n",
       "      <th></th>\n",
       "      <th></th>\n",
       "      <th></th>\n",
       "    </tr>\n",
       "  </thead>\n",
       "  <tbody>\n",
       "    <tr>\n",
       "      <th>23</th>\n",
       "      <td>0.000000</td>\n",
       "      <td>NaN</td>\n",
       "      <td>0</td>\n",
       "      <td>0</td>\n",
       "    </tr>\n",
       "    <tr>\n",
       "      <th>25</th>\n",
       "      <td>10.000000</td>\n",
       "      <td>NaN</td>\n",
       "      <td>10</td>\n",
       "      <td>10</td>\n",
       "    </tr>\n",
       "    <tr>\n",
       "      <th>26</th>\n",
       "      <td>12.500000</td>\n",
       "      <td>10.606602</td>\n",
       "      <td>5</td>\n",
       "      <td>20</td>\n",
       "    </tr>\n",
       "    <tr>\n",
       "      <th>27</th>\n",
       "      <td>5.000000</td>\n",
       "      <td>NaN</td>\n",
       "      <td>5</td>\n",
       "      <td>5</td>\n",
       "    </tr>\n",
       "    <tr>\n",
       "      <th>28</th>\n",
       "      <td>0.000000</td>\n",
       "      <td>NaN</td>\n",
       "      <td>0</td>\n",
       "      <td>0</td>\n",
       "    </tr>\n",
       "    <tr>\n",
       "      <th>29</th>\n",
       "      <td>25.000000</td>\n",
       "      <td>NaN</td>\n",
       "      <td>25</td>\n",
       "      <td>25</td>\n",
       "    </tr>\n",
       "    <tr>\n",
       "      <th>30</th>\n",
       "      <td>65.000000</td>\n",
       "      <td>NaN</td>\n",
       "      <td>65</td>\n",
       "      <td>65</td>\n",
       "    </tr>\n",
       "    <tr>\n",
       "      <th>31</th>\n",
       "      <td>53.333333</td>\n",
       "      <td>32.145503</td>\n",
       "      <td>30</td>\n",
       "      <td>90</td>\n",
       "    </tr>\n",
       "    <tr>\n",
       "      <th>32</th>\n",
       "      <td>68.000000</td>\n",
       "      <td>38.431758</td>\n",
       "      <td>25</td>\n",
       "      <td>99</td>\n",
       "    </tr>\n",
       "    <tr>\n",
       "      <th>33</th>\n",
       "      <td>50.000000</td>\n",
       "      <td>NaN</td>\n",
       "      <td>50</td>\n",
       "      <td>50</td>\n",
       "    </tr>\n",
       "    <tr>\n",
       "      <th>34</th>\n",
       "      <td>40.000000</td>\n",
       "      <td>NaN</td>\n",
       "      <td>40</td>\n",
       "      <td>40</td>\n",
       "    </tr>\n",
       "    <tr>\n",
       "      <th>36</th>\n",
       "      <td>62.500000</td>\n",
       "      <td>3.535534</td>\n",
       "      <td>60</td>\n",
       "      <td>65</td>\n",
       "    </tr>\n",
       "    <tr>\n",
       "      <th>39</th>\n",
       "      <td>55.000000</td>\n",
       "      <td>NaN</td>\n",
       "      <td>55</td>\n",
       "      <td>55</td>\n",
       "    </tr>\n",
       "    <tr>\n",
       "      <th>41</th>\n",
       "      <td>99.000000</td>\n",
       "      <td>NaN</td>\n",
       "      <td>99</td>\n",
       "      <td>99</td>\n",
       "    </tr>\n",
       "  </tbody>\n",
       "</table>\n",
       "</div>"
      ],
      "text/plain": [
       "         Score                   \n",
       "          mean        std min max\n",
       "Age                              \n",
       "23    0.000000        NaN   0   0\n",
       "25   10.000000        NaN  10  10\n",
       "26   12.500000  10.606602   5  20\n",
       "27    5.000000        NaN   5   5\n",
       "28    0.000000        NaN   0   0\n",
       "29   25.000000        NaN  25  25\n",
       "30   65.000000        NaN  65  65\n",
       "31   53.333333  32.145503  30  90\n",
       "32   68.000000  38.431758  25  99\n",
       "33   50.000000        NaN  50  50\n",
       "34   40.000000        NaN  40  40\n",
       "36   62.500000   3.535534  60  65\n",
       "39   55.000000        NaN  55  55\n",
       "41   99.000000        NaN  99  99"
      ]
     },
     "execution_count": 44,
     "metadata": {},
     "output_type": "execute_result"
    }
   ],
   "source": [
    "df.groupby('Age').agg( {'Score' : [ 'mean', 'std', 'min', 'max' ] } )"
   ]
  },
  {
   "cell_type": "code",
   "execution_count": 45,
   "id": "ab68c45b-8a96-485b-824a-f984ab72d8d2",
   "metadata": {},
   "outputs": [
    {
     "data": {
      "image/png": "[encoded data removed]",
      "text/plain": [
       "<Figure size 640x480 with 1 Axes>"
      ]
     },
     "metadata": {},
     "output_type": "display_data"
    },
    {
     "data": {
      "image/png": "[encoded data removed]",
      "text/plain": [
       "<Figure size 640x480 with 1 Axes>"
      ]
     },
     "metadata": {},
     "output_type": "display_data"
    }
   ],
   "source": [
    "df.boxplot('Score', by='Group')\n",
    "df.boxplot('Score', by='Age')\n",
    "plt.show()"
   ]
  },
  {
   "cell_type": "code",
   "execution_count": 46,
   "id": "af3d1024-bd12-4b7d-b2e5-b5472b69df80",
   "metadata": {},
   "outputs": [
    {
     "data": {
      "image/png": "[encoded data removed]",
      "text/plain": [
       "<Figure size 1000x500 with 1 Axes>"
      ]
     },
     "metadata": {},
     "output_type": "display_data"
    }
   ],
   "source": [
    "df.boxplot('Score', by=['Group', 'Age'],\n",
    "           figsize=(10, 5) )\n",
    "plt.show()"
   ]
  },
  {
   "cell_type": "markdown",
   "id": "650524fd-be4d-41d6-8b21-64eba10ce8b3",
   "metadata": {},
   "source": [
    "## 공분산 분석 모형의 가정\n",
    "\n",
    "- 공변량 x와 반응변수 y는 선형적인(체계적인 증감의) 관계가 있다.  \n",
    "  - 선형적이 아니라면 공변량을 적절한 구간으로 나누어 블록으로 간주하여 분석하거나 적절한 비선형 모형을 고려하여 분석해야 한다.  \n",
    "\n",
    "\n",
    "- 공변량에 대한 기울기가 두 집단에서 동일하다.\n",
    "  - 기울기의 동일성을 가정할 수 없다면 서로 다른 기울기를 가지는 일반선형모형을 고려하여 분석해야 한다."
   ]
  },
  {
   "cell_type": "markdown",
   "id": "55a39a2c-9f3c-443b-8d52-70caa2c3d26a",
   "metadata": {},
   "source": [
    "## 공분산 분석"
   ]
  },
  {
   "cell_type": "markdown",
   "id": "52f37fd5-0fe5-479c-9b77-d6567bc59c7d",
   "metadata": {},
   "source": [
    "### `ancova()` - pingouin\n",
    "\n",
    "- `pingouin.ancova( data=None, dv=None, between=None, covar=None, effsize='np2' )`    \n",
    "  - data    : 데이터프레임\n",
    "  - dv      : 종속 변수를 포함하는 데이터의 열 이름\n",
    "  - between : 개체 간 요인을 포함하는 데이터의 열 이름\n",
    "  - covar  : 공변량이 있는 데이터의 열 이름\n",
    "  - effsize  : 효과 크기. 'np2'는 부분 에타 제곱, 'n2'는 에타 제곱.\n",
    "  - https://pingouin-stats.org/generated/pingouin.ancova.html"
   ]
  },
  {
   "cell_type": "code",
   "execution_count": 47,
   "id": "609e93a4-4fd8-4a31-a019-68febbbf2484",
   "metadata": {},
   "outputs": [
    {
     "data": {
      "text/html": [
       "<div>\n",
       "<style scoped>\n",
       "    .dataframe tbody tr th:only-of-type {\n",
       "        vertical-align: middle;\n",
       "    }\n",
       "\n",
       "    .dataframe tbody tr th {\n",
       "        vertical-align: top;\n",
       "    }\n",
       "\n",
       "    .dataframe thead th {\n",
       "        text-align: right;\n",
       "    }\n",
       "</style>\n",
       "<table border=\"1\" class=\"dataframe\">\n",
       "  <thead>\n",
       "    <tr style=\"text-align: right;\">\n",
       "      <th></th>\n",
       "      <th>Source</th>\n",
       "      <th>SS</th>\n",
       "      <th>DF</th>\n",
       "      <th>F</th>\n",
       "      <th>p-unc</th>\n",
       "      <th>np2</th>\n",
       "    </tr>\n",
       "  </thead>\n",
       "  <tbody>\n",
       "    <tr>\n",
       "      <th>0</th>\n",
       "      <td>Group</td>\n",
       "      <td>1352.710921</td>\n",
       "      <td>1</td>\n",
       "      <td>2.704636</td>\n",
       "      <td>0.118420</td>\n",
       "      <td>0.137259</td>\n",
       "    </tr>\n",
       "    <tr>\n",
       "      <th>1</th>\n",
       "      <td>Age</td>\n",
       "      <td>6291.631565</td>\n",
       "      <td>1</td>\n",
       "      <td>12.579610</td>\n",
       "      <td>0.002479</td>\n",
       "      <td>0.425280</td>\n",
       "    </tr>\n",
       "    <tr>\n",
       "      <th>2</th>\n",
       "      <td>Residual</td>\n",
       "      <td>8502.468435</td>\n",
       "      <td>17</td>\n",
       "      <td>NaN</td>\n",
       "      <td>NaN</td>\n",
       "      <td>NaN</td>\n",
       "    </tr>\n",
       "  </tbody>\n",
       "</table>\n",
       "</div>"
      ],
      "text/plain": [
       "     Source           SS  DF          F     p-unc       np2\n",
       "0     Group  1352.710921   1   2.704636  0.118420  0.137259\n",
       "1       Age  6291.631565   1  12.579610  0.002479  0.425280\n",
       "2  Residual  8502.468435  17        NaN       NaN       NaN"
      ]
     },
     "execution_count": 47,
     "metadata": {},
     "output_type": "execute_result"
    }
   ],
   "source": [
    "pg.ancova( data = df,\n",
    "           dv = 'Score',\n",
    "           between = 'Group', covar = 'Age')"
   ]
  },
  {
   "cell_type": "markdown",
   "id": "9d1b4e5e-0f63-454a-a88c-6aa657e0301c",
   "metadata": {},
   "source": [
    "### `ols()`, `anova_lm()` - statsmodels\n",
    "\n",
    "- [ 중요!! ] 적합된 선형회귀모델의 결과를 이용해야 함\n",
    "\n",
    "- `statsmodels.stats.anova.anova_lm( *args, scale=None, test='F', typ=1, robust=None)`\n",
    "  - 이원 분산분석에서는 typ 옵션 값에 따라서 출력되는 결과도 달라질 수 있음. \n",
    "  - typ=1 : sequential SS. 모형에 삽입된 요인 순서대로 제곱합 출력 ( SS(A) - SS(B|A) - SS(AB|A,B) )\n",
    "  - typ=2 : 상호작용 없이 주효과만을 검정 ( SS(A|B), SS(B|A) )\n",
    "  - typ=3 : partial SS. 비균형설계자료(집단별 표본수가 동일하지 않음)인 경우에 사용. ( SS(A|B,AB), SS(B|A,AB), SS(AB,A|B) )   \n",
    "  - 균형설계자료(집단별 표본수가 동일)인 경우 또는 일원 분산분석에서는 typ=1,2,3 모두 동일한 F통계량 및 p값을 산출한다.  \n",
    "  - https://www.statsmodels.org/stable/generated/statsmodels.stats.anova.anova_lm.html"
   ]
  },
  {
   "cell_type": "code",
   "execution_count": 48,
   "id": "8f3db776-c9c6-47b5-9f09-909d4f69fb15",
   "metadata": {},
   "outputs": [
    {
     "data": {
      "text/html": [
       "<div>\n",
       "<style scoped>\n",
       "    .dataframe tbody tr th:only-of-type {\n",
       "        vertical-align: middle;\n",
       "    }\n",
       "\n",
       "    .dataframe tbody tr th {\n",
       "        vertical-align: top;\n",
       "    }\n",
       "\n",
       "    .dataframe thead th {\n",
       "        text-align: right;\n",
       "    }\n",
       "</style>\n",
       "<table border=\"1\" class=\"dataframe\">\n",
       "  <thead>\n",
       "    <tr style=\"text-align: right;\">\n",
       "      <th></th>\n",
       "      <th>sum_sq</th>\n",
       "      <th>df</th>\n",
       "      <th>F</th>\n",
       "      <th>PR(&gt;F)</th>\n",
       "    </tr>\n",
       "  </thead>\n",
       "  <tbody>\n",
       "    <tr>\n",
       "      <th>Intercept</th>\n",
       "      <td>3757.815275</td>\n",
       "      <td>1.0</td>\n",
       "      <td>7.513449</td>\n",
       "      <td>0.013926</td>\n",
       "    </tr>\n",
       "    <tr>\n",
       "      <th>C(Group)</th>\n",
       "      <td>1352.710921</td>\n",
       "      <td>1.0</td>\n",
       "      <td>2.704636</td>\n",
       "      <td>0.118420</td>\n",
       "    </tr>\n",
       "    <tr>\n",
       "      <th>Age</th>\n",
       "      <td>6291.631565</td>\n",
       "      <td>1.0</td>\n",
       "      <td>12.579610</td>\n",
       "      <td>0.002479</td>\n",
       "    </tr>\n",
       "    <tr>\n",
       "      <th>Residual</th>\n",
       "      <td>8502.468435</td>\n",
       "      <td>17.0</td>\n",
       "      <td>NaN</td>\n",
       "      <td>NaN</td>\n",
       "    </tr>\n",
       "  </tbody>\n",
       "</table>\n",
       "</div>"
      ],
      "text/plain": [
       "                sum_sq    df          F    PR(>F)\n",
       "Intercept  3757.815275   1.0   7.513449  0.013926\n",
       "C(Group)   1352.710921   1.0   2.704636  0.118420\n",
       "Age        6291.631565   1.0  12.579610  0.002479\n",
       "Residual   8502.468435  17.0        NaN       NaN"
      ]
     },
     "metadata": {},
     "output_type": "display_data"
    },
    {
     "name": "stdout",
     "output_type": "stream",
     "text": [
      "\n",
      "                            OLS Regression Results                            \n",
      "==============================================================================\n",
      "Dep. Variable:                  Score   R-squared:                       0.582\n",
      "Model:                            OLS   Adj. R-squared:                  0.533\n",
      "Method:                 Least Squares   F-statistic:                     11.83\n",
      "Date:                Fri, 12 Nov 2021   Prob (F-statistic):           0.000603\n",
      "Time:                        03:21:08   Log-Likelihood:                -88.903\n",
      "No. Observations:                  20   AIC:                             183.8\n",
      "Df Residuals:                      17   BIC:                             186.8\n",
      "Df Model:                           2                                         \n",
      "Covariance Type:            nonrobust                                         \n",
      "=================================================================================\n",
      "                    coef    std err          t      P>|t|      [0.025      0.975]\n",
      "---------------------------------------------------------------------------------\n",
      "Intercept       -98.6237     35.980     -2.741      0.014    -174.535     -22.712\n",
      "C(Group)[T.2]    17.9264     10.900      1.645      0.118      -5.071      40.924\n",
      "Age               4.2704      1.204      3.547      0.002       1.730       6.811\n",
      "==============================================================================\n",
      "Omnibus:                        2.125   Durbin-Watson:                   2.604\n",
      "Prob(Omnibus):                  0.346   Jarque-Bera (JB):                1.611\n",
      "Skew:                           0.673   Prob(JB):                        0.447\n",
      "Kurtosis:                       2.651   Cond. No.                         227.\n",
      "==============================================================================\n",
      "\n",
      "Notes:\n",
      "[1] Standard Errors assume that the covariance matrix of the errors is correctly specified.\n",
      "\n"
     ]
    }
   ],
   "source": [
    "# statsmodels 패키지를 사용하여 일원분산 분석 실시\n",
    "\n",
    "# 회귀모델 생성 및 적합\n",
    "fit_model = ols( 'Score ~ C(Group)+Age', data = df ).fit()\n",
    "# Fertil 의 데이터가 숫자형이라면 ols 함수 사용 시,\n",
    "# C() 연산자를 사용하여 범주형 변수로 지정해주는 작업이 필요하다.\n",
    "# 이 과정을 생략하고 싶다면 처음부터 데이터 타입을 문자형으로 변경하고 나서 분석을 시작하면 된다.\n",
    "\n",
    "\n",
    "# 분산분석 수행\n",
    "display( anova_lm(fit_model, typ=3) )\n",
    "print()\n",
    "\n",
    "# 통계량 summary를 통해 R-squared 확인\n",
    "print( fit_model.summary() )\n",
    "print()"
   ]
  },
  {
   "cell_type": "markdown",
   "id": "b9162950-0f2a-45d3-a166-081402c9e50f",
   "metadata": {},
   "source": [
    "## 독립표본 t-검정"
   ]
  },
  {
   "cell_type": "code",
   "execution_count": 49,
   "id": "300fa5e8-f64b-4538-b769-a7ccc8eb59bd",
   "metadata": {},
   "outputs": [
    {
     "data": {
      "text/plain": [
       "(-2.5972946039234155, 0.009101297078662121, 18.0)"
      ]
     },
     "execution_count": 49,
     "metadata": {},
     "output_type": "execute_result"
    }
   ],
   "source": [
    "control = df[df.Group==1]\n",
    "treatment = df[df.Group==2]\n",
    "\n",
    "ttest_ind( control.Score, treatment.Score,\n",
    "           alternative = 'smaller')"
   ]
  },
  {
   "cell_type": "code",
   "execution_count": 50,
   "id": "4e0da1b3-6a49-4119-b940-4b1c0df7bb34",
   "metadata": {},
   "outputs": [
    {
     "data": {
      "text/plain": [
       "(-2.5972946039234155, 0.9908987029213379, 18.0)"
      ]
     },
     "execution_count": 50,
     "metadata": {},
     "output_type": "execute_result"
    }
   ],
   "source": [
    "control = df[df.Group==1]\n",
    "treatment = df[df.Group==2]\n",
    "\n",
    "ttest_ind( control.Score, treatment.Score,\n",
    "           alternative = 'larger')"
   ]
  },
  {
   "cell_type": "code",
   "execution_count": 51,
   "id": "7dea3471-5480-4736-8dbc-94430e7cffd3",
   "metadata": {},
   "outputs": [
    {
     "data": {
      "text/plain": [
       "(-2.5972946039234155, 0.018202594157324243, 18.0)"
      ]
     },
     "execution_count": 51,
     "metadata": {},
     "output_type": "execute_result"
    }
   ],
   "source": [
    "control = df[df.Group==1]\n",
    "treatment = df[df.Group==2]\n",
    "\n",
    "ttest_ind( control.Score, treatment.Score )"
   ]
  },
  {
   "cell_type": "code",
   "execution_count": 52,
   "id": "c39198dd-cacf-441f-a066-6c4cdd71a7de",
   "metadata": {},
   "outputs": [
    {
     "data": {
      "text/plain": [
       "\u001b[1;31mSignature:\u001b[0m\n",
       "\u001b[0mttest_ind\u001b[0m\u001b[1;33m(\u001b[0m\u001b[1;33m\n",
       "\u001b[0m    \u001b[0mx1\u001b[0m\u001b[1;33m,\u001b[0m\u001b[1;33m\n",
       "\u001b[0m    \u001b[0mx2\u001b[0m\u001b[1;33m,\u001b[0m\u001b[1;33m\n",
       "\u001b[0m    \u001b[0malternative\u001b[0m\u001b[1;33m=\u001b[0m\u001b[1;34m'two-sided'\u001b[0m\u001b[1;33m,\u001b[0m\u001b[1;33m\n",
       "\u001b[0m    \u001b[0musevar\u001b[0m\u001b[1;33m=\u001b[0m\u001b[1;34m'pooled'\u001b[0m\u001b[1;33m,\u001b[0m\u001b[1;33m\n",
       "\u001b[0m    \u001b[0mweights\u001b[0m\u001b[1;33m=\u001b[0m\u001b[1;33m(\u001b[0m\u001b[1;32mNone\u001b[0m\u001b[1;33m,\u001b[0m \u001b[1;32mNone\u001b[0m\u001b[1;33m)\u001b[0m\u001b[1;33m,\u001b[0m\u001b[1;33m\n",
       "\u001b[0m    \u001b[0mvalue\u001b[0m\u001b[1;33m=\u001b[0m\u001b[1;36m0\u001b[0m\u001b[1;33m,\u001b[0m\u001b[1;33m\n",
       "\u001b[0m\u001b[1;33m)\u001b[0m\u001b[1;33m\u001b[0m\u001b[1;33m\u001b[0m\u001b[0m\n",
       "\u001b[1;31mDocstring:\u001b[0m\n",
       "ttest independent sample\n",
       "\n",
       "Convenience function that uses the classes and throws away the intermediate\n",
       "results,\n",
       "compared to scipy stats: drops axis option, adds alternative, usevar, and\n",
       "weights option.\n",
       "\n",
       "Parameters\n",
       "----------\n",
       "x1 : array_like, 1-D or 2-D\n",
       "    first of the two independent samples, see notes for 2-D case\n",
       "x2 : array_like, 1-D or 2-D\n",
       "    second of the two independent samples, see notes for 2-D case\n",
       "alternative : str\n",
       "    The alternative hypothesis, H1, has to be one of the following\n",
       "\n",
       "       * 'two-sided' (default): H1: difference in means not equal to value\n",
       "       * 'larger' :   H1: difference in means larger than value\n",
       "       * 'smaller' :  H1: difference in means smaller than value\n",
       "\n",
       "usevar : str, 'pooled' or 'unequal'\n",
       "    If ``pooled``, then the standard deviation of the samples is assumed to be\n",
       "    the same. If ``unequal``, then Welsh ttest with Satterthwait degrees\n",
       "    of freedom is used\n",
       "weights : tuple of None or ndarrays\n",
       "    Case weights for the two samples. For details on weights see\n",
       "    ``DescrStatsW``\n",
       "value : float\n",
       "    difference between the means under the Null hypothesis.\n",
       "\n",
       "\n",
       "Returns\n",
       "-------\n",
       "tstat : float\n",
       "    test statistic\n",
       "pvalue : float\n",
       "    pvalue of the t-test\n",
       "df : int or float\n",
       "    degrees of freedom used in the t-test\n",
       "\u001b[1;31mFile:\u001b[0m      c:\\users\\boanerges\\anaconda3\\lib\\site-packages\\statsmodels\\stats\\weightstats.py\n",
       "\u001b[1;31mType:\u001b[0m      function\n"
      ]
     },
     "metadata": {},
     "output_type": "display_data"
    }
   ],
   "source": [
    "?ttest_ind"
   ]
  },
  {
   "cell_type": "code",
   "execution_count": null,
   "id": "9d33b051-7fce-409e-8a0a-f8038318c168",
   "metadata": {},
   "outputs": [],
   "source": []
  },
  {
   "cell_type": "code",
   "execution_count": null,
   "id": "5d0bc398-b81b-4f02-bc99-f86d53a7e0c9",
   "metadata": {},
   "outputs": [],
   "source": []
  },
  {
   "cell_type": "markdown",
   "id": "c26a1aa0-a75d-4b9b-bc12-8ba0e641f353",
   "metadata": {},
   "source": [
    "## 공변량에 대한 기울기의 동일성 검정"
   ]
  },
  {
   "cell_type": "code",
   "execution_count": 53,
   "id": "3b7843d0-6ab6-4b31-96ff-bd0b66bfc5d9",
   "metadata": {},
   "outputs": [
    {
     "data": {
      "text/html": [
       "<div>\n",
       "<style scoped>\n",
       "    .dataframe tbody tr th:only-of-type {\n",
       "        vertical-align: middle;\n",
       "    }\n",
       "\n",
       "    .dataframe tbody tr th {\n",
       "        vertical-align: top;\n",
       "    }\n",
       "\n",
       "    .dataframe thead th {\n",
       "        text-align: right;\n",
       "    }\n",
       "</style>\n",
       "<table border=\"1\" class=\"dataframe\">\n",
       "  <thead>\n",
       "    <tr style=\"text-align: right;\">\n",
       "      <th></th>\n",
       "      <th>sum_sq</th>\n",
       "      <th>df</th>\n",
       "      <th>F</th>\n",
       "      <th>PR(&gt;F)</th>\n",
       "    </tr>\n",
       "  </thead>\n",
       "  <tbody>\n",
       "    <tr>\n",
       "      <th>Intercept</th>\n",
       "      <td>1587.280279</td>\n",
       "      <td>1.0</td>\n",
       "      <td>3.039893</td>\n",
       "      <td>0.100421</td>\n",
       "    </tr>\n",
       "    <tr>\n",
       "      <th>C(Group)</th>\n",
       "      <td>47.501959</td>\n",
       "      <td>1.0</td>\n",
       "      <td>0.090974</td>\n",
       "      <td>0.766828</td>\n",
       "    </tr>\n",
       "    <tr>\n",
       "      <th>Age</th>\n",
       "      <td>2833.710191</td>\n",
       "      <td>1.0</td>\n",
       "      <td>5.427004</td>\n",
       "      <td>0.033250</td>\n",
       "    </tr>\n",
       "    <tr>\n",
       "      <th>C(Group):Age</th>\n",
       "      <td>148.067554</td>\n",
       "      <td>1.0</td>\n",
       "      <td>0.283573</td>\n",
       "      <td>0.601687</td>\n",
       "    </tr>\n",
       "    <tr>\n",
       "      <th>Residual</th>\n",
       "      <td>8354.400881</td>\n",
       "      <td>16.0</td>\n",
       "      <td>NaN</td>\n",
       "      <td>NaN</td>\n",
       "    </tr>\n",
       "  </tbody>\n",
       "</table>\n",
       "</div>"
      ],
      "text/plain": [
       "                   sum_sq    df         F    PR(>F)\n",
       "Intercept     1587.280279   1.0  3.039893  0.100421\n",
       "C(Group)        47.501959   1.0  0.090974  0.766828\n",
       "Age           2833.710191   1.0  5.427004  0.033250\n",
       "C(Group):Age   148.067554   1.0  0.283573  0.601687\n",
       "Residual      8354.400881  16.0       NaN       NaN"
      ]
     },
     "metadata": {},
     "output_type": "display_data"
    },
    {
     "name": "stdout",
     "output_type": "stream",
     "text": [
      "\n",
      "                            OLS Regression Results                            \n",
      "==============================================================================\n",
      "Dep. Variable:                  Score   R-squared:                       0.589\n",
      "Model:                            OLS   Adj. R-squared:                  0.512\n",
      "Method:                 Least Squares   F-statistic:                     7.651\n",
      "Date:                Fri, 12 Nov 2021   Prob (F-statistic):            0.00215\n",
      "Time:                        03:21:08   Log-Likelihood:                -88.727\n",
      "No. Observations:                  20   AIC:                             185.5\n",
      "Df Residuals:                      16   BIC:                             189.4\n",
      "Df Model:                           3                                         \n",
      "Covariance Type:            nonrobust                                         \n",
      "=====================================================================================\n",
      "                        coef    std err          t      P>|t|      [0.025      0.975]\n",
      "-------------------------------------------------------------------------------------\n",
      "Intercept           -82.6752     47.418     -1.744      0.100    -183.197      17.847\n",
      "C(Group)[T.2]       -23.9629     79.448     -0.302      0.767    -192.384     144.459\n",
      "Age                   3.7261      1.599      2.330      0.033       0.335       7.117\n",
      "C(Group)[T.2]:Age     1.3328      2.503      0.533      0.602      -3.973       6.639\n",
      "==============================================================================\n",
      "Omnibus:                        3.333   Durbin-Watson:                   2.478\n",
      "Prob(Omnibus):                  0.189   Jarque-Bera (JB):                2.425\n",
      "Skew:                           0.848   Prob(JB):                        0.297\n",
      "Kurtosis:                       2.809   Cond. No.                         617.\n",
      "==============================================================================\n",
      "\n",
      "Notes:\n",
      "[1] Standard Errors assume that the covariance matrix of the errors is correctly specified.\n",
      "\n"
     ]
    }
   ],
   "source": [
    "# statsmodels 패키지를 사용하여 일원분산 분석 실시\n",
    "\n",
    "# 회귀모델 생성 및 적합\n",
    "fit_model = ols( 'Score ~ C(Group)*Age', data = df ).fit()\n",
    "# Fertil 의 데이터가 숫자형이라면 ols 함수 사용 시,\n",
    "# C() 연산자를 사용하여 범주형 변수로 지정해주는 작업이 필요하다.\n",
    "# 이 과정을 생략하고 싶다면 처음부터 데이터 타입을 문자형으로 변경하고 나서 분석을 시작하면 된다.\n",
    "\n",
    "\n",
    "# 분산분석 수행\n",
    "display( anova_lm(fit_model, typ=3) )\n",
    "print()\n",
    "\n",
    "# 통계량 summary를 통해 R-squared 확인\n",
    "print( fit_model.summary() )\n",
    "print()"
   ]
  },
  {
   "cell_type": "code",
   "execution_count": null,
   "id": "414b1889-66e6-4e3c-afe7-38149af23631",
   "metadata": {},
   "outputs": [],
   "source": []
  },
  {
   "cell_type": "code",
   "execution_count": null,
   "id": "98220335-c5b4-4602-b8d2-1802fdf8e7b8",
   "metadata": {},
   "outputs": [],
   "source": []
  },
  {
   "cell_type": "code",
   "execution_count": null,
   "id": "01bcd9ae-5985-4c25-a2c5-7e7d909f90de",
   "metadata": {},
   "outputs": [],
   "source": []
  },
  {
   "cell_type": "code",
   "execution_count": null,
   "id": "0e253ddd-ddd0-4f60-b14f-72eaf72368c2",
   "metadata": {},
   "outputs": [],
   "source": []
  },
  {
   "cell_type": "code",
   "execution_count": null,
   "id": "1ce25c6b-27ba-4f3e-a3ff-42d0226cba49",
   "metadata": {},
   "outputs": [],
   "source": []
  },
  {
   "cell_type": "code",
   "execution_count": null,
   "id": "c3c5a6ba-1e74-43e5-8027-ca7a4aeb6f31",
   "metadata": {},
   "outputs": [],
   "source": []
  },
  {
   "cell_type": "code",
   "execution_count": null,
   "id": "52449452-8c1c-4244-9929-ef06f796237b",
   "metadata": {},
   "outputs": [],
   "source": []
  }
 ],
 "metadata": {
  "kernelspec": {
   "display_name": "Python 3 (ipykernel)",
   "language": "python",
   "name": "python3"
  },
  "language_info": {
   "codemirror_mode": {
    "name": "ipython",
    "version": 3
   },
   "file_extension": ".py",
   "mimetype": "text/x-python",
   "name": "python",
   "nbconvert_exporter": "python",
   "pygments_lexer": "ipython3",
   "version": "3.8.12"
  },
  "toc-autonumbering": true
 },
 "nbformat": 4,
 "nbformat_minor": 5
}
