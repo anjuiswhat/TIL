{
 "cells": [
  {
   "cell_type": "markdown",
   "id": "74083a3e",
   "metadata": {},
   "source": [
    "## 1. import libraries ##"
   ]
  },
  {
   "cell_type": "code",
   "execution_count": 8,
   "id": "99afe56e",
   "metadata": {},
   "outputs": [],
   "source": [
    "import pandas as pd\n",
    "import numpy as np\n",
    "from factor_analyzer import FactorAnalyzer\n",
    "from matplotlib import pyplot as plt"
   ]
  },
  {
   "cell_type": "markdown",
   "id": "78f63e38",
   "metadata": {},
   "source": [
    "## 2. import data ##"
   ]
  },
  {
   "cell_type": "code",
   "execution_count": 3,
   "id": "2e9be99e",
   "metadata": {},
   "outputs": [
    {
     "data": {
      "text/html": [
       "<div>\n",
       "<style scoped>\n",
       "    .dataframe tbody tr th:only-of-type {\n",
       "        vertical-align: middle;\n",
       "    }\n",
       "\n",
       "    .dataframe tbody tr th {\n",
       "        vertical-align: top;\n",
       "    }\n",
       "\n",
       "    .dataframe thead th {\n",
       "        text-align: right;\n",
       "    }\n",
       "</style>\n",
       "<table border=\"1\" class=\"dataframe\">\n",
       "  <thead>\n",
       "    <tr style=\"text-align: right;\">\n",
       "      <th></th>\n",
       "      <th>mechanics</th>\n",
       "      <th>vectors</th>\n",
       "      <th>algebra</th>\n",
       "      <th>analysis</th>\n",
       "      <th>statistics</th>\n",
       "    </tr>\n",
       "  </thead>\n",
       "  <tbody>\n",
       "    <tr>\n",
       "      <th>0</th>\n",
       "      <td>77</td>\n",
       "      <td>82</td>\n",
       "      <td>67</td>\n",
       "      <td>67</td>\n",
       "      <td>81</td>\n",
       "    </tr>\n",
       "    <tr>\n",
       "      <th>1</th>\n",
       "      <td>63</td>\n",
       "      <td>78</td>\n",
       "      <td>80</td>\n",
       "      <td>70</td>\n",
       "      <td>81</td>\n",
       "    </tr>\n",
       "    <tr>\n",
       "      <th>2</th>\n",
       "      <td>75</td>\n",
       "      <td>73</td>\n",
       "      <td>71</td>\n",
       "      <td>66</td>\n",
       "      <td>81</td>\n",
       "    </tr>\n",
       "    <tr>\n",
       "      <th>3</th>\n",
       "      <td>55</td>\n",
       "      <td>72</td>\n",
       "      <td>63</td>\n",
       "      <td>70</td>\n",
       "      <td>68</td>\n",
       "    </tr>\n",
       "    <tr>\n",
       "      <th>4</th>\n",
       "      <td>63</td>\n",
       "      <td>63</td>\n",
       "      <td>65</td>\n",
       "      <td>70</td>\n",
       "      <td>63</td>\n",
       "    </tr>\n",
       "  </tbody>\n",
       "</table>\n",
       "</div>"
      ],
      "text/plain": [
       "   mechanics  vectors  algebra  analysis  statistics\n",
       "0         77       82       67        67          81\n",
       "1         63       78       80        70          81\n",
       "2         75       73       71        66          81\n",
       "3         55       72       63        70          68\n",
       "4         63       63       65        70          63"
      ]
     },
     "execution_count": 3,
     "metadata": {},
     "output_type": "execute_result"
    }
   ],
   "source": [
    "df=pd.read_csv('examscore.csv')\n",
    "df.drop(df.columns[0],axis=1, inplace=True)\n",
    "df.head()"
   ]
  },
  {
   "cell_type": "code",
   "execution_count": 4,
   "id": "2173ec10",
   "metadata": {},
   "outputs": [
    {
     "ename": "ImportError",
     "evalue": "cannot import name 'calculate_barlett_sphericity' from 'factor_analyzer' (C:\\anaconda3\\lib\\site-packages\\factor_analyzer\\__init__.py)",
     "output_type": "error",
     "traceback": [
      "\u001b[1;31m---------------------------------------------------------------------------\u001b[0m",
      "\u001b[1;31mImportError\u001b[0m                               Traceback (most recent call last)",
      "\u001b[1;32m<ipython-input-4-c1b44be59764>\u001b[0m in \u001b[0;36m<module>\u001b[1;34m\u001b[0m\n\u001b[0;32m      1\u001b[0m \u001b[1;31m# Barlett test\u001b[0m\u001b[1;33m\u001b[0m\u001b[1;33m\u001b[0m\u001b[1;33m\u001b[0m\u001b[0m\n\u001b[1;32m----> 2\u001b[1;33m \u001b[1;32mfrom\u001b[0m \u001b[0mfactor_analyzer\u001b[0m \u001b[1;32mimport\u001b[0m \u001b[0mcalculate_barlett_sphericity\u001b[0m\u001b[1;33m\u001b[0m\u001b[1;33m\u001b[0m\u001b[0m\n\u001b[0m\u001b[0;32m      3\u001b[0m \u001b[1;33m\u001b[0m\u001b[0m\n\u001b[0;32m      4\u001b[0m \u001b[0mchi_square_value\u001b[0m\u001b[1;33m,\u001b[0m \u001b[0mp_value\u001b[0m \u001b[1;33m=\u001b[0m \u001b[0mcalculate_barlett_sphericity\u001b[0m\u001b[1;33m(\u001b[0m\u001b[0mdf\u001b[0m\u001b[1;33m)\u001b[0m\u001b[1;33m\u001b[0m\u001b[1;33m\u001b[0m\u001b[0m\n\u001b[0;32m      5\u001b[0m \u001b[0mchi_square_value\u001b[0m\u001b[1;33m,\u001b[0m \u001b[0mp_value\u001b[0m\u001b[1;33m\u001b[0m\u001b[1;33m\u001b[0m\u001b[0m\n",
      "\u001b[1;31mImportError\u001b[0m: cannot import name 'calculate_barlett_sphericity' from 'factor_analyzer' (C:\\anaconda3\\lib\\site-packages\\factor_analyzer\\__init__.py)"
     ]
    }
   ],
   "source": [
    "# Barlett test\n",
    "# from factor_analyzer import calculate_barlett_sphericity\n",
    "\n",
    "chi_square_value, p_value = calculate_barlett_sphericity(df)\n",
    "chi_square_value, p_value\n",
    "# p-value가 작아야 요인분석에 적합한 데이터."
   ]
  },
  {
   "cell_type": "code",
   "execution_count": 5,
   "id": "7c9f84ac",
   "metadata": {},
   "outputs": [
    {
     "data": {
      "text/plain": [
       "0.8260363079255291"
      ]
     },
     "execution_count": 5,
     "metadata": {},
     "output_type": "execute_result"
    }
   ],
   "source": [
    "# kmo 검정\n",
    "from factor_analyzer import calculate_kmo\n",
    "kmo_all, kmo_model = calculate_kmo(df)\n",
    "kmo_model\n",
    "# 0.8 이상이어야 우수"
   ]
  },
  {
   "cell_type": "code",
   "execution_count": 6,
   "id": "dfefd42b",
   "metadata": {},
   "outputs": [
    {
     "name": "stdout",
     "output_type": "stream",
     "text": [
      "요인적재량(loadings):\n",
      "       0     1\n",
      "0  0.19  0.88\n",
      "1  0.35  0.78\n",
      "2  0.76  0.49\n",
      "3  0.84  0.27\n",
      "4  0.86  0.19\n",
      "공통성(comunalities):\n",
      "       0\n",
      "0  0.82\n",
      "1  0.74\n",
      "2  0.82\n",
      "3  0.78\n",
      "4  0.77\n",
      "고유값:\n",
      "       0\n",
      "0  3.18\n",
      "1  0.74\n",
      "2  0.44\n",
      "3  0.39\n",
      "4  0.25\n"
     ]
    }
   ],
   "source": [
    "# Build FactorAnalyzer Model\n",
    "fa = FactorAnalyzer(method='principal', n_factors=2, rotation='varimax').fit(df)\n",
    "# 요인적재량(Loadings) \n",
    "print('요인적재량(loadings):\\n',pd.DataFrame(fa.loadings_).round(2))\n",
    "# 공통성(Communalities) \n",
    "print('공통성(comunalities):\\n', pd.DataFrame(fa.get_communalities()).round(2))\n",
    "# 고유값(Eigenvalue)\n",
    "ev,v=fa.get_eigenvalues()\n",
    "print('고유값:\\n', pd.DataFrame(ev).round(2))"
   ]
  },
  {
   "cell_type": "code",
   "execution_count": 9,
   "id": "d7135c81",
   "metadata": {},
   "outputs": [
    {
     "data": {
      "image/png": "[encoded data removed]",
      "text/plain": [
       "<Figure size 432x288 with 1 Axes>"
      ]
     },
     "metadata": {
      "needs_background": "light"
     },
     "output_type": "display_data"
    }
   ],
   "source": [
    "plt.scatter(range(1,df.shape[1]+1),ev)\n",
    "plt.plot(range(1,df.shape[1]+1),ev)\n",
    "plt.title('scree plot')\n",
    "plt.xlabel('factors')\n",
    "plt.ylabel('eigenvalue')\n",
    "plt.grid()\n",
    "plt.show()\n",
    "# 그래프가 꺾이는 2,3중에서 선택"
   ]
  },
  {
   "cell_type": "code",
   "execution_count": 10,
   "id": "f135024f",
   "metadata": {},
   "outputs": [
    {
     "data": {
      "text/html": [
       "<div>\n",
       "<style scoped>\n",
       "    .dataframe tbody tr th:only-of-type {\n",
       "        vertical-align: middle;\n",
       "    }\n",
       "\n",
       "    .dataframe tbody tr th {\n",
       "        vertical-align: top;\n",
       "    }\n",
       "\n",
       "    .dataframe thead th {\n",
       "        text-align: right;\n",
       "    }\n",
       "</style>\n",
       "<table border=\"1\" class=\"dataframe\">\n",
       "  <thead>\n",
       "    <tr style=\"text-align: right;\">\n",
       "      <th></th>\n",
       "      <th>0</th>\n",
       "      <th>1</th>\n",
       "    </tr>\n",
       "  </thead>\n",
       "  <tbody>\n",
       "    <tr>\n",
       "      <th>SS Loadings</th>\n",
       "      <td>2.177346</td>\n",
       "      <td>1.743206</td>\n",
       "    </tr>\n",
       "    <tr>\n",
       "      <th>Proportion Var</th>\n",
       "      <td>0.435469</td>\n",
       "      <td>0.348641</td>\n",
       "    </tr>\n",
       "    <tr>\n",
       "      <th>Cumulative Var</th>\n",
       "      <td>0.435469</td>\n",
       "      <td>0.784110</td>\n",
       "    </tr>\n",
       "  </tbody>\n",
       "</table>\n",
       "</div>"
      ],
      "text/plain": [
       "                       0         1\n",
       "SS Loadings     2.177346  1.743206\n",
       "Proportion Var  0.435469  0.348641\n",
       "Cumulative Var  0.435469  0.784110"
      ]
     },
     "execution_count": 10,
     "metadata": {},
     "output_type": "execute_result"
    }
   ],
   "source": [
    "# model 결과값 보기 n_factors를 3으로도 놓고 해보기\n",
    "fa.get_factor_variance()\n",
    "result = pd.DataFrame(fa.get_factor_variance())\n",
    "result.index = ['SS Loadings', 'Proportion Var', 'Cumulative Var']\n",
    "result\n",
    "    "
   ]
  },
  {
   "cell_type": "code",
   "execution_count": 11,
   "id": "6201646f",
   "metadata": {},
   "outputs": [
    {
     "data": {
      "text/html": [
       "<div>\n",
       "<style scoped>\n",
       "    .dataframe tbody tr th:only-of-type {\n",
       "        vertical-align: middle;\n",
       "    }\n",
       "\n",
       "    .dataframe tbody tr th {\n",
       "        vertical-align: top;\n",
       "    }\n",
       "\n",
       "    .dataframe thead th {\n",
       "        text-align: right;\n",
       "    }\n",
       "</style>\n",
       "<table border=\"1\" class=\"dataframe\">\n",
       "  <thead>\n",
       "    <tr style=\"text-align: right;\">\n",
       "      <th></th>\n",
       "      <th>0</th>\n",
       "      <th>1</th>\n",
       "    </tr>\n",
       "  </thead>\n",
       "  <tbody>\n",
       "    <tr>\n",
       "      <th>mechanics</th>\n",
       "      <td>0.191037</td>\n",
       "      <td>0.882935</td>\n",
       "    </tr>\n",
       "    <tr>\n",
       "      <th>vectors</th>\n",
       "      <td>0.347039</td>\n",
       "      <td>0.784715</td>\n",
       "    </tr>\n",
       "    <tr>\n",
       "      <th>algebra</th>\n",
       "      <td>0.760004</td>\n",
       "      <td>0.490339</td>\n",
       "    </tr>\n",
       "    <tr>\n",
       "      <th>analysis</th>\n",
       "      <td>0.839370</td>\n",
       "      <td>0.266586</td>\n",
       "    </tr>\n",
       "    <tr>\n",
       "      <th>statistics</th>\n",
       "      <td>0.859225</td>\n",
       "      <td>0.190667</td>\n",
       "    </tr>\n",
       "  </tbody>\n",
       "</table>\n",
       "</div>"
      ],
      "text/plain": [
       "                   0         1\n",
       "mechanics   0.191037  0.882935\n",
       "vectors     0.347039  0.784715\n",
       "algebra     0.760004  0.490339\n",
       "analysis    0.839370  0.266586\n",
       "statistics  0.859225  0.190667"
      ]
     },
     "execution_count": 11,
     "metadata": {},
     "output_type": "execute_result"
    }
   ],
   "source": [
    "# 탐색적 요인분석\n",
    "efa_result = pd.DataFrame(fa.loadings_, index = df.columns)\n",
    "efa_result\n",
    "## 요인 0는 Analysis, Statistics에 대해 높은 요인 적재량을 가진다.\n",
    "## (두 과목의 상관관계가 높다)\n",
    "## 요인 1은 Mechanics, Vectors에 대해 높은 요인 적재량을 가진다.\n",
    "## (+ 요인 0에서는 두 과목의 적재량이 낮다)\n",
    "## 요인 0으로는 두 과목의 점수가 설명이 되며, 요인 1로는 다른 두 과목의 점수가 설명이 된다.\n"
   ]
  }
 ],
 "metadata": {
  "kernelspec": {
   "display_name": "Python 3",
   "language": "python",
   "name": "python3"
  },
  "language_info": {
   "codemirror_mode": {
    "name": "ipython",
    "version": 3
   },
   "file_extension": ".py",
   "mimetype": "text/x-python",
   "name": "python",
   "nbconvert_exporter": "python",
   "pygments_lexer": "ipython3",
   "version": "3.8.8"
  }
 },
 "nbformat": 4,
 "nbformat_minor": 5
}
