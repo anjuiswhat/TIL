{
 "cells": [
  {
   "cell_type": "markdown",
   "id": "674f54b6",
   "metadata": {},
   "source": [
    "## 1. import dataframe "
   ]
  },
  {
   "cell_type": "markdown",
   "id": "6e99f051",
   "metadata": {},
   "source": [
    "### 1. import libraries"
   ]
  },
  {
   "cell_type": "code",
   "execution_count": 7,
   "id": "4e4f24e2",
   "metadata": {},
   "outputs": [],
   "source": [
    "import pandas as pd\n",
    "import numpy as np\n",
    "import scipy.stats as stats"
   ]
  },
  {
   "cell_type": "markdown",
   "id": "3aa9d7ab",
   "metadata": {},
   "source": [
    "## 2. import time series data"
   ]
  },
  {
   "cell_type": "code",
   "execution_count": 4,
   "id": "027f46a8",
   "metadata": {},
   "outputs": [],
   "source": [
    "df = pd.read_csv('https://raw.githubusercontent.com/Datamanim/dataq/main/diamonds.csv',index_col=0)\n",
    "sample_data = df"
   ]
  },
  {
   "cell_type": "code",
   "execution_count": 6,
   "id": "8f9da9dc",
   "metadata": {},
   "outputs": [
    {
     "data": {
      "text/html": [
       "<div>\n",
       "<style scoped>\n",
       "    .dataframe tbody tr th:only-of-type {\n",
       "        vertical-align: middle;\n",
       "    }\n",
       "\n",
       "    .dataframe tbody tr th {\n",
       "        vertical-align: top;\n",
       "    }\n",
       "\n",
       "    .dataframe thead th {\n",
       "        text-align: right;\n",
       "    }\n",
       "</style>\n",
       "<table border=\"1\" class=\"dataframe\">\n",
       "  <thead>\n",
       "    <tr style=\"text-align: right;\">\n",
       "      <th>color</th>\n",
       "      <th>D</th>\n",
       "      <th>E</th>\n",
       "      <th>F</th>\n",
       "      <th>G</th>\n",
       "      <th>H</th>\n",
       "      <th>I</th>\n",
       "      <th>J</th>\n",
       "    </tr>\n",
       "    <tr>\n",
       "      <th>cut</th>\n",
       "      <th></th>\n",
       "      <th></th>\n",
       "      <th></th>\n",
       "      <th></th>\n",
       "      <th></th>\n",
       "      <th></th>\n",
       "      <th></th>\n",
       "    </tr>\n",
       "  </thead>\n",
       "  <tbody>\n",
       "    <tr>\n",
       "      <th>Fair</th>\n",
       "      <td>163</td>\n",
       "      <td>224</td>\n",
       "      <td>312</td>\n",
       "      <td>314</td>\n",
       "      <td>303</td>\n",
       "      <td>175</td>\n",
       "      <td>119</td>\n",
       "    </tr>\n",
       "    <tr>\n",
       "      <th>Good</th>\n",
       "      <td>662</td>\n",
       "      <td>933</td>\n",
       "      <td>909</td>\n",
       "      <td>871</td>\n",
       "      <td>702</td>\n",
       "      <td>522</td>\n",
       "      <td>307</td>\n",
       "    </tr>\n",
       "    <tr>\n",
       "      <th>Ideal</th>\n",
       "      <td>2834</td>\n",
       "      <td>3903</td>\n",
       "      <td>3826</td>\n",
       "      <td>4884</td>\n",
       "      <td>3115</td>\n",
       "      <td>2093</td>\n",
       "      <td>896</td>\n",
       "    </tr>\n",
       "    <tr>\n",
       "      <th>Premium</th>\n",
       "      <td>1603</td>\n",
       "      <td>2337</td>\n",
       "      <td>2331</td>\n",
       "      <td>2924</td>\n",
       "      <td>2360</td>\n",
       "      <td>1428</td>\n",
       "      <td>808</td>\n",
       "    </tr>\n",
       "    <tr>\n",
       "      <th>Very Good</th>\n",
       "      <td>1513</td>\n",
       "      <td>2400</td>\n",
       "      <td>2164</td>\n",
       "      <td>2299</td>\n",
       "      <td>1824</td>\n",
       "      <td>1204</td>\n",
       "      <td>678</td>\n",
       "    </tr>\n",
       "  </tbody>\n",
       "</table>\n",
       "</div>"
      ],
      "text/plain": [
       "color         D     E     F     G     H     I    J\n",
       "cut                                               \n",
       "Fair        163   224   312   314   303   175  119\n",
       "Good        662   933   909   871   702   522  307\n",
       "Ideal      2834  3903  3826  4884  3115  2093  896\n",
       "Premium    1603  2337  2331  2924  2360  1428  808\n",
       "Very Good  1513  2400  2164  2299  1824  1204  678"
      ]
     },
     "execution_count": 6,
     "metadata": {},
     "output_type": "execute_result"
    }
   ],
   "source": [
    "# make crosstab\n",
    "result = pd.crosstab(sample_data.cut, sample_data.color)\n",
    "result"
   ]
  },
  {
   "cell_type": "code",
   "execution_count": 8,
   "id": "5bc5a55f",
   "metadata": {},
   "outputs": [
    {
     "data": {
      "text/plain": [
       "(310.31790052115434,\n",
       " 1.394512091985105e-51,\n",
       " 24,\n",
       " array([[ 202.22005933,  292.42065258,  284.80941787,  337.04338154,\n",
       "          247.85761958,  161.83574342,   83.8131257 ],\n",
       "        [ 616.2059696 ,  891.06566555,  867.87267334, 1027.04026696,\n",
       "          755.27296997,  493.1466815 ,  255.39577308],\n",
       "        [2706.85993697, 3914.25930664, 3812.37749351, 4511.56640712,\n",
       "         3317.7512792 , 2166.28702262, 1121.89855395],\n",
       "        [1732.18437152, 2504.82808676, 2439.63147942, 2887.05917686,\n",
       "         2123.1083426 , 1386.25884316,  717.92969967],\n",
       "        [1517.52966259, 2194.42628847, 2137.30893585, 2529.29076752,\n",
       "         1860.00978865, 1214.47170931,  628.96284761]]))"
      ]
     },
     "execution_count": 8,
     "metadata": {},
     "output_type": "execute_result"
    }
   ],
   "source": [
    "# run chi-square test\n",
    "stats.chi2_contingency(observed=result)\n",
    "# chi-square 값, p-value, degree of freedom"
   ]
  },
  {
   "cell_type": "markdown",
   "id": "4694c60d",
   "metadata": {},
   "source": [
    "### 종류별 카이 테스트의 차이\n",
    "적합성 검정 : Goodness of fit test, 3그룹이 있다면 각각 1/3씩 분포하는지를 테스트\n",
    "독립성 검정 : 위의 검정처럼 두 변수가 독립인지 그렇지 않은지 검정\n",
    "e.g ) 귀무 : cut과 color은 독립이다. 대립 : cut가 color은 독립이 아니다.\n",
    "동질성 검정 : data 내 각 그룹이 동질한지 보고싶다.\n",
    "e.g ) 귀무 : 각 cut 안에서 모두 color는 파랑 30%, 빨강 40%,\n",
    "노랑 30% 비율을 지닌다.\n",
    "대립 : cut마다 color 비율은 모두 다르다."
   ]
  },
  {
   "cell_type": "code",
   "execution_count": null,
   "id": "77c064c5",
   "metadata": {},
   "outputs": [],
   "source": []
  }
 ],
 "metadata": {
  "kernelspec": {
   "display_name": "Python 3",
   "language": "python",
   "name": "python3"
  },
  "language_info": {
   "codemirror_mode": {
    "name": "ipython",
    "version": 3
   },
   "file_extension": ".py",
   "mimetype": "text/x-python",
   "name": "python",
   "nbconvert_exporter": "python",
   "pygments_lexer": "ipython3",
   "version": "3.8.8"
  }
 },
 "nbformat": 4,
 "nbformat_minor": 5
}
